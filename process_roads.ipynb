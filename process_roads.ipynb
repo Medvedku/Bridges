{
 "cells": [
  {
   "cell_type": "code",
   "execution_count": 1,
   "metadata": {},
   "outputs": [],
   "source": [
    "import pandas as pd\n",
    "\n",
    "# Define the file path\n",
    "file_path = \"Data/sr_rs_utriedeneuseky-pk_2023-01-01.xlsx\"\n",
    "\n",
    "# Load the Excel data into a DataFrame\n",
    "df_excel = pd.read_excel(file_path)\n",
    "\n",
    "# Now, df_excel contains your data from the Excel file."
   ]
  },
  {
   "cell_type": "code",
   "execution_count": 8,
   "metadata": {},
   "outputs": [
    {
     "data": {
      "text/plain": [
       "Index(['Trieda pozemnej komumikácie', 'Číslo PK', 'Úsek ID', 'Počiatočný uzol',\n",
       "       'Koncový uzol', 'Typ úseku', 'Smer úseku', 'Evidenčná dĺžka - m',\n",
       "       'Evidenčná dĺžka - km', 'Poradie', 'Stanič. začiatku kilometrovnikové',\n",
       "       'Stanič. začiatku kumulatívne', 'Stanič. konca kumulatívne',\n",
       "       'Dopravný smer', 'Legislativny stav', 'Kraj', 'Okres', 'Ulica',\n",
       "       'Funkčná klasifikácia', 'Stavebná kategoria', 'Rozhodnutie',\n",
       "       'Typ správcu - skratka', 'Správca - skratka', 'Vlastnik - skratka',\n",
       "       'prejazdová dĺžka', 'Ťah - E', 'Ťah - TEM', 'Ťah - TEN-T',\n",
       "       'Popis zač. uzla - podrobný', 'Popis konc uzla - podrobný'],\n",
       "      dtype='object')"
      ]
     },
     "execution_count": 8,
     "metadata": {},
     "output_type": "execute_result"
    }
   ],
   "source": [
    "df_roads = df_excel.copy()\n",
    "df_roads.columns"
   ]
  },
  {
   "cell_type": "code",
   "execution_count": 9,
   "metadata": {},
   "outputs": [],
   "source": [
    "# Define a dictionary to map the old column names to new ones\n",
    "column_mapping = {\n",
    "    'Trieda pozemnej komumikácie': 'Trieda_PK',\n",
    "    'Číslo PK': 'Číslo_PK',\n",
    "    'Úsek ID': 'Úsek_ID',\n",
    "    'Počiatočný uzol': 'Počiatočný_uzol',\n",
    "    'Koncový uzol': 'Koncový_uzol',\n",
    "    'Typ úseku': 'Typ_úseku',\n",
    "    'Smer úseku': 'Smer_úseku',\n",
    "    'Evidenčná dĺžka - m': 'Evidenčná_dĺžka_m',\n",
    "    'Evidenčná dĺžka - km': 'Evidenčná_dĺžka_km',\n",
    "    'Poradie': 'Poradie',\n",
    "    'Stanič. začiatku kilometrovnikové': 'Stanič_začiatku_km',\n",
    "    'Stanič. začiatku kumulatívne': 'Stanič_začiatku_kumulatívne',\n",
    "    'Stanič. konca kumulatívne': 'Stanič_konca_kumulatívne',\n",
    "    'Dopravný smer': 'Dopravný_smer',\n",
    "    'Legislativny stav': 'Legislativny_stav',\n",
    "    'Kraj': 'Kraj',\n",
    "    'Okres': 'Okres',\n",
    "    'Ulica': 'Ulica',\n",
    "    'Funkčná klasifikácia': 'Funkčná_klasifikácia',\n",
    "    'Stavebná kategoria': 'Stavebná_kategoria',\n",
    "    'Rozhodnutie': 'Rozhodnutie',\n",
    "    'Typ správcu - skratka': 'Typ_správcu_skratka',\n",
    "    'Správca - skratka': 'Správca_skratka',\n",
    "    'Vlastnik - skratka': 'Vlastnik_skratka',\n",
    "    'prejazdová dĺžka': 'Prejazdová_dĺžka',\n",
    "    'Ťah - E': 'Ťah_E',\n",
    "    'Ťah - TEM': 'Ťah_TEM',\n",
    "    'Ťah - TEN-T': 'Ťah_TEN-T',\n",
    "    'Popis zač. uzla - podrobný': 'Popis_zač_uza_podrobný',\n",
    "    'Popis konc uzla - podrobný': 'Popis_konc_uza_podrobný'\n",
    "}\n",
    "\n",
    "# Rename the columns in the DataFrame\n",
    "df_roads.rename(columns=column_mapping, inplace=True)"
   ]
  },
  {
   "cell_type": "code",
   "execution_count": 10,
   "metadata": {},
   "outputs": [],
   "source": [
    "# Define the file path for saving the CSV\n",
    "output_csv_path = \"Data/Roads_processed.csv\"\n",
    "\n",
    "# Save the DataFrame to a CSV file\n",
    "df_roads.to_csv(output_csv_path, index=False, encoding='utf-8')\n",
    "\n",
    "# Now, the DataFrame has been saved as a CSV file at the specified path."
   ]
  },
  {
   "cell_type": "code",
   "execution_count": 14,
   "metadata": {},
   "outputs": [
    {
     "data": {
      "text/plain": [
       "Trieda_PK                                                        cesta I. triedy\n",
       "Číslo_PK                                                                       2\n",
       "Úsek_ID                                                                   271728\n",
       "Počiatočný_uzol                                                      3424A00504'\n",
       "Koncový_uzol                                                         3424A00506'\n",
       "Typ_úseku                                                                  vetva\n",
       "Smer_úseku                                         neaplikovateľný, nepoužiteľný\n",
       "Evidenčná_dĺžka_m                                                             19\n",
       "Evidenčná_dĺžka_km                                                            19\n",
       "Poradie                                                                      1.0\n",
       "Stanič_začiatku_km                                                           NaN\n",
       "Stanič_začiatku_kumulatívne                                                  NaN\n",
       "Stanič_konca_kumulatívne                                                     NaN\n",
       "Dopravný_smer                  smer dopravy súhlasný s orientáciou úseku (jed...\n",
       "Legislativny_stav                                                      neuvedený\n",
       "Kraj                                                               Trnavský kraj\n",
       "Okres                                                                    Skalica\n",
       "Ulica                                                                        NaN\n",
       "Funkčná_klasifikácia                                               nadregionálny\n",
       "Stavebná_kategoria                                          Hlavná miestna cesta\n",
       "Rozhodnutie                                                                  NaN\n",
       "Typ_správcu_skratka                                                          SSC\n",
       "Správca_skratka                                                    SSC - IVSC BA\n",
       "Vlastnik_skratka                                                            STAT\n",
       "Prejazdová_dĺžka                                                              24\n",
       "Ťah_E                                                                        Nie\n",
       "Ťah_TEM                                                                      Nie\n",
       "Ťah_TEN-T                                                                    Nie\n",
       "Popis_zač_uza_podrobný         zač. cesty I/2, križ. I/2 x II/426 x I/51, Hol...\n",
       "Popis_konc_uza_podrobný        zač. cesty I/2, križ. I/2 x II/426 x I/51, Hol...\n",
       "Name: 0, dtype: object"
      ]
     },
     "execution_count": 14,
     "metadata": {},
     "output_type": "execute_result"
    }
   ],
   "source": [
    "df_roads.iloc[0]"
   ]
  },
  {
   "cell_type": "code",
   "execution_count": 17,
   "metadata": {},
   "outputs": [
    {
     "data": {
      "text/html": [
       "<div>\n",
       "<style scoped>\n",
       "    .dataframe tbody tr th:only-of-type {\n",
       "        vertical-align: middle;\n",
       "    }\n",
       "\n",
       "    .dataframe tbody tr th {\n",
       "        vertical-align: top;\n",
       "    }\n",
       "\n",
       "    .dataframe thead th {\n",
       "        text-align: right;\n",
       "    }\n",
       "</style>\n",
       "<table border=\"1\" class=\"dataframe\">\n",
       "  <thead>\n",
       "    <tr style=\"text-align: right;\">\n",
       "      <th></th>\n",
       "      <th>Trieda_PK</th>\n",
       "      <th>Číslo_PK</th>\n",
       "      <th>Úsek_ID</th>\n",
       "      <th>Počiatočný_uzol</th>\n",
       "      <th>Koncový_uzol</th>\n",
       "      <th>Typ_úseku</th>\n",
       "      <th>Smer_úseku</th>\n",
       "      <th>Evidenčná_dĺžka_m</th>\n",
       "      <th>Evidenčná_dĺžka_km</th>\n",
       "      <th>Poradie</th>\n",
       "      <th>...</th>\n",
       "      <th>Rozhodnutie</th>\n",
       "      <th>Typ_správcu_skratka</th>\n",
       "      <th>Správca_skratka</th>\n",
       "      <th>Vlastnik_skratka</th>\n",
       "      <th>Prejazdová_dĺžka</th>\n",
       "      <th>Ťah_E</th>\n",
       "      <th>Ťah_TEM</th>\n",
       "      <th>Ťah_TEN-T</th>\n",
       "      <th>Popis_zač_uza_podrobný</th>\n",
       "      <th>Popis_konc_uza_podrobný</th>\n",
       "    </tr>\n",
       "  </thead>\n",
       "  <tbody>\n",
       "    <tr>\n",
       "      <th>38</th>\n",
       "      <td>cesta I. triedy</td>\n",
       "      <td>2</td>\n",
       "      <td>259391</td>\n",
       "      <td>3424A11500'</td>\n",
       "      <td>3424A11600'</td>\n",
       "      <td>medzikrižovatkový</td>\n",
       "      <td>oba smery trasy CK</td>\n",
       "      <td>233</td>\n",
       "      <td>233</td>\n",
       "      <td>39.0</td>\n",
       "      <td>...</td>\n",
       "      <td>NaN</td>\n",
       "      <td>SSC</td>\n",
       "      <td>SSC - IVSC BA</td>\n",
       "      <td>STAT</td>\n",
       "      <td>233</td>\n",
       "      <td>Nie</td>\n",
       "      <td>Nie</td>\n",
       "      <td>Nie</td>\n",
       "      <td>križ. I/2 x MK, Kopčany, okr. Skalica</td>\n",
       "      <td>križ. I/2 x MK, Kopčany, okr. Skalica</td>\n",
       "    </tr>\n",
       "  </tbody>\n",
       "</table>\n",
       "<p>1 rows × 30 columns</p>\n",
       "</div>"
      ],
      "text/plain": [
       "          Trieda_PK Číslo_PK  Úsek_ID Počiatočný_uzol Koncový_uzol  \\\n",
       "38  cesta I. triedy        2   259391     3424A11500'  3424A11600'   \n",
       "\n",
       "            Typ_úseku          Smer_úseku  Evidenčná_dĺžka_m  \\\n",
       "38  medzikrižovatkový  oba smery trasy CK                233   \n",
       "\n",
       "   Evidenčná_dĺžka_km  Poradie  ... Rozhodnutie Typ_správcu_skratka  \\\n",
       "38                233     39.0  ...         NaN                 SSC   \n",
       "\n",
       "   Správca_skratka Vlastnik_skratka Prejazdová_dĺžka Ťah_E Ťah_TEM Ťah_TEN-T  \\\n",
       "38   SSC - IVSC BA             STAT              233   Nie     Nie       Nie   \n",
       "\n",
       "                   Popis_zač_uza_podrobný  \\\n",
       "38  križ. I/2 x MK, Kopčany, okr. Skalica   \n",
       "\n",
       "                  Popis_konc_uza_podrobný  \n",
       "38  križ. I/2 x MK, Kopčany, okr. Skalica  \n",
       "\n",
       "[1 rows x 30 columns]"
      ]
     },
     "execution_count": 17,
     "metadata": {},
     "output_type": "execute_result"
    }
   ],
   "source": [
    "# Identify the road with \"Úsek_ID\" equal to 259391\n",
    "desired_road = df_roads[df_roads['Úsek_ID'] == 259391]\n",
    "\n",
    "# Print the information about the identified road\n",
    "desired_road"
   ]
  }
 ],
 "metadata": {
  "kernelspec": {
   "display_name": "Python 3",
   "language": "python",
   "name": "python3"
  },
  "language_info": {
   "codemirror_mode": {
    "name": "ipython",
    "version": 3
   },
   "file_extension": ".py",
   "mimetype": "text/x-python",
   "name": "python",
   "nbconvert_exporter": "python",
   "pygments_lexer": "ipython3",
   "version": "3.11.4"
  },
  "orig_nbformat": 4
 },
 "nbformat": 4,
 "nbformat_minor": 2
}
