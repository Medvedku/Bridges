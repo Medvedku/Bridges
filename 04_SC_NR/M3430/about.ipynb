{
 "cells": [
  {
   "cell_type": "code",
   "execution_count": 15,
   "metadata": {},
   "outputs": [
    {
     "name": "stderr",
     "output_type": "stream",
     "text": [
      "C:\\Users\\relia\\AppData\\Local\\Temp\\ipykernel_11000\\1448574094.py:16: DtypeWarning: Columns (5,16) have mixed types. Specify dtype option on import or set low_memory=False.\n",
      "  df_nodes = pd.read_csv(nodes_path, encoding='utf-8', delimiter=',')\n",
      "C:\\Users\\relia\\AppData\\Local\\Temp\\ipykernel_11000\\1448574094.py:17: DtypeWarning: Columns (10,11,12,25,26,27) have mixed types. Specify dtype option on import or set low_memory=False.\n",
      "  df_roads = pd.read_csv(roads_path, encoding='utf-8', delimiter=',')\n"
     ]
    }
   ],
   "source": [
    "import pandas as pd\n",
    "\n",
    "# # DOMA\n",
    "# nodes_path = r\"C:\\Users\\Doktor\\Documents\\GitHub\\Bridges\\Data\\Nodes_processed.csv\"\n",
    "# roads_path = r\"C:\\Users\\Doktor\\Documents\\GitHub\\Bridges\\Data\\Roads_processed.csv\"\n",
    "# bridges_path = r\"C:\\Users\\Doktor\\Documents\\GitHub\\Bridges\\Data\\df_bridges_data.csv\"\n",
    "# survey_path = r\"C:\\Users\\Doktor\\Documents\\GitHub\\Bridges\\Data\\surveys\\Survey.csv\"\n",
    "\n",
    "# ROBOTA\n",
    "nodes_path = r\"C:\\Users\\relia\\Documents\\GitHub\\Bridges\\Data\\Nodes_processed.csv\"\n",
    "roads_path = r\"C:\\Users\\relia\\Documents\\GitHub\\Bridges\\Data\\Roads_processed.csv\"\n",
    "bridges_path = r\"C:\\Users\\relia\\Documents\\GitHub\\Bridges\\Data\\df_bridges_2024_all.csv\"\n",
    "survey_path = r\"C:\\Users\\relia\\Documents\\GitHub\\Bridges\\Data\\surveys\\Survey.csv\"\n",
    "\n",
    "# Load the CSV data into a DataFrame\n",
    "df_nodes = pd.read_csv(nodes_path, encoding='utf-8', delimiter=',')\n",
    "df_roads = pd.read_csv(roads_path, encoding='utf-8', delimiter=',')\n",
    "df_bridges_all = pd.read_csv(bridges_path, encoding='utf-8', delimiter=',')\n",
    "df_survey = pd.read_csv(survey_path, encoding='utf-8', delimiter=',')"
   ]
  },
  {
   "cell_type": "code",
   "execution_count": 16,
   "metadata": {},
   "outputs": [],
   "source": [
    "import pandas as pd\n",
    "\n",
    "# Define the columns that should be converted to numeric data types\n",
    "numeric_columns = ['Normálna_zaťažiteľnosť', 'Výhradná_zaťažiteľnosť_t', 'Výnimočná_zaťažiteľnosť_t',\n",
    "                   'Počet_otvorov', 'Dĺžka_premostenia', 'Dĺžka_nosnej_konštrukcie_m',\n",
    "                   'Volná_šírka_mosta', 'Šírka_medzi_obrubami_m', 'Plocha_mosnej_konštrukcie_m2',\n",
    "                   'Plocha_mosta_m2', 'n_2012', 'n_2013', 'n_2014', 'n_2015', 'n_2016',\n",
    "                   'n_2017', 'n_2018', 'n_2019', 'n_2020', 'n_2021', 'n_2022', 'n_2023']\n",
    "\n",
    "# Convert the selected columns to numeric data types (integers or floats)\n",
    "for col in numeric_columns:\n",
    "    df_bridges_all[col] = pd.to_numeric(df_bridges_all[col], errors='coerce')"
   ]
  },
  {
   "cell_type": "code",
   "execution_count": 47,
   "metadata": {},
   "outputs": [
    {
     "name": "stdout",
     "output_type": "stream",
     "text": [
      "ID mosta:\t\tM6844\n",
      "Správcovské Číslo:\t56\n",
      "Názov mosta:\t\t520_056  Most cez rieku Oravica v obci Trstená\n",
      "Okres:\t\t\tTvrdošín\n",
      "Kraj:\t\t\tŽilina\n",
      "Rok postavenia:\t\t1965\n",
      "Typ konštrukcie:\ttrámová\n",
      "Materiál:\t\tprefabrikovaný predpätý betón\n",
      "Voľná šírka:\t\t9.9 m\n",
      "Dĺžka premostenia:\t33.6 m\n",
      "Trieda PK:\t\tcesta II. triedy\n",
      "GPS súradnice:\t(49.36403, 19.62873)\n",
      "Google Maps Link:\n",
      "https://www.google.com/maps?q=49.36403,19.62873\n",
      "Vývoj STS:\t\t[5, 5, 5, 5, 5, 5, 5, 5, 5, 5, 5, 5, 5]\n"
     ]
    }
   ],
   "source": [
    "# Define the bridge name to find\n",
    "bridge_to_find = \"M6844\"\n",
    "\n",
    "# Find the bridge in the DataFrame\n",
    "bridge_info = df_bridges_all[df_bridges_all['ID_mosta'] == bridge_to_find]\n",
    "\n",
    "# Check if the bridge was found\n",
    "if not bridge_info.empty:\n",
    "    # Print the requested information\n",
    "    print(f\"ID mosta:\\t\\t{bridge_info['ID_mosta'].values[0]}\")\n",
    "    print(f\"Správcovské Číslo:\\t{bridge_info['správcovské_číslo'].values[0]}\")\n",
    "    print(f\"Názov mosta:\\t\\t{bridge_info['Názov_mosta'].values[0]}\")\n",
    "    print(f\"Okres:\\t\\t\\t{bridge_info['Okres'].values[0]}\")\n",
    "    print(f\"Kraj:\\t\\t\\t{bridge_info['Kraj'].values[0]}\")\n",
    "    print(f\"Rok postavenia:\\t\\t{bridge_info['Rok_postavenia'].values[0]}\")\n",
    "    print(f\"Typ konštrukcie:\\t{bridge_info['Druh_konštrukcie'].values[0]}\")\n",
    "    print(f\"Materiál:\\t\\t{bridge_info['Material'].values[0]}\")\n",
    "    print(f\"Voľná šírka:\\t\\t{bridge_info['Volná_šírka_mosta'].values[0]} m\")\n",
    "    print(f\"Dĺžka premostenia:\\t{\n",
    "          bridge_info['Dĺžka_premostenia'].values[0]} m\")\n",
    "    print(f\"Trieda PK:\\t\\t{bridge_info['Trieda_PK'].values[0]}\")\n",
    "\n",
    "    # Add GPS coordinates (latitude and longitude) rounded to 4 decimal places\n",
    "    lat = round(bridge_info['Zemepisná_šírka'].values[0], 5)\n",
    "    lon = round(bridge_info['Zemepisná_dĺžka'].values[0], 5)\n",
    "    print(f\"GPS súradnice:\\t({lat}, {lon})\")\n",
    "\n",
    "    # Generate and print the Google Maps link\n",
    "    google_maps_link = f\"https://www.google.com/maps?q={lat},{lon}\"\n",
    "    print(f\"Google Maps Link:\\n{google_maps_link}\")\n",
    "\n",
    "    # Add condition values from n_2012 up to n_2023\n",
    "    conditions = [bridge_info[f'n_{year}'].values[0]\n",
    "                  for year in range(2012, 2025)]\n",
    "    print(f\"Vývoj STS:\\t\\t{conditions}\")\n",
    "else:\n",
    "    print(f\"Bridge with ID '{bridge_to_find}' not found in the DataFrame.\")"
   ]
  },
  {
   "cell_type": "code",
   "execution_count": 22,
   "metadata": {},
   "outputs": [
    {
     "data": {
      "text/plain": [
       "ID_mosta                                                                    M701\n",
       "Trieda_PK                                                       cesta II. triedy\n",
       "Číslo_PK                                                                     567\n",
       "Názov_mosta                     Most v km 15,326 cez potok Vilačok obec Svetlice\n",
       "správcovské_číslo                                                              8\n",
       "Zemepisná_šírka                                                        49.164665\n",
       "Zemepisná_dĺžka                                                        22.034753\n",
       "Výška                                                                   315.2065\n",
       "Druh_konštrukcie                                                         dosková\n",
       "Material                                                 monolitický železobetón\n",
       "Normálna_zaťažiteľnosť                                                      16.0\n",
       "Výhradná_zaťažiteľnosť_t                                                    33.0\n",
       "Výnimočná_zaťažiteľnosť_t                                                  105.0\n",
       "Spôsob_stanovenia                                            porovnávací výpočet\n",
       "Predmet_premostenia                                                    Vodný tok\n",
       "Rok_postavenia                                                              1962\n",
       "Zaťažovacia_trieda_STN                                                       T16\n",
       "Počet_otvorov                                                                1.0\n",
       "Dĺžka_premostenia                                                           12.6\n",
       "Dĺžka_nosnej_konštrukcie_m                                                   NaN\n",
       "Volná_šírka_mosta                                                            5.9\n",
       "Šírka_medzi_obrubami_m                                                       5.6\n",
       "Plocha_mosnej_konštrukcie_m2                                                 NaN\n",
       "Plocha_mosta_m2                                                              NaN\n",
       "Vlastník_úseku                                                             PO SK\n",
       "Správca_úseku                                                       SUC PSK - HE\n",
       "Okres                                                               Medzilaborce\n",
       "Počiatočný_uzol                                                       2843A02000\n",
       "Koncový_uzol                                                          2843A01800\n",
       "úsek_ID                                                                   359557\n",
       "Kraj                                                                      Prešov\n",
       "n_2012                                                                         5\n",
       "n_2013                                                                         5\n",
       "n_2014                                                                         5\n",
       "n_2015                                                                         5\n",
       "n_2016                                                                         5\n",
       "n_2017                                                                         5\n",
       "n_2018                                                                         5\n",
       "n_2019                                                                         5\n",
       "n_2020                                                                         5\n",
       "n_2021                                                                         6\n",
       "n_2022                                                                         6\n",
       "n_2023                                                                         6\n",
       "n_2024                                                                         6\n",
       "Name: 2830, dtype: object"
      ]
     },
     "execution_count": 22,
     "metadata": {},
     "output_type": "execute_result"
    }
   ],
   "source": [
    "bridge_info.iloc[0]"
   ]
  },
  {
   "cell_type": "code",
   "execution_count": 50,
   "metadata": {},
   "outputs": [
    {
     "data": {
      "text/plain": [
       "(             Values\n",
       " count     21.000000\n",
       " mean   10694.714286\n",
       " std     8530.742342\n",
       " min     1459.200000\n",
       " 25%     5003.000000\n",
       " 50%     7452.100000\n",
       " 75%    13368.600000\n",
       " max    35760.300000,\n",
       "              Values\n",
       " count     19.000000\n",
       " mean    9861.552632\n",
       " std     6362.668807\n",
       " min     2038.100000\n",
       " 25%     5152.150000\n",
       " 50%     7452.100000\n",
       " 75%    12848.450000\n",
       " max    25915.800000)"
      ]
     },
     "execution_count": 50,
     "metadata": {},
     "output_type": "execute_result"
    }
   ],
   "source": [
    "import pandas as pd\n",
    "\n",
    "# Provided data\n",
    "data = [1459.2, 5003.0, 5301.3, 7452.1, 6224.0, 14130.4, 4387.5, 25915.8, 11870.4, 7286.5,\n",
    "        21975.8, 12328.3, 9706.8, 5899.3, 13368.6, 10059.0, 16210.0, 4193.2, 4019.4, 35760.3, 2038.1]\n",
    "df = pd.DataFrame(data, columns=['Values'])\n",
    "\n",
    "# Dropping the highest and smallest number\n",
    "df_filtered = df[(df.Values != df.Values.max()) &\n",
    "                 (df.Values != df.Values.min())]\n",
    "\n",
    "# Display the filtered DataFrame\n",
    "df.describe(), df_filtered.describe()"
   ]
  }
 ],
 "metadata": {
  "kernelspec": {
   "display_name": "Python 3",
   "language": "python",
   "name": "python3"
  },
  "language_info": {
   "codemirror_mode": {
    "name": "ipython",
    "version": 3
   },
   "file_extension": ".py",
   "mimetype": "text/x-python",
   "name": "python",
   "nbconvert_exporter": "python",
   "pygments_lexer": "ipython3",
   "version": "3.12.0"
  }
 },
 "nbformat": 4,
 "nbformat_minor": 2
}
