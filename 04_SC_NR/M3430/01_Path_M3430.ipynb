{
 "cells": [
  {
   "cell_type": "code",
   "execution_count": 2,
   "metadata": {},
   "outputs": [],
   "source": [
    "# !pip install gpxpy matplotlib"
   ]
  },
  {
   "cell_type": "code",
   "execution_count": 8,
   "metadata": {},
   "outputs": [
    {
     "data": {
      "application/vnd.plotly.v1+json": {
       "config": {
        "plotlyServerURL": "https://plot.ly"
       },
       "data": [
        {
         "mode": "lines",
         "name": "Primary Route Elevation Profile",
         "type": "scatter",
         "x": [
          0,
          4.448415396484462,
          9.466592667872241,
          62.960022378776664,
          155.24134533307043,
          191.12022111635756,
          224.25214015390048,
          262.16731226038576,
          326.6365875888588,
          346.5072959726754,
          379.4479255584373,
          561.3018508996367,
          726.7977545501067,
          866.9151909754825,
          880.6400778323458,
          2575.023931060013,
          4087.076570605774,
          4118.354772174044,
          4143.564658441464,
          4153.959788978687,
          4157.839886083589,
          4426.044575848857,
          4558.704121831363,
          4622.171823519403,
          4690.399070010029,
          4721.412858941657,
          4814.955987131976,
          4948.222991072043,
          5331.65804475962,
          5534.407649632046,
          5640.999256507236,
          5673.299540942824,
          5710.803837272449,
          5789.183120433162,
          6172.269843103895,
          6524.690762368397,
          6759.582067826248,
          6915.4649402534,
          7281.764409846914,
          7648.225714066075,
          7918.39509482754,
          8348.699857057507,
          8391.909119157246,
          8427.493636630164,
          8458.530163954925,
          8487.793826525489,
          8508.355031446483,
          8531.570466330311,
          8561.361188757206,
          8592.562496089253,
          8620.303373962955,
          8645.892488897332,
          8672.782750774906,
          8688.318458146226,
          8707.575938997707,
          8812.357038010447,
          8838.656069425035,
          8867.107443557325,
          8906.89527068263,
          8932.21276083285,
          8958.63898764582,
          8980.707792759296,
          9000.562976866206,
          9133.296599416548,
          9213.341236171591,
          9415.074734970032,
          10051.379662892272,
          10349.68383235108,
          10651.481545727933,
          11150.735962468027,
          11250.084223643198,
          11269.799927109503,
          11279.233514273285,
          11295.081807249875,
          11319.841416926309,
          11346.579393894548,
          11606.460089595026,
          11899.651241394151,
          11932.51537661595,
          12025.708850234872,
          12040.676936389906,
          12057.586160042169,
          12113.964617562784,
          12133.955546646615,
          12167.630469250966,
          12203.76083377384,
          12358.604143340794,
          12409.838753986536,
          12488.981778820324,
          12515.14481356062,
          12554.314531320148,
          12570.776577984778,
          12614.599785943667,
          12885.550640458094,
          12960.923537769657
         ],
         "y": [
          112.3,
          112.2,
          112.3,
          113.1,
          113.6,
          113.8,
          114,
          114.5,
          115.3,
          115.5,
          115.2,
          113.4,
          111.5,
          110.1,
          110.1,
          114.9,
          118,
          118,
          117.9,
          117.9,
          117.9,
          119.5,
          120.3,
          120.7,
          121.2,
          121.3,
          121.9,
          119.9,
          125.2,
          129.3,
          129.6,
          129.7,
          129.9,
          130.1,
          131.4,
          144.6,
          153.5,
          154.2,
          155.4,
          156.7,
          154.7,
          157.5,
          157.8,
          158,
          158.2,
          158.2,
          158.3,
          158.3,
          158.3,
          158.4,
          158.4,
          158.4,
          158.5,
          158.8,
          159.4,
          159.9,
          157.8,
          155.2,
          151.5,
          149.2,
          146.8,
          144.7,
          142.9,
          144.7,
          146.2,
          149,
          153.7,
          160.7,
          167.8,
          180.4,
          179.8,
          179.7,
          179.7,
          179.6,
          179.5,
          179.3,
          179.3,
          173.9,
          171.7,
          165.6,
          164.8,
          163.9,
          161.7,
          161.5,
          162.5,
          163.7,
          168.4,
          170,
          169.5,
          169.4,
          169.1,
          168.6,
          167.2,
          153.8,
          149.2
         ]
        },
        {
         "line": {
          "dash": "dash"
         },
         "mode": "lines",
         "name": "Alternative Route Elevation Profile",
         "type": "scatter",
         "x": [
          0,
          4.448415396484462,
          9.466592667872241,
          40.337928253807746,
          81.45332448311271,
          129.0931060716889,
          155.68396774143315,
          168.24701325577965,
          183.46538321026765,
          238.73328304936393,
          401.6051531509679,
          430.79844417646984,
          444.90899886036823,
          480.04091193701765,
          506.3354613582085,
          542.8750983718702,
          586.4204222449148,
          622.5704162804436,
          642.1862294081167,
          672.4608921568966,
          1151.238621173797,
          2029.808600960129,
          2405.039120378159,
          2491.6940650226034,
          2759.2709727368187,
          2782.0740670284713,
          2793.194118988009,
          2829.5622113011996,
          2841.4650623608154,
          2852.9897080515857,
          2872.948734488664,
          2882.181370733208,
          2893.7190412599393,
          2913.232059560867,
          2923.2911960079964,
          2936.8654015566203,
          2980.379608525332,
          3025.4198146888143,
          3134.6376318254174,
          3212.4073811408466,
          3404.4391725356795,
          3532.5326420625643,
          3546.1327433788138,
          3678.506401382426,
          4708.663872216903,
          4722.168546574246,
          4890.107428182339,
          5037.453247498594,
          5505.335511038053,
          5592.241735634304,
          5608.303482720079,
          5638.049531746406,
          5689.624161593648,
          6147.187362004075,
          7432.455926204129,
          7458.552363365742,
          7760.906074280174,
          7784.902296533536,
          7829.738768292338,
          7877.528804814972,
          7913.473076345567,
          7946.142827387921,
          7982.219236496762,
          8023.07409595013,
          8064.20729248324,
          8098.349706753704,
          8127.904591962145,
          8146.534242858884,
          8180.35702053828,
          8479.812282436047,
          8624.469898910367,
          8715.63347817904,
          8844.997067591126,
          8888.309008201655,
          8930.459879130092,
          9086.177488802892,
          9257.242851401517,
          9425.526601949794,
          9493.705776622688,
          9529.020153452288,
          9574.651214778232,
          9650.379569992989,
          9698.179380397904,
          9720.71054810139,
          9868.606530411158,
          10035.630746142859,
          10067.462827149406,
          10096.562997342295,
          10136.436646339955,
          10202.585777502958,
          10279.067334232977,
          10293.316524081,
          10307.469848311246,
          10327.959212955126,
          10462.610043164725,
          10515.354246925575,
          10763.944517659238,
          10792.59187210246,
          10893.441039033798,
          10943.993738062023,
          10958.312308827193,
          10973.326484568775,
          10983.327050119271,
          11039.001532743583,
          11064.031265036556,
          11076.779159241665,
          11143.349836962505,
          11189.010747506914,
          11233.325216459283,
          11374.492521979622,
          11496.716163661305,
          11652.081015601585,
          11677.731342825607,
          11697.159262384266,
          11730.554312058905,
          11762.876870521257,
          11808.533971495572,
          12063.115534147042,
          12233.327442835527,
          12272.84351328977,
          12339.50802785974,
          12360.155295855784,
          12711.918058134232,
          12838.534859697043,
          12931.955391965252,
          12980.19192300347,
          13040.17492814,
          13101.899184149826,
          13185.414657363353,
          13282.44632238683,
          13390.229195581105,
          13521.699046180245,
          13610.955412398145,
          13849.494699188963,
          14032.313765134351,
          14176.096700494112,
          15094.544195180833,
          15126.183310166594,
          15696.305832162496,
          15776.327240505829,
          15843.006453572609,
          15929.214960934572,
          16069.110435430015,
          16262.702521457024,
          16281.599883304685,
          16483.333382103126,
          17119.638310025366,
          17417.942479484176,
          17719.740192861027,
          18218.99460960112,
          18318.34287077629,
          18338.058574242594,
          18347.492161406375,
          18363.340454382964,
          18388.1000640594,
          18414.83804102764,
          18674.71873672812,
          18967.909888527243,
          19000.77402374904,
          19093.967497367965,
          19108.935583522998,
          19125.84480717526,
          19182.223264695876,
          19202.214193779706,
          19235.889116384056,
          19272.019480906933,
          19426.862790473886,
          19478.097401119627,
          19557.240425953416,
          19583.403460693713,
          19622.57317845324,
          19639.03522511787,
          19682.85843307676,
          19953.809287591186,
          20029.182184902747
         ],
         "y": [
          112.4,
          112.4,
          112.3,
          112.8,
          112.5,
          112.6,
          112.9,
          113.1,
          113.3,
          113.9,
          113.9,
          113.9,
          113.9,
          114,
          114,
          114,
          114,
          114.1,
          114.1,
          114.2,
          116.2,
          112.8,
          114.1,
          114.5,
          113.8,
          113.8,
          113.8,
          113.8,
          113.8,
          113.9,
          114,
          114.1,
          114.1,
          114.1,
          114,
          114,
          114.1,
          114.6,
          114.7,
          115.1,
          114.3,
          114.2,
          114.3,
          115.7,
          113.7,
          113.8,
          113.8,
          113.9,
          114.6,
          114.2,
          114.2,
          114.4,
          114.8,
          118.4,
          117,
          117,
          118.2,
          118.3,
          118.5,
          118.8,
          119,
          119.2,
          119.4,
          119.7,
          119.9,
          120.1,
          120.2,
          120.8,
          121,
          122.6,
          123.3,
          123.8,
          124.5,
          124.7,
          125,
          125.8,
          123.4,
          124,
          124.2,
          124.3,
          124.5,
          124.8,
          125,
          125,
          125.5,
          127.6,
          128,
          128.4,
          128.9,
          128.2,
          128.3,
          128.4,
          128.5,
          128.7,
          130.6,
          130.7,
          132,
          132.6,
          130.1,
          129,
          129,
          128.9,
          128.9,
          128.6,
          128.8,
          128.9,
          129.6,
          130.5,
          131.4,
          135.7,
          140.1,
          143.8,
          144.5,
          145.1,
          146,
          146.9,
          148.2,
          155.3,
          160.1,
          161.2,
          163.1,
          163.3,
          169.1,
          171.1,
          171.9,
          172.4,
          172.9,
          173.4,
          174.2,
          175,
          178.7,
          183.3,
          186.4,
          189,
          187.8,
          187.6,
          171.4,
          170.8,
          148.6,
          145.5,
          146,
          146.7,
          148.4,
          146.4,
          146.2,
          149,
          153.7,
          160.7,
          167.8,
          180.4,
          179.8,
          179.7,
          179.7,
          179.6,
          179.5,
          179.3,
          179.3,
          173.9,
          171.7,
          165.6,
          164.8,
          163.9,
          161.7,
          161.5,
          162.5,
          163.7,
          168.4,
          170,
          169.5,
          169.4,
          169.1,
          168.6,
          167.2,
          153.7,
          149.2
         ]
        }
       ],
       "layout": {
        "legend": {
         "title": {
          "text": "Routes"
         }
        },
        "template": {
         "data": {
          "bar": [
           {
            "error_x": {
             "color": "#2a3f5f"
            },
            "error_y": {
             "color": "#2a3f5f"
            },
            "marker": {
             "line": {
              "color": "white",
              "width": 0.5
             },
             "pattern": {
              "fillmode": "overlay",
              "size": 10,
              "solidity": 0.2
             }
            },
            "type": "bar"
           }
          ],
          "barpolar": [
           {
            "marker": {
             "line": {
              "color": "white",
              "width": 0.5
             },
             "pattern": {
              "fillmode": "overlay",
              "size": 10,
              "solidity": 0.2
             }
            },
            "type": "barpolar"
           }
          ],
          "carpet": [
           {
            "aaxis": {
             "endlinecolor": "#2a3f5f",
             "gridcolor": "#C8D4E3",
             "linecolor": "#C8D4E3",
             "minorgridcolor": "#C8D4E3",
             "startlinecolor": "#2a3f5f"
            },
            "baxis": {
             "endlinecolor": "#2a3f5f",
             "gridcolor": "#C8D4E3",
             "linecolor": "#C8D4E3",
             "minorgridcolor": "#C8D4E3",
             "startlinecolor": "#2a3f5f"
            },
            "type": "carpet"
           }
          ],
          "choropleth": [
           {
            "colorbar": {
             "outlinewidth": 0,
             "ticks": ""
            },
            "type": "choropleth"
           }
          ],
          "contour": [
           {
            "colorbar": {
             "outlinewidth": 0,
             "ticks": ""
            },
            "colorscale": [
             [
              0,
              "#0d0887"
             ],
             [
              0.1111111111111111,
              "#46039f"
             ],
             [
              0.2222222222222222,
              "#7201a8"
             ],
             [
              0.3333333333333333,
              "#9c179e"
             ],
             [
              0.4444444444444444,
              "#bd3786"
             ],
             [
              0.5555555555555556,
              "#d8576b"
             ],
             [
              0.6666666666666666,
              "#ed7953"
             ],
             [
              0.7777777777777778,
              "#fb9f3a"
             ],
             [
              0.8888888888888888,
              "#fdca26"
             ],
             [
              1,
              "#f0f921"
             ]
            ],
            "type": "contour"
           }
          ],
          "contourcarpet": [
           {
            "colorbar": {
             "outlinewidth": 0,
             "ticks": ""
            },
            "type": "contourcarpet"
           }
          ],
          "heatmap": [
           {
            "colorbar": {
             "outlinewidth": 0,
             "ticks": ""
            },
            "colorscale": [
             [
              0,
              "#0d0887"
             ],
             [
              0.1111111111111111,
              "#46039f"
             ],
             [
              0.2222222222222222,
              "#7201a8"
             ],
             [
              0.3333333333333333,
              "#9c179e"
             ],
             [
              0.4444444444444444,
              "#bd3786"
             ],
             [
              0.5555555555555556,
              "#d8576b"
             ],
             [
              0.6666666666666666,
              "#ed7953"
             ],
             [
              0.7777777777777778,
              "#fb9f3a"
             ],
             [
              0.8888888888888888,
              "#fdca26"
             ],
             [
              1,
              "#f0f921"
             ]
            ],
            "type": "heatmap"
           }
          ],
          "heatmapgl": [
           {
            "colorbar": {
             "outlinewidth": 0,
             "ticks": ""
            },
            "colorscale": [
             [
              0,
              "#0d0887"
             ],
             [
              0.1111111111111111,
              "#46039f"
             ],
             [
              0.2222222222222222,
              "#7201a8"
             ],
             [
              0.3333333333333333,
              "#9c179e"
             ],
             [
              0.4444444444444444,
              "#bd3786"
             ],
             [
              0.5555555555555556,
              "#d8576b"
             ],
             [
              0.6666666666666666,
              "#ed7953"
             ],
             [
              0.7777777777777778,
              "#fb9f3a"
             ],
             [
              0.8888888888888888,
              "#fdca26"
             ],
             [
              1,
              "#f0f921"
             ]
            ],
            "type": "heatmapgl"
           }
          ],
          "histogram": [
           {
            "marker": {
             "pattern": {
              "fillmode": "overlay",
              "size": 10,
              "solidity": 0.2
             }
            },
            "type": "histogram"
           }
          ],
          "histogram2d": [
           {
            "colorbar": {
             "outlinewidth": 0,
             "ticks": ""
            },
            "colorscale": [
             [
              0,
              "#0d0887"
             ],
             [
              0.1111111111111111,
              "#46039f"
             ],
             [
              0.2222222222222222,
              "#7201a8"
             ],
             [
              0.3333333333333333,
              "#9c179e"
             ],
             [
              0.4444444444444444,
              "#bd3786"
             ],
             [
              0.5555555555555556,
              "#d8576b"
             ],
             [
              0.6666666666666666,
              "#ed7953"
             ],
             [
              0.7777777777777778,
              "#fb9f3a"
             ],
             [
              0.8888888888888888,
              "#fdca26"
             ],
             [
              1,
              "#f0f921"
             ]
            ],
            "type": "histogram2d"
           }
          ],
          "histogram2dcontour": [
           {
            "colorbar": {
             "outlinewidth": 0,
             "ticks": ""
            },
            "colorscale": [
             [
              0,
              "#0d0887"
             ],
             [
              0.1111111111111111,
              "#46039f"
             ],
             [
              0.2222222222222222,
              "#7201a8"
             ],
             [
              0.3333333333333333,
              "#9c179e"
             ],
             [
              0.4444444444444444,
              "#bd3786"
             ],
             [
              0.5555555555555556,
              "#d8576b"
             ],
             [
              0.6666666666666666,
              "#ed7953"
             ],
             [
              0.7777777777777778,
              "#fb9f3a"
             ],
             [
              0.8888888888888888,
              "#fdca26"
             ],
             [
              1,
              "#f0f921"
             ]
            ],
            "type": "histogram2dcontour"
           }
          ],
          "mesh3d": [
           {
            "colorbar": {
             "outlinewidth": 0,
             "ticks": ""
            },
            "type": "mesh3d"
           }
          ],
          "parcoords": [
           {
            "line": {
             "colorbar": {
              "outlinewidth": 0,
              "ticks": ""
             }
            },
            "type": "parcoords"
           }
          ],
          "pie": [
           {
            "automargin": true,
            "type": "pie"
           }
          ],
          "scatter": [
           {
            "fillpattern": {
             "fillmode": "overlay",
             "size": 10,
             "solidity": 0.2
            },
            "type": "scatter"
           }
          ],
          "scatter3d": [
           {
            "line": {
             "colorbar": {
              "outlinewidth": 0,
              "ticks": ""
             }
            },
            "marker": {
             "colorbar": {
              "outlinewidth": 0,
              "ticks": ""
             }
            },
            "type": "scatter3d"
           }
          ],
          "scattercarpet": [
           {
            "marker": {
             "colorbar": {
              "outlinewidth": 0,
              "ticks": ""
             }
            },
            "type": "scattercarpet"
           }
          ],
          "scattergeo": [
           {
            "marker": {
             "colorbar": {
              "outlinewidth": 0,
              "ticks": ""
             }
            },
            "type": "scattergeo"
           }
          ],
          "scattergl": [
           {
            "marker": {
             "colorbar": {
              "outlinewidth": 0,
              "ticks": ""
             }
            },
            "type": "scattergl"
           }
          ],
          "scattermapbox": [
           {
            "marker": {
             "colorbar": {
              "outlinewidth": 0,
              "ticks": ""
             }
            },
            "type": "scattermapbox"
           }
          ],
          "scatterpolar": [
           {
            "marker": {
             "colorbar": {
              "outlinewidth": 0,
              "ticks": ""
             }
            },
            "type": "scatterpolar"
           }
          ],
          "scatterpolargl": [
           {
            "marker": {
             "colorbar": {
              "outlinewidth": 0,
              "ticks": ""
             }
            },
            "type": "scatterpolargl"
           }
          ],
          "scatterternary": [
           {
            "marker": {
             "colorbar": {
              "outlinewidth": 0,
              "ticks": ""
             }
            },
            "type": "scatterternary"
           }
          ],
          "surface": [
           {
            "colorbar": {
             "outlinewidth": 0,
             "ticks": ""
            },
            "colorscale": [
             [
              0,
              "#0d0887"
             ],
             [
              0.1111111111111111,
              "#46039f"
             ],
             [
              0.2222222222222222,
              "#7201a8"
             ],
             [
              0.3333333333333333,
              "#9c179e"
             ],
             [
              0.4444444444444444,
              "#bd3786"
             ],
             [
              0.5555555555555556,
              "#d8576b"
             ],
             [
              0.6666666666666666,
              "#ed7953"
             ],
             [
              0.7777777777777778,
              "#fb9f3a"
             ],
             [
              0.8888888888888888,
              "#fdca26"
             ],
             [
              1,
              "#f0f921"
             ]
            ],
            "type": "surface"
           }
          ],
          "table": [
           {
            "cells": {
             "fill": {
              "color": "#EBF0F8"
             },
             "line": {
              "color": "white"
             }
            },
            "header": {
             "fill": {
              "color": "#C8D4E3"
             },
             "line": {
              "color": "white"
             }
            },
            "type": "table"
           }
          ]
         },
         "layout": {
          "annotationdefaults": {
           "arrowcolor": "#2a3f5f",
           "arrowhead": 0,
           "arrowwidth": 1
          },
          "autotypenumbers": "strict",
          "coloraxis": {
           "colorbar": {
            "outlinewidth": 0,
            "ticks": ""
           }
          },
          "colorscale": {
           "diverging": [
            [
             0,
             "#8e0152"
            ],
            [
             0.1,
             "#c51b7d"
            ],
            [
             0.2,
             "#de77ae"
            ],
            [
             0.3,
             "#f1b6da"
            ],
            [
             0.4,
             "#fde0ef"
            ],
            [
             0.5,
             "#f7f7f7"
            ],
            [
             0.6,
             "#e6f5d0"
            ],
            [
             0.7,
             "#b8e186"
            ],
            [
             0.8,
             "#7fbc41"
            ],
            [
             0.9,
             "#4d9221"
            ],
            [
             1,
             "#276419"
            ]
           ],
           "sequential": [
            [
             0,
             "#0d0887"
            ],
            [
             0.1111111111111111,
             "#46039f"
            ],
            [
             0.2222222222222222,
             "#7201a8"
            ],
            [
             0.3333333333333333,
             "#9c179e"
            ],
            [
             0.4444444444444444,
             "#bd3786"
            ],
            [
             0.5555555555555556,
             "#d8576b"
            ],
            [
             0.6666666666666666,
             "#ed7953"
            ],
            [
             0.7777777777777778,
             "#fb9f3a"
            ],
            [
             0.8888888888888888,
             "#fdca26"
            ],
            [
             1,
             "#f0f921"
            ]
           ],
           "sequentialminus": [
            [
             0,
             "#0d0887"
            ],
            [
             0.1111111111111111,
             "#46039f"
            ],
            [
             0.2222222222222222,
             "#7201a8"
            ],
            [
             0.3333333333333333,
             "#9c179e"
            ],
            [
             0.4444444444444444,
             "#bd3786"
            ],
            [
             0.5555555555555556,
             "#d8576b"
            ],
            [
             0.6666666666666666,
             "#ed7953"
            ],
            [
             0.7777777777777778,
             "#fb9f3a"
            ],
            [
             0.8888888888888888,
             "#fdca26"
            ],
            [
             1,
             "#f0f921"
            ]
           ]
          },
          "colorway": [
           "#636efa",
           "#EF553B",
           "#00cc96",
           "#ab63fa",
           "#FFA15A",
           "#19d3f3",
           "#FF6692",
           "#B6E880",
           "#FF97FF",
           "#FECB52"
          ],
          "font": {
           "color": "#2a3f5f"
          },
          "geo": {
           "bgcolor": "white",
           "lakecolor": "white",
           "landcolor": "white",
           "showlakes": true,
           "showland": true,
           "subunitcolor": "#C8D4E3"
          },
          "hoverlabel": {
           "align": "left"
          },
          "hovermode": "closest",
          "mapbox": {
           "style": "light"
          },
          "paper_bgcolor": "white",
          "plot_bgcolor": "white",
          "polar": {
           "angularaxis": {
            "gridcolor": "#EBF0F8",
            "linecolor": "#EBF0F8",
            "ticks": ""
           },
           "bgcolor": "white",
           "radialaxis": {
            "gridcolor": "#EBF0F8",
            "linecolor": "#EBF0F8",
            "ticks": ""
           }
          },
          "scene": {
           "xaxis": {
            "backgroundcolor": "white",
            "gridcolor": "#DFE8F3",
            "gridwidth": 2,
            "linecolor": "#EBF0F8",
            "showbackground": true,
            "ticks": "",
            "zerolinecolor": "#EBF0F8"
           },
           "yaxis": {
            "backgroundcolor": "white",
            "gridcolor": "#DFE8F3",
            "gridwidth": 2,
            "linecolor": "#EBF0F8",
            "showbackground": true,
            "ticks": "",
            "zerolinecolor": "#EBF0F8"
           },
           "zaxis": {
            "backgroundcolor": "white",
            "gridcolor": "#DFE8F3",
            "gridwidth": 2,
            "linecolor": "#EBF0F8",
            "showbackground": true,
            "ticks": "",
            "zerolinecolor": "#EBF0F8"
           }
          },
          "shapedefaults": {
           "line": {
            "color": "#2a3f5f"
           }
          },
          "ternary": {
           "aaxis": {
            "gridcolor": "#DFE8F3",
            "linecolor": "#A2B1C6",
            "ticks": ""
           },
           "baxis": {
            "gridcolor": "#DFE8F3",
            "linecolor": "#A2B1C6",
            "ticks": ""
           },
           "bgcolor": "white",
           "caxis": {
            "gridcolor": "#DFE8F3",
            "linecolor": "#A2B1C6",
            "ticks": ""
           }
          },
          "title": {
           "x": 0.05
          },
          "xaxis": {
           "automargin": true,
           "gridcolor": "#EBF0F8",
           "linecolor": "#EBF0F8",
           "ticks": "",
           "title": {
            "standoff": 15
           },
           "zerolinecolor": "#EBF0F8",
           "zerolinewidth": 2
          },
          "yaxis": {
           "automargin": true,
           "gridcolor": "#EBF0F8",
           "linecolor": "#EBF0F8",
           "ticks": "",
           "title": {
            "standoff": 15
           },
           "zerolinecolor": "#EBF0F8",
           "zerolinewidth": 2
          }
         }
        },
        "title": {
         "text": "Elevation Profiles of the Routes"
        },
        "xaxis": {
         "title": {
          "text": "Distance (m)"
         }
        },
        "yaxis": {
         "title": {
          "text": "Elevation (m)"
         }
        }
       }
      }
     },
     "metadata": {},
     "output_type": "display_data"
    }
   ],
   "source": [
    "import gpxpy\n",
    "import plotly.graph_objects as go\n",
    "\n",
    "# Load the GPX files\n",
    "route_path = r'C:\\Users\\relia\\Documents\\GitHub\\Bridges\\04_SC_NR\\M3430\\Route.gpx'\n",
    "alt_route_path = r'C:\\Users\\relia\\Documents\\GitHub\\Bridges\\04_SC_NR\\M3430\\Route_alt.gpx'\n"
   ]
  },
  {
   "cell_type": "code",
   "execution_count": 14,
   "metadata": {},
   "outputs": [
    {
     "data": {
      "text/html": [
       "<div style=\"width:100%;\"><div style=\"position:relative;width:100%;height:0;padding-bottom:60%;\"><span style=\"color:#565656\">Make this Notebook Trusted to load map: File -> Trust Notebook</span><iframe srcdoc=\"&lt;!DOCTYPE html&gt;\n",
       "&lt;html&gt;\n",
       "&lt;head&gt;\n",
       "    \n",
       "    &lt;meta http-equiv=&quot;content-type&quot; content=&quot;text/html; charset=UTF-8&quot; /&gt;\n",
       "    \n",
       "        &lt;script&gt;\n",
       "            L_NO_TOUCH = false;\n",
       "            L_DISABLE_3D = false;\n",
       "        &lt;/script&gt;\n",
       "    \n",
       "    &lt;style&gt;html, body {width: 100%;height: 100%;margin: 0;padding: 0;}&lt;/style&gt;\n",
       "    &lt;style&gt;#map {position:absolute;top:0;bottom:0;right:0;left:0;}&lt;/style&gt;\n",
       "    &lt;script src=&quot;https://cdn.jsdelivr.net/npm/leaflet@1.9.3/dist/leaflet.js&quot;&gt;&lt;/script&gt;\n",
       "    &lt;script src=&quot;https://code.jquery.com/jquery-3.7.1.min.js&quot;&gt;&lt;/script&gt;\n",
       "    &lt;script src=&quot;https://cdn.jsdelivr.net/npm/bootstrap@5.2.2/dist/js/bootstrap.bundle.min.js&quot;&gt;&lt;/script&gt;\n",
       "    &lt;script src=&quot;https://cdnjs.cloudflare.com/ajax/libs/Leaflet.awesome-markers/2.0.2/leaflet.awesome-markers.js&quot;&gt;&lt;/script&gt;\n",
       "    &lt;link rel=&quot;stylesheet&quot; href=&quot;https://cdn.jsdelivr.net/npm/leaflet@1.9.3/dist/leaflet.css&quot;/&gt;\n",
       "    &lt;link rel=&quot;stylesheet&quot; href=&quot;https://cdn.jsdelivr.net/npm/bootstrap@5.2.2/dist/css/bootstrap.min.css&quot;/&gt;\n",
       "    &lt;link rel=&quot;stylesheet&quot; href=&quot;https://netdna.bootstrapcdn.com/bootstrap/3.0.0/css/bootstrap.min.css&quot;/&gt;\n",
       "    &lt;link rel=&quot;stylesheet&quot; href=&quot;https://cdn.jsdelivr.net/npm/@fortawesome/fontawesome-free@6.2.0/css/all.min.css&quot;/&gt;\n",
       "    &lt;link rel=&quot;stylesheet&quot; href=&quot;https://cdnjs.cloudflare.com/ajax/libs/Leaflet.awesome-markers/2.0.2/leaflet.awesome-markers.css&quot;/&gt;\n",
       "    &lt;link rel=&quot;stylesheet&quot; href=&quot;https://cdn.jsdelivr.net/gh/python-visualization/folium/folium/templates/leaflet.awesome.rotate.min.css&quot;/&gt;\n",
       "    \n",
       "            &lt;meta name=&quot;viewport&quot; content=&quot;width=device-width,\n",
       "                initial-scale=1.0, maximum-scale=1.0, user-scalable=no&quot; /&gt;\n",
       "            &lt;style&gt;\n",
       "                #map_093f1485649447fc797b14f32fa27279 {\n",
       "                    position: relative;\n",
       "                    width: 100.0%;\n",
       "                    height: 100.0%;\n",
       "                    left: 0.0%;\n",
       "                    top: 0.0%;\n",
       "                }\n",
       "                .leaflet-container { font-size: 1rem; }\n",
       "            &lt;/style&gt;\n",
       "        \n",
       "&lt;/head&gt;\n",
       "&lt;body&gt;\n",
       "    \n",
       "    \n",
       "            &lt;div class=&quot;folium-map&quot; id=&quot;map_093f1485649447fc797b14f32fa27279&quot; &gt;&lt;/div&gt;\n",
       "        \n",
       "&lt;/body&gt;\n",
       "&lt;script&gt;\n",
       "    \n",
       "    \n",
       "            var map_093f1485649447fc797b14f32fa27279 = L.map(\n",
       "                &quot;map_093f1485649447fc797b14f32fa27279&quot;,\n",
       "                {\n",
       "                    center: [48.15377, 17.924368],\n",
       "                    crs: L.CRS.EPSG3857,\n",
       "                    zoom: 14,\n",
       "                    zoomControl: true,\n",
       "                    preferCanvas: false,\n",
       "                }\n",
       "            );\n",
       "\n",
       "            \n",
       "\n",
       "        \n",
       "    \n",
       "            var tile_layer_83ba2ac5f86528f3328f678a60791fe0 = L.tileLayer(\n",
       "                &quot;https://{s}.tile.openstreetmap.org/{z}/{x}/{y}.png&quot;,\n",
       "                {&quot;attribution&quot;: &quot;Data by \\u0026copy; \\u003ca target=\\&quot;_blank\\&quot; href=\\&quot;http://openstreetmap.org\\&quot;\\u003eOpenStreetMap\\u003c/a\\u003e, under \\u003ca target=\\&quot;_blank\\&quot; href=\\&quot;http://www.openstreetmap.org/copyright\\&quot;\\u003eODbL\\u003c/a\\u003e.&quot;, &quot;detectRetina&quot;: false, &quot;maxNativeZoom&quot;: 18, &quot;maxZoom&quot;: 18, &quot;minZoom&quot;: 0, &quot;noWrap&quot;: false, &quot;opacity&quot;: 1, &quot;subdomains&quot;: &quot;abc&quot;, &quot;tms&quot;: false}\n",
       "            );\n",
       "        \n",
       "    \n",
       "                tile_layer_83ba2ac5f86528f3328f678a60791fe0.addTo(map_093f1485649447fc797b14f32fa27279);\n",
       "    \n",
       "            var poly_line_f920580914d9d29f319c12dbd0445e0d = L.polyline(\n",
       "                [[48.15377, 17.924368], [48.153806, 17.924394], [48.153851, 17.92439], [48.153837, 17.92511], [48.153795, 17.926351], [48.153753, 17.92683], [48.1537, 17.927269], [48.153628, 17.927768], [48.153465, 17.928601], [48.153398, 17.928849], [48.153607, 17.929163], [48.154909, 17.930642], [48.156117, 17.931941], [48.157127, 17.933067], [48.157228, 17.933173], [48.169468, 17.946739], [48.180368, 17.958894], [48.180587, 17.959158], [48.180771, 17.959356], [48.180849, 17.959433], [48.180878, 17.959462], [48.182802, 17.961637], [48.183762, 17.962696], [48.184225, 17.963195], [48.184695, 17.963785], [48.184903, 17.964063], [48.185483, 17.964975], [48.186267, 17.966332], [48.188564, 17.970182], [48.189799, 17.97219], [48.19044, 17.973257], [48.190647, 17.973562], [48.190905, 17.973887], [48.191461, 17.974535], [48.194238, 17.977584], [48.196775, 17.980425], [48.19848, 17.98229], [48.199596, 17.983559], [48.202234, 17.98651], [48.204895, 17.989418], [48.206847, 17.991582], [48.20995, 17.995041], [48.210268, 17.995375], [48.210544, 17.995617], [48.210796, 17.995796], [48.211041, 17.995939], [48.211219, 17.996013], [48.211423, 17.996078], [48.211688, 17.996134], [48.211968, 17.996153], [48.212217, 17.996138], [48.212446, 17.996108], [48.212684, 17.996046], [48.21282, 17.995999], [48.212985, 17.995921], [48.213877, 17.99547], [48.214107, 17.995389], [48.214359, 17.995325], [48.214716, 17.995299], [48.214943, 17.99532], [48.215177, 17.99538], [48.21537, 17.995448], [48.21554, 17.995529], [48.216668, 17.996109], [48.217341, 17.996489], [48.219049, 17.997398], [48.224431, 18.000288], [48.226956, 18.001635], [48.229506, 18.003017], [48.233734, 18.005263], [48.234569, 18.005736], [48.234732, 18.00584], [48.234806, 18.005902], [48.234921, 18.006028], [48.235095, 18.006236], [48.23527, 18.006483], [48.236909, 18.008979], [48.238752, 18.011804], [48.238939, 18.012147], [48.239431, 18.013164], [48.239513, 18.013324], [48.239615, 18.013493], [48.239996, 18.013994], [48.240142, 18.014151], [48.240395, 18.0144], [48.240674, 18.014649], [48.241902, 18.01563], [48.242315, 18.015935], [48.242931, 18.016468], [48.243126, 18.016665], [48.243407, 18.016983], [48.243519, 18.017128], [48.243787, 18.017561], [48.245418, 18.020274], [48.245864, 18.021039]],\n",
       "                {&quot;bubblingMouseEvents&quot;: true, &quot;color&quot;: &quot;orange&quot;, &quot;dashArray&quot;: null, &quot;dashOffset&quot;: null, &quot;fill&quot;: false, &quot;fillColor&quot;: &quot;orange&quot;, &quot;fillOpacity&quot;: 0.2, &quot;fillRule&quot;: &quot;evenodd&quot;, &quot;lineCap&quot;: &quot;round&quot;, &quot;lineJoin&quot;: &quot;round&quot;, &quot;noClip&quot;: false, &quot;opacity&quot;: 1, &quot;smoothFactor&quot;: 1.0, &quot;stroke&quot;: true, &quot;weight&quot;: 2.5}\n",
       "            ).addTo(map_093f1485649447fc797b14f32fa27279);\n",
       "        \n",
       "    \n",
       "            poly_line_f920580914d9d29f319c12dbd0445e0d.bindTooltip(\n",
       "                `&lt;div&gt;\n",
       "                     Primary Route\n",
       "                 &lt;/div&gt;`,\n",
       "                {&quot;sticky&quot;: true}\n",
       "            );\n",
       "        \n",
       "    \n",
       "            var poly_line_c2253993f512d840a7512f4316765372 = L.polyline(\n",
       "                [[48.15377, 17.924368], [48.153806, 17.924394], [48.153851, 17.92439], [48.153867, 17.923975], [48.153924, 17.923428], [48.154026, 17.922805], [48.154066, 17.922452], [48.154071, 17.922283], [48.154048, 17.922081], [48.153908, 17.921367], [48.153585, 17.919228], [48.153539, 17.918841], [48.153526, 17.918652], [48.153531, 17.918179], [48.153562, 17.917828], [48.153637, 17.917349], [48.153791, 17.91681], [48.153965, 17.916399], [48.154071, 17.916188], [48.154258, 17.915892], [48.157427, 17.911533], [48.163215, 17.903489], [48.16568, 17.900042], [48.166253, 17.899252], [48.168014, 17.896799], [48.168149, 17.896568], [48.168206, 17.896445], [48.168344, 17.896001], [48.168378, 17.895849], [48.168399, 17.895697], [48.168521, 17.8955], [48.16859, 17.895431], [48.168689, 17.895385], [48.168857, 17.89546], [48.168937, 17.895523], [48.169029, 17.895643], [48.169258, 17.896118], [48.169508, 17.896595], [48.170133, 17.897729], [48.170576, 17.898539], [48.171656, 17.900556], [48.172365, 17.901915], [48.172443, 17.902056], [48.173187, 17.903447], [48.178963, 17.91429], [48.179038, 17.914433], [48.179986, 17.916193], [48.180802, 17.917756], [48.183433, 17.922672], [48.183948, 17.923552], [48.184052, 17.923702], [48.184265, 17.923944], [48.184648, 17.924335], [48.188152, 17.927558], [48.197974, 17.936663], [48.198175, 17.936844], [48.200486, 17.938985], [48.200671, 17.939151], [48.201031, 17.939422], [48.201434, 17.939644], [48.201747, 17.939763], [48.202034, 17.939855], [48.202356, 17.93991], [48.202723, 17.939913], [48.203091, 17.939863], [48.203395, 17.939802], [48.203656, 17.939729], [48.203818, 17.939666], [48.204108, 17.93953], [48.206641, 17.938171], [48.207901, 17.937694], [48.208687, 17.937349], [48.20979, 17.9368], [48.210152, 17.936586], [48.210493, 17.936339], [48.2117, 17.935278], [48.213032, 17.934128], [48.214339, 17.932988], [48.214876, 17.932546], [48.215162, 17.93234], [48.215538, 17.932095], [48.216184, 17.931775], [48.216598, 17.931604], [48.216796, 17.931541], [48.218105, 17.9312], [48.219588, 17.930858], [48.219873, 17.930823], [48.220134, 17.930845], [48.220488, 17.930927], [48.221068, 17.931121], [48.221742, 17.931321], [48.221869, 17.931345], [48.221996, 17.931354], [48.22218, 17.931347], [48.223385, 17.931189], [48.223855, 17.931099], [48.226041, 17.930414], [48.226274, 17.930578], [48.226781, 17.931705], [48.227027, 17.932278], [48.227098, 17.932439], [48.227178, 17.932602], [48.227239, 17.932701], [48.227629, 17.933171], [48.227796, 17.933397], [48.227876, 17.93352], [48.228271, 17.934194], [48.228532, 17.934669], [48.228777, 17.93514], [48.229544, 17.936656], [48.230172, 17.938008], [48.230923, 17.939774], [48.23104, 17.940072], [48.23111, 17.940312], [48.231197, 17.940743], [48.231252, 17.941171], [48.231297, 17.941783], [48.231423, 17.945211], [48.231477, 17.947505], [48.23144, 17.948035], [48.231331, 17.948919], [48.231298, 17.949193], [48.230766, 17.953869], [48.230582, 17.955554], [48.230423, 17.956791], [48.230329, 17.957426], [48.230199, 17.958211], [48.230053, 17.959014], [48.229823, 17.960086], [48.229522, 17.961314], [48.229133, 17.962645], [48.228596, 17.964224], [48.228197, 17.965268], [48.227067, 17.968001], [48.22617, 17.970066], [48.225429, 17.971654], [48.22063, 17.981727], [48.220484, 17.982093], [48.217948, 17.988771], [48.21762, 17.989731], [48.217425, 17.990581], [48.217367, 17.99174], [48.217356, 17.993626], [48.217361, 17.996236], [48.217341, 17.996489], [48.219049, 17.997398], [48.224431, 18.000288], [48.226956, 18.001635], [48.229506, 18.003017], [48.233734, 18.005263], [48.234569, 18.005736], [48.234732, 18.00584], [48.234806, 18.005902], [48.234921, 18.006028], [48.235095, 18.006236], [48.23527, 18.006483], [48.236909, 18.008979], [48.238752, 18.011804], [48.238939, 18.012147], [48.239431, 18.013164], [48.239513, 18.013324], [48.239615, 18.013493], [48.239996, 18.013994], [48.240142, 18.014151], [48.240395, 18.0144], [48.240674, 18.014649], [48.241902, 18.01563], [48.242315, 18.015935], [48.242931, 18.016468], [48.243126, 18.016665], [48.243407, 18.016983], [48.243519, 18.017128], [48.243787, 18.017561], [48.245418, 18.020274], [48.245864, 18.021039]],\n",
       "                {&quot;bubblingMouseEvents&quot;: true, &quot;color&quot;: &quot;blue&quot;, &quot;dashArray&quot;: null, &quot;dashOffset&quot;: null, &quot;fill&quot;: false, &quot;fillColor&quot;: &quot;blue&quot;, &quot;fillOpacity&quot;: 0.2, &quot;fillRule&quot;: &quot;evenodd&quot;, &quot;lineCap&quot;: &quot;round&quot;, &quot;lineJoin&quot;: &quot;round&quot;, &quot;noClip&quot;: false, &quot;opacity&quot;: 1, &quot;smoothFactor&quot;: 1.0, &quot;stroke&quot;: true, &quot;weight&quot;: 2.5}\n",
       "            ).addTo(map_093f1485649447fc797b14f32fa27279);\n",
       "        \n",
       "    \n",
       "            poly_line_c2253993f512d840a7512f4316765372.bindTooltip(\n",
       "                `&lt;div&gt;\n",
       "                     Alternative Route\n",
       "                 &lt;/div&gt;`,\n",
       "                {&quot;sticky&quot;: true}\n",
       "            );\n",
       "        \n",
       "    \n",
       "            var marker_da39d121e67601099ada12453fcc959f = L.marker(\n",
       "                [48.15377, 17.924368],\n",
       "                {}\n",
       "            ).addTo(map_093f1485649447fc797b14f32fa27279);\n",
       "        \n",
       "    \n",
       "            var icon_9ff76adb5ec9b1e017cc9d2f9d3cfed4 = L.AwesomeMarkers.icon(\n",
       "                {&quot;extraClasses&quot;: &quot;fa-rotate-0&quot;, &quot;icon&quot;: &quot;info-sign&quot;, &quot;iconColor&quot;: &quot;white&quot;, &quot;markerColor&quot;: &quot;blue&quot;, &quot;prefix&quot;: &quot;glyphicon&quot;}\n",
       "            );\n",
       "            marker_da39d121e67601099ada12453fcc959f.setIcon(icon_9ff76adb5ec9b1e017cc9d2f9d3cfed4);\n",
       "        \n",
       "    \n",
       "        var popup_2721734a7becea96037c78b00a225bdf = L.popup({&quot;maxWidth&quot;: &quot;100%&quot;});\n",
       "\n",
       "        \n",
       "            \n",
       "                var html_362214077055df3cd51d6ef4873c98bf = $(`&lt;div id=&quot;html_362214077055df3cd51d6ef4873c98bf&quot; style=&quot;width: 100.0%; height: 100.0%;&quot;&gt;Start: Primary Route&lt;/div&gt;`)[0];\n",
       "                popup_2721734a7becea96037c78b00a225bdf.setContent(html_362214077055df3cd51d6ef4873c98bf);\n",
       "            \n",
       "        \n",
       "\n",
       "        marker_da39d121e67601099ada12453fcc959f.bindPopup(popup_2721734a7becea96037c78b00a225bdf)\n",
       "        ;\n",
       "\n",
       "        \n",
       "    \n",
       "    \n",
       "            var marker_56e906df7062a254ae9d796d038e7d2c = L.marker(\n",
       "                [48.245864, 18.021039],\n",
       "                {}\n",
       "            ).addTo(map_093f1485649447fc797b14f32fa27279);\n",
       "        \n",
       "    \n",
       "            var icon_6fcdf4170c1d47f0ef0faa2efae04e0e = L.AwesomeMarkers.icon(\n",
       "                {&quot;extraClasses&quot;: &quot;fa-rotate-0&quot;, &quot;icon&quot;: &quot;info-sign&quot;, &quot;iconColor&quot;: &quot;white&quot;, &quot;markerColor&quot;: &quot;blue&quot;, &quot;prefix&quot;: &quot;glyphicon&quot;}\n",
       "            );\n",
       "            marker_56e906df7062a254ae9d796d038e7d2c.setIcon(icon_6fcdf4170c1d47f0ef0faa2efae04e0e);\n",
       "        \n",
       "    \n",
       "        var popup_6419899bd2ecfbf9974318aac39b7b61 = L.popup({&quot;maxWidth&quot;: &quot;100%&quot;});\n",
       "\n",
       "        \n",
       "            \n",
       "                var html_cb7a357afb343f6065c084fc959ea4cb = $(`&lt;div id=&quot;html_cb7a357afb343f6065c084fc959ea4cb&quot; style=&quot;width: 100.0%; height: 100.0%;&quot;&gt;End: Primary Route&lt;/div&gt;`)[0];\n",
       "                popup_6419899bd2ecfbf9974318aac39b7b61.setContent(html_cb7a357afb343f6065c084fc959ea4cb);\n",
       "            \n",
       "        \n",
       "\n",
       "        marker_56e906df7062a254ae9d796d038e7d2c.bindPopup(popup_6419899bd2ecfbf9974318aac39b7b61)\n",
       "        ;\n",
       "\n",
       "        \n",
       "    \n",
       "    \n",
       "            var marker_b20d8d6d36dbae6a910eff27303b693b = L.marker(\n",
       "                [48.15377, 17.924368],\n",
       "                {}\n",
       "            ).addTo(map_093f1485649447fc797b14f32fa27279);\n",
       "        \n",
       "    \n",
       "            var icon_f0a09d246cab6a552db1f7930a1f835d = L.AwesomeMarkers.icon(\n",
       "                {&quot;extraClasses&quot;: &quot;fa-rotate-0&quot;, &quot;icon&quot;: &quot;info-sign&quot;, &quot;iconColor&quot;: &quot;white&quot;, &quot;markerColor&quot;: &quot;green&quot;, &quot;prefix&quot;: &quot;glyphicon&quot;}\n",
       "            );\n",
       "            marker_b20d8d6d36dbae6a910eff27303b693b.setIcon(icon_f0a09d246cab6a552db1f7930a1f835d);\n",
       "        \n",
       "    \n",
       "        var popup_d0b1e9d7b2a323bf929a438c43334439 = L.popup({&quot;maxWidth&quot;: &quot;100%&quot;});\n",
       "\n",
       "        \n",
       "            \n",
       "                var html_03ae5d5818b7ed143f0760aa4f2ec6f6 = $(`&lt;div id=&quot;html_03ae5d5818b7ed143f0760aa4f2ec6f6&quot; style=&quot;width: 100.0%; height: 100.0%;&quot;&gt;Start: Alternative Route&lt;/div&gt;`)[0];\n",
       "                popup_d0b1e9d7b2a323bf929a438c43334439.setContent(html_03ae5d5818b7ed143f0760aa4f2ec6f6);\n",
       "            \n",
       "        \n",
       "\n",
       "        marker_b20d8d6d36dbae6a910eff27303b693b.bindPopup(popup_d0b1e9d7b2a323bf929a438c43334439)\n",
       "        ;\n",
       "\n",
       "        \n",
       "    \n",
       "    \n",
       "            var marker_34df34b5acb1cd4dedb140af349c427d = L.marker(\n",
       "                [48.245864, 18.021039],\n",
       "                {}\n",
       "            ).addTo(map_093f1485649447fc797b14f32fa27279);\n",
       "        \n",
       "    \n",
       "            var icon_6e7ba8f0f598d3956f84bf1cf46b55d8 = L.AwesomeMarkers.icon(\n",
       "                {&quot;extraClasses&quot;: &quot;fa-rotate-0&quot;, &quot;icon&quot;: &quot;info-sign&quot;, &quot;iconColor&quot;: &quot;white&quot;, &quot;markerColor&quot;: &quot;red&quot;, &quot;prefix&quot;: &quot;glyphicon&quot;}\n",
       "            );\n",
       "            marker_34df34b5acb1cd4dedb140af349c427d.setIcon(icon_6e7ba8f0f598d3956f84bf1cf46b55d8);\n",
       "        \n",
       "    \n",
       "        var popup_5d95a02195e85eabd22b7a9399b665ab = L.popup({&quot;maxWidth&quot;: &quot;100%&quot;});\n",
       "\n",
       "        \n",
       "            \n",
       "                var html_cb3a301173ef745889f1ec1cbcda6688 = $(`&lt;div id=&quot;html_cb3a301173ef745889f1ec1cbcda6688&quot; style=&quot;width: 100.0%; height: 100.0%;&quot;&gt;End: Alternative Route&lt;/div&gt;`)[0];\n",
       "                popup_5d95a02195e85eabd22b7a9399b665ab.setContent(html_cb3a301173ef745889f1ec1cbcda6688);\n",
       "            \n",
       "        \n",
       "\n",
       "        marker_34df34b5acb1cd4dedb140af349c427d.bindPopup(popup_5d95a02195e85eabd22b7a9399b665ab)\n",
       "        ;\n",
       "\n",
       "        \n",
       "    \n",
       "&lt;/script&gt;\n",
       "&lt;/html&gt;\" style=\"position:absolute;width:100%;height:100%;left:0;top:0;border:none !important;\" allowfullscreen webkitallowfullscreen mozallowfullscreen></iframe></div></div>"
      ],
      "text/plain": [
       "<folium.folium.Map at 0x1d55176bce0>"
      ]
     },
     "execution_count": 14,
     "metadata": {},
     "output_type": "execute_result"
    }
   ],
   "source": [
    "import folium\n",
    "\n",
    "def extract_coordinates(gpx_file_path):\n",
    "    with open(gpx_file_path, 'r') as gpx_file:\n",
    "        gpx = gpxpy.parse(gpx_file)\n",
    "\n",
    "    coordinates = []\n",
    "    for track in gpx.tracks:\n",
    "        for segment in track.segments:\n",
    "            for point in segment.points:\n",
    "                coordinates.append((point.latitude, point.longitude))\n",
    "\n",
    "    return coordinates\n",
    "\n",
    "\n",
    "# Extract coordinates for both routes\n",
    "coordinates_route = extract_coordinates(route_path)\n",
    "coordinates_alt_route = extract_coordinates(alt_route_path)\n",
    "\n",
    "# Create a folium map centered around the first point of the primary route\n",
    "m = folium.Map(location=coordinates_route[0], zoom_start=14)\n",
    "\n",
    "# Add the primary route to the map\n",
    "folium.PolyLine(coordinates_route, color='orange', weight=2.5,\n",
    "                opacity=1, tooltip='Primary Route').add_to(m)\n",
    "\n",
    "# Add the alternative route to the map\n",
    "folium.PolyLine(coordinates_alt_route, color='blue', weight=2.5,\n",
    "                opacity=1, tooltip='Alternative Route').add_to(m)\n",
    "\n",
    "# Add markers for the start and end points of both routes\n",
    "folium.Marker(coordinates_route[0], popup='Start: Primary Route', icon=folium.Icon(\n",
    "    color='blue')).add_to(m)\n",
    "folium.Marker(coordinates_route[-1], popup='End: Primary Route',\n",
    "              icon=folium.Icon(color='blue')).add_to(m)\n",
    "folium.Marker(coordinates_alt_route[0], popup='Start: Alternative Route', icon=folium.Icon(\n",
    "    color='green')).add_to(m)\n",
    "folium.Marker(coordinates_alt_route[-1], popup='End: Alternative Route',\n",
    "              icon=folium.Icon(color='red')).add_to(m)\n",
    "\n",
    "# # Save the map to an HTML file\n",
    "# m.save('routes_map.html')\n",
    "\n",
    "# Display the map in the notebook (if running in Jupyter)\n",
    "m"
   ]
  },
  {
   "cell_type": "code",
   "execution_count": 16,
   "metadata": {},
   "outputs": [
    {
     "data": {
      "application/vnd.plotly.v1+json": {
       "config": {
        "plotlyServerURL": "https://plot.ly"
       },
       "data": [
        {
         "mode": "lines",
         "name": "Primary Route Elevation Profile",
         "type": "scatter",
         "x": [
          0,
          4.448415396484462,
          9.466592667872241,
          62.960022378776664,
          155.24134533307043,
          191.12022111635756,
          224.25214015390048,
          262.16731226038576,
          326.6365875888588,
          346.5072959726754,
          379.4479255584373,
          561.3018508996367,
          726.7977545501067,
          866.9151909754825,
          880.6400778323458,
          2575.023931060013,
          4087.076570605774,
          4118.354772174044,
          4143.564658441464,
          4153.959788978687,
          4157.839886083589,
          4426.044575848857,
          4558.704121831363,
          4622.171823519403,
          4690.399070010029,
          4721.412858941657,
          4814.955987131976,
          4948.222991072043,
          5331.65804475962,
          5534.407649632046,
          5640.999256507236,
          5673.299540942824,
          5710.803837272449,
          5789.183120433162,
          6172.269843103895,
          6524.690762368397,
          6759.582067826248,
          6915.4649402534,
          7281.764409846914,
          7648.225714066075,
          7918.39509482754,
          8348.699857057507,
          8391.909119157246,
          8427.493636630164,
          8458.530163954925,
          8487.793826525489,
          8508.355031446483,
          8531.570466330311,
          8561.361188757206,
          8592.562496089253,
          8620.303373962955,
          8645.892488897332,
          8672.782750774906,
          8688.318458146226,
          8707.575938997707,
          8812.357038010447,
          8838.656069425035,
          8867.107443557325,
          8906.89527068263,
          8932.21276083285,
          8958.63898764582,
          8980.707792759296,
          9000.562976866206,
          9133.296599416548,
          9213.341236171591,
          9415.074734970032,
          10051.379662892272,
          10349.68383235108,
          10651.481545727933,
          11150.735962468027,
          11250.084223643198,
          11269.799927109503,
          11279.233514273285,
          11295.081807249875,
          11319.841416926309,
          11346.579393894548,
          11606.460089595026,
          11899.651241394151,
          11932.51537661595,
          12025.708850234872,
          12040.676936389906,
          12057.586160042169,
          12113.964617562784,
          12133.955546646615,
          12167.630469250966,
          12203.76083377384,
          12358.604143340794,
          12409.838753986536,
          12488.981778820324,
          12515.14481356062,
          12554.314531320148,
          12570.776577984778,
          12614.599785943667,
          12885.550640458094,
          12960.923537769657
         ],
         "y": [
          112.3,
          112.2,
          112.3,
          113.1,
          113.6,
          113.8,
          114,
          114.5,
          115.3,
          115.5,
          115.2,
          113.4,
          111.5,
          110.1,
          110.1,
          114.9,
          118,
          118,
          117.9,
          117.9,
          117.9,
          119.5,
          120.3,
          120.7,
          121.2,
          121.3,
          121.9,
          119.9,
          125.2,
          129.3,
          129.6,
          129.7,
          129.9,
          130.1,
          131.4,
          144.6,
          153.5,
          154.2,
          155.4,
          156.7,
          154.7,
          157.5,
          157.8,
          158,
          158.2,
          158.2,
          158.3,
          158.3,
          158.3,
          158.4,
          158.4,
          158.4,
          158.5,
          158.8,
          159.4,
          159.9,
          157.8,
          155.2,
          151.5,
          149.2,
          146.8,
          144.7,
          142.9,
          144.7,
          146.2,
          149,
          153.7,
          160.7,
          167.8,
          180.4,
          179.8,
          179.7,
          179.7,
          179.6,
          179.5,
          179.3,
          179.3,
          173.9,
          171.7,
          165.6,
          164.8,
          163.9,
          161.7,
          161.5,
          162.5,
          163.7,
          168.4,
          170,
          169.5,
          169.4,
          169.1,
          168.6,
          167.2,
          153.8,
          149.2
         ]
        },
        {
         "line": {
          "dash": "dash"
         },
         "mode": "lines",
         "name": "Alternative Route Elevation Profile",
         "type": "scatter",
         "x": [
          0,
          4.448415396484462,
          9.466592667872241,
          40.337928253807746,
          81.45332448311271,
          129.0931060716889,
          155.68396774143315,
          168.24701325577965,
          183.46538321026765,
          238.73328304936393,
          401.6051531509679,
          430.79844417646984,
          444.90899886036823,
          480.04091193701765,
          506.3354613582085,
          542.8750983718702,
          586.4204222449148,
          622.5704162804436,
          642.1862294081167,
          672.4608921568966,
          1151.238621173797,
          2029.808600960129,
          2405.039120378159,
          2491.6940650226034,
          2759.2709727368187,
          2782.0740670284713,
          2793.194118988009,
          2829.5622113011996,
          2841.4650623608154,
          2852.9897080515857,
          2872.948734488664,
          2882.181370733208,
          2893.7190412599393,
          2913.232059560867,
          2923.2911960079964,
          2936.8654015566203,
          2980.379608525332,
          3025.4198146888143,
          3134.6376318254174,
          3212.4073811408466,
          3404.4391725356795,
          3532.5326420625643,
          3546.1327433788138,
          3678.506401382426,
          4708.663872216903,
          4722.168546574246,
          4890.107428182339,
          5037.453247498594,
          5505.335511038053,
          5592.241735634304,
          5608.303482720079,
          5638.049531746406,
          5689.624161593648,
          6147.187362004075,
          7432.455926204129,
          7458.552363365742,
          7760.906074280174,
          7784.902296533536,
          7829.738768292338,
          7877.528804814972,
          7913.473076345567,
          7946.142827387921,
          7982.219236496762,
          8023.07409595013,
          8064.20729248324,
          8098.349706753704,
          8127.904591962145,
          8146.534242858884,
          8180.35702053828,
          8479.812282436047,
          8624.469898910367,
          8715.63347817904,
          8844.997067591126,
          8888.309008201655,
          8930.459879130092,
          9086.177488802892,
          9257.242851401517,
          9425.526601949794,
          9493.705776622688,
          9529.020153452288,
          9574.651214778232,
          9650.379569992989,
          9698.179380397904,
          9720.71054810139,
          9868.606530411158,
          10035.630746142859,
          10067.462827149406,
          10096.562997342295,
          10136.436646339955,
          10202.585777502958,
          10279.067334232977,
          10293.316524081,
          10307.469848311246,
          10327.959212955126,
          10462.610043164725,
          10515.354246925575,
          10763.944517659238,
          10792.59187210246,
          10893.441039033798,
          10943.993738062023,
          10958.312308827193,
          10973.326484568775,
          10983.327050119271,
          11039.001532743583,
          11064.031265036556,
          11076.779159241665,
          11143.349836962505,
          11189.010747506914,
          11233.325216459283,
          11374.492521979622,
          11496.716163661305,
          11652.081015601585,
          11677.731342825607,
          11697.159262384266,
          11730.554312058905,
          11762.876870521257,
          11808.533971495572,
          12063.115534147042,
          12233.327442835527,
          12272.84351328977,
          12339.50802785974,
          12360.155295855784,
          12711.918058134232,
          12838.534859697043,
          12931.955391965252,
          12980.19192300347,
          13040.17492814,
          13101.899184149826,
          13185.414657363353,
          13282.44632238683,
          13390.229195581105,
          13521.699046180245,
          13610.955412398145,
          13849.494699188963,
          14032.313765134351,
          14176.096700494112,
          15094.544195180833,
          15126.183310166594,
          15696.305832162496,
          15776.327240505829,
          15843.006453572609,
          15929.214960934572,
          16069.110435430015,
          16262.702521457024,
          16281.599883304685,
          16483.333382103126,
          17119.638310025366,
          17417.942479484176,
          17719.740192861027,
          18218.99460960112,
          18318.34287077629,
          18338.058574242594,
          18347.492161406375,
          18363.340454382964,
          18388.1000640594,
          18414.83804102764,
          18674.71873672812,
          18967.909888527243,
          19000.77402374904,
          19093.967497367965,
          19108.935583522998,
          19125.84480717526,
          19182.223264695876,
          19202.214193779706,
          19235.889116384056,
          19272.019480906933,
          19426.862790473886,
          19478.097401119627,
          19557.240425953416,
          19583.403460693713,
          19622.57317845324,
          19639.03522511787,
          19682.85843307676,
          19953.809287591186,
          20029.182184902747
         ],
         "y": [
          112.4,
          112.4,
          112.3,
          112.8,
          112.5,
          112.6,
          112.9,
          113.1,
          113.3,
          113.9,
          113.9,
          113.9,
          113.9,
          114,
          114,
          114,
          114,
          114.1,
          114.1,
          114.2,
          116.2,
          112.8,
          114.1,
          114.5,
          113.8,
          113.8,
          113.8,
          113.8,
          113.8,
          113.9,
          114,
          114.1,
          114.1,
          114.1,
          114,
          114,
          114.1,
          114.6,
          114.7,
          115.1,
          114.3,
          114.2,
          114.3,
          115.7,
          113.7,
          113.8,
          113.8,
          113.9,
          114.6,
          114.2,
          114.2,
          114.4,
          114.8,
          118.4,
          117,
          117,
          118.2,
          118.3,
          118.5,
          118.8,
          119,
          119.2,
          119.4,
          119.7,
          119.9,
          120.1,
          120.2,
          120.8,
          121,
          122.6,
          123.3,
          123.8,
          124.5,
          124.7,
          125,
          125.8,
          123.4,
          124,
          124.2,
          124.3,
          124.5,
          124.8,
          125,
          125,
          125.5,
          127.6,
          128,
          128.4,
          128.9,
          128.2,
          128.3,
          128.4,
          128.5,
          128.7,
          130.6,
          130.7,
          132,
          132.6,
          130.1,
          129,
          129,
          128.9,
          128.9,
          128.6,
          128.8,
          128.9,
          129.6,
          130.5,
          131.4,
          135.7,
          140.1,
          143.8,
          144.5,
          145.1,
          146,
          146.9,
          148.2,
          155.3,
          160.1,
          161.2,
          163.1,
          163.3,
          169.1,
          171.1,
          171.9,
          172.4,
          172.9,
          173.4,
          174.2,
          175,
          178.7,
          183.3,
          186.4,
          189,
          187.8,
          187.6,
          171.4,
          170.8,
          148.6,
          145.5,
          146,
          146.7,
          148.4,
          146.4,
          146.2,
          149,
          153.7,
          160.7,
          167.8,
          180.4,
          179.8,
          179.7,
          179.7,
          179.6,
          179.5,
          179.3,
          179.3,
          173.9,
          171.7,
          165.6,
          164.8,
          163.9,
          161.7,
          161.5,
          162.5,
          163.7,
          168.4,
          170,
          169.5,
          169.4,
          169.1,
          168.6,
          167.2,
          153.7,
          149.2
         ]
        }
       ],
       "layout": {
        "legend": {
         "orientation": "h",
         "title": {
          "text": "Routes"
         },
         "x": 1,
         "xanchor": "right",
         "y": 1.02,
         "yanchor": "bottom"
        },
        "template": {
         "data": {
          "bar": [
           {
            "error_x": {
             "color": "#2a3f5f"
            },
            "error_y": {
             "color": "#2a3f5f"
            },
            "marker": {
             "line": {
              "color": "white",
              "width": 0.5
             },
             "pattern": {
              "fillmode": "overlay",
              "size": 10,
              "solidity": 0.2
             }
            },
            "type": "bar"
           }
          ],
          "barpolar": [
           {
            "marker": {
             "line": {
              "color": "white",
              "width": 0.5
             },
             "pattern": {
              "fillmode": "overlay",
              "size": 10,
              "solidity": 0.2
             }
            },
            "type": "barpolar"
           }
          ],
          "carpet": [
           {
            "aaxis": {
             "endlinecolor": "#2a3f5f",
             "gridcolor": "#C8D4E3",
             "linecolor": "#C8D4E3",
             "minorgridcolor": "#C8D4E3",
             "startlinecolor": "#2a3f5f"
            },
            "baxis": {
             "endlinecolor": "#2a3f5f",
             "gridcolor": "#C8D4E3",
             "linecolor": "#C8D4E3",
             "minorgridcolor": "#C8D4E3",
             "startlinecolor": "#2a3f5f"
            },
            "type": "carpet"
           }
          ],
          "choropleth": [
           {
            "colorbar": {
             "outlinewidth": 0,
             "ticks": ""
            },
            "type": "choropleth"
           }
          ],
          "contour": [
           {
            "colorbar": {
             "outlinewidth": 0,
             "ticks": ""
            },
            "colorscale": [
             [
              0,
              "#0d0887"
             ],
             [
              0.1111111111111111,
              "#46039f"
             ],
             [
              0.2222222222222222,
              "#7201a8"
             ],
             [
              0.3333333333333333,
              "#9c179e"
             ],
             [
              0.4444444444444444,
              "#bd3786"
             ],
             [
              0.5555555555555556,
              "#d8576b"
             ],
             [
              0.6666666666666666,
              "#ed7953"
             ],
             [
              0.7777777777777778,
              "#fb9f3a"
             ],
             [
              0.8888888888888888,
              "#fdca26"
             ],
             [
              1,
              "#f0f921"
             ]
            ],
            "type": "contour"
           }
          ],
          "contourcarpet": [
           {
            "colorbar": {
             "outlinewidth": 0,
             "ticks": ""
            },
            "type": "contourcarpet"
           }
          ],
          "heatmap": [
           {
            "colorbar": {
             "outlinewidth": 0,
             "ticks": ""
            },
            "colorscale": [
             [
              0,
              "#0d0887"
             ],
             [
              0.1111111111111111,
              "#46039f"
             ],
             [
              0.2222222222222222,
              "#7201a8"
             ],
             [
              0.3333333333333333,
              "#9c179e"
             ],
             [
              0.4444444444444444,
              "#bd3786"
             ],
             [
              0.5555555555555556,
              "#d8576b"
             ],
             [
              0.6666666666666666,
              "#ed7953"
             ],
             [
              0.7777777777777778,
              "#fb9f3a"
             ],
             [
              0.8888888888888888,
              "#fdca26"
             ],
             [
              1,
              "#f0f921"
             ]
            ],
            "type": "heatmap"
           }
          ],
          "heatmapgl": [
           {
            "colorbar": {
             "outlinewidth": 0,
             "ticks": ""
            },
            "colorscale": [
             [
              0,
              "#0d0887"
             ],
             [
              0.1111111111111111,
              "#46039f"
             ],
             [
              0.2222222222222222,
              "#7201a8"
             ],
             [
              0.3333333333333333,
              "#9c179e"
             ],
             [
              0.4444444444444444,
              "#bd3786"
             ],
             [
              0.5555555555555556,
              "#d8576b"
             ],
             [
              0.6666666666666666,
              "#ed7953"
             ],
             [
              0.7777777777777778,
              "#fb9f3a"
             ],
             [
              0.8888888888888888,
              "#fdca26"
             ],
             [
              1,
              "#f0f921"
             ]
            ],
            "type": "heatmapgl"
           }
          ],
          "histogram": [
           {
            "marker": {
             "pattern": {
              "fillmode": "overlay",
              "size": 10,
              "solidity": 0.2
             }
            },
            "type": "histogram"
           }
          ],
          "histogram2d": [
           {
            "colorbar": {
             "outlinewidth": 0,
             "ticks": ""
            },
            "colorscale": [
             [
              0,
              "#0d0887"
             ],
             [
              0.1111111111111111,
              "#46039f"
             ],
             [
              0.2222222222222222,
              "#7201a8"
             ],
             [
              0.3333333333333333,
              "#9c179e"
             ],
             [
              0.4444444444444444,
              "#bd3786"
             ],
             [
              0.5555555555555556,
              "#d8576b"
             ],
             [
              0.6666666666666666,
              "#ed7953"
             ],
             [
              0.7777777777777778,
              "#fb9f3a"
             ],
             [
              0.8888888888888888,
              "#fdca26"
             ],
             [
              1,
              "#f0f921"
             ]
            ],
            "type": "histogram2d"
           }
          ],
          "histogram2dcontour": [
           {
            "colorbar": {
             "outlinewidth": 0,
             "ticks": ""
            },
            "colorscale": [
             [
              0,
              "#0d0887"
             ],
             [
              0.1111111111111111,
              "#46039f"
             ],
             [
              0.2222222222222222,
              "#7201a8"
             ],
             [
              0.3333333333333333,
              "#9c179e"
             ],
             [
              0.4444444444444444,
              "#bd3786"
             ],
             [
              0.5555555555555556,
              "#d8576b"
             ],
             [
              0.6666666666666666,
              "#ed7953"
             ],
             [
              0.7777777777777778,
              "#fb9f3a"
             ],
             [
              0.8888888888888888,
              "#fdca26"
             ],
             [
              1,
              "#f0f921"
             ]
            ],
            "type": "histogram2dcontour"
           }
          ],
          "mesh3d": [
           {
            "colorbar": {
             "outlinewidth": 0,
             "ticks": ""
            },
            "type": "mesh3d"
           }
          ],
          "parcoords": [
           {
            "line": {
             "colorbar": {
              "outlinewidth": 0,
              "ticks": ""
             }
            },
            "type": "parcoords"
           }
          ],
          "pie": [
           {
            "automargin": true,
            "type": "pie"
           }
          ],
          "scatter": [
           {
            "fillpattern": {
             "fillmode": "overlay",
             "size": 10,
             "solidity": 0.2
            },
            "type": "scatter"
           }
          ],
          "scatter3d": [
           {
            "line": {
             "colorbar": {
              "outlinewidth": 0,
              "ticks": ""
             }
            },
            "marker": {
             "colorbar": {
              "outlinewidth": 0,
              "ticks": ""
             }
            },
            "type": "scatter3d"
           }
          ],
          "scattercarpet": [
           {
            "marker": {
             "colorbar": {
              "outlinewidth": 0,
              "ticks": ""
             }
            },
            "type": "scattercarpet"
           }
          ],
          "scattergeo": [
           {
            "marker": {
             "colorbar": {
              "outlinewidth": 0,
              "ticks": ""
             }
            },
            "type": "scattergeo"
           }
          ],
          "scattergl": [
           {
            "marker": {
             "colorbar": {
              "outlinewidth": 0,
              "ticks": ""
             }
            },
            "type": "scattergl"
           }
          ],
          "scattermapbox": [
           {
            "marker": {
             "colorbar": {
              "outlinewidth": 0,
              "ticks": ""
             }
            },
            "type": "scattermapbox"
           }
          ],
          "scatterpolar": [
           {
            "marker": {
             "colorbar": {
              "outlinewidth": 0,
              "ticks": ""
             }
            },
            "type": "scatterpolar"
           }
          ],
          "scatterpolargl": [
           {
            "marker": {
             "colorbar": {
              "outlinewidth": 0,
              "ticks": ""
             }
            },
            "type": "scatterpolargl"
           }
          ],
          "scatterternary": [
           {
            "marker": {
             "colorbar": {
              "outlinewidth": 0,
              "ticks": ""
             }
            },
            "type": "scatterternary"
           }
          ],
          "surface": [
           {
            "colorbar": {
             "outlinewidth": 0,
             "ticks": ""
            },
            "colorscale": [
             [
              0,
              "#0d0887"
             ],
             [
              0.1111111111111111,
              "#46039f"
             ],
             [
              0.2222222222222222,
              "#7201a8"
             ],
             [
              0.3333333333333333,
              "#9c179e"
             ],
             [
              0.4444444444444444,
              "#bd3786"
             ],
             [
              0.5555555555555556,
              "#d8576b"
             ],
             [
              0.6666666666666666,
              "#ed7953"
             ],
             [
              0.7777777777777778,
              "#fb9f3a"
             ],
             [
              0.8888888888888888,
              "#fdca26"
             ],
             [
              1,
              "#f0f921"
             ]
            ],
            "type": "surface"
           }
          ],
          "table": [
           {
            "cells": {
             "fill": {
              "color": "#EBF0F8"
             },
             "line": {
              "color": "white"
             }
            },
            "header": {
             "fill": {
              "color": "#C8D4E3"
             },
             "line": {
              "color": "white"
             }
            },
            "type": "table"
           }
          ]
         },
         "layout": {
          "annotationdefaults": {
           "arrowcolor": "#2a3f5f",
           "arrowhead": 0,
           "arrowwidth": 1
          },
          "autotypenumbers": "strict",
          "coloraxis": {
           "colorbar": {
            "outlinewidth": 0,
            "ticks": ""
           }
          },
          "colorscale": {
           "diverging": [
            [
             0,
             "#8e0152"
            ],
            [
             0.1,
             "#c51b7d"
            ],
            [
             0.2,
             "#de77ae"
            ],
            [
             0.3,
             "#f1b6da"
            ],
            [
             0.4,
             "#fde0ef"
            ],
            [
             0.5,
             "#f7f7f7"
            ],
            [
             0.6,
             "#e6f5d0"
            ],
            [
             0.7,
             "#b8e186"
            ],
            [
             0.8,
             "#7fbc41"
            ],
            [
             0.9,
             "#4d9221"
            ],
            [
             1,
             "#276419"
            ]
           ],
           "sequential": [
            [
             0,
             "#0d0887"
            ],
            [
             0.1111111111111111,
             "#46039f"
            ],
            [
             0.2222222222222222,
             "#7201a8"
            ],
            [
             0.3333333333333333,
             "#9c179e"
            ],
            [
             0.4444444444444444,
             "#bd3786"
            ],
            [
             0.5555555555555556,
             "#d8576b"
            ],
            [
             0.6666666666666666,
             "#ed7953"
            ],
            [
             0.7777777777777778,
             "#fb9f3a"
            ],
            [
             0.8888888888888888,
             "#fdca26"
            ],
            [
             1,
             "#f0f921"
            ]
           ],
           "sequentialminus": [
            [
             0,
             "#0d0887"
            ],
            [
             0.1111111111111111,
             "#46039f"
            ],
            [
             0.2222222222222222,
             "#7201a8"
            ],
            [
             0.3333333333333333,
             "#9c179e"
            ],
            [
             0.4444444444444444,
             "#bd3786"
            ],
            [
             0.5555555555555556,
             "#d8576b"
            ],
            [
             0.6666666666666666,
             "#ed7953"
            ],
            [
             0.7777777777777778,
             "#fb9f3a"
            ],
            [
             0.8888888888888888,
             "#fdca26"
            ],
            [
             1,
             "#f0f921"
            ]
           ]
          },
          "colorway": [
           "#636efa",
           "#EF553B",
           "#00cc96",
           "#ab63fa",
           "#FFA15A",
           "#19d3f3",
           "#FF6692",
           "#B6E880",
           "#FF97FF",
           "#FECB52"
          ],
          "font": {
           "color": "#2a3f5f"
          },
          "geo": {
           "bgcolor": "white",
           "lakecolor": "white",
           "landcolor": "white",
           "showlakes": true,
           "showland": true,
           "subunitcolor": "#C8D4E3"
          },
          "hoverlabel": {
           "align": "left"
          },
          "hovermode": "closest",
          "mapbox": {
           "style": "light"
          },
          "paper_bgcolor": "white",
          "plot_bgcolor": "white",
          "polar": {
           "angularaxis": {
            "gridcolor": "#EBF0F8",
            "linecolor": "#EBF0F8",
            "ticks": ""
           },
           "bgcolor": "white",
           "radialaxis": {
            "gridcolor": "#EBF0F8",
            "linecolor": "#EBF0F8",
            "ticks": ""
           }
          },
          "scene": {
           "xaxis": {
            "backgroundcolor": "white",
            "gridcolor": "#DFE8F3",
            "gridwidth": 2,
            "linecolor": "#EBF0F8",
            "showbackground": true,
            "ticks": "",
            "zerolinecolor": "#EBF0F8"
           },
           "yaxis": {
            "backgroundcolor": "white",
            "gridcolor": "#DFE8F3",
            "gridwidth": 2,
            "linecolor": "#EBF0F8",
            "showbackground": true,
            "ticks": "",
            "zerolinecolor": "#EBF0F8"
           },
           "zaxis": {
            "backgroundcolor": "white",
            "gridcolor": "#DFE8F3",
            "gridwidth": 2,
            "linecolor": "#EBF0F8",
            "showbackground": true,
            "ticks": "",
            "zerolinecolor": "#EBF0F8"
           }
          },
          "shapedefaults": {
           "line": {
            "color": "#2a3f5f"
           }
          },
          "ternary": {
           "aaxis": {
            "gridcolor": "#DFE8F3",
            "linecolor": "#A2B1C6",
            "ticks": ""
           },
           "baxis": {
            "gridcolor": "#DFE8F3",
            "linecolor": "#A2B1C6",
            "ticks": ""
           },
           "bgcolor": "white",
           "caxis": {
            "gridcolor": "#DFE8F3",
            "linecolor": "#A2B1C6",
            "ticks": ""
           }
          },
          "title": {
           "x": 0.05
          },
          "xaxis": {
           "automargin": true,
           "gridcolor": "#EBF0F8",
           "linecolor": "#EBF0F8",
           "ticks": "",
           "title": {
            "standoff": 15
           },
           "zerolinecolor": "#EBF0F8",
           "zerolinewidth": 2
          },
          "yaxis": {
           "automargin": true,
           "gridcolor": "#EBF0F8",
           "linecolor": "#EBF0F8",
           "ticks": "",
           "title": {
            "standoff": 15
           },
           "zerolinecolor": "#EBF0F8",
           "zerolinewidth": 2
          }
         }
        },
        "title": {
         "text": "Elevation Profiles of the Routes"
        },
        "xaxis": {
         "title": {
          "text": "Distance (m)"
         }
        },
        "yaxis": {
         "title": {
          "text": "Elevation (m)"
         }
        }
       }
      }
     },
     "metadata": {},
     "output_type": "display_data"
    }
   ],
   "source": [
    "\n",
    "def extract_elevation_and_distance(gpx_file_path):\n",
    "    with open(gpx_file_path, 'r') as gpx_file:\n",
    "        gpx = gpxpy.parse(gpx_file)\n",
    "\n",
    "    elevations = []\n",
    "    distances = []\n",
    "    cumulative_distance = 0\n",
    "    previous_point = None\n",
    "\n",
    "    for track in gpx.tracks:\n",
    "        for segment in track.segments:\n",
    "            for point in segment.points:\n",
    "                elevations.append(point.elevation)\n",
    "                if previous_point is not None:\n",
    "                    distance = point.distance_2d(previous_point)\n",
    "                    cumulative_distance += distance\n",
    "                distances.append(cumulative_distance)\n",
    "                previous_point = point\n",
    "\n",
    "    return elevations, distances\n",
    "\n",
    "\n",
    "# Extract elevation and distance data for both routes\n",
    "elevations_route, distances_route = extract_elevation_and_distance(route_path)\n",
    "elevations_alt_route, distances_alt_route = extract_elevation_and_distance(\n",
    "    alt_route_path)\n",
    "\n",
    "# Create the Plotly figure\n",
    "fig = go.Figure()\n",
    "\n",
    "# Add traces for both routes\n",
    "fig.add_trace(go.Scatter(x=distances_route, y=elevations_route,\n",
    "              mode='lines', name='Primary Route Elevation Profile'))\n",
    "fig.add_trace(go.Scatter(x=distances_alt_route, y=elevations_alt_route, mode='lines',\n",
    "              name='Alternative Route Elevation Profile', line=dict(dash='dash')))\n",
    "\n",
    "# Update layout\n",
    "fig.update_layout(\n",
    "    title='Elevation Profiles of the Routes',\n",
    "    xaxis_title='Distance (m)',\n",
    "    yaxis_title='Elevation (m)',\n",
    "    legend_title='Routes',\n",
    "    legend=dict(\n",
    "        orientation=\"h\",\n",
    "        yanchor=\"bottom\",\n",
    "        y=1.02,\n",
    "        xanchor=\"right\",\n",
    "        x=1\n",
    "    ),\n",
    "    template='plotly_white'\n",
    ")\n",
    "\n",
    "# Show the plot\n",
    "fig.show()"
   ]
  },
  {
   "cell_type": "code",
   "execution_count": 17,
   "metadata": {},
   "outputs": [
    {
     "data": {
      "application/vnd.plotly.v1+json": {
       "config": {
        "plotlyServerURL": "https://plot.ly"
       },
       "data": [
        {
         "mode": "lines",
         "name": "Primary Route Elevation Profile",
         "type": "scatter",
         "x": [
          0,
          4.448415396484462,
          9.466592667872241,
          62.960022378776664,
          155.24134533307043,
          191.12022111635756,
          224.25214015390048,
          262.16731226038576,
          326.6365875888588,
          346.5072959726754,
          379.4479255584373,
          561.3018508996367,
          726.7977545501067,
          866.9151909754825,
          880.6400778323458,
          2575.023931060013,
          4087.076570605774,
          4118.354772174044,
          4143.564658441464,
          4153.959788978687,
          4157.839886083589,
          4426.044575848857,
          4558.704121831363,
          4622.171823519403,
          4690.399070010029,
          4721.412858941657,
          4814.955987131976,
          4948.222991072043,
          5331.65804475962,
          5534.407649632046,
          5640.999256507236,
          5673.299540942824,
          5710.803837272449,
          5789.183120433162,
          6172.269843103895,
          6524.690762368397,
          6759.582067826248,
          6915.4649402534,
          7281.764409846914,
          7648.225714066075,
          7918.39509482754,
          8348.699857057507,
          8391.909119157246,
          8427.493636630164,
          8458.530163954925,
          8487.793826525489,
          8508.355031446483,
          8531.570466330311,
          8561.361188757206,
          8592.562496089253,
          8620.303373962955,
          8645.892488897332,
          8672.782750774906,
          8688.318458146226,
          8707.575938997707,
          8812.357038010447,
          8838.656069425035,
          8867.107443557325,
          8906.89527068263,
          8932.21276083285,
          8958.63898764582,
          8980.707792759296,
          9000.562976866206,
          9133.296599416548,
          9213.341236171591,
          9415.074734970032,
          10051.379662892272,
          10349.68383235108,
          10651.481545727933,
          11150.735962468027,
          11250.084223643198,
          11269.799927109503,
          11279.233514273285,
          11295.081807249875,
          11319.841416926309,
          11346.579393894548,
          11606.460089595026,
          11899.651241394151,
          11932.51537661595,
          12025.708850234872,
          12040.676936389906,
          12057.586160042169,
          12113.964617562784,
          12133.955546646615,
          12167.630469250966,
          12203.76083377384,
          12358.604143340794,
          12409.838753986536,
          12488.981778820324,
          12515.14481356062,
          12554.314531320148,
          12570.776577984778,
          12614.599785943667,
          12885.550640458094,
          12960.923537769657
         ],
         "y": [
          112.3,
          112.2,
          112.3,
          113.1,
          113.6,
          113.8,
          114,
          114.5,
          115.3,
          115.5,
          115.2,
          113.4,
          111.5,
          110.1,
          110.1,
          114.9,
          118,
          118,
          117.9,
          117.9,
          117.9,
          119.5,
          120.3,
          120.7,
          121.2,
          121.3,
          121.9,
          119.9,
          125.2,
          129.3,
          129.6,
          129.7,
          129.9,
          130.1,
          131.4,
          144.6,
          153.5,
          154.2,
          155.4,
          156.7,
          154.7,
          157.5,
          157.8,
          158,
          158.2,
          158.2,
          158.3,
          158.3,
          158.3,
          158.4,
          158.4,
          158.4,
          158.5,
          158.8,
          159.4,
          159.9,
          157.8,
          155.2,
          151.5,
          149.2,
          146.8,
          144.7,
          142.9,
          144.7,
          146.2,
          149,
          153.7,
          160.7,
          167.8,
          180.4,
          179.8,
          179.7,
          179.7,
          179.6,
          179.5,
          179.3,
          179.3,
          173.9,
          171.7,
          165.6,
          164.8,
          163.9,
          161.7,
          161.5,
          162.5,
          163.7,
          168.4,
          170,
          169.5,
          169.4,
          169.1,
          168.6,
          167.2,
          153.8,
          149.2
         ]
        }
       ],
       "layout": {
        "legend": {
         "orientation": "h",
         "title": {
          "text": "Route"
         },
         "x": 1,
         "xanchor": "right",
         "y": 1.02,
         "yanchor": "bottom"
        },
        "template": {
         "data": {
          "bar": [
           {
            "error_x": {
             "color": "#2a3f5f"
            },
            "error_y": {
             "color": "#2a3f5f"
            },
            "marker": {
             "line": {
              "color": "white",
              "width": 0.5
             },
             "pattern": {
              "fillmode": "overlay",
              "size": 10,
              "solidity": 0.2
             }
            },
            "type": "bar"
           }
          ],
          "barpolar": [
           {
            "marker": {
             "line": {
              "color": "white",
              "width": 0.5
             },
             "pattern": {
              "fillmode": "overlay",
              "size": 10,
              "solidity": 0.2
             }
            },
            "type": "barpolar"
           }
          ],
          "carpet": [
           {
            "aaxis": {
             "endlinecolor": "#2a3f5f",
             "gridcolor": "#C8D4E3",
             "linecolor": "#C8D4E3",
             "minorgridcolor": "#C8D4E3",
             "startlinecolor": "#2a3f5f"
            },
            "baxis": {
             "endlinecolor": "#2a3f5f",
             "gridcolor": "#C8D4E3",
             "linecolor": "#C8D4E3",
             "minorgridcolor": "#C8D4E3",
             "startlinecolor": "#2a3f5f"
            },
            "type": "carpet"
           }
          ],
          "choropleth": [
           {
            "colorbar": {
             "outlinewidth": 0,
             "ticks": ""
            },
            "type": "choropleth"
           }
          ],
          "contour": [
           {
            "colorbar": {
             "outlinewidth": 0,
             "ticks": ""
            },
            "colorscale": [
             [
              0,
              "#0d0887"
             ],
             [
              0.1111111111111111,
              "#46039f"
             ],
             [
              0.2222222222222222,
              "#7201a8"
             ],
             [
              0.3333333333333333,
              "#9c179e"
             ],
             [
              0.4444444444444444,
              "#bd3786"
             ],
             [
              0.5555555555555556,
              "#d8576b"
             ],
             [
              0.6666666666666666,
              "#ed7953"
             ],
             [
              0.7777777777777778,
              "#fb9f3a"
             ],
             [
              0.8888888888888888,
              "#fdca26"
             ],
             [
              1,
              "#f0f921"
             ]
            ],
            "type": "contour"
           }
          ],
          "contourcarpet": [
           {
            "colorbar": {
             "outlinewidth": 0,
             "ticks": ""
            },
            "type": "contourcarpet"
           }
          ],
          "heatmap": [
           {
            "colorbar": {
             "outlinewidth": 0,
             "ticks": ""
            },
            "colorscale": [
             [
              0,
              "#0d0887"
             ],
             [
              0.1111111111111111,
              "#46039f"
             ],
             [
              0.2222222222222222,
              "#7201a8"
             ],
             [
              0.3333333333333333,
              "#9c179e"
             ],
             [
              0.4444444444444444,
              "#bd3786"
             ],
             [
              0.5555555555555556,
              "#d8576b"
             ],
             [
              0.6666666666666666,
              "#ed7953"
             ],
             [
              0.7777777777777778,
              "#fb9f3a"
             ],
             [
              0.8888888888888888,
              "#fdca26"
             ],
             [
              1,
              "#f0f921"
             ]
            ],
            "type": "heatmap"
           }
          ],
          "heatmapgl": [
           {
            "colorbar": {
             "outlinewidth": 0,
             "ticks": ""
            },
            "colorscale": [
             [
              0,
              "#0d0887"
             ],
             [
              0.1111111111111111,
              "#46039f"
             ],
             [
              0.2222222222222222,
              "#7201a8"
             ],
             [
              0.3333333333333333,
              "#9c179e"
             ],
             [
              0.4444444444444444,
              "#bd3786"
             ],
             [
              0.5555555555555556,
              "#d8576b"
             ],
             [
              0.6666666666666666,
              "#ed7953"
             ],
             [
              0.7777777777777778,
              "#fb9f3a"
             ],
             [
              0.8888888888888888,
              "#fdca26"
             ],
             [
              1,
              "#f0f921"
             ]
            ],
            "type": "heatmapgl"
           }
          ],
          "histogram": [
           {
            "marker": {
             "pattern": {
              "fillmode": "overlay",
              "size": 10,
              "solidity": 0.2
             }
            },
            "type": "histogram"
           }
          ],
          "histogram2d": [
           {
            "colorbar": {
             "outlinewidth": 0,
             "ticks": ""
            },
            "colorscale": [
             [
              0,
              "#0d0887"
             ],
             [
              0.1111111111111111,
              "#46039f"
             ],
             [
              0.2222222222222222,
              "#7201a8"
             ],
             [
              0.3333333333333333,
              "#9c179e"
             ],
             [
              0.4444444444444444,
              "#bd3786"
             ],
             [
              0.5555555555555556,
              "#d8576b"
             ],
             [
              0.6666666666666666,
              "#ed7953"
             ],
             [
              0.7777777777777778,
              "#fb9f3a"
             ],
             [
              0.8888888888888888,
              "#fdca26"
             ],
             [
              1,
              "#f0f921"
             ]
            ],
            "type": "histogram2d"
           }
          ],
          "histogram2dcontour": [
           {
            "colorbar": {
             "outlinewidth": 0,
             "ticks": ""
            },
            "colorscale": [
             [
              0,
              "#0d0887"
             ],
             [
              0.1111111111111111,
              "#46039f"
             ],
             [
              0.2222222222222222,
              "#7201a8"
             ],
             [
              0.3333333333333333,
              "#9c179e"
             ],
             [
              0.4444444444444444,
              "#bd3786"
             ],
             [
              0.5555555555555556,
              "#d8576b"
             ],
             [
              0.6666666666666666,
              "#ed7953"
             ],
             [
              0.7777777777777778,
              "#fb9f3a"
             ],
             [
              0.8888888888888888,
              "#fdca26"
             ],
             [
              1,
              "#f0f921"
             ]
            ],
            "type": "histogram2dcontour"
           }
          ],
          "mesh3d": [
           {
            "colorbar": {
             "outlinewidth": 0,
             "ticks": ""
            },
            "type": "mesh3d"
           }
          ],
          "parcoords": [
           {
            "line": {
             "colorbar": {
              "outlinewidth": 0,
              "ticks": ""
             }
            },
            "type": "parcoords"
           }
          ],
          "pie": [
           {
            "automargin": true,
            "type": "pie"
           }
          ],
          "scatter": [
           {
            "fillpattern": {
             "fillmode": "overlay",
             "size": 10,
             "solidity": 0.2
            },
            "type": "scatter"
           }
          ],
          "scatter3d": [
           {
            "line": {
             "colorbar": {
              "outlinewidth": 0,
              "ticks": ""
             }
            },
            "marker": {
             "colorbar": {
              "outlinewidth": 0,
              "ticks": ""
             }
            },
            "type": "scatter3d"
           }
          ],
          "scattercarpet": [
           {
            "marker": {
             "colorbar": {
              "outlinewidth": 0,
              "ticks": ""
             }
            },
            "type": "scattercarpet"
           }
          ],
          "scattergeo": [
           {
            "marker": {
             "colorbar": {
              "outlinewidth": 0,
              "ticks": ""
             }
            },
            "type": "scattergeo"
           }
          ],
          "scattergl": [
           {
            "marker": {
             "colorbar": {
              "outlinewidth": 0,
              "ticks": ""
             }
            },
            "type": "scattergl"
           }
          ],
          "scattermapbox": [
           {
            "marker": {
             "colorbar": {
              "outlinewidth": 0,
              "ticks": ""
             }
            },
            "type": "scattermapbox"
           }
          ],
          "scatterpolar": [
           {
            "marker": {
             "colorbar": {
              "outlinewidth": 0,
              "ticks": ""
             }
            },
            "type": "scatterpolar"
           }
          ],
          "scatterpolargl": [
           {
            "marker": {
             "colorbar": {
              "outlinewidth": 0,
              "ticks": ""
             }
            },
            "type": "scatterpolargl"
           }
          ],
          "scatterternary": [
           {
            "marker": {
             "colorbar": {
              "outlinewidth": 0,
              "ticks": ""
             }
            },
            "type": "scatterternary"
           }
          ],
          "surface": [
           {
            "colorbar": {
             "outlinewidth": 0,
             "ticks": ""
            },
            "colorscale": [
             [
              0,
              "#0d0887"
             ],
             [
              0.1111111111111111,
              "#46039f"
             ],
             [
              0.2222222222222222,
              "#7201a8"
             ],
             [
              0.3333333333333333,
              "#9c179e"
             ],
             [
              0.4444444444444444,
              "#bd3786"
             ],
             [
              0.5555555555555556,
              "#d8576b"
             ],
             [
              0.6666666666666666,
              "#ed7953"
             ],
             [
              0.7777777777777778,
              "#fb9f3a"
             ],
             [
              0.8888888888888888,
              "#fdca26"
             ],
             [
              1,
              "#f0f921"
             ]
            ],
            "type": "surface"
           }
          ],
          "table": [
           {
            "cells": {
             "fill": {
              "color": "#EBF0F8"
             },
             "line": {
              "color": "white"
             }
            },
            "header": {
             "fill": {
              "color": "#C8D4E3"
             },
             "line": {
              "color": "white"
             }
            },
            "type": "table"
           }
          ]
         },
         "layout": {
          "annotationdefaults": {
           "arrowcolor": "#2a3f5f",
           "arrowhead": 0,
           "arrowwidth": 1
          },
          "autotypenumbers": "strict",
          "coloraxis": {
           "colorbar": {
            "outlinewidth": 0,
            "ticks": ""
           }
          },
          "colorscale": {
           "diverging": [
            [
             0,
             "#8e0152"
            ],
            [
             0.1,
             "#c51b7d"
            ],
            [
             0.2,
             "#de77ae"
            ],
            [
             0.3,
             "#f1b6da"
            ],
            [
             0.4,
             "#fde0ef"
            ],
            [
             0.5,
             "#f7f7f7"
            ],
            [
             0.6,
             "#e6f5d0"
            ],
            [
             0.7,
             "#b8e186"
            ],
            [
             0.8,
             "#7fbc41"
            ],
            [
             0.9,
             "#4d9221"
            ],
            [
             1,
             "#276419"
            ]
           ],
           "sequential": [
            [
             0,
             "#0d0887"
            ],
            [
             0.1111111111111111,
             "#46039f"
            ],
            [
             0.2222222222222222,
             "#7201a8"
            ],
            [
             0.3333333333333333,
             "#9c179e"
            ],
            [
             0.4444444444444444,
             "#bd3786"
            ],
            [
             0.5555555555555556,
             "#d8576b"
            ],
            [
             0.6666666666666666,
             "#ed7953"
            ],
            [
             0.7777777777777778,
             "#fb9f3a"
            ],
            [
             0.8888888888888888,
             "#fdca26"
            ],
            [
             1,
             "#f0f921"
            ]
           ],
           "sequentialminus": [
            [
             0,
             "#0d0887"
            ],
            [
             0.1111111111111111,
             "#46039f"
            ],
            [
             0.2222222222222222,
             "#7201a8"
            ],
            [
             0.3333333333333333,
             "#9c179e"
            ],
            [
             0.4444444444444444,
             "#bd3786"
            ],
            [
             0.5555555555555556,
             "#d8576b"
            ],
            [
             0.6666666666666666,
             "#ed7953"
            ],
            [
             0.7777777777777778,
             "#fb9f3a"
            ],
            [
             0.8888888888888888,
             "#fdca26"
            ],
            [
             1,
             "#f0f921"
            ]
           ]
          },
          "colorway": [
           "#636efa",
           "#EF553B",
           "#00cc96",
           "#ab63fa",
           "#FFA15A",
           "#19d3f3",
           "#FF6692",
           "#B6E880",
           "#FF97FF",
           "#FECB52"
          ],
          "font": {
           "color": "#2a3f5f"
          },
          "geo": {
           "bgcolor": "white",
           "lakecolor": "white",
           "landcolor": "white",
           "showlakes": true,
           "showland": true,
           "subunitcolor": "#C8D4E3"
          },
          "hoverlabel": {
           "align": "left"
          },
          "hovermode": "closest",
          "mapbox": {
           "style": "light"
          },
          "paper_bgcolor": "white",
          "plot_bgcolor": "white",
          "polar": {
           "angularaxis": {
            "gridcolor": "#EBF0F8",
            "linecolor": "#EBF0F8",
            "ticks": ""
           },
           "bgcolor": "white",
           "radialaxis": {
            "gridcolor": "#EBF0F8",
            "linecolor": "#EBF0F8",
            "ticks": ""
           }
          },
          "scene": {
           "xaxis": {
            "backgroundcolor": "white",
            "gridcolor": "#DFE8F3",
            "gridwidth": 2,
            "linecolor": "#EBF0F8",
            "showbackground": true,
            "ticks": "",
            "zerolinecolor": "#EBF0F8"
           },
           "yaxis": {
            "backgroundcolor": "white",
            "gridcolor": "#DFE8F3",
            "gridwidth": 2,
            "linecolor": "#EBF0F8",
            "showbackground": true,
            "ticks": "",
            "zerolinecolor": "#EBF0F8"
           },
           "zaxis": {
            "backgroundcolor": "white",
            "gridcolor": "#DFE8F3",
            "gridwidth": 2,
            "linecolor": "#EBF0F8",
            "showbackground": true,
            "ticks": "",
            "zerolinecolor": "#EBF0F8"
           }
          },
          "shapedefaults": {
           "line": {
            "color": "#2a3f5f"
           }
          },
          "ternary": {
           "aaxis": {
            "gridcolor": "#DFE8F3",
            "linecolor": "#A2B1C6",
            "ticks": ""
           },
           "baxis": {
            "gridcolor": "#DFE8F3",
            "linecolor": "#A2B1C6",
            "ticks": ""
           },
           "bgcolor": "white",
           "caxis": {
            "gridcolor": "#DFE8F3",
            "linecolor": "#A2B1C6",
            "ticks": ""
           }
          },
          "title": {
           "x": 0.05
          },
          "xaxis": {
           "automargin": true,
           "gridcolor": "#EBF0F8",
           "linecolor": "#EBF0F8",
           "ticks": "",
           "title": {
            "standoff": 15
           },
           "zerolinecolor": "#EBF0F8",
           "zerolinewidth": 2
          },
          "yaxis": {
           "automargin": true,
           "gridcolor": "#EBF0F8",
           "linecolor": "#EBF0F8",
           "ticks": "",
           "title": {
            "standoff": 15
           },
           "zerolinecolor": "#EBF0F8",
           "zerolinewidth": 2
          }
         }
        },
        "title": {
         "text": "Elevation Profile of the Primary Route"
        },
        "xaxis": {
         "title": {
          "text": "Distance (m)"
         }
        },
        "yaxis": {
         "title": {
          "text": "Elevation (m)"
         }
        }
       }
      }
     },
     "metadata": {},
     "output_type": "display_data"
    }
   ],
   "source": [
    "\n",
    "def extract_elevation_and_distance(gpx_file_path):\n",
    "    with open(gpx_file_path, 'r') as gpx_file:\n",
    "        gpx = gpxpy.parse(gpx_file)\n",
    "\n",
    "    elevations = []\n",
    "    distances = []\n",
    "    cumulative_distance = 0\n",
    "    previous_point = None\n",
    "\n",
    "    for track in gpx.tracks:\n",
    "        for segment in track.segments:\n",
    "            for point in segment.points:\n",
    "                elevations.append(point.elevation)\n",
    "                if previous_point is not None:\n",
    "                    distance = point.distance_2d(previous_point)\n",
    "                    cumulative_distance += distance\n",
    "                distances.append(cumulative_distance)\n",
    "                previous_point = point\n",
    "\n",
    "    return elevations, distances\n",
    "\n",
    "\n",
    "# Extract elevation and distance data for the primary route\n",
    "elevations_route, distances_route = extract_elevation_and_distance(route_path)\n",
    "\n",
    "# Create the Plotly figure for the primary route\n",
    "fig = go.Figure()\n",
    "\n",
    "# Add trace for the primary route\n",
    "fig.add_trace(go.Scatter(x=distances_route, y=elevations_route,\n",
    "              mode='lines', name='Primary Route Elevation Profile'))\n",
    "\n",
    "# Update layout\n",
    "fig.update_layout(\n",
    "    title='Elevation Profile of the Primary Route',\n",
    "    xaxis_title='Distance (m)',\n",
    "    yaxis_title='Elevation (m)',\n",
    "    legend_title='Route',\n",
    "    legend=dict(\n",
    "        orientation=\"h\",\n",
    "        yanchor=\"bottom\",\n",
    "        y=1.02,\n",
    "        xanchor=\"right\",\n",
    "        x=1\n",
    "    ),\n",
    "    template='plotly_white'\n",
    ")\n",
    "\n",
    "# Show the plot\n",
    "fig.show()"
   ]
  },
  {
   "cell_type": "code",
   "execution_count": 19,
   "metadata": {},
   "outputs": [
    {
     "data": {
      "application/vnd.plotly.v1+json": {
       "config": {
        "plotlyServerURL": "https://plot.ly"
       },
       "data": [
        {
         "mode": "lines",
         "name": "Primary Route Elevation Profile",
         "type": "scatter",
         "x": [
          0,
          4.448415396484462,
          9.466592667872241,
          62.960022378776664,
          155.24134533307043,
          191.12022111635756,
          224.25214015390048,
          262.16731226038576,
          326.6365875888588,
          346.5072959726754,
          379.4479255584373,
          561.3018508996367,
          726.7977545501067,
          866.9151909754825,
          880.6400778323458,
          2575.023931060013,
          4087.076570605774,
          4118.354772174044,
          4143.564658441464,
          4153.959788978687,
          4157.839886083589,
          4426.044575848857,
          4558.704121831363,
          4622.171823519403,
          4690.399070010029,
          4721.412858941657,
          4814.955987131976,
          4948.222991072043,
          5331.65804475962,
          5534.407649632046,
          5640.999256507236,
          5673.299540942824,
          5710.803837272449,
          5789.183120433162,
          6172.269843103895,
          6524.690762368397,
          6759.582067826248,
          6915.4649402534,
          7281.764409846914,
          7648.225714066075,
          7918.39509482754,
          8348.699857057507,
          8391.909119157246,
          8427.493636630164,
          8458.530163954925,
          8487.793826525489,
          8508.355031446483,
          8531.570466330311,
          8561.361188757206,
          8592.562496089253,
          8620.303373962955,
          8645.892488897332,
          8672.782750774906,
          8688.318458146226,
          8707.575938997707,
          8812.357038010447,
          8838.656069425035,
          8867.107443557325,
          8906.89527068263,
          8932.21276083285,
          8958.63898764582,
          8980.707792759296,
          9000.562976866206,
          9133.296599416548,
          9213.341236171591,
          9415.074734970032,
          10051.379662892272,
          10349.68383235108,
          10651.481545727933,
          11150.735962468027,
          11250.084223643198,
          11269.799927109503,
          11279.233514273285,
          11295.081807249875,
          11319.841416926309,
          11346.579393894548,
          11606.460089595026,
          11899.651241394151,
          11932.51537661595,
          12025.708850234872,
          12040.676936389906,
          12057.586160042169,
          12113.964617562784,
          12133.955546646615,
          12167.630469250966,
          12203.76083377384,
          12358.604143340794,
          12409.838753986536,
          12488.981778820324,
          12515.14481356062,
          12554.314531320148,
          12570.776577984778,
          12614.599785943667,
          12885.550640458094,
          12960.923537769657
         ],
         "y": [
          112.3,
          112.2,
          112.3,
          113.1,
          113.6,
          113.8,
          114,
          114.5,
          115.3,
          115.5,
          115.2,
          113.4,
          111.5,
          110.1,
          110.1,
          114.9,
          118,
          118,
          117.9,
          117.9,
          117.9,
          119.5,
          120.3,
          120.7,
          121.2,
          121.3,
          121.9,
          119.9,
          125.2,
          129.3,
          129.6,
          129.7,
          129.9,
          130.1,
          131.4,
          144.6,
          153.5,
          154.2,
          155.4,
          156.7,
          154.7,
          157.5,
          157.8,
          158,
          158.2,
          158.2,
          158.3,
          158.3,
          158.3,
          158.4,
          158.4,
          158.4,
          158.5,
          158.8,
          159.4,
          159.9,
          157.8,
          155.2,
          151.5,
          149.2,
          146.8,
          144.7,
          142.9,
          144.7,
          146.2,
          149,
          153.7,
          160.7,
          167.8,
          180.4,
          179.8,
          179.7,
          179.7,
          179.6,
          179.5,
          179.3,
          179.3,
          173.9,
          171.7,
          165.6,
          164.8,
          163.9,
          161.7,
          161.5,
          162.5,
          163.7,
          168.4,
          170,
          169.5,
          169.4,
          169.1,
          168.6,
          167.2,
          153.8,
          149.2
         ]
        },
        {
         "mode": "lines",
         "name": "Elevation Derivative (Slope)",
         "type": "scatter",
         "x": [
          0,
          4.448415396484462,
          9.466592667872241,
          62.960022378776664,
          155.24134533307043,
          191.12022111635756,
          224.25214015390048,
          262.16731226038576,
          326.6365875888588,
          346.5072959726754,
          379.4479255584373,
          561.3018508996367,
          726.7977545501067,
          866.9151909754825,
          880.6400778323458,
          2575.023931060013,
          4087.076570605774,
          4118.354772174044,
          4143.564658441464,
          4153.959788978687,
          4157.839886083589,
          4426.044575848857,
          4558.704121831363,
          4622.171823519403,
          4690.399070010029,
          4721.412858941657,
          4814.955987131976,
          4948.222991072043,
          5331.65804475962,
          5534.407649632046,
          5640.999256507236,
          5673.299540942824,
          5710.803837272449,
          5789.183120433162,
          6172.269843103895,
          6524.690762368397,
          6759.582067826248,
          6915.4649402534,
          7281.764409846914,
          7648.225714066075,
          7918.39509482754,
          8348.699857057507,
          8391.909119157246,
          8427.493636630164,
          8458.530163954925,
          8487.793826525489,
          8508.355031446483,
          8531.570466330311,
          8561.361188757206,
          8592.562496089253,
          8620.303373962955,
          8645.892488897332,
          8672.782750774906,
          8688.318458146226,
          8707.575938997707,
          8812.357038010447,
          8838.656069425035,
          8867.107443557325,
          8906.89527068263,
          8932.21276083285,
          8958.63898764582,
          8980.707792759296,
          9000.562976866206,
          9133.296599416548,
          9213.341236171591,
          9415.074734970032,
          10051.379662892272,
          10349.68383235108,
          10651.481545727933,
          11150.735962468027,
          11250.084223643198,
          11269.799927109503,
          11279.233514273285,
          11295.081807249875,
          11319.841416926309,
          11346.579393894548,
          11606.460089595026,
          11899.651241394151,
          11932.51537661595,
          12025.708850234872,
          12040.676936389906,
          12057.586160042169,
          12113.964617562784,
          12133.955546646615,
          12167.630469250966,
          12203.76083377384,
          12358.604143340794,
          12409.838753986536,
          12488.981778820324,
          12515.14481356062,
          12554.314531320148,
          12570.776577984778,
          12614.599785943667,
          12885.550640458094,
          12960.923537769657
         ],
         "y": [
          -0.022479915000524302,
          -0.0025523607130004677,
          0.019501098410190654,
          0.011455454142835775,
          0.005530611017198872,
          0.005814590983820311,
          0.00937118783760349,
          0.01289910385455939,
          0.010617305756300155,
          0.0028513051677037105,
          -0.00922856405341782,
          -0.01072661556823934,
          -0.010674307447695042,
          -0.0008913921308906225,
          0.00002276264321829911,
          0.0024192870452920748,
          0.0000415506213147232,
          -0.0021964130423275385,
          -0.0011581048113544767,
          0,
          0.0000850730395697925,
          0.006009002944214359,
          0.006214415933358808,
          0.006796893622099565,
          0.004506936622653779,
          0.0040186051928041144,
          -0.00242074833866307,
          -0.0075717059927972175,
          0.018008504250246193,
          0.008812692465253846,
          0.0030304907352345367,
          0.004130958115549754,
          0.004432676936497626,
          0.0026946718801693706,
          0.021134423682426656,
          0.03771602875197405,
          0.017813798574656703,
          0.004127983355377729,
          0.003411694733157916,
          -0.002755783410964441,
          -0.002037830878708402,
          0.006903175344536994,
          0.00621769914559378,
          0.006060332992763318,
          0.0031272807690094773,
          0.002856498278281272,
          0.002579204863191631,
          4.440892098500626e-16,
          0.0015654354240384194,
          0.0015084161597975765,
          0,
          0.0018133079434043964,
          0.013600984131501015,
          0.024599944383480565,
          0.027060367567848742,
          -0.06287272244369113,
          -0.0853907233950868,
          -0.09205495323104618,
          -0.09168118289869742,
          -0.09083287165140064,
          -0.09318279909140514,
          -0.0927878675956717,
          -0.07709542949205872,
          0.016791435873497296,
          0.01735900890730993,
          0.01231662324078861,
          0.01833377408513459,
          0.023495662655290184,
          0.0241706686878638,
          -0.0008484134741126859,
          -0.005232267098562282,
          -0.0016414837913441005,
          -0.0023544257960113057,
          -0.005423513996820617,
          -0.005693317640264706,
          -0.006782206223723816,
          -0.008654368201068519,
          -0.06205136355715091,
          -0.06655459135847935,
          -0.055108815298929414,
          -0.05334296649064019,
          -0.04994832592318654,
          -0.017600329500846,
          0.004784091954206371,
          0.031392511735036877,
          0.03267201533952868,
          0.031011193851902874,
          0.016474183631879247,
          -0.004442184893480139,
          -0.005358660990745889,
          -0.023651598210023828,
          -0.030802609172205564,
          -0.03438415510317051,
          -0.05851086911613179,
          -0.06102989488363916
         ],
         "yaxis": "y2"
        }
       ],
       "layout": {
        "legend": {
         "orientation": "h",
         "x": 1,
         "xanchor": "right",
         "y": 1.02,
         "yanchor": "bottom"
        },
        "template": {
         "data": {
          "bar": [
           {
            "error_x": {
             "color": "#2a3f5f"
            },
            "error_y": {
             "color": "#2a3f5f"
            },
            "marker": {
             "line": {
              "color": "white",
              "width": 0.5
             },
             "pattern": {
              "fillmode": "overlay",
              "size": 10,
              "solidity": 0.2
             }
            },
            "type": "bar"
           }
          ],
          "barpolar": [
           {
            "marker": {
             "line": {
              "color": "white",
              "width": 0.5
             },
             "pattern": {
              "fillmode": "overlay",
              "size": 10,
              "solidity": 0.2
             }
            },
            "type": "barpolar"
           }
          ],
          "carpet": [
           {
            "aaxis": {
             "endlinecolor": "#2a3f5f",
             "gridcolor": "#C8D4E3",
             "linecolor": "#C8D4E3",
             "minorgridcolor": "#C8D4E3",
             "startlinecolor": "#2a3f5f"
            },
            "baxis": {
             "endlinecolor": "#2a3f5f",
             "gridcolor": "#C8D4E3",
             "linecolor": "#C8D4E3",
             "minorgridcolor": "#C8D4E3",
             "startlinecolor": "#2a3f5f"
            },
            "type": "carpet"
           }
          ],
          "choropleth": [
           {
            "colorbar": {
             "outlinewidth": 0,
             "ticks": ""
            },
            "type": "choropleth"
           }
          ],
          "contour": [
           {
            "colorbar": {
             "outlinewidth": 0,
             "ticks": ""
            },
            "colorscale": [
             [
              0,
              "#0d0887"
             ],
             [
              0.1111111111111111,
              "#46039f"
             ],
             [
              0.2222222222222222,
              "#7201a8"
             ],
             [
              0.3333333333333333,
              "#9c179e"
             ],
             [
              0.4444444444444444,
              "#bd3786"
             ],
             [
              0.5555555555555556,
              "#d8576b"
             ],
             [
              0.6666666666666666,
              "#ed7953"
             ],
             [
              0.7777777777777778,
              "#fb9f3a"
             ],
             [
              0.8888888888888888,
              "#fdca26"
             ],
             [
              1,
              "#f0f921"
             ]
            ],
            "type": "contour"
           }
          ],
          "contourcarpet": [
           {
            "colorbar": {
             "outlinewidth": 0,
             "ticks": ""
            },
            "type": "contourcarpet"
           }
          ],
          "heatmap": [
           {
            "colorbar": {
             "outlinewidth": 0,
             "ticks": ""
            },
            "colorscale": [
             [
              0,
              "#0d0887"
             ],
             [
              0.1111111111111111,
              "#46039f"
             ],
             [
              0.2222222222222222,
              "#7201a8"
             ],
             [
              0.3333333333333333,
              "#9c179e"
             ],
             [
              0.4444444444444444,
              "#bd3786"
             ],
             [
              0.5555555555555556,
              "#d8576b"
             ],
             [
              0.6666666666666666,
              "#ed7953"
             ],
             [
              0.7777777777777778,
              "#fb9f3a"
             ],
             [
              0.8888888888888888,
              "#fdca26"
             ],
             [
              1,
              "#f0f921"
             ]
            ],
            "type": "heatmap"
           }
          ],
          "heatmapgl": [
           {
            "colorbar": {
             "outlinewidth": 0,
             "ticks": ""
            },
            "colorscale": [
             [
              0,
              "#0d0887"
             ],
             [
              0.1111111111111111,
              "#46039f"
             ],
             [
              0.2222222222222222,
              "#7201a8"
             ],
             [
              0.3333333333333333,
              "#9c179e"
             ],
             [
              0.4444444444444444,
              "#bd3786"
             ],
             [
              0.5555555555555556,
              "#d8576b"
             ],
             [
              0.6666666666666666,
              "#ed7953"
             ],
             [
              0.7777777777777778,
              "#fb9f3a"
             ],
             [
              0.8888888888888888,
              "#fdca26"
             ],
             [
              1,
              "#f0f921"
             ]
            ],
            "type": "heatmapgl"
           }
          ],
          "histogram": [
           {
            "marker": {
             "pattern": {
              "fillmode": "overlay",
              "size": 10,
              "solidity": 0.2
             }
            },
            "type": "histogram"
           }
          ],
          "histogram2d": [
           {
            "colorbar": {
             "outlinewidth": 0,
             "ticks": ""
            },
            "colorscale": [
             [
              0,
              "#0d0887"
             ],
             [
              0.1111111111111111,
              "#46039f"
             ],
             [
              0.2222222222222222,
              "#7201a8"
             ],
             [
              0.3333333333333333,
              "#9c179e"
             ],
             [
              0.4444444444444444,
              "#bd3786"
             ],
             [
              0.5555555555555556,
              "#d8576b"
             ],
             [
              0.6666666666666666,
              "#ed7953"
             ],
             [
              0.7777777777777778,
              "#fb9f3a"
             ],
             [
              0.8888888888888888,
              "#fdca26"
             ],
             [
              1,
              "#f0f921"
             ]
            ],
            "type": "histogram2d"
           }
          ],
          "histogram2dcontour": [
           {
            "colorbar": {
             "outlinewidth": 0,
             "ticks": ""
            },
            "colorscale": [
             [
              0,
              "#0d0887"
             ],
             [
              0.1111111111111111,
              "#46039f"
             ],
             [
              0.2222222222222222,
              "#7201a8"
             ],
             [
              0.3333333333333333,
              "#9c179e"
             ],
             [
              0.4444444444444444,
              "#bd3786"
             ],
             [
              0.5555555555555556,
              "#d8576b"
             ],
             [
              0.6666666666666666,
              "#ed7953"
             ],
             [
              0.7777777777777778,
              "#fb9f3a"
             ],
             [
              0.8888888888888888,
              "#fdca26"
             ],
             [
              1,
              "#f0f921"
             ]
            ],
            "type": "histogram2dcontour"
           }
          ],
          "mesh3d": [
           {
            "colorbar": {
             "outlinewidth": 0,
             "ticks": ""
            },
            "type": "mesh3d"
           }
          ],
          "parcoords": [
           {
            "line": {
             "colorbar": {
              "outlinewidth": 0,
              "ticks": ""
             }
            },
            "type": "parcoords"
           }
          ],
          "pie": [
           {
            "automargin": true,
            "type": "pie"
           }
          ],
          "scatter": [
           {
            "fillpattern": {
             "fillmode": "overlay",
             "size": 10,
             "solidity": 0.2
            },
            "type": "scatter"
           }
          ],
          "scatter3d": [
           {
            "line": {
             "colorbar": {
              "outlinewidth": 0,
              "ticks": ""
             }
            },
            "marker": {
             "colorbar": {
              "outlinewidth": 0,
              "ticks": ""
             }
            },
            "type": "scatter3d"
           }
          ],
          "scattercarpet": [
           {
            "marker": {
             "colorbar": {
              "outlinewidth": 0,
              "ticks": ""
             }
            },
            "type": "scattercarpet"
           }
          ],
          "scattergeo": [
           {
            "marker": {
             "colorbar": {
              "outlinewidth": 0,
              "ticks": ""
             }
            },
            "type": "scattergeo"
           }
          ],
          "scattergl": [
           {
            "marker": {
             "colorbar": {
              "outlinewidth": 0,
              "ticks": ""
             }
            },
            "type": "scattergl"
           }
          ],
          "scattermapbox": [
           {
            "marker": {
             "colorbar": {
              "outlinewidth": 0,
              "ticks": ""
             }
            },
            "type": "scattermapbox"
           }
          ],
          "scatterpolar": [
           {
            "marker": {
             "colorbar": {
              "outlinewidth": 0,
              "ticks": ""
             }
            },
            "type": "scatterpolar"
           }
          ],
          "scatterpolargl": [
           {
            "marker": {
             "colorbar": {
              "outlinewidth": 0,
              "ticks": ""
             }
            },
            "type": "scatterpolargl"
           }
          ],
          "scatterternary": [
           {
            "marker": {
             "colorbar": {
              "outlinewidth": 0,
              "ticks": ""
             }
            },
            "type": "scatterternary"
           }
          ],
          "surface": [
           {
            "colorbar": {
             "outlinewidth": 0,
             "ticks": ""
            },
            "colorscale": [
             [
              0,
              "#0d0887"
             ],
             [
              0.1111111111111111,
              "#46039f"
             ],
             [
              0.2222222222222222,
              "#7201a8"
             ],
             [
              0.3333333333333333,
              "#9c179e"
             ],
             [
              0.4444444444444444,
              "#bd3786"
             ],
             [
              0.5555555555555556,
              "#d8576b"
             ],
             [
              0.6666666666666666,
              "#ed7953"
             ],
             [
              0.7777777777777778,
              "#fb9f3a"
             ],
             [
              0.8888888888888888,
              "#fdca26"
             ],
             [
              1,
              "#f0f921"
             ]
            ],
            "type": "surface"
           }
          ],
          "table": [
           {
            "cells": {
             "fill": {
              "color": "#EBF0F8"
             },
             "line": {
              "color": "white"
             }
            },
            "header": {
             "fill": {
              "color": "#C8D4E3"
             },
             "line": {
              "color": "white"
             }
            },
            "type": "table"
           }
          ]
         },
         "layout": {
          "annotationdefaults": {
           "arrowcolor": "#2a3f5f",
           "arrowhead": 0,
           "arrowwidth": 1
          },
          "autotypenumbers": "strict",
          "coloraxis": {
           "colorbar": {
            "outlinewidth": 0,
            "ticks": ""
           }
          },
          "colorscale": {
           "diverging": [
            [
             0,
             "#8e0152"
            ],
            [
             0.1,
             "#c51b7d"
            ],
            [
             0.2,
             "#de77ae"
            ],
            [
             0.3,
             "#f1b6da"
            ],
            [
             0.4,
             "#fde0ef"
            ],
            [
             0.5,
             "#f7f7f7"
            ],
            [
             0.6,
             "#e6f5d0"
            ],
            [
             0.7,
             "#b8e186"
            ],
            [
             0.8,
             "#7fbc41"
            ],
            [
             0.9,
             "#4d9221"
            ],
            [
             1,
             "#276419"
            ]
           ],
           "sequential": [
            [
             0,
             "#0d0887"
            ],
            [
             0.1111111111111111,
             "#46039f"
            ],
            [
             0.2222222222222222,
             "#7201a8"
            ],
            [
             0.3333333333333333,
             "#9c179e"
            ],
            [
             0.4444444444444444,
             "#bd3786"
            ],
            [
             0.5555555555555556,
             "#d8576b"
            ],
            [
             0.6666666666666666,
             "#ed7953"
            ],
            [
             0.7777777777777778,
             "#fb9f3a"
            ],
            [
             0.8888888888888888,
             "#fdca26"
            ],
            [
             1,
             "#f0f921"
            ]
           ],
           "sequentialminus": [
            [
             0,
             "#0d0887"
            ],
            [
             0.1111111111111111,
             "#46039f"
            ],
            [
             0.2222222222222222,
             "#7201a8"
            ],
            [
             0.3333333333333333,
             "#9c179e"
            ],
            [
             0.4444444444444444,
             "#bd3786"
            ],
            [
             0.5555555555555556,
             "#d8576b"
            ],
            [
             0.6666666666666666,
             "#ed7953"
            ],
            [
             0.7777777777777778,
             "#fb9f3a"
            ],
            [
             0.8888888888888888,
             "#fdca26"
            ],
            [
             1,
             "#f0f921"
            ]
           ]
          },
          "colorway": [
           "#636efa",
           "#EF553B",
           "#00cc96",
           "#ab63fa",
           "#FFA15A",
           "#19d3f3",
           "#FF6692",
           "#B6E880",
           "#FF97FF",
           "#FECB52"
          ],
          "font": {
           "color": "#2a3f5f"
          },
          "geo": {
           "bgcolor": "white",
           "lakecolor": "white",
           "landcolor": "white",
           "showlakes": true,
           "showland": true,
           "subunitcolor": "#C8D4E3"
          },
          "hoverlabel": {
           "align": "left"
          },
          "hovermode": "closest",
          "mapbox": {
           "style": "light"
          },
          "paper_bgcolor": "white",
          "plot_bgcolor": "white",
          "polar": {
           "angularaxis": {
            "gridcolor": "#EBF0F8",
            "linecolor": "#EBF0F8",
            "ticks": ""
           },
           "bgcolor": "white",
           "radialaxis": {
            "gridcolor": "#EBF0F8",
            "linecolor": "#EBF0F8",
            "ticks": ""
           }
          },
          "scene": {
           "xaxis": {
            "backgroundcolor": "white",
            "gridcolor": "#DFE8F3",
            "gridwidth": 2,
            "linecolor": "#EBF0F8",
            "showbackground": true,
            "ticks": "",
            "zerolinecolor": "#EBF0F8"
           },
           "yaxis": {
            "backgroundcolor": "white",
            "gridcolor": "#DFE8F3",
            "gridwidth": 2,
            "linecolor": "#EBF0F8",
            "showbackground": true,
            "ticks": "",
            "zerolinecolor": "#EBF0F8"
           },
           "zaxis": {
            "backgroundcolor": "white",
            "gridcolor": "#DFE8F3",
            "gridwidth": 2,
            "linecolor": "#EBF0F8",
            "showbackground": true,
            "ticks": "",
            "zerolinecolor": "#EBF0F8"
           }
          },
          "shapedefaults": {
           "line": {
            "color": "#2a3f5f"
           }
          },
          "ternary": {
           "aaxis": {
            "gridcolor": "#DFE8F3",
            "linecolor": "#A2B1C6",
            "ticks": ""
           },
           "baxis": {
            "gridcolor": "#DFE8F3",
            "linecolor": "#A2B1C6",
            "ticks": ""
           },
           "bgcolor": "white",
           "caxis": {
            "gridcolor": "#DFE8F3",
            "linecolor": "#A2B1C6",
            "ticks": ""
           }
          },
          "title": {
           "x": 0.05
          },
          "xaxis": {
           "automargin": true,
           "gridcolor": "#EBF0F8",
           "linecolor": "#EBF0F8",
           "ticks": "",
           "title": {
            "standoff": 15
           },
           "zerolinecolor": "#EBF0F8",
           "zerolinewidth": 2
          },
          "yaxis": {
           "automargin": true,
           "gridcolor": "#EBF0F8",
           "linecolor": "#EBF0F8",
           "ticks": "",
           "title": {
            "standoff": 15
           },
           "zerolinecolor": "#EBF0F8",
           "zerolinewidth": 2
          }
         }
        },
        "title": {
         "text": "Elevation Profile and Derivative of the Primary Route"
        },
        "xaxis": {
         "title": {
          "text": "Distance (m)"
         }
        },
        "yaxis": {
         "title": {
          "text": "Elevation (m)"
         }
        },
        "yaxis2": {
         "overlaying": "y",
         "side": "right",
         "title": {
          "text": "Slope"
         }
        }
       }
      }
     },
     "metadata": {},
     "output_type": "display_data"
    }
   ],
   "source": [
    "import numpy as np\n",
    "\n",
    "def extract_elevation_and_distance(gpx_file_path):\n",
    "    with open(gpx_file_path, 'r') as gpx_file:\n",
    "        gpx = gpxpy.parse(gpx_file)\n",
    "\n",
    "    elevations = []\n",
    "    distances = []\n",
    "    cumulative_distance = 0\n",
    "    previous_point = None\n",
    "\n",
    "    for track in gpx.tracks:\n",
    "        for segment in track.segments:\n",
    "            for point in segment.points:\n",
    "                elevations.append(point.elevation)\n",
    "                if previous_point is not None:\n",
    "                    distance = point.distance_2d(previous_point)\n",
    "                    cumulative_distance += distance\n",
    "                distances.append(cumulative_distance)\n",
    "                previous_point = point\n",
    "\n",
    "    return elevations, distances\n",
    "\n",
    "\n",
    "# Extract elevation and distance data for the primary route\n",
    "elevations_route, distances_route = extract_elevation_and_distance(route_path)\n",
    "\n",
    "# Calculate the derivative (slope)\n",
    "derivative_route = np.gradient(elevations_route, distances_route)\n",
    "\n",
    "# Create the Plotly figure for the primary route\n",
    "fig = go.Figure()\n",
    "\n",
    "# Add trace for the primary route elevation\n",
    "fig.add_trace(go.Scatter(x=distances_route, y=elevations_route,\n",
    "              mode='lines', name='Primary Route Elevation Profile'))\n",
    "\n",
    "# Add trace for the derivative (slope) on the secondary y-axis\n",
    "fig.add_trace(go.Scatter(x=distances_route, y=derivative_route,\n",
    "              mode='lines', name='Elevation Derivative (Slope)', yaxis='y2'))\n",
    "\n",
    "# Update layout to include secondary y-axis\n",
    "fig.update_layout(\n",
    "    title='Elevation Profile and Derivative of the Primary Route',\n",
    "    xaxis_title='Distance (m)',\n",
    "    yaxis_title='Elevation (m)',\n",
    "    yaxis2=dict(\n",
    "        title='Slope',\n",
    "        overlaying='y',\n",
    "        side='right'\n",
    "    ),\n",
    "    legend=dict(\n",
    "        orientation=\"h\",\n",
    "        yanchor=\"bottom\",\n",
    "        y=1.02,\n",
    "        xanchor=\"right\",\n",
    "        x=1\n",
    "    ),\n",
    "    template='plotly_white'\n",
    ")\n",
    "\n",
    "# Show the plot\n",
    "fig.show()"
   ]
  }
 ],
 "metadata": {
  "kernelspec": {
   "display_name": "Python 3",
   "language": "python",
   "name": "python3"
  },
  "language_info": {
   "codemirror_mode": {
    "name": "ipython",
    "version": 3
   },
   "file_extension": ".py",
   "mimetype": "text/x-python",
   "name": "python",
   "nbconvert_exporter": "python",
   "pygments_lexer": "ipython3",
   "version": "3.12.0"
  }
 },
 "nbformat": 4,
 "nbformat_minor": 2
}
