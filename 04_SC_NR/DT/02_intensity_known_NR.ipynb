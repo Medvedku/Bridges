{
 "cells": [
  {
   "cell_type": "code",
   "execution_count": 33,
   "metadata": {},
   "outputs": [
    {
     "name": "stderr",
     "output_type": "stream",
     "text": [
      "C:\\Users\\relia\\AppData\\Local\\Temp\\ipykernel_8336\\2451089063.py:17: DtypeWarning: Columns (5,16) have mixed types. Specify dtype option on import or set low_memory=False.\n",
      "  df_nodes = pd.read_csv(nodes_path, encoding='utf-8', delimiter=',')\n",
      "C:\\Users\\relia\\AppData\\Local\\Temp\\ipykernel_8336\\2451089063.py:18: DtypeWarning: Columns (10,11,12,25,26,27) have mixed types. Specify dtype option on import or set low_memory=False.\n",
      "  df_roads = pd.read_csv(roads_path, encoding='utf-8', delimiter=',')\n"
     ]
    }
   ],
   "source": [
    "import pandas as pd\n",
    "import numpy as np\n",
    "\n",
    "# # DOMA\n",
    "# nodes_path = r\"C:\\Users\\Doktor\\Documents\\GitHub\\Bridges\\Data\\Nodes_processed.csv\"\n",
    "# roads_path = r\"C:\\Users\\Doktor\\Documents\\GitHub\\Bridges\\Data\\Roads_processed.csv\"\n",
    "# bridges_path = r\"C:\\Users\\Doktor\\Documents\\GitHub\\Bridges\\Data\\df_bridges_data.csv\"\n",
    "# survey_path = r\"C:\\Users\\Doktor\\Documents\\GitHub\\Bridges\\Data\\surveys\\Survey.csv\"\n",
    "\n",
    "# ROBOTA\n",
    "nodes_path = r\"C:\\Users\\relia\\Documents\\GitHub\\Bridges\\Data\\Nodes_processed.csv\"\n",
    "roads_path = r\"C:\\Users\\relia\\Documents\\GitHub\\Bridges\\Data\\Roads_processed.csv\"\n",
    "bridges_path = r\"C:\\Users\\relia\\Documents\\GitHub\\Bridges\\Data\\df_bridges_data.csv\"\n",
    "survey_path = r\"C:\\Users\\relia\\Documents\\GitHub\\Bridges\\Data\\surveys\\Survey.csv\"\n",
    "\n",
    "# Load the CSV data into a DataFrame\n",
    "df_nodes = pd.read_csv(nodes_path, encoding='utf-8', delimiter=',')\n",
    "df_roads = pd.read_csv(roads_path, encoding='utf-8', delimiter=',')\n",
    "df_bridges_all = pd.read_csv(bridges_path, encoding='utf-8', delimiter=',')\n",
    "df_survey = pd.read_csv(survey_path, encoding='utf-8', delimiter=',')"
   ]
  },
  {
   "cell_type": "code",
   "execution_count": 34,
   "metadata": {},
   "outputs": [
    {
     "data": {
      "text/plain": [
       "Index(['ID_mosta', 'Trieda_PK', 'Číslo_PK', 'Most_DC', 'Názov_mosta', 'ID_DC',\n",
       "       'správcovské_číslo', 'Zemepisná_dĺžka', 'Zemepisná_šírka', 'Výška',\n",
       "       'Druh_konštrukcie', 'Material', 'Normálna_zaťažiteľnosť',\n",
       "       'Výhradná_zaťažiteľnosť_t', 'Výnimočná_zaťažiteľnosť_t',\n",
       "       'Spôsob_stanovenia', 'Predmet_premostenia', 'Rok_postavenia',\n",
       "       'Zaťažovacia_trieda_STN', 'Počet_otvorov', 'Dĺžka_premostenia',\n",
       "       'Dĺžka_nosnej_konštrukcie_m', 'Volná_šírka_mosta',\n",
       "       'Šírka_medzi_obrubami_m', 'Plocha_mosnej_konštrukcie_m2',\n",
       "       'Plocha_mosta_m2', 'Vlastník_úseku', 'Správca_úseku', 'Okres',\n",
       "       'Smer_úseku', 'Typ_úseku', 'Počiatočný_uzol', 'Koncový_uzol', 'úsek_ID',\n",
       "       'úsekové_staničenie_začiatku_DC_m',\n",
       "       'Kilometrovníkové_staničenie_začiatku_DC_km',\n",
       "       'Kumulatívne_staničenie_začiatku_DC_km', 'Poradie', 'Kraj', 'n_2012',\n",
       "       'n_2013', 'n_2014', 'n_2015', 'n_2016', 'n_2017', 'n_2018', 'n_2019',\n",
       "       'n_2020', 'n_2021', 'n_2022', 'n_2023'],\n",
       "      dtype='object')"
      ]
     },
     "execution_count": 34,
     "metadata": {},
     "output_type": "execute_result"
    }
   ],
   "source": [
    "# Assuming df_bridges_all is your DataFrame\n",
    "columns_to_convert = ['Zemepisná_dĺžka', 'Zemepisná_šírka', 'Výška', 'Normálna_zaťažiteľnosť',\n",
    "                      'Výhradná_zaťažiteľnosť_t', 'Výnimočná_zaťažiteľnosť_t', 'Počet_otvorov',\n",
    "                      'Dĺžka_nosnej_konštrukcie_m', 'Dĺžka_premostenia', 'Volná_šírka_mosta',\n",
    "                      'Šírka_medzi_obrubami_m', 'Plocha_mosnej_konštrukcie_m2', 'Plocha_mosta_m2']\n",
    "\n",
    "# Convert specified columns to float\n",
    "df_bridges_all[columns_to_convert] = df_bridges_all[columns_to_convert].apply(\n",
    "    pd.to_numeric, errors='coerce')\n",
    "\n",
    "# Convert Rok_postavenia to integer, assign NaN if not possible\n",
    "df_bridges_all['Rok_postavenia'] = pd.to_numeric(\n",
    "    df_bridges_all['Rok_postavenia'], errors='coerce')\n",
    "\n",
    "\n",
    "df_bridges_all.columns"
   ]
  },
  {
   "cell_type": "code",
   "execution_count": 35,
   "metadata": {},
   "outputs": [],
   "source": [
    "# DOMA\n",
    "# SC_NR = r\"C:\\Users\\Doktor\\Documents\\GitHub\\Bridges\\04_SC_NR\\DT\\sorted_bridges_paths_NR.xlsx\"\n",
    "\n",
    "# ROBOTA\n",
    "SC_NR = r\"C:\\Users\\relia\\Documents\\GitHub\\Bridges\\04_SC_NR\\DT\\sorted_bridges_paths_NR.xlsx\"\n",
    "\n",
    "df_SC_NR = pd.read_excel(SC_NR)"
   ]
  },
  {
   "cell_type": "code",
   "execution_count": 36,
   "metadata": {},
   "outputs": [],
   "source": [
    "def to_string_list(s):\n",
    "    # Check if s is NaN (missing value)\n",
    "    if pd.isna(s):\n",
    "        return []\n",
    "    # If s is a float or integer, convert it directly to a list with a single element as a string\n",
    "    elif isinstance(s, (float, int)):\n",
    "        # Convert to integer first to remove any decimals\n",
    "        return [str(int(s))]\n",
    "    # If s is a string, attempt to split it into a list of strings\n",
    "    elif isinstance(s, str) and s != '':\n",
    "        # Assume it's a comma-separated list and split accordingly\n",
    "        return s.split(', ')\n",
    "    # Return an empty list for any other cases (e.g., empty strings)\n",
    "    else:\n",
    "        return []"
   ]
  },
  {
   "cell_type": "code",
   "execution_count": 37,
   "metadata": {},
   "outputs": [],
   "source": [
    "df_SC_NR['Číslo_sčítacieho_úseku'] = df_SC_NR['Číslo_sčítacieho_úseku'].apply(\n",
    "    to_string_list)"
   ]
  },
  {
   "cell_type": "code",
   "execution_count": 38,
   "metadata": {},
   "outputs": [],
   "source": [
    "def get_intenzita(cislo_scitacieho_useku):\n",
    "    if not cislo_scitacieho_useku:  # Check if the list is empty\n",
    "        return 0  # Return zero if the list is empty\n",
    "    else:\n",
    "        # Find matching 'S' values and return them as a list\n",
    "        intenzita_list = df_survey[df_survey['ÚSEK'].isin(\n",
    "            cislo_scitacieho_useku)]['S'].tolist()\n",
    "        if not intenzita_list:  # If no matches found, return zero\n",
    "            return 0\n",
    "        return intenzita_list"
   ]
  },
  {
   "cell_type": "code",
   "execution_count": 39,
   "metadata": {},
   "outputs": [],
   "source": [
    "def calculate_mean_intenzita(intenzita):\n",
    "    # Check if intenzita is a list and not empty\n",
    "    if isinstance(intenzita, list) and intenzita:\n",
    "        # Calculate mean if there are elements in the list\n",
    "        return np.mean(intenzita)\n",
    "    # Return NaN for empty lists or if intenzita is 0\n",
    "    return np.nan"
   ]
  },
  {
   "cell_type": "code",
   "execution_count": 43,
   "metadata": {},
   "outputs": [],
   "source": [
    "df_SC_NR['intenzita'] = df_SC_NR['Číslo_sčítacieho_úseku'].apply(\n",
    "    get_intenzita)"
   ]
  },
  {
   "cell_type": "code",
   "execution_count": 46,
   "metadata": {},
   "outputs": [],
   "source": [
    "df_SC_NR['intenzita'] = df_SC_NR['intenzita'].apply(calculate_mean_intenzita)"
   ]
  },
  {
   "cell_type": "code",
   "execution_count": 57,
   "metadata": {},
   "outputs": [
    {
     "data": {
      "text/html": [
       "<div>\n",
       "<style scoped>\n",
       "    .dataframe tbody tr th:only-of-type {\n",
       "        vertical-align: middle;\n",
       "    }\n",
       "\n",
       "    .dataframe tbody tr th {\n",
       "        vertical-align: top;\n",
       "    }\n",
       "\n",
       "    .dataframe thead th {\n",
       "        text-align: right;\n",
       "    }\n",
       "</style>\n",
       "<table border=\"1\" class=\"dataframe\">\n",
       "  <thead>\n",
       "    <tr style=\"text-align: right;\">\n",
       "      <th></th>\n",
       "      <th>ID_mosta</th>\n",
       "      <th>Názov_mosta</th>\n",
       "      <th>Zemepisná_šírka</th>\n",
       "      <th>Zemepisná_dĺžka</th>\n",
       "      <th>Číslo_sčítacieho_úseku</th>\n",
       "      <th>intenzita</th>\n",
       "    </tr>\n",
       "  </thead>\n",
       "  <tbody>\n",
       "    <tr>\n",
       "      <th>136</th>\n",
       "      <td>M7550</td>\n",
       "      <td>Most cez odvodňovací kanál Trávnik - Kližská N...</td>\n",
       "      <td>47.753535</td>\n",
       "      <td>17.800339</td>\n",
       "      <td>[]</td>\n",
       "      <td>NaN</td>\n",
       "    </tr>\n",
       "    <tr>\n",
       "      <th>137</th>\n",
       "      <td>M2925</td>\n",
       "      <td>Most cez odvodňovací kanál Veľké Kosihy.</td>\n",
       "      <td>47.751302</td>\n",
       "      <td>17.861275</td>\n",
       "      <td>[]</td>\n",
       "      <td>NaN</td>\n",
       "    </tr>\n",
       "    <tr>\n",
       "      <th>138</th>\n",
       "      <td>M4666</td>\n",
       "      <td>Most cez prívodný kanál  k čerpacej stanici v ...</td>\n",
       "      <td>47.748784</td>\n",
       "      <td>17.875707</td>\n",
       "      <td>[]</td>\n",
       "      <td>NaN</td>\n",
       "    </tr>\n",
       "    <tr>\n",
       "      <th>145</th>\n",
       "      <td>M6669</td>\n",
       "      <td>Most cez odvodňovací kanál v obci Lipové.</td>\n",
       "      <td>47.839509</td>\n",
       "      <td>17.854950</td>\n",
       "      <td>[]</td>\n",
       "      <td>NaN</td>\n",
       "    </tr>\n",
       "    <tr>\n",
       "      <th>146</th>\n",
       "      <td>M414</td>\n",
       "      <td>Most cez odvodňovací kanál v obci Veľké Kosihy.</td>\n",
       "      <td>47.753100</td>\n",
       "      <td>17.882176</td>\n",
       "      <td>[]</td>\n",
       "      <td>NaN</td>\n",
       "    </tr>\n",
       "    <tr>\n",
       "      <th>...</th>\n",
       "      <td>...</td>\n",
       "      <td>...</td>\n",
       "      <td>...</td>\n",
       "      <td>...</td>\n",
       "      <td>...</td>\n",
       "      <td>...</td>\n",
       "    </tr>\n",
       "    <tr>\n",
       "      <th>384</th>\n",
       "      <td>M1076</td>\n",
       "      <td>Most cez potok za obcou Jatov</td>\n",
       "      <td>48.116826</td>\n",
       "      <td>18.000753</td>\n",
       "      <td>[85800]</td>\n",
       "      <td>324.0</td>\n",
       "    </tr>\n",
       "    <tr>\n",
       "      <th>181</th>\n",
       "      <td>M2667</td>\n",
       "      <td>Most cez potok Sikenica - Šalov</td>\n",
       "      <td>47.995816</td>\n",
       "      <td>18.698874</td>\n",
       "      <td>[83307]</td>\n",
       "      <td>258.0</td>\n",
       "    </tr>\n",
       "    <tr>\n",
       "      <th>182</th>\n",
       "      <td>M1142</td>\n",
       "      <td>Most cez potok Teplica - Šalov</td>\n",
       "      <td>48.002995</td>\n",
       "      <td>18.707463</td>\n",
       "      <td>[83307]</td>\n",
       "      <td>258.0</td>\n",
       "    </tr>\n",
       "    <tr>\n",
       "      <th>382</th>\n",
       "      <td>M1697</td>\n",
       "      <td>Most cez potok Cergát v Palárikove</td>\n",
       "      <td>48.044312</td>\n",
       "      <td>18.074485</td>\n",
       "      <td>[81658]</td>\n",
       "      <td>256.0</td>\n",
       "    </tr>\n",
       "    <tr>\n",
       "      <th>298</th>\n",
       "      <td>M648</td>\n",
       "      <td>Most cez potok - Iňa</td>\n",
       "      <td>48.172516</td>\n",
       "      <td>18.417816</td>\n",
       "      <td>[85930]</td>\n",
       "      <td>228.0</td>\n",
       "    </tr>\n",
       "  </tbody>\n",
       "</table>\n",
       "<p>526 rows × 6 columns</p>\n",
       "</div>"
      ],
      "text/plain": [
       "    ID_mosta                                        Názov_mosta  \\\n",
       "136    M7550  Most cez odvodňovací kanál Trávnik - Kližská N...   \n",
       "137    M2925           Most cez odvodňovací kanál Veľké Kosihy.   \n",
       "138    M4666  Most cez prívodný kanál  k čerpacej stanici v ...   \n",
       "145    M6669          Most cez odvodňovací kanál v obci Lipové.   \n",
       "146     M414    Most cez odvodňovací kanál v obci Veľké Kosihy.   \n",
       "..       ...                                                ...   \n",
       "384    M1076                      Most cez potok za obcou Jatov   \n",
       "181    M2667                    Most cez potok Sikenica - Šalov   \n",
       "182    M1142                     Most cez potok Teplica - Šalov   \n",
       "382    M1697                 Most cez potok Cergát v Palárikove   \n",
       "298     M648                               Most cez potok - Iňa   \n",
       "\n",
       "     Zemepisná_šírka  Zemepisná_dĺžka Číslo_sčítacieho_úseku  intenzita  \n",
       "136        47.753535        17.800339                     []        NaN  \n",
       "137        47.751302        17.861275                     []        NaN  \n",
       "138        47.748784        17.875707                     []        NaN  \n",
       "145        47.839509        17.854950                     []        NaN  \n",
       "146        47.753100        17.882176                     []        NaN  \n",
       "..               ...              ...                    ...        ...  \n",
       "384        48.116826        18.000753                [85800]      324.0  \n",
       "181        47.995816        18.698874                [83307]      258.0  \n",
       "182        48.002995        18.707463                [83307]      258.0  \n",
       "382        48.044312        18.074485                [81658]      256.0  \n",
       "298        48.172516        18.417816                [85930]      228.0  \n",
       "\n",
       "[526 rows x 6 columns]"
      ]
     },
     "execution_count": 57,
     "metadata": {},
     "output_type": "execute_result"
    }
   ],
   "source": [
    "# Sort the DataFrame by the 'intenzita' column in ascending order, treating NaNs as the lowest values\n",
    "df_SC_NR_sorted = df_SC_NR.sort_values(\n",
    "    by='intenzita', ascending=False, na_position='first')\n",
    "\n",
    "df_SC_NR_sorted"
   ]
  },
  {
   "cell_type": "code",
   "execution_count": 54,
   "metadata": {},
   "outputs": [
    {
     "data": {
      "text/plain": [
       "count      319.000000\n",
       "mean      2728.028213\n",
       "std       2200.335971\n",
       "min        228.000000\n",
       "25%       1238.000000\n",
       "50%       2117.000000\n",
       "75%       3739.000000\n",
       "max      13513.000000\n",
       "Name: intenzita, dtype: float64"
      ]
     },
     "execution_count": 54,
     "metadata": {},
     "output_type": "execute_result"
    }
   ],
   "source": [
    "df_SC_NR['intenzita'].describe()"
   ]
  }
 ],
 "metadata": {
  "kernelspec": {
   "display_name": "Python 3",
   "language": "python",
   "name": "python3"
  },
  "language_info": {
   "codemirror_mode": {
    "name": "ipython",
    "version": 3
   },
   "file_extension": ".py",
   "mimetype": "text/x-python",
   "name": "python",
   "nbconvert_exporter": "python",
   "pygments_lexer": "ipython3",
   "version": "3.12.0"
  }
 },
 "nbformat": 4,
 "nbformat_minor": 2
}
