{
 "cells": [
  {
   "cell_type": "code",
   "execution_count": 2,
   "metadata": {},
   "outputs": [
    {
     "name": "stderr",
     "output_type": "stream",
     "text": [
      "C:\\Users\\relia\\AppData\\Local\\Temp\\ipykernel_7880\\2498069902.py:18: DtypeWarning: Columns (5,16) have mixed types. Specify dtype option on import or set low_memory=False.\n",
      "  df_nodes = pd.read_csv(nodes_path, encoding='utf-8', delimiter=',')\n",
      "C:\\Users\\relia\\AppData\\Local\\Temp\\ipykernel_7880\\2498069902.py:19: DtypeWarning: Columns (10,11,12,25,26,27) have mixed types. Specify dtype option on import or set low_memory=False.\n",
      "  df_roads = pd.read_csv(roads_path, encoding='utf-8', delimiter=',')\n"
     ]
    }
   ],
   "source": [
    "import pandas as pd\n",
    "import numpy as np\n",
    "\n",
    "# # DOMA\n",
    "# # Define the file path\n",
    "# nodes_path = r\"C:\\Users\\Doktor\\Documents\\GitHub\\Bridges\\Data\\Nodes_processed.csv\"\n",
    "# roads_path = r\"C:\\Users\\Doktor\\Documents\\GitHub\\Bridges\\Data\\Roads_processed.csv\"\n",
    "# bridges_path = r\"C:\\Users\\Doktor\\Documents\\GitHub\\Bridges\\Data\\df_bridges_data.csv\"\n",
    "# survey_path = r\"C:\\Users\\Doktor\\Documents\\GitHub\\Bridges\\Data\\surveys\\Survey.csv\"\n",
    "\n",
    "# ROBOTA\n",
    "nodes_path = r\"C:\\Users\\relia\\Documents\\GitHub\\Bridges\\Data\\Nodes_processed.csv\"\n",
    "roads_path = r\"C:\\Users\\relia\\Documents\\GitHub\\Bridges\\Data\\Roads_processed.csv\"\n",
    "bridges_path = r\"C:\\Users\\relia\\Documents\\GitHub\\Bridges\\Data\\df_bridges_data.csv\"\n",
    "survey_path = r\"C:\\Users\\relia\\Documents\\GitHub\\Bridges\\Data\\surveys\\Survey.csv\"\n",
    "\n",
    "# Load the CSV data into a DataFrame\n",
    "df_nodes = pd.read_csv(nodes_path, encoding='utf-8', delimiter=',')\n",
    "df_roads = pd.read_csv(roads_path, encoding='utf-8', delimiter=',')\n",
    "df_bridges_all = pd.read_csv(bridges_path, encoding='utf-8', delimiter=',')\n",
    "df_survey = pd.read_csv(survey_path, encoding='utf-8', delimiter=',')"
   ]
  },
  {
   "cell_type": "code",
   "execution_count": 3,
   "metadata": {},
   "outputs": [
    {
     "data": {
      "text/plain": [
       "Index(['ID_mosta', 'Trieda_PK', 'Číslo_PK', 'Most_DC', 'Názov_mosta', 'ID_DC',\n",
       "       'správcovské_číslo', 'Zemepisná_dĺžka', 'Zemepisná_šírka', 'Výška',\n",
       "       'Druh_konštrukcie', 'Material', 'Normálna_zaťažiteľnosť',\n",
       "       'Výhradná_zaťažiteľnosť_t', 'Výnimočná_zaťažiteľnosť_t',\n",
       "       'Spôsob_stanovenia', 'Predmet_premostenia', 'Rok_postavenia',\n",
       "       'Zaťažovacia_trieda_STN', 'Počet_otvorov', 'Dĺžka_premostenia',\n",
       "       'Dĺžka_nosnej_konštrukcie_m', 'Volná_šírka_mosta',\n",
       "       'Šírka_medzi_obrubami_m', 'Plocha_mosnej_konštrukcie_m2',\n",
       "       'Plocha_mosta_m2', 'Vlastník_úseku', 'Správca_úseku', 'Okres',\n",
       "       'Smer_úseku', 'Typ_úseku', 'Počiatočný_uzol', 'Koncový_uzol', 'úsek_ID',\n",
       "       'úsekové_staničenie_začiatku_DC_m',\n",
       "       'Kilometrovníkové_staničenie_začiatku_DC_km',\n",
       "       'Kumulatívne_staničenie_začiatku_DC_km', 'Poradie', 'Kraj', 'n_2012',\n",
       "       'n_2013', 'n_2014', 'n_2015', 'n_2016', 'n_2017', 'n_2018', 'n_2019',\n",
       "       'n_2020', 'n_2021', 'n_2022', 'n_2023'],\n",
       "      dtype='object')"
      ]
     },
     "execution_count": 3,
     "metadata": {},
     "output_type": "execute_result"
    }
   ],
   "source": [
    "# Assuming df_bridges_all is your DataFrame\n",
    "columns_to_convert = ['Zemepisná_dĺžka', 'Zemepisná_šírka', 'Výška', 'Normálna_zaťažiteľnosť',\n",
    "                      'Výhradná_zaťažiteľnosť_t', 'Výnimočná_zaťažiteľnosť_t', 'Počet_otvorov',\n",
    "                      'Dĺžka_nosnej_konštrukcie_m', 'Dĺžka_premostenia', 'Volná_šírka_mosta',\n",
    "                      'Šírka_medzi_obrubami_m', 'Plocha_mosnej_konštrukcie_m2', 'Plocha_mosta_m2']\n",
    "\n",
    "# Convert specified columns to float\n",
    "df_bridges_all[columns_to_convert] = df_bridges_all[columns_to_convert].apply(\n",
    "    pd.to_numeric, errors='coerce')\n",
    "\n",
    "# Convert Rok_postavenia to integer, assign NaN if not possible\n",
    "df_bridges_all['Rok_postavenia'] = pd.to_numeric(\n",
    "    df_bridges_all['Rok_postavenia'], errors='coerce')\n",
    "\n",
    "\n",
    "df_bridges_all.columns"
   ]
  },
  {
   "cell_type": "code",
   "execution_count": 4,
   "metadata": {},
   "outputs": [
    {
     "data": {
      "text/plain": [
       "Index(['SSC - IVSC ZA', 'SSC - IVSC KE', 'SSC - IVSC BB', 'BBRSC-JUH',\n",
       "       'BBRSC-STRED', 'BBRSC-SEVER', 'SSC - IVSC BA', 'SUC PSK - HE',\n",
       "       'SC TN SK - TN', 'SUC PSK - PO', 'SC TN SK - PD', 'SUC TTSK - TT',\n",
       "       'SUC PSK - PP', 'SUC PSK - BJ', 'SC TN SK - PB', 'SC ŽSK - HPOV',\n",
       "       'SC KSK - KS', 'SC ŽSK - ORA', 'SC ŽSK - LIP', 'SUC PSK - SK',\n",
       "       'SC KSK - SNV', 'RSUC NR - LV', 'SUC PSK - SL', 'SC ŽSK - KYS',\n",
       "       'RSUC NR - NR', 'SC KSK - MI', 'SC BSK', 'SC ŽSK - TUR',\n",
       "       'SUC TTSK - SE', 'NDS - SSUR ZV', 'SC KSK - TV', 'RSUC NR - NZ',\n",
       "       'NDS - SSUD PB', 'VPO', 'SC KSK - RV', 'SUC PSK - VT', 'NDS - SSUD LM',\n",
       "       'SUC TTSK - DS', 'RSUC NR - TO', 'RSUC NR - KN', 'NDS - SSUR KE',\n",
       "       'NDS - SSUD TN', 'NDS - SSUD BE', 'NDS - SSUR CA', 'NDS - SSUD BA',\n",
       "       'MAG-BA', 'NDS - SSUR NB', 'NDS - SSUD PO', 'NDS - SSUR GA',\n",
       "       'NDS - SSUD MENG', 'NDS - SSUD MA', 'NDS - SSUD TT', 'NDS - SSUD MT',\n",
       "       'MAG-KE', 'CU', 'ZA-Invest', 'NO-HR', 'HE', 'BJ', 'SB-LI', 'ZI',\n",
       "       'LM-DD', 'PN', 'VK-NV', 'BR-PL', 'BB'],\n",
       "      dtype='object', name='Správca_úseku')"
      ]
     },
     "execution_count": 4,
     "metadata": {},
     "output_type": "execute_result"
    }
   ],
   "source": [
    "df_bridges_all[\"Správca_úseku\"].value_counts().keys()"
   ]
  },
  {
   "cell_type": "code",
   "execution_count": 5,
   "metadata": {},
   "outputs": [
    {
     "data": {
      "text/plain": [
       "(526, 51)"
      ]
     },
     "execution_count": 5,
     "metadata": {},
     "output_type": "execute_result"
    }
   ],
   "source": [
    "filtered_bridges = df_bridges_all.copy()\n",
    "\n",
    "# Filter bridges in the Nitra region with Trieda_PK as \"cesta I. triedy\" or \"cesta II. triedy\"\n",
    "filtered_bridges = df_bridges_all[\n",
    "    ((df_bridges_all['Správca_úseku'] == 'RSUC NR - LV') |\n",
    "     (df_bridges_all['Správca_úseku'] == 'RSUC NR - NR') |\n",
    "     (df_bridges_all['Správca_úseku'] == 'RSUC NR - NZ') |\n",
    "     (df_bridges_all['Správca_úseku'] == 'RSUC NR - TO') |\n",
    "     (df_bridges_all['Správca_úseku'] == 'RSUC NR - KN')\n",
    "     )\n",
    "]\n",
    "\n",
    "# Reindex the DataFrame\n",
    "filtered_bridges.reset_index(drop=True, inplace=True)\n",
    "\n",
    "filtered_bridges = filtered_bridges[filtered_bridges[\"n_2023\"] != 0]\n",
    "\n",
    "# Display the filtered DataFrame\n",
    "filtered_bridges.shape"
   ]
  },
  {
   "cell_type": "code",
   "execution_count": 13,
   "metadata": {},
   "outputs": [
    {
     "data": {
      "text/plain": [
       "Číslo_PK\n",
       "564     23\n",
       "1661    17\n",
       "511     16\n",
       "580     16\n",
       "1579    12\n",
       "        ..\n",
       "1501     1\n",
       "1658     1\n",
       "1518     1\n",
       "1612     1\n",
       "1719     1\n",
       "Name: count, Length: 185, dtype: int64"
      ]
     },
     "execution_count": 13,
     "metadata": {},
     "output_type": "execute_result"
    }
   ],
   "source": [
    "filtered_bridges[\"Číslo_PK\"].value_counts()"
   ]
  },
  {
   "cell_type": "code",
   "execution_count": 10,
   "metadata": {},
   "outputs": [
    {
     "data": {
      "text/plain": [
       "'Okres'"
      ]
     },
     "execution_count": 10,
     "metadata": {},
     "output_type": "execute_result"
    }
   ],
   "source": [
    "\"Trieda_PK\"\n",
    "\"Okres\"\n",
    "\"Číslo_PK\""
   ]
  },
  {
   "cell_type": "code",
   "execution_count": 14,
   "metadata": {},
   "outputs": [],
   "source": [
    "# Sort the DataFrame by \"Trieda_PK\", \"Okres\", and \"Číslo_PK\" columns\n",
    "sorted_bridges = filtered_bridges.sort_values(\n",
    "    by=[\"Trieda_PK\", \"Okres\", \"Číslo_PK\"])"
   ]
  },
  {
   "cell_type": "code",
   "execution_count": 18,
   "metadata": {},
   "outputs": [
    {
     "data": {
      "text/html": [
       "<div>\n",
       "<style scoped>\n",
       "    .dataframe tbody tr th:only-of-type {\n",
       "        vertical-align: middle;\n",
       "    }\n",
       "\n",
       "    .dataframe tbody tr th {\n",
       "        vertical-align: top;\n",
       "    }\n",
       "\n",
       "    .dataframe thead th {\n",
       "        text-align: right;\n",
       "    }\n",
       "</style>\n",
       "<table border=\"1\" class=\"dataframe\">\n",
       "  <thead>\n",
       "    <tr style=\"text-align: right;\">\n",
       "      <th></th>\n",
       "      <th>ID_mosta</th>\n",
       "      <th>Názov_mosta</th>\n",
       "      <th>Zemepisná_šírka</th>\n",
       "      <th>Zemepisná_dĺžka</th>\n",
       "    </tr>\n",
       "  </thead>\n",
       "  <tbody>\n",
       "    <tr>\n",
       "      <th>11</th>\n",
       "      <td>M2548</td>\n",
       "      <td>Most cez odvodňovací kanál pred obcou Pribeta.</td>\n",
       "      <td>47.912412</td>\n",
       "      <td>18.299329</td>\n",
       "    </tr>\n",
       "    <tr>\n",
       "      <th>59</th>\n",
       "      <td>M3518</td>\n",
       "      <td>Most cez rieku Vážsky Dunaj v Kolárove.</td>\n",
       "      <td>47.914398</td>\n",
       "      <td>18.010667</td>\n",
       "    </tr>\n",
       "    <tr>\n",
       "      <th>82</th>\n",
       "      <td>M2948</td>\n",
       "      <td>Most cez Malý Dunaj pred Kolárovom.</td>\n",
       "      <td>47.930289</td>\n",
       "      <td>17.982309</td>\n",
       "    </tr>\n",
       "    <tr>\n",
       "      <th>83</th>\n",
       "      <td>M3562</td>\n",
       "      <td>Most cez kanál Čergov za Kolárovom.</td>\n",
       "      <td>47.892730</td>\n",
       "      <td>18.010590</td>\n",
       "    </tr>\n",
       "    <tr>\n",
       "      <th>84</th>\n",
       "      <td>M7315</td>\n",
       "      <td>Most Járok za Š.M. Čergov.</td>\n",
       "      <td>47.875617</td>\n",
       "      <td>18.010530</td>\n",
       "    </tr>\n",
       "    <tr>\n",
       "      <th>...</th>\n",
       "      <td>...</td>\n",
       "      <td>...</td>\n",
       "      <td>...</td>\n",
       "      <td>...</td>\n",
       "    </tr>\n",
       "    <tr>\n",
       "      <th>508</th>\n",
       "      <td>M3905</td>\n",
       "      <td>Most medzi hrádzami Váhu v obci Vlčany</td>\n",
       "      <td>48.040019</td>\n",
       "      <td>17.961544</td>\n",
       "    </tr>\n",
       "    <tr>\n",
       "      <th>219</th>\n",
       "      <td>M270</td>\n",
       "      <td>Most cez odvodňovací kanál pred obcou Palárikovo</td>\n",
       "      <td>48.043267</td>\n",
       "      <td>18.005637</td>\n",
       "    </tr>\n",
       "    <tr>\n",
       "      <th>177</th>\n",
       "      <td>M3284</td>\n",
       "      <td>Most v Hornej Kráľovej - cez potok</td>\n",
       "      <td>48.244995</td>\n",
       "      <td>17.916764</td>\n",
       "    </tr>\n",
       "    <tr>\n",
       "      <th>488</th>\n",
       "      <td>M93</td>\n",
       "      <td>Most v obci Močenok</td>\n",
       "      <td>48.232865</td>\n",
       "      <td>17.923729</td>\n",
       "    </tr>\n",
       "    <tr>\n",
       "      <th>489</th>\n",
       "      <td>M5299</td>\n",
       "      <td>Most v obci Hájske</td>\n",
       "      <td>48.255537</td>\n",
       "      <td>17.870122</td>\n",
       "    </tr>\n",
       "  </tbody>\n",
       "</table>\n",
       "<p>526 rows × 4 columns</p>\n",
       "</div>"
      ],
      "text/plain": [
       "    ID_mosta                                       Názov_mosta  \\\n",
       "11     M2548    Most cez odvodňovací kanál pred obcou Pribeta.   \n",
       "59     M3518           Most cez rieku Vážsky Dunaj v Kolárove.   \n",
       "82     M2948               Most cez Malý Dunaj pred Kolárovom.   \n",
       "83     M3562               Most cez kanál Čergov za Kolárovom.   \n",
       "84     M7315                        Most Járok za Š.M. Čergov.   \n",
       "..       ...                                               ...   \n",
       "508    M3905            Most medzi hrádzami Váhu v obci Vlčany   \n",
       "219     M270  Most cez odvodňovací kanál pred obcou Palárikovo   \n",
       "177    M3284                Most v Hornej Kráľovej - cez potok   \n",
       "488      M93                               Most v obci Močenok   \n",
       "489    M5299                                Most v obci Hájske   \n",
       "\n",
       "     Zemepisná_šírka  Zemepisná_dĺžka  \n",
       "11         47.912412        18.299329  \n",
       "59         47.914398        18.010667  \n",
       "82         47.930289        17.982309  \n",
       "83         47.892730        18.010590  \n",
       "84         47.875617        18.010530  \n",
       "..               ...              ...  \n",
       "508        48.040019        17.961544  \n",
       "219        48.043267        18.005637  \n",
       "177        48.244995        17.916764  \n",
       "488        48.232865        17.923729  \n",
       "489        48.255537        17.870122  \n",
       "\n",
       "[526 rows x 4 columns]"
      ]
     },
     "execution_count": 18,
     "metadata": {},
     "output_type": "execute_result"
    }
   ],
   "source": [
    "sorted_bridges[[\"ID_mosta\", \"Názov_mosta\",\n",
    "                \"Zemepisná_šírka\", \"Zemepisná_dĺžka\"]]"
   ]
  },
  {
   "cell_type": "code",
   "execution_count": 22,
   "metadata": {},
   "outputs": [],
   "source": [
    "# Define the file path for the Excel file\n",
    "excel_file_path = \"sorted_bridges.xlsx\"\n",
    "\n",
    "# Export the DataFrame to Excel\n",
    "sorted_bridges[[\"ID_mosta\", \"Názov_mosta\", \"Zemepisná_šírka\",\n",
    "                \"Zemepisná_dĺžka\", \"Predmet_premostenia\"]].to_excel(excel_file_path, index=False)"
   ]
  },
  {
   "cell_type": "code",
   "execution_count": 21,
   "metadata": {},
   "outputs": [
    {
     "data": {
      "text/plain": [
       "Index(['ID_mosta', 'Trieda_PK', 'Číslo_PK', 'Most_DC', 'Názov_mosta', 'ID_DC',\n",
       "       'správcovské_číslo', 'Zemepisná_dĺžka', 'Zemepisná_šírka', 'Výška',\n",
       "       'Druh_konštrukcie', 'Material', 'Normálna_zaťažiteľnosť',\n",
       "       'Výhradná_zaťažiteľnosť_t', 'Výnimočná_zaťažiteľnosť_t',\n",
       "       'Spôsob_stanovenia', 'Predmet_premostenia', 'Rok_postavenia',\n",
       "       'Zaťažovacia_trieda_STN', 'Počet_otvorov', 'Dĺžka_premostenia',\n",
       "       'Dĺžka_nosnej_konštrukcie_m', 'Volná_šírka_mosta',\n",
       "       'Šírka_medzi_obrubami_m', 'Plocha_mosnej_konštrukcie_m2',\n",
       "       'Plocha_mosta_m2', 'Vlastník_úseku', 'Správca_úseku', 'Okres',\n",
       "       'Smer_úseku', 'Typ_úseku', 'Počiatočný_uzol', 'Koncový_uzol', 'úsek_ID',\n",
       "       'úsekové_staničenie_začiatku_DC_m',\n",
       "       'Kilometrovníkové_staničenie_začiatku_DC_km',\n",
       "       'Kumulatívne_staničenie_začiatku_DC_km', 'Poradie', 'Kraj', 'n_2012',\n",
       "       'n_2013', 'n_2014', 'n_2015', 'n_2016', 'n_2017', 'n_2018', 'n_2019',\n",
       "       'n_2020', 'n_2021', 'n_2022', 'n_2023'],\n",
       "      dtype='object')"
      ]
     },
     "execution_count": 21,
     "metadata": {},
     "output_type": "execute_result"
    }
   ],
   "source": [
    "sorted_bridges.columns"
   ]
  }
 ],
 "metadata": {
  "kernelspec": {
   "display_name": "Python 3",
   "language": "python",
   "name": "python3"
  },
  "language_info": {
   "codemirror_mode": {
    "name": "ipython",
    "version": 3
   },
   "file_extension": ".py",
   "mimetype": "text/x-python",
   "name": "python",
   "nbconvert_exporter": "python",
   "pygments_lexer": "ipython3",
   "version": "3.12.0"
  }
 },
 "nbformat": 4,
 "nbformat_minor": 2
}
