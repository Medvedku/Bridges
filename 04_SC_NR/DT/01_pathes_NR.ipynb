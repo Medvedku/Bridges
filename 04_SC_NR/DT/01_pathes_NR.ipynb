{
 "cells": [
  {
   "cell_type": "code",
   "execution_count": 179,
   "metadata": {},
   "outputs": [
    {
     "name": "stderr",
     "output_type": "stream",
     "text": [
      "C:\\Users\\relia\\AppData\\Local\\Temp\\ipykernel_14908\\2451089063.py:17: DtypeWarning:\n",
      "\n",
      "Columns (5,16) have mixed types. Specify dtype option on import or set low_memory=False.\n",
      "\n",
      "C:\\Users\\relia\\AppData\\Local\\Temp\\ipykernel_14908\\2451089063.py:18: DtypeWarning:\n",
      "\n",
      "Columns (10,11,12,25,26,27) have mixed types. Specify dtype option on import or set low_memory=False.\n",
      "\n"
     ]
    }
   ],
   "source": [
    "import pandas as pd\n",
    "import numpy as np\n",
    "\n",
    "# # DOMA\n",
    "# nodes_path = r\"C:\\Users\\Doktor\\Documents\\GitHub\\Bridges\\Data\\Nodes_processed.csv\"\n",
    "# roads_path = r\"C:\\Users\\Doktor\\Documents\\GitHub\\Bridges\\Data\\Roads_processed.csv\"\n",
    "# bridges_path = r\"C:\\Users\\Doktor\\Documents\\GitHub\\Bridges\\Data\\df_bridges_data.csv\"\n",
    "# survey_path = r\"C:\\Users\\Doktor\\Documents\\GitHub\\Bridges\\Data\\surveys\\Survey.csv\"\n",
    "\n",
    "# ROBOTA\n",
    "nodes_path = r\"C:\\Users\\relia\\Documents\\GitHub\\Bridges\\Data\\Nodes_processed.csv\"\n",
    "roads_path = r\"C:\\Users\\relia\\Documents\\GitHub\\Bridges\\Data\\Roads_processed.csv\"\n",
    "bridges_path = r\"C:\\Users\\relia\\Documents\\GitHub\\Bridges\\Data\\df_bridges_data.csv\"\n",
    "survey_path = r\"C:\\Users\\relia\\Documents\\GitHub\\Bridges\\Data\\surveys\\Survey.csv\"\n",
    "\n",
    "# Load the CSV data into a DataFrame\n",
    "df_nodes = pd.read_csv(nodes_path, encoding='utf-8', delimiter=',')\n",
    "df_roads = pd.read_csv(roads_path, encoding='utf-8', delimiter=',')\n",
    "df_bridges_all = pd.read_csv(bridges_path, encoding='utf-8', delimiter=',')\n",
    "df_survey = pd.read_csv(survey_path, encoding='utf-8', delimiter=',')"
   ]
  },
  {
   "cell_type": "code",
   "execution_count": 180,
   "metadata": {},
   "outputs": [
    {
     "data": {
      "text/plain": [
       "Index(['ID_mosta', 'Trieda_PK', 'Číslo_PK', 'Most_DC', 'Názov_mosta', 'ID_DC',\n",
       "       'správcovské_číslo', 'Zemepisná_dĺžka', 'Zemepisná_šírka', 'Výška',\n",
       "       'Druh_konštrukcie', 'Material', 'Normálna_zaťažiteľnosť',\n",
       "       'Výhradná_zaťažiteľnosť_t', 'Výnimočná_zaťažiteľnosť_t',\n",
       "       'Spôsob_stanovenia', 'Predmet_premostenia', 'Rok_postavenia',\n",
       "       'Zaťažovacia_trieda_STN', 'Počet_otvorov', 'Dĺžka_premostenia',\n",
       "       'Dĺžka_nosnej_konštrukcie_m', 'Volná_šírka_mosta',\n",
       "       'Šírka_medzi_obrubami_m', 'Plocha_mosnej_konštrukcie_m2',\n",
       "       'Plocha_mosta_m2', 'Vlastník_úseku', 'Správca_úseku', 'Okres',\n",
       "       'Smer_úseku', 'Typ_úseku', 'Počiatočný_uzol', 'Koncový_uzol', 'úsek_ID',\n",
       "       'úsekové_staničenie_začiatku_DC_m',\n",
       "       'Kilometrovníkové_staničenie_začiatku_DC_km',\n",
       "       'Kumulatívne_staničenie_začiatku_DC_km', 'Poradie', 'Kraj', 'n_2012',\n",
       "       'n_2013', 'n_2014', 'n_2015', 'n_2016', 'n_2017', 'n_2018', 'n_2019',\n",
       "       'n_2020', 'n_2021', 'n_2022', 'n_2023'],\n",
       "      dtype='object')"
      ]
     },
     "execution_count": 180,
     "metadata": {},
     "output_type": "execute_result"
    }
   ],
   "source": [
    "# Assuming df_bridges_all is your DataFrame\n",
    "columns_to_convert = ['Zemepisná_dĺžka', 'Zemepisná_šírka', 'Výška', 'Normálna_zaťažiteľnosť',\n",
    "                      'Výhradná_zaťažiteľnosť_t', 'Výnimočná_zaťažiteľnosť_t', 'Počet_otvorov',\n",
    "                      'Dĺžka_nosnej_konštrukcie_m', 'Dĺžka_premostenia', 'Volná_šírka_mosta',\n",
    "                      'Šírka_medzi_obrubami_m', 'Plocha_mosnej_konštrukcie_m2', 'Plocha_mosta_m2']\n",
    "\n",
    "# Convert specified columns to float\n",
    "df_bridges_all[columns_to_convert] = df_bridges_all[columns_to_convert].apply(\n",
    "    pd.to_numeric, errors='coerce')\n",
    "\n",
    "# Convert Rok_postavenia to integer, assign NaN if not possible\n",
    "df_bridges_all['Rok_postavenia'] = pd.to_numeric(\n",
    "    df_bridges_all['Rok_postavenia'], errors='coerce')\n",
    "\n",
    "\n",
    "df_bridges_all.columns"
   ]
  },
  {
   "cell_type": "code",
   "execution_count": 181,
   "metadata": {},
   "outputs": [
    {
     "data": {
      "text/plain": [
       "Index(['SSC - IVSC ZA', 'SSC - IVSC KE', 'SSC - IVSC BB', 'BBRSC-JUH',\n",
       "       'BBRSC-STRED', 'BBRSC-SEVER', 'SSC - IVSC BA', 'SUC PSK - HE',\n",
       "       'SC TN SK - TN', 'SUC PSK - PO', 'SC TN SK - PD', 'SUC TTSK - TT',\n",
       "       'SUC PSK - PP', 'SUC PSK - BJ', 'SC TN SK - PB', 'SC ŽSK - HPOV',\n",
       "       'SC KSK - KS', 'SC ŽSK - ORA', 'SC ŽSK - LIP', 'SUC PSK - SK',\n",
       "       'SC KSK - SNV', 'RSUC NR - LV', 'SUC PSK - SL', 'SC ŽSK - KYS',\n",
       "       'RSUC NR - NR', 'SC KSK - MI', 'SC BSK', 'SC ŽSK - TUR',\n",
       "       'SUC TTSK - SE', 'NDS - SSUR ZV', 'SC KSK - TV', 'RSUC NR - NZ',\n",
       "       'NDS - SSUD PB', 'VPO', 'SC KSK - RV', 'SUC PSK - VT', 'NDS - SSUD LM',\n",
       "       'SUC TTSK - DS', 'RSUC NR - TO', 'RSUC NR - KN', 'NDS - SSUR KE',\n",
       "       'NDS - SSUD TN', 'NDS - SSUD BE', 'NDS - SSUR CA', 'NDS - SSUD BA',\n",
       "       'MAG-BA', 'NDS - SSUR NB', 'NDS - SSUD PO', 'NDS - SSUR GA',\n",
       "       'NDS - SSUD MENG', 'NDS - SSUD MA', 'NDS - SSUD TT', 'NDS - SSUD MT',\n",
       "       'MAG-KE', 'CU', 'ZA-Invest', 'NO-HR', 'HE', 'BJ', 'SB-LI', 'ZI',\n",
       "       'LM-DD', 'PN', 'VK-NV', 'BR-PL', 'BB'],\n",
       "      dtype='object', name='Správca_úseku')"
      ]
     },
     "execution_count": 181,
     "metadata": {},
     "output_type": "execute_result"
    }
   ],
   "source": [
    "df_bridges_all[\"Správca_úseku\"].value_counts().keys()"
   ]
  },
  {
   "cell_type": "code",
   "execution_count": 182,
   "metadata": {},
   "outputs": [
    {
     "data": {
      "text/plain": [
       "(526, 51)"
      ]
     },
     "execution_count": 182,
     "metadata": {},
     "output_type": "execute_result"
    }
   ],
   "source": [
    "filtered_bridges = df_bridges_all.copy()\n",
    "\n",
    "# Filter bridges in the Nitra region with Trieda_PK as \"cesta I. triedy\" or \"cesta II. triedy\"\n",
    "filtered_bridges = df_bridges_all[\n",
    "    ((df_bridges_all['Správca_úseku'] == 'RSUC NR - LV') |\n",
    "     (df_bridges_all['Správca_úseku'] == 'RSUC NR - NR') |\n",
    "     (df_bridges_all['Správca_úseku'] == 'RSUC NR - NZ') |\n",
    "     (df_bridges_all['Správca_úseku'] == 'RSUC NR - TO') |\n",
    "     (df_bridges_all['Správca_úseku'] == 'RSUC NR - KN')\n",
    "     )\n",
    "]\n",
    "\n",
    "# Reindex the DataFrame\n",
    "filtered_bridges.reset_index(drop=True, inplace=True)\n",
    "\n",
    "filtered_bridges = filtered_bridges[filtered_bridges[\"n_2023\"] != 0]\n",
    "\n",
    "# Display the filtered DataFrame\n",
    "filtered_bridges.shape"
   ]
  },
  {
   "cell_type": "code",
   "execution_count": 183,
   "metadata": {},
   "outputs": [
    {
     "data": {
      "text/plain": [
       "Číslo_PK\n",
       "564     23\n",
       "1661    17\n",
       "511     16\n",
       "580     16\n",
       "1579    12\n",
       "        ..\n",
       "1501     1\n",
       "1658     1\n",
       "1518     1\n",
       "1612     1\n",
       "1719     1\n",
       "Name: count, Length: 185, dtype: int64"
      ]
     },
     "execution_count": 183,
     "metadata": {},
     "output_type": "execute_result"
    }
   ],
   "source": [
    "filtered_bridges[\"Číslo_PK\"].value_counts()"
   ]
  },
  {
   "cell_type": "code",
   "execution_count": 184,
   "metadata": {},
   "outputs": [],
   "source": [
    "# Sort the DataFrame by \"Trieda_PK\", \"Okres\", and \"Číslo_PK\" columns\n",
    "sorted_bridges = filtered_bridges.sort_values(\n",
    "    by=[\"Trieda_PK\", \"Okres\", \"Číslo_PK\"])"
   ]
  },
  {
   "cell_type": "code",
   "execution_count": 185,
   "metadata": {},
   "outputs": [
    {
     "data": {
      "text/html": [
       "<div>\n",
       "<style scoped>\n",
       "    .dataframe tbody tr th:only-of-type {\n",
       "        vertical-align: middle;\n",
       "    }\n",
       "\n",
       "    .dataframe tbody tr th {\n",
       "        vertical-align: top;\n",
       "    }\n",
       "\n",
       "    .dataframe thead th {\n",
       "        text-align: right;\n",
       "    }\n",
       "</style>\n",
       "<table border=\"1\" class=\"dataframe\">\n",
       "  <thead>\n",
       "    <tr style=\"text-align: right;\">\n",
       "      <th></th>\n",
       "      <th>ID_mosta</th>\n",
       "      <th>Názov_mosta</th>\n",
       "      <th>Zemepisná_šírka</th>\n",
       "      <th>Zemepisná_dĺžka</th>\n",
       "    </tr>\n",
       "  </thead>\n",
       "  <tbody>\n",
       "    <tr>\n",
       "      <th>11</th>\n",
       "      <td>M2548</td>\n",
       "      <td>Most cez odvodňovací kanál pred obcou Pribeta.</td>\n",
       "      <td>47.912412</td>\n",
       "      <td>18.299329</td>\n",
       "    </tr>\n",
       "    <tr>\n",
       "      <th>59</th>\n",
       "      <td>M3518</td>\n",
       "      <td>Most cez rieku Vážsky Dunaj v Kolárove.</td>\n",
       "      <td>47.914398</td>\n",
       "      <td>18.010667</td>\n",
       "    </tr>\n",
       "    <tr>\n",
       "      <th>82</th>\n",
       "      <td>M2948</td>\n",
       "      <td>Most cez Malý Dunaj pred Kolárovom.</td>\n",
       "      <td>47.930289</td>\n",
       "      <td>17.982309</td>\n",
       "    </tr>\n",
       "    <tr>\n",
       "      <th>83</th>\n",
       "      <td>M3562</td>\n",
       "      <td>Most cez kanál Čergov za Kolárovom.</td>\n",
       "      <td>47.892730</td>\n",
       "      <td>18.010590</td>\n",
       "    </tr>\n",
       "    <tr>\n",
       "      <th>84</th>\n",
       "      <td>M7315</td>\n",
       "      <td>Most Járok za Š.M. Čergov.</td>\n",
       "      <td>47.875617</td>\n",
       "      <td>18.010530</td>\n",
       "    </tr>\n",
       "    <tr>\n",
       "      <th>...</th>\n",
       "      <td>...</td>\n",
       "      <td>...</td>\n",
       "      <td>...</td>\n",
       "      <td>...</td>\n",
       "    </tr>\n",
       "    <tr>\n",
       "      <th>508</th>\n",
       "      <td>M3905</td>\n",
       "      <td>Most medzi hrádzami Váhu v obci Vlčany</td>\n",
       "      <td>48.040019</td>\n",
       "      <td>17.961544</td>\n",
       "    </tr>\n",
       "    <tr>\n",
       "      <th>219</th>\n",
       "      <td>M270</td>\n",
       "      <td>Most cez odvodňovací kanál pred obcou Palárikovo</td>\n",
       "      <td>48.043267</td>\n",
       "      <td>18.005637</td>\n",
       "    </tr>\n",
       "    <tr>\n",
       "      <th>177</th>\n",
       "      <td>M3284</td>\n",
       "      <td>Most v Hornej Kráľovej - cez potok</td>\n",
       "      <td>48.244995</td>\n",
       "      <td>17.916764</td>\n",
       "    </tr>\n",
       "    <tr>\n",
       "      <th>488</th>\n",
       "      <td>M93</td>\n",
       "      <td>Most v obci Močenok</td>\n",
       "      <td>48.232865</td>\n",
       "      <td>17.923729</td>\n",
       "    </tr>\n",
       "    <tr>\n",
       "      <th>489</th>\n",
       "      <td>M5299</td>\n",
       "      <td>Most v obci Hájske</td>\n",
       "      <td>48.255537</td>\n",
       "      <td>17.870122</td>\n",
       "    </tr>\n",
       "  </tbody>\n",
       "</table>\n",
       "<p>526 rows × 4 columns</p>\n",
       "</div>"
      ],
      "text/plain": [
       "    ID_mosta                                       Názov_mosta  \\\n",
       "11     M2548    Most cez odvodňovací kanál pred obcou Pribeta.   \n",
       "59     M3518           Most cez rieku Vážsky Dunaj v Kolárove.   \n",
       "82     M2948               Most cez Malý Dunaj pred Kolárovom.   \n",
       "83     M3562               Most cez kanál Čergov za Kolárovom.   \n",
       "84     M7315                        Most Járok za Š.M. Čergov.   \n",
       "..       ...                                               ...   \n",
       "508    M3905            Most medzi hrádzami Váhu v obci Vlčany   \n",
       "219     M270  Most cez odvodňovací kanál pred obcou Palárikovo   \n",
       "177    M3284                Most v Hornej Kráľovej - cez potok   \n",
       "488      M93                               Most v obci Močenok   \n",
       "489    M5299                                Most v obci Hájske   \n",
       "\n",
       "     Zemepisná_šírka  Zemepisná_dĺžka  \n",
       "11         47.912412        18.299329  \n",
       "59         47.914398        18.010667  \n",
       "82         47.930289        17.982309  \n",
       "83         47.892730        18.010590  \n",
       "84         47.875617        18.010530  \n",
       "..               ...              ...  \n",
       "508        48.040019        17.961544  \n",
       "219        48.043267        18.005637  \n",
       "177        48.244995        17.916764  \n",
       "488        48.232865        17.923729  \n",
       "489        48.255537        17.870122  \n",
       "\n",
       "[526 rows x 4 columns]"
      ]
     },
     "execution_count": 185,
     "metadata": {},
     "output_type": "execute_result"
    }
   ],
   "source": [
    "sorted_bridges[[\"ID_mosta\", \"Názov_mosta\",\n",
    "                \"Zemepisná_šírka\", \"Zemepisná_dĺžka\"]]"
   ]
  },
  {
   "cell_type": "code",
   "execution_count": 186,
   "metadata": {},
   "outputs": [],
   "source": [
    "# Define the file path for the Excel file\n",
    "excel_file_path = \"sorted_bridges.xlsx\"\n",
    "\n",
    "# Export the DataFrame to Excel\n",
    "sorted_bridges[[\"ID_mosta\", \"Názov_mosta\", \"Zemepisná_šírka\",\n",
    "                \"Zemepisná_dĺžka\", \"Predmet_premostenia\"]].to_excel(excel_file_path, index=False)"
   ]
  },
  {
   "cell_type": "code",
   "execution_count": 187,
   "metadata": {},
   "outputs": [
    {
     "data": {
      "text/plain": [
       "Index(['ID_mosta', 'Trieda_PK', 'Číslo_PK', 'Most_DC', 'Názov_mosta', 'ID_DC',\n",
       "       'správcovské_číslo', 'Zemepisná_dĺžka', 'Zemepisná_šírka', 'Výška',\n",
       "       'Druh_konštrukcie', 'Material', 'Normálna_zaťažiteľnosť',\n",
       "       'Výhradná_zaťažiteľnosť_t', 'Výnimočná_zaťažiteľnosť_t',\n",
       "       'Spôsob_stanovenia', 'Predmet_premostenia', 'Rok_postavenia',\n",
       "       'Zaťažovacia_trieda_STN', 'Počet_otvorov', 'Dĺžka_premostenia',\n",
       "       'Dĺžka_nosnej_konštrukcie_m', 'Volná_šírka_mosta',\n",
       "       'Šírka_medzi_obrubami_m', 'Plocha_mosnej_konštrukcie_m2',\n",
       "       'Plocha_mosta_m2', 'Vlastník_úseku', 'Správca_úseku', 'Okres',\n",
       "       'Smer_úseku', 'Typ_úseku', 'Počiatočný_uzol', 'Koncový_uzol', 'úsek_ID',\n",
       "       'úsekové_staničenie_začiatku_DC_m',\n",
       "       'Kilometrovníkové_staničenie_začiatku_DC_km',\n",
       "       'Kumulatívne_staničenie_začiatku_DC_km', 'Poradie', 'Kraj', 'n_2012',\n",
       "       'n_2013', 'n_2014', 'n_2015', 'n_2016', 'n_2017', 'n_2018', 'n_2019',\n",
       "       'n_2020', 'n_2021', 'n_2022', 'n_2023'],\n",
       "      dtype='object')"
      ]
     },
     "execution_count": 187,
     "metadata": {},
     "output_type": "execute_result"
    }
   ],
   "source": [
    "sorted_bridges.columns"
   ]
  },
  {
   "cell_type": "code",
   "execution_count": 188,
   "metadata": {},
   "outputs": [],
   "source": [
    "import geopandas as gpd\n",
    "# Replace the file path with your actual file path\n",
    "# file_path = r'C:\\Users\\Doktor\\Documents\\GitHub\\Bridges\\GeoJSONs\\regions_epsg_4326.geojson'  # doma\n",
    "file_path = r'C:\\Users\\relia\\Documents\\GitHub\\Bridges\\GeoJSONs\\regions_epsg_4326.geojson'  # robota\n",
    "\n",
    "\n",
    "# Load the GeoJSON file into a GeoDataFrame\n",
    "gdf = gpd.read_file(file_path)\n",
    "# Display the first few rows of the GeoDataFrame"
   ]
  },
  {
   "cell_type": "code",
   "execution_count": 189,
   "metadata": {},
   "outputs": [],
   "source": [
    "import folium\n",
    "\n",
    "\n",
    "def plot_filtered_bridges(df, gdf, regions):\n",
    "    # Find the average coordinates for the initial map center\n",
    "    avg_lat = df['Zemepisná_šírka'].mean()\n",
    "    avg_long = df['Zemepisná_dĺžka'].mean()\n",
    "\n",
    "    # Create the map with custom tileset\n",
    "    m = folium.Map(location=[avg_lat, avg_long],\n",
    "                   zoom_start=9, tiles=\"Cartodb positron\")\n",
    "\n",
    "    # Colors for the markers\n",
    "    colors = [\"#ff6600\", \"#0066FF\"]\n",
    "\n",
    "    # Bridge icon\n",
    "    bridge_icon_url = \"https://raw.githubusercontent.com/Medvedku/Assets/main/markers/bridge_marker_Cartodb_orng.svg\"\n",
    "\n",
    "    for index, row in df.iterrows():\n",
    "        ic_size = 50\n",
    "        bridge_icon = folium.CustomIcon(\n",
    "            icon_image=bridge_icon_url,\n",
    "            icon_size=(ic_size, ic_size),\n",
    "            icon_anchor=(ic_size/2, ic_size)\n",
    "        )\n",
    "\n",
    "        popup_html = f\"<table style='width:400px;'>\"\n",
    "        popup_html += f\"<tr><th style='text-align:left;'>Názov mosta:</th><td>{row['Názov_mosta']}</td></tr>\"\n",
    "        popup_html += f\"<tr><th style='text-align:left;'>Trieda PK:</th><td>{row['Trieda_PK']}</td></tr>\"\n",
    "\n",
    "        popup_html += \"<tr><th style='text-align:left;'>Dĺžka premostenia:</th><td>\"\n",
    "        if pd.notna(row['Dĺžka_premostenia']):\n",
    "            popup_html += f\"{float(row['Dĺžka_premostenia'])} m\"\n",
    "        else:\n",
    "            popup_html += \"Unknown\"\n",
    "        popup_html += \"</td></tr>\"\n",
    "\n",
    "        popup_html += f\"<tr><th style='text-align:left;'>Druh konštrukcie:</th><td>{row['Druh_konštrukcie']}</td></tr>\"\n",
    "        popup_html += f\"<tr><th style='text-align:left;'>Materiál:</th><td>{row['Material']}</td></tr>\"\n",
    "        popup_html += f\"<tr><th style='text-align:left;'>Rok postavenia:</th><td>{row['Rok_postavenia']}</td></tr>\"\n",
    "        popup_html += f\"<tr><th style='text-align:left;'>GPS Coordinates:</th><td>({row['Zemepisná_šírka']:.4f}, {row['Zemepisná_dĺžka']:.4f})</td></tr>\"\n",
    "        popup_html += f\"</table>\"\n",
    "\n",
    "        popup = folium.Popup(popup_html, parse_html=False)\n",
    "\n",
    "        tooltip_html = f\"<table style='width:50px;'>\"\n",
    "        tooltip_html += f\"<tr><th colspan='2' style='text-align:left;'>Most {row['ID_mosta']}</th></tr>\"\n",
    "        tooltip_html += f\"<tr><td style='text-align:left;'>STS:</td><td>{row['n_2023']}</td></tr>\"\n",
    "        tooltip_html += f\"</table>\"\n",
    "\n",
    "        # Add the marker with the custom icon and popup\n",
    "        folium.Marker(\n",
    "            [row['Zemepisná_šírka'], row['Zemepisná_dĺžka']],\n",
    "            icon=bridge_icon,\n",
    "            popup=popup,\n",
    "            tooltip=tooltip_html\n",
    "        ).add_to(m)\n",
    "\n",
    "    # Filter the GeoDataFrame to include only the specified regions\n",
    "    region_gdf = gdf[gdf['NM4'].isin(regions)]\n",
    "\n",
    "    # Define custom style for the regions' polygons\n",
    "    def style_function(x): return {\n",
    "        'fillColor': '#FF6600', 'color': '#FF6600', 'weight': 2}\n",
    "\n",
    "    # Add the boundaries of the specified regions to the map with the custom style\n",
    "    folium.GeoJson(region_gdf, name='Regions Boundaries',\n",
    "                   style_function=style_function).add_to(m)\n",
    "\n",
    "    return m\n",
    "\n",
    "\n",
    "# Usage example (replace 'filtered_bridges' with your filtered DataFrame and adjust regions as needed)\n",
    "regions_to_plot = ['Nitriansky']\n",
    "map = plot_filtered_bridges(filtered_bridges, gdf, regions_to_plot)\n",
    "map.save('Bridges_NR.html')"
   ]
  },
  {
   "cell_type": "code",
   "execution_count": 190,
   "metadata": {},
   "outputs": [
    {
     "data": {
      "text/plain": [
       "n_2023\n",
       "4    283\n",
       "5    109\n",
       "3     92\n",
       "6     28\n",
       "2     12\n",
       "1      1\n",
       "7      1\n",
       "Name: count, dtype: int64"
      ]
     },
     "execution_count": 190,
     "metadata": {},
     "output_type": "execute_result"
    }
   ],
   "source": [
    "filtered_bridges[\"n_2023\"].value_counts()"
   ]
  },
  {
   "cell_type": "code",
   "execution_count": 191,
   "metadata": {},
   "outputs": [
    {
     "data": {
      "text/plain": [
       "n_2023\n",
       "4    3132\n",
       "5    1751\n",
       "3    1404\n",
       "6     800\n",
       "2     601\n",
       "1     383\n",
       "7      54\n",
       "Name: count, dtype: int64"
      ]
     },
     "execution_count": 191,
     "metadata": {},
     "output_type": "execute_result"
    }
   ],
   "source": [
    "df_bridges_all[\"n_2023\"].value_counts()"
   ]
  },
  {
   "cell_type": "code",
   "execution_count": 237,
   "metadata": {},
   "outputs": [
    {
     "data": {
      "application/vnd.plotly.v1+json": {
       "config": {
        "plotlyServerURL": "https://plot.ly"
       },
       "data": [
        {
         "histnorm": "percent",
         "marker": {
          "color": "#e7a564 "
         },
         "name": "Mosty RSÚC NR",
         "offsetgroup": "1",
         "opacity": 0.75,
         "type": "histogram",
         "x": [
          4,
          4,
          5,
          4,
          4,
          4,
          4,
          4,
          5,
          4,
          4,
          4,
          5,
          2,
          4,
          4,
          5,
          2,
          3,
          4,
          4,
          3,
          3,
          4,
          5,
          3,
          4,
          5,
          4,
          4,
          4,
          4,
          4,
          4,
          5,
          3,
          3,
          3,
          4,
          4,
          4,
          5,
          6,
          4,
          5,
          5,
          5,
          3,
          4,
          5,
          3,
          4,
          3,
          4,
          4,
          3,
          4,
          4,
          5,
          4,
          4,
          4,
          5,
          4,
          5,
          5,
          4,
          4,
          4,
          4,
          4,
          4,
          4,
          4,
          4,
          4,
          3,
          6,
          4,
          4,
          4,
          4,
          4,
          4,
          5,
          4,
          3,
          4,
          3,
          3,
          3,
          3,
          4,
          4,
          4,
          5,
          4,
          4,
          4,
          5,
          5,
          4,
          4,
          4,
          6,
          4,
          2,
          3,
          4,
          4,
          4,
          6,
          6,
          4,
          4,
          4,
          2,
          3,
          4,
          6,
          4,
          5,
          3,
          4,
          3,
          3,
          3,
          4,
          3,
          3,
          4,
          4,
          4,
          4,
          4,
          4,
          6,
          4,
          3,
          4,
          4,
          3,
          4,
          4,
          4,
          3,
          4,
          5,
          4,
          5,
          5,
          3,
          4,
          4,
          4,
          4,
          4,
          4,
          5,
          4,
          4,
          3,
          5,
          4,
          4,
          4,
          4,
          5,
          4,
          5,
          5,
          4,
          4,
          4,
          4,
          4,
          3,
          5,
          4,
          3,
          3,
          3,
          4,
          4,
          4,
          4,
          4,
          4,
          5,
          4,
          4,
          3,
          4,
          5,
          5,
          5,
          5,
          4,
          4,
          3,
          4,
          3,
          4,
          4,
          4,
          4,
          3,
          4,
          3,
          4,
          3,
          4,
          4,
          6,
          4,
          4,
          6,
          4,
          5,
          4,
          6,
          5,
          5,
          4,
          4,
          5,
          3,
          3,
          4,
          3,
          3,
          4,
          5,
          4,
          3,
          4,
          4,
          4,
          3,
          4,
          3,
          5,
          4,
          4,
          4,
          2,
          4,
          3,
          4,
          5,
          4,
          4,
          2,
          3,
          2,
          3,
          4,
          3,
          5,
          3,
          4,
          4,
          5,
          3,
          3,
          3,
          4,
          5,
          4,
          3,
          4,
          6,
          4,
          4,
          4,
          4,
          5,
          3,
          4,
          6,
          6,
          4,
          5,
          5,
          3,
          5,
          4,
          5,
          5,
          5,
          5,
          4,
          3,
          6,
          4,
          4,
          4,
          5,
          3,
          5,
          4,
          4,
          5,
          4,
          1,
          4,
          4,
          5,
          4,
          4,
          3,
          4,
          4,
          4,
          4,
          3,
          2,
          4,
          5,
          5,
          4,
          4,
          5,
          4,
          4,
          4,
          6,
          6,
          4,
          4,
          3,
          5,
          4,
          4,
          4,
          6,
          5,
          5,
          3,
          5,
          5,
          5,
          4,
          5,
          4,
          4,
          4,
          3,
          5,
          3,
          4,
          4,
          4,
          4,
          4,
          4,
          4,
          5,
          5,
          4,
          4,
          4,
          4,
          4,
          4,
          4,
          4,
          4,
          5,
          4,
          4,
          3,
          4,
          4,
          4,
          4,
          5,
          4,
          4,
          5,
          7,
          3,
          6,
          5,
          5,
          4,
          4,
          4,
          4,
          4,
          4,
          4,
          4,
          5,
          3,
          5,
          6,
          4,
          5,
          3,
          5,
          5,
          4,
          5,
          5,
          6,
          5,
          4,
          5,
          4,
          4,
          3,
          3,
          3,
          4,
          3,
          4,
          4,
          4,
          4,
          4,
          4,
          4,
          5,
          4,
          3,
          3,
          4,
          2,
          4,
          4,
          4,
          4,
          4,
          5,
          4,
          5,
          5,
          4,
          3,
          3,
          6,
          4,
          4,
          3,
          2,
          3,
          2,
          4,
          5,
          4,
          4,
          4,
          4,
          4,
          4,
          5,
          5,
          5,
          6,
          6,
          5,
          6,
          4,
          4,
          5,
          3,
          4,
          5,
          6,
          5,
          4,
          5,
          5,
          5,
          4,
          4,
          3,
          6,
          3,
          4,
          3,
          3,
          3,
          3,
          3,
          3,
          3,
          4,
          4,
          3,
          4,
          4,
          4,
          5,
          5,
          5,
          4,
          4,
          5,
          4,
          5,
          4,
          5,
          4,
          4,
          5,
          5,
          6,
          4,
          6,
          4,
          4,
          4,
          4,
          4,
          4,
          4,
          4,
          4,
          3,
          5,
          4,
          5,
          2,
          4
         ]
        },
        {
         "histnorm": "percent",
         "marker": {
          "color": "#46a7a2"
         },
         "name": "Všetky mosty",
         "offsetgroup": "2",
         "opacity": 0.75,
         "type": "histogram",
         "x": [
          5,
          6,
          4,
          4,
          5,
          6,
          6,
          6,
          5,
          5,
          5,
          4,
          4,
          1,
          6,
          5,
          4,
          5,
          3,
          7,
          4,
          4,
          5,
          6,
          6,
          6,
          4,
          6,
          1,
          5,
          5,
          3,
          4,
          3,
          3,
          5,
          3,
          6,
          3,
          3,
          5,
          4,
          6,
          4,
          6,
          5,
          6,
          2,
          4,
          4,
          4,
          5,
          4,
          4,
          4,
          4,
          3,
          3,
          4,
          4,
          4,
          5,
          1,
          6,
          4,
          4,
          3,
          3,
          2,
          2,
          2,
          2,
          2,
          3,
          2,
          4,
          4,
          4,
          4,
          4,
          4,
          1,
          1,
          1,
          1,
          1,
          1,
          1,
          1,
          1,
          1,
          1,
          1,
          1,
          1,
          1,
          3,
          3,
          3,
          4,
          4,
          5,
          6,
          6,
          5,
          6,
          5,
          7,
          6,
          6,
          6,
          5,
          5,
          4,
          4,
          6,
          5,
          4,
          5,
          3,
          5,
          5,
          4,
          6,
          5,
          4,
          3,
          4,
          5,
          6,
          5,
          4,
          7,
          7,
          2,
          5,
          5,
          5,
          5,
          4,
          5,
          2,
          7,
          3,
          5,
          4,
          3,
          4,
          6,
          6,
          6,
          4,
          3,
          3,
          3,
          5,
          4,
          4,
          5,
          4,
          5,
          5,
          4,
          1,
          2,
          4,
          4,
          4,
          4,
          4,
          2,
          3,
          5,
          4,
          3,
          4,
          2,
          4,
          6,
          1,
          3,
          4,
          2,
          2,
          3,
          3,
          6,
          3,
          3,
          4,
          2,
          2,
          1,
          4,
          5,
          5,
          6,
          4,
          3,
          2,
          4,
          4,
          2,
          6,
          5,
          6,
          4,
          4,
          4,
          4,
          3,
          3,
          3,
          6,
          5,
          4,
          3,
          3,
          4,
          4,
          4,
          6,
          5,
          5,
          4,
          5,
          4,
          2,
          4,
          4,
          5,
          5,
          5,
          2,
          3,
          4,
          6,
          1,
          4,
          4,
          1,
          4,
          4,
          5,
          2,
          4,
          1,
          4,
          4,
          5,
          5,
          2,
          5,
          4,
          2,
          4,
          6,
          5,
          4,
          6,
          1,
          5,
          4,
          4,
          3,
          3,
          6,
          4,
          3,
          4,
          4,
          4,
          5,
          6,
          4,
          4,
          2,
          6,
          6,
          3,
          7,
          2,
          5,
          4,
          4,
          4,
          5,
          5,
          4,
          5,
          5,
          4,
          4,
          4,
          5,
          4,
          4,
          4,
          4,
          5,
          5,
          6,
          2,
          2,
          3,
          3,
          4,
          5,
          6,
          4,
          3,
          5,
          4,
          4,
          4,
          4,
          5,
          4,
          5,
          4,
          4,
          4,
          5,
          4,
          4,
          3,
          2,
          4,
          6,
          2,
          2,
          4,
          3,
          2,
          2,
          2,
          4,
          5,
          5,
          3,
          4,
          4,
          5,
          3,
          4,
          6,
          4,
          4,
          5,
          4,
          7,
          4,
          4,
          4,
          3,
          5,
          4,
          5,
          5,
          3,
          4,
          4,
          4,
          4,
          5,
          4,
          3,
          6,
          5,
          4,
          4,
          3,
          4,
          4,
          4,
          4,
          2,
          2,
          2,
          2,
          2,
          5,
          3,
          3,
          4,
          5,
          6,
          5,
          6,
          5,
          5,
          5,
          5,
          4,
          3,
          3,
          5,
          2,
          3,
          5,
          5,
          3,
          6,
          2,
          2,
          1,
          1,
          3,
          3,
          5,
          3,
          4,
          2,
          3,
          3,
          1,
          2,
          5,
          4,
          5,
          5,
          4,
          5,
          6,
          5,
          3,
          4,
          3,
          4,
          3,
          6,
          3,
          4,
          5,
          5,
          5,
          4,
          4,
          5,
          5,
          5,
          5,
          6,
          3,
          5,
          4,
          4,
          4,
          6,
          6,
          4,
          4,
          4,
          6,
          4,
          3,
          4,
          3,
          2,
          2,
          4,
          3,
          2,
          4,
          3,
          3,
          3,
          3,
          3,
          2,
          2,
          3,
          2,
          3,
          3,
          3,
          2,
          2,
          2,
          2,
          4,
          4,
          5,
          3,
          5,
          5,
          5,
          4,
          1,
          1,
          4,
          6,
          5,
          4,
          5,
          4,
          5,
          6,
          5,
          6,
          5,
          5,
          6,
          6,
          5,
          5,
          5,
          5,
          5,
          5,
          5,
          5,
          5,
          5,
          3,
          5,
          6,
          5,
          6,
          4,
          5,
          6,
          6,
          6,
          4,
          5,
          5,
          5,
          4,
          6,
          5,
          6,
          5,
          5,
          5,
          6,
          6,
          4,
          4,
          5,
          5,
          6,
          6,
          5,
          5,
          5,
          5,
          4,
          5,
          4,
          5,
          2,
          4,
          6,
          2,
          5,
          4,
          2,
          3,
          3,
          3,
          4,
          4,
          4,
          4,
          3,
          4,
          6,
          4,
          5,
          3,
          5,
          3,
          4,
          4,
          3,
          4,
          3,
          4,
          4,
          4,
          3,
          3,
          5,
          3,
          3,
          4,
          2,
          2,
          4,
          4,
          2,
          4,
          3,
          3,
          4,
          3,
          3,
          4,
          4,
          5,
          3,
          3,
          6,
          4,
          4,
          4,
          4,
          3,
          4,
          3,
          2,
          3,
          3,
          2,
          3,
          4,
          4,
          6,
          5,
          5,
          5,
          5,
          4,
          4,
          3,
          3,
          5,
          4,
          5,
          4,
          6,
          5,
          4,
          4,
          4,
          5,
          4,
          3,
          4,
          4,
          6,
          5,
          4,
          5,
          6,
          4,
          6,
          6,
          5,
          4,
          5,
          3,
          4,
          4,
          5,
          5,
          4,
          6,
          3,
          3,
          3,
          3,
          2,
          4,
          4,
          4,
          5,
          3,
          5,
          4,
          4,
          4,
          6,
          5,
          6,
          3,
          6,
          5,
          6,
          5,
          5,
          5,
          5,
          5,
          6,
          6,
          6,
          5,
          4,
          5,
          5,
          5,
          5,
          6,
          5,
          6,
          6,
          5,
          6,
          6,
          6,
          6,
          6,
          6,
          5,
          6,
          6,
          5,
          4,
          4,
          3,
          4,
          3,
          5,
          5,
          4,
          2,
          1,
          4,
          4,
          5,
          6,
          6,
          3,
          1,
          1,
          1,
          1,
          2,
          1,
          5,
          5,
          5,
          5,
          4,
          6,
          7,
          6,
          6,
          6,
          6,
          6,
          6,
          7,
          2,
          4,
          4,
          6,
          5,
          6,
          4,
          4,
          4,
          2,
          5,
          5,
          6,
          2,
          5,
          5,
          6,
          5,
          6,
          6,
          6,
          5,
          7,
          4,
          4,
          6,
          1,
          4,
          2,
          2,
          4,
          1,
          1,
          4,
          4,
          3,
          3,
          2,
          3,
          3,
          3,
          4,
          3,
          4,
          4,
          4,
          4,
          5,
          3,
          4,
          4,
          1,
          4,
          2,
          1,
          3,
          3,
          4,
          2,
          1,
          1,
          3,
          3,
          5,
          4,
          2,
          2,
          5,
          6,
          5,
          6,
          5,
          5,
          1,
          6,
          5,
          5,
          5,
          6,
          5,
          6,
          5,
          3,
          5,
          5,
          6,
          5,
          5,
          2,
          5,
          6,
          4,
          3,
          5,
          1,
          5,
          5,
          5,
          4,
          4,
          4,
          4,
          4,
          1,
          4,
          4,
          5,
          6,
          2,
          2,
          2,
          4,
          1,
          4,
          5,
          2,
          5,
          6,
          4,
          5,
          3,
          6,
          4,
          5,
          4,
          3,
          6,
          3,
          6,
          5,
          1,
          4,
          4,
          3,
          4,
          3,
          4,
          5,
          5,
          4,
          4,
          5,
          5,
          7,
          3,
          3,
          6,
          5,
          2,
          2,
          2,
          4,
          2,
          2,
          2,
          4,
          4,
          5,
          7,
          4,
          3,
          2,
          4,
          4,
          5,
          5,
          4,
          3,
          3,
          3,
          3,
          4,
          4,
          4,
          5,
          6,
          6,
          5,
          6,
          5,
          4,
          4,
          4,
          4,
          4,
          6,
          6,
          4,
          5,
          5,
          4,
          4,
          4,
          4,
          4,
          5,
          5,
          4,
          3,
          3,
          4,
          5,
          6,
          4,
          5,
          4,
          4,
          4,
          6,
          4,
          4,
          6,
          5,
          5,
          5,
          4,
          4,
          5,
          5,
          5,
          5,
          6,
          4,
          3,
          3,
          3,
          4,
          3,
          7,
          4,
          4,
          5,
          4,
          3,
          2,
          5,
          6,
          1,
          5,
          4,
          4,
          4,
          3,
          3,
          3,
          4,
          6,
          6,
          5,
          5,
          5,
          4,
          4,
          4,
          5,
          6,
          4,
          2,
          4,
          2,
          2,
          5,
          4,
          4,
          3,
          7,
          5,
          4,
          5,
          1,
          1,
          2,
          5,
          6,
          6,
          6,
          4,
          4,
          5,
          4,
          4,
          4,
          4,
          5,
          5,
          5,
          4,
          4,
          1,
          5,
          6,
          5,
          5,
          5,
          6,
          6,
          5,
          5,
          6,
          6,
          6,
          6,
          5,
          6,
          5,
          6,
          5,
          5,
          5,
          5,
          5,
          5,
          5,
          5,
          6,
          4,
          4,
          3,
          3,
          5,
          5,
          5,
          5,
          5,
          4,
          4,
          6,
          2,
          4,
          3,
          3,
          3,
          1,
          2,
          2,
          2,
          1,
          1,
          3,
          2,
          5,
          5,
          1,
          3,
          1,
          1,
          1,
          1,
          3,
          2,
          2,
          2,
          2,
          2,
          4,
          5,
          5,
          5,
          5,
          5,
          5,
          5,
          5,
          5,
          5,
          4,
          4,
          4,
          3,
          4,
          6,
          5,
          5,
          5,
          4,
          4,
          4,
          5,
          4,
          5,
          6,
          5,
          4,
          3,
          3,
          5,
          5,
          5,
          5,
          5,
          5,
          5,
          3,
          5,
          5,
          6,
          5,
          6,
          6,
          5,
          4,
          3,
          4,
          4,
          4,
          5,
          5,
          4,
          5,
          4,
          4,
          5,
          4,
          5,
          6,
          4,
          6,
          6,
          6,
          5,
          6,
          5,
          5,
          5,
          6,
          5,
          5,
          5,
          4,
          5,
          4,
          6,
          1,
          6,
          5,
          5,
          4,
          4,
          6,
          6,
          5,
          4,
          5,
          6,
          6,
          5,
          5,
          4,
          5,
          4,
          5,
          6,
          5,
          3,
          3,
          4,
          6,
          3,
          3,
          4,
          3,
          5,
          4,
          3,
          3,
          6,
          5,
          4,
          4,
          2,
          3,
          5,
          6,
          6,
          3,
          6,
          3,
          2,
          7,
          3,
          1,
          5,
          5,
          5,
          6,
          6,
          5,
          5,
          4,
          3,
          3,
          4,
          5,
          7,
          4,
          4,
          5,
          4,
          6,
          5,
          4,
          4,
          4,
          6,
          5,
          4,
          6,
          3,
          2,
          5,
          6,
          3,
          3,
          5,
          4,
          5,
          4,
          6,
          4,
          4,
          4,
          4,
          6,
          4,
          5,
          5,
          4,
          4,
          4,
          5,
          6,
          2,
          2,
          2,
          2,
          5,
          2,
          4,
          7,
          5,
          4,
          7,
          5,
          2,
          7,
          5,
          5,
          5,
          5,
          3,
          4,
          6,
          2,
          5,
          5,
          2,
          7,
          4,
          3,
          2,
          5,
          6,
          4,
          5,
          6,
          4,
          4,
          5,
          5,
          5,
          4,
          4,
          2,
          6,
          3,
          4,
          4,
          4,
          4,
          6,
          2,
          2,
          4,
          4,
          4,
          6,
          4,
          4,
          3,
          3,
          5,
          3,
          3,
          3,
          3,
          4,
          5,
          4,
          4,
          5,
          6,
          5,
          6,
          3,
          6,
          4,
          5,
          4,
          4,
          4,
          3,
          1,
          6,
          4,
          6,
          4,
          3,
          4,
          5,
          6,
          5,
          5,
          5,
          6,
          6,
          4,
          4,
          5,
          5,
          4,
          5,
          5,
          5,
          5,
          6,
          5,
          4,
          5,
          6,
          5,
          5,
          4,
          4,
          5,
          6,
          5,
          6,
          4,
          4,
          4,
          4,
          3,
          3,
          3,
          4,
          4,
          4,
          4,
          7,
          3,
          3,
          2,
          1,
          3,
          3,
          2,
          3,
          2,
          3,
          3,
          4,
          2,
          2,
          3,
          6,
          6,
          3,
          3,
          4,
          2,
          6,
          4,
          1,
          3,
          4,
          2,
          4,
          3,
          2,
          4,
          3,
          3,
          4,
          5,
          6,
          5,
          6,
          6,
          4,
          6,
          4,
          6,
          3,
          3,
          3,
          2,
          3,
          4,
          2,
          4,
          4,
          4,
          2,
          3,
          3,
          4,
          4,
          4,
          2,
          4,
          3,
          3,
          4,
          5,
          5,
          3,
          4,
          4,
          6,
          4,
          5,
          4,
          4,
          4,
          4,
          4,
          3,
          4,
          5,
          5,
          5,
          4,
          5,
          6,
          5,
          4,
          3,
          6,
          5,
          5,
          6,
          6,
          4,
          4,
          3,
          6,
          4,
          6,
          7,
          6,
          2,
          2,
          4,
          3,
          5,
          5,
          4,
          5,
          5,
          4,
          6,
          5,
          6,
          4,
          3,
          4,
          3,
          6,
          5,
          4,
          5,
          3,
          5,
          4,
          5,
          4,
          4,
          5,
          4,
          5,
          4,
          4,
          5,
          5,
          5,
          5,
          5,
          5,
          5,
          5,
          4,
          5,
          6,
          6,
          6,
          5,
          4,
          5,
          4,
          5,
          4,
          5,
          6,
          5,
          6,
          5,
          5,
          6,
          6,
          6,
          5,
          6,
          5,
          6,
          5,
          6,
          5,
          4,
          4,
          4,
          4,
          4,
          4,
          4,
          4,
          4,
          6,
          4,
          6,
          6,
          4,
          6,
          5,
          5,
          4,
          4,
          4,
          5,
          4,
          5,
          6,
          5,
          5,
          6,
          6,
          5,
          4,
          4,
          3,
          6,
          4,
          4,
          6,
          3,
          3,
          7,
          3,
          4,
          3,
          6,
          3,
          4,
          4,
          3,
          4,
          5,
          5,
          4,
          6,
          5,
          4,
          4,
          6,
          5,
          7,
          5,
          6,
          5,
          4,
          4,
          5,
          5,
          5,
          4,
          4,
          3,
          3,
          5,
          4,
          4,
          3,
          5,
          5,
          4,
          5,
          5,
          6,
          2,
          2,
          2,
          2,
          2,
          2,
          2,
          2,
          2,
          3,
          2,
          2,
          2,
          3,
          3,
          2,
          2,
          2,
          6,
          2,
          4,
          4,
          6,
          3,
          4,
          4,
          4,
          4,
          4,
          3,
          5,
          5,
          4,
          6,
          6,
          7,
          3,
          4,
          3,
          5,
          5,
          3,
          3,
          4,
          4,
          3,
          4,
          2,
          5,
          2,
          3,
          5,
          6,
          4,
          5,
          4,
          5,
          2,
          4,
          6,
          4,
          3,
          5,
          4,
          5,
          7,
          4,
          4,
          2,
          4,
          4,
          4,
          5,
          4,
          3,
          5,
          5,
          3,
          3,
          4,
          5,
          4,
          2,
          7,
          4,
          4,
          3,
          4,
          4,
          4,
          6,
          6,
          4,
          3,
          4,
          3,
          2,
          3,
          3,
          2,
          2,
          5,
          4,
          3,
          6,
          4,
          5,
          5,
          4,
          3,
          3,
          4,
          4,
          4,
          5,
          1,
          4,
          3,
          3,
          4,
          3,
          5,
          3,
          3,
          5,
          3,
          4,
          4,
          4,
          4,
          6,
          4,
          4,
          5,
          3,
          6,
          4,
          3,
          2,
          4,
          4,
          5,
          5,
          5,
          4,
          3,
          4,
          4,
          5,
          4,
          4,
          4,
          4,
          4,
          5,
          4,
          4,
          5,
          3,
          4,
          4,
          4,
          5,
          5,
          4,
          4,
          5,
          1,
          4,
          6,
          6,
          5,
          4,
          5,
          4,
          5,
          4,
          4,
          4,
          5,
          3,
          4,
          5,
          4,
          5,
          3,
          6,
          6,
          4,
          4,
          4,
          4,
          4,
          5,
          5,
          6,
          6,
          4,
          6,
          3,
          3,
          3,
          4,
          3,
          6,
          4,
          4,
          5,
          4,
          5,
          4,
          4,
          4,
          4,
          4,
          4,
          4,
          4,
          4,
          4,
          5,
          4,
          5,
          4,
          6,
          5,
          4,
          6,
          4,
          4,
          4,
          6,
          5,
          5,
          5,
          6,
          4,
          6,
          5,
          5,
          4,
          5,
          4,
          4,
          4,
          6,
          6,
          6,
          6,
          5,
          4,
          4,
          6,
          4,
          1,
          3,
          3,
          6,
          4,
          4,
          6,
          5,
          5,
          5,
          4,
          4,
          6,
          5,
          5,
          4,
          2,
          6,
          4,
          4,
          4,
          1,
          4,
          1,
          6,
          4,
          4,
          4,
          3,
          3,
          5,
          4,
          4,
          5,
          4,
          7,
          3,
          4,
          5,
          4,
          6,
          2,
          5,
          4,
          6,
          4,
          5,
          6,
          6,
          5,
          4,
          5,
          5,
          4,
          5,
          5,
          4,
          5,
          4,
          4,
          2,
          4,
          1,
          1,
          5,
          4,
          5,
          5,
          4,
          4,
          4,
          4,
          3,
          4,
          6,
          4,
          3,
          5,
          4,
          4,
          5,
          6,
          6,
          6,
          3,
          5,
          4,
          5,
          4,
          6,
          4,
          4,
          3,
          4,
          3,
          5,
          3,
          5,
          3,
          5,
          6,
          5,
          2,
          4,
          2,
          6,
          4,
          5,
          5,
          3,
          6,
          4,
          6,
          5,
          1,
          4,
          3,
          3,
          3,
          5,
          3,
          4,
          3,
          3,
          4,
          3,
          4,
          4,
          4,
          4,
          5,
          4,
          4,
          7,
          3,
          4,
          2,
          4,
          4,
          5,
          2,
          3,
          4,
          4,
          3,
          3,
          4,
          5,
          3,
          4,
          5,
          4,
          4,
          4,
          4,
          4,
          4,
          4,
          5,
          5,
          4,
          4,
          4,
          4,
          5,
          4,
          4,
          3,
          5,
          5,
          3,
          4,
          5,
          4,
          5,
          4,
          6,
          4,
          4,
          4,
          4,
          4,
          4,
          5,
          4,
          4,
          5,
          3,
          3,
          3,
          4,
          6,
          3,
          3,
          3,
          3,
          3,
          3,
          5,
          5,
          4,
          4,
          6,
          6,
          4,
          4,
          4,
          3,
          5,
          1,
          3,
          1,
          4,
          1,
          6,
          5,
          3,
          3,
          6,
          5,
          4,
          6,
          3,
          4,
          4,
          5,
          5,
          4,
          4,
          3,
          3,
          4,
          4,
          3,
          5,
          6,
          6,
          6,
          4,
          4,
          5,
          5,
          5,
          4,
          4,
          3,
          2,
          4,
          4,
          4,
          4,
          2,
          6,
          4,
          4,
          3,
          4,
          3,
          4,
          4,
          3,
          4,
          3,
          3,
          4,
          3,
          3,
          4,
          3,
          4,
          3,
          4,
          3,
          4,
          3,
          4,
          3,
          4,
          3,
          4,
          4,
          5,
          5,
          6,
          5,
          2,
          4,
          4,
          5,
          6,
          4,
          5,
          5,
          4,
          2,
          4,
          5,
          4,
          4,
          4,
          4,
          5,
          5,
          3,
          3,
          4,
          4,
          4,
          4,
          4,
          4,
          3,
          6,
          4,
          4,
          4,
          3,
          5,
          5,
          4,
          4,
          5,
          4,
          4,
          4,
          3,
          3,
          4,
          4,
          3,
          4,
          6,
          4,
          4,
          5,
          3,
          4,
          4,
          4,
          4,
          2,
          4,
          4,
          5,
          6,
          4,
          5,
          4,
          4,
          4,
          5,
          4,
          5,
          3,
          4,
          3,
          4,
          4,
          4,
          4,
          4,
          4,
          3,
          3,
          4,
          4,
          5,
          4,
          4,
          4,
          3,
          4,
          4,
          4,
          4,
          4,
          4,
          4,
          4,
          4,
          4,
          4,
          4,
          5,
          6,
          6,
          3,
          3,
          4,
          5,
          4,
          4,
          4,
          4,
          4,
          4,
          4,
          3,
          5,
          6,
          6,
          4,
          4,
          4,
          5,
          4,
          1,
          4,
          4,
          3,
          4,
          4,
          4,
          4,
          6,
          4,
          4,
          4,
          6,
          4,
          3,
          3,
          4,
          4,
          4,
          4,
          4,
          4,
          4,
          4,
          4,
          4,
          4,
          4,
          4,
          4,
          4,
          4,
          5,
          6,
          5,
          5,
          5,
          6,
          5,
          6,
          5,
          6,
          4,
          5,
          6,
          7,
          4,
          6,
          5,
          5,
          4,
          4,
          3,
          3,
          6,
          6,
          5,
          4,
          6,
          4,
          4,
          6,
          5,
          4,
          6,
          4,
          5,
          5,
          5,
          2,
          2,
          2,
          4,
          4,
          4,
          2,
          3,
          4,
          4,
          4,
          5,
          5,
          4,
          4,
          4,
          4,
          3,
          5,
          5,
          5,
          5,
          5,
          3,
          3,
          5,
          4,
          4,
          5,
          5,
          4,
          4,
          5,
          4,
          5,
          6,
          4,
          4,
          4,
          4,
          4,
          5,
          4,
          5,
          4,
          4,
          3,
          4,
          4,
          4,
          4,
          6,
          5,
          5,
          6,
          4,
          4,
          4,
          4,
          4,
          5,
          4,
          5,
          4,
          5,
          4,
          6,
          4,
          5,
          1,
          1,
          2,
          4,
          4,
          4,
          2,
          2,
          4,
          4,
          4,
          4,
          4,
          3,
          4,
          5,
          5,
          3,
          4,
          4,
          4,
          4,
          4,
          5,
          5,
          3,
          3,
          4,
          5,
          3,
          5,
          4,
          3,
          4,
          3,
          1,
          3,
          4,
          4,
          2,
          2,
          5,
          5,
          5,
          2,
          3,
          4,
          2,
          2,
          4,
          4,
          4,
          4,
          4,
          4,
          5,
          4,
          4,
          4,
          4,
          3,
          3,
          4,
          4,
          3,
          4,
          3,
          6,
          5,
          4,
          3,
          3,
          3,
          6,
          6,
          6,
          6,
          5,
          5,
          5,
          4,
          5,
          5,
          4,
          5,
          5,
          5,
          3,
          6,
          5,
          4,
          5,
          5,
          5,
          6,
          4,
          5,
          4,
          5,
          6,
          6,
          3,
          5,
          6,
          5,
          5,
          5,
          7,
          1,
          4,
          1,
          4,
          3,
          3,
          3,
          3,
          3,
          2,
          1,
          1,
          1,
          3,
          5,
          4,
          4,
          5,
          4,
          4,
          4,
          5,
          5,
          2,
          5,
          4,
          6,
          4,
          4,
          6,
          6,
          5,
          5,
          4,
          4,
          3,
          6,
          6,
          6,
          4,
          6,
          5,
          6,
          6,
          6,
          5,
          5,
          6,
          5,
          4,
          5,
          4,
          4,
          4,
          5,
          4,
          5,
          4,
          3,
          1,
          5,
          1,
          5,
          1,
          5,
          4,
          4,
          5,
          4,
          3,
          2,
          5,
          5,
          5,
          5,
          5,
          6,
          5,
          4,
          5,
          4,
          5,
          6,
          5,
          6,
          6,
          5,
          4,
          4,
          7,
          5,
          4,
          4,
          1,
          6,
          6,
          6,
          6,
          5,
          3,
          5,
          5,
          4,
          5,
          6,
          5,
          4,
          4,
          4,
          3,
          4,
          5,
          4,
          5,
          4,
          4,
          4,
          5,
          4,
          4,
          4,
          3,
          4,
          4,
          4,
          4,
          4,
          4,
          4,
          5,
          4,
          4,
          4,
          4,
          4,
          6,
          7,
          4,
          6,
          6,
          6,
          5,
          6,
          5,
          4,
          5,
          6,
          3,
          3,
          4,
          2,
          3,
          5,
          4,
          5,
          4,
          4,
          4,
          4,
          4,
          4,
          4,
          5,
          5,
          5,
          5,
          5,
          6,
          4,
          5,
          5,
          3,
          5,
          6,
          5,
          4,
          5,
          4,
          5,
          5,
          5,
          5,
          4,
          4,
          5,
          5,
          4,
          6,
          5,
          5,
          5,
          5,
          4,
          5,
          5,
          2,
          5,
          6,
          4,
          4,
          5,
          5,
          5,
          5,
          5,
          3,
          2,
          4,
          5,
          4,
          4,
          6,
          5,
          4,
          7,
          5,
          5,
          6,
          4,
          5,
          5,
          3,
          4,
          3,
          4,
          4,
          3,
          4,
          4,
          5,
          4,
          4,
          4,
          5,
          4,
          5,
          5,
          4,
          4,
          4,
          4,
          4,
          4,
          4,
          4,
          4,
          4,
          3,
          6,
          4,
          4,
          4,
          4,
          6,
          6,
          4,
          6,
          6,
          5,
          6,
          4,
          5,
          5,
          5,
          7,
          4,
          4,
          5,
          5,
          4,
          6,
          6,
          6,
          4,
          5,
          5,
          4,
          6,
          5,
          4,
          5,
          6,
          5,
          5,
          6,
          6,
          5,
          5,
          5,
          4,
          4,
          3,
          4,
          4,
          3,
          5,
          4,
          4,
          4,
          4,
          3,
          4,
          4,
          3,
          3,
          3,
          4,
          3,
          6,
          3,
          3,
          4,
          4,
          7,
          4,
          3,
          4,
          3,
          5,
          3,
          4,
          5,
          5,
          6,
          7,
          4,
          4,
          5,
          4,
          3,
          4,
          3,
          3,
          3,
          3,
          7,
          5,
          5,
          4,
          3,
          3,
          3,
          4,
          6,
          4,
          3,
          5,
          4,
          3,
          4,
          4,
          4,
          5,
          4,
          4,
          4,
          1,
          3,
          3,
          3,
          3,
          3,
          3,
          4,
          4,
          3,
          2,
          2,
          4,
          3,
          3,
          4,
          4,
          4,
          4,
          6,
          5,
          4,
          2,
          3,
          2,
          3,
          4,
          3,
          5,
          4,
          5,
          5,
          6,
          4,
          4,
          3,
          4,
          4,
          3,
          5,
          5,
          5,
          5,
          3,
          4,
          7,
          5,
          4,
          6,
          6,
          3,
          3,
          3,
          2,
          1,
          3,
          3,
          4,
          2,
          1,
          3,
          3,
          4,
          4,
          4,
          5,
          4,
          4,
          4,
          5,
          5,
          4,
          4,
          4,
          6,
          4,
          3,
          5,
          4,
          4,
          4,
          4,
          4,
          4,
          4,
          4,
          4,
          3,
          5,
          5,
          4,
          6,
          6,
          6,
          5,
          4,
          6,
          6,
          5,
          6,
          4,
          6,
          5,
          4,
          4,
          6,
          3,
          3,
          3,
          4,
          6,
          4,
          3,
          3,
          6,
          5,
          2,
          3,
          3,
          3,
          3,
          5,
          3,
          3,
          2,
          3,
          2,
          2,
          3,
          5,
          5,
          5,
          2,
          1,
          1,
          1,
          1,
          4,
          3,
          2,
          2,
          4,
          3,
          4,
          1,
          1,
          4,
          4,
          4,
          4,
          1,
          4,
          4,
          6,
          6,
          3,
          3,
          5,
          1,
          3,
          3,
          4,
          5,
          4,
          3,
          3,
          2,
          3,
          2,
          3,
          3,
          3,
          4,
          3,
          3,
          4,
          5,
          5,
          3,
          4,
          4,
          5,
          4,
          4,
          3,
          3,
          3,
          3,
          6,
          4,
          4,
          4,
          4,
          4,
          6,
          4,
          4,
          5,
          4,
          4,
          4,
          2,
          3,
          4,
          4,
          4,
          6,
          6,
          4,
          4,
          4,
          2,
          3,
          4,
          6,
          4,
          3,
          5,
          6,
          4,
          4,
          4,
          5,
          4,
          6,
          5,
          3,
          5,
          3,
          3,
          3,
          3,
          4,
          3,
          3,
          4,
          4,
          5,
          4,
          5,
          3,
          4,
          5,
          4,
          4,
          3,
          4,
          3,
          4,
          6,
          4,
          5,
          5,
          5,
          5,
          4,
          5,
          3,
          4,
          3,
          3,
          3,
          4,
          3,
          3,
          4,
          3,
          3,
          6,
          4,
          3,
          4,
          3,
          5,
          4,
          3,
          5,
          5,
          4,
          5,
          4,
          4,
          5,
          4,
          5,
          4,
          5,
          4,
          5,
          4,
          6,
          4,
          4,
          4,
          4,
          4,
          6,
          5,
          4,
          4,
          4,
          4,
          5,
          4,
          4,
          4,
          4,
          5,
          4,
          5,
          6,
          4,
          5,
          6,
          6,
          5,
          4,
          6,
          6,
          5,
          1,
          6,
          5,
          4,
          4,
          3,
          4,
          3,
          4,
          3,
          4,
          4,
          4,
          4,
          4,
          3,
          4,
          4,
          3,
          3,
          6,
          3,
          4,
          4,
          3,
          1,
          4,
          5,
          5,
          5,
          3,
          4,
          2,
          4,
          5,
          4,
          4,
          4,
          4,
          4,
          4,
          4,
          4,
          4,
          4,
          3,
          3,
          4,
          4,
          4,
          2,
          4,
          3,
          5,
          4,
          2,
          4,
          4,
          5,
          3,
          4,
          3,
          4,
          2,
          3,
          3,
          3,
          3,
          3,
          6,
          4,
          4,
          4,
          4,
          4,
          4,
          4,
          3,
          2,
          3,
          2,
          2,
          6,
          3,
          3,
          1,
          4,
          4,
          3,
          3,
          4,
          4,
          5,
          4,
          4,
          3,
          2,
          4,
          4,
          5,
          5,
          3,
          3,
          4,
          4,
          4,
          3,
          4,
          4,
          4,
          3,
          3,
          3,
          4,
          4,
          4,
          4,
          4,
          5,
          4,
          5,
          3,
          3,
          4,
          5,
          5,
          4,
          4,
          4,
          4,
          5,
          2,
          3,
          3,
          3,
          3,
          2,
          3,
          5,
          4,
          4,
          4,
          3,
          4,
          4,
          4,
          3,
          2,
          4,
          4,
          1,
          4,
          6,
          4,
          1,
          4,
          2,
          2,
          2,
          3,
          5,
          4,
          3,
          3,
          6,
          6,
          4,
          4,
          6,
          3,
          4,
          3,
          4,
          4,
          3,
          3,
          4,
          4,
          3,
          3,
          3,
          4,
          5,
          4,
          3,
          5,
          6,
          3,
          3,
          3,
          4,
          3,
          5,
          6,
          3,
          4,
          2,
          3,
          3,
          4,
          4,
          4,
          3,
          4,
          4,
          3,
          4,
          6,
          6,
          2,
          6,
          2,
          5,
          5,
          3,
          4,
          6,
          5,
          4,
          6,
          4,
          3,
          3,
          3,
          6,
          2,
          6,
          5,
          4,
          6,
          5,
          4,
          5,
          4,
          4,
          4,
          4,
          6,
          4,
          3,
          3,
          3,
          5,
          4,
          4,
          5,
          4,
          5,
          5,
          4,
          5,
          5,
          5,
          4,
          3,
          4,
          4,
          5,
          5,
          5,
          5,
          4,
          6,
          4,
          4,
          4,
          4,
          5,
          4,
          6,
          5,
          4,
          6,
          5,
          3,
          5,
          5,
          2,
          5,
          5,
          4,
          4,
          5,
          4,
          6,
          4,
          5,
          5,
          4,
          4,
          6,
          4,
          4,
          5,
          1,
          5,
          5,
          5,
          5,
          6,
          6,
          5,
          4,
          4,
          4,
          5,
          2,
          6,
          5,
          6,
          5,
          6,
          5,
          4,
          4,
          5,
          6,
          5,
          4,
          4,
          6,
          4,
          4,
          5,
          5,
          4,
          3,
          5,
          5,
          5,
          5,
          5,
          5,
          5,
          5,
          4,
          5,
          5,
          5,
          6,
          5,
          5,
          5,
          4,
          4,
          4,
          4,
          5,
          3,
          4,
          5,
          5,
          5,
          5,
          6,
          6,
          5,
          3,
          4,
          5,
          5,
          5,
          3,
          5,
          5,
          6,
          5,
          5,
          5,
          3,
          5,
          5,
          5,
          5,
          5,
          4,
          6,
          6,
          4,
          4,
          5,
          6,
          5,
          5,
          3,
          6,
          4,
          4,
          4,
          6,
          4,
          5,
          5,
          4,
          1,
          1,
          6,
          6,
          4,
          6,
          4,
          5,
          6,
          1,
          5,
          5,
          5,
          5,
          5,
          6,
          1,
          5,
          4,
          4,
          3,
          5,
          4,
          5,
          4,
          4,
          3,
          4,
          5,
          4,
          4,
          4,
          4,
          4,
          4,
          4,
          4,
          4,
          4,
          4,
          4,
          4,
          4,
          5,
          4,
          4,
          4,
          4,
          6,
          6,
          5,
          3,
          4,
          4,
          4,
          4,
          4,
          4,
          4,
          5,
          5,
          5,
          5,
          5,
          3,
          4,
          5,
          4,
          4,
          4,
          3,
          4,
          4,
          4,
          5,
          5,
          5,
          4,
          4,
          3,
          3,
          4,
          5,
          3,
          5,
          3,
          4,
          1,
          5,
          4,
          4,
          3,
          4,
          4,
          4,
          4,
          4,
          3,
          3,
          4,
          3,
          4,
          4,
          3,
          5,
          3,
          3,
          4,
          5,
          6,
          3,
          3,
          3,
          4,
          4,
          3,
          4,
          4,
          4,
          5,
          4,
          4,
          5,
          6,
          5,
          4,
          4,
          4,
          3,
          3,
          3,
          4,
          3,
          3,
          4,
          4,
          3,
          3,
          5,
          4,
          6,
          3,
          4,
          4,
          4,
          4,
          4,
          4,
          4,
          3,
          4,
          3,
          5,
          4,
          3,
          4,
          5,
          5,
          3,
          3,
          6,
          6,
          4,
          5,
          4,
          4,
          5,
          4,
          5,
          5,
          6,
          4,
          3,
          6,
          5,
          5,
          5,
          5,
          3,
          4,
          5,
          2,
          3,
          4,
          5,
          4,
          4,
          6,
          6,
          3,
          4,
          4,
          4,
          5,
          4,
          3,
          6,
          3,
          4,
          3,
          3,
          4,
          3,
          4,
          3,
          4,
          4,
          3,
          4,
          5,
          4,
          3,
          3,
          3,
          3,
          4,
          4,
          3,
          5,
          3,
          3,
          4,
          4,
          4,
          4,
          5,
          4,
          4,
          3,
          4,
          3,
          3,
          4,
          4,
          4,
          4,
          4,
          4,
          4,
          4,
          4,
          5,
          3,
          4,
          4,
          3,
          4,
          4,
          4,
          5,
          4,
          4,
          4,
          4,
          4,
          5,
          4,
          4,
          4,
          5,
          4,
          6,
          4,
          5,
          4,
          4,
          4,
          4,
          3,
          4,
          4,
          4,
          4,
          4,
          3,
          4,
          4,
          4,
          4,
          3,
          3,
          4,
          4,
          3,
          3,
          4,
          4,
          4,
          5,
          3,
          4,
          6,
          4,
          4,
          3,
          3,
          5,
          4,
          3,
          3,
          4,
          4,
          4,
          4,
          4,
          5,
          6,
          2,
          5,
          5,
          5,
          4,
          4,
          5,
          4,
          4,
          3,
          6,
          6,
          4,
          4,
          5,
          5,
          5,
          5,
          5,
          4,
          4,
          5,
          4,
          5,
          4,
          4,
          4,
          6,
          3,
          6,
          5,
          6,
          5,
          5,
          5,
          4,
          5,
          5,
          6,
          6,
          4,
          3,
          5,
          4,
          1,
          2,
          5,
          4,
          3,
          4,
          4,
          4,
          4,
          4,
          5,
          4,
          4,
          4,
          4,
          4,
          6,
          6,
          6,
          4,
          5,
          6,
          4,
          6,
          5,
          5,
          5,
          5,
          6,
          5,
          5,
          4,
          1,
          4,
          4,
          4,
          6,
          4,
          5,
          6,
          4,
          4,
          4,
          4,
          4,
          6,
          3,
          5,
          5,
          4,
          3,
          5,
          6,
          5,
          4,
          5,
          5,
          6,
          5,
          6,
          4,
          6,
          6,
          4,
          4,
          1,
          5,
          4,
          5,
          6,
          5,
          5,
          6,
          4,
          5,
          5,
          4,
          6,
          5,
          4,
          6,
          5,
          5,
          5,
          4,
          4,
          5,
          5,
          5,
          3,
          6,
          5,
          4,
          4,
          6,
          4,
          4,
          4,
          6,
          6,
          5,
          4,
          4,
          6,
          6,
          4,
          4,
          4,
          4,
          4,
          3,
          6,
          4,
          4,
          6,
          6,
          4,
          5,
          3,
          4,
          4,
          4,
          3,
          3,
          4,
          4,
          4,
          1,
          5,
          4,
          5,
          4,
          4,
          4,
          4,
          4,
          4,
          3,
          4,
          4,
          4,
          4,
          4,
          4,
          4,
          4,
          4,
          4,
          4,
          4,
          4,
          5,
          5,
          3,
          4,
          4,
          4,
          3,
          4,
          5,
          3,
          3,
          5,
          5,
          3,
          5,
          4,
          4,
          4,
          4,
          4,
          4,
          6,
          4,
          3,
          4,
          4,
          3,
          4,
          4,
          4,
          3,
          4,
          5,
          4,
          5,
          5,
          3,
          4,
          4,
          4,
          4,
          4,
          4,
          5,
          4,
          4,
          3,
          5,
          4,
          4,
          4,
          4,
          5,
          4,
          5,
          4,
          4,
          3,
          5,
          4,
          4,
          5,
          4,
          4,
          4,
          4,
          4,
          3,
          5,
          4,
          6,
          3,
          6,
          5,
          5,
          4,
          4,
          3,
          4,
          6,
          6,
          5,
          4,
          4,
          6,
          5,
          6,
          4,
          6,
          4,
          6,
          4,
          4,
          5,
          4,
          5,
          4,
          4,
          2,
          3,
          3,
          6,
          6,
          6,
          4,
          4,
          2,
          6,
          3,
          3,
          3,
          3,
          1,
          6,
          4,
          4,
          3,
          5,
          3,
          2,
          2,
          3,
          3,
          4,
          4,
          3,
          2,
          3,
          3,
          2,
          3,
          3,
          4,
          3,
          4,
          3,
          5,
          4,
          7,
          3,
          4,
          4,
          4,
          4,
          4,
          4,
          2,
          3,
          3,
          2,
          6,
          6,
          6,
          3,
          3,
          2,
          2,
          3,
          3,
          3,
          5,
          3,
          4,
          3,
          3,
          3,
          3,
          6,
          5,
          5,
          4,
          5,
          4,
          4,
          3,
          4,
          2,
          4,
          4,
          1,
          3,
          4,
          4,
          4,
          6,
          4,
          4,
          5,
          4,
          7,
          4,
          5,
          5,
          2,
          4,
          5,
          4,
          4,
          2,
          4,
          4,
          4,
          4,
          6,
          4,
          4,
          5,
          5,
          5,
          4,
          3,
          3,
          4,
          6,
          6,
          3,
          3,
          3,
          3,
          3,
          3,
          1,
          4,
          1,
          4,
          4,
          4,
          4,
          4,
          4,
          5,
          5,
          2,
          4,
          4,
          4,
          5,
          4,
          6,
          6,
          4,
          4,
          5,
          5,
          6,
          3,
          4,
          4,
          2,
          4,
          4,
          4,
          4,
          4,
          2,
          5,
          5,
          4,
          5,
          6,
          6,
          4,
          4,
          3,
          4,
          5,
          4,
          5,
          5,
          3,
          5,
          5,
          4,
          3,
          3,
          4,
          4,
          5,
          4,
          5,
          3,
          4,
          1,
          4,
          5,
          5,
          5,
          4,
          3,
          4,
          4,
          5,
          4,
          3,
          4,
          4,
          6,
          4,
          2,
          5,
          5,
          4,
          5,
          4,
          2,
          4,
          4,
          4,
          4,
          5,
          4,
          4,
          4,
          6,
          4,
          5,
          5,
          5,
          4,
          5,
          4,
          4,
          4,
          6,
          5,
          5,
          6,
          4,
          4,
          4,
          4,
          6,
          5,
          5,
          5,
          5,
          6,
          4,
          4,
          3,
          3,
          3,
          4,
          4,
          4,
          4,
          4,
          4,
          5,
          4,
          4,
          3,
          4,
          5,
          5,
          5,
          5,
          5,
          4,
          4,
          3,
          4,
          3,
          4,
          4,
          4,
          4,
          3,
          4,
          3,
          4,
          3,
          4,
          4,
          6,
          4,
          4,
          6,
          4,
          5,
          4,
          6,
          5,
          5,
          4,
          4,
          5,
          3,
          3,
          4,
          3,
          3,
          4,
          5,
          4,
          3,
          4,
          4,
          4,
          3,
          4,
          3,
          5,
          4,
          4,
          4,
          2,
          4,
          3,
          4,
          5,
          4,
          4,
          2,
          3,
          2,
          3,
          4,
          3,
          5,
          3,
          4,
          5,
          4,
          5,
          3,
          4,
          4,
          5,
          3,
          3,
          3,
          4,
          5,
          4,
          3,
          4,
          6,
          4,
          5,
          4,
          4,
          4,
          4,
          5,
          4,
          4,
          4,
          5,
          4,
          6,
          4,
          4,
          4,
          5,
          5,
          4,
          3,
          3,
          4,
          4,
          6,
          3,
          4,
          3,
          4,
          5,
          3,
          3,
          4,
          6,
          6,
          4,
          5,
          5,
          3,
          5,
          4,
          5,
          5,
          3,
          4,
          3,
          4,
          3,
          3,
          5,
          3,
          4,
          3,
          4,
          4,
          3,
          4,
          4,
          3,
          4,
          3,
          4,
          3,
          3,
          4,
          3,
          3,
          3,
          3,
          3,
          4,
          4,
          4,
          6,
          3,
          5,
          4,
          4,
          4,
          2,
          4,
          4,
          3,
          4,
          4,
          3,
          3,
          3,
          3,
          2,
          2,
          4,
          6,
          4,
          4,
          3,
          4,
          3,
          3,
          3,
          6,
          4,
          4,
          4,
          3,
          4,
          4,
          3,
          3,
          3,
          3,
          3,
          3,
          4,
          3,
          3,
          4,
          4,
          3,
          2,
          3,
          3,
          3,
          3,
          3,
          3,
          4,
          5,
          4,
          3,
          4,
          3,
          4,
          3,
          4,
          4,
          5,
          3,
          4,
          4,
          5,
          3,
          3,
          3,
          3,
          4,
          4,
          2,
          3,
          6,
          3,
          4,
          4,
          4,
          3,
          3,
          3,
          4,
          4,
          4,
          3,
          4,
          5,
          3,
          4,
          4,
          6,
          4,
          4,
          5,
          4,
          4,
          5,
          6,
          3,
          3,
          3,
          4,
          4,
          3,
          3,
          5,
          4,
          3,
          4,
          4,
          4,
          4,
          4,
          4,
          5,
          4,
          5,
          4,
          4,
          3,
          3,
          4,
          4,
          4,
          5,
          5,
          6,
          4,
          6,
          6,
          5,
          5,
          6,
          4,
          4,
          5,
          4,
          5,
          3,
          3,
          4,
          4,
          4,
          3,
          6,
          3,
          5,
          5,
          5,
          5,
          4,
          4,
          4,
          6,
          3,
          3,
          2,
          4,
          3,
          4,
          5,
          6,
          5,
          5,
          4,
          3,
          4,
          4,
          5,
          2,
          3,
          4,
          4,
          4,
          4,
          3,
          4,
          4,
          3,
          4,
          3,
          4,
          4,
          4,
          4,
          4,
          4,
          4,
          6,
          4,
          4,
          4,
          3,
          5,
          6,
          5,
          4,
          4,
          5,
          3,
          6,
          4,
          7,
          4,
          5,
          4,
          4,
          4,
          4,
          4,
          5,
          4,
          5,
          4,
          5,
          4,
          4,
          5,
          4,
          4,
          4,
          4,
          5,
          5,
          4,
          4,
          3,
          4,
          4,
          4,
          6,
          6,
          4,
          4,
          3,
          3,
          2,
          4,
          4,
          3,
          4,
          5,
          4,
          1,
          4,
          3,
          4,
          5,
          4,
          6,
          4,
          4,
          4,
          4,
          4,
          4,
          2,
          4,
          4,
          4,
          4,
          3,
          4,
          4,
          5,
          4,
          5,
          4,
          5,
          5,
          5,
          4,
          5,
          6,
          5,
          5,
          5,
          4,
          5,
          6,
          5,
          4,
          5,
          5,
          3,
          5,
          4,
          5,
          4,
          5,
          4,
          6,
          4,
          5,
          5,
          4,
          6,
          7,
          4,
          6,
          5,
          4,
          4,
          6,
          6,
          6,
          4,
          6,
          5,
          5,
          4,
          5,
          5,
          5,
          4,
          2,
          6,
          5,
          4,
          5,
          4,
          5,
          5,
          6,
          6,
          6,
          5,
          5,
          6,
          5,
          3,
          5,
          5,
          5,
          6,
          5,
          4,
          6,
          3,
          3,
          3,
          3,
          3,
          6,
          5,
          6,
          5,
          3,
          5,
          6,
          4,
          5,
          5,
          4,
          6,
          6,
          5,
          5,
          5,
          6,
          6,
          3,
          5,
          4,
          5,
          3,
          5,
          4,
          4,
          6,
          5,
          5,
          3,
          5,
          6,
          4,
          6,
          5,
          4,
          4,
          5,
          5,
          4,
          6,
          4,
          5,
          4,
          2,
          3,
          2,
          3,
          6,
          5,
          3,
          3,
          5,
          4,
          2,
          3,
          3,
          4,
          5,
          6,
          5,
          3,
          4,
          5,
          3,
          3,
          5,
          5,
          4,
          3,
          4,
          1,
          4,
          4,
          4,
          3,
          4,
          4,
          3,
          3,
          4,
          4,
          4,
          3,
          3,
          3,
          5,
          4,
          5,
          4,
          4,
          1,
          6,
          4,
          4,
          5,
          5,
          4,
          5,
          5,
          4,
          5,
          2,
          5,
          3,
          3,
          6,
          4,
          3,
          5,
          4,
          6,
          6,
          6,
          4,
          5,
          3,
          4,
          4,
          6,
          4,
          4,
          5,
          4,
          4,
          4,
          5,
          3,
          5,
          4,
          4,
          5,
          4,
          1,
          4,
          4,
          5,
          4,
          4,
          3,
          4,
          4,
          2,
          4,
          5,
          4,
          4,
          3,
          4,
          4,
          3,
          5,
          4,
          5,
          3,
          6,
          4,
          5,
          3,
          4,
          4,
          5,
          3,
          1,
          4,
          5,
          4,
          4,
          4,
          4,
          6,
          4,
          3,
          4,
          4,
          5,
          6,
          4,
          4,
          3,
          4,
          3,
          3,
          5,
          4,
          4,
          3,
          4,
          5,
          2,
          4,
          5,
          4,
          4,
          6,
          4,
          4,
          4,
          3,
          3,
          2,
          6,
          4,
          7,
          3,
          4,
          5,
          7,
          4,
          4,
          4,
          5,
          5,
          6,
          5,
          3,
          4,
          4,
          4,
          4,
          6,
          4,
          5,
          6,
          6,
          5,
          5,
          5,
          4,
          4,
          4,
          4,
          4,
          5,
          4,
          3,
          4,
          3,
          3,
          4,
          5,
          5,
          6,
          4,
          5,
          7,
          5,
          5,
          5,
          5,
          4,
          4,
          6,
          5,
          4,
          4,
          3,
          2,
          4,
          5,
          6,
          5,
          3,
          4,
          4,
          4,
          3,
          4,
          5,
          4,
          4,
          5,
          4,
          4,
          4,
          3,
          5,
          4,
          4,
          4,
          5,
          4,
          4,
          6,
          3,
          4,
          3,
          5,
          3,
          4,
          5,
          5,
          4,
          5,
          5,
          4,
          4,
          6,
          4,
          4,
          5,
          4,
          5,
          4,
          4,
          4,
          3,
          5,
          2,
          1,
          5,
          5,
          5,
          5,
          6,
          5,
          4,
          3,
          6,
          6,
          5,
          4,
          4,
          5,
          5,
          5,
          5,
          5,
          4,
          6,
          5,
          1,
          6,
          5,
          5,
          5,
          4,
          3,
          4,
          5,
          4,
          3,
          6,
          5,
          1,
          6,
          5,
          3,
          2,
          3,
          5,
          6,
          3,
          5,
          5,
          3,
          3,
          4,
          4,
          5,
          3,
          4,
          5,
          3,
          4,
          3,
          4,
          3,
          4,
          4,
          3,
          5,
          3,
          1,
          4,
          3,
          4,
          4,
          4,
          3,
          3,
          3,
          3,
          3,
          4,
          4,
          4,
          6,
          5,
          4,
          6,
          4,
          4,
          5,
          6,
          5,
          5,
          5,
          4,
          4,
          5,
          4,
          5,
          2,
          6,
          4,
          4,
          4,
          6,
          6,
          4,
          4,
          3,
          5,
          4,
          4,
          4,
          3,
          4,
          3,
          3,
          4,
          6,
          3,
          4,
          4,
          4,
          3,
          4,
          4,
          4,
          5,
          3,
          5,
          4,
          5,
          4,
          3,
          4,
          4,
          4,
          4,
          5,
          4,
          4,
          4,
          4,
          4,
          4,
          4,
          4,
          4,
          4,
          5,
          4,
          4,
          4,
          4,
          4,
          4,
          4,
          4,
          4,
          4,
          4,
          4,
          4,
          3,
          4,
          5,
          4,
          6,
          5,
          5,
          3,
          5,
          5,
          5,
          4,
          5,
          4,
          4,
          4,
          3,
          5,
          3,
          4,
          4,
          4,
          4,
          4,
          4,
          4,
          5,
          5,
          4,
          4,
          4,
          4,
          4,
          4,
          4,
          4,
          4,
          5,
          4,
          4,
          3,
          4,
          4,
          4,
          4,
          5,
          4,
          4,
          5,
          7,
          3,
          6,
          5,
          5,
          4,
          4,
          4,
          4,
          4,
          4,
          4,
          4,
          5,
          3,
          5,
          6,
          4,
          5,
          3,
          5,
          5,
          4,
          5,
          5,
          6,
          5,
          4,
          5,
          4,
          4,
          3,
          3,
          3,
          4,
          3,
          4,
          4,
          4,
          4,
          4,
          4,
          4,
          4,
          5,
          4,
          3,
          3,
          4,
          2,
          4,
          4,
          4,
          4,
          3,
          3,
          3,
          4,
          4,
          5,
          4,
          5,
          5,
          4,
          3,
          3,
          6,
          4,
          4,
          3,
          3,
          3,
          3,
          3,
          6,
          5,
          4,
          2,
          3,
          2,
          4,
          5,
          4,
          4,
          4,
          4,
          4,
          4,
          5,
          5,
          5,
          6,
          6,
          5,
          6,
          4,
          4,
          5,
          4,
          3,
          4,
          5,
          6,
          5,
          4,
          5,
          5,
          4,
          4,
          5,
          6,
          4,
          4,
          4,
          3,
          4,
          4,
          4,
          4,
          4,
          5,
          4,
          4,
          1,
          4,
          5,
          4,
          4,
          3,
          2,
          5,
          4,
          4,
          4,
          1,
          4,
          3,
          4,
          3,
          4,
          3,
          4,
          3,
          3,
          4,
          4,
          5,
          5,
          5,
          4,
          4,
          4,
          4,
          3,
          4,
          3,
          4,
          3,
          4,
          4,
          3,
          3,
          4,
          4,
          4,
          4,
          4,
          5,
          4,
          5,
          4,
          5,
          5,
          4,
          5,
          4,
          4,
          3,
          5,
          3,
          4,
          6,
          4,
          4,
          4,
          3,
          3,
          5,
          4,
          1,
          4,
          5,
          5,
          4,
          4,
          5,
          3,
          4,
          3,
          3,
          4,
          3,
          3,
          2,
          3,
          3,
          4,
          3,
          4,
          3,
          5,
          5,
          5,
          5,
          5,
          3,
          3,
          3,
          3,
          5,
          4,
          5,
          3,
          4,
          5,
          1,
          5,
          6,
          5,
          3,
          4,
          1,
          6,
          4,
          6,
          4,
          4,
          4,
          2,
          3,
          5,
          3,
          4,
          4,
          4,
          3,
          3,
          3,
          3,
          5,
          5,
          4,
          3,
          3,
          3,
          3,
          3,
          1,
          1,
          1,
          1,
          4,
          4,
          4,
          3,
          3,
          4,
          3,
          4,
          1,
          1,
          4,
          3,
          3,
          3,
          2,
          2,
          5,
          4,
          4,
          3,
          4,
          1,
          1,
          3,
          4,
          4,
          4,
          4,
          6,
          5,
          4,
          3,
          3,
          5,
          5,
          3,
          4,
          3,
          3,
          6,
          4,
          4,
          4,
          4,
          4,
          4,
          4,
          5,
          4,
          3,
          3,
          4,
          6,
          1,
          4,
          4,
          6,
          4,
          4,
          4,
          3,
          4,
          4,
          6,
          3,
          4,
          4,
          3,
          4,
          5,
          5,
          4,
          3,
          4,
          3,
          5,
          3,
          4,
          5,
          3,
          4,
          4,
          4,
          6,
          4,
          4,
          4,
          4,
          4,
          4,
          4,
          4,
          3,
          4,
          4,
          4,
          4,
          4,
          4,
          4,
          5,
          6,
          5,
          4,
          4,
          4,
          3,
          4,
          4,
          5,
          1,
          4,
          4,
          3,
          3,
          3,
          4,
          4,
          4,
          4,
          4,
          4,
          4,
          4,
          4,
          6,
          4,
          4,
          4,
          4,
          4,
          4,
          4,
          4,
          5,
          5,
          5,
          3,
          5,
          3,
          4,
          4,
          4,
          4,
          4,
          3,
          4,
          3,
          4,
          4,
          4,
          4,
          4,
          5,
          4,
          5,
          4,
          4,
          4,
          5,
          4,
          4,
          4,
          3,
          4,
          4,
          4,
          6,
          4,
          4,
          5,
          4,
          4,
          4,
          5,
          4,
          2,
          4,
          4,
          4,
          4,
          3,
          4,
          4,
          3,
          4,
          5,
          4,
          5,
          4,
          4,
          4,
          4,
          4,
          4,
          4,
          5,
          4,
          4,
          5,
          4,
          5,
          3,
          4,
          4,
          4,
          4,
          3,
          3,
          4,
          4,
          4,
          4,
          4,
          4,
          4,
          4,
          4,
          4,
          4,
          5,
          4,
          4,
          6,
          4,
          4,
          4,
          4,
          4,
          4,
          4,
          4,
          4,
          4,
          4,
          4,
          5,
          3,
          4,
          2,
          4,
          4,
          5,
          4,
          4,
          5,
          4,
          5,
          4,
          4,
          3,
          4,
          4,
          6,
          5,
          5,
          5,
          5,
          6,
          4,
          4,
          4,
          4,
          4,
          4,
          4,
          5,
          5,
          4,
          3,
          3,
          6,
          4,
          4,
          4,
          2,
          5,
          4,
          4,
          5,
          5,
          4,
          5,
          1,
          6,
          6,
          6,
          6,
          4,
          6,
          6,
          5,
          6,
          3,
          1,
          5,
          5,
          5,
          6,
          4,
          4,
          4,
          4,
          3,
          3,
          6,
          4,
          3,
          3,
          4,
          3,
          3,
          5,
          4,
          4,
          4,
          4,
          5,
          4,
          4,
          4,
          5,
          5,
          3,
          5,
          5,
          5,
          5,
          4,
          5,
          4,
          5,
          3,
          4,
          4,
          2,
          5,
          4,
          6,
          1,
          6,
          6,
          5,
          4,
          5,
          5,
          4,
          5,
          1,
          5,
          5,
          5,
          5,
          5,
          7,
          4,
          4,
          5,
          6,
          5,
          4,
          5,
          6,
          5,
          5,
          2,
          4,
          4,
          5,
          4,
          4,
          4,
          4,
          5,
          1,
          6,
          5,
          4,
          5,
          4,
          4,
          4,
          4,
          5,
          4,
          4,
          4,
          5,
          4,
          3,
          5,
          5,
          6,
          4,
          3,
          4,
          5,
          5,
          5,
          5,
          6,
          5,
          4,
          3,
          4,
          4,
          5,
          5,
          6,
          6,
          6,
          6,
          5,
          5,
          4,
          5,
          4,
          4,
          4,
          4,
          4,
          5,
          4,
          4,
          4,
          6,
          4,
          5,
          3,
          4,
          5,
          6,
          5,
          5,
          5,
          3,
          3,
          6,
          4,
          5,
          5,
          5,
          5,
          5,
          5,
          5,
          5,
          5,
          5,
          5,
          4,
          5,
          5,
          4,
          5,
          5,
          4,
          5,
          4,
          3,
          2,
          3,
          4,
          5,
          5,
          5,
          5,
          4,
          5,
          4,
          4,
          5,
          4,
          5,
          4,
          5,
          5,
          5,
          5,
          4,
          3,
          4,
          5,
          6,
          6,
          3,
          2,
          6,
          5,
          4,
          4,
          5,
          5,
          4,
          5,
          5,
          4,
          5,
          3,
          5,
          4,
          4,
          5,
          5,
          5,
          6,
          5,
          4,
          5,
          4,
          4,
          4,
          4,
          5,
          4,
          5,
          5,
          4,
          4,
          4,
          4,
          4,
          5,
          5,
          4,
          5,
          5,
          4,
          4,
          4,
          4,
          4,
          5,
          3,
          6,
          6,
          4,
          4,
          4,
          4,
          5,
          6,
          4,
          4,
          4,
          5,
          4,
          5,
          4,
          5,
          2,
          4,
          3,
          4,
          5,
          3,
          4,
          3,
          4,
          4,
          4,
          4,
          4,
          4,
          4,
          4,
          4,
          4,
          4,
          4,
          4,
          4,
          4,
          4,
          4,
          4,
          4,
          2,
          2,
          4,
          4,
          5,
          4,
          4,
          4,
          6,
          4,
          5,
          5,
          5,
          5,
          4,
          5,
          3,
          5,
          5,
          6,
          5,
          4,
          5,
          4,
          3,
          5,
          4,
          4,
          5,
          5,
          5,
          5,
          4,
          5,
          5,
          4,
          6,
          6,
          6,
          6,
          5,
          4,
          6,
          7,
          5,
          5,
          5,
          3,
          5,
          5,
          4,
          5,
          3,
          4,
          4,
          5,
          4,
          4,
          6,
          6,
          4,
          5,
          1,
          5,
          6,
          6,
          6,
          5,
          4,
          7,
          4,
          6,
          6,
          5,
          6,
          6,
          5,
          5,
          6,
          5,
          5,
          5,
          3,
          6,
          5,
          3,
          5,
          4,
          6,
          4,
          6,
          6,
          6,
          4,
          5,
          6,
          4,
          5,
          6,
          1,
          5,
          5,
          6,
          5,
          5,
          6,
          4,
          4,
          4,
          4,
          4,
          4,
          6,
          5,
          4,
          6,
          4,
          4,
          3,
          4,
          3,
          4,
          5,
          6,
          5,
          5,
          4,
          4,
          5,
          5,
          6,
          6,
          5,
          5,
          5,
          4,
          6,
          6,
          5,
          4,
          5,
          6,
          4,
          7,
          5,
          6,
          6,
          5,
          7,
          4,
          5,
          6,
          4,
          5,
          3,
          6,
          4,
          4,
          4,
          3,
          5,
          4,
          5,
          6,
          4,
          5,
          4,
          4,
          4,
          4,
          5,
          6,
          1,
          4,
          5,
          6,
          4,
          5,
          6,
          4,
          6,
          4,
          6,
          5,
          6,
          4,
          4,
          5,
          6,
          1,
          5,
          6,
          6,
          4,
          6,
          5,
          3,
          5,
          5,
          4,
          5,
          5,
          2,
          5,
          5,
          4,
          5,
          5,
          5,
          4,
          4,
          4,
          2,
          4,
          5,
          5,
          4,
          4,
          4,
          4,
          5,
          7,
          6,
          5,
          4,
          5,
          4,
          5,
          4,
          5,
          5,
          5,
          5,
          5,
          5,
          5,
          5,
          4,
          4,
          4,
          4,
          4,
          4,
          4,
          4,
          4,
          4,
          4,
          4,
          4,
          4,
          4,
          4,
          1,
          4,
          2,
          4,
          3,
          4,
          4,
          4,
          5,
          4,
          4,
          5,
          4,
          4,
          4,
          4,
          4,
          4,
          4,
          4,
          4,
          4,
          5,
          5,
          4,
          4,
          4,
          4,
          4,
          4,
          5,
          4,
          5,
          4,
          3,
          4,
          4,
          3,
          4,
          3,
          5,
          4,
          3,
          4,
          4,
          4,
          5,
          5,
          4,
          6,
          4,
          5,
          4,
          5,
          4,
          4,
          6,
          4,
          5,
          6,
          4,
          5,
          2,
          4,
          4,
          5,
          4,
          5,
          4,
          4,
          4,
          4,
          4,
          4,
          6,
          4,
          4,
          4,
          4,
          4,
          5,
          4,
          5,
          5,
          4,
          4,
          4,
          4,
          4,
          5,
          6,
          4,
          5,
          5,
          4,
          4,
          4,
          5,
          4,
          4,
          4,
          4,
          4,
          5,
          4,
          4,
          4,
          3,
          4,
          4,
          4,
          4,
          5,
          4,
          4,
          4,
          4,
          4,
          4,
          4,
          4,
          4,
          6,
          4,
          4,
          4,
          4,
          4,
          4,
          2,
          4,
          4,
          4,
          4,
          4,
          4,
          4,
          5,
          4,
          5,
          5,
          4,
          5,
          5,
          5,
          4,
          4,
          4,
          4,
          5,
          4,
          5,
          4,
          4,
          4,
          5,
          4,
          4,
          4,
          4,
          4,
          3,
          4,
          4,
          4,
          4,
          4,
          4,
          4,
          4,
          4,
          4,
          6,
          5,
          6,
          5,
          4,
          5,
          5,
          4,
          4,
          5,
          5,
          5,
          5,
          5,
          2,
          5,
          4,
          4,
          5,
          5,
          4,
          5,
          5,
          4,
          5,
          5,
          5,
          4,
          4,
          4,
          5,
          4,
          4,
          3,
          4,
          5,
          5,
          5,
          5,
          4,
          5,
          5,
          5,
          4,
          6,
          4,
          4,
          6,
          6,
          5,
          4,
          3,
          5,
          5,
          3,
          5,
          3,
          4,
          5,
          6,
          5,
          4,
          5,
          5,
          5,
          5,
          4,
          4,
          6,
          5,
          6,
          5,
          5,
          5,
          5,
          5,
          5,
          4,
          5,
          5,
          5,
          5,
          3,
          4,
          5,
          5,
          4,
          5,
          6,
          5,
          4,
          4,
          4,
          4,
          5,
          4,
          4,
          3,
          5,
          6,
          6,
          5,
          5,
          5,
          5,
          6,
          6,
          4,
          5,
          5,
          5,
          4,
          4,
          6,
          5,
          6,
          5,
          5,
          6,
          6,
          5,
          6,
          3,
          5,
          4,
          6,
          5,
          5,
          3,
          4,
          5,
          5,
          4,
          3,
          3,
          3,
          3,
          3,
          3,
          3,
          4,
          4,
          5,
          4,
          3,
          4,
          4,
          4,
          5,
          5,
          5,
          4,
          4,
          5,
          4,
          5,
          4,
          5,
          4,
          4,
          5,
          5,
          4,
          5,
          4,
          4,
          4,
          4,
          4,
          4,
          6,
          4,
          4,
          3,
          6,
          4,
          4,
          5,
          6,
          6,
          6,
          5,
          5,
          6,
          6,
          5,
          7,
          4,
          4,
          4,
          3,
          4,
          4,
          4,
          4,
          4,
          4,
          4,
          4,
          4,
          3,
          3,
          3,
          4,
          3,
          3,
          3,
          3,
          3,
          4,
          3,
          4,
          6,
          3,
          3,
          4,
          3,
          6,
          4,
          4,
          4,
          6,
          3,
          4,
          4,
          4,
          5,
          4,
          4,
          4,
          4,
          4,
          5,
          3,
          4,
          3,
          3,
          3,
          4,
          6,
          4,
          4,
          5,
          5,
          4,
          5,
          6,
          4,
          6,
          5,
          4,
          4,
          4,
          4,
          4,
          4,
          4,
          5,
          5,
          3,
          4,
          4,
          6,
          4,
          6,
          5,
          4,
          5,
          4,
          4,
          3,
          5,
          5,
          4,
          4,
          5,
          4,
          5,
          4,
          4,
          5,
          5,
          5,
          4,
          4,
          4,
          4,
          4,
          4,
          4,
          2,
          2,
          4,
          3,
          1,
          4,
          4,
          4,
          4,
          4,
          4,
          4,
          4,
          4,
          3,
          5,
          4,
          5,
          5,
          4,
          4,
          6,
          5,
          4,
          4,
          3,
          4,
          4,
          5,
          4,
          4,
          5,
          4,
          4,
          4,
          4,
          3,
          6,
          5,
          5,
          4,
          3,
          4,
          4,
          5,
          4,
          3,
          4,
          4,
          4,
          4,
          4,
          4,
          6,
          5,
          6,
          5,
          1,
          4,
          6,
          3,
          6,
          1,
          4,
          4,
          4,
          4,
          4,
          3,
          2,
          1,
          1,
          3,
          1,
          1,
          1,
          2,
          1,
          3,
          3,
          3,
          2,
          2,
          3,
          3,
          1,
          2,
          4,
          4,
          4,
          5,
          1,
          1,
          3,
          4,
          2,
          4,
          4,
          4,
          3,
          3,
          3,
          3,
          4,
          3,
          3,
          3,
          3,
          3,
          4,
          5,
          3,
          3,
          3,
          3,
          4,
          4,
          3,
          2,
          4,
          1,
          4,
          1,
          4,
          3,
          1,
          3,
          2,
          1,
          2,
          3,
          3,
          3,
          2,
          3,
          1,
          2,
          2,
          1,
          1,
          1,
          2,
          2,
          1,
          3,
          4,
          1,
          1,
          1,
          2,
          1,
          1,
          1,
          1,
          1,
          1,
          1,
          2,
          2,
          4,
          2,
          1,
          2,
          1,
          2,
          2,
          3,
          2,
          3,
          1,
          2,
          1,
          2,
          1,
          3,
          1,
          1,
          1,
          1,
          1,
          1,
          2,
          1,
          1,
          1,
          1,
          1,
          1,
          1,
          1,
          1,
          2,
          3,
          2,
          2,
          4,
          4,
          3,
          4,
          2,
          2,
          4,
          4,
          2,
          3,
          4,
          4,
          4,
          4,
          4,
          3,
          3,
          2,
          3,
          4,
          3,
          2,
          5,
          4,
          4,
          2,
          2,
          3,
          3,
          3,
          3,
          4,
          4,
          1,
          1,
          1,
          1,
          1,
          1,
          1,
          1,
          1,
          1,
          1,
          1,
          1,
          1,
          1,
          1,
          3,
          3,
          3,
          3,
          3,
          4,
          3,
          4,
          4,
          3,
          3,
          3,
          3,
          3,
          3,
          3,
          3,
          4,
          3,
          3,
          3,
          3,
          3,
          4,
          1,
          4,
          4,
          3,
          5,
          3,
          1,
          3,
          3,
          3,
          4,
          1,
          1,
          4,
          3,
          2,
          2,
          2,
          3,
          3,
          1,
          1,
          1,
          1,
          4,
          3,
          4,
          4,
          4,
          4,
          4,
          2,
          4,
          4,
          4,
          4,
          5,
          2,
          4,
          4,
          2,
          4,
          4,
          3,
          4,
          3,
          3,
          3,
          4,
          4,
          3,
          5,
          4,
          4,
          4,
          4,
          4,
          3,
          4,
          4,
          2,
          2,
          3,
          1,
          1,
          4,
          4,
          2,
          3,
          2,
          4,
          2,
          3,
          2,
          2,
          1,
          2,
          3,
          2,
          2,
          2,
          3,
          3,
          3,
          4,
          3,
          4,
          2,
          1,
          4,
          6,
          1,
          3,
          4,
          1,
          2,
          2,
          2,
          2,
          3,
          1,
          3,
          2,
          3,
          3,
          1,
          2,
          2,
          1,
          3,
          3,
          3,
          4,
          3,
          3,
          3,
          4,
          4,
          1,
          1,
          2,
          1,
          4,
          4,
          1,
          1,
          2,
          1,
          2,
          1,
          1,
          1,
          1,
          1,
          2,
          2,
          1,
          2,
          4,
          1,
          1,
          1,
          1,
          4,
          1,
          1,
          1,
          3,
          4,
          4,
          4,
          4,
          2,
          2,
          4,
          4,
          3,
          2,
          3,
          4,
          4,
          4,
          4,
          3,
          3,
          3,
          2,
          3,
          3,
          4,
          3,
          2,
          4,
          3,
          4,
          4,
          4,
          4,
          4,
          4,
          1,
          1,
          1,
          4,
          1,
          4,
          4,
          3,
          2,
          1,
          2,
          1,
          4,
          4,
          4,
          2,
          3,
          3,
          3,
          1,
          3,
          3,
          3,
          3,
          3,
          3,
          2,
          2,
          4,
          3,
          3,
          3,
          3,
          4,
          4,
          2,
          3,
          3,
          4,
          4,
          5,
          2,
          2,
          2,
          2,
          2,
          2,
          3,
          2,
          3,
          3,
          3,
          3,
          2,
          2,
          2,
          2,
          2,
          1,
          2,
          2,
          2,
          3,
          3,
          3,
          3,
          3,
          3,
          3,
          3,
          3,
          3,
          3,
          3,
          2,
          2,
          1,
          2,
          2,
          1,
          2,
          1,
          3,
          3,
          2,
          1,
          1,
          2,
          3,
          2,
          2,
          3,
          3,
          2,
          2,
          2,
          2,
          2,
          3,
          2,
          2,
          2,
          4,
          4,
          2,
          3,
          3,
          3,
          3,
          3,
          3,
          1,
          1,
          1,
          1,
          3,
          1,
          1,
          1,
          1,
          1,
          1,
          1,
          1,
          3,
          1,
          3,
          4,
          3,
          4,
          5,
          3,
          3,
          3,
          4,
          4,
          2,
          3,
          1,
          3,
          3,
          1,
          4,
          2,
          2,
          3,
          1,
          5,
          4,
          4,
          3,
          3,
          4,
          4,
          1,
          2,
          5,
          3,
          3,
          3,
          2,
          2,
          2,
          2,
          2,
          2,
          2,
          2,
          2,
          2,
          2,
          2,
          2,
          2,
          2,
          2,
          2,
          2,
          2,
          4,
          4,
          4,
          4,
          4,
          3,
          3,
          2,
          3,
          2,
          2,
          2,
          3,
          2,
          3,
          3,
          1,
          4,
          4,
          4,
          3,
          3,
          2,
          3,
          3,
          2,
          3,
          3,
          2,
          2,
          3,
          3,
          4,
          2,
          4,
          2,
          2,
          2,
          2,
          2,
          2,
          2,
          3,
          3,
          4,
          3,
          3,
          3,
          2,
          3,
          3,
          3,
          3,
          2,
          3,
          3,
          3,
          3,
          3,
          3,
          3,
          3,
          4,
          3,
          2,
          2,
          4,
          2,
          2,
          3,
          4,
          4,
          2,
          2,
          2,
          1,
          1,
          1,
          1,
          2,
          2,
          2,
          2,
          2,
          2,
          1,
          3,
          2,
          2,
          3,
          3,
          4,
          2,
          2,
          2,
          1,
          2,
          4,
          3,
          2,
          2,
          2,
          2,
          2,
          3,
          3,
          3,
          3,
          2,
          2,
          2,
          2,
          3,
          2,
          2,
          2,
          3,
          2,
          3,
          2,
          4,
          1,
          1,
          4,
          1,
          1,
          1,
          1,
          2,
          2,
          2,
          3,
          3,
          5,
          4,
          4,
          2,
          4,
          4,
          3,
          3,
          3,
          3,
          4,
          1,
          1,
          3,
          3,
          3,
          3,
          5,
          3,
          2,
          3,
          3,
          3,
          3,
          3,
          2,
          2,
          3,
          3,
          3,
          3,
          3,
          2,
          2,
          2,
          3,
          3,
          3,
          3,
          2,
          3,
          3,
          3,
          3,
          3,
          3,
          2,
          3,
          3,
          1,
          1,
          3,
          2,
          2,
          4,
          3,
          1,
          1,
          1,
          1,
          3,
          4,
          4,
          3,
          4,
          1,
          3,
          2,
          1,
          3,
          1,
          4,
          1,
          1,
          3,
          3,
          3,
          3,
          3,
          3,
          4,
          4,
          4,
          3,
          2,
          1,
          1,
          4,
          4,
          3,
          4,
          3,
          4,
          1,
          3,
          3,
          3,
          6,
          2,
          2,
          3,
          2,
          2,
          3,
          3,
          2,
          2,
          3,
          2,
          2,
          1,
          3,
          3,
          3,
          2,
          3,
          2,
          3,
          2,
          4,
          2,
          1,
          2,
          2,
          1,
          2,
          1,
          2,
          2,
          2,
          2,
          2,
          1,
          1,
          2,
          2,
          3,
          3,
          1,
          2,
          2,
          2,
          2,
          2,
          2,
          2,
          2,
          2,
          2,
          2,
          2,
          4,
          3,
          3,
          3,
          3,
          1,
          2,
          4,
          1,
          1,
          3,
          1,
          1,
          1,
          3,
          3,
          4,
          1,
          1,
          1,
          4,
          1,
          2,
          1,
          1,
          1,
          1,
          1,
          1,
          1,
          1,
          1,
          1,
          3,
          3,
          1,
          1,
          3,
          1,
          2,
          1,
          1,
          1,
          2,
          2,
          2,
          1,
          2,
          2,
          3,
          2,
          2,
          2,
          2,
          2,
          2,
          2,
          2,
          2,
          2,
          2,
          2,
          2,
          2,
          2,
          2,
          2,
          2,
          2,
          2,
          2,
          2,
          2,
          2,
          2,
          2,
          2,
          2,
          2,
          2,
          2,
          2,
          2,
          2,
          1,
          2,
          2,
          2,
          1,
          1,
          1,
          1,
          2,
          2,
          1,
          1,
          1,
          1,
          1,
          3,
          1,
          1,
          4,
          2,
          2,
          2,
          2,
          1,
          1,
          2,
          2,
          2,
          2,
          2,
          1,
          1,
          1,
          1,
          1,
          1,
          1,
          1,
          1,
          1,
          2,
          2,
          2,
          2,
          2,
          2,
          2,
          2,
          2,
          2,
          1,
          2,
          6,
          3,
          1,
          4,
          1,
          3,
          1,
          4,
          2,
          5,
          4,
          1,
          1,
          1,
          1,
          4,
          4,
          1,
          2,
          2,
          2,
          2,
          2
         ]
        }
       ],
       "layout": {
        "bargap": 0.2,
        "barmode": "group",
        "font": {
         "family": "Montserrat, sans-serif",
         "size": 14
        },
        "legend": {
         "orientation": "h",
         "x": 0.615,
         "xanchor": "left",
         "y": 1.1,
         "yanchor": "top"
        },
        "margin": {
         "b": 50,
         "l": 0,
         "r": 20,
         "t": 50
        },
        "plot_bgcolor": "#EEEEEE",
        "template": {
         "data": {
          "bar": [
           {
            "error_x": {
             "color": "#2a3f5f"
            },
            "error_y": {
             "color": "#2a3f5f"
            },
            "marker": {
             "line": {
              "color": "#E5ECF6",
              "width": 0.5
             },
             "pattern": {
              "fillmode": "overlay",
              "size": 10,
              "solidity": 0.2
             }
            },
            "type": "bar"
           }
          ],
          "barpolar": [
           {
            "marker": {
             "line": {
              "color": "#E5ECF6",
              "width": 0.5
             },
             "pattern": {
              "fillmode": "overlay",
              "size": 10,
              "solidity": 0.2
             }
            },
            "type": "barpolar"
           }
          ],
          "carpet": [
           {
            "aaxis": {
             "endlinecolor": "#2a3f5f",
             "gridcolor": "white",
             "linecolor": "white",
             "minorgridcolor": "white",
             "startlinecolor": "#2a3f5f"
            },
            "baxis": {
             "endlinecolor": "#2a3f5f",
             "gridcolor": "white",
             "linecolor": "white",
             "minorgridcolor": "white",
             "startlinecolor": "#2a3f5f"
            },
            "type": "carpet"
           }
          ],
          "choropleth": [
           {
            "colorbar": {
             "outlinewidth": 0,
             "ticks": ""
            },
            "type": "choropleth"
           }
          ],
          "contour": [
           {
            "colorbar": {
             "outlinewidth": 0,
             "ticks": ""
            },
            "colorscale": [
             [
              0,
              "#0d0887"
             ],
             [
              0.1111111111111111,
              "#46039f"
             ],
             [
              0.2222222222222222,
              "#7201a8"
             ],
             [
              0.3333333333333333,
              "#9c179e"
             ],
             [
              0.4444444444444444,
              "#bd3786"
             ],
             [
              0.5555555555555556,
              "#d8576b"
             ],
             [
              0.6666666666666666,
              "#ed7953"
             ],
             [
              0.7777777777777778,
              "#fb9f3a"
             ],
             [
              0.8888888888888888,
              "#fdca26"
             ],
             [
              1,
              "#f0f921"
             ]
            ],
            "type": "contour"
           }
          ],
          "contourcarpet": [
           {
            "colorbar": {
             "outlinewidth": 0,
             "ticks": ""
            },
            "type": "contourcarpet"
           }
          ],
          "heatmap": [
           {
            "colorbar": {
             "outlinewidth": 0,
             "ticks": ""
            },
            "colorscale": [
             [
              0,
              "#0d0887"
             ],
             [
              0.1111111111111111,
              "#46039f"
             ],
             [
              0.2222222222222222,
              "#7201a8"
             ],
             [
              0.3333333333333333,
              "#9c179e"
             ],
             [
              0.4444444444444444,
              "#bd3786"
             ],
             [
              0.5555555555555556,
              "#d8576b"
             ],
             [
              0.6666666666666666,
              "#ed7953"
             ],
             [
              0.7777777777777778,
              "#fb9f3a"
             ],
             [
              0.8888888888888888,
              "#fdca26"
             ],
             [
              1,
              "#f0f921"
             ]
            ],
            "type": "heatmap"
           }
          ],
          "heatmapgl": [
           {
            "colorbar": {
             "outlinewidth": 0,
             "ticks": ""
            },
            "colorscale": [
             [
              0,
              "#0d0887"
             ],
             [
              0.1111111111111111,
              "#46039f"
             ],
             [
              0.2222222222222222,
              "#7201a8"
             ],
             [
              0.3333333333333333,
              "#9c179e"
             ],
             [
              0.4444444444444444,
              "#bd3786"
             ],
             [
              0.5555555555555556,
              "#d8576b"
             ],
             [
              0.6666666666666666,
              "#ed7953"
             ],
             [
              0.7777777777777778,
              "#fb9f3a"
             ],
             [
              0.8888888888888888,
              "#fdca26"
             ],
             [
              1,
              "#f0f921"
             ]
            ],
            "type": "heatmapgl"
           }
          ],
          "histogram": [
           {
            "marker": {
             "pattern": {
              "fillmode": "overlay",
              "size": 10,
              "solidity": 0.2
             }
            },
            "type": "histogram"
           }
          ],
          "histogram2d": [
           {
            "colorbar": {
             "outlinewidth": 0,
             "ticks": ""
            },
            "colorscale": [
             [
              0,
              "#0d0887"
             ],
             [
              0.1111111111111111,
              "#46039f"
             ],
             [
              0.2222222222222222,
              "#7201a8"
             ],
             [
              0.3333333333333333,
              "#9c179e"
             ],
             [
              0.4444444444444444,
              "#bd3786"
             ],
             [
              0.5555555555555556,
              "#d8576b"
             ],
             [
              0.6666666666666666,
              "#ed7953"
             ],
             [
              0.7777777777777778,
              "#fb9f3a"
             ],
             [
              0.8888888888888888,
              "#fdca26"
             ],
             [
              1,
              "#f0f921"
             ]
            ],
            "type": "histogram2d"
           }
          ],
          "histogram2dcontour": [
           {
            "colorbar": {
             "outlinewidth": 0,
             "ticks": ""
            },
            "colorscale": [
             [
              0,
              "#0d0887"
             ],
             [
              0.1111111111111111,
              "#46039f"
             ],
             [
              0.2222222222222222,
              "#7201a8"
             ],
             [
              0.3333333333333333,
              "#9c179e"
             ],
             [
              0.4444444444444444,
              "#bd3786"
             ],
             [
              0.5555555555555556,
              "#d8576b"
             ],
             [
              0.6666666666666666,
              "#ed7953"
             ],
             [
              0.7777777777777778,
              "#fb9f3a"
             ],
             [
              0.8888888888888888,
              "#fdca26"
             ],
             [
              1,
              "#f0f921"
             ]
            ],
            "type": "histogram2dcontour"
           }
          ],
          "mesh3d": [
           {
            "colorbar": {
             "outlinewidth": 0,
             "ticks": ""
            },
            "type": "mesh3d"
           }
          ],
          "parcoords": [
           {
            "line": {
             "colorbar": {
              "outlinewidth": 0,
              "ticks": ""
             }
            },
            "type": "parcoords"
           }
          ],
          "pie": [
           {
            "automargin": true,
            "type": "pie"
           }
          ],
          "scatter": [
           {
            "fillpattern": {
             "fillmode": "overlay",
             "size": 10,
             "solidity": 0.2
            },
            "type": "scatter"
           }
          ],
          "scatter3d": [
           {
            "line": {
             "colorbar": {
              "outlinewidth": 0,
              "ticks": ""
             }
            },
            "marker": {
             "colorbar": {
              "outlinewidth": 0,
              "ticks": ""
             }
            },
            "type": "scatter3d"
           }
          ],
          "scattercarpet": [
           {
            "marker": {
             "colorbar": {
              "outlinewidth": 0,
              "ticks": ""
             }
            },
            "type": "scattercarpet"
           }
          ],
          "scattergeo": [
           {
            "marker": {
             "colorbar": {
              "outlinewidth": 0,
              "ticks": ""
             }
            },
            "type": "scattergeo"
           }
          ],
          "scattergl": [
           {
            "marker": {
             "colorbar": {
              "outlinewidth": 0,
              "ticks": ""
             }
            },
            "type": "scattergl"
           }
          ],
          "scattermapbox": [
           {
            "marker": {
             "colorbar": {
              "outlinewidth": 0,
              "ticks": ""
             }
            },
            "type": "scattermapbox"
           }
          ],
          "scatterpolar": [
           {
            "marker": {
             "colorbar": {
              "outlinewidth": 0,
              "ticks": ""
             }
            },
            "type": "scatterpolar"
           }
          ],
          "scatterpolargl": [
           {
            "marker": {
             "colorbar": {
              "outlinewidth": 0,
              "ticks": ""
             }
            },
            "type": "scatterpolargl"
           }
          ],
          "scatterternary": [
           {
            "marker": {
             "colorbar": {
              "outlinewidth": 0,
              "ticks": ""
             }
            },
            "type": "scatterternary"
           }
          ],
          "surface": [
           {
            "colorbar": {
             "outlinewidth": 0,
             "ticks": ""
            },
            "colorscale": [
             [
              0,
              "#0d0887"
             ],
             [
              0.1111111111111111,
              "#46039f"
             ],
             [
              0.2222222222222222,
              "#7201a8"
             ],
             [
              0.3333333333333333,
              "#9c179e"
             ],
             [
              0.4444444444444444,
              "#bd3786"
             ],
             [
              0.5555555555555556,
              "#d8576b"
             ],
             [
              0.6666666666666666,
              "#ed7953"
             ],
             [
              0.7777777777777778,
              "#fb9f3a"
             ],
             [
              0.8888888888888888,
              "#fdca26"
             ],
             [
              1,
              "#f0f921"
             ]
            ],
            "type": "surface"
           }
          ],
          "table": [
           {
            "cells": {
             "fill": {
              "color": "#EBF0F8"
             },
             "line": {
              "color": "white"
             }
            },
            "header": {
             "fill": {
              "color": "#C8D4E3"
             },
             "line": {
              "color": "white"
             }
            },
            "type": "table"
           }
          ]
         },
         "layout": {
          "annotationdefaults": {
           "arrowcolor": "#2a3f5f",
           "arrowhead": 0,
           "arrowwidth": 1
          },
          "autotypenumbers": "strict",
          "coloraxis": {
           "colorbar": {
            "outlinewidth": 0,
            "ticks": ""
           }
          },
          "colorscale": {
           "diverging": [
            [
             0,
             "#8e0152"
            ],
            [
             0.1,
             "#c51b7d"
            ],
            [
             0.2,
             "#de77ae"
            ],
            [
             0.3,
             "#f1b6da"
            ],
            [
             0.4,
             "#fde0ef"
            ],
            [
             0.5,
             "#f7f7f7"
            ],
            [
             0.6,
             "#e6f5d0"
            ],
            [
             0.7,
             "#b8e186"
            ],
            [
             0.8,
             "#7fbc41"
            ],
            [
             0.9,
             "#4d9221"
            ],
            [
             1,
             "#276419"
            ]
           ],
           "sequential": [
            [
             0,
             "#0d0887"
            ],
            [
             0.1111111111111111,
             "#46039f"
            ],
            [
             0.2222222222222222,
             "#7201a8"
            ],
            [
             0.3333333333333333,
             "#9c179e"
            ],
            [
             0.4444444444444444,
             "#bd3786"
            ],
            [
             0.5555555555555556,
             "#d8576b"
            ],
            [
             0.6666666666666666,
             "#ed7953"
            ],
            [
             0.7777777777777778,
             "#fb9f3a"
            ],
            [
             0.8888888888888888,
             "#fdca26"
            ],
            [
             1,
             "#f0f921"
            ]
           ],
           "sequentialminus": [
            [
             0,
             "#0d0887"
            ],
            [
             0.1111111111111111,
             "#46039f"
            ],
            [
             0.2222222222222222,
             "#7201a8"
            ],
            [
             0.3333333333333333,
             "#9c179e"
            ],
            [
             0.4444444444444444,
             "#bd3786"
            ],
            [
             0.5555555555555556,
             "#d8576b"
            ],
            [
             0.6666666666666666,
             "#ed7953"
            ],
            [
             0.7777777777777778,
             "#fb9f3a"
            ],
            [
             0.8888888888888888,
             "#fdca26"
            ],
            [
             1,
             "#f0f921"
            ]
           ]
          },
          "colorway": [
           "#636efa",
           "#EF553B",
           "#00cc96",
           "#ab63fa",
           "#FFA15A",
           "#19d3f3",
           "#FF6692",
           "#B6E880",
           "#FF97FF",
           "#FECB52"
          ],
          "font": {
           "color": "#2a3f5f"
          },
          "geo": {
           "bgcolor": "white",
           "lakecolor": "white",
           "landcolor": "#E5ECF6",
           "showlakes": true,
           "showland": true,
           "subunitcolor": "white"
          },
          "hoverlabel": {
           "align": "left"
          },
          "hovermode": "closest",
          "mapbox": {
           "style": "light"
          },
          "paper_bgcolor": "white",
          "plot_bgcolor": "#E5ECF6",
          "polar": {
           "angularaxis": {
            "gridcolor": "white",
            "linecolor": "white",
            "ticks": ""
           },
           "bgcolor": "#E5ECF6",
           "radialaxis": {
            "gridcolor": "white",
            "linecolor": "white",
            "ticks": ""
           }
          },
          "scene": {
           "xaxis": {
            "backgroundcolor": "#E5ECF6",
            "gridcolor": "white",
            "gridwidth": 2,
            "linecolor": "white",
            "showbackground": true,
            "ticks": "",
            "zerolinecolor": "white"
           },
           "yaxis": {
            "backgroundcolor": "#E5ECF6",
            "gridcolor": "white",
            "gridwidth": 2,
            "linecolor": "white",
            "showbackground": true,
            "ticks": "",
            "zerolinecolor": "white"
           },
           "zaxis": {
            "backgroundcolor": "#E5ECF6",
            "gridcolor": "white",
            "gridwidth": 2,
            "linecolor": "white",
            "showbackground": true,
            "ticks": "",
            "zerolinecolor": "white"
           }
          },
          "shapedefaults": {
           "line": {
            "color": "#2a3f5f"
           }
          },
          "ternary": {
           "aaxis": {
            "gridcolor": "white",
            "linecolor": "white",
            "ticks": ""
           },
           "baxis": {
            "gridcolor": "white",
            "linecolor": "white",
            "ticks": ""
           },
           "bgcolor": "#E5ECF6",
           "caxis": {
            "gridcolor": "white",
            "linecolor": "white",
            "ticks": ""
           }
          },
          "title": {
           "x": 0.05
          },
          "xaxis": {
           "automargin": true,
           "gridcolor": "white",
           "linecolor": "white",
           "ticks": "",
           "title": {
            "standoff": 15
           },
           "zerolinecolor": "white",
           "zerolinewidth": 2
          },
          "yaxis": {
           "automargin": true,
           "gridcolor": "white",
           "linecolor": "white",
           "ticks": "",
           "title": {
            "standoff": 15
           },
           "zerolinecolor": "white",
           "zerolinewidth": 2
          }
         }
        },
        "title": {
         "text": "Relatívne zastúpenie STS mostov"
        },
        "xaxis": {
         "title": {
          "text": "stavebno-technický stav"
         }
        },
        "yaxis": {
         "title": {
          "text": "zastúpenie (%)"
         }
        }
       }
      }
     },
     "metadata": {},
     "output_type": "display_data"
    }
   ],
   "source": [
    "import plotly.graph_objects as go\n",
    "\n",
    "# Creating the histogram for filtered_bridges\n",
    "trace_filtered = go.Histogram(\n",
    "    x=filtered_bridges[\"n_2023\"],\n",
    "    name='Mosty RSÚC NR',\n",
    "    marker_color='#e7a564 ',\n",
    "    opacity=0.75,\n",
    "    histnorm='percent',\n",
    "    offsetgroup=1  # Set offsetgroup to 1 for the bars to be side by side\n",
    ")\n",
    "\n",
    "# Creating the histogram for df_bridges_all\n",
    "trace_all = go.Histogram(\n",
    "    x=df_bridges_all[\"n_2023\"],\n",
    "    name='Všetky mosty',\n",
    "    marker_color='#46a7a2',\n",
    "    opacity=0.75,\n",
    "    histnorm='percent',\n",
    "    offsetgroup=2  # Set offsetgroup to 2 for the bars to be side by side\n",
    ")\n",
    "\n",
    "# Creating the figure and adding the histograms\n",
    "fig = go.Figure(data=[trace_filtered, trace_all])\n",
    "\n",
    "# Update the layout with Montserrat font\n",
    "fig.update_layout(\n",
    "    title_text='Relatívne zastúpenie STS mostov',\n",
    "    xaxis_title_text='stavebno-technický stav',\n",
    "    yaxis_title_text='zastúpenie (%)',\n",
    "    barmode='group',  # Set barmode to \"group\" for bars to be side by side\n",
    "    font=dict(\n",
    "        family=\"Montserrat, sans-serif\",  # Set font family to Montserrat\n",
    "        size=14\n",
    "    ),\n",
    "    legend=dict(\n",
    "        orientation=\"h\",  # Horizontal legend orientation\n",
    "        yanchor=\"top\",  # Anchor legend to the top\n",
    "        y=1.10,  # Position the legend slightly above the plot\n",
    "        xanchor=\"left\",  # Anchor legend to the left\n",
    "        x=.615  # Align legend to the left\n",
    "    ),\n",
    "    plot_bgcolor='#EEEEEE',\n",
    "    margin=dict(l=0, r=20, t=50, b=50),  # Adjust margins for tight layoutň\n",
    "    bargap=0.2\n",
    ")\n",
    "\n",
    "# Adjusting the opacity for better visualization\n",
    "fig.update_traces(opacity=0.75)\n",
    "\n",
    "fig.show()"
   ]
  },
  {
   "cell_type": "code",
   "execution_count": 193,
   "metadata": {},
   "outputs": [
    {
     "data": {
      "text/plain": [
       "n_2023\n",
       "4    283\n",
       "5    109\n",
       "3     92\n",
       "6     28\n",
       "2     12\n",
       "1      1\n",
       "7      1\n",
       "Name: count, dtype: int64"
      ]
     },
     "execution_count": 193,
     "metadata": {},
     "output_type": "execute_result"
    }
   ],
   "source": [
    "filtered_bridges[\"n_2023\"].value_counts()"
   ]
  },
  {
   "cell_type": "code",
   "execution_count": 194,
   "metadata": {},
   "outputs": [],
   "source": [
    "import pandas as pd\n",
    "import matplotlib.pyplot as plt\n",
    "\n",
    "# Initialize an empty DataFrame for relative condition counts across years\n",
    "relative_condition_counts = pd.DataFrame()\n",
    "\n",
    "for year in range(2012, 2024):\n",
    "    column_name = f\"n_{year}\"\n",
    "    # Exclude bridges not assessed in the year (condition = 0)\n",
    "    year_data = filtered_bridges[filtered_bridges[column_name] > 0] # NR\n",
    "    # year_data = df_bridges_all[df_bridges_all[column_name] > 0] # Všetky mosty\n",
    "    # Count occurrences of each condition for the year\n",
    "    counts = year_data[column_name].value_counts().rename_axis(\n",
    "        'Condition').reset_index(name=column_name)\n",
    "    # Calculate relative counts (percentage) for the year\n",
    "    total = counts[column_name].sum()\n",
    "    counts[column_name] = (counts[column_name] / total) * 100\n",
    "\n",
    "    if relative_condition_counts.empty:\n",
    "        relative_condition_counts = counts\n",
    "    else:\n",
    "        relative_condition_counts = pd.merge(\n",
    "            relative_condition_counts, counts, on='Condition', how='outer')\n",
    "\n",
    "# Fill NaN values with 0 for years when a condition was not present\n",
    "relative_condition_counts.fillna(0, inplace=True)\n",
    "# Sort the DataFrame by 'Condition' for a consistent order\n",
    "relative_condition_counts.sort_values('Condition', inplace=True)"
   ]
  },
  {
   "cell_type": "code",
   "execution_count": 255,
   "metadata": {},
   "outputs": [
    {
     "data": {
      "application/vnd.plotly.v1+json": {
       "config": {
        "plotlyServerURL": "https://plot.ly"
       },
       "data": [
        {
         "line": {
          "color": "#2d505d"
         },
         "mode": "lines",
         "name": "7",
         "stackgroup": "one",
         "type": "scatter",
         "x": [
          "2012",
          "2013",
          "2014",
          "2015",
          "2016",
          "2017",
          "2018",
          "2019",
          "2020",
          "2021",
          "2022",
          "2023"
         ],
         "y": [
          0,
          0,
          0,
          0,
          0,
          0,
          0,
          0,
          0,
          0,
          0.19011406844106463,
          0.19011406844106463
         ]
        },
        {
         "line": {
          "color": "#c25469"
         },
         "mode": "lines",
         "name": "6",
         "stackgroup": "one",
         "type": "scatter",
         "x": [
          "2012",
          "2013",
          "2014",
          "2015",
          "2016",
          "2017",
          "2018",
          "2019",
          "2020",
          "2021",
          "2022",
          "2023"
         ],
         "y": [
          0.5725190839694656,
          0.5725190839694656,
          0.5725190839694656,
          0.38167938931297707,
          0.5714285714285714,
          0.5725190839694656,
          0.5714285714285714,
          0.5714285714285714,
          0.5703422053231939,
          1.9011406844106464,
          3.9923954372623576,
          5.323193916349809
         ]
        },
        {
         "line": {
          "color": "#eae1a9"
         },
         "mode": "lines",
         "name": "5",
         "stackgroup": "one",
         "type": "scatter",
         "x": [
          "2012",
          "2013",
          "2014",
          "2015",
          "2016",
          "2017",
          "2018",
          "2019",
          "2020",
          "2021",
          "2022",
          "2023"
         ],
         "y": [
          4.770992366412214,
          5.343511450381679,
          5.916030534351145,
          7.442748091603053,
          7.238095238095238,
          7.251908396946565,
          7.0476190476190474,
          7.0476190476190474,
          7.984790874524715,
          11.596958174904943,
          19.011406844106464,
          20.722433460076044
         ]
        },
        {
         "line": {
          "color": "#353a29"
         },
         "mode": "lines",
         "name": "4",
         "stackgroup": "one",
         "type": "scatter",
         "x": [
          "2012",
          "2013",
          "2014",
          "2015",
          "2016",
          "2017",
          "2018",
          "2019",
          "2020",
          "2021",
          "2022",
          "2023"
         ],
         "y": [
          26.52671755725191,
          26.717557251908396,
          27.86259541984733,
          37.595419847328245,
          42.095238095238095,
          41.98473282442748,
          42.66666666666667,
          43.238095238095234,
          46.7680608365019,
          55.70342205323195,
          53.041825095057035,
          53.80228136882129
         ]
        },
        {
         "line": {
          "color": "#8bae7c"
         },
         "mode": "lines",
         "name": "3",
         "stackgroup": "one",
         "type": "scatter",
         "x": [
          "2012",
          "2013",
          "2014",
          "2015",
          "2016",
          "2017",
          "2018",
          "2019",
          "2020",
          "2021",
          "2022",
          "2023"
         ],
         "y": [
          51.335877862595424,
          50.95419847328244,
          50.57251908396947,
          40.839694656488554,
          37.333333333333336,
          37.404580152671755,
          36.952380952380956,
          36.19047619047619,
          34.98098859315589,
          28.13688212927757,
          21.102661596958175,
          17.490494296577946
         ]
        },
        {
         "line": {
          "color": "#e7a564"
         },
         "mode": "lines",
         "name": "2",
         "stackgroup": "one",
         "type": "scatter",
         "x": [
          "2012",
          "2013",
          "2014",
          "2015",
          "2016",
          "2017",
          "2018",
          "2019",
          "2020",
          "2021",
          "2022",
          "2023"
         ],
         "y": [
          11.83206106870229,
          11.450381679389313,
          10.49618320610687,
          9.16030534351145,
          8.380952380952381,
          8.396946564885496,
          8.380952380952381,
          8.761904761904763,
          6.4638783269961975,
          2.2813688212927756,
          2.4714828897338403,
          2.2813688212927756
         ]
        },
        {
         "line": {
          "color": "#46a7a2"
         },
         "mode": "lines",
         "name": "1",
         "stackgroup": "one",
         "type": "scatter",
         "x": [
          "2012",
          "2013",
          "2014",
          "2015",
          "2016",
          "2017",
          "2018",
          "2019",
          "2020",
          "2021",
          "2022",
          "2023"
         ],
         "y": [
          4.961832061068702,
          4.961832061068702,
          4.580152671755725,
          4.580152671755725,
          4.380952380952381,
          4.3893129770992365,
          4.380952380952381,
          4.190476190476191,
          3.2319391634980987,
          0.38022813688212925,
          0.19011406844106463,
          0.19011406844106463
         ]
        }
       ],
       "layout": {
        "font": {
         "family": "Montserrat, sans-serif",
         "size": 14
        },
        "height": 400,
        "legend": {
         "orientation": "h",
         "x": 1,
         "xanchor": "right",
         "y": 1.12,
         "yanchor": "top"
        },
        "margin": {
         "b": 50,
         "l": 0,
         "r": 20,
         "t": 50
        },
        "plot_bgcolor": "#EEEEEE",
        "template": {
         "data": {
          "bar": [
           {
            "error_x": {
             "color": "#2a3f5f"
            },
            "error_y": {
             "color": "#2a3f5f"
            },
            "marker": {
             "line": {
              "color": "#E5ECF6",
              "width": 0.5
             },
             "pattern": {
              "fillmode": "overlay",
              "size": 10,
              "solidity": 0.2
             }
            },
            "type": "bar"
           }
          ],
          "barpolar": [
           {
            "marker": {
             "line": {
              "color": "#E5ECF6",
              "width": 0.5
             },
             "pattern": {
              "fillmode": "overlay",
              "size": 10,
              "solidity": 0.2
             }
            },
            "type": "barpolar"
           }
          ],
          "carpet": [
           {
            "aaxis": {
             "endlinecolor": "#2a3f5f",
             "gridcolor": "white",
             "linecolor": "white",
             "minorgridcolor": "white",
             "startlinecolor": "#2a3f5f"
            },
            "baxis": {
             "endlinecolor": "#2a3f5f",
             "gridcolor": "white",
             "linecolor": "white",
             "minorgridcolor": "white",
             "startlinecolor": "#2a3f5f"
            },
            "type": "carpet"
           }
          ],
          "choropleth": [
           {
            "colorbar": {
             "outlinewidth": 0,
             "ticks": ""
            },
            "type": "choropleth"
           }
          ],
          "contour": [
           {
            "colorbar": {
             "outlinewidth": 0,
             "ticks": ""
            },
            "colorscale": [
             [
              0,
              "#0d0887"
             ],
             [
              0.1111111111111111,
              "#46039f"
             ],
             [
              0.2222222222222222,
              "#7201a8"
             ],
             [
              0.3333333333333333,
              "#9c179e"
             ],
             [
              0.4444444444444444,
              "#bd3786"
             ],
             [
              0.5555555555555556,
              "#d8576b"
             ],
             [
              0.6666666666666666,
              "#ed7953"
             ],
             [
              0.7777777777777778,
              "#fb9f3a"
             ],
             [
              0.8888888888888888,
              "#fdca26"
             ],
             [
              1,
              "#f0f921"
             ]
            ],
            "type": "contour"
           }
          ],
          "contourcarpet": [
           {
            "colorbar": {
             "outlinewidth": 0,
             "ticks": ""
            },
            "type": "contourcarpet"
           }
          ],
          "heatmap": [
           {
            "colorbar": {
             "outlinewidth": 0,
             "ticks": ""
            },
            "colorscale": [
             [
              0,
              "#0d0887"
             ],
             [
              0.1111111111111111,
              "#46039f"
             ],
             [
              0.2222222222222222,
              "#7201a8"
             ],
             [
              0.3333333333333333,
              "#9c179e"
             ],
             [
              0.4444444444444444,
              "#bd3786"
             ],
             [
              0.5555555555555556,
              "#d8576b"
             ],
             [
              0.6666666666666666,
              "#ed7953"
             ],
             [
              0.7777777777777778,
              "#fb9f3a"
             ],
             [
              0.8888888888888888,
              "#fdca26"
             ],
             [
              1,
              "#f0f921"
             ]
            ],
            "type": "heatmap"
           }
          ],
          "heatmapgl": [
           {
            "colorbar": {
             "outlinewidth": 0,
             "ticks": ""
            },
            "colorscale": [
             [
              0,
              "#0d0887"
             ],
             [
              0.1111111111111111,
              "#46039f"
             ],
             [
              0.2222222222222222,
              "#7201a8"
             ],
             [
              0.3333333333333333,
              "#9c179e"
             ],
             [
              0.4444444444444444,
              "#bd3786"
             ],
             [
              0.5555555555555556,
              "#d8576b"
             ],
             [
              0.6666666666666666,
              "#ed7953"
             ],
             [
              0.7777777777777778,
              "#fb9f3a"
             ],
             [
              0.8888888888888888,
              "#fdca26"
             ],
             [
              1,
              "#f0f921"
             ]
            ],
            "type": "heatmapgl"
           }
          ],
          "histogram": [
           {
            "marker": {
             "pattern": {
              "fillmode": "overlay",
              "size": 10,
              "solidity": 0.2
             }
            },
            "type": "histogram"
           }
          ],
          "histogram2d": [
           {
            "colorbar": {
             "outlinewidth": 0,
             "ticks": ""
            },
            "colorscale": [
             [
              0,
              "#0d0887"
             ],
             [
              0.1111111111111111,
              "#46039f"
             ],
             [
              0.2222222222222222,
              "#7201a8"
             ],
             [
              0.3333333333333333,
              "#9c179e"
             ],
             [
              0.4444444444444444,
              "#bd3786"
             ],
             [
              0.5555555555555556,
              "#d8576b"
             ],
             [
              0.6666666666666666,
              "#ed7953"
             ],
             [
              0.7777777777777778,
              "#fb9f3a"
             ],
             [
              0.8888888888888888,
              "#fdca26"
             ],
             [
              1,
              "#f0f921"
             ]
            ],
            "type": "histogram2d"
           }
          ],
          "histogram2dcontour": [
           {
            "colorbar": {
             "outlinewidth": 0,
             "ticks": ""
            },
            "colorscale": [
             [
              0,
              "#0d0887"
             ],
             [
              0.1111111111111111,
              "#46039f"
             ],
             [
              0.2222222222222222,
              "#7201a8"
             ],
             [
              0.3333333333333333,
              "#9c179e"
             ],
             [
              0.4444444444444444,
              "#bd3786"
             ],
             [
              0.5555555555555556,
              "#d8576b"
             ],
             [
              0.6666666666666666,
              "#ed7953"
             ],
             [
              0.7777777777777778,
              "#fb9f3a"
             ],
             [
              0.8888888888888888,
              "#fdca26"
             ],
             [
              1,
              "#f0f921"
             ]
            ],
            "type": "histogram2dcontour"
           }
          ],
          "mesh3d": [
           {
            "colorbar": {
             "outlinewidth": 0,
             "ticks": ""
            },
            "type": "mesh3d"
           }
          ],
          "parcoords": [
           {
            "line": {
             "colorbar": {
              "outlinewidth": 0,
              "ticks": ""
             }
            },
            "type": "parcoords"
           }
          ],
          "pie": [
           {
            "automargin": true,
            "type": "pie"
           }
          ],
          "scatter": [
           {
            "fillpattern": {
             "fillmode": "overlay",
             "size": 10,
             "solidity": 0.2
            },
            "type": "scatter"
           }
          ],
          "scatter3d": [
           {
            "line": {
             "colorbar": {
              "outlinewidth": 0,
              "ticks": ""
             }
            },
            "marker": {
             "colorbar": {
              "outlinewidth": 0,
              "ticks": ""
             }
            },
            "type": "scatter3d"
           }
          ],
          "scattercarpet": [
           {
            "marker": {
             "colorbar": {
              "outlinewidth": 0,
              "ticks": ""
             }
            },
            "type": "scattercarpet"
           }
          ],
          "scattergeo": [
           {
            "marker": {
             "colorbar": {
              "outlinewidth": 0,
              "ticks": ""
             }
            },
            "type": "scattergeo"
           }
          ],
          "scattergl": [
           {
            "marker": {
             "colorbar": {
              "outlinewidth": 0,
              "ticks": ""
             }
            },
            "type": "scattergl"
           }
          ],
          "scattermapbox": [
           {
            "marker": {
             "colorbar": {
              "outlinewidth": 0,
              "ticks": ""
             }
            },
            "type": "scattermapbox"
           }
          ],
          "scatterpolar": [
           {
            "marker": {
             "colorbar": {
              "outlinewidth": 0,
              "ticks": ""
             }
            },
            "type": "scatterpolar"
           }
          ],
          "scatterpolargl": [
           {
            "marker": {
             "colorbar": {
              "outlinewidth": 0,
              "ticks": ""
             }
            },
            "type": "scatterpolargl"
           }
          ],
          "scatterternary": [
           {
            "marker": {
             "colorbar": {
              "outlinewidth": 0,
              "ticks": ""
             }
            },
            "type": "scatterternary"
           }
          ],
          "surface": [
           {
            "colorbar": {
             "outlinewidth": 0,
             "ticks": ""
            },
            "colorscale": [
             [
              0,
              "#0d0887"
             ],
             [
              0.1111111111111111,
              "#46039f"
             ],
             [
              0.2222222222222222,
              "#7201a8"
             ],
             [
              0.3333333333333333,
              "#9c179e"
             ],
             [
              0.4444444444444444,
              "#bd3786"
             ],
             [
              0.5555555555555556,
              "#d8576b"
             ],
             [
              0.6666666666666666,
              "#ed7953"
             ],
             [
              0.7777777777777778,
              "#fb9f3a"
             ],
             [
              0.8888888888888888,
              "#fdca26"
             ],
             [
              1,
              "#f0f921"
             ]
            ],
            "type": "surface"
           }
          ],
          "table": [
           {
            "cells": {
             "fill": {
              "color": "#EBF0F8"
             },
             "line": {
              "color": "white"
             }
            },
            "header": {
             "fill": {
              "color": "#C8D4E3"
             },
             "line": {
              "color": "white"
             }
            },
            "type": "table"
           }
          ]
         },
         "layout": {
          "annotationdefaults": {
           "arrowcolor": "#2a3f5f",
           "arrowhead": 0,
           "arrowwidth": 1
          },
          "autotypenumbers": "strict",
          "coloraxis": {
           "colorbar": {
            "outlinewidth": 0,
            "ticks": ""
           }
          },
          "colorscale": {
           "diverging": [
            [
             0,
             "#8e0152"
            ],
            [
             0.1,
             "#c51b7d"
            ],
            [
             0.2,
             "#de77ae"
            ],
            [
             0.3,
             "#f1b6da"
            ],
            [
             0.4,
             "#fde0ef"
            ],
            [
             0.5,
             "#f7f7f7"
            ],
            [
             0.6,
             "#e6f5d0"
            ],
            [
             0.7,
             "#b8e186"
            ],
            [
             0.8,
             "#7fbc41"
            ],
            [
             0.9,
             "#4d9221"
            ],
            [
             1,
             "#276419"
            ]
           ],
           "sequential": [
            [
             0,
             "#0d0887"
            ],
            [
             0.1111111111111111,
             "#46039f"
            ],
            [
             0.2222222222222222,
             "#7201a8"
            ],
            [
             0.3333333333333333,
             "#9c179e"
            ],
            [
             0.4444444444444444,
             "#bd3786"
            ],
            [
             0.5555555555555556,
             "#d8576b"
            ],
            [
             0.6666666666666666,
             "#ed7953"
            ],
            [
             0.7777777777777778,
             "#fb9f3a"
            ],
            [
             0.8888888888888888,
             "#fdca26"
            ],
            [
             1,
             "#f0f921"
            ]
           ],
           "sequentialminus": [
            [
             0,
             "#0d0887"
            ],
            [
             0.1111111111111111,
             "#46039f"
            ],
            [
             0.2222222222222222,
             "#7201a8"
            ],
            [
             0.3333333333333333,
             "#9c179e"
            ],
            [
             0.4444444444444444,
             "#bd3786"
            ],
            [
             0.5555555555555556,
             "#d8576b"
            ],
            [
             0.6666666666666666,
             "#ed7953"
            ],
            [
             0.7777777777777778,
             "#fb9f3a"
            ],
            [
             0.8888888888888888,
             "#fdca26"
            ],
            [
             1,
             "#f0f921"
            ]
           ]
          },
          "colorway": [
           "#636efa",
           "#EF553B",
           "#00cc96",
           "#ab63fa",
           "#FFA15A",
           "#19d3f3",
           "#FF6692",
           "#B6E880",
           "#FF97FF",
           "#FECB52"
          ],
          "font": {
           "color": "#2a3f5f"
          },
          "geo": {
           "bgcolor": "white",
           "lakecolor": "white",
           "landcolor": "#E5ECF6",
           "showlakes": true,
           "showland": true,
           "subunitcolor": "white"
          },
          "hoverlabel": {
           "align": "left"
          },
          "hovermode": "closest",
          "mapbox": {
           "style": "light"
          },
          "paper_bgcolor": "white",
          "plot_bgcolor": "#E5ECF6",
          "polar": {
           "angularaxis": {
            "gridcolor": "white",
            "linecolor": "white",
            "ticks": ""
           },
           "bgcolor": "#E5ECF6",
           "radialaxis": {
            "gridcolor": "white",
            "linecolor": "white",
            "ticks": ""
           }
          },
          "scene": {
           "xaxis": {
            "backgroundcolor": "#E5ECF6",
            "gridcolor": "white",
            "gridwidth": 2,
            "linecolor": "white",
            "showbackground": true,
            "ticks": "",
            "zerolinecolor": "white"
           },
           "yaxis": {
            "backgroundcolor": "#E5ECF6",
            "gridcolor": "white",
            "gridwidth": 2,
            "linecolor": "white",
            "showbackground": true,
            "ticks": "",
            "zerolinecolor": "white"
           },
           "zaxis": {
            "backgroundcolor": "#E5ECF6",
            "gridcolor": "white",
            "gridwidth": 2,
            "linecolor": "white",
            "showbackground": true,
            "ticks": "",
            "zerolinecolor": "white"
           }
          },
          "shapedefaults": {
           "line": {
            "color": "#2a3f5f"
           }
          },
          "ternary": {
           "aaxis": {
            "gridcolor": "white",
            "linecolor": "white",
            "ticks": ""
           },
           "baxis": {
            "gridcolor": "white",
            "linecolor": "white",
            "ticks": ""
           },
           "bgcolor": "#E5ECF6",
           "caxis": {
            "gridcolor": "white",
            "linecolor": "white",
            "ticks": ""
           }
          },
          "title": {
           "x": 0.05
          },
          "xaxis": {
           "automargin": true,
           "gridcolor": "white",
           "linecolor": "white",
           "ticks": "",
           "title": {
            "standoff": 15
           },
           "zerolinecolor": "white",
           "zerolinewidth": 2
          },
          "yaxis": {
           "automargin": true,
           "gridcolor": "white",
           "linecolor": "white",
           "ticks": "",
           "title": {
            "standoff": 15
           },
           "zerolinecolor": "white",
           "zerolinewidth": 2
          }
         }
        },
        "title": {
         "text": "Vývoj STS mostov RSÚC NR v čase"
        },
        "width": 800,
        "xaxis": {
         "ticktext": [
          "2012",
          "2013",
          "2014",
          "2015",
          "2016",
          "2017",
          "2018",
          "2019",
          "2020",
          "2021",
          "2022",
          "2023"
         ],
         "tickvals": [
          "2012",
          "2013",
          "2014",
          "2015",
          "2016",
          "2017",
          "2018",
          "2019",
          "2020",
          "2021",
          "2022",
          "2023"
         ],
         "title": {
          "text": "rok"
         }
        },
        "yaxis": {
         "range": [
          0,
          100
         ],
         "ticksuffix": "%",
         "title": {
          "text": "percentuálne zastúpenie"
         }
        }
       }
      }
     },
     "metadata": {},
     "output_type": "display_data"
    }
   ],
   "source": [
    "import plotly.graph_objects as go\n",
    "\n",
    "# Define the color palette\n",
    "color_palette = ['#46a7a2', '#e7a564',\n",
    "                 '#8bae7c', '#353a29', '#eae1a9',\n",
    "                 '#c25469', '#2d505d'\n",
    "                 ]\n",
    "\n",
    "# Transpose the DataFrame for plotting: years as columns, conditions as rows\n",
    "data_for_plotting = relative_condition_counts.set_index(\n",
    "    'Condition').T.reset_index()\n",
    "data_for_plotting.rename(columns={'index': 'Year'}, inplace=True)\n",
    "\n",
    "# Update year labels\n",
    "years = ['{}'.format(year) for year in range(2012, 2024)]\n",
    "data_for_plotting['Year'] = years\n",
    "\n",
    "# Create a figure\n",
    "fig = go.Figure()\n",
    "\n",
    "# Add a trace for each condition in reverse order\n",
    "for i, condition in reversed(list(enumerate(relative_condition_counts['Condition'].unique()))):\n",
    "    fig.add_trace(go.Scatter(\n",
    "        x=data_for_plotting['Year'],\n",
    "        y=data_for_plotting[condition],\n",
    "        mode='lines',\n",
    "        stackgroup='one',  # This option stacks the areas\n",
    "        name=str(condition),  # Label for the legend\n",
    "        # Apply color from the palette\n",
    "        line=dict(color=color_palette[i % len(color_palette)])\n",
    "    ))\n",
    "\n",
    "# Update the layout\n",
    "fig.update_layout(\n",
    "    title='Vývoj STS mostov RSÚC NR v čase',\n",
    "    xaxis_title='rok',\n",
    "    yaxis_title='percentuálne zastúpenie',\n",
    "    yaxis=dict(ticksuffix=\"%\", range=[0, 100]\n",
    "               ),  # Set y-axis range from 0 to 100%\n",
    "    # Set font family to Montserrat\n",
    "    font=dict(family=\"Montserrat, sans-serif\", size=14),\n",
    "    legend=dict(\n",
    "        orientation=\"h\",  # Horizontal legend orientation\n",
    "        yanchor=\"top\",  # Anchor legend to the top\n",
    "        y=1.120,  # Position the legend slightly above the plot\n",
    "        xanchor=\"right\",  # Anchor legend to the right\n",
    "        x=1  # Align legend to the right\n",
    "    ),\n",
    "    # Set x-axis tick values and labels\n",
    "    xaxis=dict(\n",
    "        tickvals=[str(year) for year in range(2012, 2024)],\n",
    "        ticktext=['2012', '2013', '2014', '2015', '2016', '2017',\n",
    "                  '2018', '2019', '2020', '2021', '2022', '2023']\n",
    "    ),\n",
    "    plot_bgcolor='#EEEEEE',\n",
    "    margin=dict(l=0, r=20, t=50, b=50),  # Adjust margins for tight layout\n",
    "    width=800,  # Set figure width\n",
    "    height=400  # Set figure height\n",
    ")\n",
    "\n",
    "# Show the figure\n",
    "fig.show()"
   ]
  },
  {
   "cell_type": "code",
   "execution_count": 196,
   "metadata": {},
   "outputs": [
    {
     "data": {
      "text/plain": [
       "Material\n",
       "monolitický železobetón          282\n",
       "prefabrikovaný železobetón       119\n",
       "prefabrikovaný predpätý betón     59\n",
       "oceľ -  plnostenná                32\n",
       "kameň                             16\n",
       "tehla                              9\n",
       "monolitický predpätý betón         4\n",
       "oceľ -  priehradová                2\n",
       "oceľobetón                         2\n",
       "Nezistený                          1\n",
       "Name: count, dtype: int64"
      ]
     },
     "execution_count": 196,
     "metadata": {},
     "output_type": "execute_result"
    }
   ],
   "source": [
    "filtered_bridges[\"Material\"].value_counts()"
   ]
  },
  {
   "cell_type": "code",
   "execution_count": 214,
   "metadata": {},
   "outputs": [
    {
     "data": {
      "application/vnd.plotly.v1+json": {
       "config": {
        "plotlyServerURL": "https://plot.ly"
       },
       "data": [
        {
         "marker": {
          "color": "#e7a564"
         },
         "name": "monolitický železobetón",
         "text": [
          "282"
         ],
         "textposition": "outside",
         "type": "bar",
         "x": [
          "monolitický železobetón"
         ],
         "y": [
          282
         ]
        },
        {
         "marker": {
          "color": "#46a7a2"
         },
         "name": "prefabrikovaný železobetón",
         "text": [
          "119"
         ],
         "textposition": "outside",
         "type": "bar",
         "x": [
          "prefabrikovaný železobetón"
         ],
         "y": [
          119
         ]
        },
        {
         "marker": {
          "color": "#c6d9df"
         },
         "name": "prefabrikovaný predpätý betón",
         "text": [
          "59"
         ],
         "textposition": "outside",
         "type": "bar",
         "x": [
          "prefabrikovaný predpätý betón"
         ],
         "y": [
          59
         ]
        },
        {
         "marker": {
          "color": "#b17431"
         },
         "name": "oceľ -  plnostenná",
         "text": [
          "32"
         ],
         "textposition": "outside",
         "type": "bar",
         "x": [
          "oceľ -  plnostenná"
         ],
         "y": [
          32
         ]
        },
        {
         "marker": {
          "color": "#8bae7c"
         },
         "name": "kameň",
         "text": [
          "16"
         ],
         "textposition": "outside",
         "type": "bar",
         "x": [
          "kameň"
         ],
         "y": [
          16
         ]
        },
        {
         "marker": {
          "color": "#353a29"
         },
         "name": "tehla",
         "text": [
          "9"
         ],
         "textposition": "outside",
         "type": "bar",
         "x": [
          "tehla"
         ],
         "y": [
          9
         ]
        },
        {
         "marker": {
          "color": "#f1aab2"
         },
         "name": "monolitický predpätý betón",
         "text": [
          "4"
         ],
         "textposition": "outside",
         "type": "bar",
         "x": [
          "monolitický predpätý betón"
         ],
         "y": [
          4
         ]
        },
        {
         "marker": {
          "color": "#eae1a9"
         },
         "name": "oceľ -  priehradová",
         "text": [
          "2"
         ],
         "textposition": "outside",
         "type": "bar",
         "x": [
          "oceľ -  priehradová"
         ],
         "y": [
          2
         ]
        },
        {
         "marker": {
          "color": "#c25469"
         },
         "name": "oceľobetón",
         "text": [
          "2"
         ],
         "textposition": "outside",
         "type": "bar",
         "x": [
          "oceľobetón"
         ],
         "y": [
          2
         ]
        },
        {
         "marker": {
          "color": "#2d505d"
         },
         "name": "Nezistený",
         "text": [
          "1"
         ],
         "textposition": "outside",
         "type": "bar",
         "x": [
          "Nezistený"
         ],
         "y": [
          1
         ]
        }
       ],
       "layout": {
        "annotations": [
         {
          "font": {
           "family": "Montserrat, sans-serif",
           "size": 15
          },
          "showarrow": false,
          "text": "materiál",
          "x": 0.5,
          "xref": "paper",
          "y": -0.075,
          "yref": "paper"
         }
        ],
        "bargap": 0.3,
        "font": {
         "family": "Montserrat, sans-serif",
         "size": 14
        },
        "legend": {
         "orientation": "h",
         "x": 0.985,
         "xanchor": "right",
         "y": 0.975,
         "yanchor": "top"
        },
        "margin": {
         "b": 30,
         "l": 0,
         "r": 20,
         "t": 50
        },
        "plot_bgcolor": "#EEEEEE",
        "template": {
         "data": {
          "bar": [
           {
            "error_x": {
             "color": "#2a3f5f"
            },
            "error_y": {
             "color": "#2a3f5f"
            },
            "marker": {
             "line": {
              "color": "#E5ECF6",
              "width": 0.5
             },
             "pattern": {
              "fillmode": "overlay",
              "size": 10,
              "solidity": 0.2
             }
            },
            "type": "bar"
           }
          ],
          "barpolar": [
           {
            "marker": {
             "line": {
              "color": "#E5ECF6",
              "width": 0.5
             },
             "pattern": {
              "fillmode": "overlay",
              "size": 10,
              "solidity": 0.2
             }
            },
            "type": "barpolar"
           }
          ],
          "carpet": [
           {
            "aaxis": {
             "endlinecolor": "#2a3f5f",
             "gridcolor": "white",
             "linecolor": "white",
             "minorgridcolor": "white",
             "startlinecolor": "#2a3f5f"
            },
            "baxis": {
             "endlinecolor": "#2a3f5f",
             "gridcolor": "white",
             "linecolor": "white",
             "minorgridcolor": "white",
             "startlinecolor": "#2a3f5f"
            },
            "type": "carpet"
           }
          ],
          "choropleth": [
           {
            "colorbar": {
             "outlinewidth": 0,
             "ticks": ""
            },
            "type": "choropleth"
           }
          ],
          "contour": [
           {
            "colorbar": {
             "outlinewidth": 0,
             "ticks": ""
            },
            "colorscale": [
             [
              0,
              "#0d0887"
             ],
             [
              0.1111111111111111,
              "#46039f"
             ],
             [
              0.2222222222222222,
              "#7201a8"
             ],
             [
              0.3333333333333333,
              "#9c179e"
             ],
             [
              0.4444444444444444,
              "#bd3786"
             ],
             [
              0.5555555555555556,
              "#d8576b"
             ],
             [
              0.6666666666666666,
              "#ed7953"
             ],
             [
              0.7777777777777778,
              "#fb9f3a"
             ],
             [
              0.8888888888888888,
              "#fdca26"
             ],
             [
              1,
              "#f0f921"
             ]
            ],
            "type": "contour"
           }
          ],
          "contourcarpet": [
           {
            "colorbar": {
             "outlinewidth": 0,
             "ticks": ""
            },
            "type": "contourcarpet"
           }
          ],
          "heatmap": [
           {
            "colorbar": {
             "outlinewidth": 0,
             "ticks": ""
            },
            "colorscale": [
             [
              0,
              "#0d0887"
             ],
             [
              0.1111111111111111,
              "#46039f"
             ],
             [
              0.2222222222222222,
              "#7201a8"
             ],
             [
              0.3333333333333333,
              "#9c179e"
             ],
             [
              0.4444444444444444,
              "#bd3786"
             ],
             [
              0.5555555555555556,
              "#d8576b"
             ],
             [
              0.6666666666666666,
              "#ed7953"
             ],
             [
              0.7777777777777778,
              "#fb9f3a"
             ],
             [
              0.8888888888888888,
              "#fdca26"
             ],
             [
              1,
              "#f0f921"
             ]
            ],
            "type": "heatmap"
           }
          ],
          "heatmapgl": [
           {
            "colorbar": {
             "outlinewidth": 0,
             "ticks": ""
            },
            "colorscale": [
             [
              0,
              "#0d0887"
             ],
             [
              0.1111111111111111,
              "#46039f"
             ],
             [
              0.2222222222222222,
              "#7201a8"
             ],
             [
              0.3333333333333333,
              "#9c179e"
             ],
             [
              0.4444444444444444,
              "#bd3786"
             ],
             [
              0.5555555555555556,
              "#d8576b"
             ],
             [
              0.6666666666666666,
              "#ed7953"
             ],
             [
              0.7777777777777778,
              "#fb9f3a"
             ],
             [
              0.8888888888888888,
              "#fdca26"
             ],
             [
              1,
              "#f0f921"
             ]
            ],
            "type": "heatmapgl"
           }
          ],
          "histogram": [
           {
            "marker": {
             "pattern": {
              "fillmode": "overlay",
              "size": 10,
              "solidity": 0.2
             }
            },
            "type": "histogram"
           }
          ],
          "histogram2d": [
           {
            "colorbar": {
             "outlinewidth": 0,
             "ticks": ""
            },
            "colorscale": [
             [
              0,
              "#0d0887"
             ],
             [
              0.1111111111111111,
              "#46039f"
             ],
             [
              0.2222222222222222,
              "#7201a8"
             ],
             [
              0.3333333333333333,
              "#9c179e"
             ],
             [
              0.4444444444444444,
              "#bd3786"
             ],
             [
              0.5555555555555556,
              "#d8576b"
             ],
             [
              0.6666666666666666,
              "#ed7953"
             ],
             [
              0.7777777777777778,
              "#fb9f3a"
             ],
             [
              0.8888888888888888,
              "#fdca26"
             ],
             [
              1,
              "#f0f921"
             ]
            ],
            "type": "histogram2d"
           }
          ],
          "histogram2dcontour": [
           {
            "colorbar": {
             "outlinewidth": 0,
             "ticks": ""
            },
            "colorscale": [
             [
              0,
              "#0d0887"
             ],
             [
              0.1111111111111111,
              "#46039f"
             ],
             [
              0.2222222222222222,
              "#7201a8"
             ],
             [
              0.3333333333333333,
              "#9c179e"
             ],
             [
              0.4444444444444444,
              "#bd3786"
             ],
             [
              0.5555555555555556,
              "#d8576b"
             ],
             [
              0.6666666666666666,
              "#ed7953"
             ],
             [
              0.7777777777777778,
              "#fb9f3a"
             ],
             [
              0.8888888888888888,
              "#fdca26"
             ],
             [
              1,
              "#f0f921"
             ]
            ],
            "type": "histogram2dcontour"
           }
          ],
          "mesh3d": [
           {
            "colorbar": {
             "outlinewidth": 0,
             "ticks": ""
            },
            "type": "mesh3d"
           }
          ],
          "parcoords": [
           {
            "line": {
             "colorbar": {
              "outlinewidth": 0,
              "ticks": ""
             }
            },
            "type": "parcoords"
           }
          ],
          "pie": [
           {
            "automargin": true,
            "type": "pie"
           }
          ],
          "scatter": [
           {
            "fillpattern": {
             "fillmode": "overlay",
             "size": 10,
             "solidity": 0.2
            },
            "type": "scatter"
           }
          ],
          "scatter3d": [
           {
            "line": {
             "colorbar": {
              "outlinewidth": 0,
              "ticks": ""
             }
            },
            "marker": {
             "colorbar": {
              "outlinewidth": 0,
              "ticks": ""
             }
            },
            "type": "scatter3d"
           }
          ],
          "scattercarpet": [
           {
            "marker": {
             "colorbar": {
              "outlinewidth": 0,
              "ticks": ""
             }
            },
            "type": "scattercarpet"
           }
          ],
          "scattergeo": [
           {
            "marker": {
             "colorbar": {
              "outlinewidth": 0,
              "ticks": ""
             }
            },
            "type": "scattergeo"
           }
          ],
          "scattergl": [
           {
            "marker": {
             "colorbar": {
              "outlinewidth": 0,
              "ticks": ""
             }
            },
            "type": "scattergl"
           }
          ],
          "scattermapbox": [
           {
            "marker": {
             "colorbar": {
              "outlinewidth": 0,
              "ticks": ""
             }
            },
            "type": "scattermapbox"
           }
          ],
          "scatterpolar": [
           {
            "marker": {
             "colorbar": {
              "outlinewidth": 0,
              "ticks": ""
             }
            },
            "type": "scatterpolar"
           }
          ],
          "scatterpolargl": [
           {
            "marker": {
             "colorbar": {
              "outlinewidth": 0,
              "ticks": ""
             }
            },
            "type": "scatterpolargl"
           }
          ],
          "scatterternary": [
           {
            "marker": {
             "colorbar": {
              "outlinewidth": 0,
              "ticks": ""
             }
            },
            "type": "scatterternary"
           }
          ],
          "surface": [
           {
            "colorbar": {
             "outlinewidth": 0,
             "ticks": ""
            },
            "colorscale": [
             [
              0,
              "#0d0887"
             ],
             [
              0.1111111111111111,
              "#46039f"
             ],
             [
              0.2222222222222222,
              "#7201a8"
             ],
             [
              0.3333333333333333,
              "#9c179e"
             ],
             [
              0.4444444444444444,
              "#bd3786"
             ],
             [
              0.5555555555555556,
              "#d8576b"
             ],
             [
              0.6666666666666666,
              "#ed7953"
             ],
             [
              0.7777777777777778,
              "#fb9f3a"
             ],
             [
              0.8888888888888888,
              "#fdca26"
             ],
             [
              1,
              "#f0f921"
             ]
            ],
            "type": "surface"
           }
          ],
          "table": [
           {
            "cells": {
             "fill": {
              "color": "#EBF0F8"
             },
             "line": {
              "color": "white"
             }
            },
            "header": {
             "fill": {
              "color": "#C8D4E3"
             },
             "line": {
              "color": "white"
             }
            },
            "type": "table"
           }
          ]
         },
         "layout": {
          "annotationdefaults": {
           "arrowcolor": "#2a3f5f",
           "arrowhead": 0,
           "arrowwidth": 1
          },
          "autotypenumbers": "strict",
          "coloraxis": {
           "colorbar": {
            "outlinewidth": 0,
            "ticks": ""
           }
          },
          "colorscale": {
           "diverging": [
            [
             0,
             "#8e0152"
            ],
            [
             0.1,
             "#c51b7d"
            ],
            [
             0.2,
             "#de77ae"
            ],
            [
             0.3,
             "#f1b6da"
            ],
            [
             0.4,
             "#fde0ef"
            ],
            [
             0.5,
             "#f7f7f7"
            ],
            [
             0.6,
             "#e6f5d0"
            ],
            [
             0.7,
             "#b8e186"
            ],
            [
             0.8,
             "#7fbc41"
            ],
            [
             0.9,
             "#4d9221"
            ],
            [
             1,
             "#276419"
            ]
           ],
           "sequential": [
            [
             0,
             "#0d0887"
            ],
            [
             0.1111111111111111,
             "#46039f"
            ],
            [
             0.2222222222222222,
             "#7201a8"
            ],
            [
             0.3333333333333333,
             "#9c179e"
            ],
            [
             0.4444444444444444,
             "#bd3786"
            ],
            [
             0.5555555555555556,
             "#d8576b"
            ],
            [
             0.6666666666666666,
             "#ed7953"
            ],
            [
             0.7777777777777778,
             "#fb9f3a"
            ],
            [
             0.8888888888888888,
             "#fdca26"
            ],
            [
             1,
             "#f0f921"
            ]
           ],
           "sequentialminus": [
            [
             0,
             "#0d0887"
            ],
            [
             0.1111111111111111,
             "#46039f"
            ],
            [
             0.2222222222222222,
             "#7201a8"
            ],
            [
             0.3333333333333333,
             "#9c179e"
            ],
            [
             0.4444444444444444,
             "#bd3786"
            ],
            [
             0.5555555555555556,
             "#d8576b"
            ],
            [
             0.6666666666666666,
             "#ed7953"
            ],
            [
             0.7777777777777778,
             "#fb9f3a"
            ],
            [
             0.8888888888888888,
             "#fdca26"
            ],
            [
             1,
             "#f0f921"
            ]
           ]
          },
          "colorway": [
           "#636efa",
           "#EF553B",
           "#00cc96",
           "#ab63fa",
           "#FFA15A",
           "#19d3f3",
           "#FF6692",
           "#B6E880",
           "#FF97FF",
           "#FECB52"
          ],
          "font": {
           "color": "#2a3f5f"
          },
          "geo": {
           "bgcolor": "white",
           "lakecolor": "white",
           "landcolor": "#E5ECF6",
           "showlakes": true,
           "showland": true,
           "subunitcolor": "white"
          },
          "hoverlabel": {
           "align": "left"
          },
          "hovermode": "closest",
          "mapbox": {
           "style": "light"
          },
          "paper_bgcolor": "white",
          "plot_bgcolor": "#E5ECF6",
          "polar": {
           "angularaxis": {
            "gridcolor": "white",
            "linecolor": "white",
            "ticks": ""
           },
           "bgcolor": "#E5ECF6",
           "radialaxis": {
            "gridcolor": "white",
            "linecolor": "white",
            "ticks": ""
           }
          },
          "scene": {
           "xaxis": {
            "backgroundcolor": "#E5ECF6",
            "gridcolor": "white",
            "gridwidth": 2,
            "linecolor": "white",
            "showbackground": true,
            "ticks": "",
            "zerolinecolor": "white"
           },
           "yaxis": {
            "backgroundcolor": "#E5ECF6",
            "gridcolor": "white",
            "gridwidth": 2,
            "linecolor": "white",
            "showbackground": true,
            "ticks": "",
            "zerolinecolor": "white"
           },
           "zaxis": {
            "backgroundcolor": "#E5ECF6",
            "gridcolor": "white",
            "gridwidth": 2,
            "linecolor": "white",
            "showbackground": true,
            "ticks": "",
            "zerolinecolor": "white"
           }
          },
          "shapedefaults": {
           "line": {
            "color": "#2a3f5f"
           }
          },
          "ternary": {
           "aaxis": {
            "gridcolor": "white",
            "linecolor": "white",
            "ticks": ""
           },
           "baxis": {
            "gridcolor": "white",
            "linecolor": "white",
            "ticks": ""
           },
           "bgcolor": "#E5ECF6",
           "caxis": {
            "gridcolor": "white",
            "linecolor": "white",
            "ticks": ""
           }
          },
          "title": {
           "x": 0.05
          },
          "xaxis": {
           "automargin": true,
           "gridcolor": "white",
           "linecolor": "white",
           "ticks": "",
           "title": {
            "standoff": 15
           },
           "zerolinecolor": "white",
           "zerolinewidth": 2
          },
          "yaxis": {
           "automargin": true,
           "gridcolor": "white",
           "linecolor": "white",
           "ticks": "",
           "title": {
            "standoff": 15
           },
           "zerolinecolor": "white",
           "zerolinewidth": 2
          }
         }
        },
        "title": {
         "text": "Konštrukčné materiály mostov v správe RSÚC NR"
        },
        "xaxis": {
         "showticklabels": false
        },
        "yaxis": {
         "title": {
          "text": "počet"
         }
        }
       }
      }
     },
     "metadata": {},
     "output_type": "display_data"
    }
   ],
   "source": [
    "import plotly.graph_objects as go\n",
    "\n",
    "# Define the color palette\n",
    "color_palette = ['#e7a564', '#46a7a2', '#c6d9df', '#b17431',\n",
    "                 '#8bae7c', '#353a29', '#f1aab2', '#eae1a9',\n",
    "                 '#c25469', '#2d505d'\n",
    "                 ]\n",
    "\n",
    "# Get the material counts\n",
    "material_counts = filtered_bridges[\"Material\"].value_counts()\n",
    "\n",
    "# Create a bar plot\n",
    "fig = go.Figure()\n",
    "\n",
    "# Add traces for each material, include the count as text, and set textposition to 'auto' for automatic placement\n",
    "for material, count, color in zip(material_counts.index, material_counts.values, color_palette):\n",
    "    fig.add_trace(go.Bar(\n",
    "        x=[material],  # Set x to material for vertical bars\n",
    "        y=[count],\n",
    "        name=material,\n",
    "        marker_color=color,\n",
    "        text=[count],  # Add the count as text for each bar\n",
    "        textposition='outside'  # Position the text outside of bars\n",
    "    ))\n",
    "\n",
    "# Update the layout with additional configurations\n",
    "fig.update_layout(\n",
    "    title=\"Konštrukčné materiály mostov v správe RSÚC NR\",\n",
    "    yaxis_title=\"počet\",\n",
    "    xaxis=dict(\n",
    "        showticklabels=False\n",
    "    ),\n",
    "    plot_bgcolor='#EEEEEE',  # Set plot background color\n",
    "    font=dict(family=\"Montserrat, sans-serif\",\n",
    "              size=14),  # Set font family and size\n",
    "    legend=dict(\n",
    "        orientation=\"h\",  # Horizontal legend orientation\n",
    "        yanchor=\"top\",  # Anchor legend to the top\n",
    "        y=0.975,  # Position the legend slightly above the plot\n",
    "        xanchor=\"right\",  # Anchor legend to the right\n",
    "        x=0.985  # Align legend to the right\n",
    "    ),\n",
    "    margin=dict(l=0, r=20, t=50, b=30),  # Adjust margins for tight layout\n",
    "    bargap=0.3,  # Increase the gap between bars for more space\n",
    ")\n",
    "\n",
    "# Add a custom x-axis label using annotations\n",
    "fig.update_layout(\n",
    "    annotations=[\n",
    "        dict(\n",
    "            x=0.5,  # x-coordinate position (0.5 for center)\n",
    "            y=-0.075,  # y-coordinate position (-0.15 places it below the bars)\n",
    "            xref='paper',  # Use 'paper' for positioning relative to the plot area\n",
    "            yref='paper',  # Use 'paper' for positioning relative to the plot area\n",
    "            showarrow=False,  # Do not show an arrow\n",
    "            text=\"materiál\",  # The text you want as the x-axis label\n",
    "            # Match the font size with the rest of the plot\n",
    "            font=dict(family=\"Montserrat, sans-serif\",\n",
    "                      size=15),\n",
    "        )\n",
    "    ]\n",
    ")\n",
    "\n",
    "# Show the updated plot\n",
    "fig.show()"
   ]
  },
  {
   "cell_type": "code",
   "execution_count": 198,
   "metadata": {},
   "outputs": [
    {
     "data": {
      "text/plain": [
       "count    526.000000\n",
       "mean      12.071084\n",
       "std       24.835092\n",
       "min        2.000000\n",
       "25%        3.500000\n",
       "50%        5.115000\n",
       "75%        9.000000\n",
       "max      266.700000\n",
       "Name: Dĺžka_premostenia, dtype: float64"
      ]
     },
     "execution_count": 198,
     "metadata": {},
     "output_type": "execute_result"
    }
   ],
   "source": [
    "filtered_bridges[\"Dĺžka_premostenia\"].describe()"
   ]
  },
  {
   "cell_type": "code",
   "execution_count": 238,
   "metadata": {},
   "outputs": [
    {
     "data": {
      "application/vnd.plotly.v1+json": {
       "config": {
        "plotlyServerURL": "https://plot.ly"
       },
       "data": [
        {
         "insidetextanchor": "start",
         "marker": {
          "color": [
           "#e7a564",
           "#46a7a2",
           "#2d505d",
           "#8bae7c",
           "#c25469"
          ]
         },
         "text": [
          110,
          107,
          99,
          105,
          105
         ],
         "textfont": {
          "color": "white",
          "size": 14
         },
         "textposition": "inside",
         "type": "bar",
         "x": [
          "(1.999, 3.05]",
          "(3.05, 4.5]",
          "(4.5, 6.25]",
          "(6.25, 11.45]",
          "(11.45, 266.7]"
         ],
         "y": [
          110,
          107,
          99,
          105,
          105
         ]
        }
       ],
       "layout": {
        "bargap": 0.2,
        "font": {
         "family": "Montserrat, sans-serif",
         "size": 14
        },
        "margin": {
         "b": 30,
         "l": 0,
         "r": 20,
         "t": 50
        },
        "plot_bgcolor": "#EEEEEE",
        "template": {
         "data": {
          "bar": [
           {
            "error_x": {
             "color": "#2a3f5f"
            },
            "error_y": {
             "color": "#2a3f5f"
            },
            "marker": {
             "line": {
              "color": "#E5ECF6",
              "width": 0.5
             },
             "pattern": {
              "fillmode": "overlay",
              "size": 10,
              "solidity": 0.2
             }
            },
            "type": "bar"
           }
          ],
          "barpolar": [
           {
            "marker": {
             "line": {
              "color": "#E5ECF6",
              "width": 0.5
             },
             "pattern": {
              "fillmode": "overlay",
              "size": 10,
              "solidity": 0.2
             }
            },
            "type": "barpolar"
           }
          ],
          "carpet": [
           {
            "aaxis": {
             "endlinecolor": "#2a3f5f",
             "gridcolor": "white",
             "linecolor": "white",
             "minorgridcolor": "white",
             "startlinecolor": "#2a3f5f"
            },
            "baxis": {
             "endlinecolor": "#2a3f5f",
             "gridcolor": "white",
             "linecolor": "white",
             "minorgridcolor": "white",
             "startlinecolor": "#2a3f5f"
            },
            "type": "carpet"
           }
          ],
          "choropleth": [
           {
            "colorbar": {
             "outlinewidth": 0,
             "ticks": ""
            },
            "type": "choropleth"
           }
          ],
          "contour": [
           {
            "colorbar": {
             "outlinewidth": 0,
             "ticks": ""
            },
            "colorscale": [
             [
              0,
              "#0d0887"
             ],
             [
              0.1111111111111111,
              "#46039f"
             ],
             [
              0.2222222222222222,
              "#7201a8"
             ],
             [
              0.3333333333333333,
              "#9c179e"
             ],
             [
              0.4444444444444444,
              "#bd3786"
             ],
             [
              0.5555555555555556,
              "#d8576b"
             ],
             [
              0.6666666666666666,
              "#ed7953"
             ],
             [
              0.7777777777777778,
              "#fb9f3a"
             ],
             [
              0.8888888888888888,
              "#fdca26"
             ],
             [
              1,
              "#f0f921"
             ]
            ],
            "type": "contour"
           }
          ],
          "contourcarpet": [
           {
            "colorbar": {
             "outlinewidth": 0,
             "ticks": ""
            },
            "type": "contourcarpet"
           }
          ],
          "heatmap": [
           {
            "colorbar": {
             "outlinewidth": 0,
             "ticks": ""
            },
            "colorscale": [
             [
              0,
              "#0d0887"
             ],
             [
              0.1111111111111111,
              "#46039f"
             ],
             [
              0.2222222222222222,
              "#7201a8"
             ],
             [
              0.3333333333333333,
              "#9c179e"
             ],
             [
              0.4444444444444444,
              "#bd3786"
             ],
             [
              0.5555555555555556,
              "#d8576b"
             ],
             [
              0.6666666666666666,
              "#ed7953"
             ],
             [
              0.7777777777777778,
              "#fb9f3a"
             ],
             [
              0.8888888888888888,
              "#fdca26"
             ],
             [
              1,
              "#f0f921"
             ]
            ],
            "type": "heatmap"
           }
          ],
          "heatmapgl": [
           {
            "colorbar": {
             "outlinewidth": 0,
             "ticks": ""
            },
            "colorscale": [
             [
              0,
              "#0d0887"
             ],
             [
              0.1111111111111111,
              "#46039f"
             ],
             [
              0.2222222222222222,
              "#7201a8"
             ],
             [
              0.3333333333333333,
              "#9c179e"
             ],
             [
              0.4444444444444444,
              "#bd3786"
             ],
             [
              0.5555555555555556,
              "#d8576b"
             ],
             [
              0.6666666666666666,
              "#ed7953"
             ],
             [
              0.7777777777777778,
              "#fb9f3a"
             ],
             [
              0.8888888888888888,
              "#fdca26"
             ],
             [
              1,
              "#f0f921"
             ]
            ],
            "type": "heatmapgl"
           }
          ],
          "histogram": [
           {
            "marker": {
             "pattern": {
              "fillmode": "overlay",
              "size": 10,
              "solidity": 0.2
             }
            },
            "type": "histogram"
           }
          ],
          "histogram2d": [
           {
            "colorbar": {
             "outlinewidth": 0,
             "ticks": ""
            },
            "colorscale": [
             [
              0,
              "#0d0887"
             ],
             [
              0.1111111111111111,
              "#46039f"
             ],
             [
              0.2222222222222222,
              "#7201a8"
             ],
             [
              0.3333333333333333,
              "#9c179e"
             ],
             [
              0.4444444444444444,
              "#bd3786"
             ],
             [
              0.5555555555555556,
              "#d8576b"
             ],
             [
              0.6666666666666666,
              "#ed7953"
             ],
             [
              0.7777777777777778,
              "#fb9f3a"
             ],
             [
              0.8888888888888888,
              "#fdca26"
             ],
             [
              1,
              "#f0f921"
             ]
            ],
            "type": "histogram2d"
           }
          ],
          "histogram2dcontour": [
           {
            "colorbar": {
             "outlinewidth": 0,
             "ticks": ""
            },
            "colorscale": [
             [
              0,
              "#0d0887"
             ],
             [
              0.1111111111111111,
              "#46039f"
             ],
             [
              0.2222222222222222,
              "#7201a8"
             ],
             [
              0.3333333333333333,
              "#9c179e"
             ],
             [
              0.4444444444444444,
              "#bd3786"
             ],
             [
              0.5555555555555556,
              "#d8576b"
             ],
             [
              0.6666666666666666,
              "#ed7953"
             ],
             [
              0.7777777777777778,
              "#fb9f3a"
             ],
             [
              0.8888888888888888,
              "#fdca26"
             ],
             [
              1,
              "#f0f921"
             ]
            ],
            "type": "histogram2dcontour"
           }
          ],
          "mesh3d": [
           {
            "colorbar": {
             "outlinewidth": 0,
             "ticks": ""
            },
            "type": "mesh3d"
           }
          ],
          "parcoords": [
           {
            "line": {
             "colorbar": {
              "outlinewidth": 0,
              "ticks": ""
             }
            },
            "type": "parcoords"
           }
          ],
          "pie": [
           {
            "automargin": true,
            "type": "pie"
           }
          ],
          "scatter": [
           {
            "fillpattern": {
             "fillmode": "overlay",
             "size": 10,
             "solidity": 0.2
            },
            "type": "scatter"
           }
          ],
          "scatter3d": [
           {
            "line": {
             "colorbar": {
              "outlinewidth": 0,
              "ticks": ""
             }
            },
            "marker": {
             "colorbar": {
              "outlinewidth": 0,
              "ticks": ""
             }
            },
            "type": "scatter3d"
           }
          ],
          "scattercarpet": [
           {
            "marker": {
             "colorbar": {
              "outlinewidth": 0,
              "ticks": ""
             }
            },
            "type": "scattercarpet"
           }
          ],
          "scattergeo": [
           {
            "marker": {
             "colorbar": {
              "outlinewidth": 0,
              "ticks": ""
             }
            },
            "type": "scattergeo"
           }
          ],
          "scattergl": [
           {
            "marker": {
             "colorbar": {
              "outlinewidth": 0,
              "ticks": ""
             }
            },
            "type": "scattergl"
           }
          ],
          "scattermapbox": [
           {
            "marker": {
             "colorbar": {
              "outlinewidth": 0,
              "ticks": ""
             }
            },
            "type": "scattermapbox"
           }
          ],
          "scatterpolar": [
           {
            "marker": {
             "colorbar": {
              "outlinewidth": 0,
              "ticks": ""
             }
            },
            "type": "scatterpolar"
           }
          ],
          "scatterpolargl": [
           {
            "marker": {
             "colorbar": {
              "outlinewidth": 0,
              "ticks": ""
             }
            },
            "type": "scatterpolargl"
           }
          ],
          "scatterternary": [
           {
            "marker": {
             "colorbar": {
              "outlinewidth": 0,
              "ticks": ""
             }
            },
            "type": "scatterternary"
           }
          ],
          "surface": [
           {
            "colorbar": {
             "outlinewidth": 0,
             "ticks": ""
            },
            "colorscale": [
             [
              0,
              "#0d0887"
             ],
             [
              0.1111111111111111,
              "#46039f"
             ],
             [
              0.2222222222222222,
              "#7201a8"
             ],
             [
              0.3333333333333333,
              "#9c179e"
             ],
             [
              0.4444444444444444,
              "#bd3786"
             ],
             [
              0.5555555555555556,
              "#d8576b"
             ],
             [
              0.6666666666666666,
              "#ed7953"
             ],
             [
              0.7777777777777778,
              "#fb9f3a"
             ],
             [
              0.8888888888888888,
              "#fdca26"
             ],
             [
              1,
              "#f0f921"
             ]
            ],
            "type": "surface"
           }
          ],
          "table": [
           {
            "cells": {
             "fill": {
              "color": "#EBF0F8"
             },
             "line": {
              "color": "white"
             }
            },
            "header": {
             "fill": {
              "color": "#C8D4E3"
             },
             "line": {
              "color": "white"
             }
            },
            "type": "table"
           }
          ]
         },
         "layout": {
          "annotationdefaults": {
           "arrowcolor": "#2a3f5f",
           "arrowhead": 0,
           "arrowwidth": 1
          },
          "autotypenumbers": "strict",
          "coloraxis": {
           "colorbar": {
            "outlinewidth": 0,
            "ticks": ""
           }
          },
          "colorscale": {
           "diverging": [
            [
             0,
             "#8e0152"
            ],
            [
             0.1,
             "#c51b7d"
            ],
            [
             0.2,
             "#de77ae"
            ],
            [
             0.3,
             "#f1b6da"
            ],
            [
             0.4,
             "#fde0ef"
            ],
            [
             0.5,
             "#f7f7f7"
            ],
            [
             0.6,
             "#e6f5d0"
            ],
            [
             0.7,
             "#b8e186"
            ],
            [
             0.8,
             "#7fbc41"
            ],
            [
             0.9,
             "#4d9221"
            ],
            [
             1,
             "#276419"
            ]
           ],
           "sequential": [
            [
             0,
             "#0d0887"
            ],
            [
             0.1111111111111111,
             "#46039f"
            ],
            [
             0.2222222222222222,
             "#7201a8"
            ],
            [
             0.3333333333333333,
             "#9c179e"
            ],
            [
             0.4444444444444444,
             "#bd3786"
            ],
            [
             0.5555555555555556,
             "#d8576b"
            ],
            [
             0.6666666666666666,
             "#ed7953"
            ],
            [
             0.7777777777777778,
             "#fb9f3a"
            ],
            [
             0.8888888888888888,
             "#fdca26"
            ],
            [
             1,
             "#f0f921"
            ]
           ],
           "sequentialminus": [
            [
             0,
             "#0d0887"
            ],
            [
             0.1111111111111111,
             "#46039f"
            ],
            [
             0.2222222222222222,
             "#7201a8"
            ],
            [
             0.3333333333333333,
             "#9c179e"
            ],
            [
             0.4444444444444444,
             "#bd3786"
            ],
            [
             0.5555555555555556,
             "#d8576b"
            ],
            [
             0.6666666666666666,
             "#ed7953"
            ],
            [
             0.7777777777777778,
             "#fb9f3a"
            ],
            [
             0.8888888888888888,
             "#fdca26"
            ],
            [
             1,
             "#f0f921"
            ]
           ]
          },
          "colorway": [
           "#636efa",
           "#EF553B",
           "#00cc96",
           "#ab63fa",
           "#FFA15A",
           "#19d3f3",
           "#FF6692",
           "#B6E880",
           "#FF97FF",
           "#FECB52"
          ],
          "font": {
           "color": "#2a3f5f"
          },
          "geo": {
           "bgcolor": "white",
           "lakecolor": "white",
           "landcolor": "#E5ECF6",
           "showlakes": true,
           "showland": true,
           "subunitcolor": "white"
          },
          "hoverlabel": {
           "align": "left"
          },
          "hovermode": "closest",
          "mapbox": {
           "style": "light"
          },
          "paper_bgcolor": "white",
          "plot_bgcolor": "#E5ECF6",
          "polar": {
           "angularaxis": {
            "gridcolor": "white",
            "linecolor": "white",
            "ticks": ""
           },
           "bgcolor": "#E5ECF6",
           "radialaxis": {
            "gridcolor": "white",
            "linecolor": "white",
            "ticks": ""
           }
          },
          "scene": {
           "xaxis": {
            "backgroundcolor": "#E5ECF6",
            "gridcolor": "white",
            "gridwidth": 2,
            "linecolor": "white",
            "showbackground": true,
            "ticks": "",
            "zerolinecolor": "white"
           },
           "yaxis": {
            "backgroundcolor": "#E5ECF6",
            "gridcolor": "white",
            "gridwidth": 2,
            "linecolor": "white",
            "showbackground": true,
            "ticks": "",
            "zerolinecolor": "white"
           },
           "zaxis": {
            "backgroundcolor": "#E5ECF6",
            "gridcolor": "white",
            "gridwidth": 2,
            "linecolor": "white",
            "showbackground": true,
            "ticks": "",
            "zerolinecolor": "white"
           }
          },
          "shapedefaults": {
           "line": {
            "color": "#2a3f5f"
           }
          },
          "ternary": {
           "aaxis": {
            "gridcolor": "white",
            "linecolor": "white",
            "ticks": ""
           },
           "baxis": {
            "gridcolor": "white",
            "linecolor": "white",
            "ticks": ""
           },
           "bgcolor": "#E5ECF6",
           "caxis": {
            "gridcolor": "white",
            "linecolor": "white",
            "ticks": ""
           }
          },
          "title": {
           "x": 0.05
          },
          "xaxis": {
           "automargin": true,
           "gridcolor": "white",
           "linecolor": "white",
           "ticks": "",
           "title": {
            "standoff": 15
           },
           "zerolinecolor": "white",
           "zerolinewidth": 2
          },
          "yaxis": {
           "automargin": true,
           "gridcolor": "white",
           "linecolor": "white",
           "ticks": "",
           "title": {
            "standoff": 15
           },
           "zerolinecolor": "white",
           "zerolinewidth": 2
          }
         }
        },
        "title": {
         "text": "Kategorizácia mostov v správe RSÚC NR podľa ich dĺžky"
        },
        "xaxis": {
         "title": {
          "text": "kategórie dĺžok"
         }
        },
        "yaxis": {
         "title": {
          "text": "počet mostov"
         }
        }
       }
      }
     },
     "metadata": {},
     "output_type": "display_data"
    }
   ],
   "source": [
    "import pandas as pd\n",
    "import plotly.graph_objects as go\n",
    "\n",
    "# Assuming filtered_bridges and color_palette are defined as before\n",
    "\n",
    "# Use qcut to divide the data into bins with equal number of bridges in each\n",
    "filtered_bridges['Quantile_Bin'] = pd.qcut(\n",
    "    filtered_bridges['Dĺžka_premostenia'], q=5)\n",
    "\n",
    "# Count the number of bridges in each bin\n",
    "bin_counts = filtered_bridges['Quantile_Bin'].value_counts().sort_index()\n",
    "\n",
    "# Create the histogram\n",
    "fig = go.Figure()\n",
    "\n",
    "# Adding bin counts as text, positioned at the base of each bar\n",
    "fig.add_trace(go.Bar(\n",
    "    # Convert bin interval to string for plotting\n",
    "    x=bin_counts.index.astype(str),\n",
    "    y=bin_counts.values,\n",
    "    text=bin_counts.values,  # Set text to be the bin counts\n",
    "    textposition='inside',  # Position the text inside the bars\n",
    "    # Anchor text to the start (bottom for vertical bars)\n",
    "    insidetextanchor='start',\n",
    "    textfont=dict(  # Customize the font of the text\n",
    "        color='white',  # Set text color to white\n",
    "        size=14  # Match the font size with the rest of the plot\n",
    "    ),\n",
    "    marker_color=color_palette[:len(bin_counts)]  # Apply the color palette\n",
    "))\n",
    "\n",
    "# Update the layout\n",
    "fig.update_layout(\n",
    "    title=\"Kategorizácia mostov v správe RSÚC NR podľa ich dĺžky\",\n",
    "    xaxis_title=\"kategórie dĺžok\",\n",
    "    yaxis_title=\"počet mostov\",\n",
    "    plot_bgcolor='#EEEEEE',\n",
    "    font=dict(family=\"Montserrat, sans-serif\", size=14),\n",
    "    bargap=0.2,\n",
    "    margin=dict(l=0, r=20, t=50, b=30)\n",
    "\n",
    ")\n",
    "\n",
    "# Show the plot\n",
    "fig.show()"
   ]
  },
  {
   "cell_type": "code",
   "execution_count": 200,
   "metadata": {},
   "outputs": [
    {
     "data": {
      "text/plain": [
       "count     526.000000\n",
       "mean     1952.941065\n",
       "std        20.883312\n",
       "min      1852.000000\n",
       "25%      1940.000000\n",
       "50%      1955.000000\n",
       "75%      1966.000000\n",
       "max      2014.000000\n",
       "Name: Rok_postavenia, dtype: float64"
      ]
     },
     "execution_count": 200,
     "metadata": {},
     "output_type": "execute_result"
    }
   ],
   "source": [
    "filtered_bridges[\"Rok_postavenia\"].describe()"
   ]
  },
  {
   "cell_type": "code",
   "execution_count": 239,
   "metadata": {},
   "outputs": [
    {
     "data": {
      "application/vnd.plotly.v1+json": {
       "config": {
        "plotlyServerURL": "https://plot.ly"
       },
       "data": [
        {
         "insidetextanchor": "start",
         "marker": {
          "color": [
           "#e7a564",
           "#46a7a2",
           "#2d505d",
           "#8bae7c",
           "#c25469"
          ]
         },
         "text": [
          110,
          107,
          99,
          105,
          105
         ],
         "textfont": {
          "color": "white",
          "size": 14
         },
         "textposition": "inside",
         "type": "bar",
         "x": [
          "do roku 1945",
          "1945 až 1962",
          "od roku 1962"
         ],
         "y": [
          110,
          107,
          99,
          105,
          105
         ]
        }
       ],
       "layout": {
        "bargap": 0.2,
        "font": {
         "family": "Montserrat, sans-serif",
         "size": 14
        },
        "margin": {
         "b": 30,
         "l": 0,
         "r": 20,
         "t": 50
        },
        "plot_bgcolor": "#EEEEEE",
        "template": {
         "data": {
          "bar": [
           {
            "error_x": {
             "color": "#2a3f5f"
            },
            "error_y": {
             "color": "#2a3f5f"
            },
            "marker": {
             "line": {
              "color": "#E5ECF6",
              "width": 0.5
             },
             "pattern": {
              "fillmode": "overlay",
              "size": 10,
              "solidity": 0.2
             }
            },
            "type": "bar"
           }
          ],
          "barpolar": [
           {
            "marker": {
             "line": {
              "color": "#E5ECF6",
              "width": 0.5
             },
             "pattern": {
              "fillmode": "overlay",
              "size": 10,
              "solidity": 0.2
             }
            },
            "type": "barpolar"
           }
          ],
          "carpet": [
           {
            "aaxis": {
             "endlinecolor": "#2a3f5f",
             "gridcolor": "white",
             "linecolor": "white",
             "minorgridcolor": "white",
             "startlinecolor": "#2a3f5f"
            },
            "baxis": {
             "endlinecolor": "#2a3f5f",
             "gridcolor": "white",
             "linecolor": "white",
             "minorgridcolor": "white",
             "startlinecolor": "#2a3f5f"
            },
            "type": "carpet"
           }
          ],
          "choropleth": [
           {
            "colorbar": {
             "outlinewidth": 0,
             "ticks": ""
            },
            "type": "choropleth"
           }
          ],
          "contour": [
           {
            "colorbar": {
             "outlinewidth": 0,
             "ticks": ""
            },
            "colorscale": [
             [
              0,
              "#0d0887"
             ],
             [
              0.1111111111111111,
              "#46039f"
             ],
             [
              0.2222222222222222,
              "#7201a8"
             ],
             [
              0.3333333333333333,
              "#9c179e"
             ],
             [
              0.4444444444444444,
              "#bd3786"
             ],
             [
              0.5555555555555556,
              "#d8576b"
             ],
             [
              0.6666666666666666,
              "#ed7953"
             ],
             [
              0.7777777777777778,
              "#fb9f3a"
             ],
             [
              0.8888888888888888,
              "#fdca26"
             ],
             [
              1,
              "#f0f921"
             ]
            ],
            "type": "contour"
           }
          ],
          "contourcarpet": [
           {
            "colorbar": {
             "outlinewidth": 0,
             "ticks": ""
            },
            "type": "contourcarpet"
           }
          ],
          "heatmap": [
           {
            "colorbar": {
             "outlinewidth": 0,
             "ticks": ""
            },
            "colorscale": [
             [
              0,
              "#0d0887"
             ],
             [
              0.1111111111111111,
              "#46039f"
             ],
             [
              0.2222222222222222,
              "#7201a8"
             ],
             [
              0.3333333333333333,
              "#9c179e"
             ],
             [
              0.4444444444444444,
              "#bd3786"
             ],
             [
              0.5555555555555556,
              "#d8576b"
             ],
             [
              0.6666666666666666,
              "#ed7953"
             ],
             [
              0.7777777777777778,
              "#fb9f3a"
             ],
             [
              0.8888888888888888,
              "#fdca26"
             ],
             [
              1,
              "#f0f921"
             ]
            ],
            "type": "heatmap"
           }
          ],
          "heatmapgl": [
           {
            "colorbar": {
             "outlinewidth": 0,
             "ticks": ""
            },
            "colorscale": [
             [
              0,
              "#0d0887"
             ],
             [
              0.1111111111111111,
              "#46039f"
             ],
             [
              0.2222222222222222,
              "#7201a8"
             ],
             [
              0.3333333333333333,
              "#9c179e"
             ],
             [
              0.4444444444444444,
              "#bd3786"
             ],
             [
              0.5555555555555556,
              "#d8576b"
             ],
             [
              0.6666666666666666,
              "#ed7953"
             ],
             [
              0.7777777777777778,
              "#fb9f3a"
             ],
             [
              0.8888888888888888,
              "#fdca26"
             ],
             [
              1,
              "#f0f921"
             ]
            ],
            "type": "heatmapgl"
           }
          ],
          "histogram": [
           {
            "marker": {
             "pattern": {
              "fillmode": "overlay",
              "size": 10,
              "solidity": 0.2
             }
            },
            "type": "histogram"
           }
          ],
          "histogram2d": [
           {
            "colorbar": {
             "outlinewidth": 0,
             "ticks": ""
            },
            "colorscale": [
             [
              0,
              "#0d0887"
             ],
             [
              0.1111111111111111,
              "#46039f"
             ],
             [
              0.2222222222222222,
              "#7201a8"
             ],
             [
              0.3333333333333333,
              "#9c179e"
             ],
             [
              0.4444444444444444,
              "#bd3786"
             ],
             [
              0.5555555555555556,
              "#d8576b"
             ],
             [
              0.6666666666666666,
              "#ed7953"
             ],
             [
              0.7777777777777778,
              "#fb9f3a"
             ],
             [
              0.8888888888888888,
              "#fdca26"
             ],
             [
              1,
              "#f0f921"
             ]
            ],
            "type": "histogram2d"
           }
          ],
          "histogram2dcontour": [
           {
            "colorbar": {
             "outlinewidth": 0,
             "ticks": ""
            },
            "colorscale": [
             [
              0,
              "#0d0887"
             ],
             [
              0.1111111111111111,
              "#46039f"
             ],
             [
              0.2222222222222222,
              "#7201a8"
             ],
             [
              0.3333333333333333,
              "#9c179e"
             ],
             [
              0.4444444444444444,
              "#bd3786"
             ],
             [
              0.5555555555555556,
              "#d8576b"
             ],
             [
              0.6666666666666666,
              "#ed7953"
             ],
             [
              0.7777777777777778,
              "#fb9f3a"
             ],
             [
              0.8888888888888888,
              "#fdca26"
             ],
             [
              1,
              "#f0f921"
             ]
            ],
            "type": "histogram2dcontour"
           }
          ],
          "mesh3d": [
           {
            "colorbar": {
             "outlinewidth": 0,
             "ticks": ""
            },
            "type": "mesh3d"
           }
          ],
          "parcoords": [
           {
            "line": {
             "colorbar": {
              "outlinewidth": 0,
              "ticks": ""
             }
            },
            "type": "parcoords"
           }
          ],
          "pie": [
           {
            "automargin": true,
            "type": "pie"
           }
          ],
          "scatter": [
           {
            "fillpattern": {
             "fillmode": "overlay",
             "size": 10,
             "solidity": 0.2
            },
            "type": "scatter"
           }
          ],
          "scatter3d": [
           {
            "line": {
             "colorbar": {
              "outlinewidth": 0,
              "ticks": ""
             }
            },
            "marker": {
             "colorbar": {
              "outlinewidth": 0,
              "ticks": ""
             }
            },
            "type": "scatter3d"
           }
          ],
          "scattercarpet": [
           {
            "marker": {
             "colorbar": {
              "outlinewidth": 0,
              "ticks": ""
             }
            },
            "type": "scattercarpet"
           }
          ],
          "scattergeo": [
           {
            "marker": {
             "colorbar": {
              "outlinewidth": 0,
              "ticks": ""
             }
            },
            "type": "scattergeo"
           }
          ],
          "scattergl": [
           {
            "marker": {
             "colorbar": {
              "outlinewidth": 0,
              "ticks": ""
             }
            },
            "type": "scattergl"
           }
          ],
          "scattermapbox": [
           {
            "marker": {
             "colorbar": {
              "outlinewidth": 0,
              "ticks": ""
             }
            },
            "type": "scattermapbox"
           }
          ],
          "scatterpolar": [
           {
            "marker": {
             "colorbar": {
              "outlinewidth": 0,
              "ticks": ""
             }
            },
            "type": "scatterpolar"
           }
          ],
          "scatterpolargl": [
           {
            "marker": {
             "colorbar": {
              "outlinewidth": 0,
              "ticks": ""
             }
            },
            "type": "scatterpolargl"
           }
          ],
          "scatterternary": [
           {
            "marker": {
             "colorbar": {
              "outlinewidth": 0,
              "ticks": ""
             }
            },
            "type": "scatterternary"
           }
          ],
          "surface": [
           {
            "colorbar": {
             "outlinewidth": 0,
             "ticks": ""
            },
            "colorscale": [
             [
              0,
              "#0d0887"
             ],
             [
              0.1111111111111111,
              "#46039f"
             ],
             [
              0.2222222222222222,
              "#7201a8"
             ],
             [
              0.3333333333333333,
              "#9c179e"
             ],
             [
              0.4444444444444444,
              "#bd3786"
             ],
             [
              0.5555555555555556,
              "#d8576b"
             ],
             [
              0.6666666666666666,
              "#ed7953"
             ],
             [
              0.7777777777777778,
              "#fb9f3a"
             ],
             [
              0.8888888888888888,
              "#fdca26"
             ],
             [
              1,
              "#f0f921"
             ]
            ],
            "type": "surface"
           }
          ],
          "table": [
           {
            "cells": {
             "fill": {
              "color": "#EBF0F8"
             },
             "line": {
              "color": "white"
             }
            },
            "header": {
             "fill": {
              "color": "#C8D4E3"
             },
             "line": {
              "color": "white"
             }
            },
            "type": "table"
           }
          ]
         },
         "layout": {
          "annotationdefaults": {
           "arrowcolor": "#2a3f5f",
           "arrowhead": 0,
           "arrowwidth": 1
          },
          "autotypenumbers": "strict",
          "coloraxis": {
           "colorbar": {
            "outlinewidth": 0,
            "ticks": ""
           }
          },
          "colorscale": {
           "diverging": [
            [
             0,
             "#8e0152"
            ],
            [
             0.1,
             "#c51b7d"
            ],
            [
             0.2,
             "#de77ae"
            ],
            [
             0.3,
             "#f1b6da"
            ],
            [
             0.4,
             "#fde0ef"
            ],
            [
             0.5,
             "#f7f7f7"
            ],
            [
             0.6,
             "#e6f5d0"
            ],
            [
             0.7,
             "#b8e186"
            ],
            [
             0.8,
             "#7fbc41"
            ],
            [
             0.9,
             "#4d9221"
            ],
            [
             1,
             "#276419"
            ]
           ],
           "sequential": [
            [
             0,
             "#0d0887"
            ],
            [
             0.1111111111111111,
             "#46039f"
            ],
            [
             0.2222222222222222,
             "#7201a8"
            ],
            [
             0.3333333333333333,
             "#9c179e"
            ],
            [
             0.4444444444444444,
             "#bd3786"
            ],
            [
             0.5555555555555556,
             "#d8576b"
            ],
            [
             0.6666666666666666,
             "#ed7953"
            ],
            [
             0.7777777777777778,
             "#fb9f3a"
            ],
            [
             0.8888888888888888,
             "#fdca26"
            ],
            [
             1,
             "#f0f921"
            ]
           ],
           "sequentialminus": [
            [
             0,
             "#0d0887"
            ],
            [
             0.1111111111111111,
             "#46039f"
            ],
            [
             0.2222222222222222,
             "#7201a8"
            ],
            [
             0.3333333333333333,
             "#9c179e"
            ],
            [
             0.4444444444444444,
             "#bd3786"
            ],
            [
             0.5555555555555556,
             "#d8576b"
            ],
            [
             0.6666666666666666,
             "#ed7953"
            ],
            [
             0.7777777777777778,
             "#fb9f3a"
            ],
            [
             0.8888888888888888,
             "#fdca26"
            ],
            [
             1,
             "#f0f921"
            ]
           ]
          },
          "colorway": [
           "#636efa",
           "#EF553B",
           "#00cc96",
           "#ab63fa",
           "#FFA15A",
           "#19d3f3",
           "#FF6692",
           "#B6E880",
           "#FF97FF",
           "#FECB52"
          ],
          "font": {
           "color": "#2a3f5f"
          },
          "geo": {
           "bgcolor": "white",
           "lakecolor": "white",
           "landcolor": "#E5ECF6",
           "showlakes": true,
           "showland": true,
           "subunitcolor": "white"
          },
          "hoverlabel": {
           "align": "left"
          },
          "hovermode": "closest",
          "mapbox": {
           "style": "light"
          },
          "paper_bgcolor": "white",
          "plot_bgcolor": "#E5ECF6",
          "polar": {
           "angularaxis": {
            "gridcolor": "white",
            "linecolor": "white",
            "ticks": ""
           },
           "bgcolor": "#E5ECF6",
           "radialaxis": {
            "gridcolor": "white",
            "linecolor": "white",
            "ticks": ""
           }
          },
          "scene": {
           "xaxis": {
            "backgroundcolor": "#E5ECF6",
            "gridcolor": "white",
            "gridwidth": 2,
            "linecolor": "white",
            "showbackground": true,
            "ticks": "",
            "zerolinecolor": "white"
           },
           "yaxis": {
            "backgroundcolor": "#E5ECF6",
            "gridcolor": "white",
            "gridwidth": 2,
            "linecolor": "white",
            "showbackground": true,
            "ticks": "",
            "zerolinecolor": "white"
           },
           "zaxis": {
            "backgroundcolor": "#E5ECF6",
            "gridcolor": "white",
            "gridwidth": 2,
            "linecolor": "white",
            "showbackground": true,
            "ticks": "",
            "zerolinecolor": "white"
           }
          },
          "shapedefaults": {
           "line": {
            "color": "#2a3f5f"
           }
          },
          "ternary": {
           "aaxis": {
            "gridcolor": "white",
            "linecolor": "white",
            "ticks": ""
           },
           "baxis": {
            "gridcolor": "white",
            "linecolor": "white",
            "ticks": ""
           },
           "bgcolor": "#E5ECF6",
           "caxis": {
            "gridcolor": "white",
            "linecolor": "white",
            "ticks": ""
           }
          },
          "title": {
           "x": 0.05
          },
          "xaxis": {
           "automargin": true,
           "gridcolor": "white",
           "linecolor": "white",
           "ticks": "",
           "title": {
            "standoff": 15
           },
           "zerolinecolor": "white",
           "zerolinewidth": 2
          },
          "yaxis": {
           "automargin": true,
           "gridcolor": "white",
           "linecolor": "white",
           "ticks": "",
           "title": {
            "standoff": 15
           },
           "zerolinecolor": "white",
           "zerolinewidth": 2
          }
         }
        },
        "title": {
         "text": "Kategorizácia mostov v správe RSÚC NR podľa roku výstavby"
        },
        "xaxis": {
         "title": {
          "text": "kategórie veku"
         }
        },
        "yaxis": {
         "title": {
          "text": "počet mostov"
         }
        }
       }
      }
     },
     "metadata": {},
     "output_type": "display_data"
    }
   ],
   "source": [
    "import pandas as pd\n",
    "import plotly.graph_objects as go\n",
    "\n",
    "# Assuming filtered_bridges, bin_counts, and color_palette are defined as in the previous snippet\n",
    "\n",
    "# Define custom x-axis tick labels\n",
    "custom_tick_labels = [\"do roku 1945\", \"1945 až 1962\", \"od roku 1962\"]\n",
    "\n",
    "# Create the histogram with updated x-axis ticks\n",
    "fig = go.Figure()\n",
    "fig.add_trace(go.Bar(\n",
    "    x=custom_tick_labels,  # Use custom labels as x values\n",
    "    y=bin_counts.values,\n",
    "    text=bin_counts.values,  # Set text to be the bin counts\n",
    "    textposition='inside',  # Position the text inside the bars\n",
    "    # Anchor text to the start (bottom for vertical bars)\n",
    "    insidetextanchor='start',\n",
    "    textfont=dict(  # Customize the font of the text\n",
    "        color='white',  # Set text color to white\n",
    "        size=14  # Match the font size with the rest of the plot\n",
    "    ),\n",
    "    marker_color=color_palette[:len(bin_counts)]  # Apply the color palette\n",
    "))\n",
    "\n",
    "# Update the layout\n",
    "fig.update_layout(\n",
    "    title=\"Kategorizácia mostov v správe RSÚC NR podľa roku výstavby\",\n",
    "    xaxis_title=\"kategórie veku\",\n",
    "    yaxis_title=\"počet mostov\",\n",
    "    plot_bgcolor='#EEEEEE',\n",
    "    font=dict(family=\"Montserrat, sans-serif\", size=14),\n",
    "    bargap=0.2,\n",
    "    margin=dict(l=0, r=20, t=50, b=30)\n",
    ")\n",
    "\n",
    "# Show the plot\n",
    "fig.show()"
   ]
  },
  {
   "cell_type": "code",
   "execution_count": 202,
   "metadata": {},
   "outputs": [
    {
     "data": {
      "text/plain": [
       "Predmet_premostenia\n",
       "Vodný tok              420\n",
       "Kanál                   79\n",
       "Železnica               10\n",
       "Záplavové územie         7\n",
       "Cestná komunikácia       5\n",
       "Vodná nádrž              3\n",
       "Účelová komunikácia      1\n",
       "Miestna komunikácia      1\n",
       "Name: count, dtype: int64"
      ]
     },
     "execution_count": 202,
     "metadata": {},
     "output_type": "execute_result"
    }
   ],
   "source": [
    "filtered_bridges[\"Predmet_premostenia\"].value_counts()"
   ]
  },
  {
   "cell_type": "code",
   "execution_count": 213,
   "metadata": {},
   "outputs": [
    {
     "data": {
      "application/vnd.plotly.v1+json": {
       "config": {
        "plotlyServerURL": "https://plot.ly"
       },
       "data": [
        {
         "marker": {
          "color": "#e7a564"
         },
         "name": "Vodný tok",
         "text": [
          "420"
         ],
         "textposition": "outside",
         "type": "bar",
         "x": [
          "Vodný tok"
         ],
         "y": [
          420
         ]
        },
        {
         "marker": {
          "color": "#46a7a2"
         },
         "name": "Kanál",
         "text": [
          "79"
         ],
         "textposition": "outside",
         "type": "bar",
         "x": [
          "Kanál"
         ],
         "y": [
          79
         ]
        },
        {
         "marker": {
          "color": "#c6d9df"
         },
         "name": "Železnica",
         "text": [
          "10"
         ],
         "textposition": "outside",
         "type": "bar",
         "x": [
          "Železnica"
         ],
         "y": [
          10
         ]
        },
        {
         "marker": {
          "color": "#b17431"
         },
         "name": "Záplavové územie",
         "text": [
          "7"
         ],
         "textposition": "outside",
         "type": "bar",
         "x": [
          "Záplavové územie"
         ],
         "y": [
          7
         ]
        },
        {
         "marker": {
          "color": "#8bae7c"
         },
         "name": "Cestná komunikácia",
         "text": [
          "5"
         ],
         "textposition": "outside",
         "type": "bar",
         "x": [
          "Cestná komunikácia"
         ],
         "y": [
          5
         ]
        },
        {
         "marker": {
          "color": "#353a29"
         },
         "name": "Vodná nádrž",
         "text": [
          "3"
         ],
         "textposition": "outside",
         "type": "bar",
         "x": [
          "Vodná nádrž"
         ],
         "y": [
          3
         ]
        },
        {
         "marker": {
          "color": "#f1aab2"
         },
         "name": "Účelová komunikácia",
         "text": [
          "1"
         ],
         "textposition": "outside",
         "type": "bar",
         "x": [
          "Účelová komunikácia"
         ],
         "y": [
          1
         ]
        },
        {
         "marker": {
          "color": "#eae1a9"
         },
         "name": "Miestna komunikácia",
         "text": [
          "1"
         ],
         "textposition": "outside",
         "type": "bar",
         "x": [
          "Miestna komunikácia"
         ],
         "y": [
          1
         ]
        }
       ],
       "layout": {
        "annotations": [
         {
          "font": {
           "family": "Montserrat, sans-serif",
           "size": 14
          },
          "showarrow": false,
          "text": "predmet premostenia",
          "x": 0.5,
          "xref": "paper",
          "y": -0.075,
          "yref": "paper"
         }
        ],
        "bargap": 0.3,
        "font": {
         "family": "Montserrat, sans-serif",
         "size": 14
        },
        "legend": {
         "orientation": "h",
         "x": 0.985,
         "xanchor": "right",
         "y": 0.975,
         "yanchor": "top"
        },
        "margin": {
         "b": 30,
         "l": 0,
         "r": 20,
         "t": 50
        },
        "plot_bgcolor": "#EEEEEE",
        "template": {
         "data": {
          "bar": [
           {
            "error_x": {
             "color": "#2a3f5f"
            },
            "error_y": {
             "color": "#2a3f5f"
            },
            "marker": {
             "line": {
              "color": "#E5ECF6",
              "width": 0.5
             },
             "pattern": {
              "fillmode": "overlay",
              "size": 10,
              "solidity": 0.2
             }
            },
            "type": "bar"
           }
          ],
          "barpolar": [
           {
            "marker": {
             "line": {
              "color": "#E5ECF6",
              "width": 0.5
             },
             "pattern": {
              "fillmode": "overlay",
              "size": 10,
              "solidity": 0.2
             }
            },
            "type": "barpolar"
           }
          ],
          "carpet": [
           {
            "aaxis": {
             "endlinecolor": "#2a3f5f",
             "gridcolor": "white",
             "linecolor": "white",
             "minorgridcolor": "white",
             "startlinecolor": "#2a3f5f"
            },
            "baxis": {
             "endlinecolor": "#2a3f5f",
             "gridcolor": "white",
             "linecolor": "white",
             "minorgridcolor": "white",
             "startlinecolor": "#2a3f5f"
            },
            "type": "carpet"
           }
          ],
          "choropleth": [
           {
            "colorbar": {
             "outlinewidth": 0,
             "ticks": ""
            },
            "type": "choropleth"
           }
          ],
          "contour": [
           {
            "colorbar": {
             "outlinewidth": 0,
             "ticks": ""
            },
            "colorscale": [
             [
              0,
              "#0d0887"
             ],
             [
              0.1111111111111111,
              "#46039f"
             ],
             [
              0.2222222222222222,
              "#7201a8"
             ],
             [
              0.3333333333333333,
              "#9c179e"
             ],
             [
              0.4444444444444444,
              "#bd3786"
             ],
             [
              0.5555555555555556,
              "#d8576b"
             ],
             [
              0.6666666666666666,
              "#ed7953"
             ],
             [
              0.7777777777777778,
              "#fb9f3a"
             ],
             [
              0.8888888888888888,
              "#fdca26"
             ],
             [
              1,
              "#f0f921"
             ]
            ],
            "type": "contour"
           }
          ],
          "contourcarpet": [
           {
            "colorbar": {
             "outlinewidth": 0,
             "ticks": ""
            },
            "type": "contourcarpet"
           }
          ],
          "heatmap": [
           {
            "colorbar": {
             "outlinewidth": 0,
             "ticks": ""
            },
            "colorscale": [
             [
              0,
              "#0d0887"
             ],
             [
              0.1111111111111111,
              "#46039f"
             ],
             [
              0.2222222222222222,
              "#7201a8"
             ],
             [
              0.3333333333333333,
              "#9c179e"
             ],
             [
              0.4444444444444444,
              "#bd3786"
             ],
             [
              0.5555555555555556,
              "#d8576b"
             ],
             [
              0.6666666666666666,
              "#ed7953"
             ],
             [
              0.7777777777777778,
              "#fb9f3a"
             ],
             [
              0.8888888888888888,
              "#fdca26"
             ],
             [
              1,
              "#f0f921"
             ]
            ],
            "type": "heatmap"
           }
          ],
          "heatmapgl": [
           {
            "colorbar": {
             "outlinewidth": 0,
             "ticks": ""
            },
            "colorscale": [
             [
              0,
              "#0d0887"
             ],
             [
              0.1111111111111111,
              "#46039f"
             ],
             [
              0.2222222222222222,
              "#7201a8"
             ],
             [
              0.3333333333333333,
              "#9c179e"
             ],
             [
              0.4444444444444444,
              "#bd3786"
             ],
             [
              0.5555555555555556,
              "#d8576b"
             ],
             [
              0.6666666666666666,
              "#ed7953"
             ],
             [
              0.7777777777777778,
              "#fb9f3a"
             ],
             [
              0.8888888888888888,
              "#fdca26"
             ],
             [
              1,
              "#f0f921"
             ]
            ],
            "type": "heatmapgl"
           }
          ],
          "histogram": [
           {
            "marker": {
             "pattern": {
              "fillmode": "overlay",
              "size": 10,
              "solidity": 0.2
             }
            },
            "type": "histogram"
           }
          ],
          "histogram2d": [
           {
            "colorbar": {
             "outlinewidth": 0,
             "ticks": ""
            },
            "colorscale": [
             [
              0,
              "#0d0887"
             ],
             [
              0.1111111111111111,
              "#46039f"
             ],
             [
              0.2222222222222222,
              "#7201a8"
             ],
             [
              0.3333333333333333,
              "#9c179e"
             ],
             [
              0.4444444444444444,
              "#bd3786"
             ],
             [
              0.5555555555555556,
              "#d8576b"
             ],
             [
              0.6666666666666666,
              "#ed7953"
             ],
             [
              0.7777777777777778,
              "#fb9f3a"
             ],
             [
              0.8888888888888888,
              "#fdca26"
             ],
             [
              1,
              "#f0f921"
             ]
            ],
            "type": "histogram2d"
           }
          ],
          "histogram2dcontour": [
           {
            "colorbar": {
             "outlinewidth": 0,
             "ticks": ""
            },
            "colorscale": [
             [
              0,
              "#0d0887"
             ],
             [
              0.1111111111111111,
              "#46039f"
             ],
             [
              0.2222222222222222,
              "#7201a8"
             ],
             [
              0.3333333333333333,
              "#9c179e"
             ],
             [
              0.4444444444444444,
              "#bd3786"
             ],
             [
              0.5555555555555556,
              "#d8576b"
             ],
             [
              0.6666666666666666,
              "#ed7953"
             ],
             [
              0.7777777777777778,
              "#fb9f3a"
             ],
             [
              0.8888888888888888,
              "#fdca26"
             ],
             [
              1,
              "#f0f921"
             ]
            ],
            "type": "histogram2dcontour"
           }
          ],
          "mesh3d": [
           {
            "colorbar": {
             "outlinewidth": 0,
             "ticks": ""
            },
            "type": "mesh3d"
           }
          ],
          "parcoords": [
           {
            "line": {
             "colorbar": {
              "outlinewidth": 0,
              "ticks": ""
             }
            },
            "type": "parcoords"
           }
          ],
          "pie": [
           {
            "automargin": true,
            "type": "pie"
           }
          ],
          "scatter": [
           {
            "fillpattern": {
             "fillmode": "overlay",
             "size": 10,
             "solidity": 0.2
            },
            "type": "scatter"
           }
          ],
          "scatter3d": [
           {
            "line": {
             "colorbar": {
              "outlinewidth": 0,
              "ticks": ""
             }
            },
            "marker": {
             "colorbar": {
              "outlinewidth": 0,
              "ticks": ""
             }
            },
            "type": "scatter3d"
           }
          ],
          "scattercarpet": [
           {
            "marker": {
             "colorbar": {
              "outlinewidth": 0,
              "ticks": ""
             }
            },
            "type": "scattercarpet"
           }
          ],
          "scattergeo": [
           {
            "marker": {
             "colorbar": {
              "outlinewidth": 0,
              "ticks": ""
             }
            },
            "type": "scattergeo"
           }
          ],
          "scattergl": [
           {
            "marker": {
             "colorbar": {
              "outlinewidth": 0,
              "ticks": ""
             }
            },
            "type": "scattergl"
           }
          ],
          "scattermapbox": [
           {
            "marker": {
             "colorbar": {
              "outlinewidth": 0,
              "ticks": ""
             }
            },
            "type": "scattermapbox"
           }
          ],
          "scatterpolar": [
           {
            "marker": {
             "colorbar": {
              "outlinewidth": 0,
              "ticks": ""
             }
            },
            "type": "scatterpolar"
           }
          ],
          "scatterpolargl": [
           {
            "marker": {
             "colorbar": {
              "outlinewidth": 0,
              "ticks": ""
             }
            },
            "type": "scatterpolargl"
           }
          ],
          "scatterternary": [
           {
            "marker": {
             "colorbar": {
              "outlinewidth": 0,
              "ticks": ""
             }
            },
            "type": "scatterternary"
           }
          ],
          "surface": [
           {
            "colorbar": {
             "outlinewidth": 0,
             "ticks": ""
            },
            "colorscale": [
             [
              0,
              "#0d0887"
             ],
             [
              0.1111111111111111,
              "#46039f"
             ],
             [
              0.2222222222222222,
              "#7201a8"
             ],
             [
              0.3333333333333333,
              "#9c179e"
             ],
             [
              0.4444444444444444,
              "#bd3786"
             ],
             [
              0.5555555555555556,
              "#d8576b"
             ],
             [
              0.6666666666666666,
              "#ed7953"
             ],
             [
              0.7777777777777778,
              "#fb9f3a"
             ],
             [
              0.8888888888888888,
              "#fdca26"
             ],
             [
              1,
              "#f0f921"
             ]
            ],
            "type": "surface"
           }
          ],
          "table": [
           {
            "cells": {
             "fill": {
              "color": "#EBF0F8"
             },
             "line": {
              "color": "white"
             }
            },
            "header": {
             "fill": {
              "color": "#C8D4E3"
             },
             "line": {
              "color": "white"
             }
            },
            "type": "table"
           }
          ]
         },
         "layout": {
          "annotationdefaults": {
           "arrowcolor": "#2a3f5f",
           "arrowhead": 0,
           "arrowwidth": 1
          },
          "autotypenumbers": "strict",
          "coloraxis": {
           "colorbar": {
            "outlinewidth": 0,
            "ticks": ""
           }
          },
          "colorscale": {
           "diverging": [
            [
             0,
             "#8e0152"
            ],
            [
             0.1,
             "#c51b7d"
            ],
            [
             0.2,
             "#de77ae"
            ],
            [
             0.3,
             "#f1b6da"
            ],
            [
             0.4,
             "#fde0ef"
            ],
            [
             0.5,
             "#f7f7f7"
            ],
            [
             0.6,
             "#e6f5d0"
            ],
            [
             0.7,
             "#b8e186"
            ],
            [
             0.8,
             "#7fbc41"
            ],
            [
             0.9,
             "#4d9221"
            ],
            [
             1,
             "#276419"
            ]
           ],
           "sequential": [
            [
             0,
             "#0d0887"
            ],
            [
             0.1111111111111111,
             "#46039f"
            ],
            [
             0.2222222222222222,
             "#7201a8"
            ],
            [
             0.3333333333333333,
             "#9c179e"
            ],
            [
             0.4444444444444444,
             "#bd3786"
            ],
            [
             0.5555555555555556,
             "#d8576b"
            ],
            [
             0.6666666666666666,
             "#ed7953"
            ],
            [
             0.7777777777777778,
             "#fb9f3a"
            ],
            [
             0.8888888888888888,
             "#fdca26"
            ],
            [
             1,
             "#f0f921"
            ]
           ],
           "sequentialminus": [
            [
             0,
             "#0d0887"
            ],
            [
             0.1111111111111111,
             "#46039f"
            ],
            [
             0.2222222222222222,
             "#7201a8"
            ],
            [
             0.3333333333333333,
             "#9c179e"
            ],
            [
             0.4444444444444444,
             "#bd3786"
            ],
            [
             0.5555555555555556,
             "#d8576b"
            ],
            [
             0.6666666666666666,
             "#ed7953"
            ],
            [
             0.7777777777777778,
             "#fb9f3a"
            ],
            [
             0.8888888888888888,
             "#fdca26"
            ],
            [
             1,
             "#f0f921"
            ]
           ]
          },
          "colorway": [
           "#636efa",
           "#EF553B",
           "#00cc96",
           "#ab63fa",
           "#FFA15A",
           "#19d3f3",
           "#FF6692",
           "#B6E880",
           "#FF97FF",
           "#FECB52"
          ],
          "font": {
           "color": "#2a3f5f"
          },
          "geo": {
           "bgcolor": "white",
           "lakecolor": "white",
           "landcolor": "#E5ECF6",
           "showlakes": true,
           "showland": true,
           "subunitcolor": "white"
          },
          "hoverlabel": {
           "align": "left"
          },
          "hovermode": "closest",
          "mapbox": {
           "style": "light"
          },
          "paper_bgcolor": "white",
          "plot_bgcolor": "#E5ECF6",
          "polar": {
           "angularaxis": {
            "gridcolor": "white",
            "linecolor": "white",
            "ticks": ""
           },
           "bgcolor": "#E5ECF6",
           "radialaxis": {
            "gridcolor": "white",
            "linecolor": "white",
            "ticks": ""
           }
          },
          "scene": {
           "xaxis": {
            "backgroundcolor": "#E5ECF6",
            "gridcolor": "white",
            "gridwidth": 2,
            "linecolor": "white",
            "showbackground": true,
            "ticks": "",
            "zerolinecolor": "white"
           },
           "yaxis": {
            "backgroundcolor": "#E5ECF6",
            "gridcolor": "white",
            "gridwidth": 2,
            "linecolor": "white",
            "showbackground": true,
            "ticks": "",
            "zerolinecolor": "white"
           },
           "zaxis": {
            "backgroundcolor": "#E5ECF6",
            "gridcolor": "white",
            "gridwidth": 2,
            "linecolor": "white",
            "showbackground": true,
            "ticks": "",
            "zerolinecolor": "white"
           }
          },
          "shapedefaults": {
           "line": {
            "color": "#2a3f5f"
           }
          },
          "ternary": {
           "aaxis": {
            "gridcolor": "white",
            "linecolor": "white",
            "ticks": ""
           },
           "baxis": {
            "gridcolor": "white",
            "linecolor": "white",
            "ticks": ""
           },
           "bgcolor": "#E5ECF6",
           "caxis": {
            "gridcolor": "white",
            "linecolor": "white",
            "ticks": ""
           }
          },
          "title": {
           "x": 0.05
          },
          "xaxis": {
           "automargin": true,
           "gridcolor": "white",
           "linecolor": "white",
           "ticks": "",
           "title": {
            "standoff": 15
           },
           "zerolinecolor": "white",
           "zerolinewidth": 2
          },
          "yaxis": {
           "automargin": true,
           "gridcolor": "white",
           "linecolor": "white",
           "ticks": "",
           "title": {
            "standoff": 15
           },
           "zerolinecolor": "white",
           "zerolinewidth": 2
          }
         }
        },
        "title": {
         "text": "Predmety premostenia mostov v správe RSÚC NR"
        },
        "xaxis": {
         "showticklabels": false
        },
        "yaxis": {
         "title": {
          "text": "počet"
         }
        }
       }
      }
     },
     "metadata": {},
     "output_type": "display_data"
    }
   ],
   "source": [
    "import plotly.graph_objects as go\n",
    "\n",
    "# Define the color palette\n",
    "color_palette = ['#e7a564', '#46a7a2', '#c6d9df', '#b17431',\n",
    "                 '#8bae7c', '#353a29', '#f1aab2', '#eae1a9',\n",
    "                 '#c25469', '#2d505d'\n",
    "                 ]\n",
    "\n",
    "# Get the obstacle counts\n",
    "obstacle_counts = filtered_bridges[\"Predmet_premostenia\"].value_counts()\n",
    "\n",
    "# Create a bar plot\n",
    "fig = go.Figure()\n",
    "\n",
    "# Add traces for each obstacle type, include the count as text, and set textposition to 'auto' for automatic placement\n",
    "for obstacle, count, color in zip(obstacle_counts.index, obstacle_counts.values, color_palette):\n",
    "    fig.add_trace(go.Bar(\n",
    "        x=[obstacle],  # Set x to obstacle for vertical bars\n",
    "        y=[count],\n",
    "        name=obstacle,\n",
    "        marker_color=color,\n",
    "        text=[count],  # Add the count as text for each bar\n",
    "        textposition='outside'  # Position the text outside of bars\n",
    "    ))\n",
    "\n",
    "# Update the layout with additional configurations\n",
    "fig.update_layout(\n",
    "    title=\"Predmety premostenia mostov v správe RSÚC NR\",\n",
    "    yaxis_title=\"počet\",\n",
    "    xaxis=dict(\n",
    "        showticklabels=False\n",
    "    ),\n",
    "    plot_bgcolor='#EEEEEE',  # Set plot background color\n",
    "    font=dict(family=\"Montserrat, sans-serif\",\n",
    "              size=14),  # Set font family and size\n",
    "    legend=dict(\n",
    "        orientation=\"h\",  # Horizontal legend orientation\n",
    "        yanchor=\"top\",  # Anchor legend to the top\n",
    "        y=0.975,  # Position the legend slightly above the plot\n",
    "        xanchor=\"right\",  # Anchor legend to the right\n",
    "        x=0.985  # Align legend to the right\n",
    "    ),\n",
    "    margin=dict(l=0, r=20, t=50, b=30),  # Adjust margins for tight layout\n",
    "    bargap=0.3,  # Increase the gap between bars for more space\n",
    ")\n",
    "\n",
    "# Add a custom x-axis label using annotations\n",
    "fig.update_layout(\n",
    "    annotations=[\n",
    "        dict(\n",
    "            x=0.5,  # x-coordinate position (0.5 for center)\n",
    "            # y-coordinate position (-0.075 places it below the bars)\n",
    "            y=-0.075,\n",
    "            xref='paper',  # Use 'paper' for positioning relative to the plot area\n",
    "            yref='paper',  # Use 'paper' for positioning relative to the plot area\n",
    "            showarrow=False,  # Do not show an arrow\n",
    "            text=\"predmet premostenia\",  # The text you want as the x-axis label\n",
    "            # Match the font size with the rest of the plot\n",
    "            font=dict(family=\"Montserrat, sans-serif\",\n",
    "                      size=14),\n",
    "        )\n",
    "    ]\n",
    ")\n",
    "\n",
    "# Show the updated plot\n",
    "fig.show()"
   ]
  },
  {
   "cell_type": "code",
   "execution_count": 212,
   "metadata": {},
   "outputs": [
    {
     "data": {
      "text/plain": [
       "Správca_úseku\n",
       "RSUC NR - LV    157\n",
       "RSUC NR - NR    146\n",
       "RSUC NR - NZ     87\n",
       "RSUC NR - TO     73\n",
       "RSUC NR - KN     63\n",
       "Name: count, dtype: int64"
      ]
     },
     "execution_count": 212,
     "metadata": {},
     "output_type": "execute_result"
    }
   ],
   "source": [
    "filtered_bridges[\"Správca_úseku\"].value_counts()"
   ]
  },
  {
   "cell_type": "code",
   "execution_count": 256,
   "metadata": {},
   "outputs": [
    {
     "data": {
      "application/vnd.plotly.v1+json": {
       "config": {
        "plotlyServerURL": "https://plot.ly"
       },
       "data": [
        {
         "marker": {
          "color": "#e7a564"
         },
         "name": "RSUC NR - LV",
         "showlegend": false,
         "text": [
          "157"
         ],
         "textposition": "auto",
         "type": "bar",
         "x": [
          "RSUC NR - LV"
         ],
         "y": [
          157
         ]
        },
        {
         "marker": {
          "color": "#46a7a2"
         },
         "name": "RSUC NR - NR",
         "showlegend": false,
         "text": [
          "146"
         ],
         "textposition": "auto",
         "type": "bar",
         "x": [
          "RSUC NR - NR"
         ],
         "y": [
          146
         ]
        },
        {
         "marker": {
          "color": "#2d505d"
         },
         "name": "RSUC NR - NZ",
         "showlegend": false,
         "text": [
          "87"
         ],
         "textposition": "auto",
         "type": "bar",
         "x": [
          "RSUC NR - NZ"
         ],
         "y": [
          87
         ]
        },
        {
         "marker": {
          "color": "#8bae7c"
         },
         "name": "RSUC NR - TO",
         "showlegend": false,
         "text": [
          "73"
         ],
         "textposition": "auto",
         "type": "bar",
         "x": [
          "RSUC NR - TO"
         ],
         "y": [
          73
         ]
        },
        {
         "marker": {
          "color": "#c25469"
         },
         "name": "RSUC NR - KN",
         "showlegend": false,
         "text": [
          "63"
         ],
         "textposition": "auto",
         "type": "bar",
         "x": [
          "RSUC NR - KN"
         ],
         "y": [
          63
         ]
        }
       ],
       "layout": {
        "font": {
         "family": "Montserrat, sans-serif",
         "size": 14
        },
        "height": 300,
        "margin": {
         "b": 50,
         "l": 0,
         "r": 20,
         "t": 50
        },
        "plot_bgcolor": "#EEEEEE",
        "template": {
         "data": {
          "bar": [
           {
            "error_x": {
             "color": "#2a3f5f"
            },
            "error_y": {
             "color": "#2a3f5f"
            },
            "marker": {
             "line": {
              "color": "#E5ECF6",
              "width": 0.5
             },
             "pattern": {
              "fillmode": "overlay",
              "size": 10,
              "solidity": 0.2
             }
            },
            "type": "bar"
           }
          ],
          "barpolar": [
           {
            "marker": {
             "line": {
              "color": "#E5ECF6",
              "width": 0.5
             },
             "pattern": {
              "fillmode": "overlay",
              "size": 10,
              "solidity": 0.2
             }
            },
            "type": "barpolar"
           }
          ],
          "carpet": [
           {
            "aaxis": {
             "endlinecolor": "#2a3f5f",
             "gridcolor": "white",
             "linecolor": "white",
             "minorgridcolor": "white",
             "startlinecolor": "#2a3f5f"
            },
            "baxis": {
             "endlinecolor": "#2a3f5f",
             "gridcolor": "white",
             "linecolor": "white",
             "minorgridcolor": "white",
             "startlinecolor": "#2a3f5f"
            },
            "type": "carpet"
           }
          ],
          "choropleth": [
           {
            "colorbar": {
             "outlinewidth": 0,
             "ticks": ""
            },
            "type": "choropleth"
           }
          ],
          "contour": [
           {
            "colorbar": {
             "outlinewidth": 0,
             "ticks": ""
            },
            "colorscale": [
             [
              0,
              "#0d0887"
             ],
             [
              0.1111111111111111,
              "#46039f"
             ],
             [
              0.2222222222222222,
              "#7201a8"
             ],
             [
              0.3333333333333333,
              "#9c179e"
             ],
             [
              0.4444444444444444,
              "#bd3786"
             ],
             [
              0.5555555555555556,
              "#d8576b"
             ],
             [
              0.6666666666666666,
              "#ed7953"
             ],
             [
              0.7777777777777778,
              "#fb9f3a"
             ],
             [
              0.8888888888888888,
              "#fdca26"
             ],
             [
              1,
              "#f0f921"
             ]
            ],
            "type": "contour"
           }
          ],
          "contourcarpet": [
           {
            "colorbar": {
             "outlinewidth": 0,
             "ticks": ""
            },
            "type": "contourcarpet"
           }
          ],
          "heatmap": [
           {
            "colorbar": {
             "outlinewidth": 0,
             "ticks": ""
            },
            "colorscale": [
             [
              0,
              "#0d0887"
             ],
             [
              0.1111111111111111,
              "#46039f"
             ],
             [
              0.2222222222222222,
              "#7201a8"
             ],
             [
              0.3333333333333333,
              "#9c179e"
             ],
             [
              0.4444444444444444,
              "#bd3786"
             ],
             [
              0.5555555555555556,
              "#d8576b"
             ],
             [
              0.6666666666666666,
              "#ed7953"
             ],
             [
              0.7777777777777778,
              "#fb9f3a"
             ],
             [
              0.8888888888888888,
              "#fdca26"
             ],
             [
              1,
              "#f0f921"
             ]
            ],
            "type": "heatmap"
           }
          ],
          "heatmapgl": [
           {
            "colorbar": {
             "outlinewidth": 0,
             "ticks": ""
            },
            "colorscale": [
             [
              0,
              "#0d0887"
             ],
             [
              0.1111111111111111,
              "#46039f"
             ],
             [
              0.2222222222222222,
              "#7201a8"
             ],
             [
              0.3333333333333333,
              "#9c179e"
             ],
             [
              0.4444444444444444,
              "#bd3786"
             ],
             [
              0.5555555555555556,
              "#d8576b"
             ],
             [
              0.6666666666666666,
              "#ed7953"
             ],
             [
              0.7777777777777778,
              "#fb9f3a"
             ],
             [
              0.8888888888888888,
              "#fdca26"
             ],
             [
              1,
              "#f0f921"
             ]
            ],
            "type": "heatmapgl"
           }
          ],
          "histogram": [
           {
            "marker": {
             "pattern": {
              "fillmode": "overlay",
              "size": 10,
              "solidity": 0.2
             }
            },
            "type": "histogram"
           }
          ],
          "histogram2d": [
           {
            "colorbar": {
             "outlinewidth": 0,
             "ticks": ""
            },
            "colorscale": [
             [
              0,
              "#0d0887"
             ],
             [
              0.1111111111111111,
              "#46039f"
             ],
             [
              0.2222222222222222,
              "#7201a8"
             ],
             [
              0.3333333333333333,
              "#9c179e"
             ],
             [
              0.4444444444444444,
              "#bd3786"
             ],
             [
              0.5555555555555556,
              "#d8576b"
             ],
             [
              0.6666666666666666,
              "#ed7953"
             ],
             [
              0.7777777777777778,
              "#fb9f3a"
             ],
             [
              0.8888888888888888,
              "#fdca26"
             ],
             [
              1,
              "#f0f921"
             ]
            ],
            "type": "histogram2d"
           }
          ],
          "histogram2dcontour": [
           {
            "colorbar": {
             "outlinewidth": 0,
             "ticks": ""
            },
            "colorscale": [
             [
              0,
              "#0d0887"
             ],
             [
              0.1111111111111111,
              "#46039f"
             ],
             [
              0.2222222222222222,
              "#7201a8"
             ],
             [
              0.3333333333333333,
              "#9c179e"
             ],
             [
              0.4444444444444444,
              "#bd3786"
             ],
             [
              0.5555555555555556,
              "#d8576b"
             ],
             [
              0.6666666666666666,
              "#ed7953"
             ],
             [
              0.7777777777777778,
              "#fb9f3a"
             ],
             [
              0.8888888888888888,
              "#fdca26"
             ],
             [
              1,
              "#f0f921"
             ]
            ],
            "type": "histogram2dcontour"
           }
          ],
          "mesh3d": [
           {
            "colorbar": {
             "outlinewidth": 0,
             "ticks": ""
            },
            "type": "mesh3d"
           }
          ],
          "parcoords": [
           {
            "line": {
             "colorbar": {
              "outlinewidth": 0,
              "ticks": ""
             }
            },
            "type": "parcoords"
           }
          ],
          "pie": [
           {
            "automargin": true,
            "type": "pie"
           }
          ],
          "scatter": [
           {
            "fillpattern": {
             "fillmode": "overlay",
             "size": 10,
             "solidity": 0.2
            },
            "type": "scatter"
           }
          ],
          "scatter3d": [
           {
            "line": {
             "colorbar": {
              "outlinewidth": 0,
              "ticks": ""
             }
            },
            "marker": {
             "colorbar": {
              "outlinewidth": 0,
              "ticks": ""
             }
            },
            "type": "scatter3d"
           }
          ],
          "scattercarpet": [
           {
            "marker": {
             "colorbar": {
              "outlinewidth": 0,
              "ticks": ""
             }
            },
            "type": "scattercarpet"
           }
          ],
          "scattergeo": [
           {
            "marker": {
             "colorbar": {
              "outlinewidth": 0,
              "ticks": ""
             }
            },
            "type": "scattergeo"
           }
          ],
          "scattergl": [
           {
            "marker": {
             "colorbar": {
              "outlinewidth": 0,
              "ticks": ""
             }
            },
            "type": "scattergl"
           }
          ],
          "scattermapbox": [
           {
            "marker": {
             "colorbar": {
              "outlinewidth": 0,
              "ticks": ""
             }
            },
            "type": "scattermapbox"
           }
          ],
          "scatterpolar": [
           {
            "marker": {
             "colorbar": {
              "outlinewidth": 0,
              "ticks": ""
             }
            },
            "type": "scatterpolar"
           }
          ],
          "scatterpolargl": [
           {
            "marker": {
             "colorbar": {
              "outlinewidth": 0,
              "ticks": ""
             }
            },
            "type": "scatterpolargl"
           }
          ],
          "scatterternary": [
           {
            "marker": {
             "colorbar": {
              "outlinewidth": 0,
              "ticks": ""
             }
            },
            "type": "scatterternary"
           }
          ],
          "surface": [
           {
            "colorbar": {
             "outlinewidth": 0,
             "ticks": ""
            },
            "colorscale": [
             [
              0,
              "#0d0887"
             ],
             [
              0.1111111111111111,
              "#46039f"
             ],
             [
              0.2222222222222222,
              "#7201a8"
             ],
             [
              0.3333333333333333,
              "#9c179e"
             ],
             [
              0.4444444444444444,
              "#bd3786"
             ],
             [
              0.5555555555555556,
              "#d8576b"
             ],
             [
              0.6666666666666666,
              "#ed7953"
             ],
             [
              0.7777777777777778,
              "#fb9f3a"
             ],
             [
              0.8888888888888888,
              "#fdca26"
             ],
             [
              1,
              "#f0f921"
             ]
            ],
            "type": "surface"
           }
          ],
          "table": [
           {
            "cells": {
             "fill": {
              "color": "#EBF0F8"
             },
             "line": {
              "color": "white"
             }
            },
            "header": {
             "fill": {
              "color": "#C8D4E3"
             },
             "line": {
              "color": "white"
             }
            },
            "type": "table"
           }
          ]
         },
         "layout": {
          "annotationdefaults": {
           "arrowcolor": "#2a3f5f",
           "arrowhead": 0,
           "arrowwidth": 1
          },
          "autotypenumbers": "strict",
          "coloraxis": {
           "colorbar": {
            "outlinewidth": 0,
            "ticks": ""
           }
          },
          "colorscale": {
           "diverging": [
            [
             0,
             "#8e0152"
            ],
            [
             0.1,
             "#c51b7d"
            ],
            [
             0.2,
             "#de77ae"
            ],
            [
             0.3,
             "#f1b6da"
            ],
            [
             0.4,
             "#fde0ef"
            ],
            [
             0.5,
             "#f7f7f7"
            ],
            [
             0.6,
             "#e6f5d0"
            ],
            [
             0.7,
             "#b8e186"
            ],
            [
             0.8,
             "#7fbc41"
            ],
            [
             0.9,
             "#4d9221"
            ],
            [
             1,
             "#276419"
            ]
           ],
           "sequential": [
            [
             0,
             "#0d0887"
            ],
            [
             0.1111111111111111,
             "#46039f"
            ],
            [
             0.2222222222222222,
             "#7201a8"
            ],
            [
             0.3333333333333333,
             "#9c179e"
            ],
            [
             0.4444444444444444,
             "#bd3786"
            ],
            [
             0.5555555555555556,
             "#d8576b"
            ],
            [
             0.6666666666666666,
             "#ed7953"
            ],
            [
             0.7777777777777778,
             "#fb9f3a"
            ],
            [
             0.8888888888888888,
             "#fdca26"
            ],
            [
             1,
             "#f0f921"
            ]
           ],
           "sequentialminus": [
            [
             0,
             "#0d0887"
            ],
            [
             0.1111111111111111,
             "#46039f"
            ],
            [
             0.2222222222222222,
             "#7201a8"
            ],
            [
             0.3333333333333333,
             "#9c179e"
            ],
            [
             0.4444444444444444,
             "#bd3786"
            ],
            [
             0.5555555555555556,
             "#d8576b"
            ],
            [
             0.6666666666666666,
             "#ed7953"
            ],
            [
             0.7777777777777778,
             "#fb9f3a"
            ],
            [
             0.8888888888888888,
             "#fdca26"
            ],
            [
             1,
             "#f0f921"
            ]
           ]
          },
          "colorway": [
           "#636efa",
           "#EF553B",
           "#00cc96",
           "#ab63fa",
           "#FFA15A",
           "#19d3f3",
           "#FF6692",
           "#B6E880",
           "#FF97FF",
           "#FECB52"
          ],
          "font": {
           "color": "#2a3f5f"
          },
          "geo": {
           "bgcolor": "white",
           "lakecolor": "white",
           "landcolor": "#E5ECF6",
           "showlakes": true,
           "showland": true,
           "subunitcolor": "white"
          },
          "hoverlabel": {
           "align": "left"
          },
          "hovermode": "closest",
          "mapbox": {
           "style": "light"
          },
          "paper_bgcolor": "white",
          "plot_bgcolor": "#E5ECF6",
          "polar": {
           "angularaxis": {
            "gridcolor": "white",
            "linecolor": "white",
            "ticks": ""
           },
           "bgcolor": "#E5ECF6",
           "radialaxis": {
            "gridcolor": "white",
            "linecolor": "white",
            "ticks": ""
           }
          },
          "scene": {
           "xaxis": {
            "backgroundcolor": "#E5ECF6",
            "gridcolor": "white",
            "gridwidth": 2,
            "linecolor": "white",
            "showbackground": true,
            "ticks": "",
            "zerolinecolor": "white"
           },
           "yaxis": {
            "backgroundcolor": "#E5ECF6",
            "gridcolor": "white",
            "gridwidth": 2,
            "linecolor": "white",
            "showbackground": true,
            "ticks": "",
            "zerolinecolor": "white"
           },
           "zaxis": {
            "backgroundcolor": "#E5ECF6",
            "gridcolor": "white",
            "gridwidth": 2,
            "linecolor": "white",
            "showbackground": true,
            "ticks": "",
            "zerolinecolor": "white"
           }
          },
          "shapedefaults": {
           "line": {
            "color": "#2a3f5f"
           }
          },
          "ternary": {
           "aaxis": {
            "gridcolor": "white",
            "linecolor": "white",
            "ticks": ""
           },
           "baxis": {
            "gridcolor": "white",
            "linecolor": "white",
            "ticks": ""
           },
           "bgcolor": "#E5ECF6",
           "caxis": {
            "gridcolor": "white",
            "linecolor": "white",
            "ticks": ""
           }
          },
          "title": {
           "x": 0.05
          },
          "xaxis": {
           "automargin": true,
           "gridcolor": "white",
           "linecolor": "white",
           "ticks": "",
           "title": {
            "standoff": 15
           },
           "zerolinecolor": "white",
           "zerolinewidth": 2
          },
          "yaxis": {
           "automargin": true,
           "gridcolor": "white",
           "linecolor": "white",
           "ticks": "",
           "title": {
            "standoff": 15
           },
           "zerolinecolor": "white",
           "zerolinewidth": 2
          }
         }
        },
        "title": {
         "text": "Mosty RSÚC NR v správe jednotlivých stredísk"
        },
        "width": 800,
        "xaxis": {
         "ticktext": [
          "Levice",
          "Nitra",
          "Nové Zámky",
          "Topoľčany",
          "Komárno"
         ],
         "tickvals": [
          0,
          1,
          2,
          3,
          4
         ],
         "title": {
          "text": "strediská Regionálnej správy a údržby ciest Nitra"
         }
        },
        "yaxis": {
         "title": {
          "text": "počet"
         }
        }
       }
      }
     },
     "metadata": {},
     "output_type": "display_data"
    }
   ],
   "source": [
    "import plotly.graph_objects as go\n",
    "\n",
    "# Get the counts of bridge sections for each administrator\n",
    "administrator_counts = filtered_bridges[\"Správca_úseku\"].value_counts()\n",
    "\n",
    "color_palette = ['#e7a564', '#46a7a2', '#2d505d',\n",
    "                 '#8bae7c', '#c25469']\n",
    "\n",
    "# Create a bar plot\n",
    "fig = go.Figure()\n",
    "\n",
    "# Add traces for each administrator, include the count as text, and set textposition to 'auto' for automatic placement\n",
    "for admin, count, color in zip(administrator_counts.index, administrator_counts.values, color_palette):\n",
    "    fig.add_trace(go.Bar(\n",
    "        x=[admin],  # Set x to administrator for vertical bars\n",
    "        y=[count],\n",
    "        name=admin,\n",
    "        marker_color=color,\n",
    "        text=[count],  # Add the count as text for each bar\n",
    "        textposition='auto',  # Position the text automatically\n",
    "        showlegend=False  # Do not show this trace in the legend\n",
    "    ))\n",
    "\n",
    "# Update the layout with additional configurations\n",
    "fig.update_layout(\n",
    "    title=\"Mosty RSÚC NR v správe jednotlivých stredísk\",\n",
    "    yaxis_title=\"počet\",\n",
    "    xaxis=dict(\n",
    "        title=\"strediská Regionálnej správy a údržby ciest Nitra\",\n",
    "        tickvals=list(range(len(administrator_counts))),\n",
    "        ticktext=[\"Levice\", \"Nitra\", \"Nové Zámky\", \"Topoľčany\", \"Komárno\"]\n",
    "    ),\n",
    "    plot_bgcolor='#EEEEEE',  # Set plot background color\n",
    "    font=dict(family=\"Montserrat, sans-serif\",\n",
    "              size=14),  # Set font family and size\n",
    "    margin=dict(l=0, r=20, t=50, b=50),  # Adjust margins for tight layout\n",
    "    width=800,  # Set figure width\n",
    "    height=300  # Set figure height\n",
    ")\n",
    "\n",
    "# Show the plot\n",
    "fig.show()"
   ]
  },
  {
   "cell_type": "code",
   "execution_count": 204,
   "metadata": {},
   "outputs": [
    {
     "data": {
      "text/plain": [
       "Index(['ID_mosta', 'Trieda_PK', 'Číslo_PK', 'Most_DC', 'Názov_mosta', 'ID_DC',\n",
       "       'správcovské_číslo', 'Zemepisná_dĺžka', 'Zemepisná_šírka', 'Výška',\n",
       "       'Druh_konštrukcie', 'Material', 'Normálna_zaťažiteľnosť',\n",
       "       'Výhradná_zaťažiteľnosť_t', 'Výnimočná_zaťažiteľnosť_t',\n",
       "       'Spôsob_stanovenia', 'Predmet_premostenia', 'Rok_postavenia',\n",
       "       'Zaťažovacia_trieda_STN', 'Počet_otvorov', 'Dĺžka_premostenia',\n",
       "       'Dĺžka_nosnej_konštrukcie_m', 'Volná_šírka_mosta',\n",
       "       'Šírka_medzi_obrubami_m', 'Plocha_mosnej_konštrukcie_m2',\n",
       "       'Plocha_mosta_m2', 'Vlastník_úseku', 'Správca_úseku', 'Okres',\n",
       "       'Smer_úseku', 'Typ_úseku', 'Počiatočný_uzol', 'Koncový_uzol', 'úsek_ID',\n",
       "       'úsekové_staničenie_začiatku_DC_m',\n",
       "       'Kilometrovníkové_staničenie_začiatku_DC_km',\n",
       "       'Kumulatívne_staničenie_začiatku_DC_km', 'Poradie', 'Kraj', 'n_2012',\n",
       "       'n_2013', 'n_2014', 'n_2015', 'n_2016', 'n_2017', 'n_2018', 'n_2019',\n",
       "       'n_2020', 'n_2021', 'n_2022', 'n_2023', 'Quantile_Bin',\n",
       "       'Quantile_Bin_year'],\n",
       "      dtype='object')"
      ]
     },
     "execution_count": 204,
     "metadata": {},
     "output_type": "execute_result"
    }
   ],
   "source": [
    "filtered_bridges.columns"
   ]
  },
  {
   "cell_type": "code",
   "execution_count": 245,
   "metadata": {},
   "outputs": [
    {
     "data": {
      "text/plain": [
       "(n_2012\n",
       " 3    269\n",
       " 4    139\n",
       " 2     62\n",
       " 1     26\n",
       " 5     25\n",
       " 6      3\n",
       " 0      2\n",
       " Name: count, dtype: int64,\n",
       " count    526.000000\n",
       " mean       3.148289\n",
       " std        0.913844\n",
       " min        0.000000\n",
       " 25%        3.000000\n",
       " 50%        3.000000\n",
       " 75%        4.000000\n",
       " max        6.000000\n",
       " Name: n_2012, dtype: float64)"
      ]
     },
     "execution_count": 245,
     "metadata": {},
     "output_type": "execute_result"
    }
   ],
   "source": [
    "filtered_bridges[\"n_2012\"].value_counts(\n",
    "), filtered_bridges[\"n_2012\"].describe()"
   ]
  },
  {
   "cell_type": "code",
   "execution_count": 243,
   "metadata": {},
   "outputs": [
    {
     "data": {
      "text/plain": [
       "(n_2023\n",
       " 4    283\n",
       " 5    109\n",
       " 3     92\n",
       " 6     28\n",
       " 2     12\n",
       " 1      1\n",
       " 7      1\n",
       " Name: count, dtype: int64,\n",
       " count    526.000000\n",
       " mean       4.093156\n",
       " std        0.844518\n",
       " min        1.000000\n",
       " 25%        4.000000\n",
       " 50%        4.000000\n",
       " 75%        5.000000\n",
       " max        7.000000\n",
       " Name: n_2023, dtype: float64)"
      ]
     },
     "execution_count": 243,
     "metadata": {},
     "output_type": "execute_result"
    }
   ],
   "source": [
    "filtered_bridges[\"n_2023\"].value_counts(\n",
    "), filtered_bridges[\"n_2023\"].describe()"
   ]
  },
  {
   "cell_type": "code",
   "execution_count": 244,
   "metadata": {},
   "outputs": [
    {
     "data": {
      "text/plain": [
       "(n_2012\n",
       " 3    269\n",
       " 4    139\n",
       " 2     62\n",
       " 1     26\n",
       " 5     25\n",
       " 6      3\n",
       " 0      2\n",
       " Name: count, dtype: int64,\n",
       " count    526.000000\n",
       " mean       3.148289\n",
       " std        0.913844\n",
       " min        0.000000\n",
       " 25%        3.000000\n",
       " 50%        3.000000\n",
       " 75%        4.000000\n",
       " max        6.000000\n",
       " Name: n_2012, dtype: float64)"
      ]
     },
     "execution_count": 244,
     "metadata": {},
     "output_type": "execute_result"
    }
   ],
   "source": []
  }
 ],
 "metadata": {
  "kernelspec": {
   "display_name": "Python 3",
   "language": "python",
   "name": "python3"
  },
  "language_info": {
   "codemirror_mode": {
    "name": "ipython",
    "version": 3
   },
   "file_extension": ".py",
   "mimetype": "text/x-python",
   "name": "python",
   "nbconvert_exporter": "python",
   "pygments_lexer": "ipython3",
   "version": "3.12.0"
  }
 },
 "nbformat": 4,
 "nbformat_minor": 2
}
