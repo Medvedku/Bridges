{
 "cells": [
  {
   "cell_type": "code",
   "execution_count": 2,
   "metadata": {},
   "outputs": [
    {
     "name": "stderr",
     "output_type": "stream",
     "text": [
      "C:\\Users\\Doktor\\AppData\\Local\\Temp\\ipykernel_3840\\146672732.py:13: DtypeWarning: Columns (5,16) have mixed types. Specify dtype option on import or set low_memory=False.\n",
      "  df_nodes = pd.read_csv(nodes_path, encoding='utf-8', delimiter=',')\n",
      "C:\\Users\\Doktor\\AppData\\Local\\Temp\\ipykernel_3840\\146672732.py:15: DtypeWarning: Columns (10,11,12,25,26,27) have mixed types. Specify dtype option on import or set low_memory=False.\n",
      "  df_roads = pd.read_csv(roads_path, encoding='utf-8', delimiter=',')\n"
     ]
    }
   ],
   "source": [
    "import pandas as pd\n",
    "import numpy as np\n",
    "\n",
    "# DOMA\n",
    "nodes_path = r\"C:\\Users\\Doktor\\Documents\\GitHub\\Bridges\\Data\\Nodes_processed.csv\"\n",
    "roads_path = r\"C:\\Users\\Doktor\\Documents\\GitHub\\Bridges\\Data\\Roads_processed.csv\"\n",
    "bridges_path = r\"C:\\Users\\Doktor\\Documents\\GitHub\\Bridges\\Data\\df_bridges_data.csv\"\n",
    "survey_path = r\"C:\\Users\\Doktor\\Documents\\GitHub\\Bridges\\Data\\surveys\\Survey.csv\"\n",
    "\n",
    "\n",
    "# Load the CSV data into a DataFrame\n",
    "\n",
    "df_nodes = pd.read_csv(nodes_path, encoding='utf-8', delimiter=',')\n",
    "\n",
    "df_roads = pd.read_csv(roads_path, encoding='utf-8', delimiter=',')\n",
    "\n",
    "df_bridges_all = pd.read_csv(bridges_path, encoding='utf-8', delimiter=',')\n",
    "\n",
    "df_survey = pd.read_csv(survey_path, encoding='utf-8', delimiter=',')"
   ]
  },
  {
   "cell_type": "code",
   "execution_count": 3,
   "metadata": {},
   "outputs": [
    {
     "data": {
      "text/plain": [
       "Index(['ID_mosta', 'Trieda_PK', 'Číslo_PK', 'Most_DC', 'Názov_mosta', 'ID_DC',\n",
       "       'správcovské_číslo', 'Zemepisná_dĺžka', 'Zemepisná_šírka', 'Výška',\n",
       "       'Druh_konštrukcie', 'Material', 'Normálna_zaťažiteľnosť',\n",
       "       'Výhradná_zaťažiteľnosť_t', 'Výnimočná_zaťažiteľnosť_t',\n",
       "       'Spôsob_stanovenia', 'Predmet_premostenia', 'Rok_postavenia',\n",
       "       'Zaťažovacia_trieda_STN', 'Počet_otvorov', 'Dĺžka_premostenia',\n",
       "       'Dĺžka_nosnej_konštrukcie_m', 'Volná_šírka_mosta',\n",
       "       'Šírka_medzi_obrubami_m', 'Plocha_mosnej_konštrukcie_m2',\n",
       "       'Plocha_mosta_m2', 'Vlastník_úseku', 'Správca_úseku', 'Okres',\n",
       "       'Smer_úseku', 'Typ_úseku', 'Počiatočný_uzol', 'Koncový_uzol', 'úsek_ID',\n",
       "       'úsekové_staničenie_začiatku_DC_m',\n",
       "       'Kilometrovníkové_staničenie_začiatku_DC_km',\n",
       "       'Kumulatívne_staničenie_začiatku_DC_km', 'Poradie', 'Kraj', 'n_2012',\n",
       "       'n_2013', 'n_2014', 'n_2015', 'n_2016', 'n_2017', 'n_2018', 'n_2019',\n",
       "       'n_2020', 'n_2021', 'n_2022', 'n_2023'],\n",
       "      dtype='object')"
      ]
     },
     "execution_count": 3,
     "metadata": {},
     "output_type": "execute_result"
    }
   ],
   "source": [
    "# Assuming df_bridges_all is your DataFrame\n",
    "columns_to_convert = ['Zemepisná_dĺžka', 'Zemepisná_šírka', 'Výška', 'Normálna_zaťažiteľnosť',\n",
    "                      'Výhradná_zaťažiteľnosť_t', 'Výnimočná_zaťažiteľnosť_t', 'Počet_otvorov',\n",
    "                      'Dĺžka_nosnej_konštrukcie_m', 'Dĺžka_premostenia', 'Volná_šírka_mosta',\n",
    "                      'Šírka_medzi_obrubami_m', 'Plocha_mosnej_konštrukcie_m2', 'Plocha_mosta_m2']\n",
    "\n",
    "# Convert specified columns to float\n",
    "df_bridges_all[columns_to_convert] = df_bridges_all[columns_to_convert].apply(\n",
    "    pd.to_numeric, errors='coerce')\n",
    "\n",
    "# Convert Rok_postavenia to integer, assign NaN if not possible\n",
    "df_bridges_all['Rok_postavenia'] = pd.to_numeric(\n",
    "    df_bridges_all['Rok_postavenia'], errors='coerce')\n",
    "\n",
    "\n",
    "df_bridges_all.columns"
   ]
  },
  {
   "cell_type": "code",
   "execution_count": 5,
   "metadata": {},
   "outputs": [
    {
     "data": {
      "text/plain": [
       "(526, 51)"
      ]
     },
     "execution_count": 5,
     "metadata": {},
     "output_type": "execute_result"
    }
   ],
   "source": [
    "RUSCNR_bridges = df_bridges_all.copy()\n",
    "\n",
    "# Filter bridges in the Nitra region with Trieda_PK as \"cesta I. triedy\" or \"cesta II. triedy\"\n",
    "RUSCNR_bridges = df_bridges_all[\n",
    "    ((df_bridges_all['Správca_úseku'] == 'RSUC NR - LV') |\n",
    "     (df_bridges_all['Správca_úseku'] == 'RSUC NR - NR') |\n",
    "     (df_bridges_all['Správca_úseku'] == 'RSUC NR - NZ') |\n",
    "     (df_bridges_all['Správca_úseku'] == 'RSUC NR - TO') |\n",
    "     (df_bridges_all['Správca_úseku'] == 'RSUC NR - KN')\n",
    "     )\n",
    "]\n",
    "\n",
    "# Reindex the DataFrame\n",
    "RUSCNR_bridges.reset_index(drop=True, inplace=True)\n",
    "\n",
    "RUSCNR_bridges = RUSCNR_bridges[RUSCNR_bridges[\"n_2023\"] != 0]\n",
    "\n",
    "# Display the filtered DataFrame\n",
    "RUSCNR_bridges.shape"
   ]
  },
  {
   "cell_type": "code",
   "execution_count": 6,
   "metadata": {},
   "outputs": [
    {
     "data": {
      "text/plain": [
       "Material\n",
       "monolitický železobetón          282\n",
       "prefabrikovaný železobetón       119\n",
       "prefabrikovaný predpätý betón     59\n",
       "oceľ -  plnostenná                32\n",
       "kameň                             16\n",
       "tehla                              9\n",
       "monolitický predpätý betón         4\n",
       "oceľ -  priehradová                2\n",
       "oceľobetón                         2\n",
       "Nezistený                          1\n",
       "Name: count, dtype: int64"
      ]
     },
     "execution_count": 6,
     "metadata": {},
     "output_type": "execute_result"
    }
   ],
   "source": [
    "RUSCNR_bridges[\"Material\"].value_counts()"
   ]
  },
  {
   "cell_type": "code",
   "execution_count": 34,
   "metadata": {},
   "outputs": [
    {
     "data": {
      "text/html": [
       "<div>\n",
       "<style scoped>\n",
       "    .dataframe tbody tr th:only-of-type {\n",
       "        vertical-align: middle;\n",
       "    }\n",
       "\n",
       "    .dataframe tbody tr th {\n",
       "        vertical-align: top;\n",
       "    }\n",
       "\n",
       "    .dataframe thead th {\n",
       "        text-align: right;\n",
       "    }\n",
       "</style>\n",
       "<table border=\"1\" class=\"dataframe\">\n",
       "  <thead>\n",
       "    <tr style=\"text-align: right;\">\n",
       "      <th></th>\n",
       "      <th>ID_mosta</th>\n",
       "      <th>Názov_mosta</th>\n",
       "      <th>Dĺžka_premostenia</th>\n",
       "      <th>n_2023</th>\n",
       "    </tr>\n",
       "  </thead>\n",
       "  <tbody>\n",
       "    <tr>\n",
       "      <th>136</th>\n",
       "      <td>M6007</td>\n",
       "      <td>Most v katastri Veľký Cetín</td>\n",
       "      <td>18.80</td>\n",
       "      <td>6</td>\n",
       "    </tr>\n",
       "    <tr>\n",
       "      <th>194</th>\n",
       "      <td>M2365</td>\n",
       "      <td>Most cez kanál Stará Gúta za Hliníkom.</td>\n",
       "      <td>28.50</td>\n",
       "      <td>5</td>\n",
       "    </tr>\n",
       "    <tr>\n",
       "      <th>279</th>\n",
       "      <td>M5823</td>\n",
       "      <td>Most cez hlavný kanál Stará Gúta-Lándor.</td>\n",
       "      <td>20.40</td>\n",
       "      <td>6</td>\n",
       "    </tr>\n",
       "    <tr>\n",
       "      <th>280</th>\n",
       "      <td>M7596</td>\n",
       "      <td>Most cez hlavný kanál Stará Gúta-Lándor.</td>\n",
       "      <td>24.70</td>\n",
       "      <td>6</td>\n",
       "    </tr>\n",
       "    <tr>\n",
       "      <th>282</th>\n",
       "      <td>M145</td>\n",
       "      <td>Most cez odvodňovací kanál pri Kindeši.</td>\n",
       "      <td>10.15</td>\n",
       "      <td>5</td>\n",
       "    </tr>\n",
       "    <tr>\n",
       "      <th>318</th>\n",
       "      <td>M4666</td>\n",
       "      <td>Most cez prívodný kanál  k čerpacej stanici v ...</td>\n",
       "      <td>27.55</td>\n",
       "      <td>5</td>\n",
       "    </tr>\n",
       "    <tr>\n",
       "      <th>458</th>\n",
       "      <td>M2459</td>\n",
       "      <td>Most v obci Čab-Sila cez potok</td>\n",
       "      <td>18.00</td>\n",
       "      <td>5</td>\n",
       "    </tr>\n",
       "    <tr>\n",
       "      <th>459</th>\n",
       "      <td>M5669</td>\n",
       "      <td>Most cez potok Radošinka v obci Malé Ripňany</td>\n",
       "      <td>16.80</td>\n",
       "      <td>6</td>\n",
       "    </tr>\n",
       "  </tbody>\n",
       "</table>\n",
       "</div>"
      ],
      "text/plain": [
       "    ID_mosta                                        Názov_mosta  \\\n",
       "136    M6007                        Most v katastri Veľký Cetín   \n",
       "194    M2365             Most cez kanál Stará Gúta za Hliníkom.   \n",
       "279    M5823           Most cez hlavný kanál Stará Gúta-Lándor.   \n",
       "280    M7596           Most cez hlavný kanál Stará Gúta-Lándor.   \n",
       "282     M145            Most cez odvodňovací kanál pri Kindeši.   \n",
       "318    M4666  Most cez prívodný kanál  k čerpacej stanici v ...   \n",
       "458    M2459                     Most v obci Čab-Sila cez potok   \n",
       "459    M5669       Most cez potok Radošinka v obci Malé Ripňany   \n",
       "\n",
       "     Dĺžka_premostenia  n_2023  \n",
       "136              18.80       6  \n",
       "194              28.50       5  \n",
       "279              20.40       6  \n",
       "280              24.70       6  \n",
       "282              10.15       5  \n",
       "318              27.55       5  \n",
       "458              18.00       5  \n",
       "459              16.80       6  "
      ]
     },
     "execution_count": 34,
     "metadata": {},
     "output_type": "execute_result"
    }
   ],
   "source": [
    "# Filter bridges in the Nitra region with Trieda_PK as \"cesta I. triedy\" or \"cesta II. triedy\"\n",
    "filtered_bridges = RUSCNR_bridges[\n",
    "    ((RUSCNR_bridges['Material'] == 'prefabrikovaný železobetón') &\n",
    "     (RUSCNR_bridges['n_2023'] >= 5) &\n",
    "     (RUSCNR_bridges['Dĺžka_premostenia'] >= 10) \n",
    "     )\n",
    "]\n",
    "\n",
    "filtered_bridges[[\"ID_mosta\", \"Názov_mosta\",\n",
    "                  \"Dĺžka_premostenia\", \"n_2023\"]]"
   ]
  },
  {
   "cell_type": "code",
   "execution_count": 31,
   "metadata": {},
   "outputs": [
    {
     "name": "stdout",
     "output_type": "stream",
     "text": [
      "Most v katastri Veľký Cetín\n",
      "Most cez kanál Stará Gúta za Hliníkom.\n",
      "Most cez hlavný kanál Stará Gúta-Lándor.\n",
      "Most cez hlavný kanál Stará Gúta-Lándor.\n",
      "Most cez odvodňovací kanál pri Kindeši.\n",
      "Most cez prívodný kanál  k čerpacej stanici v obci  Veľké Kosihy\n",
      "Most v obci Čab-Sila cez potok\n",
      "Most cez potok Radošinka v obci Malé Ripňany\n"
     ]
    }
   ],
   "source": [
    "for index, row in filtered_bridges.iterrows():\n",
    "    print(row[\"Názov_mosta\"])"
   ]
  },
  {
   "cell_type": "code",
   "execution_count": 32,
   "metadata": {},
   "outputs": [],
   "source": [
    "import geopandas as gpd\n",
    "# Replace the file path with your actual file path\n",
    "file_path = r'C:\\Users\\Doktor\\Documents\\GitHub\\Bridges\\GeoJSONs\\regions_epsg_4326.geojson'  # doma\n",
    "# file_path = r'C:\\Users\\relia\\Documents\\GitHub\\Bridges\\GeoJSONs\\regions_epsg_4326.geojson'  # robota\n",
    "\n",
    "\n",
    "# Load the GeoJSON file into a GeoDataFrame\n",
    "gdf = gpd.read_file(file_path)\n",
    "# Display the first few rows of the GeoDataFrame"
   ]
  },
  {
   "cell_type": "code",
   "execution_count": 33,
   "metadata": {},
   "outputs": [],
   "source": [
    "import folium\n",
    "\n",
    "\n",
    "def plot_filtered_bridges(df, gdf, regions):\n",
    "    # Find the average coordinates for the initial map center\n",
    "    avg_lat = df['Zemepisná_šírka'].mean()\n",
    "    avg_long = df['Zemepisná_dĺžka'].mean()\n",
    "\n",
    "    # Create the map with custom tileset\n",
    "    m = folium.Map(location=[avg_lat, avg_long],\n",
    "                   zoom_start=9, tiles=\"Cartodb positron\")\n",
    "\n",
    "    # Colors for the markers\n",
    "    colors = [\"#ff6600\", \"#0066FF\"]\n",
    "\n",
    "    # Bridge icon\n",
    "    bridge_icon_url = \"https://raw.githubusercontent.com/Medvedku/Assets/main/markers/bridge_marker_Cartodb_orng.svg\"\n",
    "\n",
    "    for index, row in df.iterrows():\n",
    "        ic_size = 50\n",
    "        bridge_icon = folium.CustomIcon(\n",
    "            icon_image=bridge_icon_url,\n",
    "            icon_size=(ic_size, ic_size),\n",
    "            icon_anchor=(ic_size/2, ic_size)\n",
    "        )\n",
    "\n",
    "        popup_html = f\"<table style='width:400px;'>\"\n",
    "        popup_html += f\"<tr><th style='text-align:left;'>Názov mosta:</th><td>{row['Názov_mosta']}</td></tr>\"\n",
    "        popup_html += f\"<tr><th style='text-align:left;'>Trieda PK:</th><td>{row['Trieda_PK']}</td></tr>\"\n",
    "\n",
    "        popup_html += \"<tr><th style='text-align:left;'>Dĺžka premostenia:</th><td>\"\n",
    "        if pd.notna(row['Dĺžka_premostenia']):\n",
    "            popup_html += f\"{float(row['Dĺžka_premostenia'])} m\"\n",
    "        else:\n",
    "            popup_html += \"Unknown\"\n",
    "        popup_html += \"</td></tr>\"\n",
    "\n",
    "        popup_html += f\"<tr><th style='text-align:left;'>Druh konštrukcie:</th><td>{row['Druh_konštrukcie']}</td></tr>\"\n",
    "        popup_html += f\"<tr><th style='text-align:left;'>Materiál:</th><td>{row['Material']}</td></tr>\"\n",
    "        popup_html += f\"<tr><th style='text-align:left;'>Rok postavenia:</th><td>{row['Rok_postavenia']}</td></tr>\"\n",
    "        popup_html += f\"<tr><th style='text-align:left;'>GPS Coordinates:</th><td>({row['Zemepisná_šírka']:.4f}, {row['Zemepisná_dĺžka']:.4f})</td></tr>\"\n",
    "        popup_html += f\"</table>\"\n",
    "\n",
    "        popup = folium.Popup(popup_html, parse_html=False)\n",
    "\n",
    "        tooltip_html = f\"<table style='width:50px;'>\"\n",
    "        tooltip_html += f\"<tr><th colspan='2' style='text-align:left;'>Most {row['ID_mosta']}</th></tr>\"\n",
    "        tooltip_html += f\"<tr><td style='text-align:left;'>STS:</td><td>{row['n_2023']}</td></tr>\"\n",
    "        tooltip_html += f\"</table>\"\n",
    "\n",
    "        # Add the marker with the custom icon and popup\n",
    "        folium.Marker(\n",
    "            [row['Zemepisná_šírka'], row['Zemepisná_dĺžka']],\n",
    "            icon=bridge_icon,\n",
    "            popup=popup,\n",
    "            tooltip=tooltip_html\n",
    "        ).add_to(m)\n",
    "\n",
    "    # Filter the GeoDataFrame to include only the specified regions\n",
    "    region_gdf = gdf[gdf['NM4'].isin(regions)]\n",
    "\n",
    "    # Define custom style for the regions' polygons\n",
    "    def style_function(x): return {\n",
    "        'fillColor': '#FF6600', 'color': '#FF6600', 'weight': 2}\n",
    "\n",
    "    # Add the boundaries of the specified regions to the map with the custom style\n",
    "    folium.GeoJson(region_gdf, name='Regions Boundaries',\n",
    "                   style_function=style_function).add_to(m)\n",
    "\n",
    "    return m\n",
    "\n",
    "\n",
    "# Usage example (replace 'filtered_bridges' with your filtered DataFrame and adjust regions as needed)\n",
    "regions_to_plot = ['Nitriansky']\n",
    "map = plot_filtered_bridges(filtered_bridges, gdf, regions_to_plot)\n",
    "map.save('Bridges_NR.html')"
   ]
  }
 ],
 "metadata": {
  "kernelspec": {
   "display_name": "Bridges_VENV",
   "language": "python",
   "name": "python3"
  },
  "language_info": {
   "codemirror_mode": {
    "name": "ipython",
    "version": 3
   },
   "file_extension": ".py",
   "mimetype": "text/x-python",
   "name": "python",
   "nbconvert_exporter": "python",
   "pygments_lexer": "ipython3",
   "version": "3.11.4"
  }
 },
 "nbformat": 4,
 "nbformat_minor": 2
}
