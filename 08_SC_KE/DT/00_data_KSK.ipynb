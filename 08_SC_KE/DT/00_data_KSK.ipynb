{
 "cells": [
  {
   "cell_type": "code",
   "execution_count": 58,
   "metadata": {},
   "outputs": [
    {
     "name": "stderr",
     "output_type": "stream",
     "text": [
      "C:\\Users\\relia\\AppData\\Local\\Temp\\ipykernel_5380\\4245361851.py:16: DtypeWarning: Columns (5,16) have mixed types. Specify dtype option on import or set low_memory=False.\n",
      "  df_nodes = pd.read_csv(nodes_path, encoding='utf-8', delimiter=',')\n",
      "C:\\Users\\relia\\AppData\\Local\\Temp\\ipykernel_5380\\4245361851.py:17: DtypeWarning: Columns (10,11,12,25,26,27) have mixed types. Specify dtype option on import or set low_memory=False.\n",
      "  df_roads = pd.read_csv(roads_path, encoding='utf-8', delimiter=',')\n"
     ]
    }
   ],
   "source": [
    "import pandas as pd\n",
    "\n",
    "# # DOMA\n",
    "# nodes_path = r\"C:\\Users\\Doktor\\Documents\\GitHub\\Bridges\\Data\\Nodes_processed.csv\"\n",
    "# roads_path = r\"C:\\Users\\Doktor\\Documents\\GitHub\\Bridges\\Data\\Roads_processed.csv\"\n",
    "# bridges_path = r\"C:\\Users\\Doktor\\Documents\\GitHub\\Bridges\\Data\\df_bridges_data.csv\"\n",
    "# survey_path = r\"C:\\Users\\Doktor\\Documents\\GitHub\\Bridges\\Data\\surveys\\Survey.csv\"\n",
    "\n",
    "# ROBOTA\n",
    "nodes_path = r\"C:\\Users\\relia\\Documents\\GitHub\\Bridges\\Data\\Nodes_processed.csv\"\n",
    "roads_path = r\"C:\\Users\\relia\\Documents\\GitHub\\Bridges\\Data\\Roads_processed.csv\"\n",
    "bridges_path = r\"C:\\Users\\relia\\Documents\\GitHub\\Bridges\\Data\\df_bridges_data.csv\"\n",
    "survey_path = r\"C:\\Users\\relia\\Documents\\GitHub\\Bridges\\Data\\surveys\\Survey.csv\"\n",
    "\n",
    "# Load the CSV data into a DataFrame\n",
    "df_nodes = pd.read_csv(nodes_path, encoding='utf-8', delimiter=',')\n",
    "df_roads = pd.read_csv(roads_path, encoding='utf-8', delimiter=',')\n",
    "df_bridges_all = pd.read_csv(bridges_path, encoding='utf-8', delimiter=',')\n",
    "df_survey = pd.read_csv(survey_path, encoding='utf-8', delimiter=',')"
   ]
  },
  {
   "cell_type": "code",
   "execution_count": 59,
   "metadata": {},
   "outputs": [
    {
     "data": {
      "text/plain": [
       "Index(['ID_mosta', 'Trieda_PK', 'Číslo_PK', 'Most_DC', 'Názov_mosta', 'ID_DC',\n",
       "       'správcovské_číslo', 'Zemepisná_šírka', 'Zemepisná_dĺžka', 'Výška',\n",
       "       'Druh_konštrukcie', 'Material', 'Normálna_zaťažiteľnosť',\n",
       "       'Výhradná_zaťažiteľnosť_t', 'Výnimočná_zaťažiteľnosť_t',\n",
       "       'Spôsob_stanovenia', 'Predmet_premostenia', 'Rok_postavenia',\n",
       "       'Zaťažovacia_trieda_STN', 'Počet_otvorov', 'Dĺžka_premostenia',\n",
       "       'Dĺžka_nosnej_konštrukcie_m', 'Volná_šírka_mosta',\n",
       "       'Šírka_medzi_obrubami_m', 'Plocha_mosnej_konštrukcie_m2',\n",
       "       'Plocha_mosta_m2', 'Vlastník_úseku', 'Správca_úseku', 'Okres',\n",
       "       'Smer_úseku', 'Typ_úseku', 'Počiatočný_uzol', 'Koncový_uzol', 'úsek_ID',\n",
       "       'úsekové_staničenie_začiatku_DC_m',\n",
       "       'Kilometrovníkové_staničenie_začiatku_DC_km',\n",
       "       'Kumulatívne_staničenie_začiatku_DC_km', 'Poradie', 'Kraj', 'n_2012',\n",
       "       'n_2013', 'n_2014', 'n_2015', 'n_2016', 'n_2017', 'n_2018', 'n_2019',\n",
       "       'n_2020', 'n_2021', 'n_2022', 'n_2023'],\n",
       "      dtype='object')"
      ]
     },
     "execution_count": 59,
     "metadata": {},
     "output_type": "execute_result"
    }
   ],
   "source": [
    "# Assuming df_bridges_all is your DataFrame\n",
    "columns_to_convert = ['Zemepisná_dĺžka', 'Zemepisná_šírka', 'Výška', 'Normálna_zaťažiteľnosť',\n",
    "                      'Výhradná_zaťažiteľnosť_t', 'Výnimočná_zaťažiteľnosť_t', 'Počet_otvorov',\n",
    "                      'Dĺžka_nosnej_konštrukcie_m', 'Dĺžka_premostenia', 'Volná_šírka_mosta',\n",
    "                      'Šírka_medzi_obrubami_m', 'Plocha_mosnej_konštrukcie_m2', 'Plocha_mosta_m2']\n",
    "\n",
    "# Convert specified columns to float\n",
    "df_bridges_all[columns_to_convert] = df_bridges_all[columns_to_convert].apply(\n",
    "    pd.to_numeric, errors='coerce')\n",
    "\n",
    "# Convert Rok_postavenia to integer, assign NaN if not possible\n",
    "df_bridges_all['Rok_postavenia'] = pd.to_numeric(\n",
    "    df_bridges_all['Rok_postavenia'], errors='coerce')\n",
    "\n",
    "\n",
    "df_bridges_all.columns"
   ]
  },
  {
   "cell_type": "code",
   "execution_count": 60,
   "metadata": {},
   "outputs": [
    {
     "data": {
      "text/plain": [
       "(653, 51)"
      ]
     },
     "execution_count": 60,
     "metadata": {},
     "output_type": "execute_result"
    }
   ],
   "source": [
    "# Filter bridges in the Nitra region with Trieda_PK as \"cesta I. triedy\" or \"cesta II. triedy\"\n",
    "bridges_KSK = df_bridges_all[\n",
    "    ((df_bridges_all[\"Správca_úseku\"] == 'SC KSK - KS') |\n",
    "     (df_bridges_all[\"Správca_úseku\"] == 'SC KSK - SNV') |\n",
    "     (df_bridges_all[\"Správca_úseku\"] == 'SC KSK - MI') |\n",
    "     (df_bridges_all[\"Správca_úseku\"] == 'SC KSK - TV') |\n",
    "     (df_bridges_all[\"Správca_úseku\"] == 'SC KSK - RV'))\n",
    "]\n",
    "\n",
    "# Reindex the DataFrame\n",
    "bridges_KSK.reset_index(drop=True, inplace=True)\n",
    "\n",
    "bridges_KSK = bridges_KSK[bridges_KSK[\"n_2023\"] != 0]\n",
    "\n",
    "# Replace double space with single space in each item of the \"Predmet_premostenia\" column\n",
    "bridges_KSK[\"Predmet_premostenia\"] = bridges_KSK[\"Predmet_premostenia\"].str.replace(\n",
    "    \"  \", \" \")\n",
    "\n",
    "# Display the filtered DataFrame\n",
    "bridges_KSK.shape"
   ]
  },
  {
   "cell_type": "code",
   "execution_count": 61,
   "metadata": {},
   "outputs": [],
   "source": [
    "import geopandas as gpd\n",
    "# Replace the file path with your actual file path\n",
    "# file_path = r'C:\\Users\\Doktor\\Documents\\GitHub\\Bridges\\GeoJSONs\\regions_epsg_4326.geojson'  # doma\n",
    "file_path = r'C:\\Users\\relia\\Documents\\GitHub\\Bridges\\GeoJSONs\\regions_epsg_4326.geojson' # robota\n",
    "\n",
    "\n",
    "# Load the GeoJSON file into a GeoDataFrame\n",
    "gdf = gpd.read_file(file_path)\n",
    "# Display the first few rows of the GeoDataFrame"
   ]
  },
  {
   "cell_type": "code",
   "execution_count": 62,
   "metadata": {},
   "outputs": [],
   "source": [
    "KSK_survey_path = r\"C:\\Users\\relia\\Documents\\GitHub\\Bridges\\08_SC_KE\\DT\\filtered_bridges.csv\"\n",
    "df_KSK_survey_path = pd.read_csv(\n",
    "    KSK_survey_path, encoding='utf-8', delimiter=',')"
   ]
  },
  {
   "cell_type": "code",
   "execution_count": 63,
   "metadata": {},
   "outputs": [
    {
     "data": {
      "text/plain": [
       "Index(['ID_mosta', 'Trieda_PK', 'Číslo_PK', 'Zemepisná_šírka',\n",
       "       'Zemepisná_dĺžka', 'ÚSEK'],\n",
       "      dtype='object')"
      ]
     },
     "execution_count": 63,
     "metadata": {},
     "output_type": "execute_result"
    }
   ],
   "source": [
    "df_KSK_survey_path.columns"
   ]
  },
  {
   "cell_type": "code",
   "execution_count": 64,
   "metadata": {},
   "outputs": [
    {
     "data": {
      "text/plain": [
       "ÚSEK\n",
       "n       282\n",
       "2048     10\n",
       "2120      8\n",
       "2080      8\n",
       "2110      7\n",
       "       ... \n",
       "2670      1\n",
       "2650      1\n",
       "2640      1\n",
       "2630      1\n",
       "5060      1\n",
       "Name: count, Length: 167, dtype: int64"
      ]
     },
     "execution_count": 64,
     "metadata": {},
     "output_type": "execute_result"
    }
   ],
   "source": [
    "df_KSK_survey_path[\"ÚSEK\"] = df_KSK_survey_path[\"ÚSEK\"].astype(str)\n",
    "df_KSK_survey_path[\"ÚSEK\"].value_counts()"
   ]
  },
  {
   "cell_type": "code",
   "execution_count": 65,
   "metadata": {},
   "outputs": [
    {
     "data": {
      "text/plain": [
       "ÚSEK\n",
       "unknown    282\n",
       "02048       10\n",
       "02120        8\n",
       "02080        8\n",
       "02110        7\n",
       "          ... \n",
       "02670        1\n",
       "02650        1\n",
       "02640        1\n",
       "02630        1\n",
       "05060        1\n",
       "Name: count, Length: 167, dtype: int64"
      ]
     },
     "execution_count": 65,
     "metadata": {},
     "output_type": "execute_result"
    }
   ],
   "source": [
    "import numpy as np\n",
    "\n",
    "# Replace \"n\" with NaN for now to preserve it during formatting\n",
    "df_KSK_survey_path[\"ÚSEK\"].replace(\"n\", np.nan, inplace=True)\n",
    "\n",
    "# Convert values to string and fill with leading zeroes\n",
    "df_KSK_survey_path[\"ÚSEK\"] = df_KSK_survey_path[\"ÚSEK\"].astype(\n",
    "    str).str.zfill(5)\n",
    "\n",
    "# Replace NaN values back to \"n\"\n",
    "df_KSK_survey_path[\"ÚSEK\"].fillna(\"n\", inplace=True)\n",
    "\n",
    "# Replace \"00nan\" with \"unknown\"\n",
    "df_KSK_survey_path[\"ÚSEK\"].replace(\"00nan\", \"unknown\", inplace=True)\n",
    "\n",
    "\n",
    "# Print the updated value counts\n",
    "df_KSK_survey_path[\"ÚSEK\"].value_counts()"
   ]
  },
  {
   "cell_type": "code",
   "execution_count": 66,
   "metadata": {},
   "outputs": [
    {
     "data": {
      "text/plain": [
       "0       87020\n",
       "1       87021\n",
       "2       87022\n",
       "3       87023\n",
       "4       87024\n",
       "        ...  \n",
       "2751    94911\n",
       "2752    94920\n",
       "2753    95211\n",
       "2754    94040\n",
       "2755    94041\n",
       "Name: ÚSEK, Length: 2756, dtype: object"
      ]
     },
     "execution_count": 66,
     "metadata": {},
     "output_type": "execute_result"
    }
   ],
   "source": [
    "# Convert values to string and fill with leading zeroes\n",
    "df_survey[\"ÚSEK\"] = df_survey[\"ÚSEK\"].astype(\n",
    "    str).str.zfill(5)\n",
    "\n",
    "df_survey[\"ÚSEK\"]"
   ]
  },
  {
   "cell_type": "code",
   "execution_count": 67,
   "metadata": {},
   "outputs": [
    {
     "data": {
      "text/plain": [
       "Index(['ID_mosta', 'Trieda_PK', 'Číslo_PK', 'Most_DC', 'Názov_mosta', 'ID_DC',\n",
       "       'správcovské_číslo', 'Zemepisná_šírka', 'Zemepisná_dĺžka', 'Výška',\n",
       "       'Druh_konštrukcie', 'Material', 'Normálna_zaťažiteľnosť',\n",
       "       'Výhradná_zaťažiteľnosť_t', 'Výnimočná_zaťažiteľnosť_t',\n",
       "       'Spôsob_stanovenia', 'Predmet_premostenia', 'Rok_postavenia',\n",
       "       'Zaťažovacia_trieda_STN', 'Počet_otvorov', 'Dĺžka_premostenia',\n",
       "       'Dĺžka_nosnej_konštrukcie_m', 'Volná_šírka_mosta',\n",
       "       'Šírka_medzi_obrubami_m', 'Plocha_mosnej_konštrukcie_m2',\n",
       "       'Plocha_mosta_m2', 'Vlastník_úseku', 'Správca_úseku', 'Okres',\n",
       "       'Smer_úseku', 'Typ_úseku', 'Počiatočný_uzol', 'Koncový_uzol', 'úsek_ID',\n",
       "       'úsekové_staničenie_začiatku_DC_m',\n",
       "       'Kilometrovníkové_staničenie_začiatku_DC_km',\n",
       "       'Kumulatívne_staničenie_začiatku_DC_km', 'Poradie', 'Kraj', 'n_2012',\n",
       "       'n_2013', 'n_2014', 'n_2015', 'n_2016', 'n_2017', 'n_2018', 'n_2019',\n",
       "       'n_2020', 'n_2021', 'n_2022', 'n_2023'],\n",
       "      dtype='object')"
      ]
     },
     "execution_count": 67,
     "metadata": {},
     "output_type": "execute_result"
    }
   ],
   "source": [
    "bridges_KSK.columns"
   ]
  },
  {
   "cell_type": "code",
   "execution_count": 68,
   "metadata": {},
   "outputs": [
    {
     "data": {
      "text/plain": [
       "Index(['ÚSEK', 'CESTA', 'OKRES', 'T', 'O', 'M', 'S'], dtype='object')"
      ]
     },
     "execution_count": 68,
     "metadata": {},
     "output_type": "execute_result"
    }
   ],
   "source": [
    "df_survey.columns"
   ]
  },
  {
   "cell_type": "code",
   "execution_count": 69,
   "metadata": {},
   "outputs": [
    {
     "data": {
      "text/plain": [
       "Index(['ID_mosta', 'Trieda_PK', 'Číslo_PK', 'Zemepisná_šírka',\n",
       "       'Zemepisná_dĺžka', 'ÚSEK'],\n",
       "      dtype='object')"
      ]
     },
     "execution_count": 69,
     "metadata": {},
     "output_type": "execute_result"
    }
   ],
   "source": [
    "df_KSK_survey_path.columns"
   ]
  },
  {
   "cell_type": "code",
   "execution_count": 70,
   "metadata": {},
   "outputs": [],
   "source": [
    "import pandas as pd\n",
    "\n",
    "# Assuming bridges_KSK, df_KSK_survey_path, and df_survey are already loaded DataFrames\n",
    "\n",
    "# Step 1: Merge bridges_KSK with df_KSK_survey_path\n",
    "merged_data = pd.merge(bridges_KSK, df_KSK_survey_path[[\n",
    "                       'ID_mosta', 'ÚSEK']], on='ID_mosta', how='left')\n",
    "\n",
    "# Step 2: Merge the result with df_survey to get the traffic intensity \"S\"\n",
    "final_data = pd.merge(\n",
    "    merged_data, df_survey[['ÚSEK', 'S']], on='ÚSEK', how='left')\n",
    "\n",
    "# Step 3: If there is no match for ÚSEK in df_survey, \"S\" will be NaN by default due to how='left' merge\n",
    "bridges_KSK['S'] = final_data['S']"
   ]
  },
  {
   "cell_type": "code",
   "execution_count": 82,
   "metadata": {},
   "outputs": [
    {
     "name": "stdout",
     "output_type": "stream",
     "text": [
      "Number of NaNs in bridges_KSK['S']: 284 (653, 52) 369\n"
     ]
    }
   ],
   "source": [
    "# Count the number of NaN values in the column 'S'\n",
    "nan_count = bridges_KSK['S'].isna().sum()\n",
    "\n",
    "# Print the number of NaN values\n",
    "print(\"Number of NaNs in bridges_KSK['S']:\",\n",
    "      nan_count, bridges_KSK.shape, 653-284)"
   ]
  },
  {
   "cell_type": "code",
   "execution_count": null,
   "metadata": {},
   "outputs": [],
   "source": [
    "bridges_KSK"
   ]
  },
  {
   "cell_type": "code",
   "execution_count": 86,
   "metadata": {},
   "outputs": [
    {
     "data": {
      "text/html": [
       "<div>\n",
       "<style scoped>\n",
       "    .dataframe tbody tr th:only-of-type {\n",
       "        vertical-align: middle;\n",
       "    }\n",
       "\n",
       "    .dataframe tbody tr th {\n",
       "        vertical-align: top;\n",
       "    }\n",
       "\n",
       "    .dataframe thead th {\n",
       "        text-align: right;\n",
       "    }\n",
       "</style>\n",
       "<table border=\"1\" class=\"dataframe\">\n",
       "  <thead>\n",
       "    <tr style=\"text-align: right;\">\n",
       "      <th></th>\n",
       "      <th>ID_mosta</th>\n",
       "      <th>Názov_mosta</th>\n",
       "      <th>S</th>\n",
       "    </tr>\n",
       "  </thead>\n",
       "  <tbody>\n",
       "    <tr>\n",
       "      <th>607</th>\n",
       "      <td>M4779</td>\n",
       "      <td>Most cez kanál Kalčava na štátnej hranici s MR</td>\n",
       "      <td>168.0</td>\n",
       "    </tr>\n",
       "    <tr>\n",
       "      <th>486</th>\n",
       "      <td>M7424</td>\n",
       "      <td>Most cez miestny potok - Turzovské kúpele</td>\n",
       "      <td>191.0</td>\n",
       "    </tr>\n",
       "    <tr>\n",
       "      <th>362</th>\n",
       "      <td>M6362</td>\n",
       "      <td>Most cez potok Okna pred obcou Blatná Polianka</td>\n",
       "      <td>194.0</td>\n",
       "    </tr>\n",
       "    <tr>\n",
       "      <th>363</th>\n",
       "      <td>M6141</td>\n",
       "      <td>Most cez potok v obci Blatná Polianka</td>\n",
       "      <td>194.0</td>\n",
       "    </tr>\n",
       "    <tr>\n",
       "      <th>364</th>\n",
       "      <td>M2637</td>\n",
       "      <td>Most cez Sobranecký potok za obcou Blatná Poli...</td>\n",
       "      <td>194.0</td>\n",
       "    </tr>\n",
       "    <tr>\n",
       "      <th>...</th>\n",
       "      <td>...</td>\n",
       "      <td>...</td>\n",
       "      <td>...</td>\n",
       "    </tr>\n",
       "    <tr>\n",
       "      <th>642</th>\n",
       "      <td>M614</td>\n",
       "      <td>566002- 004 Most cez potok v obci Inovce</td>\n",
       "      <td>NaN</td>\n",
       "    </tr>\n",
       "    <tr>\n",
       "      <th>643</th>\n",
       "      <td>M6794</td>\n",
       "      <td>566003- 002 Most cez potok na lúkach pred obco...</td>\n",
       "      <td>NaN</td>\n",
       "    </tr>\n",
       "    <tr>\n",
       "      <th>644</th>\n",
       "      <td>M5131</td>\n",
       "      <td>566003- 003 Most cez potok pred obcou Ruská By...</td>\n",
       "      <td>NaN</td>\n",
       "    </tr>\n",
       "    <tr>\n",
       "      <th>645</th>\n",
       "      <td>M4016</td>\n",
       "      <td>566003- 004 Most cez potok pred obcou Ruská By...</td>\n",
       "      <td>NaN</td>\n",
       "    </tr>\n",
       "    <tr>\n",
       "      <th>648</th>\n",
       "      <td>M9492</td>\n",
       "      <td>Most na ceste III/050189 pred obcou Sokoľany</td>\n",
       "      <td>NaN</td>\n",
       "    </tr>\n",
       "  </tbody>\n",
       "</table>\n",
       "<p>653 rows × 3 columns</p>\n",
       "</div>"
      ],
      "text/plain": [
       "    ID_mosta                                        Názov_mosta      S\n",
       "607    M4779     Most cez kanál Kalčava na štátnej hranici s MR  168.0\n",
       "486    M7424          Most cez miestny potok - Turzovské kúpele  191.0\n",
       "362    M6362     Most cez potok Okna pred obcou Blatná Polianka  194.0\n",
       "363    M6141              Most cez potok v obci Blatná Polianka  194.0\n",
       "364    M2637  Most cez Sobranecký potok za obcou Blatná Poli...  194.0\n",
       "..       ...                                                ...    ...\n",
       "642     M614           566002- 004 Most cez potok v obci Inovce    NaN\n",
       "643    M6794  566003- 002 Most cez potok na lúkach pred obco...    NaN\n",
       "644    M5131  566003- 003 Most cez potok pred obcou Ruská By...    NaN\n",
       "645    M4016  566003- 004 Most cez potok pred obcou Ruská By...    NaN\n",
       "648    M9492       Most na ceste III/050189 pred obcou Sokoľany    NaN\n",
       "\n",
       "[653 rows x 3 columns]"
      ]
     },
     "execution_count": 86,
     "metadata": {},
     "output_type": "execute_result"
    }
   ],
   "source": [
    "# Sorting bridges_KSK by the values in the column 'S' in descending order\n",
    "sorted_bridges_KSK = bridges_KSK.sort_values(by='S', ascending=1)\n",
    "\n",
    "# Display the sorted DataFrame\n",
    "sorted_bridges_KSK[[\"ID_mosta\",\"Názov_mosta\", \"S\"]]"
   ]
  },
  {
   "cell_type": "code",
   "execution_count": null,
   "metadata": {},
   "outputs": [],
   "source": []
  }
 ],
 "metadata": {
  "kernelspec": {
   "display_name": "Python 3",
   "language": "python",
   "name": "python3"
  },
  "language_info": {
   "codemirror_mode": {
    "name": "ipython",
    "version": 3
   },
   "file_extension": ".py",
   "mimetype": "text/x-python",
   "name": "python",
   "nbconvert_exporter": "python",
   "pygments_lexer": "ipython3",
   "version": "3.12.0"
  }
 },
 "nbformat": 4,
 "nbformat_minor": 2
}
