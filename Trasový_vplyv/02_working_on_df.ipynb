{
 "cells": [
  {
   "cell_type": "code",
   "execution_count": 147,
   "metadata": {},
   "outputs": [],
   "source": [
    "import feather\n",
    "# Load the DataFrame from the Feather file\n",
    "df_routes = feather.read_dataframe('data_with_responses.feather')"
   ]
  },
  {
   "cell_type": "code",
   "execution_count": 148,
   "metadata": {},
   "outputs": [],
   "source": [
    "import pandas as pd\n",
    "\n",
    "# Specify the path to your Excel file\n",
    "excel_file_path = r'C:\\Users\\Doktor\\Documents\\GitHub\\Bridges\\Data\\routes_selected_new.xlsx'\n",
    "survey_file_path = r'C:\\Users\\Doktor\\Documents\\GitHub\\Bridges\\Data\\surveys\\Survey.csv'\n",
    "bridges_path = r'C:\\Users\\Doktor\\Documents\\GitHub\\Bridges\\Data\\Bridges_processed.csv'\n",
    "# Load the Excel file into a DataFrame\n",
    "df = pd.read_excel(excel_file_path)\n",
    "df_survey = pd.read_csv(survey_file_path, encoding='utf-8', delimiter=',')\n",
    "df_bridges_all = pd.read_csv(bridges_path, encoding='utf-8', delimiter=',')"
   ]
  },
  {
   "cell_type": "code",
   "execution_count": 149,
   "metadata": {},
   "outputs": [],
   "source": [
    "# Merge the two DataFrames based on the 'ID_mosta' column\n",
    "df_routes = df_routes.merge(\n",
    "    df[['ID_mosta', 'ID_úseku']], on='ID_mosta', how='left')"
   ]
  },
  {
   "cell_type": "code",
   "execution_count": 150,
   "metadata": {},
   "outputs": [],
   "source": [
    "df_survey['ÚSEK'] = df_survey['ÚSEK'].astype(str)\n",
    "df_routes['ID_úseku'] = df_routes['ID_úseku'].astype(str).str.zfill(5)"
   ]
  },
  {
   "cell_type": "code",
   "execution_count": 151,
   "metadata": {},
   "outputs": [],
   "source": [
    "# Change the value of [\"ID_úseku\"] at index 75\n",
    "df_routes.at[75, 'ID_úseku'] = \"01030\"\n",
    "\n",
    "\n",
    "# Merge df_survey with df_routes based on 'ID_úseku' and 'CESTA'\n",
    "df_routes = df_routes.merge(\n",
    "    df_survey[['ÚSEK', 'T', 'O', 'M']], left_on='ID_úseku', right_on='ÚSEK', how='left')\n",
    "\n",
    "# Drop the 'CESTA' column from the merged DataFrame, as it's redundant\n",
    "df_routes.drop(columns=['ÚSEK'], inplace=True)"
   ]
  },
  {
   "cell_type": "code",
   "execution_count": 152,
   "metadata": {},
   "outputs": [],
   "source": [
    "# Specify the columns you want to add from df_bridges_all\n",
    "columns_to_add = ['Trieda_PK', 'Názov_mosta', 'Druh_konštrukcie', 'Material',\n",
    "                  'Predmet_premostenia', 'Rok_postavenia', 'Dĺžka_premostenia',\n",
    "                  'Volná_šírka_mosta', 'n_2012', 'n_2022', 'n_2023']\n",
    "\n",
    "# Merge df_routes with df_bridges_all based on 'ID_mosta'\n",
    "df_routes = df_routes.merge(df_bridges_all[columns_to_add + ['ID_mosta']],\n",
    "                            on='ID_mosta', how='left')"
   ]
  },
  {
   "cell_type": "code",
   "execution_count": 153,
   "metadata": {},
   "outputs": [
    {
     "data": {
      "text/plain": [
       "Index(['ID_mosta', 'Trieda_PK', 'Číslo_PK', 'Most_DC', 'Názov_mosta', 'ID_DC',\n",
       "       'správcovské_číslo', 'Zemepisná_dĺžka', 'Zemepisná_šírka', 'Výška',\n",
       "       'Druh_konštrukcie', 'Material', 'Normálna_zaťažiteľnosť',\n",
       "       'Výhradná_zaťažiteľnosť_t', 'Výnimočná_zaťažiteľnosť_t',\n",
       "       'Spôsob_stanovenia', 'Predmet_premostenia', 'Rok_postavenia',\n",
       "       'Zaťažovacia_trieda_STN', 'Počet_otvorov', 'Dĺžka_premostenia',\n",
       "       'Dĺžka_nosnej_konštrukcie_m', 'Volná_šírka_mosta',\n",
       "       'Šírka_medzi_obrubami_m', 'Plocha_mosnej_konštrukcie_m2',\n",
       "       'Plocha_mosta_m2', 'Vlastník_úseku', 'Správca_úseku', 'Okres',\n",
       "       'Smer_úseku', 'Typ_úseku', 'Počiatočný_uzol', 'Koncový_uzol', 'úsek_ID',\n",
       "       'úsekové_staničenie_začiatku_DC_m',\n",
       "       'Kilometrovníkové_staničenie_začiatku_DC_km',\n",
       "       'Kumulatívne_staničenie_začiatku_DC_km', 'Poradie', 'Kraj', 'n_2012',\n",
       "       'n_2013', 'n_2014', 'n_2015', 'n_2016', 'n_2017', 'n_2018', 'n_2019',\n",
       "       'n_2020', 'n_2021', 'n_2022', 'n_2023'],\n",
       "      dtype='object')"
      ]
     },
     "execution_count": 153,
     "metadata": {},
     "output_type": "execute_result"
    }
   ],
   "source": [
    "df_bridges_all.columns"
   ]
  },
  {
   "cell_type": "code",
   "execution_count": 154,
   "metadata": {},
   "outputs": [
    {
     "data": {
      "text/plain": [
       "Index(['ID_mosta', 'Okres', 'Custom_coor', 'br_lat', 'br_long', 'start_lat',\n",
       "       'start_long', 'end_lat', 'end_long', 'Hexagon_Coordinates', 'car_req_1',\n",
       "       'car_req_alt', 'car_resp_1', 'car_resp_alt', 'ID_úseku', 'T', 'O', 'M',\n",
       "       'Trieda_PK', 'Názov_mosta', 'Druh_konštrukcie', 'Material',\n",
       "       'Predmet_premostenia', 'Rok_postavenia', 'Dĺžka_premostenia',\n",
       "       'Volná_šírka_mosta', 'n_2012', 'n_2022', 'n_2023'],\n",
       "      dtype='object')"
      ]
     },
     "execution_count": 154,
     "metadata": {},
     "output_type": "execute_result"
    }
   ],
   "source": [
    "df_routes.columns"
   ]
  },
  {
   "cell_type": "code",
   "execution_count": 155,
   "metadata": {},
   "outputs": [
    {
     "data": {
      "text/plain": [
       "ID_mosta                                                           M4087\n",
       "Okres                                                           Bardejov\n",
       "Custom_coor                                                         None\n",
       "br_lat                                                          49.29704\n",
       "br_long                                                         21.25675\n",
       "start_lat                                                      49.295154\n",
       "start_long                                                     21.267516\n",
       "end_lat                                                        49.302671\n",
       "end_long                                                        21.23824\n",
       "Hexagon_Coordinates    [[21.257025498706447, 49.29704], [21.256887749...\n",
       "car_req_1              {\\n  \"points\": [\\n    [\\n      21.267516,\\n   ...\n",
       "car_req_alt            {\\n  \"points\": [\\n    [\\n      21.267516,\\n   ...\n",
       "car_resp_1             {'hints': {'visited_nodes.average': 170.0, 'vi...\n",
       "car_resp_alt           {'hints': {'visited_nodes.average': 444.0, 'vi...\n",
       "ID_úseku                                                           01030\n",
       "T                                                                    945\n",
       "O                                                                   6508\n",
       "M                                                                     37\n",
       "Trieda_PK                                               miestna neurčená\n",
       "Názov_mosta                 77-049 Most cez rieku Topľa v meste Bardejov\n",
       "Druh_konštrukcie                                                 dosková\n",
       "Material                                         monolitický železobetón\n",
       "Predmet_premostenia                                            Vodný tok\n",
       "Rok_postavenia                                                      1951\n",
       "Dĺžka_premostenia                                                  69.45\n",
       "Volná_šírka_mosta                                                   10.5\n",
       "n_2012                                                                 5\n",
       "n_2022                                                                 0\n",
       "n_2023                                                                 5\n",
       "Name: 75, dtype: object"
      ]
     },
     "execution_count": 155,
     "metadata": {},
     "output_type": "execute_result"
    }
   ],
   "source": [
    "df_routes.iloc[75]"
   ]
  },
  {
   "cell_type": "code",
   "execution_count": 156,
   "metadata": {},
   "outputs": [],
   "source": [
    "def calculate_car_time_1(row):\n",
    "    if row is not None:\n",
    "        return row['paths'][0]['time'] / 1000 / 60\n",
    "    else:\n",
    "        return None\n",
    "\n",
    "\n",
    "def calculate_car_time_alt(row):\n",
    "    if row is not None:\n",
    "        return row['paths'][0]['time'] / 1000 / 60\n",
    "    else:\n",
    "        return None\n",
    "\n",
    "\n",
    "def calculate_car_dist_1(row):\n",
    "    if row is not None:\n",
    "        return row['paths'][0]['distance'] / 1000\n",
    "    else:\n",
    "        return None\n",
    "\n",
    "\n",
    "def calculate_car_dist_alt(row):\n",
    "    if row is not None:\n",
    "        return row['paths'][0]['distance'] / 1000\n",
    "    else:\n",
    "        return None\n",
    "\n",
    "\n",
    "# Calculate and store car_time_1, car_time_alt, car_dist_1, and car_dist_alt\n",
    "df_routes['car_time_1'] = df_routes['car_resp_1'].apply(calculate_car_time_1)\n",
    "df_routes['car_time_alt'] = df_routes['car_resp_alt'].apply(\n",
    "    calculate_car_time_alt)\n",
    "df_routes['car_dist_1'] = df_routes['car_resp_1'].apply(calculate_car_dist_1)\n",
    "df_routes['car_dist_alt'] = df_routes['car_resp_alt'].apply(\n",
    "    calculate_car_dist_alt)"
   ]
  },
  {
   "cell_type": "code",
   "execution_count": 157,
   "metadata": {},
   "outputs": [],
   "source": [
    "df_routes['time_diff'] = df_routes['car_time_alt'] - df_routes['car_time_1']\n",
    "df_routes['dist_diff'] = df_routes['car_dist_alt'] - df_routes['car_dist_1']"
   ]
  },
  {
   "cell_type": "code",
   "execution_count": 158,
   "metadata": {},
   "outputs": [
    {
     "data": {
      "text/html": [
       "<div>\n",
       "<style scoped>\n",
       "    .dataframe tbody tr th:only-of-type {\n",
       "        vertical-align: middle;\n",
       "    }\n",
       "\n",
       "    .dataframe tbody tr th {\n",
       "        vertical-align: top;\n",
       "    }\n",
       "\n",
       "    .dataframe thead th {\n",
       "        text-align: right;\n",
       "    }\n",
       "</style>\n",
       "<table border=\"1\" class=\"dataframe\">\n",
       "  <thead>\n",
       "    <tr style=\"text-align: right;\">\n",
       "      <th></th>\n",
       "      <th>ID_mosta</th>\n",
       "      <th>Okres</th>\n",
       "      <th>Custom_coor</th>\n",
       "      <th>br_lat</th>\n",
       "      <th>br_long</th>\n",
       "      <th>start_lat</th>\n",
       "      <th>start_long</th>\n",
       "      <th>end_lat</th>\n",
       "      <th>end_long</th>\n",
       "      <th>Hexagon_Coordinates</th>\n",
       "      <th>...</th>\n",
       "      <th>Volná_šírka_mosta</th>\n",
       "      <th>n_2012</th>\n",
       "      <th>n_2022</th>\n",
       "      <th>n_2023</th>\n",
       "      <th>car_time_1</th>\n",
       "      <th>car_time_alt</th>\n",
       "      <th>car_dist_1</th>\n",
       "      <th>car_dist_alt</th>\n",
       "      <th>time_diff</th>\n",
       "      <th>dist_diff</th>\n",
       "    </tr>\n",
       "  </thead>\n",
       "  <tbody>\n",
       "    <tr>\n",
       "      <th>111</th>\n",
       "      <td>M5316</td>\n",
       "      <td>Medzilaborce</td>\n",
       "      <td>None</td>\n",
       "      <td>49.283098</td>\n",
       "      <td>21.955800</td>\n",
       "      <td>49.269547</td>\n",
       "      <td>21.992666</td>\n",
       "      <td>49.271736</td>\n",
       "      <td>21.902402</td>\n",
       "      <td>[[21.956075504805312, 49.283097923], [21.95593...</td>\n",
       "      <td>...</td>\n",
       "      <td>8.6</td>\n",
       "      <td>4</td>\n",
       "      <td>6</td>\n",
       "      <td>6</td>\n",
       "      <td>10.419700</td>\n",
       "      <td>91.818450</td>\n",
       "      <td>8.387578</td>\n",
       "      <td>93.369178</td>\n",
       "      <td>81.398750</td>\n",
       "      <td>84.981600</td>\n",
       "    </tr>\n",
       "    <tr>\n",
       "      <th>99</th>\n",
       "      <td>M3386</td>\n",
       "      <td>Gelnica</td>\n",
       "      <td>None</td>\n",
       "      <td>48.878809</td>\n",
       "      <td>20.997179</td>\n",
       "      <td>48.853712</td>\n",
       "      <td>20.940274</td>\n",
       "      <td>48.892571</td>\n",
       "      <td>21.013551</td>\n",
       "      <td>[[20.997451776847683, 48.878808695], [20.99731...</td>\n",
       "      <td>...</td>\n",
       "      <td>11.2</td>\n",
       "      <td>3</td>\n",
       "      <td>6</td>\n",
       "      <td>6</td>\n",
       "      <td>10.313933</td>\n",
       "      <td>84.142200</td>\n",
       "      <td>7.918419</td>\n",
       "      <td>34.557649</td>\n",
       "      <td>73.828267</td>\n",
       "      <td>26.639230</td>\n",
       "    </tr>\n",
       "    <tr>\n",
       "      <th>67</th>\n",
       "      <td>M4240</td>\n",
       "      <td>Humenné</td>\n",
       "      <td>None</td>\n",
       "      <td>48.928456</td>\n",
       "      <td>21.912401</td>\n",
       "      <td>48.931729</td>\n",
       "      <td>21.957430</td>\n",
       "      <td>48.930384</td>\n",
       "      <td>21.874145</td>\n",
       "      <td>[[21.91267470937467, 48.928456086], [21.912537...</td>\n",
       "      <td>...</td>\n",
       "      <td>16.0</td>\n",
       "      <td>3</td>\n",
       "      <td>5</td>\n",
       "      <td>6</td>\n",
       "      <td>8.612083</td>\n",
       "      <td>64.007533</td>\n",
       "      <td>7.022536</td>\n",
       "      <td>51.156541</td>\n",
       "      <td>55.395450</td>\n",
       "      <td>44.134005</td>\n",
       "    </tr>\n",
       "    <tr>\n",
       "      <th>62</th>\n",
       "      <td>M1195</td>\n",
       "      <td>Rimavská Sobota</td>\n",
       "      <td>None</td>\n",
       "      <td>48.661440</td>\n",
       "      <td>19.941654</td>\n",
       "      <td>48.683924</td>\n",
       "      <td>19.941162</td>\n",
       "      <td>48.571793</td>\n",
       "      <td>19.954388</td>\n",
       "      <td>[[19.941926411751933, 48.661439887], [19.94179...</td>\n",
       "      <td>...</td>\n",
       "      <td>9.5</td>\n",
       "      <td>3</td>\n",
       "      <td>3</td>\n",
       "      <td>5</td>\n",
       "      <td>13.449267</td>\n",
       "      <td>63.777967</td>\n",
       "      <td>13.007548</td>\n",
       "      <td>64.137117</td>\n",
       "      <td>50.328700</td>\n",
       "      <td>51.129569</td>\n",
       "    </tr>\n",
       "    <tr>\n",
       "      <th>58</th>\n",
       "      <td>M6289</td>\n",
       "      <td>Stará Ľubovňa</td>\n",
       "      <td>None</td>\n",
       "      <td>49.306690</td>\n",
       "      <td>20.686370</td>\n",
       "      <td>49.302170</td>\n",
       "      <td>20.687249</td>\n",
       "      <td>49.302824</td>\n",
       "      <td>20.641968</td>\n",
       "      <td>[[20.686645552661037, 49.30669], [20.686507776...</td>\n",
       "      <td>...</td>\n",
       "      <td>10.25</td>\n",
       "      <td>2</td>\n",
       "      <td>5</td>\n",
       "      <td>5</td>\n",
       "      <td>5.187250</td>\n",
       "      <td>53.424200</td>\n",
       "      <td>4.113475</td>\n",
       "      <td>51.394764</td>\n",
       "      <td>48.236950</td>\n",
       "      <td>47.281289</td>\n",
       "    </tr>\n",
       "    <tr>\n",
       "      <th>...</th>\n",
       "      <td>...</td>\n",
       "      <td>...</td>\n",
       "      <td>...</td>\n",
       "      <td>...</td>\n",
       "      <td>...</td>\n",
       "      <td>...</td>\n",
       "      <td>...</td>\n",
       "      <td>...</td>\n",
       "      <td>...</td>\n",
       "      <td>...</td>\n",
       "      <td>...</td>\n",
       "      <td>...</td>\n",
       "      <td>...</td>\n",
       "      <td>...</td>\n",
       "      <td>...</td>\n",
       "      <td>...</td>\n",
       "      <td>...</td>\n",
       "      <td>...</td>\n",
       "      <td>...</td>\n",
       "      <td>...</td>\n",
       "      <td>...</td>\n",
       "    </tr>\n",
       "    <tr>\n",
       "      <th>20</th>\n",
       "      <td>M5723</td>\n",
       "      <td>Detva</td>\n",
       "      <td>None</td>\n",
       "      <td>48.545846</td>\n",
       "      <td>19.334897</td>\n",
       "      <td>48.544268</td>\n",
       "      <td>19.399982</td>\n",
       "      <td>48.549308</td>\n",
       "      <td>19.304028</td>\n",
       "      <td>[[19.335168411920563, 48.545845803], [19.33503...</td>\n",
       "      <td>...</td>\n",
       "      <td>11.0</td>\n",
       "      <td>4</td>\n",
       "      <td>6</td>\n",
       "      <td>6</td>\n",
       "      <td>6.485667</td>\n",
       "      <td>6.379583</td>\n",
       "      <td>7.346073</td>\n",
       "      <td>8.607793</td>\n",
       "      <td>-0.106083</td>\n",
       "      <td>1.261720</td>\n",
       "    </tr>\n",
       "    <tr>\n",
       "      <th>138</th>\n",
       "      <td>M6054</td>\n",
       "      <td>Hlohovec</td>\n",
       "      <td>None</td>\n",
       "      <td>48.366082</td>\n",
       "      <td>17.736201</td>\n",
       "      <td>48.284953</td>\n",
       "      <td>17.733761</td>\n",
       "      <td>48.435454</td>\n",
       "      <td>17.768358</td>\n",
       "      <td>[[17.73647135769861, 48.366081596], [17.736336...</td>\n",
       "      <td>...</td>\n",
       "      <td>10.0</td>\n",
       "      <td>5</td>\n",
       "      <td>6</td>\n",
       "      <td>6</td>\n",
       "      <td>23.404483</td>\n",
       "      <td>22.060483</td>\n",
       "      <td>18.355872</td>\n",
       "      <td>33.845871</td>\n",
       "      <td>-1.344000</td>\n",
       "      <td>15.489999</td>\n",
       "    </tr>\n",
       "    <tr>\n",
       "      <th>94</th>\n",
       "      <td>M7088</td>\n",
       "      <td>Spišská Nová Ves</td>\n",
       "      <td>None</td>\n",
       "      <td>48.916991</td>\n",
       "      <td>20.582879</td>\n",
       "      <td>48.909656</td>\n",
       "      <td>20.584604</td>\n",
       "      <td>48.941746</td>\n",
       "      <td>20.576181</td>\n",
       "      <td>[[20.583152396604714, 48.916991], [20.58301569...</td>\n",
       "      <td>...</td>\n",
       "      <td>5.0</td>\n",
       "      <td>4</td>\n",
       "      <td>5</td>\n",
       "      <td>6</td>\n",
       "      <td>8.140600</td>\n",
       "      <td>NaN</td>\n",
       "      <td>5.181574</td>\n",
       "      <td>NaN</td>\n",
       "      <td>NaN</td>\n",
       "      <td>NaN</td>\n",
       "    </tr>\n",
       "    <tr>\n",
       "      <th>107</th>\n",
       "      <td>M3011</td>\n",
       "      <td>Bratislava I</td>\n",
       "      <td>None</td>\n",
       "      <td>48.162426</td>\n",
       "      <td>17.097242</td>\n",
       "      <td>48.168682</td>\n",
       "      <td>17.076438</td>\n",
       "      <td>48.159364</td>\n",
       "      <td>17.104073</td>\n",
       "      <td>[[17.097511269343144, 48.162426001], [17.09737...</td>\n",
       "      <td>...</td>\n",
       "      <td>12.75</td>\n",
       "      <td>4</td>\n",
       "      <td>5</td>\n",
       "      <td>5</td>\n",
       "      <td>3.126500</td>\n",
       "      <td>NaN</td>\n",
       "      <td>2.373473</td>\n",
       "      <td>NaN</td>\n",
       "      <td>NaN</td>\n",
       "      <td>NaN</td>\n",
       "    </tr>\n",
       "    <tr>\n",
       "      <th>114</th>\n",
       "      <td>M5686</td>\n",
       "      <td>Liptovský Mikuláš</td>\n",
       "      <td>None</td>\n",
       "      <td>48.989582</td>\n",
       "      <td>19.589652</td>\n",
       "      <td>48.968615</td>\n",
       "      <td>19.580533</td>\n",
       "      <td>49.083663</td>\n",
       "      <td>19.606877</td>\n",
       "      <td>[[19.589925611704977, 48.989582193], [19.58978...</td>\n",
       "      <td>...</td>\n",
       "      <td>6.9</td>\n",
       "      <td>3</td>\n",
       "      <td>5</td>\n",
       "      <td>5</td>\n",
       "      <td>23.465883</td>\n",
       "      <td>NaN</td>\n",
       "      <td>15.845723</td>\n",
       "      <td>NaN</td>\n",
       "      <td>NaN</td>\n",
       "      <td>NaN</td>\n",
       "    </tr>\n",
       "  </tbody>\n",
       "</table>\n",
       "<p>148 rows × 35 columns</p>\n",
       "</div>"
      ],
      "text/plain": [
       "    ID_mosta              Okres Custom_coor     br_lat    br_long  start_lat  \\\n",
       "111    M5316       Medzilaborce        None  49.283098  21.955800  49.269547   \n",
       "99     M3386            Gelnica        None  48.878809  20.997179  48.853712   \n",
       "67     M4240            Humenné        None  48.928456  21.912401  48.931729   \n",
       "62     M1195    Rimavská Sobota        None  48.661440  19.941654  48.683924   \n",
       "58     M6289      Stará Ľubovňa        None  49.306690  20.686370  49.302170   \n",
       "..       ...                ...         ...        ...        ...        ...   \n",
       "20     M5723              Detva        None  48.545846  19.334897  48.544268   \n",
       "138    M6054           Hlohovec        None  48.366082  17.736201  48.284953   \n",
       "94     M7088   Spišská Nová Ves        None  48.916991  20.582879  48.909656   \n",
       "107    M3011       Bratislava I        None  48.162426  17.097242  48.168682   \n",
       "114    M5686  Liptovský Mikuláš        None  48.989582  19.589652  48.968615   \n",
       "\n",
       "     start_long    end_lat   end_long  \\\n",
       "111   21.992666  49.271736  21.902402   \n",
       "99    20.940274  48.892571  21.013551   \n",
       "67    21.957430  48.930384  21.874145   \n",
       "62    19.941162  48.571793  19.954388   \n",
       "58    20.687249  49.302824  20.641968   \n",
       "..          ...        ...        ...   \n",
       "20    19.399982  48.549308  19.304028   \n",
       "138   17.733761  48.435454  17.768358   \n",
       "94    20.584604  48.941746  20.576181   \n",
       "107   17.076438  48.159364  17.104073   \n",
       "114   19.580533  49.083663  19.606877   \n",
       "\n",
       "                                   Hexagon_Coordinates  ... Volná_šírka_mosta  \\\n",
       "111  [[21.956075504805312, 49.283097923], [21.95593...  ...               8.6   \n",
       "99   [[20.997451776847683, 48.878808695], [20.99731...  ...              11.2   \n",
       "67   [[21.91267470937467, 48.928456086], [21.912537...  ...              16.0   \n",
       "62   [[19.941926411751933, 48.661439887], [19.94179...  ...               9.5   \n",
       "58   [[20.686645552661037, 49.30669], [20.686507776...  ...             10.25   \n",
       "..                                                 ...  ...               ...   \n",
       "20   [[19.335168411920563, 48.545845803], [19.33503...  ...              11.0   \n",
       "138  [[17.73647135769861, 48.366081596], [17.736336...  ...              10.0   \n",
       "94   [[20.583152396604714, 48.916991], [20.58301569...  ...               5.0   \n",
       "107  [[17.097511269343144, 48.162426001], [17.09737...  ...             12.75   \n",
       "114  [[19.589925611704977, 48.989582193], [19.58978...  ...               6.9   \n",
       "\n",
       "    n_2012 n_2022 n_2023 car_time_1  car_time_alt  car_dist_1  car_dist_alt  \\\n",
       "111      4      6      6  10.419700     91.818450    8.387578     93.369178   \n",
       "99       3      6      6  10.313933     84.142200    7.918419     34.557649   \n",
       "67       3      5      6   8.612083     64.007533    7.022536     51.156541   \n",
       "62       3      3      5  13.449267     63.777967   13.007548     64.137117   \n",
       "58       2      5      5   5.187250     53.424200    4.113475     51.394764   \n",
       "..     ...    ...    ...        ...           ...         ...           ...   \n",
       "20       4      6      6   6.485667      6.379583    7.346073      8.607793   \n",
       "138      5      6      6  23.404483     22.060483   18.355872     33.845871   \n",
       "94       4      5      6   8.140600           NaN    5.181574           NaN   \n",
       "107      4      5      5   3.126500           NaN    2.373473           NaN   \n",
       "114      3      5      5  23.465883           NaN   15.845723           NaN   \n",
       "\n",
       "     time_diff  dist_diff  \n",
       "111  81.398750  84.981600  \n",
       "99   73.828267  26.639230  \n",
       "67   55.395450  44.134005  \n",
       "62   50.328700  51.129569  \n",
       "58   48.236950  47.281289  \n",
       "..         ...        ...  \n",
       "20   -0.106083   1.261720  \n",
       "138  -1.344000  15.489999  \n",
       "94         NaN        NaN  \n",
       "107        NaN        NaN  \n",
       "114        NaN        NaN  \n",
       "\n",
       "[148 rows x 35 columns]"
      ]
     },
     "execution_count": 158,
     "metadata": {},
     "output_type": "execute_result"
    }
   ],
   "source": [
    "df_routes_time = df_routes.sort_values(by='time_diff', ascending=False)\n",
    "df_routes_time"
   ]
  },
  {
   "cell_type": "code",
   "execution_count": 159,
   "metadata": {},
   "outputs": [],
   "source": [
    "import feather\n",
    "\n",
    "# Save your DataFrame to a Feather file\n",
    "feather.write_dataframe(df_routes, 'data_with_times.feather')"
   ]
  },
  {
   "cell_type": "code",
   "execution_count": 226,
   "metadata": {},
   "outputs": [
    {
     "data": {
      "text/plain": [
       "Index(['ID_mosta', 'Okres', 'Custom_coor', 'br_lat', 'br_long', 'start_lat',\n",
       "       'start_long', 'end_lat', 'end_long', 'Hexagon_Coordinates', 'car_req_1',\n",
       "       'car_req_alt', 'car_resp_1', 'car_resp_alt', 'ID_úseku', 'T', 'O', 'M',\n",
       "       'Trieda_PK', 'Názov_mosta', 'Druh_konštrukcie', 'Material',\n",
       "       'Predmet_premostenia', 'Rok_postavenia', 'Dĺžka_premostenia',\n",
       "       'Volná_šírka_mosta', 'n_2012', 'n_2022', 'n_2023', 'car_time_1',\n",
       "       'car_time_alt', 'car_dist_1', 'car_dist_alt', 'time_diff', 'dist_diff'],\n",
       "      dtype='object')"
      ]
     },
     "execution_count": 226,
     "metadata": {},
     "output_type": "execute_result"
    }
   ],
   "source": [
    "df_routes.columns"
   ]
  },
  {
   "cell_type": "code",
   "execution_count": 193,
   "metadata": {},
   "outputs": [
    {
     "data": {
      "text/plain": [
       "67     55.395450\n",
       "58     48.236950\n",
       "40     44.909517\n",
       "87     35.436183\n",
       "29     33.616000\n",
       "         ...    \n",
       "20     -0.106083\n",
       "138    -1.344000\n",
       "94           NaN\n",
       "107          NaN\n",
       "114          NaN\n",
       "Name: time_diff, Length: 148, dtype: float64"
      ]
     },
     "execution_count": 193,
     "metadata": {},
     "output_type": "execute_result"
    }
   ],
   "source": [
    "df_routes_time[\"time_diff\"]"
   ]
  },
  {
   "cell_type": "code",
   "execution_count": 199,
   "metadata": {},
   "outputs": [
    {
     "data": {
      "application/vnd.plotly.v1+json": {
       "config": {
        "plotlyServerURL": "https://plot.ly"
       },
       "data": [
        {
         "alignmentgroup": "True",
         "hovertemplate": "index=%{x}<br>time_diff=%{y}<extra></extra>",
         "legendgroup": "",
         "marker": {
          "color": "#636efa",
          "pattern": {
           "shape": ""
          }
         },
         "name": "",
         "offsetgroup": "",
         "orientation": "v",
         "showlegend": false,
         "textposition": "auto",
         "type": "bar",
         "x": [
          138,
          20,
          125,
          47,
          90,
          15,
          126,
          146,
          2,
          106,
          7,
          75,
          104,
          98,
          86,
          63,
          78,
          77,
          38,
          71,
          60,
          117,
          76,
          32,
          42,
          8,
          113,
          143,
          31,
          120,
          95,
          3,
          6,
          4,
          16,
          74,
          11,
          54,
          93,
          69,
          18,
          19,
          92,
          130,
          115,
          14,
          9,
          133,
          44,
          84,
          22,
          10,
          17,
          48,
          97,
          57,
          127,
          124,
          73,
          49,
          128,
          119,
          108,
          46,
          34,
          137,
          1,
          51,
          82,
          35,
          110,
          129,
          80,
          89,
          105,
          144,
          101,
          91,
          147,
          109,
          43,
          134,
          0,
          5,
          37,
          132,
          135,
          141,
          96,
          140,
          145,
          79,
          26,
          118,
          123,
          68,
          65,
          112,
          72,
          136,
          81,
          139,
          59,
          12,
          36,
          25,
          21,
          83,
          41,
          23,
          52,
          61,
          45,
          88,
          33,
          102,
          24,
          131,
          28,
          13,
          53,
          116,
          39,
          50,
          27,
          85,
          56,
          70,
          142,
          66,
          122,
          121,
          64,
          100,
          55,
          30,
          29,
          87,
          103,
          40,
          58,
          62,
          67,
          99,
          111,
          94,
          107,
          114
         ],
         "xaxis": "x",
         "y": [
          -1.3440000000000047,
          -0.10608333333333331,
          0,
          0,
          0,
          0.36331666666666695,
          0.437383333333333,
          0.48038333333333405,
          0.6109499999999999,
          0.6837666666666671,
          0.7598666666666674,
          0.7760499999999997,
          0.85215,
          0.9130333333333329,
          0.9272166666666664,
          0.9459999999999997,
          0.9717833333333328,
          1.3928499999999993,
          1.4912333333333336,
          1.5893333333333342,
          1.5901999999999998,
          1.609333333333332,
          1.7572833333333335,
          1.7901166666666666,
          1.8355999999999995,
          1.8983999999999996,
          1.9877666666666656,
          2.08005,
          2.0907999999999998,
          2.095233333333333,
          2.156466666666665,
          2.2664833333333325,
          2.3103833333333323,
          2.3211166666666667,
          2.3349166666666656,
          2.3498000000000006,
          2.4190499999999995,
          2.471233333333333,
          2.5723833333333337,
          2.6761333333333326,
          2.7429333333333323,
          3.11815,
          3.1207666666666665,
          3.2283999999999997,
          3.274749999999994,
          3.2782666666666667,
          3.3528,
          3.4345333333333343,
          3.54945,
          3.5906999999999982,
          3.7167666666666674,
          3.809283333333334,
          4.185416666666667,
          4.287783333333332,
          4.523816666666669,
          4.59945,
          4.768199999999998,
          4.775266666666667,
          4.852266666666667,
          5.065016666666667,
          5.178950000000004,
          5.307600000000001,
          5.4168,
          5.433216666666666,
          5.44265,
          5.511066666666667,
          5.582533333333333,
          5.786716666666665,
          5.8066833333333285,
          5.86275,
          6.0017666666666685,
          6.034800000000001,
          6.581149999999997,
          6.679766666666666,
          6.7060166666666685,
          6.898600000000005,
          7.208133333333334,
          7.287183333333331,
          7.3099,
          7.320600000000001,
          7.326883333333334,
          7.507516666666664,
          7.515433333333332,
          7.586849999999999,
          7.8039000000000005,
          8.096883333333334,
          8.130066666666666,
          8.631233333333332,
          8.73075,
          8.746266666666667,
          8.790766666666663,
          8.839233333333334,
          8.85445,
          9.315683333333334,
          9.765566666666668,
          9.837616666666666,
          9.844983333333335,
          9.861083333333333,
          9.937916666666666,
          10.277183333333333,
          10.37285,
          10.387666666666668,
          10.445633333333333,
          10.45665,
          10.487366666666667,
          10.666566666666666,
          10.719999999999999,
          10.74195,
          10.995583333333332,
          11.0316,
          11.113816666666665,
          11.199516666666668,
          11.630116666666668,
          12.050216666666667,
          12.219316666666668,
          13.106949999999998,
          13.358583333333334,
          13.370449999999995,
          14.771966666666664,
          14.998616666666667,
          15.058250000000001,
          15.389133333333334,
          15.720633333333332,
          16.49781666666667,
          16.787716666666668,
          16.88985,
          16.951366666666665,
          17.663316666666667,
          20.48901666666667,
          20.563916666666668,
          23.610516666666662,
          23.611250000000002,
          24.730666666666668,
          25.308366666666668,
          27.98828333333333,
          30.734933333333338,
          33.616,
          35.43618333333333,
          37.50553333333333,
          44.90951666666666,
          48.23695000000001,
          50.3287,
          55.39545000000001,
          73.82826666666666,
          81.39874999999999,
          null,
          null,
          null
         ],
         "yaxis": "y"
        }
       ],
       "layout": {
        "barmode": "relative",
        "height": 600,
        "legend": {
         "tracegroupgap": 0
        },
        "template": {
         "data": {
          "bar": [
           {
            "error_x": {
             "color": "#2a3f5f"
            },
            "error_y": {
             "color": "#2a3f5f"
            },
            "marker": {
             "line": {
              "color": "#E5ECF6",
              "width": 0.5
             },
             "pattern": {
              "fillmode": "overlay",
              "size": 10,
              "solidity": 0.2
             }
            },
            "type": "bar"
           }
          ],
          "barpolar": [
           {
            "marker": {
             "line": {
              "color": "#E5ECF6",
              "width": 0.5
             },
             "pattern": {
              "fillmode": "overlay",
              "size": 10,
              "solidity": 0.2
             }
            },
            "type": "barpolar"
           }
          ],
          "carpet": [
           {
            "aaxis": {
             "endlinecolor": "#2a3f5f",
             "gridcolor": "white",
             "linecolor": "white",
             "minorgridcolor": "white",
             "startlinecolor": "#2a3f5f"
            },
            "baxis": {
             "endlinecolor": "#2a3f5f",
             "gridcolor": "white",
             "linecolor": "white",
             "minorgridcolor": "white",
             "startlinecolor": "#2a3f5f"
            },
            "type": "carpet"
           }
          ],
          "choropleth": [
           {
            "colorbar": {
             "outlinewidth": 0,
             "ticks": ""
            },
            "type": "choropleth"
           }
          ],
          "contour": [
           {
            "colorbar": {
             "outlinewidth": 0,
             "ticks": ""
            },
            "colorscale": [
             [
              0,
              "#0d0887"
             ],
             [
              0.1111111111111111,
              "#46039f"
             ],
             [
              0.2222222222222222,
              "#7201a8"
             ],
             [
              0.3333333333333333,
              "#9c179e"
             ],
             [
              0.4444444444444444,
              "#bd3786"
             ],
             [
              0.5555555555555556,
              "#d8576b"
             ],
             [
              0.6666666666666666,
              "#ed7953"
             ],
             [
              0.7777777777777778,
              "#fb9f3a"
             ],
             [
              0.8888888888888888,
              "#fdca26"
             ],
             [
              1,
              "#f0f921"
             ]
            ],
            "type": "contour"
           }
          ],
          "contourcarpet": [
           {
            "colorbar": {
             "outlinewidth": 0,
             "ticks": ""
            },
            "type": "contourcarpet"
           }
          ],
          "heatmap": [
           {
            "colorbar": {
             "outlinewidth": 0,
             "ticks": ""
            },
            "colorscale": [
             [
              0,
              "#0d0887"
             ],
             [
              0.1111111111111111,
              "#46039f"
             ],
             [
              0.2222222222222222,
              "#7201a8"
             ],
             [
              0.3333333333333333,
              "#9c179e"
             ],
             [
              0.4444444444444444,
              "#bd3786"
             ],
             [
              0.5555555555555556,
              "#d8576b"
             ],
             [
              0.6666666666666666,
              "#ed7953"
             ],
             [
              0.7777777777777778,
              "#fb9f3a"
             ],
             [
              0.8888888888888888,
              "#fdca26"
             ],
             [
              1,
              "#f0f921"
             ]
            ],
            "type": "heatmap"
           }
          ],
          "heatmapgl": [
           {
            "colorbar": {
             "outlinewidth": 0,
             "ticks": ""
            },
            "colorscale": [
             [
              0,
              "#0d0887"
             ],
             [
              0.1111111111111111,
              "#46039f"
             ],
             [
              0.2222222222222222,
              "#7201a8"
             ],
             [
              0.3333333333333333,
              "#9c179e"
             ],
             [
              0.4444444444444444,
              "#bd3786"
             ],
             [
              0.5555555555555556,
              "#d8576b"
             ],
             [
              0.6666666666666666,
              "#ed7953"
             ],
             [
              0.7777777777777778,
              "#fb9f3a"
             ],
             [
              0.8888888888888888,
              "#fdca26"
             ],
             [
              1,
              "#f0f921"
             ]
            ],
            "type": "heatmapgl"
           }
          ],
          "histogram": [
           {
            "marker": {
             "pattern": {
              "fillmode": "overlay",
              "size": 10,
              "solidity": 0.2
             }
            },
            "type": "histogram"
           }
          ],
          "histogram2d": [
           {
            "colorbar": {
             "outlinewidth": 0,
             "ticks": ""
            },
            "colorscale": [
             [
              0,
              "#0d0887"
             ],
             [
              0.1111111111111111,
              "#46039f"
             ],
             [
              0.2222222222222222,
              "#7201a8"
             ],
             [
              0.3333333333333333,
              "#9c179e"
             ],
             [
              0.4444444444444444,
              "#bd3786"
             ],
             [
              0.5555555555555556,
              "#d8576b"
             ],
             [
              0.6666666666666666,
              "#ed7953"
             ],
             [
              0.7777777777777778,
              "#fb9f3a"
             ],
             [
              0.8888888888888888,
              "#fdca26"
             ],
             [
              1,
              "#f0f921"
             ]
            ],
            "type": "histogram2d"
           }
          ],
          "histogram2dcontour": [
           {
            "colorbar": {
             "outlinewidth": 0,
             "ticks": ""
            },
            "colorscale": [
             [
              0,
              "#0d0887"
             ],
             [
              0.1111111111111111,
              "#46039f"
             ],
             [
              0.2222222222222222,
              "#7201a8"
             ],
             [
              0.3333333333333333,
              "#9c179e"
             ],
             [
              0.4444444444444444,
              "#bd3786"
             ],
             [
              0.5555555555555556,
              "#d8576b"
             ],
             [
              0.6666666666666666,
              "#ed7953"
             ],
             [
              0.7777777777777778,
              "#fb9f3a"
             ],
             [
              0.8888888888888888,
              "#fdca26"
             ],
             [
              1,
              "#f0f921"
             ]
            ],
            "type": "histogram2dcontour"
           }
          ],
          "mesh3d": [
           {
            "colorbar": {
             "outlinewidth": 0,
             "ticks": ""
            },
            "type": "mesh3d"
           }
          ],
          "parcoords": [
           {
            "line": {
             "colorbar": {
              "outlinewidth": 0,
              "ticks": ""
             }
            },
            "type": "parcoords"
           }
          ],
          "pie": [
           {
            "automargin": true,
            "type": "pie"
           }
          ],
          "scatter": [
           {
            "fillpattern": {
             "fillmode": "overlay",
             "size": 10,
             "solidity": 0.2
            },
            "type": "scatter"
           }
          ],
          "scatter3d": [
           {
            "line": {
             "colorbar": {
              "outlinewidth": 0,
              "ticks": ""
             }
            },
            "marker": {
             "colorbar": {
              "outlinewidth": 0,
              "ticks": ""
             }
            },
            "type": "scatter3d"
           }
          ],
          "scattercarpet": [
           {
            "marker": {
             "colorbar": {
              "outlinewidth": 0,
              "ticks": ""
             }
            },
            "type": "scattercarpet"
           }
          ],
          "scattergeo": [
           {
            "marker": {
             "colorbar": {
              "outlinewidth": 0,
              "ticks": ""
             }
            },
            "type": "scattergeo"
           }
          ],
          "scattergl": [
           {
            "marker": {
             "colorbar": {
              "outlinewidth": 0,
              "ticks": ""
             }
            },
            "type": "scattergl"
           }
          ],
          "scattermapbox": [
           {
            "marker": {
             "colorbar": {
              "outlinewidth": 0,
              "ticks": ""
             }
            },
            "type": "scattermapbox"
           }
          ],
          "scatterpolar": [
           {
            "marker": {
             "colorbar": {
              "outlinewidth": 0,
              "ticks": ""
             }
            },
            "type": "scatterpolar"
           }
          ],
          "scatterpolargl": [
           {
            "marker": {
             "colorbar": {
              "outlinewidth": 0,
              "ticks": ""
             }
            },
            "type": "scatterpolargl"
           }
          ],
          "scatterternary": [
           {
            "marker": {
             "colorbar": {
              "outlinewidth": 0,
              "ticks": ""
             }
            },
            "type": "scatterternary"
           }
          ],
          "surface": [
           {
            "colorbar": {
             "outlinewidth": 0,
             "ticks": ""
            },
            "colorscale": [
             [
              0,
              "#0d0887"
             ],
             [
              0.1111111111111111,
              "#46039f"
             ],
             [
              0.2222222222222222,
              "#7201a8"
             ],
             [
              0.3333333333333333,
              "#9c179e"
             ],
             [
              0.4444444444444444,
              "#bd3786"
             ],
             [
              0.5555555555555556,
              "#d8576b"
             ],
             [
              0.6666666666666666,
              "#ed7953"
             ],
             [
              0.7777777777777778,
              "#fb9f3a"
             ],
             [
              0.8888888888888888,
              "#fdca26"
             ],
             [
              1,
              "#f0f921"
             ]
            ],
            "type": "surface"
           }
          ],
          "table": [
           {
            "cells": {
             "fill": {
              "color": "#EBF0F8"
             },
             "line": {
              "color": "white"
             }
            },
            "header": {
             "fill": {
              "color": "#C8D4E3"
             },
             "line": {
              "color": "white"
             }
            },
            "type": "table"
           }
          ]
         },
         "layout": {
          "annotationdefaults": {
           "arrowcolor": "#2a3f5f",
           "arrowhead": 0,
           "arrowwidth": 1
          },
          "autotypenumbers": "strict",
          "coloraxis": {
           "colorbar": {
            "outlinewidth": 0,
            "ticks": ""
           }
          },
          "colorscale": {
           "diverging": [
            [
             0,
             "#8e0152"
            ],
            [
             0.1,
             "#c51b7d"
            ],
            [
             0.2,
             "#de77ae"
            ],
            [
             0.3,
             "#f1b6da"
            ],
            [
             0.4,
             "#fde0ef"
            ],
            [
             0.5,
             "#f7f7f7"
            ],
            [
             0.6,
             "#e6f5d0"
            ],
            [
             0.7,
             "#b8e186"
            ],
            [
             0.8,
             "#7fbc41"
            ],
            [
             0.9,
             "#4d9221"
            ],
            [
             1,
             "#276419"
            ]
           ],
           "sequential": [
            [
             0,
             "#0d0887"
            ],
            [
             0.1111111111111111,
             "#46039f"
            ],
            [
             0.2222222222222222,
             "#7201a8"
            ],
            [
             0.3333333333333333,
             "#9c179e"
            ],
            [
             0.4444444444444444,
             "#bd3786"
            ],
            [
             0.5555555555555556,
             "#d8576b"
            ],
            [
             0.6666666666666666,
             "#ed7953"
            ],
            [
             0.7777777777777778,
             "#fb9f3a"
            ],
            [
             0.8888888888888888,
             "#fdca26"
            ],
            [
             1,
             "#f0f921"
            ]
           ],
           "sequentialminus": [
            [
             0,
             "#0d0887"
            ],
            [
             0.1111111111111111,
             "#46039f"
            ],
            [
             0.2222222222222222,
             "#7201a8"
            ],
            [
             0.3333333333333333,
             "#9c179e"
            ],
            [
             0.4444444444444444,
             "#bd3786"
            ],
            [
             0.5555555555555556,
             "#d8576b"
            ],
            [
             0.6666666666666666,
             "#ed7953"
            ],
            [
             0.7777777777777778,
             "#fb9f3a"
            ],
            [
             0.8888888888888888,
             "#fdca26"
            ],
            [
             1,
             "#f0f921"
            ]
           ]
          },
          "colorway": [
           "#636efa",
           "#EF553B",
           "#00cc96",
           "#ab63fa",
           "#FFA15A",
           "#19d3f3",
           "#FF6692",
           "#B6E880",
           "#FF97FF",
           "#FECB52"
          ],
          "font": {
           "color": "#2a3f5f"
          },
          "geo": {
           "bgcolor": "white",
           "lakecolor": "white",
           "landcolor": "#E5ECF6",
           "showlakes": true,
           "showland": true,
           "subunitcolor": "white"
          },
          "hoverlabel": {
           "align": "left"
          },
          "hovermode": "closest",
          "mapbox": {
           "style": "light"
          },
          "paper_bgcolor": "white",
          "plot_bgcolor": "#E5ECF6",
          "polar": {
           "angularaxis": {
            "gridcolor": "white",
            "linecolor": "white",
            "ticks": ""
           },
           "bgcolor": "#E5ECF6",
           "radialaxis": {
            "gridcolor": "white",
            "linecolor": "white",
            "ticks": ""
           }
          },
          "scene": {
           "xaxis": {
            "backgroundcolor": "#E5ECF6",
            "gridcolor": "white",
            "gridwidth": 2,
            "linecolor": "white",
            "showbackground": true,
            "ticks": "",
            "zerolinecolor": "white"
           },
           "yaxis": {
            "backgroundcolor": "#E5ECF6",
            "gridcolor": "white",
            "gridwidth": 2,
            "linecolor": "white",
            "showbackground": true,
            "ticks": "",
            "zerolinecolor": "white"
           },
           "zaxis": {
            "backgroundcolor": "#E5ECF6",
            "gridcolor": "white",
            "gridwidth": 2,
            "linecolor": "white",
            "showbackground": true,
            "ticks": "",
            "zerolinecolor": "white"
           }
          },
          "shapedefaults": {
           "line": {
            "color": "#2a3f5f"
           }
          },
          "ternary": {
           "aaxis": {
            "gridcolor": "white",
            "linecolor": "white",
            "ticks": ""
           },
           "baxis": {
            "gridcolor": "white",
            "linecolor": "white",
            "ticks": ""
           },
           "bgcolor": "#E5ECF6",
           "caxis": {
            "gridcolor": "white",
            "linecolor": "white",
            "ticks": ""
           }
          },
          "title": {
           "x": 0.05
          },
          "xaxis": {
           "automargin": true,
           "gridcolor": "white",
           "linecolor": "white",
           "ticks": "",
           "title": {
            "standoff": 15
           },
           "zerolinecolor": "white",
           "zerolinewidth": 2
          },
          "yaxis": {
           "automargin": true,
           "gridcolor": "white",
           "linecolor": "white",
           "ticks": "",
           "title": {
            "standoff": 15
           },
           "zerolinecolor": "white",
           "zerolinewidth": 2
          }
         }
        },
        "title": {
         "text": "Time Difference for Bridges (Sorted)"
        },
        "width": 800,
        "xaxis": {
         "anchor": "y",
         "domain": [
          0,
          1
         ],
         "tickangle": 45,
         "title": {
          "text": "index"
         },
         "type": "category"
        },
        "yaxis": {
         "anchor": "x",
         "domain": [
          0,
          1
         ],
         "title": {
          "text": "time_diff"
         }
        }
       }
      }
     },
     "metadata": {},
     "output_type": "display_data"
    }
   ],
   "source": [
    "import plotly.express as px\n",
    "\n",
    "# Sort the DataFrame by the \"time_diff\" column in ascending order\n",
    "df_sorted = df_routes_time.sort_values(by='time_diff', ascending=True)\n",
    "\n",
    "# Create a bar plot using Plotly Express\n",
    "fig = px.bar(\n",
    "    df_sorted,\n",
    "    x=df_sorted.index,  # Use the DataFrame index as x values\n",
    "    y='time_diff',\n",
    "    labels={'x': 'Index', 'y': 'Time Difference (minutes)'},\n",
    "    title='Time Difference for Bridges (Sorted)',\n",
    ")\n",
    "\n",
    "# Customize the layout\n",
    "fig.update_xaxes(type='category')\n",
    "fig.update_xaxes(tickangle=45)\n",
    "fig.update_layout(width=800, height=600)\n",
    "\n",
    "# Show the interactive plot\n",
    "fig.show()"
   ]
  },
  {
   "cell_type": "code",
   "execution_count": 161,
   "metadata": {},
   "outputs": [
    {
     "name": "stdout",
     "output_type": "stream",
     "text": [
      "Mean Time Difference: 10.021827241379311\n",
      "Median Time Difference: 6.581149999999997\n"
     ]
    }
   ],
   "source": [
    "# Calculate the mean of time_diff\n",
    "mean_time_diff = df_routes_time['time_diff'].mean()\n",
    "\n",
    "# Calculate the median of time_diff\n",
    "median_time_diff = df_routes_time['time_diff'].median()\n",
    "\n",
    "print(\"Mean Time Difference:\", mean_time_diff)\n",
    "print(\"Median Time Difference:\", median_time_diff)"
   ]
  },
  {
   "cell_type": "code",
   "execution_count": 286,
   "metadata": {},
   "outputs": [
    {
     "data": {
      "application/vnd.plotly.v1+json": {
       "config": {
        "plotlyServerURL": "https://plot.ly"
       },
       "data": [
        {
         "alignmentgroup": "True",
         "hovertemplate": "index=%{x}<br>time_diff=%{y}<extra></extra>",
         "legendgroup": "",
         "marker": {
          "color": "#FF6600",
          "pattern": {
           "shape": ""
          }
         },
         "name": "",
         "offsetgroup": "",
         "orientation": "v",
         "showlegend": false,
         "textposition": "auto",
         "type": "bar",
         "x": [
          0,
          1,
          2,
          3,
          4,
          5,
          6,
          7,
          8,
          9,
          10,
          11,
          12,
          13,
          14,
          15,
          16,
          17,
          18,
          19,
          20,
          21,
          22,
          23,
          24,
          25,
          26,
          27,
          28,
          29,
          30,
          31,
          32,
          33,
          34,
          35,
          36,
          37,
          38,
          39,
          40,
          41,
          42,
          43,
          44,
          45,
          46,
          47,
          48,
          49,
          50,
          51,
          52,
          53,
          54,
          55,
          56,
          57,
          58,
          59,
          60,
          61,
          62,
          63,
          64,
          65,
          66,
          67,
          68,
          69,
          70,
          71,
          72,
          73,
          74,
          75,
          76,
          77,
          78,
          79,
          80,
          81,
          82,
          83,
          84,
          85,
          86,
          87,
          88,
          89,
          90,
          91,
          92,
          93,
          94,
          95,
          96,
          97,
          98,
          99,
          100,
          101,
          102,
          103,
          104,
          105,
          106,
          107,
          108,
          109,
          110,
          111,
          112,
          113,
          114,
          115,
          116,
          117,
          118,
          119,
          120,
          121,
          122,
          123,
          124,
          125,
          126,
          127,
          128,
          129,
          130,
          131,
          132,
          133,
          134,
          135,
          136,
          137,
          138,
          139,
          140,
          141,
          142,
          143,
          144,
          145,
          146,
          147
         ],
         "xaxis": "x",
         "y": [
          -1.3440000000000047,
          -0.10608333333333331,
          0,
          0,
          0,
          0.36331666666666695,
          0.437383333333333,
          0.48038333333333405,
          0.6109499999999999,
          0.6837666666666671,
          0.7598666666666674,
          0.7760499999999997,
          0.85215,
          0.9130333333333329,
          0.9272166666666664,
          0.9459999999999997,
          0.9717833333333328,
          1.3928499999999993,
          1.4912333333333336,
          1.5893333333333342,
          1.5901999999999998,
          1.609333333333332,
          1.7572833333333335,
          1.7901166666666666,
          1.8355999999999995,
          1.8983999999999996,
          1.9877666666666656,
          2.08005,
          2.0907999999999998,
          2.095233333333333,
          2.156466666666665,
          2.2664833333333325,
          2.3103833333333323,
          2.3211166666666667,
          2.3349166666666656,
          2.3498000000000006,
          2.4190499999999995,
          2.471233333333333,
          2.5723833333333337,
          2.6761333333333326,
          2.7429333333333323,
          3.11815,
          3.1207666666666665,
          3.2283999999999997,
          3.274749999999994,
          3.2782666666666667,
          3.3528,
          3.4345333333333343,
          3.54945,
          3.5906999999999982,
          3.7167666666666674,
          3.809283333333334,
          4.185416666666667,
          4.287783333333332,
          4.523816666666669,
          4.59945,
          4.768199999999998,
          4.775266666666667,
          4.852266666666667,
          5.065016666666667,
          5.178950000000004,
          5.307600000000001,
          5.4168,
          5.433216666666666,
          5.44265,
          5.511066666666667,
          5.582533333333333,
          5.786716666666665,
          5.8066833333333285,
          5.86275,
          6.0017666666666685,
          6.034800000000001,
          6.581149999999997,
          6.679766666666666,
          6.7060166666666685,
          6.898600000000005,
          7.208133333333334,
          7.287183333333331,
          7.3099,
          7.320600000000001,
          7.326883333333334,
          7.507516666666664,
          7.515433333333332,
          7.586849999999999,
          7.8039000000000005,
          8.096883333333334,
          8.130066666666666,
          8.631233333333332,
          8.73075,
          8.746266666666667,
          8.790766666666663,
          8.839233333333334,
          8.85445,
          9.315683333333334,
          9.765566666666668,
          9.837616666666666,
          9.844983333333335,
          9.861083333333333,
          9.937916666666666,
          10.277183333333333,
          10.37285,
          10.387666666666668,
          10.445633333333333,
          10.45665,
          10.487366666666667,
          10.666566666666666,
          10.719999999999999,
          10.74195,
          10.995583333333332,
          11.0316,
          11.113816666666665,
          11.199516666666668,
          11.630116666666668,
          12.050216666666667,
          12.219316666666668,
          13.106949999999998,
          13.358583333333334,
          13.370449999999995,
          14.771966666666664,
          14.998616666666667,
          15.058250000000001,
          15.389133333333334,
          15.720633333333332,
          16.49781666666667,
          16.787716666666668,
          16.88985,
          16.951366666666665,
          17.663316666666667,
          20.48901666666667,
          20.563916666666668,
          23.610516666666662,
          23.611250000000002,
          24.730666666666668,
          25.308366666666668,
          27.98828333333333,
          30.734933333333338,
          33.616,
          35.43618333333333,
          37.50553333333333,
          44.90951666666666,
          48.23695000000001,
          50.3287,
          55.39545000000001,
          73.82826666666666,
          81.39874999999999,
          null,
          null,
          null
         ],
         "yaxis": "y"
        }
       ],
       "layout": {
        "annotations": [
         {
          "font": {
           "size": 11
          },
          "showarrow": false,
          "text": "Priemer: 10.02 min",
          "x": 25,
          "y": 12.5
         }
        ],
        "barmode": "relative",
        "height": 450,
        "legend": {
         "tracegroupgap": 0
        },
        "margin": {
         "b": 15,
         "l": 65,
         "r": 25,
         "t": 75
        },
        "paper_bgcolor": "#FFFFFF",
        "plot_bgcolor": "#eeeeee",
        "shapes": [
         {
          "line": {
           "color": "#444444",
           "dash": "dash",
           "width": 2
          },
          "type": "line",
          "x0": 0,
          "x1": 148,
          "y0": 10.021827241379313,
          "y1": 10.021827241379313
         }
        ],
        "template": {
         "data": {
          "bar": [
           {
            "error_x": {
             "color": "#2a3f5f"
            },
            "error_y": {
             "color": "#2a3f5f"
            },
            "marker": {
             "line": {
              "color": "#E5ECF6",
              "width": 0.5
             },
             "pattern": {
              "fillmode": "overlay",
              "size": 10,
              "solidity": 0.2
             }
            },
            "type": "bar"
           }
          ],
          "barpolar": [
           {
            "marker": {
             "line": {
              "color": "#E5ECF6",
              "width": 0.5
             },
             "pattern": {
              "fillmode": "overlay",
              "size": 10,
              "solidity": 0.2
             }
            },
            "type": "barpolar"
           }
          ],
          "carpet": [
           {
            "aaxis": {
             "endlinecolor": "#2a3f5f",
             "gridcolor": "white",
             "linecolor": "white",
             "minorgridcolor": "white",
             "startlinecolor": "#2a3f5f"
            },
            "baxis": {
             "endlinecolor": "#2a3f5f",
             "gridcolor": "white",
             "linecolor": "white",
             "minorgridcolor": "white",
             "startlinecolor": "#2a3f5f"
            },
            "type": "carpet"
           }
          ],
          "choropleth": [
           {
            "colorbar": {
             "outlinewidth": 0,
             "ticks": ""
            },
            "type": "choropleth"
           }
          ],
          "contour": [
           {
            "colorbar": {
             "outlinewidth": 0,
             "ticks": ""
            },
            "colorscale": [
             [
              0,
              "#0d0887"
             ],
             [
              0.1111111111111111,
              "#46039f"
             ],
             [
              0.2222222222222222,
              "#7201a8"
             ],
             [
              0.3333333333333333,
              "#9c179e"
             ],
             [
              0.4444444444444444,
              "#bd3786"
             ],
             [
              0.5555555555555556,
              "#d8576b"
             ],
             [
              0.6666666666666666,
              "#ed7953"
             ],
             [
              0.7777777777777778,
              "#fb9f3a"
             ],
             [
              0.8888888888888888,
              "#fdca26"
             ],
             [
              1,
              "#f0f921"
             ]
            ],
            "type": "contour"
           }
          ],
          "contourcarpet": [
           {
            "colorbar": {
             "outlinewidth": 0,
             "ticks": ""
            },
            "type": "contourcarpet"
           }
          ],
          "heatmap": [
           {
            "colorbar": {
             "outlinewidth": 0,
             "ticks": ""
            },
            "colorscale": [
             [
              0,
              "#0d0887"
             ],
             [
              0.1111111111111111,
              "#46039f"
             ],
             [
              0.2222222222222222,
              "#7201a8"
             ],
             [
              0.3333333333333333,
              "#9c179e"
             ],
             [
              0.4444444444444444,
              "#bd3786"
             ],
             [
              0.5555555555555556,
              "#d8576b"
             ],
             [
              0.6666666666666666,
              "#ed7953"
             ],
             [
              0.7777777777777778,
              "#fb9f3a"
             ],
             [
              0.8888888888888888,
              "#fdca26"
             ],
             [
              1,
              "#f0f921"
             ]
            ],
            "type": "heatmap"
           }
          ],
          "heatmapgl": [
           {
            "colorbar": {
             "outlinewidth": 0,
             "ticks": ""
            },
            "colorscale": [
             [
              0,
              "#0d0887"
             ],
             [
              0.1111111111111111,
              "#46039f"
             ],
             [
              0.2222222222222222,
              "#7201a8"
             ],
             [
              0.3333333333333333,
              "#9c179e"
             ],
             [
              0.4444444444444444,
              "#bd3786"
             ],
             [
              0.5555555555555556,
              "#d8576b"
             ],
             [
              0.6666666666666666,
              "#ed7953"
             ],
             [
              0.7777777777777778,
              "#fb9f3a"
             ],
             [
              0.8888888888888888,
              "#fdca26"
             ],
             [
              1,
              "#f0f921"
             ]
            ],
            "type": "heatmapgl"
           }
          ],
          "histogram": [
           {
            "marker": {
             "pattern": {
              "fillmode": "overlay",
              "size": 10,
              "solidity": 0.2
             }
            },
            "type": "histogram"
           }
          ],
          "histogram2d": [
           {
            "colorbar": {
             "outlinewidth": 0,
             "ticks": ""
            },
            "colorscale": [
             [
              0,
              "#0d0887"
             ],
             [
              0.1111111111111111,
              "#46039f"
             ],
             [
              0.2222222222222222,
              "#7201a8"
             ],
             [
              0.3333333333333333,
              "#9c179e"
             ],
             [
              0.4444444444444444,
              "#bd3786"
             ],
             [
              0.5555555555555556,
              "#d8576b"
             ],
             [
              0.6666666666666666,
              "#ed7953"
             ],
             [
              0.7777777777777778,
              "#fb9f3a"
             ],
             [
              0.8888888888888888,
              "#fdca26"
             ],
             [
              1,
              "#f0f921"
             ]
            ],
            "type": "histogram2d"
           }
          ],
          "histogram2dcontour": [
           {
            "colorbar": {
             "outlinewidth": 0,
             "ticks": ""
            },
            "colorscale": [
             [
              0,
              "#0d0887"
             ],
             [
              0.1111111111111111,
              "#46039f"
             ],
             [
              0.2222222222222222,
              "#7201a8"
             ],
             [
              0.3333333333333333,
              "#9c179e"
             ],
             [
              0.4444444444444444,
              "#bd3786"
             ],
             [
              0.5555555555555556,
              "#d8576b"
             ],
             [
              0.6666666666666666,
              "#ed7953"
             ],
             [
              0.7777777777777778,
              "#fb9f3a"
             ],
             [
              0.8888888888888888,
              "#fdca26"
             ],
             [
              1,
              "#f0f921"
             ]
            ],
            "type": "histogram2dcontour"
           }
          ],
          "mesh3d": [
           {
            "colorbar": {
             "outlinewidth": 0,
             "ticks": ""
            },
            "type": "mesh3d"
           }
          ],
          "parcoords": [
           {
            "line": {
             "colorbar": {
              "outlinewidth": 0,
              "ticks": ""
             }
            },
            "type": "parcoords"
           }
          ],
          "pie": [
           {
            "automargin": true,
            "type": "pie"
           }
          ],
          "scatter": [
           {
            "fillpattern": {
             "fillmode": "overlay",
             "size": 10,
             "solidity": 0.2
            },
            "type": "scatter"
           }
          ],
          "scatter3d": [
           {
            "line": {
             "colorbar": {
              "outlinewidth": 0,
              "ticks": ""
             }
            },
            "marker": {
             "colorbar": {
              "outlinewidth": 0,
              "ticks": ""
             }
            },
            "type": "scatter3d"
           }
          ],
          "scattercarpet": [
           {
            "marker": {
             "colorbar": {
              "outlinewidth": 0,
              "ticks": ""
             }
            },
            "type": "scattercarpet"
           }
          ],
          "scattergeo": [
           {
            "marker": {
             "colorbar": {
              "outlinewidth": 0,
              "ticks": ""
             }
            },
            "type": "scattergeo"
           }
          ],
          "scattergl": [
           {
            "marker": {
             "colorbar": {
              "outlinewidth": 0,
              "ticks": ""
             }
            },
            "type": "scattergl"
           }
          ],
          "scattermapbox": [
           {
            "marker": {
             "colorbar": {
              "outlinewidth": 0,
              "ticks": ""
             }
            },
            "type": "scattermapbox"
           }
          ],
          "scatterpolar": [
           {
            "marker": {
             "colorbar": {
              "outlinewidth": 0,
              "ticks": ""
             }
            },
            "type": "scatterpolar"
           }
          ],
          "scatterpolargl": [
           {
            "marker": {
             "colorbar": {
              "outlinewidth": 0,
              "ticks": ""
             }
            },
            "type": "scatterpolargl"
           }
          ],
          "scatterternary": [
           {
            "marker": {
             "colorbar": {
              "outlinewidth": 0,
              "ticks": ""
             }
            },
            "type": "scatterternary"
           }
          ],
          "surface": [
           {
            "colorbar": {
             "outlinewidth": 0,
             "ticks": ""
            },
            "colorscale": [
             [
              0,
              "#0d0887"
             ],
             [
              0.1111111111111111,
              "#46039f"
             ],
             [
              0.2222222222222222,
              "#7201a8"
             ],
             [
              0.3333333333333333,
              "#9c179e"
             ],
             [
              0.4444444444444444,
              "#bd3786"
             ],
             [
              0.5555555555555556,
              "#d8576b"
             ],
             [
              0.6666666666666666,
              "#ed7953"
             ],
             [
              0.7777777777777778,
              "#fb9f3a"
             ],
             [
              0.8888888888888888,
              "#fdca26"
             ],
             [
              1,
              "#f0f921"
             ]
            ],
            "type": "surface"
           }
          ],
          "table": [
           {
            "cells": {
             "fill": {
              "color": "#EBF0F8"
             },
             "line": {
              "color": "white"
             }
            },
            "header": {
             "fill": {
              "color": "#C8D4E3"
             },
             "line": {
              "color": "white"
             }
            },
            "type": "table"
           }
          ]
         },
         "layout": {
          "annotationdefaults": {
           "arrowcolor": "#2a3f5f",
           "arrowhead": 0,
           "arrowwidth": 1
          },
          "autotypenumbers": "strict",
          "coloraxis": {
           "colorbar": {
            "outlinewidth": 0,
            "ticks": ""
           }
          },
          "colorscale": {
           "diverging": [
            [
             0,
             "#8e0152"
            ],
            [
             0.1,
             "#c51b7d"
            ],
            [
             0.2,
             "#de77ae"
            ],
            [
             0.3,
             "#f1b6da"
            ],
            [
             0.4,
             "#fde0ef"
            ],
            [
             0.5,
             "#f7f7f7"
            ],
            [
             0.6,
             "#e6f5d0"
            ],
            [
             0.7,
             "#b8e186"
            ],
            [
             0.8,
             "#7fbc41"
            ],
            [
             0.9,
             "#4d9221"
            ],
            [
             1,
             "#276419"
            ]
           ],
           "sequential": [
            [
             0,
             "#0d0887"
            ],
            [
             0.1111111111111111,
             "#46039f"
            ],
            [
             0.2222222222222222,
             "#7201a8"
            ],
            [
             0.3333333333333333,
             "#9c179e"
            ],
            [
             0.4444444444444444,
             "#bd3786"
            ],
            [
             0.5555555555555556,
             "#d8576b"
            ],
            [
             0.6666666666666666,
             "#ed7953"
            ],
            [
             0.7777777777777778,
             "#fb9f3a"
            ],
            [
             0.8888888888888888,
             "#fdca26"
            ],
            [
             1,
             "#f0f921"
            ]
           ],
           "sequentialminus": [
            [
             0,
             "#0d0887"
            ],
            [
             0.1111111111111111,
             "#46039f"
            ],
            [
             0.2222222222222222,
             "#7201a8"
            ],
            [
             0.3333333333333333,
             "#9c179e"
            ],
            [
             0.4444444444444444,
             "#bd3786"
            ],
            [
             0.5555555555555556,
             "#d8576b"
            ],
            [
             0.6666666666666666,
             "#ed7953"
            ],
            [
             0.7777777777777778,
             "#fb9f3a"
            ],
            [
             0.8888888888888888,
             "#fdca26"
            ],
            [
             1,
             "#f0f921"
            ]
           ]
          },
          "colorway": [
           "#636efa",
           "#EF553B",
           "#00cc96",
           "#ab63fa",
           "#FFA15A",
           "#19d3f3",
           "#FF6692",
           "#B6E880",
           "#FF97FF",
           "#FECB52"
          ],
          "font": {
           "color": "#2a3f5f"
          },
          "geo": {
           "bgcolor": "white",
           "lakecolor": "white",
           "landcolor": "#E5ECF6",
           "showlakes": true,
           "showland": true,
           "subunitcolor": "white"
          },
          "hoverlabel": {
           "align": "left"
          },
          "hovermode": "closest",
          "mapbox": {
           "style": "light"
          },
          "paper_bgcolor": "white",
          "plot_bgcolor": "#E5ECF6",
          "polar": {
           "angularaxis": {
            "gridcolor": "white",
            "linecolor": "white",
            "ticks": ""
           },
           "bgcolor": "#E5ECF6",
           "radialaxis": {
            "gridcolor": "white",
            "linecolor": "white",
            "ticks": ""
           }
          },
          "scene": {
           "xaxis": {
            "backgroundcolor": "#E5ECF6",
            "gridcolor": "white",
            "gridwidth": 2,
            "linecolor": "white",
            "showbackground": true,
            "ticks": "",
            "zerolinecolor": "white"
           },
           "yaxis": {
            "backgroundcolor": "#E5ECF6",
            "gridcolor": "white",
            "gridwidth": 2,
            "linecolor": "white",
            "showbackground": true,
            "ticks": "",
            "zerolinecolor": "white"
           },
           "zaxis": {
            "backgroundcolor": "#E5ECF6",
            "gridcolor": "white",
            "gridwidth": 2,
            "linecolor": "white",
            "showbackground": true,
            "ticks": "",
            "zerolinecolor": "white"
           }
          },
          "shapedefaults": {
           "line": {
            "color": "#2a3f5f"
           }
          },
          "ternary": {
           "aaxis": {
            "gridcolor": "white",
            "linecolor": "white",
            "ticks": ""
           },
           "baxis": {
            "gridcolor": "white",
            "linecolor": "white",
            "ticks": ""
           },
           "bgcolor": "#E5ECF6",
           "caxis": {
            "gridcolor": "white",
            "linecolor": "white",
            "ticks": ""
           }
          },
          "title": {
           "x": 0.05
          },
          "xaxis": {
           "automargin": true,
           "gridcolor": "white",
           "linecolor": "white",
           "ticks": "",
           "title": {
            "standoff": 15
           },
           "zerolinecolor": "white",
           "zerolinewidth": 2
          },
          "yaxis": {
           "automargin": true,
           "gridcolor": "white",
           "linecolor": "white",
           "ticks": "",
           "title": {
            "standoff": 15
           },
           "zerolinecolor": "white",
           "zerolinewidth": 2
          }
         }
        },
        "title": {
         "font": {
          "size": 20
         },
         "text": "Časový rozdiel"
        },
        "width": 700,
        "xaxis": {
         "anchor": "y",
         "domain": [
          0,
          1
         ],
         "showticklabels": false,
         "tickfont": {
          "size": 12
         },
         "title": {
          "text": ""
         }
        },
        "yaxis": {
         "anchor": "x",
         "domain": [
          0,
          1
         ],
         "tickfont": {
          "size": 12
         },
         "title": {
          "text": "Čas [min]"
         }
        }
       }
      }
     },
     "metadata": {},
     "output_type": "display_data"
    }
   ],
   "source": [
    "import plotly.express as px\n",
    "import numpy as np\n",
    "\n",
    "# Variables for customization\n",
    "axis_font_size = 11\n",
    "axis_tick_font_size = 12\n",
    "title_font_size = 20\n",
    "bg_color = \"#FFFFFF\"\n",
    "fig_color = \"#eeeeee\"\n",
    "bar_color = \"#FF6600\"\n",
    "\n",
    "# Sort the DataFrame by the \"time_diff\" column in ascending order and reset the index\n",
    "df_sorted = df_routes_time.sort_values(\n",
    "    by='time_diff', ascending=True).reset_index(drop=True)\n",
    "\n",
    "# Calculate the mean value of the \"time_diff\" column\n",
    "mean_time_diff = np.mean(df_sorted['time_diff'])\n",
    "\n",
    "# Create a bar plot using Plotly Express\n",
    "fig = px.bar(\n",
    "    df_sorted,\n",
    "    x=df_sorted.index,\n",
    "    y='time_diff',\n",
    "    title='Časový rozdiel',\n",
    ")\n",
    "\n",
    "# Update the layout to tighten the margins\n",
    "fig.update_layout(\n",
    "    plot_bgcolor=fig_color,\n",
    "    paper_bgcolor=bg_color,\n",
    "    xaxis=dict(\n",
    "        showticklabels=False,\n",
    "        tickfont=dict(size=axis_tick_font_size),\n",
    "    ),\n",
    "    yaxis=dict(\n",
    "        titlefont=dict(size=axis_font_size),\n",
    "        tickfont=dict(size=axis_tick_font_size),\n",
    "    ),\n",
    "    titlefont=dict(size=title_font_size),\n",
    "    xaxis_title=\"\",\n",
    "    yaxis_title=\"Čas [min]\",\n",
    "    margin=dict(l=65, r=25, t=75, b=15),\n",
    ")\n",
    "\n",
    "# Customize bar color\n",
    "fig.update_traces(marker_color=bar_color)\n",
    "\n",
    "# Set size of the figure\n",
    "fig.update_layout(width=700, height=450)\n",
    "\n",
    "# Add a horizontal line for the mean value with dashes\n",
    "fig.add_shape(\n",
    "    dict(\n",
    "        type='line',\n",
    "        x0=0, x1=len(df_sorted),  # Start and end positions of the line\n",
    "        y0=mean_time_diff, y1=mean_time_diff,  # Mean value for y\n",
    "        # Customize line color, width, and dash style\n",
    "        line=dict(color='#444444', width=2, dash='dash'),\n",
    "    )\n",
    ")\n",
    "\n",
    "# Add a custom annotation for the mean value\n",
    "fig.add_annotation(\n",
    "    text=f'Priemer: {mean_time_diff:.2f} min',  # Display the mean value\n",
    "    x=25,  # Adjust the x position to place the annotation at the left\n",
    "    # Adjust the y position to place the annotation above the plot (you may need to adjust this value)\n",
    "    y=12.5,\n",
    "    showarrow=False,  # Hide the arrow\n",
    "    font=dict(size=axis_font_size),  # Customize font size\n",
    ")\n",
    "\n",
    "\n",
    "\n",
    "# Show the interactive plot\n",
    "fig.show()"
   ]
  },
  {
   "cell_type": "code",
   "execution_count": 289,
   "metadata": {},
   "outputs": [
    {
     "data": {
      "text/html": [
       "<div>\n",
       "<style scoped>\n",
       "    .dataframe tbody tr th:only-of-type {\n",
       "        vertical-align: middle;\n",
       "    }\n",
       "\n",
       "    .dataframe tbody tr th {\n",
       "        vertical-align: top;\n",
       "    }\n",
       "\n",
       "    .dataframe thead th {\n",
       "        text-align: right;\n",
       "    }\n",
       "</style>\n",
       "<table border=\"1\" class=\"dataframe\">\n",
       "  <thead>\n",
       "    <tr style=\"text-align: right;\">\n",
       "      <th></th>\n",
       "      <th>ID_mosta</th>\n",
       "      <th>Okres</th>\n",
       "      <th>Custom_coor</th>\n",
       "      <th>br_lat</th>\n",
       "      <th>br_long</th>\n",
       "      <th>start_lat</th>\n",
       "      <th>start_long</th>\n",
       "      <th>end_lat</th>\n",
       "      <th>end_long</th>\n",
       "      <th>Hexagon_Coordinates</th>\n",
       "      <th>...</th>\n",
       "      <th>n_2012</th>\n",
       "      <th>n_2022</th>\n",
       "      <th>n_2023</th>\n",
       "      <th>car_time_1</th>\n",
       "      <th>car_time_alt</th>\n",
       "      <th>car_dist_1</th>\n",
       "      <th>car_dist_alt</th>\n",
       "      <th>time_diff</th>\n",
       "      <th>dist_diff</th>\n",
       "      <th>O_times_time_diff</th>\n",
       "    </tr>\n",
       "  </thead>\n",
       "  <tbody>\n",
       "    <tr>\n",
       "      <th>0</th>\n",
       "      <td>M5316</td>\n",
       "      <td>Medzilaborce</td>\n",
       "      <td>None</td>\n",
       "      <td>49.283098</td>\n",
       "      <td>21.955800</td>\n",
       "      <td>49.269547</td>\n",
       "      <td>21.992666</td>\n",
       "      <td>49.271736</td>\n",
       "      <td>21.902402</td>\n",
       "      <td>[[21.956075504805312, 49.283097923], [21.95593...</td>\n",
       "      <td>...</td>\n",
       "      <td>4</td>\n",
       "      <td>6</td>\n",
       "      <td>6</td>\n",
       "      <td>10.419700</td>\n",
       "      <td>91.818450</td>\n",
       "      <td>8.387578</td>\n",
       "      <td>93.369178</td>\n",
       "      <td>81.398750</td>\n",
       "      <td>84.981600</td>\n",
       "      <td>1.831472e+04</td>\n",
       "    </tr>\n",
       "    <tr>\n",
       "      <th>1</th>\n",
       "      <td>M3386</td>\n",
       "      <td>Gelnica</td>\n",
       "      <td>None</td>\n",
       "      <td>48.878809</td>\n",
       "      <td>20.997179</td>\n",
       "      <td>48.853712</td>\n",
       "      <td>20.940274</td>\n",
       "      <td>48.892571</td>\n",
       "      <td>21.013551</td>\n",
       "      <td>[[20.997451776847683, 48.878808695], [20.99731...</td>\n",
       "      <td>...</td>\n",
       "      <td>3</td>\n",
       "      <td>6</td>\n",
       "      <td>6</td>\n",
       "      <td>10.313933</td>\n",
       "      <td>84.142200</td>\n",
       "      <td>7.918419</td>\n",
       "      <td>34.557649</td>\n",
       "      <td>73.828267</td>\n",
       "      <td>26.639230</td>\n",
       "      <td>3.352542e+05</td>\n",
       "    </tr>\n",
       "    <tr>\n",
       "      <th>2</th>\n",
       "      <td>M4240</td>\n",
       "      <td>Humenné</td>\n",
       "      <td>None</td>\n",
       "      <td>48.928456</td>\n",
       "      <td>21.912401</td>\n",
       "      <td>48.931729</td>\n",
       "      <td>21.957430</td>\n",
       "      <td>48.930384</td>\n",
       "      <td>21.874145</td>\n",
       "      <td>[[21.91267470937467, 48.928456086], [21.912537...</td>\n",
       "      <td>...</td>\n",
       "      <td>3</td>\n",
       "      <td>5</td>\n",
       "      <td>6</td>\n",
       "      <td>8.612083</td>\n",
       "      <td>64.007533</td>\n",
       "      <td>7.022536</td>\n",
       "      <td>51.156541</td>\n",
       "      <td>55.395450</td>\n",
       "      <td>44.134005</td>\n",
       "      <td>1.013571e+06</td>\n",
       "    </tr>\n",
       "    <tr>\n",
       "      <th>3</th>\n",
       "      <td>M1195</td>\n",
       "      <td>Rimavská Sobota</td>\n",
       "      <td>None</td>\n",
       "      <td>48.661440</td>\n",
       "      <td>19.941654</td>\n",
       "      <td>48.683924</td>\n",
       "      <td>19.941162</td>\n",
       "      <td>48.571793</td>\n",
       "      <td>19.954388</td>\n",
       "      <td>[[19.941926411751933, 48.661439887], [19.94179...</td>\n",
       "      <td>...</td>\n",
       "      <td>3</td>\n",
       "      <td>3</td>\n",
       "      <td>5</td>\n",
       "      <td>13.449267</td>\n",
       "      <td>63.777967</td>\n",
       "      <td>13.007548</td>\n",
       "      <td>64.137117</td>\n",
       "      <td>50.328700</td>\n",
       "      <td>51.129569</td>\n",
       "      <td>1.457519e+05</td>\n",
       "    </tr>\n",
       "    <tr>\n",
       "      <th>4</th>\n",
       "      <td>M6289</td>\n",
       "      <td>Stará Ľubovňa</td>\n",
       "      <td>None</td>\n",
       "      <td>49.306690</td>\n",
       "      <td>20.686370</td>\n",
       "      <td>49.302170</td>\n",
       "      <td>20.687249</td>\n",
       "      <td>49.302824</td>\n",
       "      <td>20.641968</td>\n",
       "      <td>[[20.686645552661037, 49.30669], [20.686507776...</td>\n",
       "      <td>...</td>\n",
       "      <td>2</td>\n",
       "      <td>5</td>\n",
       "      <td>5</td>\n",
       "      <td>5.187250</td>\n",
       "      <td>53.424200</td>\n",
       "      <td>4.113475</td>\n",
       "      <td>51.394764</td>\n",
       "      <td>48.236950</td>\n",
       "      <td>47.281289</td>\n",
       "      <td>7.234578e+05</td>\n",
       "    </tr>\n",
       "    <tr>\n",
       "      <th>...</th>\n",
       "      <td>...</td>\n",
       "      <td>...</td>\n",
       "      <td>...</td>\n",
       "      <td>...</td>\n",
       "      <td>...</td>\n",
       "      <td>...</td>\n",
       "      <td>...</td>\n",
       "      <td>...</td>\n",
       "      <td>...</td>\n",
       "      <td>...</td>\n",
       "      <td>...</td>\n",
       "      <td>...</td>\n",
       "      <td>...</td>\n",
       "      <td>...</td>\n",
       "      <td>...</td>\n",
       "      <td>...</td>\n",
       "      <td>...</td>\n",
       "      <td>...</td>\n",
       "      <td>...</td>\n",
       "      <td>...</td>\n",
       "      <td>...</td>\n",
       "    </tr>\n",
       "    <tr>\n",
       "      <th>143</th>\n",
       "      <td>M5723</td>\n",
       "      <td>Detva</td>\n",
       "      <td>None</td>\n",
       "      <td>48.545846</td>\n",
       "      <td>19.334897</td>\n",
       "      <td>48.544268</td>\n",
       "      <td>19.399982</td>\n",
       "      <td>48.549308</td>\n",
       "      <td>19.304028</td>\n",
       "      <td>[[19.335168411920563, 48.545845803], [19.33503...</td>\n",
       "      <td>...</td>\n",
       "      <td>4</td>\n",
       "      <td>6</td>\n",
       "      <td>6</td>\n",
       "      <td>6.485667</td>\n",
       "      <td>6.379583</td>\n",
       "      <td>7.346073</td>\n",
       "      <td>8.607793</td>\n",
       "      <td>-0.106083</td>\n",
       "      <td>1.261720</td>\n",
       "      <td>-4.494751e+02</td>\n",
       "    </tr>\n",
       "    <tr>\n",
       "      <th>144</th>\n",
       "      <td>M6054</td>\n",
       "      <td>Hlohovec</td>\n",
       "      <td>None</td>\n",
       "      <td>48.366082</td>\n",
       "      <td>17.736201</td>\n",
       "      <td>48.284953</td>\n",
       "      <td>17.733761</td>\n",
       "      <td>48.435454</td>\n",
       "      <td>17.768358</td>\n",
       "      <td>[[17.73647135769861, 48.366081596], [17.736336...</td>\n",
       "      <td>...</td>\n",
       "      <td>5</td>\n",
       "      <td>6</td>\n",
       "      <td>6</td>\n",
       "      <td>23.404483</td>\n",
       "      <td>22.060483</td>\n",
       "      <td>18.355872</td>\n",
       "      <td>33.845871</td>\n",
       "      <td>-1.344000</td>\n",
       "      <td>15.489999</td>\n",
       "      <td>-3.592512e+03</td>\n",
       "    </tr>\n",
       "    <tr>\n",
       "      <th>145</th>\n",
       "      <td>M7088</td>\n",
       "      <td>Spišská Nová Ves</td>\n",
       "      <td>None</td>\n",
       "      <td>48.916991</td>\n",
       "      <td>20.582879</td>\n",
       "      <td>48.909656</td>\n",
       "      <td>20.584604</td>\n",
       "      <td>48.941746</td>\n",
       "      <td>20.576181</td>\n",
       "      <td>[[20.583152396604714, 48.916991], [20.58301569...</td>\n",
       "      <td>...</td>\n",
       "      <td>4</td>\n",
       "      <td>5</td>\n",
       "      <td>6</td>\n",
       "      <td>8.140600</td>\n",
       "      <td>NaN</td>\n",
       "      <td>5.181574</td>\n",
       "      <td>NaN</td>\n",
       "      <td>NaN</td>\n",
       "      <td>NaN</td>\n",
       "      <td>NaN</td>\n",
       "    </tr>\n",
       "    <tr>\n",
       "      <th>146</th>\n",
       "      <td>M3011</td>\n",
       "      <td>Bratislava I</td>\n",
       "      <td>None</td>\n",
       "      <td>48.162426</td>\n",
       "      <td>17.097242</td>\n",
       "      <td>48.168682</td>\n",
       "      <td>17.076438</td>\n",
       "      <td>48.159364</td>\n",
       "      <td>17.104073</td>\n",
       "      <td>[[17.097511269343144, 48.162426001], [17.09737...</td>\n",
       "      <td>...</td>\n",
       "      <td>4</td>\n",
       "      <td>5</td>\n",
       "      <td>5</td>\n",
       "      <td>3.126500</td>\n",
       "      <td>NaN</td>\n",
       "      <td>2.373473</td>\n",
       "      <td>NaN</td>\n",
       "      <td>NaN</td>\n",
       "      <td>NaN</td>\n",
       "      <td>NaN</td>\n",
       "    </tr>\n",
       "    <tr>\n",
       "      <th>147</th>\n",
       "      <td>M5686</td>\n",
       "      <td>Liptovský Mikuláš</td>\n",
       "      <td>None</td>\n",
       "      <td>48.989582</td>\n",
       "      <td>19.589652</td>\n",
       "      <td>48.968615</td>\n",
       "      <td>19.580533</td>\n",
       "      <td>49.083663</td>\n",
       "      <td>19.606877</td>\n",
       "      <td>[[19.589925611704977, 48.989582193], [19.58978...</td>\n",
       "      <td>...</td>\n",
       "      <td>3</td>\n",
       "      <td>5</td>\n",
       "      <td>5</td>\n",
       "      <td>23.465883</td>\n",
       "      <td>NaN</td>\n",
       "      <td>15.845723</td>\n",
       "      <td>NaN</td>\n",
       "      <td>NaN</td>\n",
       "      <td>NaN</td>\n",
       "      <td>NaN</td>\n",
       "    </tr>\n",
       "  </tbody>\n",
       "</table>\n",
       "<p>148 rows × 36 columns</p>\n",
       "</div>"
      ],
      "text/plain": [
       "    ID_mosta              Okres Custom_coor     br_lat    br_long  start_lat  \\\n",
       "0      M5316       Medzilaborce        None  49.283098  21.955800  49.269547   \n",
       "1      M3386            Gelnica        None  48.878809  20.997179  48.853712   \n",
       "2      M4240            Humenné        None  48.928456  21.912401  48.931729   \n",
       "3      M1195    Rimavská Sobota        None  48.661440  19.941654  48.683924   \n",
       "4      M6289      Stará Ľubovňa        None  49.306690  20.686370  49.302170   \n",
       "..       ...                ...         ...        ...        ...        ...   \n",
       "143    M5723              Detva        None  48.545846  19.334897  48.544268   \n",
       "144    M6054           Hlohovec        None  48.366082  17.736201  48.284953   \n",
       "145    M7088   Spišská Nová Ves        None  48.916991  20.582879  48.909656   \n",
       "146    M3011       Bratislava I        None  48.162426  17.097242  48.168682   \n",
       "147    M5686  Liptovský Mikuláš        None  48.989582  19.589652  48.968615   \n",
       "\n",
       "     start_long    end_lat   end_long  \\\n",
       "0     21.992666  49.271736  21.902402   \n",
       "1     20.940274  48.892571  21.013551   \n",
       "2     21.957430  48.930384  21.874145   \n",
       "3     19.941162  48.571793  19.954388   \n",
       "4     20.687249  49.302824  20.641968   \n",
       "..          ...        ...        ...   \n",
       "143   19.399982  48.549308  19.304028   \n",
       "144   17.733761  48.435454  17.768358   \n",
       "145   20.584604  48.941746  20.576181   \n",
       "146   17.076438  48.159364  17.104073   \n",
       "147   19.580533  49.083663  19.606877   \n",
       "\n",
       "                                   Hexagon_Coordinates  ... n_2012 n_2022  \\\n",
       "0    [[21.956075504805312, 49.283097923], [21.95593...  ...      4      6   \n",
       "1    [[20.997451776847683, 48.878808695], [20.99731...  ...      3      6   \n",
       "2    [[21.91267470937467, 48.928456086], [21.912537...  ...      3      5   \n",
       "3    [[19.941926411751933, 48.661439887], [19.94179...  ...      3      3   \n",
       "4    [[20.686645552661037, 49.30669], [20.686507776...  ...      2      5   \n",
       "..                                                 ...  ...    ...    ...   \n",
       "143  [[19.335168411920563, 48.545845803], [19.33503...  ...      4      6   \n",
       "144  [[17.73647135769861, 48.366081596], [17.736336...  ...      5      6   \n",
       "145  [[20.583152396604714, 48.916991], [20.58301569...  ...      4      5   \n",
       "146  [[17.097511269343144, 48.162426001], [17.09737...  ...      4      5   \n",
       "147  [[19.589925611704977, 48.989582193], [19.58978...  ...      3      5   \n",
       "\n",
       "    n_2023 car_time_1 car_time_alt  car_dist_1  car_dist_alt  time_diff  \\\n",
       "0        6  10.419700    91.818450    8.387578     93.369178  81.398750   \n",
       "1        6  10.313933    84.142200    7.918419     34.557649  73.828267   \n",
       "2        6   8.612083    64.007533    7.022536     51.156541  55.395450   \n",
       "3        5  13.449267    63.777967   13.007548     64.137117  50.328700   \n",
       "4        5   5.187250    53.424200    4.113475     51.394764  48.236950   \n",
       "..     ...        ...          ...         ...           ...        ...   \n",
       "143      6   6.485667     6.379583    7.346073      8.607793  -0.106083   \n",
       "144      6  23.404483    22.060483   18.355872     33.845871  -1.344000   \n",
       "145      6   8.140600          NaN    5.181574           NaN        NaN   \n",
       "146      5   3.126500          NaN    2.373473           NaN        NaN   \n",
       "147      5  23.465883          NaN   15.845723           NaN        NaN   \n",
       "\n",
       "     dist_diff O_times_time_diff  \n",
       "0    84.981600      1.831472e+04  \n",
       "1    26.639230      3.352542e+05  \n",
       "2    44.134005      1.013571e+06  \n",
       "3    51.129569      1.457519e+05  \n",
       "4    47.281289      7.234578e+05  \n",
       "..         ...               ...  \n",
       "143   1.261720     -4.494751e+02  \n",
       "144  15.489999     -3.592512e+03  \n",
       "145        NaN               NaN  \n",
       "146        NaN               NaN  \n",
       "147        NaN               NaN  \n",
       "\n",
       "[148 rows x 36 columns]"
      ]
     },
     "execution_count": 289,
     "metadata": {},
     "output_type": "execute_result"
    }
   ],
   "source": [
    "df_sorted_2 = df_routes_time.sort_values(\n",
    "    by='time_diff', ascending=False).reset_index(drop=True)\n",
    "\n",
    "df_sorted_2"
   ]
  },
  {
   "cell_type": "code",
   "execution_count": 283,
   "metadata": {},
   "outputs": [
    {
     "data": {
      "application/vnd.plotly.v1+json": {
       "config": {
        "plotlyServerURL": "https://plot.ly"
       },
       "data": [
        {
         "alignmentgroup": "True",
         "hovertemplate": "index=%{x}<br>dist_diff=%{y}<extra></extra>",
         "legendgroup": "",
         "marker": {
          "color": "#FF6600",
          "pattern": {
           "shape": ""
          }
         },
         "name": "",
         "offsetgroup": "",
         "orientation": "v",
         "showlegend": false,
         "textposition": "auto",
         "type": "bar",
         "x": [
          0,
          1,
          2,
          3,
          4,
          5,
          6,
          7,
          8,
          9,
          10,
          11,
          12,
          13,
          14,
          15,
          16,
          17,
          18,
          19,
          20,
          21,
          22,
          23,
          24,
          25,
          26,
          27,
          28,
          29,
          30,
          31,
          32,
          33,
          34,
          35,
          36,
          37,
          38,
          39,
          40,
          41,
          42,
          43,
          44,
          45,
          46,
          47,
          48,
          49,
          50,
          51,
          52,
          53,
          54,
          55,
          56,
          57,
          58,
          59,
          60,
          61,
          62,
          63,
          64,
          65,
          66,
          67,
          68,
          69,
          70,
          71,
          72,
          73,
          74,
          75,
          76,
          77,
          78,
          79,
          80,
          81,
          82,
          83,
          84,
          85,
          86,
          87,
          88,
          89,
          90,
          91,
          92,
          93,
          94,
          95,
          96,
          97,
          98,
          99,
          100,
          101,
          102,
          103,
          104,
          105,
          106,
          107,
          108,
          109,
          110,
          111,
          112,
          113,
          114,
          115,
          116,
          117,
          118,
          119,
          120,
          121,
          122,
          123,
          124,
          125,
          126,
          127,
          128,
          129,
          130,
          131,
          132,
          133,
          134,
          135,
          136,
          137,
          138,
          139,
          140,
          141,
          142,
          143,
          144,
          145,
          146,
          147
         ],
         "xaxis": "x",
         "y": [
          -1.2689849999999998,
          -0.2870899999999992,
          -0.040500000000001535,
          -0.03493599999999919,
          0,
          0,
          0,
          0.08317400000000008,
          0.12652700000000028,
          0.13754200000000072,
          0.1451560000000005,
          0.14743500000000065,
          0.19276400000000038,
          0.2692800000000002,
          0.2993960000000002,
          0.3027449999999998,
          0.33483400000000074,
          0.37510100000000035,
          0.3753440000000001,
          0.37932200000000016,
          0.3943939999999997,
          0.4297299999999997,
          0.469951,
          0.4989209999999993,
          0.5122529999999994,
          0.5826599999999997,
          0.6059490000000007,
          0.6473010000000006,
          0.6480789999999998,
          0.7085720000000002,
          0.8020110000000011,
          0.8328709999999999,
          0.8390680000000001,
          0.8611700000000004,
          0.8659200000000009,
          0.8854289999999985,
          0.9183379999999994,
          0.9501979999999999,
          0.9518510000000004,
          1.040168,
          1.051285,
          1.1942020000000007,
          1.2353110000000003,
          1.2617199999999986,
          1.3244259999999997,
          1.419873,
          1.6101680000000007,
          1.6210510000000005,
          1.6831689999999995,
          1.7234660000000006,
          1.7395890000000003,
          1.783331999999998,
          1.9708629999999996,
          1.9894250000000002,
          2.011894999999999,
          2.1518820000000005,
          2.2201530000000003,
          2.3240219999999994,
          2.3271129999999998,
          2.423213,
          2.4809040000000007,
          2.498037,
          2.5467679999999984,
          2.589409,
          2.6804670000000037,
          2.6955930000000006,
          3.010249999999999,
          3.0551439999999985,
          3.0856109999999983,
          3.335303,
          3.488662999999999,
          3.850462,
          4.007014999999999,
          4.075032999999998,
          4.244309000000001,
          4.277500999999997,
          4.328409000000001,
          4.398190000000001,
          4.446485999999998,
          4.551731999999998,
          4.552928,
          4.605409,
          4.615401000000002,
          4.735426,
          4.796314999999999,
          4.863382,
          4.909718,
          4.991708,
          5.015406,
          5.1979500000000005,
          5.677352000000001,
          5.72105,
          6.057329,
          6.15931,
          6.166608,
          6.293907000000001,
          6.301445000000001,
          6.437795000000001,
          6.438797,
          6.970741999999998,
          7.319773999999999,
          7.858482,
          7.859211,
          8.296852000000001,
          8.329288000000004,
          8.424039,
          8.490593,
          8.646892000000001,
          8.989953,
          9.104122000000004,
          9.220317000000001,
          9.659839999999997,
          9.660076,
          10.343712,
          10.438866999999998,
          10.739237,
          10.866723000000004,
          11.071818,
          11.547995999999998,
          11.663746999999997,
          12.511823000000001,
          14.551269999999999,
          14.553022,
          14.778258,
          15.222184000000002,
          15.489999000000005,
          15.770918000000002,
          17.718507000000002,
          17.818043000000003,
          17.856797000000004,
          19.776907,
          20.625089,
          21.031757000000002,
          22.098017,
          24.366191,
          25.810215,
          26.639229999999998,
          26.874507,
          27.684388000000002,
          37.534171,
          40.59575600000001,
          44.134004999999995,
          47.281289,
          51.129569000000004,
          84.9816,
          null,
          null,
          null
         ],
         "yaxis": "y"
        }
       ],
       "layout": {
        "annotations": [
         {
          "font": {
           "size": 11
          },
          "showarrow": false,
          "text": "Priemer: 7.56 min",
          "x": 25,
          "y": 10.059999999999999
         }
        ],
        "barmode": "relative",
        "height": 450,
        "legend": {
         "tracegroupgap": 0
        },
        "margin": {
         "b": 15,
         "l": 65,
         "r": 25,
         "t": 75
        },
        "paper_bgcolor": "#FFFFFF",
        "plot_bgcolor": "#eeeeee",
        "shapes": [
         {
          "line": {
           "color": "#444444",
           "dash": "dash",
           "width": 2
          },
          "type": "line",
          "x0": 0,
          "x1": 148,
          "y0": 7.562527006896551,
          "y1": 7.562527006896551
         }
        ],
        "template": {
         "data": {
          "bar": [
           {
            "error_x": {
             "color": "#2a3f5f"
            },
            "error_y": {
             "color": "#2a3f5f"
            },
            "marker": {
             "line": {
              "color": "#E5ECF6",
              "width": 0.5
             },
             "pattern": {
              "fillmode": "overlay",
              "size": 10,
              "solidity": 0.2
             }
            },
            "type": "bar"
           }
          ],
          "barpolar": [
           {
            "marker": {
             "line": {
              "color": "#E5ECF6",
              "width": 0.5
             },
             "pattern": {
              "fillmode": "overlay",
              "size": 10,
              "solidity": 0.2
             }
            },
            "type": "barpolar"
           }
          ],
          "carpet": [
           {
            "aaxis": {
             "endlinecolor": "#2a3f5f",
             "gridcolor": "white",
             "linecolor": "white",
             "minorgridcolor": "white",
             "startlinecolor": "#2a3f5f"
            },
            "baxis": {
             "endlinecolor": "#2a3f5f",
             "gridcolor": "white",
             "linecolor": "white",
             "minorgridcolor": "white",
             "startlinecolor": "#2a3f5f"
            },
            "type": "carpet"
           }
          ],
          "choropleth": [
           {
            "colorbar": {
             "outlinewidth": 0,
             "ticks": ""
            },
            "type": "choropleth"
           }
          ],
          "contour": [
           {
            "colorbar": {
             "outlinewidth": 0,
             "ticks": ""
            },
            "colorscale": [
             [
              0,
              "#0d0887"
             ],
             [
              0.1111111111111111,
              "#46039f"
             ],
             [
              0.2222222222222222,
              "#7201a8"
             ],
             [
              0.3333333333333333,
              "#9c179e"
             ],
             [
              0.4444444444444444,
              "#bd3786"
             ],
             [
              0.5555555555555556,
              "#d8576b"
             ],
             [
              0.6666666666666666,
              "#ed7953"
             ],
             [
              0.7777777777777778,
              "#fb9f3a"
             ],
             [
              0.8888888888888888,
              "#fdca26"
             ],
             [
              1,
              "#f0f921"
             ]
            ],
            "type": "contour"
           }
          ],
          "contourcarpet": [
           {
            "colorbar": {
             "outlinewidth": 0,
             "ticks": ""
            },
            "type": "contourcarpet"
           }
          ],
          "heatmap": [
           {
            "colorbar": {
             "outlinewidth": 0,
             "ticks": ""
            },
            "colorscale": [
             [
              0,
              "#0d0887"
             ],
             [
              0.1111111111111111,
              "#46039f"
             ],
             [
              0.2222222222222222,
              "#7201a8"
             ],
             [
              0.3333333333333333,
              "#9c179e"
             ],
             [
              0.4444444444444444,
              "#bd3786"
             ],
             [
              0.5555555555555556,
              "#d8576b"
             ],
             [
              0.6666666666666666,
              "#ed7953"
             ],
             [
              0.7777777777777778,
              "#fb9f3a"
             ],
             [
              0.8888888888888888,
              "#fdca26"
             ],
             [
              1,
              "#f0f921"
             ]
            ],
            "type": "heatmap"
           }
          ],
          "heatmapgl": [
           {
            "colorbar": {
             "outlinewidth": 0,
             "ticks": ""
            },
            "colorscale": [
             [
              0,
              "#0d0887"
             ],
             [
              0.1111111111111111,
              "#46039f"
             ],
             [
              0.2222222222222222,
              "#7201a8"
             ],
             [
              0.3333333333333333,
              "#9c179e"
             ],
             [
              0.4444444444444444,
              "#bd3786"
             ],
             [
              0.5555555555555556,
              "#d8576b"
             ],
             [
              0.6666666666666666,
              "#ed7953"
             ],
             [
              0.7777777777777778,
              "#fb9f3a"
             ],
             [
              0.8888888888888888,
              "#fdca26"
             ],
             [
              1,
              "#f0f921"
             ]
            ],
            "type": "heatmapgl"
           }
          ],
          "histogram": [
           {
            "marker": {
             "pattern": {
              "fillmode": "overlay",
              "size": 10,
              "solidity": 0.2
             }
            },
            "type": "histogram"
           }
          ],
          "histogram2d": [
           {
            "colorbar": {
             "outlinewidth": 0,
             "ticks": ""
            },
            "colorscale": [
             [
              0,
              "#0d0887"
             ],
             [
              0.1111111111111111,
              "#46039f"
             ],
             [
              0.2222222222222222,
              "#7201a8"
             ],
             [
              0.3333333333333333,
              "#9c179e"
             ],
             [
              0.4444444444444444,
              "#bd3786"
             ],
             [
              0.5555555555555556,
              "#d8576b"
             ],
             [
              0.6666666666666666,
              "#ed7953"
             ],
             [
              0.7777777777777778,
              "#fb9f3a"
             ],
             [
              0.8888888888888888,
              "#fdca26"
             ],
             [
              1,
              "#f0f921"
             ]
            ],
            "type": "histogram2d"
           }
          ],
          "histogram2dcontour": [
           {
            "colorbar": {
             "outlinewidth": 0,
             "ticks": ""
            },
            "colorscale": [
             [
              0,
              "#0d0887"
             ],
             [
              0.1111111111111111,
              "#46039f"
             ],
             [
              0.2222222222222222,
              "#7201a8"
             ],
             [
              0.3333333333333333,
              "#9c179e"
             ],
             [
              0.4444444444444444,
              "#bd3786"
             ],
             [
              0.5555555555555556,
              "#d8576b"
             ],
             [
              0.6666666666666666,
              "#ed7953"
             ],
             [
              0.7777777777777778,
              "#fb9f3a"
             ],
             [
              0.8888888888888888,
              "#fdca26"
             ],
             [
              1,
              "#f0f921"
             ]
            ],
            "type": "histogram2dcontour"
           }
          ],
          "mesh3d": [
           {
            "colorbar": {
             "outlinewidth": 0,
             "ticks": ""
            },
            "type": "mesh3d"
           }
          ],
          "parcoords": [
           {
            "line": {
             "colorbar": {
              "outlinewidth": 0,
              "ticks": ""
             }
            },
            "type": "parcoords"
           }
          ],
          "pie": [
           {
            "automargin": true,
            "type": "pie"
           }
          ],
          "scatter": [
           {
            "fillpattern": {
             "fillmode": "overlay",
             "size": 10,
             "solidity": 0.2
            },
            "type": "scatter"
           }
          ],
          "scatter3d": [
           {
            "line": {
             "colorbar": {
              "outlinewidth": 0,
              "ticks": ""
             }
            },
            "marker": {
             "colorbar": {
              "outlinewidth": 0,
              "ticks": ""
             }
            },
            "type": "scatter3d"
           }
          ],
          "scattercarpet": [
           {
            "marker": {
             "colorbar": {
              "outlinewidth": 0,
              "ticks": ""
             }
            },
            "type": "scattercarpet"
           }
          ],
          "scattergeo": [
           {
            "marker": {
             "colorbar": {
              "outlinewidth": 0,
              "ticks": ""
             }
            },
            "type": "scattergeo"
           }
          ],
          "scattergl": [
           {
            "marker": {
             "colorbar": {
              "outlinewidth": 0,
              "ticks": ""
             }
            },
            "type": "scattergl"
           }
          ],
          "scattermapbox": [
           {
            "marker": {
             "colorbar": {
              "outlinewidth": 0,
              "ticks": ""
             }
            },
            "type": "scattermapbox"
           }
          ],
          "scatterpolar": [
           {
            "marker": {
             "colorbar": {
              "outlinewidth": 0,
              "ticks": ""
             }
            },
            "type": "scatterpolar"
           }
          ],
          "scatterpolargl": [
           {
            "marker": {
             "colorbar": {
              "outlinewidth": 0,
              "ticks": ""
             }
            },
            "type": "scatterpolargl"
           }
          ],
          "scatterternary": [
           {
            "marker": {
             "colorbar": {
              "outlinewidth": 0,
              "ticks": ""
             }
            },
            "type": "scatterternary"
           }
          ],
          "surface": [
           {
            "colorbar": {
             "outlinewidth": 0,
             "ticks": ""
            },
            "colorscale": [
             [
              0,
              "#0d0887"
             ],
             [
              0.1111111111111111,
              "#46039f"
             ],
             [
              0.2222222222222222,
              "#7201a8"
             ],
             [
              0.3333333333333333,
              "#9c179e"
             ],
             [
              0.4444444444444444,
              "#bd3786"
             ],
             [
              0.5555555555555556,
              "#d8576b"
             ],
             [
              0.6666666666666666,
              "#ed7953"
             ],
             [
              0.7777777777777778,
              "#fb9f3a"
             ],
             [
              0.8888888888888888,
              "#fdca26"
             ],
             [
              1,
              "#f0f921"
             ]
            ],
            "type": "surface"
           }
          ],
          "table": [
           {
            "cells": {
             "fill": {
              "color": "#EBF0F8"
             },
             "line": {
              "color": "white"
             }
            },
            "header": {
             "fill": {
              "color": "#C8D4E3"
             },
             "line": {
              "color": "white"
             }
            },
            "type": "table"
           }
          ]
         },
         "layout": {
          "annotationdefaults": {
           "arrowcolor": "#2a3f5f",
           "arrowhead": 0,
           "arrowwidth": 1
          },
          "autotypenumbers": "strict",
          "coloraxis": {
           "colorbar": {
            "outlinewidth": 0,
            "ticks": ""
           }
          },
          "colorscale": {
           "diverging": [
            [
             0,
             "#8e0152"
            ],
            [
             0.1,
             "#c51b7d"
            ],
            [
             0.2,
             "#de77ae"
            ],
            [
             0.3,
             "#f1b6da"
            ],
            [
             0.4,
             "#fde0ef"
            ],
            [
             0.5,
             "#f7f7f7"
            ],
            [
             0.6,
             "#e6f5d0"
            ],
            [
             0.7,
             "#b8e186"
            ],
            [
             0.8,
             "#7fbc41"
            ],
            [
             0.9,
             "#4d9221"
            ],
            [
             1,
             "#276419"
            ]
           ],
           "sequential": [
            [
             0,
             "#0d0887"
            ],
            [
             0.1111111111111111,
             "#46039f"
            ],
            [
             0.2222222222222222,
             "#7201a8"
            ],
            [
             0.3333333333333333,
             "#9c179e"
            ],
            [
             0.4444444444444444,
             "#bd3786"
            ],
            [
             0.5555555555555556,
             "#d8576b"
            ],
            [
             0.6666666666666666,
             "#ed7953"
            ],
            [
             0.7777777777777778,
             "#fb9f3a"
            ],
            [
             0.8888888888888888,
             "#fdca26"
            ],
            [
             1,
             "#f0f921"
            ]
           ],
           "sequentialminus": [
            [
             0,
             "#0d0887"
            ],
            [
             0.1111111111111111,
             "#46039f"
            ],
            [
             0.2222222222222222,
             "#7201a8"
            ],
            [
             0.3333333333333333,
             "#9c179e"
            ],
            [
             0.4444444444444444,
             "#bd3786"
            ],
            [
             0.5555555555555556,
             "#d8576b"
            ],
            [
             0.6666666666666666,
             "#ed7953"
            ],
            [
             0.7777777777777778,
             "#fb9f3a"
            ],
            [
             0.8888888888888888,
             "#fdca26"
            ],
            [
             1,
             "#f0f921"
            ]
           ]
          },
          "colorway": [
           "#636efa",
           "#EF553B",
           "#00cc96",
           "#ab63fa",
           "#FFA15A",
           "#19d3f3",
           "#FF6692",
           "#B6E880",
           "#FF97FF",
           "#FECB52"
          ],
          "font": {
           "color": "#2a3f5f"
          },
          "geo": {
           "bgcolor": "white",
           "lakecolor": "white",
           "landcolor": "#E5ECF6",
           "showlakes": true,
           "showland": true,
           "subunitcolor": "white"
          },
          "hoverlabel": {
           "align": "left"
          },
          "hovermode": "closest",
          "mapbox": {
           "style": "light"
          },
          "paper_bgcolor": "white",
          "plot_bgcolor": "#E5ECF6",
          "polar": {
           "angularaxis": {
            "gridcolor": "white",
            "linecolor": "white",
            "ticks": ""
           },
           "bgcolor": "#E5ECF6",
           "radialaxis": {
            "gridcolor": "white",
            "linecolor": "white",
            "ticks": ""
           }
          },
          "scene": {
           "xaxis": {
            "backgroundcolor": "#E5ECF6",
            "gridcolor": "white",
            "gridwidth": 2,
            "linecolor": "white",
            "showbackground": true,
            "ticks": "",
            "zerolinecolor": "white"
           },
           "yaxis": {
            "backgroundcolor": "#E5ECF6",
            "gridcolor": "white",
            "gridwidth": 2,
            "linecolor": "white",
            "showbackground": true,
            "ticks": "",
            "zerolinecolor": "white"
           },
           "zaxis": {
            "backgroundcolor": "#E5ECF6",
            "gridcolor": "white",
            "gridwidth": 2,
            "linecolor": "white",
            "showbackground": true,
            "ticks": "",
            "zerolinecolor": "white"
           }
          },
          "shapedefaults": {
           "line": {
            "color": "#2a3f5f"
           }
          },
          "ternary": {
           "aaxis": {
            "gridcolor": "white",
            "linecolor": "white",
            "ticks": ""
           },
           "baxis": {
            "gridcolor": "white",
            "linecolor": "white",
            "ticks": ""
           },
           "bgcolor": "#E5ECF6",
           "caxis": {
            "gridcolor": "white",
            "linecolor": "white",
            "ticks": ""
           }
          },
          "title": {
           "x": 0.05
          },
          "xaxis": {
           "automargin": true,
           "gridcolor": "white",
           "linecolor": "white",
           "ticks": "",
           "title": {
            "standoff": 15
           },
           "zerolinecolor": "white",
           "zerolinewidth": 2
          },
          "yaxis": {
           "automargin": true,
           "gridcolor": "white",
           "linecolor": "white",
           "ticks": "",
           "title": {
            "standoff": 15
           },
           "zerolinecolor": "white",
           "zerolinewidth": 2
          }
         }
        },
        "title": {
         "font": {
          "size": 20
         },
         "text": "Predĺženie trasy"
        },
        "width": 700,
        "xaxis": {
         "anchor": "y",
         "domain": [
          0,
          1
         ],
         "showticklabels": false,
         "tickfont": {
          "size": 12
         },
         "title": {
          "text": ""
         }
        },
        "yaxis": {
         "anchor": "x",
         "domain": [
          0,
          1
         ],
         "tickfont": {
          "size": 12
         },
         "title": {
          "text": "Vzdialenosť [km]"
         }
        }
       }
      }
     },
     "metadata": {},
     "output_type": "display_data"
    }
   ],
   "source": [
    "import plotly.express as px\n",
    "import numpy as np\n",
    "\n",
    "# Variables for customization\n",
    "axis_font_size = 11\n",
    "axis_tick_font_size = 12\n",
    "title_font_size = 20\n",
    "bg_color = \"#FFFFFF\"\n",
    "fig_color = \"#eeeeee\"\n",
    "bar_color = \"#FF6600\"\n",
    "\n",
    "# Sort the DataFrame by the \"dist_diff\" column in ascending order and reset the index\n",
    "df_sorted = df_routes_time.sort_values(\n",
    "    by='dist_diff', ascending=True).reset_index(drop=True)\n",
    "\n",
    "# Calculate the mean value of the \"dist_diff\" column\n",
    "mean_dist_diff = np.mean(df_sorted['dist_diff'])\n",
    "\n",
    "# Create a bar plot using Plotly Express\n",
    "fig = px.bar(\n",
    "    df_sorted,\n",
    "    x=df_sorted.index,\n",
    "    y='dist_diff',\n",
    "    title='Predĺženie trasy',\n",
    ")\n",
    "\n",
    "# Update the layout to tighten the margins\n",
    "fig.update_layout(\n",
    "    plot_bgcolor=fig_color,\n",
    "    paper_bgcolor=bg_color,\n",
    "    xaxis=dict(\n",
    "        showticklabels=False,\n",
    "        tickfont=dict(size=axis_tick_font_size),\n",
    "    ),\n",
    "    yaxis=dict(\n",
    "        titlefont=dict(size=axis_font_size),\n",
    "        tickfont=dict(size=axis_tick_font_size),\n",
    "    ),\n",
    "    titlefont=dict(size=title_font_size),\n",
    "    xaxis_title=\"\",\n",
    "    yaxis_title=\"Vzdialenosť [km]\",\n",
    "    margin=dict(l=65, r=25, t=75, b=15),\n",
    ")\n",
    "\n",
    "# Customize bar color\n",
    "fig.update_traces(marker_color=bar_color)\n",
    "\n",
    "# Set size of the figure\n",
    "fig.update_layout(width=700, height=450)\n",
    "\n",
    "# Add a horizontal line for the mean value with dashes\n",
    "fig.add_shape(\n",
    "    dict(\n",
    "        type='line',\n",
    "        x0=0, x1=len(df_sorted),  # Start and end positions of the line\n",
    "        y0=mean_dist_diff, y1=mean_dist_diff,  # Mean value for y\n",
    "        # Customize line color, width, and dash style\n",
    "        line=dict(color='#444444', width=2, dash='dash'),\n",
    "    )\n",
    ")\n",
    "\n",
    "# Add a custom annotation for the mean value\n",
    "fig.add_annotation(\n",
    "    text=f'Priemer: {mean_dist_diff:.2f} min',  # Display the mean value\n",
    "    x=25,  # Adjust the x position to place the annotation at the left\n",
    "    # Adjust the y position to place the annotation above the plot (you may need to adjust this value)\n",
    "    y=7.56 + 2.5,\n",
    "    showarrow=False,  # Hide the arrow\n",
    "    font=dict(size=axis_font_size),  # Customize font size\n",
    ")\n",
    "\n",
    "\n",
    "# Show the interactive plot\n",
    "fig.show()"
   ]
  },
  {
   "cell_type": "code",
   "execution_count": 163,
   "metadata": {},
   "outputs": [
    {
     "name": "stdout",
     "output_type": "stream",
     "text": [
      "Mean Distance Difference: 7.562527006896553\n",
      "Median Distance Difference: 4.007014999999999\n"
     ]
    }
   ],
   "source": [
    "# Calculate the mean of dist_diff\n",
    "mean_dist_diff = df_routes_time['dist_diff'].mean()\n",
    "\n",
    "# Calculate the median of dist_diff\n",
    "median_dist_diff = df_routes_time['dist_diff'].median()\n",
    "\n",
    "print(\"Mean Distance Difference:\", mean_dist_diff)\n",
    "print(\"Median Distance Difference:\", median_dist_diff)"
   ]
  },
  {
   "cell_type": "code",
   "execution_count": 164,
   "metadata": {},
   "outputs": [
    {
     "data": {
      "application/vnd.plotly.v1+json": {
       "config": {
        "plotlyServerURL": "https://plot.ly"
       },
       "data": [
        {
         "alignmentgroup": "True",
         "hovertemplate": "ID_mosta=%{x}<br>O_times_time_diff=%{y}<extra></extra>",
         "legendgroup": "",
         "marker": {
          "color": "#636efa",
          "pattern": {
           "shape": ""
          }
         },
         "name": "",
         "offsetgroup": "",
         "orientation": "v",
         "showlegend": false,
         "textposition": "auto",
         "type": "bar",
         "x": [
          "M5316",
          "M3386",
          "M4240",
          "M1195",
          "M6289",
          "M1514",
          "M1311",
          "M6702",
          "M3265",
          "M5373",
          "M3592",
          "M2768",
          "M885",
          "M3759",
          "M6883",
          "M6681",
          "M634",
          "M6115",
          "M5392",
          "M6917",
          "M3843",
          "M6288",
          "M3551",
          "M7762",
          "M2717",
          "M1444",
          "M3516",
          "M5676",
          "M5754",
          "M3929",
          "M1693",
          "M3832",
          "M121",
          "M1211",
          "M2889",
          "M4121",
          "M4653",
          "M3293",
          "M801",
          "M6188",
          "M6211",
          "M3082",
          "M6062",
          "M1762",
          "M2684",
          "M3649",
          "M3603",
          "M1608",
          "M5001",
          "M2098",
          "M7034",
          "M2846",
          "M5574",
          "M2499",
          "M4021",
          "M4684",
          "M3440",
          "M1296",
          "M1699",
          "M7568",
          "M1885",
          "M626",
          "M1979",
          "M7109",
          "M4962",
          "M6916",
          "M5626",
          "M7335",
          "M3841",
          "M917",
          "M2610",
          "M7186",
          "M4819",
          "M220",
          "M1945",
          "M5492",
          "M419",
          "M1973",
          "M1833",
          "M57",
          "M5221",
          "M5828",
          "M3877",
          "M5312",
          "M6745",
          "M5155",
          "M5550",
          "M2877",
          "M3027",
          "M5624",
          "M1208",
          "M2721",
          "M1481",
          "M3109",
          "M2191",
          "M7460",
          "M6016",
          "M7368",
          "M349",
          "M4815",
          "M3641",
          "M1902",
          "M4237",
          "M562",
          "M3959",
          "M1939",
          "M4123",
          "M5243",
          "M6035",
          "M4698",
          "M618",
          "M5333",
          "M3917",
          "M7099",
          "M6258",
          "M1255",
          "M2489",
          "M6688",
          "M2681",
          "M7332",
          "M3882",
          "M6759",
          "M660",
          "M6308",
          "M5833",
          "M5125",
          "M3054",
          "M2040",
          "M3640",
          "M6817",
          "M6419",
          "M3182",
          "M5581",
          "M4087",
          "M1812",
          "M4621",
          "M3446",
          "M1933",
          "M7118",
          "M3276",
          "M7339",
          "M5910",
          "M3069",
          "M5723",
          "M6054",
          "M7088",
          "M3011",
          "M5686"
         ],
         "xaxis": "x",
         "y": [
          18314.71875,
          335254.1589333333,
          1013570.5486500002,
          145751.9152,
          723457.7761000001,
          708133.2588,
          24716.146466666665,
          550607.4166333333,
          385474.672,
          264228.2218666667,
          89478.54181666666,
          77317.06016666668,
          59304.13866666667,
          22430.6875,
          17991.213699999997,
          160974.33966666667,
          22722.31948333334,
          303579.42355,
          344485.67339999997,
          59418.4923,
          8444.221483333335,
          52974.48931666667,
          90849.54003333332,
          49968.515933333336,
          195847.5995,
          185727.87018333335,
          45866.95649999999,
          75797.08104999996,
          25554.96991666667,
          45192.76359999999,
          125321.31173333335,
          174330.48451666668,
          151179.88655000002,
          78172.62633333333,
          81164.20311666666,
          29123.424,
          14107.333416666665,
          24416.45235,
          103823.19999999998,
          36116.99473333333,
          155695.44553333332,
          48874.3821,
          121294.69426666667,
          8050.4416666666675,
          112887.72654999999,
          13802.257216666667,
          51061.01583333333,
          114270.23366666667,
          18410.118833333338,
          64387.201083333326,
          2041.0034333333338,
          38268.82713333334,
          13263.9661,
          27048.054000000004,
          9072.071199999997,
          25407.90466666667,
          17251.962,
          2546.2138333333332,
          26260.11533333333,
          1910.8644666666669,
          34266.924900000005,
          166956.2211,
          46791.08793333333,
          30833.37094999999,
          64791.62931666667,
          50109.507000000005,
          164099.94509999998,
          42236.51459999999,
          7943.362933333335,
          61314.75680000005,
          71412.37148333335,
          35810.2291,
          26100.84089999999,
          58712.569200000005,
          7160.107633333336,
          48432.17775,
          24521.623716666647,
          11104.70928333333,
          20275.761066666666,
          15690.006800000001,
          60810.72845,
          48969.58181666666,
          68186.6784,
          9203.378400000001,
          6069.729400000005,
          35313.2962,
          13450.4832,
          7678.6288,
          16073.602199999994,
          64985.62905,
          9531.681716666671,
          8755.653566666664,
          40615.28333333333,
          7264.303316666668,
          24389.42286666667,
          4337.565599999998,
          56478.8484,
          41310.56693333334,
          38580.6696,
          37054.248133333334,
          8517.624749999984,
          29972.465599999996,
          19589.052366666667,
          40333.27025,
          17620.603733333326,
          1889.350133333333,
          25975.926900000002,
          26642.366566666664,
          76226.68454999998,
          23441.604800000005,
          21371.492249999992,
          51078.49336666667,
          14248.134016666661,
          31268.404066666655,
          12326.363466666657,
          10015.215333333332,
          18183.687599999997,
          1052.5053,
          1906.2682333333323,
          23452.833599999994,
          9589.174399999996,
          85871.8965,
          18339.008866666667,
          8305.769333333326,
          31737.211599999995,
          8159.637333333338,
          4874.841766666667,
          11534.190849999994,
          6138.755316666663,
          4817.977999999998,
          4444.149483333332,
          11366.351966666662,
          7636.11615,
          5050.5333999999975,
          4400.387866666671,
          1354.5417666666674,
          8452.493249999998,
          1989.7477666666696,
          105.84676666666658,
          1532.4697000000012,
          0,
          0,
          0,
          -449.4750833333332,
          -3592.512000000013,
          null,
          null,
          null
         ],
         "yaxis": "y"
        }
       ],
       "layout": {
        "barmode": "relative",
        "height": 600,
        "legend": {
         "tracegroupgap": 0
        },
        "template": {
         "data": {
          "bar": [
           {
            "error_x": {
             "color": "#2a3f5f"
            },
            "error_y": {
             "color": "#2a3f5f"
            },
            "marker": {
             "line": {
              "color": "#E5ECF6",
              "width": 0.5
             },
             "pattern": {
              "fillmode": "overlay",
              "size": 10,
              "solidity": 0.2
             }
            },
            "type": "bar"
           }
          ],
          "barpolar": [
           {
            "marker": {
             "line": {
              "color": "#E5ECF6",
              "width": 0.5
             },
             "pattern": {
              "fillmode": "overlay",
              "size": 10,
              "solidity": 0.2
             }
            },
            "type": "barpolar"
           }
          ],
          "carpet": [
           {
            "aaxis": {
             "endlinecolor": "#2a3f5f",
             "gridcolor": "white",
             "linecolor": "white",
             "minorgridcolor": "white",
             "startlinecolor": "#2a3f5f"
            },
            "baxis": {
             "endlinecolor": "#2a3f5f",
             "gridcolor": "white",
             "linecolor": "white",
             "minorgridcolor": "white",
             "startlinecolor": "#2a3f5f"
            },
            "type": "carpet"
           }
          ],
          "choropleth": [
           {
            "colorbar": {
             "outlinewidth": 0,
             "ticks": ""
            },
            "type": "choropleth"
           }
          ],
          "contour": [
           {
            "colorbar": {
             "outlinewidth": 0,
             "ticks": ""
            },
            "colorscale": [
             [
              0,
              "#0d0887"
             ],
             [
              0.1111111111111111,
              "#46039f"
             ],
             [
              0.2222222222222222,
              "#7201a8"
             ],
             [
              0.3333333333333333,
              "#9c179e"
             ],
             [
              0.4444444444444444,
              "#bd3786"
             ],
             [
              0.5555555555555556,
              "#d8576b"
             ],
             [
              0.6666666666666666,
              "#ed7953"
             ],
             [
              0.7777777777777778,
              "#fb9f3a"
             ],
             [
              0.8888888888888888,
              "#fdca26"
             ],
             [
              1,
              "#f0f921"
             ]
            ],
            "type": "contour"
           }
          ],
          "contourcarpet": [
           {
            "colorbar": {
             "outlinewidth": 0,
             "ticks": ""
            },
            "type": "contourcarpet"
           }
          ],
          "heatmap": [
           {
            "colorbar": {
             "outlinewidth": 0,
             "ticks": ""
            },
            "colorscale": [
             [
              0,
              "#0d0887"
             ],
             [
              0.1111111111111111,
              "#46039f"
             ],
             [
              0.2222222222222222,
              "#7201a8"
             ],
             [
              0.3333333333333333,
              "#9c179e"
             ],
             [
              0.4444444444444444,
              "#bd3786"
             ],
             [
              0.5555555555555556,
              "#d8576b"
             ],
             [
              0.6666666666666666,
              "#ed7953"
             ],
             [
              0.7777777777777778,
              "#fb9f3a"
             ],
             [
              0.8888888888888888,
              "#fdca26"
             ],
             [
              1,
              "#f0f921"
             ]
            ],
            "type": "heatmap"
           }
          ],
          "heatmapgl": [
           {
            "colorbar": {
             "outlinewidth": 0,
             "ticks": ""
            },
            "colorscale": [
             [
              0,
              "#0d0887"
             ],
             [
              0.1111111111111111,
              "#46039f"
             ],
             [
              0.2222222222222222,
              "#7201a8"
             ],
             [
              0.3333333333333333,
              "#9c179e"
             ],
             [
              0.4444444444444444,
              "#bd3786"
             ],
             [
              0.5555555555555556,
              "#d8576b"
             ],
             [
              0.6666666666666666,
              "#ed7953"
             ],
             [
              0.7777777777777778,
              "#fb9f3a"
             ],
             [
              0.8888888888888888,
              "#fdca26"
             ],
             [
              1,
              "#f0f921"
             ]
            ],
            "type": "heatmapgl"
           }
          ],
          "histogram": [
           {
            "marker": {
             "pattern": {
              "fillmode": "overlay",
              "size": 10,
              "solidity": 0.2
             }
            },
            "type": "histogram"
           }
          ],
          "histogram2d": [
           {
            "colorbar": {
             "outlinewidth": 0,
             "ticks": ""
            },
            "colorscale": [
             [
              0,
              "#0d0887"
             ],
             [
              0.1111111111111111,
              "#46039f"
             ],
             [
              0.2222222222222222,
              "#7201a8"
             ],
             [
              0.3333333333333333,
              "#9c179e"
             ],
             [
              0.4444444444444444,
              "#bd3786"
             ],
             [
              0.5555555555555556,
              "#d8576b"
             ],
             [
              0.6666666666666666,
              "#ed7953"
             ],
             [
              0.7777777777777778,
              "#fb9f3a"
             ],
             [
              0.8888888888888888,
              "#fdca26"
             ],
             [
              1,
              "#f0f921"
             ]
            ],
            "type": "histogram2d"
           }
          ],
          "histogram2dcontour": [
           {
            "colorbar": {
             "outlinewidth": 0,
             "ticks": ""
            },
            "colorscale": [
             [
              0,
              "#0d0887"
             ],
             [
              0.1111111111111111,
              "#46039f"
             ],
             [
              0.2222222222222222,
              "#7201a8"
             ],
             [
              0.3333333333333333,
              "#9c179e"
             ],
             [
              0.4444444444444444,
              "#bd3786"
             ],
             [
              0.5555555555555556,
              "#d8576b"
             ],
             [
              0.6666666666666666,
              "#ed7953"
             ],
             [
              0.7777777777777778,
              "#fb9f3a"
             ],
             [
              0.8888888888888888,
              "#fdca26"
             ],
             [
              1,
              "#f0f921"
             ]
            ],
            "type": "histogram2dcontour"
           }
          ],
          "mesh3d": [
           {
            "colorbar": {
             "outlinewidth": 0,
             "ticks": ""
            },
            "type": "mesh3d"
           }
          ],
          "parcoords": [
           {
            "line": {
             "colorbar": {
              "outlinewidth": 0,
              "ticks": ""
             }
            },
            "type": "parcoords"
           }
          ],
          "pie": [
           {
            "automargin": true,
            "type": "pie"
           }
          ],
          "scatter": [
           {
            "fillpattern": {
             "fillmode": "overlay",
             "size": 10,
             "solidity": 0.2
            },
            "type": "scatter"
           }
          ],
          "scatter3d": [
           {
            "line": {
             "colorbar": {
              "outlinewidth": 0,
              "ticks": ""
             }
            },
            "marker": {
             "colorbar": {
              "outlinewidth": 0,
              "ticks": ""
             }
            },
            "type": "scatter3d"
           }
          ],
          "scattercarpet": [
           {
            "marker": {
             "colorbar": {
              "outlinewidth": 0,
              "ticks": ""
             }
            },
            "type": "scattercarpet"
           }
          ],
          "scattergeo": [
           {
            "marker": {
             "colorbar": {
              "outlinewidth": 0,
              "ticks": ""
             }
            },
            "type": "scattergeo"
           }
          ],
          "scattergl": [
           {
            "marker": {
             "colorbar": {
              "outlinewidth": 0,
              "ticks": ""
             }
            },
            "type": "scattergl"
           }
          ],
          "scattermapbox": [
           {
            "marker": {
             "colorbar": {
              "outlinewidth": 0,
              "ticks": ""
             }
            },
            "type": "scattermapbox"
           }
          ],
          "scatterpolar": [
           {
            "marker": {
             "colorbar": {
              "outlinewidth": 0,
              "ticks": ""
             }
            },
            "type": "scatterpolar"
           }
          ],
          "scatterpolargl": [
           {
            "marker": {
             "colorbar": {
              "outlinewidth": 0,
              "ticks": ""
             }
            },
            "type": "scatterpolargl"
           }
          ],
          "scatterternary": [
           {
            "marker": {
             "colorbar": {
              "outlinewidth": 0,
              "ticks": ""
             }
            },
            "type": "scatterternary"
           }
          ],
          "surface": [
           {
            "colorbar": {
             "outlinewidth": 0,
             "ticks": ""
            },
            "colorscale": [
             [
              0,
              "#0d0887"
             ],
             [
              0.1111111111111111,
              "#46039f"
             ],
             [
              0.2222222222222222,
              "#7201a8"
             ],
             [
              0.3333333333333333,
              "#9c179e"
             ],
             [
              0.4444444444444444,
              "#bd3786"
             ],
             [
              0.5555555555555556,
              "#d8576b"
             ],
             [
              0.6666666666666666,
              "#ed7953"
             ],
             [
              0.7777777777777778,
              "#fb9f3a"
             ],
             [
              0.8888888888888888,
              "#fdca26"
             ],
             [
              1,
              "#f0f921"
             ]
            ],
            "type": "surface"
           }
          ],
          "table": [
           {
            "cells": {
             "fill": {
              "color": "#EBF0F8"
             },
             "line": {
              "color": "white"
             }
            },
            "header": {
             "fill": {
              "color": "#C8D4E3"
             },
             "line": {
              "color": "white"
             }
            },
            "type": "table"
           }
          ]
         },
         "layout": {
          "annotationdefaults": {
           "arrowcolor": "#2a3f5f",
           "arrowhead": 0,
           "arrowwidth": 1
          },
          "autotypenumbers": "strict",
          "coloraxis": {
           "colorbar": {
            "outlinewidth": 0,
            "ticks": ""
           }
          },
          "colorscale": {
           "diverging": [
            [
             0,
             "#8e0152"
            ],
            [
             0.1,
             "#c51b7d"
            ],
            [
             0.2,
             "#de77ae"
            ],
            [
             0.3,
             "#f1b6da"
            ],
            [
             0.4,
             "#fde0ef"
            ],
            [
             0.5,
             "#f7f7f7"
            ],
            [
             0.6,
             "#e6f5d0"
            ],
            [
             0.7,
             "#b8e186"
            ],
            [
             0.8,
             "#7fbc41"
            ],
            [
             0.9,
             "#4d9221"
            ],
            [
             1,
             "#276419"
            ]
           ],
           "sequential": [
            [
             0,
             "#0d0887"
            ],
            [
             0.1111111111111111,
             "#46039f"
            ],
            [
             0.2222222222222222,
             "#7201a8"
            ],
            [
             0.3333333333333333,
             "#9c179e"
            ],
            [
             0.4444444444444444,
             "#bd3786"
            ],
            [
             0.5555555555555556,
             "#d8576b"
            ],
            [
             0.6666666666666666,
             "#ed7953"
            ],
            [
             0.7777777777777778,
             "#fb9f3a"
            ],
            [
             0.8888888888888888,
             "#fdca26"
            ],
            [
             1,
             "#f0f921"
            ]
           ],
           "sequentialminus": [
            [
             0,
             "#0d0887"
            ],
            [
             0.1111111111111111,
             "#46039f"
            ],
            [
             0.2222222222222222,
             "#7201a8"
            ],
            [
             0.3333333333333333,
             "#9c179e"
            ],
            [
             0.4444444444444444,
             "#bd3786"
            ],
            [
             0.5555555555555556,
             "#d8576b"
            ],
            [
             0.6666666666666666,
             "#ed7953"
            ],
            [
             0.7777777777777778,
             "#fb9f3a"
            ],
            [
             0.8888888888888888,
             "#fdca26"
            ],
            [
             1,
             "#f0f921"
            ]
           ]
          },
          "colorway": [
           "#636efa",
           "#EF553B",
           "#00cc96",
           "#ab63fa",
           "#FFA15A",
           "#19d3f3",
           "#FF6692",
           "#B6E880",
           "#FF97FF",
           "#FECB52"
          ],
          "font": {
           "color": "#2a3f5f"
          },
          "geo": {
           "bgcolor": "white",
           "lakecolor": "white",
           "landcolor": "#E5ECF6",
           "showlakes": true,
           "showland": true,
           "subunitcolor": "white"
          },
          "hoverlabel": {
           "align": "left"
          },
          "hovermode": "closest",
          "mapbox": {
           "style": "light"
          },
          "paper_bgcolor": "white",
          "plot_bgcolor": "#E5ECF6",
          "polar": {
           "angularaxis": {
            "gridcolor": "white",
            "linecolor": "white",
            "ticks": ""
           },
           "bgcolor": "#E5ECF6",
           "radialaxis": {
            "gridcolor": "white",
            "linecolor": "white",
            "ticks": ""
           }
          },
          "scene": {
           "xaxis": {
            "backgroundcolor": "#E5ECF6",
            "gridcolor": "white",
            "gridwidth": 2,
            "linecolor": "white",
            "showbackground": true,
            "ticks": "",
            "zerolinecolor": "white"
           },
           "yaxis": {
            "backgroundcolor": "#E5ECF6",
            "gridcolor": "white",
            "gridwidth": 2,
            "linecolor": "white",
            "showbackground": true,
            "ticks": "",
            "zerolinecolor": "white"
           },
           "zaxis": {
            "backgroundcolor": "#E5ECF6",
            "gridcolor": "white",
            "gridwidth": 2,
            "linecolor": "white",
            "showbackground": true,
            "ticks": "",
            "zerolinecolor": "white"
           }
          },
          "shapedefaults": {
           "line": {
            "color": "#2a3f5f"
           }
          },
          "ternary": {
           "aaxis": {
            "gridcolor": "white",
            "linecolor": "white",
            "ticks": ""
           },
           "baxis": {
            "gridcolor": "white",
            "linecolor": "white",
            "ticks": ""
           },
           "bgcolor": "#E5ECF6",
           "caxis": {
            "gridcolor": "white",
            "linecolor": "white",
            "ticks": ""
           }
          },
          "title": {
           "x": 0.05
          },
          "xaxis": {
           "automargin": true,
           "gridcolor": "white",
           "linecolor": "white",
           "ticks": "",
           "title": {
            "standoff": 15
           },
           "zerolinecolor": "white",
           "zerolinewidth": 2
          },
          "yaxis": {
           "automargin": true,
           "gridcolor": "white",
           "linecolor": "white",
           "ticks": "",
           "title": {
            "standoff": 15
           },
           "zerolinecolor": "white",
           "zerolinewidth": 2
          }
         }
        },
        "title": {
         "text": "O * Time Difference for Bridges"
        },
        "width": 800,
        "xaxis": {
         "anchor": "y",
         "categoryorder": "total ascending",
         "domain": [
          0,
          1
         ],
         "tickangle": 45,
         "title": {
          "text": "ID_mosta"
         },
         "type": "category"
        },
        "yaxis": {
         "anchor": "x",
         "domain": [
          0,
          1
         ],
         "title": {
          "text": "O_times_time_diff"
         }
        }
       }
      }
     },
     "metadata": {},
     "output_type": "display_data"
    }
   ],
   "source": [
    "import plotly.express as px\n",
    "\n",
    "# Multiply the \"O\" column by the \"time_diff\" column\n",
    "df_routes_time['O_times_time_diff'] = df_routes_time['O'] * \\\n",
    "    df_routes_time['time_diff']\n",
    "\n",
    "# Create a bar plot using Plotly Express\n",
    "fig = px.bar(\n",
    "    df_routes_time,\n",
    "    x='ID_mosta',\n",
    "    y='O_times_time_diff',  # Use the new column\n",
    "    labels={'x': 'Bridge ID', 'y': 'O * Time Difference'},\n",
    "    title='O * Time Difference for Bridges'\n",
    ")\n",
    "\n",
    "# Customize the layout\n",
    "fig.update_xaxes(type='category', categoryorder='total ascending')\n",
    "fig.update_xaxes(tickangle=45)\n",
    "fig.update_layout(width=800, height=600)\n",
    "\n",
    "# Show the interactive plot\n",
    "fig.show()"
   ]
  },
  {
   "cell_type": "code",
   "execution_count": 166,
   "metadata": {},
   "outputs": [
    {
     "data": {
      "text/html": [
       "<div>\n",
       "<style scoped>\n",
       "    .dataframe tbody tr th:only-of-type {\n",
       "        vertical-align: middle;\n",
       "    }\n",
       "\n",
       "    .dataframe tbody tr th {\n",
       "        vertical-align: top;\n",
       "    }\n",
       "\n",
       "    .dataframe thead th {\n",
       "        text-align: right;\n",
       "    }\n",
       "</style>\n",
       "<table border=\"1\" class=\"dataframe\">\n",
       "  <thead>\n",
       "    <tr style=\"text-align: right;\">\n",
       "      <th></th>\n",
       "      <th>ID_mosta</th>\n",
       "      <th>Okres</th>\n",
       "      <th>Custom_coor</th>\n",
       "      <th>br_lat</th>\n",
       "      <th>br_long</th>\n",
       "      <th>start_lat</th>\n",
       "      <th>start_long</th>\n",
       "      <th>end_lat</th>\n",
       "      <th>end_long</th>\n",
       "      <th>Hexagon_Coordinates</th>\n",
       "      <th>...</th>\n",
       "      <th>n_2012</th>\n",
       "      <th>n_2022</th>\n",
       "      <th>n_2023</th>\n",
       "      <th>car_time_1</th>\n",
       "      <th>car_time_alt</th>\n",
       "      <th>car_dist_1</th>\n",
       "      <th>car_dist_alt</th>\n",
       "      <th>time_diff</th>\n",
       "      <th>dist_diff</th>\n",
       "      <th>O_times_time_diff</th>\n",
       "    </tr>\n",
       "  </thead>\n",
       "  <tbody>\n",
       "    <tr>\n",
       "      <th>67</th>\n",
       "      <td>M4240</td>\n",
       "      <td>Humenné</td>\n",
       "      <td>None</td>\n",
       "      <td>48.928456</td>\n",
       "      <td>21.912401</td>\n",
       "      <td>48.931729</td>\n",
       "      <td>21.957430</td>\n",
       "      <td>48.930384</td>\n",
       "      <td>21.874145</td>\n",
       "      <td>[[21.91267470937467, 48.928456086], [21.912537...</td>\n",
       "      <td>...</td>\n",
       "      <td>3</td>\n",
       "      <td>5</td>\n",
       "      <td>6</td>\n",
       "      <td>8.612083</td>\n",
       "      <td>64.007533</td>\n",
       "      <td>7.022536</td>\n",
       "      <td>51.156541</td>\n",
       "      <td>55.395450</td>\n",
       "      <td>44.134005</td>\n",
       "      <td>1.013571e+06</td>\n",
       "    </tr>\n",
       "    <tr>\n",
       "      <th>58</th>\n",
       "      <td>M6289</td>\n",
       "      <td>Stará Ľubovňa</td>\n",
       "      <td>None</td>\n",
       "      <td>49.306690</td>\n",
       "      <td>20.686370</td>\n",
       "      <td>49.302170</td>\n",
       "      <td>20.687249</td>\n",
       "      <td>49.302824</td>\n",
       "      <td>20.641968</td>\n",
       "      <td>[[20.686645552661037, 49.30669], [20.686507776...</td>\n",
       "      <td>...</td>\n",
       "      <td>2</td>\n",
       "      <td>5</td>\n",
       "      <td>5</td>\n",
       "      <td>5.187250</td>\n",
       "      <td>53.424200</td>\n",
       "      <td>4.113475</td>\n",
       "      <td>51.394764</td>\n",
       "      <td>48.236950</td>\n",
       "      <td>47.281289</td>\n",
       "      <td>7.234578e+05</td>\n",
       "    </tr>\n",
       "    <tr>\n",
       "      <th>40</th>\n",
       "      <td>M1514</td>\n",
       "      <td>Komárno</td>\n",
       "      <td>None</td>\n",
       "      <td>47.762158</td>\n",
       "      <td>18.143206</td>\n",
       "      <td>47.766700</td>\n",
       "      <td>18.154460</td>\n",
       "      <td>47.765664</td>\n",
       "      <td>18.091368</td>\n",
       "      <td>[[18.14347349132844, 47.76215808], [18.1433398...</td>\n",
       "      <td>...</td>\n",
       "      <td>5</td>\n",
       "      <td>6</td>\n",
       "      <td>6</td>\n",
       "      <td>8.195683</td>\n",
       "      <td>53.105200</td>\n",
       "      <td>5.219593</td>\n",
       "      <td>45.815349</td>\n",
       "      <td>44.909517</td>\n",
       "      <td>40.595756</td>\n",
       "      <td>7.081333e+05</td>\n",
       "    </tr>\n",
       "    <tr>\n",
       "      <th>87</th>\n",
       "      <td>M6702</td>\n",
       "      <td>Hlohovec</td>\n",
       "      <td>None</td>\n",
       "      <td>48.430096</td>\n",
       "      <td>17.791829</td>\n",
       "      <td>48.425339</td>\n",
       "      <td>17.803328</td>\n",
       "      <td>48.439491</td>\n",
       "      <td>17.712535</td>\n",
       "      <td>[[17.792099859197307, 48.430096307], [17.79196...</td>\n",
       "      <td>...</td>\n",
       "      <td>4</td>\n",
       "      <td>5</td>\n",
       "      <td>6</td>\n",
       "      <td>7.994517</td>\n",
       "      <td>43.430700</td>\n",
       "      <td>7.158568</td>\n",
       "      <td>44.692739</td>\n",
       "      <td>35.436183</td>\n",
       "      <td>37.534171</td>\n",
       "      <td>5.506074e+05</td>\n",
       "    </tr>\n",
       "    <tr>\n",
       "      <th>29</th>\n",
       "      <td>M3265</td>\n",
       "      <td>Banská Bystrica</td>\n",
       "      <td>None</td>\n",
       "      <td>48.778806</td>\n",
       "      <td>19.124916</td>\n",
       "      <td>48.790308</td>\n",
       "      <td>19.103030</td>\n",
       "      <td>48.737204</td>\n",
       "      <td>19.140441</td>\n",
       "      <td>[[19.125188498178176, 48.778806376], [19.12505...</td>\n",
       "      <td>...</td>\n",
       "      <td>4</td>\n",
       "      <td>5</td>\n",
       "      <td>5</td>\n",
       "      <td>10.217700</td>\n",
       "      <td>43.833700</td>\n",
       "      <td>7.963645</td>\n",
       "      <td>19.035463</td>\n",
       "      <td>33.616000</td>\n",
       "      <td>11.071818</td>\n",
       "      <td>3.854747e+05</td>\n",
       "    </tr>\n",
       "    <tr>\n",
       "      <th>...</th>\n",
       "      <td>...</td>\n",
       "      <td>...</td>\n",
       "      <td>...</td>\n",
       "      <td>...</td>\n",
       "      <td>...</td>\n",
       "      <td>...</td>\n",
       "      <td>...</td>\n",
       "      <td>...</td>\n",
       "      <td>...</td>\n",
       "      <td>...</td>\n",
       "      <td>...</td>\n",
       "      <td>...</td>\n",
       "      <td>...</td>\n",
       "      <td>...</td>\n",
       "      <td>...</td>\n",
       "      <td>...</td>\n",
       "      <td>...</td>\n",
       "      <td>...</td>\n",
       "      <td>...</td>\n",
       "      <td>...</td>\n",
       "      <td>...</td>\n",
       "    </tr>\n",
       "    <tr>\n",
       "      <th>20</th>\n",
       "      <td>M5723</td>\n",
       "      <td>Detva</td>\n",
       "      <td>None</td>\n",
       "      <td>48.545846</td>\n",
       "      <td>19.334897</td>\n",
       "      <td>48.544268</td>\n",
       "      <td>19.399982</td>\n",
       "      <td>48.549308</td>\n",
       "      <td>19.304028</td>\n",
       "      <td>[[19.335168411920563, 48.545845803], [19.33503...</td>\n",
       "      <td>...</td>\n",
       "      <td>4</td>\n",
       "      <td>6</td>\n",
       "      <td>6</td>\n",
       "      <td>6.485667</td>\n",
       "      <td>6.379583</td>\n",
       "      <td>7.346073</td>\n",
       "      <td>8.607793</td>\n",
       "      <td>-0.106083</td>\n",
       "      <td>1.261720</td>\n",
       "      <td>-4.494751e+02</td>\n",
       "    </tr>\n",
       "    <tr>\n",
       "      <th>138</th>\n",
       "      <td>M6054</td>\n",
       "      <td>Hlohovec</td>\n",
       "      <td>None</td>\n",
       "      <td>48.366082</td>\n",
       "      <td>17.736201</td>\n",
       "      <td>48.284953</td>\n",
       "      <td>17.733761</td>\n",
       "      <td>48.435454</td>\n",
       "      <td>17.768358</td>\n",
       "      <td>[[17.73647135769861, 48.366081596], [17.736336...</td>\n",
       "      <td>...</td>\n",
       "      <td>5</td>\n",
       "      <td>6</td>\n",
       "      <td>6</td>\n",
       "      <td>23.404483</td>\n",
       "      <td>22.060483</td>\n",
       "      <td>18.355872</td>\n",
       "      <td>33.845871</td>\n",
       "      <td>-1.344000</td>\n",
       "      <td>15.489999</td>\n",
       "      <td>-3.592512e+03</td>\n",
       "    </tr>\n",
       "    <tr>\n",
       "      <th>94</th>\n",
       "      <td>M7088</td>\n",
       "      <td>Spišská Nová Ves</td>\n",
       "      <td>None</td>\n",
       "      <td>48.916991</td>\n",
       "      <td>20.582879</td>\n",
       "      <td>48.909656</td>\n",
       "      <td>20.584604</td>\n",
       "      <td>48.941746</td>\n",
       "      <td>20.576181</td>\n",
       "      <td>[[20.583152396604714, 48.916991], [20.58301569...</td>\n",
       "      <td>...</td>\n",
       "      <td>4</td>\n",
       "      <td>5</td>\n",
       "      <td>6</td>\n",
       "      <td>8.140600</td>\n",
       "      <td>NaN</td>\n",
       "      <td>5.181574</td>\n",
       "      <td>NaN</td>\n",
       "      <td>NaN</td>\n",
       "      <td>NaN</td>\n",
       "      <td>NaN</td>\n",
       "    </tr>\n",
       "    <tr>\n",
       "      <th>107</th>\n",
       "      <td>M3011</td>\n",
       "      <td>Bratislava I</td>\n",
       "      <td>None</td>\n",
       "      <td>48.162426</td>\n",
       "      <td>17.097242</td>\n",
       "      <td>48.168682</td>\n",
       "      <td>17.076438</td>\n",
       "      <td>48.159364</td>\n",
       "      <td>17.104073</td>\n",
       "      <td>[[17.097511269343144, 48.162426001], [17.09737...</td>\n",
       "      <td>...</td>\n",
       "      <td>4</td>\n",
       "      <td>5</td>\n",
       "      <td>5</td>\n",
       "      <td>3.126500</td>\n",
       "      <td>NaN</td>\n",
       "      <td>2.373473</td>\n",
       "      <td>NaN</td>\n",
       "      <td>NaN</td>\n",
       "      <td>NaN</td>\n",
       "      <td>NaN</td>\n",
       "    </tr>\n",
       "    <tr>\n",
       "      <th>114</th>\n",
       "      <td>M5686</td>\n",
       "      <td>Liptovský Mikuláš</td>\n",
       "      <td>None</td>\n",
       "      <td>48.989582</td>\n",
       "      <td>19.589652</td>\n",
       "      <td>48.968615</td>\n",
       "      <td>19.580533</td>\n",
       "      <td>49.083663</td>\n",
       "      <td>19.606877</td>\n",
       "      <td>[[19.589925611704977, 48.989582193], [19.58978...</td>\n",
       "      <td>...</td>\n",
       "      <td>3</td>\n",
       "      <td>5</td>\n",
       "      <td>5</td>\n",
       "      <td>23.465883</td>\n",
       "      <td>NaN</td>\n",
       "      <td>15.845723</td>\n",
       "      <td>NaN</td>\n",
       "      <td>NaN</td>\n",
       "      <td>NaN</td>\n",
       "      <td>NaN</td>\n",
       "    </tr>\n",
       "  </tbody>\n",
       "</table>\n",
       "<p>148 rows × 36 columns</p>\n",
       "</div>"
      ],
      "text/plain": [
       "    ID_mosta              Okres Custom_coor     br_lat    br_long  start_lat  \\\n",
       "67     M4240            Humenné        None  48.928456  21.912401  48.931729   \n",
       "58     M6289      Stará Ľubovňa        None  49.306690  20.686370  49.302170   \n",
       "40     M1514            Komárno        None  47.762158  18.143206  47.766700   \n",
       "87     M6702           Hlohovec        None  48.430096  17.791829  48.425339   \n",
       "29     M3265    Banská Bystrica        None  48.778806  19.124916  48.790308   \n",
       "..       ...                ...         ...        ...        ...        ...   \n",
       "20     M5723              Detva        None  48.545846  19.334897  48.544268   \n",
       "138    M6054           Hlohovec        None  48.366082  17.736201  48.284953   \n",
       "94     M7088   Spišská Nová Ves        None  48.916991  20.582879  48.909656   \n",
       "107    M3011       Bratislava I        None  48.162426  17.097242  48.168682   \n",
       "114    M5686  Liptovský Mikuláš        None  48.989582  19.589652  48.968615   \n",
       "\n",
       "     start_long    end_lat   end_long  \\\n",
       "67    21.957430  48.930384  21.874145   \n",
       "58    20.687249  49.302824  20.641968   \n",
       "40    18.154460  47.765664  18.091368   \n",
       "87    17.803328  48.439491  17.712535   \n",
       "29    19.103030  48.737204  19.140441   \n",
       "..          ...        ...        ...   \n",
       "20    19.399982  48.549308  19.304028   \n",
       "138   17.733761  48.435454  17.768358   \n",
       "94    20.584604  48.941746  20.576181   \n",
       "107   17.076438  48.159364  17.104073   \n",
       "114   19.580533  49.083663  19.606877   \n",
       "\n",
       "                                   Hexagon_Coordinates  ... n_2012 n_2022  \\\n",
       "67   [[21.91267470937467, 48.928456086], [21.912537...  ...      3      5   \n",
       "58   [[20.686645552661037, 49.30669], [20.686507776...  ...      2      5   \n",
       "40   [[18.14347349132844, 47.76215808], [18.1433398...  ...      5      6   \n",
       "87   [[17.792099859197307, 48.430096307], [17.79196...  ...      4      5   \n",
       "29   [[19.125188498178176, 48.778806376], [19.12505...  ...      4      5   \n",
       "..                                                 ...  ...    ...    ...   \n",
       "20   [[19.335168411920563, 48.545845803], [19.33503...  ...      4      6   \n",
       "138  [[17.73647135769861, 48.366081596], [17.736336...  ...      5      6   \n",
       "94   [[20.583152396604714, 48.916991], [20.58301569...  ...      4      5   \n",
       "107  [[17.097511269343144, 48.162426001], [17.09737...  ...      4      5   \n",
       "114  [[19.589925611704977, 48.989582193], [19.58978...  ...      3      5   \n",
       "\n",
       "    n_2023 car_time_1 car_time_alt  car_dist_1  car_dist_alt  time_diff  \\\n",
       "67       6   8.612083    64.007533    7.022536     51.156541  55.395450   \n",
       "58       5   5.187250    53.424200    4.113475     51.394764  48.236950   \n",
       "40       6   8.195683    53.105200    5.219593     45.815349  44.909517   \n",
       "87       6   7.994517    43.430700    7.158568     44.692739  35.436183   \n",
       "29       5  10.217700    43.833700    7.963645     19.035463  33.616000   \n",
       "..     ...        ...          ...         ...           ...        ...   \n",
       "20       6   6.485667     6.379583    7.346073      8.607793  -0.106083   \n",
       "138      6  23.404483    22.060483   18.355872     33.845871  -1.344000   \n",
       "94       6   8.140600          NaN    5.181574           NaN        NaN   \n",
       "107      5   3.126500          NaN    2.373473           NaN        NaN   \n",
       "114      5  23.465883          NaN   15.845723           NaN        NaN   \n",
       "\n",
       "     dist_diff O_times_time_diff  \n",
       "67   44.134005      1.013571e+06  \n",
       "58   47.281289      7.234578e+05  \n",
       "40   40.595756      7.081333e+05  \n",
       "87   37.534171      5.506074e+05  \n",
       "29   11.071818      3.854747e+05  \n",
       "..         ...               ...  \n",
       "20    1.261720     -4.494751e+02  \n",
       "138  15.489999     -3.592512e+03  \n",
       "94         NaN               NaN  \n",
       "107        NaN               NaN  \n",
       "114        NaN               NaN  \n",
       "\n",
       "[148 rows x 36 columns]"
      ]
     },
     "execution_count": 166,
     "metadata": {},
     "output_type": "execute_result"
    }
   ],
   "source": [
    "df_routes_time = df_routes_time.sort_values(\n",
    "    by='O_times_time_diff', ascending=False)\n",
    "df_routes_time"
   ]
  },
  {
   "cell_type": "code",
   "execution_count": 168,
   "metadata": {},
   "outputs": [],
   "source": [
    "df_routes_analyze = df_routes_time.copy()"
   ]
  },
  {
   "cell_type": "code",
   "execution_count": 169,
   "metadata": {},
   "outputs": [
    {
     "data": {
      "text/plain": [
       "Index(['ID_mosta', 'Okres', 'Custom_coor', 'br_lat', 'br_long', 'start_lat',\n",
       "       'start_long', 'end_lat', 'end_long', 'Hexagon_Coordinates', 'car_req_1',\n",
       "       'car_req_alt', 'car_resp_1', 'car_resp_alt', 'ID_úseku', 'T', 'O', 'M',\n",
       "       'Trieda_PK', 'Názov_mosta', 'Druh_konštrukcie', 'Material',\n",
       "       'Predmet_premostenia', 'Rok_postavenia', 'Dĺžka_premostenia',\n",
       "       'Volná_šírka_mosta', 'n_2012', 'n_2022', 'n_2023', 'car_time_1',\n",
       "       'car_time_alt', 'car_dist_1', 'car_dist_alt', 'time_diff', 'dist_diff',\n",
       "       'O_times_time_diff'],\n",
       "      dtype='object')"
      ]
     },
     "execution_count": 169,
     "metadata": {},
     "output_type": "execute_result"
    }
   ],
   "source": [
    "df_routes_analyze.columns"
   ]
  },
  {
   "cell_type": "code",
   "execution_count": 170,
   "metadata": {},
   "outputs": [],
   "source": [
    "columns_to_drop = ['Custom_coor', 'Hexagon_Coordinates',\n",
    "                   'car_req_1', 'car_req_alt', 'car_resp_1', 'car_resp_alt', 'O_times_time_diff']\n",
    "df_routes_analyze = df_routes_analyze.drop(columns=columns_to_drop)"
   ]
  },
  {
   "cell_type": "code",
   "execution_count": 172,
   "metadata": {},
   "outputs": [],
   "source": [
    "file_path = 'df_routes_analyze.xlsx'\n",
    "\n",
    "# Use the to_excel() method to save the DataFrame\n",
    "df_routes_analyze.to_excel(file_path, index=False)"
   ]
  },
  {
   "cell_type": "code",
   "execution_count": 285,
   "metadata": {},
   "outputs": [
    {
     "name": "stdout",
     "output_type": "stream",
     "text": [
      "{\n",
      "  \"points\": [\n",
      "    [\n",
      "      17.076438,\n",
      "      48.168682\n",
      "    ],\n",
      "    [\n",
      "      17.104073,\n",
      "      48.159364\n",
      "    ]\n",
      "  ],\n",
      "  \"profile\": \"car\",\n",
      "  \"points_encoded\": false,\n",
      "  \"ch.disable\": true,\n",
      "  \"custom_model\": {\n",
      "    \"distance_influence\": 15,\n",
      "    \"priority\": [\n",
      "      {\n",
      "        \"if\": \"in_area1\",\n",
      "        \"multiply_by\": 0\n",
      "      }\n",
      "    ],\n",
      "    \"speed\": [],\n",
      "    \"areas\": {\n",
      "      \"area1\": {\n",
      "        \"type\": \"Feature\",\n",
      "        \"geometry\": {\n",
      "          \"type\": \"Polygon\",\n",
      "          \"coordinates\": [\n",
      "            [\n",
      "              [\n",
      "                17.097511269343144,\n",
      "                48.162426001\n",
      "              ],\n",
      "              [\n",
      "                17.097376593671573,\n",
      "                48.16258159377133\n",
      "              ],\n",
      "              [\n",
      "                17.09710724232843,\n",
      "                48.16258159377133\n",
      "              ],\n",
      "              [\n",
      "                17.09697256665686,\n",
      "                48.162426001\n",
      "              ],\n",
      "              [\n",
      "                17.09710724232843,\n",
      "                48.16227040822867\n",
      "              ],\n",
      "              [\n",
      "                17.097376593671573,\n",
      "                48.16227040822867\n",
      "              ],\n",
      "              [\n",
      "                17.097511269343144,\n",
      "                48.162426001\n",
      "              ]\n",
      "            ]\n",
      "          ]\n",
      "        },\n",
      "        \"properties\": {}\n",
      "      }\n",
      "    }\n",
      "  }\n",
      "}\n"
     ]
    }
   ],
   "source": [
    "bridge_m5316 = df_routes[df_routes['ID_mosta'] == 'M3011']\n",
    "print(bridge_m5316['car_req_alt'].item())"
   ]
  }
 ],
 "metadata": {
  "kernelspec": {
   "display_name": "Python 3",
   "language": "python",
   "name": "python3"
  },
  "language_info": {
   "codemirror_mode": {
    "name": "ipython",
    "version": 3
   },
   "file_extension": ".py",
   "mimetype": "text/x-python",
   "name": "python",
   "nbconvert_exporter": "python",
   "pygments_lexer": "ipython3",
   "version": "3.11.4"
  }
 },
 "nbformat": 4,
 "nbformat_minor": 2
}
