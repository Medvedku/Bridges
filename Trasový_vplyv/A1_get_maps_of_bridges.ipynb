{
 "cells": [
  {
   "cell_type": "code",
   "execution_count": 7,
   "metadata": {},
   "outputs": [
    {
     "name": "stderr",
     "output_type": "stream",
     "text": [
      "C:\\Users\\Doktor\\AppData\\Local\\Temp\\ipykernel_16408\\232746929.py:12: DtypeWarning: Columns (5,16) have mixed types. Specify dtype option on import or set low_memory=False.\n",
      "  df_nodes = pd.read_csv(nodes_path, encoding='utf-8', delimiter=',')\n",
      "C:\\Users\\Doktor\\AppData\\Local\\Temp\\ipykernel_16408\\232746929.py:13: DtypeWarning: Columns (10,11,12,25,26,27) have mixed types. Specify dtype option on import or set low_memory=False.\n",
      "  df_roads = pd.read_csv(roads_path, encoding='utf-8', delimiter=',')\n"
     ]
    }
   ],
   "source": [
    "import pandas as pd\n",
    "\n",
    "# Define the file path\n",
    "nodes_path = r\"C:\\Users\\Doktor\\Documents\\GitHub\\Bridges\\Data\\Nodes_processed.csv\"\n",
    "roads_path = r\"C:\\Users\\Doktor\\Documents\\GitHub\\Bridges\\Data\\Roads_processed.csv\"\n",
    "bridges_path = r\"C:\\Users\\Doktor\\Documents\\GitHub\\Bridges\\Data\\Bridges_processed.csv\"\n",
    "bridges_selected_path = r\"C:\\Users\\Doktor\\Documents\\GitHub\\Bridges\\Data\\Bridges_selected.csv\"\n",
    "survey_path = r\"C:\\Users\\Doktor\\Documents\\GitHub\\Bridges\\Data\\surveys\\Survey.csv\"\n",
    "\n",
    "\n",
    "# Load the CSV data into a DataFrame\n",
    "df_nodes = pd.read_csv(nodes_path, encoding='utf-8', delimiter=',')\n",
    "df_roads = pd.read_csv(roads_path, encoding='utf-8', delimiter=',')\n",
    "df_bridges_all = pd.read_csv(bridges_path, encoding='utf-8', delimiter=',')\n",
    "df_bridges_sel = pd.read_csv(\n",
    "    bridges_selected_path, encoding='utf-8', delimiter=',')\n",
    "df_survey = pd.read_csv(survey_path, encoding='utf-8', delimiter=',')"
   ]
  },
  {
   "cell_type": "code",
   "execution_count": 3,
   "metadata": {},
   "outputs": [
    {
     "data": {
      "text/plain": [
       "Index(['ID_mosta', 'Trieda_PK', 'Číslo_PK', 'Most_DC', 'Názov_mosta', 'ID_DC',\n",
       "       'správcovské_číslo', 'Zemepisná_dĺžka', 'Zemepisná_šírka', 'Výška',\n",
       "       'Druh_konštrukcie', 'Material', 'Normálna_zaťažiteľnosť',\n",
       "       'Výhradná_zaťažiteľnosť_t', 'Výnimočná_zaťažiteľnosť_t',\n",
       "       'Spôsob_stanovenia', 'Predmet_premostenia', 'Rok_postavenia',\n",
       "       'Zaťažovacia_trieda_STN', 'Počet_otvorov', 'Dĺžka_premostenia',\n",
       "       'Dĺžka_nosnej_konštrukcie_m', 'Volná_šírka_mosta',\n",
       "       'Šírka_medzi_obrubami_m', 'Plocha_mosnej_konštrukcie_m2',\n",
       "       'Plocha_mosta_m2', 'Vlastník_úseku', 'Správca_úseku', 'Okres',\n",
       "       'Smer_úseku', 'Typ_úseku', 'Počiatočný_uzol', 'Koncový_uzol', 'úsek_ID',\n",
       "       'úsekové_staničenie_začiatku_DC_m',\n",
       "       'Kilometrovníkové_staničenie_začiatku_DC_km',\n",
       "       'Kumulatívne_staničenie_začiatku_DC_km', 'Poradie', 'Kraj', 'n_2012',\n",
       "       'n_2013', 'n_2014', 'n_2015', 'n_2016', 'n_2017', 'n_2018', 'n_2019',\n",
       "       'n_2020', 'n_2021', 'n_2022', 'n_2023'],\n",
       "      dtype='object')"
      ]
     },
     "execution_count": 3,
     "metadata": {},
     "output_type": "execute_result"
    }
   ],
   "source": [
    "df_bridges_all.columns"
   ]
  },
  {
   "cell_type": "code",
   "execution_count": 20,
   "metadata": {},
   "outputs": [
    {
     "data": {
      "text/plain": [
       "Index(['Prešov', 'Žilina', 'Košice - okolie', 'Levice', 'Rimavská Sobota',\n",
       "       'Bardejov', 'Liptovský Mikuláš', 'Čadca', 'Prievidza', 'Nezistený',\n",
       "       'Trenčín', 'Banská Bystrica', 'Poprad', 'Žiar nad Hronom', 'Svidník',\n",
       "       'Zvolen', 'Nitra', 'Brezno', 'Lučenec', 'Veľký Krtíš', 'Stará Ľubovňa',\n",
       "       'Kežmarok', 'Martin', 'Humenné', 'Trebišov', 'Vranov nad Topľou',\n",
       "       'Považská Bystrica', 'Rožňava', 'Žarnovica', 'Trnava',\n",
       "       'Nové Mesto nad Váhom', 'Levoča', 'Krupina', 'Michalovce',\n",
       "       'Zlaté Moravce', 'Ružomberok', 'Dolný Kubín', 'Nové Zámky', 'Púchov',\n",
       "       'Revúca', 'Malacky', 'Senica', 'Námestovo', 'Dunajská Streda',\n",
       "       'Stropkov', 'Snina', 'Sabinov', 'Topoľčany', 'Komárno', 'Tvrdošín',\n",
       "       'Detva', 'Spišská Nová Ves', 'Medzilaborce', 'Galanta',\n",
       "       'Turčianske Teplice', 'Bratislava II', 'Bánovce nad Bebravou',\n",
       "       'Sobrance', 'Bytča', 'Myjava', 'Gelnica', 'Senec', 'Ilava', 'Piešťany',\n",
       "       'Poltár', 'Pezinok', 'Bratislava V', 'Skalica', 'Kysucké Nové Mesto',\n",
       "       'Hlohovec', 'Banská Štiavnica', 'Partizánske', 'Bratislava IV',\n",
       "       'Košice I', 'Šaľa', 'Košice IV', 'Košice II', 'Bratislava III',\n",
       "       'Košice III', 'Bratislava I'],\n",
       "      dtype='object', name='Okres')"
      ]
     },
     "execution_count": 20,
     "metadata": {},
     "output_type": "execute_result"
    }
   ],
   "source": [
    "df_bridges_all['Okres'].value_counts().keys()"
   ]
  },
  {
   "cell_type": "code",
   "execution_count": 8,
   "metadata": {},
   "outputs": [
    {
     "data": {
      "text/plain": [
       "Index(['ÚSEK', 'CESTA', 'OKRES', 'T', 'O', 'M', 'S'], dtype='object')"
      ]
     },
     "execution_count": 8,
     "metadata": {},
     "output_type": "execute_result"
    }
   ],
   "source": [
    "df_survey.columns"
   ]
  },
  {
   "cell_type": "code",
   "execution_count": 29,
   "metadata": {},
   "outputs": [
    {
     "data": {
      "text/html": [
       "<div style=\"width:100%;\"><div style=\"position:relative;width:100%;height:0;padding-bottom:60%;\"><span style=\"color:#565656\">Make this Notebook Trusted to load map: File -> Trust Notebook</span><iframe srcdoc=\"&lt;!DOCTYPE html&gt;\n",
       "&lt;html&gt;\n",
       "&lt;head&gt;\n",
       "    \n",
       "    &lt;meta http-equiv=&quot;content-type&quot; content=&quot;text/html; charset=UTF-8&quot; /&gt;\n",
       "    \n",
       "        &lt;script&gt;\n",
       "            L_NO_TOUCH = false;\n",
       "            L_DISABLE_3D = false;\n",
       "        &lt;/script&gt;\n",
       "    \n",
       "    &lt;style&gt;html, body {width: 100%;height: 100%;margin: 0;padding: 0;}&lt;/style&gt;\n",
       "    &lt;style&gt;#map {position:absolute;top:0;bottom:0;right:0;left:0;}&lt;/style&gt;\n",
       "    &lt;script src=&quot;https://cdn.jsdelivr.net/npm/leaflet@1.9.3/dist/leaflet.js&quot;&gt;&lt;/script&gt;\n",
       "    &lt;script src=&quot;https://code.jquery.com/jquery-1.12.4.min.js&quot;&gt;&lt;/script&gt;\n",
       "    &lt;script src=&quot;https://cdn.jsdelivr.net/npm/bootstrap@5.2.2/dist/js/bootstrap.bundle.min.js&quot;&gt;&lt;/script&gt;\n",
       "    &lt;script src=&quot;https://cdnjs.cloudflare.com/ajax/libs/Leaflet.awesome-markers/2.0.2/leaflet.awesome-markers.js&quot;&gt;&lt;/script&gt;\n",
       "    &lt;link rel=&quot;stylesheet&quot; href=&quot;https://cdn.jsdelivr.net/npm/leaflet@1.9.3/dist/leaflet.css&quot;/&gt;\n",
       "    &lt;link rel=&quot;stylesheet&quot; href=&quot;https://cdn.jsdelivr.net/npm/bootstrap@5.2.2/dist/css/bootstrap.min.css&quot;/&gt;\n",
       "    &lt;link rel=&quot;stylesheet&quot; href=&quot;https://netdna.bootstrapcdn.com/bootstrap/3.0.0/css/bootstrap.min.css&quot;/&gt;\n",
       "    &lt;link rel=&quot;stylesheet&quot; href=&quot;https://cdn.jsdelivr.net/npm/@fortawesome/fontawesome-free@6.2.0/css/all.min.css&quot;/&gt;\n",
       "    &lt;link rel=&quot;stylesheet&quot; href=&quot;https://cdnjs.cloudflare.com/ajax/libs/Leaflet.awesome-markers/2.0.2/leaflet.awesome-markers.css&quot;/&gt;\n",
       "    &lt;link rel=&quot;stylesheet&quot; href=&quot;https://cdn.jsdelivr.net/gh/python-visualization/folium/folium/templates/leaflet.awesome.rotate.min.css&quot;/&gt;\n",
       "    \n",
       "            &lt;meta name=&quot;viewport&quot; content=&quot;width=device-width,\n",
       "                initial-scale=1.0, maximum-scale=1.0, user-scalable=no&quot; /&gt;\n",
       "            &lt;style&gt;\n",
       "                #map_18148dcd0c78f3c3de0467d6076f8856 {\n",
       "                    position: relative;\n",
       "                    width: 100.0%;\n",
       "                    height: 100.0%;\n",
       "                    left: 0.0%;\n",
       "                    top: 0.0%;\n",
       "                }\n",
       "                .leaflet-container { font-size: 1rem; }\n",
       "            &lt;/style&gt;\n",
       "        \n",
       "&lt;/head&gt;\n",
       "&lt;body&gt;\n",
       "    \n",
       "    \n",
       "            &lt;div class=&quot;folium-map&quot; id=&quot;map_18148dcd0c78f3c3de0467d6076f8856&quot; &gt;&lt;/div&gt;\n",
       "        \n",
       "&lt;/body&gt;\n",
       "&lt;script&gt;\n",
       "    \n",
       "    \n",
       "            var map_18148dcd0c78f3c3de0467d6076f8856 = L.map(\n",
       "                &quot;map_18148dcd0c78f3c3de0467d6076f8856&quot;,\n",
       "                {\n",
       "                    center: [48.771447, 18.627088],\n",
       "                    crs: L.CRS.EPSG3857,\n",
       "                    zoom: 10,\n",
       "                    zoomControl: true,\n",
       "                    preferCanvas: false,\n",
       "                }\n",
       "            );\n",
       "\n",
       "            \n",
       "\n",
       "        \n",
       "    \n",
       "            var tile_layer_fade9972392bd34a896831f6b962d1c5 = L.tileLayer(\n",
       "                &quot;https://{s}.tile.openstreetmap.org/{z}/{x}/{y}.png&quot;,\n",
       "                {&quot;attribution&quot;: &quot;Data by \\u0026copy; \\u003ca target=\\&quot;_blank\\&quot; href=\\&quot;http://openstreetmap.org\\&quot;\\u003eOpenStreetMap\\u003c/a\\u003e, under \\u003ca target=\\&quot;_blank\\&quot; href=\\&quot;http://www.openstreetmap.org/copyright\\&quot;\\u003eODbL\\u003c/a\\u003e.&quot;, &quot;detectRetina&quot;: false, &quot;maxNativeZoom&quot;: 18, &quot;maxZoom&quot;: 18, &quot;minZoom&quot;: 0, &quot;noWrap&quot;: false, &quot;opacity&quot;: 1, &quot;subdomains&quot;: &quot;abc&quot;, &quot;tms&quot;: false}\n",
       "            ).addTo(map_18148dcd0c78f3c3de0467d6076f8856);\n",
       "        \n",
       "    \n",
       "            var marker_a6971538c1058d285d86957de18b3d29 = L.marker(\n",
       "                [48.162426001, 17.097241918],\n",
       "                {}\n",
       "            ).addTo(map_18148dcd0c78f3c3de0467d6076f8856);\n",
       "        \n",
       "    \n",
       "            var icon_f95972e6e949e1bb51f1d4e682a0ff4f = L.AwesomeMarkers.icon(\n",
       "                {&quot;extraClasses&quot;: &quot;fa-rotate-0&quot;, &quot;icon&quot;: &quot;cloud&quot;, &quot;iconColor&quot;: &quot;white&quot;, &quot;markerColor&quot;: &quot;blue&quot;, &quot;prefix&quot;: &quot;glyphicon&quot;}\n",
       "            );\n",
       "            marker_a6971538c1058d285d86957de18b3d29.setIcon(icon_f95972e6e949e1bb51f1d4e682a0ff4f);\n",
       "        \n",
       "    \n",
       "        var popup_96dfcc7a5f934ffe3295e4d5e06735d4 = L.popup({&quot;maxWidth&quot;: &quot;100%&quot;});\n",
       "\n",
       "        \n",
       "            \n",
       "                var html_3e7ce9981acc5aaef3e611d60bff3655 = $(`&lt;div id=&quot;html_3e7ce9981acc5aaef3e611d60bff3655&quot; style=&quot;width: 100.0%; height: 100.0%;&quot;&gt;ID_mosta: M3011&lt;/div&gt;`)[0];\n",
       "                popup_96dfcc7a5f934ffe3295e4d5e06735d4.setContent(html_3e7ce9981acc5aaef3e611d60bff3655);\n",
       "            \n",
       "        \n",
       "\n",
       "        marker_a6971538c1058d285d86957de18b3d29.bindPopup(popup_96dfcc7a5f934ffe3295e4d5e06735d4)\n",
       "        ;\n",
       "\n",
       "        \n",
       "    \n",
       "&lt;/script&gt;\n",
       "&lt;/html&gt;\" style=\"position:absolute;width:100%;height:100%;left:0;top:0;border:none !important;\" allowfullscreen webkitallowfullscreen mozallowfullscreen></iframe></div></div>"
      ],
      "text/plain": [
       "<folium.folium.Map at 0x22958939b50>"
      ]
     },
     "execution_count": 29,
     "metadata": {},
     "output_type": "execute_result"
    }
   ],
   "source": [
    "import folium\n",
    "\n",
    "# Filter the DataFrame to include only bridges in the district of Prievidza with n_2023 >= 5\n",
    "df_prievidza = df_bridges_all[(df_bridges_all['Okres'] == 'Bratislava I') & (\n",
    "    df_bridges_all['n_2023'] >= 4)]\n",
    "\n",
    "# Create a Folium Map centered on Prievidza (you can adjust the coordinates)\n",
    "m = folium.Map(location=[48.771447, 18.627088], zoom_start=10)\n",
    "\n",
    "# Iterate through the filtered DataFrame and add markers for each bridge\n",
    "for index, row in df_prievidza.iterrows():\n",
    "    bridge_id = row['ID_mosta']\n",
    "    bridge_lat = row['Zemepisná_šírka']\n",
    "    bridge_lon = row['Zemepisná_dĺžka']\n",
    "\n",
    "    # Create a marker for each bridge with its ID_mosta as the popup text\n",
    "    folium.Marker(\n",
    "        location=[bridge_lat, bridge_lon],\n",
    "        popup=f'ID_mosta: {bridge_id}',\n",
    "        icon=folium.Icon(icon='cloud')\n",
    "    ).add_to(m)\n",
    "\n",
    "# Display the map\n",
    "m"
   ]
  },
  {
   "cell_type": "code",
   "execution_count": 27,
   "metadata": {},
   "outputs": [
    {
     "name": "stdout",
     "output_type": "stream",
     "text": [
      "       ÚSEK CESTA               OKRES    T     O   M     S\n",
      "2465  91500    14  Turčianske Teplice  450  2152  39  2641\n"
     ]
    }
   ],
   "source": [
    "# Assuming df_survey is your DataFrame\n",
    "row_with_usek_92100 = df_survey[df_survey['ÚSEK'] == '91500']\n",
    "\n",
    "# Display the row\n",
    "print(row_with_usek_92100)"
   ]
  },
  {
   "cell_type": "code",
   "execution_count": 15,
   "metadata": {},
   "outputs": [
    {
     "name": "stdout",
     "output_type": "stream",
     "text": [
      "       ÚSEK CESTA      OKRES     T     O   M      S\n",
      "1943  91460    64  Prievidza  1368  8789  82  10239\n"
     ]
    }
   ],
   "source": [
    "# Assuming df_survey is your DataFrame\n",
    "row_with_usek_92100 = df_survey[df_survey['ÚSEK'] == '91460']\n",
    "\n",
    "# Display the row\n",
    "print(row_with_usek_92100)"
   ]
  }
 ],
 "metadata": {
  "kernelspec": {
   "display_name": "Python 3",
   "language": "python",
   "name": "python3"
  },
  "language_info": {
   "codemirror_mode": {
    "name": "ipython",
    "version": 3
   },
   "file_extension": ".py",
   "mimetype": "text/x-python",
   "name": "python",
   "nbconvert_exporter": "python",
   "pygments_lexer": "ipython3",
   "version": "3.11.4"
  }
 },
 "nbformat": 4,
 "nbformat_minor": 2
}
