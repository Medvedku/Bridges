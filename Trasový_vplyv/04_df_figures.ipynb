{
 "cells": [
  {
   "cell_type": "code",
   "execution_count": 112,
   "metadata": {},
   "outputs": [],
   "source": [
    "import pandas as pd\n",
    "\n",
    "# Specify the path to your pickle file\n",
    "pickle_filename = 'df_routes.pkl'\n",
    "\n",
    "df_routes = pd.read_pickle(pickle_filename)"
   ]
  },
  {
   "cell_type": "code",
   "execution_count": 113,
   "metadata": {},
   "outputs": [
    {
     "data": {
      "text/plain": [
       "ID_mosta                                                           M1979\n",
       "Okres                                                            Skalica\n",
       "Custom_coor                                                         None\n",
       "br_lat                                                         48.757287\n",
       "br_long                                                        17.079098\n",
       "start_lat                                                      48.729199\n",
       "start_long                                                     17.048036\n",
       "end_lat                                                        48.802668\n",
       "end_long                                                       17.162506\n",
       "Hexagon_Coordinates    [[17.079370628365783, 48.757287384], [17.07923...\n",
       "car_req_1              {\\n  \"points\": [\\n    [\\n      17.04803577,\\n ...\n",
       "car_req_alt            {\\n  \"points\": [\\n    [\\n      17.04803577,\\n ...\n",
       "car_resp_1             {'hints': {'visited_nodes.average': 178.0, 'vi...\n",
       "car_resp_alt           {'hints': {'visited_nodes.average': 1876.0, 'v...\n",
       "ID_úseku                                                           81866\n",
       "T                                                                    800\n",
       "O                                                                   6226\n",
       "M                                                                     42\n",
       "Trieda_PK                                                cesta I. triedy\n",
       "Názov_mosta            02_003 Most cez Cuninský potok medzi obcami Ko...\n",
       "Druh_konštrukcie                                                 dosková\n",
       "Material                                   prefabrikovaný predpätý betón\n",
       "Predmet_premostenia                                            Vodný tok\n",
       "Rok_postavenia                                                      1962\n",
       "Dĺžka_premostenia                                                    8.0\n",
       "Volná_šírka_mosta                                                    9.5\n",
       "n_2012                                                                 3\n",
       "n_2022                                                                 6\n",
       "n_2023                                                                 6\n",
       "car_time_1                                                     11.433033\n",
       "car_time_alt                                                   18.948467\n",
       "car_dist_1                                                     12.199233\n",
       "car_dist_alt                                                   18.500678\n",
       "time_diff                                                       7.515433\n",
       "dist_diff                                                       6.301445\n",
       "Name: 0, dtype: object"
      ]
     },
     "execution_count": 113,
     "metadata": {},
     "output_type": "execute_result"
    }
   ],
   "source": [
    "df_routes.iloc[0]"
   ]
  },
  {
   "cell_type": "markdown",
   "metadata": {},
   "source": [
    "### Create figures"
   ]
  },
  {
   "cell_type": "code",
   "execution_count": 114,
   "metadata": {},
   "outputs": [],
   "source": [
    "import plotly.express as px\n",
    "import numpy as np\n",
    "\n",
    "# Variables for customization\n",
    "axis_font_size = 11\n",
    "axis_tick_font_size = 12\n",
    "title_font_size = 20\n",
    "bg_color = \"#FFFFFF\"\n",
    "fig_color = \"#eeeeee\"\n",
    "bar_color = \"#FF6600\"\n",
    "\n",
    "# Sort the DataFrame by the \"time_diff\" column in ascending order and reset the index\n",
    "df_sorted = df_routes.sort_values(\n",
    "    by='time_diff', ascending=True).reset_index(drop=True)\n",
    "\n",
    "# Calculate the mean value of the \"time_diff\" column\n",
    "mean_time_diff = np.mean(df_sorted['time_diff'])\n",
    "\n",
    "# Create a bar plot using Plotly Express\n",
    "fig = px.bar(\n",
    "    df_sorted,\n",
    "    x=df_sorted.index,\n",
    "    y='time_diff',\n",
    "    title='Časový rozdiel',\n",
    ")\n",
    "\n",
    "# Update the layout to tighten the margins\n",
    "fig.update_layout(\n",
    "    plot_bgcolor=fig_color,\n",
    "    paper_bgcolor=bg_color,\n",
    "    xaxis=dict(\n",
    "        showticklabels=False,\n",
    "        tickfont=dict(size=axis_tick_font_size),\n",
    "    ),\n",
    "    yaxis=dict(\n",
    "        titlefont=dict(size=axis_font_size),\n",
    "        tickfont=dict(size=axis_tick_font_size),\n",
    "    ),\n",
    "    titlefont=dict(size=title_font_size),\n",
    "    xaxis_title=\"\",\n",
    "    yaxis_title=\"Čas [min]\",\n",
    "    margin=dict(l=65, r=25, t=75, b=15),\n",
    ")\n",
    "\n",
    "# Customize bar color\n",
    "fig.update_traces(marker_color=bar_color)\n",
    "\n",
    "fig_width = 800\n",
    "fig_height = 5 * fig_width / 8\n",
    "# Set size of the figure\n",
    "fig.update_layout(width=fig_width, height=fig_height)\n",
    "\n",
    "# Add a horizontal line for the mean value with dashes\n",
    "fig.add_shape(\n",
    "    dict(\n",
    "        type='line',\n",
    "        x0=0, x1=len(df_sorted),  # Start and end positions of the line\n",
    "        y0=mean_time_diff, y1=mean_time_diff,  # Mean value for y\n",
    "        # Customize line color, width, and dash style\n",
    "        line=dict(color='#444444', width=2, dash='dash'),\n",
    "    )\n",
    ")\n",
    "\n",
    "# Add a custom annotation for the mean value\n",
    "fig.add_annotation(\n",
    "    text=f'Priemer: {mean_time_diff:.2f} min',  # Display the mean value\n",
    "    x=25,  # Adjust the x position to place the annotation at the left\n",
    "    # Adjust the y position to place the annotation above the plot (you may need to adjust this value)\n",
    "    y=12.5,\n",
    "    showarrow=False,  # Hide the arrow\n",
    "    font=dict(size=axis_font_size),  # Customize font size\n",
    ")\n",
    "\n",
    "\n",
    "figure_1 = fig"
   ]
  },
  {
   "cell_type": "code",
   "execution_count": 115,
   "metadata": {},
   "outputs": [],
   "source": [
    "# Variables for customization\n",
    "axis_font_size = 11\n",
    "axis_tick_font_size = 12\n",
    "title_font_size = 20\n",
    "bg_color = \"#FFFFFF\"\n",
    "fig_color = \"#eeeeee\"\n",
    "bar_color = \"#FF6600\"\n",
    "\n",
    "# Sort the DataFrame by the \"dist_diff\" column in ascending order and reset the index\n",
    "df_sorted = df_routes.sort_values(\n",
    "    by='dist_diff', ascending=True).reset_index(drop=True)\n",
    "\n",
    "# Calculate the mean value of the \"dist_diff\" column\n",
    "mean_dist_diff = np.mean(df_sorted['dist_diff'])\n",
    "\n",
    "# Create a bar plot using Plotly Express\n",
    "fig = px.bar(\n",
    "    df_sorted,\n",
    "    x=df_sorted.index,\n",
    "    y='dist_diff',\n",
    "    title='Predĺženie trasy',\n",
    ")\n",
    "\n",
    "# Update the layout to tighten the margins\n",
    "fig.update_layout(\n",
    "    plot_bgcolor=fig_color,\n",
    "    paper_bgcolor=bg_color,\n",
    "    xaxis=dict(\n",
    "        showticklabels=False,\n",
    "        tickfont=dict(size=axis_tick_font_size),\n",
    "    ),\n",
    "    yaxis=dict(\n",
    "        titlefont=dict(size=axis_font_size),\n",
    "        tickfont=dict(size=axis_tick_font_size),\n",
    "    ),\n",
    "    titlefont=dict(size=title_font_size),\n",
    "    xaxis_title=\"\",\n",
    "    yaxis_title=\"Vzdialenosť [km]\",\n",
    "    margin=dict(l=65, r=25, t=75, b=15),\n",
    ")\n",
    "\n",
    "# Customize bar color\n",
    "fig.update_traces(marker_color=bar_color)\n",
    "\n",
    "fig_width = 800\n",
    "fig_height = 5 * fig_width / 8\n",
    "# Set size of the figure\n",
    "fig.update_layout(width=fig_width, height=fig_height)\n",
    "# Add a horizontal line for the mean value with dashes\n",
    "fig.add_shape(\n",
    "    dict(\n",
    "        type='line',\n",
    "        x0=0, x1=len(df_sorted),  # Start and end positions of the line\n",
    "        y0=mean_dist_diff, y1=mean_dist_diff,  # Mean value for y\n",
    "        # Customize line color, width, and dash style\n",
    "        line=dict(color='#444444', width=2, dash='dash'),\n",
    "    )\n",
    ")\n",
    "\n",
    "# Add a custom annotation for the mean value\n",
    "fig.add_annotation(\n",
    "    text=f'Priemer: {mean_dist_diff:.2f} km',  # Display the mean value\n",
    "    x=25,  # Adjust the x position to place the annotation at the left\n",
    "    # Adjust the y position to place the annotation above the plot (you may need to adjust this value)\n",
    "    y=7.56 + 2.5,\n",
    "    showarrow=False,  # Hide the arrow\n",
    "    font=dict(size=axis_font_size),  # Customize font size\n",
    ")\n",
    "\n",
    "figure_2 = fig"
   ]
  },
  {
   "cell_type": "markdown",
   "metadata": {},
   "source": [
    "### Show figures"
   ]
  },
  {
   "cell_type": "code",
   "execution_count": 116,
   "metadata": {},
   "outputs": [
    {
     "data": {
      "application/vnd.plotly.v1+json": {
       "config": {
        "plotlyServerURL": "https://plot.ly"
       },
       "data": [
        {
         "alignmentgroup": "True",
         "hovertemplate": "index=%{x}<br>time_diff=%{y}<extra></extra>",
         "legendgroup": "",
         "marker": {
          "color": "#FF6600",
          "pattern": {
           "shape": ""
          }
         },
         "name": "",
         "offsetgroup": "",
         "orientation": "v",
         "showlegend": false,
         "textposition": "auto",
         "type": "bar",
         "x": [
          0,
          1,
          2,
          3,
          4,
          5,
          6,
          7,
          8,
          9,
          10,
          11,
          12,
          13,
          14,
          15,
          16,
          17,
          18,
          19,
          20,
          21,
          22,
          23,
          24,
          25,
          26,
          27,
          28,
          29,
          30,
          31,
          32,
          33,
          34,
          35,
          36,
          37,
          38,
          39,
          40,
          41,
          42,
          43,
          44,
          45,
          46,
          47,
          48,
          49,
          50,
          51,
          52,
          53,
          54,
          55,
          56,
          57,
          58,
          59,
          60,
          61,
          62,
          63,
          64,
          65,
          66,
          67,
          68,
          69,
          70,
          71,
          72,
          73,
          74,
          75,
          76,
          77,
          78,
          79,
          80,
          81,
          82,
          83,
          84,
          85,
          86,
          87,
          88,
          89,
          90,
          91,
          92,
          93,
          94,
          95,
          96,
          97,
          98,
          99,
          100,
          101,
          102,
          103,
          104,
          105,
          106,
          107,
          108,
          109,
          110,
          111,
          112,
          113,
          114,
          115,
          116,
          117,
          118,
          119,
          120,
          121,
          122,
          123,
          124,
          125,
          126,
          127,
          128,
          129,
          130,
          131,
          132,
          133,
          134,
          135,
          136,
          137,
          138,
          139,
          140,
          141,
          142,
          143,
          144,
          145,
          146,
          147
         ],
         "xaxis": "x",
         "y": [
          -1.3440000000000047,
          -0.10608333333333331,
          0,
          0,
          0,
          0.36331666666666695,
          0.437383333333333,
          0.48038333333333405,
          0.6109499999999999,
          0.6837666666666671,
          0.7598666666666674,
          0.7760499999999997,
          0.85215,
          0.9130333333333329,
          0.9272166666666664,
          0.9459999999999997,
          0.9717833333333328,
          1.3928499999999993,
          1.4912333333333336,
          1.5893333333333342,
          1.5901999999999998,
          1.609333333333332,
          1.7572833333333335,
          1.7901166666666666,
          1.8355999999999995,
          1.8983999999999996,
          1.9877666666666656,
          2.08005,
          2.0907999999999998,
          2.095233333333333,
          2.156466666666665,
          2.2664833333333325,
          2.3103833333333323,
          2.3211166666666667,
          2.3349166666666656,
          2.3498000000000006,
          2.4190499999999995,
          2.471233333333333,
          2.5723833333333337,
          2.6761333333333326,
          2.7429333333333323,
          3.11815,
          3.1207666666666665,
          3.2283999999999997,
          3.274749999999994,
          3.2782666666666667,
          3.3528,
          3.4345333333333343,
          3.54945,
          3.5906999999999982,
          3.7167666666666674,
          3.809283333333334,
          4.185416666666667,
          4.287783333333332,
          4.523816666666669,
          4.59945,
          4.768199999999998,
          4.775266666666667,
          4.852266666666667,
          5.065016666666667,
          5.178950000000004,
          5.307600000000001,
          5.4168,
          5.433216666666666,
          5.44265,
          5.511066666666667,
          5.582533333333333,
          5.786716666666665,
          5.8066833333333285,
          5.86275,
          6.0017666666666685,
          6.034800000000001,
          6.581149999999997,
          6.679766666666666,
          6.7060166666666685,
          6.898600000000005,
          7.208133333333334,
          7.287183333333331,
          7.3099,
          7.320600000000001,
          7.326883333333334,
          7.507516666666664,
          7.515433333333332,
          7.586849999999999,
          7.8039000000000005,
          8.096883333333334,
          8.130066666666666,
          8.631233333333332,
          8.73075,
          8.746266666666667,
          8.790766666666663,
          8.839233333333334,
          8.85445,
          9.315683333333334,
          9.765566666666668,
          9.837616666666666,
          9.844983333333335,
          9.861083333333333,
          9.937916666666666,
          10.277183333333333,
          10.37285,
          10.387666666666668,
          10.445633333333333,
          10.45665,
          10.487366666666667,
          10.666566666666666,
          10.719999999999999,
          10.74195,
          10.995583333333332,
          11.0316,
          11.113816666666665,
          11.199516666666668,
          11.630116666666668,
          12.050216666666667,
          12.219316666666668,
          13.106949999999998,
          13.358583333333334,
          13.370449999999995,
          14.771966666666664,
          14.998616666666667,
          15.058250000000001,
          15.389133333333334,
          15.720633333333332,
          16.49781666666667,
          16.787716666666668,
          16.88985,
          16.951366666666665,
          17.663316666666667,
          20.48901666666667,
          20.563916666666668,
          23.610516666666662,
          23.611250000000002,
          24.730666666666668,
          25.308366666666668,
          27.98828333333333,
          30.734933333333338,
          33.616,
          35.43618333333333,
          37.50553333333333,
          44.90951666666666,
          48.23695000000001,
          50.3287,
          55.39545000000001,
          73.82826666666666,
          81.39874999999999,
          null,
          null,
          null
         ],
         "yaxis": "y"
        }
       ],
       "layout": {
        "annotations": [
         {
          "font": {
           "size": 11
          },
          "showarrow": false,
          "text": "Priemer: 10.02 min",
          "x": 25,
          "y": 12.5
         }
        ],
        "barmode": "relative",
        "height": 500,
        "legend": {
         "tracegroupgap": 0
        },
        "margin": {
         "b": 15,
         "l": 65,
         "r": 25,
         "t": 75
        },
        "paper_bgcolor": "#FFFFFF",
        "plot_bgcolor": "#eeeeee",
        "shapes": [
         {
          "line": {
           "color": "#444444",
           "dash": "dash",
           "width": 2
          },
          "type": "line",
          "x0": 0,
          "x1": 148,
          "y0": 10.021827241379313,
          "y1": 10.021827241379313
         }
        ],
        "template": {
         "data": {
          "bar": [
           {
            "error_x": {
             "color": "#2a3f5f"
            },
            "error_y": {
             "color": "#2a3f5f"
            },
            "marker": {
             "line": {
              "color": "#E5ECF6",
              "width": 0.5
             },
             "pattern": {
              "fillmode": "overlay",
              "size": 10,
              "solidity": 0.2
             }
            },
            "type": "bar"
           }
          ],
          "barpolar": [
           {
            "marker": {
             "line": {
              "color": "#E5ECF6",
              "width": 0.5
             },
             "pattern": {
              "fillmode": "overlay",
              "size": 10,
              "solidity": 0.2
             }
            },
            "type": "barpolar"
           }
          ],
          "carpet": [
           {
            "aaxis": {
             "endlinecolor": "#2a3f5f",
             "gridcolor": "white",
             "linecolor": "white",
             "minorgridcolor": "white",
             "startlinecolor": "#2a3f5f"
            },
            "baxis": {
             "endlinecolor": "#2a3f5f",
             "gridcolor": "white",
             "linecolor": "white",
             "minorgridcolor": "white",
             "startlinecolor": "#2a3f5f"
            },
            "type": "carpet"
           }
          ],
          "choropleth": [
           {
            "colorbar": {
             "outlinewidth": 0,
             "ticks": ""
            },
            "type": "choropleth"
           }
          ],
          "contour": [
           {
            "colorbar": {
             "outlinewidth": 0,
             "ticks": ""
            },
            "colorscale": [
             [
              0,
              "#0d0887"
             ],
             [
              0.1111111111111111,
              "#46039f"
             ],
             [
              0.2222222222222222,
              "#7201a8"
             ],
             [
              0.3333333333333333,
              "#9c179e"
             ],
             [
              0.4444444444444444,
              "#bd3786"
             ],
             [
              0.5555555555555556,
              "#d8576b"
             ],
             [
              0.6666666666666666,
              "#ed7953"
             ],
             [
              0.7777777777777778,
              "#fb9f3a"
             ],
             [
              0.8888888888888888,
              "#fdca26"
             ],
             [
              1,
              "#f0f921"
             ]
            ],
            "type": "contour"
           }
          ],
          "contourcarpet": [
           {
            "colorbar": {
             "outlinewidth": 0,
             "ticks": ""
            },
            "type": "contourcarpet"
           }
          ],
          "heatmap": [
           {
            "colorbar": {
             "outlinewidth": 0,
             "ticks": ""
            },
            "colorscale": [
             [
              0,
              "#0d0887"
             ],
             [
              0.1111111111111111,
              "#46039f"
             ],
             [
              0.2222222222222222,
              "#7201a8"
             ],
             [
              0.3333333333333333,
              "#9c179e"
             ],
             [
              0.4444444444444444,
              "#bd3786"
             ],
             [
              0.5555555555555556,
              "#d8576b"
             ],
             [
              0.6666666666666666,
              "#ed7953"
             ],
             [
              0.7777777777777778,
              "#fb9f3a"
             ],
             [
              0.8888888888888888,
              "#fdca26"
             ],
             [
              1,
              "#f0f921"
             ]
            ],
            "type": "heatmap"
           }
          ],
          "heatmapgl": [
           {
            "colorbar": {
             "outlinewidth": 0,
             "ticks": ""
            },
            "colorscale": [
             [
              0,
              "#0d0887"
             ],
             [
              0.1111111111111111,
              "#46039f"
             ],
             [
              0.2222222222222222,
              "#7201a8"
             ],
             [
              0.3333333333333333,
              "#9c179e"
             ],
             [
              0.4444444444444444,
              "#bd3786"
             ],
             [
              0.5555555555555556,
              "#d8576b"
             ],
             [
              0.6666666666666666,
              "#ed7953"
             ],
             [
              0.7777777777777778,
              "#fb9f3a"
             ],
             [
              0.8888888888888888,
              "#fdca26"
             ],
             [
              1,
              "#f0f921"
             ]
            ],
            "type": "heatmapgl"
           }
          ],
          "histogram": [
           {
            "marker": {
             "pattern": {
              "fillmode": "overlay",
              "size": 10,
              "solidity": 0.2
             }
            },
            "type": "histogram"
           }
          ],
          "histogram2d": [
           {
            "colorbar": {
             "outlinewidth": 0,
             "ticks": ""
            },
            "colorscale": [
             [
              0,
              "#0d0887"
             ],
             [
              0.1111111111111111,
              "#46039f"
             ],
             [
              0.2222222222222222,
              "#7201a8"
             ],
             [
              0.3333333333333333,
              "#9c179e"
             ],
             [
              0.4444444444444444,
              "#bd3786"
             ],
             [
              0.5555555555555556,
              "#d8576b"
             ],
             [
              0.6666666666666666,
              "#ed7953"
             ],
             [
              0.7777777777777778,
              "#fb9f3a"
             ],
             [
              0.8888888888888888,
              "#fdca26"
             ],
             [
              1,
              "#f0f921"
             ]
            ],
            "type": "histogram2d"
           }
          ],
          "histogram2dcontour": [
           {
            "colorbar": {
             "outlinewidth": 0,
             "ticks": ""
            },
            "colorscale": [
             [
              0,
              "#0d0887"
             ],
             [
              0.1111111111111111,
              "#46039f"
             ],
             [
              0.2222222222222222,
              "#7201a8"
             ],
             [
              0.3333333333333333,
              "#9c179e"
             ],
             [
              0.4444444444444444,
              "#bd3786"
             ],
             [
              0.5555555555555556,
              "#d8576b"
             ],
             [
              0.6666666666666666,
              "#ed7953"
             ],
             [
              0.7777777777777778,
              "#fb9f3a"
             ],
             [
              0.8888888888888888,
              "#fdca26"
             ],
             [
              1,
              "#f0f921"
             ]
            ],
            "type": "histogram2dcontour"
           }
          ],
          "mesh3d": [
           {
            "colorbar": {
             "outlinewidth": 0,
             "ticks": ""
            },
            "type": "mesh3d"
           }
          ],
          "parcoords": [
           {
            "line": {
             "colorbar": {
              "outlinewidth": 0,
              "ticks": ""
             }
            },
            "type": "parcoords"
           }
          ],
          "pie": [
           {
            "automargin": true,
            "type": "pie"
           }
          ],
          "scatter": [
           {
            "fillpattern": {
             "fillmode": "overlay",
             "size": 10,
             "solidity": 0.2
            },
            "type": "scatter"
           }
          ],
          "scatter3d": [
           {
            "line": {
             "colorbar": {
              "outlinewidth": 0,
              "ticks": ""
             }
            },
            "marker": {
             "colorbar": {
              "outlinewidth": 0,
              "ticks": ""
             }
            },
            "type": "scatter3d"
           }
          ],
          "scattercarpet": [
           {
            "marker": {
             "colorbar": {
              "outlinewidth": 0,
              "ticks": ""
             }
            },
            "type": "scattercarpet"
           }
          ],
          "scattergeo": [
           {
            "marker": {
             "colorbar": {
              "outlinewidth": 0,
              "ticks": ""
             }
            },
            "type": "scattergeo"
           }
          ],
          "scattergl": [
           {
            "marker": {
             "colorbar": {
              "outlinewidth": 0,
              "ticks": ""
             }
            },
            "type": "scattergl"
           }
          ],
          "scattermapbox": [
           {
            "marker": {
             "colorbar": {
              "outlinewidth": 0,
              "ticks": ""
             }
            },
            "type": "scattermapbox"
           }
          ],
          "scatterpolar": [
           {
            "marker": {
             "colorbar": {
              "outlinewidth": 0,
              "ticks": ""
             }
            },
            "type": "scatterpolar"
           }
          ],
          "scatterpolargl": [
           {
            "marker": {
             "colorbar": {
              "outlinewidth": 0,
              "ticks": ""
             }
            },
            "type": "scatterpolargl"
           }
          ],
          "scatterternary": [
           {
            "marker": {
             "colorbar": {
              "outlinewidth": 0,
              "ticks": ""
             }
            },
            "type": "scatterternary"
           }
          ],
          "surface": [
           {
            "colorbar": {
             "outlinewidth": 0,
             "ticks": ""
            },
            "colorscale": [
             [
              0,
              "#0d0887"
             ],
             [
              0.1111111111111111,
              "#46039f"
             ],
             [
              0.2222222222222222,
              "#7201a8"
             ],
             [
              0.3333333333333333,
              "#9c179e"
             ],
             [
              0.4444444444444444,
              "#bd3786"
             ],
             [
              0.5555555555555556,
              "#d8576b"
             ],
             [
              0.6666666666666666,
              "#ed7953"
             ],
             [
              0.7777777777777778,
              "#fb9f3a"
             ],
             [
              0.8888888888888888,
              "#fdca26"
             ],
             [
              1,
              "#f0f921"
             ]
            ],
            "type": "surface"
           }
          ],
          "table": [
           {
            "cells": {
             "fill": {
              "color": "#EBF0F8"
             },
             "line": {
              "color": "white"
             }
            },
            "header": {
             "fill": {
              "color": "#C8D4E3"
             },
             "line": {
              "color": "white"
             }
            },
            "type": "table"
           }
          ]
         },
         "layout": {
          "annotationdefaults": {
           "arrowcolor": "#2a3f5f",
           "arrowhead": 0,
           "arrowwidth": 1
          },
          "autotypenumbers": "strict",
          "coloraxis": {
           "colorbar": {
            "outlinewidth": 0,
            "ticks": ""
           }
          },
          "colorscale": {
           "diverging": [
            [
             0,
             "#8e0152"
            ],
            [
             0.1,
             "#c51b7d"
            ],
            [
             0.2,
             "#de77ae"
            ],
            [
             0.3,
             "#f1b6da"
            ],
            [
             0.4,
             "#fde0ef"
            ],
            [
             0.5,
             "#f7f7f7"
            ],
            [
             0.6,
             "#e6f5d0"
            ],
            [
             0.7,
             "#b8e186"
            ],
            [
             0.8,
             "#7fbc41"
            ],
            [
             0.9,
             "#4d9221"
            ],
            [
             1,
             "#276419"
            ]
           ],
           "sequential": [
            [
             0,
             "#0d0887"
            ],
            [
             0.1111111111111111,
             "#46039f"
            ],
            [
             0.2222222222222222,
             "#7201a8"
            ],
            [
             0.3333333333333333,
             "#9c179e"
            ],
            [
             0.4444444444444444,
             "#bd3786"
            ],
            [
             0.5555555555555556,
             "#d8576b"
            ],
            [
             0.6666666666666666,
             "#ed7953"
            ],
            [
             0.7777777777777778,
             "#fb9f3a"
            ],
            [
             0.8888888888888888,
             "#fdca26"
            ],
            [
             1,
             "#f0f921"
            ]
           ],
           "sequentialminus": [
            [
             0,
             "#0d0887"
            ],
            [
             0.1111111111111111,
             "#46039f"
            ],
            [
             0.2222222222222222,
             "#7201a8"
            ],
            [
             0.3333333333333333,
             "#9c179e"
            ],
            [
             0.4444444444444444,
             "#bd3786"
            ],
            [
             0.5555555555555556,
             "#d8576b"
            ],
            [
             0.6666666666666666,
             "#ed7953"
            ],
            [
             0.7777777777777778,
             "#fb9f3a"
            ],
            [
             0.8888888888888888,
             "#fdca26"
            ],
            [
             1,
             "#f0f921"
            ]
           ]
          },
          "colorway": [
           "#636efa",
           "#EF553B",
           "#00cc96",
           "#ab63fa",
           "#FFA15A",
           "#19d3f3",
           "#FF6692",
           "#B6E880",
           "#FF97FF",
           "#FECB52"
          ],
          "font": {
           "color": "#2a3f5f"
          },
          "geo": {
           "bgcolor": "white",
           "lakecolor": "white",
           "landcolor": "#E5ECF6",
           "showlakes": true,
           "showland": true,
           "subunitcolor": "white"
          },
          "hoverlabel": {
           "align": "left"
          },
          "hovermode": "closest",
          "mapbox": {
           "style": "light"
          },
          "paper_bgcolor": "white",
          "plot_bgcolor": "#E5ECF6",
          "polar": {
           "angularaxis": {
            "gridcolor": "white",
            "linecolor": "white",
            "ticks": ""
           },
           "bgcolor": "#E5ECF6",
           "radialaxis": {
            "gridcolor": "white",
            "linecolor": "white",
            "ticks": ""
           }
          },
          "scene": {
           "xaxis": {
            "backgroundcolor": "#E5ECF6",
            "gridcolor": "white",
            "gridwidth": 2,
            "linecolor": "white",
            "showbackground": true,
            "ticks": "",
            "zerolinecolor": "white"
           },
           "yaxis": {
            "backgroundcolor": "#E5ECF6",
            "gridcolor": "white",
            "gridwidth": 2,
            "linecolor": "white",
            "showbackground": true,
            "ticks": "",
            "zerolinecolor": "white"
           },
           "zaxis": {
            "backgroundcolor": "#E5ECF6",
            "gridcolor": "white",
            "gridwidth": 2,
            "linecolor": "white",
            "showbackground": true,
            "ticks": "",
            "zerolinecolor": "white"
           }
          },
          "shapedefaults": {
           "line": {
            "color": "#2a3f5f"
           }
          },
          "ternary": {
           "aaxis": {
            "gridcolor": "white",
            "linecolor": "white",
            "ticks": ""
           },
           "baxis": {
            "gridcolor": "white",
            "linecolor": "white",
            "ticks": ""
           },
           "bgcolor": "#E5ECF6",
           "caxis": {
            "gridcolor": "white",
            "linecolor": "white",
            "ticks": ""
           }
          },
          "title": {
           "x": 0.05
          },
          "xaxis": {
           "automargin": true,
           "gridcolor": "white",
           "linecolor": "white",
           "ticks": "",
           "title": {
            "standoff": 15
           },
           "zerolinecolor": "white",
           "zerolinewidth": 2
          },
          "yaxis": {
           "automargin": true,
           "gridcolor": "white",
           "linecolor": "white",
           "ticks": "",
           "title": {
            "standoff": 15
           },
           "zerolinecolor": "white",
           "zerolinewidth": 2
          }
         }
        },
        "title": {
         "font": {
          "size": 20
         },
         "text": "Časový rozdiel"
        },
        "width": 800,
        "xaxis": {
         "anchor": "y",
         "domain": [
          0,
          1
         ],
         "showticklabels": false,
         "tickfont": {
          "size": 12
         },
         "title": {
          "text": ""
         }
        },
        "yaxis": {
         "anchor": "x",
         "domain": [
          0,
          1
         ],
         "tickfont": {
          "size": 12
         },
         "title": {
          "text": "Čas [min]"
         }
        }
       }
      }
     },
     "metadata": {},
     "output_type": "display_data"
    }
   ],
   "source": [
    "figure_1"
   ]
  },
  {
   "cell_type": "code",
   "execution_count": 117,
   "metadata": {},
   "outputs": [
    {
     "data": {
      "application/vnd.plotly.v1+json": {
       "config": {
        "plotlyServerURL": "https://plot.ly"
       },
       "data": [
        {
         "alignmentgroup": "True",
         "hovertemplate": "index=%{x}<br>dist_diff=%{y}<extra></extra>",
         "legendgroup": "",
         "marker": {
          "color": "#FF6600",
          "pattern": {
           "shape": ""
          }
         },
         "name": "",
         "offsetgroup": "",
         "orientation": "v",
         "showlegend": false,
         "textposition": "auto",
         "type": "bar",
         "x": [
          0,
          1,
          2,
          3,
          4,
          5,
          6,
          7,
          8,
          9,
          10,
          11,
          12,
          13,
          14,
          15,
          16,
          17,
          18,
          19,
          20,
          21,
          22,
          23,
          24,
          25,
          26,
          27,
          28,
          29,
          30,
          31,
          32,
          33,
          34,
          35,
          36,
          37,
          38,
          39,
          40,
          41,
          42,
          43,
          44,
          45,
          46,
          47,
          48,
          49,
          50,
          51,
          52,
          53,
          54,
          55,
          56,
          57,
          58,
          59,
          60,
          61,
          62,
          63,
          64,
          65,
          66,
          67,
          68,
          69,
          70,
          71,
          72,
          73,
          74,
          75,
          76,
          77,
          78,
          79,
          80,
          81,
          82,
          83,
          84,
          85,
          86,
          87,
          88,
          89,
          90,
          91,
          92,
          93,
          94,
          95,
          96,
          97,
          98,
          99,
          100,
          101,
          102,
          103,
          104,
          105,
          106,
          107,
          108,
          109,
          110,
          111,
          112,
          113,
          114,
          115,
          116,
          117,
          118,
          119,
          120,
          121,
          122,
          123,
          124,
          125,
          126,
          127,
          128,
          129,
          130,
          131,
          132,
          133,
          134,
          135,
          136,
          137,
          138,
          139,
          140,
          141,
          142,
          143,
          144,
          145,
          146,
          147
         ],
         "xaxis": "x",
         "y": [
          -1.2689849999999998,
          -0.2870899999999992,
          -0.040500000000001535,
          -0.03493599999999919,
          0,
          0,
          0,
          0.08317400000000008,
          0.12652700000000028,
          0.13754200000000072,
          0.1451560000000005,
          0.14743500000000065,
          0.19276400000000038,
          0.2692800000000002,
          0.2993960000000002,
          0.3027449999999998,
          0.33483400000000074,
          0.37510100000000035,
          0.3753440000000001,
          0.37932200000000016,
          0.3943939999999997,
          0.4297299999999997,
          0.469951,
          0.4989209999999993,
          0.5122529999999994,
          0.5826599999999997,
          0.6059490000000007,
          0.6473010000000006,
          0.6480789999999998,
          0.7085720000000002,
          0.8020110000000011,
          0.8328709999999999,
          0.8390680000000001,
          0.8611700000000004,
          0.8659200000000009,
          0.8854289999999985,
          0.9183379999999994,
          0.9501979999999999,
          0.9518510000000004,
          1.040168,
          1.051285,
          1.1942020000000007,
          1.2353110000000003,
          1.2617199999999986,
          1.3244259999999997,
          1.419873,
          1.6101680000000007,
          1.6210510000000005,
          1.6831689999999995,
          1.7234660000000006,
          1.7395890000000003,
          1.783331999999998,
          1.9708629999999996,
          1.9894250000000002,
          2.011894999999999,
          2.1518820000000005,
          2.2201530000000003,
          2.3240219999999994,
          2.3271129999999998,
          2.423213,
          2.4809040000000007,
          2.498037,
          2.5467679999999984,
          2.589409,
          2.6804670000000037,
          2.6955930000000006,
          3.010249999999999,
          3.0551439999999985,
          3.0856109999999983,
          3.335303,
          3.488662999999999,
          3.850462,
          4.007014999999999,
          4.075032999999998,
          4.244309000000001,
          4.277500999999997,
          4.328409000000001,
          4.398190000000001,
          4.446485999999998,
          4.551731999999998,
          4.552928,
          4.605409,
          4.615401000000002,
          4.735426,
          4.796314999999999,
          4.863382,
          4.909718,
          4.991708,
          5.015406,
          5.1979500000000005,
          5.677352000000001,
          5.72105,
          6.057329,
          6.15931,
          6.166608,
          6.293907000000001,
          6.301445000000001,
          6.437795000000001,
          6.438797,
          6.970741999999998,
          7.319773999999999,
          7.858482,
          7.859211,
          8.296852000000001,
          8.329288000000004,
          8.424039,
          8.490593,
          8.646892000000001,
          8.989953,
          9.104122000000004,
          9.220317000000001,
          9.659839999999997,
          9.660076,
          10.343712,
          10.438866999999998,
          10.739237,
          10.866723000000004,
          11.071818,
          11.547995999999998,
          11.663746999999997,
          12.511823000000001,
          14.551269999999999,
          14.553022,
          14.778258,
          15.222184000000002,
          15.489999000000005,
          15.770918000000002,
          17.718507000000002,
          17.818043000000003,
          17.856797000000004,
          19.776907,
          20.625089,
          21.031757000000002,
          22.098017,
          24.366191,
          25.810215,
          26.639229999999998,
          26.874507,
          27.684388000000002,
          37.534171,
          40.59575600000001,
          44.134004999999995,
          47.281289,
          51.129569000000004,
          84.9816,
          null,
          null,
          null
         ],
         "yaxis": "y"
        }
       ],
       "layout": {
        "annotations": [
         {
          "font": {
           "size": 11
          },
          "showarrow": false,
          "text": "Priemer: 7.56 km",
          "x": 25,
          "y": 10.059999999999999
         }
        ],
        "barmode": "relative",
        "height": 500,
        "legend": {
         "tracegroupgap": 0
        },
        "margin": {
         "b": 15,
         "l": 65,
         "r": 25,
         "t": 75
        },
        "paper_bgcolor": "#FFFFFF",
        "plot_bgcolor": "#eeeeee",
        "shapes": [
         {
          "line": {
           "color": "#444444",
           "dash": "dash",
           "width": 2
          },
          "type": "line",
          "x0": 0,
          "x1": 148,
          "y0": 7.562527006896551,
          "y1": 7.562527006896551
         }
        ],
        "template": {
         "data": {
          "bar": [
           {
            "error_x": {
             "color": "#2a3f5f"
            },
            "error_y": {
             "color": "#2a3f5f"
            },
            "marker": {
             "line": {
              "color": "#E5ECF6",
              "width": 0.5
             },
             "pattern": {
              "fillmode": "overlay",
              "size": 10,
              "solidity": 0.2
             }
            },
            "type": "bar"
           }
          ],
          "barpolar": [
           {
            "marker": {
             "line": {
              "color": "#E5ECF6",
              "width": 0.5
             },
             "pattern": {
              "fillmode": "overlay",
              "size": 10,
              "solidity": 0.2
             }
            },
            "type": "barpolar"
           }
          ],
          "carpet": [
           {
            "aaxis": {
             "endlinecolor": "#2a3f5f",
             "gridcolor": "white",
             "linecolor": "white",
             "minorgridcolor": "white",
             "startlinecolor": "#2a3f5f"
            },
            "baxis": {
             "endlinecolor": "#2a3f5f",
             "gridcolor": "white",
             "linecolor": "white",
             "minorgridcolor": "white",
             "startlinecolor": "#2a3f5f"
            },
            "type": "carpet"
           }
          ],
          "choropleth": [
           {
            "colorbar": {
             "outlinewidth": 0,
             "ticks": ""
            },
            "type": "choropleth"
           }
          ],
          "contour": [
           {
            "colorbar": {
             "outlinewidth": 0,
             "ticks": ""
            },
            "colorscale": [
             [
              0,
              "#0d0887"
             ],
             [
              0.1111111111111111,
              "#46039f"
             ],
             [
              0.2222222222222222,
              "#7201a8"
             ],
             [
              0.3333333333333333,
              "#9c179e"
             ],
             [
              0.4444444444444444,
              "#bd3786"
             ],
             [
              0.5555555555555556,
              "#d8576b"
             ],
             [
              0.6666666666666666,
              "#ed7953"
             ],
             [
              0.7777777777777778,
              "#fb9f3a"
             ],
             [
              0.8888888888888888,
              "#fdca26"
             ],
             [
              1,
              "#f0f921"
             ]
            ],
            "type": "contour"
           }
          ],
          "contourcarpet": [
           {
            "colorbar": {
             "outlinewidth": 0,
             "ticks": ""
            },
            "type": "contourcarpet"
           }
          ],
          "heatmap": [
           {
            "colorbar": {
             "outlinewidth": 0,
             "ticks": ""
            },
            "colorscale": [
             [
              0,
              "#0d0887"
             ],
             [
              0.1111111111111111,
              "#46039f"
             ],
             [
              0.2222222222222222,
              "#7201a8"
             ],
             [
              0.3333333333333333,
              "#9c179e"
             ],
             [
              0.4444444444444444,
              "#bd3786"
             ],
             [
              0.5555555555555556,
              "#d8576b"
             ],
             [
              0.6666666666666666,
              "#ed7953"
             ],
             [
              0.7777777777777778,
              "#fb9f3a"
             ],
             [
              0.8888888888888888,
              "#fdca26"
             ],
             [
              1,
              "#f0f921"
             ]
            ],
            "type": "heatmap"
           }
          ],
          "heatmapgl": [
           {
            "colorbar": {
             "outlinewidth": 0,
             "ticks": ""
            },
            "colorscale": [
             [
              0,
              "#0d0887"
             ],
             [
              0.1111111111111111,
              "#46039f"
             ],
             [
              0.2222222222222222,
              "#7201a8"
             ],
             [
              0.3333333333333333,
              "#9c179e"
             ],
             [
              0.4444444444444444,
              "#bd3786"
             ],
             [
              0.5555555555555556,
              "#d8576b"
             ],
             [
              0.6666666666666666,
              "#ed7953"
             ],
             [
              0.7777777777777778,
              "#fb9f3a"
             ],
             [
              0.8888888888888888,
              "#fdca26"
             ],
             [
              1,
              "#f0f921"
             ]
            ],
            "type": "heatmapgl"
           }
          ],
          "histogram": [
           {
            "marker": {
             "pattern": {
              "fillmode": "overlay",
              "size": 10,
              "solidity": 0.2
             }
            },
            "type": "histogram"
           }
          ],
          "histogram2d": [
           {
            "colorbar": {
             "outlinewidth": 0,
             "ticks": ""
            },
            "colorscale": [
             [
              0,
              "#0d0887"
             ],
             [
              0.1111111111111111,
              "#46039f"
             ],
             [
              0.2222222222222222,
              "#7201a8"
             ],
             [
              0.3333333333333333,
              "#9c179e"
             ],
             [
              0.4444444444444444,
              "#bd3786"
             ],
             [
              0.5555555555555556,
              "#d8576b"
             ],
             [
              0.6666666666666666,
              "#ed7953"
             ],
             [
              0.7777777777777778,
              "#fb9f3a"
             ],
             [
              0.8888888888888888,
              "#fdca26"
             ],
             [
              1,
              "#f0f921"
             ]
            ],
            "type": "histogram2d"
           }
          ],
          "histogram2dcontour": [
           {
            "colorbar": {
             "outlinewidth": 0,
             "ticks": ""
            },
            "colorscale": [
             [
              0,
              "#0d0887"
             ],
             [
              0.1111111111111111,
              "#46039f"
             ],
             [
              0.2222222222222222,
              "#7201a8"
             ],
             [
              0.3333333333333333,
              "#9c179e"
             ],
             [
              0.4444444444444444,
              "#bd3786"
             ],
             [
              0.5555555555555556,
              "#d8576b"
             ],
             [
              0.6666666666666666,
              "#ed7953"
             ],
             [
              0.7777777777777778,
              "#fb9f3a"
             ],
             [
              0.8888888888888888,
              "#fdca26"
             ],
             [
              1,
              "#f0f921"
             ]
            ],
            "type": "histogram2dcontour"
           }
          ],
          "mesh3d": [
           {
            "colorbar": {
             "outlinewidth": 0,
             "ticks": ""
            },
            "type": "mesh3d"
           }
          ],
          "parcoords": [
           {
            "line": {
             "colorbar": {
              "outlinewidth": 0,
              "ticks": ""
             }
            },
            "type": "parcoords"
           }
          ],
          "pie": [
           {
            "automargin": true,
            "type": "pie"
           }
          ],
          "scatter": [
           {
            "fillpattern": {
             "fillmode": "overlay",
             "size": 10,
             "solidity": 0.2
            },
            "type": "scatter"
           }
          ],
          "scatter3d": [
           {
            "line": {
             "colorbar": {
              "outlinewidth": 0,
              "ticks": ""
             }
            },
            "marker": {
             "colorbar": {
              "outlinewidth": 0,
              "ticks": ""
             }
            },
            "type": "scatter3d"
           }
          ],
          "scattercarpet": [
           {
            "marker": {
             "colorbar": {
              "outlinewidth": 0,
              "ticks": ""
             }
            },
            "type": "scattercarpet"
           }
          ],
          "scattergeo": [
           {
            "marker": {
             "colorbar": {
              "outlinewidth": 0,
              "ticks": ""
             }
            },
            "type": "scattergeo"
           }
          ],
          "scattergl": [
           {
            "marker": {
             "colorbar": {
              "outlinewidth": 0,
              "ticks": ""
             }
            },
            "type": "scattergl"
           }
          ],
          "scattermapbox": [
           {
            "marker": {
             "colorbar": {
              "outlinewidth": 0,
              "ticks": ""
             }
            },
            "type": "scattermapbox"
           }
          ],
          "scatterpolar": [
           {
            "marker": {
             "colorbar": {
              "outlinewidth": 0,
              "ticks": ""
             }
            },
            "type": "scatterpolar"
           }
          ],
          "scatterpolargl": [
           {
            "marker": {
             "colorbar": {
              "outlinewidth": 0,
              "ticks": ""
             }
            },
            "type": "scatterpolargl"
           }
          ],
          "scatterternary": [
           {
            "marker": {
             "colorbar": {
              "outlinewidth": 0,
              "ticks": ""
             }
            },
            "type": "scatterternary"
           }
          ],
          "surface": [
           {
            "colorbar": {
             "outlinewidth": 0,
             "ticks": ""
            },
            "colorscale": [
             [
              0,
              "#0d0887"
             ],
             [
              0.1111111111111111,
              "#46039f"
             ],
             [
              0.2222222222222222,
              "#7201a8"
             ],
             [
              0.3333333333333333,
              "#9c179e"
             ],
             [
              0.4444444444444444,
              "#bd3786"
             ],
             [
              0.5555555555555556,
              "#d8576b"
             ],
             [
              0.6666666666666666,
              "#ed7953"
             ],
             [
              0.7777777777777778,
              "#fb9f3a"
             ],
             [
              0.8888888888888888,
              "#fdca26"
             ],
             [
              1,
              "#f0f921"
             ]
            ],
            "type": "surface"
           }
          ],
          "table": [
           {
            "cells": {
             "fill": {
              "color": "#EBF0F8"
             },
             "line": {
              "color": "white"
             }
            },
            "header": {
             "fill": {
              "color": "#C8D4E3"
             },
             "line": {
              "color": "white"
             }
            },
            "type": "table"
           }
          ]
         },
         "layout": {
          "annotationdefaults": {
           "arrowcolor": "#2a3f5f",
           "arrowhead": 0,
           "arrowwidth": 1
          },
          "autotypenumbers": "strict",
          "coloraxis": {
           "colorbar": {
            "outlinewidth": 0,
            "ticks": ""
           }
          },
          "colorscale": {
           "diverging": [
            [
             0,
             "#8e0152"
            ],
            [
             0.1,
             "#c51b7d"
            ],
            [
             0.2,
             "#de77ae"
            ],
            [
             0.3,
             "#f1b6da"
            ],
            [
             0.4,
             "#fde0ef"
            ],
            [
             0.5,
             "#f7f7f7"
            ],
            [
             0.6,
             "#e6f5d0"
            ],
            [
             0.7,
             "#b8e186"
            ],
            [
             0.8,
             "#7fbc41"
            ],
            [
             0.9,
             "#4d9221"
            ],
            [
             1,
             "#276419"
            ]
           ],
           "sequential": [
            [
             0,
             "#0d0887"
            ],
            [
             0.1111111111111111,
             "#46039f"
            ],
            [
             0.2222222222222222,
             "#7201a8"
            ],
            [
             0.3333333333333333,
             "#9c179e"
            ],
            [
             0.4444444444444444,
             "#bd3786"
            ],
            [
             0.5555555555555556,
             "#d8576b"
            ],
            [
             0.6666666666666666,
             "#ed7953"
            ],
            [
             0.7777777777777778,
             "#fb9f3a"
            ],
            [
             0.8888888888888888,
             "#fdca26"
            ],
            [
             1,
             "#f0f921"
            ]
           ],
           "sequentialminus": [
            [
             0,
             "#0d0887"
            ],
            [
             0.1111111111111111,
             "#46039f"
            ],
            [
             0.2222222222222222,
             "#7201a8"
            ],
            [
             0.3333333333333333,
             "#9c179e"
            ],
            [
             0.4444444444444444,
             "#bd3786"
            ],
            [
             0.5555555555555556,
             "#d8576b"
            ],
            [
             0.6666666666666666,
             "#ed7953"
            ],
            [
             0.7777777777777778,
             "#fb9f3a"
            ],
            [
             0.8888888888888888,
             "#fdca26"
            ],
            [
             1,
             "#f0f921"
            ]
           ]
          },
          "colorway": [
           "#636efa",
           "#EF553B",
           "#00cc96",
           "#ab63fa",
           "#FFA15A",
           "#19d3f3",
           "#FF6692",
           "#B6E880",
           "#FF97FF",
           "#FECB52"
          ],
          "font": {
           "color": "#2a3f5f"
          },
          "geo": {
           "bgcolor": "white",
           "lakecolor": "white",
           "landcolor": "#E5ECF6",
           "showlakes": true,
           "showland": true,
           "subunitcolor": "white"
          },
          "hoverlabel": {
           "align": "left"
          },
          "hovermode": "closest",
          "mapbox": {
           "style": "light"
          },
          "paper_bgcolor": "white",
          "plot_bgcolor": "#E5ECF6",
          "polar": {
           "angularaxis": {
            "gridcolor": "white",
            "linecolor": "white",
            "ticks": ""
           },
           "bgcolor": "#E5ECF6",
           "radialaxis": {
            "gridcolor": "white",
            "linecolor": "white",
            "ticks": ""
           }
          },
          "scene": {
           "xaxis": {
            "backgroundcolor": "#E5ECF6",
            "gridcolor": "white",
            "gridwidth": 2,
            "linecolor": "white",
            "showbackground": true,
            "ticks": "",
            "zerolinecolor": "white"
           },
           "yaxis": {
            "backgroundcolor": "#E5ECF6",
            "gridcolor": "white",
            "gridwidth": 2,
            "linecolor": "white",
            "showbackground": true,
            "ticks": "",
            "zerolinecolor": "white"
           },
           "zaxis": {
            "backgroundcolor": "#E5ECF6",
            "gridcolor": "white",
            "gridwidth": 2,
            "linecolor": "white",
            "showbackground": true,
            "ticks": "",
            "zerolinecolor": "white"
           }
          },
          "shapedefaults": {
           "line": {
            "color": "#2a3f5f"
           }
          },
          "ternary": {
           "aaxis": {
            "gridcolor": "white",
            "linecolor": "white",
            "ticks": ""
           },
           "baxis": {
            "gridcolor": "white",
            "linecolor": "white",
            "ticks": ""
           },
           "bgcolor": "#E5ECF6",
           "caxis": {
            "gridcolor": "white",
            "linecolor": "white",
            "ticks": ""
           }
          },
          "title": {
           "x": 0.05
          },
          "xaxis": {
           "automargin": true,
           "gridcolor": "white",
           "linecolor": "white",
           "ticks": "",
           "title": {
            "standoff": 15
           },
           "zerolinecolor": "white",
           "zerolinewidth": 2
          },
          "yaxis": {
           "automargin": true,
           "gridcolor": "white",
           "linecolor": "white",
           "ticks": "",
           "title": {
            "standoff": 15
           },
           "zerolinecolor": "white",
           "zerolinewidth": 2
          }
         }
        },
        "title": {
         "font": {
          "size": 20
         },
         "text": "Predĺženie trasy"
        },
        "width": 800,
        "xaxis": {
         "anchor": "y",
         "domain": [
          0,
          1
         ],
         "showticklabels": false,
         "tickfont": {
          "size": 12
         },
         "title": {
          "text": ""
         }
        },
        "yaxis": {
         "anchor": "x",
         "domain": [
          0,
          1
         ],
         "tickfont": {
          "size": 12
         },
         "title": {
          "text": "Vzdialenosť [km]"
         }
        }
       }
      }
     },
     "metadata": {},
     "output_type": "display_data"
    }
   ],
   "source": [
    "figure_2"
   ]
  },
  {
   "cell_type": "code",
   "execution_count": 118,
   "metadata": {},
   "outputs": [
    {
     "data": {
      "text/plain": [
       "Index(['ID_mosta', 'Okres', 'Custom_coor', 'br_lat', 'br_long', 'start_lat',\n",
       "       'start_long', 'end_lat', 'end_long', 'Hexagon_Coordinates', 'car_req_1',\n",
       "       'car_req_alt', 'car_resp_1', 'car_resp_alt', 'ID_úseku', 'T', 'O', 'M',\n",
       "       'Trieda_PK', 'Názov_mosta', 'Druh_konštrukcie', 'Material',\n",
       "       'Predmet_premostenia', 'Rok_postavenia', 'Dĺžka_premostenia',\n",
       "       'Volná_šírka_mosta', 'n_2012', 'n_2022', 'n_2023', 'car_time_1',\n",
       "       'car_time_alt', 'car_dist_1', 'car_dist_alt', 'time_diff', 'dist_diff'],\n",
       "      dtype='object')"
      ]
     },
     "execution_count": 118,
     "metadata": {},
     "output_type": "execute_result"
    }
   ],
   "source": [
    "df_routes.columns"
   ]
  },
  {
   "cell_type": "markdown",
   "metadata": {},
   "source": [
    "### Tabulky"
   ]
  },
  {
   "cell_type": "code",
   "execution_count": 119,
   "metadata": {},
   "outputs": [
    {
     "data": {
      "text/plain": [
       "(ID_mosta                                                   M6289\n",
       " Okres                                              Stará Ľubovňa\n",
       " Názov_mosta    68_009 Most cez rieku Poprad v meste Stará Ľub...\n",
       " n_2023                                                         5\n",
       " time_diff                                               48.23695\n",
       " Name: 58, dtype: object,\n",
       " '68_009 Most cez rieku Poprad v meste Stará Ľubovňa')"
      ]
     },
     "execution_count": 119,
     "metadata": {},
     "output_type": "execute_result"
    }
   ],
   "source": [
    "# List of bridge IDs to filter out\n",
    "bridge_ids_to_filter = [\"M5686\", \"M7088\", \"M3011\"]\n",
    "\n",
    "# Create df_routes_times by filtering out the specified bridge IDs\n",
    "df_routes_times = df_routes[~df_routes['ID_mosta'].isin(\n",
    "    bridge_ids_to_filter)].copy()\n",
    "\n",
    "df_routes_times = df_routes_times.sort_values(by='time_diff', ascending=False)\n",
    "\n",
    "selected_columns = [\"ID_mosta\", \"Okres\", \"Názov_mosta\", \"n_2023\", \"time_diff\"]\n",
    "numbr = 4\n",
    "df_routes_times[selected_columns].iloc[numbr], df_routes_times[selected_columns].iloc[numbr][\"Názov_mosta\"]"
   ]
  },
  {
   "cell_type": "code",
   "execution_count": 153,
   "metadata": {},
   "outputs": [
    {
     "data": {
      "text/plain": [
       "(ID_mosta                                                   M5316\n",
       " Okres                                               Medzilaborce\n",
       " Názov_mosta    Most cez potok Vydraňka za mestom Medzilaborce...\n",
       " n_2023                                                         6\n",
       " dist_diff                                                84.9816\n",
       " time_diff                                               81.39875\n",
       " O                                                            225\n",
       " Name: 111, dtype: object,\n",
       " 'Most cez potok Vydraňka za mestom Medzilaborce časť Vydraň')"
      ]
     },
     "execution_count": 153,
     "metadata": {},
     "output_type": "execute_result"
    }
   ],
   "source": [
    "# List of bridge IDs to filter out\n",
    "bridge_ids_to_filter = [\"M5686\", \"M7088\", \"M3011\"]\n",
    "\n",
    "# Create df_routes_times by filtering out the specified bridge IDs\n",
    "df_routes_dist = df_routes[~df_routes['ID_mosta'].isin(\n",
    "    bridge_ids_to_filter)].copy()\n",
    "\n",
    "df_routes_dist = df_routes_dist.sort_values(by='time_diff', ascending=False)\n",
    "\n",
    "selected_columns = [\"ID_mosta\", \"Okres\",\n",
    "                    \"Názov_mosta\", \"n_2023\", \"dist_diff\", \"time_diff\", \"O\"]\n",
    "numbr = 0\n",
    "df_routes_dist[selected_columns].iloc[numbr], df_routes_dist[selected_columns].iloc[numbr][\"Názov_mosta\"]"
   ]
  },
  {
   "cell_type": "code",
   "execution_count": 121,
   "metadata": {},
   "outputs": [],
   "source": [
    "df_routes['time_sum'] = df_routes['O'] * df_routes['time_diff']\n",
    "df_routes['dist_sum'] = df_routes['O'] * df_routes['dist_diff']"
   ]
  },
  {
   "cell_type": "code",
   "execution_count": 122,
   "metadata": {},
   "outputs": [],
   "source": [
    "from sklearn.preprocessing import MinMaxScaler\n",
    "\n",
    "# Create a MinMaxScaler instance\n",
    "scaler = MinMaxScaler()\n",
    "\n",
    "# Normalize the \"O\" column and store it as \"O_norm\"\n",
    "df_routes['O_norm'] = scaler.fit_transform(df_routes[['O']])\n",
    "\n",
    "# Normalize the \"time_sum\" column and store it as \"time_norm\"\n",
    "df_routes['time_norm'] = scaler.fit_transform(df_routes[['time_diff']])\n",
    "\n",
    "# Normalize the \"dist_sum\" column and store it as \"dist_norm\"\n",
    "df_routes['dist_norm'] = scaler.fit_transform(df_routes[['dist_diff']])\n",
    "\n",
    "# Normalize the \"time_sum\" column and store it as \"time_norm\"\n",
    "df_routes['time_sum_norm'] = scaler.fit_transform(df_routes[['time_sum']])\n",
    "\n",
    "# Normalize the \"dist_sum\" column and store it as \"dist_norm\"\n",
    "df_routes['dist_sum_norm'] = scaler.fit_transform(df_routes[['dist_sum']])\n",
    "\n",
    "df_routes = df_routes.sort_values(by='time_sum_norm', ascending=False)"
   ]
  },
  {
   "cell_type": "code",
   "execution_count": 191,
   "metadata": {},
   "outputs": [
    {
     "data": {
      "application/vnd.plotly.v1+json": {
       "config": {
        "plotlyServerURL": "https://plot.ly"
       },
       "data": [
        {
         "marker": {
          "color": "#FF6600"
         },
         "name": "Predĺženie trasy (čas)",
         "type": "bar",
         "x": [
          0,
          1,
          2,
          3,
          4,
          5,
          6,
          7,
          8,
          9,
          10,
          11,
          12,
          13,
          14,
          15,
          16,
          17,
          18,
          19,
          20,
          21,
          22,
          23,
          24,
          25,
          26,
          27,
          28,
          29,
          30,
          31,
          32,
          33,
          34,
          35,
          36,
          37,
          38,
          39,
          40,
          41,
          42,
          43,
          44,
          45,
          46,
          47,
          48,
          49,
          50,
          51,
          52,
          53,
          54,
          55,
          56,
          57,
          58,
          59,
          60,
          61,
          62,
          63,
          64,
          65,
          66,
          67,
          68,
          69,
          70,
          71,
          72,
          73,
          74,
          75,
          76,
          77,
          78,
          79,
          80,
          81,
          82,
          83,
          84,
          85,
          86,
          87,
          88,
          89,
          90,
          91,
          92,
          93,
          94,
          95,
          96,
          97,
          98,
          99,
          100,
          101,
          102,
          103,
          104,
          105,
          106,
          107,
          108,
          109,
          110,
          111,
          112,
          113,
          114,
          115,
          116,
          117,
          118,
          119,
          120,
          121,
          122,
          123,
          124,
          125,
          126,
          127,
          128,
          129,
          130,
          131,
          132,
          133,
          134,
          135,
          136,
          137,
          138,
          139,
          140,
          141,
          142,
          143,
          144
         ],
         "y": [
          0,
          0.014961028811184926,
          0.01624311495569104,
          0.01624311495569104,
          0.01624311495569104,
          0.020634033394668072,
          0.021529177279379013,
          0.022048860272753067,
          0.023626843439455477,
          0.024506880260405556,
          0.02542659830216753,
          0.025622184420991623,
          0.02654190246275359,
          0.027277717181666522,
          0.027449131998473233,
          0.027676140809919956,
          0.027987749178427567,
          0.03307661396315694,
          0.03426564059489609,
          0.03545124295884943,
          0.03546171718972363,
          0.035692955979023375,
          0.03748102804576037,
          0.0378778402538793,
          0.03842753594725827,
          0.03918651483060455,
          0.04026656917574857,
          0.04138187333633466,
          0.04151179408467817,
          0.04156537380415006,
          0.04230541850091603,
          0.0436350415393897,
          0.04416560161867157,
          0.044295320939498284,
          0.04446210292341831,
          0.04464197769593113,
          0.0454789090282835,
          0.046109578583420754,
          0.04733204218295063,
          0.04858592847510311,
          0.049393249962484176,
          0.05392798764846472,
          0.05395961176860416,
          0.055260430672173746,
          0.055820600596426864,
          0.0558631018024742,
          0.05676388565765586,
          0.05775168620010018,
          0.059140528928516456,
          0.059639062032625256,
          0.06116265976978856,
          0.06228078391561,
          0.06682660011501516,
          0.06806376792327226,
          0.07091638441635881,
          0.07183046248765003,
          0.07386991609536792,
          0.07395532136249607,
          0.07488591649016586,
          0.0774571387422665,
          0.07883409724719095,
          0.08038891624945999,
          0.08170866933960988,
          0.08190707544366933,
          0.08202108341818475,
          0.08284794337469654,
          0.08371166456678486,
          0.0861793530752443,
          0.08642066324038461,
          0.08709826540693903,
          0.08877837232466498,
          0.08917760166298565,
          0.09578059709158811,
          0.09697244370856263,
          0.09728969204754101,
          0.0996171870042996,
          0.1033580988465254,
          0.10431346955876299,
          0.10458801526417728,
          0.10471733172997037,
          0.10479326990380836,
          0.10697634133101291,
          0.10707201940149846,
          0.10793513631103636,
          0.11055832686247442,
          0.11409922118050632,
          0.11450026336647828,
          0.12055718879700442,
          0.12175991249988675,
          0.12194744151803841,
          0.12248525298792544,
          0.12307100420681376,
          0.12325490752966278,
          0.12882921262990824,
          0.13426634559120493,
          0.13513711674638165,
          0.13522614770881242,
          0.13542072669005245,
          0.13634930754255412,
          0.14044956607477196,
          0.1416057600212708,
          0.14178482908371637,
          0.14248539398718724,
          0.14261853757579973,
          0.1429897684892836,
          0.14515551715004238,
          0.14580129376894052,
          0.14606657380858146,
          0.14913189775942104,
          0.14956718262325103,
          0.15056082456368283,
          0.15159656485512835,
          0.15680064617947398,
          0.1618778281682283,
          0.16392151175379924,
          0.17464913844415372,
          0.17769029109297596,
          0.17783370748494579,
          0.19477194880115378,
          0.19751116160227536,
          0.19823186925742745,
          0.202230809748689,
          0.20623720305807258,
          0.2156299695945164,
          0.21913359982193814,
          0.22036794764495987,
          0.22111141660951164,
          0.22971579584515464,
          0.2638662199004345,
          0.26477143516098595,
          0.3015915795240872,
          0.30160044233482697,
          0.31512932150148104,
          0.32211120208920624,
          0.35449973965493453,
          0.38769479299797677,
          0.42251435926410474,
          0.4445124598026212,
          0.46952190171747177,
          0.5590038603583597,
          0.5992180583797374,
          0.6244982188771827,
          0.6857331911255067,
          0.9085057804661637,
          1
         ]
        },
        {
         "marker": {
          "color": "#0066FF"
         },
         "name": "Intenzita dopravy",
         "type": "bar",
         "x": [
          0,
          1,
          2,
          3,
          4,
          5,
          6,
          7,
          8,
          9,
          10,
          11,
          12,
          13,
          14,
          15,
          16,
          17,
          18,
          19,
          20,
          21,
          22,
          23,
          24,
          25,
          26,
          27,
          28,
          29,
          30,
          31,
          32,
          33,
          34,
          35,
          36,
          37,
          38,
          39,
          40,
          41,
          42,
          43,
          44,
          45,
          46,
          47,
          48,
          49,
          50,
          51,
          52,
          53,
          54,
          55,
          56,
          57,
          58,
          59,
          60,
          61,
          62,
          63,
          64,
          65,
          66,
          67,
          68,
          69,
          70,
          71,
          72,
          73,
          74,
          75,
          76,
          77,
          78,
          79,
          80,
          81,
          82,
          83,
          84,
          85,
          86,
          87,
          88,
          89,
          90,
          91,
          92,
          93,
          94,
          95,
          96,
          97,
          98,
          99,
          100,
          101,
          102,
          103,
          104,
          105,
          106,
          107,
          108,
          109,
          110,
          111,
          112,
          113,
          114,
          115,
          116,
          117,
          118,
          119,
          120,
          121,
          122,
          123,
          124,
          125,
          126,
          127,
          128,
          129,
          130,
          131,
          132,
          133,
          134,
          135,
          136,
          137,
          138,
          139,
          140,
          141,
          142,
          143,
          144
         ],
         "y": [
          -0.05159020958522644,
          -0.08433659261740752,
          -0.04271267352023618,
          -0.17598040242038485,
          -0.16423441720231988,
          -0.08393877850128767,
          -0.0006909403069449973,
          -0.08234752203680828,
          -0.2852955340131069,
          -0.037101400724440445,
          -0.1168735997989992,
          -0.13188584828625866,
          -0.18324574443583677,
          -0.25627604112141705,
          -0.09597788991017778,
          -0.10225916542785957,
          -0.12788676954000125,
          -0.16900818659575806,
          -0.06406901028035428,
          -0.10311760641527608,
          -0.4134963673289923,
          -0.10368292121186744,
          -0.21412868239777225,
          -1,
          -0.10500198907058061,
          -0.25428697054081784,
          -0.015703188794204476,
          -0.006218462762504974,
          -0.1777182219802768,
          -0.09570570130441157,
          -0.11530328091957875,
          -0.2844789681958083,
          -0.12474613178116038,
          -0.4563765415297,
          -0.18726576076715312,
          -0.20449739327066016,
          -0.6553882875149182,
          -0.2213521492431063,
          -0.20705177864785076,
          -0.010405979774292834,
          -0.13012709114130777,
          -0.2664517074600616,
          -0.1270492661376437,
          -0.19000858440987417,
          -0.050082703460982814,
          -0.23228156864387262,
          -0.23655283599589624,
          -0.24746131781160363,
          -0.32878289818052386,
          -0.020916647473880362,
          -0.13301647787944137,
          -0.035552019430078935,
          -0.19880237013462868,
          -0.03837859341303574,
          -0.0397395364418668,
          -0.2914511840204351,
          -0.06620464395636609,
          -0.029291681497456083,
          -0.053663030506061436,
          -0.1416008877536065,
          -0.020162894411758548,
          -0.03192981721488244,
          -0.25918636544460966,
          -0.18433449885890163,
          -0.2295596825862105,
          -0.055233349385481884,
          -0.07166935365674924,
          -0.035803270450786205,
          -0.08404346642658236,
          -0.16858943489457925,
          -0.020602583697996273,
          -0.19932580976110217,
          -0.07866250706643498,
          -0.1078704382236553,
          -0.21858838801532632,
          -0.18171730072653422,
          -0.0186972634576328,
          -0.11697828772429389,
          -0.4656518917108101,
          -0.13894181445112122,
          -0.18077510939888194,
          -0.08161470655974541,
          -0.12598144929963778,
          -0.4563765415297,
          -0.08756098071648417,
          -0.0005653147965913614,
          -0.06325244446305564,
          -0.00180063231506878,
          -0.03699671279914575,
          -0.05644772931890036,
          -0.017231632503507045,
          -0.05969305500303595,
          -0.026988547140972763,
          -0.08163564414480436,
          0,
          -0.13266053893343943,
          -0.03477732878289818,
          -0.23824878038567032,
          -0.10320135675551183,
          -0.02374322145683717,
          -0.2234877829191181,
          -0.011850673143359646,
          -0.23875128242708488,
          -0.09348631728816399,
          -0.3064634325076946,
          -0.06651870773225017,
          -0.19840455601850884,
          -0.04321517556165072,
          -0.022486966353300813,
          -0.050899269278281443,
          -0.14853122840811542,
          -0.14176838843407802,
          -0.2677917129038337,
          -0.2985280877703566,
          -0.21035991708716317,
          -0.0678168380059044,
          -0.035677644940432574,
          -0.1143192144218086,
          -0.060635246330688224,
          -0.25489416050752706,
          -0.26793827599924624,
          -0.06360838340905761,
          -0.11662234877829193,
          -0.0628546303469358,
          -0.006155650007328155,
          -0.06928246896003017,
          -0.4211176482904462,
          -0.35547831913067146,
          -0.01884382655304537,
          -0.15952346056405856,
          -0.011578484537593435,
          -0.015514750528674022,
          -0.04583237369401814,
          -0.059588367077741254,
          -0.06256150415611064,
          -0.17562446347438287,
          -0.23571533259353866,
          -0.32095224136848055,
          -0.009421913276522687,
          -0.3257678859320366,
          -0.30964594543665336,
          -0.05625929105336991,
          -0.3787190385460941,
          -0.09070161847532507,
          -0.0003350013609430295
         ]
        }
       ],
       "layout": {
        "barmode": "overlay",
        "height": 500,
        "legend": {
         "orientation": "h",
         "x": 1,
         "xanchor": "right",
         "y": 1.02,
         "yanchor": "bottom"
        },
        "paper_bgcolor": "#FFFFFF",
        "plot_bgcolor": "#F0F4EF",
        "template": {
         "data": {
          "bar": [
           {
            "error_x": {
             "color": "#2a3f5f"
            },
            "error_y": {
             "color": "#2a3f5f"
            },
            "marker": {
             "line": {
              "color": "#E5ECF6",
              "width": 0.5
             },
             "pattern": {
              "fillmode": "overlay",
              "size": 10,
              "solidity": 0.2
             }
            },
            "type": "bar"
           }
          ],
          "barpolar": [
           {
            "marker": {
             "line": {
              "color": "#E5ECF6",
              "width": 0.5
             },
             "pattern": {
              "fillmode": "overlay",
              "size": 10,
              "solidity": 0.2
             }
            },
            "type": "barpolar"
           }
          ],
          "carpet": [
           {
            "aaxis": {
             "endlinecolor": "#2a3f5f",
             "gridcolor": "white",
             "linecolor": "white",
             "minorgridcolor": "white",
             "startlinecolor": "#2a3f5f"
            },
            "baxis": {
             "endlinecolor": "#2a3f5f",
             "gridcolor": "white",
             "linecolor": "white",
             "minorgridcolor": "white",
             "startlinecolor": "#2a3f5f"
            },
            "type": "carpet"
           }
          ],
          "choropleth": [
           {
            "colorbar": {
             "outlinewidth": 0,
             "ticks": ""
            },
            "type": "choropleth"
           }
          ],
          "contour": [
           {
            "colorbar": {
             "outlinewidth": 0,
             "ticks": ""
            },
            "colorscale": [
             [
              0,
              "#0d0887"
             ],
             [
              0.1111111111111111,
              "#46039f"
             ],
             [
              0.2222222222222222,
              "#7201a8"
             ],
             [
              0.3333333333333333,
              "#9c179e"
             ],
             [
              0.4444444444444444,
              "#bd3786"
             ],
             [
              0.5555555555555556,
              "#d8576b"
             ],
             [
              0.6666666666666666,
              "#ed7953"
             ],
             [
              0.7777777777777778,
              "#fb9f3a"
             ],
             [
              0.8888888888888888,
              "#fdca26"
             ],
             [
              1,
              "#f0f921"
             ]
            ],
            "type": "contour"
           }
          ],
          "contourcarpet": [
           {
            "colorbar": {
             "outlinewidth": 0,
             "ticks": ""
            },
            "type": "contourcarpet"
           }
          ],
          "heatmap": [
           {
            "colorbar": {
             "outlinewidth": 0,
             "ticks": ""
            },
            "colorscale": [
             [
              0,
              "#0d0887"
             ],
             [
              0.1111111111111111,
              "#46039f"
             ],
             [
              0.2222222222222222,
              "#7201a8"
             ],
             [
              0.3333333333333333,
              "#9c179e"
             ],
             [
              0.4444444444444444,
              "#bd3786"
             ],
             [
              0.5555555555555556,
              "#d8576b"
             ],
             [
              0.6666666666666666,
              "#ed7953"
             ],
             [
              0.7777777777777778,
              "#fb9f3a"
             ],
             [
              0.8888888888888888,
              "#fdca26"
             ],
             [
              1,
              "#f0f921"
             ]
            ],
            "type": "heatmap"
           }
          ],
          "heatmapgl": [
           {
            "colorbar": {
             "outlinewidth": 0,
             "ticks": ""
            },
            "colorscale": [
             [
              0,
              "#0d0887"
             ],
             [
              0.1111111111111111,
              "#46039f"
             ],
             [
              0.2222222222222222,
              "#7201a8"
             ],
             [
              0.3333333333333333,
              "#9c179e"
             ],
             [
              0.4444444444444444,
              "#bd3786"
             ],
             [
              0.5555555555555556,
              "#d8576b"
             ],
             [
              0.6666666666666666,
              "#ed7953"
             ],
             [
              0.7777777777777778,
              "#fb9f3a"
             ],
             [
              0.8888888888888888,
              "#fdca26"
             ],
             [
              1,
              "#f0f921"
             ]
            ],
            "type": "heatmapgl"
           }
          ],
          "histogram": [
           {
            "marker": {
             "pattern": {
              "fillmode": "overlay",
              "size": 10,
              "solidity": 0.2
             }
            },
            "type": "histogram"
           }
          ],
          "histogram2d": [
           {
            "colorbar": {
             "outlinewidth": 0,
             "ticks": ""
            },
            "colorscale": [
             [
              0,
              "#0d0887"
             ],
             [
              0.1111111111111111,
              "#46039f"
             ],
             [
              0.2222222222222222,
              "#7201a8"
             ],
             [
              0.3333333333333333,
              "#9c179e"
             ],
             [
              0.4444444444444444,
              "#bd3786"
             ],
             [
              0.5555555555555556,
              "#d8576b"
             ],
             [
              0.6666666666666666,
              "#ed7953"
             ],
             [
              0.7777777777777778,
              "#fb9f3a"
             ],
             [
              0.8888888888888888,
              "#fdca26"
             ],
             [
              1,
              "#f0f921"
             ]
            ],
            "type": "histogram2d"
           }
          ],
          "histogram2dcontour": [
           {
            "colorbar": {
             "outlinewidth": 0,
             "ticks": ""
            },
            "colorscale": [
             [
              0,
              "#0d0887"
             ],
             [
              0.1111111111111111,
              "#46039f"
             ],
             [
              0.2222222222222222,
              "#7201a8"
             ],
             [
              0.3333333333333333,
              "#9c179e"
             ],
             [
              0.4444444444444444,
              "#bd3786"
             ],
             [
              0.5555555555555556,
              "#d8576b"
             ],
             [
              0.6666666666666666,
              "#ed7953"
             ],
             [
              0.7777777777777778,
              "#fb9f3a"
             ],
             [
              0.8888888888888888,
              "#fdca26"
             ],
             [
              1,
              "#f0f921"
             ]
            ],
            "type": "histogram2dcontour"
           }
          ],
          "mesh3d": [
           {
            "colorbar": {
             "outlinewidth": 0,
             "ticks": ""
            },
            "type": "mesh3d"
           }
          ],
          "parcoords": [
           {
            "line": {
             "colorbar": {
              "outlinewidth": 0,
              "ticks": ""
             }
            },
            "type": "parcoords"
           }
          ],
          "pie": [
           {
            "automargin": true,
            "type": "pie"
           }
          ],
          "scatter": [
           {
            "fillpattern": {
             "fillmode": "overlay",
             "size": 10,
             "solidity": 0.2
            },
            "type": "scatter"
           }
          ],
          "scatter3d": [
           {
            "line": {
             "colorbar": {
              "outlinewidth": 0,
              "ticks": ""
             }
            },
            "marker": {
             "colorbar": {
              "outlinewidth": 0,
              "ticks": ""
             }
            },
            "type": "scatter3d"
           }
          ],
          "scattercarpet": [
           {
            "marker": {
             "colorbar": {
              "outlinewidth": 0,
              "ticks": ""
             }
            },
            "type": "scattercarpet"
           }
          ],
          "scattergeo": [
           {
            "marker": {
             "colorbar": {
              "outlinewidth": 0,
              "ticks": ""
             }
            },
            "type": "scattergeo"
           }
          ],
          "scattergl": [
           {
            "marker": {
             "colorbar": {
              "outlinewidth": 0,
              "ticks": ""
             }
            },
            "type": "scattergl"
           }
          ],
          "scattermapbox": [
           {
            "marker": {
             "colorbar": {
              "outlinewidth": 0,
              "ticks": ""
             }
            },
            "type": "scattermapbox"
           }
          ],
          "scatterpolar": [
           {
            "marker": {
             "colorbar": {
              "outlinewidth": 0,
              "ticks": ""
             }
            },
            "type": "scatterpolar"
           }
          ],
          "scatterpolargl": [
           {
            "marker": {
             "colorbar": {
              "outlinewidth": 0,
              "ticks": ""
             }
            },
            "type": "scatterpolargl"
           }
          ],
          "scatterternary": [
           {
            "marker": {
             "colorbar": {
              "outlinewidth": 0,
              "ticks": ""
             }
            },
            "type": "scatterternary"
           }
          ],
          "surface": [
           {
            "colorbar": {
             "outlinewidth": 0,
             "ticks": ""
            },
            "colorscale": [
             [
              0,
              "#0d0887"
             ],
             [
              0.1111111111111111,
              "#46039f"
             ],
             [
              0.2222222222222222,
              "#7201a8"
             ],
             [
              0.3333333333333333,
              "#9c179e"
             ],
             [
              0.4444444444444444,
              "#bd3786"
             ],
             [
              0.5555555555555556,
              "#d8576b"
             ],
             [
              0.6666666666666666,
              "#ed7953"
             ],
             [
              0.7777777777777778,
              "#fb9f3a"
             ],
             [
              0.8888888888888888,
              "#fdca26"
             ],
             [
              1,
              "#f0f921"
             ]
            ],
            "type": "surface"
           }
          ],
          "table": [
           {
            "cells": {
             "fill": {
              "color": "#EBF0F8"
             },
             "line": {
              "color": "white"
             }
            },
            "header": {
             "fill": {
              "color": "#C8D4E3"
             },
             "line": {
              "color": "white"
             }
            },
            "type": "table"
           }
          ]
         },
         "layout": {
          "annotationdefaults": {
           "arrowcolor": "#2a3f5f",
           "arrowhead": 0,
           "arrowwidth": 1
          },
          "autotypenumbers": "strict",
          "coloraxis": {
           "colorbar": {
            "outlinewidth": 0,
            "ticks": ""
           }
          },
          "colorscale": {
           "diverging": [
            [
             0,
             "#8e0152"
            ],
            [
             0.1,
             "#c51b7d"
            ],
            [
             0.2,
             "#de77ae"
            ],
            [
             0.3,
             "#f1b6da"
            ],
            [
             0.4,
             "#fde0ef"
            ],
            [
             0.5,
             "#f7f7f7"
            ],
            [
             0.6,
             "#e6f5d0"
            ],
            [
             0.7,
             "#b8e186"
            ],
            [
             0.8,
             "#7fbc41"
            ],
            [
             0.9,
             "#4d9221"
            ],
            [
             1,
             "#276419"
            ]
           ],
           "sequential": [
            [
             0,
             "#0d0887"
            ],
            [
             0.1111111111111111,
             "#46039f"
            ],
            [
             0.2222222222222222,
             "#7201a8"
            ],
            [
             0.3333333333333333,
             "#9c179e"
            ],
            [
             0.4444444444444444,
             "#bd3786"
            ],
            [
             0.5555555555555556,
             "#d8576b"
            ],
            [
             0.6666666666666666,
             "#ed7953"
            ],
            [
             0.7777777777777778,
             "#fb9f3a"
            ],
            [
             0.8888888888888888,
             "#fdca26"
            ],
            [
             1,
             "#f0f921"
            ]
           ],
           "sequentialminus": [
            [
             0,
             "#0d0887"
            ],
            [
             0.1111111111111111,
             "#46039f"
            ],
            [
             0.2222222222222222,
             "#7201a8"
            ],
            [
             0.3333333333333333,
             "#9c179e"
            ],
            [
             0.4444444444444444,
             "#bd3786"
            ],
            [
             0.5555555555555556,
             "#d8576b"
            ],
            [
             0.6666666666666666,
             "#ed7953"
            ],
            [
             0.7777777777777778,
             "#fb9f3a"
            ],
            [
             0.8888888888888888,
             "#fdca26"
            ],
            [
             1,
             "#f0f921"
            ]
           ]
          },
          "colorway": [
           "#636efa",
           "#EF553B",
           "#00cc96",
           "#ab63fa",
           "#FFA15A",
           "#19d3f3",
           "#FF6692",
           "#B6E880",
           "#FF97FF",
           "#FECB52"
          ],
          "font": {
           "color": "#2a3f5f"
          },
          "geo": {
           "bgcolor": "white",
           "lakecolor": "white",
           "landcolor": "#E5ECF6",
           "showlakes": true,
           "showland": true,
           "subunitcolor": "white"
          },
          "hoverlabel": {
           "align": "left"
          },
          "hovermode": "closest",
          "mapbox": {
           "style": "light"
          },
          "paper_bgcolor": "white",
          "plot_bgcolor": "#E5ECF6",
          "polar": {
           "angularaxis": {
            "gridcolor": "white",
            "linecolor": "white",
            "ticks": ""
           },
           "bgcolor": "#E5ECF6",
           "radialaxis": {
            "gridcolor": "white",
            "linecolor": "white",
            "ticks": ""
           }
          },
          "scene": {
           "xaxis": {
            "backgroundcolor": "#E5ECF6",
            "gridcolor": "white",
            "gridwidth": 2,
            "linecolor": "white",
            "showbackground": true,
            "ticks": "",
            "zerolinecolor": "white"
           },
           "yaxis": {
            "backgroundcolor": "#E5ECF6",
            "gridcolor": "white",
            "gridwidth": 2,
            "linecolor": "white",
            "showbackground": true,
            "ticks": "",
            "zerolinecolor": "white"
           },
           "zaxis": {
            "backgroundcolor": "#E5ECF6",
            "gridcolor": "white",
            "gridwidth": 2,
            "linecolor": "white",
            "showbackground": true,
            "ticks": "",
            "zerolinecolor": "white"
           }
          },
          "shapedefaults": {
           "line": {
            "color": "#2a3f5f"
           }
          },
          "ternary": {
           "aaxis": {
            "gridcolor": "white",
            "linecolor": "white",
            "ticks": ""
           },
           "baxis": {
            "gridcolor": "white",
            "linecolor": "white",
            "ticks": ""
           },
           "bgcolor": "#E5ECF6",
           "caxis": {
            "gridcolor": "white",
            "linecolor": "white",
            "ticks": ""
           }
          },
          "title": {
           "x": 0.05
          },
          "xaxis": {
           "automargin": true,
           "gridcolor": "white",
           "linecolor": "white",
           "ticks": "",
           "title": {
            "standoff": 15
           },
           "zerolinecolor": "white",
           "zerolinewidth": 2
          },
          "yaxis": {
           "automargin": true,
           "gridcolor": "white",
           "linecolor": "white",
           "ticks": "",
           "title": {
            "standoff": 15
           },
           "zerolinecolor": "white",
           "zerolinewidth": 2
          }
         }
        },
        "title": {
         "font": {
          "size": 20
         },
         "text": "Porovnanie predĺženia trasy a intenzity dopravy"
        },
        "width": 800,
        "xaxis": {
         "showticklabels": false,
         "tickfont": {
          "size": 12
         },
         "title": {
          "text": " "
         }
        },
        "yaxis": {
         "tickfont": {
          "size": 12
         },
         "title": {
          "font": {
           "size": 13
          },
          "text": "Normovaná hodnota"
         }
        }
       }
      }
     },
     "metadata": {},
     "output_type": "display_data"
    }
   ],
   "source": [
    "import plotly.graph_objects as go\n",
    "import numpy as np\n",
    "\n",
    "# Variables for customization\n",
    "axis_font_size = 13\n",
    "axis_tick_font_size = 12\n",
    "title_font_size = 20\n",
    "bg_color = \"#FFFFFF\"\n",
    "fig_color = \"#F0F4EF\"\n",
    "bar_color1 = \"#FF6600\"\n",
    "bar_color2 = \"#0066FF\"\n",
    "\n",
    "# Sort the DataFrame by the \"dist_diff\" column in ascending order and reset the index\n",
    "df_sorted = df_routes.sort_values(\n",
    "    by='time_norm', ascending=True).reset_index(drop=True)\n",
    "\n",
    "# List of bridge IDs to drop\n",
    "bridges_to_drop = ['M5686', 'M7088', 'M3011']\n",
    "\n",
    "# Find the indices of the rows with these bridge IDs\n",
    "indices_to_drop = df_sorted[df_sorted['ID_mosta'].isin(bridges_to_drop)].index\n",
    "\n",
    "# Drop these rows from the DataFrame\n",
    "df_sorted = df_sorted.drop(indices_to_drop)\n",
    "\n",
    "# Reset index after dropping the rows\n",
    "df_sorted = df_sorted.reset_index(drop=True)\n",
    "\n",
    "# Calculate the mean value of the \"time_norm\" column\n",
    "mean_time_norm = np.mean(df_sorted['time_norm'])\n",
    "\n",
    "# Initialize the figure\n",
    "fig = go.Figure()\n",
    "\n",
    "# Add the first bar for 'time_norm'\n",
    "fig.add_trace(go.Bar(\n",
    "    x=df_sorted.index,\n",
    "    y=df_sorted['time_norm'],\n",
    "    name='Predĺženie trasy (čas)',\n",
    "    marker_color=bar_color1\n",
    "))\n",
    "\n",
    "# Add the second bar for '-O_norm'\n",
    "fig.add_trace(go.Bar(\n",
    "    x=df_sorted.index,\n",
    "    y=-df_sorted['O_norm'],\n",
    "    name='Intenzita dopravy',\n",
    "    marker_color=bar_color2\n",
    "))\n",
    "\n",
    "# Update the layout to overlay the bars\n",
    "fig.update_layout(\n",
    "    title='Porovnanie predĺženia trasy a intenzity dopravy',\n",
    "    xaxis=dict(\n",
    "        showticklabels=False,\n",
    "        tickfont=dict(size=axis_tick_font_size),\n",
    "        title=' '\n",
    "    ),\n",
    "    yaxis=dict(\n",
    "        title='Normovaná hodnota',\n",
    "        titlefont=dict(size=axis_font_size),\n",
    "        tickfont=dict(size=axis_tick_font_size),\n",
    "    ),\n",
    "    plot_bgcolor=fig_color,\n",
    "    paper_bgcolor=bg_color,\n",
    "    legend=dict(orientation='h', yanchor='bottom',\n",
    "                y=1.02, xanchor='right', x=1),\n",
    "    titlefont=dict(size=title_font_size),\n",
    "    barmode='overlay'  # Overlay the bars\n",
    ")\n",
    "\n",
    "fig_width = 800\n",
    "fig_height = 5 * fig_width / 8\n",
    "# Set size of the figure\n",
    "fig.update_layout(width=fig_width, height=fig_height)\n",
    "\n",
    "# Show the interactive plot\n",
    "fig.show()"
   ]
  },
  {
   "cell_type": "code",
   "execution_count": 192,
   "metadata": {},
   "outputs": [
    {
     "data": {
      "application/vnd.plotly.v1+json": {
       "config": {
        "plotlyServerURL": "https://plot.ly"
       },
       "data": [
        {
         "marker": {
          "color": "#FF6600"
         },
         "name": "Predĺženie trasy (dĺžka)",
         "type": "bar",
         "x": [
          0,
          1,
          2,
          3,
          4,
          5,
          6,
          7,
          8,
          9,
          10,
          11,
          12,
          13,
          14,
          15,
          16,
          17,
          18,
          19,
          20,
          21,
          22,
          23,
          24,
          25,
          26,
          27,
          28,
          29,
          30,
          31,
          32,
          33,
          34,
          35,
          36,
          37,
          38,
          39,
          40,
          41,
          42,
          43,
          44,
          45,
          46,
          47,
          48,
          49,
          50,
          51,
          52,
          53,
          54,
          55,
          56,
          57,
          58,
          59,
          60,
          61,
          62,
          63,
          64,
          65,
          66,
          67,
          68,
          69,
          70,
          71,
          72,
          73,
          74,
          75,
          76,
          77,
          78,
          79,
          80,
          81,
          82,
          83,
          84,
          85,
          86,
          87,
          88,
          89,
          90,
          91,
          92,
          93,
          94,
          95,
          96,
          97,
          98,
          99,
          100,
          101,
          102,
          103,
          104,
          105,
          106,
          107,
          108,
          109,
          110,
          111,
          112,
          113,
          114,
          115,
          116,
          117,
          118,
          119,
          120,
          121,
          122,
          123,
          124,
          125,
          126,
          127,
          128,
          129,
          130,
          131,
          132,
          133,
          134,
          135,
          136,
          137,
          138,
          139,
          140,
          141,
          142,
          143,
          144
         ],
         "y": [
          0,
          0.011384212640412823,
          0.014243207741721385,
          0.014307717449104845,
          0.014712769774257181,
          0.014712769774257181,
          0.014712769774257181,
          0.01567709946547029,
          0.01617973953452026,
          0.016307448813245737,
          0.01639572647536246,
          0.016422149484551327,
          0.016947699543139332,
          0.01783483555502841,
          0.018184004201246867,
          0.01822283292339408,
          0.018594876776777812,
          0.019061737378360973,
          0.019064554750556184,
          0.01911067617686303,
          0.019285422817711898,
          0.0196951127925683,
          0.020161440064435505,
          0.020497321844251827,
          0.020651894708888053,
          0.021468202215671923,
          0.0217382177755664,
          0.02221765800197182,
          0.0222266782306462,
          0.022928041589515016,
          0.0240113849662585,
          0.02436917964092649,
          0.0244410284289666,
          0.024697281763364276,
          0.02475235385359996,
          0.024978543623791052,
          0.025360094659068102,
          0.025729483457996253,
          0.025748648545398274,
          0.026772606817681295,
          0.0269014986970813,
          0.028558496153968122,
          0.029035119008178324,
          0.02934130823576441,
          0.030068329391620935,
          0.031174953769878777,
          0.03338125764596264,
          0.03350743650028577,
          0.034227640311077306,
          0.034694848736388284,
          0.034881780801834565,
          0.03538894257934596,
          0.0375632002959748,
          0.03777841043049157,
          0.038038930402616966,
          0.03966195707542158,
          0.04045349953278578,
          0.04165776962556253,
          0.041693607063650634,
          0.04280780240505035,
          0.04347667902774226,
          0.04367532115869127,
          0.04424031442801227,
          0.04473469948058903,
          0.045790437247469146,
          0.045965809971028025,
          0.049613982328351736,
          0.05013448894288657,
          0.05048772712672034,
          0.05338268720148391,
          0.05516076209801938,
          0.05935550466121476,
          0.06117059959651287,
          0.06195920874043924,
          0.0639218157186992,
          0.06430664789114181,
          0.06489688156897719,
          0.06570593115397422,
          0.06626588097924203,
          0.067486116181125,
          0.06749998275374017,
          0.06810845398903671,
          0.06822430247864408,
          0.06961588724296769,
          0.0703218418750435,
          0.0710994250067985,
          0.07163665034851648,
          0.07258725259660558,
          0.07286201015332244,
          0.07497844797226594,
          0.08053669433082687,
          0.08104333437274658,
          0.0849421948848231,
          0.08612457527099672,
          0.08620918918984724,
          0.08768510961403915,
          0.08777250612271212,
          0.08935336496558258,
          0.08936498227809123,
          0.0955324187076528,
          0.09957913908641894,
          0.10582498657835192,
          0.10583343869493755,
          0.11090750283027068,
          0.1112835698447727,
          0.11238212471254544,
          0.11315376005855497,
          0.11496591008629103,
          0.11894340194909983,
          0.1202670915217561,
          0.12161427079016336,
          0.126710155067354,
          0.12671289128067945,
          0.13463905201338636,
          0.1357422909073602,
          0.1392248180113793,
          0.14070290653680786,
          0.1430808034519418,
          0.148601670353888,
          0.14994370183112377,
          0.1597764003571686,
          0.1834220022971438,
          0.18344231520284762,
          0.1860537293747051,
          0.19120066258101323,
          0.19430574296974337,
          0.19756275276277838,
          0.22014334163646546,
          0.22129737438882302,
          0.2217466930804006,
          0.24400868701354317,
          0.2538426145167595,
          0.2585575738413833,
          0.270919924775003,
          0.2972174159746279,
          0.31395960966525616,
          0.32357131258877836,
          0.326299143362332,
          0.3356890043122606,
          0.44988861234970173,
          0.48538500927269085,
          0.5264079078420163,
          0.5628979096199753,
          0.6075153461277973,
          1
         ]
        },
        {
         "marker": {
          "color": "#0066FF"
         },
         "name": "Intenzita dopravy",
         "type": "bar",
         "x": [
          0,
          1,
          2,
          3,
          4,
          5,
          6,
          7,
          8,
          9,
          10,
          11,
          12,
          13,
          14,
          15,
          16,
          17,
          18,
          19,
          20,
          21,
          22,
          23,
          24,
          25,
          26,
          27,
          28,
          29,
          30,
          31,
          32,
          33,
          34,
          35,
          36,
          37,
          38,
          39,
          40,
          41,
          42,
          43,
          44,
          45,
          46,
          47,
          48,
          49,
          50,
          51,
          52,
          53,
          54,
          55,
          56,
          57,
          58,
          59,
          60,
          61,
          62,
          63,
          64,
          65,
          66,
          67,
          68,
          69,
          70,
          71,
          72,
          73,
          74,
          75,
          76,
          77,
          78,
          79,
          80,
          81,
          82,
          83,
          84,
          85,
          86,
          87,
          88,
          89,
          90,
          91,
          92,
          93,
          94,
          95,
          96,
          97,
          98,
          99,
          100,
          101,
          102,
          103,
          104,
          105,
          106,
          107,
          108,
          109,
          110,
          111,
          112,
          113,
          114,
          115,
          116,
          117,
          118,
          119,
          120,
          121,
          122,
          123,
          124,
          125,
          126,
          127,
          128,
          129,
          130,
          131,
          132,
          133,
          134,
          135,
          136,
          137,
          138,
          139,
          140,
          141,
          142,
          143,
          144
         ],
         "y": [
          -0.10500198907058061,
          -0.18171730072653422,
          -0.017231632503507045,
          -0.006218462762504974,
          -0.16423441720231988,
          -0.04271267352023618,
          -0.17598040242038485,
          -0.25627604112141705,
          -0.2844789681958083,
          -0.1416008877536065,
          -0.25428697054081784,
          -0.08393877850128767,
          -0.2213521492431063,
          -0.09570570130441157,
          -0.010405979774292834,
          -0.09597788991017778,
          -0.2852955340131069,
          -0.6553882875149182,
          -0.11530328091957875,
          -0.037101400724440445,
          -0.23655283599589624,
          -0.12788676954000125,
          -0.4134963673289923,
          -0.10368292121186744,
          -0.0006909403069449973,
          -0.18726576076715312,
          -0.12474613178116038,
          -0.1168735997989992,
          -1,
          -0.13301647787944137,
          -0.0628546303469358,
          -0.23228156864387262,
          -0.19880237013462868,
          -0.18433449885890163,
          -0.10311760641527608,
          -0.1078704382236553,
          -0.4563765415297,
          -0.1777182219802768,
          -0.32878289818052386,
          -0.13188584828625866,
          -0.06406901028035428,
          -0.1270492661376437,
          -0.19932580976110217,
          -0.08433659261740752,
          -0.10225916542785957,
          -0.2914511840204351,
          -0.21412868239777225,
          -0.07166935365674924,
          -0.11697828772429389,
          -0.20705177864785076,
          -0.19000858440987417,
          -0.03192981721488244,
          -0.20449739327066016,
          -0.18324574443583677,
          0,
          -0.25918636544460966,
          -0.21858838801532632,
          -0.035552019430078935,
          -0.4563765415297,
          -0.19840455601850884,
          -0.4656518917108101,
          -0.029291681497456083,
          -0.06928246896003017,
          -0.08234752203680828,
          -0.020162894411758548,
          -0.05969305500303595,
          -0.16858943489457925,
          -0.14176838843407802,
          -0.2295596825862105,
          -0.2664517074600616,
          -0.11662234877829193,
          -0.2985280877703566,
          -0.035803270450786205,
          -0.050082703460982814,
          -0.06620464395636609,
          -0.020602583697996273,
          -0.24746131781160363,
          -0.13012709114130777,
          -0.053663030506061436,
          -0.16900818659575806,
          -0.13266053893343943,
          -0.050899269278281443,
          -0.07866250706643498,
          -0.06651870773225017,
          -0.015703188794204476,
          -0.08163564414480436,
          -0.0005653147965913614,
          -0.2677917129038337,
          -0.006155650007328155,
          -0.055233349385481884,
          -0.04321517556165072,
          -0.022486966353300813,
          -0.2234877829191181,
          -0.26793827599924624,
          -0.3064634325076946,
          -0.0186972634576328,
          -0.12598144929963778,
          -0.08404346642658236,
          -0.18077510939888194,
          -0.0397395364418668,
          -0.03477732878289818,
          -0.21035991708716317,
          -0.01884382655304537,
          -0.03837859341303574,
          -0.00180063231506878,
          -0.23875128242708488,
          -0.23824878038567032,
          -0.035677644940432574,
          -0.08756098071648417,
          -0.011850673143359646,
          -0.026988547140972763,
          -0.06325244446305564,
          -0.10320135675551183,
          -0.05644772931890036,
          -0.1143192144218086,
          -0.14853122840811542,
          -0.08161470655974541,
          -0.23571533259353866,
          -0.020916647473880362,
          -0.0678168380059044,
          -0.06360838340905761,
          -0.13894181445112122,
          -0.02374322145683717,
          -0.35547831913067146,
          -0.09348631728816399,
          -0.05159020958522644,
          -0.25489416050752706,
          -0.15952346056405856,
          -0.03699671279914575,
          -0.009421913276522687,
          -0.011578484537593435,
          -0.04583237369401814,
          -0.060635246330688224,
          -0.4211176482904462,
          -0.015514750528674022,
          -0.17562446347438287,
          -0.09070161847532507,
          -0.059588367077741254,
          -0.06256150415611064,
          -0.32095224136848055,
          -0.3257678859320366,
          -0.3787190385460941,
          -0.30964594543665336,
          -0.05625929105336991,
          -0.0003350013609430295
         ]
        }
       ],
       "layout": {
        "barmode": "overlay",
        "height": 500,
        "legend": {
         "orientation": "h",
         "x": 1,
         "xanchor": "right",
         "y": 1.02,
         "yanchor": "bottom"
        },
        "paper_bgcolor": "#FFFFFF",
        "plot_bgcolor": "#F0F4EF",
        "template": {
         "data": {
          "bar": [
           {
            "error_x": {
             "color": "#2a3f5f"
            },
            "error_y": {
             "color": "#2a3f5f"
            },
            "marker": {
             "line": {
              "color": "#E5ECF6",
              "width": 0.5
             },
             "pattern": {
              "fillmode": "overlay",
              "size": 10,
              "solidity": 0.2
             }
            },
            "type": "bar"
           }
          ],
          "barpolar": [
           {
            "marker": {
             "line": {
              "color": "#E5ECF6",
              "width": 0.5
             },
             "pattern": {
              "fillmode": "overlay",
              "size": 10,
              "solidity": 0.2
             }
            },
            "type": "barpolar"
           }
          ],
          "carpet": [
           {
            "aaxis": {
             "endlinecolor": "#2a3f5f",
             "gridcolor": "white",
             "linecolor": "white",
             "minorgridcolor": "white",
             "startlinecolor": "#2a3f5f"
            },
            "baxis": {
             "endlinecolor": "#2a3f5f",
             "gridcolor": "white",
             "linecolor": "white",
             "minorgridcolor": "white",
             "startlinecolor": "#2a3f5f"
            },
            "type": "carpet"
           }
          ],
          "choropleth": [
           {
            "colorbar": {
             "outlinewidth": 0,
             "ticks": ""
            },
            "type": "choropleth"
           }
          ],
          "contour": [
           {
            "colorbar": {
             "outlinewidth": 0,
             "ticks": ""
            },
            "colorscale": [
             [
              0,
              "#0d0887"
             ],
             [
              0.1111111111111111,
              "#46039f"
             ],
             [
              0.2222222222222222,
              "#7201a8"
             ],
             [
              0.3333333333333333,
              "#9c179e"
             ],
             [
              0.4444444444444444,
              "#bd3786"
             ],
             [
              0.5555555555555556,
              "#d8576b"
             ],
             [
              0.6666666666666666,
              "#ed7953"
             ],
             [
              0.7777777777777778,
              "#fb9f3a"
             ],
             [
              0.8888888888888888,
              "#fdca26"
             ],
             [
              1,
              "#f0f921"
             ]
            ],
            "type": "contour"
           }
          ],
          "contourcarpet": [
           {
            "colorbar": {
             "outlinewidth": 0,
             "ticks": ""
            },
            "type": "contourcarpet"
           }
          ],
          "heatmap": [
           {
            "colorbar": {
             "outlinewidth": 0,
             "ticks": ""
            },
            "colorscale": [
             [
              0,
              "#0d0887"
             ],
             [
              0.1111111111111111,
              "#46039f"
             ],
             [
              0.2222222222222222,
              "#7201a8"
             ],
             [
              0.3333333333333333,
              "#9c179e"
             ],
             [
              0.4444444444444444,
              "#bd3786"
             ],
             [
              0.5555555555555556,
              "#d8576b"
             ],
             [
              0.6666666666666666,
              "#ed7953"
             ],
             [
              0.7777777777777778,
              "#fb9f3a"
             ],
             [
              0.8888888888888888,
              "#fdca26"
             ],
             [
              1,
              "#f0f921"
             ]
            ],
            "type": "heatmap"
           }
          ],
          "heatmapgl": [
           {
            "colorbar": {
             "outlinewidth": 0,
             "ticks": ""
            },
            "colorscale": [
             [
              0,
              "#0d0887"
             ],
             [
              0.1111111111111111,
              "#46039f"
             ],
             [
              0.2222222222222222,
              "#7201a8"
             ],
             [
              0.3333333333333333,
              "#9c179e"
             ],
             [
              0.4444444444444444,
              "#bd3786"
             ],
             [
              0.5555555555555556,
              "#d8576b"
             ],
             [
              0.6666666666666666,
              "#ed7953"
             ],
             [
              0.7777777777777778,
              "#fb9f3a"
             ],
             [
              0.8888888888888888,
              "#fdca26"
             ],
             [
              1,
              "#f0f921"
             ]
            ],
            "type": "heatmapgl"
           }
          ],
          "histogram": [
           {
            "marker": {
             "pattern": {
              "fillmode": "overlay",
              "size": 10,
              "solidity": 0.2
             }
            },
            "type": "histogram"
           }
          ],
          "histogram2d": [
           {
            "colorbar": {
             "outlinewidth": 0,
             "ticks": ""
            },
            "colorscale": [
             [
              0,
              "#0d0887"
             ],
             [
              0.1111111111111111,
              "#46039f"
             ],
             [
              0.2222222222222222,
              "#7201a8"
             ],
             [
              0.3333333333333333,
              "#9c179e"
             ],
             [
              0.4444444444444444,
              "#bd3786"
             ],
             [
              0.5555555555555556,
              "#d8576b"
             ],
             [
              0.6666666666666666,
              "#ed7953"
             ],
             [
              0.7777777777777778,
              "#fb9f3a"
             ],
             [
              0.8888888888888888,
              "#fdca26"
             ],
             [
              1,
              "#f0f921"
             ]
            ],
            "type": "histogram2d"
           }
          ],
          "histogram2dcontour": [
           {
            "colorbar": {
             "outlinewidth": 0,
             "ticks": ""
            },
            "colorscale": [
             [
              0,
              "#0d0887"
             ],
             [
              0.1111111111111111,
              "#46039f"
             ],
             [
              0.2222222222222222,
              "#7201a8"
             ],
             [
              0.3333333333333333,
              "#9c179e"
             ],
             [
              0.4444444444444444,
              "#bd3786"
             ],
             [
              0.5555555555555556,
              "#d8576b"
             ],
             [
              0.6666666666666666,
              "#ed7953"
             ],
             [
              0.7777777777777778,
              "#fb9f3a"
             ],
             [
              0.8888888888888888,
              "#fdca26"
             ],
             [
              1,
              "#f0f921"
             ]
            ],
            "type": "histogram2dcontour"
           }
          ],
          "mesh3d": [
           {
            "colorbar": {
             "outlinewidth": 0,
             "ticks": ""
            },
            "type": "mesh3d"
           }
          ],
          "parcoords": [
           {
            "line": {
             "colorbar": {
              "outlinewidth": 0,
              "ticks": ""
             }
            },
            "type": "parcoords"
           }
          ],
          "pie": [
           {
            "automargin": true,
            "type": "pie"
           }
          ],
          "scatter": [
           {
            "fillpattern": {
             "fillmode": "overlay",
             "size": 10,
             "solidity": 0.2
            },
            "type": "scatter"
           }
          ],
          "scatter3d": [
           {
            "line": {
             "colorbar": {
              "outlinewidth": 0,
              "ticks": ""
             }
            },
            "marker": {
             "colorbar": {
              "outlinewidth": 0,
              "ticks": ""
             }
            },
            "type": "scatter3d"
           }
          ],
          "scattercarpet": [
           {
            "marker": {
             "colorbar": {
              "outlinewidth": 0,
              "ticks": ""
             }
            },
            "type": "scattercarpet"
           }
          ],
          "scattergeo": [
           {
            "marker": {
             "colorbar": {
              "outlinewidth": 0,
              "ticks": ""
             }
            },
            "type": "scattergeo"
           }
          ],
          "scattergl": [
           {
            "marker": {
             "colorbar": {
              "outlinewidth": 0,
              "ticks": ""
             }
            },
            "type": "scattergl"
           }
          ],
          "scattermapbox": [
           {
            "marker": {
             "colorbar": {
              "outlinewidth": 0,
              "ticks": ""
             }
            },
            "type": "scattermapbox"
           }
          ],
          "scatterpolar": [
           {
            "marker": {
             "colorbar": {
              "outlinewidth": 0,
              "ticks": ""
             }
            },
            "type": "scatterpolar"
           }
          ],
          "scatterpolargl": [
           {
            "marker": {
             "colorbar": {
              "outlinewidth": 0,
              "ticks": ""
             }
            },
            "type": "scatterpolargl"
           }
          ],
          "scatterternary": [
           {
            "marker": {
             "colorbar": {
              "outlinewidth": 0,
              "ticks": ""
             }
            },
            "type": "scatterternary"
           }
          ],
          "surface": [
           {
            "colorbar": {
             "outlinewidth": 0,
             "ticks": ""
            },
            "colorscale": [
             [
              0,
              "#0d0887"
             ],
             [
              0.1111111111111111,
              "#46039f"
             ],
             [
              0.2222222222222222,
              "#7201a8"
             ],
             [
              0.3333333333333333,
              "#9c179e"
             ],
             [
              0.4444444444444444,
              "#bd3786"
             ],
             [
              0.5555555555555556,
              "#d8576b"
             ],
             [
              0.6666666666666666,
              "#ed7953"
             ],
             [
              0.7777777777777778,
              "#fb9f3a"
             ],
             [
              0.8888888888888888,
              "#fdca26"
             ],
             [
              1,
              "#f0f921"
             ]
            ],
            "type": "surface"
           }
          ],
          "table": [
           {
            "cells": {
             "fill": {
              "color": "#EBF0F8"
             },
             "line": {
              "color": "white"
             }
            },
            "header": {
             "fill": {
              "color": "#C8D4E3"
             },
             "line": {
              "color": "white"
             }
            },
            "type": "table"
           }
          ]
         },
         "layout": {
          "annotationdefaults": {
           "arrowcolor": "#2a3f5f",
           "arrowhead": 0,
           "arrowwidth": 1
          },
          "autotypenumbers": "strict",
          "coloraxis": {
           "colorbar": {
            "outlinewidth": 0,
            "ticks": ""
           }
          },
          "colorscale": {
           "diverging": [
            [
             0,
             "#8e0152"
            ],
            [
             0.1,
             "#c51b7d"
            ],
            [
             0.2,
             "#de77ae"
            ],
            [
             0.3,
             "#f1b6da"
            ],
            [
             0.4,
             "#fde0ef"
            ],
            [
             0.5,
             "#f7f7f7"
            ],
            [
             0.6,
             "#e6f5d0"
            ],
            [
             0.7,
             "#b8e186"
            ],
            [
             0.8,
             "#7fbc41"
            ],
            [
             0.9,
             "#4d9221"
            ],
            [
             1,
             "#276419"
            ]
           ],
           "sequential": [
            [
             0,
             "#0d0887"
            ],
            [
             0.1111111111111111,
             "#46039f"
            ],
            [
             0.2222222222222222,
             "#7201a8"
            ],
            [
             0.3333333333333333,
             "#9c179e"
            ],
            [
             0.4444444444444444,
             "#bd3786"
            ],
            [
             0.5555555555555556,
             "#d8576b"
            ],
            [
             0.6666666666666666,
             "#ed7953"
            ],
            [
             0.7777777777777778,
             "#fb9f3a"
            ],
            [
             0.8888888888888888,
             "#fdca26"
            ],
            [
             1,
             "#f0f921"
            ]
           ],
           "sequentialminus": [
            [
             0,
             "#0d0887"
            ],
            [
             0.1111111111111111,
             "#46039f"
            ],
            [
             0.2222222222222222,
             "#7201a8"
            ],
            [
             0.3333333333333333,
             "#9c179e"
            ],
            [
             0.4444444444444444,
             "#bd3786"
            ],
            [
             0.5555555555555556,
             "#d8576b"
            ],
            [
             0.6666666666666666,
             "#ed7953"
            ],
            [
             0.7777777777777778,
             "#fb9f3a"
            ],
            [
             0.8888888888888888,
             "#fdca26"
            ],
            [
             1,
             "#f0f921"
            ]
           ]
          },
          "colorway": [
           "#636efa",
           "#EF553B",
           "#00cc96",
           "#ab63fa",
           "#FFA15A",
           "#19d3f3",
           "#FF6692",
           "#B6E880",
           "#FF97FF",
           "#FECB52"
          ],
          "font": {
           "color": "#2a3f5f"
          },
          "geo": {
           "bgcolor": "white",
           "lakecolor": "white",
           "landcolor": "#E5ECF6",
           "showlakes": true,
           "showland": true,
           "subunitcolor": "white"
          },
          "hoverlabel": {
           "align": "left"
          },
          "hovermode": "closest",
          "mapbox": {
           "style": "light"
          },
          "paper_bgcolor": "white",
          "plot_bgcolor": "#E5ECF6",
          "polar": {
           "angularaxis": {
            "gridcolor": "white",
            "linecolor": "white",
            "ticks": ""
           },
           "bgcolor": "#E5ECF6",
           "radialaxis": {
            "gridcolor": "white",
            "linecolor": "white",
            "ticks": ""
           }
          },
          "scene": {
           "xaxis": {
            "backgroundcolor": "#E5ECF6",
            "gridcolor": "white",
            "gridwidth": 2,
            "linecolor": "white",
            "showbackground": true,
            "ticks": "",
            "zerolinecolor": "white"
           },
           "yaxis": {
            "backgroundcolor": "#E5ECF6",
            "gridcolor": "white",
            "gridwidth": 2,
            "linecolor": "white",
            "showbackground": true,
            "ticks": "",
            "zerolinecolor": "white"
           },
           "zaxis": {
            "backgroundcolor": "#E5ECF6",
            "gridcolor": "white",
            "gridwidth": 2,
            "linecolor": "white",
            "showbackground": true,
            "ticks": "",
            "zerolinecolor": "white"
           }
          },
          "shapedefaults": {
           "line": {
            "color": "#2a3f5f"
           }
          },
          "ternary": {
           "aaxis": {
            "gridcolor": "white",
            "linecolor": "white",
            "ticks": ""
           },
           "baxis": {
            "gridcolor": "white",
            "linecolor": "white",
            "ticks": ""
           },
           "bgcolor": "#E5ECF6",
           "caxis": {
            "gridcolor": "white",
            "linecolor": "white",
            "ticks": ""
           }
          },
          "title": {
           "x": 0.05
          },
          "xaxis": {
           "automargin": true,
           "gridcolor": "white",
           "linecolor": "white",
           "ticks": "",
           "title": {
            "standoff": 15
           },
           "zerolinecolor": "white",
           "zerolinewidth": 2
          },
          "yaxis": {
           "automargin": true,
           "gridcolor": "white",
           "linecolor": "white",
           "ticks": "",
           "title": {
            "standoff": 15
           },
           "zerolinecolor": "white",
           "zerolinewidth": 2
          }
         }
        },
        "title": {
         "font": {
          "size": 20
         },
         "text": "Porovnanie predĺženia trasy a intenzity dopravy"
        },
        "width": 800,
        "xaxis": {
         "showticklabels": false,
         "tickfont": {
          "size": 12
         },
         "title": {
          "text": " "
         }
        },
        "yaxis": {
         "tickfont": {
          "size": 12
         },
         "title": {
          "font": {
           "size": 13
          },
          "text": "Normovaná hodnota"
         }
        }
       }
      }
     },
     "metadata": {},
     "output_type": "display_data"
    }
   ],
   "source": [
    "import plotly.graph_objects as go\n",
    "import numpy as np\n",
    "\n",
    "# Variables for customization\n",
    "axis_font_size = 13\n",
    "axis_tick_font_size = 12\n",
    "title_font_size = 20\n",
    "bg_color = \"#FFFFFF\"\n",
    "fig_color = \"#F0F4EF\"\n",
    "bar_color1 = \"#FF6600\"\n",
    "bar_color2 = \"#0066FF\"\n",
    "\n",
    "# Sort the DataFrame by the \"dist_diff\" column in ascending order and reset the index\n",
    "df_sorted = df_routes.sort_values(\n",
    "    by='dist_norm', ascending=True).reset_index(drop=True)\n",
    "\n",
    "# List of bridge IDs to drop\n",
    "bridges_to_drop = ['M5686', 'M7088', 'M3011']\n",
    "\n",
    "# Find the indices of the rows with these bridge IDs\n",
    "indices_to_drop = df_sorted[df_sorted['ID_mosta'].isin(bridges_to_drop)].index\n",
    "\n",
    "# Drop these rows from the DataFrame\n",
    "df_sorted = df_sorted.drop(indices_to_drop)\n",
    "\n",
    "# Reset index after dropping the rows\n",
    "df_sorted = df_sorted.reset_index(drop=True)\n",
    "\n",
    "# Calculate the mean value of the \"time_norm\" column\n",
    "mean_time_norm = np.mean(df_sorted['dist_norm'])\n",
    "\n",
    "# Initialize the figure\n",
    "fig = go.Figure()\n",
    "\n",
    "# Add the first bar for 'time_norm'\n",
    "fig.add_trace(go.Bar(\n",
    "    x=df_sorted.index,\n",
    "    y=df_sorted['dist_norm'],\n",
    "    name='Predĺženie trasy (dĺžka)',\n",
    "    marker_color=bar_color1\n",
    "))\n",
    "\n",
    "# Add the second bar for '-O_norm'\n",
    "fig.add_trace(go.Bar(\n",
    "    x=df_sorted.index,\n",
    "    y=-df_sorted['O_norm'],\n",
    "    name='Intenzita dopravy',\n",
    "    marker_color=bar_color2\n",
    "))\n",
    "\n",
    "# Update the layout to overlay the bars\n",
    "fig.update_layout(\n",
    "    title='Porovnanie predĺženia trasy a intenzity dopravy',\n",
    "    xaxis=dict(\n",
    "        showticklabels=False,\n",
    "        tickfont=dict(size=axis_tick_font_size),\n",
    "        title=' '\n",
    "    ),\n",
    "    yaxis=dict(\n",
    "        title='Normovaná hodnota',\n",
    "        titlefont=dict(size=axis_font_size),\n",
    "        tickfont=dict(size=axis_tick_font_size),\n",
    "    ),\n",
    "    plot_bgcolor=fig_color,\n",
    "    paper_bgcolor=bg_color,\n",
    "    legend=dict(orientation='h', yanchor='bottom',\n",
    "                y=1.02, xanchor='right', x=1),\n",
    "    titlefont=dict(size=title_font_size),\n",
    "    barmode='overlay'  # Overlay the bars\n",
    ")\n",
    "\n",
    "fig_width = 800\n",
    "fig_height = 5 * fig_width / 8\n",
    "# Set size of the figure\n",
    "fig.update_layout(width=fig_width, height=fig_height)\n",
    "\n",
    "# Show the interactive plot\n",
    "fig.show()"
   ]
  },
  {
   "cell_type": "code",
   "execution_count": 185,
   "metadata": {},
   "outputs": [
    {
     "data": {
      "text/html": [
       "<div>\n",
       "<style scoped>\n",
       "    .dataframe tbody tr th:only-of-type {\n",
       "        vertical-align: middle;\n",
       "    }\n",
       "\n",
       "    .dataframe tbody tr th {\n",
       "        vertical-align: top;\n",
       "    }\n",
       "\n",
       "    .dataframe thead th {\n",
       "        text-align: right;\n",
       "    }\n",
       "</style>\n",
       "<table border=\"1\" class=\"dataframe\">\n",
       "  <thead>\n",
       "    <tr style=\"text-align: right;\">\n",
       "      <th></th>\n",
       "      <th>ID_mosta</th>\n",
       "      <th>Názov_mosta</th>\n",
       "      <th>n_2023</th>\n",
       "      <th>Okres</th>\n",
       "      <th>Trieda_PK</th>\n",
       "      <th>P_factor_ind</th>\n",
       "      <th>O_index</th>\n",
       "      <th>dist_diff_ind</th>\n",
       "      <th>time_diff_ind</th>\n",
       "      <th>dist_sum_norm_ind</th>\n",
       "      <th>time_sum_norm_ind</th>\n",
       "    </tr>\n",
       "  </thead>\n",
       "  <tbody>\n",
       "    <tr>\n",
       "      <th>0</th>\n",
       "      <td>M4240</td>\n",
       "      <td>74_006 Most cez rieku Laborec v meste Humenné</td>\n",
       "      <td>6</td>\n",
       "      <td>Humenné</td>\n",
       "      <td>cesta I. triedy</td>\n",
       "      <td>0</td>\n",
       "      <td>7</td>\n",
       "      <td>3</td>\n",
       "      <td>2</td>\n",
       "      <td>0</td>\n",
       "      <td>0</td>\n",
       "    </tr>\n",
       "    <tr>\n",
       "      <th>1</th>\n",
       "      <td>M1514</td>\n",
       "      <td>63_025 Most cez Vážsky Dunaj v Komárne</td>\n",
       "      <td>6</td>\n",
       "      <td>Komárno</td>\n",
       "      <td>cesta I. triedy</td>\n",
       "      <td>1</td>\n",
       "      <td>10</td>\n",
       "      <td>4</td>\n",
       "      <td>5</td>\n",
       "      <td>2</td>\n",
       "      <td>2</td>\n",
       "    </tr>\n",
       "    <tr>\n",
       "      <th>2</th>\n",
       "      <td>M6289</td>\n",
       "      <td>68_009 Most cez rieku Poprad v meste Stará Ľub...</td>\n",
       "      <td>5</td>\n",
       "      <td>Stará Ľubovňa</td>\n",
       "      <td>cesta I. triedy</td>\n",
       "      <td>2</td>\n",
       "      <td>12</td>\n",
       "      <td>2</td>\n",
       "      <td>4</td>\n",
       "      <td>1</td>\n",
       "      <td>1</td>\n",
       "    </tr>\n",
       "    <tr>\n",
       "      <th>3</th>\n",
       "      <td>M6702</td>\n",
       "      <td>Most cez rieku Váh v Hlohovci</td>\n",
       "      <td>6</td>\n",
       "      <td>Hlohovec</td>\n",
       "      <td>cesta II. triedy</td>\n",
       "      <td>3</td>\n",
       "      <td>11</td>\n",
       "      <td>5</td>\n",
       "      <td>7</td>\n",
       "      <td>3</td>\n",
       "      <td>3</td>\n",
       "    </tr>\n",
       "    <tr>\n",
       "      <th>4</th>\n",
       "      <td>M5392</td>\n",
       "      <td>67_057 Most cez bezmenný potok pred obcou Veľk...</td>\n",
       "      <td>6</td>\n",
       "      <td>Kežmarok</td>\n",
       "      <td>cesta I. triedy</td>\n",
       "      <td>4</td>\n",
       "      <td>5</td>\n",
       "      <td>11</td>\n",
       "      <td>18</td>\n",
       "      <td>4</td>\n",
       "      <td>5</td>\n",
       "    </tr>\n",
       "    <tr>\n",
       "      <th>5</th>\n",
       "      <td>M5373</td>\n",
       "      <td>59_057 Most cez rieku Revúca, k.ú. Ružomberok</td>\n",
       "      <td>7</td>\n",
       "      <td>Ružomberok</td>\n",
       "      <td>cesta I. triedy</td>\n",
       "      <td>5</td>\n",
       "      <td>50</td>\n",
       "      <td>9</td>\n",
       "      <td>9</td>\n",
       "      <td>6</td>\n",
       "      <td>8</td>\n",
       "    </tr>\n",
       "    <tr>\n",
       "      <th>6</th>\n",
       "      <td>M6115</td>\n",
       "      <td>75_004 Most cez rieku Váh v meste Šaľa</td>\n",
       "      <td>5</td>\n",
       "      <td>Šaľa</td>\n",
       "      <td>cesta I. triedy</td>\n",
       "      <td>6</td>\n",
       "      <td>8</td>\n",
       "      <td>21</td>\n",
       "      <td>17</td>\n",
       "      <td>5</td>\n",
       "      <td>7</td>\n",
       "    </tr>\n",
       "    <tr>\n",
       "      <th>7</th>\n",
       "      <td>M3386</td>\n",
       "      <td>Most cez vodnú nádrž Ružín pred obcou Jaklovce</td>\n",
       "      <td>6</td>\n",
       "      <td>Gelnica</td>\n",
       "      <td>cesta II. triedy</td>\n",
       "      <td>7</td>\n",
       "      <td>81</td>\n",
       "      <td>8</td>\n",
       "      <td>1</td>\n",
       "      <td>11</td>\n",
       "      <td>6</td>\n",
       "    </tr>\n",
       "    <tr>\n",
       "      <th>8</th>\n",
       "      <td>M3265</td>\n",
       "      <td>59_012 Most cez potok Bystrica v obci Uľanka</td>\n",
       "      <td>5</td>\n",
       "      <td>Banská Bystrica</td>\n",
       "      <td>cesta I. triedy</td>\n",
       "      <td>8</td>\n",
       "      <td>29</td>\n",
       "      <td>27</td>\n",
       "      <td>8</td>\n",
       "      <td>10</td>\n",
       "      <td>4</td>\n",
       "    </tr>\n",
       "    <tr>\n",
       "      <th>9</th>\n",
       "      <td>M1444</td>\n",
       "      <td>18_315 Most cez rieku Váh za obcou Kraľovany</td>\n",
       "      <td>6</td>\n",
       "      <td>Dolný Kubín</td>\n",
       "      <td>cesta I. triedy</td>\n",
       "      <td>9</td>\n",
       "      <td>23</td>\n",
       "      <td>18</td>\n",
       "      <td>25</td>\n",
       "      <td>7</td>\n",
       "      <td>10</td>\n",
       "    </tr>\n",
       "    <tr>\n",
       "      <th>10</th>\n",
       "      <td>M2717</td>\n",
       "      <td>66_079 Most cez železničnú trať pri odbočke do...</td>\n",
       "      <td>6</td>\n",
       "      <td>Banská Bystrica</td>\n",
       "      <td>cesta I. triedy</td>\n",
       "      <td>10</td>\n",
       "      <td>18</td>\n",
       "      <td>51</td>\n",
       "      <td>24</td>\n",
       "      <td>19</td>\n",
       "      <td>9</td>\n",
       "    </tr>\n",
       "    <tr>\n",
       "      <th>11</th>\n",
       "      <td>M6681</td>\n",
       "      <td>74_001 Most nad železničnou traťou pred obcou ...</td>\n",
       "      <td>5</td>\n",
       "      <td>Humenné</td>\n",
       "      <td>cesta I. triedy</td>\n",
       "      <td>11</td>\n",
       "      <td>54</td>\n",
       "      <td>17</td>\n",
       "      <td>15</td>\n",
       "      <td>9</td>\n",
       "      <td>14</td>\n",
       "    </tr>\n",
       "    <tr>\n",
       "      <th>12</th>\n",
       "      <td>M6211</td>\n",
       "      <td>61_056 Most cez rieku Váh a železnicu v Trenčíne</td>\n",
       "      <td>6</td>\n",
       "      <td>Trenčín</td>\n",
       "      <td>cesta I. triedy</td>\n",
       "      <td>12</td>\n",
       "      <td>13</td>\n",
       "      <td>50</td>\n",
       "      <td>40</td>\n",
       "      <td>15</td>\n",
       "      <td>15</td>\n",
       "    </tr>\n",
       "    <tr>\n",
       "      <th>13</th>\n",
       "      <td>M1195</td>\n",
       "      <td>72_016 Most cez rieku Rimava pred obcou Tisovec</td>\n",
       "      <td>5</td>\n",
       "      <td>Rimavská Sobota</td>\n",
       "      <td>cesta I. triedy</td>\n",
       "      <td>13</td>\n",
       "      <td>104</td>\n",
       "      <td>1</td>\n",
       "      <td>3</td>\n",
       "      <td>8</td>\n",
       "      <td>17</td>\n",
       "    </tr>\n",
       "    <tr>\n",
       "      <th>14</th>\n",
       "      <td>M3832</td>\n",
       "      <td>Most cez odpadový kanál Hydrocentrály v Novom ...</td>\n",
       "      <td>6</td>\n",
       "      <td>Nové Mesto nad Váhom</td>\n",
       "      <td>cesta II. triedy</td>\n",
       "      <td>14</td>\n",
       "      <td>14</td>\n",
       "      <td>73</td>\n",
       "      <td>31</td>\n",
       "      <td>27</td>\n",
       "      <td>11</td>\n",
       "    </tr>\n",
       "  </tbody>\n",
       "</table>\n",
       "</div>"
      ],
      "text/plain": [
       "   ID_mosta                                        Názov_mosta  n_2023  \\\n",
       "0     M4240      74_006 Most cez rieku Laborec v meste Humenné       6   \n",
       "1     M1514             63_025 Most cez Vážsky Dunaj v Komárne       6   \n",
       "2     M6289  68_009 Most cez rieku Poprad v meste Stará Ľub...       5   \n",
       "3     M6702                      Most cez rieku Váh v Hlohovci       6   \n",
       "4     M5392  67_057 Most cez bezmenný potok pred obcou Veľk...       6   \n",
       "5     M5373      59_057 Most cez rieku Revúca, k.ú. Ružomberok       7   \n",
       "6     M6115             75_004 Most cez rieku Váh v meste Šaľa       5   \n",
       "7     M3386     Most cez vodnú nádrž Ružín pred obcou Jaklovce       6   \n",
       "8     M3265       59_012 Most cez potok Bystrica v obci Uľanka       5   \n",
       "9     M1444       18_315 Most cez rieku Váh za obcou Kraľovany       6   \n",
       "10    M2717  66_079 Most cez železničnú trať pri odbočke do...       6   \n",
       "11    M6681  74_001 Most nad železničnou traťou pred obcou ...       5   \n",
       "12    M6211   61_056 Most cez rieku Váh a železnicu v Trenčíne       6   \n",
       "13    M1195    72_016 Most cez rieku Rimava pred obcou Tisovec       5   \n",
       "14    M3832  Most cez odpadový kanál Hydrocentrály v Novom ...       6   \n",
       "\n",
       "                   Okres         Trieda_PK  P_factor_ind  O_index  \\\n",
       "0                Humenné   cesta I. triedy             0        7   \n",
       "1                Komárno   cesta I. triedy             1       10   \n",
       "2          Stará Ľubovňa   cesta I. triedy             2       12   \n",
       "3               Hlohovec  cesta II. triedy             3       11   \n",
       "4               Kežmarok   cesta I. triedy             4        5   \n",
       "5             Ružomberok   cesta I. triedy             5       50   \n",
       "6                   Šaľa   cesta I. triedy             6        8   \n",
       "7                Gelnica  cesta II. triedy             7       81   \n",
       "8        Banská Bystrica   cesta I. triedy             8       29   \n",
       "9            Dolný Kubín   cesta I. triedy             9       23   \n",
       "10       Banská Bystrica   cesta I. triedy            10       18   \n",
       "11               Humenné   cesta I. triedy            11       54   \n",
       "12               Trenčín   cesta I. triedy            12       13   \n",
       "13       Rimavská Sobota   cesta I. triedy            13      104   \n",
       "14  Nové Mesto nad Váhom  cesta II. triedy            14       14   \n",
       "\n",
       "    dist_diff_ind  time_diff_ind  dist_sum_norm_ind  time_sum_norm_ind  \n",
       "0               3              2                  0                  0  \n",
       "1               4              5                  2                  2  \n",
       "2               2              4                  1                  1  \n",
       "3               5              7                  3                  3  \n",
       "4              11             18                  4                  5  \n",
       "5               9              9                  6                  8  \n",
       "6              21             17                  5                  7  \n",
       "7               8              1                 11                  6  \n",
       "8              27              8                 10                  4  \n",
       "9              18             25                  7                 10  \n",
       "10             51             24                 19                  9  \n",
       "11             17             15                  9                 14  \n",
       "12             50             40                 15                 15  \n",
       "13              1              3                  8                 17  \n",
       "14             73             31                 27                 11  "
      ]
     },
     "execution_count": 185,
     "metadata": {},
     "output_type": "execute_result"
    }
   ],
   "source": [
    "selected_columns = [\"ID_mosta\",  \"P_factor\", \"n_2023\", \"dist_diff\", \"time_diff\",\n",
    "                    \"O\", \"time_norm\", \"dist_norm\", \"time_sum_norm\", \"dist_sum_norm\"]\n",
    "selected_columns = [\"ID_mosta\", \"Názov_mosta\", \"n_2023\", \"Okres\", \"Trieda_PK\", \"P_factor_ind\", 'O_index',\n",
    "                    'dist_diff_ind', 'time_diff_ind', \"dist_sum_norm_ind\", \"time_sum_norm_ind\"]\n",
    "\n",
    "# List of bridge IDs to filter out\n",
    "bridge_ids_to_filter = [\"M5686\", \"M7088\", \"M3011\"]\n",
    "\n",
    "# Create df_routes_times by filtering out the specified bridge IDs\n",
    "df_routes_prior = df_routes[~df_routes['ID_mosta'].isin(\n",
    "    bridge_ids_to_filter)].copy()\n",
    "\n",
    "df_routes_prior = df_routes_prior.sort_values(by='time_diff', ascending=False)\n",
    "\n",
    "\n",
    "# Calculate the P_factor\n",
    "df_routes_prior['P_factor'] = df_routes_prior['n_2023'] * df_routes_prior['O'] * \\\n",
    "    (0.5 * df_routes_prior['time_diff'] + 0.5 * df_routes_prior['dist_diff'])\n",
    "\n",
    "# Sort the DataFrame by the \"O\" column in descending order\n",
    "df_routes_prior = df_routes_prior.sort_values(\n",
    "    by='O', ascending=False).reset_index(drop=True)\n",
    "df_routes_prior['O_index'] = df_routes_prior.index\n",
    "\n",
    "df_routes_prior = df_routes_prior.sort_values(\n",
    "    by='dist_diff', ascending=False).reset_index(drop=True)\n",
    "df_routes_prior['dist_diff_ind'] = df_routes_prior.index\n",
    "\n",
    "df_routes_prior = df_routes_prior.sort_values(\n",
    "    by='time_diff', ascending=False).reset_index(drop=True)\n",
    "df_routes_prior['time_diff_ind'] = df_routes_prior.index\n",
    "\n",
    "df_routes_prior = df_routes_prior.sort_values(\n",
    "    by='dist_sum_norm', ascending=False).reset_index(drop=True)\n",
    "df_routes_prior['dist_sum_norm_ind'] = df_routes_prior.index\n",
    "\n",
    "df_routes_prior = df_routes_prior.sort_values(\n",
    "    by='time_sum_norm', ascending=False).reset_index(drop=True)\n",
    "df_routes_prior['time_sum_norm_ind'] = df_routes_prior.index\n",
    "\n",
    "df_routes_prior = df_routes_prior.sort_values(\n",
    "    by='P_factor', ascending=False).reset_index(drop=True)\n",
    "df_routes_prior['P_factor_ind'] = df_routes_prior.index\n",
    "\n",
    "# Sort the DataFrame by the 'P_factor' column in descending order\n",
    "df_routes_prior = df_routes_prior.sort_values(by='P_factor', ascending=False)\n",
    "\n",
    "df_routes_prior[selected_columns].head(15)\n",
    "# len(selected_columns)"
   ]
  },
  {
   "cell_type": "code",
   "execution_count": 190,
   "metadata": {},
   "outputs": [
    {
     "data": {
      "text/plain": [
       "'Most cez odpadový kanál Hydrocentrály v Novom Meste n/V'"
      ]
     },
     "execution_count": 190,
     "metadata": {},
     "output_type": "execute_result"
    }
   ],
   "source": [
    "df_routes_prior.iloc[14][\"Názov_mosta\"]"
   ]
  },
  {
   "cell_type": "code",
   "execution_count": 124,
   "metadata": {},
   "outputs": [
    {
     "data": {
      "text/plain": [
       "ID_mosta                                                           M3641\n",
       "Okres                                                            Malacky\n",
       "Custom_coor                                                         None\n",
       "br_lat                                                           48.5111\n",
       "br_long                                                        17.124204\n",
       "start_lat                                                      48.652627\n",
       "start_long                                                     17.186974\n",
       "end_lat                                                        48.437625\n",
       "end_long                                                       17.017307\n",
       "Hexagon_Coordinates    [[17.124475398777033, 48.511099729], [17.12433...\n",
       "car_req_1              {\\n  \"points\": [\\n    [\\n      17.186974,\\n   ...\n",
       "car_req_alt            {\\n  \"points\": [\\n    [\\n      17.186974,\\n   ...\n",
       "car_resp_1             {'hints': {'visited_nodes.average': 6292.0, 'v...\n",
       "car_resp_alt           {'hints': {'visited_nodes.average': 11986.0, '...\n",
       "ID_úseku                                                           82809\n",
       "T                                                                    386\n",
       "O                                                                   2601\n",
       "M                                                                     29\n",
       "Trieda_PK                                               cesta II. triedy\n",
       "Názov_mosta            II_590 - 004 Most cez potok Rudava - pred Stud...\n",
       "Druh_konštrukcie                                                 dosková\n",
       "Material                                   prefabrikovaný predpätý betón\n",
       "Predmet_premostenia                                            Vodný tok\n",
       "Rok_postavenia                                                      1966\n",
       "Dĺžka_premostenia                                                   16.0\n",
       "Volná_šírka_mosta                                                    7.5\n",
       "n_2012                                                                 3\n",
       "n_2022                                                                 6\n",
       "n_2023                                                                 6\n",
       "car_time_1                                                     30.078767\n",
       "car_time_alt                                                   33.353517\n",
       "car_dist_1                                                     32.049486\n",
       "car_dist_alt                                                   36.124519\n",
       "time_diff                                                        3.27475\n",
       "dist_diff                                                       4.075033\n",
       "time_sum                                                      8517.62475\n",
       "dist_sum                                                    10599.160833\n",
       "O_norm                                                          0.050083\n",
       "time_norm                                                       0.055821\n",
       "dist_norm                                                       0.061959\n",
       "time_sum_norm                                                   0.011906\n",
       "dist_sum_norm                                                   0.021161\n",
       "Name: 115, dtype: object"
      ]
     },
     "execution_count": 124,
     "metadata": {},
     "output_type": "execute_result"
    }
   ],
   "source": [
    "df_routes.iloc[111]"
   ]
  }
 ],
 "metadata": {
  "kernelspec": {
   "display_name": "Bridges_VENV",
   "language": "python",
   "name": "python3"
  },
  "language_info": {
   "codemirror_mode": {
    "name": "ipython",
    "version": 3
   },
   "file_extension": ".py",
   "mimetype": "text/x-python",
   "name": "python",
   "nbconvert_exporter": "python",
   "pygments_lexer": "ipython3",
   "version": "3.11.6"
  }
 },
 "nbformat": 4,
 "nbformat_minor": 2
}
