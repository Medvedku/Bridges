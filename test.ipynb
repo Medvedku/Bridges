{
 "cells": [
  {
   "cell_type": "code",
   "execution_count": 6,
   "metadata": {},
   "outputs": [],
   "source": [
    "import pandas as pd\n",
    "import numpy as np\n",
    "import sklearn\n",
    "from sklearn import linear_model\n",
    "import pickle\n",
    "import random"
   ]
  },
  {
   "cell_type": "code",
   "execution_count": 76,
   "metadata": {},
   "outputs": [
    {
     "data": {
      "text/plain": [
       "Index(['ID mosta', '2012', '2013', '2014', '2015', '2016', '2017', '2018',\n",
       "       '2019', '2020', '2021', '2022', '2023', 'Okres', 'Longitude',\n",
       "       'Latitude', 'Material', 'Názov mosta', 'Dĺžka premostenia',\n",
       "       'Rok postavenia', 'Volná šírka mosta', 'Normána zaťažiteľnost',\n",
       "       'Trieda PK', 'Druh konštrukcie', 'Kraj', 'n_2012', 'n_2013', 'n_2014',\n",
       "       'n_2015', 'n_2016', 'n_2017', 'n_2018', 'n_2019', 'n_2020', 'n_2021',\n",
       "       'n_2022', 'n_2023', 'n_length', 'n_width', 'n_region', 'n_class',\n",
       "       'n_years', 'n_material', 'n_type', 'b_change'],\n",
       "      dtype='object')"
      ]
     },
     "execution_count": 76,
     "metadata": {},
     "output_type": "execute_result"
    }
   ],
   "source": [
    "# Read the CSV file into a DataFrame\n",
    "df = pd.read_csv('condition_filled.csv')\n",
    "df.columns"
   ]
  },
  {
   "cell_type": "code",
   "execution_count": 80,
   "metadata": {},
   "outputs": [
    {
     "name": "stdout",
     "output_type": "stream",
     "text": [
      "(993, 14) (6405, 14) (109, 14)\n"
     ]
    }
   ],
   "source": [
    "data = df[[\"ID mosta\", 'n_2012', 'n_2013', 'n_2014',\n",
    "       'n_2015', 'n_2016', 'n_2017', 'n_2018', 'n_2019', 'n_2020', 'n_2021',\n",
    "       'n_2022', 'n_2023', 'b_change']]\n",
    "\n",
    "# Filter the DataFrame for rows where \"b_change\" is equal to 1\n",
    "filtered_gt = data[data[\"b_change\"] == 1]\n",
    "filtered_eq = data[data[\"b_change\"] == 0]\n",
    "filtered_lt = data[data[\"b_change\"] == -1]\n",
    "\n",
    "# Randomly select 200 rows from the filtered data\n",
    "random_gt = filtered_gt.sample(n=250, random_state=42)  # Set a random_state for reproducibility\n",
    "random_eq = filtered_gt.sample(n=250, random_state=42)  # Set a random_state for reproducibility\n",
    "random_lt = filtered_gt.sample(n=250, random_state=42)  # Set a random_state for reproducibility\n",
    "\n",
    "# Display the randomly selected 200 rows\n",
    "print(filtered_gt.shape, filtered_eq.shape, filtered_lt.shape)"
   ]
  },
  {
   "cell_type": "code",
   "execution_count": null,
   "metadata": {},
   "outputs": [],
   "source": [
    "'n_2012', 'n_2013', 'n_2014', 'n_2015', 'n_2016', 'n_2017', 'n_2018', 'n_2019', 'n_2020', 'n_2021', 'n_2022', 'n_2023'"
   ]
  },
  {
   "cell_type": "code",
   "execution_count": 56,
   "metadata": {},
   "outputs": [],
   "source": [
    "matica = np.array([\n",
    "    [\"A01\", \"B01\", \"C01\", \"D01\", \"E01\", \"F01\", \"G01\", \"H01\", \"I01\", \"J01\"],\n",
    "    [\"A02\", \"B02\", \"C02\", \"D02\", \"E02\", \"F02\", \"G02\", \"H02\", \"I02\", \"J02\"],\n",
    "    [\"A03\", \"B03\", \"C03\", \"D03\", \"E03\", \"F03\", \"G03\", \"H03\", \"I03\", \"J03\"],\n",
    "    [\"A04\", \"B04\", \"C04\", \"D04\", \"E04\", \"F04\", \"G04\", \"H04\", \"I04\", \"J04\"],\n",
    "    [\"A05\", \"B05\", \"C05\", \"D05\", \"E05\", \"F05\", \"G05\", \"H05\", \"I05\", \"J05\"],\n",
    "    [\"A06\", \"B06\", \"C06\", \"D06\", \"E06\", \"F06\", \"G06\", \"H06\", \"I06\", \"J06\"],\n",
    "    [\"A07\", \"B07\", \"C07\", \"D07\", \"E07\", \"F07\", \"G07\", \"H07\", \"I07\", \"J07\"],\n",
    "    [\"A08\", \"B08\", \"C08\", \"D08\", \"E08\", \"F08\", \"G08\", \"H08\", \"I08\", \"J08\"],\n",
    "    [\"A09\", \"B09\", \"C09\", \"D09\", \"E09\", \"F09\", \"G09\", \"H09\", \"I09\", \"J09\"],\n",
    "    [\"A10\", \"B10\", \"C10\", \"D10\", \"E10\", \"F10\", \"G10\", \"H10\", \"I10\", \"J10\"]\n",
    "        ])\n",
    "\n",
    "x = np.array( matica[:10, :9] )\n",
    "y = np.array( matica[:10, 9:10] )"
   ]
  },
  {
   "cell_type": "code",
   "execution_count": 71,
   "metadata": {},
   "outputs": [
    {
     "name": "stdout",
     "output_type": "stream",
     "text": [
      "[['A01' 'B01' 'C01' 'D01' 'E01' 'F01' 'G01' 'H01' 'I01']\n",
      " ['A04' 'B04' 'C04' 'D04' 'E04' 'F04' 'G04' 'H04' 'I04']\n",
      " ['A05' 'B05' 'C05' 'D05' 'E05' 'F05' 'G05' 'H05' 'I05']\n",
      " ['A08' 'B08' 'C08' 'D08' 'E08' 'F08' 'G08' 'H08' 'I08']\n",
      " ['A02' 'B02' 'C02' 'D02' 'E02' 'F02' 'G02' 'H02' 'I02']\n",
      " ['A10' 'B10' 'C10' 'D10' 'E10' 'F10' 'G10' 'H10' 'I10']\n",
      " ['A03' 'B03' 'C03' 'D03' 'E03' 'F03' 'G03' 'H03' 'I03']\n",
      " ['A06' 'B06' 'C06' 'D06' 'E06' 'F06' 'G06' 'H06' 'I06']\n",
      " ['A09' 'B09' 'C09' 'D09' 'E09' 'F09' 'G09' 'H09' 'I09']] \n",
      "\n",
      "[['A07' 'B07' 'C07' 'D07' 'E07' 'F07' 'G07' 'H07' 'I07']] \n",
      "\n",
      "[['J01']\n",
      " ['J04']\n",
      " ['J05']\n",
      " ['J08']\n",
      " ['J02']\n",
      " ['J10']\n",
      " ['J03']\n",
      " ['J06']\n",
      " ['J09']] \n",
      "\n",
      "[['J07']] \n",
      "\n"
     ]
    }
   ],
   "source": [
    "x_train, x_test, y_train, y_test = sklearn.model_selection.train_test_split(x, y, test_size=1)\n",
    "print(x_train, \"\\n\")\n",
    "print(x_test, \"\\n\")\n",
    "print(y_train, \"\\n\")\n",
    "print(y_test, \"\\n\")"
   ]
  },
  {
   "cell_type": "code",
   "execution_count": 60,
   "metadata": {},
   "outputs": [
    {
     "data": {
      "text/plain": [
       "array([['A06', 'B06', 'C06', 'D06', 'E06', 'F06', 'G06', 'H06', 'I06'],\n",
       "       ['A07', 'B07', 'C07', 'D07', 'E07', 'F07', 'G07', 'H07', 'I07'],\n",
       "       ['A09', 'B09', 'C09', 'D09', 'E09', 'F09', 'G09', 'H09', 'I09']],\n",
       "      dtype='<U3')"
      ]
     },
     "execution_count": 60,
     "metadata": {},
     "output_type": "execute_result"
    }
   ],
   "source": [
    "x_test"
   ]
  },
  {
   "cell_type": "code",
   "execution_count": 61,
   "metadata": {},
   "outputs": [
    {
     "data": {
      "text/plain": [
       "array([['J04'],\n",
       "       ['J01'],\n",
       "       ['J05'],\n",
       "       ['J03'],\n",
       "       ['J02'],\n",
       "       ['J10'],\n",
       "       ['J08']], dtype='<U3')"
      ]
     },
     "execution_count": 61,
     "metadata": {},
     "output_type": "execute_result"
    }
   ],
   "source": [
    "y_train"
   ]
  },
  {
   "cell_type": "code",
   "execution_count": 62,
   "metadata": {},
   "outputs": [
    {
     "data": {
      "text/plain": [
       "array([['J06'],\n",
       "       ['J07'],\n",
       "       ['J09']], dtype='<U3')"
      ]
     },
     "execution_count": 62,
     "metadata": {},
     "output_type": "execute_result"
    }
   ],
   "source": [
    "y_test"
   ]
  }
 ],
 "metadata": {
  "kernelspec": {
   "display_name": "Bridges_VENV",
   "language": "python",
   "name": "python3"
  },
  "language_info": {
   "codemirror_mode": {
    "name": "ipython",
    "version": 3
   },
   "file_extension": ".py",
   "mimetype": "text/x-python",
   "name": "python",
   "nbconvert_exporter": "python",
   "pygments_lexer": "ipython3",
   "version": "3.11.4"
  },
  "orig_nbformat": 4
 },
 "nbformat": 4,
 "nbformat_minor": 2
}
