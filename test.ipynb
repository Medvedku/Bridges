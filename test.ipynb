{
 "cells": [
  {
   "cell_type": "code",
   "execution_count": 1,
   "metadata": {},
   "outputs": [],
   "source": [
    "import pandas as pd\n",
    "import numpy as np\n",
    "import sklearn\n",
    "from sklearn import linear_model\n",
    "import pickle\n",
    "import random\n",
    "from imblearn.over_sampling import RandomOverSampler"
   ]
  },
  {
   "cell_type": "code",
   "execution_count": 76,
   "metadata": {},
   "outputs": [
    {
     "data": {
      "text/plain": [
       "Index(['ID mosta', '2012', '2013', '2014', '2015', '2016', '2017', '2018',\n",
       "       '2019', '2020', '2021', '2022', '2023', 'Okres', 'Longitude',\n",
       "       'Latitude', 'Material', 'Názov mosta', 'Dĺžka premostenia',\n",
       "       'Rok postavenia', 'Volná šírka mosta', 'Normána zaťažiteľnost',\n",
       "       'Trieda PK', 'Druh konštrukcie', 'Kraj', 'n_2012', 'n_2013', 'n_2014',\n",
       "       'n_2015', 'n_2016', 'n_2017', 'n_2018', 'n_2019', 'n_2020', 'n_2021',\n",
       "       'n_2022', 'n_2023', 'n_length', 'n_width', 'n_region', 'n_class',\n",
       "       'n_years', 'n_material', 'n_type', 'b_change'],\n",
       "      dtype='object')"
      ]
     },
     "execution_count": 76,
     "metadata": {},
     "output_type": "execute_result"
    }
   ],
   "source": [
    "# Read the CSV file into a DataFrame\n",
    "df = pd.read_csv('condition_filled.csv')\n",
    "df.columns"
   ]
  },
  {
   "cell_type": "code",
   "execution_count": 80,
   "metadata": {},
   "outputs": [
    {
     "name": "stdout",
     "output_type": "stream",
     "text": [
      "(993, 14) (6405, 14) (109, 14)\n"
     ]
    }
   ],
   "source": [
    "data = df[[\"ID mosta\", 'n_2012', 'n_2013', 'n_2014',\n",
    "       'n_2015', 'n_2016', 'n_2017', 'n_2018', 'n_2019', 'n_2020', 'n_2021',\n",
    "       'n_2022', 'n_2023', 'b_change']]\n",
    "\n",
    "# Filter the DataFrame for rows where \"b_change\" is equal to 1\n",
    "filtered_gt = data[data[\"b_change\"] == 1]\n",
    "filtered_eq = data[data[\"b_change\"] == 0]\n",
    "filtered_lt = data[data[\"b_change\"] == -1]\n",
    "\n",
    "# Randomly select 200 rows from the filtered data\n",
    "random_gt = filtered_gt.sample(n=250, random_state=42)  # Set a random_state for reproducibility\n",
    "random_eq = filtered_gt.sample(n=250, random_state=42)  # Set a random_state for reproducibility\n",
    "random_lt = filtered_gt.sample(n=250, random_state=42)  # Set a random_state for reproducibility\n",
    "\n",
    "# Display the randomly selected 200 rows\n",
    "print(filtered_gt.shape, filtered_eq.shape, filtered_lt.shape)"
   ]
  },
  {
   "cell_type": "code",
   "execution_count": null,
   "metadata": {},
   "outputs": [],
   "source": [
    "'n_2012', 'n_2013', 'n_2014', 'n_2015', 'n_2016', 'n_2017', 'n_2018', 'n_2019', 'n_2020', 'n_2021', 'n_2022', 'n_2023'"
   ]
  },
  {
   "cell_type": "code",
   "execution_count": 17,
   "metadata": {},
   "outputs": [
    {
     "data": {
      "text/plain": [
       "array([[11, 21, 31, 41, 51, 61, 71, 81],\n",
       "       [12, 22, 32, 42, 52, 62, 72, 82],\n",
       "       [13, 23, 33, 43, 53, 63, 73, 83],\n",
       "       [14, 24, 34, 44, 54, 64, 74, 84],\n",
       "       [15, 25, 35, 45, 55, 65, 75, 85],\n",
       "       [16, 26, 36, 46, 56, 66, 76, 86],\n",
       "       [17, 27, 37, 47, 57, 67, 77, 87],\n",
       "       [18, 28, 38, 48, 58, 68, 78, 88],\n",
       "       [19, 29, 39, 49, 59, 69, 79, 89]])"
      ]
     },
     "execution_count": 17,
     "metadata": {},
     "output_type": "execute_result"
    }
   ],
   "source": [
    "matica = np.array([\n",
    "    [ 11, 21, 31, 41, 51, 61, 71, 81, 91 ],\n",
    "    [ 12, 22, 32, 42, 52, 62, 72, 82, 92 ],\n",
    "    [ 13, 23, 33, 43, 53, 63, 73, 83, 93 ],\n",
    "    [ 14, 24, 34, 44, 54, 64, 74, 84, 94 ],\n",
    "    [ 15, 25, 35, 45, 55, 65, 75, 85, 95 ],\n",
    "    [ 16, 26, 36, 46, 56, 66, 76, 86, 96 ],\n",
    "    [ 17, 27, 37, 47, 57, 67, 77, 87, 97 ],\n",
    "    [ 18, 28, 38, 48, 58, 68, 78, 88, 98 ],\n",
    "    [ 19, 29, 39, 49, 59, 69, 79, 89, 99 ]\n",
    "        ])\n",
    "\n",
    "X = np.array( matica[:9, :8] )\n",
    "y = np.array( matica[:9, 8:9] )\n",
    "X"
   ]
  },
  {
   "cell_type": "code",
   "execution_count": 14,
   "metadata": {},
   "outputs": [
    {
     "data": {
      "text/plain": [
       "(array([[11, 21, 31, 41, 51, 61, 71, 81],\n",
       "        [12, 22, 32, 42, 52, 62, 72, 82],\n",
       "        [13, 23, 33, 43, 53, 63, 73, 83],\n",
       "        [14, 24, 34, 44, 54, 64, 74, 84],\n",
       "        [15, 25, 35, 45, 55, 65, 75, 85],\n",
       "        [16, 26, 36, 46, 56, 66, 76, 86],\n",
       "        [17, 27, 37, 47, 57, 67, 77, 87],\n",
       "        [18, 28, 38, 48, 58, 68, 78, 88],\n",
       "        [19, 29, 39, 49, 59, 69, 79, 89]]),\n",
       " array([91, 92, 93, 94, 95, 96, 97, 98, 99]))"
      ]
     },
     "execution_count": 14,
     "metadata": {},
     "output_type": "execute_result"
    }
   ],
   "source": [
    "from imblearn.over_sampling import RandomOverSampler\n",
    "\n",
    "# Create the random oversampler\n",
    "oversampler = RandomOverSampler(sampling_strategy='auto', random_state=55)\n",
    "\n",
    "# Apply the oversampler to the data\n",
    "X_resampled, y_resampled = oversampler.fit_resample(X, y)\n",
    "X_resampled, y_resampled"
   ]
  },
  {
   "cell_type": "code",
   "execution_count": 8,
   "metadata": {},
   "outputs": [
    {
     "data": {
      "text/plain": [
       "array([5, 5, 5, 5, 5])"
      ]
     },
     "execution_count": 8,
     "metadata": {},
     "output_type": "execute_result"
    }
   ],
   "source": [
    "np.full(5, 5)"
   ]
  },
  {
   "cell_type": "code",
   "execution_count": 16,
   "metadata": {},
   "outputs": [
    {
     "name": "stdout",
     "output_type": "stream",
     "text": [
      "[[17 27 37 47 57 67 77 87]\n",
      " [14 24 34 44 54 64 74 84]\n",
      " [11 21 31 41 51 61 71 81]\n",
      " [13 23 33 43 53 63 73 83]\n",
      " [15 25 35 45 55 65 75 85]\n",
      " [16 26 36 46 56 66 76 86]\n",
      " [18 28 38 48 58 68 78 88]\n",
      " [19 29 39 49 59 69 79 89]] \n",
      "\n",
      "[[12 22 32 42 52 62 72 82]] \n",
      "\n",
      "[[97]\n",
      " [94]\n",
      " [91]\n",
      " [93]\n",
      " [95]\n",
      " [96]\n",
      " [98]\n",
      " [99]] \n",
      "\n",
      "[[92]] \n",
      "\n"
     ]
    }
   ],
   "source": [
    "x_train, x_test, y_train, y_test = sklearn.model_selection.train_test_split(X, y, test_size=1)\n",
    "print(x_train, \"\\n\")\n",
    "print(x_test, \"\\n\")\n",
    "print(y_train, \"\\n\")\n",
    "print(y_test, \"\\n\")"
   ]
  },
  {
   "cell_type": "code",
   "execution_count": 22,
   "metadata": {},
   "outputs": [
    {
     "name": "stdout",
     "output_type": "stream",
     "text": [
      "You must install pydot (`pip install pydot`) and install graphviz (see instructions at https://graphviz.gitlab.io/download/) for plot_model to work.\n"
     ]
    }
   ],
   "source": [
    "import tensorflow as tf\n",
    "from tensorflow.keras.utils import plot_model\n",
    "from tensorflow.keras.models import Sequential\n",
    "from tensorflow.keras.layers import Dense\n",
    "\n",
    "# Create a simple Keras model\n",
    "model = Sequential()\n",
    "model.add(Dense(64, activation='relu', input_shape=(10,)))\n",
    "model.add(Dense(32, activation='relu'))\n",
    "model.add(Dense(1, activation='sigmoid'))\n",
    "\n",
    "# Visualize the model\n",
    "plot_model(model, to_file='model.png', show_shapes=True, show_layer_names=True)\n"
   ]
  }
 ],
 "metadata": {
  "kernelspec": {
   "display_name": "Bridges_VENV",
   "language": "python",
   "name": "python3"
  },
  "language_info": {
   "codemirror_mode": {
    "name": "ipython",
    "version": 3
   },
   "file_extension": ".py",
   "mimetype": "text/x-python",
   "name": "python",
   "nbconvert_exporter": "python",
   "pygments_lexer": "ipython3",
   "version": "3.11.4"
  },
  "orig_nbformat": 4
 },
 "nbformat": 4,
 "nbformat_minor": 2
}
