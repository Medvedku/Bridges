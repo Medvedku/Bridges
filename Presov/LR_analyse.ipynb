{
 "cells": [
  {
   "cell_type": "code",
   "execution_count": 137,
   "metadata": {},
   "outputs": [],
   "source": [
    "import pandas as pd\n",
    "import pickle, math\n",
    "import numpy as np\n",
    "from sklearn import preprocessing, model_selection, svm\n",
    "from sklearn.linear_model import LinearRegression\n",
    "\n",
    "from sklearn.preprocessing import MinMaxScaler"
   ]
  },
  {
   "cell_type": "code",
   "execution_count": 146,
   "metadata": {},
   "outputs": [
    {
     "data": {
      "text/html": [
       "<div>\n",
       "<style scoped>\n",
       "    .dataframe tbody tr th:only-of-type {\n",
       "        vertical-align: middle;\n",
       "    }\n",
       "\n",
       "    .dataframe tbody tr th {\n",
       "        vertical-align: top;\n",
       "    }\n",
       "\n",
       "    .dataframe thead th {\n",
       "        text-align: right;\n",
       "    }\n",
       "</style>\n",
       "<table border=\"1\" class=\"dataframe\">\n",
       "  <thead>\n",
       "    <tr style=\"text-align: right;\">\n",
       "      <th></th>\n",
       "      <th>Time</th>\n",
       "      <th>PV0</th>\n",
       "      <th>PV1</th>\n",
       "      <th>Temp_Top</th>\n",
       "      <th>Temp_Bot</th>\n",
       "      <th>pv_change</th>\n",
       "      <th>T_change</th>\n",
       "    </tr>\n",
       "  </thead>\n",
       "  <tbody>\n",
       "    <tr>\n",
       "      <th>0</th>\n",
       "      <td>1.691166e+09</td>\n",
       "      <td>0.416979</td>\n",
       "      <td>0.005334</td>\n",
       "      <td>21.1250</td>\n",
       "      <td>21.6250</td>\n",
       "      <td>0.411646</td>\n",
       "      <td>-0.5000</td>\n",
       "    </tr>\n",
       "    <tr>\n",
       "      <th>1</th>\n",
       "      <td>1.691167e+09</td>\n",
       "      <td>0.416997</td>\n",
       "      <td>0.005308</td>\n",
       "      <td>20.6875</td>\n",
       "      <td>21.0000</td>\n",
       "      <td>0.411689</td>\n",
       "      <td>-0.3125</td>\n",
       "    </tr>\n",
       "    <tr>\n",
       "      <th>2</th>\n",
       "      <td>1.691168e+09</td>\n",
       "      <td>0.416985</td>\n",
       "      <td>0.005280</td>\n",
       "      <td>21.8125</td>\n",
       "      <td>21.9375</td>\n",
       "      <td>0.411705</td>\n",
       "      <td>-0.1250</td>\n",
       "    </tr>\n",
       "    <tr>\n",
       "      <th>3</th>\n",
       "      <td>1.691168e+09</td>\n",
       "      <td>0.416990</td>\n",
       "      <td>0.005306</td>\n",
       "      <td>22.2500</td>\n",
       "      <td>22.3125</td>\n",
       "      <td>0.411684</td>\n",
       "      <td>-0.0625</td>\n",
       "    </tr>\n",
       "    <tr>\n",
       "      <th>4</th>\n",
       "      <td>1.691169e+09</td>\n",
       "      <td>0.417011</td>\n",
       "      <td>0.005335</td>\n",
       "      <td>22.5000</td>\n",
       "      <td>22.5625</td>\n",
       "      <td>0.411676</td>\n",
       "      <td>-0.0625</td>\n",
       "    </tr>\n",
       "    <tr>\n",
       "      <th>...</th>\n",
       "      <td>...</td>\n",
       "      <td>...</td>\n",
       "      <td>...</td>\n",
       "      <td>...</td>\n",
       "      <td>...</td>\n",
       "      <td>...</td>\n",
       "      <td>...</td>\n",
       "    </tr>\n",
       "    <tr>\n",
       "      <th>7860</th>\n",
       "      <td>1.695904e+09</td>\n",
       "      <td>0.587452</td>\n",
       "      <td>0.486187</td>\n",
       "      <td>20.1250</td>\n",
       "      <td>27.4375</td>\n",
       "      <td>0.101265</td>\n",
       "      <td>-7.3125</td>\n",
       "    </tr>\n",
       "    <tr>\n",
       "      <th>7861</th>\n",
       "      <td>1.695905e+09</td>\n",
       "      <td>0.587445</td>\n",
       "      <td>0.486258</td>\n",
       "      <td>20.3750</td>\n",
       "      <td>27.2500</td>\n",
       "      <td>0.101187</td>\n",
       "      <td>-6.8750</td>\n",
       "    </tr>\n",
       "    <tr>\n",
       "      <th>7862</th>\n",
       "      <td>1.695905e+09</td>\n",
       "      <td>0.587498</td>\n",
       "      <td>0.486293</td>\n",
       "      <td>20.6250</td>\n",
       "      <td>26.9375</td>\n",
       "      <td>0.101205</td>\n",
       "      <td>-6.3125</td>\n",
       "    </tr>\n",
       "    <tr>\n",
       "      <th>7863</th>\n",
       "      <td>1.695906e+09</td>\n",
       "      <td>0.587526</td>\n",
       "      <td>0.486342</td>\n",
       "      <td>20.8125</td>\n",
       "      <td>26.6875</td>\n",
       "      <td>0.101183</td>\n",
       "      <td>-5.8750</td>\n",
       "    </tr>\n",
       "    <tr>\n",
       "      <th>7864</th>\n",
       "      <td>1.695906e+09</td>\n",
       "      <td>0.587536</td>\n",
       "      <td>0.486404</td>\n",
       "      <td>21.0625</td>\n",
       "      <td>26.5000</td>\n",
       "      <td>0.101132</td>\n",
       "      <td>-5.4375</td>\n",
       "    </tr>\n",
       "  </tbody>\n",
       "</table>\n",
       "<p>7865 rows × 7 columns</p>\n",
       "</div>"
      ],
      "text/plain": [
       "              Time       PV0       PV1  Temp_Top  Temp_Bot  pv_change  \\\n",
       "0     1.691166e+09  0.416979  0.005334   21.1250   21.6250   0.411646   \n",
       "1     1.691167e+09  0.416997  0.005308   20.6875   21.0000   0.411689   \n",
       "2     1.691168e+09  0.416985  0.005280   21.8125   21.9375   0.411705   \n",
       "3     1.691168e+09  0.416990  0.005306   22.2500   22.3125   0.411684   \n",
       "4     1.691169e+09  0.417011  0.005335   22.5000   22.5625   0.411676   \n",
       "...            ...       ...       ...       ...       ...        ...   \n",
       "7860  1.695904e+09  0.587452  0.486187   20.1250   27.4375   0.101265   \n",
       "7861  1.695905e+09  0.587445  0.486258   20.3750   27.2500   0.101187   \n",
       "7862  1.695905e+09  0.587498  0.486293   20.6250   26.9375   0.101205   \n",
       "7863  1.695906e+09  0.587526  0.486342   20.8125   26.6875   0.101183   \n",
       "7864  1.695906e+09  0.587536  0.486404   21.0625   26.5000   0.101132   \n",
       "\n",
       "      T_change  \n",
       "0      -0.5000  \n",
       "1      -0.3125  \n",
       "2      -0.1250  \n",
       "3      -0.0625  \n",
       "4      -0.0625  \n",
       "...        ...  \n",
       "7860   -7.3125  \n",
       "7861   -6.8750  \n",
       "7862   -6.3125  \n",
       "7863   -5.8750  \n",
       "7864   -5.4375  \n",
       "\n",
       "[7865 rows x 7 columns]"
      ]
     },
     "execution_count": 146,
     "metadata": {},
     "output_type": "execute_result"
    }
   ],
   "source": [
    "\n",
    "# Unpickle the DataFrame\n",
    "with open('sensor_data.pkl', 'rb') as file:\n",
    "    sensor_df = pickle.load(file)\n",
    "\n",
    "sensor_df[\"pv_change\"] = sensor_df[\"PV0\"] - sensor_df[\"PV1\"]\n",
    "sensor_df[\"T_change\"] = sensor_df[\"Temp_Top\"] - sensor_df[\"Temp_Bot\"]\n",
    "sensor_df"
   ]
  },
  {
   "cell_type": "code",
   "execution_count": 158,
   "metadata": {},
   "outputs": [],
   "source": [
    "predict = \"pv_change\"\n",
    "\n",
    "X = sensor_df.drop([\"PV1\", predict], axis=1)\n",
    "y = sensor_df[predict]\n",
    "\n",
    "# Split the data into training and testing sets\n",
    "X_train, X_test, y_train, y_test = model_selection.train_test_split(X, y, test_size=0.2)\n",
    "\n",
    "# Create a Min-Max scaler\n",
    "scaler = MinMaxScaler()\n",
    "\n",
    "# Fit the scaler to your training data and transform both training and test data\n",
    "X_train_normalized = scaler.fit_transform(X_train)\n",
    "X_test_normalized = scaler.transform(X_test)\n"
   ]
  },
  {
   "cell_type": "code",
   "execution_count": 159,
   "metadata": {},
   "outputs": [
    {
     "name": "stdout",
     "output_type": "stream",
     "text": [
      "Accuracy: 0.0068718414504732594\n",
      "Coefficients:\n",
      "Feature 0: 0.017275371436162146\n",
      "Feature 1: 0.04465535871564252\n",
      "Feature 2: 0.00837794218592959\n",
      "Feature 3: 0.012035443652705445\n",
      "Feature 4: -0.010136451353282762\n"
     ]
    }
   ],
   "source": [
    "clf = LinearRegression()\n",
    "clf.fit(X_train_normalized, y_train)\n",
    "accuracy = clf.score(X_test_normalized, y_test)\n",
    "\n",
    "\n",
    "# Get the coefficients\n",
    "coefficients = clf.coef_\n",
    "\n",
    "# Print out the coefficients\n",
    "print(f\"Accuracy: {accuracy}\")\n",
    "print(\"Coefficients:\")\n",
    "for i, coef in enumerate(coefficients):\n",
    "    print(f\"Feature {i}: {coef}\")"
   ]
  },
  {
   "cell_type": "code",
   "execution_count": 118,
   "metadata": {},
   "outputs": [],
   "source": [
    "forecast_col = \"pv_change\"\n",
    "sensor_df.fillna(-99999, inplace=True)\n",
    "\n",
    "forecast_out = int(math.ceil(0.10*len(sensor_df)))\n",
    "\n",
    "sensor_df[\"label\"] = sensor_df[forecast_col].shift(-forecast_out)\n",
    "sensor_df.dropna(inplace=True)"
   ]
  },
  {
   "cell_type": "code",
   "execution_count": 126,
   "metadata": {},
   "outputs": [
    {
     "name": "stdout",
     "output_type": "stream",
     "text": [
      "[[ 3.59832800e-03  3.58184800e-03  2.11250000e+01  2.16250000e+01\n",
      "   1.64800000e-05 -5.00000000e-01]\n",
      " [ 3.60916100e-03  3.60702500e-03  2.06875000e+01  2.10000000e+01\n",
      "   2.13600000e-06 -3.12500000e-01]\n",
      " [ 3.59634400e-03  3.58886700e-03  2.18125000e+01  2.19375000e+01\n",
      "   7.47700000e-06 -1.25000000e-01]\n",
      " ...\n",
      " [ 5.71004629e-01  3.85078728e-01  2.00000000e+01  1.86875000e+01\n",
      "   1.85925901e-01  1.31250000e+00]\n",
      " [ 5.71014583e-01  3.84985059e-01  2.00000000e+01  1.86250000e+01\n",
      "   1.86029524e-01  1.37500000e+00]\n",
      " [ 5.71054399e-01  3.85129690e-01  1.99375000e+01  1.85625000e+01\n",
      "   1.85924709e-01  1.37500000e+00]]\n"
     ]
    }
   ],
   "source": [
    "# Assuming X is your NumPy array and you want to normalize the first column\n",
    "X = np.array(sensor_df.drop([\"label\", \"Time\"], axis=1))\n",
    "y = np.array(sensor_df[\"label\"])\n",
    "print(X)\n",
    "# # Calculate the min and max of the first column\n",
    "# min_value = np.min(X[:, 0])\n",
    "# max_value = np.max(X[:, 0])\n",
    "\n",
    "# # Calculate the min-max normalization for the first column\n",
    "# normalized_first_column = (X[:, 0] - min_value) / (max_value - min_value)\n",
    "\n",
    "# # Replace the first column of X with the normalized values\n",
    "# X[:, 0] = normalized_first_column\n",
    "\n",
    "X = preprocessing.scale(X)\n",
    "\n",
    "X_train, X_test, y_train, y_test = model_selection.train_test_split(X, y, test_size=0.2)"
   ]
  },
  {
   "cell_type": "code",
   "execution_count": 124,
   "metadata": {},
   "outputs": [
    {
     "data": {
      "text/plain": [
       "0.26216887187270144"
      ]
     },
     "execution_count": 124,
     "metadata": {},
     "output_type": "execute_result"
    }
   ],
   "source": [
    "clf = LinearRegression()\n",
    "clf.fit(X_train, y_train)\n",
    "accuracy = clf.score(X_test, y_test)\n",
    "accuracy"
   ]
  },
  {
   "cell_type": "code",
   "execution_count": 127,
   "metadata": {},
   "outputs": [
    {
     "data": {
      "text/plain": [
       "86400"
      ]
     },
     "execution_count": 127,
     "metadata": {},
     "output_type": "execute_result"
    }
   ],
   "source": [
    "24*60*60"
   ]
  }
 ],
 "metadata": {
  "kernelspec": {
   "display_name": "Bridges_VENV",
   "language": "python",
   "name": "python3"
  },
  "language_info": {
   "codemirror_mode": {
    "name": "ipython",
    "version": 3
   },
   "file_extension": ".py",
   "mimetype": "text/x-python",
   "name": "python",
   "nbconvert_exporter": "python",
   "pygments_lexer": "ipython3",
   "version": "3.11.4"
  },
  "orig_nbformat": 4
 },
 "nbformat": 4,
 "nbformat_minor": 2
}
