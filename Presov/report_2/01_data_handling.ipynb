{
 "cells": [
  {
   "cell_type": "code",
   "execution_count": 26,
   "metadata": {},
   "outputs": [],
   "source": [
    "import pandas as pd\n",
    "\n",
    "# Load the DataFrame from the pickle file\n",
    "df = pd.read_pickle('your_dataframe.pkl')"
   ]
  },
  {
   "cell_type": "code",
   "execution_count": 27,
   "metadata": {},
   "outputs": [],
   "source": [
    "df_span1 = df[df['meta'].apply(lambda x: isinstance(\n",
    "    x, dict) and 'devices' in x and x['devices'] == 10)].copy()\n",
    "df_span2 = df[df['meta'].apply(lambda x: isinstance(\n",
    "    x, dict) and 'devices' in x and x['devices'] == 9)].copy()"
   ]
  },
  {
   "cell_type": "code",
   "execution_count": null,
   "metadata": {},
   "outputs": [],
   "source": []
  },
  {
   "cell_type": "code",
   "execution_count": 32,
   "metadata": {},
   "outputs": [],
   "source": [
    "def flatten_dict(d, parent_key='', sep='_'):\n",
    "    \"\"\"\n",
    "    Recursively flattens a nested dictionary.\n",
    "    \"\"\"\n",
    "    items = []\n",
    "    for k, v in d.items():\n",
    "        new_key = f'{parent_key}{sep}{k}' if parent_key else k\n",
    "        if isinstance(v, dict):\n",
    "            items.extend(flatten_dict(v, new_key, sep=sep).items())\n",
    "        else:\n",
    "            items.append((new_key, v))\n",
    "    return dict(items)\n",
    "\n",
    "\n",
    "def flatten_row(row):\n",
    "    # Check if 'measurements' is a dictionary\n",
    "    measurements = row['measurements']\n",
    "    if not isinstance(measurements, dict):\n",
    "        return pd.Series()  # Return an empty Series for rows with float 'measurements'\n",
    "\n",
    "    flattened_measurements = {}\n",
    "    for sensor, values in measurements.items():\n",
    "        for pv_key, pv_value in values.items():\n",
    "            flattened_measurements[f'{sensor}.{pv_key}'] = pv_value\n",
    "\n",
    "    # Flatten 'meta' with nested dictionaries\n",
    "    meta = row['meta']\n",
    "    flattened_meta = flatten_dict(meta, parent_key='meta')\n",
    "\n",
    "    # Flatten 'time' with nested dictionaries\n",
    "    time = row['time']\n",
    "    flattened_time = flatten_dict(time, parent_key='time')\n",
    "\n",
    "    # Combine all flattened data\n",
    "    flattened_data = {**flattened_measurements,\n",
    "                      **flattened_meta, **flattened_time}\n",
    "    return pd.Series(flattened_data)\n",
    "\n",
    "\n",
    "# Apply the updated flattening function to df_span1\n",
    "df_span1_flattened = df_span1.apply(flatten_row, axis=1)\n",
    "\n",
    "# Apply the updated flattening function to df_span2\n",
    "df_span2_flattened = df_span2.apply(flatten_row, axis=1)"
   ]
  },
  {
   "cell_type": "code",
   "execution_count": 34,
   "metadata": {},
   "outputs": [
    {
     "data": {
      "text/plain": [
       "Index(['13.pv0', '13.pv1', '13.pv2', '13.pv3', '14.pv0', '14.pv1', '14.pv2',\n",
       "       '14.pv3', '15.pv0', '15.pv1', '15.pv2', '15.pv3', '16.pv0', '16.pv1',\n",
       "       '16.pv2', '16.pv3', '19.pv0', '19.pv1', '19.pv2', '19.pv3', '21.pv0',\n",
       "       '21.pv1', '21.pv2', '21.pv3', '28.pv0', '28.pv1', '28.pv2', '28.pv3',\n",
       "       '7.pv0', '7.pv1', '7.pv2', '7.pv3', '8.pv0', '8.pv1', '8.pv2', '8.pv3',\n",
       "       '9.pv0', '9.pv1', '9.pv2', '9.pv3', 'meta_bootCount', 'meta_devices',\n",
       "       'meta_errors', 'meta_location', 'meta_modem_localIP',\n",
       "       'meta_modem_modemInfo', 'meta_modem_operator',\n",
       "       'meta_modem_signalQuality', 'meta_modem_simCCID',\n",
       "       'meta_power_battery_V', 'meta_power_solar_V', 'meta_uuid',\n",
       "       'meta_version', 'time_server_UTC', 'time_server_epoch'],\n",
       "      dtype='object')"
      ]
     },
     "execution_count": 34,
     "metadata": {},
     "output_type": "execute_result"
    }
   ],
   "source": [
    "df_span1_flattened.columns"
   ]
  },
  {
   "cell_type": "code",
   "execution_count": 35,
   "metadata": {},
   "outputs": [
    {
     "data": {
      "text/plain": [
       "Index(['10.pv0', '10.pv1', '10.pv2', '10.pv3', '11.pv0', '11.pv1', '11.pv2',\n",
       "       '11.pv3', '12.pv0', '12.pv1', '12.pv2', '12.pv3', '13.pv0', '13.pv1',\n",
       "       '13.pv2', '13.pv3', '14.pv0', '14.pv1', '14.pv2', '14.pv3', '15.pv0',\n",
       "       '15.pv1', '15.pv2', '15.pv3', '16.pv0', '16.pv1', '16.pv2', '16.pv3',\n",
       "       '17.pv0', '17.pv1', '17.pv2', '17.pv3', '18.pv0', '18.pv1', '18.pv2',\n",
       "       '18.pv3', '19.pv0', '19.pv1', '19.pv2', '19.pv3', '20.pv0', '20.pv1',\n",
       "       '20.pv2', '20.pv3', '21.pv0', '21.pv1', '21.pv2', '21.pv3', '4.pv0',\n",
       "       '4.pv1', '4.pv2', '4.pv3', '5.pv0', '5.pv1', '5.pv2', '5.pv3', '6.pv0',\n",
       "       '6.pv1', '6.pv2', '6.pv3', '7.pv0', '7.pv1', '7.pv2', '7.pv3', '8.pv0',\n",
       "       '8.pv1', '8.pv2', '8.pv3', '9.pv0', '9.pv1', '9.pv2', '9.pv3',\n",
       "       'meta_bootCount', 'meta_devices', 'meta_errors',\n",
       "       'meta_modem_signalQuality', 'meta_power_battery_V',\n",
       "       'meta_power_solar_V', 'time_server_UTC', 'time_server_epoch'],\n",
       "      dtype='object')"
      ]
     },
     "execution_count": 35,
     "metadata": {},
     "output_type": "execute_result"
    }
   ],
   "source": [
    "df_span2_flattened.columns"
   ]
  }
 ],
 "metadata": {
  "kernelspec": {
   "display_name": "Python 3",
   "language": "python",
   "name": "python3"
  },
  "language_info": {
   "codemirror_mode": {
    "name": "ipython",
    "version": 3
   },
   "file_extension": ".py",
   "mimetype": "text/x-python",
   "name": "python",
   "nbconvert_exporter": "python",
   "pygments_lexer": "ipython3",
   "version": "3.11.4"
  }
 },
 "nbformat": 4,
 "nbformat_minor": 2
}
