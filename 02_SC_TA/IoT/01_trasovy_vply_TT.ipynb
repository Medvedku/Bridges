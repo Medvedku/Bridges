{
 "cells": [
  {
   "cell_type": "code",
   "execution_count": 146,
   "metadata": {},
   "outputs": [],
   "source": [
    "import pandas as pd\n",
    "import gpxpy\n",
    "import os\n",
    "\n",
    "\n",
    "# Práca\n",
    "\n",
    "bridges_path = r\"C:\\Users\\relia\\Documents\\GitHub\\Bridges\\Data\\df_bridges_2024_all.csv\"\n",
    "\n",
    "\n",
    "# Load the CSV data into a DataFrame\n",
    "\n",
    "df_bridges_all = pd.read_csv(bridges_path, encoding='utf-8', delimiter=',')"
   ]
  },
  {
   "cell_type": "code",
   "execution_count": 147,
   "metadata": {},
   "outputs": [],
   "source": [
    "# Assuming df_bridges_all is your DataFrame\n",
    "columns_to_convert = ['Zemepisná_dĺžka', 'Zemepisná_šírka', 'Výška', 'Normálna_zaťažiteľnosť',\n",
    "                      'Výhradná_zaťažiteľnosť_t', 'Výnimočná_zaťažiteľnosť_t', 'Počet_otvorov',\n",
    "                      'Dĺžka_nosnej_konštrukcie_m', 'Dĺžka_premostenia', 'Volná_šírka_mosta',\n",
    "                      'Šírka_medzi_obrubami_m', 'Plocha_mosnej_konštrukcie_m2', 'Plocha_mosta_m2']\n",
    "\n",
    "# Convert specified columns to float\n",
    "df_bridges_all[columns_to_convert] = df_bridges_all[columns_to_convert].apply(\n",
    "    pd.to_numeric, errors='coerce')\n",
    "\n",
    "# Convert Rok_postavenia to integer, assign NaN if not possible\n",
    "df_bridges_all['Rok_postavenia'] = pd.to_numeric(\n",
    "    df_bridges_all['Rok_postavenia'], errors='coerce')"
   ]
  },
  {
   "cell_type": "code",
   "execution_count": 148,
   "metadata": {},
   "outputs": [
    {
     "data": {
      "text/plain": [
       "Index(['SSC - IVSC ZA', 'SSC - IVSC KE', 'SSC - IVSC BB', 'BBRSC-JUH',\n",
       "       'BBRSC-STRED', 'BBRSC-SEVER', 'SSC - IVSC BA', 'SC TN SK - TN',\n",
       "       'SUC PSK - HE', 'SUC PSK - PO', 'SC TN SK - PD', 'SUC TTSK - TT',\n",
       "       'SUC PSK - PP', 'SUC PSK - BJ', 'SC TN SK - PB', 'SC ŽSK - ORA',\n",
       "       'SC ŽSK - HPOV', 'SC KSK - KS', 'SC ŽSK - LIP', 'SUC PSK - SK',\n",
       "       'SC KSK - SNV', 'RSUC NR - LV', 'SUC PSK - SL', 'RSUC NR - NR',\n",
       "       'SC ŽSK - KYS', 'SC KSK - MI', 'SC BSK', 'SC ŽSK - TUR',\n",
       "       'SUC TTSK - SE', 'NDS - SSUR ZV', 'SC KSK - TV', 'RSUC NR - NZ', 'VPO',\n",
       "       'NDS - SSUD PB', 'SUC PSK - VT', 'SC KSK - RV', 'SUC TTSK - DS',\n",
       "       'NDS - SSUD LM', 'RSUC NR - TO', 'RSUC NR - KN', 'NDS - SSUR KE',\n",
       "       'NDS - SSUD TN', 'NDS - SSUD BE', 'MAG-BA', 'NDS - SSUR CA',\n",
       "       'NDS - SSUD BA', 'NDS - SSUR NB', 'NDS - SSUD PO', 'NDS - SSUR GA',\n",
       "       'NDS - SSUD MENG', 'NDS - SSUD MA', 'NDS - SSUD TT', 'NDS - SSUD MT',\n",
       "       'MAG-KE', 'TT', 'NEZN', 'PP-HO', 'CU', 'ZA-Invest', 'BR-CB', 'BB',\n",
       "       'SN-HC', 'BJ', 'HE', 'ZI', 'BR-HR', 'SB-LI', 'RS-OZ', 'NO-HR', 'BR-PL',\n",
       "       'PN', 'LM-DD', 'VK-NV', 'PD-HA', 'TN-NE', 'ZV', 'RK', 'PT', 'KS-ME',\n",
       "       'NM-TB', 'ZA-LY', 'BB-HI', 'BA-DV', 'DK', 'ŽSR'],\n",
       "      dtype='object', name='Správca_úseku')"
      ]
     },
     "execution_count": 148,
     "metadata": {},
     "output_type": "execute_result"
    }
   ],
   "source": [
    "df_bridges_all[\"Správca_úseku\"].value_counts().keys()"
   ]
  },
  {
   "cell_type": "code",
   "execution_count": 149,
   "metadata": {},
   "outputs": [
    {
     "data": {
      "text/plain": [
       "(63, 44)"
      ]
     },
     "execution_count": 149,
     "metadata": {},
     "output_type": "execute_result"
    }
   ],
   "source": [
    "# Filter bridges in the Nitra region with Trieda_PK as \"cesta I. triedy\" or \"cesta II. triedy\"\n",
    "filtered_bridges = df_bridges_all[\n",
    "\n",
    "    (df_bridges_all[\"Správca_úseku\"] == 'SUC TTSK - TT') |\n",
    "    (df_bridges_all[\"Správca_úseku\"] == 'SUC TTSK - SE') |\n",
    "    (df_bridges_all[\"Správca_úseku\"] == 'SUC TTSK - DS')\n",
    "]\n",
    "\n",
    "# Reindex the DataFrame\n",
    "filtered_bridges.reset_index(drop=True, inplace=True)\n",
    "\n",
    "filtered_bridges = filtered_bridges[filtered_bridges[\"n_2023\"] != 0]\n",
    "\n",
    "filtered_bridges = filtered_bridges[filtered_bridges[\"Material\"]\n",
    "                                    == \"prefabrikovaný predpätý betón\"]\n",
    "\n",
    "filtered_bridges = filtered_bridges[\n",
    "    (filtered_bridges[\"n_2024\"] == 4) |\n",
    "    (filtered_bridges[\"n_2024\"] == 5)\n",
    "]\n",
    "\n",
    "# Replace double space with single space in each item of the \"Predmet_premostenia\" column\n",
    "filtered_bridges[\"Predmet_premostenia\"] = filtered_bridges[\"Predmet_premostenia\"].str.replace(\n",
    "    \"  \", \" \")\n",
    "\n",
    "\n",
    "# Display the filtered DataFrame\n",
    "filtered_bridges.shape"
   ]
  },
  {
   "cell_type": "code",
   "execution_count": 150,
   "metadata": {},
   "outputs": [
    {
     "name": "stdout",
     "output_type": "stream",
     "text": [
      "      ID                         GPS   Dlzka   PK  Intenz\n",
      "0  M6425  48.586307824, 17.824516076   10.43  499   12447\n",
      "1  M6684  48.628765366, 17.719734958   12.40  499    3931\n",
      "2  M4553  48.588876768, 17.810173653   71.60  499   14134\n",
      "3   M679  48.683035961, 17.255918415   17.10  500    6052\n",
      "4  M4864  48.655586793, 17.042874752  111.56  500    3663\n"
     ]
    }
   ],
   "source": [
    "import pandas as pd\n",
    "\n",
    "path = r\"C:\\Users\\relia\\Documents\\GitHub\\Bridges\\02_SC_TA\\IoT\\Mosty.xlsx\"\n",
    "\n",
    "# Load the Excel file into a DataFrame\n",
    "df = pd.read_excel(path)\n",
    "\n",
    "# Display the first few rows to ensure it loaded correctly\n",
    "print(df.head())"
   ]
  },
  {
   "cell_type": "code",
   "execution_count": 151,
   "metadata": {},
   "outputs": [],
   "source": [
    "import os\n",
    "import pandas as pd\n",
    "\n",
    "# Get the list of files in the folder\n",
    "folder_path = r\"C:\\Users\\relia\\Documents\\GitHub\\Bridges\\02_SC_TA\\IoT\\Routes\"\n",
    "files = os.listdir(folder_path)\n",
    "\n",
    "\n",
    "# Add columns to indicate if the files exist\n",
    "df['clear_exists'] = df['ID'].apply(\n",
    "    lambda bridge_id: f\"{bridge_id}_clear.gpx\" in files)\n",
    "df['alt_exists'] = df['ID'].apply(\n",
    "    lambda bridge_id: f\"{bridge_id}_alt.gpx\" in files)\n"
   ]
  },
  {
   "cell_type": "code",
   "execution_count": 152,
   "metadata": {},
   "outputs": [],
   "source": [
    "# Function to extract route data for a given GPX file\n",
    "def extract_route_data(gpx_file_path):\n",
    "    with open(gpx_file_path, 'r') as gpx_file:\n",
    "        gpx = gpxpy.parse(gpx_file)\n",
    "\n",
    "    route_data = []\n",
    "    cumulative_distance = 0\n",
    "    previous_point = None\n",
    "\n",
    "    for track in gpx.tracks:\n",
    "        for segment in track.segments:\n",
    "            for index, point in enumerate(segment.points):\n",
    "                if previous_point is not None:\n",
    "                    distance = point.distance_2d(previous_point)\n",
    "                    cumulative_distance += distance\n",
    "                    time = (point.time - previous_point.time).total_seconds(\n",
    "                    ) if point.time and previous_point.time else 0\n",
    "                else:\n",
    "                    distance = 0\n",
    "                    time = 0\n",
    "\n",
    "                route_data.append({\n",
    "                    \"point_index\": index,\n",
    "                    \"longitude\": point.longitude,\n",
    "                    \"latitude\": point.latitude,\n",
    "                    \"distance\": distance,\n",
    "                    \"time\": time,\n",
    "                    \"elevation\": point.elevation\n",
    "                })\n",
    "\n",
    "                previous_point = point\n",
    "\n",
    "    return route_data"
   ]
  },
  {
   "cell_type": "code",
   "execution_count": 153,
   "metadata": {},
   "outputs": [],
   "source": [
    "import gpxpy\n",
    "import os\n",
    "import pandas as pd\n",
    "\n",
    "# Function to extract route data for a given GPX file\n",
    "\n",
    "\n",
    "def extract_route_data(gpx_file_path):\n",
    "    import gpxpy\n",
    "    with open(gpx_file_path, 'r', encoding='utf-8') as gpx_file:\n",
    "        gpx = gpxpy.parse(gpx_file)\n",
    "\n",
    "    route_data = []\n",
    "    cumulative_distance = 0\n",
    "    previous_point = None\n",
    "\n",
    "    for track in gpx.tracks:\n",
    "        for segment in track.segments:\n",
    "            for index, point in enumerate(segment.points):\n",
    "                if previous_point is not None:\n",
    "                    distance = point.distance_2d(previous_point)\n",
    "                    cumulative_distance += distance\n",
    "                else:\n",
    "                    distance = 0\n",
    "\n",
    "                route_data.append({\n",
    "                    \"point_index\": index,\n",
    "                    \"longitude\": point.longitude,\n",
    "                    \"latitude\": point.latitude,\n",
    "                    \"distance\": distance,  # Distance from the previous point\n",
    "                    \"cumulative_distance\": cumulative_distance,  # Total distance up to this point\n",
    "                    \"elevation\": point.elevation\n",
    "                })\n",
    "\n",
    "                previous_point = point\n",
    "\n",
    "    return route_data\n",
    "\n",
    "# Path to the folder with GPX files\n",
    "folder_path = r\"C:\\Users\\relia\\Documents\\GitHub\\Bridges\\02_SC_TA\\IoT\\Routes\"\n",
    "\n",
    "# Load the Excel file into a DataFrame\n",
    "path = r\"C:\\Users\\relia\\Documents\\GitHub\\Bridges\\02_SC_TA\\IoT\\Mosty.xlsx\"\n",
    "df = pd.read_excel(path)\n",
    "\n",
    "# Initialize new columns for route data\n",
    "clear_routes = []\n",
    "alt_routes = []\n",
    "\n",
    "for _, row in df.iterrows():\n",
    "    bridge_id = row[\"ID\"]\n",
    "    clear_file = os.path.join(folder_path, f\"{bridge_id}_clear.gpx\")\n",
    "    alt_file = os.path.join(folder_path, f\"{bridge_id}_alt.gpx\")\n",
    "\n",
    "    # Extract route data for the clear route\n",
    "    if os.path.exists(clear_file):\n",
    "        clear_route_data = extract_route_data(clear_file)\n",
    "    else:\n",
    "        clear_route_data = None\n",
    "    clear_routes.append(clear_route_data)\n",
    "\n",
    "    # Extract route data for the alt route\n",
    "    if os.path.exists(alt_file):\n",
    "        alt_route_data = extract_route_data(alt_file)\n",
    "    else:\n",
    "        alt_route_data = None\n",
    "    alt_routes.append(alt_route_data)\n",
    "\n",
    "# Add route data to the DataFrame\n",
    "df[\"Clear_Route\"] = clear_routes\n",
    "df[\"Alt_Route\"] = alt_routes"
   ]
  },
  {
   "cell_type": "code",
   "execution_count": 154,
   "metadata": {},
   "outputs": [],
   "source": [
    "# Initialize lists to store cumulative distances for each bridge\n",
    "clear_distances = []\n",
    "alt_distances = []\n",
    "\n",
    "# Iterate over each row in the DataFrame\n",
    "for index, row in df.iterrows():\n",
    "    # Clear Route cumulative distance\n",
    "    if row[\"Clear_Route\"] is not None:\n",
    "        route = row[\"Clear_Route\"]\n",
    "        cumulative_distance = 0\n",
    "        for point in route:\n",
    "            cumulative_distance += point[\"distance\"]\n",
    "        # Convert to kilometers\n",
    "        clear_distances.append(cumulative_distance / 1000)\n",
    "    else:\n",
    "        clear_distances.append(None)  # If Clear_Route is None, append None\n",
    "\n",
    "    # Alt Route cumulative distance\n",
    "    if row[\"Alt_Route\"] is not None:\n",
    "        route = row[\"Alt_Route\"]\n",
    "        cumulative_distance = 0\n",
    "        for point in route:\n",
    "            cumulative_distance += point[\"distance\"]\n",
    "        # Convert to kilometers\n",
    "        alt_distances.append(cumulative_distance / 1000)\n",
    "    else:\n",
    "        alt_distances.append(None)  # If Alt_Route is None, append None\n",
    "\n",
    "# Add the cumulative distances to the DataFrame\n",
    "df[\"Clear_Distance\"] = clear_distances\n",
    "df[\"Alt_Distance\"] = alt_distances"
   ]
  },
  {
   "cell_type": "code",
   "execution_count": 155,
   "metadata": {},
   "outputs": [],
   "source": [
    "def extract_time(gpx_file):\n",
    "    with open(gpx_file, \"r\", encoding=\"utf-8\") as file:\n",
    "        gpx_content = file.read()\n",
    "\n",
    "    # Initialize total time\n",
    "    total_time = 0.0\n",
    "\n",
    "    # Extract <rtept> sections\n",
    "    rtept_sections = gpx_content.split(\"<rtept\")[1:]  # Split by <rtept>\n",
    "\n",
    "    # Process each <rtept>\n",
    "    for rtept in rtept_sections:\n",
    "        if \"<gh:time>\" in rtept:\n",
    "            start_time = rtept.find(\"<gh:time>\") + len(\"<gh:time>\")\n",
    "            end_time = rtept.find(\"</gh:time>\")\n",
    "            time = float(rtept[start_time:end_time])\n",
    "            total_time += time\n",
    "\n",
    "    # Convert to minutes\n",
    "    total_time_minutes = total_time / (1000 * 60)  # milliseconds to minutes\n",
    "    return total_time_minutes\n",
    "\n",
    "\n",
    "# Initialize lists to store total times for each route\n",
    "clear_times = []\n",
    "alt_times = []\n",
    "\n",
    "# Iterate over each row in the DataFrame\n",
    "for index, row in df.iterrows():\n",
    "    # Clear Route total time\n",
    "    if row[\"Clear_Route\"] is not None:\n",
    "        clear_file = os.path.join(folder_path, f\"{row['ID']}_clear.gpx\")\n",
    "        if os.path.exists(clear_file):\n",
    "            clear_times.append(extract_time(clear_file))\n",
    "        else:\n",
    "            clear_times.append(None)\n",
    "    else:\n",
    "        clear_times.append(None)\n",
    "\n",
    "    # Alt Route total time\n",
    "    if row[\"Alt_Route\"] is not None:\n",
    "        alt_file = os.path.join(folder_path, f\"{row['ID']}_alt.gpx\")\n",
    "        if os.path.exists(alt_file):\n",
    "            alt_times.append(extract_time(alt_file))\n",
    "        else:\n",
    "            alt_times.append(None)\n",
    "    else:\n",
    "        alt_times.append(None)\n",
    "\n",
    "# Add the total times to the DataFrame\n",
    "df[\"Clear_Time\"] = clear_times\n",
    "df[\"Alt_Time\"] = alt_times"
   ]
  },
  {
   "cell_type": "code",
   "execution_count": 156,
   "metadata": {},
   "outputs": [],
   "source": [
    "# Function to calculate slope in percentage for a route\n",
    "def calculate_slope_in_percentage(route):\n",
    "    for i, point in enumerate(route):\n",
    "        if i == 0:  # First point, slope is 0\n",
    "            point[\"slope\"] = 0\n",
    "        else:\n",
    "            # Calculate elevation difference and distance\n",
    "            elevation_diff = point[\"elevation\"] - route[i - 1][\"elevation\"]\n",
    "            # Distance between current and previous point\n",
    "            distance = point[\"distance\"]\n",
    "            # Calculate slope as percentage (rise/run * 100), avoid division by zero\n",
    "            point[\"slope\"] = (elevation_diff / distance *\n",
    "                              100) if distance != 0 else 0\n",
    "    return route\n",
    "\n",
    "\n",
    "# Apply the function to each row in the DataFrame\n",
    "for index, row in df.iterrows():\n",
    "    if \"Clear_Route\" in row and row[\"Clear_Route\"]:\n",
    "        df.at[index, \"Clear_Route\"] = calculate_slope_in_percentage(\n",
    "            row[\"Clear_Route\"])\n",
    "    if \"Alt_Route\" in row and row[\"Alt_Route\"]:\n",
    "        df.at[index, \"Alt_Route\"] = calculate_slope_in_percentage(\n",
    "            row[\"Alt_Route\"])"
   ]
  },
  {
   "cell_type": "code",
   "execution_count": 157,
   "metadata": {},
   "outputs": [
    {
     "data": {
      "text/plain": [
       "[{'point_index': 0,\n",
       "  'longitude': 17.677152,\n",
       "  'latitude': 48.136723,\n",
       "  'distance': 0,\n",
       "  'cumulative_distance': 0,\n",
       "  'elevation': 113.4,\n",
       "  'slope': 0},\n",
       " {'point_index': 1,\n",
       "  'longitude': 17.67615,\n",
       "  'latitude': 48.139437,\n",
       "  'distance': 311.155304280269,\n",
       "  'cumulative_distance': 311.155304280269,\n",
       "  'elevation': 115.1,\n",
       "  'slope': 0.5463509625626489},\n",
       " {'point_index': 2,\n",
       "  'longitude': 17.676018,\n",
       "  'latitude': 48.139747,\n",
       "  'distance': 35.87512936353681,\n",
       "  'cumulative_distance': 347.0304336438058,\n",
       "  'elevation': 115.3,\n",
       "  'slope': 0.557489278918897},\n",
       " {'point_index': 3,\n",
       "  'longitude': 17.675871,\n",
       "  'latitude': 48.14002,\n",
       "  'distance': 32.29255765316188,\n",
       "  'cumulative_distance': 379.32299129696764,\n",
       "  'elevation': 115.5,\n",
       "  'slope': 0.619337750041673},\n",
       " {'point_index': 4,\n",
       "  'longitude': 17.67549,\n",
       "  'latitude': 48.140602,\n",
       "  'distance': 70.7000239549139,\n",
       "  'cumulative_distance': 450.02301525188153,\n",
       "  'elevation': 115.9,\n",
       "  'slope': 0.5657706711034349},\n",
       " {'point_index': 5,\n",
       "  'longitude': 17.67547,\n",
       "  'latitude': 48.140761,\n",
       "  'distance': 17.762041550326742,\n",
       "  'cumulative_distance': 467.78505680220826,\n",
       "  'elevation': 116.0,\n",
       "  'slope': 0.5629983451882803},\n",
       " {'point_index': 6,\n",
       "  'longitude': 17.675522,\n",
       "  'latitude': 48.140888,\n",
       "  'distance': 14.655779239709032,\n",
       "  'cumulative_distance': 482.4408360419173,\n",
       "  'elevation': 116.0,\n",
       "  'slope': 0.0},\n",
       " {'point_index': 7,\n",
       "  'longitude': 17.675705,\n",
       "  'latitude': 48.141056,\n",
       "  'distance': 23.120243574816975,\n",
       "  'cumulative_distance': 505.5610796167343,\n",
       "  'elevation': 116.0,\n",
       "  'slope': 0.0},\n",
       " {'point_index': 8,\n",
       "  'longitude': 17.677481,\n",
       "  'latitude': 48.142328,\n",
       "  'distance': 193.53049999184273,\n",
       "  'cumulative_distance': 699.091579608577,\n",
       "  'elevation': 116.2,\n",
       "  'slope': 0.10334288394254797},\n",
       " {'point_index': 9,\n",
       "  'longitude': 17.677606,\n",
       "  'latitude': 48.142461,\n",
       "  'distance': 17.47618305733045,\n",
       "  'cumulative_distance': 716.5677626659075,\n",
       "  'elevation': 116.2,\n",
       "  'slope': 0.0},\n",
       " {'point_index': 10,\n",
       "  'longitude': 17.677663,\n",
       "  'latitude': 48.142565,\n",
       "  'distance': 12.327172634533245,\n",
       "  'cumulative_distance': 728.8949353004407,\n",
       "  'elevation': 116.2,\n",
       "  'slope': 0.0},\n",
       " {'point_index': 11,\n",
       "  'longitude': 17.677677,\n",
       "  'latitude': 48.142667,\n",
       "  'distance': 11.402110965000974,\n",
       "  'cumulative_distance': 740.2970462654416,\n",
       "  'elevation': 116.1,\n",
       "  'slope': -0.8770305806263481},\n",
       " {'point_index': 12,\n",
       "  'longitude': 17.677639,\n",
       "  'latitude': 48.142764,\n",
       "  'distance': 11.160828578084194,\n",
       "  'cumulative_distance': 751.4578748435258,\n",
       "  'elevation': 116.1,\n",
       "  'slope': 0.0},\n",
       " {'point_index': 13,\n",
       "  'longitude': 17.67748,\n",
       "  'latitude': 48.142862,\n",
       "  'distance': 16.078070252905864,\n",
       "  'cumulative_distance': 767.5359450964316,\n",
       "  'elevation': 116.1,\n",
       "  'slope': 0.0},\n",
       " {'point_index': 14,\n",
       "  'longitude': 17.676689,\n",
       "  'latitude': 48.143266,\n",
       "  'distance': 73.99190230387417,\n",
       "  'cumulative_distance': 841.5278474003059,\n",
       "  'elevation': 116.0,\n",
       "  'slope': -0.13514992436511308},\n",
       " {'point_index': 15,\n",
       "  'longitude': 17.676507,\n",
       "  'latitude': 48.143342,\n",
       "  'distance': 15.948010487903243,\n",
       "  'cumulative_distance': 857.4758578882091,\n",
       "  'elevation': 116.0,\n",
       "  'slope': 0.0},\n",
       " {'point_index': 16,\n",
       "  'longitude': 17.675981,\n",
       "  'latitude': 48.143519,\n",
       "  'distance': 43.75828614263646,\n",
       "  'cumulative_distance': 901.2341440308456,\n",
       "  'elevation': 116.0,\n",
       "  'slope': 0.0},\n",
       " {'point_index': 17,\n",
       "  'longitude': 17.675859,\n",
       "  'latitude': 48.14358,\n",
       "  'distance': 11.32399672362102,\n",
       "  'cumulative_distance': 912.5581407544666,\n",
       "  'elevation': 116.0,\n",
       "  'slope': 0.0},\n",
       " {'point_index': 18,\n",
       "  'longitude': 17.675707,\n",
       "  'latitude': 48.143682,\n",
       "  'distance': 16.012557726527536,\n",
       "  'cumulative_distance': 928.5706984809942,\n",
       "  'elevation': 116.0,\n",
       "  'slope': 0.0},\n",
       " {'point_index': 19,\n",
       "  'longitude': 17.674955,\n",
       "  'latitude': 48.144304,\n",
       "  'distance': 88.96261209104658,\n",
       "  'cumulative_distance': 1017.5333105720408,\n",
       "  'elevation': 115.7,\n",
       "  'slope': -0.33722031418431103},\n",
       " {'point_index': 20,\n",
       "  'longitude': 17.674403,\n",
       "  'latitude': 48.144764,\n",
       "  'distance': 65.59934294209722,\n",
       "  'cumulative_distance': 1083.132653514138,\n",
       "  'elevation': 115.2,\n",
       "  'slope': -0.7622027562704958},\n",
       " {'point_index': 21,\n",
       "  'longitude': 17.671935,\n",
       "  'latitude': 48.146753,\n",
       "  'distance': 287.4496654899396,\n",
       "  'cumulative_distance': 1370.5823190040776,\n",
       "  'elevation': 115.1,\n",
       "  'slope': -0.034788699381356},\n",
       " {'point_index': 22,\n",
       "  'longitude': 17.671504,\n",
       "  'latitude': 48.14711,\n",
       "  'distance': 51.03080646733648,\n",
       "  'cumulative_distance': 1421.6131254714142,\n",
       "  'elevation': 115.1,\n",
       "  'slope': 0.0},\n",
       " {'point_index': 23,\n",
       "  'longitude': 17.669019,\n",
       "  'latitude': 48.149118,\n",
       "  'distance': 289.8789027738378,\n",
       "  'cumulative_distance': 1711.492028245252,\n",
       "  'elevation': 114.0,\n",
       "  'slope': -0.3794688021357005},\n",
       " {'point_index': 24,\n",
       "  'longitude': 17.668979,\n",
       "  'latitude': 48.149163,\n",
       "  'distance': 5.824079780644233,\n",
       "  'cumulative_distance': 1717.3161080258963,\n",
       "  'elevation': 114.0,\n",
       "  'slope': 0.0},\n",
       " {'point_index': 25,\n",
       "  'longitude': 17.668986,\n",
       "  'latitude': 48.149216,\n",
       "  'distance': 5.922795510913755,\n",
       "  'cumulative_distance': 1723.23890353681,\n",
       "  'elevation': 114.1,\n",
       "  'slope': 1.6883919057432824},\n",
       " {'point_index': 26,\n",
       "  'longitude': 17.66895,\n",
       "  'latitude': 48.149301,\n",
       "  'distance': 9.83267354099889,\n",
       "  'cumulative_distance': 1733.071577077809,\n",
       "  'elevation': 114.3,\n",
       "  'slope': 2.034034783785622},\n",
       " {'point_index': 27,\n",
       "  'longitude': 17.668963,\n",
       "  'latitude': 48.149369,\n",
       "  'distance': 7.631054049951718,\n",
       "  'cumulative_distance': 1740.7026311277607,\n",
       "  'elevation': 114.4,\n",
       "  'slope': 1.3104349588592055},\n",
       " {'point_index': 28,\n",
       "  'longitude': 17.669,\n",
       "  'latitude': 48.149405,\n",
       "  'distance': 4.859195863948451,\n",
       "  'cumulative_distance': 1745.561826991709,\n",
       "  'elevation': 114.5,\n",
       "  'slope': 2.05795367793092},\n",
       " {'point_index': 29,\n",
       "  'longitude': 17.66902,\n",
       "  'latitude': 48.149447,\n",
       "  'distance': 4.905713649935001,\n",
       "  'cumulative_distance': 1750.467540641644,\n",
       "  'elevation': 114.6,\n",
       "  'slope': 2.0384394022125463},\n",
       " {'point_index': 30,\n",
       "  'longitude': 17.66902,\n",
       "  'latitude': 48.149491,\n",
       "  'distance': 4.8980575944022196,\n",
       "  'cumulative_distance': 1755.3655982360463,\n",
       "  'elevation': 114.7,\n",
       "  'slope': 2.041625645935529},\n",
       " {'point_index': 31,\n",
       "  'longitude': 17.669001,\n",
       "  'latitude': 48.149533,\n",
       "  'distance': 4.883737015679552,\n",
       "  'cumulative_distance': 1760.2493352517258,\n",
       "  'elevation': 114.7,\n",
       "  'slope': 0.0},\n",
       " {'point_index': 32,\n",
       "  'longitude': 17.668965,\n",
       "  'latitude': 48.14957,\n",
       "  'distance': 4.910567382459646,\n",
       "  'cumulative_distance': 1765.1599026341855,\n",
       "  'elevation': 114.8,\n",
       "  'slope': 2.0364245556876055},\n",
       " {'point_index': 33,\n",
       "  'longitude': 17.668909,\n",
       "  'latitude': 48.1496,\n",
       "  'distance': 5.334002499974061,\n",
       "  'cumulative_distance': 1770.4939051341596,\n",
       "  'elevation': 114.8,\n",
       "  'slope': 0.0},\n",
       " {'point_index': 34,\n",
       "  'longitude': 17.668841,\n",
       "  'latitude': 48.149616,\n",
       "  'distance': 5.355294905739617,\n",
       "  'cumulative_distance': 1775.8492000398992,\n",
       "  'elevation': 114.8,\n",
       "  'slope': 0.0},\n",
       " {'point_index': 35,\n",
       "  'longitude': 17.668769,\n",
       "  'latitude': 48.149618,\n",
       "  'distance': 5.3521445910804,\n",
       "  'cumulative_distance': 1781.2013446309795,\n",
       "  'elevation': 114.8,\n",
       "  'slope': 0.0},\n",
       " {'point_index': 36,\n",
       "  'longitude': 17.668701,\n",
       "  'latitude': 48.149604,\n",
       "  'distance': 5.285420864608213,\n",
       "  'cumulative_distance': 1786.4867654955876,\n",
       "  'elevation': 114.8,\n",
       "  'slope': 0.0},\n",
       " {'point_index': 37,\n",
       "  'longitude': 17.668642,\n",
       "  'latitude': 48.149576,\n",
       "  'distance': 5.377472372982976,\n",
       "  'cumulative_distance': 1791.8642378685706,\n",
       "  'elevation': 114.8,\n",
       "  'slope': 0.0},\n",
       " {'point_index': 38,\n",
       "  'longitude': 17.668196,\n",
       "  'latitude': 48.149546,\n",
       "  'distance': 33.292831283226306,\n",
       "  'cumulative_distance': 1825.157069151797,\n",
       "  'elevation': 114.8,\n",
       "  'slope': 0.0},\n",
       " {'point_index': 39,\n",
       "  'longitude': 17.667294,\n",
       "  'latitude': 48.149676,\n",
       "  'distance': 68.53759754438062,\n",
       "  'cumulative_distance': 1893.6946666961776,\n",
       "  'elevation': 114.2,\n",
       "  'slope': -0.8754319110929912},\n",
       " {'point_index': 40,\n",
       "  'longitude': 17.66692,\n",
       "  'latitude': 48.149736,\n",
       "  'distance': 28.569023871878464,\n",
       "  'cumulative_distance': 1922.263690568056,\n",
       "  'elevation': 114.2,\n",
       "  'slope': 0.0},\n",
       " {'point_index': 41,\n",
       "  'longitude': 17.666651,\n",
       "  'latitude': 48.149777,\n",
       "  'distance': 20.4935335891082,\n",
       "  'cumulative_distance': 1942.7572241571643,\n",
       "  'elevation': 114.5,\n",
       "  'slope': 1.4638763915240056},\n",
       " {'point_index': 42,\n",
       "  'longitude': 17.666324,\n",
       "  'latitude': 48.149811,\n",
       "  'distance': 24.57967644421244,\n",
       "  'cumulative_distance': 1967.3369006013768,\n",
       "  'elevation': 114.9,\n",
       "  'slope': 1.6273607218055555},\n",
       " {'point_index': 43,\n",
       "  'longitude': 17.666122,\n",
       "  'latitude': 48.149811,\n",
       "  'distance': 15.002685320152445,\n",
       "  'cumulative_distance': 1982.3395859215293,\n",
       "  'elevation': 115.2,\n",
       "  'slope': 1.9996420213987984},\n",
       " {'point_index': 44,\n",
       "  'longitude': 17.665917,\n",
       "  'latitude': 48.1498,\n",
       "  'distance': 15.274662299433675,\n",
       "  'cumulative_distance': 1997.614248220963,\n",
       "  'elevation': 115.4,\n",
       "  'slope': 1.3093579162625288},\n",
       " {'point_index': 45,\n",
       "  'longitude': 17.665583,\n",
       "  'latitude': 48.149763,\n",
       "  'distance': 25.14605985191672,\n",
       "  'cumulative_distance': 2022.7603080728798,\n",
       "  'elevation': 115.8,\n",
       "  'slope': 1.5907064659654901},\n",
       " {'point_index': 46,\n",
       "  'longitude': 17.665363,\n",
       "  'latitude': 48.149707,\n",
       "  'distance': 17.48838613465978,\n",
       "  'cumulative_distance': 2040.2486942075395,\n",
       "  'elevation': 115.8,\n",
       "  'slope': 0.0},\n",
       " {'point_index': 47,\n",
       "  'longitude': 17.665186,\n",
       "  'latitude': 48.149648,\n",
       "  'distance': 14.695335771589603,\n",
       "  'cumulative_distance': 2054.944029979129,\n",
       "  'elevation': 115.8,\n",
       "  'slope': 0.0},\n",
       " {'point_index': 48,\n",
       "  'longitude': 17.664621,\n",
       "  'latitude': 48.149436,\n",
       "  'distance': 48.14418763101157,\n",
       "  'cumulative_distance': 2103.0882176101404,\n",
       "  'elevation': 115.8,\n",
       "  'slope': 0.0},\n",
       " {'point_index': 49,\n",
       "  'longitude': 17.664079,\n",
       "  'latitude': 48.149253,\n",
       "  'distance': 45.116240756080764,\n",
       "  'cumulative_distance': 2148.2044583662214,\n",
       "  'elevation': 115.9,\n",
       "  'slope': 0.2216496727656338},\n",
       " {'point_index': 50,\n",
       "  'longitude': 17.663836,\n",
       "  'latitude': 48.149184,\n",
       "  'distance': 19.614508563792686,\n",
       "  'cumulative_distance': 2167.818966930014,\n",
       "  'elevation': 115.9,\n",
       "  'slope': 0.0},\n",
       " {'point_index': 51,\n",
       "  'longitude': 17.663544,\n",
       "  'latitude': 48.149117,\n",
       "  'distance': 22.93400705815649,\n",
       "  'cumulative_distance': 2190.7529739881707,\n",
       "  'elevation': 115.9,\n",
       "  'slope': 0.0},\n",
       " {'point_index': 52,\n",
       "  'longitude': 17.663313,\n",
       "  'latitude': 48.149078,\n",
       "  'distance': 17.697554024465695,\n",
       "  'cumulative_distance': 2208.4505280126364,\n",
       "  'elevation': 115.9,\n",
       "  'slope': 0.0},\n",
       " {'point_index': 53,\n",
       "  'longitude': 17.662773,\n",
       "  'latitude': 48.149027,\n",
       "  'distance': 40.50663116719886,\n",
       "  'cumulative_distance': 2248.9571591798353,\n",
       "  'elevation': 115.9,\n",
       "  'slope': 0.0},\n",
       " {'point_index': 54,\n",
       "  'longitude': 17.662604,\n",
       "  'latitude': 48.149023,\n",
       "  'distance': 12.559839905492579,\n",
       "  'cumulative_distance': 2261.516999085328,\n",
       "  'elevation': 115.9,\n",
       "  'slope': 0.0},\n",
       " {'point_index': 55,\n",
       "  'longitude': 17.662343,\n",
       "  'latitude': 48.14903,\n",
       "  'distance': 19.400608324773977,\n",
       "  'cumulative_distance': 2280.917607410102,\n",
       "  'elevation': 115.9,\n",
       "  'slope': 0.0},\n",
       " {'point_index': 56,\n",
       "  'longitude': 17.662158,\n",
       "  'latitude': 48.149053,\n",
       "  'distance': 13.976796618327272,\n",
       "  'cumulative_distance': 2294.894404028429,\n",
       "  'elevation': 115.9,\n",
       "  'slope': 0.0},\n",
       " {'point_index': 57,\n",
       "  'longitude': 17.661908,\n",
       "  'latitude': 48.149112,\n",
       "  'distance': 19.695298421311552,\n",
       "  'cumulative_distance': 2314.589702449741,\n",
       "  'elevation': 116.0,\n",
       "  'slope': 0.5077353887249965},\n",
       " {'point_index': 58,\n",
       "  'longitude': 17.661728,\n",
       "  'latitude': 48.149168,\n",
       "  'distance': 14.75089183558147,\n",
       "  'cumulative_distance': 2329.3405942853224,\n",
       "  'elevation': 116.0,\n",
       "  'slope': 0.0},\n",
       " {'point_index': 59,\n",
       "  'longitude': 17.661555,\n",
       "  'latitude': 48.149236,\n",
       "  'distance': 14.912980544150145,\n",
       "  'cumulative_distance': 2344.2535748294727,\n",
       "  'elevation': 116.0,\n",
       "  'slope': 0.0},\n",
       " {'point_index': 60,\n",
       "  'longitude': 17.660781,\n",
       "  'latitude': 48.149635,\n",
       "  'distance': 72.64594292744061,\n",
       "  'cumulative_distance': 2416.899517756913,\n",
       "  'elevation': 116.0,\n",
       "  'slope': 0.0},\n",
       " {'point_index': 61,\n",
       "  'longitude': 17.660471,\n",
       "  'latitude': 48.149804,\n",
       "  'distance': 29.73264059596496,\n",
       "  'cumulative_distance': 2446.632158352878,\n",
       "  'elevation': 116.1,\n",
       "  'slope': 0.3363307059029443},\n",
       " {'point_index': 62,\n",
       "  'longitude': 17.659375,\n",
       "  'latitude': 48.150354,\n",
       "  'distance': 101.85540683341989,\n",
       "  'cumulative_distance': 2548.4875651862976,\n",
       "  'elevation': 115.9,\n",
       "  'slope': -0.196356782833414},\n",
       " {'point_index': 63,\n",
       "  'longitude': 17.659247,\n",
       "  'latitude': 48.150457,\n",
       "  'distance': 14.894334309621579,\n",
       "  'cumulative_distance': 2563.3818994959192,\n",
       "  'elevation': 115.9,\n",
       "  'slope': 0.0},\n",
       " {'point_index': 64,\n",
       "  'longitude': 17.659155,\n",
       "  'latitude': 48.150611,\n",
       "  'distance': 18.454715163545547,\n",
       "  'cumulative_distance': 2581.836614659465,\n",
       "  'elevation': 115.9,\n",
       "  'slope': 0.0},\n",
       " {'point_index': 65,\n",
       "  'longitude': 17.658791,\n",
       "  'latitude': 48.151493,\n",
       "  'distance': 101.8374947474366,\n",
       "  'cumulative_distance': 2683.6741094069016,\n",
       "  'elevation': 115.7,\n",
       "  'slope': -0.1963913198139992},\n",
       " {'point_index': 66,\n",
       "  'longitude': 17.65859,\n",
       "  'latitude': 48.151865,\n",
       "  'distance': 44.0192942746424,\n",
       "  'cumulative_distance': 2727.693403681544,\n",
       "  'elevation': 115.7,\n",
       "  'slope': 0.0},\n",
       " {'point_index': 67,\n",
       "  'longitude': 17.657834,\n",
       "  'latitude': 48.153137,\n",
       "  'distance': 152.32323690930917,\n",
       "  'cumulative_distance': 2880.0166405908535,\n",
       "  'elevation': 115.4,\n",
       "  'slope': -0.19694959619234745},\n",
       " {'point_index': 68,\n",
       "  'longitude': 17.657779,\n",
       "  'latitude': 48.153282,\n",
       "  'distance': 16.650119397422117,\n",
       "  'cumulative_distance': 2896.6667599882758,\n",
       "  'elevation': 115.4,\n",
       "  'slope': 0.0},\n",
       " {'point_index': 69,\n",
       "  'longitude': 17.657733,\n",
       "  'latitude': 48.153485,\n",
       "  'distance': 22.854618894968596,\n",
       "  'cumulative_distance': 2919.5213788832443,\n",
       "  'elevation': 115.9,\n",
       "  'slope': 2.187741577743281},\n",
       " {'point_index': 70,\n",
       "  'longitude': 17.65771,\n",
       "  'latitude': 48.153794,\n",
       "  'distance': 34.440106108966226,\n",
       "  'cumulative_distance': 2953.9614849922104,\n",
       "  'elevation': 116.4,\n",
       "  'slope': 1.4517957593337052},\n",
       " {'point_index': 71,\n",
       "  'longitude': 17.657669,\n",
       "  'latitude': 48.153999,\n",
       "  'distance': 23.022730887723586,\n",
       "  'cumulative_distance': 2976.9842158799343,\n",
       "  'elevation': 116.7,\n",
       "  'slope': 1.3030600125720369},\n",
       " {'point_index': 72,\n",
       "  'longitude': 17.657668,\n",
       "  'latitude': 48.154245,\n",
       "  'distance': 27.384695434132848,\n",
       "  'cumulative_distance': 3004.368911314067,\n",
       "  'elevation': 117.1,\n",
       "  'slope': 1.4606698875366102},\n",
       " {'point_index': 73,\n",
       "  'longitude': 17.657735,\n",
       "  'latitude': 48.154414,\n",
       "  'distance': 19.459862552166534,\n",
       "  'cumulative_distance': 3023.828773866234,\n",
       "  'elevation': 117.4,\n",
       "  'slope': 1.541634732495124},\n",
       " {'point_index': 74,\n",
       "  'longitude': 17.659034,\n",
       "  'latitude': 48.156282,\n",
       "  'distance': 229.23053009814552,\n",
       "  'cumulative_distance': 3253.0593039643795,\n",
       "  'elevation': 117.0,\n",
       "  'slope': -0.17449682632969737},\n",
       " {'point_index': 75,\n",
       "  'longitude': 17.659123,\n",
       "  'latitude': 48.156428,\n",
       "  'distance': 17.54510092402332,\n",
       "  'cumulative_distance': 3270.6044048884028,\n",
       "  'elevation': 116.9,\n",
       "  'slope': -0.5699596738316339},\n",
       " {'point_index': 76,\n",
       "  'longitude': 17.659155,\n",
       "  'latitude': 48.156543,\n",
       "  'distance': 13.020431218468147,\n",
       "  'cumulative_distance': 3283.624836106871,\n",
       "  'elevation': 116.9,\n",
       "  'slope': 0.0},\n",
       " {'point_index': 77,\n",
       "  'longitude': 17.659305,\n",
       "  'latitude': 48.15733,\n",
       "  'distance': 88.31373282070746,\n",
       "  'cumulative_distance': 3371.9385689275787,\n",
       "  'elevation': 116.7,\n",
       "  'slope': -0.22646534532295032},\n",
       " {'point_index': 78,\n",
       "  'longitude': 17.659287,\n",
       "  'latitude': 48.157536,\n",
       "  'distance': 22.970738672452054,\n",
       "  'cumulative_distance': 3394.909307600031,\n",
       "  'elevation': 116.7,\n",
       "  'slope': 0.0},\n",
       " {'point_index': 79,\n",
       "  'longitude': 17.659188,\n",
       "  'latitude': 48.157795,\n",
       "  'distance': 29.754269665790247,\n",
       "  'cumulative_distance': 3424.663577265821,\n",
       "  'elevation': 116.7,\n",
       "  'slope': 0.0},\n",
       " {'point_index': 80,\n",
       "  'longitude': 17.658063,\n",
       "  'latitude': 48.160224,\n",
       "  'distance': 283.00531910231484,\n",
       "  'cumulative_distance': 3707.668896368136,\n",
       "  'elevation': 116.6,\n",
       "  'slope': -0.03533502490949845},\n",
       " {'point_index': 81,\n",
       "  'longitude': 17.658014,\n",
       "  'latitude': 48.160373,\n",
       "  'distance': 16.980996335198864,\n",
       "  'cumulative_distance': 3724.649892703335,\n",
       "  'elevation': 116.6,\n",
       "  'slope': 0.0},\n",
       " {'point_index': 82,\n",
       "  'longitude': 17.658001,\n",
       "  'latitude': 48.160486,\n",
       "  'distance': 12.616087288965101,\n",
       "  'cumulative_distance': 3737.2659799923,\n",
       "  'elevation': 116.6,\n",
       "  'slope': 0.0},\n",
       " {'point_index': 83,\n",
       "  'longitude': 17.658117,\n",
       "  'latitude': 48.16162,\n",
       "  'distance': 126.52981902018004,\n",
       "  'cumulative_distance': 3863.79579901248,\n",
       "  'elevation': 116.5,\n",
       "  'slope': -0.0790327535235354},\n",
       " {'point_index': 84,\n",
       "  'longitude': 17.658177,\n",
       "  'latitude': 48.162048,\n",
       "  'distance': 47.852586961481805,\n",
       "  'cumulative_distance': 3911.648385973962,\n",
       "  'elevation': 116.5,\n",
       "  'slope': 0.0},\n",
       " {'point_index': 85,\n",
       "  'longitude': 17.658206,\n",
       "  'latitude': 48.162363,\n",
       "  'distance': 35.13169345211966,\n",
       "  'cumulative_distance': 3946.7800794260816,\n",
       "  'elevation': 116.7,\n",
       "  'slope': 0.5692865340310997},\n",
       " {'point_index': 86,\n",
       "  'longitude': 17.658329,\n",
       "  'latitude': 48.162852,\n",
       "  'distance': 55.196065432259104,\n",
       "  'cumulative_distance': 4001.976144858341,\n",
       "  'elevation': 117.0,\n",
       "  'slope': 0.5435170018924274},\n",
       " {'point_index': 87,\n",
       "  'longitude': 17.658564,\n",
       "  'latitude': 48.163645,\n",
       "  'distance': 89.9843300180092,\n",
       "  'cumulative_distance': 4091.96047487635,\n",
       "  'elevation': 117.0,\n",
       "  'slope': 0.0},\n",
       " {'point_index': 88,\n",
       "  'longitude': 17.658834,\n",
       "  'latitude': 48.164699,\n",
       "  'distance': 119.03107408109445,\n",
       "  'cumulative_distance': 4210.991548957444,\n",
       "  'elevation': 117.1,\n",
       "  'slope': 0.08401167575104423},\n",
       " {'point_index': 89,\n",
       "  'longitude': 17.659389,\n",
       "  'latitude': 48.166702,\n",
       "  'distance': 226.748588746521,\n",
       "  'cumulative_distance': 4437.740137703965,\n",
       "  'elevation': 117.7,\n",
       "  'slope': 0.2646102466687191},\n",
       " {'point_index': 90,\n",
       "  'longitude': 17.659455,\n",
       "  'latitude': 48.167065,\n",
       "  'distance': 40.70500486941452,\n",
       "  'cumulative_distance': 4478.44514257338,\n",
       "  'elevation': 117.7,\n",
       "  'slope': 0.0},\n",
       " {'point_index': 91,\n",
       "  'longitude': 17.659465,\n",
       "  'latitude': 48.167169,\n",
       "  'distance': 11.601009733129434,\n",
       "  'cumulative_distance': 4490.046152306509,\n",
       "  'elevation': 118.1,\n",
       "  'slope': 3.447975729713394},\n",
       " {'point_index': 92,\n",
       "  'longitude': 17.65946,\n",
       "  'latitude': 48.16735,\n",
       "  'distance': 20.152247326121163,\n",
       "  'cumulative_distance': 4510.19839963263,\n",
       "  'elevation': 118.8,\n",
       "  'slope': 3.4735580040875598},\n",
       " {'point_index': 93,\n",
       "  'longitude': 17.659281,\n",
       "  'latitude': 48.16813,\n",
       "  'distance': 87.84034903570945,\n",
       "  'cumulative_distance': 4598.038748668339,\n",
       "  'elevation': 121.5,\n",
       "  'slope': 3.0737582781033583},\n",
       " {'point_index': 94,\n",
       "  'longitude': 17.659239,\n",
       "  'latitude': 48.168426,\n",
       "  'distance': 33.09778583515347,\n",
       "  'cumulative_distance': 4631.136534503493,\n",
       "  'elevation': 121.2,\n",
       "  'slope': -0.9064050432079487},\n",
       " {'point_index': 95,\n",
       "  'longitude': 17.659399,\n",
       "  'latitude': 48.169682,\n",
       "  'distance': 140.32097396049932,\n",
       "  'cumulative_distance': 4771.457508463992,\n",
       "  'elevation': 119.9,\n",
       "  'slope': -0.9264473893731312},\n",
       " {'point_index': 96,\n",
       "  'longitude': 17.659542,\n",
       "  'latitude': 48.170932,\n",
       "  'distance': 139.5537604549191,\n",
       "  'cumulative_distance': 4911.011268918911,\n",
       "  'elevation': 118.6,\n",
       "  'slope': -0.9315406448111861},\n",
       " {'point_index': 97,\n",
       "  'longitude': 17.659597,\n",
       "  'latitude': 48.171445,\n",
       "  'distance': 57.252686772223996,\n",
       "  'cumulative_distance': 4968.2639556911345,\n",
       "  'elevation': 118.1,\n",
       "  'slope': -0.8733214599853047},\n",
       " {'point_index': 98,\n",
       "  'longitude': 17.659591,\n",
       "  'latitude': 48.171543,\n",
       "  'distance': 10.918400050542449,\n",
       "  'cumulative_distance': 4979.1823557416765,\n",
       "  'elevation': 118.0,\n",
       "  'slope': -0.9158851071318468},\n",
       " {'point_index': 99,\n",
       "  'longitude': 17.659116,\n",
       "  'latitude': 48.1724,\n",
       "  'distance': 101.70937398457654,\n",
       "  'cumulative_distance': 5080.891729726253,\n",
       "  'elevation': 118.4,\n",
       "  'slope': 0.3932774181273229},\n",
       " {'point_index': 100,\n",
       "  'longitude': 17.658967,\n",
       "  'latitude': 48.17265,\n",
       "  'distance': 29.94756475686156,\n",
       "  'cumulative_distance': 5110.839294483115,\n",
       "  'elevation': 118.6,\n",
       "  'slope': 0.667833934491},\n",
       " {'point_index': 101,\n",
       "  'longitude': 17.658868,\n",
       "  'latitude': 48.172754,\n",
       "  'distance': 13.71304246195352,\n",
       "  'cumulative_distance': 5124.552336945068,\n",
       "  'elevation': 118.7,\n",
       "  'slope': 0.7292327744003997},\n",
       " {'point_index': 102,\n",
       "  'longitude': 17.658682,\n",
       "  'latitude': 48.17285,\n",
       "  'distance': 17.460526062686174,\n",
       "  'cumulative_distance': 5142.012863007754,\n",
       "  'elevation': 118.8,\n",
       "  'slope': 0.572720430306497},\n",
       " {'point_index': 103,\n",
       "  'longitude': 17.658394,\n",
       "  'latitude': 48.172889,\n",
       "  'distance': 21.816679129956125,\n",
       "  'cumulative_distance': 5163.829542137711,\n",
       "  'elevation': 118.9,\n",
       "  'slope': 0.45836490239570954},\n",
       " {'point_index': 104,\n",
       "  'longitude': 17.656913,\n",
       "  'latitude': 48.17305,\n",
       "  'distance': 111.39633055212119,\n",
       "  'cumulative_distance': 5275.225872689832,\n",
       "  'elevation': 118.5,\n",
       "  'slope': -0.35907825510720015},\n",
       " {'point_index': 105,\n",
       "  'longitude': 17.655971,\n",
       "  'latitude': 48.173109,\n",
       "  'distance': 70.23899436596295,\n",
       "  'cumulative_distance': 5345.4648670557945,\n",
       "  'elevation': 118.3,\n",
       "  'slope': -0.2847421176874375},\n",
       " {'point_index': 106,\n",
       "  'longitude': 17.655759,\n",
       "  'latitude': 48.173137,\n",
       "  'distance': 16.043920144032253,\n",
       "  'cumulative_distance': 5361.508787199827,\n",
       "  'elevation': 118.2,\n",
       "  'slope': -0.6232890659032021},\n",
       " {'point_index': 107,\n",
       "  'longitude': 17.655381,\n",
       "  'latitude': 48.173228,\n",
       "  'distance': 29.833994840895752,\n",
       "  'cumulative_distance': 5391.342782040722,\n",
       "  'elevation': 118.2,\n",
       "  'slope': 0.0},\n",
       " {'point_index': 108,\n",
       "  'longitude': 17.652814,\n",
       "  'latitude': 48.174014,\n",
       "  'distance': 209.69025813950742,\n",
       "  'cumulative_distance': 5601.033040180229,\n",
       "  'elevation': 117.5,\n",
       "  'slope': -0.3338257133215465},\n",
       " {'point_index': 109,\n",
       "  'longitude': 17.652583,\n",
       "  'latitude': 48.174094,\n",
       "  'distance': 19.3229701287206,\n",
       "  'cumulative_distance': 5620.35601030895,\n",
       "  'elevation': 117.4,\n",
       "  'slope': -0.5175187837782755},\n",
       " {'point_index': 110,\n",
       "  'longitude': 17.652444,\n",
       "  'latitude': 48.174176,\n",
       "  'distance': 13.776797274975,\n",
       "  'cumulative_distance': 5634.132807583926,\n",
       "  'elevation': 117.3,\n",
       "  'slope': -0.7258581076870059},\n",
       " {'point_index': 111,\n",
       "  'longitude': 17.652366,\n",
       "  'latitude': 48.174256,\n",
       "  'distance': 10.622486040851554,\n",
       "  'cumulative_distance': 5644.755293624778,\n",
       "  'elevation': 117.4,\n",
       "  'slope': 0.9413992130978787},\n",
       " {'point_index': 112,\n",
       "  'longitude': 17.651478,\n",
       "  'latitude': 48.175523,\n",
       "  'distance': 155.68605710362274,\n",
       "  'cumulative_distance': 5800.441350728401,\n",
       "  'elevation': 117.0,\n",
       "  'slope': -0.2569273109240416},\n",
       " {'point_index': 113,\n",
       "  'longitude': 17.646578,\n",
       "  'latitude': 48.182492,\n",
       "  'distance': 856.8062977021926,\n",
       "  'cumulative_distance': 6657.2476484305935,\n",
       "  'elevation': 117.0,\n",
       "  'slope': 0.0},\n",
       " {'point_index': 114,\n",
       "  'longitude': 17.646427,\n",
       "  'latitude': 48.182752,\n",
       "  'distance': 31.037287410347304,\n",
       "  'cumulative_distance': 6688.284935840941,\n",
       "  'elevation': 117.0,\n",
       "  'slope': 0.0},\n",
       " {'point_index': 115,\n",
       "  'longitude': 17.646337,\n",
       "  'latitude': 48.183066,\n",
       "  'distance': 35.58689819304382,\n",
       "  'cumulative_distance': 6723.871834033985,\n",
       "  'elevation': 117.0,\n",
       "  'slope': 0.0},\n",
       " {'point_index': 116,\n",
       "  'longitude': 17.644981,\n",
       "  'latitude': 48.18856,\n",
       "  'distance': 619.8135682874884,\n",
       "  'cumulative_distance': 7343.685402321473,\n",
       "  'elevation': 117.8,\n",
       "  'slope': 0.12907106925883444},\n",
       " {'point_index': 117,\n",
       "  'longitude': 17.6439,\n",
       "  'latitude': 48.192819,\n",
       "  'distance': 480.848376202158,\n",
       "  'cumulative_distance': 7824.533778523631,\n",
       "  'elevation': 117.2,\n",
       "  'slope': -0.12477945849353198},\n",
       " {'point_index': 118,\n",
       "  'longitude': 17.643841,\n",
       "  'latitude': 48.193146,\n",
       "  'distance': 36.66383133982196,\n",
       "  'cumulative_distance': 7861.197609863452,\n",
       "  'elevation': 117.1,\n",
       "  'slope': -0.27274836356612514},\n",
       " {'point_index': 119,\n",
       "  'longitude': 17.64382,\n",
       "  'latitude': 48.193802,\n",
       "  'distance': 73.04221144174261,\n",
       "  'cumulative_distance': 7934.239821305195,\n",
       "  'elevation': 117.0,\n",
       "  'slope': -0.13690713633410845},\n",
       " {'point_index': 120,\n",
       "  'longitude': 17.643775,\n",
       "  'latitude': 48.194038,\n",
       "  'distance': 26.48277516416454,\n",
       "  'cumulative_distance': 7960.722596469359,\n",
       "  'elevation': 117.0,\n",
       "  'slope': 0.0},\n",
       " {'point_index': 121,\n",
       "  'longitude': 17.643716,\n",
       "  'latitude': 48.194181,\n",
       "  'distance': 16.509787508779755,\n",
       "  'cumulative_distance': 7977.232383978138,\n",
       "  'elevation': 117.0,\n",
       "  'slope': 0.0},\n",
       " {'point_index': 122,\n",
       "  'longitude': 17.643612,\n",
       "  'latitude': 48.194357,\n",
       "  'distance': 21.05740939586598,\n",
       "  'cumulative_distance': 7998.289793374004,\n",
       "  'elevation': 116.9,\n",
       "  'slope': -0.47489222496489264},\n",
       " {'point_index': 123,\n",
       "  'longitude': 17.642637,\n",
       "  'latitude': 48.195883,\n",
       "  'distance': 184.63852918952685,\n",
       "  'cumulative_distance': 8182.928322563531,\n",
       "  'elevation': 116.7,\n",
       "  'slope': -0.1083197536710812},\n",
       " {'point_index': 124,\n",
       "  'longitude': 17.642001,\n",
       "  'latitude': 48.196941,\n",
       "  'distance': 126.87927234784289,\n",
       "  'cumulative_distance': 8309.807594911374,\n",
       "  'elevation': 116.5,\n",
       "  'slope': -0.15763015999311342},\n",
       " {'point_index': 125,\n",
       "  'longitude': 17.641707,\n",
       "  'latitude': 48.197452,\n",
       "  'distance': 60.923943589335884,\n",
       "  'cumulative_distance': 8370.73153850071,\n",
       "  'elevation': 118.4,\n",
       "  'slope': 3.1186425041805426},\n",
       " {'point_index': 126,\n",
       "  'longitude': 17.641214,\n",
       "  'latitude': 48.198355,\n",
       "  'distance': 106.97068796957959,\n",
       "  'cumulative_distance': 8477.70222647029,\n",
       "  'elevation': 121.5,\n",
       "  'slope': 2.897990149302933},\n",
       " {'point_index': 127,\n",
       "  'longitude': 17.640858,\n",
       "  'latitude': 48.198934,\n",
       "  'distance': 69.65681198673813,\n",
       "  'cumulative_distance': 8547.359038457029,\n",
       "  'elevation': 120.4,\n",
       "  'slope': -1.5791707496022382},\n",
       " {'point_index': 128,\n",
       "  'longitude': 17.640375,\n",
       "  'latitude': 48.199761,\n",
       "  'distance': 98.79077855689764,\n",
       "  'cumulative_distance': 8646.149817013926,\n",
       "  'elevation': 119.0,\n",
       "  'slope': -1.417136316213652},\n",
       " {'point_index': 129,\n",
       "  'longitude': 17.639834,\n",
       "  'latitude': 48.200639,\n",
       "  'distance': 105.6602501450199,\n",
       "  'cumulative_distance': 8751.810067158945,\n",
       "  'elevation': 119.1,\n",
       "  'slope': 0.09464297109153458},\n",
       " {'point_index': 130,\n",
       "  'longitude': 17.639007,\n",
       "  'latitude': 48.201384,\n",
       "  'distance': 103.16468358354479,\n",
       "  'cumulative_distance': 8854.97475074249,\n",
       "  'elevation': 118.7,\n",
       "  'slope': -0.38772958546038055}]"
      ]
     },
     "execution_count": 157,
     "metadata": {},
     "output_type": "execute_result"
    }
   ],
   "source": [
    "row_index = 34\n",
    "df.iloc[row_index][\"Clear_Route\"]"
   ]
  },
  {
   "cell_type": "code",
   "execution_count": 158,
   "metadata": {},
   "outputs": [
    {
     "data": {
      "text/plain": [
       "'M1829'"
      ]
     },
     "execution_count": 158,
     "metadata": {},
     "output_type": "execute_result"
    }
   ],
   "source": [
    "row_index = 34\n",
    "df.iloc[row_index][\"ID\"]"
   ]
  },
  {
   "cell_type": "code",
   "execution_count": 159,
   "metadata": {},
   "outputs": [],
   "source": [
    "def get_fuel_consumption(slope):\n",
    "    return 6 + 0.766 * slope + 0.0646 * slope**2\n",
    "\n",
    "\n",
    "def calculate_total_consumption(route):\n",
    "    total_fuel_consumption = 0\n",
    "    for point in route:\n",
    "        slope = point[\"slope\"]\n",
    "        # Convert distance to kilometers\n",
    "        distance_km = point[\"distance\"] / 1000\n",
    "        distance_per_100km = distance_km / 100  # Convert distance to 100 km units\n",
    "        # Get instantaneous fuel consumption\n",
    "        fuel_per_100km = get_fuel_consumption(slope)\n",
    "        segment_fuel = fuel_per_100km * distance_per_100km  # Fuel for this segment\n",
    "        total_fuel_consumption += segment_fuel\n",
    "    return total_fuel_consumption\n",
    "\n",
    "\n",
    "# Apply the corrected function to calculate total consumption for each route\n",
    "for index, row in df.iterrows():\n",
    "    if \"Clear_Route\" in row and row[\"Clear_Route\"]:\n",
    "        df.at[index, \"Clear_Consumption\"] = calculate_total_consumption(\n",
    "            row[\"Clear_Route\"])\n",
    "    if \"Alt_Route\" in row and row[\"Alt_Route\"]:\n",
    "        df.at[index, \"Alt_Consumption\"] = calculate_total_consumption(\n",
    "            row[\"Alt_Route\"])"
   ]
  },
  {
   "cell_type": "code",
   "execution_count": 160,
   "metadata": {},
   "outputs": [],
   "source": [
    "# Calculate differences\n",
    "df['Distance_Difference'] = df['Alt_Distance'] - df['Clear_Distance']\n",
    "df['Time_Difference'] = df['Alt_Time'] - df['Clear_Time']\n",
    "df['Consumption_Difference'] = df['Alt_Consumption'] - df['Clear_Consumption']"
   ]
  },
  {
   "cell_type": "code",
   "execution_count": 161,
   "metadata": {},
   "outputs": [],
   "source": [
    "df['Time'] = (df['Time_Difference'] * df['Intenz'] / 60).astype(int)\n",
    "df['Distance'] = (df['Distance_Difference'] * df['Intenz']).astype(int)\n",
    "df['Price'] = (df['Distance_Difference'] * df['Intenz'] * 0.31).astype(int)\n",
    "df['Env_Impact'] = df['Consumption_Difference'] * df['Intenz'] * 2.392E-3"
   ]
  },
  {
   "cell_type": "code",
   "execution_count": 162,
   "metadata": {},
   "outputs": [
    {
     "data": {
      "text/plain": [
       "Index(['ID', 'GPS', 'Dlzka', 'PK', 'Intenz', 'Clear_Route', 'Alt_Route',\n",
       "       'Clear_Distance', 'Alt_Distance', 'Clear_Time', 'Alt_Time',\n",
       "       'Clear_Consumption', 'Alt_Consumption', 'Distance_Difference',\n",
       "       'Time_Difference', 'Consumption_Difference', 'Time', 'Distance',\n",
       "       'Price', 'Env_Impact'],\n",
       "      dtype='object')"
      ]
     },
     "execution_count": 162,
     "metadata": {},
     "output_type": "execute_result"
    }
   ],
   "source": [
    "df.columns"
   ]
  },
  {
   "cell_type": "code",
   "execution_count": 163,
   "metadata": {},
   "outputs": [
    {
     "data": {
      "text/plain": [
       "ID                                                                    M1075\n",
       "GPS                                              48.256613532, 17.764858116\n",
       "Dlzka                                                                 103.6\n",
       "PK                                                                     1345\n",
       "Intenz                                                                 2116\n",
       "Clear_Route               [{'point_index': 0, 'longitude': 17.78389, 'la...\n",
       "Alt_Route                 [{'point_index': 0, 'longitude': 17.78389, 'la...\n",
       "Clear_Distance                                                     5.894471\n",
       "Alt_Distance                                                      18.633293\n",
       "Clear_Time                                                        10.504117\n",
       "Alt_Time                                                          20.068767\n",
       "Clear_Consumption                                                  0.359976\n",
       "Alt_Consumption                                                    1.125482\n",
       "Distance_Difference                                               12.738822\n",
       "Time_Difference                                                     9.56465\n",
       "Consumption_Difference                                             0.765506\n",
       "Time                                                                    337\n",
       "Distance                                                              26955\n",
       "Price                                                                  8356\n",
       "Env_Impact                                                         3.874589\n",
       "Name: 35, dtype: object"
      ]
     },
     "execution_count": 163,
     "metadata": {},
     "output_type": "execute_result"
    }
   ],
   "source": [
    "df.iloc[35]"
   ]
  },
  {
   "cell_type": "code",
   "execution_count": 172,
   "metadata": {},
   "outputs": [
    {
     "name": "stdout",
     "output_type": "stream",
     "text": [
      "       ID  Intenz  Time  Distance   Price  Env_Impact\n",
      "0   M6425   12447  2981    245291   76040   34.608106\n",
      "1   M6684    3931  1375     86260   26740   15.696954\n",
      "2   M4553   14134  7581    354543  109908   50.479152\n",
      "3    M679    6052  1822    145635   45146   23.285599\n",
      "4   M4864    3663   574     35934   11139    5.232961\n",
      "5   M3839    7810   433      5403    1675    0.783504\n",
      "6   M5081     882    37      2514     779    0.890354\n",
      "7   M5770    6843   548     35215   10916    6.104616\n",
      "8   M5237     882    37      2514     779    0.888306\n",
      "9    M299    1310   205     11297    3502    1.895949\n",
      "10  M6245   11674   279     17230    5341    2.438748\n",
      "11  M2332   10818  1170     34599   10725    4.993954\n",
      "12  M6224    5702   938     57400   17794    8.220549\n",
      "13  M6252   11604   320     25717    7972    3.750016\n",
      "14  M7235    5702  1059     59584   18471    8.523404\n",
      "15   M283    6748   161      9959    3087    1.409753\n",
      "16  M2276    2810   297     23438    7265    3.366803\n",
      "17  M7011   11790   937     58699   18196    8.502301\n",
      "18  M7554    2734   101      4043    1253    0.541957\n",
      "19  M4428    1342    40      7710    2390    1.105253\n",
      "20   M141    3086   949     52222   16188    7.453767\n",
      "21   M818    1558   136      6653    2062    0.961090\n",
      "22  M5666    5028   365     16088    4987    2.325979\n",
      "23  M1974    2721    49      1811     561    0.266111\n",
      "24   M117    2543   351     14709    4559    2.208256\n",
      "25  M3991     834     8      1945     603    0.291234\n",
      "26  M6019    1401   135     11940    3701    1.990103\n",
      "27  M1275    2530   437     24033    7450    3.474755\n",
      "28   M185    1442   112      6794    2106    0.976634\n",
      "29  M6365    2696   219      4822    1495    0.686868\n",
      "30  M4267    1137    83      1056     327    0.172012\n",
      "31   M577    1615   182     12271    3804    1.809818\n",
      "32  M9488    2136   165      5942    1842    0.855959\n",
      "33  M2495    6091   156      9611    2979    1.372357\n",
      "34  M1829    1522   -16      6045    1874    0.865820\n",
      "35  M1075    2116   337     26955    8356    3.874589\n",
      "36  M1067    1374   139      2033     630    0.256197\n",
      "37  M4145    1374   139      2033     630    0.256155\n",
      "38   M729    1684    60      3286    1018    0.470945\n",
      "39  M5099    1235    71      6207    1924    0.896746\n",
      "40   M596    1504   214       891     276    0.117479\n",
      "41   M519    2357   775     38778   12021    5.555014\n",
      "42  M4173    2357   775     38778   12021    5.555014\n",
      "43  M4217    2251   329      2028     628    0.272950\n",
      "44  M6948    2357   100      5431    1683    0.776933\n",
      "45  M1854     474    21      1569     486    0.225281\n",
      "46  M3573     384    11       747     231    0.106700\n",
      "47  M5082    1692   171      9514    2949    1.437093\n"
     ]
    }
   ],
   "source": [
    "print(df[[\"ID\", \"Intenz\", \"Time\", \"Distance\", \"Price\", \"Env_Impact\"]])"
   ]
  },
  {
   "cell_type": "code",
   "execution_count": 165,
   "metadata": {},
   "outputs": [
    {
     "data": {
      "application/vnd.plotly.v1+json": {
       "config": {
        "plotlyServerURL": "https://plot.ly"
       },
       "data": [
        {
         "line": {
          "color": "blue",
          "width": 2
         },
         "mode": "lines",
         "name": "Fuel Consumption",
         "type": "scatter",
         "x": [
          -5,
          -4.898989898989899,
          -4.797979797979798,
          -4.696969696969697,
          -4.595959595959596,
          -4.494949494949495,
          -4.393939393939394,
          -4.292929292929293,
          -4.191919191919192,
          -4.090909090909091,
          -3.9898989898989896,
          -3.888888888888889,
          -3.787878787878788,
          -3.686868686868687,
          -3.5858585858585856,
          -3.484848484848485,
          -3.383838383838384,
          -3.282828282828283,
          -3.1818181818181817,
          -3.080808080808081,
          -2.9797979797979797,
          -2.878787878787879,
          -2.7777777777777777,
          -2.676767676767677,
          -2.5757575757575757,
          -2.474747474747475,
          -2.3737373737373737,
          -2.272727272727273,
          -2.1717171717171717,
          -2.070707070707071,
          -1.9696969696969697,
          -1.868686868686869,
          -1.7676767676767677,
          -1.6666666666666665,
          -1.5656565656565657,
          -1.4646464646464645,
          -1.3636363636363638,
          -1.2626262626262625,
          -1.1616161616161618,
          -1.0606060606060606,
          -0.9595959595959593,
          -0.858585858585859,
          -0.7575757575757578,
          -0.6565656565656566,
          -0.5555555555555554,
          -0.45454545454545503,
          -0.3535353535353538,
          -0.2525252525252526,
          -0.15151515151515138,
          -0.050505050505050164,
          0.050505050505050164,
          0.15151515151515138,
          0.2525252525252526,
          0.3535353535353538,
          0.45454545454545414,
          0.5555555555555554,
          0.6565656565656566,
          0.7575757575757578,
          0.8585858585858581,
          0.9595959595959593,
          1.0606060606060606,
          1.1616161616161618,
          1.262626262626262,
          1.3636363636363633,
          1.4646464646464645,
          1.5656565656565657,
          1.666666666666667,
          1.7676767676767673,
          1.8686868686868685,
          1.9696969696969697,
          2.070707070707071,
          2.1717171717171713,
          2.2727272727272725,
          2.3737373737373737,
          2.474747474747475,
          2.5757575757575752,
          2.6767676767676765,
          2.7777777777777777,
          2.878787878787879,
          2.9797979797979792,
          3.0808080808080813,
          3.1818181818181817,
          3.282828282828282,
          3.383838383838384,
          3.4848484848484844,
          3.5858585858585865,
          3.686868686868687,
          3.787878787878787,
          3.8888888888888893,
          3.9898989898989896,
          4.09090909090909,
          4.191919191919192,
          4.292929292929292,
          4.3939393939393945,
          4.494949494949495,
          4.595959595959595,
          4.696969696969697,
          4.797979797979798,
          4.8989898989899,
          5
         ],
         "y": [
          3.785,
          3.797780328537904,
          3.811878889909193,
          3.827295684113866,
          3.844030711151923,
          3.862083971023365,
          3.881455463728191,
          3.902145189266401,
          3.924153147637996,
          3.9474793388429754,
          3.972123762881339,
          3.9980864197530868,
          4.025367309458218,
          4.053966431996735,
          4.083883787368636,
          4.115119375573921,
          4.14767319661259,
          4.181545250484644,
          4.2167355371900825,
          4.253244056728905,
          4.291070809101112,
          4.330215794306704,
          4.370679012345679,
          4.412460463218039,
          4.4555601469237835,
          4.499978063462912,
          4.545714212835425,
          4.592768595041322,
          4.641141210080604,
          4.69083205795327,
          4.74184113865932,
          4.794168452198755,
          4.847813998571574,
          4.902777777777778,
          4.959059789817365,
          5.016660034690338,
          5.075578512396694,
          5.135815222936435,
          5.19737016630956,
          5.26024334251607,
          5.324434751555964,
          5.389944393429242,
          5.4567722681359045,
          5.524918375675951,
          5.594382716049383,
          5.665165289256198,
          5.737266095296398,
          5.810685134169983,
          5.885422405876951,
          5.961477910417305,
          6.038851647791041,
          6.117543617998163,
          6.197553821038669,
          6.27888225691256,
          6.361528925619834,
          6.445493827160494,
          6.530776961534538,
          6.617378328741965,
          6.705297928782777,
          6.794535761656974,
          6.885091827364555,
          6.976966125905521,
          7.070158657279869,
          7.164669421487603,
          7.260498418528721,
          7.357645648403224,
          7.456111111111111,
          7.555894806652383,
          7.656996735027038,
          7.759416896235078,
          7.863155290276503,
          7.968211917151311,
          8.074586776859503,
          8.182279869401082,
          8.291291194776043,
          8.401620752984389,
          8.513268544026118,
          8.626234567901236,
          8.740518824609733,
          8.856121314151617,
          8.973042036526886,
          9.091280991735537,
          9.210838179777573,
          9.331713600652995,
          9.453907254361798,
          9.57741914090399,
          9.702249260279563,
          9.828397612488521,
          9.955864197530865,
          10.08464901540659,
          10.214752066115702,
          10.346173349658198,
          10.478912866034078,
          10.612970615243345,
          10.748346597285991,
          10.885040812162025,
          11.023053259871443,
          11.162383940414243,
          11.30303285379043,
          11.445
         ]
        }
       ],
       "layout": {
        "font": {
         "family": "Montserrat, sans-serif",
         "size": 12
        },
        "height": 500,
        "template": {
         "data": {
          "bar": [
           {
            "error_x": {
             "color": "#2a3f5f"
            },
            "error_y": {
             "color": "#2a3f5f"
            },
            "marker": {
             "line": {
              "color": "white",
              "width": 0.5
             },
             "pattern": {
              "fillmode": "overlay",
              "size": 10,
              "solidity": 0.2
             }
            },
            "type": "bar"
           }
          ],
          "barpolar": [
           {
            "marker": {
             "line": {
              "color": "white",
              "width": 0.5
             },
             "pattern": {
              "fillmode": "overlay",
              "size": 10,
              "solidity": 0.2
             }
            },
            "type": "barpolar"
           }
          ],
          "carpet": [
           {
            "aaxis": {
             "endlinecolor": "#2a3f5f",
             "gridcolor": "#C8D4E3",
             "linecolor": "#C8D4E3",
             "minorgridcolor": "#C8D4E3",
             "startlinecolor": "#2a3f5f"
            },
            "baxis": {
             "endlinecolor": "#2a3f5f",
             "gridcolor": "#C8D4E3",
             "linecolor": "#C8D4E3",
             "minorgridcolor": "#C8D4E3",
             "startlinecolor": "#2a3f5f"
            },
            "type": "carpet"
           }
          ],
          "choropleth": [
           {
            "colorbar": {
             "outlinewidth": 0,
             "ticks": ""
            },
            "type": "choropleth"
           }
          ],
          "contour": [
           {
            "colorbar": {
             "outlinewidth": 0,
             "ticks": ""
            },
            "colorscale": [
             [
              0,
              "#0d0887"
             ],
             [
              0.1111111111111111,
              "#46039f"
             ],
             [
              0.2222222222222222,
              "#7201a8"
             ],
             [
              0.3333333333333333,
              "#9c179e"
             ],
             [
              0.4444444444444444,
              "#bd3786"
             ],
             [
              0.5555555555555556,
              "#d8576b"
             ],
             [
              0.6666666666666666,
              "#ed7953"
             ],
             [
              0.7777777777777778,
              "#fb9f3a"
             ],
             [
              0.8888888888888888,
              "#fdca26"
             ],
             [
              1,
              "#f0f921"
             ]
            ],
            "type": "contour"
           }
          ],
          "contourcarpet": [
           {
            "colorbar": {
             "outlinewidth": 0,
             "ticks": ""
            },
            "type": "contourcarpet"
           }
          ],
          "heatmap": [
           {
            "colorbar": {
             "outlinewidth": 0,
             "ticks": ""
            },
            "colorscale": [
             [
              0,
              "#0d0887"
             ],
             [
              0.1111111111111111,
              "#46039f"
             ],
             [
              0.2222222222222222,
              "#7201a8"
             ],
             [
              0.3333333333333333,
              "#9c179e"
             ],
             [
              0.4444444444444444,
              "#bd3786"
             ],
             [
              0.5555555555555556,
              "#d8576b"
             ],
             [
              0.6666666666666666,
              "#ed7953"
             ],
             [
              0.7777777777777778,
              "#fb9f3a"
             ],
             [
              0.8888888888888888,
              "#fdca26"
             ],
             [
              1,
              "#f0f921"
             ]
            ],
            "type": "heatmap"
           }
          ],
          "heatmapgl": [
           {
            "colorbar": {
             "outlinewidth": 0,
             "ticks": ""
            },
            "colorscale": [
             [
              0,
              "#0d0887"
             ],
             [
              0.1111111111111111,
              "#46039f"
             ],
             [
              0.2222222222222222,
              "#7201a8"
             ],
             [
              0.3333333333333333,
              "#9c179e"
             ],
             [
              0.4444444444444444,
              "#bd3786"
             ],
             [
              0.5555555555555556,
              "#d8576b"
             ],
             [
              0.6666666666666666,
              "#ed7953"
             ],
             [
              0.7777777777777778,
              "#fb9f3a"
             ],
             [
              0.8888888888888888,
              "#fdca26"
             ],
             [
              1,
              "#f0f921"
             ]
            ],
            "type": "heatmapgl"
           }
          ],
          "histogram": [
           {
            "marker": {
             "pattern": {
              "fillmode": "overlay",
              "size": 10,
              "solidity": 0.2
             }
            },
            "type": "histogram"
           }
          ],
          "histogram2d": [
           {
            "colorbar": {
             "outlinewidth": 0,
             "ticks": ""
            },
            "colorscale": [
             [
              0,
              "#0d0887"
             ],
             [
              0.1111111111111111,
              "#46039f"
             ],
             [
              0.2222222222222222,
              "#7201a8"
             ],
             [
              0.3333333333333333,
              "#9c179e"
             ],
             [
              0.4444444444444444,
              "#bd3786"
             ],
             [
              0.5555555555555556,
              "#d8576b"
             ],
             [
              0.6666666666666666,
              "#ed7953"
             ],
             [
              0.7777777777777778,
              "#fb9f3a"
             ],
             [
              0.8888888888888888,
              "#fdca26"
             ],
             [
              1,
              "#f0f921"
             ]
            ],
            "type": "histogram2d"
           }
          ],
          "histogram2dcontour": [
           {
            "colorbar": {
             "outlinewidth": 0,
             "ticks": ""
            },
            "colorscale": [
             [
              0,
              "#0d0887"
             ],
             [
              0.1111111111111111,
              "#46039f"
             ],
             [
              0.2222222222222222,
              "#7201a8"
             ],
             [
              0.3333333333333333,
              "#9c179e"
             ],
             [
              0.4444444444444444,
              "#bd3786"
             ],
             [
              0.5555555555555556,
              "#d8576b"
             ],
             [
              0.6666666666666666,
              "#ed7953"
             ],
             [
              0.7777777777777778,
              "#fb9f3a"
             ],
             [
              0.8888888888888888,
              "#fdca26"
             ],
             [
              1,
              "#f0f921"
             ]
            ],
            "type": "histogram2dcontour"
           }
          ],
          "mesh3d": [
           {
            "colorbar": {
             "outlinewidth": 0,
             "ticks": ""
            },
            "type": "mesh3d"
           }
          ],
          "parcoords": [
           {
            "line": {
             "colorbar": {
              "outlinewidth": 0,
              "ticks": ""
             }
            },
            "type": "parcoords"
           }
          ],
          "pie": [
           {
            "automargin": true,
            "type": "pie"
           }
          ],
          "scatter": [
           {
            "fillpattern": {
             "fillmode": "overlay",
             "size": 10,
             "solidity": 0.2
            },
            "type": "scatter"
           }
          ],
          "scatter3d": [
           {
            "line": {
             "colorbar": {
              "outlinewidth": 0,
              "ticks": ""
             }
            },
            "marker": {
             "colorbar": {
              "outlinewidth": 0,
              "ticks": ""
             }
            },
            "type": "scatter3d"
           }
          ],
          "scattercarpet": [
           {
            "marker": {
             "colorbar": {
              "outlinewidth": 0,
              "ticks": ""
             }
            },
            "type": "scattercarpet"
           }
          ],
          "scattergeo": [
           {
            "marker": {
             "colorbar": {
              "outlinewidth": 0,
              "ticks": ""
             }
            },
            "type": "scattergeo"
           }
          ],
          "scattergl": [
           {
            "marker": {
             "colorbar": {
              "outlinewidth": 0,
              "ticks": ""
             }
            },
            "type": "scattergl"
           }
          ],
          "scattermapbox": [
           {
            "marker": {
             "colorbar": {
              "outlinewidth": 0,
              "ticks": ""
             }
            },
            "type": "scattermapbox"
           }
          ],
          "scatterpolar": [
           {
            "marker": {
             "colorbar": {
              "outlinewidth": 0,
              "ticks": ""
             }
            },
            "type": "scatterpolar"
           }
          ],
          "scatterpolargl": [
           {
            "marker": {
             "colorbar": {
              "outlinewidth": 0,
              "ticks": ""
             }
            },
            "type": "scatterpolargl"
           }
          ],
          "scatterternary": [
           {
            "marker": {
             "colorbar": {
              "outlinewidth": 0,
              "ticks": ""
             }
            },
            "type": "scatterternary"
           }
          ],
          "surface": [
           {
            "colorbar": {
             "outlinewidth": 0,
             "ticks": ""
            },
            "colorscale": [
             [
              0,
              "#0d0887"
             ],
             [
              0.1111111111111111,
              "#46039f"
             ],
             [
              0.2222222222222222,
              "#7201a8"
             ],
             [
              0.3333333333333333,
              "#9c179e"
             ],
             [
              0.4444444444444444,
              "#bd3786"
             ],
             [
              0.5555555555555556,
              "#d8576b"
             ],
             [
              0.6666666666666666,
              "#ed7953"
             ],
             [
              0.7777777777777778,
              "#fb9f3a"
             ],
             [
              0.8888888888888888,
              "#fdca26"
             ],
             [
              1,
              "#f0f921"
             ]
            ],
            "type": "surface"
           }
          ],
          "table": [
           {
            "cells": {
             "fill": {
              "color": "#EBF0F8"
             },
             "line": {
              "color": "white"
             }
            },
            "header": {
             "fill": {
              "color": "#C8D4E3"
             },
             "line": {
              "color": "white"
             }
            },
            "type": "table"
           }
          ]
         },
         "layout": {
          "annotationdefaults": {
           "arrowcolor": "#2a3f5f",
           "arrowhead": 0,
           "arrowwidth": 1
          },
          "autotypenumbers": "strict",
          "coloraxis": {
           "colorbar": {
            "outlinewidth": 0,
            "ticks": ""
           }
          },
          "colorscale": {
           "diverging": [
            [
             0,
             "#8e0152"
            ],
            [
             0.1,
             "#c51b7d"
            ],
            [
             0.2,
             "#de77ae"
            ],
            [
             0.3,
             "#f1b6da"
            ],
            [
             0.4,
             "#fde0ef"
            ],
            [
             0.5,
             "#f7f7f7"
            ],
            [
             0.6,
             "#e6f5d0"
            ],
            [
             0.7,
             "#b8e186"
            ],
            [
             0.8,
             "#7fbc41"
            ],
            [
             0.9,
             "#4d9221"
            ],
            [
             1,
             "#276419"
            ]
           ],
           "sequential": [
            [
             0,
             "#0d0887"
            ],
            [
             0.1111111111111111,
             "#46039f"
            ],
            [
             0.2222222222222222,
             "#7201a8"
            ],
            [
             0.3333333333333333,
             "#9c179e"
            ],
            [
             0.4444444444444444,
             "#bd3786"
            ],
            [
             0.5555555555555556,
             "#d8576b"
            ],
            [
             0.6666666666666666,
             "#ed7953"
            ],
            [
             0.7777777777777778,
             "#fb9f3a"
            ],
            [
             0.8888888888888888,
             "#fdca26"
            ],
            [
             1,
             "#f0f921"
            ]
           ],
           "sequentialminus": [
            [
             0,
             "#0d0887"
            ],
            [
             0.1111111111111111,
             "#46039f"
            ],
            [
             0.2222222222222222,
             "#7201a8"
            ],
            [
             0.3333333333333333,
             "#9c179e"
            ],
            [
             0.4444444444444444,
             "#bd3786"
            ],
            [
             0.5555555555555556,
             "#d8576b"
            ],
            [
             0.6666666666666666,
             "#ed7953"
            ],
            [
             0.7777777777777778,
             "#fb9f3a"
            ],
            [
             0.8888888888888888,
             "#fdca26"
            ],
            [
             1,
             "#f0f921"
            ]
           ]
          },
          "colorway": [
           "#636efa",
           "#EF553B",
           "#00cc96",
           "#ab63fa",
           "#FFA15A",
           "#19d3f3",
           "#FF6692",
           "#B6E880",
           "#FF97FF",
           "#FECB52"
          ],
          "font": {
           "color": "#2a3f5f"
          },
          "geo": {
           "bgcolor": "white",
           "lakecolor": "white",
           "landcolor": "white",
           "showlakes": true,
           "showland": true,
           "subunitcolor": "#C8D4E3"
          },
          "hoverlabel": {
           "align": "left"
          },
          "hovermode": "closest",
          "mapbox": {
           "style": "light"
          },
          "paper_bgcolor": "white",
          "plot_bgcolor": "white",
          "polar": {
           "angularaxis": {
            "gridcolor": "#EBF0F8",
            "linecolor": "#EBF0F8",
            "ticks": ""
           },
           "bgcolor": "white",
           "radialaxis": {
            "gridcolor": "#EBF0F8",
            "linecolor": "#EBF0F8",
            "ticks": ""
           }
          },
          "scene": {
           "xaxis": {
            "backgroundcolor": "white",
            "gridcolor": "#DFE8F3",
            "gridwidth": 2,
            "linecolor": "#EBF0F8",
            "showbackground": true,
            "ticks": "",
            "zerolinecolor": "#EBF0F8"
           },
           "yaxis": {
            "backgroundcolor": "white",
            "gridcolor": "#DFE8F3",
            "gridwidth": 2,
            "linecolor": "#EBF0F8",
            "showbackground": true,
            "ticks": "",
            "zerolinecolor": "#EBF0F8"
           },
           "zaxis": {
            "backgroundcolor": "white",
            "gridcolor": "#DFE8F3",
            "gridwidth": 2,
            "linecolor": "#EBF0F8",
            "showbackground": true,
            "ticks": "",
            "zerolinecolor": "#EBF0F8"
           }
          },
          "shapedefaults": {
           "line": {
            "color": "#2a3f5f"
           }
          },
          "ternary": {
           "aaxis": {
            "gridcolor": "#DFE8F3",
            "linecolor": "#A2B1C6",
            "ticks": ""
           },
           "baxis": {
            "gridcolor": "#DFE8F3",
            "linecolor": "#A2B1C6",
            "ticks": ""
           },
           "bgcolor": "white",
           "caxis": {
            "gridcolor": "#DFE8F3",
            "linecolor": "#A2B1C6",
            "ticks": ""
           }
          },
          "title": {
           "x": 0.05
          },
          "xaxis": {
           "automargin": true,
           "gridcolor": "#EBF0F8",
           "linecolor": "#EBF0F8",
           "ticks": "",
           "title": {
            "standoff": 15
           },
           "zerolinecolor": "#EBF0F8",
           "zerolinewidth": 2
          },
          "yaxis": {
           "automargin": true,
           "gridcolor": "#EBF0F8",
           "linecolor": "#EBF0F8",
           "ticks": "",
           "title": {
            "standoff": 15
           },
           "zerolinecolor": "#EBF0F8",
           "zerolinewidth": 2
          }
         }
        },
        "title": {
         "text": "Fuel Consumption vs. Slope"
        },
        "width": 800,
        "xaxis": {
         "title": {
          "text": "Slope [%]"
         }
        },
        "yaxis": {
         "title": {
          "text": "Fuel Consumption [L/100km]"
         }
        }
       }
      }
     },
     "metadata": {},
     "output_type": "display_data"
    }
   ],
   "source": [
    "import numpy as np\n",
    "import plotly.graph_objects as go\n",
    "\n",
    "# Define the slope range\n",
    "slope_range = np.linspace(-5, 5, 100)\n",
    "\n",
    "# Calculate fuel consumption using the provided function\n",
    "fuel_consumption = [get_fuel_consumption(slope) for slope in slope_range]\n",
    "\n",
    "# Create a Plotly figure\n",
    "fig = go.Figure()\n",
    "\n",
    "# Add the fuel consumption line\n",
    "fig.add_trace(go.Scatter(\n",
    "    x=slope_range,\n",
    "    y=fuel_consumption,\n",
    "    mode='lines',\n",
    "    line=dict(color='blue', width=2),\n",
    "    name='Fuel Consumption'\n",
    "))\n",
    "\n",
    "# Update the layout\n",
    "fig.update_layout(\n",
    "    title=\"Fuel Consumption vs. Slope\",\n",
    "    xaxis_title=\"Slope [%]\",\n",
    "    yaxis_title=\"Fuel Consumption [L/100km]\",\n",
    "    template=\"plotly_white\",\n",
    "    font=dict(family=\"Montserrat, sans-serif\", size=12),\n",
    "    width=800,\n",
    "    height=500\n",
    ")\n",
    "\n",
    "# Show the plot\n",
    "fig.show()"
   ]
  },
  {
   "cell_type": "code",
   "execution_count": 166,
   "metadata": {},
   "outputs": [],
   "source": [
    "import plotly.graph_objects as go\n",
    "\n",
    "\n",
    "def plot_elevation_profile(row, verbose=False, showfig=True, savefig=False):\n",
    "    # Extract the ID for naming\n",
    "    ajDi = df.iloc[row][\"ID\"]\n",
    "\n",
    "    # Extract Clear and Alt routes for the specified row\n",
    "    clear_route = df.iloc[row][\"Clear_Route\"]\n",
    "    alt_route = df.iloc[row][\"Alt_Route\"]\n",
    "\n",
    "    if verbose:\n",
    "        print(f\"Processing row {row} with ID {ajDi}...\")\n",
    "        print(f\"Clear Route Points: {\n",
    "              len(clear_route)}, Alt Route Points: {len(alt_route)}\")\n",
    "\n",
    "    # Extract distances, elevations, and slopes for Clear and Alt routes\n",
    "    clear_distances = [point[\"cumulative_distance\"] /\n",
    "                       1000 for point in clear_route]  # Convert to kilometers\n",
    "    clear_elevations = [point[\"elevation\"] for point in clear_route]\n",
    "    clear_slopes = [point[\"slope\"] for point in clear_route]\n",
    "\n",
    "    alt_distances = [point[\"cumulative_distance\"] /\n",
    "                     1000 for point in alt_route]  # Convert to kilometers\n",
    "    alt_elevations = [point[\"elevation\"] for point in alt_route]\n",
    "    alt_slopes = [point[\"slope\"] for point in alt_route]\n",
    "\n",
    "    # Calculate the elevation range\n",
    "    min_elevation = min(min(clear_elevations), min(alt_elevations))\n",
    "    max_elevation = max(max(clear_elevations), max(alt_elevations))\n",
    "\n",
    "    # Add a buffer of ±5 meters\n",
    "    y_min = min_elevation - 5\n",
    "    y_max = max_elevation + 5\n",
    "\n",
    "    # Create a Plotly figure\n",
    "    fig = go.Figure()\n",
    "\n",
    "    # Set font to Montserrat for the entire figure\n",
    "    fig.update_layout(\n",
    "        font=dict(\n",
    "            family=\"Montserrat, sans-serif\",  # Set the font family\n",
    "            size=12  # Optional: Adjust the font size\n",
    "        )\n",
    "    )\n",
    "\n",
    "    # Add the alternative route's elevation profile\n",
    "    fig.add_trace(go.Scatter(\n",
    "        x=alt_distances,\n",
    "        y=alt_elevations,\n",
    "        mode=\"lines\",\n",
    "        name=\"Obchádzka\",\n",
    "        line=dict(color=\"red\"),\n",
    "        fill='tozeroy',  # Fill area under the line to the x-axis (y=0)\n",
    "        fillcolor='rgba(255, 99, 71, 0.3)'  # Transparent red fill\n",
    "    ))\n",
    "\n",
    "    # Add the clear route's elevation profile\n",
    "    fig.add_trace(go.Scatter(\n",
    "        x=clear_distances,\n",
    "        y=clear_elevations,\n",
    "        mode=\"lines\",\n",
    "        name=\"Priama trasa\",\n",
    "        line=dict(color=\"green\"),\n",
    "        fill='tozeroy',  # Fill area under the line to the x-axis (y=0)\n",
    "        fillcolor='rgba(8, 132, 9, 0.3)'  # Transparent blue fill\n",
    "    ))\n",
    "\n",
    "    # Add the alternative route's slope as step-like lines\n",
    "    fig.add_trace(go.Scatter(\n",
    "        x=alt_distances,\n",
    "        y=alt_slopes,\n",
    "        mode=\"lines\",\n",
    "        name=\"Sklon obchádzky\",\n",
    "        line=dict(color=\"red\", dash=\"solid\", width=1),  # Set line width to 1\n",
    "        opacity=0.7,  # Set line opacity to 0.7\n",
    "        yaxis=\"y2\",  # Use secondary Y-axis\n",
    "        line_shape=\"hv\"  # Step-like lines\n",
    "    ))\n",
    "\n",
    "    # Add the clear route's slope as step-like lines\n",
    "    fig.add_trace(go.Scatter(\n",
    "        x=clear_distances,\n",
    "        y=clear_slopes,\n",
    "        mode=\"lines\",\n",
    "        name=\"Sklon priamej trasy\",\n",
    "        line=dict(color=\"green\", dash=\"solid\", width=1),  # Set line width to 1\n",
    "        opacity=0.7,  # Set line opacity to 0.7\n",
    "        yaxis=\"y2\",  # Use secondary Y-axis\n",
    "        line_shape=\"hv\"  # Step-like lines\n",
    "    ))\n",
    "\n",
    "    # Update the layout\n",
    "    fig.update_layout(\n",
    "        title=f\"Výškové profily priamej trasy a obchádzky mosta {ajDi}\",\n",
    "        xaxis_title=\"Vzdialenosť [km]\",\n",
    "        yaxis=dict(\n",
    "            title=\"Nadmorská výška [m n. m.]\",\n",
    "            range=[y_min, y_max],\n",
    "            showgrid=True\n",
    "        ),\n",
    "        yaxis2=dict(\n",
    "            title=\"Sklon [%]\",\n",
    "            overlaying=\"y\",\n",
    "            side=\"right\",\n",
    "            showgrid=False\n",
    "        ),\n",
    "        legend=dict(\n",
    "            title=\"Legenda\",\n",
    "            orientation=\"h\",\n",
    "            yanchor=\"bottom\",\n",
    "            y=1.02,\n",
    "            xanchor=\"center\",\n",
    "            x=0.5\n",
    "        ),\n",
    "        template=\"plotly_white\",\n",
    "        width=800,  # Set the width of the plot\n",
    "        height=400   # Set the height of the plot\n",
    "    )\n",
    "\n",
    "    # Show the plot if requested\n",
    "    if showfig:\n",
    "        fig.show()\n",
    "\n",
    "    # Save the plot to a file if requested\n",
    "    if savefig:\n",
    "        filename = f\"{ajDi}_elev_profile.png\"\n",
    "        fig.write_image(filename)\n",
    "        if verbose:\n",
    "            print(f\"Figure saved as {filename}\")"
   ]
  },
  {
   "cell_type": "code",
   "execution_count": null,
   "metadata": {},
   "outputs": [],
   "source": []
  },
  {
   "cell_type": "code",
   "execution_count": 167,
   "metadata": {},
   "outputs": [
    {
     "data": {
      "application/vnd.plotly.v1+json": {
       "config": {
        "plotlyServerURL": "https://plot.ly"
       },
       "data": [
        {
         "fill": "tozeroy",
         "fillcolor": "rgba(255, 99, 71, 0.3)",
         "line": {
          "color": "red"
         },
         "mode": "lines",
         "name": "Obchádzka",
         "type": "scatter",
         "x": [
          0,
          0.06415043595940839,
          0.10062554327420331,
          0.17115423946570935,
          0.23571900890188802,
          0.25199598088777564,
          0.44067151218800993,
          0.5001383041483537,
          0.5350369991200484,
          0.9178478126433767,
          1.079028249036376,
          1.5587528903833925,
          1.9442930863453978,
          2.007422371864744,
          2.7310137460623367,
          2.781228642200011,
          2.8013636576392846,
          2.849646839138702,
          3.4304471791062703,
          3.586334350034327,
          4.050098251743442,
          4.390334340649494,
          4.473813824657553,
          4.632783120911015,
          4.795643593002338,
          4.815335298676439,
          4.88444467889447,
          5.142598014786682,
          5.166530580070035,
          5.188842430662037,
          5.27762874109172,
          5.324695612359224,
          6.108828745750367,
          6.273380814479995,
          6.2900275571584086,
          6.339017754185868,
          6.39991741278133,
          6.855154174388422,
          7.002923160379028,
          7.484008607244465,
          7.496254027415322,
          7.7888385063462575,
          7.808061886914055,
          7.827451999017871,
          7.838650473906414,
          7.884257515790029,
          7.903276573968681,
          7.939376771192847,
          7.9550406727559935,
          8.002334358683813,
          8.027242052684974,
          8.048571818976225,
          8.067375157086289,
          8.111740336634183,
          8.199796317945424,
          8.281678265763075,
          8.341777421364794,
          8.374034409657849,
          8.425102425356485,
          8.78383399642857,
          9.328761854600359,
          9.555587270042722,
          9.655169856564191,
          9.82257639778183,
          10.01846038259335,
          10.247965696644957,
          10.890626003516171,
          11.323832279319573,
          11.56465878471963,
          11.60365236861748,
          11.615041092455604,
          11.62650234331785,
          11.637976880455476,
          11.645662238499606,
          11.653248278749295,
          11.660940601132378,
          11.671809645105206,
          11.682672277473708,
          11.69349742696885,
          11.708629917680039,
          11.731257279265401,
          11.76235169499843,
          11.952251431946513,
          12.0881719993674,
          12.15971433350877,
          12.22284659446498,
          12.271789393067303,
          12.334202765745676,
          12.407239423125647,
          12.485722132781783,
          12.705660541575476,
          12.8467886174862,
          12.931473790602803,
          13.051893436543683,
          13.188954062243067,
          13.628794592057774,
          14.301143463381802,
          14.690056616844448,
          14.800720445798865,
          14.871827221453527,
          15.069225617553895,
          15.113178218986,
          15.125591494011415,
          15.186087942058615,
          15.225757138689627,
          15.363373164835902,
          15.432916907201932,
          15.547894634953506,
          15.628100078660117,
          16.105023680527186,
          16.16877650318415,
          16.22327520162493,
          16.245280096434538,
          16.321795405668354,
          16.393343790999317,
          16.436815529667406,
          16.452537750850393,
          16.478361638533983,
          16.503325525768293,
          16.509553223029656,
          16.52853189721999,
          16.547904379543358,
          16.567464849124327,
          16.583115065988004,
          16.668173082307227,
          16.718509904694855,
          16.861327263015383,
          16.896199838589204,
          16.910664237167076,
          16.927314599065355,
          17.009990756580436,
          17.318451401701434,
          17.33791571164029,
          17.360835537912227,
          17.43452947775495,
          17.62294433918187,
          17.79017728054772,
          17.90952810194533,
          18.1549423706326,
          18.2152199464621,
          18.272772509234812,
          18.3304250720966,
          18.3585753094539,
          18.378316074979715,
          18.441009098946317,
          18.485993022840763,
          18.580372192098373,
          18.616001242766828,
          18.62672805192443,
          18.63329301746098
         ],
         "y": [
          120.4,
          120,
          119.1,
          117.3,
          118,
          118.1,
          118.4,
          118,
          117.8,
          117.4,
          117.7,
          118,
          115.5,
          115.5,
          115.8,
          115.8,
          115.8,
          115.9,
          116,
          116,
          116,
          115.5,
          115.3,
          115,
          114.5,
          114.4,
          115,
          114.9,
          114.9,
          114.9,
          114.9,
          114.9,
          114.7,
          115.5,
          115.8,
          115.8,
          115.7,
          116,
          115.8,
          114.6,
          114.9,
          115,
          115,
          115,
          115.2,
          115.9,
          115.8,
          115.6,
          115.6,
          115.4,
          115.3,
          115.2,
          115.1,
          114.9,
          115.6,
          116,
          116,
          116.1,
          116.7,
          116.8,
          117.2,
          117.3,
          117.2,
          116.9,
          116.5,
          116.1,
          116.8,
          117.3,
          117.5,
          117.1,
          117.3,
          117.4,
          117.6,
          117.6,
          117.6,
          117.7,
          118,
          118.3,
          118.6,
          118.8,
          119.1,
          119.1,
          118.8,
          119.1,
          119.2,
          119.4,
          119.5,
          119.6,
          119.8,
          119.9,
          119.6,
          118.8,
          119.5,
          119.6,
          119.7,
          120,
          120.4,
          120.7,
          120.8,
          120.8,
          121.5,
          122.1,
          122.2,
          123.7,
          124,
          123.1,
          123,
          124,
          124.5,
          123.6,
          123,
          123.2,
          123.3,
          123.4,
          123.1,
          123.4,
          123.5,
          123.8,
          123.9,
          123.9,
          124,
          123.9,
          123.8,
          123.8,
          123.8,
          123.2,
          122.8,
          123,
          123,
          123.1,
          123.5,
          124.5,
          124.5,
          124.6,
          124.7,
          126.4,
          124.9,
          125.5,
          124.5,
          124.7,
          126.6,
          126.9,
          127.1,
          127.2,
          127.7,
          127.6,
          126.2,
          126.2,
          126.3,
          126.3
         ]
        },
        {
         "fill": "tozeroy",
         "fillcolor": "rgba(8, 132, 9, 0.3)",
         "line": {
          "color": "green"
         },
         "mode": "lines",
         "name": "Priama trasa",
         "type": "scatter",
         "x": [
          0,
          0.06415043595940839,
          0.13880952529046203,
          0.17928824150364758,
          0.1978118126418379,
          0.21368750311492116,
          0.3119660698436663,
          0.3675443293577735,
          0.532496306005173,
          0.5632093350621555,
          0.5949643370993399,
          0.6139937878995401,
          0.624811987362348,
          0.6392215690246397,
          0.691052531155198,
          0.7762270563290772,
          0.8543598582185634,
          1.1124199507116583,
          1.2627930750814298,
          1.5845607344862056,
          1.684486473429852,
          1.707298995661509,
          1.7286699731705457,
          1.763837461565983,
          1.791119344932773,
          1.815348244031053,
          1.8322395998846401,
          1.865685794027392,
          1.8977372874378082,
          1.95056823732617,
          1.9920387120997505,
          2.017056193151588,
          2.2245781268281735,
          2.2832373785111417,
          2.413113161473434,
          2.4549383976452805,
          2.506624995825325,
          2.591809696281421,
          2.6392416786151536,
          2.6881871463455735,
          2.7642800647421883,
          2.968765334794219,
          3.117430971025421,
          3.1297390204522175,
          3.1420899751494957,
          3.1543679856233684,
          3.1655138389726343,
          3.2743640203949016,
          3.314758950846031,
          3.319578170112761,
          3.3353228397660404,
          3.360735900032186,
          3.3753813607335212,
          3.461007646255305,
          3.4936611779366222,
          3.5539112561853843,
          3.5829880776548166,
          3.666322714778492,
          3.69800206677743,
          3.713724287960417,
          3.743032806286159,
          3.7526616356707403,
          3.7707528565279076,
          3.789731530718244,
          3.8091040130416087,
          3.828664482622578,
          3.844314699486256,
          3.9293727158054783,
          3.979709538193105,
          4.122526896513634,
          4.1573994720874525,
          4.171863870665325,
          4.188514232563603,
          4.271190390078685,
          4.579651035199684,
          4.599115345138539,
          4.622035171410476,
          4.6957291112532,
          4.884143972680121,
          5.051376914045969,
          5.17072773544358,
          5.416142004130851,
          5.476419579960352,
          5.533972142733063,
          5.591624705594849,
          5.619774942952149,
          5.639515708477962,
          5.702208732444568,
          5.757263646528836,
          5.841549930346581,
          5.877178981015032,
          5.887905790172637,
          5.894470755709184
         ],
         "y": [
          120.4,
          120,
          119.8,
          119.7,
          119.6,
          119.6,
          119.8,
          120.2,
          121.3,
          121.1,
          120.7,
          120.5,
          120.4,
          120.2,
          119.7,
          119.2,
          118.9,
          118,
          118.6,
          120.4,
          120.6,
          120.7,
          120.7,
          120.8,
          120.8,
          121.2,
          121.4,
          121.8,
          122.2,
          121.7,
          121.3,
          121,
          120.7,
          120.6,
          120.4,
          121,
          121.8,
          122.3,
          122.5,
          122.8,
          123.2,
          122.4,
          122.6,
          122.6,
          122.6,
          122.6,
          122.7,
          122.8,
          122.8,
          122.8,
          122.9,
          122.9,
          122.9,
          123.2,
          123.3,
          123.5,
          123.4,
          123.2,
          123.4,
          123.5,
          123.8,
          123.8,
          123.9,
          124,
          123.9,
          123.8,
          123.7,
          123.4,
          123.2,
          122.8,
          123,
          123,
          123.1,
          123.5,
          124.5,
          124.5,
          124.6,
          124.7,
          126.4,
          124.9,
          125.5,
          124.5,
          124.7,
          126.6,
          126.9,
          127.1,
          127.2,
          127.7,
          127.5,
          126.3,
          126.3,
          126.3,
          126.4
         ]
        },
        {
         "line": {
          "color": "red",
          "dash": "solid",
          "shape": "hv",
          "width": 1
         },
         "mode": "lines",
         "name": "Sklon obchádzky",
         "opacity": 0.7,
         "type": "scatter",
         "x": [
          0,
          0.06415043595940839,
          0.10062554327420331,
          0.17115423946570935,
          0.23571900890188802,
          0.25199598088777564,
          0.44067151218800993,
          0.5001383041483537,
          0.5350369991200484,
          0.9178478126433767,
          1.079028249036376,
          1.5587528903833925,
          1.9442930863453978,
          2.007422371864744,
          2.7310137460623367,
          2.781228642200011,
          2.8013636576392846,
          2.849646839138702,
          3.4304471791062703,
          3.586334350034327,
          4.050098251743442,
          4.390334340649494,
          4.473813824657553,
          4.632783120911015,
          4.795643593002338,
          4.815335298676439,
          4.88444467889447,
          5.142598014786682,
          5.166530580070035,
          5.188842430662037,
          5.27762874109172,
          5.324695612359224,
          6.108828745750367,
          6.273380814479995,
          6.2900275571584086,
          6.339017754185868,
          6.39991741278133,
          6.855154174388422,
          7.002923160379028,
          7.484008607244465,
          7.496254027415322,
          7.7888385063462575,
          7.808061886914055,
          7.827451999017871,
          7.838650473906414,
          7.884257515790029,
          7.903276573968681,
          7.939376771192847,
          7.9550406727559935,
          8.002334358683813,
          8.027242052684974,
          8.048571818976225,
          8.067375157086289,
          8.111740336634183,
          8.199796317945424,
          8.281678265763075,
          8.341777421364794,
          8.374034409657849,
          8.425102425356485,
          8.78383399642857,
          9.328761854600359,
          9.555587270042722,
          9.655169856564191,
          9.82257639778183,
          10.01846038259335,
          10.247965696644957,
          10.890626003516171,
          11.323832279319573,
          11.56465878471963,
          11.60365236861748,
          11.615041092455604,
          11.62650234331785,
          11.637976880455476,
          11.645662238499606,
          11.653248278749295,
          11.660940601132378,
          11.671809645105206,
          11.682672277473708,
          11.69349742696885,
          11.708629917680039,
          11.731257279265401,
          11.76235169499843,
          11.952251431946513,
          12.0881719993674,
          12.15971433350877,
          12.22284659446498,
          12.271789393067303,
          12.334202765745676,
          12.407239423125647,
          12.485722132781783,
          12.705660541575476,
          12.8467886174862,
          12.931473790602803,
          13.051893436543683,
          13.188954062243067,
          13.628794592057774,
          14.301143463381802,
          14.690056616844448,
          14.800720445798865,
          14.871827221453527,
          15.069225617553895,
          15.113178218986,
          15.125591494011415,
          15.186087942058615,
          15.225757138689627,
          15.363373164835902,
          15.432916907201932,
          15.547894634953506,
          15.628100078660117,
          16.105023680527186,
          16.16877650318415,
          16.22327520162493,
          16.245280096434538,
          16.321795405668354,
          16.393343790999317,
          16.436815529667406,
          16.452537750850393,
          16.478361638533983,
          16.503325525768293,
          16.509553223029656,
          16.52853189721999,
          16.547904379543358,
          16.567464849124327,
          16.583115065988004,
          16.668173082307227,
          16.718509904694855,
          16.861327263015383,
          16.896199838589204,
          16.910664237167076,
          16.927314599065355,
          17.009990756580436,
          17.318451401701434,
          17.33791571164029,
          17.360835537912227,
          17.43452947775495,
          17.62294433918187,
          17.79017728054772,
          17.90952810194533,
          18.1549423706326,
          18.2152199464621,
          18.272772509234812,
          18.3304250720966,
          18.3585753094539,
          18.378316074979715,
          18.441009098946317,
          18.485993022840763,
          18.580372192098373,
          18.616001242766828,
          18.62672805192443,
          18.63329301746098
         ],
         "y": [
          0,
          -0.6235343439491327,
          -2.467436194861998,
          -2.5521526657921925,
          1.0841826062616748,
          0.6143648836325059,
          0.15900312983490658,
          -0.6726443226780274,
          -0.5730873322404069,
          -0.10449025624915263,
          0.18612680714458402,
          0.06253587457121833,
          -0.6484408178924027,
          0,
          0.041459864047256496,
          0,
          0,
          0.20711145557219612,
          0.017217620775769226,
          0,
          0,
          -0.14695677980770153,
          -0.23957982296667615,
          -0.1887156872869793,
          -0.30701126773084014,
          -0.5078280249309038,
          0.8681889464311165,
          -0.03873666774608254,
          0,
          0,
          0,
          0,
          -0.025505872852874093,
          0.4861683029427367,
          1.802154366145245,
          0,
          -0.1642045330077504,
          0.0658997746449403,
          -0.13534639806807355,
          -0.24943593862976582,
          2.4498955186036957,
          0.0341781629583978,
          0,
          0,
          1.7859574807335825,
          1.5348506964918531,
          -0.5257883911005432,
          -0.5540135937709518,
          0,
          -0.42288943243974253,
          -0.40148236924439035,
          -0.46882839049681146,
          -0.5318204640828,
          -0.45080399096342116,
          0.7949488377465085,
          0.4885081640837221,
          0,
          0.3100103428487989,
          1.1749036883295734,
          0.027875996445236174,
          0.07340421195238403,
          0.04408677034933261,
          -0.10041916312189281,
          -0.17920446705244295,
          -0.20420250301977746,
          -0.17428790337728678,
          0.10892223971446857,
          0.11541845719402997,
          0.0830473371972768,
          -1.025809787189271,
          1.7561230111710089,
          0.8725051148599389,
          1.7429896962393439,
          0,
          0,
          1.299997517264085,
          2.760132360766476,
          2.7617615125213444,
          2.7713243141320976,
          1.3216594929223284,
          1.3258284615651592,
          0,
          -0.15797810192965792,
          0.22071714803178305,
          0.13977737964546302,
          0.3167952437799196,
          0.2043201509838588,
          0.16022207374581662,
          0.2738350948339656,
          0.1274165997047637,
          -0.1364018234220368,
          -0.5668609841361913,
          0.8265909771905,
          0.08304292810252109,
          0.07296041404286294,
          0.06820653843027577,
          0.05949292354909485,
          0.07713804414404112,
          0.09036376288876134,
          0,
          0.3546128103513475,
          1.3651069116507748,
          0.8055891760657461,
          2.479484413414933,
          0.7562542866458526,
          -0.6539935974051276,
          -0.143794389829732,
          0.8697336602099632,
          0.623399082272994,
          -0.18870946970891572,
          -0.9411347999890093,
          0.36698124124439463,
          0.4544443446115629,
          0.130692799913321,
          -0.4192966740091786,
          0.6901035228670611,
          0.636042444869094,
          1.1617150898261388,
          0.4005786401028197,
          0,
          0.5269071959247298,
          -0.5161961091552533,
          -0.511235170434244,
          0,
          0,
          -1.1919703539877882,
          -0.2800779994139604,
          0.5735165720026552,
          0,
          0.6005875464504776,
          0.4838154215464522,
          0.32419046507788085,
          0,
          0.4363034815950252,
          0.13569636826776743,
          0.9022642837860013,
          -0.8969524710556367,
          0.50271962352159,
          -0.4074742700777066,
          0.33179834664505703,
          3.3013299642337923,
          0.520358480366646,
          0.7104735830872806,
          0.5065659681193545,
          0.7975369002240751,
          -0.22230163876912562,
          -1.4833781765747704,
          0,
          0.9322436759220158,
          0
         ],
         "yaxis": "y2"
        },
        {
         "line": {
          "color": "green",
          "dash": "solid",
          "shape": "hv",
          "width": 1
         },
         "mode": "lines",
         "name": "Sklon priamej trasy",
         "opacity": 0.7,
         "type": "scatter",
         "x": [
          0,
          0.06415043595940839,
          0.13880952529046203,
          0.17928824150364758,
          0.1978118126418379,
          0.21368750311492116,
          0.3119660698436663,
          0.3675443293577735,
          0.532496306005173,
          0.5632093350621555,
          0.5949643370993399,
          0.6139937878995401,
          0.624811987362348,
          0.6392215690246397,
          0.691052531155198,
          0.7762270563290772,
          0.8543598582185634,
          1.1124199507116583,
          1.2627930750814298,
          1.5845607344862056,
          1.684486473429852,
          1.707298995661509,
          1.7286699731705457,
          1.763837461565983,
          1.791119344932773,
          1.815348244031053,
          1.8322395998846401,
          1.865685794027392,
          1.8977372874378082,
          1.95056823732617,
          1.9920387120997505,
          2.017056193151588,
          2.2245781268281735,
          2.2832373785111417,
          2.413113161473434,
          2.4549383976452805,
          2.506624995825325,
          2.591809696281421,
          2.6392416786151536,
          2.6881871463455735,
          2.7642800647421883,
          2.968765334794219,
          3.117430971025421,
          3.1297390204522175,
          3.1420899751494957,
          3.1543679856233684,
          3.1655138389726343,
          3.2743640203949016,
          3.314758950846031,
          3.319578170112761,
          3.3353228397660404,
          3.360735900032186,
          3.3753813607335212,
          3.461007646255305,
          3.4936611779366222,
          3.5539112561853843,
          3.5829880776548166,
          3.666322714778492,
          3.69800206677743,
          3.713724287960417,
          3.743032806286159,
          3.7526616356707403,
          3.7707528565279076,
          3.789731530718244,
          3.8091040130416087,
          3.828664482622578,
          3.844314699486256,
          3.9293727158054783,
          3.979709538193105,
          4.122526896513634,
          4.1573994720874525,
          4.171863870665325,
          4.188514232563603,
          4.271190390078685,
          4.579651035199684,
          4.599115345138539,
          4.622035171410476,
          4.6957291112532,
          4.884143972680121,
          5.051376914045969,
          5.17072773544358,
          5.416142004130851,
          5.476419579960352,
          5.533972142733063,
          5.591624705594849,
          5.619774942952149,
          5.639515708477962,
          5.702208732444568,
          5.757263646528836,
          5.841549930346581,
          5.877178981015032,
          5.887905790172637,
          5.894470755709184
         ],
         "y": [
          0,
          -0.6235343439491327,
          -0.26788432834100345,
          -0.247043407882141,
          -0.5398527057983816,
          0,
          0.20350317129879908,
          0.719705876896839,
          0.6668607569046286,
          -0.6511894337381636,
          -1.2596440697172715,
          -1.0510024808382747,
          -0.9243682402398498,
          -1.3879653461653298,
          -0.9646743557268664,
          -0.5870299822385596,
          -0.38396165598198767,
          -0.3487559782317318,
          0.3990074705933347,
          0.559409855959345,
          0.20014863248875234,
          0.4383557371891049,
          0,
          0.28435354517090816,
          0,
          1.650921068998952,
          1.1840375736180548,
          1.1959507210080342,
          1.2479917702368761,
          -0.9464149349132647,
          -0.9645416460359225,
          -1.1991614958292034,
          -0.14456303229495476,
          -0.1704760922291882,
          -0.15399329685508528,
          1.4345406145102921,
          1.5477900039257586,
          0.5869598617156575,
          0.42165642286000016,
          0.6129270265682709,
          0.525673096036494,
          -0.3912262236768649,
          0.13453008043429207,
          0,
          0,
          0,
          0.897194650480433,
          0.0918693921253655,
          0,
          0,
          0.635135586850371,
          0,
          0,
          0.3503597034156944,
          0.30624558769307686,
          0.33194977635420886,
          -0.3439165457102043,
          -0.2399962451425657,
          0.6313260448215791,
          0.636042444869094,
          1.023593197942396,
          0,
          0.5527542933090235,
          0.5269071959247298,
          -0.5161961091552533,
          -0.511235170434244,
          -0.6389687815258543,
          -0.3527004425709827,
          -0.39732345132927216,
          -0.2800779994139604,
          0.5735165720026552,
          0,
          0.6005875464504776,
          0.4838154215464522,
          0.32419046507788085,
          0,
          0.4363034815950252,
          0.13569636826776743,
          0.9022642837860013,
          -0.8969524710556367,
          0.50271962352159,
          -0.4074742700777066,
          0.33179834664505703,
          3.3013299642337923,
          0.520358480366646,
          0.7104735830872806,
          0.5065659681193545,
          0.7975369002240751,
          -0.36327365745022666,
          -1.4237191932613995,
          0,
          0,
          1.5232372423479645
         ],
         "yaxis": "y2"
        }
       ],
       "layout": {
        "font": {
         "family": "Montserrat, sans-serif",
         "size": 12
        },
        "height": 400,
        "legend": {
         "orientation": "h",
         "title": {
          "text": "Legenda"
         },
         "x": 0.5,
         "xanchor": "center",
         "y": 1.02,
         "yanchor": "bottom"
        },
        "template": {
         "data": {
          "bar": [
           {
            "error_x": {
             "color": "#2a3f5f"
            },
            "error_y": {
             "color": "#2a3f5f"
            },
            "marker": {
             "line": {
              "color": "white",
              "width": 0.5
             },
             "pattern": {
              "fillmode": "overlay",
              "size": 10,
              "solidity": 0.2
             }
            },
            "type": "bar"
           }
          ],
          "barpolar": [
           {
            "marker": {
             "line": {
              "color": "white",
              "width": 0.5
             },
             "pattern": {
              "fillmode": "overlay",
              "size": 10,
              "solidity": 0.2
             }
            },
            "type": "barpolar"
           }
          ],
          "carpet": [
           {
            "aaxis": {
             "endlinecolor": "#2a3f5f",
             "gridcolor": "#C8D4E3",
             "linecolor": "#C8D4E3",
             "minorgridcolor": "#C8D4E3",
             "startlinecolor": "#2a3f5f"
            },
            "baxis": {
             "endlinecolor": "#2a3f5f",
             "gridcolor": "#C8D4E3",
             "linecolor": "#C8D4E3",
             "minorgridcolor": "#C8D4E3",
             "startlinecolor": "#2a3f5f"
            },
            "type": "carpet"
           }
          ],
          "choropleth": [
           {
            "colorbar": {
             "outlinewidth": 0,
             "ticks": ""
            },
            "type": "choropleth"
           }
          ],
          "contour": [
           {
            "colorbar": {
             "outlinewidth": 0,
             "ticks": ""
            },
            "colorscale": [
             [
              0,
              "#0d0887"
             ],
             [
              0.1111111111111111,
              "#46039f"
             ],
             [
              0.2222222222222222,
              "#7201a8"
             ],
             [
              0.3333333333333333,
              "#9c179e"
             ],
             [
              0.4444444444444444,
              "#bd3786"
             ],
             [
              0.5555555555555556,
              "#d8576b"
             ],
             [
              0.6666666666666666,
              "#ed7953"
             ],
             [
              0.7777777777777778,
              "#fb9f3a"
             ],
             [
              0.8888888888888888,
              "#fdca26"
             ],
             [
              1,
              "#f0f921"
             ]
            ],
            "type": "contour"
           }
          ],
          "contourcarpet": [
           {
            "colorbar": {
             "outlinewidth": 0,
             "ticks": ""
            },
            "type": "contourcarpet"
           }
          ],
          "heatmap": [
           {
            "colorbar": {
             "outlinewidth": 0,
             "ticks": ""
            },
            "colorscale": [
             [
              0,
              "#0d0887"
             ],
             [
              0.1111111111111111,
              "#46039f"
             ],
             [
              0.2222222222222222,
              "#7201a8"
             ],
             [
              0.3333333333333333,
              "#9c179e"
             ],
             [
              0.4444444444444444,
              "#bd3786"
             ],
             [
              0.5555555555555556,
              "#d8576b"
             ],
             [
              0.6666666666666666,
              "#ed7953"
             ],
             [
              0.7777777777777778,
              "#fb9f3a"
             ],
             [
              0.8888888888888888,
              "#fdca26"
             ],
             [
              1,
              "#f0f921"
             ]
            ],
            "type": "heatmap"
           }
          ],
          "heatmapgl": [
           {
            "colorbar": {
             "outlinewidth": 0,
             "ticks": ""
            },
            "colorscale": [
             [
              0,
              "#0d0887"
             ],
             [
              0.1111111111111111,
              "#46039f"
             ],
             [
              0.2222222222222222,
              "#7201a8"
             ],
             [
              0.3333333333333333,
              "#9c179e"
             ],
             [
              0.4444444444444444,
              "#bd3786"
             ],
             [
              0.5555555555555556,
              "#d8576b"
             ],
             [
              0.6666666666666666,
              "#ed7953"
             ],
             [
              0.7777777777777778,
              "#fb9f3a"
             ],
             [
              0.8888888888888888,
              "#fdca26"
             ],
             [
              1,
              "#f0f921"
             ]
            ],
            "type": "heatmapgl"
           }
          ],
          "histogram": [
           {
            "marker": {
             "pattern": {
              "fillmode": "overlay",
              "size": 10,
              "solidity": 0.2
             }
            },
            "type": "histogram"
           }
          ],
          "histogram2d": [
           {
            "colorbar": {
             "outlinewidth": 0,
             "ticks": ""
            },
            "colorscale": [
             [
              0,
              "#0d0887"
             ],
             [
              0.1111111111111111,
              "#46039f"
             ],
             [
              0.2222222222222222,
              "#7201a8"
             ],
             [
              0.3333333333333333,
              "#9c179e"
             ],
             [
              0.4444444444444444,
              "#bd3786"
             ],
             [
              0.5555555555555556,
              "#d8576b"
             ],
             [
              0.6666666666666666,
              "#ed7953"
             ],
             [
              0.7777777777777778,
              "#fb9f3a"
             ],
             [
              0.8888888888888888,
              "#fdca26"
             ],
             [
              1,
              "#f0f921"
             ]
            ],
            "type": "histogram2d"
           }
          ],
          "histogram2dcontour": [
           {
            "colorbar": {
             "outlinewidth": 0,
             "ticks": ""
            },
            "colorscale": [
             [
              0,
              "#0d0887"
             ],
             [
              0.1111111111111111,
              "#46039f"
             ],
             [
              0.2222222222222222,
              "#7201a8"
             ],
             [
              0.3333333333333333,
              "#9c179e"
             ],
             [
              0.4444444444444444,
              "#bd3786"
             ],
             [
              0.5555555555555556,
              "#d8576b"
             ],
             [
              0.6666666666666666,
              "#ed7953"
             ],
             [
              0.7777777777777778,
              "#fb9f3a"
             ],
             [
              0.8888888888888888,
              "#fdca26"
             ],
             [
              1,
              "#f0f921"
             ]
            ],
            "type": "histogram2dcontour"
           }
          ],
          "mesh3d": [
           {
            "colorbar": {
             "outlinewidth": 0,
             "ticks": ""
            },
            "type": "mesh3d"
           }
          ],
          "parcoords": [
           {
            "line": {
             "colorbar": {
              "outlinewidth": 0,
              "ticks": ""
             }
            },
            "type": "parcoords"
           }
          ],
          "pie": [
           {
            "automargin": true,
            "type": "pie"
           }
          ],
          "scatter": [
           {
            "fillpattern": {
             "fillmode": "overlay",
             "size": 10,
             "solidity": 0.2
            },
            "type": "scatter"
           }
          ],
          "scatter3d": [
           {
            "line": {
             "colorbar": {
              "outlinewidth": 0,
              "ticks": ""
             }
            },
            "marker": {
             "colorbar": {
              "outlinewidth": 0,
              "ticks": ""
             }
            },
            "type": "scatter3d"
           }
          ],
          "scattercarpet": [
           {
            "marker": {
             "colorbar": {
              "outlinewidth": 0,
              "ticks": ""
             }
            },
            "type": "scattercarpet"
           }
          ],
          "scattergeo": [
           {
            "marker": {
             "colorbar": {
              "outlinewidth": 0,
              "ticks": ""
             }
            },
            "type": "scattergeo"
           }
          ],
          "scattergl": [
           {
            "marker": {
             "colorbar": {
              "outlinewidth": 0,
              "ticks": ""
             }
            },
            "type": "scattergl"
           }
          ],
          "scattermapbox": [
           {
            "marker": {
             "colorbar": {
              "outlinewidth": 0,
              "ticks": ""
             }
            },
            "type": "scattermapbox"
           }
          ],
          "scatterpolar": [
           {
            "marker": {
             "colorbar": {
              "outlinewidth": 0,
              "ticks": ""
             }
            },
            "type": "scatterpolar"
           }
          ],
          "scatterpolargl": [
           {
            "marker": {
             "colorbar": {
              "outlinewidth": 0,
              "ticks": ""
             }
            },
            "type": "scatterpolargl"
           }
          ],
          "scatterternary": [
           {
            "marker": {
             "colorbar": {
              "outlinewidth": 0,
              "ticks": ""
             }
            },
            "type": "scatterternary"
           }
          ],
          "surface": [
           {
            "colorbar": {
             "outlinewidth": 0,
             "ticks": ""
            },
            "colorscale": [
             [
              0,
              "#0d0887"
             ],
             [
              0.1111111111111111,
              "#46039f"
             ],
             [
              0.2222222222222222,
              "#7201a8"
             ],
             [
              0.3333333333333333,
              "#9c179e"
             ],
             [
              0.4444444444444444,
              "#bd3786"
             ],
             [
              0.5555555555555556,
              "#d8576b"
             ],
             [
              0.6666666666666666,
              "#ed7953"
             ],
             [
              0.7777777777777778,
              "#fb9f3a"
             ],
             [
              0.8888888888888888,
              "#fdca26"
             ],
             [
              1,
              "#f0f921"
             ]
            ],
            "type": "surface"
           }
          ],
          "table": [
           {
            "cells": {
             "fill": {
              "color": "#EBF0F8"
             },
             "line": {
              "color": "white"
             }
            },
            "header": {
             "fill": {
              "color": "#C8D4E3"
             },
             "line": {
              "color": "white"
             }
            },
            "type": "table"
           }
          ]
         },
         "layout": {
          "annotationdefaults": {
           "arrowcolor": "#2a3f5f",
           "arrowhead": 0,
           "arrowwidth": 1
          },
          "autotypenumbers": "strict",
          "coloraxis": {
           "colorbar": {
            "outlinewidth": 0,
            "ticks": ""
           }
          },
          "colorscale": {
           "diverging": [
            [
             0,
             "#8e0152"
            ],
            [
             0.1,
             "#c51b7d"
            ],
            [
             0.2,
             "#de77ae"
            ],
            [
             0.3,
             "#f1b6da"
            ],
            [
             0.4,
             "#fde0ef"
            ],
            [
             0.5,
             "#f7f7f7"
            ],
            [
             0.6,
             "#e6f5d0"
            ],
            [
             0.7,
             "#b8e186"
            ],
            [
             0.8,
             "#7fbc41"
            ],
            [
             0.9,
             "#4d9221"
            ],
            [
             1,
             "#276419"
            ]
           ],
           "sequential": [
            [
             0,
             "#0d0887"
            ],
            [
             0.1111111111111111,
             "#46039f"
            ],
            [
             0.2222222222222222,
             "#7201a8"
            ],
            [
             0.3333333333333333,
             "#9c179e"
            ],
            [
             0.4444444444444444,
             "#bd3786"
            ],
            [
             0.5555555555555556,
             "#d8576b"
            ],
            [
             0.6666666666666666,
             "#ed7953"
            ],
            [
             0.7777777777777778,
             "#fb9f3a"
            ],
            [
             0.8888888888888888,
             "#fdca26"
            ],
            [
             1,
             "#f0f921"
            ]
           ],
           "sequentialminus": [
            [
             0,
             "#0d0887"
            ],
            [
             0.1111111111111111,
             "#46039f"
            ],
            [
             0.2222222222222222,
             "#7201a8"
            ],
            [
             0.3333333333333333,
             "#9c179e"
            ],
            [
             0.4444444444444444,
             "#bd3786"
            ],
            [
             0.5555555555555556,
             "#d8576b"
            ],
            [
             0.6666666666666666,
             "#ed7953"
            ],
            [
             0.7777777777777778,
             "#fb9f3a"
            ],
            [
             0.8888888888888888,
             "#fdca26"
            ],
            [
             1,
             "#f0f921"
            ]
           ]
          },
          "colorway": [
           "#636efa",
           "#EF553B",
           "#00cc96",
           "#ab63fa",
           "#FFA15A",
           "#19d3f3",
           "#FF6692",
           "#B6E880",
           "#FF97FF",
           "#FECB52"
          ],
          "font": {
           "color": "#2a3f5f"
          },
          "geo": {
           "bgcolor": "white",
           "lakecolor": "white",
           "landcolor": "white",
           "showlakes": true,
           "showland": true,
           "subunitcolor": "#C8D4E3"
          },
          "hoverlabel": {
           "align": "left"
          },
          "hovermode": "closest",
          "mapbox": {
           "style": "light"
          },
          "paper_bgcolor": "white",
          "plot_bgcolor": "white",
          "polar": {
           "angularaxis": {
            "gridcolor": "#EBF0F8",
            "linecolor": "#EBF0F8",
            "ticks": ""
           },
           "bgcolor": "white",
           "radialaxis": {
            "gridcolor": "#EBF0F8",
            "linecolor": "#EBF0F8",
            "ticks": ""
           }
          },
          "scene": {
           "xaxis": {
            "backgroundcolor": "white",
            "gridcolor": "#DFE8F3",
            "gridwidth": 2,
            "linecolor": "#EBF0F8",
            "showbackground": true,
            "ticks": "",
            "zerolinecolor": "#EBF0F8"
           },
           "yaxis": {
            "backgroundcolor": "white",
            "gridcolor": "#DFE8F3",
            "gridwidth": 2,
            "linecolor": "#EBF0F8",
            "showbackground": true,
            "ticks": "",
            "zerolinecolor": "#EBF0F8"
           },
           "zaxis": {
            "backgroundcolor": "white",
            "gridcolor": "#DFE8F3",
            "gridwidth": 2,
            "linecolor": "#EBF0F8",
            "showbackground": true,
            "ticks": "",
            "zerolinecolor": "#EBF0F8"
           }
          },
          "shapedefaults": {
           "line": {
            "color": "#2a3f5f"
           }
          },
          "ternary": {
           "aaxis": {
            "gridcolor": "#DFE8F3",
            "linecolor": "#A2B1C6",
            "ticks": ""
           },
           "baxis": {
            "gridcolor": "#DFE8F3",
            "linecolor": "#A2B1C6",
            "ticks": ""
           },
           "bgcolor": "white",
           "caxis": {
            "gridcolor": "#DFE8F3",
            "linecolor": "#A2B1C6",
            "ticks": ""
           }
          },
          "title": {
           "x": 0.05
          },
          "xaxis": {
           "automargin": true,
           "gridcolor": "#EBF0F8",
           "linecolor": "#EBF0F8",
           "ticks": "",
           "title": {
            "standoff": 15
           },
           "zerolinecolor": "#EBF0F8",
           "zerolinewidth": 2
          },
          "yaxis": {
           "automargin": true,
           "gridcolor": "#EBF0F8",
           "linecolor": "#EBF0F8",
           "ticks": "",
           "title": {
            "standoff": 15
           },
           "zerolinecolor": "#EBF0F8",
           "zerolinewidth": 2
          }
         }
        },
        "title": {
         "text": "Výškové profily priamej trasy a obchádzky mosta M1075"
        },
        "width": 800,
        "xaxis": {
         "title": {
          "text": "Vzdialenosť [km]"
         }
        },
        "yaxis": {
         "range": [
          109.4,
          132.7
         ],
         "showgrid": true,
         "title": {
          "text": "Nadmorská výška [m n. m.]"
         }
        },
        "yaxis2": {
         "overlaying": "y",
         "showgrid": false,
         "side": "right",
         "title": {
          "text": "Sklon [%]"
         }
        }
       }
      }
     },
     "metadata": {},
     "output_type": "display_data"
    }
   ],
   "source": [
    "# Call the function for row 18\n",
    "plot_elevation_profile(row=35, verbose=False, showfig=True, savefig=True)"
   ]
  },
  {
   "cell_type": "code",
   "execution_count": 168,
   "metadata": {},
   "outputs": [
    {
     "data": {
      "application/vnd.plotly.v1+json": {
       "config": {
        "plotlyServerURL": "https://plot.ly"
       },
       "data": [
        {
         "fill": "tozeroy",
         "fillcolor": "rgba(255, 99, 71, 0.3)",
         "line": {
          "color": "red"
         },
         "mode": "lines",
         "name": "Alternative Route",
         "type": "scatter",
         "x": [
          0,
          0.311155304280269,
          0.3470304336438058,
          0.37932299129696767,
          0.45002301525188154,
          0.4677850568022083,
          0.4824408360419173,
          0.5055610796167342,
          0.699091579608577,
          0.7165677626659075,
          0.7288949353004407,
          0.7402970462654416,
          0.7514578748435258,
          0.7675359450964316,
          0.8415278474003058,
          0.8574758578882091,
          0.9012341440308457,
          0.9125581407544666,
          0.9285706984809943,
          1.0175333105720408,
          1.083132653514138,
          1.3705823190040776,
          1.4216131254714142,
          1.711492028245252,
          1.7173161080258963,
          1.72323890353681,
          1.7330715770778091,
          1.7407026311277607,
          1.745561826991709,
          1.7504675406416441,
          1.7553655982360463,
          1.7686435067458142,
          1.7874713117267016,
          1.8113438341553145,
          1.982851285942504,
          1.995719766228958,
          2.013609436812714,
          2.136011617316012,
          3.157499468692888,
          4.936701264360261,
          4.969839526300154,
          5.002589752288025,
          5.348060291224918,
          5.3554875037727845,
          6.031232227784525,
          6.0521685857035346,
          6.066835563697145,
          6.075366895048116,
          6.08397807452701,
          6.092512984121678,
          6.101037441569305,
          6.109586645440118,
          6.120462571509785,
          6.131336463624132,
          6.1421063903774,
          6.156762612150004,
          6.17136830568113,
          6.178689234673249,
          6.193336415324283,
          6.200629699060291,
          6.215310550478045,
          6.222169971557798,
          6.235965343229743,
          6.250611062047195,
          6.257886127933522,
          6.272547050110248,
          6.291687609447384,
          6.333614146710254,
          6.379551248726756,
          6.467233202426222,
          6.507676501566309,
          6.550548415736351,
          7.004316255258653,
          7.237777241040064,
          7.439756134566047,
          7.475966127908139,
          7.520840349708682,
          7.5672185641637135,
          7.637184154133524,
          7.6963977990610974,
          7.742124994768926,
          7.763522787999475,
          7.828769530566714,
          7.918880940095374,
          8.18157087999002,
          8.21690341252937,
          8.28498217118154,
          8.315990350175099,
          8.418497510520261,
          8.450530795475077,
          8.480900394300885,
          8.595700849327207,
          8.7199336886679,
          9.01919255647937,
          9.220179328196666,
          9.542885550018138,
          10.276762414991872,
          10.35026587864195,
          10.515959973514994,
          10.739183284825783,
          10.819480856102212,
          11.313167265343646,
          11.559543421500047,
          11.564790825639504,
          11.580390991457541,
          11.582750676499705,
          11.58997351919933,
          11.59462132547494,
          11.599306310704184,
          11.604249662770084,
          11.60910526026114,
          11.6119994150443,
          11.617805117293463,
          11.621837356908923,
          11.625809940974058,
          11.6350579398799,
          11.643218055957368,
          11.651770141488308,
          11.657651497705158,
          11.670930711086429,
          11.687354633404581,
          11.712533000714183,
          11.73269775226236,
          11.768391760175954,
          11.79649933703676,
          11.822638453807759,
          11.850318471477106,
          11.871820560364414,
          11.889304438336163,
          11.912675954235686,
          11.941891906826454,
          12.186947369428474,
          12.22268121514782,
          12.278111901392242,
          12.354013070521262,
          12.494358489496966,
          12.594091784018994,
          12.717926632925362,
          12.827326542616111
         ],
         "y": [
          113.4,
          115.1,
          115.3,
          115.5,
          115.9,
          116,
          116,
          116,
          116.2,
          116.2,
          116.2,
          116.1,
          116.1,
          116.1,
          116,
          116,
          116,
          116,
          116,
          115.7,
          115.2,
          115.1,
          115.1,
          114,
          114,
          114.1,
          114.3,
          114.4,
          114.5,
          114.6,
          114.7,
          114.9,
          115,
          115,
          115.2,
          115.2,
          115,
          114.4,
          115,
          116.5,
          116.6,
          116.4,
          114.3,
          114.3,
          116.6,
          116.3,
          116,
          116,
          116,
          115.9,
          115.9,
          115.8,
          115.7,
          115.5,
          115.3,
          115.3,
          115.2,
          115.2,
          115.2,
          115.2,
          115.1,
          115.1,
          115,
          115.2,
          115.2,
          115.4,
          115.8,
          116.6,
          116.5,
          116.2,
          116.6,
          116.9,
          116,
          116.6,
          116.6,
          116.7,
          116.8,
          116.9,
          116.5,
          116,
          116.4,
          116.4,
          116.3,
          116.2,
          116,
          116,
          116.1,
          116.1,
          116.2,
          116.3,
          116.3,
          116.4,
          116.6,
          116.9,
          117.9,
          117.9,
          118.5,
          119.1,
          118.1,
          119.1,
          119.3,
          120,
          119.3,
          119.3,
          119.4,
          119.4,
          119.5,
          119.6,
          119.6,
          119.6,
          119.6,
          119.6,
          119.5,
          119.4,
          119.3,
          119.2,
          119.1,
          118.9,
          118.8,
          118.8,
          119,
          119.2,
          119.3,
          119.7,
          121.1,
          122.1,
          123.2,
          123.3,
          123.3,
          123.3,
          123.3,
          120.3,
          120.1,
          119.8,
          119.3,
          118.5,
          118.3,
          118.8,
          118.6
         ]
        },
        {
         "fill": "tozeroy",
         "fillcolor": "rgba(135, 206, 250, 0.3)",
         "line": {
          "color": "blue"
         },
         "mode": "lines",
         "name": "Clear Route",
         "type": "scatter",
         "x": [
          0,
          0.311155304280269,
          0.3470304336438058,
          0.37932299129696767,
          0.45002301525188154,
          0.4677850568022083,
          0.4824408360419173,
          0.5055610796167342,
          0.699091579608577,
          0.7165677626659075,
          0.7288949353004407,
          0.7402970462654416,
          0.7514578748435258,
          0.7675359450964316,
          0.8415278474003058,
          0.8574758578882091,
          0.9012341440308457,
          0.9125581407544666,
          0.9285706984809943,
          1.0175333105720408,
          1.083132653514138,
          1.3705823190040776,
          1.4216131254714142,
          1.711492028245252,
          1.7173161080258963,
          1.72323890353681,
          1.7330715770778091,
          1.7407026311277607,
          1.745561826991709,
          1.7504675406416441,
          1.7553655982360463,
          1.7602493352517259,
          1.7651599026341855,
          1.7704939051341595,
          1.775849200039899,
          1.7812013446309796,
          1.7864867654955876,
          1.7918642378685705,
          1.825157069151797,
          1.8936946666961776,
          1.9222636905680561,
          1.9427572241571642,
          1.9673369006013768,
          1.9823395859215294,
          1.997614248220963,
          2.0227603080728795,
          2.0402486942075395,
          2.054944029979129,
          2.10308821761014,
          2.148204458366221,
          2.1678189669300143,
          2.190752973988171,
          2.2084505280126363,
          2.2489571591798354,
          2.2615169990853277,
          2.280917607410102,
          2.294894404028429,
          2.314589702449741,
          2.3293405942853225,
          2.3442535748294726,
          2.4168995177569133,
          2.446632158352878,
          2.5484875651862975,
          2.563381899495919,
          2.5818366146594647,
          2.6836741094069017,
          2.727693403681544,
          2.8800166405908536,
          2.8966667599882756,
          2.9195213788832444,
          2.9539614849922105,
          2.9769842158799342,
          3.0043689113140672,
          3.0238287738662337,
          3.2530593039643794,
          3.270604404888403,
          3.283624836106871,
          3.3719385689275785,
          3.394909307600031,
          3.424663577265821,
          3.7076688963681357,
          3.7246498927033347,
          3.7372659799923,
          3.8637957990124803,
          3.911648385973962,
          3.9467800794260817,
          4.00197614485834,
          4.09196047487635,
          4.210991548957444,
          4.437740137703965,
          4.47844514257338,
          4.490046152306508,
          4.51019839963263,
          4.59803874866834,
          4.631136534503493,
          4.771457508463992,
          4.9110112689189105,
          4.9682639556911345,
          4.979182355741677,
          5.080891729726253,
          5.110839294483115,
          5.124552336945069,
          5.142012863007754,
          5.1638295421377105,
          5.275225872689831,
          5.345464867055794,
          5.361508787199827,
          5.391342782040723,
          5.601033040180229,
          5.62035601030895,
          5.634132807583925,
          5.644755293624778,
          5.8004413507284,
          6.657247648430594,
          6.688284935840941,
          6.723871834033985,
          7.343685402321473,
          7.824533778523631,
          7.861197609863452,
          7.934239821305194,
          7.960722596469359,
          7.977232383978138,
          7.9982897933740045,
          8.18292832256353,
          8.309807594911373,
          8.37073153850071,
          8.47770222647029,
          8.54735903845703,
          8.646149817013926,
          8.751810067158946,
          8.85497475074249
         ],
         "y": [
          113.4,
          115.1,
          115.3,
          115.5,
          115.9,
          116,
          116,
          116,
          116.2,
          116.2,
          116.2,
          116.1,
          116.1,
          116.1,
          116,
          116,
          116,
          116,
          116,
          115.7,
          115.2,
          115.1,
          115.1,
          114,
          114,
          114.1,
          114.3,
          114.4,
          114.5,
          114.6,
          114.7,
          114.7,
          114.8,
          114.8,
          114.8,
          114.8,
          114.8,
          114.8,
          114.8,
          114.2,
          114.2,
          114.5,
          114.9,
          115.2,
          115.4,
          115.8,
          115.8,
          115.8,
          115.8,
          115.9,
          115.9,
          115.9,
          115.9,
          115.9,
          115.9,
          115.9,
          115.9,
          116,
          116,
          116,
          116,
          116.1,
          115.9,
          115.9,
          115.9,
          115.7,
          115.7,
          115.4,
          115.4,
          115.9,
          116.4,
          116.7,
          117.1,
          117.4,
          117,
          116.9,
          116.9,
          116.7,
          116.7,
          116.7,
          116.6,
          116.6,
          116.6,
          116.5,
          116.5,
          116.7,
          117,
          117,
          117.1,
          117.7,
          117.7,
          118.1,
          118.8,
          121.5,
          121.2,
          119.9,
          118.6,
          118.1,
          118,
          118.4,
          118.6,
          118.7,
          118.8,
          118.9,
          118.5,
          118.3,
          118.2,
          118.2,
          117.5,
          117.4,
          117.3,
          117.4,
          117,
          117,
          117,
          117,
          117.8,
          117.2,
          117.1,
          117,
          117,
          117,
          116.9,
          116.7,
          116.5,
          118.4,
          121.5,
          120.4,
          119,
          119.1,
          118.7
         ]
        }
       ],
       "layout": {
        "legend": {
         "orientation": "h",
         "title": {
          "text": "Route Type"
         },
         "x": 0.5,
         "xanchor": "center",
         "y": 1.02,
         "yanchor": "bottom"
        },
        "template": {
         "data": {
          "bar": [
           {
            "error_x": {
             "color": "#2a3f5f"
            },
            "error_y": {
             "color": "#2a3f5f"
            },
            "marker": {
             "line": {
              "color": "white",
              "width": 0.5
             },
             "pattern": {
              "fillmode": "overlay",
              "size": 10,
              "solidity": 0.2
             }
            },
            "type": "bar"
           }
          ],
          "barpolar": [
           {
            "marker": {
             "line": {
              "color": "white",
              "width": 0.5
             },
             "pattern": {
              "fillmode": "overlay",
              "size": 10,
              "solidity": 0.2
             }
            },
            "type": "barpolar"
           }
          ],
          "carpet": [
           {
            "aaxis": {
             "endlinecolor": "#2a3f5f",
             "gridcolor": "#C8D4E3",
             "linecolor": "#C8D4E3",
             "minorgridcolor": "#C8D4E3",
             "startlinecolor": "#2a3f5f"
            },
            "baxis": {
             "endlinecolor": "#2a3f5f",
             "gridcolor": "#C8D4E3",
             "linecolor": "#C8D4E3",
             "minorgridcolor": "#C8D4E3",
             "startlinecolor": "#2a3f5f"
            },
            "type": "carpet"
           }
          ],
          "choropleth": [
           {
            "colorbar": {
             "outlinewidth": 0,
             "ticks": ""
            },
            "type": "choropleth"
           }
          ],
          "contour": [
           {
            "colorbar": {
             "outlinewidth": 0,
             "ticks": ""
            },
            "colorscale": [
             [
              0,
              "#0d0887"
             ],
             [
              0.1111111111111111,
              "#46039f"
             ],
             [
              0.2222222222222222,
              "#7201a8"
             ],
             [
              0.3333333333333333,
              "#9c179e"
             ],
             [
              0.4444444444444444,
              "#bd3786"
             ],
             [
              0.5555555555555556,
              "#d8576b"
             ],
             [
              0.6666666666666666,
              "#ed7953"
             ],
             [
              0.7777777777777778,
              "#fb9f3a"
             ],
             [
              0.8888888888888888,
              "#fdca26"
             ],
             [
              1,
              "#f0f921"
             ]
            ],
            "type": "contour"
           }
          ],
          "contourcarpet": [
           {
            "colorbar": {
             "outlinewidth": 0,
             "ticks": ""
            },
            "type": "contourcarpet"
           }
          ],
          "heatmap": [
           {
            "colorbar": {
             "outlinewidth": 0,
             "ticks": ""
            },
            "colorscale": [
             [
              0,
              "#0d0887"
             ],
             [
              0.1111111111111111,
              "#46039f"
             ],
             [
              0.2222222222222222,
              "#7201a8"
             ],
             [
              0.3333333333333333,
              "#9c179e"
             ],
             [
              0.4444444444444444,
              "#bd3786"
             ],
             [
              0.5555555555555556,
              "#d8576b"
             ],
             [
              0.6666666666666666,
              "#ed7953"
             ],
             [
              0.7777777777777778,
              "#fb9f3a"
             ],
             [
              0.8888888888888888,
              "#fdca26"
             ],
             [
              1,
              "#f0f921"
             ]
            ],
            "type": "heatmap"
           }
          ],
          "heatmapgl": [
           {
            "colorbar": {
             "outlinewidth": 0,
             "ticks": ""
            },
            "colorscale": [
             [
              0,
              "#0d0887"
             ],
             [
              0.1111111111111111,
              "#46039f"
             ],
             [
              0.2222222222222222,
              "#7201a8"
             ],
             [
              0.3333333333333333,
              "#9c179e"
             ],
             [
              0.4444444444444444,
              "#bd3786"
             ],
             [
              0.5555555555555556,
              "#d8576b"
             ],
             [
              0.6666666666666666,
              "#ed7953"
             ],
             [
              0.7777777777777778,
              "#fb9f3a"
             ],
             [
              0.8888888888888888,
              "#fdca26"
             ],
             [
              1,
              "#f0f921"
             ]
            ],
            "type": "heatmapgl"
           }
          ],
          "histogram": [
           {
            "marker": {
             "pattern": {
              "fillmode": "overlay",
              "size": 10,
              "solidity": 0.2
             }
            },
            "type": "histogram"
           }
          ],
          "histogram2d": [
           {
            "colorbar": {
             "outlinewidth": 0,
             "ticks": ""
            },
            "colorscale": [
             [
              0,
              "#0d0887"
             ],
             [
              0.1111111111111111,
              "#46039f"
             ],
             [
              0.2222222222222222,
              "#7201a8"
             ],
             [
              0.3333333333333333,
              "#9c179e"
             ],
             [
              0.4444444444444444,
              "#bd3786"
             ],
             [
              0.5555555555555556,
              "#d8576b"
             ],
             [
              0.6666666666666666,
              "#ed7953"
             ],
             [
              0.7777777777777778,
              "#fb9f3a"
             ],
             [
              0.8888888888888888,
              "#fdca26"
             ],
             [
              1,
              "#f0f921"
             ]
            ],
            "type": "histogram2d"
           }
          ],
          "histogram2dcontour": [
           {
            "colorbar": {
             "outlinewidth": 0,
             "ticks": ""
            },
            "colorscale": [
             [
              0,
              "#0d0887"
             ],
             [
              0.1111111111111111,
              "#46039f"
             ],
             [
              0.2222222222222222,
              "#7201a8"
             ],
             [
              0.3333333333333333,
              "#9c179e"
             ],
             [
              0.4444444444444444,
              "#bd3786"
             ],
             [
              0.5555555555555556,
              "#d8576b"
             ],
             [
              0.6666666666666666,
              "#ed7953"
             ],
             [
              0.7777777777777778,
              "#fb9f3a"
             ],
             [
              0.8888888888888888,
              "#fdca26"
             ],
             [
              1,
              "#f0f921"
             ]
            ],
            "type": "histogram2dcontour"
           }
          ],
          "mesh3d": [
           {
            "colorbar": {
             "outlinewidth": 0,
             "ticks": ""
            },
            "type": "mesh3d"
           }
          ],
          "parcoords": [
           {
            "line": {
             "colorbar": {
              "outlinewidth": 0,
              "ticks": ""
             }
            },
            "type": "parcoords"
           }
          ],
          "pie": [
           {
            "automargin": true,
            "type": "pie"
           }
          ],
          "scatter": [
           {
            "fillpattern": {
             "fillmode": "overlay",
             "size": 10,
             "solidity": 0.2
            },
            "type": "scatter"
           }
          ],
          "scatter3d": [
           {
            "line": {
             "colorbar": {
              "outlinewidth": 0,
              "ticks": ""
             }
            },
            "marker": {
             "colorbar": {
              "outlinewidth": 0,
              "ticks": ""
             }
            },
            "type": "scatter3d"
           }
          ],
          "scattercarpet": [
           {
            "marker": {
             "colorbar": {
              "outlinewidth": 0,
              "ticks": ""
             }
            },
            "type": "scattercarpet"
           }
          ],
          "scattergeo": [
           {
            "marker": {
             "colorbar": {
              "outlinewidth": 0,
              "ticks": ""
             }
            },
            "type": "scattergeo"
           }
          ],
          "scattergl": [
           {
            "marker": {
             "colorbar": {
              "outlinewidth": 0,
              "ticks": ""
             }
            },
            "type": "scattergl"
           }
          ],
          "scattermapbox": [
           {
            "marker": {
             "colorbar": {
              "outlinewidth": 0,
              "ticks": ""
             }
            },
            "type": "scattermapbox"
           }
          ],
          "scatterpolar": [
           {
            "marker": {
             "colorbar": {
              "outlinewidth": 0,
              "ticks": ""
             }
            },
            "type": "scatterpolar"
           }
          ],
          "scatterpolargl": [
           {
            "marker": {
             "colorbar": {
              "outlinewidth": 0,
              "ticks": ""
             }
            },
            "type": "scatterpolargl"
           }
          ],
          "scatterternary": [
           {
            "marker": {
             "colorbar": {
              "outlinewidth": 0,
              "ticks": ""
             }
            },
            "type": "scatterternary"
           }
          ],
          "surface": [
           {
            "colorbar": {
             "outlinewidth": 0,
             "ticks": ""
            },
            "colorscale": [
             [
              0,
              "#0d0887"
             ],
             [
              0.1111111111111111,
              "#46039f"
             ],
             [
              0.2222222222222222,
              "#7201a8"
             ],
             [
              0.3333333333333333,
              "#9c179e"
             ],
             [
              0.4444444444444444,
              "#bd3786"
             ],
             [
              0.5555555555555556,
              "#d8576b"
             ],
             [
              0.6666666666666666,
              "#ed7953"
             ],
             [
              0.7777777777777778,
              "#fb9f3a"
             ],
             [
              0.8888888888888888,
              "#fdca26"
             ],
             [
              1,
              "#f0f921"
             ]
            ],
            "type": "surface"
           }
          ],
          "table": [
           {
            "cells": {
             "fill": {
              "color": "#EBF0F8"
             },
             "line": {
              "color": "white"
             }
            },
            "header": {
             "fill": {
              "color": "#C8D4E3"
             },
             "line": {
              "color": "white"
             }
            },
            "type": "table"
           }
          ]
         },
         "layout": {
          "annotationdefaults": {
           "arrowcolor": "#2a3f5f",
           "arrowhead": 0,
           "arrowwidth": 1
          },
          "autotypenumbers": "strict",
          "coloraxis": {
           "colorbar": {
            "outlinewidth": 0,
            "ticks": ""
           }
          },
          "colorscale": {
           "diverging": [
            [
             0,
             "#8e0152"
            ],
            [
             0.1,
             "#c51b7d"
            ],
            [
             0.2,
             "#de77ae"
            ],
            [
             0.3,
             "#f1b6da"
            ],
            [
             0.4,
             "#fde0ef"
            ],
            [
             0.5,
             "#f7f7f7"
            ],
            [
             0.6,
             "#e6f5d0"
            ],
            [
             0.7,
             "#b8e186"
            ],
            [
             0.8,
             "#7fbc41"
            ],
            [
             0.9,
             "#4d9221"
            ],
            [
             1,
             "#276419"
            ]
           ],
           "sequential": [
            [
             0,
             "#0d0887"
            ],
            [
             0.1111111111111111,
             "#46039f"
            ],
            [
             0.2222222222222222,
             "#7201a8"
            ],
            [
             0.3333333333333333,
             "#9c179e"
            ],
            [
             0.4444444444444444,
             "#bd3786"
            ],
            [
             0.5555555555555556,
             "#d8576b"
            ],
            [
             0.6666666666666666,
             "#ed7953"
            ],
            [
             0.7777777777777778,
             "#fb9f3a"
            ],
            [
             0.8888888888888888,
             "#fdca26"
            ],
            [
             1,
             "#f0f921"
            ]
           ],
           "sequentialminus": [
            [
             0,
             "#0d0887"
            ],
            [
             0.1111111111111111,
             "#46039f"
            ],
            [
             0.2222222222222222,
             "#7201a8"
            ],
            [
             0.3333333333333333,
             "#9c179e"
            ],
            [
             0.4444444444444444,
             "#bd3786"
            ],
            [
             0.5555555555555556,
             "#d8576b"
            ],
            [
             0.6666666666666666,
             "#ed7953"
            ],
            [
             0.7777777777777778,
             "#fb9f3a"
            ],
            [
             0.8888888888888888,
             "#fdca26"
            ],
            [
             1,
             "#f0f921"
            ]
           ]
          },
          "colorway": [
           "#636efa",
           "#EF553B",
           "#00cc96",
           "#ab63fa",
           "#FFA15A",
           "#19d3f3",
           "#FF6692",
           "#B6E880",
           "#FF97FF",
           "#FECB52"
          ],
          "font": {
           "color": "#2a3f5f"
          },
          "geo": {
           "bgcolor": "white",
           "lakecolor": "white",
           "landcolor": "white",
           "showlakes": true,
           "showland": true,
           "subunitcolor": "#C8D4E3"
          },
          "hoverlabel": {
           "align": "left"
          },
          "hovermode": "closest",
          "mapbox": {
           "style": "light"
          },
          "paper_bgcolor": "white",
          "plot_bgcolor": "white",
          "polar": {
           "angularaxis": {
            "gridcolor": "#EBF0F8",
            "linecolor": "#EBF0F8",
            "ticks": ""
           },
           "bgcolor": "white",
           "radialaxis": {
            "gridcolor": "#EBF0F8",
            "linecolor": "#EBF0F8",
            "ticks": ""
           }
          },
          "scene": {
           "xaxis": {
            "backgroundcolor": "white",
            "gridcolor": "#DFE8F3",
            "gridwidth": 2,
            "linecolor": "#EBF0F8",
            "showbackground": true,
            "ticks": "",
            "zerolinecolor": "#EBF0F8"
           },
           "yaxis": {
            "backgroundcolor": "white",
            "gridcolor": "#DFE8F3",
            "gridwidth": 2,
            "linecolor": "#EBF0F8",
            "showbackground": true,
            "ticks": "",
            "zerolinecolor": "#EBF0F8"
           },
           "zaxis": {
            "backgroundcolor": "white",
            "gridcolor": "#DFE8F3",
            "gridwidth": 2,
            "linecolor": "#EBF0F8",
            "showbackground": true,
            "ticks": "",
            "zerolinecolor": "#EBF0F8"
           }
          },
          "shapedefaults": {
           "line": {
            "color": "#2a3f5f"
           }
          },
          "ternary": {
           "aaxis": {
            "gridcolor": "#DFE8F3",
            "linecolor": "#A2B1C6",
            "ticks": ""
           },
           "baxis": {
            "gridcolor": "#DFE8F3",
            "linecolor": "#A2B1C6",
            "ticks": ""
           },
           "bgcolor": "white",
           "caxis": {
            "gridcolor": "#DFE8F3",
            "linecolor": "#A2B1C6",
            "ticks": ""
           }
          },
          "title": {
           "x": 0.05
          },
          "xaxis": {
           "automargin": true,
           "gridcolor": "#EBF0F8",
           "linecolor": "#EBF0F8",
           "ticks": "",
           "title": {
            "standoff": 15
           },
           "zerolinecolor": "#EBF0F8",
           "zerolinewidth": 2
          },
          "yaxis": {
           "automargin": true,
           "gridcolor": "#EBF0F8",
           "linecolor": "#EBF0F8",
           "ticks": "",
           "title": {
            "standoff": 15
           },
           "zerolinecolor": "#EBF0F8",
           "zerolinewidth": 2
          }
         }
        },
        "title": {
         "text": "Elevation Profiles for Clear and Alternative Routes (Row 34)"
        },
        "xaxis": {
         "title": {
          "text": "Distance (km)"
         }
        },
        "yaxis": {
         "range": [
          108.4,
          128.3
         ],
         "title": {
          "text": "Elevation (m)"
         }
        }
       }
      }
     },
     "metadata": {},
     "output_type": "display_data"
    }
   ],
   "source": [
    "import plotly.graph_objects as go\n",
    "\n",
    "# Specify the row index\n",
    "row_index = 34\n",
    "\n",
    "# Extract Clear and Alt routes for the specified row\n",
    "clear_route = df.iloc[row_index][\"Clear_Route\"]\n",
    "alt_route = df.iloc[row_index][\"Alt_Route\"]\n",
    "\n",
    "# Extract distances and elevations for Clear and Alt routes\n",
    "clear_distances = [point[\"cumulative_distance\"] /\n",
    "                   1000 for point in clear_route]  # Convert to kilometers\n",
    "clear_elevations = [point[\"elevation\"] for point in clear_route]\n",
    "\n",
    "alt_distances = [point[\"cumulative_distance\"] /\n",
    "                 1000 for point in alt_route]  # Convert to kilometers\n",
    "alt_elevations = [point[\"elevation\"] for point in alt_route]\n",
    "\n",
    "# Calculate the elevation range\n",
    "min_elevation = min(min(clear_elevations), min(alt_elevations))\n",
    "max_elevation = max(max(clear_elevations), max(alt_elevations))\n",
    "\n",
    "# Add a buffer of ±5 meters\n",
    "y_min = min_elevation - 5\n",
    "y_max = max_elevation + 5\n",
    "\n",
    "# Create a Plotly figure\n",
    "fig = go.Figure()\n",
    "\n",
    "# Add the alternative route's elevation profile\n",
    "fig.add_trace(go.Scatter(\n",
    "    x=alt_distances,\n",
    "    y=alt_elevations,\n",
    "    mode=\"lines\",\n",
    "    name=\"Alternative Route\",\n",
    "    line=dict(color=\"red\"),\n",
    "    fill='tozeroy',  # Fill area under the line to the x-axis (y=0)\n",
    "    fillcolor='rgba(255, 99, 71, 0.3)'  # Transparent red fill\n",
    "))\n",
    "\n",
    "# Add the clear route's elevation profile\n",
    "fig.add_trace(go.Scatter(\n",
    "    x=clear_distances,\n",
    "    y=clear_elevations,\n",
    "    mode=\"lines\",\n",
    "    name=\"Clear Route\",\n",
    "    line=dict(color=\"blue\"),\n",
    "    fill='tozeroy',  # Fill area under the line to the x-axis (y=0)\n",
    "    fillcolor='rgba(135, 206, 250, 0.3)'  # Transparent blue fill\n",
    "))\n",
    "\n",
    "# Update the layout\n",
    "fig.update_layout(\n",
    "    title=f\"Elevation Profiles for Clear and Alternative Routes (Row {\n",
    "        row_index})\",\n",
    "    xaxis_title=\"Distance (km)\",\n",
    "    yaxis_title=\"Elevation (m)\",\n",
    "    yaxis=dict(range=[y_min, y_max]),  # Set y-axis limits\n",
    "    legend=dict(\n",
    "        title=\"Route Type\",\n",
    "        orientation=\"h\",  # Horizontal legend\n",
    "        yanchor=\"bottom\",\n",
    "        y=1.02,\n",
    "        xanchor=\"center\",\n",
    "        x=0.5\n",
    "    ),\n",
    "    template=\"plotly_white\"\n",
    ")\n",
    "\n",
    "# Show the plot\n",
    "fig.show()"
   ]
  },
  {
   "cell_type": "code",
   "execution_count": 169,
   "metadata": {},
   "outputs": [
    {
     "data": {
      "text/html": [
       "<div style=\"width:100%;\"><div style=\"position:relative;width:100%;height:0;padding-bottom:60%;\"><span style=\"color:#565656\">Make this Notebook Trusted to load map: File -> Trust Notebook</span><iframe srcdoc=\"&lt;!DOCTYPE html&gt;\n",
       "&lt;html&gt;\n",
       "&lt;head&gt;\n",
       "    \n",
       "    &lt;meta http-equiv=&quot;content-type&quot; content=&quot;text/html; charset=UTF-8&quot; /&gt;\n",
       "    \n",
       "        &lt;script&gt;\n",
       "            L_NO_TOUCH = false;\n",
       "            L_DISABLE_3D = false;\n",
       "        &lt;/script&gt;\n",
       "    \n",
       "    &lt;style&gt;html, body {width: 100%;height: 100%;margin: 0;padding: 0;}&lt;/style&gt;\n",
       "    &lt;style&gt;#map {position:absolute;top:0;bottom:0;right:0;left:0;}&lt;/style&gt;\n",
       "    &lt;script src=&quot;https://cdn.jsdelivr.net/npm/leaflet@1.9.3/dist/leaflet.js&quot;&gt;&lt;/script&gt;\n",
       "    &lt;script src=&quot;https://code.jquery.com/jquery-3.7.1.min.js&quot;&gt;&lt;/script&gt;\n",
       "    &lt;script src=&quot;https://cdn.jsdelivr.net/npm/bootstrap@5.2.2/dist/js/bootstrap.bundle.min.js&quot;&gt;&lt;/script&gt;\n",
       "    &lt;script src=&quot;https://cdnjs.cloudflare.com/ajax/libs/Leaflet.awesome-markers/2.0.2/leaflet.awesome-markers.js&quot;&gt;&lt;/script&gt;\n",
       "    &lt;link rel=&quot;stylesheet&quot; href=&quot;https://cdn.jsdelivr.net/npm/leaflet@1.9.3/dist/leaflet.css&quot;/&gt;\n",
       "    &lt;link rel=&quot;stylesheet&quot; href=&quot;https://cdn.jsdelivr.net/npm/bootstrap@5.2.2/dist/css/bootstrap.min.css&quot;/&gt;\n",
       "    &lt;link rel=&quot;stylesheet&quot; href=&quot;https://netdna.bootstrapcdn.com/bootstrap/3.0.0/css/bootstrap-glyphicons.css&quot;/&gt;\n",
       "    &lt;link rel=&quot;stylesheet&quot; href=&quot;https://cdn.jsdelivr.net/npm/@fortawesome/fontawesome-free@6.2.0/css/all.min.css&quot;/&gt;\n",
       "    &lt;link rel=&quot;stylesheet&quot; href=&quot;https://cdnjs.cloudflare.com/ajax/libs/Leaflet.awesome-markers/2.0.2/leaflet.awesome-markers.css&quot;/&gt;\n",
       "    &lt;link rel=&quot;stylesheet&quot; href=&quot;https://cdn.jsdelivr.net/gh/python-visualization/folium/folium/templates/leaflet.awesome.rotate.min.css&quot;/&gt;\n",
       "    \n",
       "            &lt;meta name=&quot;viewport&quot; content=&quot;width=device-width,\n",
       "                initial-scale=1.0, maximum-scale=1.0, user-scalable=no&quot; /&gt;\n",
       "            &lt;style&gt;\n",
       "                #map_898cd95f6dde214e41ed6d10c55af1cf {\n",
       "                    position: relative;\n",
       "                    width: 100.0%;\n",
       "                    height: 100.0%;\n",
       "                    left: 0.0%;\n",
       "                    top: 0.0%;\n",
       "                }\n",
       "                .leaflet-container { font-size: 1rem; }\n",
       "            &lt;/style&gt;\n",
       "        \n",
       "&lt;/head&gt;\n",
       "&lt;body&gt;\n",
       "    \n",
       "    \n",
       "            &lt;div class=&quot;folium-map&quot; id=&quot;map_898cd95f6dde214e41ed6d10c55af1cf&quot; &gt;&lt;/div&gt;\n",
       "        \n",
       "&lt;/body&gt;\n",
       "&lt;script&gt;\n",
       "    \n",
       "    \n",
       "            var map_898cd95f6dde214e41ed6d10c55af1cf = L.map(\n",
       "                &quot;map_898cd95f6dde214e41ed6d10c55af1cf&quot;,\n",
       "                {\n",
       "                    center: [48.248107, 17.78389],\n",
       "                    crs: L.CRS.EPSG3857,\n",
       "                    zoom: 14,\n",
       "                    zoomControl: true,\n",
       "                    preferCanvas: false,\n",
       "                }\n",
       "            );\n",
       "\n",
       "            \n",
       "\n",
       "        \n",
       "    \n",
       "            var tile_layer_362125f8c8d8b0e3a2e5619e1d9181c8 = L.tileLayer(\n",
       "                &quot;https://tile.openstreetmap.org/{z}/{x}/{y}.png&quot;,\n",
       "                {&quot;attribution&quot;: &quot;\\u0026copy; \\u003ca href=\\&quot;https://www.openstreetmap.org/copyright\\&quot;\\u003eOpenStreetMap\\u003c/a\\u003e contributors&quot;, &quot;detectRetina&quot;: false, &quot;maxNativeZoom&quot;: 19, &quot;maxZoom&quot;: 19, &quot;minZoom&quot;: 0, &quot;noWrap&quot;: false, &quot;opacity&quot;: 1, &quot;subdomains&quot;: &quot;abc&quot;, &quot;tms&quot;: false}\n",
       "            );\n",
       "        \n",
       "    \n",
       "            tile_layer_362125f8c8d8b0e3a2e5619e1d9181c8.addTo(map_898cd95f6dde214e41ed6d10c55af1cf);\n",
       "        \n",
       "    \n",
       "            var poly_line_272a534b4552f96afcbd6dbe68c36636 = L.polyline(\n",
       "                [[48.248107, 17.78389], [48.248006, 17.783038], [48.248563, 17.782477], [48.248837, 17.782118], [48.248908, 17.781892], [48.248936, 17.781682], [48.249739, 17.781131], [48.250212, 17.780891], [48.25165, 17.780354], [48.251916, 17.780244], [48.252172, 17.780055], [48.25233, 17.779957], [48.252409, 17.779872], [48.252488, 17.779718], [48.252634, 17.779054], [48.252899, 17.777976], [48.253123, 17.776977], [48.253944, 17.773721], [48.254405, 17.771814], [48.255409, 17.767743], [48.255714, 17.766475], [48.255793, 17.766191], [48.255876, 17.765931], [48.256054, 17.765539], [48.256222, 17.765271], [48.256391, 17.765065], [48.25652, 17.764945], [48.256788, 17.764741], [48.257051, 17.764565], [48.257479, 17.764257], [48.257798, 17.763968], [48.257975, 17.76376], [48.259408, 17.761969], [48.259807, 17.761452], [48.260701, 17.760326], [48.260992, 17.759969], [48.261341, 17.759509], [48.261931, 17.758777], [48.262249, 17.758351], [48.262585, 17.757925], [48.263119, 17.757284], [48.264509, 17.75548], [48.265539, 17.754203], [48.265623, 17.754095], [48.2657, 17.753975], [48.265763, 17.753839], [48.265811, 17.753707], [48.26624, 17.752387], [48.266412, 17.751907], [48.266438, 17.751855], [48.266542, 17.751711], [48.266726, 17.751508], [48.266841, 17.751412], [48.267481, 17.750771], [48.267734, 17.750548], [48.26821, 17.750161], [48.268465, 17.750246], [48.269179, 17.750584], [48.269454, 17.750694], [48.269594, 17.750722], [48.269856, 17.750683], [48.26994, 17.750652], [48.270094, 17.750574], [48.270247, 17.750461], [48.27039, 17.750312], [48.270516, 17.750128], [48.270607, 17.749967], [48.271064, 17.749047], [48.27132, 17.748487], [48.271981, 17.746835], [48.272164, 17.746453], [48.272251, 17.746308], [48.272368, 17.746168], [48.273023, 17.745642], [48.275508, 17.7438], [48.275658, 17.743665], [48.275821, 17.743476], [48.27633, 17.74284], [48.277614, 17.741183], [48.278739, 17.739687], [48.279555, 17.738642], [48.281215, 17.736462], [48.281627, 17.735934], [48.282033, 17.735453], [48.282462, 17.735017], [48.282681, 17.734827], [48.282839, 17.734706], [48.283359, 17.734381], [48.283838, 17.734196], [48.284581, 17.733977], [48.284887, 17.733836], [48.284975, 17.733777], [48.285003, 17.733855]],\n",
       "                {&quot;bubblingMouseEvents&quot;: true, &quot;color&quot;: &quot;blue&quot;, &quot;dashArray&quot;: null, &quot;dashOffset&quot;: null, &quot;fill&quot;: false, &quot;fillColor&quot;: &quot;blue&quot;, &quot;fillOpacity&quot;: 0.2, &quot;fillRule&quot;: &quot;evenodd&quot;, &quot;lineCap&quot;: &quot;round&quot;, &quot;lineJoin&quot;: &quot;round&quot;, &quot;noClip&quot;: false, &quot;opacity&quot;: 0.7, &quot;smoothFactor&quot;: 1.0, &quot;stroke&quot;: true, &quot;weight&quot;: 5}\n",
       "            ).addTo(map_898cd95f6dde214e41ed6d10c55af1cf);\n",
       "        \n",
       "    \n",
       "            poly_line_272a534b4552f96afcbd6dbe68c36636.bindTooltip(\n",
       "                `&lt;div&gt;\n",
       "                     Clear Route\n",
       "                 &lt;/div&gt;`,\n",
       "                {&quot;sticky&quot;: true}\n",
       "            );\n",
       "        \n",
       "    \n",
       "            var poly_line_2a3a64c2f02783a09cbd9710d00cf64f = L.polyline(\n",
       "                [[48.248107, 17.78389], [48.248006, 17.783038], [48.247818, 17.782635], [48.247397, 17.781924], [48.246818, 17.781975], [48.246672, 17.781963], [48.245006, 17.781495], [48.244482, 17.781339], [48.24417, 17.781293], [48.240737, 17.781594], [48.23929, 17.781671], [48.23499, 17.782099], [48.231531, 17.78236], [48.230965, 17.782413], [48.224474, 17.78293], [48.224024, 17.782977], [48.223845, 17.783016], [48.22342, 17.783146], [48.218337, 17.784912], [48.216978, 17.785419], [48.212912, 17.786781], [48.209936, 17.787826], [48.209194, 17.787989], [48.207777, 17.788255], [48.206327, 17.788547], [48.206155, 17.788609], [48.206209, 17.787681], [48.206449, 17.78422], [48.206436, 17.783898], [48.206372, 17.783613], [48.206027, 17.782534], [48.205875, 17.781942], [48.203798, 17.771843], [48.203353, 17.769728], [48.203306, 17.769515], [48.203168, 17.768888], [48.202984, 17.768115], [48.201285, 17.762534], [48.200743, 17.760716], [48.198951, 17.754816], [48.198901, 17.754669], [48.197808, 17.751083], [48.197842, 17.750829], [48.197936, 17.750609], [48.198033, 17.750569], [48.198419, 17.750363], [48.198573, 17.750252], [48.198852, 17.750004], [48.19897, 17.749889], [48.199305, 17.749497], [48.199474, 17.749277], [48.199609, 17.749073], [48.199723, 17.748886], [48.19998, 17.748429], [48.200501, 17.747536], [48.201018, 17.746751], [48.201421, 17.746212], [48.201659, 17.745964], [48.20205, 17.745604], [48.20489, 17.743319], [48.209232, 17.739927], [48.211069, 17.738604], [48.2119, 17.738107], [48.213316, 17.737347], [48.215003, 17.736596], [48.217012, 17.735901], [48.222662, 17.734121], [48.226477, 17.732968], [48.228583, 17.732225], [48.228928, 17.732134], [48.229021, 17.732198], [48.229122, 17.732228], [48.229225, 17.732222], [48.229292, 17.732197], [48.229355, 17.732158], [48.229414, 17.732104], [48.229486, 17.732005], [48.229541, 17.731884], [48.229578, 17.731749], [48.229699, 17.731656], [48.229897, 17.731587], [48.230174, 17.731533], [48.231817, 17.730844], [48.232997, 17.730373], [48.233631, 17.730215], [48.234198, 17.730197], [48.234634, 17.730282], [48.235175, 17.730503], [48.235763, 17.73094], [48.236403, 17.731384], [48.238196, 17.73263], [48.239333, 17.733472], [48.240023, 17.733953], [48.240992, 17.734675], [48.242134, 17.735366], [48.245821, 17.737499], [48.251449, 17.740791], [48.254712, 17.742666], [48.255633, 17.743228], [48.256228, 17.743577], [48.25788, 17.744545], [48.25825, 17.744752], [48.258356, 17.744804], [48.258865, 17.74509], [48.259202, 17.745264], [48.260371, 17.745868], [48.260966, 17.746154], [48.261941, 17.746666], [48.26262, 17.747028], [48.266609, 17.749376], [48.267144, 17.749683], [48.267607, 17.749922], [48.267796, 17.750009], [48.268465, 17.750246], [48.269077, 17.750541], [48.269454, 17.750694], [48.269594, 17.750722], [48.269825, 17.75069], [48.270042, 17.750605], [48.270094, 17.750574], [48.270247, 17.750461], [48.27039, 17.750312], [48.270516, 17.750128], [48.270607, 17.749967], [48.271064, 17.749047], [48.27132, 17.748487], [48.271981, 17.746835], [48.272164, 17.746453], [48.272251, 17.746308], [48.272368, 17.746168], [48.273023, 17.745642], [48.275508, 17.7438], [48.275658, 17.743665], [48.275821, 17.743476], [48.27633, 17.74284], [48.277614, 17.741183], [48.278739, 17.739687], [48.279555, 17.738642], [48.281215, 17.736462], [48.281627, 17.735934], [48.282033, 17.735453], [48.282462, 17.735017], [48.282681, 17.734827], [48.282839, 17.734706], [48.283359, 17.734381], [48.283749, 17.734222], [48.284581, 17.733977], [48.284887, 17.733836], [48.284975, 17.733777], [48.285003, 17.733855]],\n",
       "                {&quot;bubblingMouseEvents&quot;: true, &quot;color&quot;: &quot;red&quot;, &quot;dashArray&quot;: null, &quot;dashOffset&quot;: null, &quot;fill&quot;: false, &quot;fillColor&quot;: &quot;red&quot;, &quot;fillOpacity&quot;: 0.2, &quot;fillRule&quot;: &quot;evenodd&quot;, &quot;lineCap&quot;: &quot;round&quot;, &quot;lineJoin&quot;: &quot;round&quot;, &quot;noClip&quot;: false, &quot;opacity&quot;: 0.7, &quot;smoothFactor&quot;: 1.0, &quot;stroke&quot;: true, &quot;weight&quot;: 5}\n",
       "            ).addTo(map_898cd95f6dde214e41ed6d10c55af1cf);\n",
       "        \n",
       "    \n",
       "            poly_line_2a3a64c2f02783a09cbd9710d00cf64f.bindTooltip(\n",
       "                `&lt;div&gt;\n",
       "                     Alt Route\n",
       "                 &lt;/div&gt;`,\n",
       "                {&quot;sticky&quot;: true}\n",
       "            );\n",
       "        \n",
       "&lt;/script&gt;\n",
       "&lt;/html&gt;\" style=\"position:absolute;width:100%;height:100%;left:0;top:0;border:none !important;\" allowfullscreen webkitallowfullscreen mozallowfullscreen></iframe></div></div>"
      ],
      "text/plain": [
       "<folium.folium.Map at 0x1fbcbd763c0>"
      ]
     },
     "execution_count": 169,
     "metadata": {},
     "output_type": "execute_result"
    }
   ],
   "source": [
    "import folium\n",
    "\n",
    "# Specify the index to plot\n",
    "index_to_plot = 35\n",
    "\n",
    "# Extract Clear and Alt routes for the specified index\n",
    "clear_route = df.iloc[index_to_plot][\"Clear_Route\"]\n",
    "alt_route = df.iloc[index_to_plot][\"Alt_Route\"]\n",
    "\n",
    "# Create a Folium map centered at the first point of the Clear Route (if available)\n",
    "if clear_route:\n",
    "    start_point = [clear_route[0][\"latitude\"], clear_route[0][\"longitude\"]]\n",
    "elif alt_route:\n",
    "    start_point = [alt_route[0][\"latitude\"], alt_route[0][\"longitude\"]]\n",
    "else:\n",
    "    start_point = [0, 0]  # Fallback if no routes are available\n",
    "\n",
    "map_folium = folium.Map(location=start_point, zoom_start=14)\n",
    "\n",
    "# Add Clear Route to the map\n",
    "if clear_route:\n",
    "    clear_coords = [(point[\"latitude\"], point[\"longitude\"])\n",
    "                    for point in clear_route]\n",
    "    folium.PolyLine(clear_coords, color=\"blue\", weight=5,\n",
    "                    opacity=0.7, tooltip=\"Clear Route\").add_to(map_folium)\n",
    "\n",
    "# Add Alt Route to the map\n",
    "if alt_route:\n",
    "    alt_coords = [(point[\"latitude\"], point[\"longitude\"])\n",
    "                  for point in alt_route]\n",
    "    folium.PolyLine(alt_coords, color=\"red\", weight=5,\n",
    "                    opacity=0.7, tooltip=\"Alt Route\").add_to(map_folium)\n",
    "\n",
    "# Display the map\n",
    "map_folium"
   ]
  },
  {
   "cell_type": "code",
   "execution_count": 170,
   "metadata": {},
   "outputs": [
    {
     "data": {
      "text/plain": [
       "[{'point_index': 0,\n",
       "  'longitude': 17.781844,\n",
       "  'latitude': 48.589306,\n",
       "  'distance': 0,\n",
       "  'cumulative_distance': 0,\n",
       "  'elevation': 157.0,\n",
       "  'slope': 0},\n",
       " {'point_index': 1,\n",
       "  'longitude': 17.782481,\n",
       "  'latitude': 48.589233,\n",
       "  'distance': 47.602716288981114,\n",
       "  'cumulative_distance': 47.602716288981114,\n",
       "  'elevation': 157.1,\n",
       "  'slope': 0.21007204587428535},\n",
       " {'point_index': 2,\n",
       "  'longitude': 17.782774,\n",
       "  'latitude': 48.589219,\n",
       "  'distance': 21.630571666253434,\n",
       "  'cumulative_distance': 69.23328795523454,\n",
       "  'elevation': 156.6,\n",
       "  'slope': -2.311543160831327},\n",
       " {'point_index': 3,\n",
       "  'longitude': 17.782993,\n",
       "  'latitude': 48.589215,\n",
       "  'distance': 16.131689660348066,\n",
       "  'cumulative_distance': 85.3649776155826,\n",
       "  'elevation': 156.4,\n",
       "  'slope': -1.2397957325672564},\n",
       " {'point_index': 4,\n",
       "  'longitude': 17.783217,\n",
       "  'latitude': 48.589223,\n",
       "  'distance': 16.517728230972956,\n",
       "  'cumulative_distance': 101.88270584655555,\n",
       "  'elevation': 156.3,\n",
       "  'slope': -0.6054101302652558},\n",
       " {'point_index': 5,\n",
       "  'longitude': 17.78361,\n",
       "  'latitude': 48.58925,\n",
       "  'distance': 29.093270450318176,\n",
       "  'cumulative_distance': 130.97597629687374,\n",
       "  'elevation': 155.9,\n",
       "  'slope': -1.3748883979306326},\n",
       " {'point_index': 6,\n",
       "  'longitude': 17.78397,\n",
       "  'latitude': 48.589292,\n",
       "  'distance': 26.916868023938818,\n",
       "  'cumulative_distance': 157.89284432081257,\n",
       "  'elevation': 156.7,\n",
       "  'slope': 2.972113989222275},\n",
       " {'point_index': 7,\n",
       "  'longitude': 17.784296,\n",
       "  'latitude': 48.589343,\n",
       "  'distance': 24.666413446716028,\n",
       "  'cumulative_distance': 182.5592577675286,\n",
       "  'elevation': 157.4,\n",
       "  'slope': 2.8378669704541575},\n",
       " {'point_index': 8,\n",
       "  'longitude': 17.785367,\n",
       "  'latitude': 48.589562,\n",
       "  'distance': 82.54230597968231,\n",
       "  'cumulative_distance': 265.1015637472109,\n",
       "  'elevation': 158.3,\n",
       "  'slope': 1.0903499597182802},\n",
       " {'point_index': 9,\n",
       "  'longitude': 17.785921,\n",
       "  'latitude': 48.589718,\n",
       "  'distance': 44.334691504529154,\n",
       "  'cumulative_distance': 309.43625525174,\n",
       "  'elevation': 158.5,\n",
       "  'slope': 0.4511139994727537},\n",
       " {'point_index': 10,\n",
       "  'longitude': 17.78707,\n",
       "  'latitude': 48.590084,\n",
       "  'distance': 93.90184443362853,\n",
       "  'cumulative_distance': 403.33809968536855,\n",
       "  'elevation': 157.1,\n",
       "  'slope': -1.4909185314134594},\n",
       " {'point_index': 11,\n",
       "  'longitude': 17.78823,\n",
       "  'latitude': 48.590429,\n",
       "  'distance': 93.64899352370183,\n",
       "  'cumulative_distance': 496.9870932090704,\n",
       "  'elevation': 158.2,\n",
       "  'slope': 1.174598848968508},\n",
       " {'point_index': 12,\n",
       "  'longitude': 17.788657,\n",
       "  'latitude': 48.59054,\n",
       "  'distance': 33.78127937734738,\n",
       "  'cumulative_distance': 530.7683725864177,\n",
       "  'elevation': 158.8,\n",
       "  'slope': 1.7761316654050796},\n",
       " {'point_index': 13,\n",
       "  'longitude': 17.789727,\n",
       "  'latitude': 48.590783,\n",
       "  'distance': 83.29902332413742,\n",
       "  'cumulative_distance': 614.0673959105552,\n",
       "  'elevation': 158.0,\n",
       "  'slope': -0.9603954141058899},\n",
       " {'point_index': 14,\n",
       "  'longitude': 17.790144,\n",
       "  'latitude': 48.590846,\n",
       "  'distance': 31.49456966266709,\n",
       "  'cumulative_distance': 645.5619655732223,\n",
       "  'elevation': 157.3,\n",
       "  'slope': -2.2226053808563444},\n",
       " {'point_index': 15,\n",
       "  'longitude': 17.790587,\n",
       "  'latitude': 48.590892,\n",
       "  'distance': 33.01766692559159,\n",
       "  'cumulative_distance': 678.5796324988139,\n",
       "  'elevation': 156.6,\n",
       "  'slope': -2.1200771137995083},\n",
       " {'point_index': 16,\n",
       "  'longitude': 17.791012,\n",
       "  'latitude': 48.590931,\n",
       "  'distance': 31.592523950172886,\n",
       "  'cumulative_distance': 710.1721564489868,\n",
       "  'elevation': 157.0,\n",
       "  'slope': 1.2661223289119854},\n",
       " {'point_index': 17,\n",
       "  'longitude': 17.791444,\n",
       "  'latitude': 48.590953,\n",
       "  'distance': 31.90233685935618,\n",
       "  'cumulative_distance': 742.074493308343,\n",
       "  'elevation': 157.4,\n",
       "  'slope': 1.2538266452499558},\n",
       " {'point_index': 18,\n",
       "  'longitude': 17.791925,\n",
       "  'latitude': 48.590961,\n",
       "  'distance': 35.427259849375126,\n",
       "  'cumulative_distance': 777.5017531577181,\n",
       "  'elevation': 157.8,\n",
       "  'slope': 1.1290740568157742},\n",
       " {'point_index': 19,\n",
       "  'longitude': 17.79251,\n",
       "  'latitude': 48.590961,\n",
       "  'distance': 43.0735924043384,\n",
       "  'cumulative_distance': 820.5753455620566,\n",
       "  'elevation': 157.6,\n",
       "  'slope': -0.4643216152546239},\n",
       " {'point_index': 20,\n",
       "  'longitude': 17.793271,\n",
       "  'latitude': 48.590927,\n",
       "  'distance': 56.160206589456045,\n",
       "  'cumulative_distance': 876.7355521515126,\n",
       "  'elevation': 157.6,\n",
       "  'slope': 0.0},\n",
       " {'point_index': 21,\n",
       "  'longitude': 17.793529,\n",
       "  'latitude': 48.5909,\n",
       "  'distance': 19.232885975780587,\n",
       "  'cumulative_distance': 895.9684381272932,\n",
       "  'elevation': 157.6,\n",
       "  'slope': 0.0},\n",
       " {'point_index': 22,\n",
       "  'longitude': 17.793864,\n",
       "  'latitude': 48.590805,\n",
       "  'distance': 26.837604946591647,\n",
       "  'cumulative_distance': 922.8060430738849,\n",
       "  'elevation': 157.2,\n",
       "  'slope': -1.4904459648915331},\n",
       " {'point_index': 23,\n",
       "  'longitude': 17.797424,\n",
       "  'latitude': 48.590393,\n",
       "  'distance': 266.1080886601658,\n",
       "  'cumulative_distance': 1188.9141317340507,\n",
       "  'elevation': 157.9,\n",
       "  'slope': 0.26305100439617013},\n",
       " {'point_index': 24,\n",
       "  'longitude': 17.798268,\n",
       "  'latitude': 48.590296,\n",
       "  'distance': 63.07573059402116,\n",
       "  'cumulative_distance': 1251.989862328072,\n",
       "  'elevation': 158.2,\n",
       "  'slope': 0.4756187477730451},\n",
       " {'point_index': 25,\n",
       "  'longitude': 17.798441,\n",
       "  'latitude': 48.590313,\n",
       "  'distance': 12.877972152582348,\n",
       "  'cumulative_distance': 1264.8678344806542,\n",
       "  'elevation': 158.1,\n",
       "  'slope': -0.776519772019711},\n",
       " {'point_index': 26,\n",
       "  'longitude': 17.799849,\n",
       "  'latitude': 48.590116,\n",
       "  'distance': 105.96691662948842,\n",
       "  'cumulative_distance': 1370.8347511101426,\n",
       "  'elevation': 158.0,\n",
       "  'slope': -0.09436907591606414},\n",
       " {'point_index': 27,\n",
       "  'longitude': 17.8022,\n",
       "  'latitude': 48.589826,\n",
       "  'distance': 176.09263084340864,\n",
       "  'cumulative_distance': 1546.9273819535513,\n",
       "  'elevation': 157.1,\n",
       "  'slope': -0.5110946413199629},\n",
       " {'point_index': 28,\n",
       "  'longitude': 17.80243,\n",
       "  'latitude': 48.589771,\n",
       "  'distance': 18.008075934685518,\n",
       "  'cumulative_distance': 1564.935457888237,\n",
       "  'elevation': 157.3,\n",
       "  'slope': 1.1106128201891643},\n",
       " {'point_index': 29,\n",
       "  'longitude': 17.802517,\n",
       "  'latitude': 48.589737,\n",
       "  'distance': 7.4405413866127,\n",
       "  'cumulative_distance': 1572.3759992748496,\n",
       "  'elevation': 157.4,\n",
       "  'slope': 1.3439882234902698},\n",
       " {'point_index': 30,\n",
       "  'longitude': 17.80258,\n",
       "  'latitude': 48.589685,\n",
       "  'distance': 7.4179930257626125,\n",
       "  'cumulative_distance': 1579.7939923006122,\n",
       "  'elevation': 157.5,\n",
       "  'slope': 1.3480735241014026},\n",
       " {'point_index': 31,\n",
       "  'longitude': 17.802774,\n",
       "  'latitude': 48.589619,\n",
       "  'distance': 16.06330785941603,\n",
       "  'cumulative_distance': 1595.8573001600282,\n",
       "  'elevation': 157.6,\n",
       "  'slope': 0.6225367830535355},\n",
       " {'point_index': 32,\n",
       "  'longitude': 17.80285,\n",
       "  'latitude': 48.589611,\n",
       "  'distance': 5.666453718035439,\n",
       "  'cumulative_distance': 1601.5237538780636,\n",
       "  'elevation': 157.7,\n",
       "  'slope': 1.7647722010277769},\n",
       " {'point_index': 33,\n",
       "  'longitude': 17.802926,\n",
       "  'latitude': 48.589617,\n",
       "  'distance': 5.6357531429905805,\n",
       "  'cumulative_distance': 1607.1595070210542,\n",
       "  'elevation': 157.8,\n",
       "  'slope': 1.774385738033911},\n",
       " {'point_index': 34,\n",
       "  'longitude': 17.803002,\n",
       "  'latitude': 48.589635,\n",
       "  'distance': 5.943954537298807,\n",
       "  'cumulative_distance': 1613.103461558353,\n",
       "  'elevation': 157.9,\n",
       "  'slope': 1.6823816429362985},\n",
       " {'point_index': 35,\n",
       "  'longitude': 17.803052,\n",
       "  'latitude': 48.589667,\n",
       "  'distance': 5.122850851385516,\n",
       "  'cumulative_distance': 1618.2263124097385,\n",
       "  'elevation': 158.1,\n",
       "  'slope': 3.9040761833988786},\n",
       " {'point_index': 36,\n",
       "  'longitude': 17.803158,\n",
       "  'latitude': 48.589688,\n",
       "  'distance': 8.147555761982535,\n",
       "  'cumulative_distance': 1626.3738681717211,\n",
       "  'elevation': 158.3,\n",
       "  'slope': 2.454723917732983},\n",
       " {'point_index': 37,\n",
       "  'longitude': 17.803419,\n",
       "  'latitude': 48.58968,\n",
       "  'distance': 19.238559150254613,\n",
       "  'cumulative_distance': 1645.6124273219757,\n",
       "  'elevation': 158.8,\n",
       "  'slope': 2.598947229337509},\n",
       " {'point_index': 38,\n",
       "  'longitude': 17.807723,\n",
       "  'latitude': 48.58918,\n",
       "  'distance': 321.76563767302383,\n",
       "  'cumulative_distance': 1967.3780649949995,\n",
       "  'elevation': 155.9,\n",
       "  'slope': -0.9012770975087672},\n",
       " {'point_index': 39,\n",
       "  'longitude': 17.808086,\n",
       "  'latitude': 48.589136,\n",
       "  'distance': 27.17376291014953,\n",
       "  'cumulative_distance': 1994.551827905149,\n",
       "  'elevation': 155.9,\n",
       "  'slope': 0.0},\n",
       " {'point_index': 40,\n",
       "  'longitude': 17.809469,\n",
       "  'latitude': 48.588972,\n",
       "  'distance': 103.45791776218027,\n",
       "  'cumulative_distance': 2098.0097456673293,\n",
       "  'elevation': 156.2,\n",
       "  'slope': 0.2899729730590518},\n",
       " {'point_index': 41,\n",
       "  'longitude': 17.81071,\n",
       "  'latitude': 48.588819,\n",
       "  'distance': 92.95250879628736,\n",
       "  'cumulative_distance': 2190.962254463617,\n",
       "  'elevation': 157.9,\n",
       "  'slope': 1.8288909272214473},\n",
       " {'point_index': 42,\n",
       "  'longitude': 17.816222,\n",
       "  'latitude': 48.588149,\n",
       "  'distance': 412.66753309569884,\n",
       "  'cumulative_distance': 2603.6297875593154,\n",
       "  'elevation': 160.0,\n",
       "  'slope': 0.5088842304230893},\n",
       " {'point_index': 43,\n",
       "  'longitude': 17.81731,\n",
       "  'latitude': 48.588037,\n",
       "  'distance': 81.078501250701,\n",
       "  'cumulative_distance': 2684.7082888100163,\n",
       "  'elevation': 159.8,\n",
       "  'slope': -0.24667451533369267},\n",
       " {'point_index': 44,\n",
       "  'longitude': 17.818352,\n",
       "  'latitude': 48.587864,\n",
       "  'distance': 79.10720615229243,\n",
       "  'cumulative_distance': 2763.8154949623085,\n",
       "  'elevation': 159.3,\n",
       "  'slope': -0.632053670353912},\n",
       " {'point_index': 45,\n",
       "  'longitude': 17.819172,\n",
       "  'latitude': 48.587691,\n",
       "  'distance': 63.377392365846745,\n",
       "  'cumulative_distance': 2827.1928873281554,\n",
       "  'elevation': 159.9,\n",
       "  'slope': 0.9467098244378488},\n",
       " {'point_index': 46,\n",
       "  'longitude': 17.81967,\n",
       "  'latitude': 48.587568,\n",
       "  'distance': 39.14313963939992,\n",
       "  'cumulative_distance': 2866.3360269675554,\n",
       "  'elevation': 160.7,\n",
       "  'slope': 2.0437808703386047},\n",
       " {'point_index': 47,\n",
       "  'longitude': 17.819899,\n",
       "  'latitude': 48.587507,\n",
       "  'distance': 18.17835509889779,\n",
       "  'cumulative_distance': 2884.5143820664534,\n",
       "  'elevation': 160.9,\n",
       "  'slope': 1.100209556430899},\n",
       " {'point_index': 48,\n",
       "  'longitude': 17.820382,\n",
       "  'latitude': 48.587362,\n",
       "  'distance': 39.0572997600084,\n",
       "  'cumulative_distance': 2923.571681826462,\n",
       "  'elevation': 161.1,\n",
       "  'slope': 0.5120681696607529},\n",
       " {'point_index': 49,\n",
       "  'longitude': 17.821841,\n",
       "  'latitude': 48.586929,\n",
       "  'distance': 117.75234867158937,\n",
       "  'cumulative_distance': 3041.3240304980513,\n",
       "  'elevation': 161.1,\n",
       "  'slope': 0.0},\n",
       " {'point_index': 50,\n",
       "  'longitude': 17.822621,\n",
       "  'latitude': 48.586698,\n",
       "  'distance': 62.92995960306971,\n",
       "  'cumulative_distance': 3104.253990101121,\n",
       "  'elevation': 160.1,\n",
       "  'slope': -1.5890682376208296},\n",
       " {'point_index': 51,\n",
       "  'longitude': 17.822893,\n",
       "  'latitude': 48.586625,\n",
       "  'distance': 21.614853672983674,\n",
       "  'cumulative_distance': 3125.868843774105,\n",
       "  'elevation': 159.7,\n",
       "  'slope': -1.8505792639251784},\n",
       " {'point_index': 52,\n",
       "  'longitude': 17.823579,\n",
       "  'latitude': 48.586465,\n",
       "  'distance': 53.5627974718593,\n",
       "  'cumulative_distance': 3179.431641245964,\n",
       "  'elevation': 159.0,\n",
       "  'slope': -1.3068772226987455},\n",
       " {'point_index': 53,\n",
       "  'longitude': 17.823825,\n",
       "  'latitude': 48.586415,\n",
       "  'distance': 18.950456382811453,\n",
       "  'cumulative_distance': 3198.382097628775,\n",
       "  'elevation': 158.8,\n",
       "  'slope': -1.0553835536192877},\n",
       " {'point_index': 54,\n",
       "  'longitude': 17.824623,\n",
       "  'latitude': 48.586284,\n",
       "  'distance': 60.54469435448862,\n",
       "  'cumulative_distance': 3258.9267919832637,\n",
       "  'elevation': 158.0,\n",
       "  'slope': -1.321337911652537},\n",
       " {'point_index': 55,\n",
       "  'longitude': 17.824856,\n",
       "  'latitude': 48.586254,\n",
       "  'distance': 17.47939848397455,\n",
       "  'cumulative_distance': 3276.406190467238,\n",
       "  'elevation': 158.2,\n",
       "  'slope': 1.144204133702613},\n",
       " {'point_index': 56,\n",
       "  'longitude': 17.824866,\n",
       "  'latitude': 48.586209,\n",
       "  'distance': 5.063210396175706,\n",
       "  'cumulative_distance': 3281.4694008634137,\n",
       "  'elevation': 158.2,\n",
       "  'slope': 0.0},\n",
       " {'point_index': 57,\n",
       "  'longitude': 17.8249,\n",
       "  'latitude': 48.58617,\n",
       "  'distance': 5.011645304014916,\n",
       "  'cumulative_distance': 3286.4810461674288,\n",
       "  'elevation': 158.3,\n",
       "  'slope': 1.995352702233556},\n",
       " {'point_index': 58,\n",
       "  'longitude': 17.824951,\n",
       "  'latitude': 48.586141,\n",
       "  'distance': 4.952314180055539,\n",
       "  'cumulative_distance': 3291.4333603474843,\n",
       "  'elevation': 158.3,\n",
       "  'slope': 0.0},\n",
       " {'point_index': 59,\n",
       "  'longitude': 17.825015,\n",
       "  'latitude': 48.586125,\n",
       "  'distance': 5.038116069656344,\n",
       "  'cumulative_distance': 3296.471476417141,\n",
       "  'elevation': 158.3,\n",
       "  'slope': 0.0},\n",
       " {'point_index': 60,\n",
       "  'longitude': 17.825091,\n",
       "  'latitude': 48.586126,\n",
       "  'distance': 5.597527974287413,\n",
       "  'cumulative_distance': 3302.0690043914283,\n",
       "  'elevation': 158.4,\n",
       "  'slope': 1.7865029073432137},\n",
       " {'point_index': 61,\n",
       "  'longitude': 17.82516,\n",
       "  'latitude': 48.586146,\n",
       "  'distance': 5.547337838380929,\n",
       "  'cumulative_distance': 3307.616342229809,\n",
       "  'elevation': 158.4,\n",
       "  'slope': 0.0},\n",
       " {'point_index': 62,\n",
       "  'longitude': 17.825213,\n",
       "  'latitude': 48.586183,\n",
       "  'distance': 5.674173551960949,\n",
       "  'cumulative_distance': 3313.29051578177,\n",
       "  'elevation': 158.5,\n",
       "  'slope': 1.7623711908747508},\n",
       " {'point_index': 63,\n",
       "  'longitude': 17.82524,\n",
       "  'latitude': 48.58623,\n",
       "  'distance': 5.597045985273479,\n",
       "  'cumulative_distance': 3318.8875617670433,\n",
       "  'elevation': 158.6,\n",
       "  'slope': 1.78665675184922},\n",
       " {'point_index': 64,\n",
       "  'longitude': 17.825824,\n",
       "  'latitude': 48.586211,\n",
       "  'distance': 43.055985849365335,\n",
       "  'cumulative_distance': 3361.9435476164085,\n",
       "  'elevation': 158.8,\n",
       "  'slope': 0.46451148674131487},\n",
       " {'point_index': 65,\n",
       "  'longitude': 17.826622,\n",
       "  'latitude': 48.586218,\n",
       "  'distance': 58.76747938004797,\n",
       "  'cumulative_distance': 3420.7110269964564,\n",
       "  'elevation': 159.0,\n",
       "  'slope': 0.3403242781719344},\n",
       " {'point_index': 66,\n",
       "  'longitude': 17.831623,\n",
       "  'latitude': 48.586294,\n",
       "  'distance': 368.3551709539801,\n",
       "  'cumulative_distance': 3789.0661979504366,\n",
       "  'elevation': 159.8,\n",
       "  'slope': 0.21718169394178483},\n",
       " {'point_index': 67,\n",
       "  'longitude': 17.831965,\n",
       "  'latitude': 48.586271,\n",
       "  'distance': 25.313638096822523,\n",
       "  'cumulative_distance': 3814.3798360472592,\n",
       "  'elevation': 159.8,\n",
       "  'slope': 0.0},\n",
       " {'point_index': 68,\n",
       "  'longitude': 17.832171,\n",
       "  'latitude': 48.586291,\n",
       "  'distance': 15.331710300269593,\n",
       "  'cumulative_distance': 3829.711546347529,\n",
       "  'elevation': 159.9,\n",
       "  'slope': 0.652242952948543},\n",
       " {'point_index': 69,\n",
       "  'longitude': 17.832294,\n",
       "  'latitude': 48.586283,\n",
       "  'distance': 9.10101365442014,\n",
       "  'cumulative_distance': 3838.812560001949,\n",
       "  'elevation': 160.0,\n",
       "  'slope': 1.0987787052866005},\n",
       " {'point_index': 70,\n",
       "  'longitude': 17.832316,\n",
       "  'latitude': 48.586264,\n",
       "  'distance': 2.664200048273518,\n",
       "  'cumulative_distance': 3841.4767600502223,\n",
       "  'elevation': 160.0,\n",
       "  'slope': 0.0},\n",
       " {'point_index': 71,\n",
       "  'longitude': 17.832381,\n",
       "  'latitude': 48.586232,\n",
       "  'distance': 5.966497103226009,\n",
       "  'cumulative_distance': 3847.4432571534485,\n",
       "  'elevation': 160.1,\n",
       "  'slope': 1.6760252836781835},\n",
       " {'point_index': 72,\n",
       "  'longitude': 17.832459,\n",
       "  'latitude': 48.586219,\n",
       "  'distance': 5.923188821418611,\n",
       "  'cumulative_distance': 3853.366445974867,\n",
       "  'elevation': 160.1,\n",
       "  'slope': 0.0},\n",
       " {'point_index': 73,\n",
       "  'longitude': 17.832513,\n",
       "  'latitude': 48.586223,\n",
       "  'distance': 4.001250225400399,\n",
       "  'cumulative_distance': 3857.3676962002673,\n",
       "  'elevation': 160.2,\n",
       "  'slope': 2.4992188532769766},\n",
       " {'point_index': 74,\n",
       "  'longitude': 17.832564,\n",
       "  'latitude': 48.586236,\n",
       "  'distance': 4.024663862341939,\n",
       "  'cumulative_distance': 3861.3923600626094,\n",
       "  'elevation': 160.3,\n",
       "  'slope': 2.4846795513957054},\n",
       " {'point_index': 75,\n",
       "  'longitude': 17.832607,\n",
       "  'latitude': 48.586258,\n",
       "  'distance': 4.002968110202465,\n",
       "  'cumulative_distance': 3865.395328172812,\n",
       "  'elevation': 160.3,\n",
       "  'slope': 0.0},\n",
       " {'point_index': 76,\n",
       "  'longitude': 17.832756,\n",
       "  'latitude': 48.58628,\n",
       "  'distance': 11.241897886446306,\n",
       "  'cumulative_distance': 3876.637226059258,\n",
       "  'elevation': 160.5,\n",
       "  'slope': 1.7790590345169106},\n",
       " {'point_index': 77,\n",
       "  'longitude': 17.833219,\n",
       "  'latitude': 48.586296,\n",
       "  'distance': 34.14036300451644,\n",
       "  'cumulative_distance': 3910.7775890637745,\n",
       "  'elevation': 160.8,\n",
       "  'slope': 0.878725278815355},\n",
       " {'point_index': 78,\n",
       "  'longitude': 17.833689,\n",
       "  'latitude': 48.586336,\n",
       "  'distance': 34.89456973641577,\n",
       "  'cumulative_distance': 3945.67215880019,\n",
       "  'elevation': 161.1,\n",
       "  'slope': 0.8597326239185712},\n",
       " {'point_index': 79,\n",
       "  'longitude': 17.834569,\n",
       "  'latitude': 48.586355,\n",
       "  'distance': 64.8348784787829,\n",
       "  'cumulative_distance': 4010.507037278973,\n",
       "  'elevation': 159.5,\n",
       "  'slope': -2.4678075096934},\n",
       " {'point_index': 80,\n",
       "  'longitude': 17.83471,\n",
       "  'latitude': 48.586352,\n",
       "  'distance': 10.388156600803034,\n",
       "  'cumulative_distance': 4020.895193879776,\n",
       "  'elevation': 159.3,\n",
       "  'slope': -1.9252693975033843},\n",
       " {'point_index': 81,\n",
       "  'longitude': 17.83496,\n",
       "  'latitude': 48.586335,\n",
       "  'distance': 18.50621685375932,\n",
       "  'cumulative_distance': 4039.401410733535,\n",
       "  'elevation': 158.8,\n",
       "  'slope': -2.701794774972773},\n",
       " {'point_index': 82,\n",
       "  'longitude': 17.83521,\n",
       "  'latitude': 48.586303,\n",
       "  'distance': 18.750696860698124,\n",
       "  'cumulative_distance': 4058.1521075942333,\n",
       "  'elevation': 158.3,\n",
       "  'slope': -2.6665675612729416},\n",
       " {'point_index': 83,\n",
       "  'longitude': 17.835424,\n",
       "  'latitude': 48.586256,\n",
       "  'distance': 16.604158954508,\n",
       "  'cumulative_distance': 4074.756266548741,\n",
       "  'elevation': 157.9,\n",
       "  'slope': -2.4090349959665156},\n",
       " {'point_index': 84,\n",
       "  'longitude': 17.835699,\n",
       "  'latitude': 48.586178,\n",
       "  'distance': 22.0332285233207,\n",
       "  'cumulative_distance': 4096.789495072062,\n",
       "  'elevation': 157.4,\n",
       "  'slope': -2.2692997509229453},\n",
       " {'point_index': 85,\n",
       "  'longitude': 17.835945,\n",
       "  'latitude': 48.58609,\n",
       "  'distance': 20.593878163732178,\n",
       "  'cumulative_distance': 4117.383373235794,\n",
       "  'elevation': 156.9,\n",
       "  'slope': -2.427905982665026},\n",
       " {'point_index': 86,\n",
       "  'longitude': 17.838305,\n",
       "  'latitude': 48.585292,\n",
       "  'distance': 195.17435611979516,\n",
       "  'cumulative_distance': 4312.55772935559,\n",
       "  'elevation': 158.4,\n",
       "  'slope': 0.7685435883181917},\n",
       " {'point_index': 87,\n",
       "  'longitude': 17.839146,\n",
       "  'latitude': 48.585009,\n",
       "  'distance': 69.48246538000548,\n",
       "  'cumulative_distance': 4382.040194735595,\n",
       "  'elevation': 171.2,\n",
       "  'slope': 18.421913974980164},\n",
       " {'point_index': 88,\n",
       "  'longitude': 17.839372,\n",
       "  'latitude': 48.584948,\n",
       "  'distance': 17.974410586353954,\n",
       "  'cumulative_distance': 4400.014605321949,\n",
       "  'elevation': 175.6,\n",
       "  'slope': 24.47924497363187},\n",
       " {'point_index': 89,\n",
       "  'longitude': 17.839511,\n",
       "  'latitude': 48.584948,\n",
       "  'distance': 10.23579794199182,\n",
       "  'cumulative_distance': 4410.250403263941,\n",
       "  'elevation': 177.5,\n",
       "  'slope': 18.562304675880288},\n",
       " {'point_index': 90,\n",
       "  'longitude': 17.839692,\n",
       "  'latitude': 48.58498,\n",
       "  'distance': 13.796432984889892,\n",
       "  'cumulative_distance': 4424.046836248831,\n",
       "  'elevation': 180.0,\n",
       "  'slope': 18.120625836678556},\n",
       " {'point_index': 91,\n",
       "  'longitude': 17.840408,\n",
       "  'latitude': 48.585321,\n",
       "  'distance': 64.96833728699674,\n",
       "  'cumulative_distance': 4489.015173535828,\n",
       "  'elevation': 186.3,\n",
       "  'slope': 9.697031297214592},\n",
       " {'point_index': 92,\n",
       "  'longitude': 17.840551,\n",
       "  'latitude': 48.585364,\n",
       "  'distance': 11.567168035950763,\n",
       "  'cumulative_distance': 4500.582341571779,\n",
       "  'elevation': 187.4,\n",
       "  'slope': 9.50967424853857},\n",
       " {'point_index': 93,\n",
       "  'longitude': 17.840943,\n",
       "  'latitude': 48.585439,\n",
       "  'distance': 30.049281986770648,\n",
       "  'cumulative_distance': 4530.631623558549,\n",
       "  'elevation': 190.3,\n",
       "  'slope': 9.65081295878133},\n",
       " {'point_index': 94,\n",
       "  'longitude': 17.842029,\n",
       "  'latitude': 48.585572,\n",
       "  'distance': 81.32975647224626,\n",
       "  'cumulative_distance': 4611.961380030795,\n",
       "  'elevation': 198.1,\n",
       "  'slope': 9.590585707288733},\n",
       " {'point_index': 95,\n",
       "  'longitude': 17.842366,\n",
       "  'latitude': 48.58558,\n",
       "  'distance': 24.831951046461917,\n",
       "  'cumulative_distance': 4636.793331077257,\n",
       "  'elevation': 200.5,\n",
       "  'slope': 9.664967507021403},\n",
       " {'point_index': 96,\n",
       "  'longitude': 17.842698,\n",
       "  'latitude': 48.585545,\n",
       "  'distance': 24.756319646647075,\n",
       "  'cumulative_distance': 4661.549650723904,\n",
       "  'elevation': 202.9,\n",
       "  'slope': 9.694494311980879},\n",
       " {'point_index': 97,\n",
       "  'longitude': 17.842894,\n",
       "  'latitude': 48.585515,\n",
       "  'distance': 14.814376320699484,\n",
       "  'cumulative_distance': 4676.364027044604,\n",
       "  'elevation': 203.4,\n",
       "  'slope': 3.3750998973974475},\n",
       " {'point_index': 98,\n",
       "  'longitude': 17.843431,\n",
       "  'latitude': 48.585395,\n",
       "  'distance': 41.73906752119958,\n",
       "  'cumulative_distance': 4718.103094565804,\n",
       "  'elevation': 197.6,\n",
       "  'slope': -13.895854278618344},\n",
       " {'point_index': 99,\n",
       "  'longitude': 17.843627,\n",
       "  'latitude': 48.585358,\n",
       "  'distance': 15.009293842255415,\n",
       "  'cumulative_distance': 4733.11238840806,\n",
       "  'elevation': 195.5,\n",
       "  'slope': -13.991331118376129},\n",
       " {'point_index': 100,\n",
       "  'longitude': 17.84387,\n",
       "  'latitude': 48.585333,\n",
       "  'distance': 18.10921992753877,\n",
       "  'cumulative_distance': 4751.221608335599,\n",
       "  'elevation': 193.0,\n",
       "  'slope': -13.805122528763588},\n",
       " {'point_index': 101,\n",
       "  'longitude': 17.844189,\n",
       "  'latitude': 48.585337,\n",
       "  'distance': 23.4948271465415,\n",
       "  'cumulative_distance': 4774.716435482141,\n",
       "  'elevation': 189.7,\n",
       "  'slope': -14.045644938851062},\n",
       " {'point_index': 102,\n",
       "  'longitude': 17.845001,\n",
       "  'latitude': 48.585426,\n",
       "  'distance': 60.60940323781146,\n",
       "  'cumulative_distance': 4835.325838719952,\n",
       "  'elevation': 181.7,\n",
       "  'slope': -13.199272014955532},\n",
       " {'point_index': 103,\n",
       "  'longitude': 17.845119,\n",
       "  'latitude': 48.585428,\n",
       "  'distance': 8.692151680436515,\n",
       "  'cumulative_distance': 4844.017990400389,\n",
       "  'elevation': 180.7,\n",
       "  'slope': -11.504631266970486},\n",
       " {'point_index': 104,\n",
       "  'longitude': 17.845418,\n",
       "  'latitude': 48.585388,\n",
       "  'distance': 22.463562300917186,\n",
       "  'cumulative_distance': 4866.481552701306,\n",
       "  'elevation': 178.8,\n",
       "  'slope': -8.458142010372061},\n",
       " {'point_index': 105,\n",
       "  'longitude': 17.846035,\n",
       "  'latitude': 48.585217,\n",
       "  'distance': 49.2614166349083,\n",
       "  'cumulative_distance': 4915.742969336215,\n",
       "  'elevation': 175.8,\n",
       "  'slope': -6.089958845954298},\n",
       " {'point_index': 106,\n",
       "  'longitude': 17.846217,\n",
       "  'latitude': 48.585129,\n",
       "  'distance': 16.60070386041782,\n",
       "  'cumulative_distance': 4932.343673196632,\n",
       "  'elevation': 175.1,\n",
       "  'slope': -4.216688677093231},\n",
       " {'point_index': 107,\n",
       "  'longitude': 17.847204,\n",
       "  'latitude': 48.584877,\n",
       "  'distance': 77.90739984849391,\n",
       "  'cumulative_distance': 5010.251073045126,\n",
       "  'elevation': 171.5,\n",
       "  'slope': -4.620870426943903},\n",
       " {'point_index': 108,\n",
       "  'longitude': 17.847637,\n",
       "  'latitude': 48.584752,\n",
       "  'distance': 34.789736908958474,\n",
       "  'cumulative_distance': 5045.040809954085,\n",
       "  'elevation': 171.3,\n",
       "  'slope': -0.5748821858681201},\n",
       " {'point_index': 109,\n",
       "  'longitude': 17.84773,\n",
       "  'latitude': 48.584716,\n",
       "  'distance': 7.934811987920521,\n",
       "  'cumulative_distance': 5052.975621942005,\n",
       "  'elevation': 171.4,\n",
       "  'slope': 1.2602693063456107},\n",
       " {'point_index': 110,\n",
       "  'longitude': 17.847873,\n",
       "  'latitude': 48.584641,\n",
       "  'distance': 13.438558354120332,\n",
       "  'cumulative_distance': 5066.414180296126,\n",
       "  'elevation': 171.6,\n",
       "  'slope': 1.4882548762283538},\n",
       " {'point_index': 111,\n",
       "  'longitude': 17.847945,\n",
       "  'latitude': 48.584585,\n",
       "  'distance': 8.18370142634712,\n",
       "  'cumulative_distance': 5074.597881722473,\n",
       "  'elevation': 172.3,\n",
       "  'slope': 8.553586739447669},\n",
       " {'point_index': 112,\n",
       "  'longitude': 17.847985,\n",
       "  'latitude': 48.58453,\n",
       "  'distance': 6.794285536733771,\n",
       "  'cumulative_distance': 5081.392167259207,\n",
       "  'elevation': 172.9,\n",
       "  'slope': 8.830950609244388},\n",
       " {'point_index': 113,\n",
       "  'longitude': 17.848079,\n",
       "  'latitude': 48.584305,\n",
       "  'distance': 25.985812873731827,\n",
       "  'cumulative_distance': 5107.377980132938,\n",
       "  'elevation': 176.1,\n",
       "  'slope': 12.314411773644224},\n",
       " {'point_index': 114,\n",
       "  'longitude': 17.848081,\n",
       "  'latitude': 48.584247,\n",
       "  'distance': 6.45821004426329,\n",
       "  'cumulative_distance': 5113.836190177201,\n",
       "  'elevation': 176.9,\n",
       "  'slope': 12.387333247400907},\n",
       " {'point_index': 115,\n",
       "  'longitude': 17.848107,\n",
       "  'latitude': 48.58418,\n",
       "  'distance': 7.700237656720244,\n",
       "  'cumulative_distance': 5121.536427833922,\n",
       "  'elevation': 178.0,\n",
       "  'slope': 14.285273377763724},\n",
       " {'point_index': 116,\n",
       "  'longitude': 17.84834,\n",
       "  'latitude': 48.58394,\n",
       "  'distance': 31.75191923765153,\n",
       "  'cumulative_distance': 5153.288347071573,\n",
       "  'elevation': 179.5,\n",
       "  'slope': 4.724123882947192},\n",
       " {'point_index': 117,\n",
       "  'longitude': 17.848476,\n",
       "  'latitude': 48.583834,\n",
       "  'distance': 15.477051074884375,\n",
       "  'cumulative_distance': 5168.765398146457,\n",
       "  'elevation': 180.3,\n",
       "  'slope': 5.168943335066095},\n",
       " {'point_index': 118,\n",
       "  'longitude': 17.848628,\n",
       "  'latitude': 48.583732,\n",
       "  'distance': 15.944223055140275,\n",
       "  'cumulative_distance': 5184.709621201598,\n",
       "  'elevation': 180.1,\n",
       "  'slope': -1.2543728177180689},\n",
       " {'point_index': 119,\n",
       "  'longitude': 17.849124,\n",
       "  'latitude': 48.583444,\n",
       "  'distance': 48.60030226319122,\n",
       "  'cumulative_distance': 5233.309923464789,\n",
       "  'elevation': 179.5,\n",
       "  'slope': -1.2345602230017836},\n",
       " {'point_index': 120,\n",
       "  'longitude': 17.849198,\n",
       "  'latitude': 48.583391,\n",
       "  'distance': 8.031539286254363,\n",
       "  'cumulative_distance': 5241.341462751043,\n",
       "  'elevation': 179.4,\n",
       "  'slope': -1.2450913384827744},\n",
       " {'point_index': 121,\n",
       "  'longitude': 17.849336,\n",
       "  'latitude': 48.583273,\n",
       "  'distance': 16.60791784470327,\n",
       "  'cumulative_distance': 5257.949380595746,\n",
       "  'elevation': 179.6,\n",
       "  'slope': 1.2042448780764787},\n",
       " {'point_index': 122,\n",
       "  'longitude': 17.849511,\n",
       "  'latitude': 48.583085,\n",
       "  'distance': 24.577746597412983,\n",
       "  'cumulative_distance': 5282.52712719316,\n",
       "  'elevation': 179.9,\n",
       "  'slope': 1.2206163767332068},\n",
       " {'point_index': 123,\n",
       "  'longitude': 17.850011,\n",
       "  'latitude': 48.582291,\n",
       "  'distance': 95.75068265462156,\n",
       "  'cumulative_distance': 5378.277809847781,\n",
       "  'elevation': 184.4,\n",
       "  'slope': 4.699705396599384},\n",
       " {'point_index': 124,\n",
       "  'longitude': 17.850234,\n",
       "  'latitude': 48.582006,\n",
       "  'distance': 35.72447763290199,\n",
       "  'cumulative_distance': 5414.002287480683,\n",
       "  'elevation': 185.3,\n",
       "  'slope': 2.519281063388068},\n",
       " {'point_index': 125,\n",
       "  'longitude': 17.850329,\n",
       "  'latitude': 48.581924,\n",
       "  'distance': 11.500848999462386,\n",
       "  'cumulative_distance': 5425.503136480145,\n",
       "  'elevation': 185.5,\n",
       "  'slope': 1.739002051147161},\n",
       " {'point_index': 126,\n",
       "  'longitude': 17.850415,\n",
       "  'latitude': 48.581866,\n",
       "  'distance': 9.04421377720464,\n",
       "  'cumulative_distance': 5434.5473502573495,\n",
       "  'elevation': 185.6,\n",
       "  'slope': 1.1056793046183617},\n",
       " {'point_index': 127,\n",
       "  'longitude': 17.850576,\n",
       "  'latitude': 48.581772,\n",
       "  'distance': 15.813755669959535,\n",
       "  'cumulative_distance': 5450.361105927309,\n",
       "  'elevation': 185.8,\n",
       "  'slope': 1.2647217028902586},\n",
       " {'point_index': 128,\n",
       "  'longitude': 17.850679,\n",
       "  'latitude': 48.581733,\n",
       "  'distance': 8.739838967489561,\n",
       "  'cumulative_distance': 5459.100944894799,\n",
       "  'elevation': 185.9,\n",
       "  'slope': 1.1441858410889967},\n",
       " {'point_index': 129,\n",
       "  'longitude': 17.851171,\n",
       "  'latitude': 48.581601,\n",
       "  'distance': 39.098947229981945,\n",
       "  'cumulative_distance': 5498.1998921247805,\n",
       "  'elevation': 186.3,\n",
       "  'slope': 1.0230454483778957}]"
      ]
     },
     "execution_count": 170,
     "metadata": {},
     "output_type": "execute_result"
    }
   ],
   "source": [
    "df.iloc[0][\"Clear_Route\"]"
   ]
  }
 ],
 "metadata": {
  "kernelspec": {
   "display_name": "Bridges_VENV",
   "language": "python",
   "name": "python3"
  },
  "language_info": {
   "codemirror_mode": {
    "name": "ipython",
    "version": 3
   },
   "file_extension": ".py",
   "mimetype": "text/x-python",
   "name": "python",
   "nbconvert_exporter": "python",
   "pygments_lexer": "ipython3",
   "version": "3.12.4"
  }
 },
 "nbformat": 4,
 "nbformat_minor": 2
}
