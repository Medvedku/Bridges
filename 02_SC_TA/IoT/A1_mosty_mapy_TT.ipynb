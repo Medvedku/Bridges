{
 "cells": [
  {
   "cell_type": "code",
   "execution_count": 1,
   "metadata": {},
   "outputs": [],
   "source": [
    "import geopandas as gpd\n",
    "import pandas as pd\n",
    "import gpxpy\n",
    "import os\n",
    "\n",
    "# Práca\n",
    "bridges_path = r\"C:\\Users\\relia\\Documents\\GitHub\\Bridges\\Data\\df_bridges_2024_all.csv\"\n",
    "\n",
    "# Load the CSV data into a DataFrame\n",
    "df_bridges_all = pd.read_csv(bridges_path, encoding='utf-8', delimiter=',')\n",
    "\n",
    "# Replace the file path with your actual file path\n",
    "file_path = r'C:\\Users\\relia\\Documents\\GitHub\\Bridges\\GeoJSONs\\regions_epsg_4326.geojson'\n",
    "\n",
    "# Load the GeoJSON file into a GeoDataFrame\n",
    "gdf = gpd.read_file(file_path)\n",
    "# Display the first few rows of the GeoDataFrame"
   ]
  },
  {
   "cell_type": "code",
   "execution_count": 2,
   "metadata": {},
   "outputs": [],
   "source": [
    "# Assuming df_bridges_all is your DataFrame\n",
    "columns_to_convert = ['Zemepisná_dĺžka', 'Zemepisná_šírka', 'Výška', 'Normálna_zaťažiteľnosť',\n",
    "                      'Výhradná_zaťažiteľnosť_t', 'Výnimočná_zaťažiteľnosť_t', 'Počet_otvorov',\n",
    "                      'Dĺžka_nosnej_konštrukcie_m', 'Dĺžka_premostenia', 'Volná_šírka_mosta',\n",
    "                      'Šírka_medzi_obrubami_m', 'Plocha_mosnej_konštrukcie_m2', 'Plocha_mosta_m2']\n",
    "\n",
    "# Convert specified columns to float\n",
    "df_bridges_all[columns_to_convert] = df_bridges_all[columns_to_convert].apply(\n",
    "    pd.to_numeric, errors='coerce')\n",
    "\n",
    "df_bridges_all = df_bridges_all[df_bridges_all[\"n_2024\"] != 0]\n",
    "\n",
    "# Convert Rok_postavenia to integer, assign NaN if not possible\n",
    "df_bridges_all['Rok_postavenia'] = pd.to_numeric(\n",
    "    df_bridges_all['Rok_postavenia'], errors='coerce')"
   ]
  },
  {
   "cell_type": "code",
   "execution_count": 7,
   "metadata": {},
   "outputs": [
    {
     "data": {
      "text/plain": [
       "(382, 44)"
      ]
     },
     "execution_count": 7,
     "metadata": {},
     "output_type": "execute_result"
    }
   ],
   "source": [
    "# Filter bridges in the Nitra region with Trieda_PK as \"cesta I. triedy\" or \"cesta II. triedy\"\n",
    "filtered_bridges = df_bridges_all[\n",
    "\n",
    "(    (df_bridges_all[\"Správca_úseku\"] == 'SUC TTSK - TT') |\n",
    "    (df_bridges_all[\"Správca_úseku\"] == 'SUC TTSK - SE') |\n",
    "    (df_bridges_all[\"Správca_úseku\"] == 'SUC TTSK - DS')) \n",
    "]\n",
    "\n",
    "# Reindex the DataFrame\n",
    "filtered_bridges.reset_index(drop=True, inplace=True)\n",
    "\n",
    "filtered_bridges = filtered_bridges[filtered_bridges[\"n_2024\"] != 0]\n",
    "\n",
    "# Replace double space with single space in each item of the \"Predmet_premostenia\" column\n",
    "filtered_bridges[\"Predmet_premostenia\"] = filtered_bridges[\"Predmet_premostenia\"].str.replace(\n",
    "    \"  \", \" \")\n",
    "\n",
    "\n",
    "# Display the filtered DataFrame\n",
    "filtered_bridges.shape"
   ]
  },
  {
   "cell_type": "code",
   "execution_count": 12,
   "metadata": {},
   "outputs": [
    {
     "data": {
      "text/plain": [
       "np.float64(6212.397000000001)"
      ]
     },
     "execution_count": 12,
     "metadata": {},
     "output_type": "execute_result"
    }
   ],
   "source": [
    "filtered_bridges[\"Dĺžka_premostenia\"].sum()"
   ]
  },
  {
   "cell_type": "code",
   "execution_count": 8,
   "metadata": {},
   "outputs": [
    {
     "data": {
      "text/plain": [
       "Index(['ID_mosta', 'Trieda_PK', 'Číslo_PK', 'Názov_mosta', 'správcovské_číslo',\n",
       "       'Zemepisná_šírka', 'Zemepisná_dĺžka', 'Výška', 'Druh_konštrukcie',\n",
       "       'Material', 'Normálna_zaťažiteľnosť', 'Výhradná_zaťažiteľnosť_t',\n",
       "       'Výnimočná_zaťažiteľnosť_t', 'Spôsob_stanovenia', 'Predmet_premostenia',\n",
       "       'Rok_postavenia', 'Zaťažovacia_trieda_STN', 'Počet_otvorov',\n",
       "       'Dĺžka_premostenia', 'Dĺžka_nosnej_konštrukcie_m', 'Volná_šírka_mosta',\n",
       "       'Šírka_medzi_obrubami_m', 'Plocha_mosnej_konštrukcie_m2',\n",
       "       'Plocha_mosta_m2', 'Vlastník_úseku', 'Správca_úseku', 'Okres',\n",
       "       'Počiatočný_uzol', 'Koncový_uzol', 'úsek_ID', 'Kraj', 'n_2012',\n",
       "       'n_2013', 'n_2014', 'n_2015', 'n_2016', 'n_2017', 'n_2018', 'n_2019',\n",
       "       'n_2020', 'n_2021', 'n_2022', 'n_2023', 'n_2024'],\n",
       "      dtype='object')"
      ]
     },
     "execution_count": 8,
     "metadata": {},
     "output_type": "execute_result"
    }
   ],
   "source": [
    "filtered_bridges.columns"
   ]
  },
  {
   "cell_type": "code",
   "execution_count": 5,
   "metadata": {},
   "outputs": [
    {
     "data": {
      "text/plain": [
       "(80, 44)"
      ]
     },
     "execution_count": 5,
     "metadata": {},
     "output_type": "execute_result"
    }
   ],
   "source": [
    "precast_bridges = filtered_bridges[filtered_bridges[\"Material\"]\n",
    "                                 == \"prefabrikovaný predpätý betón\"]\n",
    "\n",
    "# Display the filtered DataFrame\n",
    "precast_bridges.shape"
   ]
  }
 ],
 "metadata": {
  "kernelspec": {
   "display_name": "Bridges_VENV",
   "language": "python",
   "name": "python3"
  },
  "language_info": {
   "codemirror_mode": {
    "name": "ipython",
    "version": 3
   },
   "file_extension": ".py",
   "mimetype": "text/x-python",
   "name": "python",
   "nbconvert_exporter": "python",
   "pygments_lexer": "ipython3",
   "version": "3.12.4"
  }
 },
 "nbformat": 4,
 "nbformat_minor": 2
}
