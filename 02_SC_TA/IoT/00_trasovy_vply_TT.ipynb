{
 "cells": [
  {
   "cell_type": "code",
   "execution_count": 1,
   "metadata": {},
   "outputs": [],
   "source": [
    "import pandas as pd\n",
    "\n",
    "# Práca\n",
    "bridges_path = r\"C:\\Users\\relia\\Documents\\GitHub\\Bridges\\Data\\df_bridges_2024_all.csv\"\n",
    "\n",
    "# Load the CSV data into a DataFrame\n",
    "df_bridges_all = pd.read_csv(bridges_path, encoding='utf-8', delimiter=',')"
   ]
  },
  {
   "cell_type": "code",
   "execution_count": 2,
   "metadata": {},
   "outputs": [],
   "source": [
    "import plotly.graph_objs as go\n",
    "\n",
    "def extract_elevation_data(gpx_file):\n",
    "    elevations = []\n",
    "    distances = []\n",
    "    with open(gpx_file, \"r\", encoding=\"utf-8\") as file:\n",
    "        content = file.read()\n",
    "        # Split into trkpt segments\n",
    "        trkpt_segments = content.split(\"<trkpt\")\n",
    "        previous_lat, previous_lon = None, None\n",
    "        total_distance = 0.0\n",
    "        for segment in trkpt_segments[1:]:\n",
    "            # Extract latitude and longitude\n",
    "            lat_start = segment.find('lat=\"') + 5\n",
    "            lat_end = segment.find('\"', lat_start)\n",
    "            lon_start = segment.find('lon=\"') + 5\n",
    "            lon_end = segment.find('\"', lon_start)\n",
    "            ele_start = segment.find(\"<ele>\") + 5\n",
    "            ele_end = segment.find(\"</ele>\")\n",
    "\n",
    "            if lat_start > 4 and lon_start > 4 and ele_start > 4:\n",
    "                latitude = float(segment[lat_start:lat_end])\n",
    "                longitude = float(segment[lon_start:lon_end])\n",
    "                elevation = float(segment[ele_start:ele_end])\n",
    "\n",
    "                if previous_lat is not None and previous_lon is not None:\n",
    "                    # Calculate distance between points (simple approximation)\n",
    "                    from math import radians, sin, cos, sqrt, atan2\n",
    "                    R = 6371000  # Earth radius in meters\n",
    "                    lat1, lon1 = radians(previous_lat), radians(previous_lon)\n",
    "                    lat2, lon2 = radians(latitude), radians(longitude)\n",
    "                    dlat = lat2 - lat1\n",
    "                    dlon = lon2 - lon1\n",
    "                    a = sin(dlat / 2)**2 + cos(lat1) * \\\n",
    "                        cos(lat2) * sin(dlon / 2)**2\n",
    "                    c = 2 * atan2(sqrt(a), sqrt(1 - a))\n",
    "                    distance = R * c\n",
    "                    total_distance += distance\n",
    "\n",
    "                elevations.append(elevation)\n",
    "                # Convert to kilometers\n",
    "                distances.append(total_distance / 1000)\n",
    "\n",
    "                previous_lat, previous_lon = latitude, longitude\n",
    "\n",
    "    return distances, elevations"
   ]
  },
  {
   "cell_type": "code",
   "execution_count": 3,
   "metadata": {},
   "outputs": [],
   "source": [
    "# Assuming df_bridges_all is your DataFrame\n",
    "columns_to_convert = ['Zemepisná_dĺžka', 'Zemepisná_šírka', 'Výška', 'Normálna_zaťažiteľnosť',\n",
    "                      'Výhradná_zaťažiteľnosť_t', 'Výnimočná_zaťažiteľnosť_t', 'Počet_otvorov',\n",
    "                      'Dĺžka_nosnej_konštrukcie_m', 'Dĺžka_premostenia', 'Volná_šírka_mosta',\n",
    "                      'Šírka_medzi_obrubami_m', 'Plocha_mosnej_konštrukcie_m2', 'Plocha_mosta_m2']\n",
    "\n",
    "# Convert specified columns to float\n",
    "df_bridges_all[columns_to_convert] = df_bridges_all[columns_to_convert].apply(\n",
    "    pd.to_numeric, errors='coerce')\n",
    "\n",
    "# Convert Rok_postavenia to integer, assign NaN if not possible\n",
    "df_bridges_all['Rok_postavenia'] = pd.to_numeric(\n",
    "    df_bridges_all['Rok_postavenia'], errors='coerce')"
   ]
  },
  {
   "cell_type": "code",
   "execution_count": 4,
   "metadata": {},
   "outputs": [
    {
     "data": {
      "text/plain": [
       "Index(['SSC - IVSC ZA', 'SSC - IVSC KE', 'SSC - IVSC BB', 'BBRSC-JUH',\n",
       "       'BBRSC-STRED', 'BBRSC-SEVER', 'SSC - IVSC BA', 'SC TN SK - TN',\n",
       "       'SUC PSK - HE', 'SUC PSK - PO', 'SC TN SK - PD', 'SUC TTSK - TT',\n",
       "       'SUC PSK - PP', 'SUC PSK - BJ', 'SC TN SK - PB', 'SC ŽSK - ORA',\n",
       "       'SC ŽSK - HPOV', 'SC KSK - KS', 'SC ŽSK - LIP', 'SUC PSK - SK',\n",
       "       'SC KSK - SNV', 'RSUC NR - LV', 'SUC PSK - SL', 'RSUC NR - NR',\n",
       "       'SC ŽSK - KYS', 'SC KSK - MI', 'SC BSK', 'SC ŽSK - TUR',\n",
       "       'SUC TTSK - SE', 'NDS - SSUR ZV', 'SC KSK - TV', 'RSUC NR - NZ', 'VPO',\n",
       "       'NDS - SSUD PB', 'SUC PSK - VT', 'SC KSK - RV', 'SUC TTSK - DS',\n",
       "       'NDS - SSUD LM', 'RSUC NR - TO', 'RSUC NR - KN', 'NDS - SSUR KE',\n",
       "       'NDS - SSUD TN', 'NDS - SSUD BE', 'MAG-BA', 'NDS - SSUR CA',\n",
       "       'NDS - SSUD BA', 'NDS - SSUR NB', 'NDS - SSUD PO', 'NDS - SSUR GA',\n",
       "       'NDS - SSUD MENG', 'NDS - SSUD MA', 'NDS - SSUD TT', 'NDS - SSUD MT',\n",
       "       'MAG-KE', 'TT', 'NEZN', 'PP-HO', 'CU', 'ZA-Invest', 'BR-CB', 'BB',\n",
       "       'SN-HC', 'BJ', 'HE', 'ZI', 'BR-HR', 'SB-LI', 'RS-OZ', 'NO-HR', 'BR-PL',\n",
       "       'PN', 'LM-DD', 'VK-NV', 'PD-HA', 'TN-NE', 'ZV', 'RK', 'PT', 'KS-ME',\n",
       "       'NM-TB', 'ZA-LY', 'BB-HI', 'BA-DV', 'DK', 'ŽSR'],\n",
       "      dtype='object', name='Správca_úseku')"
      ]
     },
     "execution_count": 4,
     "metadata": {},
     "output_type": "execute_result"
    }
   ],
   "source": [
    "df_bridges_all[\"Správca_úseku\"].value_counts().keys()"
   ]
  },
  {
   "cell_type": "code",
   "execution_count": 5,
   "metadata": {},
   "outputs": [
    {
     "data": {
      "text/plain": [
       "(63, 44)"
      ]
     },
     "execution_count": 5,
     "metadata": {},
     "output_type": "execute_result"
    }
   ],
   "source": [
    "# Filter bridges in the Nitra region with Trieda_PK as \"cesta I. triedy\" or \"cesta II. triedy\"\n",
    "filtered_bridges = df_bridges_all[\n",
    "\n",
    "    (df_bridges_all[\"Správca_úseku\"] == 'SUC TTSK - TT') |\n",
    "    (df_bridges_all[\"Správca_úseku\"] == 'SUC TTSK - SE') |\n",
    "    (df_bridges_all[\"Správca_úseku\"] == 'SUC TTSK - DS')\n",
    "]\n",
    "\n",
    "# Reindex the DataFrame\n",
    "filtered_bridges.reset_index(drop=True, inplace=True)\n",
    "\n",
    "filtered_bridges = filtered_bridges[filtered_bridges[\"n_2023\"] != 0]\n",
    "\n",
    "filtered_bridges = filtered_bridges[filtered_bridges[\"Material\"]\n",
    "                                    == \"prefabrikovaný predpätý betón\"]\n",
    "\n",
    "filtered_bridges = filtered_bridges[\n",
    "    (filtered_bridges[\"n_2024\"] == 4) |\n",
    "    (filtered_bridges[\"n_2024\"] == 5)\n",
    "]\n",
    "\n",
    "# Replace double space with single space in each item of the \"Predmet_premostenia\" column\n",
    "filtered_bridges[\"Predmet_premostenia\"] = filtered_bridges[\"Predmet_premostenia\"].str.replace(\n",
    "    \"  \", \" \")\n",
    "\n",
    "\n",
    "# Display the filtered DataFrame\n",
    "filtered_bridges.shape"
   ]
  },
  {
   "cell_type": "code",
   "execution_count": 6,
   "metadata": {},
   "outputs": [
    {
     "name": "stdout",
     "output_type": "stream",
     "text": [
      "      ID                         GPS   Dlzka   PK  Intenz\n",
      "0  M6425  48.586307824, 17.824516076   10.43  499   12447\n",
      "1  M6684  48.628765366, 17.719734958   12.40  499    3931\n",
      "2  M4553  48.588876768, 17.810173653   71.60  499   14134\n",
      "3   M679  48.683035961, 17.255918415   17.10  500    6052\n",
      "4  M4864  48.655586793, 17.042874752  111.56  500    3663\n"
     ]
    }
   ],
   "source": [
    "import pandas as pd\n",
    "\n",
    "path = r\"C:\\Users\\relia\\Documents\\GitHub\\Bridges\\02_SC_TA\\IoT\\Mosty.xlsx\"\n",
    "\n",
    "# Load the Excel file into a DataFrame\n",
    "df = pd.read_excel(path)\n",
    "\n",
    "# Display the first few rows to ensure it loaded correctly\n",
    "print(df.head())"
   ]
  },
  {
   "cell_type": "code",
   "execution_count": 7,
   "metadata": {},
   "outputs": [],
   "source": [
    "import os\n",
    "\n",
    "# Path to the folder with GPX files\n",
    "folder_path = r\"C:\\Users\\relia\\Documents\\GitHub\\Bridges\\02_SC_TA\\IoT\\Routes\"\n",
    "\n",
    "# Function to extract distance and time from a GPX file\n",
    "\n",
    "\n",
    "def extract_distance_time(gpx_file):\n",
    "    with open(gpx_file, \"r\", encoding=\"utf-8\") as file:\n",
    "        gpx_content = file.read()\n",
    "\n",
    "    # Initialize totals\n",
    "    total_distance = 0.0\n",
    "    total_time = 0.0\n",
    "\n",
    "    # Extract <rtept> sections\n",
    "    rtept_sections = gpx_content.split(\"<rtept\")[1:]  # Split by <rtept>\n",
    "\n",
    "    # Process each <rtept>\n",
    "    for rtept in rtept_sections:\n",
    "        if \"<gh:distance>\" in rtept:\n",
    "            start_distance = rtept.find(\"<gh:distance>\") + len(\"<gh:distance>\")\n",
    "            end_distance = rtept.find(\"</gh:distance>\")\n",
    "            distance = float(rtept[start_distance:end_distance])\n",
    "            total_distance += distance\n",
    "        if \"<gh:time>\" in rtept:\n",
    "            start_time = rtept.find(\"<gh:time>\") + len(\"<gh:time>\")\n",
    "            end_time = rtept.find(\"</gh:time>\")\n",
    "            time = float(rtept[start_time:end_time])\n",
    "            total_time += time\n",
    "\n",
    "    # Convert to kilometers and minutes\n",
    "    total_distance_km = total_distance / 1000  # meters to kilometers\n",
    "    total_time_minutes = total_time / (1000 * 60)  # milliseconds to minutes\n",
    "    return total_distance_km, total_time_minutes\n",
    "\n",
    "\n",
    "# Iterate over each row in the DataFrame\n",
    "clear_distances = []\n",
    "clear_times = []\n",
    "alt_distances = []\n",
    "alt_times = []\n",
    "\n",
    "for _, row in df.iterrows():\n",
    "    bridge_id = row[\"ID\"]\n",
    "    clear_file = os.path.join(folder_path, f\"{bridge_id}_clear.gpx\")\n",
    "    alt_file = os.path.join(folder_path, f\"{bridge_id}_alt.gpx\")\n",
    "\n",
    "    # Check if files exist\n",
    "    if os.path.exists(clear_file):\n",
    "        clear_distance, clear_time = extract_distance_time(clear_file)\n",
    "    else:\n",
    "        clear_distance, clear_time = None, None\n",
    "\n",
    "    if os.path.exists(alt_file):\n",
    "        alt_distance, alt_time = extract_distance_time(alt_file)\n",
    "    else:\n",
    "        alt_distance, alt_time = None, None\n",
    "\n",
    "    # Append results\n",
    "    clear_distances.append(clear_distance)\n",
    "    clear_times.append(clear_time)\n",
    "    alt_distances.append(alt_distance)\n",
    "    alt_times.append(alt_time)\n",
    "\n",
    "# Add new columns to the DataFrame\n",
    "df[\"Clear_Distance\"] = clear_distances\n",
    "df[\"Clear_Time\"] = clear_times\n",
    "df[\"Alt_Distance\"] = alt_distances\n",
    "df[\"Alt_Time\"] = alt_times"
   ]
  },
  {
   "cell_type": "code",
   "execution_count": 8,
   "metadata": {},
   "outputs": [],
   "source": [
    "df[\"Diff_Dist\"] = (df[\"Alt_Distance\"] - df[\"Clear_Distance\"])\n",
    "df[\"Diff_Time\"] = (df[\"Alt_Time\"] - df[\"Clear_Time\"])\n",
    "df[\"Diff_Time_all\"] = (df[\"Diff_Time\"] * df[\"Intenz\"]) / 60\n",
    "df[\"Diff_Dist_all\"] = (df[\"Diff_Dist\"] * df[\"Intenz\"])\n",
    "df[\"Price\"] = (df[\"Diff_Dist\"]) * 0.31 * df[\"Intenz\"]"
   ]
  },
  {
   "cell_type": "code",
   "execution_count": 9,
   "metadata": {},
   "outputs": [
    {
     "data": {
      "text/plain": [
       "(np.float64(5.498015), np.float64(25.181497999999998))"
      ]
     },
     "execution_count": 9,
     "metadata": {},
     "output_type": "execute_result"
    }
   ],
   "source": [
    "df.iloc[0][\"Clear_Distance\"], df.iloc[0][\"Alt_Distance\"]"
   ]
  },
  {
   "cell_type": "code",
   "execution_count": 10,
   "metadata": {},
   "outputs": [
    {
     "data": {
      "text/plain": [
       "(np.float64(8.413483333333334), np.float64(22.787416666666665))"
      ]
     },
     "execution_count": 10,
     "metadata": {},
     "output_type": "execute_result"
    }
   ],
   "source": [
    "df.iloc[0][\"Clear_Time\"], df.iloc[0][\"Alt_Time\"]"
   ]
  },
  {
   "cell_type": "code",
   "execution_count": 11,
   "metadata": {},
   "outputs": [
    {
     "data": {
      "text/plain": [
       "count        48.000000\n",
       "mean       9918.314782\n",
       "std       19659.766699\n",
       "min         231.480899\n",
       "25%        1193.170666\n",
       "50%        3030.246840\n",
       "75%       10764.790983\n",
       "max      109782.402806\n",
       "Name: Price, dtype: float64"
      ]
     },
     "execution_count": 11,
     "metadata": {},
     "output_type": "execute_result"
    }
   ],
   "source": [
    "df[\"Price\"].describe()"
   ]
  },
  {
   "cell_type": "code",
   "execution_count": 19,
   "metadata": {},
   "outputs": [
    {
     "name": "stdout",
     "output_type": "stream",
     "text": [
      "ID_mosta                         M4217\n",
      "Číslo_PK                          1421\n",
      "správcovské_číslo                    7\n",
      "Rok_postavenia                    1985\n",
      "Predmet_premostenia              Kanál\n",
      "Dĺžka_premostenia                 22.0\n",
      "Okres                  Dunajská Streda\n",
      "n_2024                               4\n",
      "Name: 57, dtype: object\n",
      "1421-007 most cez priesakový kanál VD  v k.ú. Vojka nad Dunajom v km 16,676\n",
      "\n",
      "ID                                     M4217\n",
      "GPS               47.960365525, 17.412817251\n",
      "Dlzka                                   22.0\n",
      "PK                                      1421\n",
      "Intenz                                  2251\n",
      "Clear_Distance                     19.621699\n",
      "Clear_Time                         17.668383\n",
      "Alt_Distance                       20.521371\n",
      "Alt_Time                           26.446533\n",
      "Diff_Dist                           0.899672\n",
      "Diff_Time                            8.77815\n",
      "Diff_Time_all                     329.326928\n",
      "Diff_Dist_all                    2025.161672\n",
      "Price                             627.800118\n",
      "Name: 43, dtype: object\n"
     ]
    }
   ],
   "source": [
    "import matplotlib.pyplot as plt\n",
    "\n",
    "# Define the bridge ID to find\n",
    "bridge_to_find = df.iloc[43][\"ID\"]\n",
    "\n",
    "# Locate the bridge in the DataFrame\n",
    "bridge_row = filtered_bridges[filtered_bridges[\"ID_mosta\"] == bridge_to_find]\n",
    "df_row = df[df[\"ID\"] == bridge_to_find]\n",
    "\n",
    "print(bridge_row.iloc[0][[\"ID_mosta\", \"Číslo_PK\", \"správcovské_číslo\",\n",
    "      \"Rok_postavenia\", \"Predmet_premostenia\", \"Dĺžka_premostenia\", \"Okres\", \"n_2024\"]])\n",
    "print(bridge_row.iloc[0][\"Názov_mosta\"])\n",
    "print(\"\")\n",
    "print(df_row.iloc[0])"
   ]
  },
  {
   "cell_type": "code",
   "execution_count": 13,
   "metadata": {},
   "outputs": [
    {
     "data": {
      "text/plain": [
       "'M1075'"
      ]
     },
     "execution_count": 13,
     "metadata": {},
     "output_type": "execute_result"
    }
   ],
   "source": [
    "bridge_to_find"
   ]
  },
  {
   "cell_type": "code",
   "execution_count": 21,
   "metadata": {},
   "outputs": [
    {
     "name": "stdout",
     "output_type": "stream",
     "text": [
      "Clear route for M4217: C:\\Users\\relia\\Documents\\GitHub\\Bridges\\02_SC_TA\\IoT\\Routes\\M4217_clear.gpx\n",
      "Alternative route for M4217: C:\\Users\\relia\\Documents\\GitHub\\Bridges\\02_SC_TA\\IoT\\Routes\\M4217_alt.gpx\n"
     ]
    }
   ],
   "source": [
    "import xml.etree.ElementTree as ET\n",
    "import folium\n",
    "\n",
    "import os\n",
    "\n",
    "folder_path = r\"C:\\Users\\relia\\Documents\\GitHub\\Bridges\\02_SC_TA\\IoT\\Routes\"\n",
    "\n",
    "# List all files in the folder\n",
    "files = os.listdir(folder_path)\n",
    "\n",
    "# Define the bridge ID\n",
    "bridge_id = bridge_to_find\n",
    "\n",
    "# Filter the files for the specific bridge\n",
    "clear_route = None\n",
    "alternative_route = None\n",
    "\n",
    "for file in files:\n",
    "    if file.startswith(bridge_id):\n",
    "        if \"_clear\" in file:\n",
    "            clear_route = os.path.join(folder_path, file)\n",
    "        elif \"_alt\" in file:\n",
    "            alternative_route = os.path.join(folder_path, file)\n",
    "\n",
    "# Assign variables for clear and alternative routes\n",
    "print(f\"Clear route for {bridge_id}: {clear_route}\")\n",
    "print(f\"Alternative route for {bridge_id}: {alternative_route}\")\n",
    "\n",
    "\n",
    "def extract_coordinates(gpx_file):\n",
    "    tree = ET.parse(gpx_file)\n",
    "    root = tree.getroot()\n",
    "    namespace = {\"default\": \"http://www.topografix.com/GPX/1/1\"}\n",
    "    coordinates = []\n",
    "    for trkpt in root.findall(\".//default:trkpt\", namespace):\n",
    "        lat = float(trkpt.attrib['lat'])\n",
    "        lon = float(trkpt.attrib['lon'])\n",
    "        coordinates.append((lat, lon))\n",
    "    return coordinates\n",
    "\n",
    "\n",
    "# Get bridge latitude and longitude\n",
    "bridge_lat = bridge_row.iloc[0][\"Zemepisná_šírka\"]\n",
    "bridge_lon = bridge_row.iloc[0][\"Zemepisná_dĺžka\"]\n",
    "bridge_name = bridge_row.iloc[0][\"Názov_mosta\"]\n",
    "\n",
    "# Extract coordinates for clear and alternative routes\n",
    "clear_coordinates = extract_coordinates(clear_route)\n",
    "alt_coordinates = extract_coordinates(alternative_route)\n",
    "\n",
    "# Create a Folium map centered on the first point of the clear route\n",
    "route_map = folium.Map(location=clear_coordinates[0], zoom_start=14)\n",
    "\n",
    "# Add a marker for the bridge\n",
    "folium.Marker(\n",
    "    location=[bridge_lat, bridge_lon],\n",
    "    tooltip=\"Bridge Location\",\n",
    "    icon=folium.Icon(color=\"blue\", icon=\"info-sign\")\n",
    ").add_to(route_map)\n",
    "\n",
    "# Add the clear route to the map\n",
    "folium.PolyLine(clear_coordinates, color=\"green\", weight=5,\n",
    "                opacity=0.8, tooltip=\"Clear Route\").add_to(route_map)\n",
    "\n",
    "# Add the alternative route to the map\n",
    "folium.PolyLine(alt_coordinates, color=\"red\", weight=5,\n",
    "                opacity=0.8, tooltip=\"Alternative Route\").add_to(route_map)\n",
    "\n",
    "route_map.save(f\"most.html\")"
   ]
  },
  {
   "cell_type": "code",
   "execution_count": 15,
   "metadata": {},
   "outputs": [
    {
     "name": "stdout",
     "output_type": "stream",
     "text": [
      "Clear route for M1075: C:\\Users\\relia\\Documents\\GitHub\\Bridges\\02_SC_TA\\IoT\\Routes\\M1075_clear.gpx\n",
      "Alternative route for M1075: C:\\Users\\relia\\Documents\\GitHub\\Bridges\\02_SC_TA\\IoT\\Routes\\M1075_alt.gpx\n"
     ]
    },
    {
     "data": {
      "application/vnd.plotly.v1+json": {
       "config": {
        "plotlyServerURL": "https://plot.ly"
       },
       "data": [
        {
         "fill": "tozeroy",
         "fillcolor": "rgba(8, 132, 9, 0.3)",
         "line": {
          "color": "green"
         },
         "mode": "lines",
         "name": "Priama trasa",
         "type": "scatter",
         "x": [
          0,
          0.06407859165157126,
          0.1386542650458857,
          0.1790877332491926,
          0.1975905874101518,
          0.21344851749599292,
          0.31161724571000743,
          0.36713334063649594,
          0.5319008744225154,
          0.5625795418749632,
          0.5942990261917369,
          0.6133071877195444,
          0.6241132846780202,
          0.6385067493009925,
          0.690279780329489,
          0.7753591910330289,
          0.8534047175107715,
          1.111177856114577,
          1.2613833144122977,
          1.5827936975343146,
          1.6826078850382926,
          1.7053948955298386,
          1.7267419734568252,
          1.7618701519148736,
          1.7891215311667854,
          1.813323334523985,
          1.8301957952100767,
          1.8636045816656364,
          1.8956202237741504,
          1.94839209819018,
          1.989816202857025,
          2.014805706303648,
          2.2220966159085433,
          2.2806903266931506,
          2.4104212497237505,
          2.4521997319259112,
          2.5038285705671446,
          2.588918150292122,
          2.6362971225308978,
          2.6851878881699753,
          2.7611958149308102,
          2.965453457351896,
          3.1139533461384943,
          3.126247627390627,
          3.1385847664483393,
          3.150849043181876,
          3.1619824285840665,
          3.270711177445688,
          3.311060959467942,
          3.31587478691302,
          3.331601845965012,
          3.356986485565837,
          3.3716155621907062,
          3.457146198504395,
          3.4897632122514315,
          3.5499459354314546,
          3.5789902239545546,
          3.6622316639097168,
          3.693875573021656,
          3.7095802017471846,
          3.7388559251922193,
          3.7484739805708926,
          3.7665449605148784,
          3.7855024034946414,
          3.8048532172151246,
          3.824391810747789,
          3.8400245234381067,
          3.9249876056530177,
          3.9752681877828016,
          4.117926414261972,
          4.152760009252626,
          4.16720822926081,
          4.18383996714769,
          4.266423729411461,
          4.574540680267707,
          4.593983217592478,
          4.61687741069619,
          4.6904890384918785,
          4.8786940716425375,
          5.045740690710975,
          5.164958361675909,
          5.410099741782738,
          5.470309970524972,
          5.527798220773029,
          5.585386347537362,
          5.613505100445288,
          5.633223782760971,
          5.695846701570955,
          5.750840026351164,
          5.835032018289821,
          5.8706212099679504,
          5.8813360175858564,
          5.887893638457726
         ],
         "y": [
          120.4,
          120,
          119.8,
          119.7,
          119.6,
          119.6,
          119.8,
          120.2,
          121.3,
          121.1,
          120.7,
          120.5,
          120.4,
          120.2,
          119.7,
          119.2,
          118.9,
          118,
          118.6,
          120.4,
          120.6,
          120.7,
          120.7,
          120.8,
          120.8,
          121.2,
          121.4,
          121.8,
          122.2,
          121.7,
          121.3,
          121,
          120.7,
          120.6,
          120.4,
          121,
          121.8,
          122.3,
          122.5,
          122.8,
          123.2,
          122.4,
          122.6,
          122.6,
          122.6,
          122.6,
          122.7,
          122.8,
          122.8,
          122.8,
          122.9,
          122.9,
          122.9,
          123.2,
          123.3,
          123.5,
          123.4,
          123.2,
          123.4,
          123.5,
          123.8,
          123.8,
          123.9,
          124,
          123.9,
          123.8,
          123.7,
          123.4,
          123.2,
          122.8,
          123,
          123,
          123.1,
          123.5,
          124.5,
          124.5,
          124.6,
          124.7,
          126.4,
          124.9,
          125.5,
          124.5,
          124.7,
          126.6,
          126.9,
          127.1,
          127.2,
          127.7,
          127.5,
          126.3,
          126.3,
          126.3,
          126.4
         ]
        },
        {
         "fill": "tozeroy",
         "fillcolor": "rgba(255, 99, 71, 0.3)",
         "line": {
          "color": "red"
         },
         "mode": "lines",
         "name": "Obchádzka",
         "type": "scatter",
         "x": [
          0,
          0.06407859165157126,
          0.10051283917386777,
          0.17096245331793086,
          0.23545497489547376,
          0.2517137332254101,
          0.4401780368228401,
          0.4995782751966948,
          0.5344379182544078,
          0.916820330994804,
          1.0778204070418471,
          1.557008158572184,
          1.9421169104335827,
          2.0051755542700005,
          2.7279571163841347,
          2.778115822056291,
          2.7982283061145847,
          2.8464574517746875,
          3.4266064235617595,
          3.582319039782023,
          4.045563126610476,
          4.3854179858855415,
          4.468804045446908,
          4.627595424579647,
          4.790273618512742,
          4.809943287783872,
          4.878975372187154,
          5.136840437651336,
          5.160746219879043,
          5.183033091478446,
          5.2717198091002,
          5.318733952790741,
          6.101975157451445,
          6.266342446622314,
          6.282970555073667,
          6.331905873672524,
          6.392737289943197,
          6.847458411782608,
          6.995061396735995,
          7.475601559445346,
          7.4878332725153145,
          7.780087777164781,
          7.799289653302205,
          7.818658080875572,
          7.82984402565194,
          7.875400053500683,
          7.894397835111681,
          7.9304576624935486,
          7.946104041830587,
          7.993344865548718,
          8.018224705994838,
          8.039530618867431,
          8.05831292781985,
          8.102628528608294,
          8.190586230387341,
          8.272376762874112,
          8.332408773356745,
          8.364629691120186,
          8.41564061605083,
          8.77397299262344,
          9.318296008394421,
          9.544868371810361,
          9.644339638158936,
          9.811559117218358,
          10.007224172696535,
          10.236472902094713,
          10.878415580620347,
          11.31113773608459,
          11.551695020815638,
          11.590644975652355,
          11.602020957545056,
          11.613469383936229,
          11.624931081327253,
          11.632607839911524,
          11.640185392220653,
          11.647869108258922,
          11.658725993485993,
          11.669576474778085,
          11.680389514503624,
          11.695505075989788,
          11.718107120273595,
          11.749166743408875,
          11.938854207000201,
          12.074622785545898,
          12.146085077205656,
          12.209146694657258,
          12.258034730760242,
          12.320378286918583,
          12.393333300335724,
          12.471728275776124,
          12.691421257365503,
          12.832391720473268,
          12.916982233840269,
          13.037267357857404,
          13.17417482912146,
          13.613525233299523,
          14.285126628319711,
          14.67360617900368,
          14.784146318535441,
          14.855173581907957,
          15.052351514186837,
          15.096254952946039,
          15.108654339019383,
          15.169083129754508,
          15.208707951197129,
          15.346170154221484,
          15.415636116168088,
          15.530485305565238,
          15.610601060610893,
          16.086993469342307,
          16.150674996383408,
          16.20511273797577,
          16.22709301326371,
          16.303522729841337,
          16.37499109398912,
          16.418414199597215,
          16.434118828322745,
          16.459913820115123,
          16.484849776659146,
          16.4910705056904,
          16.510027948670157,
          16.529378762390643,
          16.548917355923304,
          16.564550068613627,
          16.649513150828536,
          16.699793732958323,
          16.84245195943749,
          16.877285554428145,
          16.89173377443633,
          16.908365512323208,
          16.990949274586978,
          17.299066225443223,
          17.318508762767994,
          17.341402955871704,
          17.41501458366739,
          17.60321961681805,
          17.77026623588649,
          17.889483906851424,
          18.134625286958254,
          18.19483551570049,
          18.252323765948546,
          18.30991189271288,
          18.338030645620805,
          18.35774932793649,
          18.420372246746474,
          18.4653058463445,
          18.559579435705267,
          18.595168627383394,
          18.605883435001303,
          18.612441055873173
         ],
         "y": [
          120.4,
          120,
          119.1,
          117.3,
          118,
          118.1,
          118.4,
          118,
          117.8,
          117.4,
          117.7,
          118,
          115.5,
          115.5,
          115.8,
          115.8,
          115.8,
          115.9,
          116,
          116,
          116,
          115.5,
          115.3,
          115,
          114.5,
          114.4,
          115,
          114.9,
          114.9,
          114.9,
          114.9,
          114.9,
          114.7,
          115.5,
          115.8,
          115.8,
          115.7,
          116,
          115.8,
          114.6,
          114.9,
          115,
          115,
          115,
          115.2,
          115.9,
          115.8,
          115.6,
          115.6,
          115.4,
          115.3,
          115.2,
          115.1,
          114.9,
          115.6,
          116,
          116,
          116.1,
          116.7,
          116.8,
          117.2,
          117.3,
          117.2,
          116.9,
          116.5,
          116.1,
          116.8,
          117.3,
          117.5,
          117.1,
          117.3,
          117.4,
          117.6,
          117.6,
          117.6,
          117.7,
          118,
          118.3,
          118.6,
          118.8,
          119.1,
          119.1,
          118.8,
          119.1,
          119.2,
          119.4,
          119.5,
          119.6,
          119.8,
          119.9,
          119.6,
          118.8,
          119.5,
          119.6,
          119.7,
          120,
          120.4,
          120.7,
          120.8,
          120.8,
          121.5,
          122.1,
          122.2,
          123.7,
          124,
          123.1,
          123,
          124,
          124.5,
          123.6,
          123,
          123.2,
          123.3,
          123.4,
          123.1,
          123.4,
          123.5,
          123.8,
          123.9,
          123.9,
          124,
          123.9,
          123.8,
          123.8,
          123.8,
          123.2,
          122.8,
          123,
          123,
          123.1,
          123.5,
          124.5,
          124.5,
          124.6,
          124.7,
          126.4,
          124.9,
          125.5,
          124.5,
          124.7,
          126.6,
          126.9,
          127.1,
          127.2,
          127.7,
          127.6,
          126.2,
          126.2,
          126.3,
          126.3
         ]
        }
       ],
       "layout": {
        "legend": {
         "orientation": "h",
         "title": {
          "text": "Typ"
         },
         "x": 0.25,
         "xanchor": "center",
         "y": 1.02,
         "yanchor": "bottom"
        },
        "template": {
         "data": {
          "bar": [
           {
            "error_x": {
             "color": "#2a3f5f"
            },
            "error_y": {
             "color": "#2a3f5f"
            },
            "marker": {
             "line": {
              "color": "white",
              "width": 0.5
             },
             "pattern": {
              "fillmode": "overlay",
              "size": 10,
              "solidity": 0.2
             }
            },
            "type": "bar"
           }
          ],
          "barpolar": [
           {
            "marker": {
             "line": {
              "color": "white",
              "width": 0.5
             },
             "pattern": {
              "fillmode": "overlay",
              "size": 10,
              "solidity": 0.2
             }
            },
            "type": "barpolar"
           }
          ],
          "carpet": [
           {
            "aaxis": {
             "endlinecolor": "#2a3f5f",
             "gridcolor": "#C8D4E3",
             "linecolor": "#C8D4E3",
             "minorgridcolor": "#C8D4E3",
             "startlinecolor": "#2a3f5f"
            },
            "baxis": {
             "endlinecolor": "#2a3f5f",
             "gridcolor": "#C8D4E3",
             "linecolor": "#C8D4E3",
             "minorgridcolor": "#C8D4E3",
             "startlinecolor": "#2a3f5f"
            },
            "type": "carpet"
           }
          ],
          "choropleth": [
           {
            "colorbar": {
             "outlinewidth": 0,
             "ticks": ""
            },
            "type": "choropleth"
           }
          ],
          "contour": [
           {
            "colorbar": {
             "outlinewidth": 0,
             "ticks": ""
            },
            "colorscale": [
             [
              0,
              "#0d0887"
             ],
             [
              0.1111111111111111,
              "#46039f"
             ],
             [
              0.2222222222222222,
              "#7201a8"
             ],
             [
              0.3333333333333333,
              "#9c179e"
             ],
             [
              0.4444444444444444,
              "#bd3786"
             ],
             [
              0.5555555555555556,
              "#d8576b"
             ],
             [
              0.6666666666666666,
              "#ed7953"
             ],
             [
              0.7777777777777778,
              "#fb9f3a"
             ],
             [
              0.8888888888888888,
              "#fdca26"
             ],
             [
              1,
              "#f0f921"
             ]
            ],
            "type": "contour"
           }
          ],
          "contourcarpet": [
           {
            "colorbar": {
             "outlinewidth": 0,
             "ticks": ""
            },
            "type": "contourcarpet"
           }
          ],
          "heatmap": [
           {
            "colorbar": {
             "outlinewidth": 0,
             "ticks": ""
            },
            "colorscale": [
             [
              0,
              "#0d0887"
             ],
             [
              0.1111111111111111,
              "#46039f"
             ],
             [
              0.2222222222222222,
              "#7201a8"
             ],
             [
              0.3333333333333333,
              "#9c179e"
             ],
             [
              0.4444444444444444,
              "#bd3786"
             ],
             [
              0.5555555555555556,
              "#d8576b"
             ],
             [
              0.6666666666666666,
              "#ed7953"
             ],
             [
              0.7777777777777778,
              "#fb9f3a"
             ],
             [
              0.8888888888888888,
              "#fdca26"
             ],
             [
              1,
              "#f0f921"
             ]
            ],
            "type": "heatmap"
           }
          ],
          "heatmapgl": [
           {
            "colorbar": {
             "outlinewidth": 0,
             "ticks": ""
            },
            "colorscale": [
             [
              0,
              "#0d0887"
             ],
             [
              0.1111111111111111,
              "#46039f"
             ],
             [
              0.2222222222222222,
              "#7201a8"
             ],
             [
              0.3333333333333333,
              "#9c179e"
             ],
             [
              0.4444444444444444,
              "#bd3786"
             ],
             [
              0.5555555555555556,
              "#d8576b"
             ],
             [
              0.6666666666666666,
              "#ed7953"
             ],
             [
              0.7777777777777778,
              "#fb9f3a"
             ],
             [
              0.8888888888888888,
              "#fdca26"
             ],
             [
              1,
              "#f0f921"
             ]
            ],
            "type": "heatmapgl"
           }
          ],
          "histogram": [
           {
            "marker": {
             "pattern": {
              "fillmode": "overlay",
              "size": 10,
              "solidity": 0.2
             }
            },
            "type": "histogram"
           }
          ],
          "histogram2d": [
           {
            "colorbar": {
             "outlinewidth": 0,
             "ticks": ""
            },
            "colorscale": [
             [
              0,
              "#0d0887"
             ],
             [
              0.1111111111111111,
              "#46039f"
             ],
             [
              0.2222222222222222,
              "#7201a8"
             ],
             [
              0.3333333333333333,
              "#9c179e"
             ],
             [
              0.4444444444444444,
              "#bd3786"
             ],
             [
              0.5555555555555556,
              "#d8576b"
             ],
             [
              0.6666666666666666,
              "#ed7953"
             ],
             [
              0.7777777777777778,
              "#fb9f3a"
             ],
             [
              0.8888888888888888,
              "#fdca26"
             ],
             [
              1,
              "#f0f921"
             ]
            ],
            "type": "histogram2d"
           }
          ],
          "histogram2dcontour": [
           {
            "colorbar": {
             "outlinewidth": 0,
             "ticks": ""
            },
            "colorscale": [
             [
              0,
              "#0d0887"
             ],
             [
              0.1111111111111111,
              "#46039f"
             ],
             [
              0.2222222222222222,
              "#7201a8"
             ],
             [
              0.3333333333333333,
              "#9c179e"
             ],
             [
              0.4444444444444444,
              "#bd3786"
             ],
             [
              0.5555555555555556,
              "#d8576b"
             ],
             [
              0.6666666666666666,
              "#ed7953"
             ],
             [
              0.7777777777777778,
              "#fb9f3a"
             ],
             [
              0.8888888888888888,
              "#fdca26"
             ],
             [
              1,
              "#f0f921"
             ]
            ],
            "type": "histogram2dcontour"
           }
          ],
          "mesh3d": [
           {
            "colorbar": {
             "outlinewidth": 0,
             "ticks": ""
            },
            "type": "mesh3d"
           }
          ],
          "parcoords": [
           {
            "line": {
             "colorbar": {
              "outlinewidth": 0,
              "ticks": ""
             }
            },
            "type": "parcoords"
           }
          ],
          "pie": [
           {
            "automargin": true,
            "type": "pie"
           }
          ],
          "scatter": [
           {
            "fillpattern": {
             "fillmode": "overlay",
             "size": 10,
             "solidity": 0.2
            },
            "type": "scatter"
           }
          ],
          "scatter3d": [
           {
            "line": {
             "colorbar": {
              "outlinewidth": 0,
              "ticks": ""
             }
            },
            "marker": {
             "colorbar": {
              "outlinewidth": 0,
              "ticks": ""
             }
            },
            "type": "scatter3d"
           }
          ],
          "scattercarpet": [
           {
            "marker": {
             "colorbar": {
              "outlinewidth": 0,
              "ticks": ""
             }
            },
            "type": "scattercarpet"
           }
          ],
          "scattergeo": [
           {
            "marker": {
             "colorbar": {
              "outlinewidth": 0,
              "ticks": ""
             }
            },
            "type": "scattergeo"
           }
          ],
          "scattergl": [
           {
            "marker": {
             "colorbar": {
              "outlinewidth": 0,
              "ticks": ""
             }
            },
            "type": "scattergl"
           }
          ],
          "scattermapbox": [
           {
            "marker": {
             "colorbar": {
              "outlinewidth": 0,
              "ticks": ""
             }
            },
            "type": "scattermapbox"
           }
          ],
          "scatterpolar": [
           {
            "marker": {
             "colorbar": {
              "outlinewidth": 0,
              "ticks": ""
             }
            },
            "type": "scatterpolar"
           }
          ],
          "scatterpolargl": [
           {
            "marker": {
             "colorbar": {
              "outlinewidth": 0,
              "ticks": ""
             }
            },
            "type": "scatterpolargl"
           }
          ],
          "scatterternary": [
           {
            "marker": {
             "colorbar": {
              "outlinewidth": 0,
              "ticks": ""
             }
            },
            "type": "scatterternary"
           }
          ],
          "surface": [
           {
            "colorbar": {
             "outlinewidth": 0,
             "ticks": ""
            },
            "colorscale": [
             [
              0,
              "#0d0887"
             ],
             [
              0.1111111111111111,
              "#46039f"
             ],
             [
              0.2222222222222222,
              "#7201a8"
             ],
             [
              0.3333333333333333,
              "#9c179e"
             ],
             [
              0.4444444444444444,
              "#bd3786"
             ],
             [
              0.5555555555555556,
              "#d8576b"
             ],
             [
              0.6666666666666666,
              "#ed7953"
             ],
             [
              0.7777777777777778,
              "#fb9f3a"
             ],
             [
              0.8888888888888888,
              "#fdca26"
             ],
             [
              1,
              "#f0f921"
             ]
            ],
            "type": "surface"
           }
          ],
          "table": [
           {
            "cells": {
             "fill": {
              "color": "#EBF0F8"
             },
             "line": {
              "color": "white"
             }
            },
            "header": {
             "fill": {
              "color": "#C8D4E3"
             },
             "line": {
              "color": "white"
             }
            },
            "type": "table"
           }
          ]
         },
         "layout": {
          "annotationdefaults": {
           "arrowcolor": "#2a3f5f",
           "arrowhead": 0,
           "arrowwidth": 1
          },
          "autotypenumbers": "strict",
          "coloraxis": {
           "colorbar": {
            "outlinewidth": 0,
            "ticks": ""
           }
          },
          "colorscale": {
           "diverging": [
            [
             0,
             "#8e0152"
            ],
            [
             0.1,
             "#c51b7d"
            ],
            [
             0.2,
             "#de77ae"
            ],
            [
             0.3,
             "#f1b6da"
            ],
            [
             0.4,
             "#fde0ef"
            ],
            [
             0.5,
             "#f7f7f7"
            ],
            [
             0.6,
             "#e6f5d0"
            ],
            [
             0.7,
             "#b8e186"
            ],
            [
             0.8,
             "#7fbc41"
            ],
            [
             0.9,
             "#4d9221"
            ],
            [
             1,
             "#276419"
            ]
           ],
           "sequential": [
            [
             0,
             "#0d0887"
            ],
            [
             0.1111111111111111,
             "#46039f"
            ],
            [
             0.2222222222222222,
             "#7201a8"
            ],
            [
             0.3333333333333333,
             "#9c179e"
            ],
            [
             0.4444444444444444,
             "#bd3786"
            ],
            [
             0.5555555555555556,
             "#d8576b"
            ],
            [
             0.6666666666666666,
             "#ed7953"
            ],
            [
             0.7777777777777778,
             "#fb9f3a"
            ],
            [
             0.8888888888888888,
             "#fdca26"
            ],
            [
             1,
             "#f0f921"
            ]
           ],
           "sequentialminus": [
            [
             0,
             "#0d0887"
            ],
            [
             0.1111111111111111,
             "#46039f"
            ],
            [
             0.2222222222222222,
             "#7201a8"
            ],
            [
             0.3333333333333333,
             "#9c179e"
            ],
            [
             0.4444444444444444,
             "#bd3786"
            ],
            [
             0.5555555555555556,
             "#d8576b"
            ],
            [
             0.6666666666666666,
             "#ed7953"
            ],
            [
             0.7777777777777778,
             "#fb9f3a"
            ],
            [
             0.8888888888888888,
             "#fdca26"
            ],
            [
             1,
             "#f0f921"
            ]
           ]
          },
          "colorway": [
           "#636efa",
           "#EF553B",
           "#00cc96",
           "#ab63fa",
           "#FFA15A",
           "#19d3f3",
           "#FF6692",
           "#B6E880",
           "#FF97FF",
           "#FECB52"
          ],
          "font": {
           "color": "#2a3f5f"
          },
          "geo": {
           "bgcolor": "white",
           "lakecolor": "white",
           "landcolor": "white",
           "showlakes": true,
           "showland": true,
           "subunitcolor": "#C8D4E3"
          },
          "hoverlabel": {
           "align": "left"
          },
          "hovermode": "closest",
          "mapbox": {
           "style": "light"
          },
          "paper_bgcolor": "white",
          "plot_bgcolor": "white",
          "polar": {
           "angularaxis": {
            "gridcolor": "#EBF0F8",
            "linecolor": "#EBF0F8",
            "ticks": ""
           },
           "bgcolor": "white",
           "radialaxis": {
            "gridcolor": "#EBF0F8",
            "linecolor": "#EBF0F8",
            "ticks": ""
           }
          },
          "scene": {
           "xaxis": {
            "backgroundcolor": "white",
            "gridcolor": "#DFE8F3",
            "gridwidth": 2,
            "linecolor": "#EBF0F8",
            "showbackground": true,
            "ticks": "",
            "zerolinecolor": "#EBF0F8"
           },
           "yaxis": {
            "backgroundcolor": "white",
            "gridcolor": "#DFE8F3",
            "gridwidth": 2,
            "linecolor": "#EBF0F8",
            "showbackground": true,
            "ticks": "",
            "zerolinecolor": "#EBF0F8"
           },
           "zaxis": {
            "backgroundcolor": "white",
            "gridcolor": "#DFE8F3",
            "gridwidth": 2,
            "linecolor": "#EBF0F8",
            "showbackground": true,
            "ticks": "",
            "zerolinecolor": "#EBF0F8"
           }
          },
          "shapedefaults": {
           "line": {
            "color": "#2a3f5f"
           }
          },
          "ternary": {
           "aaxis": {
            "gridcolor": "#DFE8F3",
            "linecolor": "#A2B1C6",
            "ticks": ""
           },
           "baxis": {
            "gridcolor": "#DFE8F3",
            "linecolor": "#A2B1C6",
            "ticks": ""
           },
           "bgcolor": "white",
           "caxis": {
            "gridcolor": "#DFE8F3",
            "linecolor": "#A2B1C6",
            "ticks": ""
           }
          },
          "title": {
           "x": 0.05
          },
          "xaxis": {
           "automargin": true,
           "gridcolor": "#EBF0F8",
           "linecolor": "#EBF0F8",
           "ticks": "",
           "title": {
            "standoff": 15
           },
           "zerolinecolor": "#EBF0F8",
           "zerolinewidth": 2
          },
          "yaxis": {
           "automargin": true,
           "gridcolor": "#EBF0F8",
           "linecolor": "#EBF0F8",
           "ticks": "",
           "title": {
            "standoff": 15
           },
           "zerolinecolor": "#EBF0F8",
           "zerolinewidth": 2
          }
         }
        },
        "title": {
         "text": "Výškové profily priamej trasy a obchádzky mosta M1075"
        },
        "xaxis": {
         "title": {
          "text": "Vzdialenosť (km)"
         }
        },
        "yaxis": {
         "range": [
          109.4,
          132.7
         ],
         "title": {
          "text": "Nadmorská výška (m)"
         }
        }
       }
      }
     },
     "metadata": {},
     "output_type": "display_data"
    }
   ],
   "source": [
    "print(f\"Clear route for {bridge_id}: {clear_route}\")\n",
    "print(f\"Alternative route for {bridge_id}: {alternative_route}\")\n",
    "\n",
    "\n",
    "# Extract data for both routes\n",
    "clear_distances, clear_elevations = extract_elevation_data(clear_route)\n",
    "alt_distances, alt_elevations = extract_elevation_data(alternative_route)\n",
    "\n",
    "# Calculate the elevation range\n",
    "min_elevation = min(min(clear_elevations), min(alt_elevations))\n",
    "max_elevation = max(max(clear_elevations), max(alt_elevations))\n",
    "\n",
    "# Add a buffer of ±10 meters\n",
    "y_min = min_elevation - 5\n",
    "y_max = max_elevation + 5\n",
    "\n",
    "# Create a Plotly figure\n",
    "fig = go.Figure()\n",
    "\n",
    "# Add the clear route's elevation profile\n",
    "fig.add_trace(go.Scatter(\n",
    "    x=clear_distances,\n",
    "    y=clear_elevations,\n",
    "    mode=\"lines\",\n",
    "    name=\"Priama trasa\",\n",
    "    line=dict(color=\"green\"),\n",
    "    fill='tozeroy',  # Fill area under the line to the x-axis (y=0)\n",
    "    fillcolor='rgba(8, 132, 9, 0.3)'  # Transparent blue fill\n",
    "))\n",
    "\n",
    "# Add the alternative route's elevation profile\n",
    "fig.add_trace(go.Scatter(\n",
    "    x=alt_distances,\n",
    "    y=alt_elevations,\n",
    "    mode=\"lines\",\n",
    "    name=\"Obchádzka\",\n",
    "    line=dict(color=\"red\"),\n",
    "    fill='tozeroy',  # Fill area under the line to the x-axis (y=0)\n",
    "    fillcolor='rgba(255, 99, 71, 0.3)'  # Transparent red fill\n",
    "))\n",
    "\n",
    "\n",
    "# Update the layout\n",
    "fig.update_layout(\n",
    "    title=f\"Výškové profily priamej trasy a obchádzky mosta {bridge_to_find}\",\n",
    "    xaxis_title=\"Vzdialenosť (km)\",\n",
    "    yaxis_title=\"Nadmorská výška (m)\",\n",
    "    yaxis=dict(range=[y_min, y_max]),  # Set y-axis limits\n",
    "    legend=dict(\n",
    "        title=\"Typ\",\n",
    "        orientation=\"h\",  # Horizontal legend\n",
    "        yanchor=\"bottom\",\n",
    "        y=1.02,\n",
    "        xanchor=\"center\",\n",
    "        x=0.25\n",
    "    ),\n",
    "    template=\"plotly_white\"\n",
    ")\n",
    "\n",
    "# Show the plot\n",
    "fig.show()"
   ]
  },
  {
   "cell_type": "code",
   "execution_count": 16,
   "metadata": {},
   "outputs": [
    {
     "data": {
      "text/html": [
       "<div>\n",
       "<style scoped>\n",
       "    .dataframe tbody tr th:only-of-type {\n",
       "        vertical-align: middle;\n",
       "    }\n",
       "\n",
       "    .dataframe tbody tr th {\n",
       "        vertical-align: top;\n",
       "    }\n",
       "\n",
       "    .dataframe thead th {\n",
       "        text-align: right;\n",
       "    }\n",
       "</style>\n",
       "<table border=\"1\" class=\"dataframe\">\n",
       "  <thead>\n",
       "    <tr style=\"text-align: right;\">\n",
       "      <th></th>\n",
       "      <th>ID</th>\n",
       "      <th>GPS</th>\n",
       "      <th>Dlzka</th>\n",
       "      <th>PK</th>\n",
       "      <th>Intenz</th>\n",
       "      <th>Clear_Distance</th>\n",
       "      <th>Clear_Time</th>\n",
       "      <th>Alt_Distance</th>\n",
       "      <th>Alt_Time</th>\n",
       "      <th>Diff_Dist</th>\n",
       "      <th>Diff_Time</th>\n",
       "      <th>Diff_Time_all</th>\n",
       "      <th>Diff_Dist_all</th>\n",
       "      <th>Price</th>\n",
       "    </tr>\n",
       "  </thead>\n",
       "  <tbody>\n",
       "    <tr>\n",
       "      <th>0</th>\n",
       "      <td>M6425</td>\n",
       "      <td>48.586307824, 17.824516076</td>\n",
       "      <td>10.43</td>\n",
       "      <td>499</td>\n",
       "      <td>12447</td>\n",
       "      <td>5.498015</td>\n",
       "      <td>8.413483</td>\n",
       "      <td>25.181498</td>\n",
       "      <td>22.787417</td>\n",
       "      <td>19.683483</td>\n",
       "      <td>14.373933</td>\n",
       "      <td>2981.872470</td>\n",
       "      <td>245000.312901</td>\n",
       "      <td>75950.096999</td>\n",
       "    </tr>\n",
       "    <tr>\n",
       "      <th>1</th>\n",
       "      <td>M6684</td>\n",
       "      <td>48.628765366, 17.719734958</td>\n",
       "      <td>12.40</td>\n",
       "      <td>499</td>\n",
       "      <td>3931</td>\n",
       "      <td>19.082168</td>\n",
       "      <td>26.423567</td>\n",
       "      <td>41.028272</td>\n",
       "      <td>47.413117</td>\n",
       "      <td>21.946104</td>\n",
       "      <td>20.989550</td>\n",
       "      <td>1375.165351</td>\n",
       "      <td>86270.134824</td>\n",
       "      <td>26743.741795</td>\n",
       "    </tr>\n",
       "    <tr>\n",
       "      <th>2</th>\n",
       "      <td>M4553</td>\n",
       "      <td>48.588876768, 17.810173653</td>\n",
       "      <td>71.60</td>\n",
       "      <td>499</td>\n",
       "      <td>14134</td>\n",
       "      <td>8.363006</td>\n",
       "      <td>11.456083</td>\n",
       "      <td>33.418672</td>\n",
       "      <td>43.640850</td>\n",
       "      <td>25.055666</td>\n",
       "      <td>32.184767</td>\n",
       "      <td>7581.658201</td>\n",
       "      <td>354136.783244</td>\n",
       "      <td>109782.402806</td>\n",
       "    </tr>\n",
       "    <tr>\n",
       "      <th>3</th>\n",
       "      <td>M679</td>\n",
       "      <td>48.683035961, 17.255918415</td>\n",
       "      <td>17.10</td>\n",
       "      <td>500</td>\n",
       "      <td>6052</td>\n",
       "      <td>18.211967</td>\n",
       "      <td>18.445983</td>\n",
       "      <td>42.261829</td>\n",
       "      <td>36.516217</td>\n",
       "      <td>24.049862</td>\n",
       "      <td>18.070233</td>\n",
       "      <td>1822.684202</td>\n",
       "      <td>145549.764824</td>\n",
       "      <td>45120.427095</td>\n",
       "    </tr>\n",
       "    <tr>\n",
       "      <th>4</th>\n",
       "      <td>M4864</td>\n",
       "      <td>48.655586793, 17.042874752</td>\n",
       "      <td>111.56</td>\n",
       "      <td>500</td>\n",
       "      <td>3663</td>\n",
       "      <td>14.761270</td>\n",
       "      <td>17.814867</td>\n",
       "      <td>24.561341</td>\n",
       "      <td>27.218483</td>\n",
       "      <td>9.800071</td>\n",
       "      <td>9.403617</td>\n",
       "      <td>574.090797</td>\n",
       "      <td>35897.660073</td>\n",
       "      <td>11128.274623</td>\n",
       "    </tr>\n",
       "    <tr>\n",
       "      <th>5</th>\n",
       "      <td>M3839</td>\n",
       "      <td>48.679414265, 17.346768217</td>\n",
       "      <td>15.00</td>\n",
       "      <td>500</td>\n",
       "      <td>7810</td>\n",
       "      <td>3.450708</td>\n",
       "      <td>6.405067</td>\n",
       "      <td>4.141911</td>\n",
       "      <td>9.731933</td>\n",
       "      <td>0.691203</td>\n",
       "      <td>3.326867</td>\n",
       "      <td>433.047144</td>\n",
       "      <td>5398.295430</td>\n",
       "      <td>1673.471583</td>\n",
       "    </tr>\n",
       "    <tr>\n",
       "      <th>6</th>\n",
       "      <td>M5081</td>\n",
       "      <td>48.766953845, 17.422432832</td>\n",
       "      <td>17.50</td>\n",
       "      <td>500</td>\n",
       "      <td>882</td>\n",
       "      <td>10.169312</td>\n",
       "      <td>10.334317</td>\n",
       "      <td>13.036064</td>\n",
       "      <td>12.876333</td>\n",
       "      <td>2.866752</td>\n",
       "      <td>2.542017</td>\n",
       "      <td>37.367645</td>\n",
       "      <td>2528.475264</td>\n",
       "      <td>783.827332</td>\n",
       "    </tr>\n",
       "    <tr>\n",
       "      <th>7</th>\n",
       "      <td>M5770</td>\n",
       "      <td>48.682916282, 17.272772338</td>\n",
       "      <td>12.50</td>\n",
       "      <td>500</td>\n",
       "      <td>6843</td>\n",
       "      <td>8.791168</td>\n",
       "      <td>10.359217</td>\n",
       "      <td>13.936662</td>\n",
       "      <td>15.169183</td>\n",
       "      <td>5.145494</td>\n",
       "      <td>4.809967</td>\n",
       "      <td>548.576698</td>\n",
       "      <td>35210.615442</td>\n",
       "      <td>10915.290787</td>\n",
       "    </tr>\n",
       "    <tr>\n",
       "      <th>8</th>\n",
       "      <td>M5237</td>\n",
       "      <td>48.764369927, 17.408896343</td>\n",
       "      <td>16.65</td>\n",
       "      <td>500</td>\n",
       "      <td>882</td>\n",
       "      <td>7.334021</td>\n",
       "      <td>7.879033</td>\n",
       "      <td>10.200690</td>\n",
       "      <td>10.421000</td>\n",
       "      <td>2.866669</td>\n",
       "      <td>2.541967</td>\n",
       "      <td>37.366910</td>\n",
       "      <td>2528.402058</td>\n",
       "      <td>783.804638</td>\n",
       "    </tr>\n",
       "    <tr>\n",
       "      <th>9</th>\n",
       "      <td>M299</td>\n",
       "      <td>48.629589908, 17.484713495</td>\n",
       "      <td>12.50</td>\n",
       "      <td>501</td>\n",
       "      <td>1310</td>\n",
       "      <td>13.123044</td>\n",
       "      <td>14.487833</td>\n",
       "      <td>21.743988</td>\n",
       "      <td>23.907900</td>\n",
       "      <td>8.620944</td>\n",
       "      <td>9.420067</td>\n",
       "      <td>205.671456</td>\n",
       "      <td>11293.436640</td>\n",
       "      <td>3500.965358</td>\n",
       "    </tr>\n",
       "    <tr>\n",
       "      <th>10</th>\n",
       "      <td>M6245</td>\n",
       "      <td>47.988603318, 17.614554817</td>\n",
       "      <td>159.26</td>\n",
       "      <td>507</td>\n",
       "      <td>11674</td>\n",
       "      <td>2.365217</td>\n",
       "      <td>3.652850</td>\n",
       "      <td>3.839472</td>\n",
       "      <td>5.087900</td>\n",
       "      <td>1.474255</td>\n",
       "      <td>1.435050</td>\n",
       "      <td>279.212895</td>\n",
       "      <td>17210.452870</td>\n",
       "      <td>5335.240390</td>\n",
       "    </tr>\n",
       "    <tr>\n",
       "      <th>11</th>\n",
       "      <td>M2332</td>\n",
       "      <td>48.25945, 17.74539</td>\n",
       "      <td>19.34</td>\n",
       "      <td>507</td>\n",
       "      <td>10818</td>\n",
       "      <td>12.213055</td>\n",
       "      <td>14.812500</td>\n",
       "      <td>15.408036</td>\n",
       "      <td>21.302467</td>\n",
       "      <td>3.194981</td>\n",
       "      <td>6.489967</td>\n",
       "      <td>1170.140990</td>\n",
       "      <td>34563.304458</td>\n",
       "      <td>10714.624382</td>\n",
       "    </tr>\n",
       "    <tr>\n",
       "      <th>12</th>\n",
       "      <td>M6224</td>\n",
       "      <td>48.030810689, 17.692676778</td>\n",
       "      <td>10.00</td>\n",
       "      <td>507</td>\n",
       "      <td>5702</td>\n",
       "      <td>15.652218</td>\n",
       "      <td>18.200100</td>\n",
       "      <td>25.707678</td>\n",
       "      <td>28.072267</td>\n",
       "      <td>10.055460</td>\n",
       "      <td>9.872167</td>\n",
       "      <td>938.184906</td>\n",
       "      <td>57336.232920</td>\n",
       "      <td>17774.232205</td>\n",
       "    </tr>\n",
       "    <tr>\n",
       "      <th>13</th>\n",
       "      <td>M6252</td>\n",
       "      <td>48.186735332, 17.712247652</td>\n",
       "      <td>12.00</td>\n",
       "      <td>507</td>\n",
       "      <td>11604</td>\n",
       "      <td>2.749511</td>\n",
       "      <td>4.040367</td>\n",
       "      <td>4.963452</td>\n",
       "      <td>5.696017</td>\n",
       "      <td>2.213941</td>\n",
       "      <td>1.655650</td>\n",
       "      <td>320.202710</td>\n",
       "      <td>25690.571364</td>\n",
       "      <td>7964.077123</td>\n",
       "    </tr>\n",
       "    <tr>\n",
       "      <th>14</th>\n",
       "      <td>M7235</td>\n",
       "      <td>48.033939412, 17.695958038</td>\n",
       "      <td>17.20</td>\n",
       "      <td>507</td>\n",
       "      <td>5702</td>\n",
       "      <td>7.276791</td>\n",
       "      <td>7.333217</td>\n",
       "      <td>17.714767</td>\n",
       "      <td>18.479233</td>\n",
       "      <td>10.437976</td>\n",
       "      <td>11.146017</td>\n",
       "      <td>1059.243117</td>\n",
       "      <td>59517.339152</td>\n",
       "      <td>18450.375137</td>\n",
       "    </tr>\n",
       "    <tr>\n",
       "      <th>15</th>\n",
       "      <td>M283</td>\n",
       "      <td>47.975763942, 17.609488359</td>\n",
       "      <td>28.20</td>\n",
       "      <td>507</td>\n",
       "      <td>6748</td>\n",
       "      <td>4.011896</td>\n",
       "      <td>6.899500</td>\n",
       "      <td>5.486152</td>\n",
       "      <td>8.334567</td>\n",
       "      <td>1.474256</td>\n",
       "      <td>1.435067</td>\n",
       "      <td>161.397164</td>\n",
       "      <td>9948.279488</td>\n",
       "      <td>3083.966641</td>\n",
       "    </tr>\n",
       "    <tr>\n",
       "      <th>16</th>\n",
       "      <td>M2276</td>\n",
       "      <td>48.128819014, 17.478579685</td>\n",
       "      <td>91.14</td>\n",
       "      <td>510</td>\n",
       "      <td>2810</td>\n",
       "      <td>9.651467</td>\n",
       "      <td>13.081983</td>\n",
       "      <td>17.983432</td>\n",
       "      <td>19.429800</td>\n",
       "      <td>8.331965</td>\n",
       "      <td>6.347817</td>\n",
       "      <td>297.289414</td>\n",
       "      <td>23412.821650</td>\n",
       "      <td>7257.974712</td>\n",
       "    </tr>\n",
       "    <tr>\n",
       "      <th>17</th>\n",
       "      <td>M7011</td>\n",
       "      <td>48.434617991, 17.757686108</td>\n",
       "      <td>78.84</td>\n",
       "      <td>513</td>\n",
       "      <td>11790</td>\n",
       "      <td>8.040023</td>\n",
       "      <td>9.500617</td>\n",
       "      <td>13.013425</td>\n",
       "      <td>14.271650</td>\n",
       "      <td>4.973402</td>\n",
       "      <td>4.771033</td>\n",
       "      <td>937.508050</td>\n",
       "      <td>58636.409580</td>\n",
       "      <td>18177.286970</td>\n",
       "    </tr>\n",
       "    <tr>\n",
       "      <th>18</th>\n",
       "      <td>M7554</td>\n",
       "      <td>48.495879831, 17.605489791</td>\n",
       "      <td>11.70</td>\n",
       "      <td>560</td>\n",
       "      <td>2734</td>\n",
       "      <td>8.474803</td>\n",
       "      <td>8.278917</td>\n",
       "      <td>9.951604</td>\n",
       "      <td>10.514967</td>\n",
       "      <td>1.476801</td>\n",
       "      <td>2.236050</td>\n",
       "      <td>101.889345</td>\n",
       "      <td>4037.573934</td>\n",
       "      <td>1251.647920</td>\n",
       "    </tr>\n",
       "    <tr>\n",
       "      <th>19</th>\n",
       "      <td>M4428</td>\n",
       "      <td>47.906083454, 17.811478314</td>\n",
       "      <td>22.00</td>\n",
       "      <td>561</td>\n",
       "      <td>1342</td>\n",
       "      <td>12.993099</td>\n",
       "      <td>17.036183</td>\n",
       "      <td>18.731893</td>\n",
       "      <td>18.858433</td>\n",
       "      <td>5.738794</td>\n",
       "      <td>1.822250</td>\n",
       "      <td>40.757658</td>\n",
       "      <td>7701.461548</td>\n",
       "      <td>2387.453080</td>\n",
       "    </tr>\n",
       "    <tr>\n",
       "      <th>20</th>\n",
       "      <td>M141</td>\n",
       "      <td>47.994551211, 17.798279831</td>\n",
       "      <td>50.50</td>\n",
       "      <td>561</td>\n",
       "      <td>3086</td>\n",
       "      <td>14.591970</td>\n",
       "      <td>16.613050</td>\n",
       "      <td>31.494943</td>\n",
       "      <td>35.069450</td>\n",
       "      <td>16.902973</td>\n",
       "      <td>18.456400</td>\n",
       "      <td>949.274173</td>\n",
       "      <td>52162.574678</td>\n",
       "      <td>16170.398150</td>\n",
       "    </tr>\n",
       "    <tr>\n",
       "      <th>21</th>\n",
       "      <td>M818</td>\n",
       "      <td>47.979157779, 17.786647552</td>\n",
       "      <td>19.60</td>\n",
       "      <td>561</td>\n",
       "      <td>1558</td>\n",
       "      <td>6.670502</td>\n",
       "      <td>7.387850</td>\n",
       "      <td>10.936448</td>\n",
       "      <td>12.652133</td>\n",
       "      <td>4.265946</td>\n",
       "      <td>5.264283</td>\n",
       "      <td>136.695891</td>\n",
       "      <td>6646.343868</td>\n",
       "      <td>2060.366599</td>\n",
       "    </tr>\n",
       "    <tr>\n",
       "      <th>22</th>\n",
       "      <td>M5666</td>\n",
       "      <td>48.112737762, 17.319021838</td>\n",
       "      <td>10.60</td>\n",
       "      <td>572</td>\n",
       "      <td>5028</td>\n",
       "      <td>6.844841</td>\n",
       "      <td>7.747017</td>\n",
       "      <td>10.041208</td>\n",
       "      <td>12.104617</td>\n",
       "      <td>3.196367</td>\n",
       "      <td>4.357600</td>\n",
       "      <td>365.166880</td>\n",
       "      <td>16071.333276</td>\n",
       "      <td>4982.113316</td>\n",
       "    </tr>\n",
       "    <tr>\n",
       "      <th>23</th>\n",
       "      <td>M1974</td>\n",
       "      <td>48.731707526, 17.406165313</td>\n",
       "      <td>15.60</td>\n",
       "      <td>581</td>\n",
       "      <td>2721</td>\n",
       "      <td>3.635745</td>\n",
       "      <td>4.477250</td>\n",
       "      <td>4.300753</td>\n",
       "      <td>5.579617</td>\n",
       "      <td>0.665008</td>\n",
       "      <td>1.102367</td>\n",
       "      <td>49.992328</td>\n",
       "      <td>1809.486768</td>\n",
       "      <td>560.940898</td>\n",
       "    </tr>\n",
       "    <tr>\n",
       "      <th>24</th>\n",
       "      <td>M117</td>\n",
       "      <td>48.651890296, 17.187366434</td>\n",
       "      <td>14.80</td>\n",
       "      <td>590</td>\n",
       "      <td>2543</td>\n",
       "      <td>8.089436</td>\n",
       "      <td>7.462967</td>\n",
       "      <td>13.868406</td>\n",
       "      <td>15.748517</td>\n",
       "      <td>5.778970</td>\n",
       "      <td>8.285550</td>\n",
       "      <td>351.169227</td>\n",
       "      <td>14695.920710</td>\n",
       "      <td>4555.735420</td>\n",
       "    </tr>\n",
       "    <tr>\n",
       "      <th>25</th>\n",
       "      <td>M3991</td>\n",
       "      <td>48.768851909, 17.279878674</td>\n",
       "      <td>15.60</td>\n",
       "      <td>1146</td>\n",
       "      <td>834</td>\n",
       "      <td>3.696867</td>\n",
       "      <td>4.502350</td>\n",
       "      <td>6.027939</td>\n",
       "      <td>5.080717</td>\n",
       "      <td>2.331072</td>\n",
       "      <td>0.578367</td>\n",
       "      <td>8.039297</td>\n",
       "      <td>1944.114048</td>\n",
       "      <td>602.675355</td>\n",
       "    </tr>\n",
       "    <tr>\n",
       "      <th>26</th>\n",
       "      <td>M6019</td>\n",
       "      <td>48.71010927, 17.336109204</td>\n",
       "      <td>13.65</td>\n",
       "      <td>1146</td>\n",
       "      <td>1401</td>\n",
       "      <td>7.339891</td>\n",
       "      <td>8.096567</td>\n",
       "      <td>15.859869</td>\n",
       "      <td>13.882350</td>\n",
       "      <td>8.519978</td>\n",
       "      <td>5.785783</td>\n",
       "      <td>135.098041</td>\n",
       "      <td>11936.489178</td>\n",
       "      <td>3700.311645</td>\n",
       "    </tr>\n",
       "    <tr>\n",
       "      <th>27</th>\n",
       "      <td>M1275</td>\n",
       "      <td>48.613386579, 17.798964154</td>\n",
       "      <td>58.90</td>\n",
       "      <td>1257</td>\n",
       "      <td>2530</td>\n",
       "      <td>4.794342</td>\n",
       "      <td>6.723633</td>\n",
       "      <td>14.283282</td>\n",
       "      <td>17.105167</td>\n",
       "      <td>9.488940</td>\n",
       "      <td>10.381533</td>\n",
       "      <td>437.754656</td>\n",
       "      <td>24007.018200</td>\n",
       "      <td>7442.175642</td>\n",
       "    </tr>\n",
       "    <tr>\n",
       "      <th>28</th>\n",
       "      <td>M185</td>\n",
       "      <td>48.50695543, 17.768098867</td>\n",
       "      <td>65.01</td>\n",
       "      <td>1267</td>\n",
       "      <td>1442</td>\n",
       "      <td>6.838640</td>\n",
       "      <td>7.999417</td>\n",
       "      <td>11.545582</td>\n",
       "      <td>12.661483</td>\n",
       "      <td>4.706942</td>\n",
       "      <td>4.662067</td>\n",
       "      <td>112.045002</td>\n",
       "      <td>6787.410364</td>\n",
       "      <td>2104.097213</td>\n",
       "    </tr>\n",
       "    <tr>\n",
       "      <th>29</th>\n",
       "      <td>M6365</td>\n",
       "      <td>48.336042144, 17.595390718</td>\n",
       "      <td>16.84</td>\n",
       "      <td>1287</td>\n",
       "      <td>2696</td>\n",
       "      <td>5.299490</td>\n",
       "      <td>7.525817</td>\n",
       "      <td>7.086486</td>\n",
       "      <td>12.418083</td>\n",
       "      <td>1.786996</td>\n",
       "      <td>4.892267</td>\n",
       "      <td>219.825849</td>\n",
       "      <td>4817.741216</td>\n",
       "      <td>1493.499777</td>\n",
       "    </tr>\n",
       "    <tr>\n",
       "      <th>30</th>\n",
       "      <td>M4267</td>\n",
       "      <td>48.409294867, 17.490376288</td>\n",
       "      <td>10.45</td>\n",
       "      <td>1295</td>\n",
       "      <td>1137</td>\n",
       "      <td>4.303795</td>\n",
       "      <td>6.681067</td>\n",
       "      <td>5.232396</td>\n",
       "      <td>11.102317</td>\n",
       "      <td>0.928601</td>\n",
       "      <td>4.421250</td>\n",
       "      <td>83.782688</td>\n",
       "      <td>1055.819337</td>\n",
       "      <td>327.303994</td>\n",
       "    </tr>\n",
       "    <tr>\n",
       "      <th>31</th>\n",
       "      <td>M577</td>\n",
       "      <td>48.456607689, 17.723415503</td>\n",
       "      <td>19.00</td>\n",
       "      <td>1311</td>\n",
       "      <td>1615</td>\n",
       "      <td>3.427607</td>\n",
       "      <td>4.180967</td>\n",
       "      <td>11.018709</td>\n",
       "      <td>10.952533</td>\n",
       "      <td>7.591102</td>\n",
       "      <td>6.771567</td>\n",
       "      <td>182.268003</td>\n",
       "      <td>12259.629730</td>\n",
       "      <td>3800.485216</td>\n",
       "    </tr>\n",
       "    <tr>\n",
       "      <th>32</th>\n",
       "      <td>M9488</td>\n",
       "      <td>48.19381, 17.60678</td>\n",
       "      <td>10.00</td>\n",
       "      <td>1333</td>\n",
       "      <td>2136</td>\n",
       "      <td>6.086926</td>\n",
       "      <td>4.619033</td>\n",
       "      <td>8.866276</td>\n",
       "      <td>9.266100</td>\n",
       "      <td>2.779350</td>\n",
       "      <td>4.647067</td>\n",
       "      <td>165.435573</td>\n",
       "      <td>5936.691600</td>\n",
       "      <td>1840.374396</td>\n",
       "    </tr>\n",
       "    <tr>\n",
       "      <th>33</th>\n",
       "      <td>M2495</td>\n",
       "      <td>48.207115519, 17.648135908</td>\n",
       "      <td>18.96</td>\n",
       "      <td>1333</td>\n",
       "      <td>6091</td>\n",
       "      <td>0.726183</td>\n",
       "      <td>1.519333</td>\n",
       "      <td>2.302558</td>\n",
       "      <td>3.065417</td>\n",
       "      <td>1.576375</td>\n",
       "      <td>1.546083</td>\n",
       "      <td>156.953226</td>\n",
       "      <td>9601.700125</td>\n",
       "      <td>2976.527039</td>\n",
       "    </tr>\n",
       "    <tr>\n",
       "      <th>34</th>\n",
       "      <td>M1829</td>\n",
       "      <td>48.149728915, 17.667036273</td>\n",
       "      <td>27.80</td>\n",
       "      <td>1336</td>\n",
       "      <td>1522</td>\n",
       "      <td>8.845437</td>\n",
       "      <td>13.905817</td>\n",
       "      <td>12.813487</td>\n",
       "      <td>13.257617</td>\n",
       "      <td>3.968050</td>\n",
       "      <td>-0.648200</td>\n",
       "      <td>-16.442673</td>\n",
       "      <td>6039.372100</td>\n",
       "      <td>1872.205351</td>\n",
       "    </tr>\n",
       "    <tr>\n",
       "      <th>35</th>\n",
       "      <td>M1075</td>\n",
       "      <td>48.256613532, 17.764858116</td>\n",
       "      <td>103.60</td>\n",
       "      <td>1345</td>\n",
       "      <td>2116</td>\n",
       "      <td>5.888204</td>\n",
       "      <td>10.504117</td>\n",
       "      <td>18.612969</td>\n",
       "      <td>20.068767</td>\n",
       "      <td>12.724765</td>\n",
       "      <td>9.564650</td>\n",
       "      <td>337.313323</td>\n",
       "      <td>26925.602740</td>\n",
       "      <td>8346.936849</td>\n",
       "    </tr>\n",
       "    <tr>\n",
       "      <th>36</th>\n",
       "      <td>M1067</td>\n",
       "      <td>47.89553685, 17.675937778</td>\n",
       "      <td>16.50</td>\n",
       "      <td>1394</td>\n",
       "      <td>1374</td>\n",
       "      <td>15.116678</td>\n",
       "      <td>16.455650</td>\n",
       "      <td>16.594039</td>\n",
       "      <td>22.557567</td>\n",
       "      <td>1.477361</td>\n",
       "      <td>6.101917</td>\n",
       "      <td>139.733892</td>\n",
       "      <td>2029.894014</td>\n",
       "      <td>629.267144</td>\n",
       "    </tr>\n",
       "    <tr>\n",
       "      <th>37</th>\n",
       "      <td>M4145</td>\n",
       "      <td>47.906481683, 17.682111598</td>\n",
       "      <td>12.40</td>\n",
       "      <td>1394</td>\n",
       "      <td>1374</td>\n",
       "      <td>15.157851</td>\n",
       "      <td>16.572750</td>\n",
       "      <td>16.635195</td>\n",
       "      <td>22.674650</td>\n",
       "      <td>1.477344</td>\n",
       "      <td>6.101900</td>\n",
       "      <td>139.733510</td>\n",
       "      <td>2029.870656</td>\n",
       "      <td>629.259903</td>\n",
       "    </tr>\n",
       "    <tr>\n",
       "      <th>38</th>\n",
       "      <td>M729</td>\n",
       "      <td>47.992229377, 17.750380571</td>\n",
       "      <td>21.40</td>\n",
       "      <td>1395</td>\n",
       "      <td>1684</td>\n",
       "      <td>10.568557</td>\n",
       "      <td>12.815617</td>\n",
       "      <td>12.518099</td>\n",
       "      <td>14.957000</td>\n",
       "      <td>1.949542</td>\n",
       "      <td>2.141383</td>\n",
       "      <td>60.101492</td>\n",
       "      <td>3283.028728</td>\n",
       "      <td>1017.738906</td>\n",
       "    </tr>\n",
       "    <tr>\n",
       "      <th>39</th>\n",
       "      <td>M5099</td>\n",
       "      <td>47.815392176, 17.744331625</td>\n",
       "      <td>22.20</td>\n",
       "      <td>1405</td>\n",
       "      <td>1235</td>\n",
       "      <td>11.507615</td>\n",
       "      <td>14.530333</td>\n",
       "      <td>16.528422</td>\n",
       "      <td>17.999667</td>\n",
       "      <td>5.020807</td>\n",
       "      <td>3.469333</td>\n",
       "      <td>71.410444</td>\n",
       "      <td>6200.696645</td>\n",
       "      <td>1922.215960</td>\n",
       "    </tr>\n",
       "    <tr>\n",
       "      <th>40</th>\n",
       "      <td>M596</td>\n",
       "      <td>47.903829143, 17.5035351</td>\n",
       "      <td>16.79</td>\n",
       "      <td>1421</td>\n",
       "      <td>1504</td>\n",
       "      <td>20.127974</td>\n",
       "      <td>19.162750</td>\n",
       "      <td>20.719736</td>\n",
       "      <td>27.732700</td>\n",
       "      <td>0.591762</td>\n",
       "      <td>8.569950</td>\n",
       "      <td>214.820080</td>\n",
       "      <td>890.010048</td>\n",
       "      <td>275.903115</td>\n",
       "    </tr>\n",
       "    <tr>\n",
       "      <th>41</th>\n",
       "      <td>M519</td>\n",
       "      <td>47.881548989, 17.540479247</td>\n",
       "      <td>242.00</td>\n",
       "      <td>1421</td>\n",
       "      <td>2357</td>\n",
       "      <td>11.811907</td>\n",
       "      <td>12.044750</td>\n",
       "      <td>28.245826</td>\n",
       "      <td>31.780050</td>\n",
       "      <td>16.433919</td>\n",
       "      <td>19.735300</td>\n",
       "      <td>775.268368</td>\n",
       "      <td>38734.747083</td>\n",
       "      <td>12007.771596</td>\n",
       "    </tr>\n",
       "    <tr>\n",
       "      <th>42</th>\n",
       "      <td>M4173</td>\n",
       "      <td>47.879812361, 17.530596158</td>\n",
       "      <td>43.94</td>\n",
       "      <td>1421</td>\n",
       "      <td>2357</td>\n",
       "      <td>11.811907</td>\n",
       "      <td>12.044750</td>\n",
       "      <td>28.245826</td>\n",
       "      <td>31.780050</td>\n",
       "      <td>16.433919</td>\n",
       "      <td>19.735300</td>\n",
       "      <td>775.268368</td>\n",
       "      <td>38734.747083</td>\n",
       "      <td>12007.771596</td>\n",
       "    </tr>\n",
       "    <tr>\n",
       "      <th>43</th>\n",
       "      <td>M4217</td>\n",
       "      <td>47.960365525, 17.412817251</td>\n",
       "      <td>22.00</td>\n",
       "      <td>1421</td>\n",
       "      <td>2251</td>\n",
       "      <td>19.621699</td>\n",
       "      <td>17.668383</td>\n",
       "      <td>20.521371</td>\n",
       "      <td>26.446533</td>\n",
       "      <td>0.899672</td>\n",
       "      <td>8.778150</td>\n",
       "      <td>329.326928</td>\n",
       "      <td>2025.161672</td>\n",
       "      <td>627.800118</td>\n",
       "    </tr>\n",
       "    <tr>\n",
       "      <th>44</th>\n",
       "      <td>M6948</td>\n",
       "      <td>47.88453567, 17.557448439</td>\n",
       "      <td>18.30</td>\n",
       "      <td>1421</td>\n",
       "      <td>2357</td>\n",
       "      <td>2.544586</td>\n",
       "      <td>4.536817</td>\n",
       "      <td>4.846292</td>\n",
       "      <td>7.094267</td>\n",
       "      <td>2.301706</td>\n",
       "      <td>2.557450</td>\n",
       "      <td>100.465161</td>\n",
       "      <td>5425.121042</td>\n",
       "      <td>1681.787523</td>\n",
       "    </tr>\n",
       "    <tr>\n",
       "      <th>45</th>\n",
       "      <td>M1854</td>\n",
       "      <td>47.79425, 17.71552</td>\n",
       "      <td>10.40</td>\n",
       "      <td>1422</td>\n",
       "      <td>474</td>\n",
       "      <td>5.094276</td>\n",
       "      <td>5.750950</td>\n",
       "      <td>8.401381</td>\n",
       "      <td>8.413617</td>\n",
       "      <td>3.307105</td>\n",
       "      <td>2.662667</td>\n",
       "      <td>21.035067</td>\n",
       "      <td>1567.567770</td>\n",
       "      <td>485.946009</td>\n",
       "    </tr>\n",
       "    <tr>\n",
       "      <th>46</th>\n",
       "      <td>M3573</td>\n",
       "      <td>48.0616134, 17.579072742</td>\n",
       "      <td>10.65</td>\n",
       "      <td>1435</td>\n",
       "      <td>384</td>\n",
       "      <td>10.833647</td>\n",
       "      <td>11.241650</td>\n",
       "      <td>12.778211</td>\n",
       "      <td>13.056217</td>\n",
       "      <td>1.944564</td>\n",
       "      <td>1.814567</td>\n",
       "      <td>11.613227</td>\n",
       "      <td>746.712576</td>\n",
       "      <td>231.480899</td>\n",
       "    </tr>\n",
       "    <tr>\n",
       "      <th>47</th>\n",
       "      <td>M5082</td>\n",
       "      <td>48.270445469, 17.836124989</td>\n",
       "      <td>50.04</td>\n",
       "      <td>1689</td>\n",
       "      <td>1692</td>\n",
       "      <td>3.973425</td>\n",
       "      <td>4.381283</td>\n",
       "      <td>9.591587</td>\n",
       "      <td>10.468283</td>\n",
       "      <td>5.618162</td>\n",
       "      <td>6.087000</td>\n",
       "      <td>171.653400</td>\n",
       "      <td>9505.930104</td>\n",
       "      <td>2946.838332</td>\n",
       "    </tr>\n",
       "  </tbody>\n",
       "</table>\n",
       "</div>"
      ],
      "text/plain": [
       "       ID                         GPS   Dlzka    PK  Intenz  Clear_Distance  \\\n",
       "0   M6425  48.586307824, 17.824516076   10.43   499   12447        5.498015   \n",
       "1   M6684  48.628765366, 17.719734958   12.40   499    3931       19.082168   \n",
       "2   M4553  48.588876768, 17.810173653   71.60   499   14134        8.363006   \n",
       "3    M679  48.683035961, 17.255918415   17.10   500    6052       18.211967   \n",
       "4   M4864  48.655586793, 17.042874752  111.56   500    3663       14.761270   \n",
       "5   M3839  48.679414265, 17.346768217   15.00   500    7810        3.450708   \n",
       "6   M5081  48.766953845, 17.422432832   17.50   500     882       10.169312   \n",
       "7   M5770  48.682916282, 17.272772338   12.50   500    6843        8.791168   \n",
       "8   M5237  48.764369927, 17.408896343   16.65   500     882        7.334021   \n",
       "9    M299  48.629589908, 17.484713495   12.50   501    1310       13.123044   \n",
       "10  M6245  47.988603318, 17.614554817  159.26   507   11674        2.365217   \n",
       "11  M2332          48.25945, 17.74539   19.34   507   10818       12.213055   \n",
       "12  M6224  48.030810689, 17.692676778   10.00   507    5702       15.652218   \n",
       "13  M6252  48.186735332, 17.712247652   12.00   507   11604        2.749511   \n",
       "14  M7235  48.033939412, 17.695958038   17.20   507    5702        7.276791   \n",
       "15   M283  47.975763942, 17.609488359   28.20   507    6748        4.011896   \n",
       "16  M2276  48.128819014, 17.478579685   91.14   510    2810        9.651467   \n",
       "17  M7011  48.434617991, 17.757686108   78.84   513   11790        8.040023   \n",
       "18  M7554  48.495879831, 17.605489791   11.70   560    2734        8.474803   \n",
       "19  M4428  47.906083454, 17.811478314   22.00   561    1342       12.993099   \n",
       "20   M141  47.994551211, 17.798279831   50.50   561    3086       14.591970   \n",
       "21   M818  47.979157779, 17.786647552   19.60   561    1558        6.670502   \n",
       "22  M5666  48.112737762, 17.319021838   10.60   572    5028        6.844841   \n",
       "23  M1974  48.731707526, 17.406165313   15.60   581    2721        3.635745   \n",
       "24   M117  48.651890296, 17.187366434   14.80   590    2543        8.089436   \n",
       "25  M3991  48.768851909, 17.279878674   15.60  1146     834        3.696867   \n",
       "26  M6019   48.71010927, 17.336109204   13.65  1146    1401        7.339891   \n",
       "27  M1275  48.613386579, 17.798964154   58.90  1257    2530        4.794342   \n",
       "28   M185   48.50695543, 17.768098867   65.01  1267    1442        6.838640   \n",
       "29  M6365  48.336042144, 17.595390718   16.84  1287    2696        5.299490   \n",
       "30  M4267  48.409294867, 17.490376288   10.45  1295    1137        4.303795   \n",
       "31   M577  48.456607689, 17.723415503   19.00  1311    1615        3.427607   \n",
       "32  M9488          48.19381, 17.60678   10.00  1333    2136        6.086926   \n",
       "33  M2495  48.207115519, 17.648135908   18.96  1333    6091        0.726183   \n",
       "34  M1829  48.149728915, 17.667036273   27.80  1336    1522        8.845437   \n",
       "35  M1075  48.256613532, 17.764858116  103.60  1345    2116        5.888204   \n",
       "36  M1067   47.89553685, 17.675937778   16.50  1394    1374       15.116678   \n",
       "37  M4145  47.906481683, 17.682111598   12.40  1394    1374       15.157851   \n",
       "38   M729  47.992229377, 17.750380571   21.40  1395    1684       10.568557   \n",
       "39  M5099  47.815392176, 17.744331625   22.20  1405    1235       11.507615   \n",
       "40   M596    47.903829143, 17.5035351   16.79  1421    1504       20.127974   \n",
       "41   M519  47.881548989, 17.540479247  242.00  1421    2357       11.811907   \n",
       "42  M4173  47.879812361, 17.530596158   43.94  1421    2357       11.811907   \n",
       "43  M4217  47.960365525, 17.412817251   22.00  1421    2251       19.621699   \n",
       "44  M6948   47.88453567, 17.557448439   18.30  1421    2357        2.544586   \n",
       "45  M1854          47.79425, 17.71552   10.40  1422     474        5.094276   \n",
       "46  M3573    48.0616134, 17.579072742   10.65  1435     384       10.833647   \n",
       "47  M5082  48.270445469, 17.836124989   50.04  1689    1692        3.973425   \n",
       "\n",
       "    Clear_Time  Alt_Distance   Alt_Time  Diff_Dist  Diff_Time  Diff_Time_all  \\\n",
       "0     8.413483     25.181498  22.787417  19.683483  14.373933    2981.872470   \n",
       "1    26.423567     41.028272  47.413117  21.946104  20.989550    1375.165351   \n",
       "2    11.456083     33.418672  43.640850  25.055666  32.184767    7581.658201   \n",
       "3    18.445983     42.261829  36.516217  24.049862  18.070233    1822.684202   \n",
       "4    17.814867     24.561341  27.218483   9.800071   9.403617     574.090797   \n",
       "5     6.405067      4.141911   9.731933   0.691203   3.326867     433.047144   \n",
       "6    10.334317     13.036064  12.876333   2.866752   2.542017      37.367645   \n",
       "7    10.359217     13.936662  15.169183   5.145494   4.809967     548.576698   \n",
       "8     7.879033     10.200690  10.421000   2.866669   2.541967      37.366910   \n",
       "9    14.487833     21.743988  23.907900   8.620944   9.420067     205.671456   \n",
       "10    3.652850      3.839472   5.087900   1.474255   1.435050     279.212895   \n",
       "11   14.812500     15.408036  21.302467   3.194981   6.489967    1170.140990   \n",
       "12   18.200100     25.707678  28.072267  10.055460   9.872167     938.184906   \n",
       "13    4.040367      4.963452   5.696017   2.213941   1.655650     320.202710   \n",
       "14    7.333217     17.714767  18.479233  10.437976  11.146017    1059.243117   \n",
       "15    6.899500      5.486152   8.334567   1.474256   1.435067     161.397164   \n",
       "16   13.081983     17.983432  19.429800   8.331965   6.347817     297.289414   \n",
       "17    9.500617     13.013425  14.271650   4.973402   4.771033     937.508050   \n",
       "18    8.278917      9.951604  10.514967   1.476801   2.236050     101.889345   \n",
       "19   17.036183     18.731893  18.858433   5.738794   1.822250      40.757658   \n",
       "20   16.613050     31.494943  35.069450  16.902973  18.456400     949.274173   \n",
       "21    7.387850     10.936448  12.652133   4.265946   5.264283     136.695891   \n",
       "22    7.747017     10.041208  12.104617   3.196367   4.357600     365.166880   \n",
       "23    4.477250      4.300753   5.579617   0.665008   1.102367      49.992328   \n",
       "24    7.462967     13.868406  15.748517   5.778970   8.285550     351.169227   \n",
       "25    4.502350      6.027939   5.080717   2.331072   0.578367       8.039297   \n",
       "26    8.096567     15.859869  13.882350   8.519978   5.785783     135.098041   \n",
       "27    6.723633     14.283282  17.105167   9.488940  10.381533     437.754656   \n",
       "28    7.999417     11.545582  12.661483   4.706942   4.662067     112.045002   \n",
       "29    7.525817      7.086486  12.418083   1.786996   4.892267     219.825849   \n",
       "30    6.681067      5.232396  11.102317   0.928601   4.421250      83.782688   \n",
       "31    4.180967     11.018709  10.952533   7.591102   6.771567     182.268003   \n",
       "32    4.619033      8.866276   9.266100   2.779350   4.647067     165.435573   \n",
       "33    1.519333      2.302558   3.065417   1.576375   1.546083     156.953226   \n",
       "34   13.905817     12.813487  13.257617   3.968050  -0.648200     -16.442673   \n",
       "35   10.504117     18.612969  20.068767  12.724765   9.564650     337.313323   \n",
       "36   16.455650     16.594039  22.557567   1.477361   6.101917     139.733892   \n",
       "37   16.572750     16.635195  22.674650   1.477344   6.101900     139.733510   \n",
       "38   12.815617     12.518099  14.957000   1.949542   2.141383      60.101492   \n",
       "39   14.530333     16.528422  17.999667   5.020807   3.469333      71.410444   \n",
       "40   19.162750     20.719736  27.732700   0.591762   8.569950     214.820080   \n",
       "41   12.044750     28.245826  31.780050  16.433919  19.735300     775.268368   \n",
       "42   12.044750     28.245826  31.780050  16.433919  19.735300     775.268368   \n",
       "43   17.668383     20.521371  26.446533   0.899672   8.778150     329.326928   \n",
       "44    4.536817      4.846292   7.094267   2.301706   2.557450     100.465161   \n",
       "45    5.750950      8.401381   8.413617   3.307105   2.662667      21.035067   \n",
       "46   11.241650     12.778211  13.056217   1.944564   1.814567      11.613227   \n",
       "47    4.381283      9.591587  10.468283   5.618162   6.087000     171.653400   \n",
       "\n",
       "    Diff_Dist_all          Price  \n",
       "0   245000.312901   75950.096999  \n",
       "1    86270.134824   26743.741795  \n",
       "2   354136.783244  109782.402806  \n",
       "3   145549.764824   45120.427095  \n",
       "4    35897.660073   11128.274623  \n",
       "5     5398.295430    1673.471583  \n",
       "6     2528.475264     783.827332  \n",
       "7    35210.615442   10915.290787  \n",
       "8     2528.402058     783.804638  \n",
       "9    11293.436640    3500.965358  \n",
       "10   17210.452870    5335.240390  \n",
       "11   34563.304458   10714.624382  \n",
       "12   57336.232920   17774.232205  \n",
       "13   25690.571364    7964.077123  \n",
       "14   59517.339152   18450.375137  \n",
       "15    9948.279488    3083.966641  \n",
       "16   23412.821650    7257.974712  \n",
       "17   58636.409580   18177.286970  \n",
       "18    4037.573934    1251.647920  \n",
       "19    7701.461548    2387.453080  \n",
       "20   52162.574678   16170.398150  \n",
       "21    6646.343868    2060.366599  \n",
       "22   16071.333276    4982.113316  \n",
       "23    1809.486768     560.940898  \n",
       "24   14695.920710    4555.735420  \n",
       "25    1944.114048     602.675355  \n",
       "26   11936.489178    3700.311645  \n",
       "27   24007.018200    7442.175642  \n",
       "28    6787.410364    2104.097213  \n",
       "29    4817.741216    1493.499777  \n",
       "30    1055.819337     327.303994  \n",
       "31   12259.629730    3800.485216  \n",
       "32    5936.691600    1840.374396  \n",
       "33    9601.700125    2976.527039  \n",
       "34    6039.372100    1872.205351  \n",
       "35   26925.602740    8346.936849  \n",
       "36    2029.894014     629.267144  \n",
       "37    2029.870656     629.259903  \n",
       "38    3283.028728    1017.738906  \n",
       "39    6200.696645    1922.215960  \n",
       "40     890.010048     275.903115  \n",
       "41   38734.747083   12007.771596  \n",
       "42   38734.747083   12007.771596  \n",
       "43    2025.161672     627.800118  \n",
       "44    5425.121042    1681.787523  \n",
       "45    1567.567770     485.946009  \n",
       "46     746.712576     231.480899  \n",
       "47    9505.930104    2946.838332  "
      ]
     },
     "execution_count": 16,
     "metadata": {},
     "output_type": "execute_result"
    }
   ],
   "source": [
    "df"
   ]
  },
  {
   "cell_type": "code",
   "execution_count": 17,
   "metadata": {},
   "outputs": [
    {
     "data": {
      "text/html": [
       "<div>\n",
       "<style scoped>\n",
       "    .dataframe tbody tr th:only-of-type {\n",
       "        vertical-align: middle;\n",
       "    }\n",
       "\n",
       "    .dataframe tbody tr th {\n",
       "        vertical-align: top;\n",
       "    }\n",
       "\n",
       "    .dataframe thead th {\n",
       "        text-align: right;\n",
       "    }\n",
       "</style>\n",
       "<table border=\"1\" class=\"dataframe\">\n",
       "  <thead>\n",
       "    <tr style=\"text-align: right;\">\n",
       "      <th></th>\n",
       "      <th>ID_mosta</th>\n",
       "      <th>Číslo_PK</th>\n",
       "      <th>Rok_postavenia</th>\n",
       "      <th>Zemepisná_šírka</th>\n",
       "      <th>Zemepisná_dĺžka</th>\n",
       "      <th>Dĺžka_premostenia</th>\n",
       "    </tr>\n",
       "  </thead>\n",
       "  <tbody>\n",
       "    <tr>\n",
       "      <th>0</th>\n",
       "      <td>M6252</td>\n",
       "      <td>507</td>\n",
       "      <td>1969</td>\n",
       "      <td>48.186735</td>\n",
       "      <td>17.712248</td>\n",
       "      <td>12.00</td>\n",
       "    </tr>\n",
       "    <tr>\n",
       "      <th>10</th>\n",
       "      <td>M6684</td>\n",
       "      <td>499</td>\n",
       "      <td>1973</td>\n",
       "      <td>48.628765</td>\n",
       "      <td>17.719735</td>\n",
       "      <td>12.40</td>\n",
       "    </tr>\n",
       "    <tr>\n",
       "      <th>19</th>\n",
       "      <td>M4553</td>\n",
       "      <td>499</td>\n",
       "      <td>1980</td>\n",
       "      <td>48.588877</td>\n",
       "      <td>17.810174</td>\n",
       "      <td>71.60</td>\n",
       "    </tr>\n",
       "    <tr>\n",
       "      <th>20</th>\n",
       "      <td>M6425</td>\n",
       "      <td>499</td>\n",
       "      <td>1980</td>\n",
       "      <td>48.586308</td>\n",
       "      <td>17.824516</td>\n",
       "      <td>10.43</td>\n",
       "    </tr>\n",
       "    <tr>\n",
       "      <th>23</th>\n",
       "      <td>M4864</td>\n",
       "      <td>500</td>\n",
       "      <td>1989</td>\n",
       "      <td>48.655587</td>\n",
       "      <td>17.042875</td>\n",
       "      <td>111.56</td>\n",
       "    </tr>\n",
       "  </tbody>\n",
       "</table>\n",
       "</div>"
      ],
      "text/plain": [
       "   ID_mosta Číslo_PK  Rok_postavenia  Zemepisná_šírka  Zemepisná_dĺžka  \\\n",
       "0     M6252      507            1969        48.186735        17.712248   \n",
       "10    M6684      499            1973        48.628765        17.719735   \n",
       "19    M4553      499            1980        48.588877        17.810174   \n",
       "20    M6425      499            1980        48.586308        17.824516   \n",
       "23    M4864      500            1989        48.655587        17.042875   \n",
       "\n",
       "    Dĺžka_premostenia  \n",
       "0               12.00  \n",
       "10              12.40  \n",
       "19              71.60  \n",
       "20              10.43  \n",
       "23             111.56  "
      ]
     },
     "execution_count": 17,
     "metadata": {},
     "output_type": "execute_result"
    }
   ],
   "source": [
    "filtered_bridges[[\"ID_mosta\", \"Číslo_PK\", \"Rok_postavenia\",\n",
    "                  \"Zemepisná_šírka\", \"Zemepisná_dĺžka\", \"Dĺžka_premostenia\"]].head()"
   ]
  },
  {
   "cell_type": "code",
   "execution_count": 18,
   "metadata": {},
   "outputs": [
    {
     "name": "stdout",
     "output_type": "stream",
     "text": [
      "M6684;48.628765366, 17.719734958;12.4;499\n",
      "M4553;48.588876768, 17.810173653;71.6;499\n",
      "M6425;48.586307824, 17.824516076;10.43;499\n",
      "M4864;48.655586793, 17.042874752;111.56;500\n",
      "M5770;48.682916282, 17.272772338;12.5;500\n",
      "M679;48.683035961, 17.255918415;17.1;500\n",
      "M3839;48.679414265, 17.346768217;15.0;500\n",
      "M5237;48.764369927, 17.408896343;16.65;500\n",
      "M5081;48.766953845, 17.422432832;17.5;500\n",
      "M299;48.629589908, 17.484713495;12.5;501\n",
      "M6252;48.186735332, 17.712247652;12.0;507\n",
      "M283;47.975763942, 17.609488359;28.2;507\n",
      "M6245;47.988603318, 17.614554817;159.26;507\n",
      "M6224;48.030810689, 17.692676778;10.0;507\n",
      "M7235;48.033939412, 17.695958038;17.2;507\n",
      "M2332;48.25945, 17.74539;19.34;507\n",
      "M2276;48.128819014, 17.478579685;91.14;510\n",
      "M5118;48.438117979, 17.740006113;82.82;513\n",
      "M7011;48.434617991, 17.757686108;78.84;513\n",
      "M7554;48.495879831, 17.605489791;11.7;560\n",
      "M141;47.994551211, 17.798279831;50.5;561\n",
      "M818;47.979157779, 17.786647552;19.6;561\n",
      "M4428;47.906083454, 17.811478314;22.0;561\n",
      "M5666;48.112737762, 17.319021838;10.6;572\n",
      "M1974;48.731707526, 17.406165313;15.6;581\n",
      "M117;48.651890296, 17.187366434;14.8;590\n",
      "M5271;48.685507527, 17.202073908;9.7;1136\n",
      "M6019;48.71010927, 17.336109204;13.65;1146\n",
      "M3991;48.768851909, 17.279878674;15.6;1146\n",
      "M3156;48.693058604, 17.400062327;13.9;1150\n",
      "M4669;48.672387567, 17.335745444;15.0;1157\n",
      "M6185;48.737515319, 17.436927314;12.6;1160\n",
      "M1275;48.613386579, 17.798964154;58.9;1257\n",
      "M185;48.50695543, 17.768098867;65.01;1267\n",
      "M7728;48.300296711, 17.519590018;57.3;1285\n",
      "M7322;48.308134649, 17.559192352;57.2;1286\n",
      "M6365;48.336042144, 17.595390718;16.84;1287\n",
      "M1652;48.528777115, 17.458613805;4.0;1291\n",
      "M4267;48.409294867, 17.490376288;10.45;1295\n",
      "M577;48.456607689, 17.723415503;19.0;1311\n",
      "M2495;48.207115519, 17.648135908;18.96;1333\n",
      "M9488;48.19381, 17.60678;10.0;1333\n",
      "M1829;48.149728915, 17.667036273;27.8;1336\n",
      "M787;48.358836214, 17.677685643;67.66;1337\n",
      "M1075;48.256613532, 17.764858116;103.6;1345\n",
      "M7389;48.109095403, 17.771863458;24.3;1351\n",
      "M7046;48.12958, 17.65547;44.9;1356\n",
      "M4145;47.906481683, 17.682111598;12.4;1394\n",
      "M1067;47.89553685, 17.675937778;16.5;1394\n",
      "M729;47.992229377, 17.750380571;21.4;1395\n",
      "M5534;47.824933394, 17.631599313;5.0;1403\n",
      "M5099;47.815392176, 17.744331625;22.2;1405\n",
      "M2841;47.997260233, 17.568302054;45.33;1406\n",
      "M596;47.903829143, 17.5035351;16.79;1421\n",
      "M6948;47.88453567, 17.557448439;18.3;1421\n",
      "M519;47.881548989, 17.540479247;242.0;1421\n",
      "M4173;47.879812361, 17.530596158;43.94;1421\n",
      "M4217;47.960365525, 17.412817251;22.0;1421\n",
      "M1854;47.79425, 17.71552;10.4;1422\n",
      "M267;47.909137763, 17.773245184;20.0;1428\n",
      "M3573;48.0616134, 17.579072742;10.65;1435\n",
      "M3958;47.896889979, 17.844315433;18.0;1451\n",
      "M5082;48.270445469, 17.836124989;50.04;1689\n"
     ]
    }
   ],
   "source": [
    "filtered_bridges[\"Číslo_PK\"] = filtered_bridges[\"Číslo_PK\"].astype(int)\n",
    "filtered_bridges = filtered_bridges.sort_values(by=\"Číslo_PK\", ascending=True)\n",
    "filtered_bridges = filtered_bridges.reset_index(drop=True)\n",
    "\n",
    "for _, item in filtered_bridges.iterrows():\n",
    "    print(f'{item[\"ID_mosta\"]};{item[\"Zemepisná_šírka\"]}, {\n",
    "          item[\"Zemepisná_dĺžka\"]};{item[\"Dĺžka_premostenia\"]};{item[\"Číslo_PK\"]}')"
   ]
  }
 ],
 "metadata": {
  "kernelspec": {
   "display_name": "Bridges_VENV",
   "language": "python",
   "name": "python3"
  },
  "language_info": {
   "codemirror_mode": {
    "name": "ipython",
    "version": 3
   },
   "file_extension": ".py",
   "mimetype": "text/x-python",
   "name": "python",
   "nbconvert_exporter": "python",
   "pygments_lexer": "ipython3",
   "version": "3.12.4"
  }
 },
 "nbformat": 4,
 "nbformat_minor": 2
}
