{
 "cells": [
  {
   "cell_type": "code",
   "execution_count": 2,
   "metadata": {},
   "outputs": [],
   "source": [
    "import pandas as pd\n",
    "\n",
    "# Práca\n",
    "bridges_path = r\"C:\\Users\\relia\\Documents\\GitHub\\Bridges\\Data\\df_bridges_2024_all.csv\"\n",
    "\n",
    "# Load the CSV data into a DataFrame\n",
    "df_bridges_all = pd.read_csv(bridges_path, encoding='utf-8', delimiter=',')"
   ]
  },
  {
   "cell_type": "code",
   "execution_count": 3,
   "metadata": {},
   "outputs": [],
   "source": [
    "# Assuming df_bridges_all is your DataFrame\n",
    "columns_to_convert = ['Zemepisná_dĺžka', 'Zemepisná_šírka', 'Výška', 'Normálna_zaťažiteľnosť',\n",
    "                      'Výhradná_zaťažiteľnosť_t', 'Výnimočná_zaťažiteľnosť_t', 'Počet_otvorov',\n",
    "                      'Dĺžka_nosnej_konštrukcie_m', 'Dĺžka_premostenia', 'Volná_šírka_mosta',\n",
    "                      'Šírka_medzi_obrubami_m', 'Plocha_mosnej_konštrukcie_m2', 'Plocha_mosta_m2']\n",
    "\n",
    "# Convert specified columns to float\n",
    "df_bridges_all[columns_to_convert] = df_bridges_all[columns_to_convert].apply(\n",
    "    pd.to_numeric, errors='coerce')\n",
    "\n",
    "# Convert Rok_postavenia to integer, assign NaN if not possible\n",
    "df_bridges_all['Rok_postavenia'] = pd.to_numeric(\n",
    "    df_bridges_all['Rok_postavenia'], errors='coerce')"
   ]
  },
  {
   "cell_type": "code",
   "execution_count": 7,
   "metadata": {},
   "outputs": [
    {
     "data": {
      "text/plain": [
       "Index(['SSC - IVSC ZA', 'SSC - IVSC KE', 'SSC - IVSC BB', 'BBRSC-JUH',\n",
       "       'BBRSC-STRED', 'BBRSC-SEVER', 'SSC - IVSC BA', 'SC TN SK - TN',\n",
       "       'SUC PSK - HE', 'SUC PSK - PO', 'SC TN SK - PD', 'SUC TTSK - TT',\n",
       "       'SUC PSK - PP', 'SUC PSK - BJ', 'SC TN SK - PB', 'SC ŽSK - ORA',\n",
       "       'SC ŽSK - HPOV', 'SC KSK - KS', 'SC ŽSK - LIP', 'SUC PSK - SK',\n",
       "       'SC KSK - SNV', 'RSUC NR - LV', 'SUC PSK - SL', 'RSUC NR - NR',\n",
       "       'SC ŽSK - KYS', 'SC KSK - MI', 'SC BSK', 'SC ŽSK - TUR',\n",
       "       'SUC TTSK - SE', 'NDS - SSUR ZV', 'SC KSK - TV', 'RSUC NR - NZ', 'VPO',\n",
       "       'NDS - SSUD PB', 'SUC PSK - VT', 'SC KSK - RV', 'SUC TTSK - DS',\n",
       "       'NDS - SSUD LM', 'RSUC NR - TO', 'RSUC NR - KN', 'NDS - SSUR KE',\n",
       "       'NDS - SSUD TN', 'NDS - SSUD BE', 'MAG-BA', 'NDS - SSUR CA',\n",
       "       'NDS - SSUD BA', 'NDS - SSUR NB', 'NDS - SSUD PO', 'NDS - SSUR GA',\n",
       "       'NDS - SSUD MENG', 'NDS - SSUD MA', 'NDS - SSUD TT', 'NDS - SSUD MT',\n",
       "       'MAG-KE', 'TT', 'NEZN', 'PP-HO', 'CU', 'ZA-Invest', 'BR-CB', 'BB',\n",
       "       'SN-HC', 'BJ', 'HE', 'ZI', 'BR-HR', 'SB-LI', 'RS-OZ', 'NO-HR', 'BR-PL',\n",
       "       'PN', 'LM-DD', 'VK-NV', 'PD-HA', 'TN-NE', 'ZV', 'RK', 'PT', 'KS-ME',\n",
       "       'NM-TB', 'ZA-LY', 'BB-HI', 'BA-DV', 'DK', 'ŽSR'],\n",
       "      dtype='object', name='Správca_úseku')"
      ]
     },
     "execution_count": 7,
     "metadata": {},
     "output_type": "execute_result"
    }
   ],
   "source": [
    "df_bridges_all[\"Správca_úseku\"].value_counts().keys()"
   ]
  },
  {
   "cell_type": "code",
   "execution_count": 8,
   "metadata": {},
   "outputs": [
    {
     "data": {
      "text/plain": [
       "(63, 44)"
      ]
     },
     "execution_count": 8,
     "metadata": {},
     "output_type": "execute_result"
    }
   ],
   "source": [
    "# Filter bridges in the Nitra region with Trieda_PK as \"cesta I. triedy\" or \"cesta II. triedy\"\n",
    "filtered_bridges = df_bridges_all[\n",
    "\n",
    "    (df_bridges_all[\"Správca_úseku\"] == 'SUC TTSK - TT') |\n",
    "    (df_bridges_all[\"Správca_úseku\"] == 'SUC TTSK - SE') |\n",
    "    (df_bridges_all[\"Správca_úseku\"] == 'SUC TTSK - DS')\n",
    "]\n",
    "\n",
    "# Reindex the DataFrame\n",
    "filtered_bridges.reset_index(drop=True, inplace=True)\n",
    "\n",
    "filtered_bridges = filtered_bridges[filtered_bridges[\"n_2023\"] != 0]\n",
    "\n",
    "filtered_bridges = filtered_bridges[filtered_bridges[\"Material\"]\n",
    "                                    == \"prefabrikovaný predpätý betón\"]\n",
    "\n",
    "filtered_bridges = filtered_bridges[\n",
    "    (filtered_bridges[\"n_2024\"] == 4) |\n",
    "    (filtered_bridges[\"n_2024\"] == 5)\n",
    "]\n",
    "\n",
    "# Replace double space with single space in each item of the \"Predmet_premostenia\" column\n",
    "filtered_bridges[\"Predmet_premostenia\"] = filtered_bridges[\"Predmet_premostenia\"].str.replace(\n",
    "    \"  \", \" \")\n",
    "\n",
    "\n",
    "# Display the filtered DataFrame\n",
    "filtered_bridges.shape"
   ]
  },
  {
   "cell_type": "code",
   "execution_count": 13,
   "metadata": {},
   "outputs": [
    {
     "data": {
      "text/html": [
       "<div>\n",
       "<style scoped>\n",
       "    .dataframe tbody tr th:only-of-type {\n",
       "        vertical-align: middle;\n",
       "    }\n",
       "\n",
       "    .dataframe tbody tr th {\n",
       "        vertical-align: top;\n",
       "    }\n",
       "\n",
       "    .dataframe thead th {\n",
       "        text-align: right;\n",
       "    }\n",
       "</style>\n",
       "<table border=\"1\" class=\"dataframe\">\n",
       "  <thead>\n",
       "    <tr style=\"text-align: right;\">\n",
       "      <th></th>\n",
       "      <th>ID_mosta</th>\n",
       "      <th>Číslo_PK</th>\n",
       "      <th>Rok_postavenia</th>\n",
       "      <th>Zemepisná_šírka</th>\n",
       "      <th>Zemepisná_dĺžka</th>\n",
       "      <th>Dĺžka_premostenia</th>\n",
       "    </tr>\n",
       "  </thead>\n",
       "  <tbody>\n",
       "    <tr>\n",
       "      <th>0</th>\n",
       "      <td>M6252</td>\n",
       "      <td>507</td>\n",
       "      <td>1969</td>\n",
       "      <td>48.186735</td>\n",
       "      <td>17.712248</td>\n",
       "      <td>12.00</td>\n",
       "    </tr>\n",
       "    <tr>\n",
       "      <th>10</th>\n",
       "      <td>M6684</td>\n",
       "      <td>499</td>\n",
       "      <td>1973</td>\n",
       "      <td>48.628765</td>\n",
       "      <td>17.719735</td>\n",
       "      <td>12.40</td>\n",
       "    </tr>\n",
       "    <tr>\n",
       "      <th>19</th>\n",
       "      <td>M4553</td>\n",
       "      <td>499</td>\n",
       "      <td>1980</td>\n",
       "      <td>48.588877</td>\n",
       "      <td>17.810174</td>\n",
       "      <td>71.60</td>\n",
       "    </tr>\n",
       "    <tr>\n",
       "      <th>20</th>\n",
       "      <td>M6425</td>\n",
       "      <td>499</td>\n",
       "      <td>1980</td>\n",
       "      <td>48.586308</td>\n",
       "      <td>17.824516</td>\n",
       "      <td>10.43</td>\n",
       "    </tr>\n",
       "    <tr>\n",
       "      <th>23</th>\n",
       "      <td>M4864</td>\n",
       "      <td>500</td>\n",
       "      <td>1989</td>\n",
       "      <td>48.655587</td>\n",
       "      <td>17.042875</td>\n",
       "      <td>111.56</td>\n",
       "    </tr>\n",
       "  </tbody>\n",
       "</table>\n",
       "</div>"
      ],
      "text/plain": [
       "   ID_mosta Číslo_PK  Rok_postavenia  Zemepisná_šírka  Zemepisná_dĺžka  \\\n",
       "0     M6252      507            1969        48.186735        17.712248   \n",
       "10    M6684      499            1973        48.628765        17.719735   \n",
       "19    M4553      499            1980        48.588877        17.810174   \n",
       "20    M6425      499            1980        48.586308        17.824516   \n",
       "23    M4864      500            1989        48.655587        17.042875   \n",
       "\n",
       "    Dĺžka_premostenia  \n",
       "0               12.00  \n",
       "10              12.40  \n",
       "19              71.60  \n",
       "20              10.43  \n",
       "23             111.56  "
      ]
     },
     "execution_count": 13,
     "metadata": {},
     "output_type": "execute_result"
    }
   ],
   "source": [
    "filtered_bridges[[\"ID_mosta\", \"Číslo_PK\", \"Rok_postavenia\",\n",
    "                  \"Zemepisná_šírka\", \"Zemepisná_dĺžka\", \"Dĺžka_premostenia\"]].head()"
   ]
  },
  {
   "cell_type": "code",
   "execution_count": 25,
   "metadata": {},
   "outputs": [
    {
     "name": "stdout",
     "output_type": "stream",
     "text": [
      "M6425;48.586307824, 17.824516076;10.43;499\n",
      "M6684;48.628765366, 17.719734958;12.4;499\n",
      "M4553;48.588876768, 17.810173653;71.6;499\n",
      "M679;48.683035961, 17.255918415;17.1;500\n",
      "M4864;48.655586793, 17.042874752;111.56;500\n",
      "M3839;48.679414265, 17.346768217;15.0;500\n",
      "M5081;48.766953845, 17.422432832;17.5;500\n",
      "M5770;48.682916282, 17.272772338;12.5;500\n",
      "M5237;48.764369927, 17.408896343;16.65;500\n",
      "M299;48.629589908, 17.484713495;12.5;501\n",
      "M6245;47.988603318, 17.614554817;159.26;507\n",
      "M2332;48.25945, 17.74539;19.34;507\n",
      "M6224;48.030810689, 17.692676778;10.0;507\n",
      "M6252;48.186735332, 17.712247652;12.0;507\n",
      "M7235;48.033939412, 17.695958038;17.2;507\n",
      "M283;47.975763942, 17.609488359;28.2;507\n",
      "M2276;48.128819014, 17.478579685;91.14;510\n",
      "M7011;48.434617991, 17.757686108;78.84;513\n",
      "M5118;48.438117979, 17.740006113;82.82;513\n",
      "M7554;48.495879831, 17.605489791;11.7;560\n",
      "M4428;47.906083454, 17.811478314;22.0;561\n",
      "M141;47.994551211, 17.798279831;50.5;561\n",
      "M818;47.979157779, 17.786647552;19.6;561\n",
      "M5666;48.112737762, 17.319021838;10.6;572\n",
      "M1974;48.731707526, 17.406165313;15.6;581\n",
      "M117;48.651890296, 17.187366434;14.8;590\n",
      "M5271;48.685507527, 17.202073908;9.7;1136\n",
      "M3991;48.768851909, 17.279878674;15.6;1146\n",
      "M6019;48.71010927, 17.336109204;13.65;1146\n",
      "M3156;48.693058604, 17.400062327;13.9;1150\n",
      "M4669;48.672387567, 17.335745444;15.0;1157\n",
      "M6185;48.737515319, 17.436927314;12.6;1160\n",
      "M1275;48.613386579, 17.798964154;58.9;1257\n",
      "M185;48.50695543, 17.768098867;65.01;1267\n",
      "M7728;48.300296711, 17.519590018;57.3;1285\n",
      "M7322;48.308134649, 17.559192352;57.2;1286\n",
      "M6365;48.336042144, 17.595390718;16.84;1287\n",
      "M1652;48.528777115, 17.458613805;4.0;1291\n",
      "M4267;48.409294867, 17.490376288;10.45;1295\n",
      "M577;48.456607689, 17.723415503;19.0;1311\n",
      "M9488;48.19381, 17.60678;10.0;1333\n",
      "M2495;48.207115519, 17.648135908;18.96;1333\n",
      "M1829;48.149728915, 17.667036273;27.8;1336\n",
      "M787;48.358836214, 17.677685643;67.66;1337\n",
      "M1075;48.256613532, 17.764858116;103.6;1345\n",
      "M7389;48.109095403, 17.771863458;24.3;1351\n",
      "M7046;48.12958, 17.65547;44.9;1356\n",
      "M1067;47.89553685, 17.675937778;16.5;1394\n",
      "M4145;47.906481683, 17.682111598;12.4;1394\n",
      "M729;47.992229377, 17.750380571;21.4;1395\n",
      "M5534;47.824933394, 17.631599313;5.0;1403\n",
      "M5099;47.815392176, 17.744331625;22.2;1405\n",
      "M2841;47.997260233, 17.568302054;45.33;1406\n",
      "M596;47.903829143, 17.5035351;16.79;1421\n",
      "M519;47.881548989, 17.540479247;242.0;1421\n",
      "M4173;47.879812361, 17.530596158;43.94;1421\n",
      "M4217;47.960365525, 17.412817251;22.0;1421\n",
      "M6948;47.88453567, 17.557448439;18.3;1421\n",
      "M1854;47.79425, 17.71552;10.4;1422\n",
      "M267;47.909137763, 17.773245184;20.0;1428\n",
      "M3573;48.0616134, 17.579072742;10.65;1435\n",
      "M3958;47.896889979, 17.844315433;18.0;1451\n",
      "M5082;48.270445469, 17.836124989;50.04;1689\n"
     ]
    }
   ],
   "source": [
    "filtered_bridges[\"Číslo_PK\"] = filtered_bridges[\"Číslo_PK\"].astype(int)\n",
    "filtered_bridges = filtered_bridges.sort_values(by=\"Číslo_PK\", ascending=True)\n",
    "filtered_bridges = filtered_bridges.reset_index(drop=True)\n",
    "\n",
    "for _, item in filtered_bridges.iterrows():\n",
    "    print(f'{item[\"ID_mosta\"]};{item[\"Zemepisná_šírka\"]}, {\n",
    "          item[\"Zemepisná_dĺžka\"]};{item[\"Dĺžka_premostenia\"]};{item[\"Číslo_PK\"]}')"
   ]
  },
  {
   "cell_type": "code",
   "execution_count": 14,
   "metadata": {},
   "outputs": [
    {
     "data": {
      "text/plain": [
       "Číslo_PK\n",
       "507     6\n",
       "500     6\n",
       "1421    5\n",
       "561     3\n",
       "499     3\n",
       "1333    2\n",
       "1394    2\n",
       "1146    2\n",
       "513     2\n",
       "572     1\n",
       "560     1\n",
       "501     1\n",
       "510     1\n",
       "1285    1\n",
       "1286    1\n",
       "590     1\n",
       "581     1\n",
       "1257    1\n",
       "1287    1\n",
       "1336    1\n",
       "1337    1\n",
       "1395    1\n",
       "1451    1\n",
       "1403    1\n",
       "1150    1\n",
       "1405    1\n",
       "1406    1\n",
       "1157    1\n",
       "1136    1\n",
       "1291    1\n",
       "1295    1\n",
       "1311    1\n",
       "1160    1\n",
       "1267    1\n",
       "1422    1\n",
       "1345    1\n",
       "1351    1\n",
       "1428    1\n",
       "1689    1\n",
       "1356    1\n",
       "1435    1\n",
       "Name: count, dtype: int64"
      ]
     },
     "execution_count": 14,
     "metadata": {},
     "output_type": "execute_result"
    }
   ],
   "source": [
    "filtered_bridges[\"Číslo_PK\"].value_counts()"
   ]
  },
  {
   "cell_type": "code",
   "execution_count": null,
   "metadata": {},
   "outputs": [],
   "source": [
    "filtered_bridges[[]]"
   ]
  }
 ],
 "metadata": {
  "kernelspec": {
   "display_name": "Bridges_VENV",
   "language": "python",
   "name": "python3"
  },
  "language_info": {
   "codemirror_mode": {
    "name": "ipython",
    "version": 3
   },
   "file_extension": ".py",
   "mimetype": "text/x-python",
   "name": "python",
   "nbconvert_exporter": "python",
   "pygments_lexer": "ipython3",
   "version": "3.12.6"
  }
 },
 "nbformat": 4,
 "nbformat_minor": 2
}
