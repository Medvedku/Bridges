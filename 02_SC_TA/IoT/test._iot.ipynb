{
 "cells": [
  {
   "cell_type": "code",
   "execution_count": null,
   "metadata": {},
   "outputs": [],
   "source": [
    "path = r\"C:\\Users\\relia\\Documents\\GitHub\\Bridges\\02_SC_TA\\IoT\\Routes\\M5082_clear.gpx\""
   ]
  },
  {
   "cell_type": "code",
   "execution_count": 6,
   "metadata": {},
   "outputs": [
    {
     "name": "stdout",
     "output_type": "stream",
     "text": [
      "Clear route for M1075: C:\\Users\\relia\\Documents\\GitHub\\Bridges\\02_SC_TA\\IoT\\Routes\\M1075_clear.gpx\n",
      "Alternative route for M1075: C:\\Users\\relia\\Documents\\GitHub\\Bridges\\02_SC_TA\\IoT\\Routes\\M1075_alt.gpx\n"
     ]
    }
   ],
   "source": [
    "import xml.etree.ElementTree as ET\n",
    "import folium\n",
    "\n",
    "import os\n",
    "\n",
    "folder_path = r\"C:\\Users\\relia\\Documents\\GitHub\\Bridges\\02_SC_TA\\IoT\\Routes\"\n",
    "\n",
    "# List all files in the folder\n",
    "files = os.listdir(folder_path)\n",
    "\n",
    "# Define the bridge ID\n",
    "bridge_id = 'M1075'\n",
    "\n",
    "# Filter the files for the specific bridge\n",
    "clear_route = None\n",
    "alternative_route = None\n",
    "\n",
    "for file in files:\n",
    "    if file.startswith(bridge_id):\n",
    "        if \"_clear\" in file:\n",
    "            clear_route = os.path.join(folder_path, file)\n",
    "        elif \"_alt\" in file:\n",
    "            alternative_route = os.path.join(folder_path, file)\n",
    "\n",
    "# Assign variables for clear and alternative routes\n",
    "print(f\"Clear route for {bridge_id}: {clear_route}\")\n",
    "print(f\"Alternative route for {bridge_id}: {alternative_route}\")"
   ]
  },
  {
   "cell_type": "code",
   "execution_count": 10,
   "metadata": {},
   "outputs": [],
   "source": [
    "import plotly.graph_objs as go\n",
    "\n",
    "# Extract elevation profile data from the GPX file\n",
    "\n",
    "\n",
    "def extract_elevation_data(gpx_file):\n",
    "    elevations = []\n",
    "    distances = []\n",
    "    with open(gpx_file, \"r\", encoding=\"utf-8\") as file:\n",
    "        content = file.read()\n",
    "        # Split into trkpt segments\n",
    "        trkpt_segments = content.split(\"<trkpt\")\n",
    "        previous_lat, previous_lon = None, None\n",
    "        total_distance = 0.0\n",
    "        for segment in trkpt_segments[1:]:\n",
    "            # Extract latitude and longitude\n",
    "            lat_start = segment.find('lat=\"') + 5\n",
    "            lat_end = segment.find('\"', lat_start)\n",
    "            lon_start = segment.find('lon=\"') + 5\n",
    "            lon_end = segment.find('\"', lon_start)\n",
    "            ele_start = segment.find(\"<ele>\") + 5\n",
    "            ele_end = segment.find(\"</ele>\")\n",
    "\n",
    "            if lat_start > 4 and lon_start > 4 and ele_start > 4:\n",
    "                latitude = float(segment[lat_start:lat_end])\n",
    "                longitude = float(segment[lon_start:lon_end])\n",
    "                elevation = float(segment[ele_start:ele_end])\n",
    "\n",
    "                if previous_lat is not None and previous_lon is not None:\n",
    "                    # Calculate distance between points (simple approximation)\n",
    "                    from math import radians, sin, cos, sqrt, atan2\n",
    "                    R = 6371000  # Earth radius in meters\n",
    "                    lat1, lon1 = radians(previous_lat), radians(previous_lon)\n",
    "                    lat2, lon2 = radians(latitude), radians(longitude)\n",
    "                    dlat = lat2 - lat1\n",
    "                    dlon = lon2 - lon1\n",
    "                    a = sin(dlat / 2)**2 + cos(lat1) * \\\n",
    "                        cos(lat2) * sin(dlon / 2)**2\n",
    "                    c = 2 * atan2(sqrt(a), sqrt(1 - a))\n",
    "                    distance = R * c\n",
    "                    total_distance += distance\n",
    "\n",
    "                elevations.append(elevation)\n",
    "                # Convert to kilometers\n",
    "                distances.append(total_distance / 1000)\n",
    "\n",
    "                previous_lat, previous_lon = latitude, longitude\n",
    "\n",
    "    return distances, elevations"
   ]
  },
  {
   "cell_type": "code",
   "execution_count": 25,
   "metadata": {},
   "outputs": [
    {
     "data": {
      "application/vnd.plotly.v1+json": {
       "config": {
        "plotlyServerURL": "https://plot.ly"
       },
       "data": [
        {
         "fill": "tozeroy",
         "fillcolor": "rgba(255, 99, 71, 0.3)",
         "line": {
          "color": "red"
         },
         "mode": "lines",
         "name": "Alternative Route",
         "type": "scatter",
         "x": [
          0,
          0.06407859165157126,
          0.10051283917386777,
          0.17096245331793086,
          0.23545497489547376,
          0.2517137332254101,
          0.4401780368228401,
          0.4995782751966948,
          0.5344379182544078,
          0.916820330994804,
          1.0778204070418471,
          1.557008158572184,
          1.9421169104335827,
          2.0051755542700005,
          2.7279571163841347,
          2.778115822056291,
          2.7982283061145847,
          2.8464574517746875,
          3.4266064235617595,
          3.582319039782023,
          4.045563126610476,
          4.3854179858855415,
          4.468804045446908,
          4.627595424579647,
          4.790273618512742,
          4.809943287783872,
          4.878975372187154,
          5.136840437651336,
          5.160746219879043,
          5.183033091478446,
          5.2717198091002,
          5.318733952790741,
          6.101975157451445,
          6.266342446622314,
          6.282970555073667,
          6.331905873672524,
          6.392737289943197,
          6.847458411782608,
          6.995061396735995,
          7.475601559445346,
          7.4878332725153145,
          7.780087777164781,
          7.799289653302205,
          7.818658080875572,
          7.82984402565194,
          7.875400053500683,
          7.894397835111681,
          7.9304576624935486,
          7.946104041830587,
          7.993344865548718,
          8.018224705994838,
          8.039530618867431,
          8.05831292781985,
          8.102628528608294,
          8.190586230387341,
          8.272376762874112,
          8.332408773356745,
          8.364629691120186,
          8.41564061605083,
          8.77397299262344,
          9.318296008394421,
          9.544868371810361,
          9.644339638158936,
          9.811559117218358,
          10.007224172696535,
          10.236472902094713,
          10.878415580620347,
          11.31113773608459,
          11.551695020815638,
          11.590644975652355,
          11.602020957545056,
          11.613469383936229,
          11.624931081327253,
          11.632607839911524,
          11.640185392220653,
          11.647869108258922,
          11.658725993485993,
          11.669576474778085,
          11.680389514503624,
          11.695505075989788,
          11.718107120273595,
          11.749166743408875,
          11.938854207000201,
          12.074622785545898,
          12.146085077205656,
          12.209146694657258,
          12.258034730760242,
          12.320378286918583,
          12.393333300335724,
          12.471728275776124,
          12.691421257365503,
          12.832391720473268,
          12.916982233840269,
          13.037267357857404,
          13.17417482912146,
          13.613525233299523,
          14.285126628319711,
          14.67360617900368,
          14.784146318535441,
          14.855173581907957,
          15.052351514186837,
          15.096254952946039,
          15.108654339019383,
          15.169083129754508,
          15.208707951197129,
          15.346170154221484,
          15.415636116168088,
          15.530485305565238,
          15.610601060610893,
          16.086993469342307,
          16.150674996383408,
          16.20511273797577,
          16.22709301326371,
          16.303522729841337,
          16.37499109398912,
          16.418414199597215,
          16.434118828322745,
          16.459913820115123,
          16.484849776659146,
          16.4910705056904,
          16.510027948670157,
          16.529378762390643,
          16.548917355923304,
          16.564550068613627,
          16.649513150828536,
          16.699793732958323,
          16.84245195943749,
          16.877285554428145,
          16.89173377443633,
          16.908365512323208,
          16.990949274586978,
          17.299066225443223,
          17.318508762767994,
          17.341402955871704,
          17.41501458366739,
          17.60321961681805,
          17.77026623588649,
          17.889483906851424,
          18.134625286958254,
          18.19483551570049,
          18.252323765948546,
          18.30991189271288,
          18.338030645620805,
          18.35774932793649,
          18.420372246746474,
          18.4653058463445,
          18.559579435705267,
          18.595168627383394,
          18.605883435001303,
          18.612441055873173
         ],
         "y": [
          120.4,
          120,
          119.1,
          117.3,
          118,
          118.1,
          118.4,
          118,
          117.8,
          117.4,
          117.7,
          118,
          115.5,
          115.5,
          115.8,
          115.8,
          115.8,
          115.9,
          116,
          116,
          116,
          115.5,
          115.3,
          115,
          114.5,
          114.4,
          115,
          114.9,
          114.9,
          114.9,
          114.9,
          114.9,
          114.7,
          115.5,
          115.8,
          115.8,
          115.7,
          116,
          115.8,
          114.6,
          114.9,
          115,
          115,
          115,
          115.2,
          115.9,
          115.8,
          115.6,
          115.6,
          115.4,
          115.3,
          115.2,
          115.1,
          114.9,
          115.6,
          116,
          116,
          116.1,
          116.7,
          116.8,
          117.2,
          117.3,
          117.2,
          116.9,
          116.5,
          116.1,
          116.8,
          117.3,
          117.5,
          117.1,
          117.3,
          117.4,
          117.6,
          117.6,
          117.6,
          117.7,
          118,
          118.3,
          118.6,
          118.8,
          119.1,
          119.1,
          118.8,
          119.1,
          119.2,
          119.4,
          119.5,
          119.6,
          119.8,
          119.9,
          119.6,
          118.8,
          119.5,
          119.6,
          119.7,
          120,
          120.4,
          120.7,
          120.8,
          120.8,
          121.5,
          122.1,
          122.2,
          123.7,
          124,
          123.1,
          123,
          124,
          124.5,
          123.6,
          123,
          123.2,
          123.3,
          123.4,
          123.1,
          123.4,
          123.5,
          123.8,
          123.9,
          123.9,
          124,
          123.9,
          123.8,
          123.8,
          123.8,
          123.2,
          122.8,
          123,
          123,
          123.1,
          123.5,
          124.5,
          124.5,
          124.6,
          124.7,
          126.4,
          124.9,
          125.5,
          124.5,
          124.7,
          126.6,
          126.9,
          127.1,
          127.2,
          127.7,
          127.6,
          126.2,
          126.2,
          126.3,
          126.3
         ]
        },
        {
         "fill": "tozeroy",
         "fillcolor": "rgba(135, 206, 250, 0.3)",
         "line": {
          "color": "blue"
         },
         "mode": "lines",
         "name": "Clear Route",
         "type": "scatter",
         "x": [
          0,
          0.06407859165157126,
          0.1386542650458857,
          0.1790877332491926,
          0.1975905874101518,
          0.21344851749599292,
          0.31161724571000743,
          0.36713334063649594,
          0.5319008744225154,
          0.5625795418749632,
          0.5942990261917369,
          0.6133071877195444,
          0.6241132846780202,
          0.6385067493009925,
          0.690279780329489,
          0.7753591910330289,
          0.8534047175107715,
          1.111177856114577,
          1.2613833144122977,
          1.5827936975343146,
          1.6826078850382926,
          1.7053948955298386,
          1.7267419734568252,
          1.7618701519148736,
          1.7891215311667854,
          1.813323334523985,
          1.8301957952100767,
          1.8636045816656364,
          1.8956202237741504,
          1.94839209819018,
          1.989816202857025,
          2.014805706303648,
          2.2220966159085433,
          2.2806903266931506,
          2.4104212497237505,
          2.4521997319259112,
          2.5038285705671446,
          2.588918150292122,
          2.6362971225308978,
          2.6851878881699753,
          2.7611958149308102,
          2.965453457351896,
          3.1139533461384943,
          3.126247627390627,
          3.1385847664483393,
          3.150849043181876,
          3.1619824285840665,
          3.270711177445688,
          3.311060959467942,
          3.31587478691302,
          3.331601845965012,
          3.356986485565837,
          3.3716155621907062,
          3.457146198504395,
          3.4897632122514315,
          3.5499459354314546,
          3.5789902239545546,
          3.6622316639097168,
          3.693875573021656,
          3.7095802017471846,
          3.7388559251922193,
          3.7484739805708926,
          3.7665449605148784,
          3.7855024034946414,
          3.8048532172151246,
          3.824391810747789,
          3.8400245234381067,
          3.9249876056530177,
          3.9752681877828016,
          4.117926414261972,
          4.152760009252626,
          4.16720822926081,
          4.18383996714769,
          4.266423729411461,
          4.574540680267707,
          4.593983217592478,
          4.61687741069619,
          4.6904890384918785,
          4.8786940716425375,
          5.045740690710975,
          5.164958361675909,
          5.410099741782738,
          5.470309970524972,
          5.527798220773029,
          5.585386347537362,
          5.613505100445288,
          5.633223782760971,
          5.695846701570955,
          5.750840026351164,
          5.835032018289821,
          5.8706212099679504,
          5.8813360175858564,
          5.887893638457726
         ],
         "y": [
          120.4,
          120,
          119.8,
          119.7,
          119.6,
          119.6,
          119.8,
          120.2,
          121.3,
          121.1,
          120.7,
          120.5,
          120.4,
          120.2,
          119.7,
          119.2,
          118.9,
          118,
          118.6,
          120.4,
          120.6,
          120.7,
          120.7,
          120.8,
          120.8,
          121.2,
          121.4,
          121.8,
          122.2,
          121.7,
          121.3,
          121,
          120.7,
          120.6,
          120.4,
          121,
          121.8,
          122.3,
          122.5,
          122.8,
          123.2,
          122.4,
          122.6,
          122.6,
          122.6,
          122.6,
          122.7,
          122.8,
          122.8,
          122.8,
          122.9,
          122.9,
          122.9,
          123.2,
          123.3,
          123.5,
          123.4,
          123.2,
          123.4,
          123.5,
          123.8,
          123.8,
          123.9,
          124,
          123.9,
          123.8,
          123.7,
          123.4,
          123.2,
          122.8,
          123,
          123,
          123.1,
          123.5,
          124.5,
          124.5,
          124.6,
          124.7,
          126.4,
          124.9,
          125.5,
          124.5,
          124.7,
          126.6,
          126.9,
          127.1,
          127.2,
          127.7,
          127.5,
          126.3,
          126.3,
          126.3,
          126.4
         ]
        }
       ],
       "layout": {
        "legend": {
         "orientation": "h",
         "title": {
          "text": "Typ"
         },
         "x": 0.25,
         "xanchor": "center",
         "y": 1.02,
         "yanchor": "bottom"
        },
        "template": {
         "data": {
          "bar": [
           {
            "error_x": {
             "color": "#2a3f5f"
            },
            "error_y": {
             "color": "#2a3f5f"
            },
            "marker": {
             "line": {
              "color": "white",
              "width": 0.5
             },
             "pattern": {
              "fillmode": "overlay",
              "size": 10,
              "solidity": 0.2
             }
            },
            "type": "bar"
           }
          ],
          "barpolar": [
           {
            "marker": {
             "line": {
              "color": "white",
              "width": 0.5
             },
             "pattern": {
              "fillmode": "overlay",
              "size": 10,
              "solidity": 0.2
             }
            },
            "type": "barpolar"
           }
          ],
          "carpet": [
           {
            "aaxis": {
             "endlinecolor": "#2a3f5f",
             "gridcolor": "#C8D4E3",
             "linecolor": "#C8D4E3",
             "minorgridcolor": "#C8D4E3",
             "startlinecolor": "#2a3f5f"
            },
            "baxis": {
             "endlinecolor": "#2a3f5f",
             "gridcolor": "#C8D4E3",
             "linecolor": "#C8D4E3",
             "minorgridcolor": "#C8D4E3",
             "startlinecolor": "#2a3f5f"
            },
            "type": "carpet"
           }
          ],
          "choropleth": [
           {
            "colorbar": {
             "outlinewidth": 0,
             "ticks": ""
            },
            "type": "choropleth"
           }
          ],
          "contour": [
           {
            "colorbar": {
             "outlinewidth": 0,
             "ticks": ""
            },
            "colorscale": [
             [
              0,
              "#0d0887"
             ],
             [
              0.1111111111111111,
              "#46039f"
             ],
             [
              0.2222222222222222,
              "#7201a8"
             ],
             [
              0.3333333333333333,
              "#9c179e"
             ],
             [
              0.4444444444444444,
              "#bd3786"
             ],
             [
              0.5555555555555556,
              "#d8576b"
             ],
             [
              0.6666666666666666,
              "#ed7953"
             ],
             [
              0.7777777777777778,
              "#fb9f3a"
             ],
             [
              0.8888888888888888,
              "#fdca26"
             ],
             [
              1,
              "#f0f921"
             ]
            ],
            "type": "contour"
           }
          ],
          "contourcarpet": [
           {
            "colorbar": {
             "outlinewidth": 0,
             "ticks": ""
            },
            "type": "contourcarpet"
           }
          ],
          "heatmap": [
           {
            "colorbar": {
             "outlinewidth": 0,
             "ticks": ""
            },
            "colorscale": [
             [
              0,
              "#0d0887"
             ],
             [
              0.1111111111111111,
              "#46039f"
             ],
             [
              0.2222222222222222,
              "#7201a8"
             ],
             [
              0.3333333333333333,
              "#9c179e"
             ],
             [
              0.4444444444444444,
              "#bd3786"
             ],
             [
              0.5555555555555556,
              "#d8576b"
             ],
             [
              0.6666666666666666,
              "#ed7953"
             ],
             [
              0.7777777777777778,
              "#fb9f3a"
             ],
             [
              0.8888888888888888,
              "#fdca26"
             ],
             [
              1,
              "#f0f921"
             ]
            ],
            "type": "heatmap"
           }
          ],
          "heatmapgl": [
           {
            "colorbar": {
             "outlinewidth": 0,
             "ticks": ""
            },
            "colorscale": [
             [
              0,
              "#0d0887"
             ],
             [
              0.1111111111111111,
              "#46039f"
             ],
             [
              0.2222222222222222,
              "#7201a8"
             ],
             [
              0.3333333333333333,
              "#9c179e"
             ],
             [
              0.4444444444444444,
              "#bd3786"
             ],
             [
              0.5555555555555556,
              "#d8576b"
             ],
             [
              0.6666666666666666,
              "#ed7953"
             ],
             [
              0.7777777777777778,
              "#fb9f3a"
             ],
             [
              0.8888888888888888,
              "#fdca26"
             ],
             [
              1,
              "#f0f921"
             ]
            ],
            "type": "heatmapgl"
           }
          ],
          "histogram": [
           {
            "marker": {
             "pattern": {
              "fillmode": "overlay",
              "size": 10,
              "solidity": 0.2
             }
            },
            "type": "histogram"
           }
          ],
          "histogram2d": [
           {
            "colorbar": {
             "outlinewidth": 0,
             "ticks": ""
            },
            "colorscale": [
             [
              0,
              "#0d0887"
             ],
             [
              0.1111111111111111,
              "#46039f"
             ],
             [
              0.2222222222222222,
              "#7201a8"
             ],
             [
              0.3333333333333333,
              "#9c179e"
             ],
             [
              0.4444444444444444,
              "#bd3786"
             ],
             [
              0.5555555555555556,
              "#d8576b"
             ],
             [
              0.6666666666666666,
              "#ed7953"
             ],
             [
              0.7777777777777778,
              "#fb9f3a"
             ],
             [
              0.8888888888888888,
              "#fdca26"
             ],
             [
              1,
              "#f0f921"
             ]
            ],
            "type": "histogram2d"
           }
          ],
          "histogram2dcontour": [
           {
            "colorbar": {
             "outlinewidth": 0,
             "ticks": ""
            },
            "colorscale": [
             [
              0,
              "#0d0887"
             ],
             [
              0.1111111111111111,
              "#46039f"
             ],
             [
              0.2222222222222222,
              "#7201a8"
             ],
             [
              0.3333333333333333,
              "#9c179e"
             ],
             [
              0.4444444444444444,
              "#bd3786"
             ],
             [
              0.5555555555555556,
              "#d8576b"
             ],
             [
              0.6666666666666666,
              "#ed7953"
             ],
             [
              0.7777777777777778,
              "#fb9f3a"
             ],
             [
              0.8888888888888888,
              "#fdca26"
             ],
             [
              1,
              "#f0f921"
             ]
            ],
            "type": "histogram2dcontour"
           }
          ],
          "mesh3d": [
           {
            "colorbar": {
             "outlinewidth": 0,
             "ticks": ""
            },
            "type": "mesh3d"
           }
          ],
          "parcoords": [
           {
            "line": {
             "colorbar": {
              "outlinewidth": 0,
              "ticks": ""
             }
            },
            "type": "parcoords"
           }
          ],
          "pie": [
           {
            "automargin": true,
            "type": "pie"
           }
          ],
          "scatter": [
           {
            "fillpattern": {
             "fillmode": "overlay",
             "size": 10,
             "solidity": 0.2
            },
            "type": "scatter"
           }
          ],
          "scatter3d": [
           {
            "line": {
             "colorbar": {
              "outlinewidth": 0,
              "ticks": ""
             }
            },
            "marker": {
             "colorbar": {
              "outlinewidth": 0,
              "ticks": ""
             }
            },
            "type": "scatter3d"
           }
          ],
          "scattercarpet": [
           {
            "marker": {
             "colorbar": {
              "outlinewidth": 0,
              "ticks": ""
             }
            },
            "type": "scattercarpet"
           }
          ],
          "scattergeo": [
           {
            "marker": {
             "colorbar": {
              "outlinewidth": 0,
              "ticks": ""
             }
            },
            "type": "scattergeo"
           }
          ],
          "scattergl": [
           {
            "marker": {
             "colorbar": {
              "outlinewidth": 0,
              "ticks": ""
             }
            },
            "type": "scattergl"
           }
          ],
          "scattermapbox": [
           {
            "marker": {
             "colorbar": {
              "outlinewidth": 0,
              "ticks": ""
             }
            },
            "type": "scattermapbox"
           }
          ],
          "scatterpolar": [
           {
            "marker": {
             "colorbar": {
              "outlinewidth": 0,
              "ticks": ""
             }
            },
            "type": "scatterpolar"
           }
          ],
          "scatterpolargl": [
           {
            "marker": {
             "colorbar": {
              "outlinewidth": 0,
              "ticks": ""
             }
            },
            "type": "scatterpolargl"
           }
          ],
          "scatterternary": [
           {
            "marker": {
             "colorbar": {
              "outlinewidth": 0,
              "ticks": ""
             }
            },
            "type": "scatterternary"
           }
          ],
          "surface": [
           {
            "colorbar": {
             "outlinewidth": 0,
             "ticks": ""
            },
            "colorscale": [
             [
              0,
              "#0d0887"
             ],
             [
              0.1111111111111111,
              "#46039f"
             ],
             [
              0.2222222222222222,
              "#7201a8"
             ],
             [
              0.3333333333333333,
              "#9c179e"
             ],
             [
              0.4444444444444444,
              "#bd3786"
             ],
             [
              0.5555555555555556,
              "#d8576b"
             ],
             [
              0.6666666666666666,
              "#ed7953"
             ],
             [
              0.7777777777777778,
              "#fb9f3a"
             ],
             [
              0.8888888888888888,
              "#fdca26"
             ],
             [
              1,
              "#f0f921"
             ]
            ],
            "type": "surface"
           }
          ],
          "table": [
           {
            "cells": {
             "fill": {
              "color": "#EBF0F8"
             },
             "line": {
              "color": "white"
             }
            },
            "header": {
             "fill": {
              "color": "#C8D4E3"
             },
             "line": {
              "color": "white"
             }
            },
            "type": "table"
           }
          ]
         },
         "layout": {
          "annotationdefaults": {
           "arrowcolor": "#2a3f5f",
           "arrowhead": 0,
           "arrowwidth": 1
          },
          "autotypenumbers": "strict",
          "coloraxis": {
           "colorbar": {
            "outlinewidth": 0,
            "ticks": ""
           }
          },
          "colorscale": {
           "diverging": [
            [
             0,
             "#8e0152"
            ],
            [
             0.1,
             "#c51b7d"
            ],
            [
             0.2,
             "#de77ae"
            ],
            [
             0.3,
             "#f1b6da"
            ],
            [
             0.4,
             "#fde0ef"
            ],
            [
             0.5,
             "#f7f7f7"
            ],
            [
             0.6,
             "#e6f5d0"
            ],
            [
             0.7,
             "#b8e186"
            ],
            [
             0.8,
             "#7fbc41"
            ],
            [
             0.9,
             "#4d9221"
            ],
            [
             1,
             "#276419"
            ]
           ],
           "sequential": [
            [
             0,
             "#0d0887"
            ],
            [
             0.1111111111111111,
             "#46039f"
            ],
            [
             0.2222222222222222,
             "#7201a8"
            ],
            [
             0.3333333333333333,
             "#9c179e"
            ],
            [
             0.4444444444444444,
             "#bd3786"
            ],
            [
             0.5555555555555556,
             "#d8576b"
            ],
            [
             0.6666666666666666,
             "#ed7953"
            ],
            [
             0.7777777777777778,
             "#fb9f3a"
            ],
            [
             0.8888888888888888,
             "#fdca26"
            ],
            [
             1,
             "#f0f921"
            ]
           ],
           "sequentialminus": [
            [
             0,
             "#0d0887"
            ],
            [
             0.1111111111111111,
             "#46039f"
            ],
            [
             0.2222222222222222,
             "#7201a8"
            ],
            [
             0.3333333333333333,
             "#9c179e"
            ],
            [
             0.4444444444444444,
             "#bd3786"
            ],
            [
             0.5555555555555556,
             "#d8576b"
            ],
            [
             0.6666666666666666,
             "#ed7953"
            ],
            [
             0.7777777777777778,
             "#fb9f3a"
            ],
            [
             0.8888888888888888,
             "#fdca26"
            ],
            [
             1,
             "#f0f921"
            ]
           ]
          },
          "colorway": [
           "#636efa",
           "#EF553B",
           "#00cc96",
           "#ab63fa",
           "#FFA15A",
           "#19d3f3",
           "#FF6692",
           "#B6E880",
           "#FF97FF",
           "#FECB52"
          ],
          "font": {
           "color": "#2a3f5f"
          },
          "geo": {
           "bgcolor": "white",
           "lakecolor": "white",
           "landcolor": "white",
           "showlakes": true,
           "showland": true,
           "subunitcolor": "#C8D4E3"
          },
          "hoverlabel": {
           "align": "left"
          },
          "hovermode": "closest",
          "mapbox": {
           "style": "light"
          },
          "paper_bgcolor": "white",
          "plot_bgcolor": "white",
          "polar": {
           "angularaxis": {
            "gridcolor": "#EBF0F8",
            "linecolor": "#EBF0F8",
            "ticks": ""
           },
           "bgcolor": "white",
           "radialaxis": {
            "gridcolor": "#EBF0F8",
            "linecolor": "#EBF0F8",
            "ticks": ""
           }
          },
          "scene": {
           "xaxis": {
            "backgroundcolor": "white",
            "gridcolor": "#DFE8F3",
            "gridwidth": 2,
            "linecolor": "#EBF0F8",
            "showbackground": true,
            "ticks": "",
            "zerolinecolor": "#EBF0F8"
           },
           "yaxis": {
            "backgroundcolor": "white",
            "gridcolor": "#DFE8F3",
            "gridwidth": 2,
            "linecolor": "#EBF0F8",
            "showbackground": true,
            "ticks": "",
            "zerolinecolor": "#EBF0F8"
           },
           "zaxis": {
            "backgroundcolor": "white",
            "gridcolor": "#DFE8F3",
            "gridwidth": 2,
            "linecolor": "#EBF0F8",
            "showbackground": true,
            "ticks": "",
            "zerolinecolor": "#EBF0F8"
           }
          },
          "shapedefaults": {
           "line": {
            "color": "#2a3f5f"
           }
          },
          "ternary": {
           "aaxis": {
            "gridcolor": "#DFE8F3",
            "linecolor": "#A2B1C6",
            "ticks": ""
           },
           "baxis": {
            "gridcolor": "#DFE8F3",
            "linecolor": "#A2B1C6",
            "ticks": ""
           },
           "bgcolor": "white",
           "caxis": {
            "gridcolor": "#DFE8F3",
            "linecolor": "#A2B1C6",
            "ticks": ""
           }
          },
          "title": {
           "x": 0.05
          },
          "xaxis": {
           "automargin": true,
           "gridcolor": "#EBF0F8",
           "linecolor": "#EBF0F8",
           "ticks": "",
           "title": {
            "standoff": 15
           },
           "zerolinecolor": "#EBF0F8",
           "zerolinewidth": 2
          },
          "yaxis": {
           "automargin": true,
           "gridcolor": "#EBF0F8",
           "linecolor": "#EBF0F8",
           "ticks": "",
           "title": {
            "standoff": 15
           },
           "zerolinecolor": "#EBF0F8",
           "zerolinewidth": 2
          }
         }
        },
        "title": {
         "text": "Výškové profily priamej trasy a obchádzky"
        },
        "xaxis": {
         "title": {
          "text": "Vzdialenosť (km)"
         }
        },
        "yaxis": {
         "title": {
          "text": "Nadmorská výška (m)"
         }
        }
       }
      }
     },
     "metadata": {},
     "output_type": "display_data"
    }
   ],
   "source": [
    "# Path to the clear and alternative GPX files\n",
    "clear_gpx_file = r\"C:\\Users\\relia\\Documents\\GitHub\\Bridges\\02_SC_TA\\IoT\\Routes\\M1075_clear.gpx\"\n",
    "alt_gpx_file = r\"C:\\Users\\relia\\Documents\\GitHub\\Bridges\\02_SC_TA\\IoT\\Routes\\M1075_alt.gpx\"\n",
    "\n",
    "# Extract data for both routes\n",
    "clear_distances, clear_elevations = extract_elevation_data(clear_gpx_file)\n",
    "alt_distances, alt_elevations = extract_elevation_data(alt_gpx_file)\n",
    "\n",
    "# Create a Plotly figure\n",
    "fig = go.Figure()\n",
    "\n",
    "# Add the alternative route's elevation profile\n",
    "fig.add_trace(go.Scatter(\n",
    "    x=alt_distances,\n",
    "    y=alt_elevations,\n",
    "    mode=\"lines\",\n",
    "    name=\"Alternative Route\",\n",
    "    line=dict(color=\"red\"),\n",
    "    fill='tozeroy',  # Fill area under the line to the x-axis (y=0)\n",
    "    fillcolor='rgba(255, 99, 71, 0.3)'  # Transparent red fill\n",
    "))\n",
    "\n",
    "# Add the clear route's elevation profile\n",
    "fig.add_trace(go.Scatter(\n",
    "    x=clear_distances,\n",
    "    y=clear_elevations,\n",
    "    mode=\"lines\",\n",
    "    name=\"Clear Route\",\n",
    "    line=dict(color=\"blue\"),\n",
    "    fill='tozeroy',  # Fill area under the line to the x-axis (y=0)\n",
    "    fillcolor='rgba(135, 206, 250, 0.3)'  # Transparent blue fill\n",
    "))\n",
    "\n",
    "\n",
    "\n",
    "# Update the layout\n",
    "fig.update_layout(\n",
    "    title=\"Výškové profily priamej trasy a obchádzky\",\n",
    "    xaxis_title=\"Vzdialenosť (km)\",\n",
    "    yaxis_title=\"Nadmorská výška (m)\",\n",
    "    legend=dict(\n",
    "        title=\"Typ\",\n",
    "        orientation=\"h\",  # Horizontal legend\n",
    "        yanchor=\"bottom\",\n",
    "        y=1.02,\n",
    "        xanchor=\"center\",\n",
    "        x=0.25\n",
    "    ),\n",
    "    template=\"plotly_white\"\n",
    ")\n",
    "\n",
    "# Show the plot\n",
    "fig.show()"
   ]
  }
 ],
 "metadata": {
  "kernelspec": {
   "display_name": "Bridges_VENV",
   "language": "python",
   "name": "python3"
  },
  "language_info": {
   "codemirror_mode": {
    "name": "ipython",
    "version": 3
   },
   "file_extension": ".py",
   "mimetype": "text/x-python",
   "name": "python",
   "nbconvert_exporter": "python",
   "pygments_lexer": "ipython3",
   "version": "3.12.4"
  }
 },
 "nbformat": 4,
 "nbformat_minor": 2
}
