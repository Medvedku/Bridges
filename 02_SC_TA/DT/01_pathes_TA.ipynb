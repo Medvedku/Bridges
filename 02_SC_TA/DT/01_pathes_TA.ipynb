{
 "cells": [
  {
   "cell_type": "code",
   "execution_count": 2,
   "metadata": {},
   "outputs": [
    {
     "name": "stderr",
     "output_type": "stream",
     "text": [
      "C:\\Users\\Doktor\\AppData\\Local\\Temp\\ipykernel_11892\\3502944583.py:22: DtypeWarning: Columns (5,16) have mixed types. Specify dtype option on import or set low_memory=False.\n",
      "  df_nodes = pd.read_csv(nodes_path, encoding='utf-8', delimiter=',')\n",
      "C:\\Users\\Doktor\\AppData\\Local\\Temp\\ipykernel_11892\\3502944583.py:23: DtypeWarning: Columns (10,11,12,25,26,27) have mixed types. Specify dtype option on import or set low_memory=False.\n",
      "  df_roads = pd.read_csv(roads_path, encoding='utf-8', delimiter=',')\n"
     ]
    }
   ],
   "source": [
    "import pandas as pd\n",
    "import numpy as np\n",
    "\n",
    "# DOMA\n",
    "# Define the file path\n",
    "nodes_path = r\"C:\\Users\\Doktor\\Documents\\GitHub\\Bridges\\Data\\Nodes_processed.csv\"\n",
    "roads_path = r\"C:\\Users\\Doktor\\Documents\\GitHub\\Bridges\\Data\\Roads_processed.csv\"\n",
    "bridges_path = r\"C:\\Users\\Doktor\\Documents\\GitHub\\Bridges\\Data\\Bridges_processed.csv\"\n",
    "bridges_selected_path = r\"C:\\Users\\Doktor\\Documents\\GitHub\\Bridges\\Data\\Bridges_selected.csv\"\n",
    "survey_path = r\"C:\\Users\\Doktor\\Documents\\GitHub\\Bridges\\Data\\surveys\\Survey.csv\"\n",
    "\n",
    "\n",
    "# # Práca\n",
    "# # Define the file path\n",
    "# nodes_path = r\"C:\\Users\\relia\\Documents\\GitHub\\Bridges\\Data\\Nodes_processed.csv\"\n",
    "# roads_path = r\"C:\\Users\\relia\\Documents\\GitHub\\Bridges\\Data\\Roads_processed.csv\"\n",
    "# bridges_path = r\"C:\\Users\\relia\\Documents\\GitHub\\Bridges\\Data\\Bridges_processed.csv\"\n",
    "# bridges_selected_path = r\"C:\\Users\\relia\\Documents\\GitHub\\Bridges\\Data\\Bridges_selected.csv\"\n",
    "# survey_path = r\"C:\\Users\\relia\\Documents\\GitHub\\Bridges\\Data\\surveys\\Survey.csv\"\n",
    "\n",
    "# Load the CSV data into a DataFrame\n",
    "df_nodes = pd.read_csv(nodes_path, encoding='utf-8', delimiter=',')\n",
    "df_roads = pd.read_csv(roads_path, encoding='utf-8', delimiter=',')\n",
    "df_bridges_all = pd.read_csv(bridges_path, encoding='utf-8', delimiter=',')\n",
    "df_bridges_sel = pd.read_csv(\n",
    "    bridges_selected_path, encoding='utf-8', delimiter=',')\n",
    "df_survey = pd.read_csv(survey_path, encoding='utf-8', delimiter=',')"
   ]
  },
  {
   "cell_type": "code",
   "execution_count": 3,
   "metadata": {},
   "outputs": [
    {
     "data": {
      "text/plain": [
       "Index(['ID_mosta', 'Trieda_PK', 'Číslo_PK', 'Most_DC', 'Názov_mosta', 'ID_DC',\n",
       "       'správcovské_číslo', 'Zemepisná_dĺžka', 'Zemepisná_šírka', 'Výška',\n",
       "       'Druh_konštrukcie', 'Material', 'Normálna_zaťažiteľnosť',\n",
       "       'Výhradná_zaťažiteľnosť_t', 'Výnimočná_zaťažiteľnosť_t',\n",
       "       'Spôsob_stanovenia', 'Predmet_premostenia', 'Rok_postavenia',\n",
       "       'Zaťažovacia_trieda_STN', 'Počet_otvorov', 'Dĺžka_premostenia',\n",
       "       'Dĺžka_nosnej_konštrukcie_m', 'Volná_šírka_mosta',\n",
       "       'Šírka_medzi_obrubami_m', 'Plocha_mosnej_konštrukcie_m2',\n",
       "       'Plocha_mosta_m2', 'Vlastník_úseku', 'Správca_úseku', 'Okres',\n",
       "       'Smer_úseku', 'Typ_úseku', 'Počiatočný_uzol', 'Koncový_uzol', 'úsek_ID',\n",
       "       'úsekové_staničenie_začiatku_DC_m',\n",
       "       'Kilometrovníkové_staničenie_začiatku_DC_km',\n",
       "       'Kumulatívne_staničenie_začiatku_DC_km', 'Poradie', 'Kraj', 'n_2012',\n",
       "       'n_2013', 'n_2014', 'n_2015', 'n_2016', 'n_2017', 'n_2018', 'n_2019',\n",
       "       'n_2020', 'n_2021', 'n_2022', 'n_2023'],\n",
       "      dtype='object')"
      ]
     },
     "execution_count": 3,
     "metadata": {},
     "output_type": "execute_result"
    }
   ],
   "source": [
    "# Assuming df_bridges_all is your DataFrame\n",
    "columns_to_convert = ['Zemepisná_dĺžka', 'Zemepisná_šírka', 'Výška', 'Normálna_zaťažiteľnosť',\n",
    "                      'Výhradná_zaťažiteľnosť_t', 'Výnimočná_zaťažiteľnosť_t', 'Počet_otvorov',\n",
    "                      'Dĺžka_nosnej_konštrukcie_m', 'Dĺžka_premostenia', 'Volná_šírka_mosta',\n",
    "                      'Šírka_medzi_obrubami_m', 'Plocha_mosnej_konštrukcie_m2', 'Plocha_mosta_m2']\n",
    "\n",
    "# Convert specified columns to float\n",
    "df_bridges_all[columns_to_convert] = df_bridges_all[columns_to_convert].apply(\n",
    "    pd.to_numeric, errors='coerce')\n",
    "\n",
    "# Convert Rok_postavenia to integer, assign NaN if not possible\n",
    "df_bridges_all['Rok_postavenia'] = pd.to_numeric(\n",
    "    df_bridges_all['Rok_postavenia'], errors='coerce')\n",
    "\n",
    "\n",
    "df_bridges_all.columns"
   ]
  },
  {
   "cell_type": "code",
   "execution_count": 4,
   "metadata": {},
   "outputs": [
    {
     "data": {
      "text/plain": [
       "Index(['SSC - IVSC ZA', 'SSC - IVSC KE', 'SSC - IVSC BB', 'BBRSC-JUH',\n",
       "       'BBRSC-STRED', 'BBRSC-SEVER', 'SSC - IVSC BA', 'SUC PSK - HE',\n",
       "       'SC TN SK - TN', 'SUC PSK - PO', 'SC TN SK - PD', 'SUC TTSK - TT',\n",
       "       'Nezistený', 'SUC PSK - PP', 'SUC PSK - BJ', 'SC TN SK - PB',\n",
       "       'SC ŽSK - HPOV', 'SC KSK - KS', 'SC ŽSK - ORA', 'SC ŽSK - LIP',\n",
       "       'SC KSK - SNV', 'SUC PSK - SK', 'RSUC NR - LV', 'SUC PSK - SL',\n",
       "       'SC ŽSK - KYS', 'RSUC NR - NR', 'SC KSK - MI', 'SC BSK', 'SC ŽSK - TUR',\n",
       "       'SUC TTSK - SE', 'NDS - SSUR ZV', 'NDS - SSUD PB', 'SC KSK - TV',\n",
       "       'RSUC NR - NZ', 'VPO', 'SUC TTSK - DS', 'SC KSK - RV', 'SUC PSK - VT',\n",
       "       'NDS - SSUD LM', 'RSUC NR - TO', 'NDS - SSUR KE', 'ZBL', 'RSUC NR - KN',\n",
       "       'NDS - SSUD TN', 'MAG-BA', 'NDS - SSUR CA', 'NDS - SSUD BA',\n",
       "       'NDS - SSUD PO', 'NDS - SSUD BE', 'NDS - SSUR NB', 'NDS - SSUR GA',\n",
       "       'NDS - SSUD MENG', 'NDS - SSUD MA', 'NDS - SSUD TT', 'MAG-KE',\n",
       "       'NDS - SSUD MT', 'CU', 'ZI', 'BB', 'NEZN', 'ZA-Invest', 'NO-HR', 'BJ',\n",
       "       'SB-LI', 'HE', 'PN', 'LM-DD', 'VK-NV', 'TT', 'BR-PL', 'HC-LE'],\n",
       "      dtype='object', name='Správca_úseku')"
      ]
     },
     "execution_count": 4,
     "metadata": {},
     "output_type": "execute_result"
    }
   ],
   "source": [
    "df_bridges_all[\"Správca_úseku\"].value_counts().keys()"
   ]
  },
  {
   "cell_type": "code",
   "execution_count": 5,
   "metadata": {},
   "outputs": [
    {
     "data": {
      "text/plain": [
       "(383, 51)"
      ]
     },
     "execution_count": 5,
     "metadata": {},
     "output_type": "execute_result"
    }
   ],
   "source": [
    "filtered_bridges = df_bridges_all.copy()\n",
    "\n",
    "# Filter bridges in the Nitra region with Trieda_PK as \"cesta I. triedy\" or \"cesta II. triedy\"\n",
    "filtered_bridges = df_bridges_all[\n",
    "    ((df_bridges_all['Správca_úseku'] == \"SUC TTSK - TT\") |\n",
    "     (df_bridges_all['Správca_úseku'] == \"SUC TTSK - SE\") |\n",
    "     (df_bridges_all['Správca_úseku'] == \"SUC TTSK - DS\")\n",
    "     )\n",
    "]\n",
    "\n",
    "# Reindex the DataFrame\n",
    "filtered_bridges.reset_index(drop=True, inplace=True)\n",
    "\n",
    "filtered_bridges = filtered_bridges[filtered_bridges[\"n_2023\"] != 0]\n",
    "\n",
    "\n",
    "# Display the filtered DataFrame\n",
    "filtered_bridges.shape"
   ]
  },
  {
   "cell_type": "code",
   "execution_count": 6,
   "metadata": {},
   "outputs": [],
   "source": [
    "filtered_bridges.to_excel('filtered_bridges_TT.xlsx', index=False)"
   ]
  },
  {
   "cell_type": "code",
   "execution_count": 7,
   "metadata": {},
   "outputs": [
    {
     "data": {
      "text/plain": [
       "Index(['ID_mosta', 'Trieda_PK', 'Číslo_PK', 'Most_DC', 'Názov_mosta', 'ID_DC',\n",
       "       'správcovské_číslo', 'Zemepisná_dĺžka', 'Zemepisná_šírka', 'Výška',\n",
       "       'Druh_konštrukcie', 'Material', 'Normálna_zaťažiteľnosť',\n",
       "       'Výhradná_zaťažiteľnosť_t', 'Výnimočná_zaťažiteľnosť_t',\n",
       "       'Spôsob_stanovenia', 'Predmet_premostenia', 'Rok_postavenia',\n",
       "       'Zaťažovacia_trieda_STN', 'Počet_otvorov', 'Dĺžka_premostenia',\n",
       "       'Dĺžka_nosnej_konštrukcie_m', 'Volná_šírka_mosta',\n",
       "       'Šírka_medzi_obrubami_m', 'Plocha_mosnej_konštrukcie_m2',\n",
       "       'Plocha_mosta_m2', 'Vlastník_úseku', 'Správca_úseku', 'Okres',\n",
       "       'Smer_úseku', 'Typ_úseku', 'Počiatočný_uzol', 'Koncový_uzol', 'úsek_ID',\n",
       "       'úsekové_staničenie_začiatku_DC_m',\n",
       "       'Kilometrovníkové_staničenie_začiatku_DC_km',\n",
       "       'Kumulatívne_staničenie_začiatku_DC_km', 'Poradie', 'Kraj', 'n_2012',\n",
       "       'n_2013', 'n_2014', 'n_2015', 'n_2016', 'n_2017', 'n_2018', 'n_2019',\n",
       "       'n_2020', 'n_2021', 'n_2022', 'n_2023'],\n",
       "      dtype='object')"
      ]
     },
     "execution_count": 7,
     "metadata": {},
     "output_type": "execute_result"
    }
   ],
   "source": [
    "filtered_bridges.columns"
   ]
  },
  {
   "cell_type": "code",
   "execution_count": 8,
   "metadata": {},
   "outputs": [
    {
     "data": {
      "text/html": [
       "<div>\n",
       "<style scoped>\n",
       "    .dataframe tbody tr th:only-of-type {\n",
       "        vertical-align: middle;\n",
       "    }\n",
       "\n",
       "    .dataframe tbody tr th {\n",
       "        vertical-align: top;\n",
       "    }\n",
       "\n",
       "    .dataframe thead th {\n",
       "        text-align: right;\n",
       "    }\n",
       "</style>\n",
       "<table border=\"1\" class=\"dataframe\">\n",
       "  <thead>\n",
       "    <tr style=\"text-align: right;\">\n",
       "      <th></th>\n",
       "      <th>Zemepisná_šírka</th>\n",
       "      <th>Zemepisná_dĺžka</th>\n",
       "    </tr>\n",
       "  </thead>\n",
       "  <tbody>\n",
       "    <tr>\n",
       "      <th>0</th>\n",
       "      <td>48.186735</td>\n",
       "      <td>17.712248</td>\n",
       "    </tr>\n",
       "    <tr>\n",
       "      <th>1</th>\n",
       "      <td>48.686941</td>\n",
       "      <td>16.989606</td>\n",
       "    </tr>\n",
       "    <tr>\n",
       "      <th>2</th>\n",
       "      <td>48.681548</td>\n",
       "      <td>16.995134</td>\n",
       "    </tr>\n",
       "    <tr>\n",
       "      <th>3</th>\n",
       "      <td>48.858681</td>\n",
       "      <td>17.228630</td>\n",
       "    </tr>\n",
       "    <tr>\n",
       "      <th>4</th>\n",
       "      <td>48.856515</td>\n",
       "      <td>17.226202</td>\n",
       "    </tr>\n",
       "    <tr>\n",
       "      <th>...</th>\n",
       "      <td>...</td>\n",
       "      <td>...</td>\n",
       "    </tr>\n",
       "    <tr>\n",
       "      <th>378</th>\n",
       "      <td>48.072076</td>\n",
       "      <td>17.540737</td>\n",
       "    </tr>\n",
       "    <tr>\n",
       "      <th>379</th>\n",
       "      <td>48.847275</td>\n",
       "      <td>17.233339</td>\n",
       "    </tr>\n",
       "    <tr>\n",
       "      <th>380</th>\n",
       "      <td>48.399478</td>\n",
       "      <td>17.592253</td>\n",
       "    </tr>\n",
       "    <tr>\n",
       "      <th>381</th>\n",
       "      <td>48.193810</td>\n",
       "      <td>17.606780</td>\n",
       "    </tr>\n",
       "    <tr>\n",
       "      <th>382</th>\n",
       "      <td>48.744980</td>\n",
       "      <td>17.305170</td>\n",
       "    </tr>\n",
       "  </tbody>\n",
       "</table>\n",
       "<p>383 rows × 2 columns</p>\n",
       "</div>"
      ],
      "text/plain": [
       "     Zemepisná_šírka  Zemepisná_dĺžka\n",
       "0          48.186735        17.712248\n",
       "1          48.686941        16.989606\n",
       "2          48.681548        16.995134\n",
       "3          48.858681        17.228630\n",
       "4          48.856515        17.226202\n",
       "..               ...              ...\n",
       "378        48.072076        17.540737\n",
       "379        48.847275        17.233339\n",
       "380        48.399478        17.592253\n",
       "381        48.193810        17.606780\n",
       "382        48.744980        17.305170\n",
       "\n",
       "[383 rows x 2 columns]"
      ]
     },
     "execution_count": 8,
     "metadata": {},
     "output_type": "execute_result"
    }
   ],
   "source": [
    "filtered_bridges[[\"Zemepisná_šírka\", \"Zemepisná_dĺžka\"]]"
   ]
  },
  {
   "cell_type": "code",
   "execution_count": 9,
   "metadata": {},
   "outputs": [
    {
     "data": {
      "text/html": [
       "<div>\n",
       "<style scoped>\n",
       "    .dataframe tbody tr th:only-of-type {\n",
       "        vertical-align: middle;\n",
       "    }\n",
       "\n",
       "    .dataframe tbody tr th {\n",
       "        vertical-align: top;\n",
       "    }\n",
       "\n",
       "    .dataframe thead th {\n",
       "        text-align: right;\n",
       "    }\n",
       "</style>\n",
       "<table border=\"1\" class=\"dataframe\">\n",
       "  <thead>\n",
       "    <tr style=\"text-align: right;\">\n",
       "      <th></th>\n",
       "      <th>ID_mosta</th>\n",
       "      <th>Názov_mosta</th>\n",
       "      <th>Zemepisná_šírka</th>\n",
       "      <th>Zemepisná_dĺžka</th>\n",
       "    </tr>\n",
       "  </thead>\n",
       "  <tbody>\n",
       "    <tr>\n",
       "      <th>167</th>\n",
       "      <td>M114</td>\n",
       "      <td>002038_002 Most cez rieku Morava medzi obcami ...</td>\n",
       "      <td>48.601864</td>\n",
       "      <td>16.934670</td>\n",
       "    </tr>\n",
       "    <tr>\n",
       "      <th>166</th>\n",
       "      <td>M2130</td>\n",
       "      <td>00238-001 Most cez Malolevársky kanál pri Mor....</td>\n",
       "      <td>48.595674</td>\n",
       "      <td>16.971918</td>\n",
       "    </tr>\n",
       "    <tr>\n",
       "      <th>1</th>\n",
       "      <td>M1644</td>\n",
       "      <td>425-031 Most cez rieku Morava pri obci Brodské</td>\n",
       "      <td>48.686941</td>\n",
       "      <td>16.989606</td>\n",
       "    </tr>\n",
       "    <tr>\n",
       "      <th>2</th>\n",
       "      <td>M1523</td>\n",
       "      <td>425-032 Most cez potok Haďmáš pri obci Brodské</td>\n",
       "      <td>48.681548</td>\n",
       "      <td>16.995134</td>\n",
       "    </tr>\n",
       "    <tr>\n",
       "      <th>276</th>\n",
       "      <td>M7437</td>\n",
       "      <td>426007-001 Most cez potok Haďmáš pred obcou Br...</td>\n",
       "      <td>48.680063</td>\n",
       "      <td>17.000024</td>\n",
       "    </tr>\n",
       "    <tr>\n",
       "      <th>...</th>\n",
       "      <td>...</td>\n",
       "      <td>...</td>\n",
       "      <td>...</td>\n",
       "      <td>...</td>\n",
       "    </tr>\n",
       "    <tr>\n",
       "      <th>111</th>\n",
       "      <td>M6700</td>\n",
       "      <td>Most cez zátopové územie pred obcou Hubina</td>\n",
       "      <td>48.617333</td>\n",
       "      <td>17.868863</td>\n",
       "    </tr>\n",
       "    <tr>\n",
       "      <th>366</th>\n",
       "      <td>M5037</td>\n",
       "      <td>Most cez Kľačanský potok - Kľačany</td>\n",
       "      <td>48.388278</td>\n",
       "      <td>17.870323</td>\n",
       "    </tr>\n",
       "    <tr>\n",
       "      <th>124</th>\n",
       "      <td>M5030</td>\n",
       "      <td>Most cez Trhovišťský potok v obci Dolné Trhovište</td>\n",
       "      <td>48.441397</td>\n",
       "      <td>17.891106</td>\n",
       "    </tr>\n",
       "    <tr>\n",
       "      <th>367</th>\n",
       "      <td>M6834</td>\n",
       "      <td>Most cez Bezmenný potok - Dolné Otrokovce</td>\n",
       "      <td>48.464971</td>\n",
       "      <td>17.911507</td>\n",
       "    </tr>\n",
       "    <tr>\n",
       "      <th>125</th>\n",
       "      <td>M1624</td>\n",
       "      <td>Most cez Stoličný potok v obci Merašice</td>\n",
       "      <td>48.463920</td>\n",
       "      <td>17.947165</td>\n",
       "    </tr>\n",
       "  </tbody>\n",
       "</table>\n",
       "<p>383 rows × 4 columns</p>\n",
       "</div>"
      ],
      "text/plain": [
       "    ID_mosta                                        Názov_mosta  \\\n",
       "167     M114  002038_002 Most cez rieku Morava medzi obcami ...   \n",
       "166    M2130  00238-001 Most cez Malolevársky kanál pri Mor....   \n",
       "1      M1644     425-031 Most cez rieku Morava pri obci Brodské   \n",
       "2      M1523     425-032 Most cez potok Haďmáš pri obci Brodské   \n",
       "276    M7437  426007-001 Most cez potok Haďmáš pred obcou Br...   \n",
       "..       ...                                                ...   \n",
       "111    M6700         Most cez zátopové územie pred obcou Hubina   \n",
       "366    M5037                 Most cez Kľačanský potok - Kľačany   \n",
       "124    M5030  Most cez Trhovišťský potok v obci Dolné Trhovište   \n",
       "367    M6834          Most cez Bezmenný potok - Dolné Otrokovce   \n",
       "125    M1624            Most cez Stoličný potok v obci Merašice   \n",
       "\n",
       "     Zemepisná_šírka  Zemepisná_dĺžka  \n",
       "167        48.601864        16.934670  \n",
       "166        48.595674        16.971918  \n",
       "1          48.686941        16.989606  \n",
       "2          48.681548        16.995134  \n",
       "276        48.680063        17.000024  \n",
       "..               ...              ...  \n",
       "111        48.617333        17.868863  \n",
       "366        48.388278        17.870323  \n",
       "124        48.441397        17.891106  \n",
       "367        48.464971        17.911507  \n",
       "125        48.463920        17.947165  \n",
       "\n",
       "[383 rows x 4 columns]"
      ]
     },
     "execution_count": 9,
     "metadata": {},
     "output_type": "execute_result"
    }
   ],
   "source": [
    "sorted_bridges = filtered_bridges.sort_values(\n",
    "    by=[\"Zemepisná_dĺžka\", \"Zemepisná_šírka\"])\n",
    "sorted_bridges[[\"ID_mosta\", \"Názov_mosta\",\n",
    "                \"Zemepisná_šírka\", \"Zemepisná_dĺžka\"]]"
   ]
  },
  {
   "cell_type": "code",
   "execution_count": 10,
   "metadata": {},
   "outputs": [],
   "source": [
    "# Selecting columns for export\n",
    "selected_columns = sorted_bridges[[\n",
    "    \"ID_mosta\", \"Názov_mosta\", \"Zemepisná_šírka\", \"Zemepisná_dĺžka\"]]\n",
    "\n",
    "# Define the file path where you want to save the Excel file\n",
    "excel_file_path = \"sorted_bridges.xlsx\"\n",
    "\n",
    "# Save the selected columns to Excel\n",
    "selected_columns.to_excel(excel_file_path, index=False)"
   ]
  },
  {
   "cell_type": "code",
   "execution_count": 11,
   "metadata": {},
   "outputs": [],
   "source": [
    "import geopandas as gpd\n",
    "# Replace the file path with your actual file path\n",
    "region_path = r'C:\\Users\\Doktor\\Documents\\GitHub\\Bridges\\GeoJSONs\\regions_epsg_4326.geojson'  # doma\n",
    "# file_path = r'C:\\Users\\relia\\Documents\\GitHub\\Bridges\\GeoJSONs\\regions_epsg_4326.geojson' # robota\n",
    "\n",
    "# Load the GeoJSON file into a GeoDataFrame\n",
    "region_gdf = gpd.read_file(region_path)\n",
    "\n",
    "\n",
    "# Replace the file path with your actual file path\n",
    "file_path = r'C:\\Users\\Doktor\\Documents\\GitHub\\Bridges\\GeoJSONs\\cities_regions_districts_epsg_4326.geojson'  # doma\n",
    "\n",
    "# Load the GeoJSON file into a GeoDataFrame\n",
    "settle_gdf = gpd.read_file(file_path)\n",
    "\n",
    "# Define the types to exclude\n",
    "types_to_exclude = ['country', 'airport', 'Psie skaly',\n",
    "                    'county', 'Drevenný kostol', 'Vodopád']\n",
    "\n",
    "# Create a boolean mask to select rows where the 'type' column is not in types_to_exclude\n",
    "# and the 'population' column is not null\n",
    "mask = (~settle_gdf['type'].isin(types_to_exclude)) & (\n",
    "    settle_gdf['population'] > 0)\n",
    "\n",
    "\n",
    "# Apply the mask to filter the GeoDataFrame in place\n",
    "settle_gdf = settle_gdf[mask]"
   ]
  },
  {
   "cell_type": "code",
   "execution_count": 17,
   "metadata": {},
   "outputs": [],
   "source": [
    "bridges_paths = r\"C:\\Users\\Doktor\\Documents\\GitHub\\Bridges\\02_SC_TA\\DT\\sorted_bridges_paths.xlsx\"\n",
    "df_bridges_paths = pd.read_excel(bridges_paths)"
   ]
  },
  {
   "cell_type": "code",
   "execution_count": 18,
   "metadata": {},
   "outputs": [],
   "source": [
    "def convert_to_list(x):\n",
    "    if pd.isnull(x):\n",
    "        return np.nan  # Keep NaN values as they are\n",
    "    elif isinstance(x, str):  # Check if x is a string\n",
    "        if ',' in x:\n",
    "            return [int(i.strip()) for i in x.split(',')]\n",
    "        else:\n",
    "            # This handles the case where the string is just a number\n",
    "            return [int(x)]\n",
    "    else:\n",
    "        return [x]  # Return the number in a list if x is already an int or float\n",
    "\n",
    "\n",
    "df_bridges_paths['Číslo_sčítacieho_úseku'] = df_bridges_paths['Číslo_sčítacieho_úseku'].apply(\n",
    "    convert_to_list)"
   ]
  },
  {
   "cell_type": "code",
   "execution_count": 19,
   "metadata": {},
   "outputs": [],
   "source": [
    "# Merge the two dataframes\n",
    "filtered_bridges = pd.merge(filtered_bridges, df_bridges_paths[[\n",
    "                            'ID_mosta', 'Číslo_sčítacieho_úseku']], on='ID_mosta', how='left')"
   ]
  },
  {
   "cell_type": "code",
   "execution_count": 20,
   "metadata": {},
   "outputs": [],
   "source": [
    "# Define a function to get the S values for each úsek\n",
    "def get_traffic_values(úsek_list):\n",
    "    if isinstance(úsek_list, list):\n",
    "        traffic_values = []\n",
    "        for úsek in úsek_list:\n",
    "            if not pd.isnull(úsek):  # Check if úsek is not NaN\n",
    "                # Get the S value for the matching ÚSEK from df_survey and append it to traffic_values\n",
    "                traffic_value = df_survey.loc[df_survey['ÚSEK']\n",
    "                                              == úsek, 'S'].values\n",
    "                if len(traffic_value) > 0:  # Check if a matching value is found\n",
    "                    traffic_values.append(traffic_value[0])\n",
    "                else:\n",
    "                    # Append NaN if no matching value is found\n",
    "                    traffic_values.append(np.nan)\n",
    "            else:\n",
    "                traffic_values.append(np.nan)  # Append NaN if úsek is NaN\n",
    "        return traffic_values\n",
    "    else:\n",
    "        return [np.nan]  # Return a list with NaN if úsek_list is NaN\n",
    "\n",
    "\n",
    "# Convert the \"ÚSEK\" column to integers\n",
    "df_survey[\"ÚSEK\"] = df_survey[\"ÚSEK\"].astype(int)\n",
    "\n",
    "\n",
    "# Apply the function to create the new \"Traffic\" column\n",
    "filtered_bridges['Traffic'] = filtered_bridges['Číslo_sčítacieho_úseku'].apply(\n",
    "    get_traffic_values)"
   ]
  },
  {
   "cell_type": "code",
   "execution_count": 21,
   "metadata": {},
   "outputs": [],
   "source": [
    "# Define a function to calculate the mean of the S values for each úsek, round up, convert to integer, and replace NaNs with zeros\n",
    "\n",
    "def calculate_mean_traffic(úsek_list):\n",
    "    if isinstance(úsek_list, list):\n",
    "        traffic_values = []\n",
    "        for úsek in úsek_list:\n",
    "            if not pd.isnull(úsek):  # Check if úsek is not NaN\n",
    "                # Get the S value for the matching ÚSEK from df_survey and append it to traffic_values\n",
    "                traffic_value = df_survey.loc[df_survey['ÚSEK']\n",
    "                                              == úsek, 'S'].values\n",
    "                if len(traffic_value) > 0:  # Check if a matching value is found\n",
    "                    traffic_values.append(traffic_value[0])\n",
    "        if traffic_values:\n",
    "            # Calculate the mean of traffic_values\n",
    "            mean_traffic = np.mean(traffic_values)\n",
    "            # Round up and convert to integer\n",
    "            rounded_traffic = int(np.ceil(mean_traffic))\n",
    "            return rounded_traffic\n",
    "        else:\n",
    "            return 0  # Return 0 if no matching value is found\n",
    "    else:\n",
    "        return 0  # Return 0 if úsek_list is NaN\n",
    "\n",
    "\n",
    "# Apply the function to update the \"Traffic\" column\n",
    "filtered_bridges['Traffic'] = filtered_bridges['Číslo_sčítacieho_úseku'].apply(\n",
    "    calculate_mean_traffic)"
   ]
  },
  {
   "cell_type": "code",
   "execution_count": 23,
   "metadata": {},
   "outputs": [
    {
     "data": {
      "application/vnd.plotly.v1+json": {
       "config": {
        "plotlyServerURL": "https://plot.ly"
       },
       "data": [
        {
         "alignmentgroup": "True",
         "bingroup": "x",
         "hovertemplate": "Traffic=%{x}<br>count=%{y}<extra></extra>",
         "legendgroup": "",
         "marker": {
          "color": "#636efa",
          "pattern": {
           "shape": ""
          }
         },
         "name": "",
         "nbinsx": 20,
         "offsetgroup": "",
         "orientation": "v",
         "showlegend": false,
         "type": "histogram",
         "x": [
          12761,
          2116,
          2116,
          2401,
          2401,
          13220,
          13220,
          13220,
          13220,
          2758,
          4767,
          13234,
          13234,
          13234,
          13234,
          14595,
          15955,
          15955,
          15955,
          15955,
          13804,
          13804,
          13804,
          4479,
          4479,
          5378,
          7629,
          7629,
          7629,
          7629,
          8042,
          9015,
          9015,
          7289,
          4038,
          4038,
          1027,
          1027,
          1027,
          1027,
          1027,
          2736,
          2736,
          1648,
          1648,
          1648,
          2452,
          2452,
          2452,
          1699,
          2461,
          2461,
          3087,
          3708,
          1750,
          1750,
          1750,
          3574,
          3574,
          3574,
          3632,
          3632,
          3632,
          3632,
          3632,
          4682,
          5035,
          5248,
          5248,
          4065,
          2856,
          2856,
          2856,
          2856,
          4848,
          4848,
          4248,
          4848,
          2825,
          2026,
          2834,
          3480,
          3480,
          2632,
          2632,
          2632,
          2632,
          5849,
          5849,
          5849,
          5849,
          5849,
          5849,
          7664,
          7664,
          13082,
          7179,
          7179,
          7179,
          5758,
          5287,
          9039,
          13356,
          1497,
          2130,
          2130,
          2130,
          2130,
          2130,
          7822,
          3186,
          3186,
          3232,
          5667,
          4248,
          4248,
          4248,
          7492,
          13979,
          13979,
          17801,
          17801,
          2764,
          2764,
          2764,
          2764,
          8073,
          8073,
          8073,
          3131,
          3131,
          3131,
          3131,
          9981,
          6599,
          3534,
          4175,
          2327,
          1812,
          1812,
          4039,
          5728,
          6146,
          5423,
          1824,
          3506,
          3506,
          3088,
          3088,
          3088,
          3088,
          3540,
          3540,
          3540,
          2685,
          1965,
          1965,
          1965,
          1965,
          1965,
          0,
          0,
          0,
          0,
          3061,
          3061,
          1725,
          1725,
          2863,
          0,
          0,
          0,
          0,
          0,
          1621,
          978,
          978,
          3584,
          3584,
          0,
          0,
          0,
          0,
          2393,
          1176,
          1176,
          0,
          0,
          0,
          0,
          0,
          0,
          0,
          0,
          0,
          0,
          0,
          0,
          0,
          0,
          1628,
          0,
          4317,
          3711,
          3711,
          3711,
          3711,
          0,
          0,
          0,
          0,
          3347,
          3347,
          3347,
          3347,
          0,
          0,
          0,
          0,
          0,
          2274,
          1591,
          1591,
          1591,
          3002,
          3002,
          2888,
          2888,
          2888,
          2888,
          0,
          6819,
          7877,
          0,
          0,
          0,
          0,
          1845,
          2578,
          1502,
          1502,
          2699,
          2156,
          1613,
          0,
          0,
          0,
          0,
          0,
          0,
          3626,
          1688,
          1688,
          1688,
          1603,
          1603,
          1603,
          0,
          1959,
          0,
          0,
          2399,
          2659,
          0,
          0,
          0,
          0,
          0,
          0,
          4023,
          1336,
          1336,
          12318,
          0,
          0,
          0,
          0,
          0,
          0,
          0,
          1047,
          0,
          0,
          0,
          0,
          0,
          0,
          0,
          0,
          0,
          0,
          0,
          0,
          0,
          0,
          0,
          0,
          0,
          2547,
          2547,
          2547,
          1845,
          2759,
          0,
          0,
          0,
          0,
          0,
          1287,
          1287,
          1287,
          1287,
          0,
          3122,
          3122,
          1054,
          1054,
          1054,
          1054,
          1054,
          2164,
          2164,
          0,
          1850,
          1404,
          0,
          885,
          885,
          885,
          885,
          1877,
          1877,
          0,
          0,
          0,
          0,
          0,
          1776,
          0,
          0,
          0,
          0,
          1720,
          1720,
          1720,
          2854,
          2854,
          2854,
          1740,
          2479,
          566,
          12761,
          0,
          3037,
          3037,
          1968,
          1968,
          1968,
          2487,
          3006,
          0,
          0,
          0,
          2513,
          3151,
          0,
          0,
          0,
          0,
          0,
          0,
          0,
          2056,
          0,
          1789,
          0,
          0,
          418,
          0,
          2439,
          3122,
          2543,
          0
         ],
         "xaxis": "x",
         "yaxis": "y"
        }
       ],
       "layout": {
        "barmode": "relative",
        "legend": {
         "tracegroupgap": 0
        },
        "margin": {
         "t": 60
        },
        "template": {
         "data": {
          "bar": [
           {
            "error_x": {
             "color": "#2a3f5f"
            },
            "error_y": {
             "color": "#2a3f5f"
            },
            "marker": {
             "line": {
              "color": "#E5ECF6",
              "width": 0.5
             },
             "pattern": {
              "fillmode": "overlay",
              "size": 10,
              "solidity": 0.2
             }
            },
            "type": "bar"
           }
          ],
          "barpolar": [
           {
            "marker": {
             "line": {
              "color": "#E5ECF6",
              "width": 0.5
             },
             "pattern": {
              "fillmode": "overlay",
              "size": 10,
              "solidity": 0.2
             }
            },
            "type": "barpolar"
           }
          ],
          "carpet": [
           {
            "aaxis": {
             "endlinecolor": "#2a3f5f",
             "gridcolor": "white",
             "linecolor": "white",
             "minorgridcolor": "white",
             "startlinecolor": "#2a3f5f"
            },
            "baxis": {
             "endlinecolor": "#2a3f5f",
             "gridcolor": "white",
             "linecolor": "white",
             "minorgridcolor": "white",
             "startlinecolor": "#2a3f5f"
            },
            "type": "carpet"
           }
          ],
          "choropleth": [
           {
            "colorbar": {
             "outlinewidth": 0,
             "ticks": ""
            },
            "type": "choropleth"
           }
          ],
          "contour": [
           {
            "colorbar": {
             "outlinewidth": 0,
             "ticks": ""
            },
            "colorscale": [
             [
              0,
              "#0d0887"
             ],
             [
              0.1111111111111111,
              "#46039f"
             ],
             [
              0.2222222222222222,
              "#7201a8"
             ],
             [
              0.3333333333333333,
              "#9c179e"
             ],
             [
              0.4444444444444444,
              "#bd3786"
             ],
             [
              0.5555555555555556,
              "#d8576b"
             ],
             [
              0.6666666666666666,
              "#ed7953"
             ],
             [
              0.7777777777777778,
              "#fb9f3a"
             ],
             [
              0.8888888888888888,
              "#fdca26"
             ],
             [
              1,
              "#f0f921"
             ]
            ],
            "type": "contour"
           }
          ],
          "contourcarpet": [
           {
            "colorbar": {
             "outlinewidth": 0,
             "ticks": ""
            },
            "type": "contourcarpet"
           }
          ],
          "heatmap": [
           {
            "colorbar": {
             "outlinewidth": 0,
             "ticks": ""
            },
            "colorscale": [
             [
              0,
              "#0d0887"
             ],
             [
              0.1111111111111111,
              "#46039f"
             ],
             [
              0.2222222222222222,
              "#7201a8"
             ],
             [
              0.3333333333333333,
              "#9c179e"
             ],
             [
              0.4444444444444444,
              "#bd3786"
             ],
             [
              0.5555555555555556,
              "#d8576b"
             ],
             [
              0.6666666666666666,
              "#ed7953"
             ],
             [
              0.7777777777777778,
              "#fb9f3a"
             ],
             [
              0.8888888888888888,
              "#fdca26"
             ],
             [
              1,
              "#f0f921"
             ]
            ],
            "type": "heatmap"
           }
          ],
          "heatmapgl": [
           {
            "colorbar": {
             "outlinewidth": 0,
             "ticks": ""
            },
            "colorscale": [
             [
              0,
              "#0d0887"
             ],
             [
              0.1111111111111111,
              "#46039f"
             ],
             [
              0.2222222222222222,
              "#7201a8"
             ],
             [
              0.3333333333333333,
              "#9c179e"
             ],
             [
              0.4444444444444444,
              "#bd3786"
             ],
             [
              0.5555555555555556,
              "#d8576b"
             ],
             [
              0.6666666666666666,
              "#ed7953"
             ],
             [
              0.7777777777777778,
              "#fb9f3a"
             ],
             [
              0.8888888888888888,
              "#fdca26"
             ],
             [
              1,
              "#f0f921"
             ]
            ],
            "type": "heatmapgl"
           }
          ],
          "histogram": [
           {
            "marker": {
             "pattern": {
              "fillmode": "overlay",
              "size": 10,
              "solidity": 0.2
             }
            },
            "type": "histogram"
           }
          ],
          "histogram2d": [
           {
            "colorbar": {
             "outlinewidth": 0,
             "ticks": ""
            },
            "colorscale": [
             [
              0,
              "#0d0887"
             ],
             [
              0.1111111111111111,
              "#46039f"
             ],
             [
              0.2222222222222222,
              "#7201a8"
             ],
             [
              0.3333333333333333,
              "#9c179e"
             ],
             [
              0.4444444444444444,
              "#bd3786"
             ],
             [
              0.5555555555555556,
              "#d8576b"
             ],
             [
              0.6666666666666666,
              "#ed7953"
             ],
             [
              0.7777777777777778,
              "#fb9f3a"
             ],
             [
              0.8888888888888888,
              "#fdca26"
             ],
             [
              1,
              "#f0f921"
             ]
            ],
            "type": "histogram2d"
           }
          ],
          "histogram2dcontour": [
           {
            "colorbar": {
             "outlinewidth": 0,
             "ticks": ""
            },
            "colorscale": [
             [
              0,
              "#0d0887"
             ],
             [
              0.1111111111111111,
              "#46039f"
             ],
             [
              0.2222222222222222,
              "#7201a8"
             ],
             [
              0.3333333333333333,
              "#9c179e"
             ],
             [
              0.4444444444444444,
              "#bd3786"
             ],
             [
              0.5555555555555556,
              "#d8576b"
             ],
             [
              0.6666666666666666,
              "#ed7953"
             ],
             [
              0.7777777777777778,
              "#fb9f3a"
             ],
             [
              0.8888888888888888,
              "#fdca26"
             ],
             [
              1,
              "#f0f921"
             ]
            ],
            "type": "histogram2dcontour"
           }
          ],
          "mesh3d": [
           {
            "colorbar": {
             "outlinewidth": 0,
             "ticks": ""
            },
            "type": "mesh3d"
           }
          ],
          "parcoords": [
           {
            "line": {
             "colorbar": {
              "outlinewidth": 0,
              "ticks": ""
             }
            },
            "type": "parcoords"
           }
          ],
          "pie": [
           {
            "automargin": true,
            "type": "pie"
           }
          ],
          "scatter": [
           {
            "fillpattern": {
             "fillmode": "overlay",
             "size": 10,
             "solidity": 0.2
            },
            "type": "scatter"
           }
          ],
          "scatter3d": [
           {
            "line": {
             "colorbar": {
              "outlinewidth": 0,
              "ticks": ""
             }
            },
            "marker": {
             "colorbar": {
              "outlinewidth": 0,
              "ticks": ""
             }
            },
            "type": "scatter3d"
           }
          ],
          "scattercarpet": [
           {
            "marker": {
             "colorbar": {
              "outlinewidth": 0,
              "ticks": ""
             }
            },
            "type": "scattercarpet"
           }
          ],
          "scattergeo": [
           {
            "marker": {
             "colorbar": {
              "outlinewidth": 0,
              "ticks": ""
             }
            },
            "type": "scattergeo"
           }
          ],
          "scattergl": [
           {
            "marker": {
             "colorbar": {
              "outlinewidth": 0,
              "ticks": ""
             }
            },
            "type": "scattergl"
           }
          ],
          "scattermapbox": [
           {
            "marker": {
             "colorbar": {
              "outlinewidth": 0,
              "ticks": ""
             }
            },
            "type": "scattermapbox"
           }
          ],
          "scatterpolar": [
           {
            "marker": {
             "colorbar": {
              "outlinewidth": 0,
              "ticks": ""
             }
            },
            "type": "scatterpolar"
           }
          ],
          "scatterpolargl": [
           {
            "marker": {
             "colorbar": {
              "outlinewidth": 0,
              "ticks": ""
             }
            },
            "type": "scatterpolargl"
           }
          ],
          "scatterternary": [
           {
            "marker": {
             "colorbar": {
              "outlinewidth": 0,
              "ticks": ""
             }
            },
            "type": "scatterternary"
           }
          ],
          "surface": [
           {
            "colorbar": {
             "outlinewidth": 0,
             "ticks": ""
            },
            "colorscale": [
             [
              0,
              "#0d0887"
             ],
             [
              0.1111111111111111,
              "#46039f"
             ],
             [
              0.2222222222222222,
              "#7201a8"
             ],
             [
              0.3333333333333333,
              "#9c179e"
             ],
             [
              0.4444444444444444,
              "#bd3786"
             ],
             [
              0.5555555555555556,
              "#d8576b"
             ],
             [
              0.6666666666666666,
              "#ed7953"
             ],
             [
              0.7777777777777778,
              "#fb9f3a"
             ],
             [
              0.8888888888888888,
              "#fdca26"
             ],
             [
              1,
              "#f0f921"
             ]
            ],
            "type": "surface"
           }
          ],
          "table": [
           {
            "cells": {
             "fill": {
              "color": "#EBF0F8"
             },
             "line": {
              "color": "white"
             }
            },
            "header": {
             "fill": {
              "color": "#C8D4E3"
             },
             "line": {
              "color": "white"
             }
            },
            "type": "table"
           }
          ]
         },
         "layout": {
          "annotationdefaults": {
           "arrowcolor": "#2a3f5f",
           "arrowhead": 0,
           "arrowwidth": 1
          },
          "autotypenumbers": "strict",
          "coloraxis": {
           "colorbar": {
            "outlinewidth": 0,
            "ticks": ""
           }
          },
          "colorscale": {
           "diverging": [
            [
             0,
             "#8e0152"
            ],
            [
             0.1,
             "#c51b7d"
            ],
            [
             0.2,
             "#de77ae"
            ],
            [
             0.3,
             "#f1b6da"
            ],
            [
             0.4,
             "#fde0ef"
            ],
            [
             0.5,
             "#f7f7f7"
            ],
            [
             0.6,
             "#e6f5d0"
            ],
            [
             0.7,
             "#b8e186"
            ],
            [
             0.8,
             "#7fbc41"
            ],
            [
             0.9,
             "#4d9221"
            ],
            [
             1,
             "#276419"
            ]
           ],
           "sequential": [
            [
             0,
             "#0d0887"
            ],
            [
             0.1111111111111111,
             "#46039f"
            ],
            [
             0.2222222222222222,
             "#7201a8"
            ],
            [
             0.3333333333333333,
             "#9c179e"
            ],
            [
             0.4444444444444444,
             "#bd3786"
            ],
            [
             0.5555555555555556,
             "#d8576b"
            ],
            [
             0.6666666666666666,
             "#ed7953"
            ],
            [
             0.7777777777777778,
             "#fb9f3a"
            ],
            [
             0.8888888888888888,
             "#fdca26"
            ],
            [
             1,
             "#f0f921"
            ]
           ],
           "sequentialminus": [
            [
             0,
             "#0d0887"
            ],
            [
             0.1111111111111111,
             "#46039f"
            ],
            [
             0.2222222222222222,
             "#7201a8"
            ],
            [
             0.3333333333333333,
             "#9c179e"
            ],
            [
             0.4444444444444444,
             "#bd3786"
            ],
            [
             0.5555555555555556,
             "#d8576b"
            ],
            [
             0.6666666666666666,
             "#ed7953"
            ],
            [
             0.7777777777777778,
             "#fb9f3a"
            ],
            [
             0.8888888888888888,
             "#fdca26"
            ],
            [
             1,
             "#f0f921"
            ]
           ]
          },
          "colorway": [
           "#636efa",
           "#EF553B",
           "#00cc96",
           "#ab63fa",
           "#FFA15A",
           "#19d3f3",
           "#FF6692",
           "#B6E880",
           "#FF97FF",
           "#FECB52"
          ],
          "font": {
           "color": "#2a3f5f"
          },
          "geo": {
           "bgcolor": "white",
           "lakecolor": "white",
           "landcolor": "#E5ECF6",
           "showlakes": true,
           "showland": true,
           "subunitcolor": "white"
          },
          "hoverlabel": {
           "align": "left"
          },
          "hovermode": "closest",
          "mapbox": {
           "style": "light"
          },
          "paper_bgcolor": "white",
          "plot_bgcolor": "#E5ECF6",
          "polar": {
           "angularaxis": {
            "gridcolor": "white",
            "linecolor": "white",
            "ticks": ""
           },
           "bgcolor": "#E5ECF6",
           "radialaxis": {
            "gridcolor": "white",
            "linecolor": "white",
            "ticks": ""
           }
          },
          "scene": {
           "xaxis": {
            "backgroundcolor": "#E5ECF6",
            "gridcolor": "white",
            "gridwidth": 2,
            "linecolor": "white",
            "showbackground": true,
            "ticks": "",
            "zerolinecolor": "white"
           },
           "yaxis": {
            "backgroundcolor": "#E5ECF6",
            "gridcolor": "white",
            "gridwidth": 2,
            "linecolor": "white",
            "showbackground": true,
            "ticks": "",
            "zerolinecolor": "white"
           },
           "zaxis": {
            "backgroundcolor": "#E5ECF6",
            "gridcolor": "white",
            "gridwidth": 2,
            "linecolor": "white",
            "showbackground": true,
            "ticks": "",
            "zerolinecolor": "white"
           }
          },
          "shapedefaults": {
           "line": {
            "color": "#2a3f5f"
           }
          },
          "ternary": {
           "aaxis": {
            "gridcolor": "white",
            "linecolor": "white",
            "ticks": ""
           },
           "baxis": {
            "gridcolor": "white",
            "linecolor": "white",
            "ticks": ""
           },
           "bgcolor": "#E5ECF6",
           "caxis": {
            "gridcolor": "white",
            "linecolor": "white",
            "ticks": ""
           }
          },
          "title": {
           "x": 0.05
          },
          "xaxis": {
           "automargin": true,
           "gridcolor": "white",
           "linecolor": "white",
           "ticks": "",
           "title": {
            "standoff": 15
           },
           "zerolinecolor": "white",
           "zerolinewidth": 2
          },
          "yaxis": {
           "automargin": true,
           "gridcolor": "white",
           "linecolor": "white",
           "ticks": "",
           "title": {
            "standoff": 15
           },
           "zerolinecolor": "white",
           "zerolinewidth": 2
          }
         }
        },
        "title": {
         "text": "Traffic Histogram"
        },
        "xaxis": {
         "anchor": "y",
         "domain": [
          0,
          1
         ],
         "title": {
          "text": "Traffic"
         }
        },
        "yaxis": {
         "anchor": "x",
         "domain": [
          0,
          1
         ],
         "title": {
          "text": "Frequency"
         }
        }
       }
      }
     },
     "metadata": {},
     "output_type": "display_data"
    }
   ],
   "source": [
    "import plotly.express as px\n",
    "\n",
    "# Create a histogram of the \"Traffic\" column\n",
    "fig = px.histogram(filtered_bridges, x='Traffic', nbins=20, labels={\n",
    "                   'Traffic': 'Traffic', 'count': 'Frequency'})\n",
    "\n",
    "# Update layout\n",
    "fig.update_layout(title='Traffic Histogram',\n",
    "                  xaxis_title='Traffic', yaxis_title='Frequency')\n",
    "\n",
    "# Show the plot\n",
    "fig.show()"
   ]
  },
  {
   "cell_type": "code",
   "execution_count": 24,
   "metadata": {},
   "outputs": [],
   "source": [
    "from scipy.spatial import cKDTree\n",
    "import numpy as np\n",
    "import pandas as pd\n",
    "\n",
    "# Assuming filtered_bridges and settle_gdf are already defined as shown in your question\n",
    "\n",
    "# Convert the settlement GeoDataFrame's geometry to a list of (latitude, longitude) tuples\n",
    "settlement_coords = np.array(\n",
    "    list(settle_gdf.geometry.apply(lambda geom: (geom.y, geom.x))))\n",
    "\n",
    "# Similarly, prepare the bridge coordinates as a NumPy array\n",
    "bridge_coords = filtered_bridges[[\n",
    "    'Zemepisná_šírka', 'Zemepisná_dĺžka']].to_numpy()\n",
    "\n",
    "# Create a cKDTree object for the settlements\n",
    "tree = cKDTree(settlement_coords)"
   ]
  },
  {
   "cell_type": "code",
   "execution_count": 25,
   "metadata": {},
   "outputs": [],
   "source": [
    "# Query the tree for the nearest settlement to each bridge\n",
    "distances, indices = tree.query(bridge_coords)\n",
    "\n",
    "# Use the indices to extract the nearest settlement's name and population\n",
    "filtered_bridges['Nearest_name'] = settle_gdf.iloc[indices]['name'].values\n",
    "filtered_bridges['Nearest_population'] = settle_gdf.iloc[indices]['population'].values"
   ]
  },
  {
   "cell_type": "code",
   "execution_count": 26,
   "metadata": {},
   "outputs": [],
   "source": [
    "# Query the tree for the three nearest settlements to each bridge\n",
    "distances, indices = tree.query(bridge_coords, k=3)\n",
    "\n",
    "# Use the indices to create a dictionary for each bridge, with settlement names as keys and populations as values\n",
    "filtered_bridges['three_nearest'] = [\n",
    "    {settle_gdf.iloc[idx]['name']: settle_gdf.iloc[idx]\n",
    "        ['population'] for idx in index_set}\n",
    "    for index_set in indices\n",
    "]"
   ]
  },
  {
   "cell_type": "code",
   "execution_count": 27,
   "metadata": {},
   "outputs": [],
   "source": [
    "# Initialize a list to store the mean populations\n",
    "mean_populations = []\n",
    "\n",
    "# Iterate over each row in the filtered_bridges DataFrame\n",
    "for index, row in filtered_bridges.iterrows():\n",
    "    # Initialize variables for the sum of populations and number of settlements\n",
    "    sum_populations = 0\n",
    "    num_settlements = 0\n",
    "\n",
    "    # Check if 'three_nearest' contains dictionary-like object\n",
    "    if 'three_nearest' in row and isinstance(row['three_nearest'], dict):\n",
    "        # Extract nearest settlements and their populations from the dictionary\n",
    "        nearest_settlements = row['three_nearest']\n",
    "        num_settlements = len(nearest_settlements)\n",
    "\n",
    "        # Calculate the sum of populations\n",
    "        sum_populations = sum(nearest_settlements.values())\n",
    "\n",
    "    # Calculate the mean population\n",
    "    mean_population = int(\n",
    "        sum_populations / num_settlements) if num_settlements > 0 else 0\n",
    "    mean_populations.append(mean_population)\n",
    "\n",
    "# Add the list of mean populations as a new column named 'mean_population' to the filtered_bridges DataFrame\n",
    "filtered_bridges['mean_population'] = mean_populations"
   ]
  },
  {
   "cell_type": "code",
   "execution_count": 28,
   "metadata": {},
   "outputs": [],
   "source": [
    "# Calculate traffic density and store it in a new column named 'traffic_density'\n",
    "filtered_bridges['traffic_density'] = filtered_bridges['Traffic'] / \\\n",
    "    filtered_bridges['mean_population']\n",
    "\n",
    "# Shorten the column name to 'traffic_density' and round the values to two decimal places\n",
    "filtered_bridges['traffic_density'] = filtered_bridges['traffic_density'].round(\n",
    "    2)"
   ]
  },
  {
   "cell_type": "code",
   "execution_count": 30,
   "metadata": {},
   "outputs": [
    {
     "name": "stdout",
     "output_type": "stream",
     "text": [
      "Median Traffic Density for cesta II. triedy: 2.04\n",
      "Median Traffic Density for cesta III. triedy: 1.4649999999999999\n"
     ]
    }
   ],
   "source": [
    "# Filter out bridges with zero traffic values\n",
    "filtered_bridges_traffic = filtered_bridges[filtered_bridges[\"Traffic\"] > 0]\n",
    "\n",
    "# Calculate the median traffic density for bridges on \"cesta II. triedy\"\n",
    "median_traffic_density_cesta_ii = filtered_bridges_traffic[filtered_bridges_traffic[\n",
    "    \"Trieda_PK\"] == \"cesta II. triedy\"][\"traffic_density\"].median()\n",
    "\n",
    "# Calculate the median traffic density for bridges on \"cesta III. triedy\"\n",
    "median_traffic_density_cesta_iii = filtered_bridges_traffic[filtered_bridges_traffic[\n",
    "    \"Trieda_PK\"] == \"cesta III. triedy\"][\"traffic_density\"].median()\n",
    "\n",
    "print(\"Median Traffic Density for cesta II. triedy:\",\n",
    "      median_traffic_density_cesta_ii)\n",
    "print(\"Median Traffic Density for cesta III. triedy:\",\n",
    "      median_traffic_density_cesta_iii)"
   ]
  },
  {
   "cell_type": "code",
   "execution_count": 31,
   "metadata": {},
   "outputs": [
    {
     "data": {
      "application/vnd.plotly.v1+json": {
       "config": {
        "plotlyServerURL": "https://plot.ly"
       },
       "data": [
        {
         "alignmentgroup": "True",
         "bingroup": "x",
         "hovertemplate": "traffic_density=%{x}<br>count=%{y}<extra></extra>",
         "legendgroup": "",
         "marker": {
          "color": "#636efa",
          "pattern": {
           "shape": ""
          }
         },
         "name": "",
         "offsetgroup": "",
         "orientation": "v",
         "showlegend": false,
         "type": "histogram",
         "x": [
          1.53,
          1.47,
          1.63,
          1.63,
          0.81,
          0.81,
          0,
          0,
          0,
          0,
          1.44,
          1.44,
          0.98,
          0.66,
          5.07,
          0,
          0,
          0,
          0,
          0,
          3.35,
          1.25,
          1.11,
          4.05,
          4.05,
          0,
          0,
          0,
          0,
          0.32,
          1.58,
          1.58,
          0,
          0,
          0,
          0,
          0,
          0,
          0,
          0,
          0,
          0,
          0,
          0,
          0,
          0,
          0.85,
          0,
          3.03,
          2.61,
          2.61,
          2.38,
          2.38,
          0,
          0,
          0,
          0,
          3.85,
          4.31,
          4.31,
          4.31,
          0,
          0,
          0,
          0,
          0,
          1.77,
          2.1,
          2.1,
          2.1,
          0.12,
          0.12,
          0.28,
          3.35,
          4.7,
          4.01,
          0,
          2.64,
          2.66,
          0,
          0,
          0,
          0,
          1.2,
          1.05,
          1.32,
          1.32,
          2.11,
          1.72,
          1.03,
          0,
          0,
          0,
          0,
          0,
          0,
          0.43,
          1.6,
          2.44,
          2.44,
          1.68,
          1.68,
          1.68,
          0,
          0.95,
          0,
          0,
          1.17,
          0,
          0,
          0,
          0,
          0,
          0,
          1.24,
          0.41,
          0.37,
          10.3,
          0,
          0,
          0,
          0,
          0,
          0,
          0,
          0.28,
          0,
          0,
          0,
          0,
          0,
          0,
          0,
          0,
          0,
          0,
          0,
          0,
          0,
          0,
          0,
          0,
          0,
          1.46,
          1.46,
          1.46,
          2.5,
          3.07,
          0,
          0,
          0,
          0,
          0,
          1.24,
          1.24,
          1.71,
          2.03,
          0,
          0.13,
          2.57,
          1.02,
          1.02,
          1.02,
          2.4,
          1.96,
          2.15,
          3.72,
          0,
          3.89,
          1.39,
          0,
          0.65,
          0.68,
          0.68,
          0.5,
          1.38,
          1.38,
          0,
          0,
          0,
          0,
          0,
          0.96,
          0,
          0,
          0,
          0,
          2.42,
          2.42,
          1.71,
          1.28,
          1.26,
          1.26,
          2.45,
          4.5,
          0.77,
          17.27,
          0,
          1.29,
          1.29,
          1.48,
          1.68,
          1.27,
          0.81,
          0.97,
          0,
          0,
          0,
          1.44,
          5.17,
          0,
          0,
          0,
          0,
          0,
          0,
          0,
          0.72,
          0,
          1.13,
          0,
          0,
          0.61,
          0,
          3.63,
          0.13,
          0.72,
          0
         ],
         "xaxis": "x",
         "yaxis": "y"
        }
       ],
       "layout": {
        "barmode": "relative",
        "legend": {
         "tracegroupgap": 0
        },
        "template": {
         "data": {
          "bar": [
           {
            "error_x": {
             "color": "#2a3f5f"
            },
            "error_y": {
             "color": "#2a3f5f"
            },
            "marker": {
             "line": {
              "color": "#E5ECF6",
              "width": 0.5
             },
             "pattern": {
              "fillmode": "overlay",
              "size": 10,
              "solidity": 0.2
             }
            },
            "type": "bar"
           }
          ],
          "barpolar": [
           {
            "marker": {
             "line": {
              "color": "#E5ECF6",
              "width": 0.5
             },
             "pattern": {
              "fillmode": "overlay",
              "size": 10,
              "solidity": 0.2
             }
            },
            "type": "barpolar"
           }
          ],
          "carpet": [
           {
            "aaxis": {
             "endlinecolor": "#2a3f5f",
             "gridcolor": "white",
             "linecolor": "white",
             "minorgridcolor": "white",
             "startlinecolor": "#2a3f5f"
            },
            "baxis": {
             "endlinecolor": "#2a3f5f",
             "gridcolor": "white",
             "linecolor": "white",
             "minorgridcolor": "white",
             "startlinecolor": "#2a3f5f"
            },
            "type": "carpet"
           }
          ],
          "choropleth": [
           {
            "colorbar": {
             "outlinewidth": 0,
             "ticks": ""
            },
            "type": "choropleth"
           }
          ],
          "contour": [
           {
            "colorbar": {
             "outlinewidth": 0,
             "ticks": ""
            },
            "colorscale": [
             [
              0,
              "#0d0887"
             ],
             [
              0.1111111111111111,
              "#46039f"
             ],
             [
              0.2222222222222222,
              "#7201a8"
             ],
             [
              0.3333333333333333,
              "#9c179e"
             ],
             [
              0.4444444444444444,
              "#bd3786"
             ],
             [
              0.5555555555555556,
              "#d8576b"
             ],
             [
              0.6666666666666666,
              "#ed7953"
             ],
             [
              0.7777777777777778,
              "#fb9f3a"
             ],
             [
              0.8888888888888888,
              "#fdca26"
             ],
             [
              1,
              "#f0f921"
             ]
            ],
            "type": "contour"
           }
          ],
          "contourcarpet": [
           {
            "colorbar": {
             "outlinewidth": 0,
             "ticks": ""
            },
            "type": "contourcarpet"
           }
          ],
          "heatmap": [
           {
            "colorbar": {
             "outlinewidth": 0,
             "ticks": ""
            },
            "colorscale": [
             [
              0,
              "#0d0887"
             ],
             [
              0.1111111111111111,
              "#46039f"
             ],
             [
              0.2222222222222222,
              "#7201a8"
             ],
             [
              0.3333333333333333,
              "#9c179e"
             ],
             [
              0.4444444444444444,
              "#bd3786"
             ],
             [
              0.5555555555555556,
              "#d8576b"
             ],
             [
              0.6666666666666666,
              "#ed7953"
             ],
             [
              0.7777777777777778,
              "#fb9f3a"
             ],
             [
              0.8888888888888888,
              "#fdca26"
             ],
             [
              1,
              "#f0f921"
             ]
            ],
            "type": "heatmap"
           }
          ],
          "heatmapgl": [
           {
            "colorbar": {
             "outlinewidth": 0,
             "ticks": ""
            },
            "colorscale": [
             [
              0,
              "#0d0887"
             ],
             [
              0.1111111111111111,
              "#46039f"
             ],
             [
              0.2222222222222222,
              "#7201a8"
             ],
             [
              0.3333333333333333,
              "#9c179e"
             ],
             [
              0.4444444444444444,
              "#bd3786"
             ],
             [
              0.5555555555555556,
              "#d8576b"
             ],
             [
              0.6666666666666666,
              "#ed7953"
             ],
             [
              0.7777777777777778,
              "#fb9f3a"
             ],
             [
              0.8888888888888888,
              "#fdca26"
             ],
             [
              1,
              "#f0f921"
             ]
            ],
            "type": "heatmapgl"
           }
          ],
          "histogram": [
           {
            "marker": {
             "pattern": {
              "fillmode": "overlay",
              "size": 10,
              "solidity": 0.2
             }
            },
            "type": "histogram"
           }
          ],
          "histogram2d": [
           {
            "colorbar": {
             "outlinewidth": 0,
             "ticks": ""
            },
            "colorscale": [
             [
              0,
              "#0d0887"
             ],
             [
              0.1111111111111111,
              "#46039f"
             ],
             [
              0.2222222222222222,
              "#7201a8"
             ],
             [
              0.3333333333333333,
              "#9c179e"
             ],
             [
              0.4444444444444444,
              "#bd3786"
             ],
             [
              0.5555555555555556,
              "#d8576b"
             ],
             [
              0.6666666666666666,
              "#ed7953"
             ],
             [
              0.7777777777777778,
              "#fb9f3a"
             ],
             [
              0.8888888888888888,
              "#fdca26"
             ],
             [
              1,
              "#f0f921"
             ]
            ],
            "type": "histogram2d"
           }
          ],
          "histogram2dcontour": [
           {
            "colorbar": {
             "outlinewidth": 0,
             "ticks": ""
            },
            "colorscale": [
             [
              0,
              "#0d0887"
             ],
             [
              0.1111111111111111,
              "#46039f"
             ],
             [
              0.2222222222222222,
              "#7201a8"
             ],
             [
              0.3333333333333333,
              "#9c179e"
             ],
             [
              0.4444444444444444,
              "#bd3786"
             ],
             [
              0.5555555555555556,
              "#d8576b"
             ],
             [
              0.6666666666666666,
              "#ed7953"
             ],
             [
              0.7777777777777778,
              "#fb9f3a"
             ],
             [
              0.8888888888888888,
              "#fdca26"
             ],
             [
              1,
              "#f0f921"
             ]
            ],
            "type": "histogram2dcontour"
           }
          ],
          "mesh3d": [
           {
            "colorbar": {
             "outlinewidth": 0,
             "ticks": ""
            },
            "type": "mesh3d"
           }
          ],
          "parcoords": [
           {
            "line": {
             "colorbar": {
              "outlinewidth": 0,
              "ticks": ""
             }
            },
            "type": "parcoords"
           }
          ],
          "pie": [
           {
            "automargin": true,
            "type": "pie"
           }
          ],
          "scatter": [
           {
            "fillpattern": {
             "fillmode": "overlay",
             "size": 10,
             "solidity": 0.2
            },
            "type": "scatter"
           }
          ],
          "scatter3d": [
           {
            "line": {
             "colorbar": {
              "outlinewidth": 0,
              "ticks": ""
             }
            },
            "marker": {
             "colorbar": {
              "outlinewidth": 0,
              "ticks": ""
             }
            },
            "type": "scatter3d"
           }
          ],
          "scattercarpet": [
           {
            "marker": {
             "colorbar": {
              "outlinewidth": 0,
              "ticks": ""
             }
            },
            "type": "scattercarpet"
           }
          ],
          "scattergeo": [
           {
            "marker": {
             "colorbar": {
              "outlinewidth": 0,
              "ticks": ""
             }
            },
            "type": "scattergeo"
           }
          ],
          "scattergl": [
           {
            "marker": {
             "colorbar": {
              "outlinewidth": 0,
              "ticks": ""
             }
            },
            "type": "scattergl"
           }
          ],
          "scattermapbox": [
           {
            "marker": {
             "colorbar": {
              "outlinewidth": 0,
              "ticks": ""
             }
            },
            "type": "scattermapbox"
           }
          ],
          "scatterpolar": [
           {
            "marker": {
             "colorbar": {
              "outlinewidth": 0,
              "ticks": ""
             }
            },
            "type": "scatterpolar"
           }
          ],
          "scatterpolargl": [
           {
            "marker": {
             "colorbar": {
              "outlinewidth": 0,
              "ticks": ""
             }
            },
            "type": "scatterpolargl"
           }
          ],
          "scatterternary": [
           {
            "marker": {
             "colorbar": {
              "outlinewidth": 0,
              "ticks": ""
             }
            },
            "type": "scatterternary"
           }
          ],
          "surface": [
           {
            "colorbar": {
             "outlinewidth": 0,
             "ticks": ""
            },
            "colorscale": [
             [
              0,
              "#0d0887"
             ],
             [
              0.1111111111111111,
              "#46039f"
             ],
             [
              0.2222222222222222,
              "#7201a8"
             ],
             [
              0.3333333333333333,
              "#9c179e"
             ],
             [
              0.4444444444444444,
              "#bd3786"
             ],
             [
              0.5555555555555556,
              "#d8576b"
             ],
             [
              0.6666666666666666,
              "#ed7953"
             ],
             [
              0.7777777777777778,
              "#fb9f3a"
             ],
             [
              0.8888888888888888,
              "#fdca26"
             ],
             [
              1,
              "#f0f921"
             ]
            ],
            "type": "surface"
           }
          ],
          "table": [
           {
            "cells": {
             "fill": {
              "color": "#EBF0F8"
             },
             "line": {
              "color": "white"
             }
            },
            "header": {
             "fill": {
              "color": "#C8D4E3"
             },
             "line": {
              "color": "white"
             }
            },
            "type": "table"
           }
          ]
         },
         "layout": {
          "annotationdefaults": {
           "arrowcolor": "#2a3f5f",
           "arrowhead": 0,
           "arrowwidth": 1
          },
          "autotypenumbers": "strict",
          "coloraxis": {
           "colorbar": {
            "outlinewidth": 0,
            "ticks": ""
           }
          },
          "colorscale": {
           "diverging": [
            [
             0,
             "#8e0152"
            ],
            [
             0.1,
             "#c51b7d"
            ],
            [
             0.2,
             "#de77ae"
            ],
            [
             0.3,
             "#f1b6da"
            ],
            [
             0.4,
             "#fde0ef"
            ],
            [
             0.5,
             "#f7f7f7"
            ],
            [
             0.6,
             "#e6f5d0"
            ],
            [
             0.7,
             "#b8e186"
            ],
            [
             0.8,
             "#7fbc41"
            ],
            [
             0.9,
             "#4d9221"
            ],
            [
             1,
             "#276419"
            ]
           ],
           "sequential": [
            [
             0,
             "#0d0887"
            ],
            [
             0.1111111111111111,
             "#46039f"
            ],
            [
             0.2222222222222222,
             "#7201a8"
            ],
            [
             0.3333333333333333,
             "#9c179e"
            ],
            [
             0.4444444444444444,
             "#bd3786"
            ],
            [
             0.5555555555555556,
             "#d8576b"
            ],
            [
             0.6666666666666666,
             "#ed7953"
            ],
            [
             0.7777777777777778,
             "#fb9f3a"
            ],
            [
             0.8888888888888888,
             "#fdca26"
            ],
            [
             1,
             "#f0f921"
            ]
           ],
           "sequentialminus": [
            [
             0,
             "#0d0887"
            ],
            [
             0.1111111111111111,
             "#46039f"
            ],
            [
             0.2222222222222222,
             "#7201a8"
            ],
            [
             0.3333333333333333,
             "#9c179e"
            ],
            [
             0.4444444444444444,
             "#bd3786"
            ],
            [
             0.5555555555555556,
             "#d8576b"
            ],
            [
             0.6666666666666666,
             "#ed7953"
            ],
            [
             0.7777777777777778,
             "#fb9f3a"
            ],
            [
             0.8888888888888888,
             "#fdca26"
            ],
            [
             1,
             "#f0f921"
            ]
           ]
          },
          "colorway": [
           "#636efa",
           "#EF553B",
           "#00cc96",
           "#ab63fa",
           "#FFA15A",
           "#19d3f3",
           "#FF6692",
           "#B6E880",
           "#FF97FF",
           "#FECB52"
          ],
          "font": {
           "color": "#2a3f5f"
          },
          "geo": {
           "bgcolor": "white",
           "lakecolor": "white",
           "landcolor": "#E5ECF6",
           "showlakes": true,
           "showland": true,
           "subunitcolor": "white"
          },
          "hoverlabel": {
           "align": "left"
          },
          "hovermode": "closest",
          "mapbox": {
           "style": "light"
          },
          "paper_bgcolor": "white",
          "plot_bgcolor": "#E5ECF6",
          "polar": {
           "angularaxis": {
            "gridcolor": "white",
            "linecolor": "white",
            "ticks": ""
           },
           "bgcolor": "#E5ECF6",
           "radialaxis": {
            "gridcolor": "white",
            "linecolor": "white",
            "ticks": ""
           }
          },
          "scene": {
           "xaxis": {
            "backgroundcolor": "#E5ECF6",
            "gridcolor": "white",
            "gridwidth": 2,
            "linecolor": "white",
            "showbackground": true,
            "ticks": "",
            "zerolinecolor": "white"
           },
           "yaxis": {
            "backgroundcolor": "#E5ECF6",
            "gridcolor": "white",
            "gridwidth": 2,
            "linecolor": "white",
            "showbackground": true,
            "ticks": "",
            "zerolinecolor": "white"
           },
           "zaxis": {
            "backgroundcolor": "#E5ECF6",
            "gridcolor": "white",
            "gridwidth": 2,
            "linecolor": "white",
            "showbackground": true,
            "ticks": "",
            "zerolinecolor": "white"
           }
          },
          "shapedefaults": {
           "line": {
            "color": "#2a3f5f"
           }
          },
          "ternary": {
           "aaxis": {
            "gridcolor": "white",
            "linecolor": "white",
            "ticks": ""
           },
           "baxis": {
            "gridcolor": "white",
            "linecolor": "white",
            "ticks": ""
           },
           "bgcolor": "#E5ECF6",
           "caxis": {
            "gridcolor": "white",
            "linecolor": "white",
            "ticks": ""
           }
          },
          "title": {
           "x": 0.05
          },
          "xaxis": {
           "automargin": true,
           "gridcolor": "white",
           "linecolor": "white",
           "ticks": "",
           "title": {
            "standoff": 15
           },
           "zerolinecolor": "white",
           "zerolinewidth": 2
          },
          "yaxis": {
           "automargin": true,
           "gridcolor": "white",
           "linecolor": "white",
           "ticks": "",
           "title": {
            "standoff": 15
           },
           "zerolinecolor": "white",
           "zerolinewidth": 2
          }
         }
        },
        "title": {
         "text": "Traffic Density Histogram - cesta III. triedy"
        },
        "xaxis": {
         "anchor": "y",
         "domain": [
          0,
          1
         ],
         "title": {
          "text": "traffic_density"
         }
        },
        "yaxis": {
         "anchor": "x",
         "domain": [
          0,
          1
         ],
         "title": {
          "text": "count"
         }
        }
       }
      }
     },
     "metadata": {},
     "output_type": "display_data"
    }
   ],
   "source": [
    "import plotly.express as px\n",
    "\n",
    "# Filter bridges on \"cesta III. triedy\"\n",
    "cesta_iii_data = filtered_bridges[filtered_bridges[\"Trieda_PK\"]\n",
    "                                  == \"cesta III. triedy\"]\n",
    "\n",
    "# Create a histogram of the traffic_density column\n",
    "fig = px.histogram(cesta_iii_data, x='traffic_density',\n",
    "                   title='Traffic Density Histogram - cesta III. triedy')\n",
    "\n",
    "# Show the plot\n",
    "fig.show()"
   ]
  },
  {
   "cell_type": "code",
   "execution_count": 32,
   "metadata": {},
   "outputs": [],
   "source": [
    "import folium\n",
    "\n",
    "\n",
    "def plot_filtered_bridges(df, gdf, regions):\n",
    "    # Find the average coordinates for the initial map center\n",
    "    avg_lat = df['Zemepisná_šírka'].mean()\n",
    "    avg_long = df['Zemepisná_dĺžka'].mean()\n",
    "\n",
    "    # Create the map with custom tileset\n",
    "    m = folium.Map(location=[avg_lat, avg_long],\n",
    "                   zoom_start=10, tiles=\"Cartodb positron\")\n",
    "\n",
    "    # Colors for the markers\n",
    "    colors = [\"#ff6600\", \"#0066FF\"]\n",
    "\n",
    "    # Bridge icon\n",
    "    bridge_icon_url = \"https://raw.githubusercontent.com/Medvedku/Assets/main/markers/bridge_marker_Cartodb_orng.svg\"\n",
    "\n",
    "    for index, row in df.iterrows():\n",
    "        ic_size = 50\n",
    "        bridge_icon = folium.CustomIcon(\n",
    "            icon_image=bridge_icon_url,\n",
    "            icon_size=(ic_size, ic_size),\n",
    "            icon_anchor=(ic_size/2, ic_size)\n",
    "        )\n",
    "\n",
    "        popup_html = f\"<table style='width:400px;'>\"\n",
    "        popup_html += f\"<tr><th style='text-align:left;'>Názov mosta:</th><td>{row['Názov_mosta']}</td></tr>\"\n",
    "        popup_html += f\"<tr><th style='text-align:left;'>Trieda PK:</th><td>{row['Trieda_PK']}</td></tr>\"\n",
    "\n",
    "        popup_html += \"<tr><th style='text-align:left;'>Dĺžka premostenia:</th><td>\"\n",
    "        if pd.notna(row['Dĺžka_premostenia']):\n",
    "            popup_html += f\"{float(row['Dĺžka_premostenia'])} m\"\n",
    "        else:\n",
    "            popup_html += \"Unknown\"\n",
    "        popup_html += \"</td></tr>\"\n",
    "\n",
    "        popup_html += f\"<tr><th style='text-align:left;'>Druh konštrukcie:</th><td>{row['Druh_konštrukcie']}</td></tr>\"\n",
    "        popup_html += f\"<tr><th style='text-align:left;'>Materiál:</th><td>{row['Material']}</td></tr>\"\n",
    "        popup_html += f\"<tr><th style='text-align:left;'>Rok postavenia:</th><td>{row['Rok_postavenia']}</td></tr>\"\n",
    "        popup_html += f\"<tr><th style='text-align:left;'>GPS Coordinates:</th><td>({row['Zemepisná_šírka']:.4f}, {row['Zemepisná_dĺžka']:.4f})</td></tr>\"\n",
    "        popup_html += f\"</table>\"\n",
    "\n",
    "        popup = folium.Popup(popup_html, parse_html=False)\n",
    "\n",
    "        tooltip_html = f\"<table style='width:400px;'>\"\n",
    "        tooltip_html += f\"<tr><th style='text-align:left;'>Most {row['ID_mosta']}</th></tr>\"\n",
    "        tooltip_html += f\"<tr><td style='text-align:left;'>Traffic:</td><td>{row['Traffic']}</td></tr>\"\n",
    "\n",
    "        # Initialize a variable for the sum of populations\n",
    "        sum_populations = 0\n",
    "        # Initialize a counter for the number of settlements\n",
    "        num_settlements = 0\n",
    "\n",
    "        # Check if 'three_nearest' contains dictionary-like object\n",
    "        if 'three_nearest' in row and isinstance(row['three_nearest'], dict):\n",
    "            # Extract nearest settlements and their populations from the dictionary\n",
    "            nearest_settlements = row['three_nearest']\n",
    "            num_settlements = len(nearest_settlements)\n",
    "\n",
    "            # Add information about all nearest settlements to the tooltip\n",
    "            for i, (settlement, population) in enumerate(nearest_settlements.items(), 1):\n",
    "                tooltip_html += f\"<tr><td style='text-align:left;'>Nearest Settlement {i}:</td><td>{settlement}: Population - {population}</td></tr>\"\n",
    "                sum_populations += population  # Add population to total sum\n",
    "\n",
    "            # Calculate the mean population if there are any settlements\n",
    "            if num_settlements > 0:\n",
    "                mean_population = sum_populations / num_settlements\n",
    "                tooltip_html += f\"<tr><td style='text-align:left;'>Mean Population:</td><td>{mean_population:.0f}</td></tr>\"\n",
    "            else:\n",
    "                tooltip_html += \"<tr><td style='text-align:left;'>Nearest Settlement:</td><td>None</td></tr>\"\n",
    "        else:\n",
    "            # No nearest settlements information available\n",
    "            tooltip_html += \"<tr><td style='text-align:left;'>Nearest Settlement:</td><td>Unknown</td></tr>\"\n",
    "\n",
    "        tooltip_html += \"</table>\"\n",
    "\n",
    "        # Add the marker with the custom icon and popup\n",
    "        folium.Marker(\n",
    "            [row['Zemepisná_šírka'], row['Zemepisná_dĺžka']],\n",
    "            icon=bridge_icon,\n",
    "            popup=popup,\n",
    "            tooltip=tooltip_html\n",
    "        ).add_to(m)\n",
    "\n",
    "    # Filter the GeoDataFrame to include only the specified regions\n",
    "    region_gdf = gdf[gdf['NM4'].isin(regions)]\n",
    "\n",
    "    # Define custom style for the regions' polygons\n",
    "    def style_function(x): return {\n",
    "        'fillColor': '#FF660011', 'color': '#FF660055', 'weight': 5}\n",
    "\n",
    "    # Add the boundaries of the specified regions to the map with the custom style\n",
    "    folium.GeoJson(region_gdf, name='Regions Boundaries',\n",
    "                   style_function=style_function).add_to(m)\n",
    "\n",
    "    return m\n",
    "\n",
    "\n",
    "# Usage example (replace 'filtered_bridges' with your filtered DataFrame and adjust regions as needed)\n",
    "regions_to_plot = ['Trnavský']\n",
    "map = plot_filtered_bridges(filtered_bridges, region_gdf, regions_to_plot)\n",
    "map.save('Bridges_TA_all.html')\n",
    "# map"
   ]
  },
  {
   "cell_type": "code",
   "execution_count": 33,
   "metadata": {},
   "outputs": [],
   "source": [
    "filtered_bridges.to_excel(\n",
    "    'filtered_bridges_TA_with_settlements.xlsx', index=False)"
   ]
  }
 ],
 "metadata": {
  "kernelspec": {
   "display_name": "Python 3",
   "language": "python",
   "name": "python3"
  },
  "language_info": {
   "codemirror_mode": {
    "name": "ipython",
    "version": 3
   },
   "file_extension": ".py",
   "mimetype": "text/x-python",
   "name": "python",
   "nbconvert_exporter": "python",
   "pygments_lexer": "ipython3",
   "version": "3.11.4"
  }
 },
 "nbformat": 4,
 "nbformat_minor": 2
}
