{
 "cells": [
  {
   "cell_type": "code",
   "execution_count": 1,
   "metadata": {},
   "outputs": [
    {
     "name": "stderr",
     "output_type": "stream",
     "text": [
      "C:\\Users\\relia\\AppData\\Local\\Temp\\ipykernel_3836\\1842005464.py:21: DtypeWarning: Columns (5,16) have mixed types. Specify dtype option on import or set low_memory=False.\n",
      "  df_nodes = pd.read_csv(nodes_path, encoding='utf-8', delimiter=',')\n",
      "C:\\Users\\relia\\AppData\\Local\\Temp\\ipykernel_3836\\1842005464.py:22: DtypeWarning: Columns (10,11,12,25,26,27) have mixed types. Specify dtype option on import or set low_memory=False.\n",
      "  df_roads = pd.read_csv(roads_path, encoding='utf-8', delimiter=',')\n"
     ]
    }
   ],
   "source": [
    "import pandas as pd\n",
    "\n",
    "# # DOMA\n",
    "# # Define the file path\n",
    "# nodes_path = r\"C:\\Users\\Doktor\\Documents\\GitHub\\Bridges\\Data\\Nodes_processed.csv\"\n",
    "# roads_path = r\"C:\\Users\\Doktor\\Documents\\GitHub\\Bridges\\Data\\Roads_processed.csv\"\n",
    "# bridges_path = r\"C:\\Users\\Doktor\\Documents\\GitHub\\Bridges\\Data\\Bridges_processed.csv\"\n",
    "# bridges_selected_path = r\"C:\\Users\\Doktor\\Documents\\GitHub\\Bridges\\Data\\Bridges_selected.csv\"\n",
    "# survey_path = r\"C:\\Users\\Doktor\\Documents\\GitHub\\Bridges\\Data\\surveys\\Survey.csv\"\n",
    "\n",
    "\n",
    "# Práca\n",
    "# Define the file path\n",
    "nodes_path = r\"C:\\Users\\relia\\Documents\\GitHub\\Bridges\\Data\\Nodes_processed.csv\"\n",
    "roads_path = r\"C:\\Users\\relia\\Documents\\GitHub\\Bridges\\Data\\Roads_processed.csv\"\n",
    "bridges_path = r\"C:\\Users\\relia\\Documents\\GitHub\\Bridges\\Data\\Bridges_processed.csv\"\n",
    "bridges_selected_path = r\"C:\\Users\\relia\\Documents\\GitHub\\Bridges\\Data\\Bridges_selected.csv\"\n",
    "survey_path = r\"C:\\Users\\relia\\Documents\\GitHub\\Bridges\\Data\\surveys\\Survey.csv\"\n",
    "\n",
    "# Load the CSV data into a DataFrame\n",
    "df_nodes = pd.read_csv(nodes_path, encoding='utf-8', delimiter=',')\n",
    "df_roads = pd.read_csv(roads_path, encoding='utf-8', delimiter=',')\n",
    "df_bridges_all = pd.read_csv(bridges_path, encoding='utf-8', delimiter=',')\n",
    "df_bridges_sel = pd.read_csv(\n",
    "    bridges_selected_path, encoding='utf-8', delimiter=',')\n",
    "df_survey = pd.read_csv(survey_path, encoding='utf-8', delimiter=',')"
   ]
  },
  {
   "cell_type": "code",
   "execution_count": 2,
   "metadata": {},
   "outputs": [
    {
     "data": {
      "text/plain": [
       "Index(['ID_mosta', 'Trieda_PK', 'Číslo_PK', 'Most_DC', 'Názov_mosta', 'ID_DC',\n",
       "       'správcovské_číslo', 'Zemepisná_dĺžka', 'Zemepisná_šírka', 'Výška',\n",
       "       'Druh_konštrukcie', 'Material', 'Normálna_zaťažiteľnosť',\n",
       "       'Výhradná_zaťažiteľnosť_t', 'Výnimočná_zaťažiteľnosť_t',\n",
       "       'Spôsob_stanovenia', 'Predmet_premostenia', 'Rok_postavenia',\n",
       "       'Zaťažovacia_trieda_STN', 'Počet_otvorov', 'Dĺžka_premostenia',\n",
       "       'Dĺžka_nosnej_konštrukcie_m', 'Volná_šírka_mosta',\n",
       "       'Šírka_medzi_obrubami_m', 'Plocha_mosnej_konštrukcie_m2',\n",
       "       'Plocha_mosta_m2', 'Vlastník_úseku', 'Správca_úseku', 'Okres',\n",
       "       'Smer_úseku', 'Typ_úseku', 'Počiatočný_uzol', 'Koncový_uzol', 'úsek_ID',\n",
       "       'úsekové_staničenie_začiatku_DC_m',\n",
       "       'Kilometrovníkové_staničenie_začiatku_DC_km',\n",
       "       'Kumulatívne_staničenie_začiatku_DC_km', 'Poradie', 'Kraj', 'n_2012',\n",
       "       'n_2013', 'n_2014', 'n_2015', 'n_2016', 'n_2017', 'n_2018', 'n_2019',\n",
       "       'n_2020', 'n_2021', 'n_2022', 'n_2023'],\n",
       "      dtype='object')"
      ]
     },
     "execution_count": 2,
     "metadata": {},
     "output_type": "execute_result"
    }
   ],
   "source": [
    "df_bridges_all['Dĺžka_premostenia'] = pd.to_numeric(\n",
    "    df_bridges_all['Dĺžka_premostenia'], errors='coerce')\n",
    "\n",
    "df_bridges_all.columns"
   ]
  },
  {
   "cell_type": "code",
   "execution_count": 13,
   "metadata": {},
   "outputs": [
    {
     "data": {
      "text/plain": [
       "['monolitický železobetón',\n",
       " 'prefabrikovaný železobetón',\n",
       " 'prefabrikovaný predpätý betón',\n",
       " 'monolitický predpätý betón',\n",
       " 'Nezistený',\n",
       " 'oceľ -  plnostenná',\n",
       " 'monolitický prostý betón',\n",
       " 'kameň',\n",
       " 'spriahnutá betón-betón',\n",
       " 'iný materiál',\n",
       " 'spriahnutá oceľ-betón',\n",
       " 'oceľobetón',\n",
       " 'tehla',\n",
       " 'oceľ -  priehradová']"
      ]
     },
     "execution_count": 13,
     "metadata": {},
     "output_type": "execute_result"
    }
   ],
   "source": [
    "list(df_bridges_all[\"Material\"].value_counts().keys())"
   ]
  },
  {
   "cell_type": "code",
   "execution_count": 14,
   "metadata": {},
   "outputs": [
    {
     "data": {
      "text/plain": [
       "(10, 51)"
      ]
     },
     "execution_count": 14,
     "metadata": {},
     "output_type": "execute_result"
    }
   ],
   "source": [
    "# Filter bridges in the Nitra region with Trieda_PK as \"cesta I. triedy\" or \"cesta II. triedy\"\n",
    "filtered_bridges = df_bridges_all[\n",
    "    ((df_bridges_all['Správca_úseku'] == \"SUC TTSK - TT\") |\n",
    "     (df_bridges_all['Správca_úseku'] == \"SUC TTSK - DS\") |\n",
    "     (df_bridges_all['Správca_úseku'] == \"SUC TTSK - SE\")) &\n",
    "    (df_bridges_all['n_2023'] >= 6) &\n",
    "    (df_bridges_all['Material'] == \"prefabrikovaný predpätý betón\")\n",
    "\n",
    "]\n",
    "\n",
    "# Display the filtered DataFrame\n",
    "filtered_bridges.shape"
   ]
  },
  {
   "cell_type": "code",
   "execution_count": 26,
   "metadata": {},
   "outputs": [
    {
     "name": "stderr",
     "output_type": "stream",
     "text": [
      "C:\\Users\\relia\\AppData\\Local\\Temp\\ipykernel_3836\\4199055612.py:10: SettingWithCopyWarning:\n",
      "\n",
      "\n",
      "A value is trying to be set on a copy of a slice from a DataFrame.\n",
      "Try using .loc[row_indexer,col_indexer] = value instead\n",
      "\n",
      "See the caveats in the documentation: https://pandas.pydata.org/pandas-docs/stable/user_guide/indexing.html#returning-a-view-versus-a-copy\n",
      "\n"
     ]
    }
   ],
   "source": [
    "# Define a function to generate Google Maps link\n",
    "def generate_google_maps_link(lat, lon):\n",
    "    # Generate Google Maps link\n",
    "    google_maps_link = f\"https://www.google.com/maps?q={round(lat, 4)},{\n",
    "        round(lon, 4)}\"\n",
    "    return google_maps_link\n",
    "\n",
    "\n",
    "# Add GPS coordinates (latitude and longitude) rounded to 4 decimal places\n",
    "filtered_bridges['link'] = filtered_bridges.apply(lambda row: generate_google_maps_link(\n",
    "    row['Zemepisná_šírka'], row['Zemepisná_dĺžka']), axis=1)"
   ]
  },
  {
   "cell_type": "code",
   "execution_count": 27,
   "metadata": {},
   "outputs": [
    {
     "data": {
      "text/html": [
       "<div>\n",
       "<style scoped>\n",
       "    .dataframe tbody tr th:only-of-type {\n",
       "        vertical-align: middle;\n",
       "    }\n",
       "\n",
       "    .dataframe tbody tr th {\n",
       "        vertical-align: top;\n",
       "    }\n",
       "\n",
       "    .dataframe thead th {\n",
       "        text-align: right;\n",
       "    }\n",
       "</style>\n",
       "<table border=\"1\" class=\"dataframe\">\n",
       "  <thead>\n",
       "    <tr style=\"text-align: right;\">\n",
       "      <th></th>\n",
       "      <th>ID_mosta</th>\n",
       "      <th>Názov_mosta</th>\n",
       "      <th>Dĺžka_premostenia</th>\n",
       "      <th>Správca_úseku</th>\n",
       "      <th>link</th>\n",
       "    </tr>\n",
       "  </thead>\n",
       "  <tbody>\n",
       "    <tr>\n",
       "      <th>1832</th>\n",
       "      <td>M433</td>\n",
       "      <td>426-021 Most cez potok Chvojnica pred mestom H...</td>\n",
       "      <td>14.50</td>\n",
       "      <td>SUC TTSK - SE</td>\n",
       "      <td>https://www.google.com/maps?q=48.8248,17.1672</td>\n",
       "    </tr>\n",
       "    <tr>\n",
       "      <th>1912</th>\n",
       "      <td>M6043</td>\n",
       "      <td>500-018 Most cez potok Vrbovčianku v obci Sobo...</td>\n",
       "      <td>17.75</td>\n",
       "      <td>SUC TTSK - SE</td>\n",
       "      <td>https://www.google.com/maps?q=48.7356,17.4082</td>\n",
       "    </tr>\n",
       "    <tr>\n",
       "      <th>1978</th>\n",
       "      <td>M4819</td>\n",
       "      <td>503-003 Most cez Malý Dunaj za obcou Zlaté Klasy</td>\n",
       "      <td>48.00</td>\n",
       "      <td>SUC TTSK - DS</td>\n",
       "      <td>https://www.google.com/maps?q=48.1443,17.4327</td>\n",
       "    </tr>\n",
       "    <tr>\n",
       "      <th>2034</th>\n",
       "      <td>M2629</td>\n",
       "      <td>506-002 Most cez kanál v k.ú. obce Trstená na ...</td>\n",
       "      <td>16.45</td>\n",
       "      <td>SUC TTSK - DS</td>\n",
       "      <td>https://www.google.com/maps?q=47.9282,17.4878</td>\n",
       "    </tr>\n",
       "    <tr>\n",
       "      <th>2132</th>\n",
       "      <td>M392</td>\n",
       "      <td>Most cez potok Čierna voda za obcou Velké Uľany</td>\n",
       "      <td>20.30</td>\n",
       "      <td>SUC TTSK - TT</td>\n",
       "      <td>https://www.google.com/maps?q=48.1916,17.5968</td>\n",
       "    </tr>\n",
       "    <tr>\n",
       "      <th>2868</th>\n",
       "      <td>M5581</td>\n",
       "      <td>Most nad železničnou traťou Bratislava - Štúro...</td>\n",
       "      <td>106.60</td>\n",
       "      <td>SUC TTSK - TT</td>\n",
       "      <td>https://www.google.com/maps?q=48.1844,17.729</td>\n",
       "    </tr>\n",
       "    <tr>\n",
       "      <th>2871</th>\n",
       "      <td>M999</td>\n",
       "      <td>Most cez potok Čierna voda v obci Kráľov Brod</td>\n",
       "      <td>48.00</td>\n",
       "      <td>SUC TTSK - TT</td>\n",
       "      <td>https://www.google.com/maps?q=48.0589,17.8239</td>\n",
       "    </tr>\n",
       "    <tr>\n",
       "      <th>3309</th>\n",
       "      <td>M5312</td>\n",
       "      <td>00227-009 Most cez rieku Myjavu Šaštín</td>\n",
       "      <td>47.70</td>\n",
       "      <td>SUC TTSK - SE</td>\n",
       "      <td>https://www.google.com/maps?q=48.6403,17.1435</td>\n",
       "    </tr>\n",
       "    <tr>\n",
       "      <th>5347</th>\n",
       "      <td>M2694</td>\n",
       "      <td>Most cez inundačné územie pred Jaslovskými Boh...</td>\n",
       "      <td>11.64</td>\n",
       "      <td>SUC TTSK - TT</td>\n",
       "      <td>https://www.google.com/maps?q=48.4787,17.6512</td>\n",
       "    </tr>\n",
       "    <tr>\n",
       "      <th>5719</th>\n",
       "      <td>M6054</td>\n",
       "      <td>Most cez Dudváh pred obcou Siladice</td>\n",
       "      <td>19.50</td>\n",
       "      <td>SUC TTSK - TT</td>\n",
       "      <td>https://www.google.com/maps?q=48.3661,17.7362</td>\n",
       "    </tr>\n",
       "  </tbody>\n",
       "</table>\n",
       "</div>"
      ],
      "text/plain": [
       "     ID_mosta                                        Názov_mosta  \\\n",
       "1832     M433  426-021 Most cez potok Chvojnica pred mestom H...   \n",
       "1912    M6043  500-018 Most cez potok Vrbovčianku v obci Sobo...   \n",
       "1978    M4819   503-003 Most cez Malý Dunaj za obcou Zlaté Klasy   \n",
       "2034    M2629  506-002 Most cez kanál v k.ú. obce Trstená na ...   \n",
       "2132     M392    Most cez potok Čierna voda za obcou Velké Uľany   \n",
       "2868    M5581  Most nad železničnou traťou Bratislava - Štúro...   \n",
       "2871     M999      Most cez potok Čierna voda v obci Kráľov Brod   \n",
       "3309    M5312             00227-009 Most cez rieku Myjavu Šaštín   \n",
       "5347    M2694  Most cez inundačné územie pred Jaslovskými Boh...   \n",
       "5719    M6054                Most cez Dudváh pred obcou Siladice   \n",
       "\n",
       "      Dĺžka_premostenia  Správca_úseku  \\\n",
       "1832              14.50  SUC TTSK - SE   \n",
       "1912              17.75  SUC TTSK - SE   \n",
       "1978              48.00  SUC TTSK - DS   \n",
       "2034              16.45  SUC TTSK - DS   \n",
       "2132              20.30  SUC TTSK - TT   \n",
       "2868             106.60  SUC TTSK - TT   \n",
       "2871              48.00  SUC TTSK - TT   \n",
       "3309              47.70  SUC TTSK - SE   \n",
       "5347              11.64  SUC TTSK - TT   \n",
       "5719              19.50  SUC TTSK - TT   \n",
       "\n",
       "                                               link  \n",
       "1832  https://www.google.com/maps?q=48.8248,17.1672  \n",
       "1912  https://www.google.com/maps?q=48.7356,17.4082  \n",
       "1978  https://www.google.com/maps?q=48.1443,17.4327  \n",
       "2034  https://www.google.com/maps?q=47.9282,17.4878  \n",
       "2132  https://www.google.com/maps?q=48.1916,17.5968  \n",
       "2868   https://www.google.com/maps?q=48.1844,17.729  \n",
       "2871  https://www.google.com/maps?q=48.0589,17.8239  \n",
       "3309  https://www.google.com/maps?q=48.6403,17.1435  \n",
       "5347  https://www.google.com/maps?q=48.4787,17.6512  \n",
       "5719  https://www.google.com/maps?q=48.3661,17.7362  "
      ]
     },
     "execution_count": 27,
     "metadata": {},
     "output_type": "execute_result"
    }
   ],
   "source": [
    "filtered_bridges[[\"ID_mosta\", \"Názov_mosta\", \"Dĺžka_premostenia\",\n",
    "                  \"Správca_úseku\", \"link\"]]"
   ]
  },
  {
   "cell_type": "code",
   "execution_count": 29,
   "metadata": {},
   "outputs": [],
   "source": [
    "# Define the file path for saving the Excel file\n",
    "file_path = \"filtered_bridges_info.xlsx\"\n",
    "\n",
    "# Select the desired columns\n",
    "selected_columns = [\"ID_mosta\", \"Názov_mosta\",\n",
    "                    \"Dĺžka_premostenia\", \"Správca_úseku\", \"link\"]\n",
    "\n",
    "# Save the DataFrame to an Excel file with selected columns\n",
    "filtered_bridges[selected_columns].to_excel(file_path, index=False)"
   ]
  },
  {
   "cell_type": "code",
   "execution_count": 85,
   "metadata": {},
   "outputs": [
    {
     "data": {
      "text/plain": [
       "n_2023\n",
       "4    179\n",
       "5    103\n",
       "6     38\n",
       "3     34\n",
       "2     13\n",
       "7      9\n",
       "1      7\n",
       "Name: count, dtype: int64"
      ]
     },
     "execution_count": 85,
     "metadata": {},
     "output_type": "execute_result"
    }
   ],
   "source": [
    "filtered_bridges[\"n_2023\"].value_counts()"
   ]
  },
  {
   "cell_type": "code",
   "execution_count": 86,
   "metadata": {},
   "outputs": [
    {
     "data": {
      "text/plain": [
       "Material\n",
       "monolitický železobetón          173\n",
       "prefabrikovaný železobetón       103\n",
       "prefabrikovaný predpätý betón     78\n",
       "tehla                             11\n",
       "oceľ -  plnostenná                 9\n",
       "monolitický predpätý betón         4\n",
       "kameň                              2\n",
       "monolitický prostý betón           2\n",
       "oceľ -  priehradová                1\n",
       "Name: count, dtype: int64"
      ]
     },
     "execution_count": 86,
     "metadata": {},
     "output_type": "execute_result"
    }
   ],
   "source": [
    "filtered_bridges[\"Material\"].value_counts()"
   ]
  },
  {
   "cell_type": "code",
   "execution_count": 16,
   "metadata": {},
   "outputs": [],
   "source": [
    "import plotly.io as pio\n",
    "\n",
    "# Load the custom font\n",
    "pio.templates[\"custom_template\"] = pio.templates[\"plotly\"]\n",
    "pio.templates[\"custom_template\"][\"layout\"][\"font\"][\"family\"] = \"Montserrat\"\n",
    "pio.templates.default = \"custom_template\""
   ]
  },
  {
   "cell_type": "code",
   "execution_count": 17,
   "metadata": {},
   "outputs": [
    {
     "data": {
      "application/vnd.plotly.v1+json": {
       "config": {
        "plotlyServerURL": "https://plot.ly"
       },
       "data": [
        {
         "alignmentgroup": "True",
         "hovertemplate": "Material=%{x}<br>Počet=%{y}<br>text=%{text}<extra></extra>",
         "legendgroup": "",
         "marker": {
          "color": "#FF6600",
          "pattern": {
           "shape": ""
          }
         },
         "name": "",
         "offsetgroup": "",
         "orientation": "v",
         "showlegend": false,
         "text": [
          10
         ],
         "textposition": "auto",
         "type": "bar",
         "x": [
          "prefabrikovaný predpätý betón"
         ],
         "xaxis": "x",
         "y": [
          10
         ],
         "yaxis": "y"
        }
       ],
       "layout": {
        "barmode": "relative",
        "font": {
         "family": "Montserrat",
         "size": 14
        },
        "legend": {
         "tracegroupgap": 0
        },
        "margin": {
         "b": 10,
         "l": 10,
         "r": 10,
         "t": 50
        },
        "plot_bgcolor": "#eeeeee",
        "template": {
         "data": {
          "bar": [
           {
            "error_x": {
             "color": "#2a3f5f"
            },
            "error_y": {
             "color": "#2a3f5f"
            },
            "marker": {
             "line": {
              "color": "#E5ECF6",
              "width": 0.5
             },
             "pattern": {
              "fillmode": "overlay",
              "size": 10,
              "solidity": 0.2
             }
            },
            "type": "bar"
           }
          ],
          "barpolar": [
           {
            "marker": {
             "line": {
              "color": "#E5ECF6",
              "width": 0.5
             },
             "pattern": {
              "fillmode": "overlay",
              "size": 10,
              "solidity": 0.2
             }
            },
            "type": "barpolar"
           }
          ],
          "carpet": [
           {
            "aaxis": {
             "endlinecolor": "#2a3f5f",
             "gridcolor": "white",
             "linecolor": "white",
             "minorgridcolor": "white",
             "startlinecolor": "#2a3f5f"
            },
            "baxis": {
             "endlinecolor": "#2a3f5f",
             "gridcolor": "white",
             "linecolor": "white",
             "minorgridcolor": "white",
             "startlinecolor": "#2a3f5f"
            },
            "type": "carpet"
           }
          ],
          "choropleth": [
           {
            "colorbar": {
             "outlinewidth": 0,
             "ticks": ""
            },
            "type": "choropleth"
           }
          ],
          "contour": [
           {
            "colorbar": {
             "outlinewidth": 0,
             "ticks": ""
            },
            "colorscale": [
             [
              0,
              "#0d0887"
             ],
             [
              0.1111111111111111,
              "#46039f"
             ],
             [
              0.2222222222222222,
              "#7201a8"
             ],
             [
              0.3333333333333333,
              "#9c179e"
             ],
             [
              0.4444444444444444,
              "#bd3786"
             ],
             [
              0.5555555555555556,
              "#d8576b"
             ],
             [
              0.6666666666666666,
              "#ed7953"
             ],
             [
              0.7777777777777778,
              "#fb9f3a"
             ],
             [
              0.8888888888888888,
              "#fdca26"
             ],
             [
              1,
              "#f0f921"
             ]
            ],
            "type": "contour"
           }
          ],
          "contourcarpet": [
           {
            "colorbar": {
             "outlinewidth": 0,
             "ticks": ""
            },
            "type": "contourcarpet"
           }
          ],
          "heatmap": [
           {
            "colorbar": {
             "outlinewidth": 0,
             "ticks": ""
            },
            "colorscale": [
             [
              0,
              "#0d0887"
             ],
             [
              0.1111111111111111,
              "#46039f"
             ],
             [
              0.2222222222222222,
              "#7201a8"
             ],
             [
              0.3333333333333333,
              "#9c179e"
             ],
             [
              0.4444444444444444,
              "#bd3786"
             ],
             [
              0.5555555555555556,
              "#d8576b"
             ],
             [
              0.6666666666666666,
              "#ed7953"
             ],
             [
              0.7777777777777778,
              "#fb9f3a"
             ],
             [
              0.8888888888888888,
              "#fdca26"
             ],
             [
              1,
              "#f0f921"
             ]
            ],
            "type": "heatmap"
           }
          ],
          "heatmapgl": [
           {
            "colorbar": {
             "outlinewidth": 0,
             "ticks": ""
            },
            "colorscale": [
             [
              0,
              "#0d0887"
             ],
             [
              0.1111111111111111,
              "#46039f"
             ],
             [
              0.2222222222222222,
              "#7201a8"
             ],
             [
              0.3333333333333333,
              "#9c179e"
             ],
             [
              0.4444444444444444,
              "#bd3786"
             ],
             [
              0.5555555555555556,
              "#d8576b"
             ],
             [
              0.6666666666666666,
              "#ed7953"
             ],
             [
              0.7777777777777778,
              "#fb9f3a"
             ],
             [
              0.8888888888888888,
              "#fdca26"
             ],
             [
              1,
              "#f0f921"
             ]
            ],
            "type": "heatmapgl"
           }
          ],
          "histogram": [
           {
            "marker": {
             "pattern": {
              "fillmode": "overlay",
              "size": 10,
              "solidity": 0.2
             }
            },
            "type": "histogram"
           }
          ],
          "histogram2d": [
           {
            "colorbar": {
             "outlinewidth": 0,
             "ticks": ""
            },
            "colorscale": [
             [
              0,
              "#0d0887"
             ],
             [
              0.1111111111111111,
              "#46039f"
             ],
             [
              0.2222222222222222,
              "#7201a8"
             ],
             [
              0.3333333333333333,
              "#9c179e"
             ],
             [
              0.4444444444444444,
              "#bd3786"
             ],
             [
              0.5555555555555556,
              "#d8576b"
             ],
             [
              0.6666666666666666,
              "#ed7953"
             ],
             [
              0.7777777777777778,
              "#fb9f3a"
             ],
             [
              0.8888888888888888,
              "#fdca26"
             ],
             [
              1,
              "#f0f921"
             ]
            ],
            "type": "histogram2d"
           }
          ],
          "histogram2dcontour": [
           {
            "colorbar": {
             "outlinewidth": 0,
             "ticks": ""
            },
            "colorscale": [
             [
              0,
              "#0d0887"
             ],
             [
              0.1111111111111111,
              "#46039f"
             ],
             [
              0.2222222222222222,
              "#7201a8"
             ],
             [
              0.3333333333333333,
              "#9c179e"
             ],
             [
              0.4444444444444444,
              "#bd3786"
             ],
             [
              0.5555555555555556,
              "#d8576b"
             ],
             [
              0.6666666666666666,
              "#ed7953"
             ],
             [
              0.7777777777777778,
              "#fb9f3a"
             ],
             [
              0.8888888888888888,
              "#fdca26"
             ],
             [
              1,
              "#f0f921"
             ]
            ],
            "type": "histogram2dcontour"
           }
          ],
          "mesh3d": [
           {
            "colorbar": {
             "outlinewidth": 0,
             "ticks": ""
            },
            "type": "mesh3d"
           }
          ],
          "parcoords": [
           {
            "line": {
             "colorbar": {
              "outlinewidth": 0,
              "ticks": ""
             }
            },
            "type": "parcoords"
           }
          ],
          "pie": [
           {
            "automargin": true,
            "type": "pie"
           }
          ],
          "scatter": [
           {
            "fillpattern": {
             "fillmode": "overlay",
             "size": 10,
             "solidity": 0.2
            },
            "type": "scatter"
           }
          ],
          "scatter3d": [
           {
            "line": {
             "colorbar": {
              "outlinewidth": 0,
              "ticks": ""
             }
            },
            "marker": {
             "colorbar": {
              "outlinewidth": 0,
              "ticks": ""
             }
            },
            "type": "scatter3d"
           }
          ],
          "scattercarpet": [
           {
            "marker": {
             "colorbar": {
              "outlinewidth": 0,
              "ticks": ""
             }
            },
            "type": "scattercarpet"
           }
          ],
          "scattergeo": [
           {
            "marker": {
             "colorbar": {
              "outlinewidth": 0,
              "ticks": ""
             }
            },
            "type": "scattergeo"
           }
          ],
          "scattergl": [
           {
            "marker": {
             "colorbar": {
              "outlinewidth": 0,
              "ticks": ""
             }
            },
            "type": "scattergl"
           }
          ],
          "scattermapbox": [
           {
            "marker": {
             "colorbar": {
              "outlinewidth": 0,
              "ticks": ""
             }
            },
            "type": "scattermapbox"
           }
          ],
          "scatterpolar": [
           {
            "marker": {
             "colorbar": {
              "outlinewidth": 0,
              "ticks": ""
             }
            },
            "type": "scatterpolar"
           }
          ],
          "scatterpolargl": [
           {
            "marker": {
             "colorbar": {
              "outlinewidth": 0,
              "ticks": ""
             }
            },
            "type": "scatterpolargl"
           }
          ],
          "scatterternary": [
           {
            "marker": {
             "colorbar": {
              "outlinewidth": 0,
              "ticks": ""
             }
            },
            "type": "scatterternary"
           }
          ],
          "surface": [
           {
            "colorbar": {
             "outlinewidth": 0,
             "ticks": ""
            },
            "colorscale": [
             [
              0,
              "#0d0887"
             ],
             [
              0.1111111111111111,
              "#46039f"
             ],
             [
              0.2222222222222222,
              "#7201a8"
             ],
             [
              0.3333333333333333,
              "#9c179e"
             ],
             [
              0.4444444444444444,
              "#bd3786"
             ],
             [
              0.5555555555555556,
              "#d8576b"
             ],
             [
              0.6666666666666666,
              "#ed7953"
             ],
             [
              0.7777777777777778,
              "#fb9f3a"
             ],
             [
              0.8888888888888888,
              "#fdca26"
             ],
             [
              1,
              "#f0f921"
             ]
            ],
            "type": "surface"
           }
          ],
          "table": [
           {
            "cells": {
             "fill": {
              "color": "#EBF0F8"
             },
             "line": {
              "color": "white"
             }
            },
            "header": {
             "fill": {
              "color": "#C8D4E3"
             },
             "line": {
              "color": "white"
             }
            },
            "type": "table"
           }
          ]
         },
         "layout": {
          "annotationdefaults": {
           "arrowcolor": "#2a3f5f",
           "arrowhead": 0,
           "arrowwidth": 1
          },
          "autotypenumbers": "strict",
          "coloraxis": {
           "colorbar": {
            "outlinewidth": 0,
            "ticks": ""
           }
          },
          "colorscale": {
           "diverging": [
            [
             0,
             "#8e0152"
            ],
            [
             0.1,
             "#c51b7d"
            ],
            [
             0.2,
             "#de77ae"
            ],
            [
             0.3,
             "#f1b6da"
            ],
            [
             0.4,
             "#fde0ef"
            ],
            [
             0.5,
             "#f7f7f7"
            ],
            [
             0.6,
             "#e6f5d0"
            ],
            [
             0.7,
             "#b8e186"
            ],
            [
             0.8,
             "#7fbc41"
            ],
            [
             0.9,
             "#4d9221"
            ],
            [
             1,
             "#276419"
            ]
           ],
           "sequential": [
            [
             0,
             "#0d0887"
            ],
            [
             0.1111111111111111,
             "#46039f"
            ],
            [
             0.2222222222222222,
             "#7201a8"
            ],
            [
             0.3333333333333333,
             "#9c179e"
            ],
            [
             0.4444444444444444,
             "#bd3786"
            ],
            [
             0.5555555555555556,
             "#d8576b"
            ],
            [
             0.6666666666666666,
             "#ed7953"
            ],
            [
             0.7777777777777778,
             "#fb9f3a"
            ],
            [
             0.8888888888888888,
             "#fdca26"
            ],
            [
             1,
             "#f0f921"
            ]
           ],
           "sequentialminus": [
            [
             0,
             "#0d0887"
            ],
            [
             0.1111111111111111,
             "#46039f"
            ],
            [
             0.2222222222222222,
             "#7201a8"
            ],
            [
             0.3333333333333333,
             "#9c179e"
            ],
            [
             0.4444444444444444,
             "#bd3786"
            ],
            [
             0.5555555555555556,
             "#d8576b"
            ],
            [
             0.6666666666666666,
             "#ed7953"
            ],
            [
             0.7777777777777778,
             "#fb9f3a"
            ],
            [
             0.8888888888888888,
             "#fdca26"
            ],
            [
             1,
             "#f0f921"
            ]
           ]
          },
          "colorway": [
           "#636efa",
           "#EF553B",
           "#00cc96",
           "#ab63fa",
           "#FFA15A",
           "#19d3f3",
           "#FF6692",
           "#B6E880",
           "#FF97FF",
           "#FECB52"
          ],
          "font": {
           "color": "#2a3f5f",
           "family": "Montserrat"
          },
          "geo": {
           "bgcolor": "white",
           "lakecolor": "white",
           "landcolor": "#E5ECF6",
           "showlakes": true,
           "showland": true,
           "subunitcolor": "white"
          },
          "hoverlabel": {
           "align": "left"
          },
          "hovermode": "closest",
          "mapbox": {
           "style": "light"
          },
          "paper_bgcolor": "white",
          "plot_bgcolor": "#E5ECF6",
          "polar": {
           "angularaxis": {
            "gridcolor": "white",
            "linecolor": "white",
            "ticks": ""
           },
           "bgcolor": "#E5ECF6",
           "radialaxis": {
            "gridcolor": "white",
            "linecolor": "white",
            "ticks": ""
           }
          },
          "scene": {
           "xaxis": {
            "backgroundcolor": "#E5ECF6",
            "gridcolor": "white",
            "gridwidth": 2,
            "linecolor": "white",
            "showbackground": true,
            "ticks": "",
            "zerolinecolor": "white"
           },
           "yaxis": {
            "backgroundcolor": "#E5ECF6",
            "gridcolor": "white",
            "gridwidth": 2,
            "linecolor": "white",
            "showbackground": true,
            "ticks": "",
            "zerolinecolor": "white"
           },
           "zaxis": {
            "backgroundcolor": "#E5ECF6",
            "gridcolor": "white",
            "gridwidth": 2,
            "linecolor": "white",
            "showbackground": true,
            "ticks": "",
            "zerolinecolor": "white"
           }
          },
          "shapedefaults": {
           "line": {
            "color": "#2a3f5f"
           }
          },
          "ternary": {
           "aaxis": {
            "gridcolor": "white",
            "linecolor": "white",
            "ticks": ""
           },
           "baxis": {
            "gridcolor": "white",
            "linecolor": "white",
            "ticks": ""
           },
           "bgcolor": "#E5ECF6",
           "caxis": {
            "gridcolor": "white",
            "linecolor": "white",
            "ticks": ""
           }
          },
          "title": {
           "x": 0.05
          },
          "xaxis": {
           "automargin": true,
           "gridcolor": "white",
           "linecolor": "white",
           "ticks": "",
           "title": {
            "standoff": 15
           },
           "zerolinecolor": "white",
           "zerolinewidth": 2
          },
          "yaxis": {
           "automargin": true,
           "gridcolor": "white",
           "linecolor": "white",
           "ticks": "",
           "title": {
            "standoff": 15
           },
           "zerolinecolor": "white",
           "zerolinewidth": 2
          }
         }
        },
        "title": {
         "text": "Mosty SÚC TTSK - podľa materiálu",
         "x": 0.5,
         "y": 0.95
        },
        "xaxis": {
         "anchor": "y",
         "domain": [
          0,
          1
         ],
         "title": {
          "standoff": 5,
          "text": "Material"
         }
        },
        "yaxis": {
         "anchor": "x",
         "domain": [
          0,
          1
         ],
         "title": {
          "standoff": 5,
          "text": "Počet"
         }
        }
       }
      }
     },
     "metadata": {},
     "output_type": "display_data"
    }
   ],
   "source": [
    "import plotly.express as px\n",
    "\n",
    "# Assuming your value counts are stored in a variable called 'material_counts'\n",
    "material_counts = filtered_bridges[\"Material\"].value_counts()\n",
    "\n",
    "# Create a bar plot using Plotly\n",
    "fig = px.bar(material_counts, x=material_counts.index, y=material_counts.values,\n",
    "             labels={'x': 'Materiál', 'y': 'Počet'},\n",
    "             title='Mosty SÚC TTSK - podľa materiálu',\n",
    "             template=\"custom_template\",  # Apply custom template here\n",
    "             text=material_counts.values,  # Display values on bars\n",
    "             color_discrete_sequence=['#FF6600'])  # Set bar color to #FF6600\n",
    "\n",
    "# Customize background color and layout\n",
    "fig.update_layout(\n",
    "    plot_bgcolor='#eeeeee',  # Set background color\n",
    "    margin=dict(l=10, r=10, t=50, b=10),  # Adjust margins\n",
    "    font=dict(family=\"Montserrat\", size=14),  # Set font\n",
    "    title_x=0.5,  # Center the title\n",
    "    title_y=0.95,  # Adjust title position\n",
    "    # Adjust distance between axis title and axis labels\n",
    "    xaxis=dict(title_standoff=5),\n",
    "    # Adjust distance between axis title and axis labels\n",
    "    yaxis=dict(title_standoff=5),\n",
    ")\n",
    "\n",
    "# Show the plot\n",
    "fig.show()"
   ]
  },
  {
   "cell_type": "code",
   "execution_count": 89,
   "metadata": {},
   "outputs": [
    {
     "name": "stderr",
     "output_type": "stream",
     "text": [
      "C:\\Users\\Doktor\\AppData\\Local\\Temp\\ipykernel_8968\\2153136545.py:1: UserWarning:\n",
      "\n",
      "Boolean Series key will be reindexed to match DataFrame index.\n",
      "\n"
     ]
    },
    {
     "data": {
      "text/plain": [
       "n_2023\n",
       "5    42\n",
       "4    23\n",
       "6     7\n",
       "7     3\n",
       "2     1\n",
       "1     1\n",
       "3     1\n",
       "Name: count, dtype: int64"
      ]
     },
     "execution_count": 89,
     "metadata": {},
     "output_type": "execute_result"
    }
   ],
   "source": [
    "precast_bridges = filtered_bridges[\n",
    "    (df_bridges_all['Material'] == \"prefabrikovaný predpätý betón\")\n",
    "]\n",
    "\n",
    "precast_bridges[\"n_2023\"].value_counts()"
   ]
  },
  {
   "cell_type": "code",
   "execution_count": 90,
   "metadata": {},
   "outputs": [
    {
     "data": {
      "text/plain": [
       "n_2023\n",
       "4    179\n",
       "5    103\n",
       "6     38\n",
       "3     34\n",
       "2     13\n",
       "7      9\n",
       "1      7\n",
       "Name: count, dtype: int64"
      ]
     },
     "execution_count": 90,
     "metadata": {},
     "output_type": "execute_result"
    }
   ],
   "source": [
    "filtered_bridges[\"n_2023\"].value_counts()"
   ]
  },
  {
   "cell_type": "code",
   "execution_count": 91,
   "metadata": {},
   "outputs": [
    {
     "data": {
      "text/plain": [
       "(78, 51)"
      ]
     },
     "execution_count": 91,
     "metadata": {},
     "output_type": "execute_result"
    }
   ],
   "source": [
    "precast_bridges.shape"
   ]
  },
  {
   "cell_type": "code",
   "execution_count": 169,
   "metadata": {},
   "outputs": [
    {
     "data": {
      "application/vnd.plotly.v1+json": {
       "config": {
        "plotlyServerURL": "https://plot.ly"
       },
       "data": [
        {
         "marker": {
          "color": "#0066FF"
         },
         "name": "Všetky mosty",
         "type": "bar",
         "x": [
          1,
          2,
          3,
          4,
          5,
          6,
          7
         ],
         "y": [
          0.018276762402088774,
          0.033942558746736295,
          0.08877284595300261,
          0.46736292428198434,
          0.2689295039164491,
          0.09921671018276762,
          0.02349869451697128
         ]
        },
        {
         "marker": {
          "color": "#FF6600"
         },
         "name": "Prefabrikované predpäté mosty",
         "type": "bar",
         "x": [
          1,
          2,
          3,
          4,
          5,
          6,
          7
         ],
         "y": [
          0.01282051282051282,
          0.01282051282051282,
          0.01282051282051282,
          0.2948717948717949,
          0.5384615384615384,
          0.08974358974358974,
          0.038461538461538464
         ]
        }
       ],
       "layout": {
        "barmode": "group",
        "font": {
         "family": "Montserrat",
         "size": 14
        },
        "legend": {
         "orientation": "h",
         "x": 0.5,
         "xanchor": "center",
         "y": 1.1,
         "yanchor": "top"
        },
        "margin": {
         "b": 50,
         "l": 50,
         "r": 50,
         "t": 75
        },
        "plot_bgcolor": "#eeeeee",
        "template": {
         "data": {
          "bar": [
           {
            "error_x": {
             "color": "#2a3f5f"
            },
            "error_y": {
             "color": "#2a3f5f"
            },
            "marker": {
             "line": {
              "color": "#E5ECF6",
              "width": 0.5
             },
             "pattern": {
              "fillmode": "overlay",
              "size": 10,
              "solidity": 0.2
             }
            },
            "type": "bar"
           }
          ],
          "barpolar": [
           {
            "marker": {
             "line": {
              "color": "#E5ECF6",
              "width": 0.5
             },
             "pattern": {
              "fillmode": "overlay",
              "size": 10,
              "solidity": 0.2
             }
            },
            "type": "barpolar"
           }
          ],
          "carpet": [
           {
            "aaxis": {
             "endlinecolor": "#2a3f5f",
             "gridcolor": "white",
             "linecolor": "white",
             "minorgridcolor": "white",
             "startlinecolor": "#2a3f5f"
            },
            "baxis": {
             "endlinecolor": "#2a3f5f",
             "gridcolor": "white",
             "linecolor": "white",
             "minorgridcolor": "white",
             "startlinecolor": "#2a3f5f"
            },
            "type": "carpet"
           }
          ],
          "choropleth": [
           {
            "colorbar": {
             "outlinewidth": 0,
             "ticks": ""
            },
            "type": "choropleth"
           }
          ],
          "contour": [
           {
            "colorbar": {
             "outlinewidth": 0,
             "ticks": ""
            },
            "colorscale": [
             [
              0,
              "#0d0887"
             ],
             [
              0.1111111111111111,
              "#46039f"
             ],
             [
              0.2222222222222222,
              "#7201a8"
             ],
             [
              0.3333333333333333,
              "#9c179e"
             ],
             [
              0.4444444444444444,
              "#bd3786"
             ],
             [
              0.5555555555555556,
              "#d8576b"
             ],
             [
              0.6666666666666666,
              "#ed7953"
             ],
             [
              0.7777777777777778,
              "#fb9f3a"
             ],
             [
              0.8888888888888888,
              "#fdca26"
             ],
             [
              1,
              "#f0f921"
             ]
            ],
            "type": "contour"
           }
          ],
          "contourcarpet": [
           {
            "colorbar": {
             "outlinewidth": 0,
             "ticks": ""
            },
            "type": "contourcarpet"
           }
          ],
          "heatmap": [
           {
            "colorbar": {
             "outlinewidth": 0,
             "ticks": ""
            },
            "colorscale": [
             [
              0,
              "#0d0887"
             ],
             [
              0.1111111111111111,
              "#46039f"
             ],
             [
              0.2222222222222222,
              "#7201a8"
             ],
             [
              0.3333333333333333,
              "#9c179e"
             ],
             [
              0.4444444444444444,
              "#bd3786"
             ],
             [
              0.5555555555555556,
              "#d8576b"
             ],
             [
              0.6666666666666666,
              "#ed7953"
             ],
             [
              0.7777777777777778,
              "#fb9f3a"
             ],
             [
              0.8888888888888888,
              "#fdca26"
             ],
             [
              1,
              "#f0f921"
             ]
            ],
            "type": "heatmap"
           }
          ],
          "heatmapgl": [
           {
            "colorbar": {
             "outlinewidth": 0,
             "ticks": ""
            },
            "colorscale": [
             [
              0,
              "#0d0887"
             ],
             [
              0.1111111111111111,
              "#46039f"
             ],
             [
              0.2222222222222222,
              "#7201a8"
             ],
             [
              0.3333333333333333,
              "#9c179e"
             ],
             [
              0.4444444444444444,
              "#bd3786"
             ],
             [
              0.5555555555555556,
              "#d8576b"
             ],
             [
              0.6666666666666666,
              "#ed7953"
             ],
             [
              0.7777777777777778,
              "#fb9f3a"
             ],
             [
              0.8888888888888888,
              "#fdca26"
             ],
             [
              1,
              "#f0f921"
             ]
            ],
            "type": "heatmapgl"
           }
          ],
          "histogram": [
           {
            "marker": {
             "pattern": {
              "fillmode": "overlay",
              "size": 10,
              "solidity": 0.2
             }
            },
            "type": "histogram"
           }
          ],
          "histogram2d": [
           {
            "colorbar": {
             "outlinewidth": 0,
             "ticks": ""
            },
            "colorscale": [
             [
              0,
              "#0d0887"
             ],
             [
              0.1111111111111111,
              "#46039f"
             ],
             [
              0.2222222222222222,
              "#7201a8"
             ],
             [
              0.3333333333333333,
              "#9c179e"
             ],
             [
              0.4444444444444444,
              "#bd3786"
             ],
             [
              0.5555555555555556,
              "#d8576b"
             ],
             [
              0.6666666666666666,
              "#ed7953"
             ],
             [
              0.7777777777777778,
              "#fb9f3a"
             ],
             [
              0.8888888888888888,
              "#fdca26"
             ],
             [
              1,
              "#f0f921"
             ]
            ],
            "type": "histogram2d"
           }
          ],
          "histogram2dcontour": [
           {
            "colorbar": {
             "outlinewidth": 0,
             "ticks": ""
            },
            "colorscale": [
             [
              0,
              "#0d0887"
             ],
             [
              0.1111111111111111,
              "#46039f"
             ],
             [
              0.2222222222222222,
              "#7201a8"
             ],
             [
              0.3333333333333333,
              "#9c179e"
             ],
             [
              0.4444444444444444,
              "#bd3786"
             ],
             [
              0.5555555555555556,
              "#d8576b"
             ],
             [
              0.6666666666666666,
              "#ed7953"
             ],
             [
              0.7777777777777778,
              "#fb9f3a"
             ],
             [
              0.8888888888888888,
              "#fdca26"
             ],
             [
              1,
              "#f0f921"
             ]
            ],
            "type": "histogram2dcontour"
           }
          ],
          "mesh3d": [
           {
            "colorbar": {
             "outlinewidth": 0,
             "ticks": ""
            },
            "type": "mesh3d"
           }
          ],
          "parcoords": [
           {
            "line": {
             "colorbar": {
              "outlinewidth": 0,
              "ticks": ""
             }
            },
            "type": "parcoords"
           }
          ],
          "pie": [
           {
            "automargin": true,
            "type": "pie"
           }
          ],
          "scatter": [
           {
            "fillpattern": {
             "fillmode": "overlay",
             "size": 10,
             "solidity": 0.2
            },
            "type": "scatter"
           }
          ],
          "scatter3d": [
           {
            "line": {
             "colorbar": {
              "outlinewidth": 0,
              "ticks": ""
             }
            },
            "marker": {
             "colorbar": {
              "outlinewidth": 0,
              "ticks": ""
             }
            },
            "type": "scatter3d"
           }
          ],
          "scattercarpet": [
           {
            "marker": {
             "colorbar": {
              "outlinewidth": 0,
              "ticks": ""
             }
            },
            "type": "scattercarpet"
           }
          ],
          "scattergeo": [
           {
            "marker": {
             "colorbar": {
              "outlinewidth": 0,
              "ticks": ""
             }
            },
            "type": "scattergeo"
           }
          ],
          "scattergl": [
           {
            "marker": {
             "colorbar": {
              "outlinewidth": 0,
              "ticks": ""
             }
            },
            "type": "scattergl"
           }
          ],
          "scattermapbox": [
           {
            "marker": {
             "colorbar": {
              "outlinewidth": 0,
              "ticks": ""
             }
            },
            "type": "scattermapbox"
           }
          ],
          "scatterpolar": [
           {
            "marker": {
             "colorbar": {
              "outlinewidth": 0,
              "ticks": ""
             }
            },
            "type": "scatterpolar"
           }
          ],
          "scatterpolargl": [
           {
            "marker": {
             "colorbar": {
              "outlinewidth": 0,
              "ticks": ""
             }
            },
            "type": "scatterpolargl"
           }
          ],
          "scatterternary": [
           {
            "marker": {
             "colorbar": {
              "outlinewidth": 0,
              "ticks": ""
             }
            },
            "type": "scatterternary"
           }
          ],
          "surface": [
           {
            "colorbar": {
             "outlinewidth": 0,
             "ticks": ""
            },
            "colorscale": [
             [
              0,
              "#0d0887"
             ],
             [
              0.1111111111111111,
              "#46039f"
             ],
             [
              0.2222222222222222,
              "#7201a8"
             ],
             [
              0.3333333333333333,
              "#9c179e"
             ],
             [
              0.4444444444444444,
              "#bd3786"
             ],
             [
              0.5555555555555556,
              "#d8576b"
             ],
             [
              0.6666666666666666,
              "#ed7953"
             ],
             [
              0.7777777777777778,
              "#fb9f3a"
             ],
             [
              0.8888888888888888,
              "#fdca26"
             ],
             [
              1,
              "#f0f921"
             ]
            ],
            "type": "surface"
           }
          ],
          "table": [
           {
            "cells": {
             "fill": {
              "color": "#EBF0F8"
             },
             "line": {
              "color": "white"
             }
            },
            "header": {
             "fill": {
              "color": "#C8D4E3"
             },
             "line": {
              "color": "white"
             }
            },
            "type": "table"
           }
          ]
         },
         "layout": {
          "annotationdefaults": {
           "arrowcolor": "#2a3f5f",
           "arrowhead": 0,
           "arrowwidth": 1
          },
          "autotypenumbers": "strict",
          "coloraxis": {
           "colorbar": {
            "outlinewidth": 0,
            "ticks": ""
           }
          },
          "colorscale": {
           "diverging": [
            [
             0,
             "#8e0152"
            ],
            [
             0.1,
             "#c51b7d"
            ],
            [
             0.2,
             "#de77ae"
            ],
            [
             0.3,
             "#f1b6da"
            ],
            [
             0.4,
             "#fde0ef"
            ],
            [
             0.5,
             "#f7f7f7"
            ],
            [
             0.6,
             "#e6f5d0"
            ],
            [
             0.7,
             "#b8e186"
            ],
            [
             0.8,
             "#7fbc41"
            ],
            [
             0.9,
             "#4d9221"
            ],
            [
             1,
             "#276419"
            ]
           ],
           "sequential": [
            [
             0,
             "#0d0887"
            ],
            [
             0.1111111111111111,
             "#46039f"
            ],
            [
             0.2222222222222222,
             "#7201a8"
            ],
            [
             0.3333333333333333,
             "#9c179e"
            ],
            [
             0.4444444444444444,
             "#bd3786"
            ],
            [
             0.5555555555555556,
             "#d8576b"
            ],
            [
             0.6666666666666666,
             "#ed7953"
            ],
            [
             0.7777777777777778,
             "#fb9f3a"
            ],
            [
             0.8888888888888888,
             "#fdca26"
            ],
            [
             1,
             "#f0f921"
            ]
           ],
           "sequentialminus": [
            [
             0,
             "#0d0887"
            ],
            [
             0.1111111111111111,
             "#46039f"
            ],
            [
             0.2222222222222222,
             "#7201a8"
            ],
            [
             0.3333333333333333,
             "#9c179e"
            ],
            [
             0.4444444444444444,
             "#bd3786"
            ],
            [
             0.5555555555555556,
             "#d8576b"
            ],
            [
             0.6666666666666666,
             "#ed7953"
            ],
            [
             0.7777777777777778,
             "#fb9f3a"
            ],
            [
             0.8888888888888888,
             "#fdca26"
            ],
            [
             1,
             "#f0f921"
            ]
           ]
          },
          "colorway": [
           "#636efa",
           "#EF553B",
           "#00cc96",
           "#ab63fa",
           "#FFA15A",
           "#19d3f3",
           "#FF6692",
           "#B6E880",
           "#FF97FF",
           "#FECB52"
          ],
          "font": {
           "color": "#2a3f5f",
           "family": "Montserrat"
          },
          "geo": {
           "bgcolor": "white",
           "lakecolor": "white",
           "landcolor": "#E5ECF6",
           "showlakes": true,
           "showland": true,
           "subunitcolor": "white"
          },
          "hoverlabel": {
           "align": "left"
          },
          "hovermode": "closest",
          "mapbox": {
           "style": "light"
          },
          "paper_bgcolor": "white",
          "plot_bgcolor": "#E5ECF6",
          "polar": {
           "angularaxis": {
            "gridcolor": "white",
            "linecolor": "white",
            "ticks": ""
           },
           "bgcolor": "#E5ECF6",
           "radialaxis": {
            "gridcolor": "white",
            "linecolor": "white",
            "ticks": ""
           }
          },
          "scene": {
           "xaxis": {
            "backgroundcolor": "#E5ECF6",
            "gridcolor": "white",
            "gridwidth": 2,
            "linecolor": "white",
            "showbackground": true,
            "ticks": "",
            "zerolinecolor": "white"
           },
           "yaxis": {
            "backgroundcolor": "#E5ECF6",
            "gridcolor": "white",
            "gridwidth": 2,
            "linecolor": "white",
            "showbackground": true,
            "ticks": "",
            "zerolinecolor": "white"
           },
           "zaxis": {
            "backgroundcolor": "#E5ECF6",
            "gridcolor": "white",
            "gridwidth": 2,
            "linecolor": "white",
            "showbackground": true,
            "ticks": "",
            "zerolinecolor": "white"
           }
          },
          "shapedefaults": {
           "line": {
            "color": "#2a3f5f"
           }
          },
          "ternary": {
           "aaxis": {
            "gridcolor": "white",
            "linecolor": "white",
            "ticks": ""
           },
           "baxis": {
            "gridcolor": "white",
            "linecolor": "white",
            "ticks": ""
           },
           "bgcolor": "#E5ECF6",
           "caxis": {
            "gridcolor": "white",
            "linecolor": "white",
            "ticks": ""
           }
          },
          "title": {
           "x": 0.05
          },
          "xaxis": {
           "automargin": true,
           "gridcolor": "white",
           "linecolor": "white",
           "ticks": "",
           "title": {
            "standoff": 15
           },
           "zerolinecolor": "white",
           "zerolinewidth": 2
          },
          "yaxis": {
           "automargin": true,
           "gridcolor": "white",
           "linecolor": "white",
           "ticks": "",
           "title": {
            "standoff": 15
           },
           "zerolinecolor": "white",
           "zerolinewidth": 2
          }
         }
        },
        "title": {
         "text": "Stavebno-technický stav mostov v správe TTSK"
        },
        "xaxis": {
         "title": {
          "text": "STS v roku 2023"
         }
        },
        "yaxis": {
         "title": {
          "text": "Percentuálne zastúpenie"
         }
        }
       }
      }
     },
     "metadata": {},
     "output_type": "display_data"
    }
   ],
   "source": [
    "import plotly.graph_objects as go\n",
    "\n",
    "# Data for precast bridges\n",
    "precast_counts = precast_bridges[\"n_2023\"].value_counts().sort_index()\n",
    "\n",
    "# Data for all bridges\n",
    "all_counts = filtered_bridges[\"n_2023\"].value_counts().sort_index()\n",
    "\n",
    "# Normalize the counts\n",
    "precast_counts_normalized = precast_counts / precast_counts.sum()\n",
    "all_counts_normalized = all_counts / all_counts.sum()\n",
    "\n",
    "# Create subplots\n",
    "fig = go.Figure()\n",
    "\n",
    "# Add all bridges histogram\n",
    "fig.add_trace(go.Bar(\n",
    "    x=all_counts_normalized.index,\n",
    "    y=all_counts_normalized.values,\n",
    "    name='Všetky mosty',\n",
    "    marker_color='#0066FF'  # Change color to blue\n",
    "))\n",
    "\n",
    "# Add precast bridges histogram\n",
    "fig.add_trace(go.Bar(\n",
    "    x=precast_counts_normalized.index,\n",
    "    y=precast_counts_normalized.values,\n",
    "    name='Prefabrikované predpäté mosty',\n",
    "    marker_color='#FF6600'  # Change color to orange\n",
    "))\n",
    "\n",
    "# Update layout\n",
    "fig.update_layout(\n",
    "    barmode='group',\n",
    "    xaxis_title='STS v roku 2023',\n",
    "    yaxis_title='Percentuálne zastúpenie',\n",
    "    title='Stavebno-technický stav mostov v správe SÚC TTSK',\n",
    "    legend=dict(\n",
    "        orientation='h',  # horizontal legend\n",
    "        yanchor='top',  # anchor legend to the top\n",
    "        y=1.1,  # adjust y position\n",
    "        xanchor='center',  # center the legend horizontally\n",
    "        x=0.5  # adjust x position\n",
    "    ),\n",
    "    margin=dict(l=50, r=50, t=75, b=50),  # Adjust margins\n",
    "    font=dict(family=\"Montserrat\", size=14),  # Set font\n",
    "    plot_bgcolor='#eeeeee',  # Set background color\n",
    ")\n",
    "\n",
    "# Show the plot\n",
    "fig.show()"
   ]
  },
  {
   "cell_type": "code",
   "execution_count": 150,
   "metadata": {},
   "outputs": [],
   "source": [
    "year_list = [f'n_{i}' for i in range(2012, 2024)]\n",
    "nested_dict = {}\n",
    "\n",
    "for year in year_list:\n",
    "    condition_counts = precast_bridges[year].value_counts().to_dict()\n",
    "\n",
    "    # Count of classified bridges (non-zero conditions)\n",
    "    classified_count = condition_counts.get(0, 0)\n",
    "\n",
    "    # If there are no classified bridges, set the count to 0\n",
    "    if classified_count > 0:\n",
    "        # Remove the count of classified bridges from the condition_counts dictionary\n",
    "        del condition_counts[0]\n",
    "\n",
    "    # Store the results in the nested dictionary\n",
    "    nested_dict[year] = {\n",
    "        'classified_bridges': len(precast_bridges) - classified_count,\n",
    "        'condition_counts': condition_counts\n",
    "    }\n",
    "\n",
    "year_list = [f'n_{i}' for i in range(2012, 2024)]\n",
    "nested_dict_filtered = {}\n",
    "\n",
    "for year in year_list:\n",
    "    condition_counts = filtered_bridges[year].value_counts().to_dict()\n",
    "\n",
    "    # Count of classified bridges (non-zero conditions)\n",
    "    classified_count = condition_counts.get(0, 0)\n",
    "\n",
    "    # If there are no classified bridges, set the count to 0\n",
    "    if classified_count > 0:\n",
    "        # Remove the count of classified bridges from the condition_counts dictionary\n",
    "        del condition_counts[0]\n",
    "\n",
    "    # Store the results in the nested dictionary\n",
    "    nested_dict_filtered[year] = {\n",
    "        'classified_bridges': len(filtered_bridges) - classified_count,\n",
    "        'condition_counts': condition_counts\n",
    "    }\n",
    "\n",
    "    "
   ]
  },
  {
   "cell_type": "code",
   "execution_count": 171,
   "metadata": {},
   "outputs": [
    {
     "data": {
      "application/vnd.plotly.v1+json": {
       "config": {
        "plotlyServerURL": "https://plot.ly"
       },
       "data": [
        {
         "line": {
          "color": "#1f77b4"
         },
         "mode": "lines",
         "name": "bezchybný",
         "type": "scatter",
         "x": [
          2012,
          2013,
          2014,
          2015,
          2016,
          2017,
          2018,
          2019,
          2020,
          2021,
          2022,
          2023
         ],
         "y": [
          0,
          0,
          0,
          0,
          0,
          0,
          0,
          0,
          1.282051282051282,
          1.282051282051282,
          1.282051282051282,
          1.282051282051282
         ]
        },
        {
         "line": {
          "color": "#ff7f0e"
         },
         "mode": "lines",
         "name": "veľmi dobrý",
         "type": "scatter",
         "x": [
          2012,
          2013,
          2014,
          2015,
          2016,
          2017,
          2018,
          2019,
          2020,
          2021,
          2022,
          2023
         ],
         "y": [
          9.210526315789473,
          9.210526315789473,
          9.210526315789473,
          9.210526315789473,
          6.578947368421052,
          6.578947368421052,
          6.578947368421052,
          5.263157894736842,
          1.282051282051282,
          1.282051282051282,
          0,
          1.282051282051282
         ]
        },
        {
         "line": {
          "color": "#2ca02c"
         },
         "mode": "lines",
         "name": "dobrý",
         "type": "scatter",
         "x": [
          2012,
          2013,
          2014,
          2015,
          2016,
          2017,
          2018,
          2019,
          2020,
          2021,
          2022,
          2023
         ],
         "y": [
          30.263157894736842,
          30.263157894736842,
          30.263157894736842,
          26.31578947368421,
          13.157894736842104,
          13.157894736842104,
          13.157894736842104,
          13.157894736842104,
          10.256410256410255,
          8.974358974358974,
          5.128205128205128,
          1.282051282051282
         ]
        },
        {
         "line": {
          "color": "#d62728"
         },
         "mode": "lines",
         "name": "uspokojivý",
         "type": "scatter",
         "x": [
          2012,
          2013,
          2014,
          2015,
          2016,
          2017,
          2018,
          2019,
          2020,
          2021,
          2022,
          2023
         ],
         "y": [
          52.63157894736842,
          52.63157894736842,
          52.63157894736842,
          55.26315789473685,
          68.42105263157895,
          68.42105263157895,
          68.42105263157895,
          69.73684210526315,
          64.1025641025641,
          65.38461538461539,
          61.53846153846154,
          29.48717948717949
         ]
        },
        {
         "line": {
          "color": "#9467bd"
         },
         "mode": "lines",
         "name": "zlý",
         "type": "scatter",
         "x": [
          2012,
          2013,
          2014,
          2015,
          2016,
          2017,
          2018,
          2019,
          2020,
          2021,
          2022,
          2023
         ],
         "y": [
          7.894736842105263,
          7.894736842105263,
          7.894736842105263,
          9.210526315789473,
          11.842105263157894,
          11.842105263157894,
          11.842105263157894,
          11.842105263157894,
          21.794871794871796,
          21.794871794871796,
          24.358974358974358,
          53.84615384615385
         ]
        },
        {
         "line": {
          "color": "#8c564b"
         },
         "mode": "lines",
         "name": "veľmi zlý",
         "type": "scatter",
         "x": [
          2012,
          2013,
          2014,
          2015,
          2016,
          2017,
          2018,
          2019,
          2020,
          2021,
          2022,
          2023
         ],
         "y": [
          0,
          0,
          0,
          0,
          0,
          0,
          0,
          0,
          1.282051282051282,
          1.282051282051282,
          5.128205128205128,
          8.974358974358974
         ]
        },
        {
         "line": {
          "color": "#e377c2"
         },
         "mode": "lines",
         "name": "havarijný",
         "type": "scatter",
         "x": [
          2012,
          2013,
          2014,
          2015,
          2016,
          2017,
          2018,
          2019,
          2020,
          2021,
          2022,
          2023
         ],
         "y": [
          0,
          0,
          0,
          0,
          0,
          0,
          0,
          0,
          0,
          0,
          2.564102564102564,
          3.8461538461538463
         ]
        },
        {
         "line": {
          "color": "#1f77b4",
          "dash": "dash"
         },
         "mode": "lines",
         "name": "bezchybný (Filtered)",
         "showlegend": false,
         "type": "scatter",
         "x": [
          2012,
          2013,
          2014,
          2015,
          2016,
          2017,
          2018,
          2019,
          2020,
          2021,
          2022,
          2023
         ],
         "y": [
          2.380952380952381,
          2.380952380952381,
          2.3872679045092835,
          1.8518518518518516,
          0.5291005291005291,
          0.5291005291005291,
          0.5291005291005291,
          0.5291005291005291,
          0.5221932114882507,
          0.5221932114882507,
          1.3054830287206265,
          1.8276762402088773
         ]
        },
        {
         "line": {
          "color": "#ff7f0e",
          "dash": "dash"
         },
         "mode": "lines",
         "name": "veľmi dobrý (Filtered)",
         "showlegend": false,
         "type": "scatter",
         "x": [
          2012,
          2013,
          2014,
          2015,
          2016,
          2017,
          2018,
          2019,
          2020,
          2021,
          2022,
          2023
         ],
         "y": [
          13.756613756613756,
          13.756613756613756,
          13.262599469496022,
          13.227513227513226,
          6.349206349206349,
          6.349206349206349,
          5.291005291005291,
          4.497354497354497,
          1.5665796344647518,
          1.3054830287206265,
          2.088772845953003,
          3.3942558746736298
         ]
        },
        {
         "line": {
          "color": "#2ca02c",
          "dash": "dash"
         },
         "mode": "lines",
         "name": "dobrý (Filtered)",
         "showlegend": false,
         "type": "scatter",
         "x": [
          2012,
          2013,
          2014,
          2015,
          2016,
          2017,
          2018,
          2019,
          2020,
          2021,
          2022,
          2023
         ],
         "y": [
          48.41269841269841,
          48.41269841269841,
          48.54111405835544,
          47.354497354497354,
          34.92063492063492,
          34.92063492063492,
          33.5978835978836,
          32.01058201058201,
          13.315926892950392,
          13.054830287206268,
          10.704960835509137,
          8.87728459530026
         ]
        },
        {
         "line": {
          "color": "#d62728",
          "dash": "dash"
         },
         "mode": "lines",
         "name": "uspokojivý (Filtered)",
         "showlegend": false,
         "type": "scatter",
         "x": [
          2012,
          2013,
          2014,
          2015,
          2016,
          2017,
          2018,
          2019,
          2020,
          2021,
          2022,
          2023
         ],
         "y": [
          27.77777777777778,
          27.77777777777778,
          28.116710875331563,
          28.306878306878307,
          44.97354497354497,
          44.97354497354497,
          46.2962962962963,
          48.41269841269841,
          63.44647519582245,
          63.9686684073107,
          59.00783289817232,
          46.73629242819843
         ]
        },
        {
         "line": {
          "color": "#9467bd",
          "dash": "dash"
         },
         "mode": "lines",
         "name": "zlý (Filtered)",
         "showlegend": false,
         "type": "scatter",
         "x": [
          2012,
          2013,
          2014,
          2015,
          2016,
          2017,
          2018,
          2019,
          2020,
          2021,
          2022,
          2023
         ],
         "y": [
          5.82010582010582,
          5.82010582010582,
          5.835543766578249,
          6.878306878306878,
          10.846560846560847,
          10.846560846560847,
          11.904761904761903,
          11.904761904761903,
          15.66579634464752,
          15.66579634464752,
          19.321148825065272,
          26.89295039164491
         ]
        },
        {
         "line": {
          "color": "#8c564b",
          "dash": "dash"
         },
         "mode": "lines",
         "name": "veľmi zlý (Filtered)",
         "showlegend": false,
         "type": "scatter",
         "x": [
          2012,
          2013,
          2014,
          2015,
          2016,
          2017,
          2018,
          2019,
          2020,
          2021,
          2022,
          2023
         ],
         "y": [
          1.5873015873015872,
          1.5873015873015872,
          1.5915119363395225,
          2.1164021164021163,
          2.1164021164021163,
          2.1164021164021163,
          2.1164021164021163,
          2.380952380952381,
          5.221932114882506,
          5.221932114882506,
          5.7441253263707575,
          9.921671018276761
         ]
        },
        {
         "line": {
          "color": "#e377c2",
          "dash": "dash"
         },
         "mode": "lines",
         "name": "havarijný (Filtered)",
         "showlegend": false,
         "type": "scatter",
         "x": [
          2012,
          2013,
          2014,
          2015,
          2016,
          2017,
          2018,
          2019,
          2020,
          2021,
          2022,
          2023
         ],
         "y": [
          0.26455026455026454,
          0.26455026455026454,
          0.2652519893899204,
          0.26455026455026454,
          0.26455026455026454,
          0.26455026455026454,
          0.26455026455026454,
          0.26455026455026454,
          0.26109660574412535,
          0.26109660574412535,
          1.8276762402088773,
          2.3498694516971277
         ]
        }
       ],
       "layout": {
        "font": {
         "family": "Montserrat",
         "size": 14
        },
        "margin": {
         "b": 50,
         "l": 50,
         "r": 50,
         "t": 50
        },
        "plot_bgcolor": "#eeeeee",
        "template": {
         "data": {
          "bar": [
           {
            "error_x": {
             "color": "#2a3f5f"
            },
            "error_y": {
             "color": "#2a3f5f"
            },
            "marker": {
             "line": {
              "color": "#E5ECF6",
              "width": 0.5
             },
             "pattern": {
              "fillmode": "overlay",
              "size": 10,
              "solidity": 0.2
             }
            },
            "type": "bar"
           }
          ],
          "barpolar": [
           {
            "marker": {
             "line": {
              "color": "#E5ECF6",
              "width": 0.5
             },
             "pattern": {
              "fillmode": "overlay",
              "size": 10,
              "solidity": 0.2
             }
            },
            "type": "barpolar"
           }
          ],
          "carpet": [
           {
            "aaxis": {
             "endlinecolor": "#2a3f5f",
             "gridcolor": "white",
             "linecolor": "white",
             "minorgridcolor": "white",
             "startlinecolor": "#2a3f5f"
            },
            "baxis": {
             "endlinecolor": "#2a3f5f",
             "gridcolor": "white",
             "linecolor": "white",
             "minorgridcolor": "white",
             "startlinecolor": "#2a3f5f"
            },
            "type": "carpet"
           }
          ],
          "choropleth": [
           {
            "colorbar": {
             "outlinewidth": 0,
             "ticks": ""
            },
            "type": "choropleth"
           }
          ],
          "contour": [
           {
            "colorbar": {
             "outlinewidth": 0,
             "ticks": ""
            },
            "colorscale": [
             [
              0,
              "#0d0887"
             ],
             [
              0.1111111111111111,
              "#46039f"
             ],
             [
              0.2222222222222222,
              "#7201a8"
             ],
             [
              0.3333333333333333,
              "#9c179e"
             ],
             [
              0.4444444444444444,
              "#bd3786"
             ],
             [
              0.5555555555555556,
              "#d8576b"
             ],
             [
              0.6666666666666666,
              "#ed7953"
             ],
             [
              0.7777777777777778,
              "#fb9f3a"
             ],
             [
              0.8888888888888888,
              "#fdca26"
             ],
             [
              1,
              "#f0f921"
             ]
            ],
            "type": "contour"
           }
          ],
          "contourcarpet": [
           {
            "colorbar": {
             "outlinewidth": 0,
             "ticks": ""
            },
            "type": "contourcarpet"
           }
          ],
          "heatmap": [
           {
            "colorbar": {
             "outlinewidth": 0,
             "ticks": ""
            },
            "colorscale": [
             [
              0,
              "#0d0887"
             ],
             [
              0.1111111111111111,
              "#46039f"
             ],
             [
              0.2222222222222222,
              "#7201a8"
             ],
             [
              0.3333333333333333,
              "#9c179e"
             ],
             [
              0.4444444444444444,
              "#bd3786"
             ],
             [
              0.5555555555555556,
              "#d8576b"
             ],
             [
              0.6666666666666666,
              "#ed7953"
             ],
             [
              0.7777777777777778,
              "#fb9f3a"
             ],
             [
              0.8888888888888888,
              "#fdca26"
             ],
             [
              1,
              "#f0f921"
             ]
            ],
            "type": "heatmap"
           }
          ],
          "heatmapgl": [
           {
            "colorbar": {
             "outlinewidth": 0,
             "ticks": ""
            },
            "colorscale": [
             [
              0,
              "#0d0887"
             ],
             [
              0.1111111111111111,
              "#46039f"
             ],
             [
              0.2222222222222222,
              "#7201a8"
             ],
             [
              0.3333333333333333,
              "#9c179e"
             ],
             [
              0.4444444444444444,
              "#bd3786"
             ],
             [
              0.5555555555555556,
              "#d8576b"
             ],
             [
              0.6666666666666666,
              "#ed7953"
             ],
             [
              0.7777777777777778,
              "#fb9f3a"
             ],
             [
              0.8888888888888888,
              "#fdca26"
             ],
             [
              1,
              "#f0f921"
             ]
            ],
            "type": "heatmapgl"
           }
          ],
          "histogram": [
           {
            "marker": {
             "pattern": {
              "fillmode": "overlay",
              "size": 10,
              "solidity": 0.2
             }
            },
            "type": "histogram"
           }
          ],
          "histogram2d": [
           {
            "colorbar": {
             "outlinewidth": 0,
             "ticks": ""
            },
            "colorscale": [
             [
              0,
              "#0d0887"
             ],
             [
              0.1111111111111111,
              "#46039f"
             ],
             [
              0.2222222222222222,
              "#7201a8"
             ],
             [
              0.3333333333333333,
              "#9c179e"
             ],
             [
              0.4444444444444444,
              "#bd3786"
             ],
             [
              0.5555555555555556,
              "#d8576b"
             ],
             [
              0.6666666666666666,
              "#ed7953"
             ],
             [
              0.7777777777777778,
              "#fb9f3a"
             ],
             [
              0.8888888888888888,
              "#fdca26"
             ],
             [
              1,
              "#f0f921"
             ]
            ],
            "type": "histogram2d"
           }
          ],
          "histogram2dcontour": [
           {
            "colorbar": {
             "outlinewidth": 0,
             "ticks": ""
            },
            "colorscale": [
             [
              0,
              "#0d0887"
             ],
             [
              0.1111111111111111,
              "#46039f"
             ],
             [
              0.2222222222222222,
              "#7201a8"
             ],
             [
              0.3333333333333333,
              "#9c179e"
             ],
             [
              0.4444444444444444,
              "#bd3786"
             ],
             [
              0.5555555555555556,
              "#d8576b"
             ],
             [
              0.6666666666666666,
              "#ed7953"
             ],
             [
              0.7777777777777778,
              "#fb9f3a"
             ],
             [
              0.8888888888888888,
              "#fdca26"
             ],
             [
              1,
              "#f0f921"
             ]
            ],
            "type": "histogram2dcontour"
           }
          ],
          "mesh3d": [
           {
            "colorbar": {
             "outlinewidth": 0,
             "ticks": ""
            },
            "type": "mesh3d"
           }
          ],
          "parcoords": [
           {
            "line": {
             "colorbar": {
              "outlinewidth": 0,
              "ticks": ""
             }
            },
            "type": "parcoords"
           }
          ],
          "pie": [
           {
            "automargin": true,
            "type": "pie"
           }
          ],
          "scatter": [
           {
            "fillpattern": {
             "fillmode": "overlay",
             "size": 10,
             "solidity": 0.2
            },
            "type": "scatter"
           }
          ],
          "scatter3d": [
           {
            "line": {
             "colorbar": {
              "outlinewidth": 0,
              "ticks": ""
             }
            },
            "marker": {
             "colorbar": {
              "outlinewidth": 0,
              "ticks": ""
             }
            },
            "type": "scatter3d"
           }
          ],
          "scattercarpet": [
           {
            "marker": {
             "colorbar": {
              "outlinewidth": 0,
              "ticks": ""
             }
            },
            "type": "scattercarpet"
           }
          ],
          "scattergeo": [
           {
            "marker": {
             "colorbar": {
              "outlinewidth": 0,
              "ticks": ""
             }
            },
            "type": "scattergeo"
           }
          ],
          "scattergl": [
           {
            "marker": {
             "colorbar": {
              "outlinewidth": 0,
              "ticks": ""
             }
            },
            "type": "scattergl"
           }
          ],
          "scattermapbox": [
           {
            "marker": {
             "colorbar": {
              "outlinewidth": 0,
              "ticks": ""
             }
            },
            "type": "scattermapbox"
           }
          ],
          "scatterpolar": [
           {
            "marker": {
             "colorbar": {
              "outlinewidth": 0,
              "ticks": ""
             }
            },
            "type": "scatterpolar"
           }
          ],
          "scatterpolargl": [
           {
            "marker": {
             "colorbar": {
              "outlinewidth": 0,
              "ticks": ""
             }
            },
            "type": "scatterpolargl"
           }
          ],
          "scatterternary": [
           {
            "marker": {
             "colorbar": {
              "outlinewidth": 0,
              "ticks": ""
             }
            },
            "type": "scatterternary"
           }
          ],
          "surface": [
           {
            "colorbar": {
             "outlinewidth": 0,
             "ticks": ""
            },
            "colorscale": [
             [
              0,
              "#0d0887"
             ],
             [
              0.1111111111111111,
              "#46039f"
             ],
             [
              0.2222222222222222,
              "#7201a8"
             ],
             [
              0.3333333333333333,
              "#9c179e"
             ],
             [
              0.4444444444444444,
              "#bd3786"
             ],
             [
              0.5555555555555556,
              "#d8576b"
             ],
             [
              0.6666666666666666,
              "#ed7953"
             ],
             [
              0.7777777777777778,
              "#fb9f3a"
             ],
             [
              0.8888888888888888,
              "#fdca26"
             ],
             [
              1,
              "#f0f921"
             ]
            ],
            "type": "surface"
           }
          ],
          "table": [
           {
            "cells": {
             "fill": {
              "color": "#EBF0F8"
             },
             "line": {
              "color": "white"
             }
            },
            "header": {
             "fill": {
              "color": "#C8D4E3"
             },
             "line": {
              "color": "white"
             }
            },
            "type": "table"
           }
          ]
         },
         "layout": {
          "annotationdefaults": {
           "arrowcolor": "#2a3f5f",
           "arrowhead": 0,
           "arrowwidth": 1
          },
          "autotypenumbers": "strict",
          "coloraxis": {
           "colorbar": {
            "outlinewidth": 0,
            "ticks": ""
           }
          },
          "colorscale": {
           "diverging": [
            [
             0,
             "#8e0152"
            ],
            [
             0.1,
             "#c51b7d"
            ],
            [
             0.2,
             "#de77ae"
            ],
            [
             0.3,
             "#f1b6da"
            ],
            [
             0.4,
             "#fde0ef"
            ],
            [
             0.5,
             "#f7f7f7"
            ],
            [
             0.6,
             "#e6f5d0"
            ],
            [
             0.7,
             "#b8e186"
            ],
            [
             0.8,
             "#7fbc41"
            ],
            [
             0.9,
             "#4d9221"
            ],
            [
             1,
             "#276419"
            ]
           ],
           "sequential": [
            [
             0,
             "#0d0887"
            ],
            [
             0.1111111111111111,
             "#46039f"
            ],
            [
             0.2222222222222222,
             "#7201a8"
            ],
            [
             0.3333333333333333,
             "#9c179e"
            ],
            [
             0.4444444444444444,
             "#bd3786"
            ],
            [
             0.5555555555555556,
             "#d8576b"
            ],
            [
             0.6666666666666666,
             "#ed7953"
            ],
            [
             0.7777777777777778,
             "#fb9f3a"
            ],
            [
             0.8888888888888888,
             "#fdca26"
            ],
            [
             1,
             "#f0f921"
            ]
           ],
           "sequentialminus": [
            [
             0,
             "#0d0887"
            ],
            [
             0.1111111111111111,
             "#46039f"
            ],
            [
             0.2222222222222222,
             "#7201a8"
            ],
            [
             0.3333333333333333,
             "#9c179e"
            ],
            [
             0.4444444444444444,
             "#bd3786"
            ],
            [
             0.5555555555555556,
             "#d8576b"
            ],
            [
             0.6666666666666666,
             "#ed7953"
            ],
            [
             0.7777777777777778,
             "#fb9f3a"
            ],
            [
             0.8888888888888888,
             "#fdca26"
            ],
            [
             1,
             "#f0f921"
            ]
           ]
          },
          "colorway": [
           "#636efa",
           "#EF553B",
           "#00cc96",
           "#ab63fa",
           "#FFA15A",
           "#19d3f3",
           "#FF6692",
           "#B6E880",
           "#FF97FF",
           "#FECB52"
          ],
          "font": {
           "color": "#2a3f5f",
           "family": "Montserrat"
          },
          "geo": {
           "bgcolor": "white",
           "lakecolor": "white",
           "landcolor": "#E5ECF6",
           "showlakes": true,
           "showland": true,
           "subunitcolor": "white"
          },
          "hoverlabel": {
           "align": "left"
          },
          "hovermode": "closest",
          "mapbox": {
           "style": "light"
          },
          "paper_bgcolor": "white",
          "plot_bgcolor": "#E5ECF6",
          "polar": {
           "angularaxis": {
            "gridcolor": "white",
            "linecolor": "white",
            "ticks": ""
           },
           "bgcolor": "#E5ECF6",
           "radialaxis": {
            "gridcolor": "white",
            "linecolor": "white",
            "ticks": ""
           }
          },
          "scene": {
           "xaxis": {
            "backgroundcolor": "#E5ECF6",
            "gridcolor": "white",
            "gridwidth": 2,
            "linecolor": "white",
            "showbackground": true,
            "ticks": "",
            "zerolinecolor": "white"
           },
           "yaxis": {
            "backgroundcolor": "#E5ECF6",
            "gridcolor": "white",
            "gridwidth": 2,
            "linecolor": "white",
            "showbackground": true,
            "ticks": "",
            "zerolinecolor": "white"
           },
           "zaxis": {
            "backgroundcolor": "#E5ECF6",
            "gridcolor": "white",
            "gridwidth": 2,
            "linecolor": "white",
            "showbackground": true,
            "ticks": "",
            "zerolinecolor": "white"
           }
          },
          "shapedefaults": {
           "line": {
            "color": "#2a3f5f"
           }
          },
          "ternary": {
           "aaxis": {
            "gridcolor": "white",
            "linecolor": "white",
            "ticks": ""
           },
           "baxis": {
            "gridcolor": "white",
            "linecolor": "white",
            "ticks": ""
           },
           "bgcolor": "#E5ECF6",
           "caxis": {
            "gridcolor": "white",
            "linecolor": "white",
            "ticks": ""
           }
          },
          "title": {
           "x": 0.05
          },
          "xaxis": {
           "automargin": true,
           "gridcolor": "white",
           "linecolor": "white",
           "ticks": "",
           "title": {
            "standoff": 15
           },
           "zerolinecolor": "white",
           "zerolinewidth": 2
          },
          "yaxis": {
           "automargin": true,
           "gridcolor": "white",
           "linecolor": "white",
           "ticks": "",
           "title": {
            "standoff": 15
           },
           "zerolinecolor": "white",
           "zerolinewidth": 2
          }
         }
        },
        "title": {
         "text": "Vývoj STS prefabrikovaných predpätých mostov v správe SÚC TTSK",
         "y": 0.97
        },
        "yaxis": {
         "title": {
          "text": "% zastúpenie v danej kategórii"
         }
        }
       }
      }
     },
     "metadata": {},
     "output_type": "display_data"
    }
   ],
   "source": [
    "import plotly.graph_objects as go\n",
    "\n",
    "# Define colors for each category\n",
    "colors = ['#1f77b4', '#ff7f0e', '#2ca02c',\n",
    "          '#d62728', '#9467bd', '#8c564b', '#e377c2']\n",
    "\n",
    "# Initialize lists to store percentages for each category\n",
    "category_percentages = {i: [] for i in range(1, 8)}\n",
    "category_percentages_filtered = {i: []\n",
    "                                 for i in range(1, 8)}  # For filtered data\n",
    "\n",
    "# Extract and calculate percentages for each year and each category from nested_dict\n",
    "for year, data in nested_dict.items():\n",
    "    total_classified_bridges = data['classified_bridges']\n",
    "    for category in range(1, 8):\n",
    "        category_count = data['condition_counts'].get(category, 0)\n",
    "        category_percent = (category_count / total_classified_bridges) * 100\n",
    "        category_percentages[category].append(category_percent)\n",
    "\n",
    "# Extract and calculate percentages for each year and each category from nested_dict_filtered\n",
    "for year, data in nested_dict_filtered.items():\n",
    "    total_classified_bridges = data['classified_bridges']\n",
    "    for category in range(1, 8):\n",
    "        category_count = data['condition_counts'].get(category, 0)\n",
    "        category_percent = (category_count / total_classified_bridges) * 100\n",
    "        category_percentages_filtered[category].append(category_percent)\n",
    "\n",
    "# List of years for the x-axis\n",
    "years = [int(year.split('_')[1]) for year in nested_dict.keys()]\n",
    "\n",
    "# Define categories\n",
    "categories = [\"bezchybný\", \"veľmi dobrý\", \"dobrý\",\n",
    "              \"uspokojivý\", \"zlý\", \"veľmi zlý\", \"havarijný\"]\n",
    "\n",
    "# Define line types for filtered data\n",
    "line_types = ['lines', 'lines', 'lines', 'lines', 'lines', 'lines', 'lines']\n",
    "\n",
    "# Create traces for each category from nested_dict\n",
    "traces = []\n",
    "for idx, category in enumerate(range(1, 8)):\n",
    "    trace = go.Scatter(\n",
    "        x=years,\n",
    "        y=category_percentages[category],\n",
    "        mode='lines',  # Only lines, no markers\n",
    "        name=categories[category-1],\n",
    "        line=dict(color=colors[idx]),\n",
    "    )\n",
    "    traces.append(trace)\n",
    "\n",
    "# Create traces for each category from nested_dict_filtered with dashed lines\n",
    "traces_filtered = []\n",
    "for idx, category in enumerate(range(1, 8)):\n",
    "    trace_filtered = go.Scatter(\n",
    "        x=years,\n",
    "        y=category_percentages_filtered[category],\n",
    "        mode='lines',  # Only lines, no markers\n",
    "        name=f'{categories[category-1]} (Filtered)',\n",
    "        line=dict(color=colors[idx], dash='dash'),\n",
    "        showlegend=False  # Exclude legend for these traces\n",
    "    )\n",
    "    traces_filtered.append(trace_filtered)\n",
    "\n",
    "# Combine all traces\n",
    "all_traces = traces + traces_filtered\n",
    "\n",
    "# Create layout\n",
    "layout = go.Layout(\n",
    "    title=\"Vývoj STS prefabrikovaných predpätých mostov v správe SÚC TTSK\",\n",
    "    # xaxis=dict(title=\"Rok\"),\n",
    "    yaxis=dict(title=\"% zastúpenie v danej kategórii\"),\n",
    "    font=dict(family=\"Montserrat\", size=14),\n",
    "    plot_bgcolor='#eeeeee',  # Set background color\n",
    "    margin=dict(l=50, r=50, t=50, b=50),  # Adjust margins\n",
    "    title_y=0.97\n",
    ")\n",
    "\n",
    "# Create figure\n",
    "fig = go.Figure(data=all_traces, layout=layout)\n",
    "\n",
    "# Show plot\n",
    "fig.show()"
   ]
  },
  {
   "cell_type": "code",
   "execution_count": 18,
   "metadata": {},
   "outputs": [],
   "source": [
    "import geopandas as gpd\n",
    "# Replace the file path with your actual file path\n",
    "file_path = r'C:\\Users\\relia\\Documents\\GitHub\\Bridges\\GeoJSONs\\regions_epsg_4326.geojson'\n",
    "\n",
    "# Load the GeoJSON file into a GeoDataFrame\n",
    "gdf = gpd.read_file(file_path)\n",
    "# Display the first few rows of the GeoDataFrame\n",
    "# gdf"
   ]
  },
  {
   "cell_type": "code",
   "execution_count": 20,
   "metadata": {},
   "outputs": [
    {
     "data": {
      "text/html": [
       "<div style=\"width:100%;\"><div style=\"position:relative;width:100%;height:0;padding-bottom:60%;\"><span style=\"color:#565656\">Make this Notebook Trusted to load map: File -> Trust Notebook</span><iframe srcdoc=\"&lt;!DOCTYPE html&gt;\n",
       "&lt;html&gt;\n",
       "&lt;head&gt;\n",
       "    \n",
       "    &lt;meta http-equiv=&quot;content-type&quot; content=&quot;text/html; charset=UTF-8&quot; /&gt;\n",
       "    \n",
       "        &lt;script&gt;\n",
       "            L_NO_TOUCH = false;\n",
       "            L_DISABLE_3D = false;\n",
       "        &lt;/script&gt;\n",
       "    \n",
       "    &lt;style&gt;html, body {width: 100%;height: 100%;margin: 0;padding: 0;}&lt;/style&gt;\n",
       "    &lt;style&gt;#map {position:absolute;top:0;bottom:0;right:0;left:0;}&lt;/style&gt;\n",
       "    &lt;script src=&quot;https://cdn.jsdelivr.net/npm/leaflet@1.9.3/dist/leaflet.js&quot;&gt;&lt;/script&gt;\n",
       "    &lt;script src=&quot;https://code.jquery.com/jquery-3.7.1.min.js&quot;&gt;&lt;/script&gt;\n",
       "    &lt;script src=&quot;https://cdn.jsdelivr.net/npm/bootstrap@5.2.2/dist/js/bootstrap.bundle.min.js&quot;&gt;&lt;/script&gt;\n",
       "    &lt;script src=&quot;https://cdnjs.cloudflare.com/ajax/libs/Leaflet.awesome-markers/2.0.2/leaflet.awesome-markers.js&quot;&gt;&lt;/script&gt;\n",
       "    &lt;link rel=&quot;stylesheet&quot; href=&quot;https://cdn.jsdelivr.net/npm/leaflet@1.9.3/dist/leaflet.css&quot;/&gt;\n",
       "    &lt;link rel=&quot;stylesheet&quot; href=&quot;https://cdn.jsdelivr.net/npm/bootstrap@5.2.2/dist/css/bootstrap.min.css&quot;/&gt;\n",
       "    &lt;link rel=&quot;stylesheet&quot; href=&quot;https://netdna.bootstrapcdn.com/bootstrap/3.0.0/css/bootstrap.min.css&quot;/&gt;\n",
       "    &lt;link rel=&quot;stylesheet&quot; href=&quot;https://cdn.jsdelivr.net/npm/@fortawesome/fontawesome-free@6.2.0/css/all.min.css&quot;/&gt;\n",
       "    &lt;link rel=&quot;stylesheet&quot; href=&quot;https://cdnjs.cloudflare.com/ajax/libs/Leaflet.awesome-markers/2.0.2/leaflet.awesome-markers.css&quot;/&gt;\n",
       "    &lt;link rel=&quot;stylesheet&quot; href=&quot;https://cdn.jsdelivr.net/gh/python-visualization/folium/folium/templates/leaflet.awesome.rotate.min.css&quot;/&gt;\n",
       "    \n",
       "            &lt;meta name=&quot;viewport&quot; content=&quot;width=device-width,\n",
       "                initial-scale=1.0, maximum-scale=1.0, user-scalable=no&quot; /&gt;\n",
       "            &lt;style&gt;\n",
       "                #map_eda33d843d9f470f9eaf967f7867e345 {\n",
       "                    position: relative;\n",
       "                    width: 100.0%;\n",
       "                    height: 100.0%;\n",
       "                    left: 0.0%;\n",
       "                    top: 0.0%;\n",
       "                }\n",
       "                .leaflet-container { font-size: 1rem; }\n",
       "            &lt;/style&gt;\n",
       "        \n",
       "&lt;/head&gt;\n",
       "&lt;body&gt;\n",
       "    \n",
       "    \n",
       "            &lt;div class=&quot;folium-map&quot; id=&quot;map_eda33d843d9f470f9eaf967f7867e345&quot; &gt;&lt;/div&gt;\n",
       "        \n",
       "&lt;/body&gt;\n",
       "&lt;script&gt;\n",
       "    \n",
       "    \n",
       "            var map_eda33d843d9f470f9eaf967f7867e345 = L.map(\n",
       "                &quot;map_eda33d843d9f470f9eaf967f7867e345&quot;,\n",
       "                {\n",
       "                    center: [48.355273137999994, 17.517643802600002],\n",
       "                    crs: L.CRS.EPSG3857,\n",
       "                    zoom: 9,\n",
       "                    zoomControl: true,\n",
       "                    preferCanvas: false,\n",
       "                }\n",
       "            );\n",
       "\n",
       "            \n",
       "\n",
       "        \n",
       "    \n",
       "            var tile_layer_6536ed0fa2c15be8e3b89d5ced0d0f20 = L.tileLayer(\n",
       "                &quot;https://cartodb-basemaps-{s}.global.ssl.fastly.net/light_all/{z}/{x}/{y}.png&quot;,\n",
       "                {&quot;attribution&quot;: &quot;\\u0026copy; \\u003ca target=\\&quot;_blank\\&quot; href=\\&quot;http://www.openstreetmap.org/copyright\\&quot;\\u003eOpenStreetMap\\u003c/a\\u003e contributors \\u0026copy; \\u003ca target=\\&quot;_blank\\&quot; href=\\&quot;http://cartodb.com/attributions\\&quot;\\u003eCartoDB\\u003c/a\\u003e, CartoDB \\u003ca target=\\&quot;_blank\\&quot; href =\\&quot;http://cartodb.com/attributions\\&quot;\\u003eattributions\\u003c/a\\u003e&quot;, &quot;detectRetina&quot;: false, &quot;maxNativeZoom&quot;: 18, &quot;maxZoom&quot;: 18, &quot;minZoom&quot;: 0, &quot;noWrap&quot;: false, &quot;opacity&quot;: 1, &quot;subdomains&quot;: &quot;abc&quot;, &quot;tms&quot;: false}\n",
       "            );\n",
       "        \n",
       "    \n",
       "                tile_layer_6536ed0fa2c15be8e3b89d5ced0d0f20.addTo(map_eda33d843d9f470f9eaf967f7867e345);\n",
       "    \n",
       "            var marker_b237955aed126862f6b09a001623b7cc = L.marker(\n",
       "                [48.824790264, 17.167195441],\n",
       "                {}\n",
       "            ).addTo(map_eda33d843d9f470f9eaf967f7867e345);\n",
       "        \n",
       "    \n",
       "        var custom_icon_7d31b9f77ac1a636f94537c7aacc96ea = L.icon({&quot;iconAnchor&quot;: [25.0, 50], &quot;iconSize&quot;: [50, 50], &quot;iconUrl&quot;: &quot;https://raw.githubusercontent.com/Medvedku/Assets/main/markers/bridge_marker_Cartodb_orng.svg&quot;});\n",
       "        marker_b237955aed126862f6b09a001623b7cc.setIcon(custom_icon_7d31b9f77ac1a636f94537c7aacc96ea);\n",
       "        \n",
       "    \n",
       "        var popup_d1a4bf7376a8564b3c9e86d09232fa76 = L.popup({&quot;maxWidth&quot;: &quot;100%&quot;});\n",
       "\n",
       "        \n",
       "            \n",
       "                var html_81b6dd3560e8b5c630a20edfbc7adc7d = $(`&lt;div id=&quot;html_81b6dd3560e8b5c630a20edfbc7adc7d&quot; style=&quot;width: 100.0%; height: 100.0%;&quot;&gt;&lt;table style=&#x27;width:400px;&#x27;&gt;&lt;tr&gt;&lt;th style=&#x27;text-align:left;&#x27;&gt;Názov mosta:&lt;/th&gt;&lt;td&gt;426-021 Most cez potok Chvojnica pred mestom Holíč&lt;/td&gt;&lt;/tr&gt;&lt;tr&gt;&lt;th style=&#x27;text-align:left;&#x27;&gt;Trieda PK:&lt;/th&gt;&lt;td&gt;cesta II. triedy&lt;/td&gt;&lt;/tr&gt;&lt;tr&gt;&lt;th style=&#x27;text-align:left;&#x27;&gt;Dĺžka premostenia:&lt;/th&gt;&lt;td&gt;14.5 m&lt;/td&gt;&lt;/tr&gt;&lt;tr&gt;&lt;th style=&#x27;text-align:left;&#x27;&gt;Druh konštrukcie:&lt;/th&gt;&lt;td&gt;trámová&lt;/td&gt;&lt;/tr&gt;&lt;tr&gt;&lt;th style=&#x27;text-align:left;&#x27;&gt;Materiál:&lt;/th&gt;&lt;td&gt;prefabrikovaný predpätý betón&lt;/td&gt;&lt;/tr&gt;&lt;tr&gt;&lt;th style=&#x27;text-align:left;&#x27;&gt;Rok postavenia:&lt;/th&gt;&lt;td&gt;1961&lt;/td&gt;&lt;/tr&gt;&lt;tr&gt;&lt;th style=&#x27;text-align:left;&#x27;&gt;GPS Coordinates:&lt;/th&gt;&lt;td&gt;(48.8248, 17.1672)&lt;/td&gt;&lt;/tr&gt;&lt;/table&gt;&lt;/div&gt;`)[0];\n",
       "                popup_d1a4bf7376a8564b3c9e86d09232fa76.setContent(html_81b6dd3560e8b5c630a20edfbc7adc7d);\n",
       "            \n",
       "        \n",
       "\n",
       "        marker_b237955aed126862f6b09a001623b7cc.bindPopup(popup_d1a4bf7376a8564b3c9e86d09232fa76)\n",
       "        ;\n",
       "\n",
       "        \n",
       "    \n",
       "    \n",
       "            marker_b237955aed126862f6b09a001623b7cc.bindTooltip(\n",
       "                `&lt;div&gt;\n",
       "                     &lt;table style=&#x27;width:50px;&#x27;&gt;&lt;tr&gt;&lt;th colspan=&#x27;2&#x27; style=&#x27;text-align:left;&#x27;&gt;Most M433&lt;/th&gt;&lt;/tr&gt;&lt;tr&gt;&lt;td style=&#x27;text-align:left;&#x27;&gt;STS:&lt;/td&gt;&lt;td&gt;6&lt;/td&gt;&lt;/tr&gt;&lt;/table&gt;\n",
       "                 &lt;/div&gt;`,\n",
       "                {&quot;sticky&quot;: true}\n",
       "            );\n",
       "        \n",
       "    \n",
       "            var marker_88ee37cae666cae41890d0b9a5ba2904 = L.marker(\n",
       "                [48.735571978, 17.40816491],\n",
       "                {}\n",
       "            ).addTo(map_eda33d843d9f470f9eaf967f7867e345);\n",
       "        \n",
       "    \n",
       "        var custom_icon_ddfba1bffb0be751bf913838682ef934 = L.icon({&quot;iconAnchor&quot;: [25.0, 50], &quot;iconSize&quot;: [50, 50], &quot;iconUrl&quot;: &quot;https://raw.githubusercontent.com/Medvedku/Assets/main/markers/bridge_marker_Cartodb_orng.svg&quot;});\n",
       "        marker_88ee37cae666cae41890d0b9a5ba2904.setIcon(custom_icon_ddfba1bffb0be751bf913838682ef934);\n",
       "        \n",
       "    \n",
       "        var popup_ac1aa8314af11bba703c07b7a47ed705 = L.popup({&quot;maxWidth&quot;: &quot;100%&quot;});\n",
       "\n",
       "        \n",
       "            \n",
       "                var html_4e4b7b0567444dfa03855a0c3d64b240 = $(`&lt;div id=&quot;html_4e4b7b0567444dfa03855a0c3d64b240&quot; style=&quot;width: 100.0%; height: 100.0%;&quot;&gt;&lt;table style=&#x27;width:400px;&#x27;&gt;&lt;tr&gt;&lt;th style=&#x27;text-align:left;&#x27;&gt;Názov mosta:&lt;/th&gt;&lt;td&gt;500-018 Most cez potok Vrbovčianku v obci Sobotište&lt;/td&gt;&lt;/tr&gt;&lt;tr&gt;&lt;th style=&#x27;text-align:left;&#x27;&gt;Trieda PK:&lt;/th&gt;&lt;td&gt;cesta II. triedy&lt;/td&gt;&lt;/tr&gt;&lt;tr&gt;&lt;th style=&#x27;text-align:left;&#x27;&gt;Dĺžka premostenia:&lt;/th&gt;&lt;td&gt;17.75 m&lt;/td&gt;&lt;/tr&gt;&lt;tr&gt;&lt;th style=&#x27;text-align:left;&#x27;&gt;Druh konštrukcie:&lt;/th&gt;&lt;td&gt;dosková&lt;/td&gt;&lt;/tr&gt;&lt;tr&gt;&lt;th style=&#x27;text-align:left;&#x27;&gt;Materiál:&lt;/th&gt;&lt;td&gt;prefabrikovaný predpätý betón&lt;/td&gt;&lt;/tr&gt;&lt;tr&gt;&lt;th style=&#x27;text-align:left;&#x27;&gt;Rok postavenia:&lt;/th&gt;&lt;td&gt;1966&lt;/td&gt;&lt;/tr&gt;&lt;tr&gt;&lt;th style=&#x27;text-align:left;&#x27;&gt;GPS Coordinates:&lt;/th&gt;&lt;td&gt;(48.7356, 17.4082)&lt;/td&gt;&lt;/tr&gt;&lt;/table&gt;&lt;/div&gt;`)[0];\n",
       "                popup_ac1aa8314af11bba703c07b7a47ed705.setContent(html_4e4b7b0567444dfa03855a0c3d64b240);\n",
       "            \n",
       "        \n",
       "\n",
       "        marker_88ee37cae666cae41890d0b9a5ba2904.bindPopup(popup_ac1aa8314af11bba703c07b7a47ed705)\n",
       "        ;\n",
       "\n",
       "        \n",
       "    \n",
       "    \n",
       "            marker_88ee37cae666cae41890d0b9a5ba2904.bindTooltip(\n",
       "                `&lt;div&gt;\n",
       "                     &lt;table style=&#x27;width:50px;&#x27;&gt;&lt;tr&gt;&lt;th colspan=&#x27;2&#x27; style=&#x27;text-align:left;&#x27;&gt;Most M6043&lt;/th&gt;&lt;/tr&gt;&lt;tr&gt;&lt;td style=&#x27;text-align:left;&#x27;&gt;STS:&lt;/td&gt;&lt;td&gt;6&lt;/td&gt;&lt;/tr&gt;&lt;/table&gt;\n",
       "                 &lt;/div&gt;`,\n",
       "                {&quot;sticky&quot;: true}\n",
       "            );\n",
       "        \n",
       "    \n",
       "            var marker_64be1db6ff29dbec2bb3c336f58d8ce5 = L.marker(\n",
       "                [48.144262336, 17.432732451],\n",
       "                {}\n",
       "            ).addTo(map_eda33d843d9f470f9eaf967f7867e345);\n",
       "        \n",
       "    \n",
       "        var custom_icon_14f7be0bc69c30ea969704127c3b2ca9 = L.icon({&quot;iconAnchor&quot;: [25.0, 50], &quot;iconSize&quot;: [50, 50], &quot;iconUrl&quot;: &quot;https://raw.githubusercontent.com/Medvedku/Assets/main/markers/bridge_marker_Cartodb_orng.svg&quot;});\n",
       "        marker_64be1db6ff29dbec2bb3c336f58d8ce5.setIcon(custom_icon_14f7be0bc69c30ea969704127c3b2ca9);\n",
       "        \n",
       "    \n",
       "        var popup_b688839828b2b7668130d916eb5775f3 = L.popup({&quot;maxWidth&quot;: &quot;100%&quot;});\n",
       "\n",
       "        \n",
       "            \n",
       "                var html_9fbe507df914995c1071b3e20425efb0 = $(`&lt;div id=&quot;html_9fbe507df914995c1071b3e20425efb0&quot; style=&quot;width: 100.0%; height: 100.0%;&quot;&gt;&lt;table style=&#x27;width:400px;&#x27;&gt;&lt;tr&gt;&lt;th style=&#x27;text-align:left;&#x27;&gt;Názov mosta:&lt;/th&gt;&lt;td&gt;503-003 Most cez Malý Dunaj za obcou Zlaté Klasy&lt;/td&gt;&lt;/tr&gt;&lt;tr&gt;&lt;th style=&#x27;text-align:left;&#x27;&gt;Trieda PK:&lt;/th&gt;&lt;td&gt;cesta II. triedy&lt;/td&gt;&lt;/tr&gt;&lt;tr&gt;&lt;th style=&#x27;text-align:left;&#x27;&gt;Dĺžka premostenia:&lt;/th&gt;&lt;td&gt;48.0 m&lt;/td&gt;&lt;/tr&gt;&lt;tr&gt;&lt;th style=&#x27;text-align:left;&#x27;&gt;Druh konštrukcie:&lt;/th&gt;&lt;td&gt;trámová&lt;/td&gt;&lt;/tr&gt;&lt;tr&gt;&lt;th style=&#x27;text-align:left;&#x27;&gt;Materiál:&lt;/th&gt;&lt;td&gt;prefabrikovaný predpätý betón&lt;/td&gt;&lt;/tr&gt;&lt;tr&gt;&lt;th style=&#x27;text-align:left;&#x27;&gt;Rok postavenia:&lt;/th&gt;&lt;td&gt;1964&lt;/td&gt;&lt;/tr&gt;&lt;tr&gt;&lt;th style=&#x27;text-align:left;&#x27;&gt;GPS Coordinates:&lt;/th&gt;&lt;td&gt;(48.1443, 17.4327)&lt;/td&gt;&lt;/tr&gt;&lt;/table&gt;&lt;/div&gt;`)[0];\n",
       "                popup_b688839828b2b7668130d916eb5775f3.setContent(html_9fbe507df914995c1071b3e20425efb0);\n",
       "            \n",
       "        \n",
       "\n",
       "        marker_64be1db6ff29dbec2bb3c336f58d8ce5.bindPopup(popup_b688839828b2b7668130d916eb5775f3)\n",
       "        ;\n",
       "\n",
       "        \n",
       "    \n",
       "    \n",
       "            marker_64be1db6ff29dbec2bb3c336f58d8ce5.bindTooltip(\n",
       "                `&lt;div&gt;\n",
       "                     &lt;table style=&#x27;width:50px;&#x27;&gt;&lt;tr&gt;&lt;th colspan=&#x27;2&#x27; style=&#x27;text-align:left;&#x27;&gt;Most M4819&lt;/th&gt;&lt;/tr&gt;&lt;tr&gt;&lt;td style=&#x27;text-align:left;&#x27;&gt;STS:&lt;/td&gt;&lt;td&gt;6&lt;/td&gt;&lt;/tr&gt;&lt;/table&gt;\n",
       "                 &lt;/div&gt;`,\n",
       "                {&quot;sticky&quot;: true}\n",
       "            );\n",
       "        \n",
       "    \n",
       "            var marker_c76e107c6145ea8b155fbd18b6ca2644 = L.marker(\n",
       "                [47.92819, 17.48778],\n",
       "                {}\n",
       "            ).addTo(map_eda33d843d9f470f9eaf967f7867e345);\n",
       "        \n",
       "    \n",
       "        var custom_icon_b939d3aee38c4ec0c0ab1d485b47481f = L.icon({&quot;iconAnchor&quot;: [25.0, 50], &quot;iconSize&quot;: [50, 50], &quot;iconUrl&quot;: &quot;https://raw.githubusercontent.com/Medvedku/Assets/main/markers/bridge_marker_Cartodb_orng.svg&quot;});\n",
       "        marker_c76e107c6145ea8b155fbd18b6ca2644.setIcon(custom_icon_b939d3aee38c4ec0c0ab1d485b47481f);\n",
       "        \n",
       "    \n",
       "        var popup_ffdbcb602b888a8a8ed8d424d7ace157 = L.popup({&quot;maxWidth&quot;: &quot;100%&quot;});\n",
       "\n",
       "        \n",
       "            \n",
       "                var html_43e77715ebeb6795e52abb4b8f0ceb69 = $(`&lt;div id=&quot;html_43e77715ebeb6795e52abb4b8f0ceb69&quot; style=&quot;width: 100.0%; height: 100.0%;&quot;&gt;&lt;table style=&#x27;width:400px;&#x27;&gt;&lt;tr&gt;&lt;th style=&#x27;text-align:left;&#x27;&gt;Názov mosta:&lt;/th&gt;&lt;td&gt;506-002 Most cez kanál v k.ú. obce Trstená na Ostrove v km 12,250&lt;/td&gt;&lt;/tr&gt;&lt;tr&gt;&lt;th style=&#x27;text-align:left;&#x27;&gt;Trieda PK:&lt;/th&gt;&lt;td&gt;cesta II. triedy&lt;/td&gt;&lt;/tr&gt;&lt;tr&gt;&lt;th style=&#x27;text-align:left;&#x27;&gt;Dĺžka premostenia:&lt;/th&gt;&lt;td&gt;16.45 m&lt;/td&gt;&lt;/tr&gt;&lt;tr&gt;&lt;th style=&#x27;text-align:left;&#x27;&gt;Druh konštrukcie:&lt;/th&gt;&lt;td&gt;trámová&lt;/td&gt;&lt;/tr&gt;&lt;tr&gt;&lt;th style=&#x27;text-align:left;&#x27;&gt;Materiál:&lt;/th&gt;&lt;td&gt;prefabrikovaný predpätý betón&lt;/td&gt;&lt;/tr&gt;&lt;tr&gt;&lt;th style=&#x27;text-align:left;&#x27;&gt;Rok postavenia:&lt;/th&gt;&lt;td&gt;1962&lt;/td&gt;&lt;/tr&gt;&lt;tr&gt;&lt;th style=&#x27;text-align:left;&#x27;&gt;GPS Coordinates:&lt;/th&gt;&lt;td&gt;(47.9282, 17.4878)&lt;/td&gt;&lt;/tr&gt;&lt;/table&gt;&lt;/div&gt;`)[0];\n",
       "                popup_ffdbcb602b888a8a8ed8d424d7ace157.setContent(html_43e77715ebeb6795e52abb4b8f0ceb69);\n",
       "            \n",
       "        \n",
       "\n",
       "        marker_c76e107c6145ea8b155fbd18b6ca2644.bindPopup(popup_ffdbcb602b888a8a8ed8d424d7ace157)\n",
       "        ;\n",
       "\n",
       "        \n",
       "    \n",
       "    \n",
       "            marker_c76e107c6145ea8b155fbd18b6ca2644.bindTooltip(\n",
       "                `&lt;div&gt;\n",
       "                     &lt;table style=&#x27;width:50px;&#x27;&gt;&lt;tr&gt;&lt;th colspan=&#x27;2&#x27; style=&#x27;text-align:left;&#x27;&gt;Most M2629&lt;/th&gt;&lt;/tr&gt;&lt;tr&gt;&lt;td style=&#x27;text-align:left;&#x27;&gt;STS:&lt;/td&gt;&lt;td&gt;7&lt;/td&gt;&lt;/tr&gt;&lt;/table&gt;\n",
       "                 &lt;/div&gt;`,\n",
       "                {&quot;sticky&quot;: true}\n",
       "            );\n",
       "        \n",
       "    \n",
       "            var marker_ed76b082c1f1575729cf9a03dee5a921 = L.marker(\n",
       "                [48.19162, 17.59677],\n",
       "                {}\n",
       "            ).addTo(map_eda33d843d9f470f9eaf967f7867e345);\n",
       "        \n",
       "    \n",
       "        var custom_icon_ddea68b41cf7e757ad73993377a7258a = L.icon({&quot;iconAnchor&quot;: [25.0, 50], &quot;iconSize&quot;: [50, 50], &quot;iconUrl&quot;: &quot;https://raw.githubusercontent.com/Medvedku/Assets/main/markers/bridge_marker_Cartodb_orng.svg&quot;});\n",
       "        marker_ed76b082c1f1575729cf9a03dee5a921.setIcon(custom_icon_ddea68b41cf7e757ad73993377a7258a);\n",
       "        \n",
       "    \n",
       "        var popup_2d232af6d7863b8b0d9283433992eb84 = L.popup({&quot;maxWidth&quot;: &quot;100%&quot;});\n",
       "\n",
       "        \n",
       "            \n",
       "                var html_c01d329c21365ec097c085391ee8f1d5 = $(`&lt;div id=&quot;html_c01d329c21365ec097c085391ee8f1d5&quot; style=&quot;width: 100.0%; height: 100.0%;&quot;&gt;&lt;table style=&#x27;width:400px;&#x27;&gt;&lt;tr&gt;&lt;th style=&#x27;text-align:left;&#x27;&gt;Názov mosta:&lt;/th&gt;&lt;td&gt;Most cez potok Čierna voda za obcou Velké Uľany&lt;/td&gt;&lt;/tr&gt;&lt;tr&gt;&lt;th style=&#x27;text-align:left;&#x27;&gt;Trieda PK:&lt;/th&gt;&lt;td&gt;cesta II. triedy&lt;/td&gt;&lt;/tr&gt;&lt;tr&gt;&lt;th style=&#x27;text-align:left;&#x27;&gt;Dĺžka premostenia:&lt;/th&gt;&lt;td&gt;20.3 m&lt;/td&gt;&lt;/tr&gt;&lt;tr&gt;&lt;th style=&#x27;text-align:left;&#x27;&gt;Druh konštrukcie:&lt;/th&gt;&lt;td&gt;trámová&lt;/td&gt;&lt;/tr&gt;&lt;tr&gt;&lt;th style=&#x27;text-align:left;&#x27;&gt;Materiál:&lt;/th&gt;&lt;td&gt;prefabrikovaný predpätý betón&lt;/td&gt;&lt;/tr&gt;&lt;tr&gt;&lt;th style=&#x27;text-align:left;&#x27;&gt;Rok postavenia:&lt;/th&gt;&lt;td&gt;1960&lt;/td&gt;&lt;/tr&gt;&lt;tr&gt;&lt;th style=&#x27;text-align:left;&#x27;&gt;GPS Coordinates:&lt;/th&gt;&lt;td&gt;(48.1916, 17.5968)&lt;/td&gt;&lt;/tr&gt;&lt;/table&gt;&lt;/div&gt;`)[0];\n",
       "                popup_2d232af6d7863b8b0d9283433992eb84.setContent(html_c01d329c21365ec097c085391ee8f1d5);\n",
       "            \n",
       "        \n",
       "\n",
       "        marker_ed76b082c1f1575729cf9a03dee5a921.bindPopup(popup_2d232af6d7863b8b0d9283433992eb84)\n",
       "        ;\n",
       "\n",
       "        \n",
       "    \n",
       "    \n",
       "            marker_ed76b082c1f1575729cf9a03dee5a921.bindTooltip(\n",
       "                `&lt;div&gt;\n",
       "                     &lt;table style=&#x27;width:50px;&#x27;&gt;&lt;tr&gt;&lt;th colspan=&#x27;2&#x27; style=&#x27;text-align:left;&#x27;&gt;Most M392&lt;/th&gt;&lt;/tr&gt;&lt;tr&gt;&lt;td style=&#x27;text-align:left;&#x27;&gt;STS:&lt;/td&gt;&lt;td&gt;7&lt;/td&gt;&lt;/tr&gt;&lt;/table&gt;\n",
       "                 &lt;/div&gt;`,\n",
       "                {&quot;sticky&quot;: true}\n",
       "            );\n",
       "        \n",
       "    \n",
       "            var marker_5791ba4f9f74e0358c02495ad1fe3fb8 = L.marker(\n",
       "                [48.184389574, 17.728957156],\n",
       "                {}\n",
       "            ).addTo(map_eda33d843d9f470f9eaf967f7867e345);\n",
       "        \n",
       "    \n",
       "        var custom_icon_93d9c06a3b94a6165986babafe038ed1 = L.icon({&quot;iconAnchor&quot;: [25.0, 50], &quot;iconSize&quot;: [50, 50], &quot;iconUrl&quot;: &quot;https://raw.githubusercontent.com/Medvedku/Assets/main/markers/bridge_marker_Cartodb_orng.svg&quot;});\n",
       "        marker_5791ba4f9f74e0358c02495ad1fe3fb8.setIcon(custom_icon_93d9c06a3b94a6165986babafe038ed1);\n",
       "        \n",
       "    \n",
       "        var popup_3a67151e62363e0cfd1e0fec716ed718 = L.popup({&quot;maxWidth&quot;: &quot;100%&quot;});\n",
       "\n",
       "        \n",
       "            \n",
       "                var html_9241b023f237444a7045deec03896679 = $(`&lt;div id=&quot;html_9241b023f237444a7045deec03896679&quot; style=&quot;width: 100.0%; height: 100.0%;&quot;&gt;&lt;table style=&#x27;width:400px;&#x27;&gt;&lt;tr&gt;&lt;th style=&#x27;text-align:left;&#x27;&gt;Názov mosta:&lt;/th&gt;&lt;td&gt;Most nad železničnou traťou Bratislava - Štúrovo v Galante&lt;/td&gt;&lt;/tr&gt;&lt;tr&gt;&lt;th style=&#x27;text-align:left;&#x27;&gt;Trieda PK:&lt;/th&gt;&lt;td&gt;cesta II. triedy&lt;/td&gt;&lt;/tr&gt;&lt;tr&gt;&lt;th style=&#x27;text-align:left;&#x27;&gt;Dĺžka premostenia:&lt;/th&gt;&lt;td&gt;106.6 m&lt;/td&gt;&lt;/tr&gt;&lt;tr&gt;&lt;th style=&#x27;text-align:left;&#x27;&gt;Druh konštrukcie:&lt;/th&gt;&lt;td&gt;trámová&lt;/td&gt;&lt;/tr&gt;&lt;tr&gt;&lt;th style=&#x27;text-align:left;&#x27;&gt;Materiál:&lt;/th&gt;&lt;td&gt;prefabrikovaný predpätý betón&lt;/td&gt;&lt;/tr&gt;&lt;tr&gt;&lt;th style=&#x27;text-align:left;&#x27;&gt;Rok postavenia:&lt;/th&gt;&lt;td&gt;1968&lt;/td&gt;&lt;/tr&gt;&lt;tr&gt;&lt;th style=&#x27;text-align:left;&#x27;&gt;GPS Coordinates:&lt;/th&gt;&lt;td&gt;(48.1844, 17.7290)&lt;/td&gt;&lt;/tr&gt;&lt;/table&gt;&lt;/div&gt;`)[0];\n",
       "                popup_3a67151e62363e0cfd1e0fec716ed718.setContent(html_9241b023f237444a7045deec03896679);\n",
       "            \n",
       "        \n",
       "\n",
       "        marker_5791ba4f9f74e0358c02495ad1fe3fb8.bindPopup(popup_3a67151e62363e0cfd1e0fec716ed718)\n",
       "        ;\n",
       "\n",
       "        \n",
       "    \n",
       "    \n",
       "            marker_5791ba4f9f74e0358c02495ad1fe3fb8.bindTooltip(\n",
       "                `&lt;div&gt;\n",
       "                     &lt;table style=&#x27;width:50px;&#x27;&gt;&lt;tr&gt;&lt;th colspan=&#x27;2&#x27; style=&#x27;text-align:left;&#x27;&gt;Most M5581&lt;/th&gt;&lt;/tr&gt;&lt;tr&gt;&lt;td style=&#x27;text-align:left;&#x27;&gt;STS:&lt;/td&gt;&lt;td&gt;6&lt;/td&gt;&lt;/tr&gt;&lt;/table&gt;\n",
       "                 &lt;/div&gt;`,\n",
       "                {&quot;sticky&quot;: true}\n",
       "            );\n",
       "        \n",
       "    \n",
       "            var marker_88142e0f42428e41b13d8d303c93be13 = L.marker(\n",
       "                [48.05891, 17.82389],\n",
       "                {}\n",
       "            ).addTo(map_eda33d843d9f470f9eaf967f7867e345);\n",
       "        \n",
       "    \n",
       "        var custom_icon_81882bd5e4b59e67f26d7e62def7d300 = L.icon({&quot;iconAnchor&quot;: [25.0, 50], &quot;iconSize&quot;: [50, 50], &quot;iconUrl&quot;: &quot;https://raw.githubusercontent.com/Medvedku/Assets/main/markers/bridge_marker_Cartodb_orng.svg&quot;});\n",
       "        marker_88142e0f42428e41b13d8d303c93be13.setIcon(custom_icon_81882bd5e4b59e67f26d7e62def7d300);\n",
       "        \n",
       "    \n",
       "        var popup_1e283ee874f9eda4fa8ff6c7a1da023f = L.popup({&quot;maxWidth&quot;: &quot;100%&quot;});\n",
       "\n",
       "        \n",
       "            \n",
       "                var html_b369d8129919c981b8101c69e231801c = $(`&lt;div id=&quot;html_b369d8129919c981b8101c69e231801c&quot; style=&quot;width: 100.0%; height: 100.0%;&quot;&gt;&lt;table style=&#x27;width:400px;&#x27;&gt;&lt;tr&gt;&lt;th style=&#x27;text-align:left;&#x27;&gt;Názov mosta:&lt;/th&gt;&lt;td&gt;Most cez potok Čierna voda v obci Kráľov Brod&lt;/td&gt;&lt;/tr&gt;&lt;tr&gt;&lt;th style=&#x27;text-align:left;&#x27;&gt;Trieda PK:&lt;/th&gt;&lt;td&gt;cesta II. triedy&lt;/td&gt;&lt;/tr&gt;&lt;tr&gt;&lt;th style=&#x27;text-align:left;&#x27;&gt;Dĺžka premostenia:&lt;/th&gt;&lt;td&gt;48.0 m&lt;/td&gt;&lt;/tr&gt;&lt;tr&gt;&lt;th style=&#x27;text-align:left;&#x27;&gt;Druh konštrukcie:&lt;/th&gt;&lt;td&gt;trámová&lt;/td&gt;&lt;/tr&gt;&lt;tr&gt;&lt;th style=&#x27;text-align:left;&#x27;&gt;Materiál:&lt;/th&gt;&lt;td&gt;prefabrikovaný predpätý betón&lt;/td&gt;&lt;/tr&gt;&lt;tr&gt;&lt;th style=&#x27;text-align:left;&#x27;&gt;Rok postavenia:&lt;/th&gt;&lt;td&gt;1963&lt;/td&gt;&lt;/tr&gt;&lt;tr&gt;&lt;th style=&#x27;text-align:left;&#x27;&gt;GPS Coordinates:&lt;/th&gt;&lt;td&gt;(48.0589, 17.8239)&lt;/td&gt;&lt;/tr&gt;&lt;/table&gt;&lt;/div&gt;`)[0];\n",
       "                popup_1e283ee874f9eda4fa8ff6c7a1da023f.setContent(html_b369d8129919c981b8101c69e231801c);\n",
       "            \n",
       "        \n",
       "\n",
       "        marker_88142e0f42428e41b13d8d303c93be13.bindPopup(popup_1e283ee874f9eda4fa8ff6c7a1da023f)\n",
       "        ;\n",
       "\n",
       "        \n",
       "    \n",
       "    \n",
       "            marker_88142e0f42428e41b13d8d303c93be13.bindTooltip(\n",
       "                `&lt;div&gt;\n",
       "                     &lt;table style=&#x27;width:50px;&#x27;&gt;&lt;tr&gt;&lt;th colspan=&#x27;2&#x27; style=&#x27;text-align:left;&#x27;&gt;Most M999&lt;/th&gt;&lt;/tr&gt;&lt;tr&gt;&lt;td style=&#x27;text-align:left;&#x27;&gt;STS:&lt;/td&gt;&lt;td&gt;7&lt;/td&gt;&lt;/tr&gt;&lt;/table&gt;\n",
       "                 &lt;/div&gt;`,\n",
       "                {&quot;sticky&quot;: true}\n",
       "            );\n",
       "        \n",
       "    \n",
       "            var marker_de83e1d6d18eb75bfd60e5b97cb7d5bf = L.marker(\n",
       "                [48.640265098, 17.143498645],\n",
       "                {}\n",
       "            ).addTo(map_eda33d843d9f470f9eaf967f7867e345);\n",
       "        \n",
       "    \n",
       "        var custom_icon_a59f0d6055519201eddb09fca6ad9ba6 = L.icon({&quot;iconAnchor&quot;: [25.0, 50], &quot;iconSize&quot;: [50, 50], &quot;iconUrl&quot;: &quot;https://raw.githubusercontent.com/Medvedku/Assets/main/markers/bridge_marker_Cartodb_orng.svg&quot;});\n",
       "        marker_de83e1d6d18eb75bfd60e5b97cb7d5bf.setIcon(custom_icon_a59f0d6055519201eddb09fca6ad9ba6);\n",
       "        \n",
       "    \n",
       "        var popup_98ba9b50da3dc1fcabe3cc145ed18f18 = L.popup({&quot;maxWidth&quot;: &quot;100%&quot;});\n",
       "\n",
       "        \n",
       "            \n",
       "                var html_aef0b11454f2caee5f3cd45f1b34b452 = $(`&lt;div id=&quot;html_aef0b11454f2caee5f3cd45f1b34b452&quot; style=&quot;width: 100.0%; height: 100.0%;&quot;&gt;&lt;table style=&#x27;width:400px;&#x27;&gt;&lt;tr&gt;&lt;th style=&#x27;text-align:left;&#x27;&gt;Názov mosta:&lt;/th&gt;&lt;td&gt;00227-009 Most cez rieku Myjavu Šaštín&lt;/td&gt;&lt;/tr&gt;&lt;tr&gt;&lt;th style=&#x27;text-align:left;&#x27;&gt;Trieda PK:&lt;/th&gt;&lt;td&gt;cesta III. triedy&lt;/td&gt;&lt;/tr&gt;&lt;tr&gt;&lt;th style=&#x27;text-align:left;&#x27;&gt;Dĺžka premostenia:&lt;/th&gt;&lt;td&gt;47.7 m&lt;/td&gt;&lt;/tr&gt;&lt;tr&gt;&lt;th style=&#x27;text-align:left;&#x27;&gt;Druh konštrukcie:&lt;/th&gt;&lt;td&gt;trámová&lt;/td&gt;&lt;/tr&gt;&lt;tr&gt;&lt;th style=&#x27;text-align:left;&#x27;&gt;Materiál:&lt;/th&gt;&lt;td&gt;prefabrikovaný predpätý betón&lt;/td&gt;&lt;/tr&gt;&lt;tr&gt;&lt;th style=&#x27;text-align:left;&#x27;&gt;Rok postavenia:&lt;/th&gt;&lt;td&gt;1960&lt;/td&gt;&lt;/tr&gt;&lt;tr&gt;&lt;th style=&#x27;text-align:left;&#x27;&gt;GPS Coordinates:&lt;/th&gt;&lt;td&gt;(48.6403, 17.1435)&lt;/td&gt;&lt;/tr&gt;&lt;/table&gt;&lt;/div&gt;`)[0];\n",
       "                popup_98ba9b50da3dc1fcabe3cc145ed18f18.setContent(html_aef0b11454f2caee5f3cd45f1b34b452);\n",
       "            \n",
       "        \n",
       "\n",
       "        marker_de83e1d6d18eb75bfd60e5b97cb7d5bf.bindPopup(popup_98ba9b50da3dc1fcabe3cc145ed18f18)\n",
       "        ;\n",
       "\n",
       "        \n",
       "    \n",
       "    \n",
       "            marker_de83e1d6d18eb75bfd60e5b97cb7d5bf.bindTooltip(\n",
       "                `&lt;div&gt;\n",
       "                     &lt;table style=&#x27;width:50px;&#x27;&gt;&lt;tr&gt;&lt;th colspan=&#x27;2&#x27; style=&#x27;text-align:left;&#x27;&gt;Most M5312&lt;/th&gt;&lt;/tr&gt;&lt;tr&gt;&lt;td style=&#x27;text-align:left;&#x27;&gt;STS:&lt;/td&gt;&lt;td&gt;6&lt;/td&gt;&lt;/tr&gt;&lt;/table&gt;\n",
       "                 &lt;/div&gt;`,\n",
       "                {&quot;sticky&quot;: true}\n",
       "            );\n",
       "        \n",
       "    \n",
       "            var marker_e10a1ce9b9228af10bf2974999519758 = L.marker(\n",
       "                [48.478650534, 17.651248492],\n",
       "                {}\n",
       "            ).addTo(map_eda33d843d9f470f9eaf967f7867e345);\n",
       "        \n",
       "    \n",
       "        var custom_icon_a6b3903df1218aeb7cf21f7fcbada55c = L.icon({&quot;iconAnchor&quot;: [25.0, 50], &quot;iconSize&quot;: [50, 50], &quot;iconUrl&quot;: &quot;https://raw.githubusercontent.com/Medvedku/Assets/main/markers/bridge_marker_Cartodb_orng.svg&quot;});\n",
       "        marker_e10a1ce9b9228af10bf2974999519758.setIcon(custom_icon_a6b3903df1218aeb7cf21f7fcbada55c);\n",
       "        \n",
       "    \n",
       "        var popup_49d2178e818b7f10649898191b8a282b = L.popup({&quot;maxWidth&quot;: &quot;100%&quot;});\n",
       "\n",
       "        \n",
       "            \n",
       "                var html_b6190c5db3bd97ef7f68055f1e5ae0af = $(`&lt;div id=&quot;html_b6190c5db3bd97ef7f68055f1e5ae0af&quot; style=&quot;width: 100.0%; height: 100.0%;&quot;&gt;&lt;table style=&#x27;width:400px;&#x27;&gt;&lt;tr&gt;&lt;th style=&#x27;text-align:left;&#x27;&gt;Názov mosta:&lt;/th&gt;&lt;td&gt;Most cez inundačné územie pred Jaslovskými Bohuniciami&lt;/td&gt;&lt;/tr&gt;&lt;tr&gt;&lt;th style=&#x27;text-align:left;&#x27;&gt;Trieda PK:&lt;/th&gt;&lt;td&gt;cesta III. triedy&lt;/td&gt;&lt;/tr&gt;&lt;tr&gt;&lt;th style=&#x27;text-align:left;&#x27;&gt;Dĺžka premostenia:&lt;/th&gt;&lt;td&gt;11.64 m&lt;/td&gt;&lt;/tr&gt;&lt;tr&gt;&lt;th style=&#x27;text-align:left;&#x27;&gt;Druh konštrukcie:&lt;/th&gt;&lt;td&gt;trámová&lt;/td&gt;&lt;/tr&gt;&lt;tr&gt;&lt;th style=&#x27;text-align:left;&#x27;&gt;Materiál:&lt;/th&gt;&lt;td&gt;prefabrikovaný predpätý betón&lt;/td&gt;&lt;/tr&gt;&lt;tr&gt;&lt;th style=&#x27;text-align:left;&#x27;&gt;Rok postavenia:&lt;/th&gt;&lt;td&gt;1960&lt;/td&gt;&lt;/tr&gt;&lt;tr&gt;&lt;th style=&#x27;text-align:left;&#x27;&gt;GPS Coordinates:&lt;/th&gt;&lt;td&gt;(48.4787, 17.6512)&lt;/td&gt;&lt;/tr&gt;&lt;/table&gt;&lt;/div&gt;`)[0];\n",
       "                popup_49d2178e818b7f10649898191b8a282b.setContent(html_b6190c5db3bd97ef7f68055f1e5ae0af);\n",
       "            \n",
       "        \n",
       "\n",
       "        marker_e10a1ce9b9228af10bf2974999519758.bindPopup(popup_49d2178e818b7f10649898191b8a282b)\n",
       "        ;\n",
       "\n",
       "        \n",
       "    \n",
       "    \n",
       "            marker_e10a1ce9b9228af10bf2974999519758.bindTooltip(\n",
       "                `&lt;div&gt;\n",
       "                     &lt;table style=&#x27;width:50px;&#x27;&gt;&lt;tr&gt;&lt;th colspan=&#x27;2&#x27; style=&#x27;text-align:left;&#x27;&gt;Most M2694&lt;/th&gt;&lt;/tr&gt;&lt;tr&gt;&lt;td style=&#x27;text-align:left;&#x27;&gt;STS:&lt;/td&gt;&lt;td&gt;6&lt;/td&gt;&lt;/tr&gt;&lt;/table&gt;\n",
       "                 &lt;/div&gt;`,\n",
       "                {&quot;sticky&quot;: true}\n",
       "            );\n",
       "        \n",
       "    \n",
       "            var marker_40bf4c2cf01879501c9dc0fec0325ff1 = L.marker(\n",
       "                [48.366081596, 17.736200931],\n",
       "                {}\n",
       "            ).addTo(map_eda33d843d9f470f9eaf967f7867e345);\n",
       "        \n",
       "    \n",
       "        var custom_icon_d00a2f9e5b0a77430e0927c8bd613b90 = L.icon({&quot;iconAnchor&quot;: [25.0, 50], &quot;iconSize&quot;: [50, 50], &quot;iconUrl&quot;: &quot;https://raw.githubusercontent.com/Medvedku/Assets/main/markers/bridge_marker_Cartodb_orng.svg&quot;});\n",
       "        marker_40bf4c2cf01879501c9dc0fec0325ff1.setIcon(custom_icon_d00a2f9e5b0a77430e0927c8bd613b90);\n",
       "        \n",
       "    \n",
       "        var popup_5ea47e41fcf1792b61c7b8efacb86636 = L.popup({&quot;maxWidth&quot;: &quot;100%&quot;});\n",
       "\n",
       "        \n",
       "            \n",
       "                var html_2dce85d45244f7174988f453afb36fb6 = $(`&lt;div id=&quot;html_2dce85d45244f7174988f453afb36fb6&quot; style=&quot;width: 100.0%; height: 100.0%;&quot;&gt;&lt;table style=&#x27;width:400px;&#x27;&gt;&lt;tr&gt;&lt;th style=&#x27;text-align:left;&#x27;&gt;Názov mosta:&lt;/th&gt;&lt;td&gt;Most cez Dudváh pred obcou Siladice&lt;/td&gt;&lt;/tr&gt;&lt;tr&gt;&lt;th style=&#x27;text-align:left;&#x27;&gt;Trieda PK:&lt;/th&gt;&lt;td&gt;cesta III. triedy&lt;/td&gt;&lt;/tr&gt;&lt;tr&gt;&lt;th style=&#x27;text-align:left;&#x27;&gt;Dĺžka premostenia:&lt;/th&gt;&lt;td&gt;19.5 m&lt;/td&gt;&lt;/tr&gt;&lt;tr&gt;&lt;th style=&#x27;text-align:left;&#x27;&gt;Druh konštrukcie:&lt;/th&gt;&lt;td&gt;trámová&lt;/td&gt;&lt;/tr&gt;&lt;tr&gt;&lt;th style=&#x27;text-align:left;&#x27;&gt;Materiál:&lt;/th&gt;&lt;td&gt;prefabrikovaný predpätý betón&lt;/td&gt;&lt;/tr&gt;&lt;tr&gt;&lt;th style=&#x27;text-align:left;&#x27;&gt;Rok postavenia:&lt;/th&gt;&lt;td&gt;1962&lt;/td&gt;&lt;/tr&gt;&lt;tr&gt;&lt;th style=&#x27;text-align:left;&#x27;&gt;GPS Coordinates:&lt;/th&gt;&lt;td&gt;(48.3661, 17.7362)&lt;/td&gt;&lt;/tr&gt;&lt;/table&gt;&lt;/div&gt;`)[0];\n",
       "                popup_5ea47e41fcf1792b61c7b8efacb86636.setContent(html_2dce85d45244f7174988f453afb36fb6);\n",
       "            \n",
       "        \n",
       "\n",
       "        marker_40bf4c2cf01879501c9dc0fec0325ff1.bindPopup(popup_5ea47e41fcf1792b61c7b8efacb86636)\n",
       "        ;\n",
       "\n",
       "        \n",
       "    \n",
       "    \n",
       "            marker_40bf4c2cf01879501c9dc0fec0325ff1.bindTooltip(\n",
       "                `&lt;div&gt;\n",
       "                     &lt;table style=&#x27;width:50px;&#x27;&gt;&lt;tr&gt;&lt;th colspan=&#x27;2&#x27; style=&#x27;text-align:left;&#x27;&gt;Most M6054&lt;/th&gt;&lt;/tr&gt;&lt;tr&gt;&lt;td style=&#x27;text-align:left;&#x27;&gt;STS:&lt;/td&gt;&lt;td&gt;6&lt;/td&gt;&lt;/tr&gt;&lt;/table&gt;\n",
       "                 &lt;/div&gt;`,\n",
       "                {&quot;sticky&quot;: true}\n",
       "            );\n",
       "        \n",
       "    \n",
       "        function geo_json_086223311f9976420d5d3cb176ce5455_styler(feature) {\n",
       "            switch(feature.id) {\n",
       "                default:\n",
       "                    return {&quot;color&quot;: &quot;#FF6600&quot;, &quot;fillColor&quot;: &quot;#FF6600&quot;, &quot;weight&quot;: 2};\n",
       "            }\n",
       "        }\n",
       "\n",
       "        function geo_json_086223311f9976420d5d3cb176ce5455_onEachFeature(feature, layer) {\n",
       "            layer.on({\n",
       "            });\n",
       "        };\n",
       "        var geo_json_086223311f9976420d5d3cb176ce5455 = L.geoJson(null, {\n",
       "                onEachFeature: geo_json_086223311f9976420d5d3cb176ce5455_onEachFeature,\n",
       "            \n",
       "                style: geo_json_086223311f9976420d5d3cb176ce5455_styler,\n",
       "        });\n",
       "\n",
       "        function geo_json_086223311f9976420d5d3cb176ce5455_add (data) {\n",
       "            geo_json_086223311f9976420d5d3cb176ce5455\n",
       "                .addData(data);\n",
       "        }\n",
       "            geo_json_086223311f9976420d5d3cb176ce5455_add({&quot;bbox&quot;: [16.933575945769682, 47.75900368731978, 17.985382752612423, 48.878162250242184], &quot;features&quot;: [{&quot;bbox&quot;: [16.933575945769682, 47.75900368731978, 17.985382752612423, 48.878162250242184], &quot;geometry&quot;: {&quot;coordinates&quot;: [[[17.218042159352645, 48.870679960669676], [17.221768890132203, 48.870464649744456], [17.225165741067265, 48.87158233451975], [17.228264908163283, 48.8709918082475], [17.230274939798573, 48.86892589219994], [17.232203649208046, 48.86832095230842], [17.236613215574973, 48.86753654468079], [17.239901575972105, 48.8684487293502], [17.245738374565654, 48.867702748998376], [17.248167185600618, 48.86576602379978], [17.24876618219257, 48.86612039909714], [17.249997863965312, 48.86536530277855], [17.250648267763047, 48.863916467079726], [17.253492213628277, 48.86221178146183], [17.25606268049195, 48.86148257176296], [17.25755781161228, 48.862200150935045], [17.258124450433563, 48.860927354894386], [17.25958809524865, 48.86123019905463], [17.25989020077436, 48.86047478872907], [17.26224649814072, 48.86005141892343], [17.262990674433446, 48.86081992258227], [17.264099775272342, 48.86051186881989], [17.263893365224344, 48.85978394816469], [17.26791141474064, 48.86066660348087], [17.268871943493025, 48.861707425204855], [17.271641989977716, 48.861778540990976], [17.274000933824908, 48.86094346481699], [17.273869192128956, 48.86036568479862], [17.27563812998802, 48.86097143139593], [17.277951529815205, 48.86031838029533], [17.278596080319755, 48.858713802495124], [17.27940715985403, 48.85875022070084], [17.279682552364598, 48.85627300713896], [17.28178086606549, 48.854260484893786], [17.28853818566336, 48.85244195571552], [17.29064027981457, 48.85067273532389], [17.2947188699192, 48.85052568838643], [17.298282333406455, 48.84945683902382], [17.301328396731147, 48.84714745884778], [17.301789965667897, 48.84523428495073], [17.3060000226728, 48.843600218429735], [17.31296265044957, 48.843359660928925], [17.31799727995857, 48.84578003444562], [17.31822785103874, 48.845228261756034], [17.32165783689394, 48.84530899936897], [17.32206329725266, 48.84150123978101], [17.324741345492143, 48.83625916381614], [17.328222873667507, 48.834945688716346], [17.330675584834726, 48.83171776003958], [17.333843551277536, 48.83111174426387], [17.336057836322595, 48.829203018107506], [17.33920485323922, 48.82801085324368], [17.3470172941207, 48.826352068456465], [17.349708699182443, 48.82310795841878], [17.354168077151684, 48.8220321252362], [17.358133414714285, 48.81816494025966], [17.359388759881938, 48.81500730136307], [17.36175657473006, 48.81362960253971], [17.36388277990561, 48.81356408618381], [17.369437423225385, 48.8153349384377], [17.370614214104734, 48.81643725148331], [17.378451215784604, 48.81919731159068], [17.379991193941695, 48.81783193589328], [17.385687215367707, 48.81598794918185], [17.38704560723537, 48.81566689218998], [17.389433819831225, 48.81660162195428], [17.39633916756929, 48.813224766238186], [17.399388000376472, 48.80911202487287], [17.397036354308906, 48.805491168167514], [17.39069529091382, 48.80125049980945], [17.39173015371328, 48.7949507797459], [17.390429888330626, 48.79375162007233], [17.38771257845568, 48.792526606246625], [17.38311368715438, 48.79393526785025], [17.38253991165022, 48.792317742869116], [17.379837798478345, 48.79015900732756], [17.367594949264486, 48.78703672043812], [17.360513549241677, 48.78294982752099], [17.360622961141594, 48.78165181846765], [17.358100636503426, 48.781298804004365], [17.355955350880727, 48.78226100200396], [17.353020028777703, 48.777538898535326], [17.357099693298718, 48.77443515883855], [17.36073300346806, 48.77548614342859], [17.361823904990008, 48.77679965515133], [17.36589796240489, 48.77732500322238], [17.367783620705072, 48.77564852290693], [17.368081803431387, 48.77441668356261], [17.367335758168274, 48.774313361361706], [17.368288012079162, 48.77327864969306], [17.370467744488295, 48.772037918593234], [17.372067056078986, 48.77243498004337], [17.373611808913417, 48.77104920008134], [17.373525182934916, 48.772636200781285], [17.37724829612884, 48.77329189126137], [17.378651461722132, 48.77287151935075], [17.37758279848137, 48.77379649018806], [17.378436623407737, 48.774337457326155], [17.38023916498556, 48.77160726025683], [17.386334679280765, 48.77163081263922], [17.386765373636763, 48.7711076128816], [17.391310313840794, 48.77198559603269], [17.396966621478335, 48.77590023201851], [17.40113444649885, 48.77737368596417], [17.40321827071536, 48.78280728404285], [17.410879931911026, 48.787863027362484], [17.41198110576384, 48.78571806532271], [17.413104827626036, 48.78560186323687], [17.41577288301731, 48.787222827505666], [17.419472640400034, 48.786394982934915], [17.420465248108265, 48.78391084262305], [17.42194480698663, 48.78400002870149], [17.422937210980162, 48.7796485922269], [17.42393080142379, 48.77966118354692], [17.423824388362018, 48.7786388522241], [17.4251239232235, 48.777744860946314], [17.424390129849797, 48.77455899315808], [17.422150044877416, 48.77381485748415], [17.421779767245933, 48.77225774153479], [17.42651652139136, 48.77093491392203], [17.427685539777833, 48.769047484047924], [17.432422258622648, 48.76899761448769], [17.437126732330864, 48.76707815126194], [17.44173007831152, 48.766434593662574], [17.443447566586674, 48.766749754751956], [17.443731727883545, 48.768332596467374], [17.445536987768836, 48.768379577296166], [17.447707329788532, 48.76761695244121], [17.44732080281384, 48.764995209131975], [17.456067690503843, 48.76150414997368], [17.472794430524534, 48.760845623547645], [17.47089179159349, 48.75746752577876], [17.474590113061776, 48.75393322524805], [17.47642578245646, 48.74819095700535], [17.478278547503834, 48.74578183685584], [17.481295857863397, 48.74595883507175], [17.481073978996406, 48.74506975163218], [17.48444532253451, 48.74504726017533], [17.484455540751444, 48.74446344975054], [17.486500710763565, 48.744190842895684], [17.486533434663105, 48.74301262379719], [17.488776701737834, 48.74319521738521], [17.489625456973535, 48.74206943640365], [17.489034940857305, 48.74086958787109], [17.491318300530725, 48.73938561455208], [17.490789055179714, 48.73662305328796], [17.492637934971402, 48.73428245641011], [17.487545232861336, 48.729795608972886], [17.487431258174777, 48.724044659045845], [17.477103003279687, 48.72530956021341], [17.475462788858614, 48.72348749362146], [17.475398958868016, 48.721740851799524], [17.47710103535368, 48.71940457998808], [17.473626098817725, 48.71431827499522], [17.473314350330643, 48.710021483418096], [17.47028214410339, 48.707283661500874], [17.46868734899559, 48.707858353634975], [17.467482233243075, 48.70714451938423], [17.469406332172927, 48.703411295000514], [17.46911652296443, 48.7015170997474], [17.46612278279311, 48.699947642060465], [17.469552770105178, 48.696824557494196], [17.470369506803785, 48.697303494034394], [17.477181318208892, 48.69452130666858], [17.47700239152204, 48.693615782170546], [17.479084571033095, 48.693891235032936], [17.480427748668944, 48.68991598951963], [17.47490006140992, 48.683050355864395], [17.47881040535663, 48.68377667256218], [17.480599923664627, 48.683229415903284], [17.480457145626087, 48.6821504768922], [17.482879587428396, 48.68257943526718], [17.482721624771504, 48.68021929122371], [17.481677277317463, 48.67982049516594], [17.483688803416108, 48.67759586836557], [17.486246003601764, 48.677221047531816], [17.48566753513008, 48.67435306575901], [17.490036517471598, 48.67443195623703], [17.488179034117895, 48.670721497571925], [17.491276935419158, 48.67061996439654], [17.491279819685936, 48.66935780847724], [17.49479938874414, 48.66816258819877], [17.501109762952492, 48.6655739274104], [17.50266933332819, 48.66098191521704], [17.504695788258907, 48.66083268725215], [17.505948557954255, 48.65614125690423], [17.508473306408508, 48.65355454100045], [17.5078784362787, 48.65100261934812], [17.505584566796628, 48.64800064681932], [17.50874165881216, 48.64703084180733], [17.51397371831889, 48.64142154153919], [17.533099629978516, 48.626627241157216], [17.534100456129163, 48.62681343606093], [17.534668831566595, 48.62930584025779], [17.537334400847723, 48.62937753239757], [17.538306471475295, 48.63027529941904], [17.541327320271616, 48.62884814634736], [17.543226731536375, 48.629804733214776], [17.54327808275223, 48.63250777416463], [17.54651764939231, 48.63924950150264], [17.55336607277042, 48.638411161133305], [17.5560726575121, 48.640798877992864], [17.55965727857882, 48.641926840795946], [17.561094172707048, 48.64480627492019], [17.563585739236284, 48.64466286164617], [17.565879033583666, 48.64319722070354], [17.571966396106674, 48.64226144898759], [17.57785429368114, 48.63774225994019], [17.58568349943137, 48.63806372806145], [17.58786564946603, 48.63888120463586], [17.59171243318773, 48.63832892266163], [17.60088604009338, 48.641677886570825], [17.60353563517927, 48.64168772751342], [17.604868576408105, 48.64011353301591], [17.611692125140205, 48.64164942776715], [17.625465580813, 48.6444822182573], [17.625074197472138, 48.64583483471838], [17.61921852358718, 48.64841654203474], [17.621235832545135, 48.65166885837491], [17.61712122160889, 48.65583138687234], [17.617899331837478, 48.656214485109324], [17.615579313958932, 48.65991836252918], [17.61578080271201, 48.66216386994109], [17.617445120964938, 48.663825365502525], [17.616888696581142, 48.66666780545873], [17.617789796873208, 48.6669643839173], [17.6160931494847, 48.66801992540863], [17.618315520228883, 48.66997626039775], [17.62053261884955, 48.66920251634372], [17.624643540642708, 48.67209522513135], [17.628199119444304, 48.6703003458961], [17.627015035752848, 48.66879538242219], [17.626259073858847, 48.669135688516704], [17.626340076780057, 48.66754213913763], [17.6253252310718, 48.667109516053834], [17.623329074692965, 48.66794180182868], [17.623664878824158, 48.66901565969562], [17.622109841784734, 48.66838794029643], [17.624807454991828, 48.66605877937999], [17.62610368601086, 48.665647788527046], [17.62691350644728, 48.666554829394904], [17.63165630697424, 48.665161353171065], [17.631033532150237, 48.66472204717263], [17.63270628680819, 48.66382425236435], [17.63403753704685, 48.66158271433903], [17.63584066598993, 48.66232054302471], [17.637294606420465, 48.66437107595786], [17.641986283421417, 48.66361264800338], [17.64562775953673, 48.662111634702214], [17.64646671425169, 48.66284455488032], [17.652742338522707, 48.66290322464622], [17.65330815676237, 48.66378661585238], [17.648274660675707, 48.66649951351253], [17.647833274172378, 48.66761718028542], [17.649981273673003, 48.66799824770657], [17.658671723336646, 48.66569962475367], [17.659423452195544, 48.6661226809774], [17.662731526435902, 48.66536717454668], [17.666141276751166, 48.668256516031065], [17.669148145737342, 48.66673433936809], [17.669410657675165, 48.668855946316626], [17.670689696754135, 48.66786819177698], [17.676744347508304, 48.66973953434131], [17.680786315956148, 48.67327239315178], [17.687555268911847, 48.678391861800904], [17.692735110243326, 48.67577588398539], [17.6993288501417, 48.68170294513208], [17.70164429668461, 48.6825049615388], [17.708832636247102, 48.678525247363325], [17.713721355287646, 48.67759369439036], [17.728694888013997, 48.66817908124454], [17.730242067888415, 48.66162459959409], [17.744604953499405, 48.65128348612119], [17.74957165247931, 48.650810162537795], [17.758328710604317, 48.646557387211374], [17.78144473143434, 48.64060262294414], [17.78238572208356, 48.638550571648345], [17.785161242261402, 48.63868820811381], [17.78869071671354, 48.63676730110446], [17.789559568740913, 48.63778756427495], [17.790721824632676, 48.637532186583634], [17.79171505260274, 48.63920678416252], [17.793706289512937, 48.63900614350597], [17.79778574091833, 48.640367661700125], [17.798768221155104, 48.63973345528749], [17.798400213677002, 48.63777399882651], [17.804394531349786, 48.637093785993244], [17.80846338736189, 48.63874011035203], [17.808586622089976, 48.64010322979024], [17.820448701086413, 48.639371852375604], [17.822337655457904, 48.64133865186199], [17.822538228403495, 48.645250609596154], [17.824123634413084, 48.646637773437156], [17.822514088642524, 48.64710341645333], [17.823101292589488, 48.64798367110636], [17.822212065411186, 48.64893343338248], [17.823468099129993, 48.6494411411875], [17.82081488249548, 48.649952503594626], [17.821161276937083, 48.6507244494418], [17.822768955114228, 48.65055727395558], [17.823275208349997, 48.6516933255506], [17.820438094305615, 48.65177164533673], [17.821690848823536, 48.65304437973196], [17.82331492350375, 48.653281431096055], [17.839342031120793, 48.65101072813017], [17.83858124149941, 48.64328222396075], [17.840391679782808, 48.64172047342728], [17.844511112824467, 48.640527187849415], [17.844591525254618, 48.63749126689871], [17.85039029137112, 48.63553601793731], [17.851180127909814, 48.632912054773726], [17.85637857806657, 48.63224784396605], [17.858047496986618, 48.63725802373157], [17.865142884361322, 48.638801445549994], [17.8665195869969, 48.63744598959343], [17.871903811746165, 48.637688320009104], [17.875904500157255, 48.63470677023958], [17.879156655847115, 48.63432891737949], [17.880441564432033, 48.627619527678085], [17.883710528102, 48.627418052723], [17.88511599685783, 48.629980684222865], [17.88617830446538, 48.629536652083466], [17.888460491732257, 48.62904240440684], [17.894121473020967, 48.630843459093164], [17.895787702595214, 48.63239244625001], [17.897066645651385, 48.63225088397791], [17.896395549753507, 48.630892826488264], [17.905752498881807, 48.625811977354616], [17.910070644727067, 48.62510534918931], [17.917509834744166, 48.62587661751846], [17.922694313861864, 48.6248004035339], [17.922863447131558, 48.62558353353101], [17.92450346682926, 48.62447456092793], [17.92592822488368, 48.62500253583907], [17.92465047711803, 48.62405436488087], [17.9275341714917, 48.623612632358636], [17.931648655403254, 48.62158681121203], [17.938525907830687, 48.62260585116601], [17.939977496719873, 48.620945045725406], [17.956694324206193, 48.622005766399], [17.95873617567648, 48.62113020936316], [17.960846078897738, 48.6205131399788], [17.95829205743865, 48.61686296317031], [17.961835213303896, 48.61475905350446], [17.963700928561142, 48.61141223686082], [17.969261721951604, 48.61109117213452], [17.9790761833779, 48.61252936590498], [17.980220832778315, 48.60542096445705], [17.985382752612423, 48.60152556822182], [17.984432250878783, 48.59982780463086], [17.9829888278171, 48.59642120032855], [17.97652779986097, 48.59627716930035], [17.976561889793164, 48.59444854900047], [17.974356602243994, 48.59104008869405], [17.949804282065962, 48.590557359401004], [17.949045242336346, 48.58918030827023], [17.952785699049304, 48.58520667043145], [17.95282667567651, 48.58302616467188], [17.946736265207377, 48.58245923978392], [17.924146223763056, 48.58159626029617], [17.91934153885002, 48.58211474133954], [17.920215336798936, 48.58420979525416], [17.915821206613007, 48.587372481204085], [17.90136393585057, 48.59268033250233], [17.896442936658367, 48.59273091125046], [17.892220387477696, 48.58832590111788], [17.891356104858936, 48.583953571659876], [17.88758206093812, 48.57668626096055], [17.888037079598266, 48.57459618056949], [17.88599178563454, 48.57285201411079], [17.886368821357976, 48.57170461817914], [17.88425716299203, 48.57114545211518], [17.883841593977014, 48.56990789522765], [17.881278507902405, 48.569983414097024], [17.875582743053332, 48.56461144530029], [17.87144691177832, 48.561502591844665], [17.872024013468064, 48.55856770982473], [17.869272430838095, 48.555819529359546], [17.869142590579298, 48.55120789571517], [17.863732294331932, 48.5445600331411], [17.86314532162163, 48.539190401870485], [17.865696007390397, 48.53851977232221], [17.865091882632292, 48.53276061388583], [17.863315642066055, 48.53379969252171], [17.86177536160979, 48.53273353613507], [17.863775453819354, 48.531286775196016], [17.85921940725747, 48.52718646971887], [17.855689947055385, 48.52443926338952], [17.853391191774783, 48.52462219384706], [17.845503080185935, 48.52156879539883], [17.846964222504962, 48.52029065686061], [17.844562445322175, 48.51725697851244], [17.846437253765984, 48.514029039744095], [17.852906151480134, 48.5148080103803], [17.85850362868933, 48.51028920535743], [17.868921713157025, 48.50763281494432], [17.871981967953644, 48.50720680191078], [17.876336847985485, 48.505590609482645], [17.885067736132665, 48.50468189706593], [17.889608250308157, 48.50498588162314], [17.898402280767105, 48.501232966919794], [17.902837305269966, 48.498420728556006], [17.9093883236424, 48.49629855354507], [17.91537121438426, 48.493260093042885], [17.91998211157776, 48.48811788606912], [17.923270827486412, 48.48684215181953], [17.932559994814874, 48.48049820276448], [17.933647293978286, 48.47886988205438], [17.934697144384746, 48.479541426069424], [17.938321103644988, 48.476313034029154], [17.94112910572388, 48.47508437369395], [17.941723277819165, 48.47563828036154], [17.948020881253836, 48.473114811085615], [17.94845976249746, 48.47351642071081], [17.960810046735556, 48.465576583539075], [17.964629177636166, 48.46479939840534], [17.963848758403497, 48.461008951385885], [17.962101047920154, 48.459892530408716], [17.95670176895707, 48.46156676804481], [17.952258829740913, 48.455076868966366], [17.945019488721666, 48.449153266446885], [17.946968849529316, 48.44675211498655], [17.942974068981385, 48.446206582997874], [17.94497690426999, 48.44093191468997], [17.932325100597474, 48.442196527950806], [17.931879215729708, 48.43455859613178], [17.927295950418053, 48.43126121979547], [17.920442029880668, 48.428596951314155], [17.91993626860045, 48.425918800315415], [17.919659574824962, 48.424497647021724], [17.919994171607108, 48.42295532134861], [17.917175800488028, 48.420614123714415], [17.917864400355757, 48.41939160461937], [17.908365390971376, 48.40793615078208], [17.904629479774155, 48.39643206783385], [17.901428419430584, 48.39587149097295], [17.90024306989279, 48.393852010132356], [17.899582723544967, 48.39268108376664], [17.891430612573686, 48.38608956090673], [17.889656373072505, 48.38243268246143], [17.881506856501776, 48.37531557321774], [17.879529422825218, 48.37238123507893], [17.878976023431363, 48.36847456734728], [17.87697622046891, 48.36629521201761], [17.874387309097486, 48.36560458047833], [17.86919913478075, 48.36352640780892], [17.870684539865305, 48.36011667973858], [17.87046678227162, 48.35747684555075], [17.861923983396622, 48.3548279485671], [17.85528092633623, 48.350435777800335], [17.85829493682233, 48.34820891693229], [17.857030775939773, 48.34723873517312], [17.860954405435255, 48.34376102595607], [17.856778395716866, 48.342399141512395], [17.860478631543604, 48.33704406585918], [17.849301212909843, 48.33208814161433], [17.848399350501747, 48.32610182433149], [17.851201402237276, 48.32077351404667], [17.84677271665557, 48.31960361017645], [17.847053026326265, 48.30662918641947], [17.84362123110257, 48.303351611409106], [17.833602990094775, 48.298234334232944], [17.83332021772098, 48.29675669244811], [17.83615330239728, 48.29048645362618], [17.837878133668614, 48.289483143049736], [17.844879137001797, 48.2882551894353], [17.85615313523465, 48.28837620905658], [17.859639224074527, 48.28728254097465], [17.862177317591076, 48.28617370205758], [17.865560802453707, 48.280695212663055], [17.86656853950997, 48.27737991799587], [17.864419935011867, 48.27579203287423], [17.86429087692282, 48.27395055049176], [17.86003979910408, 48.26747864463001], [17.850605272150442, 48.2613316016678], [17.857093958646303, 48.258681268998465], [17.859056210932458, 48.254131260350775], [17.859034260438996, 48.25260081554572], [17.84622058627908, 48.24621496450843], [17.848768514318824, 48.24214334878268], [17.85213885233573, 48.23296213888614], [17.853491918312937, 48.231173074920115], [17.8563417164272, 48.230686834547235], [17.866363761913647, 48.22505997482558], [17.868907703501456, 48.22645242167317], [17.881972755469764, 48.21493846647594], [17.882076236804956, 48.213861814886755], [17.880153210180474, 48.21222831941343], [17.882041375557844, 48.20860568561232], [17.879593658499388, 48.20680187605585], [17.876813674212215, 48.20089788889114], [17.868474859105582, 48.19752907687227], [17.859817038813976, 48.1956945782942], [17.843769083642187, 48.18928553274613], [17.840600004497958, 48.185783802004835], [17.84133576928398, 48.18399359597827], [17.837593697260957, 48.18274394061925], [17.831521574223732, 48.19268726317418], [17.8231654895166, 48.19706675207118], [17.820426065663906, 48.201058367405544], [17.81219290427489, 48.19501390868263], [17.80710718086326, 48.19542464468682], [17.800963267111197, 48.19141798151209], [17.80051337681414, 48.18574641413112], [17.80548323510254, 48.18315891788712], [17.82891153910081, 48.16719609892259], [17.82472112500356, 48.16589338511529], [17.82259007968951, 48.16665183823014], [17.820658000259428, 48.16511997293992], [17.819140669494608, 48.162951850980775], [17.817217650259707, 48.16101586941056], [17.81783252688942, 48.15896249895051], [17.815263618528324, 48.15872318984556], [17.81428957452119, 48.15764407389959], [17.816291827419583, 48.15542545924908], [17.80675504555636, 48.15068390207131], [17.800135456505473, 48.14847634638633], [17.795283164761763, 48.15250424319231], [17.794937427503342, 48.15715824189188], [17.79004063726156, 48.15619466739254], [17.77820808905734, 48.15812009356789], [17.768699472323338, 48.1554885309122], [17.754712660600806, 48.14834316756582], [17.75581467170464, 48.14700105827655], [17.759411747990523, 48.146006498176114], [17.764792523707342, 48.143217611121145], [17.77761829699076, 48.13956713635318], [17.787179286218645, 48.13116728684462], [17.793540800623667, 48.12799945145982], [17.807125363039415, 48.11774885367618], [17.80723434333643, 48.116642277743814], [17.813110273544606, 48.113738283683354], [17.814194737651267, 48.106828875084595], [17.820047801793173, 48.10576358474946], [17.815022630949198, 48.09736769687846], [17.806970808981657, 48.08835585720463], [17.802542140503473, 48.076156308571456], [17.803720936890894, 48.07354513756976], [17.807254524310913, 48.072928438977414], [17.805561222774266, 48.0706222043835], [17.809721565537416, 48.07155017935551], [17.812651084934053, 48.06879033759977], [17.816080200728845, 48.068357146494364], [17.814132182478268, 48.06622546518686], [17.8145625967713, 48.06540008032743], [17.843496521723722, 48.07684566817272], [17.851515214256324, 48.06929181523261], [17.838407404006134, 48.06340234886306], [17.853915390785463, 48.05438022363052], [17.85539710766479, 48.0564565615871], [17.856589275676594, 48.05361782383559], [17.862303209489532, 48.05176822007447], [17.871376331751506, 48.053112519270115], [17.88038632805923, 48.046352537901576], [17.88123839282054, 48.044862433945966], [17.877887940064262, 48.040151695327694], [17.88319978112684, 48.03670836526656], [17.884409113364853, 48.03428355999076], [17.86856289226714, 48.022500728391215], [17.874052608867096, 48.01836395435507], [17.869563331536675, 48.00548161950796], [17.88046531735422, 47.98799450899383], [17.880230282281364, 47.98628348912505], [17.874822658741305, 47.97440172799986], [17.87514465763903, 47.966618337749566], [17.874327128687376, 47.96389994751814], [17.873035770752356, 47.963321666861894], [17.875536310889405, 47.96057886119303], [17.87785698336034, 47.959093611906674], [17.880682280488603, 47.958709395326366], [17.883453530942553, 47.95670599075923], [17.88588408413013, 47.94863151644463], [17.884872387332905, 47.94488976584522], [17.885926734247892, 47.94270034253684], [17.8790285411975, 47.935986534887654], [17.874275820844264, 47.9323375894412], [17.871352528358145, 47.927915920880665], [17.876233720209367, 47.92599639168227], [17.879182166271647, 47.92343612158594], [17.88197799385607, 47.92267560394318], [17.882776461539095, 47.92118858018376], [17.885923126716612, 47.92069705894881], [17.887697944888107, 47.919298448246685], [17.88593212252192, 47.91665543645369], [17.888855345222876, 47.913502398417634], [17.887404081538886, 47.91100343954949], [17.8789190023883, 47.906394386990634], [17.874795901501745, 47.902562362981136], [17.874045964680857, 47.90337185235973], [17.87094854352591, 47.902346533821074], [17.861464003703464, 47.89742527781069], [17.85369434841879, 47.89446691731957], [17.852575765265126, 47.895015288418115], [17.846229795669558, 47.8918735342835], [17.83266745797928, 47.87507413166697], [17.825225647032525, 47.87163298906871], [17.82464494066155, 47.87193930076403], [17.821884906272288, 47.87283875996929], [17.820919623193838, 47.873933354822626], [17.817748183770107, 47.873576458327946], [17.815545634223078, 47.87240330171697], [17.80762255358997, 47.870615624083584], [17.806298181998375, 47.869254793298424], [17.807465166948113, 47.86721821302062], [17.806537385110044, 47.865195846948524], [17.803539155785693, 47.863461876957395], [17.797991568381086, 47.85723104273348], [17.796118944845258, 47.854826991706545], [17.795268215418094, 47.851294831082356], [17.79792268895288, 47.83906295651586], [17.800310324397238, 47.83365466254591], [17.799406947725227, 47.83346567993446], [17.799719659569185, 47.829608276105944], [17.795825787645907, 47.82351621080913], [17.79274536806122, 47.82061157905051], [17.778983209664354, 47.817568474289644], [17.770621110762967, 47.81420178144443], [17.766593937311715, 47.807354411469994], [17.762620696348325, 47.80463191482059], [17.762529849074856, 47.80208387647704], [17.75766775166346, 47.80348730251298], [17.754714163072748, 47.80623627386431], [17.74994449844564, 47.80438475588373], [17.749857337112328, 47.805698829509865], [17.747791422640393, 47.80745998372549], [17.74175828083161, 47.80611904440998], [17.737563669283112, 47.80882860662176], [17.73574352052638, 47.80667793970616], [17.733050310490192, 47.806516245004836], [17.73187958544289, 47.8055370721553], [17.7296313339372, 47.804771221003094], [17.73134385677987, 47.80391018693429], [17.72846757633253, 47.79958061632486], [17.72634025093663, 47.79383667073833], [17.731131528519555, 47.792202467404465], [17.733920297021573, 47.792623854322564], [17.734776738639763, 47.79134100474796], [17.732550386255724, 47.78863624973178], [17.72762449191635, 47.788815413381435], [17.726767964780436, 47.78816927652938], [17.72735474358971, 47.786633194278735], [17.730929973936284, 47.78506490121417], [17.728360650077384, 47.784541303137956], [17.72573812411626, 47.785161622439794], [17.724474001959297, 47.784304188131806], [17.72815030008368, 47.78037644290023], [17.72997967734996, 47.775788518936764], [17.72446234734429, 47.770947130404544], [17.715294992768147, 47.76677674874734], [17.709436678541582, 47.762760253859156], [17.708102167112038, 47.75970780680563], [17.707045487467344, 47.760554971249555], [17.705346434761644, 47.75900368731978], [17.695619602039983, 47.769899186410896], [17.689931079149854, 47.77401408164835], [17.679355672797183, 47.77847097863227], [17.660087085722093, 47.7894754393556], [17.64689317485358, 47.795761816924866], [17.63085760226126, 47.80342112541696], [17.607840858251873, 47.82205014820987], [17.602553049392778, 47.822564579962204], [17.58742016316986, 47.82066924131408], [17.57546170326027, 47.814765411097355], [17.57206292649749, 47.813938035940375], [17.567062561596448, 47.81539225057567], [17.560719223770562, 47.82083478234022], [17.557820083949686, 47.82548782358866], [17.549504956337838, 47.832175851769854], [17.547129656399964, 47.83922916829202], [17.54328506676664, 47.84361550570959], [17.542829289975987, 47.85263200971588], [17.540773510048698, 47.85446637579135], [17.533858812203132, 47.85796144496993], [17.526761449000333, 47.86546138612221], [17.52083344380362, 47.86759063450736], [17.507208487703686, 47.86652312012224], [17.497448672897537, 47.867624156815204], [17.480328112648085, 47.87724383565298], [17.473787849844523, 47.87943474885281], [17.462728599227965, 47.88129855145707], [17.453050531859926, 47.88590856266966], [17.44659848059625, 47.89770247605657], [17.442438098872344, 47.90144404269186], [17.436850373413286, 47.909355129488105], [17.435662063379638, 47.91565944929898], [17.432482573846453, 47.920802578138726], [17.42601050054087, 47.925515049428604], [17.421879128498926, 47.93002591194988], [17.412824018905255, 47.93405252582247], [17.407613934168236, 47.939223166321085], [17.404669152159084, 47.9458997477712], [17.40083870404981, 47.949603368417655], [17.380239996770577, 47.956652953486376], [17.375243823392992, 47.959428990031455], [17.372699098731903, 47.96230014379355], [17.36784536765233, 47.96772259765267], [17.36249134732051, 47.972243733833714], [17.35326521513372, 47.977459083743895], [17.346453106930824, 47.98290766207966], [17.3423024618861, 47.98744438653347], [17.335009336309998, 47.992944219397344], [17.324737742273665, 47.995317094608104], [17.31666436643122, 47.995071525779636], [17.306250862484095, 47.99608369744096], [17.297880563964863, 47.995881821273855], [17.28867582470314, 47.9942930513463], [17.28050311179756, 47.99394954030325], [17.259397495811836, 47.99827576293923], [17.25187132798774, 48.00098788046283], [17.247849198842214, 48.00476199377914], [17.247380651972865, 48.012037499344295], [17.248734414136823, 48.0124152503771], [17.25880257450956, 48.022631179621094], [17.25345122275216, 48.02894133716313], [17.258848882190044, 48.0290651651115], [17.261472529060477, 48.02610702469243], [17.269202137016332, 48.02866503237951], [17.27644173736356, 48.03555270876582], [17.281666273815254, 48.04281532100229], [17.299536919931846, 48.04593224002904], [17.301397650533914, 48.04492219330924], [17.306357511724567, 48.04980817631811], [17.302784123497688, 48.051903106665875], [17.298781087063073, 48.05738585204836], [17.29869366821146, 48.06217129626815], [17.296452340051072, 48.06618293243247], [17.30248128625038, 48.06847124701639], [17.306482849448223, 48.065551328434616], [17.309062709447943, 48.064708883504814], [17.313930538656567, 48.05998891730459], [17.31757422290516, 48.06323285653759], [17.318864417722416, 48.06274182411313], [17.323951625528977, 48.07084954360956], [17.331588283679928, 48.06919910311173], [17.335605455230777, 48.08088983226448], [17.333782408127362, 48.08134894329354], [17.34128209450126, 48.08454877299469], [17.349661545649536, 48.08509248228856], [17.353628130511137, 48.092193664191896], [17.351289849527685, 48.092815212223556], [17.34821898301471, 48.091498602829425], [17.343386167127356, 48.09607695576254], [17.326502922966863, 48.088861080537455], [17.315221463394984, 48.09864550930781], [17.312463362542008, 48.09747533513759], [17.30707533023527, 48.09942937537332], [17.313385253927898, 48.11535291746776], [17.304327265589325, 48.11961607597123], [17.303263035134396, 48.1214548296964], [17.30431731422797, 48.12320158938019], [17.31023528012532, 48.121349390949675], [17.312271528920384, 48.12105328797203], [17.31569674558284, 48.121795983591916], [17.31752340950571, 48.11990616121844], [17.329716374560206, 48.118256508980075], [17.330570901090223, 48.11974528086596], [17.333034249531707, 48.11918417136429], [17.334154553981318, 48.12073496251808], [17.34041994277282, 48.118465073753406], [17.34774990181688, 48.12302059850343], [17.349052473562686, 48.122211967785624], [17.356857098569826, 48.12647659207126], [17.361034718781195, 48.127099074781704], [17.36605242007198, 48.13188755238742], [17.36669706155497, 48.13371236459592], [17.378986716861217, 48.130549390649215], [17.39075633082776, 48.142877438887474], [17.38109029417505, 48.14482100190566], [17.3776941074221, 48.147478072180654], [17.37915437920362, 48.15123770467787], [17.37553532012822, 48.15131176151906], [17.373778130015822, 48.152742552285936], [17.374356981672943, 48.15494900437296], [17.378283405056813, 48.15634174139178], [17.37972967423338, 48.15612414141261], [17.381234243418213, 48.157695936874866], [17.374134636401973, 48.16038310888749], [17.37660310817628, 48.161965996993], [17.37811691481028, 48.16575623613759], [17.380084743560282, 48.16548652095641], [17.381747508850673, 48.16695839680121], [17.38012246850624, 48.16811927819469], [17.380022022073057, 48.17008996999033], [17.38973830031856, 48.168966677614584], [17.39446269546494, 48.168944252447346], [17.396200674861994, 48.16826556595964], [17.397622468414752, 48.16978081956514], [17.39690568029914, 48.17132400878233], [17.398677384829114, 48.1736896547061], [17.4003347727471, 48.17410701435943], [17.406191229842182, 48.1666771989771], [17.408476397663566, 48.166316714923724], [17.410022659424225, 48.165132270584984], [17.409261531280727, 48.16249280770209], [17.401334507845874, 48.159868022908825], [17.39750185337697, 48.15607773922005], [17.398462251693573, 48.15375440147125], [17.40117270963918, 48.15225053549024], [17.407907341242982, 48.15159222650013], [17.41654510225929, 48.153595584509524], [17.420737543107673, 48.15282074793595], [17.425541642584804, 48.15048036744509], [17.431927978577438, 48.14471813650616], [17.43514446511261, 48.1441130910692], [17.446326991369403, 48.14559268587757], [17.449748494137722, 48.14737326117043], [17.457564812260475, 48.153949640964775], [17.463399100323233, 48.15501251526219], [17.46736890219689, 48.152333547785126], [17.47437863669757, 48.16107987420338], [17.47558283136892, 48.16258674787383], [17.48033049987548, 48.160888937969496], [17.48274377898163, 48.163913677755005], [17.479634090488027, 48.16556872841813], [17.482683704217372, 48.16727718995195], [17.48077976914335, 48.1702351432161], [17.48550559389503, 48.17223571167003], [17.494408041474482, 48.17057518376024], [17.500100868612993, 48.16835210244161], [17.507060316535785, 48.17653047835645], [17.509505680637567, 48.176487974128804], [17.509565639811925, 48.174072726102196], [17.511973612573282, 48.1746494422285], [17.512378402519108, 48.17575469649798], [17.514245508120684, 48.17496702381104], [17.51912624695802, 48.18691088013534], [17.52187139507065, 48.18641263196683], [17.521398031282466, 48.19441184327157], [17.526983341789613, 48.19502337182937], [17.529152697650545, 48.19651174787582], [17.524599856546935, 48.1975709997039], [17.523598385806764, 48.20124104392414], [17.521863313474487, 48.202975069507005], [17.519150444770016, 48.20269088736304], [17.517456232573437, 48.19987173701317], [17.514180367390264, 48.199038973491966], [17.50440849902781, 48.20055440793202], [17.502673712459966, 48.20411762795919], [17.500639811980793, 48.205300579548414], [17.5170196403224, 48.2206593556096], [17.520511957317936, 48.225562481357706], [17.51135463097331, 48.22657457532758], [17.491807225195988, 48.23188316543846], [17.48702610312864, 48.23232827903359], [17.48619552961088, 48.2306671623054], [17.480944268756065, 48.23300249035828], [17.473232890410653, 48.23509789078379], [17.47859497923824, 48.24092777211106], [17.47838524737561, 48.24358815703867], [17.478041939620823, 48.244396716439674], [17.482641374384052, 48.25289606561686], [17.497151068536493, 48.26416057805113], [17.51370126759983, 48.279090895541266], [17.50614063396492, 48.28489787300836], [17.500407567426784, 48.28973476447579], [17.49825169500371, 48.28975759422989], [17.495698345164985, 48.28745424629746], [17.494374617534348, 48.28815942720927], [17.49326228898859, 48.28882161514307], [17.494028606152614, 48.289397651258845], [17.487454581549976, 48.29154821914237], [17.47658047110962, 48.29754141235562], [17.471591023139908, 48.300544599293765], [17.466266511168, 48.30983252073149], [17.464698682273458, 48.31055782876308], [17.45965758892173, 48.30582759363843], [17.457556515562622, 48.309664102780935], [17.46021549703595, 48.31258557618782], [17.453209665456296, 48.3162522579282], [17.44922740189221, 48.31962804832812], [17.45648036674513, 48.32723648869351], [17.457557149352887, 48.32741834223838], [17.458746468294503, 48.325710501111075], [17.4603381444741, 48.3260142591988], [17.462082628083312, 48.325144236861206], [17.462838932586823, 48.33074834414765], [17.466685204597066, 48.336567754163234], [17.47301862184554, 48.3413348034623], [17.473613563129415, 48.347896745397314], [17.477486892849264, 48.35259278843092], [17.467237995991407, 48.35892984756361], [17.468587232910174, 48.36020490050627], [17.452118580827587, 48.3744935481409], [17.449368899991004, 48.3725016298918], [17.445400005471747, 48.374361589004444], [17.437243315263164, 48.37010740061122], [17.426396024467067, 48.37492813923732], [17.425445771791985, 48.37850852283157], [17.431083268575655, 48.380892584752075], [17.42057441194082, 48.38666704200875], [17.424393184174157, 48.391750375406886], [17.418672292464127, 48.39411158952322], [17.419718350571344, 48.39549537015745], [17.418005155177056, 48.396044304614875], [17.417737150851607, 48.398515914627474], [17.415381182200516, 48.40194144899694], [17.411179768768637, 48.400275802379376], [17.410580730320003, 48.4005919868004], [17.411837410409397, 48.401495152579464], [17.41659216688893, 48.403532553946974], [17.41718920434124, 48.405011869687755], [17.406286377504937, 48.40831943323133], [17.400882422142626, 48.406246790450055], [17.400164020305375, 48.40774240515109], [17.403646303729065, 48.40912984130643], [17.401572394120176, 48.41072989239736], [17.403944678427965, 48.412550375235206], [17.403372069889183, 48.41351178064939], [17.404854657131242, 48.4132761527889], [17.405025861698157, 48.41472639176664], [17.403618099540427, 48.41606220223715], [17.404353707589426, 48.41738432886281], [17.396766381644596, 48.41911453824478], [17.38974644138013, 48.419226928010964], [17.3865073039454, 48.42172891204207], [17.387002048655706, 48.422335494481835], [17.3848016830834, 48.42426413247135], [17.384495323683225, 48.426354039644494], [17.37995291270153, 48.42900327451739], [17.38088370297277, 48.429506776459995], [17.38390910113213, 48.428948034072974], [17.385581204844172, 48.42971556666944], [17.385376831437004, 48.43116711327751], [17.387339642749115, 48.43047061057296], [17.389308762545415, 48.43088573442236], [17.3906309012597, 48.43287090469293], [17.392895872291604, 48.43227860174731], [17.393851371313694, 48.43295834570206], [17.39051553172346, 48.434181308568235], [17.394071801579116, 48.43764125971198], [17.392460658656365, 48.43865267877759], [17.378429020071206, 48.43918605166713], [17.361531235486574, 48.43856270416691], [17.357605790408442, 48.44376398258339], [17.357660275957965, 48.445008861381766], [17.354203566966408, 48.445250305213264], [17.34811177795334, 48.448364388972635], [17.346453088408072, 48.45190171522647], [17.316864365894194, 48.45154738892041], [17.31766861490055, 48.45392214476478], [17.314960277351044, 48.455703146347595], [17.314280518770936, 48.455989390522284], [17.303909961540977, 48.46337700897793], [17.302149336033796, 48.46595843038403], [17.311351553234175, 48.473567952050026], [17.314342220709477, 48.47783911708786], [17.314100193620764, 48.48109033795476], [17.31834560110697, 48.48129473554223], [17.321223324468615, 48.48007952900645], [17.32430655848951, 48.48105963726924], [17.32885757979001, 48.480257448501874], [17.331047813702188, 48.484038026293106], [17.335421413202038, 48.48261028174604], [17.335593694668397, 48.48474795022142], [17.33399989023058, 48.48584099542708], [17.334377916426522, 48.48693429593333], [17.337639040190908, 48.48807708595308], [17.337917952568052, 48.49071149527948], [17.34116856303018, 48.49111464904783], [17.342037661838862, 48.49230387732948], [17.341321363976487, 48.493325208907606], [17.336381747101687, 48.49550621236083], [17.33658233976398, 48.49770120879291], [17.34797463918309, 48.501356651407775], [17.355019787460797, 48.5066029790721], [17.346076854943973, 48.50781732749452], [17.345494814514275, 48.50889182444677], [17.343122463208378, 48.50848819528474], [17.340882047842975, 48.50898386276885], [17.3390216044207, 48.5105207424089], [17.33423785086715, 48.512380935074646], [17.33875199614833, 48.514030555690695], [17.335067413624635, 48.51569447558874], [17.329478425513937, 48.51580118612007], [17.326183331459635, 48.51469390686738], [17.324048260186384, 48.51742697276865], [17.313690315295972, 48.52276393360067], [17.309891393075144, 48.53229484415238], [17.308717890492, 48.53177438473721], [17.300413817136388, 48.53636042063646], [17.28864162327411, 48.538534865421454], [17.279659911597086, 48.543521028960534], [17.271921448380652, 48.53865321449052], [17.274860959493957, 48.5410530049552], [17.286960494043445, 48.547431687038824], [17.285896159898815, 48.54806291457746], [17.303972757575526, 48.55782355358061], [17.303979571693695, 48.55783448324433], [17.310243791713255, 48.55920837726857], [17.31038315656916, 48.559974165442426], [17.31130748264447, 48.55957717686974], [17.31483169000368, 48.560307609856366], [17.318334107005274, 48.56184899965625], [17.319874964786745, 48.56428980012179], [17.319873930331752, 48.567828442380964], [17.321528732853665, 48.56836276308992], [17.324579737533995, 48.5686790128042], [17.329737279509466, 48.566834518302144], [17.332990194451842, 48.56369511919784], [17.33367303153264, 48.565965337838186], [17.325318480173244, 48.56928504993856], [17.326534480988787, 48.570121532122585], [17.32421318300681, 48.57292282216712], [17.325405436176684, 48.573249083183924], [17.324767879862076, 48.57452975323211], [17.325753547029034, 48.57684558019163], [17.32465417324518, 48.577989347148815], [17.328367694200242, 48.57662275275786], [17.329049895687128, 48.57539134141668], [17.33424268500507, 48.5759460537434], [17.339732676874355, 48.57995741035316], [17.34102845973799, 48.57945029875252], [17.345413203734793, 48.58415662382076], [17.34758669252333, 48.58695686191839], [17.355464085111134, 48.59250709005444], [17.356694924981298, 48.59066378829164], [17.35991242788285, 48.591641164286294], [17.356000154765646, 48.594611024387355], [17.360629397695504, 48.596308137943765], [17.371381341146822, 48.60289856838493], [17.375706027422087, 48.6074656943819], [17.376725923686944, 48.61206364277399], [17.373897108647782, 48.61997317400392], [17.3740213518726, 48.6234810196306], [17.36932104001003, 48.632169832163896], [17.36678876210139, 48.63290248959418], [17.361827271106495, 48.63657431563238], [17.361102638495574, 48.63929659001772], [17.35842615895233, 48.64165385058173], [17.35860954791299, 48.64277822658529], [17.351228414779406, 48.64732982743846], [17.345862823028096, 48.644223531258795], [17.337360201872254, 48.64859921505242], [17.337829662121294, 48.64957484456892], [17.336316785614716, 48.64820229197847], [17.335057773392357, 48.64813794881269], [17.335085543126, 48.64926182961981], [17.336773748105752, 48.64873269541816], [17.33848802504376, 48.65093191962043], [17.327610184302667, 48.654044348513594], [17.295248170613014, 48.60785077638977], [17.296129044230753, 48.607516244897305], [17.282427578341004, 48.608485196200014], [17.278802110627172, 48.60539653060413], [17.26793812038791, 48.59940445280457], [17.26827282925398, 48.595194564027004], [17.26687675244643, 48.59253801632545], [17.265715884958208, 48.58951691215158], [17.258150894836866, 48.58749854648692], [17.258173948388805, 48.58663174571643], [17.2553749534405, 48.586565636299106], [17.24437386759146, 48.583541991668746], [17.244150502374485, 48.582861974673094], [17.238325618931487, 48.58100774043405], [17.23447113079204, 48.58077206915761], [17.235218325803675, 48.57526228878973], [17.233748699222886, 48.56943014470045], [17.235761188298696, 48.56864208502601], [17.235764418343045, 48.567429253109744], [17.22087540914812, 48.568391251441405], [17.21861880597529, 48.56668684278377], [17.216787133319578, 48.56643982929927], [17.216044081836266, 48.56704172733951], [17.216110357661897, 48.56630681777626], [17.206790301367956, 48.56508544139145], [17.205453275931504, 48.56224236190806], [17.2041048247725, 48.56282023555201], [17.202371889754453, 48.56461429191758], [17.196941577479702, 48.56104697434419], [17.1847522769977, 48.55906205754267], [17.184899369414985, 48.55852774918201], [17.183856373018486, 48.5589691070135], [17.17930834166983, 48.55775509484349], [17.170322915260847, 48.55705977213299], [17.166471068164977, 48.55464988030058], [17.156997686868774, 48.55139384170802], [17.152821654527376, 48.551950296571356], [17.14836709972895, 48.551361185794676], [17.144019729323993, 48.54952810339073], [17.137937521161334, 48.54917136014984], [17.125235007271, 48.54675051473235], [17.120565778444888, 48.549837593722536], [17.12214970324012, 48.55042535311045], [17.117200965956087, 48.554020170261374], [17.118362176714285, 48.55464834655936], [17.115017298535538, 48.55797495816658], [17.108947514257185, 48.560537680424], [17.10640710992434, 48.562671719316285], [17.103768694897028, 48.563404988211694], [17.101629322635976, 48.5627975663765], [17.102024729964953, 48.562296482174474], [17.097342073771138, 48.562253553163025], [17.09765240037808, 48.561211166149505], [17.099125951587876, 48.56129798202816], [17.0992482816543, 48.56074379643615], [17.095138210060085, 48.55914353089105], [17.090784450030966, 48.55846604107162], [17.08512612429265, 48.55996625466544], [17.079458073672583, 48.55995250993581], [17.061431433558703, 48.563109957261744], [17.052287948432575, 48.56383565068783], [17.055862835046266, 48.559955930441006], [17.054552384159738, 48.55894614601973], [17.055211697972002, 48.55753432558714], [17.058725520734797, 48.555572918881595], [17.04959894372675, 48.55385939856138], [17.050746394518768, 48.555261562807495], [17.03802718452086, 48.55575154665597], [17.029097041805503, 48.55433860962144], [16.982958357995585, 48.551561717192804], [16.978349440243925, 48.54749013129718], [16.96655917794233, 48.54724150856346], [16.970865105278406, 48.53766865826725], [16.96007411564439, 48.53817264335477], [16.949757013314883, 48.53582308220311], [16.953590105217792, 48.54230156726012], [16.953753660755066, 48.54473906183649], [16.95218724082106, 48.546276218402916], [16.94736272908618, 48.54808464282668], [16.942666607533255, 48.552436778210414], [16.94468642764766, 48.55751829436834], [16.944579361255617, 48.56021424541518], [16.93859896701068, 48.56525619893305], [16.93562717747574, 48.57143695519657], [16.935689786013043, 48.5748861723707], [16.938662198096747, 48.58018800760019], [16.93912483763045, 48.58315044970139], [16.933575945769682, 48.600646858831595], [16.934261812491027, 48.60198567529591], [16.937950244946776, 48.602980052803055], [16.940631600778328, 48.60445977787428], [16.942068276320548, 48.60665858717347], [16.941952574883402, 48.61052434130855], [16.939336297465573, 48.61444920194934], [16.940176495297766, 48.61656073976909], [16.9471772563185, 48.62175177961633], [16.953404118842673, 48.62236715615813], [16.95614002835156, 48.62339006051383], [16.957568120859403, 48.628311518613], [16.96229665643531, 48.63234003571279], [16.963162902883486, 48.63961005680255], [16.968073149646916, 48.64355529279277], [16.96960641161594, 48.64601913803542], [16.967012465640543, 48.65430493068559], [16.96837941275514, 48.66011870093496], [16.967326587624598, 48.667461112360186], [16.969454890767413, 48.67034948350005], [16.976207888974265, 48.67472532600578], [16.978455979465597, 48.67873186032207], [16.98159680189272, 48.68365315633578], [16.994151749680235, 48.68923151097775], [16.997305431572755, 48.69176532253139], [16.9989619256388, 48.69575992998317], [16.996813018486776, 48.70486467748159], [16.99777706529732, 48.70885226647223], [17.00159404771405, 48.71213146824528], [17.01075273175114, 48.716626844344795], [17.013089041477222, 48.719408803092875], [17.01426594043198, 48.728601270306704], [17.026115033772726, 48.73897714063308], [17.02842898248676, 48.74566536574282], [17.03111272030593, 48.748106743717386], [17.037654188007217, 48.75107628580384], [17.040190946133503, 48.75381038534933], [17.04176151717426, 48.76189256010869], [17.0457368694241, 48.766238920653656], [17.049416637669037, 48.767822441969976], [17.05824789383446, 48.7704574008653], [17.063750161590015, 48.774450562522595], [17.066689881991596, 48.777756781958146], [17.069867249670462, 48.779750444125625], [17.08356276753861, 48.78270735861307], [17.08808195850452, 48.785008125113336], [17.09028751463493, 48.788361715023946], [17.09006140689002, 48.7939941380504], [17.091056060268084, 48.79665910114763], [17.093465832246757, 48.798859224279475], [17.103856703748516, 48.80457728041515], [17.105926227954487, 48.807837891156346], [17.106753473281913, 48.81276079361419], [17.107109715170562, 48.817115211846506], [17.105193796147606, 48.82375730479676], [17.108185786985054, 48.82875209411395], [17.11125949533932, 48.83149716426051], [17.141163957612, 48.842081415752745], [17.153167465418438, 48.844393063440606], [17.155976968547833, 48.84664198699095], [17.15661318940995, 48.84795474799321], [17.15819442509861, 48.850179224261765], [17.16198439389462, 48.853396164639264], [17.17364886429243, 48.8581109554142], [17.18217252217456, 48.865270092706716], [17.186032853786195, 48.87019468260731], [17.192275052377727, 48.87471186993067], [17.201991892140526, 48.878162250242184], [17.218042159352645, 48.870679960669676]]], &quot;type&quot;: &quot;Polygon&quot;}, &quot;id&quot;: &quot;1&quot;, &quot;properties&quot;: {&quot;IDN4&quot;: 2, &quot;NM4&quot;: &quot;Trnavsk\\u00fd&quot;, &quot;Shape_Area&quot;: 4144967863.67, &quot;Shape_Leng&quot;: 572107.068208, &quot;VYMERA_ha&quot;: 414642}, &quot;type&quot;: &quot;Feature&quot;}], &quot;type&quot;: &quot;FeatureCollection&quot;});\n",
       "\n",
       "        \n",
       "    \n",
       "                geo_json_086223311f9976420d5d3cb176ce5455.addTo(map_eda33d843d9f470f9eaf967f7867e345);\n",
       "&lt;/script&gt;\n",
       "&lt;/html&gt;\" style=\"position:absolute;width:100%;height:100%;left:0;top:0;border:none !important;\" allowfullscreen webkitallowfullscreen mozallowfullscreen></iframe></div></div>"
      ],
      "text/plain": [
       "<folium.folium.Map at 0x213bf6d7b60>"
      ]
     },
     "execution_count": 20,
     "metadata": {},
     "output_type": "execute_result"
    }
   ],
   "source": [
    "import folium\n",
    "\n",
    "\n",
    "def plot_filtered_bridges(df, gdf, regions):\n",
    "    # Find the average coordinates for the initial map center\n",
    "    avg_lat = df['Zemepisná_šírka'].mean()\n",
    "    avg_long = df['Zemepisná_dĺžka'].mean()\n",
    "\n",
    "    # Create the map with custom tileset\n",
    "    m = folium.Map(location=[avg_lat, avg_long],\n",
    "                   zoom_start=9, tiles=\"Cartodb positron\")\n",
    "\n",
    "    # Colors for the markers\n",
    "    colors = [\"#ff6600\", \"#0066FF\"]\n",
    "\n",
    "    # Bridge icon\n",
    "    bridge_icon_url = \"https://raw.githubusercontent.com/Medvedku/Assets/main/markers/bridge_marker_Cartodb_orng.svg\"\n",
    "\n",
    "    # Add a marker for each bridge\n",
    "    for index, row in df.iterrows():\n",
    "        ic_size = 50\n",
    "        bridge_icon = folium.CustomIcon(\n",
    "            icon_image=bridge_icon_url,\n",
    "            icon_size=(ic_size, ic_size),\n",
    "            icon_anchor=(ic_size/2, ic_size)\n",
    "        )\n",
    "\n",
    "        popup_html = f\"<table style='width:400px;'>\"\n",
    "        popup_html += f\"<tr><th style='text-align:left;'>Názov mosta:</th><td>{\n",
    "            row['Názov_mosta']}</td></tr>\"\n",
    "        popup_html += f\"<tr><th style='text-align:left;'>Trieda PK:</th><td>{\n",
    "            row['Trieda_PK']}</td></tr>\"\n",
    "\n",
    "        popup_html += \"<tr><th style='text-align:left;'>Dĺžka premostenia:</th><td>\"\n",
    "        if pd.notna(row['Dĺžka_premostenia']):\n",
    "            popup_html += f\"{float(row['Dĺžka_premostenia'])} m\"\n",
    "        else:\n",
    "            popup_html += \"Unknown\"\n",
    "        popup_html += \"</td></tr>\"\n",
    "\n",
    "        popup_html += f\"<tr><th style='text-align:left;'>Druh konštrukcie:</th><td>{\n",
    "            row['Druh_konštrukcie']}</td></tr>\"\n",
    "        popup_html += f\"<tr><th style='text-align:left;'>Materiál:</th><td>{\n",
    "            row['Material']}</td></tr>\"\n",
    "        popup_html += f\"<tr><th style='text-align:left;'>Rok postavenia:</th><td>{\n",
    "            row['Rok_postavenia']}</td></tr>\"\n",
    "        popup_html += f\"<tr><th style='text-align:left;'>GPS Coordinates:</th><td>({\n",
    "            row['Zemepisná_šírka']:.4f}, {row['Zemepisná_dĺžka']:.4f})</td></tr>\"\n",
    "        popup_html += f\"</table>\"\n",
    "\n",
    "        popup = folium.Popup(popup_html, parse_html=False)\n",
    "\n",
    "        tooltip_html = f\"<table style='width:50px;'>\"\n",
    "        tooltip_html += f\"<tr><th colspan='2' style='text-align:left;'>Most {\n",
    "            row['ID_mosta']}</th></tr>\"\n",
    "        tooltip_html += f\"<tr><td style='text-align:left;'>STS:</td><td>{\n",
    "            row['n_2023']}</td></tr>\"\n",
    "        tooltip_html += f\"</table>\"\n",
    "\n",
    "        # Add the marker with the custom icon and popup\n",
    "        folium.Marker(\n",
    "            [row['Zemepisná_šírka'], row['Zemepisná_dĺžka']],\n",
    "            icon=bridge_icon,\n",
    "            popup=popup,\n",
    "            tooltip=tooltip_html\n",
    "        ).add_to(m)\n",
    "\n",
    "    # Filter the GeoDataFrame to include only the specified regions\n",
    "    region_gdf = gdf[gdf['NM4'].isin(regions)]\n",
    "\n",
    "    # Define custom style for the regions' polygons\n",
    "    def style_function(x): return {\n",
    "        'fillColor': '#FF6600', 'color': '#FF6600', 'weight': 2}\n",
    "\n",
    "    # Add the boundaries of the specified regions to the map with the custom style\n",
    "    folium.GeoJson(region_gdf, name='Regions Boundaries',\n",
    "                   style_function=style_function).add_to(m)\n",
    "\n",
    "    return m\n",
    "\n",
    "\n",
    "# Usage example (replace 'filtered_bridges' with your filtered DataFrame and adjust regions as needed)\n",
    "regions_to_plot = ['Trnavský']\n",
    "map = plot_filtered_bridges(filtered_bridges, gdf, regions_to_plot)\n",
    "map.save('filtered_bridges.html')\n",
    "map"
   ]
  }
 ],
 "metadata": {
  "kernelspec": {
   "display_name": "Python 3",
   "language": "python",
   "name": "python3"
  },
  "language_info": {
   "codemirror_mode": {
    "name": "ipython",
    "version": 3
   },
   "file_extension": ".py",
   "mimetype": "text/x-python",
   "name": "python",
   "nbconvert_exporter": "python",
   "pygments_lexer": "ipython3",
   "version": "3.12.0"
  }
 },
 "nbformat": 4,
 "nbformat_minor": 2
}
