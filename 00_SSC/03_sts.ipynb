{
 "cells": [
  {
   "cell_type": "code",
   "execution_count": 2,
   "metadata": {},
   "outputs": [],
   "source": [
    "import pandas as pd\n",
    "\n",
    "bridges_path = r\"C:\\Users\\relia\\Documents\\GitHub\\Bridges\\Data\\Bridges_processed.csv\" # ROBOTA\n",
    "\n",
    "bridges_path = r\"C:\\Users\\Doktor\\Documents\\GitHub\\Bridges\\Data\\Bridges_processed.csv\" # DOMA\n",
    "\n",
    "\n",
    "df_bridges_all = pd.read_csv(bridges_path, encoding='utf-8', delimiter=',')"
   ]
  },
  {
   "cell_type": "code",
   "execution_count": 3,
   "metadata": {},
   "outputs": [],
   "source": [
    "# Assuming df_bridges_all is your DataFrame\n",
    "columns_to_convert = ['Zemepisná_dĺžka', 'Zemepisná_šírka', 'Výška', 'Normálna_zaťažiteľnosť',\n",
    "                      'Výhradná_zaťažiteľnosť_t', 'Výnimočná_zaťažiteľnosť_t', 'Počet_otvorov',\n",
    "                      'Dĺžka_nosnej_konštrukcie_m', 'Dĺžka_premostenia', 'Volná_šírka_mosta',\n",
    "                      'Šírka_medzi_obrubami_m', 'Plocha_mosnej_konštrukcie_m2', 'Plocha_mosta_m2']\n",
    "\n",
    "# Convert specified columns to float\n",
    "df_bridges_all[columns_to_convert] = df_bridges_all[columns_to_convert].apply(\n",
    "    pd.to_numeric, errors='coerce')\n",
    "\n",
    "# Convert Rok_postavenia to integer, assign NaN if not possible\n",
    "df_bridges_all['Rok_postavenia'] = pd.to_numeric(\n",
    "    df_bridges_all['Rok_postavenia'], errors='coerce')\n"
   ]
  },
  {
   "cell_type": "code",
   "execution_count": 67,
   "metadata": {},
   "outputs": [
    {
     "data": {
      "text/plain": [
       "(1364, 51)"
      ]
     },
     "execution_count": 67,
     "metadata": {},
     "output_type": "execute_result"
    }
   ],
   "source": [
    "# Filter bridges in the Nitra region with Trieda_PK as \"cesta I. triedy\" or \"cesta II. triedy\"\n",
    "filtered_bridges_SSC = df_bridges_all[\n",
    "    ((df_bridges_all['Správca_úseku'] == \"SSC - IVSC ZA\") |\n",
    "     (df_bridges_all['Správca_úseku'] == \"SSC - IVSC KE\") |\n",
    "     (df_bridges_all['Správca_úseku'] == \"SSC - IVSC BA\")) &\n",
    "    (df_bridges_all['n_2023'] > 0) &\n",
    "    (df_bridges_all['ID_mosta'] != \"Nezistený\")\n",
    "].copy()\n",
    "# filtered_bridges_SSC.to_excel('filtered_bridges_SSC.xlsx', index=False)\n",
    "# Display the filtered DataFrame\n",
    "filtered_bridges_SSC.shape"
   ]
  },
  {
   "cell_type": "code",
   "execution_count": 68,
   "metadata": {},
   "outputs": [
    {
     "data": {
      "text/plain": [
       "Index(['ID_mosta', 'Trieda_PK', 'Číslo_PK', 'Most_DC', 'Názov_mosta', 'ID_DC',\n",
       "       'správcovské_číslo', 'Zemepisná_dĺžka', 'Zemepisná_šírka', 'Výška',\n",
       "       'Druh_konštrukcie', 'Material', 'Normálna_zaťažiteľnosť',\n",
       "       'Výhradná_zaťažiteľnosť_t', 'Výnimočná_zaťažiteľnosť_t',\n",
       "       'Spôsob_stanovenia', 'Predmet_premostenia', 'Rok_postavenia',\n",
       "       'Zaťažovacia_trieda_STN', 'Počet_otvorov', 'Dĺžka_premostenia',\n",
       "       'Dĺžka_nosnej_konštrukcie_m', 'Volná_šírka_mosta',\n",
       "       'Šírka_medzi_obrubami_m', 'Plocha_mosnej_konštrukcie_m2',\n",
       "       'Plocha_mosta_m2', 'Vlastník_úseku', 'Správca_úseku', 'Okres',\n",
       "       'Smer_úseku', 'Typ_úseku', 'Počiatočný_uzol', 'Koncový_uzol', 'úsek_ID',\n",
       "       'úsekové_staničenie_začiatku_DC_m',\n",
       "       'Kilometrovníkové_staničenie_začiatku_DC_km',\n",
       "       'Kumulatívne_staničenie_začiatku_DC_km', 'Poradie', 'Kraj', 'n_2012',\n",
       "       'n_2013', 'n_2014', 'n_2015', 'n_2016', 'n_2017', 'n_2018', 'n_2019',\n",
       "       'n_2020', 'n_2021', 'n_2022', 'n_2023'],\n",
       "      dtype='object')"
      ]
     },
     "execution_count": 68,
     "metadata": {},
     "output_type": "execute_result"
    }
   ],
   "source": [
    "filtered_bridges_SSC.columns"
   ]
  },
  {
   "cell_type": "code",
   "execution_count": 69,
   "metadata": {},
   "outputs": [],
   "source": [
    "import pandas as pd\n",
    "\n",
    "# Assuming filtered_bridges_SSC is your DataFrame\n",
    "\n",
    "# Select columns starting with \"n_\"\n",
    "condition_columns = filtered_bridges_SSC.filter(like='n_').columns\n",
    "\n",
    "# Concatenate values of selected columns into a new column \"STS\"\n",
    "filtered_bridges_SSC['STS'] = filtered_bridges_SSC[condition_columns].apply(\n",
    "    lambda x: ','.join(x.dropna().astype(str)), axis=1)"
   ]
  },
  {
   "cell_type": "code",
   "execution_count": 70,
   "metadata": {},
   "outputs": [
    {
     "data": {
      "text/plain": [
       "0       3,3,3,3,3,5,5,5,5,5,5,5\n",
       "1       3,3,3,3,3,6,6,6,6,6,6,6\n",
       "2       4,4,4,4,4,4,4,4,4,4,4,4\n",
       "3       3,3,3,3,3,3,3,3,3,3,3,4\n",
       "4       3,3,4,4,4,4,4,4,4,5,5,5\n",
       "                 ...           \n",
       "8387    0,0,0,0,0,0,0,0,0,0,2,2\n",
       "8388    0,0,0,0,0,0,0,0,0,0,6,6\n",
       "8389    0,0,0,0,0,0,0,0,0,0,3,3\n",
       "8480    0,0,0,0,0,0,0,0,0,0,0,1\n",
       "8482    0,0,0,0,0,0,0,0,0,0,0,1\n",
       "Name: STS, Length: 1364, dtype: object"
      ]
     },
     "execution_count": 70,
     "metadata": {},
     "output_type": "execute_result"
    }
   ],
   "source": [
    "filtered_bridges_SSC[\"STS\"]"
   ]
  },
  {
   "cell_type": "code",
   "execution_count": 71,
   "metadata": {},
   "outputs": [],
   "source": [
    "# Split the \"STS\" column into lists of integers\n",
    "filtered_bridges_SSC['STS_List'] = filtered_bridges_SSC['STS'].apply(\n",
    "    lambda x: [int(n) for n in x.split(',')])\n",
    "\n",
    "# Create a new column \"zeros\" containing the number of zeros in each STS_List\n",
    "filtered_bridges_SSC['zeros'] = filtered_bridges_SSC['STS_List'].apply(\n",
    "    lambda x: x.count(0))"
   ]
  },
  {
   "cell_type": "code",
   "execution_count": 72,
   "metadata": {},
   "outputs": [
    {
     "data": {
      "text/plain": [
       "zeros\n",
       "0     1250\n",
       "4       29\n",
       "2       17\n",
       "8       17\n",
       "9       14\n",
       "7       13\n",
       "5       12\n",
       "1        4\n",
       "10       4\n",
       "11       3\n",
       "3        1\n",
       "Name: count, dtype: int64"
      ]
     },
     "execution_count": 72,
     "metadata": {},
     "output_type": "execute_result"
    }
   ],
   "source": [
    "filtered_bridges_SSC['zeros'].value_counts()"
   ]
  },
  {
   "cell_type": "code",
   "execution_count": 73,
   "metadata": {},
   "outputs": [
    {
     "name": "stdout",
     "output_type": "stream",
     "text": [
      "count    1361.000000\n",
      "mean        0.063711\n",
      "std         0.136913\n",
      "min        -0.531469\n",
      "25%         0.000000\n",
      "50%         0.069930\n",
      "75%         0.125874\n",
      "max         0.559441\n",
      "Name: Scaled_Degradation_Rate, dtype: float64\n"
     ]
    }
   ],
   "source": [
    "def compute_slope(y):\n",
    "    # Filter out zeros and get the indices of non-zero values\n",
    "    y_filtered = np.array(y)[np.array(y) > 0]\n",
    "    x_filtered = np.arange(len(y))[np.array(y) > 0]\n",
    "\n",
    "    # Return NaN slope if not enough data\n",
    "    if len(y_filtered) <= 1:\n",
    "        return np.nan\n",
    "\n",
    "    # Compute slope\n",
    "    slope, intercept, r_value, p_value, std_err = linregress(\n",
    "        x_filtered, y_filtered)\n",
    "\n",
    "    # Calculate the scaling factor as the ratio of non-zero values to the total values\n",
    "    scaling_factor = len(y_filtered) / len(y)\n",
    "    scaled_slope = slope * scaling_factor\n",
    "\n",
    "    return scaled_slope\n",
    "\n",
    "\n",
    "# Applying the compute_slope function to each STS list and creating a scaled degradation rate column\n",
    "filtered_bridges_SSC['Scaled_Degradation_Rate'] = filtered_bridges_SSC['STS_List'].apply(\n",
    "    compute_slope)\n",
    "\n",
    "# Optionally, to view or analyze the distribution of scaled degradation rates, you might add:\n",
    "print(filtered_bridges_SSC['Scaled_Degradation_Rate'].describe())"
   ]
  },
  {
   "cell_type": "code",
   "execution_count": 79,
   "metadata": {},
   "outputs": [
    {
     "name": "stdout",
     "output_type": "stream",
     "text": [
      "     ID_mosta        Trieda_PK Číslo_PK          Most_DC  \\\n",
      "202      M761  cesta I. triedy       18  Dilatačný celok   \n",
      "691      M416  cesta I. triedy       51  Dilatačný celok   \n",
      "237     M4018  cesta I. triedy       18  Dilatačný celok   \n",
      "1053    M3584  cesta I. triedy       64  Dilatačný celok   \n",
      "282      M973  cesta I. triedy       18  Dilatačný celok   \n",
      "...       ...              ...      ...              ...   \n",
      "11      M2128  cesta I. triedy        2  Dilatačný celok   \n",
      "1157    M6084  cesta I. triedy       18  Dilatačný celok   \n",
      "940     M5386  cesta I. triedy      61B  Dilatačný celok   \n",
      "148      M262  cesta I. triedy       10  Dilatačný celok   \n",
      "1545    M6681  cesta I. triedy       74  Dilatačný celok   \n",
      "\n",
      "                                            Názov_mosta     ID_DC  \\\n",
      "202   18_276 Portál tunela medzi Strečnom a Dubnou S...   M761.01   \n",
      "691               51_142 Most cez jarok, k.ú. Horná Seč   M416.01   \n",
      "237   18_321 Most cez potok Bystré, k.ú. Bystré - Če...  M4018.01   \n",
      "1053       64_090 Most cez bezmenný potok v obci Fačkov  M3584.01   \n",
      "282   18_380 Most cez potok Mlynica za obcou Tatrans...   M973.01   \n",
      "...                                                 ...       ...   \n",
      "11          02_012 Most cez potok za obcou Veľké Leváre  M2128.01   \n",
      "1157  65D_013A Most na vetve C nad cestou I/18, k.ú....  M6084.01   \n",
      "940   61A_081A Most nad cestou III/06147, k.ú. Hloža...  M5386.01   \n",
      "148        18_235 Most cez bezmenný potok Pod Bumbálkou   M262.01   \n",
      "1545  74_001 Most nad železničnou traťou pred obcou ...  M6681.01   \n",
      "\n",
      "     správcovské_číslo  Zemepisná_dĺžka  Zemepisná_šírka       Výška  ...  \\\n",
      "202                276        18.884550        49.160550  384.720000  ...   \n",
      "691                142        18.540864        48.196669  158.706749  ...   \n",
      "237                321        19.224369        49.114132  460.255999  ...   \n",
      "1053                90        18.598696        49.010604  538.558999  ...   \n",
      "282                380        20.075994        49.081887  883.312000  ...   \n",
      "...                ...              ...              ...         ...  ...   \n",
      "11                  12        17.003910        48.497010  159.119999  ...   \n",
      "1157              013A        18.924770        49.093940  393.800000  ...   \n",
      "940               081A        18.316196        49.049004  255.354000  ...   \n",
      "148                235        18.409047        49.395757  847.555500  ...   \n",
      "1545                 1        21.832795        48.888937  143.922000  ...   \n",
      "\n",
      "     n_2018 n_2019  n_2020  n_2021  n_2022 n_2023                      STS  \\\n",
      "202       2      2       2       2       2      2  2,2,2,2,2,2,2,2,2,2,2,2   \n",
      "691       3      3       3       3       3      3  3,3,3,3,3,3,3,3,3,3,3,3   \n",
      "237       4      4       4       5       5      5  3,3,3,3,4,4,4,4,4,5,5,5   \n",
      "1053      4      4       4       4       4      4  4,4,4,4,4,4,4,4,4,4,4,4   \n",
      "282       2      2       2       4       4      4  6,6,6,6,2,2,2,2,2,4,4,4   \n",
      "...     ...    ...     ...     ...     ...    ...                      ...   \n",
      "11        4      4       4       4       4      4  2,2,2,2,2,4,4,4,4,4,4,4   \n",
      "1157      2      2       2       2       2      2  3,3,3,3,3,3,2,2,2,2,2,2   \n",
      "940       1      1       1       1       1      3  1,1,1,1,1,1,1,1,1,1,1,3   \n",
      "148       4      4       4       4       4      4  4,4,4,4,4,4,4,4,4,4,4,4   \n",
      "1545      5      5       5       5       5      5  3,5,5,5,5,5,5,5,5,5,5,5   \n",
      "\n",
      "                                  STS_List zeros  Scaled_Degradation_Rate  \n",
      "202   [2, 2, 2, 2, 2, 2, 2, 2, 2, 2, 2, 2]     0                 0.000000  \n",
      "691   [3, 3, 3, 3, 3, 3, 3, 3, 3, 3, 3, 3]     0                 0.000000  \n",
      "237   [3, 3, 3, 3, 4, 4, 4, 4, 4, 5, 5, 5]     0                 0.206294  \n",
      "1053  [4, 4, 4, 4, 4, 4, 4, 4, 4, 4, 4, 4]     0                 0.000000  \n",
      "282   [6, 6, 6, 6, 2, 2, 2, 2, 2, 4, 4, 4]     0                -0.258741  \n",
      "...                                    ...   ...                      ...  \n",
      "11    [2, 2, 2, 2, 2, 4, 4, 4, 4, 4, 4, 4]     0                 0.244755  \n",
      "1157  [3, 3, 3, 3, 3, 3, 2, 2, 2, 2, 2, 2]     0                -0.125874  \n",
      "940   [1, 1, 1, 1, 1, 1, 1, 1, 1, 1, 1, 3]     0                 0.076923  \n",
      "148   [4, 4, 4, 4, 4, 4, 4, 4, 4, 4, 4, 4]     0                 0.000000  \n",
      "1545  [3, 5, 5, 5, 5, 5, 5, 5, 5, 5, 5, 5]     0                 0.076923  \n",
      "\n",
      "[100 rows x 55 columns]\n"
     ]
    }
   ],
   "source": [
    "import pandas as pd\n",
    "\n",
    "# Assuming filtered_bridges_SSC is your DataFrame\n",
    "\n",
    "# Select 100 random rows\n",
    "random_sample = filtered_bridges_SSC.sample(n=100)\n",
    "\n",
    "# Save the sampled DataFrame to an Excel file\n",
    "random_sample.to_excel('random_sample.xlsx', index=False)\n",
    "\n",
    "# Optionally, display the sampled DataFrame\n",
    "print(random_sample)"
   ]
  },
  {
   "cell_type": "code",
   "execution_count": 75,
   "metadata": {},
   "outputs": [],
   "source": [
    "# Sort the DataFrame by the maximum value of Degradation_Rate\n",
    "sorted_df = filtered_bridges_SSC.sort_values(\n",
    "    by='Scaled_Degradation_Rate', ascending=False)"
   ]
  },
  {
   "cell_type": "code",
   "execution_count": 76,
   "metadata": {},
   "outputs": [
    {
     "data": {
      "text/plain": [
       "0       0.244755\n",
       "1       0.367133\n",
       "2       0.000000\n",
       "3       0.038462\n",
       "4       0.164336\n",
       "          ...   \n",
       "8387    0.000000\n",
       "8388    0.000000\n",
       "8389    0.000000\n",
       "8480         NaN\n",
       "8482         NaN\n",
       "Name: Scaled_Degradation_Rate, Length: 1364, dtype: float64"
      ]
     },
     "execution_count": 76,
     "metadata": {},
     "output_type": "execute_result"
    }
   ],
   "source": [
    "filtered_bridges_SSC['Scaled_Degradation_Rate']"
   ]
  },
  {
   "cell_type": "code",
   "execution_count": 77,
   "metadata": {},
   "outputs": [
    {
     "data": {
      "text/html": [
       "<div>\n",
       "<style scoped>\n",
       "    .dataframe tbody tr th:only-of-type {\n",
       "        vertical-align: middle;\n",
       "    }\n",
       "\n",
       "    .dataframe tbody tr th {\n",
       "        vertical-align: top;\n",
       "    }\n",
       "\n",
       "    .dataframe thead th {\n",
       "        text-align: right;\n",
       "    }\n",
       "</style>\n",
       "<table border=\"1\" class=\"dataframe\">\n",
       "  <thead>\n",
       "    <tr style=\"text-align: right;\">\n",
       "      <th></th>\n",
       "      <th>ID_mosta</th>\n",
       "      <th>STS</th>\n",
       "      <th>Scaled_Degradation_Rate</th>\n",
       "    </tr>\n",
       "  </thead>\n",
       "  <tbody>\n",
       "    <tr>\n",
       "      <th>1690</th>\n",
       "      <td>M6287</td>\n",
       "      <td>1,1,1,1,1,1,1,5,5,5,6,6</td>\n",
       "      <td>0.559441</td>\n",
       "    </tr>\n",
       "    <tr>\n",
       "      <th>23</th>\n",
       "      <td>M5509</td>\n",
       "      <td>2,2,2,2,2,6,6,6,6,6,6,6</td>\n",
       "      <td>0.489510</td>\n",
       "    </tr>\n",
       "    <tr>\n",
       "      <th>25</th>\n",
       "      <td>M6110</td>\n",
       "      <td>2,2,2,2,2,6,6,6,6,6,6,6</td>\n",
       "      <td>0.489510</td>\n",
       "    </tr>\n",
       "    <tr>\n",
       "      <th>1370</th>\n",
       "      <td>M4413</td>\n",
       "      <td>2,2,2,2,2,2,2,5,5,5,6,7</td>\n",
       "      <td>0.475524</td>\n",
       "    </tr>\n",
       "    <tr>\n",
       "      <th>47</th>\n",
       "      <td>M2061</td>\n",
       "      <td>2,2,2,2,2,4,4,4,6,6,6,6</td>\n",
       "      <td>0.468531</td>\n",
       "    </tr>\n",
       "    <tr>\n",
       "      <th>293</th>\n",
       "      <td>M4815</td>\n",
       "      <td>2,2,2,4,4,4,4,4,6,6,6,7</td>\n",
       "      <td>0.451049</td>\n",
       "    </tr>\n",
       "    <tr>\n",
       "      <th>115</th>\n",
       "      <td>M3602</td>\n",
       "      <td>2,2,2,2,7,6,6,6,6,6,6,6</td>\n",
       "      <td>0.437063</td>\n",
       "    </tr>\n",
       "    <tr>\n",
       "      <th>1687</th>\n",
       "      <td>M904</td>\n",
       "      <td>2,2,2,2,2,2,2,5,5,5,6,6</td>\n",
       "      <td>0.437063</td>\n",
       "    </tr>\n",
       "    <tr>\n",
       "      <th>1358</th>\n",
       "      <td>M5096</td>\n",
       "      <td>3,3,3,3,3,3,3,5,6,6,7,7</td>\n",
       "      <td>0.426573</td>\n",
       "    </tr>\n",
       "    <tr>\n",
       "      <th>114</th>\n",
       "      <td>M3740</td>\n",
       "      <td>3,3,4,4,5,5,5,5,7,7,7,7</td>\n",
       "      <td>0.405594</td>\n",
       "    </tr>\n",
       "  </tbody>\n",
       "</table>\n",
       "</div>"
      ],
      "text/plain": [
       "     ID_mosta                      STS  Scaled_Degradation_Rate\n",
       "1690    M6287  1,1,1,1,1,1,1,5,5,5,6,6                 0.559441\n",
       "23      M5509  2,2,2,2,2,6,6,6,6,6,6,6                 0.489510\n",
       "25      M6110  2,2,2,2,2,6,6,6,6,6,6,6                 0.489510\n",
       "1370    M4413  2,2,2,2,2,2,2,5,5,5,6,7                 0.475524\n",
       "47      M2061  2,2,2,2,2,4,4,4,6,6,6,6                 0.468531\n",
       "293     M4815  2,2,2,4,4,4,4,4,6,6,6,7                 0.451049\n",
       "115     M3602  2,2,2,2,7,6,6,6,6,6,6,6                 0.437063\n",
       "1687     M904  2,2,2,2,2,2,2,5,5,5,6,6                 0.437063\n",
       "1358    M5096  3,3,3,3,3,3,3,5,6,6,7,7                 0.426573\n",
       "114     M3740  3,3,4,4,5,5,5,5,7,7,7,7                 0.405594"
      ]
     },
     "execution_count": 77,
     "metadata": {},
     "output_type": "execute_result"
    }
   ],
   "source": [
    "sorted_df[[\"ID_mosta\", \"STS\", 'Scaled_Degradation_Rate']].head(10)"
   ]
  },
  {
   "cell_type": "code",
   "execution_count": 78,
   "metadata": {},
   "outputs": [
    {
     "name": "stdout",
     "output_type": "stream",
     "text": [
      "STS List: [1, 1, 1, 1, 1, 1, 1, 5, 5, 5, 6, 6]\n",
      "Filtered Y values: [1 1 1 1 1 1 1 5 5 5 6 6]\n",
      "Filtered X indices: [ 0  1  2  3  4  5  6  7  8  9 10 11]\n",
      "Linear Regression:\n",
      "Slope: 0.5594405594405594\n",
      "Intercept: -0.24358974358974317\n",
      "R-value: 0.8809668042591369\n",
      "P-value: 0.00015361232008200698\n",
      "Standard Error: 0.09502087334698474\n",
      "Degradation Rate: 0.5594405594405594\n"
     ]
    }
   ],
   "source": [
    "import pandas as pd\n",
    "import numpy as np\n",
    "from scipy.stats import linregress\n",
    "\n",
    "# Define a function to compute the slope\n",
    "\n",
    "\n",
    "def compute_slope(y):\n",
    "    # Filter out zeros and get the indices of non-zero values\n",
    "    y_filtered = np.array(y)[np.array(y) > 0]\n",
    "    x_filtered = np.arange(len(y))[np.array(y) > 0]\n",
    "\n",
    "    print(\"Filtered Y values:\", y_filtered)\n",
    "    print(\"Filtered X indices:\", x_filtered)\n",
    "\n",
    "    # Return NaN slope if not enough data\n",
    "    if len(y_filtered) <= 1:\n",
    "        print(\"Insufficient data points for computing slope.\")\n",
    "        return np.nan\n",
    "\n",
    "    # Compute slope using linear regression\n",
    "    slope, intercept, r_value, p_value, std_err = linregress(\n",
    "        x_filtered, y_filtered)\n",
    "    print(\"Linear Regression:\")\n",
    "    print(\"Slope:\", slope)\n",
    "    print(\"Intercept:\", intercept)\n",
    "    print(\"R-value:\", r_value)\n",
    "    print(\"P-value:\", p_value)\n",
    "    print(\"Standard Error:\", std_err)\n",
    "    return slope\n",
    "\n",
    "\n",
    "# Define an example value for the 'STS' column\n",
    "STS_example = '0,0,0,0,0,0,0,0,0,1,3,3'\n",
    "# STS_example = \"2, 2, 2, 2, 2, 2, 2, 5, 5, 5, 6, 7\"\n",
    "STS_example = \"1,1,1,1,1,1,1,5,5,5,6,6\"\n",
    "\n",
    "# Split the 'STS' string into a list of integers\n",
    "STS_list = [int(n) for n in STS_example.split(',')]\n",
    "print(\"STS List:\", STS_list)\n",
    "\n",
    "# Apply the compute_slope function to the list of integers\n",
    "degradation_rate = compute_slope(STS_list)\n",
    "\n",
    "# Print the result\n",
    "print(\"Degradation Rate:\", degradation_rate)"
   ]
  }
 ],
 "metadata": {
  "kernelspec": {
   "display_name": "Python 3",
   "language": "python",
   "name": "python3"
  },
  "language_info": {
   "codemirror_mode": {
    "name": "ipython",
    "version": 3
   },
   "file_extension": ".py",
   "mimetype": "text/x-python",
   "name": "python",
   "nbconvert_exporter": "python",
   "pygments_lexer": "ipython3",
   "version": "3.11.4"
  }
 },
 "nbformat": 4,
 "nbformat_minor": 2
}
