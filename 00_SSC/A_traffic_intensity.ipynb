{
 "cells": [
  {
   "cell_type": "code",
   "execution_count": 73,
   "metadata": {},
   "outputs": [
    {
     "name": "stderr",
     "output_type": "stream",
     "text": [
      "C:\\Users\\relia\\AppData\\Local\\Temp\\ipykernel_14056\\2498069902.py:18: DtypeWarning: Columns (5,16) have mixed types. Specify dtype option on import or set low_memory=False.\n",
      "  df_nodes = pd.read_csv(nodes_path, encoding='utf-8', delimiter=',')\n",
      "C:\\Users\\relia\\AppData\\Local\\Temp\\ipykernel_14056\\2498069902.py:19: DtypeWarning: Columns (10,11,12,25,26,27) have mixed types. Specify dtype option on import or set low_memory=False.\n",
      "  df_roads = pd.read_csv(roads_path, encoding='utf-8', delimiter=',')\n"
     ]
    }
   ],
   "source": [
    "import pandas as pd\n",
    "import numpy as np\n",
    "\n",
    "# # DOMA\n",
    "# # Define the file path\n",
    "# nodes_path = r\"C:\\Users\\Doktor\\Documents\\GitHub\\Bridges\\Data\\Nodes_processed.csv\"\n",
    "# roads_path = r\"C:\\Users\\Doktor\\Documents\\GitHub\\Bridges\\Data\\Roads_processed.csv\"\n",
    "# bridges_path = r\"C:\\Users\\Doktor\\Documents\\GitHub\\Bridges\\Data\\df_bridges_data.csv\"\n",
    "# survey_path = r\"C:\\Users\\Doktor\\Documents\\GitHub\\Bridges\\Data\\surveys\\Survey.csv\"\n",
    "\n",
    "# ROBOTA\n",
    "nodes_path = r\"C:\\Users\\relia\\Documents\\GitHub\\Bridges\\Data\\Nodes_processed.csv\"\n",
    "roads_path = r\"C:\\Users\\relia\\Documents\\GitHub\\Bridges\\Data\\Roads_processed.csv\"\n",
    "bridges_path = r\"C:\\Users\\relia\\Documents\\GitHub\\Bridges\\Data\\df_bridges_data.csv\"\n",
    "survey_path = r\"C:\\Users\\relia\\Documents\\GitHub\\Bridges\\Data\\surveys\\Survey.csv\"\n",
    "\n",
    "# Load the CSV data into a DataFrame\n",
    "df_nodes = pd.read_csv(nodes_path, encoding='utf-8', delimiter=',')\n",
    "df_roads = pd.read_csv(roads_path, encoding='utf-8', delimiter=',')\n",
    "df_bridges_all = pd.read_csv(bridges_path, encoding='utf-8', delimiter=',')\n",
    "df_survey = pd.read_csv(survey_path, encoding='utf-8', delimiter=',')"
   ]
  },
  {
   "cell_type": "code",
   "execution_count": 74,
   "metadata": {},
   "outputs": [
    {
     "data": {
      "text/plain": [
       "Index(['ID_mosta', 'Trieda_PK', 'Číslo_PK', 'Most_DC', 'Názov_mosta', 'ID_DC',\n",
       "       'správcovské_číslo', 'Zemepisná_dĺžka', 'Zemepisná_šírka', 'Výška',\n",
       "       'Druh_konštrukcie', 'Material', 'Normálna_zaťažiteľnosť',\n",
       "       'Výhradná_zaťažiteľnosť_t', 'Výnimočná_zaťažiteľnosť_t',\n",
       "       'Spôsob_stanovenia', 'Predmet_premostenia', 'Rok_postavenia',\n",
       "       'Zaťažovacia_trieda_STN', 'Počet_otvorov', 'Dĺžka_premostenia',\n",
       "       'Dĺžka_nosnej_konštrukcie_m', 'Volná_šírka_mosta',\n",
       "       'Šírka_medzi_obrubami_m', 'Plocha_mosnej_konštrukcie_m2',\n",
       "       'Plocha_mosta_m2', 'Vlastník_úseku', 'Správca_úseku', 'Okres',\n",
       "       'Smer_úseku', 'Typ_úseku', 'Počiatočný_uzol', 'Koncový_uzol', 'úsek_ID',\n",
       "       'úsekové_staničenie_začiatku_DC_m',\n",
       "       'Kilometrovníkové_staničenie_začiatku_DC_km',\n",
       "       'Kumulatívne_staničenie_začiatku_DC_km', 'Poradie', 'Kraj', 'n_2012',\n",
       "       'n_2013', 'n_2014', 'n_2015', 'n_2016', 'n_2017', 'n_2018', 'n_2019',\n",
       "       'n_2020', 'n_2021', 'n_2022', 'n_2023'],\n",
       "      dtype='object')"
      ]
     },
     "execution_count": 74,
     "metadata": {},
     "output_type": "execute_result"
    }
   ],
   "source": [
    "# Assuming df_bridges_all is your DataFrame\n",
    "columns_to_convert = ['Zemepisná_dĺžka', 'Zemepisná_šírka', 'Výška', 'Normálna_zaťažiteľnosť',\n",
    "                      'Výhradná_zaťažiteľnosť_t', 'Výnimočná_zaťažiteľnosť_t', 'Počet_otvorov',\n",
    "                      'Dĺžka_nosnej_konštrukcie_m', 'Dĺžka_premostenia', 'Volná_šírka_mosta',\n",
    "                      'Šírka_medzi_obrubami_m', 'Plocha_mosnej_konštrukcie_m2', 'Plocha_mosta_m2']\n",
    "\n",
    "# Convert specified columns to float\n",
    "df_bridges_all[columns_to_convert] = df_bridges_all[columns_to_convert].apply(\n",
    "    pd.to_numeric, errors='coerce')\n",
    "\n",
    "# Convert Rok_postavenia to integer, assign NaN if not possible\n",
    "df_bridges_all['Rok_postavenia'] = pd.to_numeric(\n",
    "    df_bridges_all['Rok_postavenia'], errors='coerce')\n",
    "\n",
    "\n",
    "df_bridges_all.columns"
   ]
  },
  {
   "cell_type": "code",
   "execution_count": 75,
   "metadata": {},
   "outputs": [],
   "source": [
    "SC_BA = r\"C:\\Users\\relia\\Documents\\GitHub\\Bridges\\01_SC_BA\\DT\\sorted_bridges_paths_BA.xlsx\"\n",
    "SC_TA = r\"C:\\Users\\relia\\Documents\\GitHub\\Bridges\\02_SC_TA\\DT\\sorted_bridges_paths_TT.xlsx\"\n",
    "SC_NR = r\"C:\\Users\\relia\\Documents\\GitHub\\Bridges\\04_SC_NR\\DT\\sorted_bridges_paths_NR.xlsx\"\n",
    "\n",
    "df_SC_BA = pd.read_excel(SC_BA)\n",
    "df_SC_TA = pd.read_excel(SC_TA)\n",
    "df_SC_NR = pd.read_excel(SC_NR)"
   ]
  },
  {
   "cell_type": "code",
   "execution_count": 76,
   "metadata": {},
   "outputs": [],
   "source": [
    "import pandas as pd\n",
    "import numpy as np\n",
    "\n",
    "# Function to convert various types to a list of integers or return an empty list\n",
    "\n",
    "\n",
    "def to_int_list(s):\n",
    "    # Check if s is NaN (missing value)\n",
    "    if pd.isna(s):\n",
    "        return []\n",
    "    # If s is a float or integer, convert it directly to a list with a single element\n",
    "    elif isinstance(s, (float, int)):\n",
    "        return [int(s)]\n",
    "    # If s is a string, attempt to split it and convert to integers\n",
    "    elif isinstance(s, str) and s != '':\n",
    "        return [int(x) for x in s.split(', ')]\n",
    "    # Return an empty list for any other cases (e.g., empty strings)\n",
    "    else:\n",
    "        return []\n",
    "\n",
    "\n",
    "# Apply the function to the 'Číslo_sčítacieho_úseku' column of each DataFrame\n",
    "df_SC_BA['Číslo_sčítacieho_úseku'] = df_SC_BA['Číslo_sčítacieho_úseku'].apply(\n",
    "    to_int_list)\n",
    "df_SC_TA['Číslo_sčítacieho_úseku'] = df_SC_TA['Číslo_sčítacieho_úseku'].apply(\n",
    "    to_int_list)\n",
    "df_SC_NR['Číslo_sčítacieho_úseku'] = df_SC_NR['Číslo_sčítacieho_úseku'].apply(\n",
    "    to_int_list)"
   ]
  },
  {
   "cell_type": "code",
   "execution_count": 77,
   "metadata": {},
   "outputs": [
    {
     "data": {
      "text/plain": [
       "((133, 5), (383, 5), (526, 5))"
      ]
     },
     "execution_count": 77,
     "metadata": {},
     "output_type": "execute_result"
    }
   ],
   "source": [
    "df_SC_BA.shape, df_SC_TA.shape, df_SC_NR.shape"
   ]
  },
  {
   "cell_type": "code",
   "execution_count": 78,
   "metadata": {},
   "outputs": [
    {
     "name": "stdout",
     "output_type": "stream",
     "text": [
      "  ID_mosta                                        Názov_mosta  \\\n",
      "0    M4765         II_501 - 002 Most cez Malý potok v Lozorne   \n",
      "1    M1160                  II_501 - 003 Most cez Suchý jarok   \n",
      "2    M3059  II_501 - 004 Most cez Ondriášov potok - za Loz...   \n",
      "3    M1000            II_501 - 005 Most cez Jablonovský potok   \n",
      "4    M1635      II_501 - 006 Most cez Beňovský potok - Pernek   \n",
      "\n",
      "   Zemepisná_šírka  Zemepisná_dĺžka Číslo_sčítacieho_úseku  \n",
      "0        48.332244        17.048768                [81960]  \n",
      "1        48.335665        17.056195                [81960]  \n",
      "2        48.339914        17.077483                [81960]  \n",
      "3        48.348188        17.099172                [81960]  \n",
      "4        48.362373        17.123062                [81960]  \n",
      "  ID_mosta                                        Názov_mosta  \\\n",
      "0     M114  002038_002 Most cez rieku Morava medzi obcami ...   \n",
      "1    M2130  00238-001 Most cez Malolevársky kanál pri Mor....   \n",
      "2    M1644     425-031 Most cez rieku Morava pri obci Brodské   \n",
      "3    M1523     425-032 Most cez potok Haďmáš pri obci Brodské   \n",
      "4    M7437  426007-001 Most cez potok Haďmáš pred obcou Br...   \n",
      "\n",
      "   Zemepisná_šírka  Zemepisná_dĺžka Číslo_sčítacieho_úseku  \n",
      "0        48.601864        16.934670                [86320]  \n",
      "1        48.595674        16.971918                [86320]  \n",
      "2        48.686941        16.989606                [80069]  \n",
      "3        48.681548        16.995134                [80069]  \n",
      "4        48.680063        17.000024                     []  \n",
      "  ID_mosta                                     Názov_mosta  Zemepisná_šírka  \\\n",
      "0    M2548  Most cez odvodňovací kanál pred obcou Pribeta.        47.912412   \n",
      "1    M3518         Most cez rieku Vážsky Dunaj v Kolárove.        47.914398   \n",
      "2    M2948             Most cez Malý Dunaj pred Kolárovom.        47.930289   \n",
      "3    M3562             Most cez kanál Čergov za Kolárovom.        47.892730   \n",
      "4    M7315                      Most Járok za Š.M. Čergov.        47.875617   \n",
      "\n",
      "   Zemepisná_dĺžka Číslo_sčítacieho_úseku  \n",
      "0        18.299329                [81400]  \n",
      "1        18.010667                [82618]  \n",
      "2        17.982309                [82720]  \n",
      "3        18.010590                [82710]  \n",
      "4        18.010530                [82710]  \n"
     ]
    }
   ],
   "source": [
    "print(df_SC_BA.head())\n",
    "print(df_SC_TA.head())\n",
    "print(df_SC_NR.head())"
   ]
  },
  {
   "cell_type": "code",
   "execution_count": 79,
   "metadata": {},
   "outputs": [
    {
     "data": {
      "text/html": [
       "<div>\n",
       "<style scoped>\n",
       "    .dataframe tbody tr th:only-of-type {\n",
       "        vertical-align: middle;\n",
       "    }\n",
       "\n",
       "    .dataframe tbody tr th {\n",
       "        vertical-align: top;\n",
       "    }\n",
       "\n",
       "    .dataframe thead th {\n",
       "        text-align: right;\n",
       "    }\n",
       "</style>\n",
       "<table border=\"1\" class=\"dataframe\">\n",
       "  <thead>\n",
       "    <tr style=\"text-align: right;\">\n",
       "      <th></th>\n",
       "      <th>ID_mosta</th>\n",
       "      <th>Názov_mosta</th>\n",
       "      <th>Zemepisná_šírka</th>\n",
       "      <th>Zemepisná_dĺžka</th>\n",
       "      <th>Číslo_sčítacieho_úseku</th>\n",
       "    </tr>\n",
       "  </thead>\n",
       "  <tbody>\n",
       "    <tr>\n",
       "      <th>30</th>\n",
       "      <td>M4331</td>\n",
       "      <td>II_503 - 005 Most cez potok Čierna Voda</td>\n",
       "      <td>48.201885</td>\n",
       "      <td>17.414043</td>\n",
       "      <td>[81629]</td>\n",
       "    </tr>\n",
       "    <tr>\n",
       "      <th>31</th>\n",
       "      <td>M4330</td>\n",
       "      <td>II_503 - 006A Most nad diaľnicou D1 pri Senci</td>\n",
       "      <td>48.236435</td>\n",
       "      <td>17.366278</td>\n",
       "      <td>[81627, 81096]</td>\n",
       "    </tr>\n",
       "    <tr>\n",
       "      <th>32</th>\n",
       "      <td>M2263</td>\n",
       "      <td>II_503 - 007 Most cez zrážkový potok Viničné</td>\n",
       "      <td>48.278562</td>\n",
       "      <td>17.296622</td>\n",
       "      <td>[81100]</td>\n",
       "    </tr>\n",
       "    <tr>\n",
       "      <th>33</th>\n",
       "      <td>M2684</td>\n",
       "      <td>II_503 - 008 most nad traťou ŽSR - Pezinok</td>\n",
       "      <td>48.287378</td>\n",
       "      <td>17.281569</td>\n",
       "      <td>[81100]</td>\n",
       "    </tr>\n",
       "    <tr>\n",
       "      <th>34</th>\n",
       "      <td>M7488</td>\n",
       "      <td>II_503 - 009 Most na peáži v Pezinku</td>\n",
       "      <td>48.301233</td>\n",
       "      <td>17.281539</td>\n",
       "      <td>[80116, 81106, 81020]</td>\n",
       "    </tr>\n",
       "  </tbody>\n",
       "</table>\n",
       "</div>"
      ],
      "text/plain": [
       "   ID_mosta                                    Názov_mosta  Zemepisná_šírka  \\\n",
       "30    M4331        II_503 - 005 Most cez potok Čierna Voda        48.201885   \n",
       "31    M4330  II_503 - 006A Most nad diaľnicou D1 pri Senci        48.236435   \n",
       "32    M2263   II_503 - 007 Most cez zrážkový potok Viničné        48.278562   \n",
       "33    M2684     II_503 - 008 most nad traťou ŽSR - Pezinok        48.287378   \n",
       "34    M7488           II_503 - 009 Most na peáži v Pezinku        48.301233   \n",
       "\n",
       "    Zemepisná_dĺžka Číslo_sčítacieho_úseku  \n",
       "30        17.414043                [81629]  \n",
       "31        17.366278         [81627, 81096]  \n",
       "32        17.296622                [81100]  \n",
       "33        17.281569                [81100]  \n",
       "34        17.281539  [80116, 81106, 81020]  "
      ]
     },
     "execution_count": 79,
     "metadata": {},
     "output_type": "execute_result"
    }
   ],
   "source": [
    "# Concatenate the DataFrames along the columns axis\n",
    "merged_df = pd.concat([df_SC_BA, df_SC_TA, df_SC_NR], axis=0)\n",
    "\n",
    "cislo = 30\n",
    "# Print the merged DataFrame\n",
    "merged_df.iloc[cislo:cislo+5]"
   ]
  },
  {
   "cell_type": "code",
   "execution_count": 82,
   "metadata": {},
   "outputs": [],
   "source": [
    "# Step 1: Convert ÚSEK to integer in df_survey\n",
    "df_survey['ÚSEK'] = df_survey['ÚSEK'].astype(int)\n",
    "\n",
    "# Step 2: Define a function to get the list of 'S' values for each 'Číslo_sčítacieho_úseku'\n",
    "\n",
    "\n",
    "def get_intenzita(cislo_scitacieho_useku):\n",
    "    if not cislo_scitacieho_useku:  # Check if the list is empty\n",
    "        return 0  # Return zero if the list is empty\n",
    "    else:\n",
    "        # Find matching 'S' values and return them as a list\n",
    "        intenzita_list = df_survey[df_survey['ÚSEK'].isin(\n",
    "            cislo_scitacieho_useku)]['S'].tolist()\n",
    "        if not intenzita_list:  # If no matches found, return zero\n",
    "            return 0\n",
    "        return intenzita_list\n",
    "\n",
    "\n",
    "# Step 3: Apply the function to create the 'intenzita' column\n",
    "merged_df['intenzita'] = merged_df['Číslo_sčítacieho_úseku'].apply(\n",
    "    get_intenzita)"
   ]
  },
  {
   "cell_type": "code",
   "execution_count": 88,
   "metadata": {},
   "outputs": [],
   "source": [
    "import numpy as np\n",
    "\n",
    "# Function to calculate mean of intenzita or return NaN\n",
    "\n",
    "\n",
    "def calculate_mean_intenzita(intenzita):\n",
    "    # Check if intenzita is a list and not empty\n",
    "    if isinstance(intenzita, list) and intenzita:\n",
    "        # Calculate mean if there are elements in the list\n",
    "        return np.mean(intenzita)\n",
    "    # Return NaN for empty lists or if intenzita is 0\n",
    "    return np.nan\n",
    "\n",
    "\n",
    "# Apply the function to the 'intenzita' column\n",
    "merged_df['intenzita'] = merged_df['intenzita'].apply(calculate_mean_intenzita)"
   ]
  },
  {
   "cell_type": "code",
   "execution_count": 89,
   "metadata": {},
   "outputs": [
    {
     "name": "stdout",
     "output_type": "stream",
     "text": [
      "   ID_mosta                                        Názov_mosta  \\\n",
      "80    M7218  III_002041 - 004 Most cez Stupavský potok - Bo...   \n",
      "81    M2156  III_002041 - 005 Most cez Stupavský potok - Ko...   \n",
      "82     M399  III_002041 - 006 Most cez Stupavský potok - Hámre   \n",
      "83    M7562  III_002041 - 007 Most cez Stupavský potok - Hámre   \n",
      "84    M2485   III_002050 - 001 nad diaľnicou D2 - v obci Závod   \n",
      "\n",
      "    Zemepisná_šírka  Zemepisná_dĺžka Číslo_sčítacieho_úseku  intenzita  \n",
      "80        48.265864        17.076882                [83800]     1299.0  \n",
      "81        48.252735        17.112284                [83800]     1299.0  \n",
      "82        48.259561        17.118330                [83800]     1299.0  \n",
      "83        48.259684        17.118240                [83800]     1299.0  \n",
      "84        48.538548        17.014651                     []        NaN  \n"
     ]
    }
   ],
   "source": [
    "print(merged_df.iloc[80:85])"
   ]
  },
  {
   "cell_type": "code",
   "execution_count": 84,
   "metadata": {},
   "outputs": [],
   "source": [
    "# Define the file path for the Excel file\n",
    "excel_file_path = \"intenzita.xlsx\"\n",
    "\n",
    "# Export the DataFrame to Excel\n",
    "merged_df.to_excel(excel_file_path, index=False)"
   ]
  }
 ],
 "metadata": {
  "kernelspec": {
   "display_name": "Python 3",
   "language": "python",
   "name": "python3"
  },
  "language_info": {
   "codemirror_mode": {
    "name": "ipython",
    "version": 3
   },
   "file_extension": ".py",
   "mimetype": "text/x-python",
   "name": "python",
   "nbconvert_exporter": "python",
   "pygments_lexer": "ipython3",
   "version": "3.12.0"
  }
 },
 "nbformat": 4,
 "nbformat_minor": 2
}
