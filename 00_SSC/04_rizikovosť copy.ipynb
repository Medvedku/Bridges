{
 "cells": [
  {
   "cell_type": "code",
   "execution_count": 822,
   "metadata": {},
   "outputs": [],
   "source": [
    "import pandas as pd\n",
    "\n",
    "bridges_path = r\"C:\\Users\\Doktor\\Documents\\GitHub\\Bridges\\Data\\Bridges_processed.csv\"  # DOMA\n",
    "survey_path = r\"C:\\Users\\Doktor\\Documents\\GitHub\\Bridges\\Data\\surveys\\Survey.csv\"\n",
    "# bridges_path = r\"C:\\Users\\relia\\Documents\\GitHub\\Bridges\\Data\\Bridges_processed.csv\" # Práca\n",
    "\n",
    "df_bridges_all = pd.read_csv(bridges_path, encoding='utf-8', delimiter=',')\n",
    "df_survey = pd.read_csv(survey_path, encoding='utf-8', delimiter=',')"
   ]
  },
  {
   "cell_type": "code",
   "execution_count": 823,
   "metadata": {},
   "outputs": [
    {
     "data": {
      "text/plain": [
       "Index(['ID_mosta', 'Trieda_PK', 'Číslo_PK', 'Most_DC', 'Názov_mosta', 'ID_DC',\n",
       "       'správcovské_číslo', 'Zemepisná_dĺžka', 'Zemepisná_šírka', 'Výška',\n",
       "       'Druh_konštrukcie', 'Material', 'Normálna_zaťažiteľnosť',\n",
       "       'Výhradná_zaťažiteľnosť_t', 'Výnimočná_zaťažiteľnosť_t',\n",
       "       'Spôsob_stanovenia', 'Predmet_premostenia', 'Rok_postavenia',\n",
       "       'Zaťažovacia_trieda_STN', 'Počet_otvorov', 'Dĺžka_premostenia',\n",
       "       'Dĺžka_nosnej_konštrukcie_m', 'Volná_šírka_mosta',\n",
       "       'Šírka_medzi_obrubami_m', 'Plocha_mosnej_konštrukcie_m2',\n",
       "       'Plocha_mosta_m2', 'Vlastník_úseku', 'Správca_úseku', 'Okres',\n",
       "       'Smer_úseku', 'Typ_úseku', 'Počiatočný_uzol', 'Koncový_uzol', 'úsek_ID',\n",
       "       'úsekové_staničenie_začiatku_DC_m',\n",
       "       'Kilometrovníkové_staničenie_začiatku_DC_km',\n",
       "       'Kumulatívne_staničenie_začiatku_DC_km', 'Poradie', 'Kraj', 'n_2012',\n",
       "       'n_2013', 'n_2014', 'n_2015', 'n_2016', 'n_2017', 'n_2018', 'n_2019',\n",
       "       'n_2020', 'n_2021', 'n_2022', 'n_2023'],\n",
       "      dtype='object')"
      ]
     },
     "execution_count": 823,
     "metadata": {},
     "output_type": "execute_result"
    }
   ],
   "source": [
    "# Assuming df_bridges_all is your DataFrame\n",
    "columns_to_convert = ['Zemepisná_dĺžka', 'Zemepisná_šírka', 'Výška', 'Normálna_zaťažiteľnosť',\n",
    "                      'Výhradná_zaťažiteľnosť_t', 'Výnimočná_zaťažiteľnosť_t', 'Počet_otvorov',\n",
    "                      'Dĺžka_nosnej_konštrukcie_m', 'Dĺžka_premostenia', 'Volná_šírka_mosta',\n",
    "                      'Šírka_medzi_obrubami_m', 'Plocha_mosnej_konštrukcie_m2', 'Plocha_mosta_m2']\n",
    "\n",
    "# Convert specified columns to float\n",
    "df_bridges_all[columns_to_convert] = df_bridges_all[columns_to_convert].apply(\n",
    "    pd.to_numeric, errors='coerce')\n",
    "\n",
    "# Convert Rok_postavenia to integer, assign NaN if not possible\n",
    "df_bridges_all['Rok_postavenia'] = pd.to_numeric(\n",
    "    df_bridges_all['Rok_postavenia'], errors='coerce')\n",
    "\n",
    "df_bridges_all[\"Číslo_PK\"] = df_bridges_all[\"Číslo_PK\"].str.upper()\n",
    "\n",
    "\n",
    "\n",
    "df_bridges_all.columns"
   ]
  },
  {
   "cell_type": "code",
   "execution_count": 824,
   "metadata": {},
   "outputs": [
    {
     "data": {
      "text/plain": [
       "(1364, 51)"
      ]
     },
     "execution_count": 824,
     "metadata": {},
     "output_type": "execute_result"
    }
   ],
   "source": [
    "# Filter bridges in the Nitra region with Trieda_PK as \"cesta I. triedy\" or \"cesta II. triedy\"\n",
    "filtered_bridges_SSC = df_bridges_all[\n",
    "    ((df_bridges_all['Správca_úseku'] == \"SSC - IVSC ZA\") |\n",
    "     (df_bridges_all['Správca_úseku'] == \"SSC - IVSC KE\") |\n",
    "     (df_bridges_all['Správca_úseku'] == \"SSC - IVSC BA\")) &\n",
    "    (df_bridges_all['n_2023'] > 0) &\n",
    "    (df_bridges_all['ID_mosta'] != \"Nezistený\")\n",
    "].copy()\n",
    "filtered_bridges_SSC.to_excel('filtered_bridges_SSC.xlsx', index=False)\n",
    "# Display the filtered DataFrame\n",
    "filtered_bridges_SSC.shape"
   ]
  },
  {
   "cell_type": "code",
   "execution_count": 825,
   "metadata": {},
   "outputs": [],
   "source": [
    "# Locate rows with \"ID_mosta\" equal to M2103 or M7498\n",
    "rows_to_update = filtered_bridges_SSC[(filtered_bridges_SSC[\"ID_mosta\"] == \"M2103\") | (\n",
    "    filtered_bridges_SSC[\"ID_mosta\"] == \"M7498\")]\n",
    "\n",
    "# Update the \"Číslo_PK\" values for the located rows to \"64\"\n",
    "filtered_bridges_SSC.loc[rows_to_update.index, \"Číslo_PK\"] = \"64\""
   ]
  },
  {
   "cell_type": "code",
   "execution_count": 826,
   "metadata": {},
   "outputs": [],
   "source": [
    "filtered_bridges_SSC.loc[:, 'F_y'] = filtered_bridges_SSC['Rok_postavenia'].apply(lambda x:\n",
    "                                                                                  5 if x <= 1965\n",
    "                                                                                  else (4 if 1965 < x <= 1975\n",
    "                                                                                        else (3 if 1976 < x <= 1985\n",
    "                                                                                              else (2 if 1986 < x <= 1996\n",
    "                                                                                                    else 1))))"
   ]
  },
  {
   "cell_type": "code",
   "execution_count": 827,
   "metadata": {},
   "outputs": [
    {
     "data": {
      "text/plain": [
       "F_y\n",
       "5    722\n",
       "4    206\n",
       "1    179\n",
       "3    172\n",
       "2     85\n",
       "Name: count, dtype: int64"
      ]
     },
     "execution_count": 827,
     "metadata": {},
     "output_type": "execute_result"
    }
   ],
   "source": [
    "filtered_bridges_SSC['F_y'].value_counts()"
   ]
  },
  {
   "cell_type": "code",
   "execution_count": 828,
   "metadata": {},
   "outputs": [],
   "source": [
    "# Create new column \"F_c\" and assign values from \"n_2023\"\n",
    "filtered_bridges_SSC['F_c'] = filtered_bridges_SSC['n_2023']"
   ]
  },
  {
   "cell_type": "code",
   "execution_count": 829,
   "metadata": {},
   "outputs": [
    {
     "data": {
      "text/plain": [
       "F_c\n",
       "4    452\n",
       "5    290\n",
       "3    216\n",
       "2    160\n",
       "6    148\n",
       "1     77\n",
       "7     21\n",
       "Name: count, dtype: int64"
      ]
     },
     "execution_count": 829,
     "metadata": {},
     "output_type": "execute_result"
    }
   ],
   "source": [
    "filtered_bridges_SSC['F_c'].value_counts()"
   ]
  },
  {
   "cell_type": "code",
   "execution_count": 830,
   "metadata": {},
   "outputs": [],
   "source": [
    "# Define a dictionary mapping materials to their corresponding values\n",
    "material_mapping = {\n",
    "    'prefabrikovaný predpätý betón': 10,\n",
    "    'monolitický predpätý betón': 8,\n",
    "    'monolitický železobetón': 6,\n",
    "    'prefabrikovaný železobetón': 6,\n",
    "    'monolitický prostý betón': 6,\n",
    "    'spriahnutá betón-betón': 5,\n",
    "    'spriahnutá oceľ-betón': 5,\n",
    "    'oceľ -  plnostenná': 5,\n",
    "    'oceľ -  priehradová': 5,\n",
    "    'oceľobetón': 5,\n",
    "    'tehla': 2,\n",
    "    'kameň': 2,\n",
    "    'Nezistený': 6,\n",
    "    'iný materiál': 6\n",
    "}\n",
    "\n",
    "# Create a new column [F_f] based on the mapped values\n",
    "filtered_bridges_SSC['F_f'] = filtered_bridges_SSC['Material'].map(\n",
    "    material_mapping)"
   ]
  },
  {
   "cell_type": "code",
   "execution_count": 831,
   "metadata": {},
   "outputs": [
    {
     "data": {
      "text/plain": [
       "F_f\n",
       "6     906\n",
       "10    319\n",
       "8      63\n",
       "5      54\n",
       "2      22\n",
       "Name: count, dtype: int64"
      ]
     },
     "execution_count": 831,
     "metadata": {},
     "output_type": "execute_result"
    }
   ],
   "source": [
    "filtered_bridges_SSC['F_f'].value_counts()"
   ]
  },
  {
   "cell_type": "code",
   "execution_count": 832,
   "metadata": {},
   "outputs": [],
   "source": [
    "# Define a dictionary mapping 'Druh_konštrukcie' values to their corresponding values\n",
    "construction_mapping = {\n",
    "    'dosková': 0,\n",
    "    'trámová': 2,\n",
    "    'klenbová': 0,\n",
    "    'rámová': 0,\n",
    "    'oblúková': 0,\n",
    "    'Nezistený': 0,\n",
    "    'iná': 0,\n",
    "    'priehradová': 0,\n",
    "    'zavesená': 0\n",
    "}\n",
    "\n",
    "# Apply condition to update 'F_f' only where 'Material' is 'prefabrikovaný predpätý betón'\n",
    "filtered_bridges_SSC.loc[filtered_bridges_SSC['Material'] == 'prefabrikovaný predpätý betón',\n",
    "                         'F_f'] += filtered_bridges_SSC['Druh_konštrukcie'].map(construction_mapping)"
   ]
  },
  {
   "cell_type": "code",
   "execution_count": 833,
   "metadata": {},
   "outputs": [
    {
     "data": {
      "text/plain": [
       "F_f\n",
       "6     906\n",
       "12    170\n",
       "10    149\n",
       "8      63\n",
       "5      54\n",
       "2      22\n",
       "Name: count, dtype: int64"
      ]
     },
     "execution_count": 833,
     "metadata": {},
     "output_type": "execute_result"
    }
   ],
   "source": [
    "filtered_bridges_SSC['F_f'].value_counts()"
   ]
  },
  {
   "cell_type": "code",
   "execution_count": 834,
   "metadata": {},
   "outputs": [],
   "source": [
    "# Split the values in the \"Predmet_premostenia\" column into lists\n",
    "filtered_bridges_SSC[\"Predmet_premostenia\"] = filtered_bridges_SSC[\"Predmet_premostenia\"].str.split(\n",
    "    \",  \")"
   ]
  },
  {
   "cell_type": "code",
   "execution_count": 835,
   "metadata": {},
   "outputs": [],
   "source": [
    "# Define the classification key as a dictionary\n",
    "classification_key = {\n",
    "    \"Vodný tok\": 1,\n",
    "    \"Železnica\": 5,\n",
    "    \"Kanál\": 2,\n",
    "    \"Cestná komunikácia\": 4,\n",
    "    \"Miestna komunikácia\": 3,\n",
    "    \"Účelová komunikácia\": 2,\n",
    "    \"Záplavové územie\": 1,\n",
    "    \"Nezistený\": 3,\n",
    "    \"Iná prekážka\": 3,\n",
    "    \"Podchod pre chodcov\": 3,\n",
    "    \"Údolie\": 2,\n",
    "    \"Vodná nádrž\": 1\n",
    "}\n",
    "\n",
    "# Mapping function to get the highest value for each item\n",
    "\n",
    "\n",
    "def get_highest_value(item):\n",
    "    # Evaluate the list from string representation if necessary\n",
    "    # Remove the brackets and split by comma if item is a string representation of a list\n",
    "    if isinstance(item, str):\n",
    "        item = item.strip(\"[]\").split(\", \")\n",
    "    # Replace category names in the list with their corresponding values\n",
    "    values = [classification_key.get(\n",
    "        category.strip(\"[]'\\\"\"), 0) for category in item]\n",
    "    # Return the highest value found\n",
    "    return max(values)\n",
    "\n",
    "\n",
    "# Apply the mapping function to each item in the column and create a new column [\"F_q\"]\n",
    "filtered_bridges_SSC[\"F_q\"] = filtered_bridges_SSC[\"Predmet_premostenia\"].apply(\n",
    "    get_highest_value)"
   ]
  },
  {
   "cell_type": "code",
   "execution_count": 836,
   "metadata": {},
   "outputs": [
    {
     "data": {
      "text/plain": [
       "F_q\n",
       "1    998\n",
       "2    131\n",
       "5    107\n",
       "3     72\n",
       "4     56\n",
       "Name: count, dtype: int64"
      ]
     },
     "execution_count": 836,
     "metadata": {},
     "output_type": "execute_result"
    }
   ],
   "source": [
    "filtered_bridges_SSC[\"F_q\"].value_counts()"
   ]
  },
  {
   "cell_type": "code",
   "execution_count": 837,
   "metadata": {},
   "outputs": [],
   "source": [
    "import pandas as pd\n",
    "\n",
    "# Assuming filtered_bridges_SSC is your DataFrame\n",
    "\n",
    "# Select columns starting with \"n_\"\n",
    "condition_columns = filtered_bridges_SSC.filter(like='n_').columns\n",
    "\n",
    "# Concatenate values of selected columns into a new column \"STS\"\n",
    "filtered_bridges_SSC['STS'] = filtered_bridges_SSC[condition_columns].apply(\n",
    "    lambda x: ','.join(x.dropna().astype(str)), axis=1)\n",
    "\n",
    "# Split the \"STS\" column into lists of integers\n",
    "filtered_bridges_SSC['STS_List'] = filtered_bridges_SSC['STS'].apply(\n",
    "    lambda x: [int(n) for n in x.split(',')])"
   ]
  },
  {
   "cell_type": "code",
   "execution_count": 838,
   "metadata": {},
   "outputs": [],
   "source": [
    "def filter_series(y):\n",
    "    # Convert the series to a NumPy array for easier manipulation\n",
    "    y = np.array(y)\n",
    "\n",
    "    # Remove leading zeros (if any)\n",
    "    y_non_zero = y[y > 0]\n",
    "\n",
    "    # If after removing zeros the series is empty or consists of a constant sequence, return it as is\n",
    "    if len(y_non_zero) <= 1 or np.all(y_non_zero == y_non_zero[0]):\n",
    "        return y_non_zero.tolist()\n",
    "\n",
    "    # Now, find the first change in the non-zero part of the series\n",
    "    first_change_index = np.where(y_non_zero[:-1] != y_non_zero[1:])[0][0] + 1\n",
    "\n",
    "    # The filtered series should start from the first non-zero value to the end of changes\n",
    "    # Adjust to include the first non-zero value that changes\n",
    "    y_filtered = y_non_zero[first_change_index - 1:]\n",
    "\n",
    "    return y_filtered.tolist()\n",
    "\n",
    "\n",
    "# Example usage:\n",
    "# Assuming 'filtered_bridges_SSC' is your DataFrame and 'STS_List' contains the lists of integers\n",
    "filtered_bridges_SSC['STS_filt'] = filtered_bridges_SSC['STS_List'].apply(\n",
    "    filter_series)"
   ]
  },
  {
   "cell_type": "code",
   "execution_count": 839,
   "metadata": {},
   "outputs": [
    {
     "name": "stdout",
     "output_type": "stream",
     "text": [
      "count    1364.000000\n",
      "mean        0.059033\n",
      "std         0.118296\n",
      "min        -0.575000\n",
      "25%         0.000000\n",
      "50%         0.055556\n",
      "75%         0.141667\n",
      "max         0.500000\n",
      "Name: Scaled_Degradation_Rate, dtype: float64\n"
     ]
    }
   ],
   "source": [
    "import pandas as pd\n",
    "import numpy as np\n",
    "from scipy.stats import linregress\n",
    "\n",
    "\n",
    "def compute_slope_filtered(y):\n",
    "    # Check if the list is empty or has insufficient data points\n",
    "    if not y or len(y) <= 1:\n",
    "        return 0\n",
    "\n",
    "    # Convert the series to a NumPy array for easier manipulation\n",
    "    y = np.array(y)\n",
    "\n",
    "    # Use the entire filtered series directly\n",
    "    y_filtered = y\n",
    "\n",
    "    # Create x indices for the filtered series, starting from 0\n",
    "    x_filtered = np.arange(len(y_filtered))\n",
    "\n",
    "    # Compute the slope using linear regression\n",
    "    slope, intercept, r_value, p_value, std_err = linregress(\n",
    "        x_filtered, y_filtered)\n",
    "\n",
    "    # Calculate the scaling factor as the ratio of the length of filtered values to 12 (the total number of expected data points)\n",
    "    scaling_factor = len(y_filtered) / 12\n",
    "    scaled_slope = slope * scaling_factor\n",
    "\n",
    "    return scaled_slope\n",
    "\n",
    "\n",
    "# Apply the updated function to the 'STS_filt' column to compute the scaled degradation rate\n",
    "filtered_bridges_SSC['Scaled_Degradation_Rate'] = filtered_bridges_SSC['STS_filt'].apply(\n",
    "    compute_slope_filtered)\n",
    "\n",
    "# Optionally, view or analyze the distribution of scaled degradation rates\n",
    "print(filtered_bridges_SSC['Scaled_Degradation_Rate'].describe())"
   ]
  },
  {
   "cell_type": "code",
   "execution_count": 840,
   "metadata": {},
   "outputs": [
    {
     "data": {
      "text/html": [
       "<div>\n",
       "<style scoped>\n",
       "    .dataframe tbody tr th:only-of-type {\n",
       "        vertical-align: middle;\n",
       "    }\n",
       "\n",
       "    .dataframe tbody tr th {\n",
       "        vertical-align: top;\n",
       "    }\n",
       "\n",
       "    .dataframe thead th {\n",
       "        text-align: right;\n",
       "    }\n",
       "</style>\n",
       "<table border=\"1\" class=\"dataframe\">\n",
       "  <thead>\n",
       "    <tr style=\"text-align: right;\">\n",
       "      <th></th>\n",
       "      <th>ID_mosta</th>\n",
       "      <th>STS</th>\n",
       "      <th>STS_filt</th>\n",
       "      <th>Scaled_Degradation_Rate</th>\n",
       "    </tr>\n",
       "  </thead>\n",
       "  <tbody>\n",
       "    <tr>\n",
       "      <th>415</th>\n",
       "      <td>M1155</td>\n",
       "      <td>2,2,2,2,2,2,2,2,2,2,2,5</td>\n",
       "      <td>[2, 5]</td>\n",
       "      <td>0.5</td>\n",
       "    </tr>\n",
       "    <tr>\n",
       "      <th>676</th>\n",
       "      <td>M1963</td>\n",
       "      <td>3,3,3,3,3,3,3,3,3,3,3,6</td>\n",
       "      <td>[3, 6]</td>\n",
       "      <td>0.5</td>\n",
       "    </tr>\n",
       "    <tr>\n",
       "      <th>1043</th>\n",
       "      <td>M7192</td>\n",
       "      <td>3,3,3,3,3,3,3,3,3,3,3,6</td>\n",
       "      <td>[3, 6]</td>\n",
       "      <td>0.5</td>\n",
       "    </tr>\n",
       "    <tr>\n",
       "      <th>1690</th>\n",
       "      <td>M6287</td>\n",
       "      <td>1,1,1,1,1,1,1,5,5,5,6,6</td>\n",
       "      <td>[1, 5, 5, 5, 6, 6]</td>\n",
       "      <td>0.4</td>\n",
       "    </tr>\n",
       "    <tr>\n",
       "      <th>1370</th>\n",
       "      <td>M4413</td>\n",
       "      <td>2,2,2,2,2,2,2,5,5,5,6,7</td>\n",
       "      <td>[2, 5, 5, 5, 6, 7]</td>\n",
       "      <td>0.4</td>\n",
       "    </tr>\n",
       "  </tbody>\n",
       "</table>\n",
       "</div>"
      ],
      "text/plain": [
       "     ID_mosta                      STS            STS_filt  \\\n",
       "415     M1155  2,2,2,2,2,2,2,2,2,2,2,5              [2, 5]   \n",
       "676     M1963  3,3,3,3,3,3,3,3,3,3,3,6              [3, 6]   \n",
       "1043    M7192  3,3,3,3,3,3,3,3,3,3,3,6              [3, 6]   \n",
       "1690    M6287  1,1,1,1,1,1,1,5,5,5,6,6  [1, 5, 5, 5, 6, 6]   \n",
       "1370    M4413  2,2,2,2,2,2,2,5,5,5,6,7  [2, 5, 5, 5, 6, 7]   \n",
       "\n",
       "      Scaled_Degradation_Rate  \n",
       "415                       0.5  \n",
       "676                       0.5  \n",
       "1043                      0.5  \n",
       "1690                      0.4  \n",
       "1370                      0.4  "
      ]
     },
     "execution_count": 840,
     "metadata": {},
     "output_type": "execute_result"
    }
   ],
   "source": [
    "# Sort the DataFrame by the maximum value of Degradation_Rate\n",
    "sorted_df = filtered_bridges_SSC.sort_values(\n",
    "    by='Scaled_Degradation_Rate', ascending=False)\n",
    "\n",
    "sorted_df[[\"ID_mosta\", \"STS\", \"STS_filt\", \"Scaled_Degradation_Rate\"]].head(5)"
   ]
  },
  {
   "cell_type": "code",
   "execution_count": 841,
   "metadata": {},
   "outputs": [],
   "source": [
    "def assign_fd(m):\n",
    "    if m < 0:\n",
    "        return 0\n",
    "    elif 0.0 <= m < 0.1:\n",
    "        return 0\n",
    "    elif 0.1 <= m < 0.2:\n",
    "        return 1\n",
    "    elif 0.2 <= m < 0.4:\n",
    "        return 2\n",
    "    elif m >= 0.4:\n",
    "        return 3\n",
    "\n",
    "\n",
    "# Apply the assign_fd function to the 'Scaled_Degradation_Rate' column to compute 'F_d'\n",
    "filtered_bridges_SSC['F_d'] = filtered_bridges_SSC['Scaled_Degradation_Rate'].apply(\n",
    "    assign_fd)"
   ]
  },
  {
   "cell_type": "code",
   "execution_count": 842,
   "metadata": {},
   "outputs": [],
   "source": [
    "# Computing the new column R using the given formula\n",
    "filtered_bridges_SSC['R'] = ((((1 * filtered_bridges_SSC['F_y'] + filtered_bridges_SSC['F_f'] +\n",
    "                                4*(filtered_bridges_SSC['F_d'] + filtered_bridges_SSC['F_c'])) * 0.5 *\n",
    "                               filtered_bridges_SSC['F_q']) - 0) / 228) * 100\n",
    "\n",
    "# # Computing the new column R using the given formula\n",
    "# filtered_bridges_SSC['R'] = (1 * filtered_bridges_SSC['F_y'] + filtered_bridges_SSC['F_f'] +\n",
    "#                                 4*(filtered_bridges_SSC['F_d'] + filtered_bridges_SSC['F_c']) +\n",
    "#                                filtered_bridges_SSC['F_q'])"
   ]
  },
  {
   "cell_type": "code",
   "execution_count": 843,
   "metadata": {},
   "outputs": [],
   "source": [
    "filtered_bridges_SSC_sorted_asc = filtered_bridges_SSC.sort_values(\n",
    "    by='R', ascending=False)"
   ]
  },
  {
   "cell_type": "code",
   "execution_count": 844,
   "metadata": {},
   "outputs": [
    {
     "data": {
      "text/html": [
       "<div>\n",
       "<style scoped>\n",
       "    .dataframe tbody tr th:only-of-type {\n",
       "        vertical-align: middle;\n",
       "    }\n",
       "\n",
       "    .dataframe tbody tr th {\n",
       "        vertical-align: top;\n",
       "    }\n",
       "\n",
       "    .dataframe thead th {\n",
       "        text-align: right;\n",
       "    }\n",
       "</style>\n",
       "<table border=\"1\" class=\"dataframe\">\n",
       "  <thead>\n",
       "    <tr style=\"text-align: right;\">\n",
       "      <th></th>\n",
       "      <th>ID_mosta</th>\n",
       "      <th>Názov_mosta</th>\n",
       "      <th>Material</th>\n",
       "      <th>Dĺžka_premostenia</th>\n",
       "      <th>Druh_konštrukcie</th>\n",
       "      <th>F_c</th>\n",
       "      <th>F_d</th>\n",
       "      <th>F_y</th>\n",
       "      <th>F_f</th>\n",
       "      <th>F_q</th>\n",
       "      <th>R</th>\n",
       "    </tr>\n",
       "  </thead>\n",
       "  <tbody>\n",
       "    <tr>\n",
       "      <th>1807</th>\n",
       "      <td>M6028</td>\n",
       "      <td>79_021 Most cez železničnú trať a miestnu komu...</td>\n",
       "      <td>prefabrikovaný predpätý betón</td>\n",
       "      <td>91.76</td>\n",
       "      <td>trámová</td>\n",
       "      <td>7</td>\n",
       "      <td>2</td>\n",
       "      <td>2</td>\n",
       "      <td>12</td>\n",
       "      <td>5</td>\n",
       "      <td>54.824561</td>\n",
       "    </tr>\n",
       "    <tr>\n",
       "      <th>293</th>\n",
       "      <td>M4815</td>\n",
       "      <td>18_390 Most cez železničnú trať, k.ú. Poprad</td>\n",
       "      <td>prefabrikovaný predpätý betón</td>\n",
       "      <td>116.80</td>\n",
       "      <td>dosková</td>\n",
       "      <td>7</td>\n",
       "      <td>2</td>\n",
       "      <td>4</td>\n",
       "      <td>10</td>\n",
       "      <td>5</td>\n",
       "      <td>54.824561</td>\n",
       "    </tr>\n",
       "    <tr>\n",
       "      <th>1694</th>\n",
       "      <td>M1218</td>\n",
       "      <td>77_012 Most nad železničnou traťou za obcou Po...</td>\n",
       "      <td>monolitický železobetón</td>\n",
       "      <td>8.20</td>\n",
       "      <td>klenbová</td>\n",
       "      <td>7</td>\n",
       "      <td>2</td>\n",
       "      <td>5</td>\n",
       "      <td>6</td>\n",
       "      <td>5</td>\n",
       "      <td>51.535088</td>\n",
       "    </tr>\n",
       "    <tr>\n",
       "      <th>954</th>\n",
       "      <td>M2437</td>\n",
       "      <td>62_013 Nadjazd nad žel. traťou Galanta-Leopold...</td>\n",
       "      <td>prefabrikovaný predpätý betón</td>\n",
       "      <td>39.75</td>\n",
       "      <td>dosková</td>\n",
       "      <td>7</td>\n",
       "      <td>1</td>\n",
       "      <td>5</td>\n",
       "      <td>10</td>\n",
       "      <td>5</td>\n",
       "      <td>51.535088</td>\n",
       "    </tr>\n",
       "    <tr>\n",
       "      <th>972</th>\n",
       "      <td>M3483</td>\n",
       "      <td>63_023B Most nad železnicou a MK, Estakáda v K...</td>\n",
       "      <td>prefabrikovaný predpätý betón</td>\n",
       "      <td>240.28</td>\n",
       "      <td>trámová</td>\n",
       "      <td>6</td>\n",
       "      <td>1</td>\n",
       "      <td>3</td>\n",
       "      <td>12</td>\n",
       "      <td>5</td>\n",
       "      <td>47.149123</td>\n",
       "    </tr>\n",
       "    <tr>\n",
       "      <th>971</th>\n",
       "      <td>M1368</td>\n",
       "      <td>63_023A Most nad železnicou a MK, Estakáda v K...</td>\n",
       "      <td>prefabrikovaný predpätý betón</td>\n",
       "      <td>232.11</td>\n",
       "      <td>trámová</td>\n",
       "      <td>6</td>\n",
       "      <td>1</td>\n",
       "      <td>3</td>\n",
       "      <td>12</td>\n",
       "      <td>5</td>\n",
       "      <td>47.149123</td>\n",
       "    </tr>\n",
       "    <tr>\n",
       "      <th>670</th>\n",
       "      <td>M2448</td>\n",
       "      <td>51_087 Most nad železničnou traťou pred obcou ...</td>\n",
       "      <td>prefabrikovaný predpätý betón</td>\n",
       "      <td>33.97</td>\n",
       "      <td>dosková</td>\n",
       "      <td>6</td>\n",
       "      <td>2</td>\n",
       "      <td>1</td>\n",
       "      <td>10</td>\n",
       "      <td>5</td>\n",
       "      <td>47.149123</td>\n",
       "    </tr>\n",
       "    <tr>\n",
       "      <th>912</th>\n",
       "      <td>M3992</td>\n",
       "      <td>61_068 Most cez odstránenú železničnú vlečku z...</td>\n",
       "      <td>monolitický železobetón</td>\n",
       "      <td>7.70</td>\n",
       "      <td>dosková</td>\n",
       "      <td>6</td>\n",
       "      <td>2</td>\n",
       "      <td>5</td>\n",
       "      <td>6</td>\n",
       "      <td>5</td>\n",
       "      <td>47.149123</td>\n",
       "    </tr>\n",
       "    <tr>\n",
       "      <th>943</th>\n",
       "      <td>M1556</td>\n",
       "      <td>62_002 Most nad železnicou, k.ú. Senec</td>\n",
       "      <td>prefabrikovaný predpätý betón</td>\n",
       "      <td>47.00</td>\n",
       "      <td>dosková</td>\n",
       "      <td>5</td>\n",
       "      <td>2</td>\n",
       "      <td>4</td>\n",
       "      <td>10</td>\n",
       "      <td>5</td>\n",
       "      <td>46.052632</td>\n",
       "    </tr>\n",
       "    <tr>\n",
       "      <th>655</th>\n",
       "      <td>M6701</td>\n",
       "      <td>51_062 Most nad železnicou v obci Holíč</td>\n",
       "      <td>prefabrikovaný predpätý betón</td>\n",
       "      <td>93.00</td>\n",
       "      <td>trámová</td>\n",
       "      <td>5</td>\n",
       "      <td>1</td>\n",
       "      <td>4</td>\n",
       "      <td>12</td>\n",
       "      <td>5</td>\n",
       "      <td>43.859649</td>\n",
       "    </tr>\n",
       "    <tr>\n",
       "      <th>1031</th>\n",
       "      <td>M6016</td>\n",
       "      <td>64_066 Most cez železničnú trať v meste Prievidza</td>\n",
       "      <td>prefabrikovaný predpätý betón</td>\n",
       "      <td>238.00</td>\n",
       "      <td>trámová</td>\n",
       "      <td>5</td>\n",
       "      <td>1</td>\n",
       "      <td>4</td>\n",
       "      <td>12</td>\n",
       "      <td>5</td>\n",
       "      <td>43.859649</td>\n",
       "    </tr>\n",
       "    <tr>\n",
       "      <th>343</th>\n",
       "      <td>M4059</td>\n",
       "      <td>18_449 Most nad železnicou a cestou v obci Šar...</td>\n",
       "      <td>prefabrikovaný predpätý betón</td>\n",
       "      <td>237.80</td>\n",
       "      <td>trámová</td>\n",
       "      <td>6</td>\n",
       "      <td>0</td>\n",
       "      <td>3</td>\n",
       "      <td>12</td>\n",
       "      <td>5</td>\n",
       "      <td>42.763158</td>\n",
       "    </tr>\n",
       "    <tr>\n",
       "      <th>215</th>\n",
       "      <td>M3285</td>\n",
       "      <td>18_291 Most nad železnicou v k.ú. obce Priekopa</td>\n",
       "      <td>prefabrikovaný predpätý betón</td>\n",
       "      <td>34.15</td>\n",
       "      <td>dosková</td>\n",
       "      <td>6</td>\n",
       "      <td>0</td>\n",
       "      <td>5</td>\n",
       "      <td>10</td>\n",
       "      <td>5</td>\n",
       "      <td>42.763158</td>\n",
       "    </tr>\n",
       "    <tr>\n",
       "      <th>383</th>\n",
       "      <td>M209</td>\n",
       "      <td>18_502 Most nad železničnou traťou, k.ú. Strážske</td>\n",
       "      <td>monolitický železobetón</td>\n",
       "      <td>31.00</td>\n",
       "      <td>trámová</td>\n",
       "      <td>6</td>\n",
       "      <td>1</td>\n",
       "      <td>5</td>\n",
       "      <td>6</td>\n",
       "      <td>5</td>\n",
       "      <td>42.763158</td>\n",
       "    </tr>\n",
       "    <tr>\n",
       "      <th>217</th>\n",
       "      <td>M1268</td>\n",
       "      <td>18_293 Most ponad vlečku, Martin-Priekopa</td>\n",
       "      <td>prefabrikovaný predpätý betón</td>\n",
       "      <td>55.90</td>\n",
       "      <td>dosková</td>\n",
       "      <td>6</td>\n",
       "      <td>0</td>\n",
       "      <td>5</td>\n",
       "      <td>10</td>\n",
       "      <td>5</td>\n",
       "      <td>42.763158</td>\n",
       "    </tr>\n",
       "    <tr>\n",
       "      <th>1696</th>\n",
       "      <td>M6730</td>\n",
       "      <td>77_015 Most nad železnicou za obcou Nižné Ružb...</td>\n",
       "      <td>prefabrikovaný predpätý betón</td>\n",
       "      <td>10.00</td>\n",
       "      <td>trámová</td>\n",
       "      <td>4</td>\n",
       "      <td>1</td>\n",
       "      <td>5</td>\n",
       "      <td>12</td>\n",
       "      <td>5</td>\n",
       "      <td>40.570175</td>\n",
       "    </tr>\n",
       "    <tr>\n",
       "      <th>1806</th>\n",
       "      <td>M7802</td>\n",
       "      <td>79_020 Most cez širokorozchodnú vlečku, k.ú. T...</td>\n",
       "      <td>prefabrikovaný predpätý betón</td>\n",
       "      <td>10.76</td>\n",
       "      <td>dosková</td>\n",
       "      <td>5</td>\n",
       "      <td>1</td>\n",
       "      <td>3</td>\n",
       "      <td>10</td>\n",
       "      <td>5</td>\n",
       "      <td>40.570175</td>\n",
       "    </tr>\n",
       "    <tr>\n",
       "      <th>1670</th>\n",
       "      <td>M3124</td>\n",
       "      <td>76_24 Most nad železnicou a cestou I/51 v Kaln...</td>\n",
       "      <td>prefabrikovaný predpätý betón</td>\n",
       "      <td>103.04</td>\n",
       "      <td>dosková</td>\n",
       "      <td>5</td>\n",
       "      <td>1</td>\n",
       "      <td>3</td>\n",
       "      <td>10</td>\n",
       "      <td>5</td>\n",
       "      <td>40.570175</td>\n",
       "    </tr>\n",
       "    <tr>\n",
       "      <th>934</th>\n",
       "      <td>M1885</td>\n",
       "      <td>61_098 Galéria Vrtižer, nad železnicou a terénom</td>\n",
       "      <td>prefabrikovaný predpätý betón</td>\n",
       "      <td>163.67</td>\n",
       "      <td>dosková</td>\n",
       "      <td>5</td>\n",
       "      <td>1</td>\n",
       "      <td>3</td>\n",
       "      <td>10</td>\n",
       "      <td>5</td>\n",
       "      <td>40.570175</td>\n",
       "    </tr>\n",
       "    <tr>\n",
       "      <th>921</th>\n",
       "      <td>M985</td>\n",
       "      <td>61_080 Most cez železničnú trať, k.ú. Hloža - ...</td>\n",
       "      <td>prefabrikovaný predpätý betón</td>\n",
       "      <td>42.60</td>\n",
       "      <td>trámová</td>\n",
       "      <td>3</td>\n",
       "      <td>2</td>\n",
       "      <td>4</td>\n",
       "      <td>12</td>\n",
       "      <td>5</td>\n",
       "      <td>39.473684</td>\n",
       "    </tr>\n",
       "    <tr>\n",
       "      <th>291</th>\n",
       "      <td>M5832</td>\n",
       "      <td>18_389B Most nad cestou I/67, k.ú. Poprad</td>\n",
       "      <td>prefabrikovaný predpätý betón</td>\n",
       "      <td>50.60</td>\n",
       "      <td>trámová</td>\n",
       "      <td>6</td>\n",
       "      <td>1</td>\n",
       "      <td>4</td>\n",
       "      <td>12</td>\n",
       "      <td>4</td>\n",
       "      <td>38.596491</td>\n",
       "    </tr>\n",
       "    <tr>\n",
       "      <th>756</th>\n",
       "      <td>M4440</td>\n",
       "      <td>57_113 Most nad železnicou v obci Horné Srnie</td>\n",
       "      <td>monolitický železobetón</td>\n",
       "      <td>12.90</td>\n",
       "      <td>dosková</td>\n",
       "      <td>6</td>\n",
       "      <td>0</td>\n",
       "      <td>5</td>\n",
       "      <td>6</td>\n",
       "      <td>5</td>\n",
       "      <td>38.377193</td>\n",
       "    </tr>\n",
       "    <tr>\n",
       "      <th>454</th>\n",
       "      <td>M505</td>\n",
       "      <td>09_102 Most nad železničnou vlečkou v meste Bá...</td>\n",
       "      <td>monolitický železobetón</td>\n",
       "      <td>10.15</td>\n",
       "      <td>dosková</td>\n",
       "      <td>5</td>\n",
       "      <td>1</td>\n",
       "      <td>5</td>\n",
       "      <td>6</td>\n",
       "      <td>5</td>\n",
       "      <td>38.377193</td>\n",
       "    </tr>\n",
       "    <tr>\n",
       "      <th>1085</th>\n",
       "      <td>M665</td>\n",
       "      <td>65_020 Most nad železnicou pri Zlatých Moravciach</td>\n",
       "      <td>prefabrikovaný predpätý betón</td>\n",
       "      <td>40.75</td>\n",
       "      <td>dosková</td>\n",
       "      <td>5</td>\n",
       "      <td>0</td>\n",
       "      <td>4</td>\n",
       "      <td>10</td>\n",
       "      <td>5</td>\n",
       "      <td>37.280702</td>\n",
       "    </tr>\n",
       "    <tr>\n",
       "      <th>1359</th>\n",
       "      <td>M2171</td>\n",
       "      <td>68_008 Most nad železničnou traťou v meste Sta...</td>\n",
       "      <td>prefabrikovaný železobetón</td>\n",
       "      <td>29.35</td>\n",
       "      <td>dosková</td>\n",
       "      <td>5</td>\n",
       "      <td>1</td>\n",
       "      <td>4</td>\n",
       "      <td>6</td>\n",
       "      <td>5</td>\n",
       "      <td>37.280702</td>\n",
       "    </tr>\n",
       "    <tr>\n",
       "      <th>986</th>\n",
       "      <td>M2522</td>\n",
       "      <td>64_002A Estakáda ku sklopnému mostu v Komárne</td>\n",
       "      <td>monolitický železobetón</td>\n",
       "      <td>211.30</td>\n",
       "      <td>dosková</td>\n",
       "      <td>4</td>\n",
       "      <td>2</td>\n",
       "      <td>4</td>\n",
       "      <td>6</td>\n",
       "      <td>5</td>\n",
       "      <td>37.280702</td>\n",
       "    </tr>\n",
       "    <tr>\n",
       "      <th>2056</th>\n",
       "      <td>M5154</td>\n",
       "      <td>Most nad cestou R1 v k. ú. Sereď</td>\n",
       "      <td>prefabrikovaný predpätý betón</td>\n",
       "      <td>58.20</td>\n",
       "      <td>trámová</td>\n",
       "      <td>5</td>\n",
       "      <td>2</td>\n",
       "      <td>2</td>\n",
       "      <td>12</td>\n",
       "      <td>4</td>\n",
       "      <td>36.842105</td>\n",
       "    </tr>\n",
       "    <tr>\n",
       "      <th>1545</th>\n",
       "      <td>M6681</td>\n",
       "      <td>74_001 Most nad železničnou traťou pred obcou ...</td>\n",
       "      <td>prefabrikovaný predpätý betón</td>\n",
       "      <td>43.72</td>\n",
       "      <td>dosková</td>\n",
       "      <td>5</td>\n",
       "      <td>0</td>\n",
       "      <td>3</td>\n",
       "      <td>10</td>\n",
       "      <td>5</td>\n",
       "      <td>36.184211</td>\n",
       "    </tr>\n",
       "    <tr>\n",
       "      <th>285</th>\n",
       "      <td>M1043</td>\n",
       "      <td>18-383 Most cez železničnú trať pred odbočkou ...</td>\n",
       "      <td>prefabrikovaný predpätý betón</td>\n",
       "      <td>63.55</td>\n",
       "      <td>trámová</td>\n",
       "      <td>5</td>\n",
       "      <td>0</td>\n",
       "      <td>1</td>\n",
       "      <td>12</td>\n",
       "      <td>5</td>\n",
       "      <td>36.184211</td>\n",
       "    </tr>\n",
       "    <tr>\n",
       "      <th>993</th>\n",
       "      <td>M169</td>\n",
       "      <td>64_015 Most nad železnicou Nitra - Nové Zámky ...</td>\n",
       "      <td>monolitický predpätý betón</td>\n",
       "      <td>88.60</td>\n",
       "      <td>trámová</td>\n",
       "      <td>4</td>\n",
       "      <td>2</td>\n",
       "      <td>1</td>\n",
       "      <td>8</td>\n",
       "      <td>5</td>\n",
       "      <td>36.184211</td>\n",
       "    </tr>\n",
       "    <tr>\n",
       "      <th>371</th>\n",
       "      <td>M5894</td>\n",
       "      <td>18-486 Most nad železničnou traťou, Vranov nad...</td>\n",
       "      <td>prefabrikovaný predpätý betón</td>\n",
       "      <td>88.55</td>\n",
       "      <td>dosková</td>\n",
       "      <td>5</td>\n",
       "      <td>0</td>\n",
       "      <td>3</td>\n",
       "      <td>10</td>\n",
       "      <td>5</td>\n",
       "      <td>36.184211</td>\n",
       "    </tr>\n",
       "    <tr>\n",
       "      <th>675</th>\n",
       "      <td>M1570</td>\n",
       "      <td>51_099A Most nad železničnou traťou na obchvat...</td>\n",
       "      <td>monolitický predpätý betón</td>\n",
       "      <td>78.52</td>\n",
       "      <td>trámová</td>\n",
       "      <td>5</td>\n",
       "      <td>1</td>\n",
       "      <td>1</td>\n",
       "      <td>8</td>\n",
       "      <td>5</td>\n",
       "      <td>36.184211</td>\n",
       "    </tr>\n",
       "    <tr>\n",
       "      <th>7893</th>\n",
       "      <td>M8279</td>\n",
       "      <td>64_032D Most na traťou ŽSR</td>\n",
       "      <td>prefabrikovaný predpätý betón</td>\n",
       "      <td>58.55</td>\n",
       "      <td>trámová</td>\n",
       "      <td>4</td>\n",
       "      <td>1</td>\n",
       "      <td>1</td>\n",
       "      <td>12</td>\n",
       "      <td>5</td>\n",
       "      <td>36.184211</td>\n",
       "    </tr>\n",
       "    <tr>\n",
       "      <th>633</th>\n",
       "      <td>M3479</td>\n",
       "      <td>50_359 Most nad železnicou v Michalovciach</td>\n",
       "      <td>prefabrikovaný predpätý betón</td>\n",
       "      <td>292.30</td>\n",
       "      <td>trámová</td>\n",
       "      <td>4</td>\n",
       "      <td>0</td>\n",
       "      <td>4</td>\n",
       "      <td>12</td>\n",
       "      <td>5</td>\n",
       "      <td>35.087719</td>\n",
       "    </tr>\n",
       "    <tr>\n",
       "      <th>987</th>\n",
       "      <td>M5997</td>\n",
       "      <td>64_005 Most nad železnicou Komárno - Nové Zámky</td>\n",
       "      <td>prefabrikovaný predpätý betón</td>\n",
       "      <td>70.00</td>\n",
       "      <td>trámová</td>\n",
       "      <td>4</td>\n",
       "      <td>0</td>\n",
       "      <td>4</td>\n",
       "      <td>12</td>\n",
       "      <td>5</td>\n",
       "      <td>35.087719</td>\n",
       "    </tr>\n",
       "    <tr>\n",
       "      <th>243</th>\n",
       "      <td>M2703</td>\n",
       "      <td>18_326A Most cez železnicu, k.ú. Ružomberok</td>\n",
       "      <td>prefabrikovaný predpätý betón</td>\n",
       "      <td>45.02</td>\n",
       "      <td>dosková</td>\n",
       "      <td>5</td>\n",
       "      <td>0</td>\n",
       "      <td>2</td>\n",
       "      <td>10</td>\n",
       "      <td>5</td>\n",
       "      <td>35.087719</td>\n",
       "    </tr>\n",
       "    <tr>\n",
       "      <th>2455</th>\n",
       "      <td>M2547</td>\n",
       "      <td>534-001 Most cez vetvu cesty I/18 a MK pred me...</td>\n",
       "      <td>prefabrikovaný predpätý betón</td>\n",
       "      <td>138.82</td>\n",
       "      <td>trámová</td>\n",
       "      <td>6</td>\n",
       "      <td>0</td>\n",
       "      <td>3</td>\n",
       "      <td>12</td>\n",
       "      <td>4</td>\n",
       "      <td>34.210526</td>\n",
       "    </tr>\n",
       "    <tr>\n",
       "      <th>216</th>\n",
       "      <td>M4313</td>\n",
       "      <td>18_292 Most nad cestou I/65</td>\n",
       "      <td>prefabrikovaný predpätý betón</td>\n",
       "      <td>32.45</td>\n",
       "      <td>dosková</td>\n",
       "      <td>5</td>\n",
       "      <td>1</td>\n",
       "      <td>5</td>\n",
       "      <td>10</td>\n",
       "      <td>4</td>\n",
       "      <td>34.210526</td>\n",
       "    </tr>\n",
       "    <tr>\n",
       "      <th>914</th>\n",
       "      <td>M2079</td>\n",
       "      <td>61_070 Most nad odstránenou železničnou vlečko...</td>\n",
       "      <td>prefabrikovaný železobetón</td>\n",
       "      <td>7.90</td>\n",
       "      <td>trámová</td>\n",
       "      <td>5</td>\n",
       "      <td>0</td>\n",
       "      <td>5</td>\n",
       "      <td>6</td>\n",
       "      <td>5</td>\n",
       "      <td>33.991228</td>\n",
       "    </tr>\n",
       "    <tr>\n",
       "      <th>754</th>\n",
       "      <td>M373</td>\n",
       "      <td>57_111 Most nad železničnou traťou, k.ú. Horné...</td>\n",
       "      <td>monolitický železobetón</td>\n",
       "      <td>14.50</td>\n",
       "      <td>dosková</td>\n",
       "      <td>5</td>\n",
       "      <td>0</td>\n",
       "      <td>5</td>\n",
       "      <td>6</td>\n",
       "      <td>5</td>\n",
       "      <td>33.991228</td>\n",
       "    </tr>\n",
       "    <tr>\n",
       "      <th>242</th>\n",
       "      <td>M76</td>\n",
       "      <td>18_326 Most na vetve \"A\" (ľavá strana), cez že...</td>\n",
       "      <td>prefabrikovaný predpätý betón</td>\n",
       "      <td>44.98</td>\n",
       "      <td>dosková</td>\n",
       "      <td>5</td>\n",
       "      <td>0</td>\n",
       "      <td>1</td>\n",
       "      <td>10</td>\n",
       "      <td>5</td>\n",
       "      <td>33.991228</td>\n",
       "    </tr>\n",
       "    <tr>\n",
       "      <th>164</th>\n",
       "      <td>M473</td>\n",
       "      <td>10(18)_251 Most cez rieku Váh, ŽSR, D1 v Bytči</td>\n",
       "      <td>iný materiál</td>\n",
       "      <td>256.15</td>\n",
       "      <td>dosková</td>\n",
       "      <td>5</td>\n",
       "      <td>0</td>\n",
       "      <td>5</td>\n",
       "      <td>6</td>\n",
       "      <td>5</td>\n",
       "      <td>33.991228</td>\n",
       "    </tr>\n",
       "    <tr>\n",
       "      <th>1793</th>\n",
       "      <td>M2554</td>\n",
       "      <td>79_003 Most cez železničnú vlečku, k.ú. Čemerné</td>\n",
       "      <td>monolitický železobetón</td>\n",
       "      <td>3.20</td>\n",
       "      <td>dosková</td>\n",
       "      <td>5</td>\n",
       "      <td>0</td>\n",
       "      <td>5</td>\n",
       "      <td>6</td>\n",
       "      <td>5</td>\n",
       "      <td>33.991228</td>\n",
       "    </tr>\n",
       "    <tr>\n",
       "      <th>581</th>\n",
       "      <td>M1714</td>\n",
       "      <td>50_276 Most nad železničnou traťou, k.ú. Slavec</td>\n",
       "      <td>prefabrikovaný predpätý betón</td>\n",
       "      <td>107.10</td>\n",
       "      <td>dosková</td>\n",
       "      <td>4</td>\n",
       "      <td>1</td>\n",
       "      <td>1</td>\n",
       "      <td>10</td>\n",
       "      <td>5</td>\n",
       "      <td>33.991228</td>\n",
       "    </tr>\n",
       "    <tr>\n",
       "      <th>833</th>\n",
       "      <td>M625</td>\n",
       "      <td>59_087 Most cez rieku Orava  za obcou Dlhá nad...</td>\n",
       "      <td>monolitický železobetón</td>\n",
       "      <td>115.21</td>\n",
       "      <td>oblúková</td>\n",
       "      <td>3</td>\n",
       "      <td>2</td>\n",
       "      <td>5</td>\n",
       "      <td>6</td>\n",
       "      <td>5</td>\n",
       "      <td>33.991228</td>\n",
       "    </tr>\n",
       "    <tr>\n",
       "      <th>1625</th>\n",
       "      <td>M4840</td>\n",
       "      <td>75_042 Most nad železnicou v k.ú. obce Slatina</td>\n",
       "      <td>monolitický železobetón</td>\n",
       "      <td>19.50</td>\n",
       "      <td>rámová</td>\n",
       "      <td>5</td>\n",
       "      <td>0</td>\n",
       "      <td>5</td>\n",
       "      <td>6</td>\n",
       "      <td>5</td>\n",
       "      <td>33.991228</td>\n",
       "    </tr>\n",
       "    <tr>\n",
       "      <th>379</th>\n",
       "      <td>M1422</td>\n",
       "      <td>18_499 Most cez železnicu za obcou Nižný Hrabovec</td>\n",
       "      <td>monolitický železobetón</td>\n",
       "      <td>10.60</td>\n",
       "      <td>trámová</td>\n",
       "      <td>4</td>\n",
       "      <td>1</td>\n",
       "      <td>5</td>\n",
       "      <td>6</td>\n",
       "      <td>5</td>\n",
       "      <td>33.991228</td>\n",
       "    </tr>\n",
       "    <tr>\n",
       "      <th>356</th>\n",
       "      <td>M6859</td>\n",
       "      <td>18-468 Most nad železničnou traťou za obcou Či...</td>\n",
       "      <td>monolitický železobetón</td>\n",
       "      <td>10.45</td>\n",
       "      <td>trámová</td>\n",
       "      <td>4</td>\n",
       "      <td>1</td>\n",
       "      <td>5</td>\n",
       "      <td>6</td>\n",
       "      <td>5</td>\n",
       "      <td>33.991228</td>\n",
       "    </tr>\n",
       "    <tr>\n",
       "      <th>860</th>\n",
       "      <td>M1007</td>\n",
       "      <td>61_007 Most nad železnicou v k.ú. obce Ivánka ...</td>\n",
       "      <td>monolitický železobetón</td>\n",
       "      <td>47.90</td>\n",
       "      <td>dosková</td>\n",
       "      <td>5</td>\n",
       "      <td>0</td>\n",
       "      <td>5</td>\n",
       "      <td>6</td>\n",
       "      <td>5</td>\n",
       "      <td>33.991228</td>\n",
       "    </tr>\n",
       "    <tr>\n",
       "      <th>1549</th>\n",
       "      <td>M3113</td>\n",
       "      <td>74_005 Most nad železničnou traťou, k.ú. Humenné</td>\n",
       "      <td>prefabrikovaný predpätý betón</td>\n",
       "      <td>310.90</td>\n",
       "      <td>trámová</td>\n",
       "      <td>4</td>\n",
       "      <td>0</td>\n",
       "      <td>3</td>\n",
       "      <td>12</td>\n",
       "      <td>5</td>\n",
       "      <td>33.991228</td>\n",
       "    </tr>\n",
       "    <tr>\n",
       "      <th>996</th>\n",
       "      <td>M6504</td>\n",
       "      <td>64_020 Most nad železnicou Zbehy - Zlaté Morav...</td>\n",
       "      <td>prefabrikovaný predpätý betón</td>\n",
       "      <td>16.80</td>\n",
       "      <td>dosková</td>\n",
       "      <td>4</td>\n",
       "      <td>1</td>\n",
       "      <td>1</td>\n",
       "      <td>10</td>\n",
       "      <td>5</td>\n",
       "      <td>33.991228</td>\n",
       "    </tr>\n",
       "    <tr>\n",
       "      <th>381</th>\n",
       "      <td>M5482</td>\n",
       "      <td>18_500 Most nad železnicou pred obcou Strážske</td>\n",
       "      <td>monolitický železobetón</td>\n",
       "      <td>10.96</td>\n",
       "      <td>trámová</td>\n",
       "      <td>4</td>\n",
       "      <td>1</td>\n",
       "      <td>5</td>\n",
       "      <td>6</td>\n",
       "      <td>5</td>\n",
       "      <td>33.991228</td>\n",
       "    </tr>\n",
       "    <tr>\n",
       "      <th>1511</th>\n",
       "      <td>M232</td>\n",
       "      <td>21_002 Most nad železničnou traťou, Lipníky</td>\n",
       "      <td>prefabrikovaný železobetón</td>\n",
       "      <td>27.96</td>\n",
       "      <td>dosková</td>\n",
       "      <td>4</td>\n",
       "      <td>1</td>\n",
       "      <td>5</td>\n",
       "      <td>6</td>\n",
       "      <td>5</td>\n",
       "      <td>33.991228</td>\n",
       "    </tr>\n",
       "    <tr>\n",
       "      <th>82</th>\n",
       "      <td>M5802</td>\n",
       "      <td>11_238 Most nad železnicou v Žiline</td>\n",
       "      <td>prefabrikovaný predpätý betón</td>\n",
       "      <td>236.00</td>\n",
       "      <td>trámová</td>\n",
       "      <td>4</td>\n",
       "      <td>0</td>\n",
       "      <td>3</td>\n",
       "      <td>12</td>\n",
       "      <td>5</td>\n",
       "      <td>33.991228</td>\n",
       "    </tr>\n",
       "    <tr>\n",
       "      <th>2</th>\n",
       "      <td>M6525</td>\n",
       "      <td>02_004 Most nad železnicou Praha - Bratislava ...</td>\n",
       "      <td>prefabrikovaný predpätý betón</td>\n",
       "      <td>40.00</td>\n",
       "      <td>dosková</td>\n",
       "      <td>4</td>\n",
       "      <td>0</td>\n",
       "      <td>4</td>\n",
       "      <td>10</td>\n",
       "      <td>5</td>\n",
       "      <td>32.894737</td>\n",
       "    </tr>\n",
       "    <tr>\n",
       "      <th>947</th>\n",
       "      <td>M6983</td>\n",
       "      <td>62_006 Most nad železnicou, k.ú. Sládkovičovo</td>\n",
       "      <td>prefabrikovaný predpätý betón</td>\n",
       "      <td>49.50</td>\n",
       "      <td>dosková</td>\n",
       "      <td>4</td>\n",
       "      <td>0</td>\n",
       "      <td>4</td>\n",
       "      <td>10</td>\n",
       "      <td>5</td>\n",
       "      <td>32.894737</td>\n",
       "    </tr>\n",
       "    <tr>\n",
       "      <th>1425</th>\n",
       "      <td>M5987</td>\n",
       "      <td>70_001 Most nad železnicou a MK, k.ú. Kraľovany</td>\n",
       "      <td>prefabrikovaný predpätý betón</td>\n",
       "      <td>48.39</td>\n",
       "      <td>dosková</td>\n",
       "      <td>4</td>\n",
       "      <td>0</td>\n",
       "      <td>4</td>\n",
       "      <td>10</td>\n",
       "      <td>5</td>\n",
       "      <td>32.894737</td>\n",
       "    </tr>\n",
       "    <tr>\n",
       "      <th>7857</th>\n",
       "      <td>M7906</td>\n",
       "      <td>51_090 Most na vetve križovatky \"Trstínska\" v ...</td>\n",
       "      <td>monolitický predpätý betón</td>\n",
       "      <td>67.20</td>\n",
       "      <td>trámová</td>\n",
       "      <td>5</td>\n",
       "      <td>2</td>\n",
       "      <td>1</td>\n",
       "      <td>8</td>\n",
       "      <td>4</td>\n",
       "      <td>32.456140</td>\n",
       "    </tr>\n",
       "    <tr>\n",
       "      <th>7859</th>\n",
       "      <td>M7908</td>\n",
       "      <td>51_092 Most na vetve 1 nad železnicou v Trnave</td>\n",
       "      <td>monolitický predpätý betón</td>\n",
       "      <td>84.41</td>\n",
       "      <td>trámová</td>\n",
       "      <td>4</td>\n",
       "      <td>1</td>\n",
       "      <td>1</td>\n",
       "      <td>8</td>\n",
       "      <td>5</td>\n",
       "      <td>31.798246</td>\n",
       "    </tr>\n",
       "    <tr>\n",
       "      <th>666</th>\n",
       "      <td>M1390</td>\n",
       "      <td>51_082 Most nad železničnou traťou pri obci Ja...</td>\n",
       "      <td>prefabrikovaný predpätý betón</td>\n",
       "      <td>27.46</td>\n",
       "      <td>dosková</td>\n",
       "      <td>4</td>\n",
       "      <td>0</td>\n",
       "      <td>3</td>\n",
       "      <td>10</td>\n",
       "      <td>5</td>\n",
       "      <td>31.798246</td>\n",
       "    </tr>\n",
       "  </tbody>\n",
       "</table>\n",
       "</div>"
      ],
      "text/plain": [
       "     ID_mosta                                        Názov_mosta  \\\n",
       "1807    M6028  79_021 Most cez železničnú trať a miestnu komu...   \n",
       "293     M4815       18_390 Most cez železničnú trať, k.ú. Poprad   \n",
       "1694    M1218  77_012 Most nad železničnou traťou za obcou Po...   \n",
       "954     M2437  62_013 Nadjazd nad žel. traťou Galanta-Leopold...   \n",
       "972     M3483  63_023B Most nad železnicou a MK, Estakáda v K...   \n",
       "971     M1368  63_023A Most nad železnicou a MK, Estakáda v K...   \n",
       "670     M2448  51_087 Most nad železničnou traťou pred obcou ...   \n",
       "912     M3992  61_068 Most cez odstránenú železničnú vlečku z...   \n",
       "943     M1556             62_002 Most nad železnicou, k.ú. Senec   \n",
       "655     M6701            51_062 Most nad železnicou v obci Holíč   \n",
       "1031    M6016  64_066 Most cez železničnú trať v meste Prievidza   \n",
       "343     M4059  18_449 Most nad železnicou a cestou v obci Šar...   \n",
       "215     M3285    18_291 Most nad železnicou v k.ú. obce Priekopa   \n",
       "383      M209  18_502 Most nad železničnou traťou, k.ú. Strážske   \n",
       "217     M1268          18_293 Most ponad vlečku, Martin-Priekopa   \n",
       "1696    M6730  77_015 Most nad železnicou za obcou Nižné Ružb...   \n",
       "1806    M7802  79_020 Most cez širokorozchodnú vlečku, k.ú. T...   \n",
       "1670    M3124  76_24 Most nad železnicou a cestou I/51 v Kaln...   \n",
       "934     M1885   61_098 Galéria Vrtižer, nad železnicou a terénom   \n",
       "921      M985  61_080 Most cez železničnú trať, k.ú. Hloža - ...   \n",
       "291     M5832          18_389B Most nad cestou I/67, k.ú. Poprad   \n",
       "756     M4440      57_113 Most nad železnicou v obci Horné Srnie   \n",
       "454      M505  09_102 Most nad železničnou vlečkou v meste Bá...   \n",
       "1085     M665  65_020 Most nad železnicou pri Zlatých Moravciach   \n",
       "1359    M2171  68_008 Most nad železničnou traťou v meste Sta...   \n",
       "986     M2522      64_002A Estakáda ku sklopnému mostu v Komárne   \n",
       "2056    M5154                   Most nad cestou R1 v k. ú. Sereď   \n",
       "1545    M6681  74_001 Most nad železničnou traťou pred obcou ...   \n",
       "285     M1043  18-383 Most cez železničnú trať pred odbočkou ...   \n",
       "993      M169  64_015 Most nad železnicou Nitra - Nové Zámky ...   \n",
       "371     M5894  18-486 Most nad železničnou traťou, Vranov nad...   \n",
       "675     M1570  51_099A Most nad železničnou traťou na obchvat...   \n",
       "7893    M8279                         64_032D Most na traťou ŽSR   \n",
       "633     M3479         50_359 Most nad železnicou v Michalovciach   \n",
       "987     M5997    64_005 Most nad železnicou Komárno - Nové Zámky   \n",
       "243     M2703        18_326A Most cez železnicu, k.ú. Ružomberok   \n",
       "2455    M2547  534-001 Most cez vetvu cesty I/18 a MK pred me...   \n",
       "216     M4313                        18_292 Most nad cestou I/65   \n",
       "914     M2079  61_070 Most nad odstránenou železničnou vlečko...   \n",
       "754      M373  57_111 Most nad železničnou traťou, k.ú. Horné...   \n",
       "242       M76  18_326 Most na vetve \"A\" (ľavá strana), cez že...   \n",
       "164      M473     10(18)_251 Most cez rieku Váh, ŽSR, D1 v Bytči   \n",
       "1793    M2554    79_003 Most cez železničnú vlečku, k.ú. Čemerné   \n",
       "581     M1714    50_276 Most nad železničnou traťou, k.ú. Slavec   \n",
       "833      M625  59_087 Most cez rieku Orava  za obcou Dlhá nad...   \n",
       "1625    M4840     75_042 Most nad železnicou v k.ú. obce Slatina   \n",
       "379     M1422  18_499 Most cez železnicu za obcou Nižný Hrabovec   \n",
       "356     M6859  18-468 Most nad železničnou traťou za obcou Či...   \n",
       "860     M1007  61_007 Most nad železnicou v k.ú. obce Ivánka ...   \n",
       "1549    M3113   74_005 Most nad železničnou traťou, k.ú. Humenné   \n",
       "996     M6504  64_020 Most nad železnicou Zbehy - Zlaté Morav...   \n",
       "381     M5482     18_500 Most nad železnicou pred obcou Strážske   \n",
       "1511     M232        21_002 Most nad železničnou traťou, Lipníky   \n",
       "82      M5802                11_238 Most nad železnicou v Žiline   \n",
       "2       M6525  02_004 Most nad železnicou Praha - Bratislava ...   \n",
       "947     M6983      62_006 Most nad železnicou, k.ú. Sládkovičovo   \n",
       "1425    M5987    70_001 Most nad železnicou a MK, k.ú. Kraľovany   \n",
       "7857    M7906  51_090 Most na vetve križovatky \"Trstínska\" v ...   \n",
       "7859    M7908     51_092 Most na vetve 1 nad železnicou v Trnave   \n",
       "666     M1390  51_082 Most nad železničnou traťou pri obci Ja...   \n",
       "\n",
       "                           Material  Dĺžka_premostenia Druh_konštrukcie  F_c  \\\n",
       "1807  prefabrikovaný predpätý betón              91.76          trámová    7   \n",
       "293   prefabrikovaný predpätý betón             116.80          dosková    7   \n",
       "1694        monolitický železobetón               8.20         klenbová    7   \n",
       "954   prefabrikovaný predpätý betón              39.75          dosková    7   \n",
       "972   prefabrikovaný predpätý betón             240.28          trámová    6   \n",
       "971   prefabrikovaný predpätý betón             232.11          trámová    6   \n",
       "670   prefabrikovaný predpätý betón              33.97          dosková    6   \n",
       "912         monolitický železobetón               7.70          dosková    6   \n",
       "943   prefabrikovaný predpätý betón              47.00          dosková    5   \n",
       "655   prefabrikovaný predpätý betón              93.00          trámová    5   \n",
       "1031  prefabrikovaný predpätý betón             238.00          trámová    5   \n",
       "343   prefabrikovaný predpätý betón             237.80          trámová    6   \n",
       "215   prefabrikovaný predpätý betón              34.15          dosková    6   \n",
       "383         monolitický železobetón              31.00          trámová    6   \n",
       "217   prefabrikovaný predpätý betón              55.90          dosková    6   \n",
       "1696  prefabrikovaný predpätý betón              10.00          trámová    4   \n",
       "1806  prefabrikovaný predpätý betón              10.76          dosková    5   \n",
       "1670  prefabrikovaný predpätý betón             103.04          dosková    5   \n",
       "934   prefabrikovaný predpätý betón             163.67          dosková    5   \n",
       "921   prefabrikovaný predpätý betón              42.60          trámová    3   \n",
       "291   prefabrikovaný predpätý betón              50.60          trámová    6   \n",
       "756         monolitický železobetón              12.90          dosková    6   \n",
       "454         monolitický železobetón              10.15          dosková    5   \n",
       "1085  prefabrikovaný predpätý betón              40.75          dosková    5   \n",
       "1359     prefabrikovaný železobetón              29.35          dosková    5   \n",
       "986         monolitický železobetón             211.30          dosková    4   \n",
       "2056  prefabrikovaný predpätý betón              58.20          trámová    5   \n",
       "1545  prefabrikovaný predpätý betón              43.72          dosková    5   \n",
       "285   prefabrikovaný predpätý betón              63.55          trámová    5   \n",
       "993      monolitický predpätý betón              88.60          trámová    4   \n",
       "371   prefabrikovaný predpätý betón              88.55          dosková    5   \n",
       "675      monolitický predpätý betón              78.52          trámová    5   \n",
       "7893  prefabrikovaný predpätý betón              58.55          trámová    4   \n",
       "633   prefabrikovaný predpätý betón             292.30          trámová    4   \n",
       "987   prefabrikovaný predpätý betón              70.00          trámová    4   \n",
       "243   prefabrikovaný predpätý betón              45.02          dosková    5   \n",
       "2455  prefabrikovaný predpätý betón             138.82          trámová    6   \n",
       "216   prefabrikovaný predpätý betón              32.45          dosková    5   \n",
       "914      prefabrikovaný železobetón               7.90          trámová    5   \n",
       "754         monolitický železobetón              14.50          dosková    5   \n",
       "242   prefabrikovaný predpätý betón              44.98          dosková    5   \n",
       "164                    iný materiál             256.15          dosková    5   \n",
       "1793        monolitický železobetón               3.20          dosková    5   \n",
       "581   prefabrikovaný predpätý betón             107.10          dosková    4   \n",
       "833         monolitický železobetón             115.21         oblúková    3   \n",
       "1625        monolitický železobetón              19.50           rámová    5   \n",
       "379         monolitický železobetón              10.60          trámová    4   \n",
       "356         monolitický železobetón              10.45          trámová    4   \n",
       "860         monolitický železobetón              47.90          dosková    5   \n",
       "1549  prefabrikovaný predpätý betón             310.90          trámová    4   \n",
       "996   prefabrikovaný predpätý betón              16.80          dosková    4   \n",
       "381         monolitický železobetón              10.96          trámová    4   \n",
       "1511     prefabrikovaný železobetón              27.96          dosková    4   \n",
       "82    prefabrikovaný predpätý betón             236.00          trámová    4   \n",
       "2     prefabrikovaný predpätý betón              40.00          dosková    4   \n",
       "947   prefabrikovaný predpätý betón              49.50          dosková    4   \n",
       "1425  prefabrikovaný predpätý betón              48.39          dosková    4   \n",
       "7857     monolitický predpätý betón              67.20          trámová    5   \n",
       "7859     monolitický predpätý betón              84.41          trámová    4   \n",
       "666   prefabrikovaný predpätý betón              27.46          dosková    4   \n",
       "\n",
       "      F_d  F_y  F_f  F_q          R  \n",
       "1807    2    2   12    5  54.824561  \n",
       "293     2    4   10    5  54.824561  \n",
       "1694    2    5    6    5  51.535088  \n",
       "954     1    5   10    5  51.535088  \n",
       "972     1    3   12    5  47.149123  \n",
       "971     1    3   12    5  47.149123  \n",
       "670     2    1   10    5  47.149123  \n",
       "912     2    5    6    5  47.149123  \n",
       "943     2    4   10    5  46.052632  \n",
       "655     1    4   12    5  43.859649  \n",
       "1031    1    4   12    5  43.859649  \n",
       "343     0    3   12    5  42.763158  \n",
       "215     0    5   10    5  42.763158  \n",
       "383     1    5    6    5  42.763158  \n",
       "217     0    5   10    5  42.763158  \n",
       "1696    1    5   12    5  40.570175  \n",
       "1806    1    3   10    5  40.570175  \n",
       "1670    1    3   10    5  40.570175  \n",
       "934     1    3   10    5  40.570175  \n",
       "921     2    4   12    5  39.473684  \n",
       "291     1    4   12    4  38.596491  \n",
       "756     0    5    6    5  38.377193  \n",
       "454     1    5    6    5  38.377193  \n",
       "1085    0    4   10    5  37.280702  \n",
       "1359    1    4    6    5  37.280702  \n",
       "986     2    4    6    5  37.280702  \n",
       "2056    2    2   12    4  36.842105  \n",
       "1545    0    3   10    5  36.184211  \n",
       "285     0    1   12    5  36.184211  \n",
       "993     2    1    8    5  36.184211  \n",
       "371     0    3   10    5  36.184211  \n",
       "675     1    1    8    5  36.184211  \n",
       "7893    1    1   12    5  36.184211  \n",
       "633     0    4   12    5  35.087719  \n",
       "987     0    4   12    5  35.087719  \n",
       "243     0    2   10    5  35.087719  \n",
       "2455    0    3   12    4  34.210526  \n",
       "216     1    5   10    4  34.210526  \n",
       "914     0    5    6    5  33.991228  \n",
       "754     0    5    6    5  33.991228  \n",
       "242     0    1   10    5  33.991228  \n",
       "164     0    5    6    5  33.991228  \n",
       "1793    0    5    6    5  33.991228  \n",
       "581     1    1   10    5  33.991228  \n",
       "833     2    5    6    5  33.991228  \n",
       "1625    0    5    6    5  33.991228  \n",
       "379     1    5    6    5  33.991228  \n",
       "356     1    5    6    5  33.991228  \n",
       "860     0    5    6    5  33.991228  \n",
       "1549    0    3   12    5  33.991228  \n",
       "996     1    1   10    5  33.991228  \n",
       "381     1    5    6    5  33.991228  \n",
       "1511    1    5    6    5  33.991228  \n",
       "82      0    3   12    5  33.991228  \n",
       "2       0    4   10    5  32.894737  \n",
       "947     0    4   10    5  32.894737  \n",
       "1425    0    4   10    5  32.894737  \n",
       "7857    2    1    8    4  32.456140  \n",
       "7859    1    1    8    5  31.798246  \n",
       "666     0    3   10    5  31.798246  "
      ]
     },
     "execution_count": 844,
     "metadata": {},
     "output_type": "execute_result"
    }
   ],
   "source": [
    "filtered_bridges_SSC_sorted_asc[[\"ID_mosta\", \"Názov_mosta\",\n",
    "                                 \"Material\", \"Dĺžka_premostenia\", \"Druh_konštrukcie\", \"F_c\", \"F_d\", \"F_y\", \"F_f\",   \"F_q\", \"R\"]].head(60)"
   ]
  },
  {
   "cell_type": "code",
   "execution_count": 845,
   "metadata": {},
   "outputs": [
    {
     "data": {
      "text/plain": [
       "(107, 61)"
      ]
     },
     "execution_count": 845,
     "metadata": {},
     "output_type": "execute_result"
    }
   ],
   "source": [
    "# Filter bridges where 'F_q' is equal to 5\n",
    "filtered_bridges_F_q_5 = filtered_bridges_SSC[filtered_bridges_SSC['F_q'] == 5]\n",
    "\n",
    "filtered_bridges_F_q_5.shape"
   ]
  },
  {
   "cell_type": "code",
   "execution_count": 846,
   "metadata": {},
   "outputs": [
    {
     "data": {
      "text/plain": [
       "54.824561403508774"
      ]
     },
     "execution_count": 846,
     "metadata": {},
     "output_type": "execute_result"
    }
   ],
   "source": [
    "filtered_bridges_SSC_sorted_asc = filtered_bridges_SSC.sort_values(\n",
    "    by='R', ascending=False)\n",
    "\n",
    "filtered_bridges_SSC_sorted_asc['R'].max()"
   ]
  },
  {
   "cell_type": "code",
   "execution_count": 847,
   "metadata": {},
   "outputs": [
    {
     "data": {
      "text/plain": [
       "54"
      ]
     },
     "execution_count": 847,
     "metadata": {},
     "output_type": "execute_result"
    }
   ],
   "source": [
    "len(filtered_bridges_SSC[\"Okres\"].value_counts().keys())"
   ]
  },
  {
   "cell_type": "code",
   "execution_count": 848,
   "metadata": {},
   "outputs": [
    {
     "data": {
      "text/plain": [
       "OKRES\n",
       "Levice             86\n",
       "Nové Zámky         81\n",
       "Dunajská Streda    78\n",
       "Prešov             73\n",
       "Trebišov           71\n",
       "                   ..\n",
       "Košice I            9\n",
       "Bratislava IV       9\n",
       "Bratislava III      7\n",
       "Košice III          6\n",
       "Bratislava I        4\n",
       "Name: count, Length: 79, dtype: int64"
      ]
     },
     "execution_count": 848,
     "metadata": {},
     "output_type": "execute_result"
    }
   ],
   "source": [
    "df_survey[\"OKRES\"].value_counts()"
   ]
  },
  {
   "cell_type": "code",
   "execution_count": 849,
   "metadata": {},
   "outputs": [
    {
     "data": {
      "application/vnd.plotly.v1+json": {
       "config": {
        "plotlyServerURL": "https://plot.ly"
       },
       "data": [
        {
         "name": "Median",
         "type": "bar",
         "x": [
          "Banská Bystrica",
          "Banská Štiavnica",
          "Bardejov",
          "Bratislava I",
          "Bratislava II",
          "Bratislava III",
          "Bratislava IV",
          "Bratislava V",
          "Brezno",
          "Bytča",
          "Bánovce nad Bebravou",
          "Detva",
          "Dolný Kubín",
          "Dunajská Streda",
          "Galanta",
          "Gelnica",
          "Hlohovec",
          "Humenné",
          "Ilava",
          "Kežmarok",
          "Komárno",
          "Košice - okolie",
          "Košice I",
          "Košice II",
          "Košice III",
          "Košice IV",
          "Krupina",
          "Kysucké Nové Mesto",
          "Levice",
          "Levoča",
          "Liptovský Mikuláš",
          "Lučenec",
          "Malacky",
          "Martin",
          "Medzilaborce",
          "Michalovce",
          "Myjava",
          "Nitra",
          "Nové Mesto nad Váhom",
          "Nové Zámky",
          "Námestovo",
          "Partizánske",
          "Pezinok",
          "Piešťany",
          "Poltár",
          "Poprad",
          "Považská Bystrica",
          "Prešov",
          "Prievidza",
          "Púchov",
          "Revúca",
          "Rimavská Sobota",
          "Rožňava",
          "Ružomberok",
          "Sabinov",
          "Senec",
          "Senica",
          "Skalica",
          "Snina",
          "Sobrance",
          "Spišská Nová Ves",
          "Stará Ľubovňa",
          "Stropkov",
          "Svidník",
          "Topoľčany",
          "Trebišov",
          "Trenčín",
          "Trnava",
          "Turčianske Teplice",
          "Tvrdošín",
          "Veľký Krtíš",
          "Vranov nad Topľou",
          "Zlaté Moravce",
          "Zvolen",
          "Čadca",
          "Šaľa",
          "Žarnovica",
          "Žiar nad Hronom",
          "Žilina"
         ],
         "y": [
          7562,
          2431,
          1873.5,
          34179,
          33951.5,
          21184,
          15981,
          23298,
          4892,
          6615,
          3287,
          4400,
          6802,
          5233,
          6309.5,
          2020,
          5483,
          4336,
          4586.5,
          3965.5,
          3935,
          3592,
          6300,
          8655,
          30504,
          15601,
          3381,
          7932,
          2221,
          4495.5,
          5430.5,
          2619,
          4743,
          10110,
          737,
          3192,
          1818,
          7548,
          6185,
          3444,
          7535.5,
          6162.5,
          6245,
          4848,
          1976,
          5388.5,
          6218,
          4839,
          8685,
          5183.5,
          2236.5,
          2001,
          2209,
          10901.5,
          5286,
          7809,
          3297,
          3584,
          1114,
          1362.5,
          5253,
          3387.5,
          2982.5,
          4154,
          4803,
          2429,
          9168.5,
          4191,
          3654,
          4093,
          1572,
          4162,
          3777,
          10244.5,
          4502,
          3946.5,
          3372,
          6855,
          7124
         ]
        }
       ],
       "layout": {
        "template": {
         "data": {
          "bar": [
           {
            "error_x": {
             "color": "#2a3f5f"
            },
            "error_y": {
             "color": "#2a3f5f"
            },
            "marker": {
             "line": {
              "color": "#E5ECF6",
              "width": 0.5
             },
             "pattern": {
              "fillmode": "overlay",
              "size": 10,
              "solidity": 0.2
             }
            },
            "type": "bar"
           }
          ],
          "barpolar": [
           {
            "marker": {
             "line": {
              "color": "#E5ECF6",
              "width": 0.5
             },
             "pattern": {
              "fillmode": "overlay",
              "size": 10,
              "solidity": 0.2
             }
            },
            "type": "barpolar"
           }
          ],
          "carpet": [
           {
            "aaxis": {
             "endlinecolor": "#2a3f5f",
             "gridcolor": "white",
             "linecolor": "white",
             "minorgridcolor": "white",
             "startlinecolor": "#2a3f5f"
            },
            "baxis": {
             "endlinecolor": "#2a3f5f",
             "gridcolor": "white",
             "linecolor": "white",
             "minorgridcolor": "white",
             "startlinecolor": "#2a3f5f"
            },
            "type": "carpet"
           }
          ],
          "choropleth": [
           {
            "colorbar": {
             "outlinewidth": 0,
             "ticks": ""
            },
            "type": "choropleth"
           }
          ],
          "contour": [
           {
            "colorbar": {
             "outlinewidth": 0,
             "ticks": ""
            },
            "colorscale": [
             [
              0,
              "#0d0887"
             ],
             [
              0.1111111111111111,
              "#46039f"
             ],
             [
              0.2222222222222222,
              "#7201a8"
             ],
             [
              0.3333333333333333,
              "#9c179e"
             ],
             [
              0.4444444444444444,
              "#bd3786"
             ],
             [
              0.5555555555555556,
              "#d8576b"
             ],
             [
              0.6666666666666666,
              "#ed7953"
             ],
             [
              0.7777777777777778,
              "#fb9f3a"
             ],
             [
              0.8888888888888888,
              "#fdca26"
             ],
             [
              1,
              "#f0f921"
             ]
            ],
            "type": "contour"
           }
          ],
          "contourcarpet": [
           {
            "colorbar": {
             "outlinewidth": 0,
             "ticks": ""
            },
            "type": "contourcarpet"
           }
          ],
          "heatmap": [
           {
            "colorbar": {
             "outlinewidth": 0,
             "ticks": ""
            },
            "colorscale": [
             [
              0,
              "#0d0887"
             ],
             [
              0.1111111111111111,
              "#46039f"
             ],
             [
              0.2222222222222222,
              "#7201a8"
             ],
             [
              0.3333333333333333,
              "#9c179e"
             ],
             [
              0.4444444444444444,
              "#bd3786"
             ],
             [
              0.5555555555555556,
              "#d8576b"
             ],
             [
              0.6666666666666666,
              "#ed7953"
             ],
             [
              0.7777777777777778,
              "#fb9f3a"
             ],
             [
              0.8888888888888888,
              "#fdca26"
             ],
             [
              1,
              "#f0f921"
             ]
            ],
            "type": "heatmap"
           }
          ],
          "heatmapgl": [
           {
            "colorbar": {
             "outlinewidth": 0,
             "ticks": ""
            },
            "colorscale": [
             [
              0,
              "#0d0887"
             ],
             [
              0.1111111111111111,
              "#46039f"
             ],
             [
              0.2222222222222222,
              "#7201a8"
             ],
             [
              0.3333333333333333,
              "#9c179e"
             ],
             [
              0.4444444444444444,
              "#bd3786"
             ],
             [
              0.5555555555555556,
              "#d8576b"
             ],
             [
              0.6666666666666666,
              "#ed7953"
             ],
             [
              0.7777777777777778,
              "#fb9f3a"
             ],
             [
              0.8888888888888888,
              "#fdca26"
             ],
             [
              1,
              "#f0f921"
             ]
            ],
            "type": "heatmapgl"
           }
          ],
          "histogram": [
           {
            "marker": {
             "pattern": {
              "fillmode": "overlay",
              "size": 10,
              "solidity": 0.2
             }
            },
            "type": "histogram"
           }
          ],
          "histogram2d": [
           {
            "colorbar": {
             "outlinewidth": 0,
             "ticks": ""
            },
            "colorscale": [
             [
              0,
              "#0d0887"
             ],
             [
              0.1111111111111111,
              "#46039f"
             ],
             [
              0.2222222222222222,
              "#7201a8"
             ],
             [
              0.3333333333333333,
              "#9c179e"
             ],
             [
              0.4444444444444444,
              "#bd3786"
             ],
             [
              0.5555555555555556,
              "#d8576b"
             ],
             [
              0.6666666666666666,
              "#ed7953"
             ],
             [
              0.7777777777777778,
              "#fb9f3a"
             ],
             [
              0.8888888888888888,
              "#fdca26"
             ],
             [
              1,
              "#f0f921"
             ]
            ],
            "type": "histogram2d"
           }
          ],
          "histogram2dcontour": [
           {
            "colorbar": {
             "outlinewidth": 0,
             "ticks": ""
            },
            "colorscale": [
             [
              0,
              "#0d0887"
             ],
             [
              0.1111111111111111,
              "#46039f"
             ],
             [
              0.2222222222222222,
              "#7201a8"
             ],
             [
              0.3333333333333333,
              "#9c179e"
             ],
             [
              0.4444444444444444,
              "#bd3786"
             ],
             [
              0.5555555555555556,
              "#d8576b"
             ],
             [
              0.6666666666666666,
              "#ed7953"
             ],
             [
              0.7777777777777778,
              "#fb9f3a"
             ],
             [
              0.8888888888888888,
              "#fdca26"
             ],
             [
              1,
              "#f0f921"
             ]
            ],
            "type": "histogram2dcontour"
           }
          ],
          "mesh3d": [
           {
            "colorbar": {
             "outlinewidth": 0,
             "ticks": ""
            },
            "type": "mesh3d"
           }
          ],
          "parcoords": [
           {
            "line": {
             "colorbar": {
              "outlinewidth": 0,
              "ticks": ""
             }
            },
            "type": "parcoords"
           }
          ],
          "pie": [
           {
            "automargin": true,
            "type": "pie"
           }
          ],
          "scatter": [
           {
            "fillpattern": {
             "fillmode": "overlay",
             "size": 10,
             "solidity": 0.2
            },
            "type": "scatter"
           }
          ],
          "scatter3d": [
           {
            "line": {
             "colorbar": {
              "outlinewidth": 0,
              "ticks": ""
             }
            },
            "marker": {
             "colorbar": {
              "outlinewidth": 0,
              "ticks": ""
             }
            },
            "type": "scatter3d"
           }
          ],
          "scattercarpet": [
           {
            "marker": {
             "colorbar": {
              "outlinewidth": 0,
              "ticks": ""
             }
            },
            "type": "scattercarpet"
           }
          ],
          "scattergeo": [
           {
            "marker": {
             "colorbar": {
              "outlinewidth": 0,
              "ticks": ""
             }
            },
            "type": "scattergeo"
           }
          ],
          "scattergl": [
           {
            "marker": {
             "colorbar": {
              "outlinewidth": 0,
              "ticks": ""
             }
            },
            "type": "scattergl"
           }
          ],
          "scattermapbox": [
           {
            "marker": {
             "colorbar": {
              "outlinewidth": 0,
              "ticks": ""
             }
            },
            "type": "scattermapbox"
           }
          ],
          "scatterpolar": [
           {
            "marker": {
             "colorbar": {
              "outlinewidth": 0,
              "ticks": ""
             }
            },
            "type": "scatterpolar"
           }
          ],
          "scatterpolargl": [
           {
            "marker": {
             "colorbar": {
              "outlinewidth": 0,
              "ticks": ""
             }
            },
            "type": "scatterpolargl"
           }
          ],
          "scatterternary": [
           {
            "marker": {
             "colorbar": {
              "outlinewidth": 0,
              "ticks": ""
             }
            },
            "type": "scatterternary"
           }
          ],
          "surface": [
           {
            "colorbar": {
             "outlinewidth": 0,
             "ticks": ""
            },
            "colorscale": [
             [
              0,
              "#0d0887"
             ],
             [
              0.1111111111111111,
              "#46039f"
             ],
             [
              0.2222222222222222,
              "#7201a8"
             ],
             [
              0.3333333333333333,
              "#9c179e"
             ],
             [
              0.4444444444444444,
              "#bd3786"
             ],
             [
              0.5555555555555556,
              "#d8576b"
             ],
             [
              0.6666666666666666,
              "#ed7953"
             ],
             [
              0.7777777777777778,
              "#fb9f3a"
             ],
             [
              0.8888888888888888,
              "#fdca26"
             ],
             [
              1,
              "#f0f921"
             ]
            ],
            "type": "surface"
           }
          ],
          "table": [
           {
            "cells": {
             "fill": {
              "color": "#EBF0F8"
             },
             "line": {
              "color": "white"
             }
            },
            "header": {
             "fill": {
              "color": "#C8D4E3"
             },
             "line": {
              "color": "white"
             }
            },
            "type": "table"
           }
          ]
         },
         "layout": {
          "annotationdefaults": {
           "arrowcolor": "#2a3f5f",
           "arrowhead": 0,
           "arrowwidth": 1
          },
          "autotypenumbers": "strict",
          "coloraxis": {
           "colorbar": {
            "outlinewidth": 0,
            "ticks": ""
           }
          },
          "colorscale": {
           "diverging": [
            [
             0,
             "#8e0152"
            ],
            [
             0.1,
             "#c51b7d"
            ],
            [
             0.2,
             "#de77ae"
            ],
            [
             0.3,
             "#f1b6da"
            ],
            [
             0.4,
             "#fde0ef"
            ],
            [
             0.5,
             "#f7f7f7"
            ],
            [
             0.6,
             "#e6f5d0"
            ],
            [
             0.7,
             "#b8e186"
            ],
            [
             0.8,
             "#7fbc41"
            ],
            [
             0.9,
             "#4d9221"
            ],
            [
             1,
             "#276419"
            ]
           ],
           "sequential": [
            [
             0,
             "#0d0887"
            ],
            [
             0.1111111111111111,
             "#46039f"
            ],
            [
             0.2222222222222222,
             "#7201a8"
            ],
            [
             0.3333333333333333,
             "#9c179e"
            ],
            [
             0.4444444444444444,
             "#bd3786"
            ],
            [
             0.5555555555555556,
             "#d8576b"
            ],
            [
             0.6666666666666666,
             "#ed7953"
            ],
            [
             0.7777777777777778,
             "#fb9f3a"
            ],
            [
             0.8888888888888888,
             "#fdca26"
            ],
            [
             1,
             "#f0f921"
            ]
           ],
           "sequentialminus": [
            [
             0,
             "#0d0887"
            ],
            [
             0.1111111111111111,
             "#46039f"
            ],
            [
             0.2222222222222222,
             "#7201a8"
            ],
            [
             0.3333333333333333,
             "#9c179e"
            ],
            [
             0.4444444444444444,
             "#bd3786"
            ],
            [
             0.5555555555555556,
             "#d8576b"
            ],
            [
             0.6666666666666666,
             "#ed7953"
            ],
            [
             0.7777777777777778,
             "#fb9f3a"
            ],
            [
             0.8888888888888888,
             "#fdca26"
            ],
            [
             1,
             "#f0f921"
            ]
           ]
          },
          "colorway": [
           "#636efa",
           "#EF553B",
           "#00cc96",
           "#ab63fa",
           "#FFA15A",
           "#19d3f3",
           "#FF6692",
           "#B6E880",
           "#FF97FF",
           "#FECB52"
          ],
          "font": {
           "color": "#2a3f5f"
          },
          "geo": {
           "bgcolor": "white",
           "lakecolor": "white",
           "landcolor": "#E5ECF6",
           "showlakes": true,
           "showland": true,
           "subunitcolor": "white"
          },
          "hoverlabel": {
           "align": "left"
          },
          "hovermode": "closest",
          "mapbox": {
           "style": "light"
          },
          "paper_bgcolor": "white",
          "plot_bgcolor": "#E5ECF6",
          "polar": {
           "angularaxis": {
            "gridcolor": "white",
            "linecolor": "white",
            "ticks": ""
           },
           "bgcolor": "#E5ECF6",
           "radialaxis": {
            "gridcolor": "white",
            "linecolor": "white",
            "ticks": ""
           }
          },
          "scene": {
           "xaxis": {
            "backgroundcolor": "#E5ECF6",
            "gridcolor": "white",
            "gridwidth": 2,
            "linecolor": "white",
            "showbackground": true,
            "ticks": "",
            "zerolinecolor": "white"
           },
           "yaxis": {
            "backgroundcolor": "#E5ECF6",
            "gridcolor": "white",
            "gridwidth": 2,
            "linecolor": "white",
            "showbackground": true,
            "ticks": "",
            "zerolinecolor": "white"
           },
           "zaxis": {
            "backgroundcolor": "#E5ECF6",
            "gridcolor": "white",
            "gridwidth": 2,
            "linecolor": "white",
            "showbackground": true,
            "ticks": "",
            "zerolinecolor": "white"
           }
          },
          "shapedefaults": {
           "line": {
            "color": "#2a3f5f"
           }
          },
          "ternary": {
           "aaxis": {
            "gridcolor": "white",
            "linecolor": "white",
            "ticks": ""
           },
           "baxis": {
            "gridcolor": "white",
            "linecolor": "white",
            "ticks": ""
           },
           "bgcolor": "#E5ECF6",
           "caxis": {
            "gridcolor": "white",
            "linecolor": "white",
            "ticks": ""
           }
          },
          "title": {
           "x": 0.05
          },
          "xaxis": {
           "automargin": true,
           "gridcolor": "white",
           "linecolor": "white",
           "ticks": "",
           "title": {
            "standoff": 15
           },
           "zerolinecolor": "white",
           "zerolinewidth": 2
          },
          "yaxis": {
           "automargin": true,
           "gridcolor": "white",
           "linecolor": "white",
           "ticks": "",
           "title": {
            "standoff": 15
           },
           "zerolinecolor": "white",
           "zerolinewidth": 2
          }
         }
        },
        "title": {
         "text": "Median Traffic Intensity by District"
        },
        "xaxis": {
         "title": {
          "text": "District"
         }
        },
        "yaxis": {
         "title": {
          "text": "Median Traffic Intensity"
         }
        }
       }
      }
     },
     "metadata": {},
     "output_type": "display_data"
    }
   ],
   "source": [
    "import plotly.graph_objs as go\n",
    "import pandas as pd\n",
    "\n",
    "\n",
    "# Calculate median traffic intensity for each district\n",
    "district_median = df_survey.groupby('OKRES')['S'].median().reset_index()\n",
    "\n",
    "# Create a bar chart for median values\n",
    "fig = go.Figure()\n",
    "\n",
    "# Add bar trace for median\n",
    "fig.add_trace(\n",
    "    go.Bar(x=district_median['OKRES'], y=district_median['S'], name='Median'))\n",
    "\n",
    "# Update layout\n",
    "fig.update_layout(\n",
    "    title='Median Traffic Intensity by District',\n",
    "    xaxis_title='District',\n",
    "    yaxis_title='Median Traffic Intensity'\n",
    ")\n",
    "\n",
    "# Show the plot\n",
    "fig.show()"
   ]
  },
  {
   "cell_type": "code",
   "execution_count": 850,
   "metadata": {},
   "outputs": [
    {
     "data": {
      "application/vnd.plotly.v1+json": {
       "config": {
        "plotlyServerURL": "https://plot.ly"
       },
       "data": [
        {
         "name": "Mean",
         "type": "bar",
         "x": [
          "Banská Bystrica",
          "Banská Štiavnica",
          "Bardejov",
          "Bratislava I",
          "Bratislava II",
          "Bratislava III",
          "Bratislava IV",
          "Bratislava V",
          "Brezno",
          "Bytča",
          "Bánovce nad Bebravou",
          "Detva",
          "Dolný Kubín",
          "Dunajská Streda",
          "Galanta",
          "Gelnica",
          "Hlohovec",
          "Humenné",
          "Ilava",
          "Kežmarok",
          "Komárno",
          "Košice - okolie",
          "Košice I",
          "Košice II",
          "Košice III",
          "Košice IV",
          "Krupina",
          "Kysucké Nové Mesto",
          "Levice",
          "Levoča",
          "Liptovský Mikuláš",
          "Lučenec",
          "Malacky",
          "Martin",
          "Medzilaborce",
          "Michalovce",
          "Myjava",
          "Nitra",
          "Nové Mesto nad Váhom",
          "Nové Zámky",
          "Námestovo",
          "Partizánske",
          "Pezinok",
          "Piešťany",
          "Poltár",
          "Poprad",
          "Považská Bystrica",
          "Prešov",
          "Prievidza",
          "Púchov",
          "Revúca",
          "Rimavská Sobota",
          "Rožňava",
          "Ružomberok",
          "Sabinov",
          "Senec",
          "Senica",
          "Skalica",
          "Snina",
          "Sobrance",
          "Spišská Nová Ves",
          "Stará Ľubovňa",
          "Stropkov",
          "Svidník",
          "Topoľčany",
          "Trebišov",
          "Trenčín",
          "Trnava",
          "Turčianske Teplice",
          "Tvrdošín",
          "Veľký Krtíš",
          "Vranov nad Topľou",
          "Zlaté Moravce",
          "Zvolen",
          "Čadca",
          "Šaľa",
          "Žarnovica",
          "Žiar nad Hronom",
          "Žilina"
         ],
         "y": [
          11142.714285714286,
          3020.25,
          3889.4285714285716,
          34513.75,
          37741.26666666667,
          27335,
          27709.666666666668,
          26435.736842105263,
          5877.205882352941,
          8976.176470588236,
          4651.8421052631575,
          4649,
          7663.636363636364,
          6278.076923076923,
          9636.306451612903,
          2301.409090909091,
          8988.454545454546,
          6270.76,
          8058.678571428572,
          6426.5,
          5141.725490196079,
          4835.707692307692,
          8557.444444444445,
          12701,
          28407.833333333332,
          20572.2,
          4012.2,
          10268.5,
          3343.0232558139537,
          6052,
          7317.5,
          4554,
          7712.297872340426,
          10087.7,
          1240.9473684210527,
          5104.237288135593,
          3384.8695652173915,
          11267.836363636363,
          7611.742857142857,
          4739.2962962962965,
          7333.15,
          6260,
          8950.69696969697,
          7358.387096774193,
          2095.684210526316,
          7987.683333333333,
          8095.833333333333,
          10056.219178082192,
          8870.382978723404,
          7612.2307692307695,
          2361.8214285714284,
          3248.421875,
          3664.9795918367345,
          12169.5,
          6211.48,
          9827.301587301587,
          4744.944444444444,
          5261.4,
          2992.2380952380954,
          2693.3636363636365,
          5502.7027027027025,
          4642.375,
          3976.4375,
          4651.1875,
          5904.96875,
          3592.2535211267605,
          10555.854166666666,
          10067.78,
          4856.944444444444,
          5015.571428571428,
          2446.7555555555555,
          4969.571428571428,
          5935.642857142857,
          12715.760869565218,
          5911.294117647059,
          6287.892857142857,
          5605.666666666667,
          8399.290322580646,
          12745.161290322581
         ]
        }
       ],
       "layout": {
        "template": {
         "data": {
          "bar": [
           {
            "error_x": {
             "color": "#2a3f5f"
            },
            "error_y": {
             "color": "#2a3f5f"
            },
            "marker": {
             "line": {
              "color": "#E5ECF6",
              "width": 0.5
             },
             "pattern": {
              "fillmode": "overlay",
              "size": 10,
              "solidity": 0.2
             }
            },
            "type": "bar"
           }
          ],
          "barpolar": [
           {
            "marker": {
             "line": {
              "color": "#E5ECF6",
              "width": 0.5
             },
             "pattern": {
              "fillmode": "overlay",
              "size": 10,
              "solidity": 0.2
             }
            },
            "type": "barpolar"
           }
          ],
          "carpet": [
           {
            "aaxis": {
             "endlinecolor": "#2a3f5f",
             "gridcolor": "white",
             "linecolor": "white",
             "minorgridcolor": "white",
             "startlinecolor": "#2a3f5f"
            },
            "baxis": {
             "endlinecolor": "#2a3f5f",
             "gridcolor": "white",
             "linecolor": "white",
             "minorgridcolor": "white",
             "startlinecolor": "#2a3f5f"
            },
            "type": "carpet"
           }
          ],
          "choropleth": [
           {
            "colorbar": {
             "outlinewidth": 0,
             "ticks": ""
            },
            "type": "choropleth"
           }
          ],
          "contour": [
           {
            "colorbar": {
             "outlinewidth": 0,
             "ticks": ""
            },
            "colorscale": [
             [
              0,
              "#0d0887"
             ],
             [
              0.1111111111111111,
              "#46039f"
             ],
             [
              0.2222222222222222,
              "#7201a8"
             ],
             [
              0.3333333333333333,
              "#9c179e"
             ],
             [
              0.4444444444444444,
              "#bd3786"
             ],
             [
              0.5555555555555556,
              "#d8576b"
             ],
             [
              0.6666666666666666,
              "#ed7953"
             ],
             [
              0.7777777777777778,
              "#fb9f3a"
             ],
             [
              0.8888888888888888,
              "#fdca26"
             ],
             [
              1,
              "#f0f921"
             ]
            ],
            "type": "contour"
           }
          ],
          "contourcarpet": [
           {
            "colorbar": {
             "outlinewidth": 0,
             "ticks": ""
            },
            "type": "contourcarpet"
           }
          ],
          "heatmap": [
           {
            "colorbar": {
             "outlinewidth": 0,
             "ticks": ""
            },
            "colorscale": [
             [
              0,
              "#0d0887"
             ],
             [
              0.1111111111111111,
              "#46039f"
             ],
             [
              0.2222222222222222,
              "#7201a8"
             ],
             [
              0.3333333333333333,
              "#9c179e"
             ],
             [
              0.4444444444444444,
              "#bd3786"
             ],
             [
              0.5555555555555556,
              "#d8576b"
             ],
             [
              0.6666666666666666,
              "#ed7953"
             ],
             [
              0.7777777777777778,
              "#fb9f3a"
             ],
             [
              0.8888888888888888,
              "#fdca26"
             ],
             [
              1,
              "#f0f921"
             ]
            ],
            "type": "heatmap"
           }
          ],
          "heatmapgl": [
           {
            "colorbar": {
             "outlinewidth": 0,
             "ticks": ""
            },
            "colorscale": [
             [
              0,
              "#0d0887"
             ],
             [
              0.1111111111111111,
              "#46039f"
             ],
             [
              0.2222222222222222,
              "#7201a8"
             ],
             [
              0.3333333333333333,
              "#9c179e"
             ],
             [
              0.4444444444444444,
              "#bd3786"
             ],
             [
              0.5555555555555556,
              "#d8576b"
             ],
             [
              0.6666666666666666,
              "#ed7953"
             ],
             [
              0.7777777777777778,
              "#fb9f3a"
             ],
             [
              0.8888888888888888,
              "#fdca26"
             ],
             [
              1,
              "#f0f921"
             ]
            ],
            "type": "heatmapgl"
           }
          ],
          "histogram": [
           {
            "marker": {
             "pattern": {
              "fillmode": "overlay",
              "size": 10,
              "solidity": 0.2
             }
            },
            "type": "histogram"
           }
          ],
          "histogram2d": [
           {
            "colorbar": {
             "outlinewidth": 0,
             "ticks": ""
            },
            "colorscale": [
             [
              0,
              "#0d0887"
             ],
             [
              0.1111111111111111,
              "#46039f"
             ],
             [
              0.2222222222222222,
              "#7201a8"
             ],
             [
              0.3333333333333333,
              "#9c179e"
             ],
             [
              0.4444444444444444,
              "#bd3786"
             ],
             [
              0.5555555555555556,
              "#d8576b"
             ],
             [
              0.6666666666666666,
              "#ed7953"
             ],
             [
              0.7777777777777778,
              "#fb9f3a"
             ],
             [
              0.8888888888888888,
              "#fdca26"
             ],
             [
              1,
              "#f0f921"
             ]
            ],
            "type": "histogram2d"
           }
          ],
          "histogram2dcontour": [
           {
            "colorbar": {
             "outlinewidth": 0,
             "ticks": ""
            },
            "colorscale": [
             [
              0,
              "#0d0887"
             ],
             [
              0.1111111111111111,
              "#46039f"
             ],
             [
              0.2222222222222222,
              "#7201a8"
             ],
             [
              0.3333333333333333,
              "#9c179e"
             ],
             [
              0.4444444444444444,
              "#bd3786"
             ],
             [
              0.5555555555555556,
              "#d8576b"
             ],
             [
              0.6666666666666666,
              "#ed7953"
             ],
             [
              0.7777777777777778,
              "#fb9f3a"
             ],
             [
              0.8888888888888888,
              "#fdca26"
             ],
             [
              1,
              "#f0f921"
             ]
            ],
            "type": "histogram2dcontour"
           }
          ],
          "mesh3d": [
           {
            "colorbar": {
             "outlinewidth": 0,
             "ticks": ""
            },
            "type": "mesh3d"
           }
          ],
          "parcoords": [
           {
            "line": {
             "colorbar": {
              "outlinewidth": 0,
              "ticks": ""
             }
            },
            "type": "parcoords"
           }
          ],
          "pie": [
           {
            "automargin": true,
            "type": "pie"
           }
          ],
          "scatter": [
           {
            "fillpattern": {
             "fillmode": "overlay",
             "size": 10,
             "solidity": 0.2
            },
            "type": "scatter"
           }
          ],
          "scatter3d": [
           {
            "line": {
             "colorbar": {
              "outlinewidth": 0,
              "ticks": ""
             }
            },
            "marker": {
             "colorbar": {
              "outlinewidth": 0,
              "ticks": ""
             }
            },
            "type": "scatter3d"
           }
          ],
          "scattercarpet": [
           {
            "marker": {
             "colorbar": {
              "outlinewidth": 0,
              "ticks": ""
             }
            },
            "type": "scattercarpet"
           }
          ],
          "scattergeo": [
           {
            "marker": {
             "colorbar": {
              "outlinewidth": 0,
              "ticks": ""
             }
            },
            "type": "scattergeo"
           }
          ],
          "scattergl": [
           {
            "marker": {
             "colorbar": {
              "outlinewidth": 0,
              "ticks": ""
             }
            },
            "type": "scattergl"
           }
          ],
          "scattermapbox": [
           {
            "marker": {
             "colorbar": {
              "outlinewidth": 0,
              "ticks": ""
             }
            },
            "type": "scattermapbox"
           }
          ],
          "scatterpolar": [
           {
            "marker": {
             "colorbar": {
              "outlinewidth": 0,
              "ticks": ""
             }
            },
            "type": "scatterpolar"
           }
          ],
          "scatterpolargl": [
           {
            "marker": {
             "colorbar": {
              "outlinewidth": 0,
              "ticks": ""
             }
            },
            "type": "scatterpolargl"
           }
          ],
          "scatterternary": [
           {
            "marker": {
             "colorbar": {
              "outlinewidth": 0,
              "ticks": ""
             }
            },
            "type": "scatterternary"
           }
          ],
          "surface": [
           {
            "colorbar": {
             "outlinewidth": 0,
             "ticks": ""
            },
            "colorscale": [
             [
              0,
              "#0d0887"
             ],
             [
              0.1111111111111111,
              "#46039f"
             ],
             [
              0.2222222222222222,
              "#7201a8"
             ],
             [
              0.3333333333333333,
              "#9c179e"
             ],
             [
              0.4444444444444444,
              "#bd3786"
             ],
             [
              0.5555555555555556,
              "#d8576b"
             ],
             [
              0.6666666666666666,
              "#ed7953"
             ],
             [
              0.7777777777777778,
              "#fb9f3a"
             ],
             [
              0.8888888888888888,
              "#fdca26"
             ],
             [
              1,
              "#f0f921"
             ]
            ],
            "type": "surface"
           }
          ],
          "table": [
           {
            "cells": {
             "fill": {
              "color": "#EBF0F8"
             },
             "line": {
              "color": "white"
             }
            },
            "header": {
             "fill": {
              "color": "#C8D4E3"
             },
             "line": {
              "color": "white"
             }
            },
            "type": "table"
           }
          ]
         },
         "layout": {
          "annotationdefaults": {
           "arrowcolor": "#2a3f5f",
           "arrowhead": 0,
           "arrowwidth": 1
          },
          "autotypenumbers": "strict",
          "coloraxis": {
           "colorbar": {
            "outlinewidth": 0,
            "ticks": ""
           }
          },
          "colorscale": {
           "diverging": [
            [
             0,
             "#8e0152"
            ],
            [
             0.1,
             "#c51b7d"
            ],
            [
             0.2,
             "#de77ae"
            ],
            [
             0.3,
             "#f1b6da"
            ],
            [
             0.4,
             "#fde0ef"
            ],
            [
             0.5,
             "#f7f7f7"
            ],
            [
             0.6,
             "#e6f5d0"
            ],
            [
             0.7,
             "#b8e186"
            ],
            [
             0.8,
             "#7fbc41"
            ],
            [
             0.9,
             "#4d9221"
            ],
            [
             1,
             "#276419"
            ]
           ],
           "sequential": [
            [
             0,
             "#0d0887"
            ],
            [
             0.1111111111111111,
             "#46039f"
            ],
            [
             0.2222222222222222,
             "#7201a8"
            ],
            [
             0.3333333333333333,
             "#9c179e"
            ],
            [
             0.4444444444444444,
             "#bd3786"
            ],
            [
             0.5555555555555556,
             "#d8576b"
            ],
            [
             0.6666666666666666,
             "#ed7953"
            ],
            [
             0.7777777777777778,
             "#fb9f3a"
            ],
            [
             0.8888888888888888,
             "#fdca26"
            ],
            [
             1,
             "#f0f921"
            ]
           ],
           "sequentialminus": [
            [
             0,
             "#0d0887"
            ],
            [
             0.1111111111111111,
             "#46039f"
            ],
            [
             0.2222222222222222,
             "#7201a8"
            ],
            [
             0.3333333333333333,
             "#9c179e"
            ],
            [
             0.4444444444444444,
             "#bd3786"
            ],
            [
             0.5555555555555556,
             "#d8576b"
            ],
            [
             0.6666666666666666,
             "#ed7953"
            ],
            [
             0.7777777777777778,
             "#fb9f3a"
            ],
            [
             0.8888888888888888,
             "#fdca26"
            ],
            [
             1,
             "#f0f921"
            ]
           ]
          },
          "colorway": [
           "#636efa",
           "#EF553B",
           "#00cc96",
           "#ab63fa",
           "#FFA15A",
           "#19d3f3",
           "#FF6692",
           "#B6E880",
           "#FF97FF",
           "#FECB52"
          ],
          "font": {
           "color": "#2a3f5f"
          },
          "geo": {
           "bgcolor": "white",
           "lakecolor": "white",
           "landcolor": "#E5ECF6",
           "showlakes": true,
           "showland": true,
           "subunitcolor": "white"
          },
          "hoverlabel": {
           "align": "left"
          },
          "hovermode": "closest",
          "mapbox": {
           "style": "light"
          },
          "paper_bgcolor": "white",
          "plot_bgcolor": "#E5ECF6",
          "polar": {
           "angularaxis": {
            "gridcolor": "white",
            "linecolor": "white",
            "ticks": ""
           },
           "bgcolor": "#E5ECF6",
           "radialaxis": {
            "gridcolor": "white",
            "linecolor": "white",
            "ticks": ""
           }
          },
          "scene": {
           "xaxis": {
            "backgroundcolor": "#E5ECF6",
            "gridcolor": "white",
            "gridwidth": 2,
            "linecolor": "white",
            "showbackground": true,
            "ticks": "",
            "zerolinecolor": "white"
           },
           "yaxis": {
            "backgroundcolor": "#E5ECF6",
            "gridcolor": "white",
            "gridwidth": 2,
            "linecolor": "white",
            "showbackground": true,
            "ticks": "",
            "zerolinecolor": "white"
           },
           "zaxis": {
            "backgroundcolor": "#E5ECF6",
            "gridcolor": "white",
            "gridwidth": 2,
            "linecolor": "white",
            "showbackground": true,
            "ticks": "",
            "zerolinecolor": "white"
           }
          },
          "shapedefaults": {
           "line": {
            "color": "#2a3f5f"
           }
          },
          "ternary": {
           "aaxis": {
            "gridcolor": "white",
            "linecolor": "white",
            "ticks": ""
           },
           "baxis": {
            "gridcolor": "white",
            "linecolor": "white",
            "ticks": ""
           },
           "bgcolor": "#E5ECF6",
           "caxis": {
            "gridcolor": "white",
            "linecolor": "white",
            "ticks": ""
           }
          },
          "title": {
           "x": 0.05
          },
          "xaxis": {
           "automargin": true,
           "gridcolor": "white",
           "linecolor": "white",
           "ticks": "",
           "title": {
            "standoff": 15
           },
           "zerolinecolor": "white",
           "zerolinewidth": 2
          },
          "yaxis": {
           "automargin": true,
           "gridcolor": "white",
           "linecolor": "white",
           "ticks": "",
           "title": {
            "standoff": 15
           },
           "zerolinecolor": "white",
           "zerolinewidth": 2
          }
         }
        },
        "title": {
         "text": "Mean Traffic Intensity by District"
        },
        "xaxis": {
         "title": {
          "text": "District"
         }
        },
        "yaxis": {
         "title": {
          "text": "Mean Traffic Intensity"
         }
        }
       }
      }
     },
     "metadata": {},
     "output_type": "display_data"
    }
   ],
   "source": [
    "# Calculate mean traffic intensity for each district\n",
    "district_mean = df_survey.groupby('OKRES')['S'].mean().reset_index()\n",
    "\n",
    "# Create a bar chart for mean values\n",
    "fig = go.Figure()\n",
    "\n",
    "# Add bar trace for mean\n",
    "fig.add_trace(\n",
    "    go.Bar(x=district_mean['OKRES'], y=district_mean['S'], name='Mean'))\n",
    "\n",
    "# Update layout\n",
    "fig.update_layout(\n",
    "    title='Mean Traffic Intensity by District',\n",
    "    xaxis_title='District',\n",
    "    yaxis_title='Mean Traffic Intensity'\n",
    ")\n",
    "\n",
    "# Show the plot\n",
    "fig.show()"
   ]
  },
  {
   "cell_type": "code",
   "execution_count": 851,
   "metadata": {},
   "outputs": [
    {
     "data": {
      "text/plain": [
       "CESTA\n",
       "18      95\n",
       "61      70\n",
       "66      62\n",
       "16      59\n",
       "64      58\n",
       "        ..\n",
       "3803     1\n",
       "3801     1\n",
       "1184     1\n",
       "1186     1\n",
       "3152     1\n",
       "Name: count, Length: 621, dtype: int64"
      ]
     },
     "execution_count": 851,
     "metadata": {},
     "output_type": "execute_result"
    }
   ],
   "source": [
    "df_survey[\"CESTA\"].value_counts()"
   ]
  },
  {
   "cell_type": "code",
   "execution_count": 852,
   "metadata": {},
   "outputs": [
    {
     "name": "stdout",
     "output_type": "stream",
     "text": [
      "       ÚSEK CESTA      OKRES     T      O   M      S\n",
      "32    80080     2    Malacky   561   4810  65   5436\n",
      "33    80091     2    Malacky  1537  16148  87  17772\n",
      "34    80092     2    Malacky   720   8683  66   9469\n",
      "35    80093     2    Malacky   964   9990  87  11041\n",
      "36    80098     2    Malacky   958   8331  89   9378\n",
      "...     ...   ...        ...   ...    ...  ..    ...\n",
      "2582  92891    78  Námestovo  1898  10646  23  12567\n",
      "2583  92892    78  Námestovo  2100  13967  67  16134\n",
      "2584  92896    78  Námestovo  1296   6359  42   7697\n",
      "2585  92897    78  Námestovo   860   6737  28   7625\n",
      "2586  92899    78  Námestovo   814   6941  26   7781\n",
      "\n",
      "[926 rows x 7 columns]\n"
     ]
    }
   ],
   "source": [
    "import pandas as pd\n",
    "\n",
    "# Assuming df_survey is your DataFrame\n",
    "filtered_df_survey = df_survey.copy()\n",
    "# Step 1: Remove rows representing roads that start with letters\n",
    "filtered_df_survey = filtered_df_survey[~filtered_df_survey['CESTA'].str.match(\n",
    "    r'^[a-zA-Z]')]\n",
    "\n",
    "# Step 2: Remove all letters from the remaining road names\n",
    "filtered_df_survey['CESTA'] = filtered_df_survey['CESTA'].str.replace(\n",
    "    r'\\D', '')\n",
    "\n",
    "# Step 3: Keep only the rows where the remaining name has exactly two characters\n",
    "filtered_df_survey = filtered_df_survey[filtered_df_survey['CESTA'].str.len(\n",
    ") <= 2]\n",
    "\n",
    "# Display the filtered DataFrame\n",
    "print(filtered_df_survey)"
   ]
  },
  {
   "cell_type": "code",
   "execution_count": 853,
   "metadata": {},
   "outputs": [
    {
     "name": "stdout",
     "output_type": "stream",
     "text": [
      "All values from bridges are present in survey.\n"
     ]
    }
   ],
   "source": [
    "# Get unique values of \"Okres\" column in filtered_bridges_SSC DataFrame\n",
    "filtered_bridges_SSC_okres_values = set(\n",
    "    filtered_bridges_SSC[\"Okres\"].value_counts().keys())\n",
    "\n",
    "# Get unique values of \"OKRES\" column in df_survey DataFrame\n",
    "df_survey_okres_values = set(df_survey[\"OKRES\"].value_counts().keys())\n",
    "\n",
    "# Check if all values from filtered_bridges_SSC are in df_survey\n",
    "is_subset = filtered_bridges_SSC_okres_values.issubset(df_survey_okres_values)\n",
    "\n",
    "# Display the result\n",
    "if is_subset:\n",
    "    print(\"All values from bridges are present in survey.\")\n",
    "else:\n",
    "    print(\"Not all values from bridges are present in survey.\")"
   ]
  },
  {
   "cell_type": "code",
   "execution_count": 854,
   "metadata": {},
   "outputs": [
    {
     "name": "stdout",
     "output_type": "stream",
     "text": [
      "All values from bridges are present in survey.\n"
     ]
    }
   ],
   "source": [
    "# Get unique values of \"Číslo_PK\" column in filtered_bridges_SSC DataFrame\n",
    "filtered_bridges_SSC_cesta_values = set(\n",
    "    filtered_bridges_SSC[\"Číslo_PK\"].value_counts().keys())\n",
    "\n",
    "# Get unique values of \"CESTA\" column in df_survey DataFrame\n",
    "df_survey_cesta_values = set(df_survey[\"CESTA\"].value_counts().keys())\n",
    "\n",
    "# Check if all values from filtered_bridges_SSC are in df_survey\n",
    "is_subset = filtered_bridges_SSC_cesta_values.issubset(df_survey_cesta_values)\n",
    "\n",
    "# Display the result\n",
    "if is_subset:\n",
    "    print(\"All values from bridges are present in survey.\")\n",
    "else:\n",
    "    print(\"Not all values from bridges are present in survey.\")"
   ]
  },
  {
   "cell_type": "code",
   "execution_count": 855,
   "metadata": {},
   "outputs": [],
   "source": [
    "# Calculate the mean traffic intensity for each road section (CESTA) and district (OKRES) and convert to integer\n",
    "mean_traffic_intensity = df_survey.groupby(['CESTA', 'OKRES'])[\n",
    "    'S'].mean().reset_index()\n",
    "mean_traffic_intensity['S'] = mean_traffic_intensity['S'].astype(\n",
    "    int)  # Convert mean values to integer\n",
    "\n",
    "# Rename columns in mean_traffic_intensity for merging\n",
    "mean_traffic_intensity.rename(\n",
    "    columns={'CESTA': 'Číslo_PK', 'OKRES': 'Okres', 'S': 'inten'}, inplace=True)\n",
    "\n",
    "# Merge the mean traffic intensity back to the filtered bridges dataframe on both road section and district\n",
    "filtered_bridges_SSC = pd.merge(\n",
    "    filtered_bridges_SSC, mean_traffic_intensity, how='left', on=['Číslo_PK', 'Okres'])\n",
    "\n"
   ]
  },
  {
   "cell_type": "code",
   "execution_count": 856,
   "metadata": {},
   "outputs": [],
   "source": [
    "# Replace NaN values with 0 in the \"inten\" column\n",
    "filtered_bridges_SSC[\"inten\"] = filtered_bridges_SSC[\"inten\"].fillna(0)\n",
    "\n",
    "# Convert the \"inten\" column to integers\n",
    "filtered_bridges_SSC[\"inten\"] = filtered_bridges_SSC[\"inten\"].astype(int)"
   ]
  },
  {
   "cell_type": "code",
   "execution_count": 857,
   "metadata": {},
   "outputs": [
    {
     "data": {
      "text/html": [
       "<div>\n",
       "<style scoped>\n",
       "    .dataframe tbody tr th:only-of-type {\n",
       "        vertical-align: middle;\n",
       "    }\n",
       "\n",
       "    .dataframe tbody tr th {\n",
       "        vertical-align: top;\n",
       "    }\n",
       "\n",
       "    .dataframe thead th {\n",
       "        text-align: right;\n",
       "    }\n",
       "</style>\n",
       "<table border=\"1\" class=\"dataframe\">\n",
       "  <thead>\n",
       "    <tr style=\"text-align: right;\">\n",
       "      <th></th>\n",
       "      <th>ID_mosta</th>\n",
       "      <th>Trieda_PK</th>\n",
       "      <th>Číslo_PK</th>\n",
       "      <th>Most_DC</th>\n",
       "      <th>Názov_mosta</th>\n",
       "      <th>ID_DC</th>\n",
       "      <th>správcovské_číslo</th>\n",
       "      <th>Zemepisná_dĺžka</th>\n",
       "      <th>Zemepisná_šírka</th>\n",
       "      <th>Výška</th>\n",
       "      <th>...</th>\n",
       "      <th>F_c</th>\n",
       "      <th>F_f</th>\n",
       "      <th>F_q</th>\n",
       "      <th>STS</th>\n",
       "      <th>STS_List</th>\n",
       "      <th>STS_filt</th>\n",
       "      <th>Scaled_Degradation_Rate</th>\n",
       "      <th>F_d</th>\n",
       "      <th>R</th>\n",
       "      <th>inten</th>\n",
       "    </tr>\n",
       "  </thead>\n",
       "  <tbody>\n",
       "    <tr>\n",
       "      <th>0</th>\n",
       "      <td>M5897</td>\n",
       "      <td>cesta I. triedy</td>\n",
       "      <td>2</td>\n",
       "      <td>Dilatačný celok</td>\n",
       "      <td>02_002 Most cez potok Brestovec v obci Kopčany</td>\n",
       "      <td>M5897.01</td>\n",
       "      <td>2</td>\n",
       "      <td>17.123319</td>\n",
       "      <td>48.790152</td>\n",
       "      <td>163.816250</td>\n",
       "      <td>...</td>\n",
       "      <td>5</td>\n",
       "      <td>6</td>\n",
       "      <td>1</td>\n",
       "      <td>3,3,3,3,3,5,5,5,5,5,5,5</td>\n",
       "      <td>[3, 3, 3, 3, 3, 5, 5, 5, 5, 5, 5, 5]</td>\n",
       "      <td>[3, 5, 5, 5, 5, 5, 5, 5]</td>\n",
       "      <td>0.111111</td>\n",
       "      <td>1</td>\n",
       "      <td>7.456140</td>\n",
       "      <td>10110</td>\n",
       "    </tr>\n",
       "    <tr>\n",
       "      <th>1</th>\n",
       "      <td>M1979</td>\n",
       "      <td>cesta I. triedy</td>\n",
       "      <td>2</td>\n",
       "      <td>Dilatačný celok</td>\n",
       "      <td>02_003 Most cez Cuninský potok medzi obcami Ko...</td>\n",
       "      <td>M1979.01</td>\n",
       "      <td>3</td>\n",
       "      <td>17.079098</td>\n",
       "      <td>48.757287</td>\n",
       "      <td>162.974249</td>\n",
       "      <td>...</td>\n",
       "      <td>6</td>\n",
       "      <td>10</td>\n",
       "      <td>1</td>\n",
       "      <td>3,3,3,3,3,6,6,6,6,6,6,6</td>\n",
       "      <td>[3, 3, 3, 3, 3, 6, 6, 6, 6, 6, 6, 6]</td>\n",
       "      <td>[3, 6, 6, 6, 6, 6, 6, 6]</td>\n",
       "      <td>0.166667</td>\n",
       "      <td>1</td>\n",
       "      <td>9.429825</td>\n",
       "      <td>10110</td>\n",
       "    </tr>\n",
       "    <tr>\n",
       "      <th>2</th>\n",
       "      <td>M6525</td>\n",
       "      <td>cesta I. triedy</td>\n",
       "      <td>2</td>\n",
       "      <td>Dilatačný celok</td>\n",
       "      <td>02_004 Most nad železnicou Praha - Bratislava ...</td>\n",
       "      <td>M6525.01</td>\n",
       "      <td>4</td>\n",
       "      <td>17.031675</td>\n",
       "      <td>48.684515</td>\n",
       "      <td>168.968750</td>\n",
       "      <td>...</td>\n",
       "      <td>4</td>\n",
       "      <td>10</td>\n",
       "      <td>5</td>\n",
       "      <td>4,4,4,4,4,4,4,4,4,4,4,4</td>\n",
       "      <td>[4, 4, 4, 4, 4, 4, 4, 4, 4, 4, 4, 4]</td>\n",
       "      <td>[4, 4, 4, 4, 4, 4, 4, 4, 4, 4, 4, 4]</td>\n",
       "      <td>0.000000</td>\n",
       "      <td>0</td>\n",
       "      <td>32.894737</td>\n",
       "      <td>10110</td>\n",
       "    </tr>\n",
       "    <tr>\n",
       "      <th>3</th>\n",
       "      <td>M4584</td>\n",
       "      <td>cesta I. triedy</td>\n",
       "      <td>2</td>\n",
       "      <td>Dilatačný celok</td>\n",
       "      <td>O2_005 Most cez Zelnický potok pred obcou Kúty</td>\n",
       "      <td>M4584.01</td>\n",
       "      <td>5</td>\n",
       "      <td>17.020574</td>\n",
       "      <td>48.663688</td>\n",
       "      <td>155.871499</td>\n",
       "      <td>...</td>\n",
       "      <td>4</td>\n",
       "      <td>6</td>\n",
       "      <td>1</td>\n",
       "      <td>3,3,3,3,3,3,3,3,3,3,3,4</td>\n",
       "      <td>[3, 3, 3, 3, 3, 3, 3, 3, 3, 3, 3, 4]</td>\n",
       "      <td>[3, 4]</td>\n",
       "      <td>0.166667</td>\n",
       "      <td>1</td>\n",
       "      <td>6.798246</td>\n",
       "      <td>5755</td>\n",
       "    </tr>\n",
       "    <tr>\n",
       "      <th>4</th>\n",
       "      <td>M3053</td>\n",
       "      <td>cesta I. triedy</td>\n",
       "      <td>2</td>\n",
       "      <td>Dilatačný celok</td>\n",
       "      <td>02_006 Most nad diaľnicou D2, pri obci Kúty</td>\n",
       "      <td>M3053.01</td>\n",
       "      <td>6</td>\n",
       "      <td>17.001660</td>\n",
       "      <td>48.639120</td>\n",
       "      <td>161.480000</td>\n",
       "      <td>...</td>\n",
       "      <td>5</td>\n",
       "      <td>8</td>\n",
       "      <td>4</td>\n",
       "      <td>3,3,4,4,4,4,4,4,4,5,5,5</td>\n",
       "      <td>[3, 3, 4, 4, 4, 4, 4, 4, 4, 5, 5, 5]</td>\n",
       "      <td>[3, 4, 4, 4, 4, 4, 4, 4, 5, 5, 5]</td>\n",
       "      <td>0.141667</td>\n",
       "      <td>1</td>\n",
       "      <td>30.701754</td>\n",
       "      <td>5755</td>\n",
       "    </tr>\n",
       "    <tr>\n",
       "      <th>...</th>\n",
       "      <td>...</td>\n",
       "      <td>...</td>\n",
       "      <td>...</td>\n",
       "      <td>...</td>\n",
       "      <td>...</td>\n",
       "      <td>...</td>\n",
       "      <td>...</td>\n",
       "      <td>...</td>\n",
       "      <td>...</td>\n",
       "      <td>...</td>\n",
       "      <td>...</td>\n",
       "      <td>...</td>\n",
       "      <td>...</td>\n",
       "      <td>...</td>\n",
       "      <td>...</td>\n",
       "      <td>...</td>\n",
       "      <td>...</td>\n",
       "      <td>...</td>\n",
       "      <td>...</td>\n",
       "      <td>...</td>\n",
       "      <td>...</td>\n",
       "    </tr>\n",
       "    <tr>\n",
       "      <th>1359</th>\n",
       "      <td>M10051</td>\n",
       "      <td>cesta I. triedy</td>\n",
       "      <td>59</td>\n",
       "      <td>Dilatačný celok</td>\n",
       "      <td>most 59-099 cez rieku Oravica, Trstená</td>\n",
       "      <td>M10051.01</td>\n",
       "      <td>99</td>\n",
       "      <td>19.613830</td>\n",
       "      <td>49.362340</td>\n",
       "      <td>607.690000</td>\n",
       "      <td>...</td>\n",
       "      <td>2</td>\n",
       "      <td>5</td>\n",
       "      <td>1</td>\n",
       "      <td>0,0,0,0,0,0,0,0,0,0,2,2</td>\n",
       "      <td>[0, 0, 0, 0, 0, 0, 0, 0, 0, 0, 2, 2]</td>\n",
       "      <td>[2, 2]</td>\n",
       "      <td>0.000000</td>\n",
       "      <td>0</td>\n",
       "      <td>3.070175</td>\n",
       "      <td>8523</td>\n",
       "    </tr>\n",
       "    <tr>\n",
       "      <th>1360</th>\n",
       "      <td>M10058</td>\n",
       "      <td>cesta I. triedy</td>\n",
       "      <td>61</td>\n",
       "      <td>Dilatačný celok</td>\n",
       "      <td>MOST CEZ POTOK ĽADOVÁ VODA NA SENECKEJ CESTE P...</td>\n",
       "      <td>M10058.01</td>\n",
       "      <td>61-005</td>\n",
       "      <td>17.232100</td>\n",
       "      <td>48.192030</td>\n",
       "      <td>NaN</td>\n",
       "      <td>...</td>\n",
       "      <td>6</td>\n",
       "      <td>5</td>\n",
       "      <td>1</td>\n",
       "      <td>0,0,0,0,0,0,0,0,0,0,6,6</td>\n",
       "      <td>[0, 0, 0, 0, 0, 0, 0, 0, 0, 0, 6, 6]</td>\n",
       "      <td>[6, 6]</td>\n",
       "      <td>0.000000</td>\n",
       "      <td>0</td>\n",
       "      <td>7.456140</td>\n",
       "      <td>13136</td>\n",
       "    </tr>\n",
       "    <tr>\n",
       "      <th>1361</th>\n",
       "      <td>M9956</td>\n",
       "      <td>cesta I. triedy</td>\n",
       "      <td>61</td>\n",
       "      <td>Dilatačný celok</td>\n",
       "      <td>61-255A1_ Most ponad bezmenný potok, dažďové v...</td>\n",
       "      <td>M9956.01</td>\n",
       "      <td>255A1</td>\n",
       "      <td>18.660440</td>\n",
       "      <td>49.253240</td>\n",
       "      <td>335.000000</td>\n",
       "      <td>...</td>\n",
       "      <td>3</td>\n",
       "      <td>6</td>\n",
       "      <td>1</td>\n",
       "      <td>0,0,0,0,0,0,0,0,0,0,3,3</td>\n",
       "      <td>[0, 0, 0, 0, 0, 0, 0, 0, 0, 0, 3, 3]</td>\n",
       "      <td>[3, 3]</td>\n",
       "      <td>0.000000</td>\n",
       "      <td>0</td>\n",
       "      <td>4.166667</td>\n",
       "      <td>11277</td>\n",
       "    </tr>\n",
       "    <tr>\n",
       "      <th>1362</th>\n",
       "      <td>M10139</td>\n",
       "      <td>cesta I. triedy</td>\n",
       "      <td>68</td>\n",
       "      <td>Dilatačný celok</td>\n",
       "      <td>Most na ceste I/68 ponad potok Dzikov zložitek...</td>\n",
       "      <td>M10139.01</td>\n",
       "      <td>68-048</td>\n",
       "      <td>21.214000</td>\n",
       "      <td>49.035000</td>\n",
       "      <td>200.000000</td>\n",
       "      <td>...</td>\n",
       "      <td>1</td>\n",
       "      <td>10</td>\n",
       "      <td>1</td>\n",
       "      <td>0,0,0,0,0,0,0,0,0,0,0,1</td>\n",
       "      <td>[0, 0, 0, 0, 0, 0, 0, 0, 0, 0, 0, 1]</td>\n",
       "      <td>[1]</td>\n",
       "      <td>0.000000</td>\n",
       "      <td>0</td>\n",
       "      <td>3.289474</td>\n",
       "      <td>18761</td>\n",
       "    </tr>\n",
       "    <tr>\n",
       "      <th>1363</th>\n",
       "      <td>M10157</td>\n",
       "      <td>cesta I. triedy</td>\n",
       "      <td>77</td>\n",
       "      <td>Dilatačný celok</td>\n",
       "      <td>Most cez Židovský potok v katastri Lenartova</td>\n",
       "      <td>M10157.01</td>\n",
       "      <td>77-033</td>\n",
       "      <td>21.030500</td>\n",
       "      <td>49.307100</td>\n",
       "      <td>NaN</td>\n",
       "      <td>...</td>\n",
       "      <td>1</td>\n",
       "      <td>5</td>\n",
       "      <td>1</td>\n",
       "      <td>0,0,0,0,0,0,0,0,0,0,0,1</td>\n",
       "      <td>[0, 0, 0, 0, 0, 0, 0, 0, 0, 0, 0, 1]</td>\n",
       "      <td>[1]</td>\n",
       "      <td>0.000000</td>\n",
       "      <td>0</td>\n",
       "      <td>2.192982</td>\n",
       "      <td>6907</td>\n",
       "    </tr>\n",
       "  </tbody>\n",
       "</table>\n",
       "<p>1364 rows × 62 columns</p>\n",
       "</div>"
      ],
      "text/plain": [
       "     ID_mosta        Trieda_PK Číslo_PK          Most_DC  \\\n",
       "0       M5897  cesta I. triedy        2  Dilatačný celok   \n",
       "1       M1979  cesta I. triedy        2  Dilatačný celok   \n",
       "2       M6525  cesta I. triedy        2  Dilatačný celok   \n",
       "3       M4584  cesta I. triedy        2  Dilatačný celok   \n",
       "4       M3053  cesta I. triedy        2  Dilatačný celok   \n",
       "...       ...              ...      ...              ...   \n",
       "1359   M10051  cesta I. triedy       59  Dilatačný celok   \n",
       "1360   M10058  cesta I. triedy       61  Dilatačný celok   \n",
       "1361    M9956  cesta I. triedy       61  Dilatačný celok   \n",
       "1362   M10139  cesta I. triedy       68  Dilatačný celok   \n",
       "1363   M10157  cesta I. triedy       77  Dilatačný celok   \n",
       "\n",
       "                                            Názov_mosta      ID_DC  \\\n",
       "0        02_002 Most cez potok Brestovec v obci Kopčany   M5897.01   \n",
       "1     02_003 Most cez Cuninský potok medzi obcami Ko...   M1979.01   \n",
       "2     02_004 Most nad železnicou Praha - Bratislava ...   M6525.01   \n",
       "3        O2_005 Most cez Zelnický potok pred obcou Kúty   M4584.01   \n",
       "4           02_006 Most nad diaľnicou D2, pri obci Kúty   M3053.01   \n",
       "...                                                 ...        ...   \n",
       "1359             most 59-099 cez rieku Oravica, Trstená  M10051.01   \n",
       "1360  MOST CEZ POTOK ĽADOVÁ VODA NA SENECKEJ CESTE P...  M10058.01   \n",
       "1361  61-255A1_ Most ponad bezmenný potok, dažďové v...   M9956.01   \n",
       "1362  Most na ceste I/68 ponad potok Dzikov zložitek...  M10139.01   \n",
       "1363       Most cez Židovský potok v katastri Lenartova  M10157.01   \n",
       "\n",
       "     správcovské_číslo  Zemepisná_dĺžka  Zemepisná_šírka       Výška  ... F_c  \\\n",
       "0                    2        17.123319        48.790152  163.816250  ...   5   \n",
       "1                    3        17.079098        48.757287  162.974249  ...   6   \n",
       "2                    4        17.031675        48.684515  168.968750  ...   4   \n",
       "3                    5        17.020574        48.663688  155.871499  ...   4   \n",
       "4                    6        17.001660        48.639120  161.480000  ...   5   \n",
       "...                ...              ...              ...         ...  ...  ..   \n",
       "1359                99        19.613830        49.362340  607.690000  ...   2   \n",
       "1360            61-005        17.232100        48.192030         NaN  ...   6   \n",
       "1361             255A1        18.660440        49.253240  335.000000  ...   3   \n",
       "1362            68-048        21.214000        49.035000  200.000000  ...   1   \n",
       "1363            77-033        21.030500        49.307100         NaN  ...   1   \n",
       "\n",
       "     F_f  F_q                      STS                              STS_List  \\\n",
       "0      6    1  3,3,3,3,3,5,5,5,5,5,5,5  [3, 3, 3, 3, 3, 5, 5, 5, 5, 5, 5, 5]   \n",
       "1     10    1  3,3,3,3,3,6,6,6,6,6,6,6  [3, 3, 3, 3, 3, 6, 6, 6, 6, 6, 6, 6]   \n",
       "2     10    5  4,4,4,4,4,4,4,4,4,4,4,4  [4, 4, 4, 4, 4, 4, 4, 4, 4, 4, 4, 4]   \n",
       "3      6    1  3,3,3,3,3,3,3,3,3,3,3,4  [3, 3, 3, 3, 3, 3, 3, 3, 3, 3, 3, 4]   \n",
       "4      8    4  3,3,4,4,4,4,4,4,4,5,5,5  [3, 3, 4, 4, 4, 4, 4, 4, 4, 5, 5, 5]   \n",
       "...   ..  ...                      ...                                   ...   \n",
       "1359   5    1  0,0,0,0,0,0,0,0,0,0,2,2  [0, 0, 0, 0, 0, 0, 0, 0, 0, 0, 2, 2]   \n",
       "1360   5    1  0,0,0,0,0,0,0,0,0,0,6,6  [0, 0, 0, 0, 0, 0, 0, 0, 0, 0, 6, 6]   \n",
       "1361   6    1  0,0,0,0,0,0,0,0,0,0,3,3  [0, 0, 0, 0, 0, 0, 0, 0, 0, 0, 3, 3]   \n",
       "1362  10    1  0,0,0,0,0,0,0,0,0,0,0,1  [0, 0, 0, 0, 0, 0, 0, 0, 0, 0, 0, 1]   \n",
       "1363   5    1  0,0,0,0,0,0,0,0,0,0,0,1  [0, 0, 0, 0, 0, 0, 0, 0, 0, 0, 0, 1]   \n",
       "\n",
       "                                  STS_filt Scaled_Degradation_Rate  F_d  \\\n",
       "0                 [3, 5, 5, 5, 5, 5, 5, 5]                0.111111    1   \n",
       "1                 [3, 6, 6, 6, 6, 6, 6, 6]                0.166667    1   \n",
       "2     [4, 4, 4, 4, 4, 4, 4, 4, 4, 4, 4, 4]                0.000000    0   \n",
       "3                                   [3, 4]                0.166667    1   \n",
       "4        [3, 4, 4, 4, 4, 4, 4, 4, 5, 5, 5]                0.141667    1   \n",
       "...                                    ...                     ...  ...   \n",
       "1359                                [2, 2]                0.000000    0   \n",
       "1360                                [6, 6]                0.000000    0   \n",
       "1361                                [3, 3]                0.000000    0   \n",
       "1362                                   [1]                0.000000    0   \n",
       "1363                                   [1]                0.000000    0   \n",
       "\n",
       "              R  inten  \n",
       "0      7.456140  10110  \n",
       "1      9.429825  10110  \n",
       "2     32.894737  10110  \n",
       "3      6.798246   5755  \n",
       "4     30.701754   5755  \n",
       "...         ...    ...  \n",
       "1359   3.070175   8523  \n",
       "1360   7.456140  13136  \n",
       "1361   4.166667  11277  \n",
       "1362   3.289474  18761  \n",
       "1363   2.192982   6907  \n",
       "\n",
       "[1364 rows x 62 columns]"
      ]
     },
     "execution_count": 857,
     "metadata": {},
     "output_type": "execute_result"
    }
   ],
   "source": [
    "filtered_bridges_SSC"
   ]
  },
  {
   "cell_type": "code",
   "execution_count": 868,
   "metadata": {},
   "outputs": [
    {
     "data": {
      "text/plain": [
       "120"
      ]
     },
     "execution_count": 868,
     "metadata": {},
     "output_type": "execute_result"
    }
   ],
   "source": [
    "inten_counts_dict = dict(filtered_bridges_SSC[\"inten\"].value_counts())\n",
    "len(inten_counts_dict)"
   ]
  },
  {
   "cell_type": "code",
   "execution_count": 890,
   "metadata": {},
   "outputs": [
    {
     "data": {
      "application/vnd.plotly.v1+json": {
       "config": {
        "plotlyServerURL": "https://plot.ly"
       },
       "data": [
        {
         "alignmentgroup": "True",
         "hovertemplate": "inten_bin=%{x}<br>Number of Bridges=%{y}<extra></extra>",
         "legendgroup": "",
         "marker": {
          "color": "#636efa",
          "pattern": {
           "shape": ""
          }
         },
         "name": "",
         "offsetgroup": "",
         "orientation": "v",
         "showlegend": false,
         "textposition": "auto",
         "type": "bar",
         "x": [
          "0-5000",
          "5000-10000",
          "10000-15000",
          "15000-20000",
          "20000+"
         ],
         "xaxis": "x",
         "y": [
          196,
          603,
          366,
          128,
          71
         ],
         "yaxis": "y"
        }
       ],
       "layout": {
        "barmode": "relative",
        "legend": {
         "tracegroupgap": 0
        },
        "template": {
         "data": {
          "bar": [
           {
            "error_x": {
             "color": "#2a3f5f"
            },
            "error_y": {
             "color": "#2a3f5f"
            },
            "marker": {
             "line": {
              "color": "#E5ECF6",
              "width": 0.5
             },
             "pattern": {
              "fillmode": "overlay",
              "size": 10,
              "solidity": 0.2
             }
            },
            "type": "bar"
           }
          ],
          "barpolar": [
           {
            "marker": {
             "line": {
              "color": "#E5ECF6",
              "width": 0.5
             },
             "pattern": {
              "fillmode": "overlay",
              "size": 10,
              "solidity": 0.2
             }
            },
            "type": "barpolar"
           }
          ],
          "carpet": [
           {
            "aaxis": {
             "endlinecolor": "#2a3f5f",
             "gridcolor": "white",
             "linecolor": "white",
             "minorgridcolor": "white",
             "startlinecolor": "#2a3f5f"
            },
            "baxis": {
             "endlinecolor": "#2a3f5f",
             "gridcolor": "white",
             "linecolor": "white",
             "minorgridcolor": "white",
             "startlinecolor": "#2a3f5f"
            },
            "type": "carpet"
           }
          ],
          "choropleth": [
           {
            "colorbar": {
             "outlinewidth": 0,
             "ticks": ""
            },
            "type": "choropleth"
           }
          ],
          "contour": [
           {
            "colorbar": {
             "outlinewidth": 0,
             "ticks": ""
            },
            "colorscale": [
             [
              0,
              "#0d0887"
             ],
             [
              0.1111111111111111,
              "#46039f"
             ],
             [
              0.2222222222222222,
              "#7201a8"
             ],
             [
              0.3333333333333333,
              "#9c179e"
             ],
             [
              0.4444444444444444,
              "#bd3786"
             ],
             [
              0.5555555555555556,
              "#d8576b"
             ],
             [
              0.6666666666666666,
              "#ed7953"
             ],
             [
              0.7777777777777778,
              "#fb9f3a"
             ],
             [
              0.8888888888888888,
              "#fdca26"
             ],
             [
              1,
              "#f0f921"
             ]
            ],
            "type": "contour"
           }
          ],
          "contourcarpet": [
           {
            "colorbar": {
             "outlinewidth": 0,
             "ticks": ""
            },
            "type": "contourcarpet"
           }
          ],
          "heatmap": [
           {
            "colorbar": {
             "outlinewidth": 0,
             "ticks": ""
            },
            "colorscale": [
             [
              0,
              "#0d0887"
             ],
             [
              0.1111111111111111,
              "#46039f"
             ],
             [
              0.2222222222222222,
              "#7201a8"
             ],
             [
              0.3333333333333333,
              "#9c179e"
             ],
             [
              0.4444444444444444,
              "#bd3786"
             ],
             [
              0.5555555555555556,
              "#d8576b"
             ],
             [
              0.6666666666666666,
              "#ed7953"
             ],
             [
              0.7777777777777778,
              "#fb9f3a"
             ],
             [
              0.8888888888888888,
              "#fdca26"
             ],
             [
              1,
              "#f0f921"
             ]
            ],
            "type": "heatmap"
           }
          ],
          "heatmapgl": [
           {
            "colorbar": {
             "outlinewidth": 0,
             "ticks": ""
            },
            "colorscale": [
             [
              0,
              "#0d0887"
             ],
             [
              0.1111111111111111,
              "#46039f"
             ],
             [
              0.2222222222222222,
              "#7201a8"
             ],
             [
              0.3333333333333333,
              "#9c179e"
             ],
             [
              0.4444444444444444,
              "#bd3786"
             ],
             [
              0.5555555555555556,
              "#d8576b"
             ],
             [
              0.6666666666666666,
              "#ed7953"
             ],
             [
              0.7777777777777778,
              "#fb9f3a"
             ],
             [
              0.8888888888888888,
              "#fdca26"
             ],
             [
              1,
              "#f0f921"
             ]
            ],
            "type": "heatmapgl"
           }
          ],
          "histogram": [
           {
            "marker": {
             "pattern": {
              "fillmode": "overlay",
              "size": 10,
              "solidity": 0.2
             }
            },
            "type": "histogram"
           }
          ],
          "histogram2d": [
           {
            "colorbar": {
             "outlinewidth": 0,
             "ticks": ""
            },
            "colorscale": [
             [
              0,
              "#0d0887"
             ],
             [
              0.1111111111111111,
              "#46039f"
             ],
             [
              0.2222222222222222,
              "#7201a8"
             ],
             [
              0.3333333333333333,
              "#9c179e"
             ],
             [
              0.4444444444444444,
              "#bd3786"
             ],
             [
              0.5555555555555556,
              "#d8576b"
             ],
             [
              0.6666666666666666,
              "#ed7953"
             ],
             [
              0.7777777777777778,
              "#fb9f3a"
             ],
             [
              0.8888888888888888,
              "#fdca26"
             ],
             [
              1,
              "#f0f921"
             ]
            ],
            "type": "histogram2d"
           }
          ],
          "histogram2dcontour": [
           {
            "colorbar": {
             "outlinewidth": 0,
             "ticks": ""
            },
            "colorscale": [
             [
              0,
              "#0d0887"
             ],
             [
              0.1111111111111111,
              "#46039f"
             ],
             [
              0.2222222222222222,
              "#7201a8"
             ],
             [
              0.3333333333333333,
              "#9c179e"
             ],
             [
              0.4444444444444444,
              "#bd3786"
             ],
             [
              0.5555555555555556,
              "#d8576b"
             ],
             [
              0.6666666666666666,
              "#ed7953"
             ],
             [
              0.7777777777777778,
              "#fb9f3a"
             ],
             [
              0.8888888888888888,
              "#fdca26"
             ],
             [
              1,
              "#f0f921"
             ]
            ],
            "type": "histogram2dcontour"
           }
          ],
          "mesh3d": [
           {
            "colorbar": {
             "outlinewidth": 0,
             "ticks": ""
            },
            "type": "mesh3d"
           }
          ],
          "parcoords": [
           {
            "line": {
             "colorbar": {
              "outlinewidth": 0,
              "ticks": ""
             }
            },
            "type": "parcoords"
           }
          ],
          "pie": [
           {
            "automargin": true,
            "type": "pie"
           }
          ],
          "scatter": [
           {
            "fillpattern": {
             "fillmode": "overlay",
             "size": 10,
             "solidity": 0.2
            },
            "type": "scatter"
           }
          ],
          "scatter3d": [
           {
            "line": {
             "colorbar": {
              "outlinewidth": 0,
              "ticks": ""
             }
            },
            "marker": {
             "colorbar": {
              "outlinewidth": 0,
              "ticks": ""
             }
            },
            "type": "scatter3d"
           }
          ],
          "scattercarpet": [
           {
            "marker": {
             "colorbar": {
              "outlinewidth": 0,
              "ticks": ""
             }
            },
            "type": "scattercarpet"
           }
          ],
          "scattergeo": [
           {
            "marker": {
             "colorbar": {
              "outlinewidth": 0,
              "ticks": ""
             }
            },
            "type": "scattergeo"
           }
          ],
          "scattergl": [
           {
            "marker": {
             "colorbar": {
              "outlinewidth": 0,
              "ticks": ""
             }
            },
            "type": "scattergl"
           }
          ],
          "scattermapbox": [
           {
            "marker": {
             "colorbar": {
              "outlinewidth": 0,
              "ticks": ""
             }
            },
            "type": "scattermapbox"
           }
          ],
          "scatterpolar": [
           {
            "marker": {
             "colorbar": {
              "outlinewidth": 0,
              "ticks": ""
             }
            },
            "type": "scatterpolar"
           }
          ],
          "scatterpolargl": [
           {
            "marker": {
             "colorbar": {
              "outlinewidth": 0,
              "ticks": ""
             }
            },
            "type": "scatterpolargl"
           }
          ],
          "scatterternary": [
           {
            "marker": {
             "colorbar": {
              "outlinewidth": 0,
              "ticks": ""
             }
            },
            "type": "scatterternary"
           }
          ],
          "surface": [
           {
            "colorbar": {
             "outlinewidth": 0,
             "ticks": ""
            },
            "colorscale": [
             [
              0,
              "#0d0887"
             ],
             [
              0.1111111111111111,
              "#46039f"
             ],
             [
              0.2222222222222222,
              "#7201a8"
             ],
             [
              0.3333333333333333,
              "#9c179e"
             ],
             [
              0.4444444444444444,
              "#bd3786"
             ],
             [
              0.5555555555555556,
              "#d8576b"
             ],
             [
              0.6666666666666666,
              "#ed7953"
             ],
             [
              0.7777777777777778,
              "#fb9f3a"
             ],
             [
              0.8888888888888888,
              "#fdca26"
             ],
             [
              1,
              "#f0f921"
             ]
            ],
            "type": "surface"
           }
          ],
          "table": [
           {
            "cells": {
             "fill": {
              "color": "#EBF0F8"
             },
             "line": {
              "color": "white"
             }
            },
            "header": {
             "fill": {
              "color": "#C8D4E3"
             },
             "line": {
              "color": "white"
             }
            },
            "type": "table"
           }
          ]
         },
         "layout": {
          "annotationdefaults": {
           "arrowcolor": "#2a3f5f",
           "arrowhead": 0,
           "arrowwidth": 1
          },
          "autotypenumbers": "strict",
          "coloraxis": {
           "colorbar": {
            "outlinewidth": 0,
            "ticks": ""
           }
          },
          "colorscale": {
           "diverging": [
            [
             0,
             "#8e0152"
            ],
            [
             0.1,
             "#c51b7d"
            ],
            [
             0.2,
             "#de77ae"
            ],
            [
             0.3,
             "#f1b6da"
            ],
            [
             0.4,
             "#fde0ef"
            ],
            [
             0.5,
             "#f7f7f7"
            ],
            [
             0.6,
             "#e6f5d0"
            ],
            [
             0.7,
             "#b8e186"
            ],
            [
             0.8,
             "#7fbc41"
            ],
            [
             0.9,
             "#4d9221"
            ],
            [
             1,
             "#276419"
            ]
           ],
           "sequential": [
            [
             0,
             "#0d0887"
            ],
            [
             0.1111111111111111,
             "#46039f"
            ],
            [
             0.2222222222222222,
             "#7201a8"
            ],
            [
             0.3333333333333333,
             "#9c179e"
            ],
            [
             0.4444444444444444,
             "#bd3786"
            ],
            [
             0.5555555555555556,
             "#d8576b"
            ],
            [
             0.6666666666666666,
             "#ed7953"
            ],
            [
             0.7777777777777778,
             "#fb9f3a"
            ],
            [
             0.8888888888888888,
             "#fdca26"
            ],
            [
             1,
             "#f0f921"
            ]
           ],
           "sequentialminus": [
            [
             0,
             "#0d0887"
            ],
            [
             0.1111111111111111,
             "#46039f"
            ],
            [
             0.2222222222222222,
             "#7201a8"
            ],
            [
             0.3333333333333333,
             "#9c179e"
            ],
            [
             0.4444444444444444,
             "#bd3786"
            ],
            [
             0.5555555555555556,
             "#d8576b"
            ],
            [
             0.6666666666666666,
             "#ed7953"
            ],
            [
             0.7777777777777778,
             "#fb9f3a"
            ],
            [
             0.8888888888888888,
             "#fdca26"
            ],
            [
             1,
             "#f0f921"
            ]
           ]
          },
          "colorway": [
           "#636efa",
           "#EF553B",
           "#00cc96",
           "#ab63fa",
           "#FFA15A",
           "#19d3f3",
           "#FF6692",
           "#B6E880",
           "#FF97FF",
           "#FECB52"
          ],
          "font": {
           "color": "#2a3f5f"
          },
          "geo": {
           "bgcolor": "white",
           "lakecolor": "white",
           "landcolor": "#E5ECF6",
           "showlakes": true,
           "showland": true,
           "subunitcolor": "white"
          },
          "hoverlabel": {
           "align": "left"
          },
          "hovermode": "closest",
          "mapbox": {
           "style": "light"
          },
          "paper_bgcolor": "white",
          "plot_bgcolor": "#E5ECF6",
          "polar": {
           "angularaxis": {
            "gridcolor": "white",
            "linecolor": "white",
            "ticks": ""
           },
           "bgcolor": "#E5ECF6",
           "radialaxis": {
            "gridcolor": "white",
            "linecolor": "white",
            "ticks": ""
           }
          },
          "scene": {
           "xaxis": {
            "backgroundcolor": "#E5ECF6",
            "gridcolor": "white",
            "gridwidth": 2,
            "linecolor": "white",
            "showbackground": true,
            "ticks": "",
            "zerolinecolor": "white"
           },
           "yaxis": {
            "backgroundcolor": "#E5ECF6",
            "gridcolor": "white",
            "gridwidth": 2,
            "linecolor": "white",
            "showbackground": true,
            "ticks": "",
            "zerolinecolor": "white"
           },
           "zaxis": {
            "backgroundcolor": "#E5ECF6",
            "gridcolor": "white",
            "gridwidth": 2,
            "linecolor": "white",
            "showbackground": true,
            "ticks": "",
            "zerolinecolor": "white"
           }
          },
          "shapedefaults": {
           "line": {
            "color": "#2a3f5f"
           }
          },
          "ternary": {
           "aaxis": {
            "gridcolor": "white",
            "linecolor": "white",
            "ticks": ""
           },
           "baxis": {
            "gridcolor": "white",
            "linecolor": "white",
            "ticks": ""
           },
           "bgcolor": "#E5ECF6",
           "caxis": {
            "gridcolor": "white",
            "linecolor": "white",
            "ticks": ""
           }
          },
          "title": {
           "x": 0.05
          },
          "xaxis": {
           "automargin": true,
           "gridcolor": "white",
           "linecolor": "white",
           "ticks": "",
           "title": {
            "standoff": 15
           },
           "zerolinecolor": "white",
           "zerolinewidth": 2
          },
          "yaxis": {
           "automargin": true,
           "gridcolor": "white",
           "linecolor": "white",
           "ticks": "",
           "title": {
            "standoff": 15
           },
           "zerolinecolor": "white",
           "zerolinewidth": 2
          }
         }
        },
        "title": {
         "text": "Reduced Bins Distribution of Traffic Intensity"
        },
        "xaxis": {
         "anchor": "y",
         "domain": [
          0,
          1
         ],
         "title": {
          "text": "inten_bin"
         },
         "type": "category"
        },
        "yaxis": {
         "anchor": "x",
         "domain": [
          0,
          1
         ],
         "title": {
          "text": "Number of Bridges"
         }
        }
       }
      }
     },
     "metadata": {},
     "output_type": "display_data"
    }
   ],
   "source": [
    "import pandas as pd\n",
    "import numpy as np\n",
    "import plotly.express as px\n",
    "\n",
    "# Assuming filtered_bridges_SSC[\"inten\"] is your column of interest\n",
    "# Define bin edges\n",
    "bin_edges = [0, 5000, 10000, 15000, 20000, np.inf]\n",
    "# Define bin labels\n",
    "bin_labels = ['0-5000', '5000-10000', '10000-15000',\n",
    "              '15000-20000', '20000+']\n",
    "\n",
    "# Create a new column 'inten_bin' for the binned values\n",
    "filtered_bridges_SSC['inten_bin'] = pd.cut(\n",
    "    filtered_bridges_SSC['inten'], bins=bin_edges, labels=bin_labels, right=False)\n",
    "\n",
    "# Count the occurrences of each bin\n",
    "inten_bin_counts = filtered_bridges_SSC['inten_bin'].value_counts(\n",
    ").sort_index()\n",
    "\n",
    "# Plotting\n",
    "fig = px.bar(inten_bin_counts, x=inten_bin_counts.index, y=inten_bin_counts.values,\n",
    "             title='Reduced Bins Distribution of Traffic Intensity', labels={'x': 'Traffic Intensity Range', 'y': 'Number of Bridges'})\n",
    "\n",
    "# Treat x-axis values as discrete categories\n",
    "fig.update_layout(xaxis_type='category')\n",
    "\n",
    "fig.show()"
   ]
  },
  {
   "cell_type": "code",
   "execution_count": 879,
   "metadata": {},
   "outputs": [
    {
     "data": {
      "application/vnd.plotly.v1+json": {
       "config": {
        "plotlyServerURL": "https://plot.ly"
       },
       "data": [
        {
         "alignmentgroup": "True",
         "bingroup": "x",
         "histnorm": "percent",
         "hovertemplate": "Traffic Intensity=%{x}<br>percent=%{y}<extra></extra>",
         "legendgroup": "",
         "marker": {
          "color": "#636efa",
          "pattern": {
           "shape": ""
          }
         },
         "name": "",
         "nbinsx": 15,
         "offsetgroup": "",
         "orientation": "v",
         "showlegend": false,
         "type": "histogram",
         "x": [
          10110,
          10110,
          10110,
          5755,
          5755,
          5755,
          5755,
          5755,
          5755,
          10359,
          10359,
          10359,
          10359,
          10359,
          10359,
          10359,
          10359,
          10359,
          10359,
          10359,
          10359,
          10359,
          10359,
          10359,
          10359,
          10359,
          10359,
          9541,
          9541,
          2327,
          9541,
          9541,
          9541,
          9541,
          9541,
          19940,
          19940,
          19940,
          19940,
          32106,
          32106,
          32106,
          32106,
          32106,
          33554,
          33554,
          33554,
          33554,
          33554,
          33554,
          33554,
          33554,
          2145,
          2145,
          2145,
          2145,
          2145,
          2145,
          2145,
          2145,
          4009,
          4009,
          4009,
          4009,
          4009,
          4009,
          4009,
          2641,
          2641,
          2641,
          2641,
          2641,
          4202,
          6707,
          4202,
          4202,
          4202,
          4202,
          4202,
          6707,
          6707,
          6707,
          6707,
          6707,
          6707,
          6707,
          6707,
          6707,
          0,
          4144,
          4144,
          4144,
          4144,
          4144,
          4144,
          8297,
          8297,
          8297,
          8297,
          8297,
          8297,
          8297,
          8297,
          8297,
          8297,
          8297,
          5508,
          5508,
          11277,
          11277,
          11277,
          11277,
          11277,
          11277,
          11277,
          33554,
          33554,
          33554,
          33554,
          33554,
          33554,
          33554,
          33554,
          33554,
          33554,
          33554,
          25447,
          25447,
          25447,
          25447,
          25447,
          25447,
          25447,
          25447,
          25447,
          25447,
          25447,
          25447,
          25447,
          25447,
          25447,
          25447,
          15274,
          15274,
          15274,
          15274,
          15274,
          15274,
          15274,
          15274,
          15274,
          15274,
          15274,
          15274,
          15274,
          15274,
          15274,
          15274,
          15274,
          15274,
          15274,
          15274,
          15274,
          15274,
          15274,
          15274,
          16933,
          16933,
          16933,
          16933,
          16933,
          16933,
          19713,
          19713,
          19713,
          19713,
          19713,
          19713,
          19713,
          19713,
          19713,
          19713,
          19713,
          19713,
          19713,
          19713,
          19713,
          19713,
          19713,
          19713,
          19713,
          10666,
          10666,
          10666,
          10666,
          10666,
          10666,
          10666,
          10666,
          10666,
          10666,
          10666,
          10666,
          10666,
          10666,
          10666,
          10666,
          10666,
          10666,
          10666,
          10666,
          10666,
          10666,
          10666,
          10666,
          10666,
          10666,
          9322,
          9322,
          9322,
          9322,
          9322,
          9322,
          9322,
          9322,
          9322,
          9322,
          9322,
          9322,
          9322,
          9322,
          9322,
          9322,
          9322,
          9322,
          5000,
          5000,
          5000,
          5000,
          5000,
          5000,
          5000,
          5000,
          5000,
          5000,
          5000,
          5000,
          5000,
          5000,
          5000,
          5000,
          5000,
          5000,
          5000,
          5000,
          15839,
          15839,
          15839,
          15839,
          15839,
          15839,
          15839,
          15839,
          15839,
          15839,
          15839,
          15839,
          15839,
          15839,
          15839,
          15839,
          15839,
          15839,
          15839,
          15839,
          15839,
          15839,
          15839,
          15839,
          15839,
          15839,
          9670,
          9670,
          9670,
          9670,
          9670,
          9670,
          9670,
          9670,
          9670,
          9670,
          9670,
          9670,
          9670,
          9670,
          9670,
          9670,
          9670,
          9670,
          9670,
          9670,
          9670,
          9670,
          9670,
          9670,
          9670,
          9670,
          9670,
          9670,
          9670,
          9670,
          9670,
          9670,
          9425,
          9425,
          9425,
          9425,
          9425,
          9425,
          9425,
          33554,
          33554,
          33554,
          33554,
          33554,
          33554,
          33554,
          7272,
          7272,
          7272,
          7272,
          7272,
          7272,
          7272,
          7272,
          7272,
          7272,
          7272,
          7272,
          7272,
          7272,
          7272,
          7272,
          7272,
          7272,
          7272,
          7272,
          7272,
          7272,
          10836,
          10836,
          10836,
          10836,
          10836,
          10836,
          10836,
          10836,
          10836,
          10836,
          10836,
          10836,
          10836,
          10836,
          10836,
          10836,
          10836,
          9208,
          9208,
          9208,
          9208,
          9208,
          9208,
          9208,
          9208,
          0,
          0,
          12631,
          12631,
          12631,
          12631,
          12631,
          12631,
          12631,
          12631,
          12631,
          12631,
          12631,
          12631,
          12631,
          12631,
          12631,
          12631,
          12631,
          12631,
          12631,
          12631,
          12631,
          12631,
          12631,
          12631,
          12631,
          12631,
          12631,
          12631,
          12631,
          12631,
          12631,
          12631,
          12631,
          12631,
          12631,
          12631,
          12631,
          12631,
          7188,
          7188,
          7188,
          7188,
          7188,
          7188,
          7188,
          7188,
          7188,
          7188,
          7188,
          7188,
          7188,
          7188,
          7188,
          7188,
          7188,
          10645,
          23071,
          23071,
          16683,
          16683,
          11037,
          11037,
          11037,
          11037,
          11037,
          11037,
          10961,
          10961,
          10961,
          10961,
          10961,
          10961,
          10961,
          10961,
          10961,
          12580,
          12580,
          12580,
          12580,
          12580,
          12580,
          12580,
          12580,
          12580,
          12580,
          12580,
          12580,
          12580,
          5344,
          5344,
          5344,
          5344,
          5344,
          5344,
          5344,
          5344,
          5344,
          5344,
          5344,
          5344,
          5344,
          5344,
          7031,
          7031,
          7031,
          7031,
          7031,
          7031,
          9252,
          9252,
          9252,
          9252,
          9252,
          9252,
          15369,
          15369,
          15369,
          15369,
          15369,
          15369,
          15369,
          11854,
          11854,
          11854,
          11854,
          11854,
          11854,
          11854,
          11854,
          11854,
          11854,
          11854,
          6785,
          6785,
          6785,
          6785,
          6785,
          6785,
          6785,
          6785,
          6785,
          6785,
          6785,
          6785,
          6785,
          6785,
          6785,
          6785,
          6785,
          14793,
          8338,
          8338,
          8338,
          8338,
          8338,
          8338,
          8338,
          8338,
          5725,
          5725,
          5725,
          5725,
          5725,
          5725,
          5725,
          5725,
          5725,
          5725,
          17858,
          17858,
          12266,
          12266,
          12266,
          12266,
          12266,
          12266,
          12266,
          12266,
          12266,
          12266,
          12266,
          12266,
          12266,
          12266,
          12266,
          12266,
          12266,
          12266,
          12266,
          12266,
          12266,
          12266,
          12266,
          12266,
          9178,
          9178,
          9178,
          9178,
          9178,
          9178,
          9178,
          9178,
          9178,
          9178,
          9178,
          9178,
          9178,
          9178,
          9178,
          9178,
          9178,
          9178,
          9178,
          9178,
          8523,
          8523,
          8523,
          8523,
          8523,
          8523,
          8523,
          13136,
          13136,
          13136,
          13136,
          13136,
          13136,
          13136,
          14793,
          14793,
          14793,
          14793,
          14793,
          14793,
          14793,
          6063,
          6063,
          6063,
          6063,
          6063,
          6063,
          6063,
          8615,
          8615,
          7836,
          7836,
          7836,
          7836,
          7836,
          7836,
          7836,
          7836,
          15409,
          15409,
          15409,
          15409,
          15409,
          15409,
          15409,
          15409,
          15409,
          15409,
          15409,
          15409,
          15409,
          15409,
          15409,
          15409,
          12368,
          12368,
          12368,
          12368,
          12368,
          12368,
          12368,
          12368,
          12368,
          12368,
          4657,
          4657,
          4657,
          6817,
          6817,
          6817,
          6817,
          6817,
          6817,
          6817,
          6817,
          6817,
          6817,
          6817,
          6817,
          6817,
          5508,
          5508,
          5508,
          3542,
          3542,
          13136,
          11575,
          9543,
          9543,
          9543,
          9543,
          9543,
          9543,
          9543,
          9543,
          9543,
          9543,
          9543,
          9543,
          10204,
          10204,
          10204,
          10204,
          10204,
          10204,
          10204,
          10204,
          10204,
          8318,
          8318,
          8318,
          8318,
          8318,
          8318,
          8318,
          8318,
          8318,
          8318,
          8318,
          5794,
          5794,
          5794,
          5794,
          9323,
          9323,
          9323,
          7968,
          7968,
          7968,
          7968,
          7968,
          11514,
          11514,
          17814,
          17814,
          17814,
          17814,
          7909,
          7909,
          7909,
          7909,
          7909,
          11278,
          11278,
          11278,
          7909,
          7909,
          10209,
          10209,
          10209,
          10209,
          10209,
          10209,
          10209,
          10209,
          12089,
          12089,
          12089,
          12089,
          12089,
          12089,
          12089,
          12089,
          12089,
          12089,
          12089,
          12089,
          12089,
          12631,
          12089,
          12089,
          12089,
          12089,
          12089,
          12089,
          12089,
          12089,
          12089,
          12089,
          12089,
          12089,
          12089,
          12089,
          12089,
          12089,
          12089,
          12089,
          12089,
          8942,
          8942,
          8942,
          8942,
          8942,
          8942,
          8942,
          8942,
          8942,
          8942,
          8942,
          8942,
          8942,
          8942,
          8942,
          33554,
          8942,
          8942,
          8674,
          8674,
          8674,
          8674,
          8674,
          4987,
          4987,
          4987,
          4987,
          4987,
          4987,
          4987,
          4987,
          4987,
          4987,
          8294,
          8294,
          8294,
          8294,
          8294,
          8294,
          8294,
          8294,
          8294,
          8294,
          8294,
          8294,
          8294,
          14755,
          14755,
          14755,
          21131,
          21131,
          21131,
          21131,
          21131,
          21131,
          21131,
          21131,
          21131,
          21131,
          15274,
          15274,
          6057,
          6057,
          6057,
          6057,
          6057,
          6057,
          6057,
          6057,
          6057,
          6057,
          6057,
          3815,
          3815,
          3815,
          3815,
          3815,
          3815,
          3815,
          3815,
          3815,
          3815,
          3815,
          3815,
          3815,
          3815,
          3815,
          3815,
          3815,
          3815,
          3815,
          3815,
          3815,
          3815,
          10671,
          10671,
          10671,
          10671,
          10671,
          10671,
          11470,
          11470,
          11470,
          11470,
          11470,
          11470,
          11470,
          11470,
          11470,
          11470,
          11470,
          11470,
          11470,
          10671,
          10671,
          10671,
          10671,
          10671,
          10671,
          10671,
          10671,
          10671,
          1040,
          1040,
          6047,
          6047,
          6047,
          6047,
          6047,
          6047,
          6047,
          6047,
          6047,
          6047,
          6047,
          6047,
          6047,
          6047,
          6047,
          6047,
          6047,
          6047,
          6047,
          6047,
          6047,
          11246,
          11246,
          11246,
          11246,
          11246,
          11246,
          11246,
          11246,
          11246,
          11246,
          11246,
          11246,
          11246,
          11246,
          11246,
          11246,
          9986,
          9986,
          9986,
          9986,
          9986,
          9986,
          9986,
          9986,
          14639,
          9986,
          9986,
          9986,
          14639,
          5972,
          5972,
          5972,
          12559,
          12559,
          12559,
          12559,
          12559,
          12559,
          12559,
          12559,
          12559,
          12559,
          5705,
          5705,
          5705,
          5705,
          5705,
          5705,
          5705,
          5705,
          5705,
          5705,
          5705,
          5705,
          7719,
          7719,
          7719,
          7063,
          7063,
          7063,
          7063,
          7063,
          7063,
          7063,
          7063,
          7063,
          7063,
          7063,
          7063,
          7063,
          7063,
          7063,
          7063,
          7063,
          7063,
          7063,
          7063,
          7063,
          7063,
          7063,
          7063,
          7063,
          7063,
          7063,
          7063,
          7063,
          7063,
          7063,
          7063,
          10133,
          10133,
          10133,
          10133,
          10133,
          10133,
          10133,
          10133,
          10133,
          10133,
          10133,
          10133,
          10133,
          4922,
          4922,
          4922,
          4922,
          4922,
          4922,
          4922,
          4922,
          4922,
          4922,
          4922,
          4922,
          4922,
          4922,
          4922,
          4922,
          4922,
          4922,
          4922,
          4922,
          4922,
          4922,
          4922,
          4922,
          17573,
          17573,
          10622,
          14093,
          14093,
          14093,
          14093,
          6850,
          6850,
          6850,
          6850,
          6850,
          6850,
          6850,
          6850,
          6850,
          6850,
          6850,
          6850,
          2469,
          2469,
          2469,
          2469,
          2469,
          2469,
          2469,
          2469,
          2469,
          2469,
          2469,
          2469,
          2469,
          2469,
          2469,
          2469,
          2469,
          2469,
          2469,
          3730,
          3730,
          3730,
          3730,
          3730,
          3730,
          3730,
          3730,
          4575,
          4575,
          4575,
          4575,
          4575,
          4575,
          4575,
          4575,
          4575,
          4575,
          4575,
          4575,
          4575,
          4575,
          4575,
          7822,
          7822,
          7822,
          7822,
          7822,
          7822,
          7822,
          6003,
          6003,
          6003,
          6003,
          6003,
          6003,
          6003,
          6003,
          6003,
          6003,
          6003,
          6003,
          6003,
          6003,
          6003,
          6003,
          6003,
          6003,
          6003,
          6907,
          6907,
          6907,
          6907,
          6907,
          6907,
          6907,
          6907,
          6907,
          6907,
          6907,
          6907,
          6907,
          6907,
          6907,
          6907,
          6907,
          6907,
          6907,
          6907,
          6907,
          6907,
          6907,
          6907,
          6907,
          6907,
          6907,
          6907,
          6907,
          6907,
          6907,
          3527,
          3527,
          3527,
          3527,
          3527,
          3527,
          3527,
          3527,
          3527,
          3527,
          5293,
          5293,
          5293,
          9942,
          9942,
          9942,
          9942,
          9942,
          9942,
          9942,
          9942,
          9942,
          9942,
          9942,
          9942,
          9942,
          9942,
          9942,
          9942,
          9942,
          9942,
          9942,
          9942,
          9942,
          9942,
          9942,
          9942,
          9942,
          9942,
          9942,
          9942,
          9942,
          7377,
          7377,
          7377,
          7377,
          7377,
          7377,
          7377,
          7377,
          7377,
          4709,
          4709,
          4709,
          4709,
          4709,
          4709,
          4709,
          4709,
          4709,
          4709,
          4709,
          4709,
          4709,
          4709,
          4709,
          4709,
          4709,
          4709,
          4709,
          4709,
          4709,
          4709,
          4709,
          1216,
          11575,
          11092,
          9322,
          12631,
          12631,
          4241,
          2477,
          12631,
          9986,
          9986,
          9986,
          9986,
          9986,
          6047,
          4709,
          25447,
          15369,
          15369,
          15369,
          15369,
          15369,
          15369,
          15369,
          12368,
          12631,
          7909,
          7909,
          7909,
          7909,
          4987,
          10671,
          10671,
          11470,
          11470,
          10671,
          10671,
          10671,
          11246,
          11246,
          4922,
          6003,
          6707,
          10671,
          10671,
          4254,
          4254,
          4254,
          4254,
          4254,
          4254,
          4254,
          4254,
          4254,
          4254,
          6693,
          12631,
          6707,
          5972,
          5000,
          5000,
          7272,
          9178,
          33554,
          20536,
          20536,
          20536,
          20536,
          21131,
          21131,
          21131,
          21131,
          3075,
          3075,
          3075,
          6047,
          6047,
          10622,
          10622,
          3527,
          10836,
          10836,
          11037,
          9986,
          10622,
          6907,
          6907,
          6907,
          6907,
          6907,
          9986,
          13136,
          18761,
          18761,
          18761,
          18761,
          9541,
          7031,
          25447,
          15839,
          9670,
          11037,
          12266,
          8523,
          15409,
          8294,
          8294,
          14755,
          14755,
          5705,
          9942,
          12631,
          7968,
          8942,
          10671,
          4922,
          4922,
          6003,
          8523,
          13136,
          11277,
          18761,
          6907
         ],
         "xaxis": "x",
         "yaxis": "y"
        }
       ],
       "layout": {
        "bargap": 0.05,
        "barmode": "relative",
        "legend": {
         "tracegroupgap": 0
        },
        "template": {
         "data": {
          "bar": [
           {
            "error_x": {
             "color": "#2a3f5f"
            },
            "error_y": {
             "color": "#2a3f5f"
            },
            "marker": {
             "line": {
              "color": "#E5ECF6",
              "width": 0.5
             },
             "pattern": {
              "fillmode": "overlay",
              "size": 10,
              "solidity": 0.2
             }
            },
            "type": "bar"
           }
          ],
          "barpolar": [
           {
            "marker": {
             "line": {
              "color": "#E5ECF6",
              "width": 0.5
             },
             "pattern": {
              "fillmode": "overlay",
              "size": 10,
              "solidity": 0.2
             }
            },
            "type": "barpolar"
           }
          ],
          "carpet": [
           {
            "aaxis": {
             "endlinecolor": "#2a3f5f",
             "gridcolor": "white",
             "linecolor": "white",
             "minorgridcolor": "white",
             "startlinecolor": "#2a3f5f"
            },
            "baxis": {
             "endlinecolor": "#2a3f5f",
             "gridcolor": "white",
             "linecolor": "white",
             "minorgridcolor": "white",
             "startlinecolor": "#2a3f5f"
            },
            "type": "carpet"
           }
          ],
          "choropleth": [
           {
            "colorbar": {
             "outlinewidth": 0,
             "ticks": ""
            },
            "type": "choropleth"
           }
          ],
          "contour": [
           {
            "colorbar": {
             "outlinewidth": 0,
             "ticks": ""
            },
            "colorscale": [
             [
              0,
              "#0d0887"
             ],
             [
              0.1111111111111111,
              "#46039f"
             ],
             [
              0.2222222222222222,
              "#7201a8"
             ],
             [
              0.3333333333333333,
              "#9c179e"
             ],
             [
              0.4444444444444444,
              "#bd3786"
             ],
             [
              0.5555555555555556,
              "#d8576b"
             ],
             [
              0.6666666666666666,
              "#ed7953"
             ],
             [
              0.7777777777777778,
              "#fb9f3a"
             ],
             [
              0.8888888888888888,
              "#fdca26"
             ],
             [
              1,
              "#f0f921"
             ]
            ],
            "type": "contour"
           }
          ],
          "contourcarpet": [
           {
            "colorbar": {
             "outlinewidth": 0,
             "ticks": ""
            },
            "type": "contourcarpet"
           }
          ],
          "heatmap": [
           {
            "colorbar": {
             "outlinewidth": 0,
             "ticks": ""
            },
            "colorscale": [
             [
              0,
              "#0d0887"
             ],
             [
              0.1111111111111111,
              "#46039f"
             ],
             [
              0.2222222222222222,
              "#7201a8"
             ],
             [
              0.3333333333333333,
              "#9c179e"
             ],
             [
              0.4444444444444444,
              "#bd3786"
             ],
             [
              0.5555555555555556,
              "#d8576b"
             ],
             [
              0.6666666666666666,
              "#ed7953"
             ],
             [
              0.7777777777777778,
              "#fb9f3a"
             ],
             [
              0.8888888888888888,
              "#fdca26"
             ],
             [
              1,
              "#f0f921"
             ]
            ],
            "type": "heatmap"
           }
          ],
          "heatmapgl": [
           {
            "colorbar": {
             "outlinewidth": 0,
             "ticks": ""
            },
            "colorscale": [
             [
              0,
              "#0d0887"
             ],
             [
              0.1111111111111111,
              "#46039f"
             ],
             [
              0.2222222222222222,
              "#7201a8"
             ],
             [
              0.3333333333333333,
              "#9c179e"
             ],
             [
              0.4444444444444444,
              "#bd3786"
             ],
             [
              0.5555555555555556,
              "#d8576b"
             ],
             [
              0.6666666666666666,
              "#ed7953"
             ],
             [
              0.7777777777777778,
              "#fb9f3a"
             ],
             [
              0.8888888888888888,
              "#fdca26"
             ],
             [
              1,
              "#f0f921"
             ]
            ],
            "type": "heatmapgl"
           }
          ],
          "histogram": [
           {
            "marker": {
             "pattern": {
              "fillmode": "overlay",
              "size": 10,
              "solidity": 0.2
             }
            },
            "type": "histogram"
           }
          ],
          "histogram2d": [
           {
            "colorbar": {
             "outlinewidth": 0,
             "ticks": ""
            },
            "colorscale": [
             [
              0,
              "#0d0887"
             ],
             [
              0.1111111111111111,
              "#46039f"
             ],
             [
              0.2222222222222222,
              "#7201a8"
             ],
             [
              0.3333333333333333,
              "#9c179e"
             ],
             [
              0.4444444444444444,
              "#bd3786"
             ],
             [
              0.5555555555555556,
              "#d8576b"
             ],
             [
              0.6666666666666666,
              "#ed7953"
             ],
             [
              0.7777777777777778,
              "#fb9f3a"
             ],
             [
              0.8888888888888888,
              "#fdca26"
             ],
             [
              1,
              "#f0f921"
             ]
            ],
            "type": "histogram2d"
           }
          ],
          "histogram2dcontour": [
           {
            "colorbar": {
             "outlinewidth": 0,
             "ticks": ""
            },
            "colorscale": [
             [
              0,
              "#0d0887"
             ],
             [
              0.1111111111111111,
              "#46039f"
             ],
             [
              0.2222222222222222,
              "#7201a8"
             ],
             [
              0.3333333333333333,
              "#9c179e"
             ],
             [
              0.4444444444444444,
              "#bd3786"
             ],
             [
              0.5555555555555556,
              "#d8576b"
             ],
             [
              0.6666666666666666,
              "#ed7953"
             ],
             [
              0.7777777777777778,
              "#fb9f3a"
             ],
             [
              0.8888888888888888,
              "#fdca26"
             ],
             [
              1,
              "#f0f921"
             ]
            ],
            "type": "histogram2dcontour"
           }
          ],
          "mesh3d": [
           {
            "colorbar": {
             "outlinewidth": 0,
             "ticks": ""
            },
            "type": "mesh3d"
           }
          ],
          "parcoords": [
           {
            "line": {
             "colorbar": {
              "outlinewidth": 0,
              "ticks": ""
             }
            },
            "type": "parcoords"
           }
          ],
          "pie": [
           {
            "automargin": true,
            "type": "pie"
           }
          ],
          "scatter": [
           {
            "fillpattern": {
             "fillmode": "overlay",
             "size": 10,
             "solidity": 0.2
            },
            "type": "scatter"
           }
          ],
          "scatter3d": [
           {
            "line": {
             "colorbar": {
              "outlinewidth": 0,
              "ticks": ""
             }
            },
            "marker": {
             "colorbar": {
              "outlinewidth": 0,
              "ticks": ""
             }
            },
            "type": "scatter3d"
           }
          ],
          "scattercarpet": [
           {
            "marker": {
             "colorbar": {
              "outlinewidth": 0,
              "ticks": ""
             }
            },
            "type": "scattercarpet"
           }
          ],
          "scattergeo": [
           {
            "marker": {
             "colorbar": {
              "outlinewidth": 0,
              "ticks": ""
             }
            },
            "type": "scattergeo"
           }
          ],
          "scattergl": [
           {
            "marker": {
             "colorbar": {
              "outlinewidth": 0,
              "ticks": ""
             }
            },
            "type": "scattergl"
           }
          ],
          "scattermapbox": [
           {
            "marker": {
             "colorbar": {
              "outlinewidth": 0,
              "ticks": ""
             }
            },
            "type": "scattermapbox"
           }
          ],
          "scatterpolar": [
           {
            "marker": {
             "colorbar": {
              "outlinewidth": 0,
              "ticks": ""
             }
            },
            "type": "scatterpolar"
           }
          ],
          "scatterpolargl": [
           {
            "marker": {
             "colorbar": {
              "outlinewidth": 0,
              "ticks": ""
             }
            },
            "type": "scatterpolargl"
           }
          ],
          "scatterternary": [
           {
            "marker": {
             "colorbar": {
              "outlinewidth": 0,
              "ticks": ""
             }
            },
            "type": "scatterternary"
           }
          ],
          "surface": [
           {
            "colorbar": {
             "outlinewidth": 0,
             "ticks": ""
            },
            "colorscale": [
             [
              0,
              "#0d0887"
             ],
             [
              0.1111111111111111,
              "#46039f"
             ],
             [
              0.2222222222222222,
              "#7201a8"
             ],
             [
              0.3333333333333333,
              "#9c179e"
             ],
             [
              0.4444444444444444,
              "#bd3786"
             ],
             [
              0.5555555555555556,
              "#d8576b"
             ],
             [
              0.6666666666666666,
              "#ed7953"
             ],
             [
              0.7777777777777778,
              "#fb9f3a"
             ],
             [
              0.8888888888888888,
              "#fdca26"
             ],
             [
              1,
              "#f0f921"
             ]
            ],
            "type": "surface"
           }
          ],
          "table": [
           {
            "cells": {
             "fill": {
              "color": "#EBF0F8"
             },
             "line": {
              "color": "white"
             }
            },
            "header": {
             "fill": {
              "color": "#C8D4E3"
             },
             "line": {
              "color": "white"
             }
            },
            "type": "table"
           }
          ]
         },
         "layout": {
          "annotationdefaults": {
           "arrowcolor": "#2a3f5f",
           "arrowhead": 0,
           "arrowwidth": 1
          },
          "autotypenumbers": "strict",
          "coloraxis": {
           "colorbar": {
            "outlinewidth": 0,
            "ticks": ""
           }
          },
          "colorscale": {
           "diverging": [
            [
             0,
             "#8e0152"
            ],
            [
             0.1,
             "#c51b7d"
            ],
            [
             0.2,
             "#de77ae"
            ],
            [
             0.3,
             "#f1b6da"
            ],
            [
             0.4,
             "#fde0ef"
            ],
            [
             0.5,
             "#f7f7f7"
            ],
            [
             0.6,
             "#e6f5d0"
            ],
            [
             0.7,
             "#b8e186"
            ],
            [
             0.8,
             "#7fbc41"
            ],
            [
             0.9,
             "#4d9221"
            ],
            [
             1,
             "#276419"
            ]
           ],
           "sequential": [
            [
             0,
             "#0d0887"
            ],
            [
             0.1111111111111111,
             "#46039f"
            ],
            [
             0.2222222222222222,
             "#7201a8"
            ],
            [
             0.3333333333333333,
             "#9c179e"
            ],
            [
             0.4444444444444444,
             "#bd3786"
            ],
            [
             0.5555555555555556,
             "#d8576b"
            ],
            [
             0.6666666666666666,
             "#ed7953"
            ],
            [
             0.7777777777777778,
             "#fb9f3a"
            ],
            [
             0.8888888888888888,
             "#fdca26"
            ],
            [
             1,
             "#f0f921"
            ]
           ],
           "sequentialminus": [
            [
             0,
             "#0d0887"
            ],
            [
             0.1111111111111111,
             "#46039f"
            ],
            [
             0.2222222222222222,
             "#7201a8"
            ],
            [
             0.3333333333333333,
             "#9c179e"
            ],
            [
             0.4444444444444444,
             "#bd3786"
            ],
            [
             0.5555555555555556,
             "#d8576b"
            ],
            [
             0.6666666666666666,
             "#ed7953"
            ],
            [
             0.7777777777777778,
             "#fb9f3a"
            ],
            [
             0.8888888888888888,
             "#fdca26"
            ],
            [
             1,
             "#f0f921"
            ]
           ]
          },
          "colorway": [
           "#636efa",
           "#EF553B",
           "#00cc96",
           "#ab63fa",
           "#FFA15A",
           "#19d3f3",
           "#FF6692",
           "#B6E880",
           "#FF97FF",
           "#FECB52"
          ],
          "font": {
           "color": "#2a3f5f"
          },
          "geo": {
           "bgcolor": "white",
           "lakecolor": "white",
           "landcolor": "#E5ECF6",
           "showlakes": true,
           "showland": true,
           "subunitcolor": "white"
          },
          "hoverlabel": {
           "align": "left"
          },
          "hovermode": "closest",
          "mapbox": {
           "style": "light"
          },
          "paper_bgcolor": "white",
          "plot_bgcolor": "#E5ECF6",
          "polar": {
           "angularaxis": {
            "gridcolor": "white",
            "linecolor": "white",
            "ticks": ""
           },
           "bgcolor": "#E5ECF6",
           "radialaxis": {
            "gridcolor": "white",
            "linecolor": "white",
            "ticks": ""
           }
          },
          "scene": {
           "xaxis": {
            "backgroundcolor": "#E5ECF6",
            "gridcolor": "white",
            "gridwidth": 2,
            "linecolor": "white",
            "showbackground": true,
            "ticks": "",
            "zerolinecolor": "white"
           },
           "yaxis": {
            "backgroundcolor": "#E5ECF6",
            "gridcolor": "white",
            "gridwidth": 2,
            "linecolor": "white",
            "showbackground": true,
            "ticks": "",
            "zerolinecolor": "white"
           },
           "zaxis": {
            "backgroundcolor": "#E5ECF6",
            "gridcolor": "white",
            "gridwidth": 2,
            "linecolor": "white",
            "showbackground": true,
            "ticks": "",
            "zerolinecolor": "white"
           }
          },
          "shapedefaults": {
           "line": {
            "color": "#2a3f5f"
           }
          },
          "ternary": {
           "aaxis": {
            "gridcolor": "white",
            "linecolor": "white",
            "ticks": ""
           },
           "baxis": {
            "gridcolor": "white",
            "linecolor": "white",
            "ticks": ""
           },
           "bgcolor": "#E5ECF6",
           "caxis": {
            "gridcolor": "white",
            "linecolor": "white",
            "ticks": ""
           }
          },
          "title": {
           "x": 0.05
          },
          "xaxis": {
           "automargin": true,
           "gridcolor": "white",
           "linecolor": "white",
           "ticks": "",
           "title": {
            "standoff": 15
           },
           "zerolinecolor": "white",
           "zerolinewidth": 2
          },
          "yaxis": {
           "automargin": true,
           "gridcolor": "white",
           "linecolor": "white",
           "ticks": "",
           "title": {
            "standoff": 15
           },
           "zerolinecolor": "white",
           "zerolinewidth": 2
          }
         }
        },
        "title": {
         "text": "Distribution of Traffic Intensity"
        },
        "xaxis": {
         "anchor": "y",
         "domain": [
          0,
          1
         ],
         "dtick": 2236.9333333333334,
         "range": [
          0,
          33554
         ],
         "tick0": 0,
         "tickmode": "linear",
         "title": {
          "text": "Traffic Intensity"
         }
        },
        "yaxis": {
         "anchor": "x",
         "domain": [
          0,
          1
         ],
         "title": {
          "text": "Number of Bridges"
         }
        }
       }
      }
     },
     "metadata": {},
     "output_type": "display_data"
    }
   ],
   "source": [
    "import numpy as np\n",
    "\n",
    "# Calculate min and max\n",
    "min_inten = filtered_bridges_SSC['inten'].min()\n",
    "max_inten = filtered_bridges_SSC['inten'].max()\n",
    "\n",
    "inte = 15\n",
    "\n",
    "# Calculate range and bin width\n",
    "range_inten = max_inten - min_inten\n",
    "bin_width = range_inten / inte\n",
    "\n",
    "# Generate bin edges\n",
    "bin_edges = np.arange(min_inten, max_inten + bin_width, bin_width)\n",
    "\n",
    "# Use the 'histogram' function with manually defined bins\n",
    "fig = px.histogram(filtered_bridges_SSC, x=\"inten\",\n",
    "                   title=\"Distribution of Traffic Intensity\",\n",
    "                   nbins=inte,  # This will now act as a suggestion\n",
    "                   histnorm='percent',\n",
    "                   labels={'inten': 'Traffic Intensity'},\n",
    "                   range_x=[min_inten, max_inten])\n",
    "\n",
    "# Update the layout\n",
    "fig.update_layout(xaxis=dict(title='Traffic Intensity', tickmode='linear', tick0=min_inten, dtick=bin_width),\n",
    "                  yaxis_title=\"Number of Bridges\",\n",
    "                  bargap=0.05)  # Adjust the gap between bars if needed\n",
    "\n",
    "# Show the plot\n",
    "fig.show()"
   ]
  },
  {
   "cell_type": "code",
   "execution_count": 880,
   "metadata": {},
   "outputs": [
    {
     "name": "stdout",
     "output_type": "stream",
     "text": [
      "inten_bin\n",
      "1    276\n",
      "2    275\n",
      "0    273\n",
      "4    273\n",
      "3    267\n",
      "Name: count, dtype: int64\n",
      "             min    max\n",
      "inten_bin              \n",
      "0              0   5794\n",
      "1           5972   7909\n",
      "2           7968  10204\n",
      "3          10209  12580\n",
      "4          12631  33554\n"
     ]
    }
   ],
   "source": [
    "import pandas as pd\n",
    "\n",
    "# Use qcut to create 5 equally populated bins\n",
    "filtered_bridges_SSC['inten_bin'] = pd.qcut(\n",
    "    filtered_bridges_SSC['inten'], 5, labels=False)\n",
    "\n",
    "# Check the distribution of bins\n",
    "print(filtered_bridges_SSC['inten_bin'].value_counts())\n",
    "\n",
    "# Optional: To see the range of each bin\n",
    "print(filtered_bridges_SSC.groupby('inten_bin')['inten'].agg(['min', 'max']))"
   ]
  },
  {
   "cell_type": "code",
   "execution_count": 872,
   "metadata": {},
   "outputs": [
    {
     "data": {
      "text/plain": [
       "0       10110\n",
       "1       10110\n",
       "2       10110\n",
       "3        5755\n",
       "4        5755\n",
       "        ...  \n",
       "1359     8523\n",
       "1360    13136\n",
       "1361    11277\n",
       "1362    18761\n",
       "1363     6907\n",
       "Name: inten, Length: 1364, dtype: int32"
      ]
     },
     "execution_count": 872,
     "metadata": {},
     "output_type": "execute_result"
    }
   ],
   "source": [
    "filtered_bridges_SSC[\"inten\"]"
   ]
  }
 ],
 "metadata": {
  "kernelspec": {
   "display_name": "Python 3",
   "language": "python",
   "name": "python3"
  },
  "language_info": {
   "codemirror_mode": {
    "name": "ipython",
    "version": 3
   },
   "file_extension": ".py",
   "mimetype": "text/x-python",
   "name": "python",
   "nbconvert_exporter": "python",
   "pygments_lexer": "ipython3",
   "version": "3.11.4"
  }
 },
 "nbformat": 4,
 "nbformat_minor": 2
}
