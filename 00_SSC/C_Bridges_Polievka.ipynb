{
 "cells": [
  {
   "cell_type": "code",
   "execution_count": 41,
   "metadata": {},
   "outputs": [],
   "source": [
    "import pandas as pd\n",
    "\n",
    "\n",
    "# # Práca\n",
    "bridges_path = r\"C:\\Users\\relia\\Documents\\GitHub\\Bridges\\Data\\df_bridges_2024_all.csv\"\n",
    "SSC_path = r\"C:\\Users\\relia\\Documents\\GitHub\\Bridges\\Data\\SSC_zoznam.XLSX\"\n",
    "\n",
    "# Load the CSV data into a DataFrame\n",
    "df_bridges_all = pd.read_csv(bridges_path, encoding='utf-8', delimiter=',')\n",
    "df_SSC = pd.read_excel(SSC_path, sheet_name=0)"
   ]
  },
  {
   "cell_type": "code",
   "execution_count": 42,
   "metadata": {},
   "outputs": [],
   "source": [
    "# Assuming df_bridges_all is your DataFrame\n",
    "columns_to_convert = ['Zemepisná_dĺžka', 'Zemepisná_šírka', 'Výška', 'Normálna_zaťažiteľnosť',\n",
    "                      'Výhradná_zaťažiteľnosť_t', 'Výnimočná_zaťažiteľnosť_t', 'Počet_otvorov',\n",
    "                      'Dĺžka_nosnej_konštrukcie_m', 'Dĺžka_premostenia', 'Volná_šírka_mosta',\n",
    "                      'Šírka_medzi_obrubami_m', 'Plocha_mosnej_konštrukcie_m2', 'Plocha_mosta_m2']\n",
    "\n",
    "# Convert specified columns to float\n",
    "df_bridges_all[columns_to_convert] = df_bridges_all[columns_to_convert].apply(\n",
    "    pd.to_numeric, errors='coerce')\n",
    "\n",
    "# Convert Rok_postavenia to integer, assign NaN if not possible\n",
    "df_bridges_all['Rok_postavenia'] = pd.to_numeric(\n",
    "    df_bridges_all['Rok_postavenia'], errors='coerce')\n",
    "\n",
    "\n",
    "# df_bridges_all.columns"
   ]
  },
  {
   "cell_type": "code",
   "execution_count": 43,
   "metadata": {},
   "outputs": [],
   "source": [
    "# Filter rows where 'Správca_úseku' contains 'SSC'\n",
    "df_filtered_SSC = df_bridges_all[df_bridges_all[\"Správca_úseku\"].str.contains(\n",
    "    \"SSC\", na=False)]"
   ]
  },
  {
   "cell_type": "code",
   "execution_count": 44,
   "metadata": {},
   "outputs": [
    {
     "data": {
      "text/plain": [
       "Index(['ID_mosta', 'Trieda_PK', 'Číslo_PK', 'Názov_mosta', 'správcovské_číslo',\n",
       "       'Zemepisná_šírka', 'Zemepisná_dĺžka', 'Výška', 'Druh_konštrukcie',\n",
       "       'Material', 'Normálna_zaťažiteľnosť', 'Výhradná_zaťažiteľnosť_t',\n",
       "       'Výnimočná_zaťažiteľnosť_t', 'Spôsob_stanovenia', 'Predmet_premostenia',\n",
       "       'Rok_postavenia', 'Zaťažovacia_trieda_STN', 'Počet_otvorov',\n",
       "       'Dĺžka_premostenia', 'Dĺžka_nosnej_konštrukcie_m', 'Volná_šírka_mosta',\n",
       "       'Šírka_medzi_obrubami_m', 'Plocha_mosnej_konštrukcie_m2',\n",
       "       'Plocha_mosta_m2', 'Vlastník_úseku', 'Správca_úseku', 'Okres',\n",
       "       'Počiatočný_uzol', 'Koncový_uzol', 'úsek_ID', 'Kraj', 'n_2012',\n",
       "       'n_2013', 'n_2014', 'n_2015', 'n_2016', 'n_2017', 'n_2018', 'n_2019',\n",
       "       'n_2020', 'n_2021', 'n_2022', 'n_2023', 'n_2024'],\n",
       "      dtype='object')"
      ]
     },
     "execution_count": 44,
     "metadata": {},
     "output_type": "execute_result"
    }
   ],
   "source": [
    "df_filtered_SSC.columns"
   ]
  },
  {
   "cell_type": "code",
   "execution_count": 45,
   "metadata": {},
   "outputs": [
    {
     "data": {
      "text/plain": [
       "array(['SSC - IVSC BA', 'SSC - IVSC ZA', 'SSC - IVSC BB', 'SSC - IVSC KE'],\n",
       "      dtype=object)"
      ]
     },
     "execution_count": 45,
     "metadata": {},
     "output_type": "execute_result"
    }
   ],
   "source": [
    "df_filtered_SSC[\"Správca_úseku\"].unique()"
   ]
  },
  {
   "cell_type": "code",
   "execution_count": 46,
   "metadata": {},
   "outputs": [
    {
     "data": {
      "text/plain": [
       "(1805, 44)"
      ]
     },
     "execution_count": 46,
     "metadata": {},
     "output_type": "execute_result"
    }
   ],
   "source": [
    "df_filtered_SSC.shape"
   ]
  },
  {
   "cell_type": "code",
   "execution_count": 47,
   "metadata": {},
   "outputs": [
    {
     "data": {
      "text/plain": [
       "(0        M5897\n",
       " 1        M1979\n",
       " 2        M6525\n",
       " 3        M4584\n",
       " 4        M3053\n",
       "          ...  \n",
       " 8138     M5432\n",
       " 8139     M7273\n",
       " 8140     M1872\n",
       " 8221    M10217\n",
       " 8222    M10218\n",
       " Name: ID_mosta, Length: 1805, dtype: object,\n",
       " 0        M660\n",
       " 1       M1218\n",
       " 2       M1576\n",
       " 3       M1704\n",
       " 4       M2619\n",
       "         ...  \n",
       " 1115    M9577\n",
       " 1116    M9610\n",
       " 1117    M9671\n",
       " 1118    M9673\n",
       " 1119    M9683\n",
       " Name: IDM, Length: 1120, dtype: object)"
      ]
     },
     "execution_count": 47,
     "metadata": {},
     "output_type": "execute_result"
    }
   ],
   "source": [
    "df_filtered_SSC[\"ID_mosta\"], df_SSC[\"IDM\"]"
   ]
  },
  {
   "cell_type": "code",
   "execution_count": 48,
   "metadata": {},
   "outputs": [
    {
     "name": "stdout",
     "output_type": "stream",
     "text": [
      "Number of matching IDs: 1110\n"
     ]
    }
   ],
   "source": [
    "# Check how many values in df_SSC[\"IDM\"] are present in df_filtered_SSC[\"ID_mosta\"]\n",
    "matching_ids = df_SSC[\"IDM\"].isin(df_filtered_SSC[\"ID_mosta\"])\n",
    "\n",
    "# Count the number of matching IDs\n",
    "num_matching_ids = matching_ids.sum()\n",
    "\n",
    "# Display the result\n",
    "print(f\"Number of matching IDs: {num_matching_ids}\")"
   ]
  },
  {
   "cell_type": "code",
   "execution_count": 49,
   "metadata": {},
   "outputs": [
    {
     "data": {
      "text/plain": [
       "685"
      ]
     },
     "execution_count": 49,
     "metadata": {},
     "output_type": "execute_result"
    }
   ],
   "source": [
    "df_filtered_SSC.shape[0] - df_SSC.shape[0]"
   ]
  },
  {
   "cell_type": "code",
   "execution_count": 50,
   "metadata": {},
   "outputs": [],
   "source": [
    "# Filter out rows from df_filtered_SSC where 'ID_mosta' matches 'IDM' in df_SSC\n",
    "df_remaining_bridges = df_filtered_SSC[~df_filtered_SSC[\"ID_mosta\"].isin(\n",
    "    df_SSC[\"IDM\"])]"
   ]
  },
  {
   "cell_type": "code",
   "execution_count": 51,
   "metadata": {},
   "outputs": [
    {
     "data": {
      "text/plain": [
       "Index(['ID_mosta', 'Trieda_PK', 'Číslo_PK', 'Názov_mosta', 'správcovské_číslo',\n",
       "       'Zemepisná_šírka', 'Zemepisná_dĺžka', 'Výška', 'Druh_konštrukcie',\n",
       "       'Material', 'Normálna_zaťažiteľnosť', 'Výhradná_zaťažiteľnosť_t',\n",
       "       'Výnimočná_zaťažiteľnosť_t', 'Spôsob_stanovenia', 'Predmet_premostenia',\n",
       "       'Rok_postavenia', 'Zaťažovacia_trieda_STN', 'Počet_otvorov',\n",
       "       'Dĺžka_premostenia', 'Dĺžka_nosnej_konštrukcie_m', 'Volná_šírka_mosta',\n",
       "       'Šírka_medzi_obrubami_m', 'Plocha_mosnej_konštrukcie_m2',\n",
       "       'Plocha_mosta_m2', 'Vlastník_úseku', 'Správca_úseku', 'Okres',\n",
       "       'Počiatočný_uzol', 'Koncový_uzol', 'úsek_ID', 'Kraj', 'n_2012',\n",
       "       'n_2013', 'n_2014', 'n_2015', 'n_2016', 'n_2017', 'n_2018', 'n_2019',\n",
       "       'n_2020', 'n_2021', 'n_2022', 'n_2023', 'n_2024'],\n",
       "      dtype='object')"
      ]
     },
     "execution_count": 51,
     "metadata": {},
     "output_type": "execute_result"
    }
   ],
   "source": [
    "df_remaining_bridges.columns"
   ]
  },
  {
   "cell_type": "code",
   "execution_count": 52,
   "metadata": {},
   "outputs": [
    {
     "data": {
      "text/plain": [
       "3         3.70\n",
       "18       32.60\n",
       "47        6.00\n",
       "62        9.12\n",
       "68       33.71\n",
       "         ...  \n",
       "8138      2.90\n",
       "8139      1.97\n",
       "8140      3.10\n",
       "8221    208.24\n",
       "8222      5.00\n",
       "Name: Dĺžka_premostenia, Length: 695, dtype: float64"
      ]
     },
     "execution_count": 52,
     "metadata": {},
     "output_type": "execute_result"
    }
   ],
   "source": [
    "df_remaining_bridges[\"Dĺžka_premostenia\"]"
   ]
  },
  {
   "cell_type": "code",
   "execution_count": 53,
   "metadata": {},
   "outputs": [
    {
     "data": {
      "text/plain": [
       "n_2024\n",
       "3    236\n",
       "2    140\n",
       "4    104\n",
       "5     90\n",
       "1     73\n",
       "6     43\n",
       "7      8\n",
       "0      1\n",
       "Name: count, dtype: int64"
      ]
     },
     "execution_count": 53,
     "metadata": {},
     "output_type": "execute_result"
    }
   ],
   "source": [
    "df_remaining_bridges[\"n_2024\"].value_counts()"
   ]
  },
  {
   "cell_type": "code",
   "execution_count": 57,
   "metadata": {},
   "outputs": [
    {
     "data": {
      "text/html": [
       "<div>\n",
       "<style scoped>\n",
       "    .dataframe tbody tr th:only-of-type {\n",
       "        vertical-align: middle;\n",
       "    }\n",
       "\n",
       "    .dataframe tbody tr th {\n",
       "        vertical-align: top;\n",
       "    }\n",
       "\n",
       "    .dataframe thead th {\n",
       "        text-align: right;\n",
       "    }\n",
       "</style>\n",
       "<table border=\"1\" class=\"dataframe\">\n",
       "  <thead>\n",
       "    <tr style=\"text-align: right;\">\n",
       "      <th></th>\n",
       "      <th>ID_mosta</th>\n",
       "      <th>n_2024</th>\n",
       "      <th>Dĺžka_premostenia</th>\n",
       "      <th>Material</th>\n",
       "    </tr>\n",
       "  </thead>\n",
       "  <tbody>\n",
       "    <tr>\n",
       "      <th>417</th>\n",
       "      <td>M3535</td>\n",
       "      <td>7</td>\n",
       "      <td>106.600</td>\n",
       "      <td>monolitický predpätý betón</td>\n",
       "    </tr>\n",
       "    <tr>\n",
       "      <th>132</th>\n",
       "      <td>M2950</td>\n",
       "      <td>7</td>\n",
       "      <td>15.970</td>\n",
       "      <td>prefabrikovaný predpätý betón</td>\n",
       "    </tr>\n",
       "    <tr>\n",
       "      <th>1283</th>\n",
       "      <td>M1638</td>\n",
       "      <td>7</td>\n",
       "      <td>15.000</td>\n",
       "      <td>monolitický železobetón</td>\n",
       "    </tr>\n",
       "    <tr>\n",
       "      <th>737</th>\n",
       "      <td>M6077</td>\n",
       "      <td>7</td>\n",
       "      <td>13.250</td>\n",
       "      <td>prefabrikovaný predpätý betón</td>\n",
       "    </tr>\n",
       "    <tr>\n",
       "      <th>1629</th>\n",
       "      <td>M485</td>\n",
       "      <td>7</td>\n",
       "      <td>13.250</td>\n",
       "      <td>prefabrikovaný predpätý betón</td>\n",
       "    </tr>\n",
       "    <tr>\n",
       "      <th>...</th>\n",
       "      <td>...</td>\n",
       "      <td>...</td>\n",
       "      <td>...</td>\n",
       "      <td>...</td>\n",
       "    </tr>\n",
       "    <tr>\n",
       "      <th>8115</th>\n",
       "      <td>M10157</td>\n",
       "      <td>1</td>\n",
       "      <td>2.660</td>\n",
       "      <td>oceľobetón</td>\n",
       "    </tr>\n",
       "    <tr>\n",
       "      <th>237</th>\n",
       "      <td>M3047</td>\n",
       "      <td>1</td>\n",
       "      <td>2.500</td>\n",
       "      <td>monolitický železobetón</td>\n",
       "    </tr>\n",
       "    <tr>\n",
       "      <th>94</th>\n",
       "      <td>M2321</td>\n",
       "      <td>1</td>\n",
       "      <td>2.317</td>\n",
       "      <td>oceľ -  plnostenná</td>\n",
       "    </tr>\n",
       "    <tr>\n",
       "      <th>8139</th>\n",
       "      <td>M7273</td>\n",
       "      <td>1</td>\n",
       "      <td>1.970</td>\n",
       "      <td>oceľ -  plnostenná</td>\n",
       "    </tr>\n",
       "    <tr>\n",
       "      <th>659</th>\n",
       "      <td>M4084</td>\n",
       "      <td>0</td>\n",
       "      <td>2.050</td>\n",
       "      <td>monolitický železobetón</td>\n",
       "    </tr>\n",
       "  </tbody>\n",
       "</table>\n",
       "<p>695 rows × 4 columns</p>\n",
       "</div>"
      ],
      "text/plain": [
       "     ID_mosta  n_2024  Dĺžka_premostenia                       Material\n",
       "417     M3535       7            106.600     monolitický predpätý betón\n",
       "132     M2950       7             15.970  prefabrikovaný predpätý betón\n",
       "1283    M1638       7             15.000        monolitický železobetón\n",
       "737     M6077       7             13.250  prefabrikovaný predpätý betón\n",
       "1629     M485       7             13.250  prefabrikovaný predpätý betón\n",
       "...       ...     ...                ...                            ...\n",
       "8115   M10157       1              2.660                     oceľobetón\n",
       "237     M3047       1              2.500        monolitický železobetón\n",
       "94      M2321       1              2.317             oceľ -  plnostenná\n",
       "8139    M7273       1              1.970             oceľ -  plnostenná\n",
       "659     M4084       0              2.050        monolitický železobetón\n",
       "\n",
       "[695 rows x 4 columns]"
      ]
     },
     "execution_count": 57,
     "metadata": {},
     "output_type": "execute_result"
    }
   ],
   "source": [
    "# Sort by 'n_2024' first and then by 'Dĺžka_premostenia' within each category\n",
    "df_sorted = df_remaining_bridges.sort_values(\n",
    "    by=[\"n_2024\", \"Dĺžka_premostenia\"], ascending=[False, False])\n",
    "\n",
    "df_sorted[[\"ID_mosta\", \"n_2024\", \"Dĺžka_premostenia\", \"Material\"]]"
   ]
  },
  {
   "cell_type": "code",
   "execution_count": 58,
   "metadata": {},
   "outputs": [],
   "source": [
    "df_sorted.to_csv(\"sorted.csv\", index=False, encoding='utf-8')"
   ]
  }
 ],
 "metadata": {
  "kernelspec": {
   "display_name": "Python 3",
   "language": "python",
   "name": "python3"
  },
  "language_info": {
   "codemirror_mode": {
    "name": "ipython",
    "version": 3
   },
   "file_extension": ".py",
   "mimetype": "text/x-python",
   "name": "python",
   "nbconvert_exporter": "python",
   "pygments_lexer": "ipython3",
   "version": "3.12.0"
  }
 },
 "nbformat": 4,
 "nbformat_minor": 2
}
