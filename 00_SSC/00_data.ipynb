{
 "cells": [
  {
   "cell_type": "code",
   "execution_count": 1,
   "metadata": {},
   "outputs": [
    {
     "name": "stderr",
     "output_type": "stream",
     "text": [
      "C:\\Users\\Doktor\\AppData\\Local\\Temp\\ipykernel_18692\\4094816067.py:21: DtypeWarning: Columns (5,16) have mixed types. Specify dtype option on import or set low_memory=False.\n",
      "  df_nodes = pd.read_csv(nodes_path, encoding='utf-8', delimiter=',')\n",
      "C:\\Users\\Doktor\\AppData\\Local\\Temp\\ipykernel_18692\\4094816067.py:22: DtypeWarning: Columns (10,11,12,25,26,27) have mixed types. Specify dtype option on import or set low_memory=False.\n",
      "  df_roads = pd.read_csv(roads_path, encoding='utf-8', delimiter=',')\n"
     ]
    }
   ],
   "source": [
    "import pandas as pd\n",
    "\n",
    "# DOMA\n",
    "# Define the file path\n",
    "nodes_path = r\"C:\\Users\\Doktor\\Documents\\GitHub\\Bridges\\Data\\Nodes_processed.csv\"\n",
    "roads_path = r\"C:\\Users\\Doktor\\Documents\\GitHub\\Bridges\\Data\\Roads_processed.csv\"\n",
    "bridges_path = r\"C:\\Users\\Doktor\\Documents\\GitHub\\Bridges\\Data\\Bridges_processed.csv\"\n",
    "bridges_selected_path = r\"C:\\Users\\Doktor\\Documents\\GitHub\\Bridges\\Data\\Bridges_selected.csv\"\n",
    "survey_path = r\"C:\\Users\\Doktor\\Documents\\GitHub\\Bridges\\Data\\surveys\\Survey.csv\"\n",
    "\n",
    "\n",
    "# # Práca\n",
    "# # Define the file path\n",
    "# nodes_path = r\"C:\\Users\\relia\\Documents\\GitHub\\Bridges\\Data\\Nodes_processed.csv\"\n",
    "# roads_path = r\"C:\\Users\\relia\\Documents\\GitHub\\Bridges\\Data\\Roads_processed.csv\"\n",
    "# bridges_path = r\"C:\\Users\\relia\\Documents\\GitHub\\Bridges\\Data\\Bridges_processed.csv\"\n",
    "# bridges_selected_path = r\"C:\\Users\\relia\\Documents\\GitHub\\Bridges\\Data\\Bridges_selected.csv\"\n",
    "# survey_path = r\"C:\\Users\\relia\\Documents\\GitHub\\Bridges\\Data\\surveys\\Survey.csv\"\n",
    "\n",
    "# Load the CSV data into a DataFrame\n",
    "df_nodes = pd.read_csv(nodes_path, encoding='utf-8', delimiter=',')\n",
    "df_roads = pd.read_csv(roads_path, encoding='utf-8', delimiter=',')\n",
    "df_bridges_all = pd.read_csv(bridges_path, encoding='utf-8', delimiter=',')\n",
    "df_bridges_sel = pd.read_csv(\n",
    "    bridges_selected_path, encoding='utf-8', delimiter=',')\n",
    "df_survey = pd.read_csv(survey_path, encoding='utf-8', delimiter=',')"
   ]
  },
  {
   "cell_type": "code",
   "execution_count": 2,
   "metadata": {},
   "outputs": [
    {
     "data": {
      "text/plain": [
       "Index(['ID_mosta', 'Trieda_PK', 'Číslo_PK', 'Most_DC', 'Názov_mosta', 'ID_DC',\n",
       "       'správcovské_číslo', 'Zemepisná_dĺžka', 'Zemepisná_šírka', 'Výška',\n",
       "       'Druh_konštrukcie', 'Material', 'Normálna_zaťažiteľnosť',\n",
       "       'Výhradná_zaťažiteľnosť_t', 'Výnimočná_zaťažiteľnosť_t',\n",
       "       'Spôsob_stanovenia', 'Predmet_premostenia', 'Rok_postavenia',\n",
       "       'Zaťažovacia_trieda_STN', 'Počet_otvorov', 'Dĺžka_premostenia',\n",
       "       'Dĺžka_nosnej_konštrukcie_m', 'Volná_šírka_mosta',\n",
       "       'Šírka_medzi_obrubami_m', 'Plocha_mosnej_konštrukcie_m2',\n",
       "       'Plocha_mosta_m2', 'Vlastník_úseku', 'Správca_úseku', 'Okres',\n",
       "       'Smer_úseku', 'Typ_úseku', 'Počiatočný_uzol', 'Koncový_uzol', 'úsek_ID',\n",
       "       'úsekové_staničenie_začiatku_DC_m',\n",
       "       'Kilometrovníkové_staničenie_začiatku_DC_km',\n",
       "       'Kumulatívne_staničenie_začiatku_DC_km', 'Poradie', 'Kraj', 'n_2012',\n",
       "       'n_2013', 'n_2014', 'n_2015', 'n_2016', 'n_2017', 'n_2018', 'n_2019',\n",
       "       'n_2020', 'n_2021', 'n_2022', 'n_2023'],\n",
       "      dtype='object')"
      ]
     },
     "execution_count": 2,
     "metadata": {},
     "output_type": "execute_result"
    }
   ],
   "source": [
    "# Assuming df_bridges_all is your DataFrame\n",
    "columns_to_convert = ['Zemepisná_dĺžka', 'Zemepisná_šírka', 'Výška', 'Normálna_zaťažiteľnosť',\n",
    "                      'Výhradná_zaťažiteľnosť_t', 'Výnimočná_zaťažiteľnosť_t', 'Počet_otvorov',\n",
    "                      'Dĺžka_nosnej_konštrukcie_m', 'Dĺžka_premostenia', 'Volná_šírka_mosta',\n",
    "                      'Šírka_medzi_obrubami_m', 'Plocha_mosnej_konštrukcie_m2', 'Plocha_mosta_m2']\n",
    "\n",
    "# Convert specified columns to float\n",
    "df_bridges_all[columns_to_convert] = df_bridges_all[columns_to_convert].apply(\n",
    "    pd.to_numeric, errors='coerce')\n",
    "\n",
    "# Convert Rok_postavenia to integer, assign NaN if not possible\n",
    "df_bridges_all['Rok_postavenia'] = pd.to_numeric(\n",
    "    df_bridges_all['Rok_postavenia'], errors='coerce')\n",
    "\n",
    "\n",
    "df_bridges_all.columns"
   ]
  },
  {
   "cell_type": "code",
   "execution_count": 3,
   "metadata": {},
   "outputs": [
    {
     "data": {
      "text/plain": [
       "(1928, 51)"
      ]
     },
     "execution_count": 3,
     "metadata": {},
     "output_type": "execute_result"
    }
   ],
   "source": [
    "# Filter bridges in the Nitra region with Trieda_PK as \"cesta I. triedy\" or \"cesta II. triedy\"\n",
    "filtered_bridges = df_bridges_all[\n",
    "    (df_bridges_all['Trieda_PK'] == \"cesta I. triedy\")\n",
    "    \n",
    "]\n",
    "\n",
    "# Display the filtered DataFrame\n",
    "filtered_bridges.shape"
   ]
  },
  {
   "cell_type": "code",
   "execution_count": 4,
   "metadata": {},
   "outputs": [
    {
     "data": {
      "text/plain": [
       "Správca_úseku\n",
       "SSC - IVSC ZA    569\n",
       "SSC - IVSC KE    514\n",
       "SSC - IVSC BB    422\n",
       "SSC - IVSC BA    274\n",
       "NDS - SSUR KE     42\n",
       "MAG-BA            39\n",
       "NDS - SSUR CA     27\n",
       "NDS - SSUD TN     12\n",
       "NDS - SSUD PB      6\n",
       "NDS - SSUD PO      5\n",
       "NDS - SSUD BE      4\n",
       "CU                 4\n",
       "NDS - SSUR ZV      3\n",
       "NDS - SSUR GA      2\n",
       "HE                 2\n",
       "SUC PSK - PP       2\n",
       "NDS - SSUD LM      1\n",
       "Name: count, dtype: int64"
      ]
     },
     "execution_count": 4,
     "metadata": {},
     "output_type": "execute_result"
    }
   ],
   "source": [
    "filtered_bridges[\"Správca_úseku\"].value_counts()"
   ]
  },
  {
   "cell_type": "code",
   "execution_count": 5,
   "metadata": {},
   "outputs": [
    {
     "data": {
      "text/plain": [
       "(575, 51)"
      ]
     },
     "execution_count": 5,
     "metadata": {},
     "output_type": "execute_result"
    }
   ],
   "source": [
    "# Filter bridges in the Nitra region with Trieda_PK as \"cesta I. triedy\" or \"cesta II. triedy\"\n",
    "filtered_bridges_ZA = df_bridges_all[\n",
    "    (df_bridges_all['Správca_úseku'] == \"SSC - IVSC ZA\") &\n",
    "    (df_bridges_all['n_2023'] > 0) &\n",
    "    (df_bridges_all['ID_mosta'] != \"Nezistený\")\n",
    "]\n",
    "filtered_bridges_ZA.to_excel('filtered_bridges_ZA.xlsx', index=False)\n",
    "# Display the filtered DataFrame\n",
    "filtered_bridges_ZA.shape"
   ]
  },
  {
   "cell_type": "code",
   "execution_count": 6,
   "metadata": {},
   "outputs": [
    {
     "data": {
      "text/plain": [
       "(516, 51)"
      ]
     },
     "execution_count": 6,
     "metadata": {},
     "output_type": "execute_result"
    }
   ],
   "source": [
    "# Filter bridges in the Nitra region with Trieda_PK as \"cesta I. triedy\" or \"cesta II. triedy\"\n",
    "filtered_bridges_KE = df_bridges_all[\n",
    "    (df_bridges_all['Správca_úseku'] == \"SSC - IVSC KE\") &\n",
    "    (df_bridges_all['n_2023'] > 0) &\n",
    "    (df_bridges_all['ID_mosta'] != \"Nezistený\")\n",
    "]\n",
    "filtered_bridges_KE.to_excel('filtered_bridges_KE.xlsx', index=False)\n",
    "# Display the filtered DataFrame\n",
    "filtered_bridges_KE.shape"
   ]
  },
  {
   "cell_type": "code",
   "execution_count": 7,
   "metadata": {},
   "outputs": [
    {
     "data": {
      "text/plain": [
       "(273, 51)"
      ]
     },
     "execution_count": 7,
     "metadata": {},
     "output_type": "execute_result"
    }
   ],
   "source": [
    "# Filter bridges in the Nitra region with Trieda_PK as \"cesta I. triedy\" or \"cesta II. triedy\"\n",
    "filtered_bridges_BA = df_bridges_all[\n",
    "    (df_bridges_all['Správca_úseku'] == \"SSC - IVSC BA\") &\n",
    "    (df_bridges_all['n_2023'] > 0) &\n",
    "    (df_bridges_all['ID_mosta'] != \"Nezistený\")\n",
    "]\n",
    "filtered_bridges_BA.to_excel('filtered_bridges_BA.xlsx', index=False)\n",
    "# Display the filtered DataFrame\n",
    "filtered_bridges_BA.shape"
   ]
  },
  {
   "cell_type": "code",
   "execution_count": 8,
   "metadata": {},
   "outputs": [
    {
     "data": {
      "text/plain": [
       "(424, 51)"
      ]
     },
     "execution_count": 8,
     "metadata": {},
     "output_type": "execute_result"
    }
   ],
   "source": [
    "# Filter bridges in the Nitra region with Trieda_PK as \"cesta I. triedy\" or \"cesta II. triedy\"\n",
    "filtered_bridges_BB = df_bridges_all[\n",
    "    (df_bridges_all['Správca_úseku'] == \"SSC - IVSC BB\") &\n",
    "    (df_bridges_all['n_2023'] > 0) &\n",
    "    (df_bridges_all['ID_mosta'] != \"Nezistený\")\n",
    "]\n",
    "# filtered_bridges_ZA.to_excel('filtered_bridges_ZA.xlsx', index=False)\n",
    "# Display the filtered DataFrame\n",
    "filtered_bridges_BB.shape"
   ]
  },
  {
   "cell_type": "code",
   "execution_count": 9,
   "metadata": {},
   "outputs": [
    {
     "data": {
      "text/plain": [
       "(1364, 51)"
      ]
     },
     "execution_count": 9,
     "metadata": {},
     "output_type": "execute_result"
    }
   ],
   "source": [
    "# Filter bridges in the Nitra region with Trieda_PK as \"cesta I. triedy\" or \"cesta II. triedy\"\n",
    "filtered_bridges_SSC = df_bridges_all[\n",
    "    ((df_bridges_all['Správca_úseku'] == \"SSC - IVSC ZA\") |\n",
    "    (df_bridges_all['Správca_úseku'] == \"SSC - IVSC KE\") |\n",
    "    (df_bridges_all['Správca_úseku'] == \"SSC - IVSC BA\")) &\n",
    "    (df_bridges_all['n_2023'] > 0) &\n",
    "    (df_bridges_all['ID_mosta'] != \"Nezistený\")\n",
    "].copy()\n",
    "filtered_bridges_SSC.to_excel('filtered_bridges_SSC.xlsx', index=False)\n",
    "# Display the filtered DataFrame\n",
    "filtered_bridges_SSC.shape"
   ]
  },
  {
   "cell_type": "code",
   "execution_count": 10,
   "metadata": {},
   "outputs": [],
   "source": [
    "\n",
    "# Assuming filtered_bridges_SSC is your DataFrame\n",
    "filtered_bridges_SSC.loc[:, 'F_y'] = filtered_bridges_SSC['Rok_postavenia'].apply(lambda x:\n",
    "                                                                                  5 if x <= 1965\n",
    "                                                                                  else (4 if 1965 < x <= 1975\n",
    "                                                                                        else (3 if 1976 < x <= 1985\n",
    "                                                                                              else (2 if 1986 < x <= 1996\n",
    "                                                                                                    else 1))))\n"
   ]
  },
  {
   "cell_type": "code",
   "execution_count": 11,
   "metadata": {},
   "outputs": [],
   "source": [
    "# Define a function to scale the values\n",
    "def scale_condition(value):\n",
    "    # Map the original values from 1-7 to the new range 1-10\n",
    "    scaled_value = ((value - 1) * (10 - 1) / (7 - 1)) + 1\n",
    "    return scaled_value\n",
    "\n",
    "\n",
    "# Create a new column [F_c] based on scaled values\n",
    "filtered_bridges_SSC.loc[:, 'F_c'] = filtered_bridges_SSC['n_2023'].apply(\n",
    "    scale_condition)\n",
    "\n",
    "filtered_bridges_SSC.loc[:, 'F_v'] = filtered_bridges_SSC['n_2023'].apply(\n",
    "    scale_condition)"
   ]
  },
  {
   "cell_type": "code",
   "execution_count": 12,
   "metadata": {},
   "outputs": [
    {
     "data": {
      "text/plain": [
       "Material\n",
       "monolitický železobetón          3254\n",
       "prefabrikovaný železobetón       1924\n",
       "prefabrikovaný predpätý betón    1712\n",
       "monolitický predpätý betón        394\n",
       "Nezistený                         316\n",
       "oceľ -  plnostenná                263\n",
       "monolitický prostý betón          230\n",
       "kameň                             193\n",
       "spriahnutá betón-betón             78\n",
       "iný materiál                       37\n",
       "spriahnutá oceľ-betón              30\n",
       "oceľobetón                         29\n",
       "tehla                              25\n",
       "oceľ -  priehradová                17\n",
       "Name: count, dtype: int64"
      ]
     },
     "execution_count": 12,
     "metadata": {},
     "output_type": "execute_result"
    }
   ],
   "source": [
    "df_bridges_all[\"Material\"].value_counts()"
   ]
  },
  {
   "cell_type": "code",
   "execution_count": 13,
   "metadata": {},
   "outputs": [
    {
     "data": {
      "text/plain": [
       "14"
      ]
     },
     "execution_count": 13,
     "metadata": {},
     "output_type": "execute_result"
    }
   ],
   "source": [
    "len(df_bridges_all[\"Material\"].value_counts().keys())"
   ]
  },
  {
   "cell_type": "code",
   "execution_count": 15,
   "metadata": {},
   "outputs": [],
   "source": [
    "# Define a dictionary mapping materials to their corresponding values\n",
    "material_mapping = {\n",
    "    'prefabrikovaný predpätý betón': 11,\n",
    "    'monolitický predpätý betón': 9,\n",
    "    'monolitický železobetón': 7,\n",
    "    'prefabrikovaný železobetón': 7,\n",
    "    'monolitický prostý betón': 7,\n",
    "    'spriahnutá betón-betón': 5,\n",
    "    'spriahnutá oceľ-betón': 5,\n",
    "    'oceľ -  plnostenná': 4,\n",
    "    'oceľ -  priehradová': 4,\n",
    "    'oceľobetón': 7,\n",
    "    'tehla': 2,\n",
    "    'kameň': 2,\n",
    "    'Nezistený': 6,\n",
    "    'iný materiál': 6\n",
    "}\n",
    "\n",
    "# Create a new column [F_f] based on the mapped values\n",
    "filtered_bridges_SSC['F_f'] = filtered_bridges_SSC['Material'].map(\n",
    "    material_mapping)"
   ]
  },
  {
   "cell_type": "code",
   "execution_count": 16,
   "metadata": {},
   "outputs": [
    {
     "data": {
      "text/plain": [
       "Index(['monolitický železobetón', 'prefabrikovaný predpätý betón',\n",
       "       'prefabrikovaný železobetón', 'monolitický prostý betón',\n",
       "       'monolitický predpätý betón', 'oceľ -  plnostenná', 'kameň',\n",
       "       'spriahnutá betón-betón', 'Nezistený', 'iný materiál',\n",
       "       'oceľ -  priehradová', 'spriahnutá oceľ-betón', 'oceľobetón', 'tehla'],\n",
       "      dtype='object', name='Material')"
      ]
     },
     "execution_count": 16,
     "metadata": {},
     "output_type": "execute_result"
    }
   ],
   "source": [
    "filtered_bridges_SSC[\"Material\"].value_counts().keys()"
   ]
  },
  {
   "cell_type": "code",
   "execution_count": 17,
   "metadata": {},
   "outputs": [
    {
     "data": {
      "text/plain": [
       "Material\n",
       "monolitický železobetón          554\n",
       "prefabrikovaný predpätý betón    319\n",
       "prefabrikovaný železobetón       276\n",
       "monolitický prostý betón          64\n",
       "monolitický predpätý betón        63\n",
       "oceľ -  plnostenná                32\n",
       "kameň                             20\n",
       "spriahnutá betón-betón            13\n",
       "Nezistený                          9\n",
       "iný materiál                       3\n",
       "oceľ -  priehradová                3\n",
       "spriahnutá oceľ-betón              3\n",
       "oceľobetón                         3\n",
       "tehla                              2\n",
       "Name: count, dtype: int64"
      ]
     },
     "execution_count": 17,
     "metadata": {},
     "output_type": "execute_result"
    }
   ],
   "source": [
    "filtered_bridges_SSC[\"Material\"].value_counts()"
   ]
  },
  {
   "cell_type": "code",
   "execution_count": 18,
   "metadata": {},
   "outputs": [
    {
     "data": {
      "text/plain": [
       "{'prefabrikovaný predpätý betón': 11,\n",
       " 'monolitický predpätý betón': 9,\n",
       " 'monolitický železobetón': 7,\n",
       " 'prefabrikovaný železobetón': 7,\n",
       " 'monolitický prostý betón': 7,\n",
       " 'spriahnutá betón-betón': 5,\n",
       " 'spriahnutá oceľ-betón': 5,\n",
       " 'oceľ -  plnostenná': 4,\n",
       " 'oceľ -  priehradová': 4,\n",
       " 'oceľobetón': 7,\n",
       " 'tehla': 2,\n",
       " 'kameň': 2,\n",
       " 'Nezistený': 6,\n",
       " 'iný materiál': 6}"
      ]
     },
     "execution_count": 18,
     "metadata": {},
     "output_type": "execute_result"
    }
   ],
   "source": [
    "material_mapping"
   ]
  },
  {
   "cell_type": "code",
   "execution_count": 19,
   "metadata": {},
   "outputs": [
    {
     "data": {
      "text/plain": [
       "F_f\n",
       "7     897\n",
       "11    319\n",
       "9      63\n",
       "4      35\n",
       "2      22\n",
       "5      16\n",
       "6      12\n",
       "Name: count, dtype: int64"
      ]
     },
     "execution_count": 19,
     "metadata": {},
     "output_type": "execute_result"
    }
   ],
   "source": [
    "filtered_bridges_SSC['F_f'].value_counts()"
   ]
  },
  {
   "cell_type": "code",
   "execution_count": 20,
   "metadata": {},
   "outputs": [],
   "source": [
    "# Define a dictionary mapping 'Druh_konštrukcie' values to their corresponding values\n",
    "construction_mapping = {\n",
    "    'dosková': 0,\n",
    "    'trámová': 1,\n",
    "    'klenbová': 0,\n",
    "    'rámová': 0,\n",
    "    'oblúková': 0,\n",
    "    'Nezistený': 1,\n",
    "    'iná': 1,\n",
    "    'priehradová': 0,\n",
    "    'zavesená': 0\n",
    "}\n",
    "\n",
    "# Update the values in the 'F_f' column based on the mapped values from 'Druh_konštrukcie'\n",
    "filtered_bridges_SSC['F_f'] += filtered_bridges_SSC['Druh_konštrukcie'].map(\n",
    "    construction_mapping)"
   ]
  },
  {
   "cell_type": "code",
   "execution_count": 21,
   "metadata": {},
   "outputs": [
    {
     "data": {
      "text/plain": [
       "Druh_konštrukcie\n",
       "dosková        769\n",
       "trámová        375\n",
       "klenbová       127\n",
       "rámová          65\n",
       "oblúková        11\n",
       "Nezistený       10\n",
       "iná              3\n",
       "priehradová      3\n",
       "zavesená         1\n",
       "Name: count, dtype: int64"
      ]
     },
     "execution_count": 21,
     "metadata": {},
     "output_type": "execute_result"
    }
   ],
   "source": [
    "filtered_bridges_SSC[\"Druh_konštrukcie\"].value_counts()"
   ]
  },
  {
   "cell_type": "code",
   "execution_count": 22,
   "metadata": {},
   "outputs": [
    {
     "data": {
      "text/plain": [
       "F_f\n",
       "7     764\n",
       "12    170\n",
       "11    149\n",
       "8     143\n",
       "10     50\n",
       "4      28\n",
       "2      22\n",
       "5      15\n",
       "9      13\n",
       "6      10\n",
       "Name: count, dtype: int64"
      ]
     },
     "execution_count": 22,
     "metadata": {},
     "output_type": "execute_result"
    }
   ],
   "source": [
    "filtered_bridges_SSC['F_f'].value_counts()"
   ]
  },
  {
   "cell_type": "code",
   "execution_count": 23,
   "metadata": {},
   "outputs": [],
   "source": [
    "# Split the values in the \"Predmet_premostenia\" column into lists\n",
    "filtered_bridges_SSC[\"Predmet_premostenia\"] = filtered_bridges_SSC[\"Predmet_premostenia\"].str.split(\n",
    "    \",  \")"
   ]
  },
  {
   "cell_type": "code",
   "execution_count": 24,
   "metadata": {},
   "outputs": [],
   "source": [
    "# Define the classification key as a dictionary\n",
    "classification_key = {\n",
    "    \"Vodný tok\": 1,\n",
    "    \"Železnica\": 5,\n",
    "    \"Kanál\": 2,\n",
    "    \"Cestná komunikácia\": 4,\n",
    "    \"Miestna komunikácia\": 3,\n",
    "    \"Účelová komunikácia\": 2,\n",
    "    \"Záplavové územie\": 1,\n",
    "    \"Nezistený\": 3,\n",
    "    \"Iná prekážka\": 3,\n",
    "    \"Podchod pre chodcov\": 3,\n",
    "    \"Údolie\": 2,\n",
    "    \"Vodná nádrž\": 1\n",
    "}\n",
    "\n",
    "# Mapping function to get the highest value for each item\n",
    "\n",
    "\n",
    "def get_highest_value(item):\n",
    "    # Evaluate the list from string representation if necessary\n",
    "    # Remove the brackets and split by comma if item is a string representation of a list\n",
    "    if isinstance(item, str):\n",
    "        item = item.strip(\"[]\").split(\", \")\n",
    "    # Replace category names in the list with their corresponding values\n",
    "    values = [classification_key.get(\n",
    "        category.strip(\"[]'\\\"\"), 0) for category in item]\n",
    "    # Return the highest value found\n",
    "    return max(values)\n",
    "\n",
    "\n",
    "# Apply the mapping function to each item in the column and create a new column [\"F_q\"]\n",
    "filtered_bridges_SSC[\"F_q\"] = filtered_bridges_SSC[\"Predmet_premostenia\"].apply(\n",
    "    get_highest_value)"
   ]
  },
  {
   "cell_type": "code",
   "execution_count": 25,
   "metadata": {},
   "outputs": [
    {
     "data": {
      "text/plain": [
       "F_q\n",
       "1    998\n",
       "2    131\n",
       "5    107\n",
       "3     72\n",
       "4     56\n",
       "Name: count, dtype: int64"
      ]
     },
     "execution_count": 25,
     "metadata": {},
     "output_type": "execute_result"
    }
   ],
   "source": [
    "filtered_bridges_SSC[\"F_q\"].value_counts()"
   ]
  },
  {
   "cell_type": "code",
   "execution_count": 26,
   "metadata": {},
   "outputs": [],
   "source": [
    "# Computing the new column R using the given formula\n",
    "filtered_bridges_SSC['R'] = ((((4 * filtered_bridges_SSC['F_y'] + filtered_bridges_SSC['F_f'] +\n",
    "                                filtered_bridges_SSC['F_f'] + filtered_bridges_SSC['F_c']) *\n",
    "                               filtered_bridges_SSC['F_q']) - 6) / 254) * 100"
   ]
  },
  {
   "cell_type": "code",
   "execution_count": 27,
   "metadata": {},
   "outputs": [],
   "source": [
    "filtered_bridges_SSC_sorted_asc = filtered_bridges_SSC.sort_values(\n",
    "    by='R', ascending=False)"
   ]
  },
  {
   "cell_type": "code",
   "execution_count": 28,
   "metadata": {},
   "outputs": [
    {
     "data": {
      "text/html": [
       "<div>\n",
       "<style scoped>\n",
       "    .dataframe tbody tr th:only-of-type {\n",
       "        vertical-align: middle;\n",
       "    }\n",
       "\n",
       "    .dataframe tbody tr th {\n",
       "        vertical-align: top;\n",
       "    }\n",
       "\n",
       "    .dataframe thead th {\n",
       "        text-align: right;\n",
       "    }\n",
       "</style>\n",
       "<table border=\"1\" class=\"dataframe\">\n",
       "  <thead>\n",
       "    <tr style=\"text-align: right;\">\n",
       "      <th></th>\n",
       "      <th>ID_mosta</th>\n",
       "      <th>Názov_mosta</th>\n",
       "      <th>Material</th>\n",
       "      <th>Dĺžka_premostenia</th>\n",
       "      <th>Druh_konštrukcie</th>\n",
       "      <th>Predmet_premostenia</th>\n",
       "      <th>n_2023</th>\n",
       "      <th>F_q</th>\n",
       "      <th>R</th>\n",
       "    </tr>\n",
       "  </thead>\n",
       "  <tbody>\n",
       "    <tr>\n",
       "      <th>954</th>\n",
       "      <td>M2437</td>\n",
       "      <td>62_013 Nadjazd nad žel. traťou Galanta-Leopold...</td>\n",
       "      <td>prefabrikovaný predpätý betón</td>\n",
       "      <td>39.75</td>\n",
       "      <td>dosková</td>\n",
       "      <td>[Železnica]</td>\n",
       "      <td>7</td>\n",
       "      <td>5</td>\n",
       "      <td>100.000000</td>\n",
       "    </tr>\n",
       "    <tr>\n",
       "      <th>217</th>\n",
       "      <td>M1268</td>\n",
       "      <td>18_293 Most ponad vlečku, Martin-Priekopa</td>\n",
       "      <td>prefabrikovaný predpätý betón</td>\n",
       "      <td>55.90</td>\n",
       "      <td>dosková</td>\n",
       "      <td>[Železnica]</td>\n",
       "      <td>6</td>\n",
       "      <td>5</td>\n",
       "      <td>97.047244</td>\n",
       "    </tr>\n",
       "    <tr>\n",
       "      <th>215</th>\n",
       "      <td>M3285</td>\n",
       "      <td>18_291 Most nad železnicou v k.ú. obce Priekopa</td>\n",
       "      <td>prefabrikovaný predpätý betón</td>\n",
       "      <td>34.15</td>\n",
       "      <td>dosková</td>\n",
       "      <td>[Železnica]</td>\n",
       "      <td>6</td>\n",
       "      <td>5</td>\n",
       "      <td>97.047244</td>\n",
       "    </tr>\n",
       "    <tr>\n",
       "      <th>1696</th>\n",
       "      <td>M6730</td>\n",
       "      <td>77_015 Most nad železnicou za obcou Nižné Ružb...</td>\n",
       "      <td>prefabrikovaný predpätý betón</td>\n",
       "      <td>10.00</td>\n",
       "      <td>trámová</td>\n",
       "      <td>[Železnica]</td>\n",
       "      <td>4</td>\n",
       "      <td>5</td>\n",
       "      <td>95.078740</td>\n",
       "    </tr>\n",
       "    <tr>\n",
       "      <th>293</th>\n",
       "      <td>M4815</td>\n",
       "      <td>18_390 Most cez železničnú trať, k.ú. Poprad</td>\n",
       "      <td>prefabrikovaný predpätý betón</td>\n",
       "      <td>116.80</td>\n",
       "      <td>dosková</td>\n",
       "      <td>[Železnica]</td>\n",
       "      <td>7</td>\n",
       "      <td>5</td>\n",
       "      <td>92.125984</td>\n",
       "    </tr>\n",
       "    <tr>\n",
       "      <th>1031</th>\n",
       "      <td>M6016</td>\n",
       "      <td>64_066 Most cez železničnú trať v meste Prievidza</td>\n",
       "      <td>prefabrikovaný predpätý betón</td>\n",
       "      <td>238.00</td>\n",
       "      <td>trámová</td>\n",
       "      <td>[Železnica]</td>\n",
       "      <td>5</td>\n",
       "      <td>5</td>\n",
       "      <td>90.157480</td>\n",
       "    </tr>\n",
       "    <tr>\n",
       "      <th>655</th>\n",
       "      <td>M6701</td>\n",
       "      <td>51_062 Most nad železnicou v obci Holíč</td>\n",
       "      <td>prefabrikovaný predpätý betón</td>\n",
       "      <td>93.00</td>\n",
       "      <td>trámová</td>\n",
       "      <td>[Železnica]</td>\n",
       "      <td>5</td>\n",
       "      <td>5</td>\n",
       "      <td>90.157480</td>\n",
       "    </tr>\n",
       "    <tr>\n",
       "      <th>694</th>\n",
       "      <td>M7344</td>\n",
       "      <td>51_146 Most nad železnicou v meste Levice</td>\n",
       "      <td>prefabrikovaný predpätý betón</td>\n",
       "      <td>251.00</td>\n",
       "      <td>trámová</td>\n",
       "      <td>[Železnica]</td>\n",
       "      <td>2</td>\n",
       "      <td>5</td>\n",
       "      <td>89.173228</td>\n",
       "    </tr>\n",
       "    <tr>\n",
       "      <th>987</th>\n",
       "      <td>M5997</td>\n",
       "      <td>64_005 Most nad železnicou Komárno - Nové Zámky</td>\n",
       "      <td>prefabrikovaný predpätý betón</td>\n",
       "      <td>70.00</td>\n",
       "      <td>trámová</td>\n",
       "      <td>[Železnica]</td>\n",
       "      <td>4</td>\n",
       "      <td>5</td>\n",
       "      <td>87.204724</td>\n",
       "    </tr>\n",
       "    <tr>\n",
       "      <th>633</th>\n",
       "      <td>M3479</td>\n",
       "      <td>50_359 Most nad železnicou v Michalovciach</td>\n",
       "      <td>prefabrikovaný predpätý betón</td>\n",
       "      <td>292.30</td>\n",
       "      <td>trámová</td>\n",
       "      <td>[Železnica]</td>\n",
       "      <td>4</td>\n",
       "      <td>5</td>\n",
       "      <td>87.204724</td>\n",
       "    </tr>\n",
       "    <tr>\n",
       "      <th>943</th>\n",
       "      <td>M1556</td>\n",
       "      <td>62_002 Most nad železnicou, k.ú. Senec</td>\n",
       "      <td>prefabrikovaný predpätý betón</td>\n",
       "      <td>47.00</td>\n",
       "      <td>dosková</td>\n",
       "      <td>[Železnica]</td>\n",
       "      <td>5</td>\n",
       "      <td>5</td>\n",
       "      <td>86.220472</td>\n",
       "    </tr>\n",
       "    <tr>\n",
       "      <th>1085</th>\n",
       "      <td>M665</td>\n",
       "      <td>65_020 Most nad železnicou pri Zlatých Moravciach</td>\n",
       "      <td>prefabrikovaný predpätý betón</td>\n",
       "      <td>40.75</td>\n",
       "      <td>dosková</td>\n",
       "      <td>[Železnica]</td>\n",
       "      <td>5</td>\n",
       "      <td>5</td>\n",
       "      <td>86.220472</td>\n",
       "    </tr>\n",
       "    <tr>\n",
       "      <th>383</th>\n",
       "      <td>M209</td>\n",
       "      <td>18_502 Most nad železničnou traťou, k.ú. Strážske</td>\n",
       "      <td>monolitický železobetón</td>\n",
       "      <td>31.00</td>\n",
       "      <td>trámová</td>\n",
       "      <td>[Železnica]</td>\n",
       "      <td>6</td>\n",
       "      <td>5</td>\n",
       "      <td>85.236220</td>\n",
       "    </tr>\n",
       "    <tr>\n",
       "      <th>972</th>\n",
       "      <td>M3483</td>\n",
       "      <td>63_023B Most nad železnicou a MK, Estakáda v K...</td>\n",
       "      <td>prefabrikovaný predpätý betón</td>\n",
       "      <td>240.28</td>\n",
       "      <td>trámová</td>\n",
       "      <td>[Železnica]</td>\n",
       "      <td>6</td>\n",
       "      <td>5</td>\n",
       "      <td>85.236220</td>\n",
       "    </tr>\n",
       "    <tr>\n",
       "      <th>343</th>\n",
       "      <td>M4059</td>\n",
       "      <td>18_449 Most nad železnicou a cestou v obci Šar...</td>\n",
       "      <td>prefabrikovaný predpätý betón</td>\n",
       "      <td>237.80</td>\n",
       "      <td>trámová</td>\n",
       "      <td>[Železnica]</td>\n",
       "      <td>6</td>\n",
       "      <td>5</td>\n",
       "      <td>85.236220</td>\n",
       "    </tr>\n",
       "    <tr>\n",
       "      <th>971</th>\n",
       "      <td>M1368</td>\n",
       "      <td>63_023A Most nad železnicou a MK, Estakáda v K...</td>\n",
       "      <td>prefabrikovaný predpätý betón</td>\n",
       "      <td>232.11</td>\n",
       "      <td>trámová</td>\n",
       "      <td>[Železnica]</td>\n",
       "      <td>6</td>\n",
       "      <td>5</td>\n",
       "      <td>85.236220</td>\n",
       "    </tr>\n",
       "    <tr>\n",
       "      <th>444</th>\n",
       "      <td>M6476</td>\n",
       "      <td>50_090 Most nad železničnou traťou, k.ú. Mních...</td>\n",
       "      <td>prefabrikovaný predpätý betón</td>\n",
       "      <td>72.15</td>\n",
       "      <td>trámová</td>\n",
       "      <td>[Železnica]</td>\n",
       "      <td>3</td>\n",
       "      <td>5</td>\n",
       "      <td>84.251969</td>\n",
       "    </tr>\n",
       "    <tr>\n",
       "      <th>1694</th>\n",
       "      <td>M1218</td>\n",
       "      <td>77_012 Most nad železničnou traťou za obcou Po...</td>\n",
       "      <td>monolitický železobetón</td>\n",
       "      <td>8.20</td>\n",
       "      <td>klenbová</td>\n",
       "      <td>[Železnica]</td>\n",
       "      <td>7</td>\n",
       "      <td>5</td>\n",
       "      <td>84.251969</td>\n",
       "    </tr>\n",
       "    <tr>\n",
       "      <th>921</th>\n",
       "      <td>M985</td>\n",
       "      <td>61_080 Most cez železničnú trať, k.ú. Hloža - ...</td>\n",
       "      <td>prefabrikovaný predpätý betón</td>\n",
       "      <td>42.60</td>\n",
       "      <td>trámová</td>\n",
       "      <td>[Železnica]</td>\n",
       "      <td>3</td>\n",
       "      <td>5</td>\n",
       "      <td>84.251969</td>\n",
       "    </tr>\n",
       "    <tr>\n",
       "      <th>2</th>\n",
       "      <td>M6525</td>\n",
       "      <td>02_004 Most nad železnicou Praha - Bratislava ...</td>\n",
       "      <td>prefabrikovaný predpätý betón</td>\n",
       "      <td>40.00</td>\n",
       "      <td>dosková</td>\n",
       "      <td>[Železnica]</td>\n",
       "      <td>4</td>\n",
       "      <td>5</td>\n",
       "      <td>83.267717</td>\n",
       "    </tr>\n",
       "    <tr>\n",
       "      <th>947</th>\n",
       "      <td>M6983</td>\n",
       "      <td>62_006 Most nad železnicou, k.ú. Sládkovičovo</td>\n",
       "      <td>prefabrikovaný predpätý betón</td>\n",
       "      <td>49.50</td>\n",
       "      <td>dosková</td>\n",
       "      <td>[Železnica]</td>\n",
       "      <td>4</td>\n",
       "      <td>5</td>\n",
       "      <td>83.267717</td>\n",
       "    </tr>\n",
       "    <tr>\n",
       "      <th>1425</th>\n",
       "      <td>M5987</td>\n",
       "      <td>70_001 Most nad železnicou a MK, k.ú. Kraľovany</td>\n",
       "      <td>prefabrikovaný predpätý betón</td>\n",
       "      <td>48.39</td>\n",
       "      <td>dosková</td>\n",
       "      <td>[Železnica, Miestna komunikácia]</td>\n",
       "      <td>4</td>\n",
       "      <td>5</td>\n",
       "      <td>83.267717</td>\n",
       "    </tr>\n",
       "    <tr>\n",
       "      <th>914</th>\n",
       "      <td>M2079</td>\n",
       "      <td>61_070 Most nad odstránenou železničnou vlečko...</td>\n",
       "      <td>prefabrikovaný železobetón</td>\n",
       "      <td>7.90</td>\n",
       "      <td>trámová</td>\n",
       "      <td>[Železnica]</td>\n",
       "      <td>5</td>\n",
       "      <td>5</td>\n",
       "      <td>82.283465</td>\n",
       "    </tr>\n",
       "    <tr>\n",
       "      <th>74</th>\n",
       "      <td>M4757</td>\n",
       "      <td>11_235 Most nad železnicou a MK v obci Budatín</td>\n",
       "      <td>monolitický predpätý betón</td>\n",
       "      <td>63.80</td>\n",
       "      <td>trámová</td>\n",
       "      <td>[Železnica]</td>\n",
       "      <td>2</td>\n",
       "      <td>5</td>\n",
       "      <td>81.299213</td>\n",
       "    </tr>\n",
       "    <tr>\n",
       "      <th>912</th>\n",
       "      <td>M3992</td>\n",
       "      <td>61_068 Most cez odstránenú železničnú vlečku z...</td>\n",
       "      <td>monolitický železobetón</td>\n",
       "      <td>7.70</td>\n",
       "      <td>dosková</td>\n",
       "      <td>[Železnica]</td>\n",
       "      <td>6</td>\n",
       "      <td>5</td>\n",
       "      <td>81.299213</td>\n",
       "    </tr>\n",
       "    <tr>\n",
       "      <th>756</th>\n",
       "      <td>M4440</td>\n",
       "      <td>57_113 Most nad železnicou v obci Horné Srnie</td>\n",
       "      <td>monolitický železobetón</td>\n",
       "      <td>12.90</td>\n",
       "      <td>dosková</td>\n",
       "      <td>[Železnica]</td>\n",
       "      <td>6</td>\n",
       "      <td>5</td>\n",
       "      <td>81.299213</td>\n",
       "    </tr>\n",
       "    <tr>\n",
       "      <th>1807</th>\n",
       "      <td>M6028</td>\n",
       "      <td>79_021 Most cez železničnú trať a miestnu komu...</td>\n",
       "      <td>prefabrikovaný predpätý betón</td>\n",
       "      <td>91.76</td>\n",
       "      <td>trámová</td>\n",
       "      <td>[Železnica]</td>\n",
       "      <td>7</td>\n",
       "      <td>5</td>\n",
       "      <td>80.314961</td>\n",
       "    </tr>\n",
       "    <tr>\n",
       "      <th>1433</th>\n",
       "      <td>M5733</td>\n",
       "      <td>70_017 Most nad železnicou v meste Dolný Kubín...</td>\n",
       "      <td>prefabrikovaný predpätý betón</td>\n",
       "      <td>49.20</td>\n",
       "      <td>dosková</td>\n",
       "      <td>[Železnica, Účelová komunikácia]</td>\n",
       "      <td>3</td>\n",
       "      <td>5</td>\n",
       "      <td>80.314961</td>\n",
       "    </tr>\n",
       "    <tr>\n",
       "      <th>268</th>\n",
       "      <td>M5589</td>\n",
       "      <td>18_360 Most nad železnicou v Liptovskom Hrádku</td>\n",
       "      <td>monolitický železobetón</td>\n",
       "      <td>73.75</td>\n",
       "      <td>trámová</td>\n",
       "      <td>[Železnica, Miestna komunikácia]</td>\n",
       "      <td>4</td>\n",
       "      <td>5</td>\n",
       "      <td>79.330709</td>\n",
       "    </tr>\n",
       "    <tr>\n",
       "      <th>82</th>\n",
       "      <td>M5802</td>\n",
       "      <td>11_238 Most nad železnicou v Žiline</td>\n",
       "      <td>prefabrikovaný predpätý betón</td>\n",
       "      <td>236.00</td>\n",
       "      <td>trámová</td>\n",
       "      <td>[Železnica]</td>\n",
       "      <td>4</td>\n",
       "      <td>5</td>\n",
       "      <td>79.330709</td>\n",
       "    </tr>\n",
       "    <tr>\n",
       "      <th>381</th>\n",
       "      <td>M5482</td>\n",
       "      <td>18_500 Most nad železnicou pred obcou Strážske</td>\n",
       "      <td>monolitický železobetón</td>\n",
       "      <td>10.96</td>\n",
       "      <td>trámová</td>\n",
       "      <td>[Železnica]</td>\n",
       "      <td>4</td>\n",
       "      <td>5</td>\n",
       "      <td>79.330709</td>\n",
       "    </tr>\n",
       "    <tr>\n",
       "      <th>379</th>\n",
       "      <td>M1422</td>\n",
       "      <td>18_499 Most cez železnicu za obcou Nižný Hrabovec</td>\n",
       "      <td>monolitický železobetón</td>\n",
       "      <td>10.60</td>\n",
       "      <td>trámová</td>\n",
       "      <td>[Železnica]</td>\n",
       "      <td>4</td>\n",
       "      <td>5</td>\n",
       "      <td>79.330709</td>\n",
       "    </tr>\n",
       "    <tr>\n",
       "      <th>1549</th>\n",
       "      <td>M3113</td>\n",
       "      <td>74_005 Most nad železničnou traťou, k.ú. Humenné</td>\n",
       "      <td>prefabrikovaný predpätý betón</td>\n",
       "      <td>310.90</td>\n",
       "      <td>trámová</td>\n",
       "      <td>[Železnica]</td>\n",
       "      <td>4</td>\n",
       "      <td>5</td>\n",
       "      <td>79.330709</td>\n",
       "    </tr>\n",
       "    <tr>\n",
       "      <th>356</th>\n",
       "      <td>M6859</td>\n",
       "      <td>18-468 Most nad železničnou traťou za obcou Či...</td>\n",
       "      <td>monolitický železobetón</td>\n",
       "      <td>10.45</td>\n",
       "      <td>trámová</td>\n",
       "      <td>[Železnica]</td>\n",
       "      <td>4</td>\n",
       "      <td>5</td>\n",
       "      <td>79.330709</td>\n",
       "    </tr>\n",
       "    <tr>\n",
       "      <th>934</th>\n",
       "      <td>M1885</td>\n",
       "      <td>61_098 Galéria Vrtižer, nad železnicou a terénom</td>\n",
       "      <td>prefabrikovaný predpätý betón</td>\n",
       "      <td>163.67</td>\n",
       "      <td>dosková</td>\n",
       "      <td>[Železnica]</td>\n",
       "      <td>5</td>\n",
       "      <td>5</td>\n",
       "      <td>78.346457</td>\n",
       "    </tr>\n",
       "  </tbody>\n",
       "</table>\n",
       "</div>"
      ],
      "text/plain": [
       "     ID_mosta                                        Názov_mosta  \\\n",
       "954     M2437  62_013 Nadjazd nad žel. traťou Galanta-Leopold...   \n",
       "217     M1268          18_293 Most ponad vlečku, Martin-Priekopa   \n",
       "215     M3285    18_291 Most nad železnicou v k.ú. obce Priekopa   \n",
       "1696    M6730  77_015 Most nad železnicou za obcou Nižné Ružb...   \n",
       "293     M4815       18_390 Most cez železničnú trať, k.ú. Poprad   \n",
       "1031    M6016  64_066 Most cez železničnú trať v meste Prievidza   \n",
       "655     M6701            51_062 Most nad železnicou v obci Holíč   \n",
       "694     M7344          51_146 Most nad železnicou v meste Levice   \n",
       "987     M5997    64_005 Most nad železnicou Komárno - Nové Zámky   \n",
       "633     M3479         50_359 Most nad železnicou v Michalovciach   \n",
       "943     M1556             62_002 Most nad železnicou, k.ú. Senec   \n",
       "1085     M665  65_020 Most nad železnicou pri Zlatých Moravciach   \n",
       "383      M209  18_502 Most nad železničnou traťou, k.ú. Strážske   \n",
       "972     M3483  63_023B Most nad železnicou a MK, Estakáda v K...   \n",
       "343     M4059  18_449 Most nad železnicou a cestou v obci Šar...   \n",
       "971     M1368  63_023A Most nad železnicou a MK, Estakáda v K...   \n",
       "444     M6476  50_090 Most nad železničnou traťou, k.ú. Mních...   \n",
       "1694    M1218  77_012 Most nad železničnou traťou za obcou Po...   \n",
       "921      M985  61_080 Most cez železničnú trať, k.ú. Hloža - ...   \n",
       "2       M6525  02_004 Most nad železnicou Praha - Bratislava ...   \n",
       "947     M6983      62_006 Most nad železnicou, k.ú. Sládkovičovo   \n",
       "1425    M5987    70_001 Most nad železnicou a MK, k.ú. Kraľovany   \n",
       "914     M2079  61_070 Most nad odstránenou železničnou vlečko...   \n",
       "74      M4757     11_235 Most nad železnicou a MK v obci Budatín   \n",
       "912     M3992  61_068 Most cez odstránenú železničnú vlečku z...   \n",
       "756     M4440      57_113 Most nad železnicou v obci Horné Srnie   \n",
       "1807    M6028  79_021 Most cez železničnú trať a miestnu komu...   \n",
       "1433    M5733  70_017 Most nad železnicou v meste Dolný Kubín...   \n",
       "268     M5589     18_360 Most nad železnicou v Liptovskom Hrádku   \n",
       "82      M5802                11_238 Most nad železnicou v Žiline   \n",
       "381     M5482     18_500 Most nad železnicou pred obcou Strážske   \n",
       "379     M1422  18_499 Most cez železnicu za obcou Nižný Hrabovec   \n",
       "1549    M3113   74_005 Most nad železničnou traťou, k.ú. Humenné   \n",
       "356     M6859  18-468 Most nad železničnou traťou za obcou Či...   \n",
       "934     M1885   61_098 Galéria Vrtižer, nad železnicou a terénom   \n",
       "\n",
       "                           Material  Dĺžka_premostenia Druh_konštrukcie  \\\n",
       "954   prefabrikovaný predpätý betón              39.75          dosková   \n",
       "217   prefabrikovaný predpätý betón              55.90          dosková   \n",
       "215   prefabrikovaný predpätý betón              34.15          dosková   \n",
       "1696  prefabrikovaný predpätý betón              10.00          trámová   \n",
       "293   prefabrikovaný predpätý betón             116.80          dosková   \n",
       "1031  prefabrikovaný predpätý betón             238.00          trámová   \n",
       "655   prefabrikovaný predpätý betón              93.00          trámová   \n",
       "694   prefabrikovaný predpätý betón             251.00          trámová   \n",
       "987   prefabrikovaný predpätý betón              70.00          trámová   \n",
       "633   prefabrikovaný predpätý betón             292.30          trámová   \n",
       "943   prefabrikovaný predpätý betón              47.00          dosková   \n",
       "1085  prefabrikovaný predpätý betón              40.75          dosková   \n",
       "383         monolitický železobetón              31.00          trámová   \n",
       "972   prefabrikovaný predpätý betón             240.28          trámová   \n",
       "343   prefabrikovaný predpätý betón             237.80          trámová   \n",
       "971   prefabrikovaný predpätý betón             232.11          trámová   \n",
       "444   prefabrikovaný predpätý betón              72.15          trámová   \n",
       "1694        monolitický železobetón               8.20         klenbová   \n",
       "921   prefabrikovaný predpätý betón              42.60          trámová   \n",
       "2     prefabrikovaný predpätý betón              40.00          dosková   \n",
       "947   prefabrikovaný predpätý betón              49.50          dosková   \n",
       "1425  prefabrikovaný predpätý betón              48.39          dosková   \n",
       "914      prefabrikovaný železobetón               7.90          trámová   \n",
       "74       monolitický predpätý betón              63.80          trámová   \n",
       "912         monolitický železobetón               7.70          dosková   \n",
       "756         monolitický železobetón              12.90          dosková   \n",
       "1807  prefabrikovaný predpätý betón              91.76          trámová   \n",
       "1433  prefabrikovaný predpätý betón              49.20          dosková   \n",
       "268         monolitický železobetón              73.75          trámová   \n",
       "82    prefabrikovaný predpätý betón             236.00          trámová   \n",
       "381         monolitický železobetón              10.96          trámová   \n",
       "379         monolitický železobetón              10.60          trámová   \n",
       "1549  prefabrikovaný predpätý betón             310.90          trámová   \n",
       "356         monolitický železobetón              10.45          trámová   \n",
       "934   prefabrikovaný predpätý betón             163.67          dosková   \n",
       "\n",
       "                   Predmet_premostenia  n_2023  F_q           R  \n",
       "954                        [Železnica]       7    5  100.000000  \n",
       "217                        [Železnica]       6    5   97.047244  \n",
       "215                        [Železnica]       6    5   97.047244  \n",
       "1696                       [Železnica]       4    5   95.078740  \n",
       "293                        [Železnica]       7    5   92.125984  \n",
       "1031                       [Železnica]       5    5   90.157480  \n",
       "655                        [Železnica]       5    5   90.157480  \n",
       "694                        [Železnica]       2    5   89.173228  \n",
       "987                        [Železnica]       4    5   87.204724  \n",
       "633                        [Železnica]       4    5   87.204724  \n",
       "943                        [Železnica]       5    5   86.220472  \n",
       "1085                       [Železnica]       5    5   86.220472  \n",
       "383                        [Železnica]       6    5   85.236220  \n",
       "972                        [Železnica]       6    5   85.236220  \n",
       "343                        [Železnica]       6    5   85.236220  \n",
       "971                        [Železnica]       6    5   85.236220  \n",
       "444                        [Železnica]       3    5   84.251969  \n",
       "1694                       [Železnica]       7    5   84.251969  \n",
       "921                        [Železnica]       3    5   84.251969  \n",
       "2                          [Železnica]       4    5   83.267717  \n",
       "947                        [Železnica]       4    5   83.267717  \n",
       "1425  [Železnica, Miestna komunikácia]       4    5   83.267717  \n",
       "914                        [Železnica]       5    5   82.283465  \n",
       "74                         [Železnica]       2    5   81.299213  \n",
       "912                        [Železnica]       6    5   81.299213  \n",
       "756                        [Železnica]       6    5   81.299213  \n",
       "1807                       [Železnica]       7    5   80.314961  \n",
       "1433  [Železnica, Účelová komunikácia]       3    5   80.314961  \n",
       "268   [Železnica, Miestna komunikácia]       4    5   79.330709  \n",
       "82                         [Železnica]       4    5   79.330709  \n",
       "381                        [Železnica]       4    5   79.330709  \n",
       "379                        [Železnica]       4    5   79.330709  \n",
       "1549                       [Železnica]       4    5   79.330709  \n",
       "356                        [Železnica]       4    5   79.330709  \n",
       "934                        [Železnica]       5    5   78.346457  "
      ]
     },
     "execution_count": 28,
     "metadata": {},
     "output_type": "execute_result"
    }
   ],
   "source": [
    "filtered_bridges_SSC_sorted_asc[[\"ID_mosta\", \"Názov_mosta\",\n",
    "                                 \"Material\", \"Dĺžka_premostenia\", \"Druh_konštrukcie\", \"Predmet_premostenia\", \"n_2023\", \"F_q\", \"R\"]].head(35)"
   ]
  },
  {
   "cell_type": "code",
   "execution_count": 29,
   "metadata": {},
   "outputs": [],
   "source": [
    "filtered_bridges_SSC_sorted_asc.to_excel(\n",
    "    'filtered_bridges_SSC_sorted_asc.xlsx', index=False)"
   ]
  },
  {
   "cell_type": "code",
   "execution_count": 30,
   "metadata": {},
   "outputs": [
    {
     "data": {
      "text/plain": [
       "R\n",
       "13.188976     183\n",
       "13.779528     115\n",
       "12.598425      73\n",
       "14.370079      68\n",
       "12.007874      38\n",
       "             ... \n",
       "46.850394       1\n",
       "46.456693       1\n",
       "43.700787       1\n",
       "43.307087       1\n",
       "100.000000      1\n",
       "Name: count, Length: 203, dtype: int64"
      ]
     },
     "execution_count": 30,
     "metadata": {},
     "output_type": "execute_result"
    }
   ],
   "source": [
    "filtered_bridges_SSC_sorted_asc[\"R\"].value_counts()"
   ]
  },
  {
   "cell_type": "code",
   "execution_count": 31,
   "metadata": {},
   "outputs": [
    {
     "data": {
      "text/plain": [
       "Index(['ID_mosta', 'Trieda_PK', 'Číslo_PK', 'Most_DC', 'Názov_mosta', 'ID_DC',\n",
       "       'správcovské_číslo', 'Zemepisná_dĺžka', 'Zemepisná_šírka', 'Výška',\n",
       "       'Druh_konštrukcie', 'Material', 'Normálna_zaťažiteľnosť',\n",
       "       'Výhradná_zaťažiteľnosť_t', 'Výnimočná_zaťažiteľnosť_t',\n",
       "       'Spôsob_stanovenia', 'Predmet_premostenia', 'Rok_postavenia',\n",
       "       'Zaťažovacia_trieda_STN', 'Počet_otvorov', 'Dĺžka_premostenia',\n",
       "       'Dĺžka_nosnej_konštrukcie_m', 'Volná_šírka_mosta',\n",
       "       'Šírka_medzi_obrubami_m', 'Plocha_mosnej_konštrukcie_m2',\n",
       "       'Plocha_mosta_m2', 'Vlastník_úseku', 'Správca_úseku', 'Okres',\n",
       "       'Smer_úseku', 'Typ_úseku', 'Počiatočný_uzol', 'Koncový_uzol', 'úsek_ID',\n",
       "       'úsekové_staničenie_začiatku_DC_m',\n",
       "       'Kilometrovníkové_staničenie_začiatku_DC_km',\n",
       "       'Kumulatívne_staničenie_začiatku_DC_km', 'Poradie', 'Kraj', 'n_2012',\n",
       "       'n_2013', 'n_2014', 'n_2015', 'n_2016', 'n_2017', 'n_2018', 'n_2019',\n",
       "       'n_2020', 'n_2021', 'n_2022', 'n_2023', 'F_y', 'F_c', 'F_v', 'F_f',\n",
       "       'F_q', 'R'],\n",
       "      dtype='object')"
      ]
     },
     "execution_count": 31,
     "metadata": {},
     "output_type": "execute_result"
    }
   ],
   "source": [
    "filtered_bridges_SSC.columns"
   ]
  },
  {
   "cell_type": "code",
   "execution_count": null,
   "metadata": {},
   "outputs": [],
   "source": []
  },
  {
   "cell_type": "code",
   "execution_count": 32,
   "metadata": {},
   "outputs": [
    {
     "data": {
      "text/plain": [
       "76.37795275590551"
      ]
     },
     "execution_count": 32,
     "metadata": {},
     "output_type": "execute_result"
    }
   ],
   "source": [
    "F_y = 5\n",
    "F_f = 10\n",
    "F_v = 10\n",
    "F_c = 10\n",
    "F_q = 4\n",
    "\n",
    "R = ((((4*F_y + F_f + F_v + F_c) * F_q) - 6 ) / 254) * 100\n",
    "R"
   ]
  }
 ],
 "metadata": {
  "kernelspec": {
   "display_name": "Python 3",
   "language": "python",
   "name": "python3"
  },
  "language_info": {
   "codemirror_mode": {
    "name": "ipython",
    "version": 3
   },
   "file_extension": ".py",
   "mimetype": "text/x-python",
   "name": "python",
   "nbconvert_exporter": "python",
   "pygments_lexer": "ipython3",
   "version": "3.11.4"
  }
 },
 "nbformat": 4,
 "nbformat_minor": 2
}
