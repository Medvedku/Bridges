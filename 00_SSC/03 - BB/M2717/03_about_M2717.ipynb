{
 "cells": [
  {
   "cell_type": "code",
   "execution_count": 1,
   "metadata": {},
   "outputs": [
    {
     "name": "stderr",
     "output_type": "stream",
     "text": [
      "C:\\Users\\relia\\AppData\\Local\\Temp\\ipykernel_13348\\4111068820.py:10: DtypeWarning: Columns (5,16) have mixed types. Specify dtype option on import or set low_memory=False.\n",
      "  df_nodes = pd.read_csv(nodes_path, encoding='utf-8', delimiter=',')\n",
      "C:\\Users\\relia\\AppData\\Local\\Temp\\ipykernel_13348\\4111068820.py:11: DtypeWarning: Columns (10,11,12,25,26,27) have mixed types. Specify dtype option on import or set low_memory=False.\n",
      "  df_roads = pd.read_csv(roads_path, encoding='utf-8', delimiter=',')\n"
     ]
    }
   ],
   "source": [
    "import pandas as pd\n",
    "\n",
    "# ROBOTA\n",
    "nodes_path = r\"C:\\Users\\relia\\Documents\\GitHub\\Bridges\\Data\\Nodes_processed.csv\"\n",
    "roads_path = r\"C:\\Users\\relia\\Documents\\GitHub\\Bridges\\Data\\Roads_processed.csv\"\n",
    "bridges_path = r\"C:\\Users\\relia\\Documents\\GitHub\\Bridges\\Data\\df_bridges_2024_all.csv\"\n",
    "survey_path = r\"C:\\Users\\relia\\Documents\\GitHub\\Bridges\\Data\\surveys\\Survey.csv\"\n",
    "\n",
    "# Load the CSV data into a DataFrame\n",
    "df_nodes = pd.read_csv(nodes_path, encoding='utf-8', delimiter=',')\n",
    "df_roads = pd.read_csv(roads_path, encoding='utf-8', delimiter=',')\n",
    "df_bridges_all = pd.read_csv(bridges_path, encoding='utf-8', delimiter=',')\n",
    "df_survey = pd.read_csv(survey_path, encoding='utf-8', delimiter=',')"
   ]
  },
  {
   "cell_type": "code",
   "execution_count": 2,
   "metadata": {},
   "outputs": [],
   "source": [
    "import pandas as pd\n",
    "\n",
    "# Define the columns that should be converted to numeric data types\n",
    "numeric_columns = ['Normálna_zaťažiteľnosť', 'Výhradná_zaťažiteľnosť_t', 'Výnimočná_zaťažiteľnosť_t',\n",
    "                   'Počet_otvorov', 'Dĺžka_premostenia', 'Dĺžka_nosnej_konštrukcie_m',\n",
    "                   'Volná_šírka_mosta', 'Šírka_medzi_obrubami_m', 'Plocha_mosnej_konštrukcie_m2',\n",
    "                   'Plocha_mosta_m2', 'n_2012', 'n_2013', 'n_2014', 'n_2015', 'n_2016',\n",
    "                   'n_2017', 'n_2018', 'n_2019', 'n_2020', 'n_2021', 'n_2022', 'n_2023']\n",
    "\n",
    "# Convert the selected columns to numeric data types (integers or floats)\n",
    "for col in numeric_columns:\n",
    "    df_bridges_all[col] = pd.to_numeric(df_bridges_all[col], errors='coerce')"
   ]
  },
  {
   "cell_type": "code",
   "execution_count": 3,
   "metadata": {},
   "outputs": [
    {
     "name": "stdout",
     "output_type": "stream",
     "text": [
      "ID mosta:\t\tM2717\n",
      "Správcovské Číslo:\t79\n",
      "Názov mosta:\t\t66_079 Most cez železničnú trať pri odbočke do Biotiky Sl. Ľupča, k.ú. Šalková\n",
      "Okres:\t\t\tBanská Bystrica\n",
      "Kraj:\t\t\tBanská Bystrica\n",
      "Rok postavenia:\t\t1975\n",
      "Typ konštrukcie:\ttrámová\n",
      "Materiál:\t\tprefabrikovaný predpätý betón\n",
      "Voľná šírka:\t\t11.75 m\n",
      "Dĺžka premostenia:\t153.0 m\n",
      "Trieda PK:\t\tcesta I. triedy\n",
      "GPS súradnice:\t(48.74504, 19.22985)\n",
      "Google Maps Link:\n",
      "https://www.google.com/maps?q=48.74504,19.22985\n",
      "Vývoj STS:\t\t[np.int64(4), np.int64(4), np.int64(4), np.int64(4), np.int64(7), np.int64(7), np.int64(6), np.int64(6), np.int64(6), np.int64(6), np.int64(6), np.int64(6), np.int64(6)]\n"
     ]
    }
   ],
   "source": [
    "# Define the bridge name to find\n",
    "bridge_to_find = \"M2717\"\n",
    "\n",
    "# Find the bridge in the DataFrame\n",
    "bridge_info = df_bridges_all[df_bridges_all['ID_mosta'] == bridge_to_find]\n",
    "\n",
    "# Check if the bridge was found\n",
    "if not bridge_info.empty:\n",
    "    # Print the requested information\n",
    "    print(f\"ID mosta:\\t\\t{bridge_info['ID_mosta'].values[0]}\")\n",
    "    print(f\"Správcovské Číslo:\\t{bridge_info['správcovské_číslo'].values[0]}\")\n",
    "    print(f\"Názov mosta:\\t\\t{bridge_info['Názov_mosta'].values[0]}\")\n",
    "    print(f\"Okres:\\t\\t\\t{bridge_info['Okres'].values[0]}\")\n",
    "    print(f\"Kraj:\\t\\t\\t{bridge_info['Kraj'].values[0]}\")\n",
    "    print(f\"Rok postavenia:\\t\\t{bridge_info['Rok_postavenia'].values[0]}\")\n",
    "    print(f\"Typ konštrukcie:\\t{bridge_info['Druh_konštrukcie'].values[0]}\")\n",
    "    print(f\"Materiál:\\t\\t{bridge_info['Material'].values[0]}\")\n",
    "    print(f\"Voľná šírka:\\t\\t{bridge_info['Volná_šírka_mosta'].values[0]} m\")\n",
    "    print(f\"Dĺžka premostenia:\\t{\n",
    "          bridge_info['Dĺžka_premostenia'].values[0]} m\")\n",
    "    print(f\"Trieda PK:\\t\\t{bridge_info['Trieda_PK'].values[0]}\")\n",
    "\n",
    "    # Add GPS coordinates (latitude and longitude) rounded to 4 decimal places\n",
    "    lat = round(bridge_info['Zemepisná_šírka'].values[0], 5)\n",
    "    lon = round(bridge_info['Zemepisná_dĺžka'].values[0], 5)\n",
    "    print(f\"GPS súradnice:\\t({lat}, {lon})\")\n",
    "\n",
    "    # Generate and print the Google Maps link\n",
    "    google_maps_link = f\"https://www.google.com/maps?q={lat},{lon}\"\n",
    "    print(f\"Google Maps Link:\\n{google_maps_link}\")\n",
    "\n",
    "    # Add condition values from n_2012 up to n_2023\n",
    "    conditions = [bridge_info[f'n_{year}'].values[0]\n",
    "                  for year in range(2012, 2025)]\n",
    "    print(f\"Vývoj STS:\\t\\t{conditions}\")\n",
    "else:\n",
    "    print(f\"Bridge with ID '{bridge_to_find}' not found in the DataFrame.\")"
   ]
  },
  {
   "cell_type": "code",
   "execution_count": 4,
   "metadata": {},
   "outputs": [
    {
     "data": {
      "text/plain": [
       "ID_mosta                                                                    M2717\n",
       "Trieda_PK                                                         cesta I. triedy\n",
       "Číslo_PK                                                                       66\n",
       "Názov_mosta                     66_079 Most cez železničnú trať pri odbočke do...\n",
       "správcovské_číslo                                                              79\n",
       "Zemepisná_šírka                                                         48.745044\n",
       "Zemepisná_dĺžka                                                         19.229849\n",
       "Výška                                                                   367.41275\n",
       "Druh_konštrukcie                                                          trámová\n",
       "Material                                            prefabrikovaný predpätý betón\n",
       "Normálna_zaťažiteľnosť                                                       18.0\n",
       "Výhradná_zaťažiteľnosť_t                                                     47.0\n",
       "Výnimočná_zaťažiteľnosť_t                                                    72.0\n",
       "Spôsob_stanovenia                               statický výpočet podľa TP 02/2016\n",
       "Predmet_premostenia                                                     Železnica\n",
       "Rok_postavenia                                                               1975\n",
       "Zaťažovacia_trieda_STN                                                  Nezistený\n",
       "Počet_otvorov                                                                 5.0\n",
       "Dĺžka_premostenia                                                           153.0\n",
       "Dĺžka_nosnej_konštrukcie_m                                                    NaN\n",
       "Volná_šírka_mosta                                                           11.75\n",
       "Šírka_medzi_obrubami_m                                                       10.5\n",
       "Plocha_mosnej_konštrukcie_m2                                                  NaN\n",
       "Plocha_mosta_m2                                                               NaN\n",
       "Vlastník_úseku                                                               STAT\n",
       "Správca_úseku                                                       SSC - IVSC BB\n",
       "Okres                                                             Banská Bystrica\n",
       "Počiatočný_uzol                                                        3614A01400\n",
       "Koncový_uzol                                                           3614A01501\n",
       "úsek_ID                                                                      2892\n",
       "Kraj                                                              Banská Bystrica\n",
       "n_2012                                                                          4\n",
       "n_2013                                                                          4\n",
       "n_2014                                                                          4\n",
       "n_2015                                                                          4\n",
       "n_2016                                                                          7\n",
       "n_2017                                                                          7\n",
       "n_2018                                                                          6\n",
       "n_2019                                                                          6\n",
       "n_2020                                                                          6\n",
       "n_2021                                                                          6\n",
       "n_2022                                                                          6\n",
       "n_2023                                                                          6\n",
       "n_2024                                                                          6\n",
       "Name: 1163, dtype: object"
      ]
     },
     "execution_count": 4,
     "metadata": {},
     "output_type": "execute_result"
    }
   ],
   "source": [
    "bridge_info.iloc[0]"
   ]
  }
 ],
 "metadata": {
  "kernelspec": {
   "display_name": "Bridges_VENV",
   "language": "python",
   "name": "python3"
  },
  "language_info": {
   "codemirror_mode": {
    "name": "ipython",
    "version": 3
   },
   "file_extension": ".py",
   "mimetype": "text/x-python",
   "name": "python",
   "nbconvert_exporter": "python",
   "pygments_lexer": "ipython3",
   "version": "3.12.4"
  }
 },
 "nbformat": 4,
 "nbformat_minor": 2
}
