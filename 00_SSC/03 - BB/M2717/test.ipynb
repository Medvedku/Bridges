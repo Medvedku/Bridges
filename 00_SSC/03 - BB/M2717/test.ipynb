{
 "cells": [
  {
   "cell_type": "code",
   "execution_count": 1,
   "metadata": {},
   "outputs": [
    {
     "data": {
      "text/html": [
       "<div>\n",
       "<style scoped>\n",
       "    .dataframe tbody tr th:only-of-type {\n",
       "        vertical-align: middle;\n",
       "    }\n",
       "\n",
       "    .dataframe tbody tr th {\n",
       "        vertical-align: top;\n",
       "    }\n",
       "\n",
       "    .dataframe thead th {\n",
       "        text-align: right;\n",
       "    }\n",
       "</style>\n",
       "<table border=\"1\" class=\"dataframe\">\n",
       "  <thead>\n",
       "    <tr style=\"text-align: right;\">\n",
       "      <th></th>\n",
       "      <th>sensor_name</th>\n",
       "      <th>Pearson_coeficient</th>\n",
       "      <th>p_value</th>\n",
       "    </tr>\n",
       "  </thead>\n",
       "  <tbody>\n",
       "    <tr>\n",
       "      <th>0</th>\n",
       "      <td>10.pv0</td>\n",
       "      <td>0.712098</td>\n",
       "      <td>5.061245e-153</td>\n",
       "    </tr>\n",
       "    <tr>\n",
       "      <th>1</th>\n",
       "      <td>10.pv1</td>\n",
       "      <td>0.781130</td>\n",
       "      <td>4.322203e-203</td>\n",
       "    </tr>\n",
       "    <tr>\n",
       "      <th>2</th>\n",
       "      <td>11.pv0</td>\n",
       "      <td>0.737991</td>\n",
       "      <td>6.220064e-170</td>\n",
       "    </tr>\n",
       "    <tr>\n",
       "      <th>3</th>\n",
       "      <td>11.pv1</td>\n",
       "      <td>0.762672</td>\n",
       "      <td>4.891145e-188</td>\n",
       "    </tr>\n",
       "    <tr>\n",
       "      <th>4</th>\n",
       "      <td>17.pv0</td>\n",
       "      <td>0.782601</td>\n",
       "      <td>2.360513e-204</td>\n",
       "    </tr>\n",
       "    <tr>\n",
       "      <th>...</th>\n",
       "      <td>...</td>\n",
       "      <td>...</td>\n",
       "      <td>...</td>\n",
       "    </tr>\n",
       "    <tr>\n",
       "      <th>58</th>\n",
       "      <td>5.pv1</td>\n",
       "      <td>0.783900</td>\n",
       "      <td>1.775783e-205</td>\n",
       "    </tr>\n",
       "    <tr>\n",
       "      <th>59</th>\n",
       "      <td>7.pv0</td>\n",
       "      <td>0.741339</td>\n",
       "      <td>2.881844e-172</td>\n",
       "    </tr>\n",
       "    <tr>\n",
       "      <th>60</th>\n",
       "      <td>7.pv1</td>\n",
       "      <td>0.757429</td>\n",
       "      <td>5.215338e-184</td>\n",
       "    </tr>\n",
       "    <tr>\n",
       "      <th>61</th>\n",
       "      <td>9.pv0</td>\n",
       "      <td>0.815431</td>\n",
       "      <td>2.171078e-235</td>\n",
       "    </tr>\n",
       "    <tr>\n",
       "      <th>62</th>\n",
       "      <td>9.pv1</td>\n",
       "      <td>0.763665</td>\n",
       "      <td>8.220137e-189</td>\n",
       "    </tr>\n",
       "  </tbody>\n",
       "</table>\n",
       "<p>63 rows × 3 columns</p>\n",
       "</div>"
      ],
      "text/plain": [
       "   sensor_name  Pearson_coeficient        p_value\n",
       "0       10.pv0            0.712098  5.061245e-153\n",
       "1       10.pv1            0.781130  4.322203e-203\n",
       "2       11.pv0            0.737991  6.220064e-170\n",
       "3       11.pv1            0.762672  4.891145e-188\n",
       "4       17.pv0            0.782601  2.360513e-204\n",
       "..         ...                 ...            ...\n",
       "58       5.pv1            0.783900  1.775783e-205\n",
       "59       7.pv0            0.741339  2.881844e-172\n",
       "60       7.pv1            0.757429  5.215338e-184\n",
       "61       9.pv0            0.815431  2.171078e-235\n",
       "62       9.pv1            0.763665  8.220137e-189\n",
       "\n",
       "[63 rows x 3 columns]"
      ]
     },
     "execution_count": 1,
     "metadata": {},
     "output_type": "execute_result"
    }
   ],
   "source": [
    "import pandas as pd\n",
    "\n",
    "# Create a dictionary with the data\n",
    "data = {\n",
    "    \"sensor_name\": [\"10.pv0\", \"10.pv1\", \"11.pv0\", \"11.pv1\", \"17.pv0\", \"17.pv1\", \"19.pv0\", \"19.pv1\", \"20.pv0\", \"20.pv1\",\n",
    "                    \"25.pv0\", \"25.pv1\", \"27.pv0\", \"27.pv1\", \"6.pv0\", \"6.pv1\", \"15.pv0\", \"15.pv1\", \"2.pv0\", \"2.pv1\",\n",
    "                    \"28.pv0\", \"28.pv1\", \"3.pv0\", \"3.pv1\", \"3.pv2\", \"1.pv0\", \"1.pv1\", \"12.pv0\", \"12.pv1\", \"13.pv0\",\n",
    "                    \"13.pv1\", \"14.pv0\", \"14.pv1\", \"23.pv0\", \"23.pv1\", \"26.pv0\", \"26.pv1\", \"30.pv0\", \"30.pv1\", \"30.pv2\",\n",
    "                    \"8.pv0\", \"8.pv1\", \"22.pv0\", \"22.pv1\", \"24.pv0\", \"24.pv1\", \"29.pv0\", \"29.pv1\", \"4.pv0\", \"4.pv1\",\n",
    "                    \"4.pv2\", \"16.pv0\", \"16.pv1\", \"18.pv0\", \"18.pv1\", \"21.pv0\", \"21.pv1\", \"5.pv0\", \"5.pv1\", \"7.pv0\",\n",
    "                    \"7.pv1\", \"9.pv0\", \"9.pv1\"],\n",
    "    \"Pearson_coeficient\": [0.7120983888811453, 0.7811300647365753, 0.737991220233007, 0.7626723428945623, 0.7826009847758751,\n",
    "                           0.6289308694734224, 0.7175985950367875, 0.1353049301218412, 0.5779394960012668, 0.7459480984656888,\n",
    "                           0.6092114684094538, 0.7408471435014443, 0.7145809845057617, 0.7981527438154201, 0.7756448582828978,\n",
    "                           0.7379948909146853, 0.78125269723162, 0.7781697962113336, 0.4929247326474062, 0.7878148569549077,\n",
    "                           0.5979558460226958, 0.7629803536086361, 0.8000624924818267, 0.5663560955871031, 0.6033260082996189,\n",
    "                           0.7547066870215005, 0.7629556075976673, 0.8281207953802613, 0.8356105376126535, 0.7850155823309675,\n",
    "                           0.48885830198844626, 0.8005842142219706, 0.6698013328797561, 0.4885887065261393, 0.7538786908248303,\n",
    "                           0.8059738702731052, 0.6156178480690686, 0.7328330998904562, 0.8015721867017802, 0.7641748536440032,\n",
    "                           0.5708214208268605, 0.821353996897197, 0.7859755305826559, 0.7602144003515003, 0.6889184455434987,\n",
    "                           0.8008044636492788, 0.8012767686553799, 0.7899441614919602, 0.49026118808900454, 0.7008522165016096,\n",
    "                           0.7993783175956632, 0.3437228047058628, 0.6267080950982488, 0.6634534448343635, 0.7602961599169962,\n",
    "                           0.8175598258738561, 0.7080753861934632, 0.7529214649521723, 0.7839002943784598, 0.7413394789821586,\n",
    "                           0.7574286117452258, 0.8154314773367728, 0.7636653190715061],\n",
    "    \"p_value\": [5.061245024288684e-153, 4.322202566717537e-203, 6.2200643567083206e-170, 4.891144947020094e-188, 2.3605130597343887e-204,\n",
    "                1.790695661785928e-109, 1.869154800179105e-156, 2.0575489511269683e-05, 9.212133173833921e-89, 1.538224164264871e-175,\n",
    "                5.13725593824935e-101, 6.384884674989266e-172, 1.4621283876988354e-154, 2.4519233707130345e-218, 1.8165921559796093e-198,\n",
    "                6.1838030235692676e-170, 2.1179763159122783e-203, 8.814489656928672e-201, 1.9685293078863334e-61, 4.0345737979104237e-209,\n",
    "                1.5161104220597918e-96, 1.8191242628953922e-188, 2.3204052386401873e-220, 1.2336912252825584e-84, 1.0535217857334654e-98,\n",
    "                3.841449230936365e-182, 1.9018001560469765e-188, 2.3709891636833736e-249, 5.414444113193056e-258, 1.1762001945472017e-206,\n",
    "                2.6330635881465897e-60, 7.403126196888553e-221, 3.1396790506370386e-129, 3.123192842571371e-60, 1.5978523950466223e-181,\n",
    "                4.528732774626496e-226, 8.415586741036493e-104, 1.4215986294130802e-166, 8.429694737015409e-222, 2.1149338272763564e-189,\n",
    "                3.0624580644997906e-86, 6.750695198834049e-242, 1.6961225587318644e-207, 2.5282817153299663e-186, 1.528491344359169e-139,\n",
    "                4.565813202206523e-221, 1.6162990949098958e-221, 5.07960957624492e-211, 1.0804475848066046e-60, 2.1377679169801666e-146,\n",
    "                1.0327002542742992e-219, 1.1383052688191507e-28, 1.725460029377693e-108, 7.564874166886344e-126, 3.3689094110010003e-186,\n",
    "                1.294640593925991e-237, 1.4592545777067401e-150, 1.2532815230502928e-180, 1.7757831512074424e-205, 2.8818440169790797e-172,\n",
    "                5.215338218522464e-184, 2.1710775839910974e-235, 8.220136525546593e-189]\n",
    "}\n",
    "\n",
    "# Create the DataFrame\n",
    "df_correlation = pd.DataFrame(data)\n",
    "\n",
    "# Display the DataFrame\n",
    "df_correlation"
   ]
  },
  {
   "cell_type": "code",
   "execution_count": 51,
   "metadata": {},
   "outputs": [
    {
     "data": {
      "text/plain": [
       "count    63.000000\n",
       "mean      0.707335\n",
       "std       0.126554\n",
       "min       0.135305\n",
       "25%       0.666627\n",
       "50%       0.754707\n",
       "75%       0.785496\n",
       "max       0.835611\n",
       "Name: Pearson_coeficient, dtype: float64"
      ]
     },
     "execution_count": 51,
     "metadata": {},
     "output_type": "execute_result"
    }
   ],
   "source": [
    "df_correlation[\"Pearson_coeficient\"].describe()"
   ]
  },
  {
   "cell_type": "code",
   "execution_count": 54,
   "metadata": {},
   "outputs": [
    {
     "data": {
      "application/vnd.plotly.v1+json": {
       "config": {
        "plotlyServerURL": "https://plot.ly"
       },
       "data": [
        {
         "alignmentgroup": "True",
         "hovertemplate": "Pearson Correlation Coefficient=%{marker.color}<br>Sensor Name=%{y}<extra></extra>",
         "legendgroup": "",
         "marker": {
          "color": [
           0.7120983888811453,
           0.7811300647365753,
           0.737991220233007,
           0.7626723428945623,
           0.7826009847758751,
           0.6289308694734224,
           0.7175985950367875,
           0.1353049301218412,
           0.5779394960012668,
           0.7459480984656888,
           0.6092114684094538,
           0.7408471435014443,
           0.7145809845057617,
           0.7981527438154201,
           0.7756448582828978,
           0.7379948909146853,
           0.78125269723162,
           0.7781697962113336,
           0.4929247326474062,
           0.7878148569549077,
           0.5979558460226958,
           0.7629803536086361,
           0.8000624924818267,
           0.5663560955871031,
           0.6033260082996189,
           0.7547066870215005,
           0.7629556075976673,
           0.8281207953802613,
           0.8356105376126535,
           0.7850155823309675,
           0.48885830198844626,
           0.8005842142219706,
           0.6698013328797561,
           0.4885887065261393,
           0.7538786908248303,
           0.8059738702731052,
           0.6156178480690686,
           0.7328330998904562,
           0.8015721867017802,
           0.7641748536440032,
           0.5708214208268605,
           0.821353996897197,
           0.7859755305826559,
           0.7602144003515003,
           0.6889184455434987,
           0.8008044636492788,
           0.8012767686553799,
           0.7899441614919602,
           0.49026118808900454,
           0.7008522165016096,
           0.7993783175956632,
           0.3437228047058628,
           0.6267080950982488,
           0.6634534448343635,
           0.7602961599169962,
           0.8175598258738561,
           0.7080753861934632,
           0.7529214649521723,
           0.7839002943784598,
           0.7413394789821586,
           0.7574286117452258,
           0.8154314773367728,
           0.7636653190715061
          ],
          "coloraxis": "coloraxis",
          "pattern": {
           "shape": ""
          }
         },
         "name": "",
         "offsetgroup": "",
         "orientation": "h",
         "showlegend": false,
         "textposition": "auto",
         "type": "bar",
         "x": [
          0.7120983888811453,
          0.7811300647365753,
          0.737991220233007,
          0.7626723428945623,
          0.7826009847758751,
          0.6289308694734224,
          0.7175985950367875,
          0.1353049301218412,
          0.5779394960012668,
          0.7459480984656888,
          0.6092114684094538,
          0.7408471435014443,
          0.7145809845057617,
          0.7981527438154201,
          0.7756448582828978,
          0.7379948909146853,
          0.78125269723162,
          0.7781697962113336,
          0.4929247326474062,
          0.7878148569549077,
          0.5979558460226958,
          0.7629803536086361,
          0.8000624924818267,
          0.5663560955871031,
          0.6033260082996189,
          0.7547066870215005,
          0.7629556075976673,
          0.8281207953802613,
          0.8356105376126535,
          0.7850155823309675,
          0.48885830198844626,
          0.8005842142219706,
          0.6698013328797561,
          0.4885887065261393,
          0.7538786908248303,
          0.8059738702731052,
          0.6156178480690686,
          0.7328330998904562,
          0.8015721867017802,
          0.7641748536440032,
          0.5708214208268605,
          0.821353996897197,
          0.7859755305826559,
          0.7602144003515003,
          0.6889184455434987,
          0.8008044636492788,
          0.8012767686553799,
          0.7899441614919602,
          0.49026118808900454,
          0.7008522165016096,
          0.7993783175956632,
          0.3437228047058628,
          0.6267080950982488,
          0.6634534448343635,
          0.7602961599169962,
          0.8175598258738561,
          0.7080753861934632,
          0.7529214649521723,
          0.7839002943784598,
          0.7413394789821586,
          0.7574286117452258,
          0.8154314773367728,
          0.7636653190715061
         ],
         "xaxis": "x",
         "y": [
          "10.pv0",
          "10.pv1",
          "11.pv0",
          "11.pv1",
          "17.pv0",
          "17.pv1",
          "19.pv0",
          "19.pv1",
          "20.pv0",
          "20.pv1",
          "25.pv0",
          "25.pv1",
          "27.pv0",
          "27.pv1",
          "6.pv0",
          "6.pv1",
          "15.pv0",
          "15.pv1",
          "2.pv0",
          "2.pv1",
          "28.pv0",
          "28.pv1",
          "3.pv0",
          "3.pv1",
          "3.pv2",
          "1.pv0",
          "1.pv1",
          "12.pv0",
          "12.pv1",
          "13.pv0",
          "13.pv1",
          "14.pv0",
          "14.pv1",
          "23.pv0",
          "23.pv1",
          "26.pv0",
          "26.pv1",
          "30.pv0",
          "30.pv1",
          "30.pv2",
          "8.pv0",
          "8.pv1",
          "22.pv0",
          "22.pv1",
          "24.pv0",
          "24.pv1",
          "29.pv0",
          "29.pv1",
          "4.pv0",
          "4.pv1",
          "4.pv2",
          "16.pv0",
          "16.pv1",
          "18.pv0",
          "18.pv1",
          "21.pv0",
          "21.pv1",
          "5.pv0",
          "5.pv1",
          "7.pv0",
          "7.pv1",
          "9.pv0",
          "9.pv1"
         ],
         "yaxis": "y"
        }
       ],
       "layout": {
        "barmode": "relative",
        "coloraxis": {
         "colorbar": {
          "title": {
           "text": "Pearson Correlation Coefficient"
          }
         },
         "colorscale": [
          [
           0,
           "#440154"
          ],
          [
           0.1111111111111111,
           "#482878"
          ],
          [
           0.2222222222222222,
           "#3e4989"
          ],
          [
           0.3333333333333333,
           "#31688e"
          ],
          [
           0.4444444444444444,
           "#26828e"
          ],
          [
           0.5555555555555556,
           "#1f9e89"
          ],
          [
           0.6666666666666666,
           "#35b779"
          ],
          [
           0.7777777777777778,
           "#6ece58"
          ],
          [
           0.8888888888888888,
           "#b5de2b"
          ],
          [
           1,
           "#fde725"
          ]
         ]
        },
        "font": {
         "color": "#000000",
         "family": "Montserrat, sans-serif",
         "size": 12
        },
        "height": 1000,
        "legend": {
         "tracegroupgap": 0
        },
        "template": {
         "data": {
          "bar": [
           {
            "error_x": {
             "color": "#2a3f5f"
            },
            "error_y": {
             "color": "#2a3f5f"
            },
            "marker": {
             "line": {
              "color": "#E5ECF6",
              "width": 0.5
             },
             "pattern": {
              "fillmode": "overlay",
              "size": 10,
              "solidity": 0.2
             }
            },
            "type": "bar"
           }
          ],
          "barpolar": [
           {
            "marker": {
             "line": {
              "color": "#E5ECF6",
              "width": 0.5
             },
             "pattern": {
              "fillmode": "overlay",
              "size": 10,
              "solidity": 0.2
             }
            },
            "type": "barpolar"
           }
          ],
          "carpet": [
           {
            "aaxis": {
             "endlinecolor": "#2a3f5f",
             "gridcolor": "white",
             "linecolor": "white",
             "minorgridcolor": "white",
             "startlinecolor": "#2a3f5f"
            },
            "baxis": {
             "endlinecolor": "#2a3f5f",
             "gridcolor": "white",
             "linecolor": "white",
             "minorgridcolor": "white",
             "startlinecolor": "#2a3f5f"
            },
            "type": "carpet"
           }
          ],
          "choropleth": [
           {
            "colorbar": {
             "outlinewidth": 0,
             "ticks": ""
            },
            "type": "choropleth"
           }
          ],
          "contour": [
           {
            "colorbar": {
             "outlinewidth": 0,
             "ticks": ""
            },
            "colorscale": [
             [
              0,
              "#0d0887"
             ],
             [
              0.1111111111111111,
              "#46039f"
             ],
             [
              0.2222222222222222,
              "#7201a8"
             ],
             [
              0.3333333333333333,
              "#9c179e"
             ],
             [
              0.4444444444444444,
              "#bd3786"
             ],
             [
              0.5555555555555556,
              "#d8576b"
             ],
             [
              0.6666666666666666,
              "#ed7953"
             ],
             [
              0.7777777777777778,
              "#fb9f3a"
             ],
             [
              0.8888888888888888,
              "#fdca26"
             ],
             [
              1,
              "#f0f921"
             ]
            ],
            "type": "contour"
           }
          ],
          "contourcarpet": [
           {
            "colorbar": {
             "outlinewidth": 0,
             "ticks": ""
            },
            "type": "contourcarpet"
           }
          ],
          "heatmap": [
           {
            "colorbar": {
             "outlinewidth": 0,
             "ticks": ""
            },
            "colorscale": [
             [
              0,
              "#0d0887"
             ],
             [
              0.1111111111111111,
              "#46039f"
             ],
             [
              0.2222222222222222,
              "#7201a8"
             ],
             [
              0.3333333333333333,
              "#9c179e"
             ],
             [
              0.4444444444444444,
              "#bd3786"
             ],
             [
              0.5555555555555556,
              "#d8576b"
             ],
             [
              0.6666666666666666,
              "#ed7953"
             ],
             [
              0.7777777777777778,
              "#fb9f3a"
             ],
             [
              0.8888888888888888,
              "#fdca26"
             ],
             [
              1,
              "#f0f921"
             ]
            ],
            "type": "heatmap"
           }
          ],
          "heatmapgl": [
           {
            "colorbar": {
             "outlinewidth": 0,
             "ticks": ""
            },
            "colorscale": [
             [
              0,
              "#0d0887"
             ],
             [
              0.1111111111111111,
              "#46039f"
             ],
             [
              0.2222222222222222,
              "#7201a8"
             ],
             [
              0.3333333333333333,
              "#9c179e"
             ],
             [
              0.4444444444444444,
              "#bd3786"
             ],
             [
              0.5555555555555556,
              "#d8576b"
             ],
             [
              0.6666666666666666,
              "#ed7953"
             ],
             [
              0.7777777777777778,
              "#fb9f3a"
             ],
             [
              0.8888888888888888,
              "#fdca26"
             ],
             [
              1,
              "#f0f921"
             ]
            ],
            "type": "heatmapgl"
           }
          ],
          "histogram": [
           {
            "marker": {
             "pattern": {
              "fillmode": "overlay",
              "size": 10,
              "solidity": 0.2
             }
            },
            "type": "histogram"
           }
          ],
          "histogram2d": [
           {
            "colorbar": {
             "outlinewidth": 0,
             "ticks": ""
            },
            "colorscale": [
             [
              0,
              "#0d0887"
             ],
             [
              0.1111111111111111,
              "#46039f"
             ],
             [
              0.2222222222222222,
              "#7201a8"
             ],
             [
              0.3333333333333333,
              "#9c179e"
             ],
             [
              0.4444444444444444,
              "#bd3786"
             ],
             [
              0.5555555555555556,
              "#d8576b"
             ],
             [
              0.6666666666666666,
              "#ed7953"
             ],
             [
              0.7777777777777778,
              "#fb9f3a"
             ],
             [
              0.8888888888888888,
              "#fdca26"
             ],
             [
              1,
              "#f0f921"
             ]
            ],
            "type": "histogram2d"
           }
          ],
          "histogram2dcontour": [
           {
            "colorbar": {
             "outlinewidth": 0,
             "ticks": ""
            },
            "colorscale": [
             [
              0,
              "#0d0887"
             ],
             [
              0.1111111111111111,
              "#46039f"
             ],
             [
              0.2222222222222222,
              "#7201a8"
             ],
             [
              0.3333333333333333,
              "#9c179e"
             ],
             [
              0.4444444444444444,
              "#bd3786"
             ],
             [
              0.5555555555555556,
              "#d8576b"
             ],
             [
              0.6666666666666666,
              "#ed7953"
             ],
             [
              0.7777777777777778,
              "#fb9f3a"
             ],
             [
              0.8888888888888888,
              "#fdca26"
             ],
             [
              1,
              "#f0f921"
             ]
            ],
            "type": "histogram2dcontour"
           }
          ],
          "mesh3d": [
           {
            "colorbar": {
             "outlinewidth": 0,
             "ticks": ""
            },
            "type": "mesh3d"
           }
          ],
          "parcoords": [
           {
            "line": {
             "colorbar": {
              "outlinewidth": 0,
              "ticks": ""
             }
            },
            "type": "parcoords"
           }
          ],
          "pie": [
           {
            "automargin": true,
            "type": "pie"
           }
          ],
          "scatter": [
           {
            "fillpattern": {
             "fillmode": "overlay",
             "size": 10,
             "solidity": 0.2
            },
            "type": "scatter"
           }
          ],
          "scatter3d": [
           {
            "line": {
             "colorbar": {
              "outlinewidth": 0,
              "ticks": ""
             }
            },
            "marker": {
             "colorbar": {
              "outlinewidth": 0,
              "ticks": ""
             }
            },
            "type": "scatter3d"
           }
          ],
          "scattercarpet": [
           {
            "marker": {
             "colorbar": {
              "outlinewidth": 0,
              "ticks": ""
             }
            },
            "type": "scattercarpet"
           }
          ],
          "scattergeo": [
           {
            "marker": {
             "colorbar": {
              "outlinewidth": 0,
              "ticks": ""
             }
            },
            "type": "scattergeo"
           }
          ],
          "scattergl": [
           {
            "marker": {
             "colorbar": {
              "outlinewidth": 0,
              "ticks": ""
             }
            },
            "type": "scattergl"
           }
          ],
          "scattermapbox": [
           {
            "marker": {
             "colorbar": {
              "outlinewidth": 0,
              "ticks": ""
             }
            },
            "type": "scattermapbox"
           }
          ],
          "scatterpolar": [
           {
            "marker": {
             "colorbar": {
              "outlinewidth": 0,
              "ticks": ""
             }
            },
            "type": "scatterpolar"
           }
          ],
          "scatterpolargl": [
           {
            "marker": {
             "colorbar": {
              "outlinewidth": 0,
              "ticks": ""
             }
            },
            "type": "scatterpolargl"
           }
          ],
          "scatterternary": [
           {
            "marker": {
             "colorbar": {
              "outlinewidth": 0,
              "ticks": ""
             }
            },
            "type": "scatterternary"
           }
          ],
          "surface": [
           {
            "colorbar": {
             "outlinewidth": 0,
             "ticks": ""
            },
            "colorscale": [
             [
              0,
              "#0d0887"
             ],
             [
              0.1111111111111111,
              "#46039f"
             ],
             [
              0.2222222222222222,
              "#7201a8"
             ],
             [
              0.3333333333333333,
              "#9c179e"
             ],
             [
              0.4444444444444444,
              "#bd3786"
             ],
             [
              0.5555555555555556,
              "#d8576b"
             ],
             [
              0.6666666666666666,
              "#ed7953"
             ],
             [
              0.7777777777777778,
              "#fb9f3a"
             ],
             [
              0.8888888888888888,
              "#fdca26"
             ],
             [
              1,
              "#f0f921"
             ]
            ],
            "type": "surface"
           }
          ],
          "table": [
           {
            "cells": {
             "fill": {
              "color": "#EBF0F8"
             },
             "line": {
              "color": "white"
             }
            },
            "header": {
             "fill": {
              "color": "#C8D4E3"
             },
             "line": {
              "color": "white"
             }
            },
            "type": "table"
           }
          ]
         },
         "layout": {
          "annotationdefaults": {
           "arrowcolor": "#2a3f5f",
           "arrowhead": 0,
           "arrowwidth": 1
          },
          "autotypenumbers": "strict",
          "coloraxis": {
           "colorbar": {
            "outlinewidth": 0,
            "ticks": ""
           }
          },
          "colorscale": {
           "diverging": [
            [
             0,
             "#8e0152"
            ],
            [
             0.1,
             "#c51b7d"
            ],
            [
             0.2,
             "#de77ae"
            ],
            [
             0.3,
             "#f1b6da"
            ],
            [
             0.4,
             "#fde0ef"
            ],
            [
             0.5,
             "#f7f7f7"
            ],
            [
             0.6,
             "#e6f5d0"
            ],
            [
             0.7,
             "#b8e186"
            ],
            [
             0.8,
             "#7fbc41"
            ],
            [
             0.9,
             "#4d9221"
            ],
            [
             1,
             "#276419"
            ]
           ],
           "sequential": [
            [
             0,
             "#0d0887"
            ],
            [
             0.1111111111111111,
             "#46039f"
            ],
            [
             0.2222222222222222,
             "#7201a8"
            ],
            [
             0.3333333333333333,
             "#9c179e"
            ],
            [
             0.4444444444444444,
             "#bd3786"
            ],
            [
             0.5555555555555556,
             "#d8576b"
            ],
            [
             0.6666666666666666,
             "#ed7953"
            ],
            [
             0.7777777777777778,
             "#fb9f3a"
            ],
            [
             0.8888888888888888,
             "#fdca26"
            ],
            [
             1,
             "#f0f921"
            ]
           ],
           "sequentialminus": [
            [
             0,
             "#0d0887"
            ],
            [
             0.1111111111111111,
             "#46039f"
            ],
            [
             0.2222222222222222,
             "#7201a8"
            ],
            [
             0.3333333333333333,
             "#9c179e"
            ],
            [
             0.4444444444444444,
             "#bd3786"
            ],
            [
             0.5555555555555556,
             "#d8576b"
            ],
            [
             0.6666666666666666,
             "#ed7953"
            ],
            [
             0.7777777777777778,
             "#fb9f3a"
            ],
            [
             0.8888888888888888,
             "#fdca26"
            ],
            [
             1,
             "#f0f921"
            ]
           ]
          },
          "colorway": [
           "#636efa",
           "#EF553B",
           "#00cc96",
           "#ab63fa",
           "#FFA15A",
           "#19d3f3",
           "#FF6692",
           "#B6E880",
           "#FF97FF",
           "#FECB52"
          ],
          "font": {
           "color": "#2a3f5f"
          },
          "geo": {
           "bgcolor": "white",
           "lakecolor": "white",
           "landcolor": "#E5ECF6",
           "showlakes": true,
           "showland": true,
           "subunitcolor": "white"
          },
          "hoverlabel": {
           "align": "left"
          },
          "hovermode": "closest",
          "mapbox": {
           "style": "light"
          },
          "paper_bgcolor": "white",
          "plot_bgcolor": "#E5ECF6",
          "polar": {
           "angularaxis": {
            "gridcolor": "white",
            "linecolor": "white",
            "ticks": ""
           },
           "bgcolor": "#E5ECF6",
           "radialaxis": {
            "gridcolor": "white",
            "linecolor": "white",
            "ticks": ""
           }
          },
          "scene": {
           "xaxis": {
            "backgroundcolor": "#E5ECF6",
            "gridcolor": "white",
            "gridwidth": 2,
            "linecolor": "white",
            "showbackground": true,
            "ticks": "",
            "zerolinecolor": "white"
           },
           "yaxis": {
            "backgroundcolor": "#E5ECF6",
            "gridcolor": "white",
            "gridwidth": 2,
            "linecolor": "white",
            "showbackground": true,
            "ticks": "",
            "zerolinecolor": "white"
           },
           "zaxis": {
            "backgroundcolor": "#E5ECF6",
            "gridcolor": "white",
            "gridwidth": 2,
            "linecolor": "white",
            "showbackground": true,
            "ticks": "",
            "zerolinecolor": "white"
           }
          },
          "shapedefaults": {
           "line": {
            "color": "#2a3f5f"
           }
          },
          "ternary": {
           "aaxis": {
            "gridcolor": "white",
            "linecolor": "white",
            "ticks": ""
           },
           "baxis": {
            "gridcolor": "white",
            "linecolor": "white",
            "ticks": ""
           },
           "bgcolor": "#E5ECF6",
           "caxis": {
            "gridcolor": "white",
            "linecolor": "white",
            "ticks": ""
           }
          },
          "title": {
           "x": 0.05
          },
          "xaxis": {
           "automargin": true,
           "gridcolor": "white",
           "linecolor": "white",
           "ticks": "",
           "title": {
            "standoff": 15
           },
           "zerolinecolor": "white",
           "zerolinewidth": 2
          },
          "yaxis": {
           "automargin": true,
           "gridcolor": "white",
           "linecolor": "white",
           "ticks": "",
           "title": {
            "standoff": 15
           },
           "zerolinecolor": "white",
           "zerolinewidth": 2
          }
         }
        },
        "title": {
         "text": "Pearson Correlation Coefficients for Sensors vs Temperature Difference"
        },
        "width": 800,
        "xaxis": {
         "anchor": "y",
         "domain": [
          0,
          1
         ],
         "title": {
          "text": "Pearson Correlation Coefficient"
         }
        },
        "yaxis": {
         "anchor": "x",
         "domain": [
          0,
          1
         ],
         "title": {
          "text": "Sensor Name"
         }
        }
       }
      }
     },
     "metadata": {},
     "output_type": "display_data"
    }
   ],
   "source": [
    "import plotly.express as px\n",
    "\n",
    "# Create a bar plot using Plotly\n",
    "fig = px.bar(df_correlation, x=\"Pearson_coeficient\", y=\"sensor_name\",\n",
    "             orientation='h', title=\"Pearson Correlation Coefficients for Sensors vs Temperature Difference\",\n",
    "             labels={\"Pearson_coeficient\": \"Pearson Correlation Coefficient\",\n",
    "                     \"sensor_name\": \"Sensor Name\"},\n",
    "             color=\"Pearson_coeficient\", color_continuous_scale=px.colors.sequential.Viridis)\n",
    "\n",
    "# Update the layout for better aesthetics\n",
    "fig.update_layout(\n",
    "    xaxis_title=\"Pearson Correlation Coefficient\",\n",
    "    yaxis_title=\"Sensor Name\",\n",
    "    font=dict(\n",
    "        family=\"Montserrat, sans-serif\",\n",
    "        size=12,\n",
    "        color=\"#000000\"\n",
    "    ),\n",
    "    width=800,\n",
    "    height=1000\n",
    ")\n",
    "\n",
    "# Show the plot\n",
    "fig.show()\n",
    "\n",
    "# Save the plot as a PNG file\n",
    "fig.write_image(\"sensor_correlation_plot.png\")"
   ]
  },
  {
   "cell_type": "code",
   "execution_count": 9,
   "metadata": {},
   "outputs": [
    {
     "data": {
      "text/html": [
       "<div>\n",
       "<style scoped>\n",
       "    .dataframe tbody tr th:only-of-type {\n",
       "        vertical-align: middle;\n",
       "    }\n",
       "\n",
       "    .dataframe tbody tr th {\n",
       "        vertical-align: top;\n",
       "    }\n",
       "\n",
       "    .dataframe thead th {\n",
       "        text-align: right;\n",
       "    }\n",
       "</style>\n",
       "<table border=\"1\" class=\"dataframe\">\n",
       "  <thead>\n",
       "    <tr style=\"text-align: right;\">\n",
       "      <th></th>\n",
       "      <th>sensor_name</th>\n",
       "      <th>Pearson_coeficient</th>\n",
       "      <th>p_value</th>\n",
       "    </tr>\n",
       "  </thead>\n",
       "  <tbody>\n",
       "    <tr>\n",
       "      <th>0</th>\n",
       "      <td>10.pv1</td>\n",
       "      <td>0.781130</td>\n",
       "      <td>4.322203e-203</td>\n",
       "    </tr>\n",
       "    <tr>\n",
       "      <th>1</th>\n",
       "      <td>6.pv1</td>\n",
       "      <td>0.737995</td>\n",
       "      <td>6.183803e-170</td>\n",
       "    </tr>\n",
       "    <tr>\n",
       "      <th>2</th>\n",
       "      <td>19.pv0</td>\n",
       "      <td>0.717599</td>\n",
       "      <td>1.869155e-156</td>\n",
       "    </tr>\n",
       "    <tr>\n",
       "      <th>3</th>\n",
       "      <td>17.pv1</td>\n",
       "      <td>0.628931</td>\n",
       "      <td>1.790696e-109</td>\n",
       "    </tr>\n",
       "    <tr>\n",
       "      <th>4</th>\n",
       "      <td>11.pv0</td>\n",
       "      <td>0.737991</td>\n",
       "      <td>6.220064e-170</td>\n",
       "    </tr>\n",
       "    <tr>\n",
       "      <th>5</th>\n",
       "      <td>20.pv0</td>\n",
       "      <td>0.577939</td>\n",
       "      <td>9.212133e-89</td>\n",
       "    </tr>\n",
       "    <tr>\n",
       "      <th>6</th>\n",
       "      <td>27.pv1</td>\n",
       "      <td>0.798153</td>\n",
       "      <td>2.451923e-218</td>\n",
       "    </tr>\n",
       "    <tr>\n",
       "      <th>7</th>\n",
       "      <td>25.pv1</td>\n",
       "      <td>0.740847</td>\n",
       "      <td>6.384885e-172</td>\n",
       "    </tr>\n",
       "    <tr>\n",
       "      <th>8</th>\n",
       "      <td>15.pv0</td>\n",
       "      <td>0.781253</td>\n",
       "      <td>8.814490e-201</td>\n",
       "    </tr>\n",
       "    <tr>\n",
       "      <th>9</th>\n",
       "      <td>3.pv0</td>\n",
       "      <td>0.800062</td>\n",
       "      <td>2.320405e-220</td>\n",
       "    </tr>\n",
       "    <tr>\n",
       "      <th>10</th>\n",
       "      <td>2.pv1</td>\n",
       "      <td>0.787815</td>\n",
       "      <td>4.034574e-209</td>\n",
       "    </tr>\n",
       "    <tr>\n",
       "      <th>11</th>\n",
       "      <td>28.pv1</td>\n",
       "      <td>0.762980</td>\n",
       "      <td>1.819124e-188</td>\n",
       "    </tr>\n",
       "    <tr>\n",
       "      <th>12</th>\n",
       "      <td>12.pv0</td>\n",
       "      <td>0.828121</td>\n",
       "      <td>2.370989e-249</td>\n",
       "    </tr>\n",
       "    <tr>\n",
       "      <th>13</th>\n",
       "      <td>30.pv0</td>\n",
       "      <td>0.801572</td>\n",
       "      <td>8.429695e-222</td>\n",
       "    </tr>\n",
       "    <tr>\n",
       "      <th>14</th>\n",
       "      <td>1.pv1</td>\n",
       "      <td>0.762956</td>\n",
       "      <td>1.901800e-188</td>\n",
       "    </tr>\n",
       "    <tr>\n",
       "      <th>15</th>\n",
       "      <td>14.pv0</td>\n",
       "      <td>0.800584</td>\n",
       "      <td>7.403126e-221</td>\n",
       "    </tr>\n",
       "    <tr>\n",
       "      <th>16</th>\n",
       "      <td>13.pv0</td>\n",
       "      <td>0.835611</td>\n",
       "      <td>5.414444e-258</td>\n",
       "    </tr>\n",
       "    <tr>\n",
       "      <th>17</th>\n",
       "      <td>26.pv0</td>\n",
       "      <td>0.753879</td>\n",
       "      <td>1.597852e-181</td>\n",
       "    </tr>\n",
       "    <tr>\n",
       "      <th>18</th>\n",
       "      <td>23.pv0</td>\n",
       "      <td>0.669801</td>\n",
       "      <td>3.139679e-129</td>\n",
       "    </tr>\n",
       "    <tr>\n",
       "      <th>19</th>\n",
       "      <td>8.pv1</td>\n",
       "      <td>0.821354</td>\n",
       "      <td>6.750695e-242</td>\n",
       "    </tr>\n",
       "    <tr>\n",
       "      <th>20</th>\n",
       "      <td>29.pv0</td>\n",
       "      <td>0.789944</td>\n",
       "      <td>5.079610e-211</td>\n",
       "    </tr>\n",
       "    <tr>\n",
       "      <th>21</th>\n",
       "      <td>24.pv1</td>\n",
       "      <td>0.801277</td>\n",
       "      <td>1.616299e-221</td>\n",
       "    </tr>\n",
       "    <tr>\n",
       "      <th>22</th>\n",
       "      <td>22.pv0</td>\n",
       "      <td>0.785976</td>\n",
       "      <td>1.696123e-207</td>\n",
       "    </tr>\n",
       "    <tr>\n",
       "      <th>23</th>\n",
       "      <td>4.pv1</td>\n",
       "      <td>0.700852</td>\n",
       "      <td>2.137768e-146</td>\n",
       "    </tr>\n",
       "    <tr>\n",
       "      <th>24</th>\n",
       "      <td>21.pv0</td>\n",
       "      <td>0.817560</td>\n",
       "      <td>1.294641e-237</td>\n",
       "    </tr>\n",
       "    <tr>\n",
       "      <th>25</th>\n",
       "      <td>18.pv1</td>\n",
       "      <td>0.663453</td>\n",
       "      <td>7.564874e-126</td>\n",
       "    </tr>\n",
       "    <tr>\n",
       "      <th>26</th>\n",
       "      <td>7.pv1</td>\n",
       "      <td>0.757429</td>\n",
       "      <td>2.171078e-235</td>\n",
       "    </tr>\n",
       "    <tr>\n",
       "      <th>27</th>\n",
       "      <td>16.pv0</td>\n",
       "      <td>0.799378</td>\n",
       "      <td>1.032700e-219</td>\n",
       "    </tr>\n",
       "    <tr>\n",
       "      <th>28</th>\n",
       "      <td>5.pv0</td>\n",
       "      <td>0.708075</td>\n",
       "      <td>1.459255e-150</td>\n",
       "    </tr>\n",
       "    <tr>\n",
       "      <th>29</th>\n",
       "      <td>9.pv0</td>\n",
       "      <td>0.741339</td>\n",
       "      <td>2.881844e-172</td>\n",
       "    </tr>\n",
       "  </tbody>\n",
       "</table>\n",
       "</div>"
      ],
      "text/plain": [
       "   sensor_name  Pearson_coeficient        p_value\n",
       "0       10.pv1            0.781130  4.322203e-203\n",
       "1        6.pv1            0.737995  6.183803e-170\n",
       "2       19.pv0            0.717599  1.869155e-156\n",
       "3       17.pv1            0.628931  1.790696e-109\n",
       "4       11.pv0            0.737991  6.220064e-170\n",
       "5       20.pv0            0.577939   9.212133e-89\n",
       "6       27.pv1            0.798153  2.451923e-218\n",
       "7       25.pv1            0.740847  6.384885e-172\n",
       "8       15.pv0            0.781253  8.814490e-201\n",
       "9        3.pv0            0.800062  2.320405e-220\n",
       "10       2.pv1            0.787815  4.034574e-209\n",
       "11      28.pv1            0.762980  1.819124e-188\n",
       "12      12.pv0            0.828121  2.370989e-249\n",
       "13      30.pv0            0.801572  8.429695e-222\n",
       "14       1.pv1            0.762956  1.901800e-188\n",
       "15      14.pv0            0.800584  7.403126e-221\n",
       "16      13.pv0            0.835611  5.414444e-258\n",
       "17      26.pv0            0.753879  1.597852e-181\n",
       "18      23.pv0            0.669801  3.139679e-129\n",
       "19       8.pv1            0.821354  6.750695e-242\n",
       "20      29.pv0            0.789944  5.079610e-211\n",
       "21      24.pv1            0.801277  1.616299e-221\n",
       "22      22.pv0            0.785976  1.696123e-207\n",
       "23       4.pv1            0.700852  2.137768e-146\n",
       "24      21.pv0            0.817560  1.294641e-237\n",
       "25      18.pv1            0.663453  7.564874e-126\n",
       "26       7.pv1            0.757429  2.171078e-235\n",
       "27      16.pv0            0.799378  1.032700e-219\n",
       "28       5.pv0            0.708075  1.459255e-150\n",
       "29       9.pv0            0.741339  2.881844e-172"
      ]
     },
     "execution_count": 9,
     "metadata": {},
     "output_type": "execute_result"
    }
   ],
   "source": [
    "# Create a dictionary with the filtered data\n",
    "filtered_data = {\n",
    "    \"sensor_name\": [\n",
    "        \"10.pv1\", \"6.pv1\", \"19.pv0\", \"17.pv1\", \"11.pv0\", \"20.pv0\", \"27.pv1\", \"25.pv1\",\n",
    "        \"15.pv0\", \"3.pv0\", \"2.pv1\", \"28.pv1\",\n",
    "        \"12.pv0\", \"30.pv0\", \"1.pv1\", \"14.pv0\", \"13.pv0\", \"26.pv0\", \"23.pv0\", \"8.pv1\",\n",
    "        \"29.pv0\", \"24.pv1\", \"22.pv0\", \"4.pv1\",\n",
    "        \"21.pv0\", \"18.pv1\", \"7.pv1\", \"16.pv0\", \"5.pv0\", \"9.pv0\"\n",
    "    ],\n",
    "    \"Pearson_coeficient\": [\n",
    "        0.7811300647365753, 0.7379948909146853, 0.7175985950367875, 0.6289308694734224, 0.737991220233007, 0.5779394960012668,\n",
    "        0.7981527438154201, 0.7408471435014443, 0.78125269723162, 0.8000624924818267, 0.7878148569549077, 0.7629803536086361,\n",
    "        0.8281207953802613, 0.8015721867017802, 0.7629556075976673, 0.8005842142219706, 0.8356105376126535, 0.7538786908248303,\n",
    "        0.6698013328797561, 0.821353996897197, 0.7899441614919602, 0.8012767686553799, 0.7859755305826559, 0.7008522165016096,\n",
    "        0.8175598258738561, 0.6634534448343635, 0.7574286117452258, 0.7993783175956632, 0.7080753861934632, 0.7413394789821586\n",
    "    ],\n",
    "    \"p_value\": [\n",
    "        4.322202566717537e-203, 6.1838030235692676e-170, 1.869154800179105e-156, 1.790695661785928e-109, 6.2200643567083206e-170,\n",
    "        9.212133173833921e-89, 2.4519233707130345e-218, 6.384884674989266e-172, 8.814489656928672e-201, 2.3204052386401873e-220,\n",
    "        4.0345737979104237e-209, 1.8191242628953922e-188, 2.3709891636833736e-249, 8.429694737015409e-222, 1.9018001560469765e-188,\n",
    "        7.403126196888553e-221, 5.414444113193056e-258, 1.5978523950466223e-181, 3.1396790506370386e-129, 6.750695198834049e-242,\n",
    "        5.07960957624492e-211, 1.6162990949098958e-221, 1.6961225587318644e-207, 2.1377679169801666e-146, 1.294640593925991e-237,\n",
    "        7.564874166886344e-126, 2.1710775839910974e-235, 1.0327002542742992e-219, 1.4592545777067401e-150, 2.8818440169790797e-172\n",
    "    ]\n",
    "}\n",
    "\n",
    "# Create the DataFrame\n",
    "df_correlation_filt = pd.DataFrame(filtered_data)\n",
    "\n",
    "# Display the DataFrame\n",
    "df_correlation_filt"
   ]
  },
  {
   "cell_type": "code",
   "execution_count": 22,
   "metadata": {},
   "outputs": [
    {
     "data": {
      "text/html": [
       "<div>\n",
       "<style scoped>\n",
       "    .dataframe tbody tr th:only-of-type {\n",
       "        vertical-align: middle;\n",
       "    }\n",
       "\n",
       "    .dataframe tbody tr th {\n",
       "        vertical-align: top;\n",
       "    }\n",
       "\n",
       "    .dataframe thead th {\n",
       "        text-align: right;\n",
       "    }\n",
       "</style>\n",
       "<table border=\"1\" class=\"dataframe\">\n",
       "  <thead>\n",
       "    <tr style=\"text-align: right;\">\n",
       "      <th></th>\n",
       "      <th>Pearson_coeficient</th>\n",
       "      <th>p_value</th>\n",
       "    </tr>\n",
       "  </thead>\n",
       "  <tbody>\n",
       "    <tr>\n",
       "      <th>count</th>\n",
       "      <td>30.000000</td>\n",
       "      <td>3.000000e+01</td>\n",
       "    </tr>\n",
       "    <tr>\n",
       "      <th>mean</th>\n",
       "      <td>0.756395</td>\n",
       "      <td>3.070711e-90</td>\n",
       "    </tr>\n",
       "    <tr>\n",
       "      <th>std</th>\n",
       "      <td>0.060884</td>\n",
       "      <td>1.681898e-89</td>\n",
       "    </tr>\n",
       "    <tr>\n",
       "      <th>min</th>\n",
       "      <td>0.577939</td>\n",
       "      <td>5.414444e-258</td>\n",
       "    </tr>\n",
       "    <tr>\n",
       "      <th>25%</th>\n",
       "      <td>0.737992</td>\n",
       "      <td>1.135336e-220</td>\n",
       "    </tr>\n",
       "    <tr>\n",
       "      <th>50%</th>\n",
       "      <td>0.772055</td>\n",
       "      <td>4.428856e-201</td>\n",
       "    </tr>\n",
       "    <tr>\n",
       "      <th>75%</th>\n",
       "      <td>0.799891</td>\n",
       "      <td>6.210999e-170</td>\n",
       "    </tr>\n",
       "    <tr>\n",
       "      <th>max</th>\n",
       "      <td>0.835611</td>\n",
       "      <td>9.212133e-89</td>\n",
       "    </tr>\n",
       "  </tbody>\n",
       "</table>\n",
       "</div>"
      ],
      "text/plain": [
       "       Pearson_coeficient        p_value\n",
       "count           30.000000   3.000000e+01\n",
       "mean             0.756395   3.070711e-90\n",
       "std              0.060884   1.681898e-89\n",
       "min              0.577939  5.414444e-258\n",
       "25%              0.737992  1.135336e-220\n",
       "50%              0.772055  4.428856e-201\n",
       "75%              0.799891  6.210999e-170\n",
       "max              0.835611   9.212133e-89"
      ]
     },
     "execution_count": 22,
     "metadata": {},
     "output_type": "execute_result"
    }
   ],
   "source": [
    "# Create the DataFrame\n",
    "df_correlation_filt = pd.DataFrame(filtered_data)\n",
    "\n",
    "# Display the DataFrame\n",
    "df_correlation_filt.describe()"
   ]
  },
  {
   "cell_type": "code",
   "execution_count": 20,
   "metadata": {},
   "outputs": [
    {
     "data": {
      "application/vnd.plotly.v1+json": {
       "config": {
        "plotlyServerURL": "https://plot.ly"
       },
       "data": [
        {
         "marker": {
          "color": "skyblue"
         },
         "orientation": "h",
         "type": "bar",
         "x": [
          0.7811300647365753,
          0.7379948909146853,
          0.7175985950367875,
          0.6289308694734224,
          0.737991220233007,
          0.5779394960012668,
          0.7981527438154201,
          0.7408471435014443,
          0.78125269723162,
          0.8000624924818267,
          0.7878148569549077,
          0.7629803536086361,
          0.8281207953802613,
          0.8015721867017802,
          0.7629556075976673,
          0.8005842142219706,
          0.8356105376126535,
          0.7538786908248303,
          0.6698013328797561,
          0.821353996897197,
          0.7899441614919602,
          0.8012767686553799,
          0.7859755305826559,
          0.7008522165016096,
          0.8175598258738561,
          0.6634534448343635,
          0.7574286117452258,
          0.7993783175956632,
          0.7080753861934632,
          0.7413394789821586
         ],
         "y": [
          "10.pv1",
          "6.pv1",
          "19.pv0",
          "17.pv1",
          "11.pv0",
          "20.pv0",
          "27.pv1",
          "25.pv1",
          "15.pv0",
          "3.pv0",
          "2.pv1",
          "28.pv1",
          "12.pv0",
          "30.pv0",
          "1.pv1",
          "14.pv0",
          "13.pv0",
          "26.pv0",
          "23.pv0",
          "8.pv1",
          "29.pv0",
          "24.pv1",
          "22.pv0",
          "4.pv1",
          "21.pv0",
          "18.pv1",
          "7.pv1",
          "16.pv0",
          "5.pv0",
          "9.pv0"
         ]
        }
       ],
       "layout": {
        "font": {
         "color": "#000000",
         "family": "Montserrat, sans-serif",
         "size": 12
        },
        "height": 500,
        "margin": {
         "b": 50,
         "l": 50,
         "r": 25,
         "t": 50
        },
        "plot_bgcolor": "#EEEEEE",
        "template": {
         "data": {
          "bar": [
           {
            "error_x": {
             "color": "#2a3f5f"
            },
            "error_y": {
             "color": "#2a3f5f"
            },
            "marker": {
             "line": {
              "color": "#E5ECF6",
              "width": 0.5
             },
             "pattern": {
              "fillmode": "overlay",
              "size": 10,
              "solidity": 0.2
             }
            },
            "type": "bar"
           }
          ],
          "barpolar": [
           {
            "marker": {
             "line": {
              "color": "#E5ECF6",
              "width": 0.5
             },
             "pattern": {
              "fillmode": "overlay",
              "size": 10,
              "solidity": 0.2
             }
            },
            "type": "barpolar"
           }
          ],
          "carpet": [
           {
            "aaxis": {
             "endlinecolor": "#2a3f5f",
             "gridcolor": "white",
             "linecolor": "white",
             "minorgridcolor": "white",
             "startlinecolor": "#2a3f5f"
            },
            "baxis": {
             "endlinecolor": "#2a3f5f",
             "gridcolor": "white",
             "linecolor": "white",
             "minorgridcolor": "white",
             "startlinecolor": "#2a3f5f"
            },
            "type": "carpet"
           }
          ],
          "choropleth": [
           {
            "colorbar": {
             "outlinewidth": 0,
             "ticks": ""
            },
            "type": "choropleth"
           }
          ],
          "contour": [
           {
            "colorbar": {
             "outlinewidth": 0,
             "ticks": ""
            },
            "colorscale": [
             [
              0,
              "#0d0887"
             ],
             [
              0.1111111111111111,
              "#46039f"
             ],
             [
              0.2222222222222222,
              "#7201a8"
             ],
             [
              0.3333333333333333,
              "#9c179e"
             ],
             [
              0.4444444444444444,
              "#bd3786"
             ],
             [
              0.5555555555555556,
              "#d8576b"
             ],
             [
              0.6666666666666666,
              "#ed7953"
             ],
             [
              0.7777777777777778,
              "#fb9f3a"
             ],
             [
              0.8888888888888888,
              "#fdca26"
             ],
             [
              1,
              "#f0f921"
             ]
            ],
            "type": "contour"
           }
          ],
          "contourcarpet": [
           {
            "colorbar": {
             "outlinewidth": 0,
             "ticks": ""
            },
            "type": "contourcarpet"
           }
          ],
          "heatmap": [
           {
            "colorbar": {
             "outlinewidth": 0,
             "ticks": ""
            },
            "colorscale": [
             [
              0,
              "#0d0887"
             ],
             [
              0.1111111111111111,
              "#46039f"
             ],
             [
              0.2222222222222222,
              "#7201a8"
             ],
             [
              0.3333333333333333,
              "#9c179e"
             ],
             [
              0.4444444444444444,
              "#bd3786"
             ],
             [
              0.5555555555555556,
              "#d8576b"
             ],
             [
              0.6666666666666666,
              "#ed7953"
             ],
             [
              0.7777777777777778,
              "#fb9f3a"
             ],
             [
              0.8888888888888888,
              "#fdca26"
             ],
             [
              1,
              "#f0f921"
             ]
            ],
            "type": "heatmap"
           }
          ],
          "heatmapgl": [
           {
            "colorbar": {
             "outlinewidth": 0,
             "ticks": ""
            },
            "colorscale": [
             [
              0,
              "#0d0887"
             ],
             [
              0.1111111111111111,
              "#46039f"
             ],
             [
              0.2222222222222222,
              "#7201a8"
             ],
             [
              0.3333333333333333,
              "#9c179e"
             ],
             [
              0.4444444444444444,
              "#bd3786"
             ],
             [
              0.5555555555555556,
              "#d8576b"
             ],
             [
              0.6666666666666666,
              "#ed7953"
             ],
             [
              0.7777777777777778,
              "#fb9f3a"
             ],
             [
              0.8888888888888888,
              "#fdca26"
             ],
             [
              1,
              "#f0f921"
             ]
            ],
            "type": "heatmapgl"
           }
          ],
          "histogram": [
           {
            "marker": {
             "pattern": {
              "fillmode": "overlay",
              "size": 10,
              "solidity": 0.2
             }
            },
            "type": "histogram"
           }
          ],
          "histogram2d": [
           {
            "colorbar": {
             "outlinewidth": 0,
             "ticks": ""
            },
            "colorscale": [
             [
              0,
              "#0d0887"
             ],
             [
              0.1111111111111111,
              "#46039f"
             ],
             [
              0.2222222222222222,
              "#7201a8"
             ],
             [
              0.3333333333333333,
              "#9c179e"
             ],
             [
              0.4444444444444444,
              "#bd3786"
             ],
             [
              0.5555555555555556,
              "#d8576b"
             ],
             [
              0.6666666666666666,
              "#ed7953"
             ],
             [
              0.7777777777777778,
              "#fb9f3a"
             ],
             [
              0.8888888888888888,
              "#fdca26"
             ],
             [
              1,
              "#f0f921"
             ]
            ],
            "type": "histogram2d"
           }
          ],
          "histogram2dcontour": [
           {
            "colorbar": {
             "outlinewidth": 0,
             "ticks": ""
            },
            "colorscale": [
             [
              0,
              "#0d0887"
             ],
             [
              0.1111111111111111,
              "#46039f"
             ],
             [
              0.2222222222222222,
              "#7201a8"
             ],
             [
              0.3333333333333333,
              "#9c179e"
             ],
             [
              0.4444444444444444,
              "#bd3786"
             ],
             [
              0.5555555555555556,
              "#d8576b"
             ],
             [
              0.6666666666666666,
              "#ed7953"
             ],
             [
              0.7777777777777778,
              "#fb9f3a"
             ],
             [
              0.8888888888888888,
              "#fdca26"
             ],
             [
              1,
              "#f0f921"
             ]
            ],
            "type": "histogram2dcontour"
           }
          ],
          "mesh3d": [
           {
            "colorbar": {
             "outlinewidth": 0,
             "ticks": ""
            },
            "type": "mesh3d"
           }
          ],
          "parcoords": [
           {
            "line": {
             "colorbar": {
              "outlinewidth": 0,
              "ticks": ""
             }
            },
            "type": "parcoords"
           }
          ],
          "pie": [
           {
            "automargin": true,
            "type": "pie"
           }
          ],
          "scatter": [
           {
            "fillpattern": {
             "fillmode": "overlay",
             "size": 10,
             "solidity": 0.2
            },
            "type": "scatter"
           }
          ],
          "scatter3d": [
           {
            "line": {
             "colorbar": {
              "outlinewidth": 0,
              "ticks": ""
             }
            },
            "marker": {
             "colorbar": {
              "outlinewidth": 0,
              "ticks": ""
             }
            },
            "type": "scatter3d"
           }
          ],
          "scattercarpet": [
           {
            "marker": {
             "colorbar": {
              "outlinewidth": 0,
              "ticks": ""
             }
            },
            "type": "scattercarpet"
           }
          ],
          "scattergeo": [
           {
            "marker": {
             "colorbar": {
              "outlinewidth": 0,
              "ticks": ""
             }
            },
            "type": "scattergeo"
           }
          ],
          "scattergl": [
           {
            "marker": {
             "colorbar": {
              "outlinewidth": 0,
              "ticks": ""
             }
            },
            "type": "scattergl"
           }
          ],
          "scattermapbox": [
           {
            "marker": {
             "colorbar": {
              "outlinewidth": 0,
              "ticks": ""
             }
            },
            "type": "scattermapbox"
           }
          ],
          "scatterpolar": [
           {
            "marker": {
             "colorbar": {
              "outlinewidth": 0,
              "ticks": ""
             }
            },
            "type": "scatterpolar"
           }
          ],
          "scatterpolargl": [
           {
            "marker": {
             "colorbar": {
              "outlinewidth": 0,
              "ticks": ""
             }
            },
            "type": "scatterpolargl"
           }
          ],
          "scatterternary": [
           {
            "marker": {
             "colorbar": {
              "outlinewidth": 0,
              "ticks": ""
             }
            },
            "type": "scatterternary"
           }
          ],
          "surface": [
           {
            "colorbar": {
             "outlinewidth": 0,
             "ticks": ""
            },
            "colorscale": [
             [
              0,
              "#0d0887"
             ],
             [
              0.1111111111111111,
              "#46039f"
             ],
             [
              0.2222222222222222,
              "#7201a8"
             ],
             [
              0.3333333333333333,
              "#9c179e"
             ],
             [
              0.4444444444444444,
              "#bd3786"
             ],
             [
              0.5555555555555556,
              "#d8576b"
             ],
             [
              0.6666666666666666,
              "#ed7953"
             ],
             [
              0.7777777777777778,
              "#fb9f3a"
             ],
             [
              0.8888888888888888,
              "#fdca26"
             ],
             [
              1,
              "#f0f921"
             ]
            ],
            "type": "surface"
           }
          ],
          "table": [
           {
            "cells": {
             "fill": {
              "color": "#EBF0F8"
             },
             "line": {
              "color": "white"
             }
            },
            "header": {
             "fill": {
              "color": "#C8D4E3"
             },
             "line": {
              "color": "white"
             }
            },
            "type": "table"
           }
          ]
         },
         "layout": {
          "annotationdefaults": {
           "arrowcolor": "#2a3f5f",
           "arrowhead": 0,
           "arrowwidth": 1
          },
          "autotypenumbers": "strict",
          "coloraxis": {
           "colorbar": {
            "outlinewidth": 0,
            "ticks": ""
           }
          },
          "colorscale": {
           "diverging": [
            [
             0,
             "#8e0152"
            ],
            [
             0.1,
             "#c51b7d"
            ],
            [
             0.2,
             "#de77ae"
            ],
            [
             0.3,
             "#f1b6da"
            ],
            [
             0.4,
             "#fde0ef"
            ],
            [
             0.5,
             "#f7f7f7"
            ],
            [
             0.6,
             "#e6f5d0"
            ],
            [
             0.7,
             "#b8e186"
            ],
            [
             0.8,
             "#7fbc41"
            ],
            [
             0.9,
             "#4d9221"
            ],
            [
             1,
             "#276419"
            ]
           ],
           "sequential": [
            [
             0,
             "#0d0887"
            ],
            [
             0.1111111111111111,
             "#46039f"
            ],
            [
             0.2222222222222222,
             "#7201a8"
            ],
            [
             0.3333333333333333,
             "#9c179e"
            ],
            [
             0.4444444444444444,
             "#bd3786"
            ],
            [
             0.5555555555555556,
             "#d8576b"
            ],
            [
             0.6666666666666666,
             "#ed7953"
            ],
            [
             0.7777777777777778,
             "#fb9f3a"
            ],
            [
             0.8888888888888888,
             "#fdca26"
            ],
            [
             1,
             "#f0f921"
            ]
           ],
           "sequentialminus": [
            [
             0,
             "#0d0887"
            ],
            [
             0.1111111111111111,
             "#46039f"
            ],
            [
             0.2222222222222222,
             "#7201a8"
            ],
            [
             0.3333333333333333,
             "#9c179e"
            ],
            [
             0.4444444444444444,
             "#bd3786"
            ],
            [
             0.5555555555555556,
             "#d8576b"
            ],
            [
             0.6666666666666666,
             "#ed7953"
            ],
            [
             0.7777777777777778,
             "#fb9f3a"
            ],
            [
             0.8888888888888888,
             "#fdca26"
            ],
            [
             1,
             "#f0f921"
            ]
           ]
          },
          "colorway": [
           "#636efa",
           "#EF553B",
           "#00cc96",
           "#ab63fa",
           "#FFA15A",
           "#19d3f3",
           "#FF6692",
           "#B6E880",
           "#FF97FF",
           "#FECB52"
          ],
          "font": {
           "color": "#2a3f5f"
          },
          "geo": {
           "bgcolor": "white",
           "lakecolor": "white",
           "landcolor": "#E5ECF6",
           "showlakes": true,
           "showland": true,
           "subunitcolor": "white"
          },
          "hoverlabel": {
           "align": "left"
          },
          "hovermode": "closest",
          "mapbox": {
           "style": "light"
          },
          "paper_bgcolor": "white",
          "plot_bgcolor": "#E5ECF6",
          "polar": {
           "angularaxis": {
            "gridcolor": "white",
            "linecolor": "white",
            "ticks": ""
           },
           "bgcolor": "#E5ECF6",
           "radialaxis": {
            "gridcolor": "white",
            "linecolor": "white",
            "ticks": ""
           }
          },
          "scene": {
           "xaxis": {
            "backgroundcolor": "#E5ECF6",
            "gridcolor": "white",
            "gridwidth": 2,
            "linecolor": "white",
            "showbackground": true,
            "ticks": "",
            "zerolinecolor": "white"
           },
           "yaxis": {
            "backgroundcolor": "#E5ECF6",
            "gridcolor": "white",
            "gridwidth": 2,
            "linecolor": "white",
            "showbackground": true,
            "ticks": "",
            "zerolinecolor": "white"
           },
           "zaxis": {
            "backgroundcolor": "#E5ECF6",
            "gridcolor": "white",
            "gridwidth": 2,
            "linecolor": "white",
            "showbackground": true,
            "ticks": "",
            "zerolinecolor": "white"
           }
          },
          "shapedefaults": {
           "line": {
            "color": "#2a3f5f"
           }
          },
          "ternary": {
           "aaxis": {
            "gridcolor": "white",
            "linecolor": "white",
            "ticks": ""
           },
           "baxis": {
            "gridcolor": "white",
            "linecolor": "white",
            "ticks": ""
           },
           "bgcolor": "#E5ECF6",
           "caxis": {
            "gridcolor": "white",
            "linecolor": "white",
            "ticks": ""
           }
          },
          "title": {
           "x": 0.05
          },
          "xaxis": {
           "automargin": true,
           "gridcolor": "white",
           "linecolor": "white",
           "ticks": "",
           "title": {
            "standoff": 15
           },
           "zerolinecolor": "white",
           "zerolinewidth": 2
          },
          "yaxis": {
           "automargin": true,
           "gridcolor": "white",
           "linecolor": "white",
           "ticks": "",
           "title": {
            "standoff": 15
           },
           "zerolinecolor": "white",
           "zerolinewidth": 2
          }
         }
        },
        "title": {
         "text": "Pearson Coefficient for Selected Sensors"
        },
        "width": 800,
        "xaxis": {
         "title": {
          "text": "Pearson Coefficient"
         }
        },
        "yaxis": {
         "autorange": "reversed",
         "title": {
          "text": "Sensor Name"
         }
        }
       }
      }
     },
     "metadata": {},
     "output_type": "display_data"
    }
   ],
   "source": [
    "import plotly.graph_objs as go\n",
    "import plotly.io as pio\n",
    "\n",
    "# Create the bar plot\n",
    "fig = go.Figure()\n",
    "\n",
    "fig.add_trace(go.Bar(\n",
    "    x=df_correlation_filt['Pearson_coeficient'],\n",
    "    y=df_correlation_filt['sensor_name'],\n",
    "    orientation='h',\n",
    "    marker=dict(color='skyblue')\n",
    "))\n",
    "\n",
    "# Update layout\n",
    "fig.update_layout(\n",
    "    title='Pearson Coefficient for Selected Sensors',\n",
    "    xaxis_title='Pearson Coefficient',\n",
    "    yaxis_title='Sensor Name',\n",
    "    # Invert y-axis to display the highest value at the top\n",
    "    yaxis=dict(autorange='reversed'),\n",
    "    plot_bgcolor='#EEEEEE',\n",
    "    font=dict(\n",
    "        family=\"Montserrat, sans-serif\",\n",
    "        size=12,\n",
    "        color=\"#000000\"\n",
    "    ),\n",
    "    width=800,\n",
    "    height=500,\n",
    "    margin=dict(l=50, r=25, t=50, b=50)\n",
    ")\n",
    "\n",
    "# Show the plot\n",
    "fig.show()"
   ]
  },
  {
   "cell_type": "code",
   "execution_count": 21,
   "metadata": {},
   "outputs": [
    {
     "data": {
      "application/vnd.plotly.v1+json": {
       "config": {
        "plotlyServerURL": "https://plot.ly"
       },
       "data": [
        {
         "marker": {
          "color": "skyblue"
         },
         "orientation": "h",
         "type": "bar",
         "x": [
          4.322202566717537e-203,
          6.1838030235692676e-170,
          1.869154800179105e-156,
          1.790695661785928e-109,
          6.2200643567083206e-170,
          9.212133173833921e-89,
          2.4519233707130345e-218,
          6.384884674989266e-172,
          8.814489656928672e-201,
          2.3204052386401873e-220,
          4.0345737979104237e-209,
          1.8191242628953922e-188,
          2.3709891636833736e-249,
          8.429694737015409e-222,
          1.9018001560469765e-188,
          7.403126196888553e-221,
          5.414444113193056e-258,
          1.5978523950466223e-181,
          3.1396790506370386e-129,
          6.750695198834049e-242,
          5.07960957624492e-211,
          1.6162990949098958e-221,
          1.6961225587318644e-207,
          2.1377679169801666e-146,
          1.294640593925991e-237,
          7.564874166886344e-126,
          2.1710775839910974e-235,
          1.0327002542742992e-219,
          1.4592545777067401e-150,
          2.8818440169790797e-172
         ],
         "y": [
          "10.pv1",
          "6.pv1",
          "19.pv0",
          "17.pv1",
          "11.pv0",
          "20.pv0",
          "27.pv1",
          "25.pv1",
          "15.pv0",
          "3.pv0",
          "2.pv1",
          "28.pv1",
          "12.pv0",
          "30.pv0",
          "1.pv1",
          "14.pv0",
          "13.pv0",
          "26.pv0",
          "23.pv0",
          "8.pv1",
          "29.pv0",
          "24.pv1",
          "22.pv0",
          "4.pv1",
          "21.pv0",
          "18.pv1",
          "7.pv1",
          "16.pv0",
          "5.pv0",
          "9.pv0"
         ]
        }
       ],
       "layout": {
        "font": {
         "color": "#000000",
         "family": "Montserrat, sans-serif",
         "size": 12
        },
        "height": 500,
        "margin": {
         "b": 50,
         "l": 50,
         "r": 25,
         "t": 50
        },
        "plot_bgcolor": "#EEEEEE",
        "template": {
         "data": {
          "bar": [
           {
            "error_x": {
             "color": "#2a3f5f"
            },
            "error_y": {
             "color": "#2a3f5f"
            },
            "marker": {
             "line": {
              "color": "#E5ECF6",
              "width": 0.5
             },
             "pattern": {
              "fillmode": "overlay",
              "size": 10,
              "solidity": 0.2
             }
            },
            "type": "bar"
           }
          ],
          "barpolar": [
           {
            "marker": {
             "line": {
              "color": "#E5ECF6",
              "width": 0.5
             },
             "pattern": {
              "fillmode": "overlay",
              "size": 10,
              "solidity": 0.2
             }
            },
            "type": "barpolar"
           }
          ],
          "carpet": [
           {
            "aaxis": {
             "endlinecolor": "#2a3f5f",
             "gridcolor": "white",
             "linecolor": "white",
             "minorgridcolor": "white",
             "startlinecolor": "#2a3f5f"
            },
            "baxis": {
             "endlinecolor": "#2a3f5f",
             "gridcolor": "white",
             "linecolor": "white",
             "minorgridcolor": "white",
             "startlinecolor": "#2a3f5f"
            },
            "type": "carpet"
           }
          ],
          "choropleth": [
           {
            "colorbar": {
             "outlinewidth": 0,
             "ticks": ""
            },
            "type": "choropleth"
           }
          ],
          "contour": [
           {
            "colorbar": {
             "outlinewidth": 0,
             "ticks": ""
            },
            "colorscale": [
             [
              0,
              "#0d0887"
             ],
             [
              0.1111111111111111,
              "#46039f"
             ],
             [
              0.2222222222222222,
              "#7201a8"
             ],
             [
              0.3333333333333333,
              "#9c179e"
             ],
             [
              0.4444444444444444,
              "#bd3786"
             ],
             [
              0.5555555555555556,
              "#d8576b"
             ],
             [
              0.6666666666666666,
              "#ed7953"
             ],
             [
              0.7777777777777778,
              "#fb9f3a"
             ],
             [
              0.8888888888888888,
              "#fdca26"
             ],
             [
              1,
              "#f0f921"
             ]
            ],
            "type": "contour"
           }
          ],
          "contourcarpet": [
           {
            "colorbar": {
             "outlinewidth": 0,
             "ticks": ""
            },
            "type": "contourcarpet"
           }
          ],
          "heatmap": [
           {
            "colorbar": {
             "outlinewidth": 0,
             "ticks": ""
            },
            "colorscale": [
             [
              0,
              "#0d0887"
             ],
             [
              0.1111111111111111,
              "#46039f"
             ],
             [
              0.2222222222222222,
              "#7201a8"
             ],
             [
              0.3333333333333333,
              "#9c179e"
             ],
             [
              0.4444444444444444,
              "#bd3786"
             ],
             [
              0.5555555555555556,
              "#d8576b"
             ],
             [
              0.6666666666666666,
              "#ed7953"
             ],
             [
              0.7777777777777778,
              "#fb9f3a"
             ],
             [
              0.8888888888888888,
              "#fdca26"
             ],
             [
              1,
              "#f0f921"
             ]
            ],
            "type": "heatmap"
           }
          ],
          "heatmapgl": [
           {
            "colorbar": {
             "outlinewidth": 0,
             "ticks": ""
            },
            "colorscale": [
             [
              0,
              "#0d0887"
             ],
             [
              0.1111111111111111,
              "#46039f"
             ],
             [
              0.2222222222222222,
              "#7201a8"
             ],
             [
              0.3333333333333333,
              "#9c179e"
             ],
             [
              0.4444444444444444,
              "#bd3786"
             ],
             [
              0.5555555555555556,
              "#d8576b"
             ],
             [
              0.6666666666666666,
              "#ed7953"
             ],
             [
              0.7777777777777778,
              "#fb9f3a"
             ],
             [
              0.8888888888888888,
              "#fdca26"
             ],
             [
              1,
              "#f0f921"
             ]
            ],
            "type": "heatmapgl"
           }
          ],
          "histogram": [
           {
            "marker": {
             "pattern": {
              "fillmode": "overlay",
              "size": 10,
              "solidity": 0.2
             }
            },
            "type": "histogram"
           }
          ],
          "histogram2d": [
           {
            "colorbar": {
             "outlinewidth": 0,
             "ticks": ""
            },
            "colorscale": [
             [
              0,
              "#0d0887"
             ],
             [
              0.1111111111111111,
              "#46039f"
             ],
             [
              0.2222222222222222,
              "#7201a8"
             ],
             [
              0.3333333333333333,
              "#9c179e"
             ],
             [
              0.4444444444444444,
              "#bd3786"
             ],
             [
              0.5555555555555556,
              "#d8576b"
             ],
             [
              0.6666666666666666,
              "#ed7953"
             ],
             [
              0.7777777777777778,
              "#fb9f3a"
             ],
             [
              0.8888888888888888,
              "#fdca26"
             ],
             [
              1,
              "#f0f921"
             ]
            ],
            "type": "histogram2d"
           }
          ],
          "histogram2dcontour": [
           {
            "colorbar": {
             "outlinewidth": 0,
             "ticks": ""
            },
            "colorscale": [
             [
              0,
              "#0d0887"
             ],
             [
              0.1111111111111111,
              "#46039f"
             ],
             [
              0.2222222222222222,
              "#7201a8"
             ],
             [
              0.3333333333333333,
              "#9c179e"
             ],
             [
              0.4444444444444444,
              "#bd3786"
             ],
             [
              0.5555555555555556,
              "#d8576b"
             ],
             [
              0.6666666666666666,
              "#ed7953"
             ],
             [
              0.7777777777777778,
              "#fb9f3a"
             ],
             [
              0.8888888888888888,
              "#fdca26"
             ],
             [
              1,
              "#f0f921"
             ]
            ],
            "type": "histogram2dcontour"
           }
          ],
          "mesh3d": [
           {
            "colorbar": {
             "outlinewidth": 0,
             "ticks": ""
            },
            "type": "mesh3d"
           }
          ],
          "parcoords": [
           {
            "line": {
             "colorbar": {
              "outlinewidth": 0,
              "ticks": ""
             }
            },
            "type": "parcoords"
           }
          ],
          "pie": [
           {
            "automargin": true,
            "type": "pie"
           }
          ],
          "scatter": [
           {
            "fillpattern": {
             "fillmode": "overlay",
             "size": 10,
             "solidity": 0.2
            },
            "type": "scatter"
           }
          ],
          "scatter3d": [
           {
            "line": {
             "colorbar": {
              "outlinewidth": 0,
              "ticks": ""
             }
            },
            "marker": {
             "colorbar": {
              "outlinewidth": 0,
              "ticks": ""
             }
            },
            "type": "scatter3d"
           }
          ],
          "scattercarpet": [
           {
            "marker": {
             "colorbar": {
              "outlinewidth": 0,
              "ticks": ""
             }
            },
            "type": "scattercarpet"
           }
          ],
          "scattergeo": [
           {
            "marker": {
             "colorbar": {
              "outlinewidth": 0,
              "ticks": ""
             }
            },
            "type": "scattergeo"
           }
          ],
          "scattergl": [
           {
            "marker": {
             "colorbar": {
              "outlinewidth": 0,
              "ticks": ""
             }
            },
            "type": "scattergl"
           }
          ],
          "scattermapbox": [
           {
            "marker": {
             "colorbar": {
              "outlinewidth": 0,
              "ticks": ""
             }
            },
            "type": "scattermapbox"
           }
          ],
          "scatterpolar": [
           {
            "marker": {
             "colorbar": {
              "outlinewidth": 0,
              "ticks": ""
             }
            },
            "type": "scatterpolar"
           }
          ],
          "scatterpolargl": [
           {
            "marker": {
             "colorbar": {
              "outlinewidth": 0,
              "ticks": ""
             }
            },
            "type": "scatterpolargl"
           }
          ],
          "scatterternary": [
           {
            "marker": {
             "colorbar": {
              "outlinewidth": 0,
              "ticks": ""
             }
            },
            "type": "scatterternary"
           }
          ],
          "surface": [
           {
            "colorbar": {
             "outlinewidth": 0,
             "ticks": ""
            },
            "colorscale": [
             [
              0,
              "#0d0887"
             ],
             [
              0.1111111111111111,
              "#46039f"
             ],
             [
              0.2222222222222222,
              "#7201a8"
             ],
             [
              0.3333333333333333,
              "#9c179e"
             ],
             [
              0.4444444444444444,
              "#bd3786"
             ],
             [
              0.5555555555555556,
              "#d8576b"
             ],
             [
              0.6666666666666666,
              "#ed7953"
             ],
             [
              0.7777777777777778,
              "#fb9f3a"
             ],
             [
              0.8888888888888888,
              "#fdca26"
             ],
             [
              1,
              "#f0f921"
             ]
            ],
            "type": "surface"
           }
          ],
          "table": [
           {
            "cells": {
             "fill": {
              "color": "#EBF0F8"
             },
             "line": {
              "color": "white"
             }
            },
            "header": {
             "fill": {
              "color": "#C8D4E3"
             },
             "line": {
              "color": "white"
             }
            },
            "type": "table"
           }
          ]
         },
         "layout": {
          "annotationdefaults": {
           "arrowcolor": "#2a3f5f",
           "arrowhead": 0,
           "arrowwidth": 1
          },
          "autotypenumbers": "strict",
          "coloraxis": {
           "colorbar": {
            "outlinewidth": 0,
            "ticks": ""
           }
          },
          "colorscale": {
           "diverging": [
            [
             0,
             "#8e0152"
            ],
            [
             0.1,
             "#c51b7d"
            ],
            [
             0.2,
             "#de77ae"
            ],
            [
             0.3,
             "#f1b6da"
            ],
            [
             0.4,
             "#fde0ef"
            ],
            [
             0.5,
             "#f7f7f7"
            ],
            [
             0.6,
             "#e6f5d0"
            ],
            [
             0.7,
             "#b8e186"
            ],
            [
             0.8,
             "#7fbc41"
            ],
            [
             0.9,
             "#4d9221"
            ],
            [
             1,
             "#276419"
            ]
           ],
           "sequential": [
            [
             0,
             "#0d0887"
            ],
            [
             0.1111111111111111,
             "#46039f"
            ],
            [
             0.2222222222222222,
             "#7201a8"
            ],
            [
             0.3333333333333333,
             "#9c179e"
            ],
            [
             0.4444444444444444,
             "#bd3786"
            ],
            [
             0.5555555555555556,
             "#d8576b"
            ],
            [
             0.6666666666666666,
             "#ed7953"
            ],
            [
             0.7777777777777778,
             "#fb9f3a"
            ],
            [
             0.8888888888888888,
             "#fdca26"
            ],
            [
             1,
             "#f0f921"
            ]
           ],
           "sequentialminus": [
            [
             0,
             "#0d0887"
            ],
            [
             0.1111111111111111,
             "#46039f"
            ],
            [
             0.2222222222222222,
             "#7201a8"
            ],
            [
             0.3333333333333333,
             "#9c179e"
            ],
            [
             0.4444444444444444,
             "#bd3786"
            ],
            [
             0.5555555555555556,
             "#d8576b"
            ],
            [
             0.6666666666666666,
             "#ed7953"
            ],
            [
             0.7777777777777778,
             "#fb9f3a"
            ],
            [
             0.8888888888888888,
             "#fdca26"
            ],
            [
             1,
             "#f0f921"
            ]
           ]
          },
          "colorway": [
           "#636efa",
           "#EF553B",
           "#00cc96",
           "#ab63fa",
           "#FFA15A",
           "#19d3f3",
           "#FF6692",
           "#B6E880",
           "#FF97FF",
           "#FECB52"
          ],
          "font": {
           "color": "#2a3f5f"
          },
          "geo": {
           "bgcolor": "white",
           "lakecolor": "white",
           "landcolor": "#E5ECF6",
           "showlakes": true,
           "showland": true,
           "subunitcolor": "white"
          },
          "hoverlabel": {
           "align": "left"
          },
          "hovermode": "closest",
          "mapbox": {
           "style": "light"
          },
          "paper_bgcolor": "white",
          "plot_bgcolor": "#E5ECF6",
          "polar": {
           "angularaxis": {
            "gridcolor": "white",
            "linecolor": "white",
            "ticks": ""
           },
           "bgcolor": "#E5ECF6",
           "radialaxis": {
            "gridcolor": "white",
            "linecolor": "white",
            "ticks": ""
           }
          },
          "scene": {
           "xaxis": {
            "backgroundcolor": "#E5ECF6",
            "gridcolor": "white",
            "gridwidth": 2,
            "linecolor": "white",
            "showbackground": true,
            "ticks": "",
            "zerolinecolor": "white"
           },
           "yaxis": {
            "backgroundcolor": "#E5ECF6",
            "gridcolor": "white",
            "gridwidth": 2,
            "linecolor": "white",
            "showbackground": true,
            "ticks": "",
            "zerolinecolor": "white"
           },
           "zaxis": {
            "backgroundcolor": "#E5ECF6",
            "gridcolor": "white",
            "gridwidth": 2,
            "linecolor": "white",
            "showbackground": true,
            "ticks": "",
            "zerolinecolor": "white"
           }
          },
          "shapedefaults": {
           "line": {
            "color": "#2a3f5f"
           }
          },
          "ternary": {
           "aaxis": {
            "gridcolor": "white",
            "linecolor": "white",
            "ticks": ""
           },
           "baxis": {
            "gridcolor": "white",
            "linecolor": "white",
            "ticks": ""
           },
           "bgcolor": "#E5ECF6",
           "caxis": {
            "gridcolor": "white",
            "linecolor": "white",
            "ticks": ""
           }
          },
          "title": {
           "x": 0.05
          },
          "xaxis": {
           "automargin": true,
           "gridcolor": "white",
           "linecolor": "white",
           "ticks": "",
           "title": {
            "standoff": 15
           },
           "zerolinecolor": "white",
           "zerolinewidth": 2
          },
          "yaxis": {
           "automargin": true,
           "gridcolor": "white",
           "linecolor": "white",
           "ticks": "",
           "title": {
            "standoff": 15
           },
           "zerolinecolor": "white",
           "zerolinewidth": 2
          }
         }
        },
        "title": {
         "text": "Pearson Coefficient for Selected Sensors"
        },
        "width": 800,
        "xaxis": {
         "title": {
          "text": "Pearson Coefficient"
         }
        },
        "yaxis": {
         "autorange": "reversed",
         "title": {
          "text": "Sensor Name"
         }
        }
       }
      }
     },
     "metadata": {},
     "output_type": "display_data"
    }
   ],
   "source": [
    "import plotly.graph_objs as go\n",
    "import plotly.io as pio\n",
    "\n",
    "# Create the bar plot\n",
    "fig = go.Figure()\n",
    "\n",
    "fig.add_trace(go.Bar(\n",
    "    x=df_correlation_filt['p_value'],\n",
    "    y=df_correlation_filt['sensor_name'],\n",
    "    orientation='h',\n",
    "    marker=dict(color='skyblue')\n",
    "))\n",
    "\n",
    "# Update layout\n",
    "fig.update_layout(\n",
    "    title='Pearson Coefficient for Selected Sensors',\n",
    "    xaxis_title='Pearson Coefficient',\n",
    "    yaxis_title='Sensor Name',\n",
    "    # Invert y-axis to display the highest value at the top\n",
    "    yaxis=dict(autorange='reversed'),\n",
    "    plot_bgcolor='#EEEEEE',\n",
    "    font=dict(\n",
    "        family=\"Montserrat, sans-serif\",\n",
    "        size=12,\n",
    "        color=\"#000000\"\n",
    "    ),\n",
    "    width=800,\n",
    "    height=500,\n",
    "    margin=dict(l=50, r=25, t=50, b=50)\n",
    ")\n",
    "\n",
    "# Show the plot\n",
    "fig.show()"
   ]
  }
 ],
 "metadata": {
  "kernelspec": {
   "display_name": "Bridges_VENV",
   "language": "python",
   "name": "python3"
  },
  "language_info": {
   "codemirror_mode": {
    "name": "ipython",
    "version": 3
   },
   "file_extension": ".py",
   "mimetype": "text/x-python",
   "name": "python",
   "nbconvert_exporter": "python",
   "pygments_lexer": "ipython3",
   "version": "3.12.4"
  }
 },
 "nbformat": 4,
 "nbformat_minor": 2
}
