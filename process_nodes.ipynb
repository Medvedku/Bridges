{
 "cells": [
  {
   "cell_type": "code",
   "execution_count": 65,
   "metadata": {},
   "outputs": [],
   "source": [
    "import pandas as pd\n",
    "\n",
    "# Define the file path\n",
    "file_path = \"Data/sr_rs_uzol_zoznam_2023-01-01.xlsx\"\n",
    "\n",
    "# Load the Excel data into a DataFrame\n",
    "df_excel = pd.read_excel(file_path)\n",
    "\n",
    "# Now, df_excel contains your data from the Excel file."
   ]
  },
  {
   "cell_type": "code",
   "execution_count": 103,
   "metadata": {},
   "outputs": [
    {
     "data": {
      "text/plain": [
       "Index(['Číslo uzla', 'Charakter uzla', 'Hranica okresu', 'Hranica spravcu',\n",
       "       'Hranica vlastnika', 'Hraničný priechod', 'Je samostatný',\n",
       "       'X / zemepisná dĺžka', 'Y /zemepisná šírka', 'Popis uzla / podrobný',\n",
       "       'Popis Uzla - okres/obec', 'Križovatka -číslo', 'Typ križovatky',\n",
       "       'Tvar križovatky', 'Riadenie dopravy', 'Číslo exitu',\n",
       "       'Názov križovatky'],\n",
       "      dtype='object')"
      ]
     },
     "execution_count": 103,
     "metadata": {},
     "output_type": "execute_result"
    }
   ],
   "source": [
    "df_nodes = df_excel.copy()\n",
    "df_nodes.columns"
   ]
  },
  {
   "cell_type": "code",
   "execution_count": 104,
   "metadata": {},
   "outputs": [],
   "source": [
    "# Define a dictionary to map the old column names to new ones for df_nodes\n",
    "column_mapping_nodes = {\n",
    "    'Číslo uzla': 'Číslo_uzla',\n",
    "    'Charakter uzla': 'Charakter_uzla',\n",
    "    'Hranica okresu': 'Hranica_okresu',\n",
    "    'Hranica spravcu': 'Hranica_spravcu',\n",
    "    'Hranica vlastnika': 'Hranica_vlastnika',\n",
    "    'Hraničný priechod': 'Hraničný_priechod',\n",
    "    'Je samostatný': 'Je_samostatný',\n",
    "    'X / zemepisná dĺžka': 'Zemepisná_dĺžka',\n",
    "    'Y /zemepisná šírka': 'Zemepisná_šírka',\n",
    "    'Popis uzla / podrobný': 'Popis_uzla_podrobný',\n",
    "    'Popis Uzla - okres/obec': 'Popis_Uzla_okres_obec',\n",
    "    'Križovatka -číslo': 'Križovatka_číslo',\n",
    "    'Typ križovatky': 'Typ_križovatky',\n",
    "    'Tvar križovatky': 'Tvar_križovatky',\n",
    "    'Riadenie dopravy': 'Riadenie_dopravy',\n",
    "    'Číslo exitu': 'Číslo_exitu',\n",
    "    'Názov križovatky': 'Názov_križovatky'\n",
    "}\n",
    "# Rename the columns in the DataFrame\n",
    "df_nodes.rename(columns=column_mapping_nodes, inplace=True)"
   ]
  },
  {
   "cell_type": "code",
   "execution_count": 105,
   "metadata": {},
   "outputs": [],
   "source": [
    "# Convert Zemepisná_šírka and Zemepisná_dĺžka columns to strings\n",
    "df_nodes['Zemepisná_šírka'] = df_nodes['Zemepisná_šírka'].astype(str)\n",
    "df_nodes['Zemepisná_dĺžka'] = df_nodes['Zemepisná_dĺžka'].astype(str)\n",
    "\n",
    "# Insert a decimal point after the second digit from the beginning\n",
    "df_nodes['Zemepisná_šírka'] = df_nodes['Zemepisná_šírka'].apply(\n",
    "    lambda x: x[:2] + '.' + x[2:])\n",
    "df_nodes['Zemepisná_dĺžka'] = df_nodes['Zemepisná_dĺžka'].apply(\n",
    "    lambda x: x[:2] + '.' + x[2:])\n",
    "\n",
    "# Convert the columns back to float\n",
    "df_nodes['Zemepisná_šírka'] = df_nodes['Zemepisná_šírka'].astype(float)\n",
    "df_nodes['Zemepisná_dĺžka'] = df_nodes['Zemepisná_dĺžka'].astype(float)"
   ]
  },
  {
   "cell_type": "code",
   "execution_count": 106,
   "metadata": {},
   "outputs": [
    {
     "data": {
      "text/plain": [
       "(0         49.383795\n",
       " 1         49.382995\n",
       " 2         49.383090\n",
       " 3         49.404849\n",
       " 4         49.405007\n",
       "             ...    \n",
       " 112517    48.326855\n",
       " 112518    48.328228\n",
       " 112519    48.328526\n",
       " 112520    48.328948\n",
       " 112521    48.329170\n",
       " Name: Zemepisná_šírka, Length: 112522, dtype: float64,\n",
       " 0         18.411860\n",
       " 1         18.412381\n",
       " 2         18.411040\n",
       " 3         18.621185\n",
       " 4         18.621036\n",
       "             ...    \n",
       " 112517    20.343427\n",
       " 112518    20.341883\n",
       " 112519    20.341539\n",
       " 112520    20.341037\n",
       " 112521    20.340808\n",
       " Name: Zemepisná_dĺžka, Length: 112522, dtype: float64)"
      ]
     },
     "execution_count": 106,
     "metadata": {},
     "output_type": "execute_result"
    }
   ],
   "source": [
    "df_nodes[\"Zemepisná_šírka\"], df_nodes[\"Zemepisná_dĺžka\"]"
   ]
  },
  {
   "cell_type": "code",
   "execution_count": 107,
   "metadata": {},
   "outputs": [],
   "source": [
    "# Remove the single quote from the \"Číslo_uzla\" column\n",
    "df_nodes['Číslo_uzla'] = df_nodes['Číslo_uzla'].str.replace(\"'\", '')"
   ]
  },
  {
   "cell_type": "code",
   "execution_count": 108,
   "metadata": {},
   "outputs": [],
   "source": [
    "# Define the file path for saving the CSV\n",
    "output_csv_path = \"Data/Nodes_processed.csv\"\n",
    "\n",
    "# Save the DataFrame to a CSV file\n",
    "df_nodes.to_csv(output_csv_path, index=False, encoding='utf-8')\n",
    "\n",
    "# Now, the DataFrame has been saved as a CSV file at the specified path."
   ]
  },
  {
   "cell_type": "code",
   "execution_count": 109,
   "metadata": {},
   "outputs": [
    {
     "data": {
      "text/plain": [
       "Číslo_uzla                                               2524A00601\n",
       "Charakter_uzla                  križovatkový uzlový bod (D,C s D,C)\n",
       "Hranica_okresu                                                  nie\n",
       "Hranica_spravcu                                                 nie\n",
       "Hranica_vlastnika                                               nie\n",
       "Hraničný_priechod                                               NaN\n",
       "Je_samostatný                                                     N\n",
       "Zemepisná_dĺžka                                            18.41186\n",
       "Zemepisná_šírka                                           49.383795\n",
       "Popis_uzla_podrobný                 križ. I/10 x II/487, okr. Čadca\n",
       "Popis_Uzla_okres_obec                                    okr. Čadca\n",
       "Križovatka_číslo                                           2524A006\n",
       "Typ_križovatky                                     zložitá úrovňová\n",
       "Tvar_križovatky                                             Styková\n",
       "Riadenie_dopravy         zvislé a/alebo vodorovné dopravné značenie\n",
       "Číslo_exitu                                                     NaN\n",
       "Názov_križovatky                                                NaN\n",
       "Name: 0, dtype: object"
      ]
     },
     "execution_count": 109,
     "metadata": {},
     "output_type": "execute_result"
    }
   ],
   "source": [
    "df_nodes.iloc[0]"
   ]
  },
  {
   "cell_type": "code",
   "execution_count": 110,
   "metadata": {},
   "outputs": [
    {
     "data": {
      "text/html": [
       "<div>\n",
       "<style scoped>\n",
       "    .dataframe tbody tr th:only-of-type {\n",
       "        vertical-align: middle;\n",
       "    }\n",
       "\n",
       "    .dataframe tbody tr th {\n",
       "        vertical-align: top;\n",
       "    }\n",
       "\n",
       "    .dataframe thead th {\n",
       "        text-align: right;\n",
       "    }\n",
       "</style>\n",
       "<table border=\"1\" class=\"dataframe\">\n",
       "  <thead>\n",
       "    <tr style=\"text-align: right;\">\n",
       "      <th></th>\n",
       "      <th>Číslo_uzla</th>\n",
       "      <th>Charakter_uzla</th>\n",
       "      <th>Hranica_okresu</th>\n",
       "      <th>Hranica_spravcu</th>\n",
       "      <th>Hranica_vlastnika</th>\n",
       "      <th>Hraničný_priechod</th>\n",
       "      <th>Je_samostatný</th>\n",
       "      <th>Zemepisná_dĺžka</th>\n",
       "      <th>Zemepisná_šírka</th>\n",
       "      <th>Popis_uzla_podrobný</th>\n",
       "      <th>Popis_Uzla_okres_obec</th>\n",
       "      <th>Križovatka_číslo</th>\n",
       "      <th>Typ_križovatky</th>\n",
       "      <th>Tvar_križovatky</th>\n",
       "      <th>Riadenie_dopravy</th>\n",
       "      <th>Číslo_exitu</th>\n",
       "      <th>Názov_križovatky</th>\n",
       "    </tr>\n",
       "  </thead>\n",
       "  <tbody>\n",
       "    <tr>\n",
       "      <th>24775</th>\n",
       "      <td>3424A11500</td>\n",
       "      <td>križovatkový uzlový bod (D,C s MC)</td>\n",
       "      <td>nie</td>\n",
       "      <td>nie</td>\n",
       "      <td>nie</td>\n",
       "      <td>NaN</td>\n",
       "      <td>A</td>\n",
       "      <td>17.125</td>\n",
       "      <td>48.790804</td>\n",
       "      <td>križ. I/2 x MK, Kopčany, okr. Skalica</td>\n",
       "      <td>Kopčany, okr. Skalica</td>\n",
       "      <td>3424A115</td>\n",
       "      <td>neznámy</td>\n",
       "      <td>neznámy</td>\n",
       "      <td>neznámy</td>\n",
       "      <td>NaN</td>\n",
       "      <td>NaN</td>\n",
       "    </tr>\n",
       "  </tbody>\n",
       "</table>\n",
       "</div>"
      ],
      "text/plain": [
       "       Číslo_uzla                      Charakter_uzla Hranica_okresu  \\\n",
       "24775  3424A11500  križovatkový uzlový bod (D,C s MC)            nie   \n",
       "\n",
       "      Hranica_spravcu Hranica_vlastnika Hraničný_priechod Je_samostatný  \\\n",
       "24775             nie               nie               NaN             A   \n",
       "\n",
       "       Zemepisná_dĺžka  Zemepisná_šírka  \\\n",
       "24775           17.125        48.790804   \n",
       "\n",
       "                         Popis_uzla_podrobný  Popis_Uzla_okres_obec  \\\n",
       "24775  križ. I/2 x MK, Kopčany, okr. Skalica  Kopčany, okr. Skalica   \n",
       "\n",
       "      Križovatka_číslo Typ_križovatky Tvar_križovatky Riadenie_dopravy  \\\n",
       "24775         3424A115        neznámy         neznámy          neznámy   \n",
       "\n",
       "       Číslo_exitu Názov_križovatky  \n",
       "24775          NaN              NaN  "
      ]
     },
     "execution_count": 110,
     "metadata": {},
     "output_type": "execute_result"
    }
   ],
   "source": [
    "# Identify the road with \"Úsek_ID\" equal to 259391\n",
    "desired_node = df_nodes[df_nodes['Číslo_uzla'] == \"3424A11500\"]\n",
    "\n",
    "# Print the information about the identified road\n",
    "desired_node"
   ]
  },
  {
   "cell_type": "code",
   "execution_count": null,
   "metadata": {},
   "outputs": [],
   "source": [
    "ok so we need to find df_routes[\"Počiatočný_uzol\"] in df_nodes[\"Číslo_uzla\"]"
   ]
  }
 ],
 "metadata": {
  "kernelspec": {
   "display_name": "Python 3",
   "language": "python",
   "name": "python3"
  },
  "language_info": {
   "codemirror_mode": {
    "name": "ipython",
    "version": 3
   },
   "file_extension": ".py",
   "mimetype": "text/x-python",
   "name": "python",
   "nbconvert_exporter": "python",
   "pygments_lexer": "ipython3",
   "version": "3.11.4"
  },
  "orig_nbformat": 4
 },
 "nbformat": 4,
 "nbformat_minor": 2
}
