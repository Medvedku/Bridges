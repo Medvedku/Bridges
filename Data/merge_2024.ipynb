{
 "cells": [
  {
   "cell_type": "code",
   "execution_count": 62,
   "metadata": {},
   "outputs": [],
   "source": [
    "import pandas as pd\n",
    "\n",
    "# Replace the file path with your actual file path\n",
    "core_path = r'C:\\Users\\relia\\Documents\\GitHub\\Bridges\\Data\\df_bridges_2024.csv'\n",
    "new_path = r'C:\\Users\\relia\\Documents\\GitHub\\Bridges\\Data\\df_bridges_new.csv'\n",
    "\n",
    "# Import CSV file as DataFrame with specified encoding\n",
    "df_core = pd.read_csv(core_path, encoding='utf-8', delimiter=',')\n",
    "df_new = pd.read_csv(new_path, encoding='utf-8', delimiter=',')"
   ]
  },
  {
   "cell_type": "code",
   "execution_count": 63,
   "metadata": {},
   "outputs": [
    {
     "data": {
      "text/plain": [
       "(Index(['ID_mosta', 'Trieda_PK', 'Číslo_PK', 'Názov_mosta', 'správcovské_číslo',\n",
       "        'Zemepisná_šírka', 'Zemepisná_dĺžka', 'Výška', 'Druh_konštrukcie',\n",
       "        'Material', 'Normálna_zaťažiteľnosť', 'Výhradná_zaťažiteľnosť_t',\n",
       "        'Výnimočná_zaťažiteľnosť_t', 'Spôsob_stanovenia', 'Predmet_premostenia',\n",
       "        'Rok_postavenia', 'Zaťažovacia_trieda_STN', 'Počet_otvorov',\n",
       "        'Dĺžka_premostenia', 'Dĺžka_nosnej_konštrukcie_m', 'Volná_šírka_mosta',\n",
       "        'Šírka_medzi_obrubami_m', 'Plocha_mosnej_konštrukcie_m2',\n",
       "        'Plocha_mosta_m2', 'Vlastník_úseku', 'Správca_úseku', 'Okres',\n",
       "        'Počiatočný_uzol', 'Koncový_uzol', 'úsek_ID', 'Kraj', 'n_2012',\n",
       "        'n_2013', 'n_2014', 'n_2015', 'n_2016', 'n_2017', 'n_2018', 'n_2019',\n",
       "        'n_2020', 'n_2021', 'n_2022', 'n_2023', 'n_2024'],\n",
       "       dtype='object'),\n",
       " (8125, 44))"
      ]
     },
     "execution_count": 63,
     "metadata": {},
     "output_type": "execute_result"
    }
   ],
   "source": [
    "df_core.columns, df_core.shape"
   ]
  },
  {
   "cell_type": "code",
   "execution_count": 64,
   "metadata": {},
   "outputs": [
    {
     "data": {
      "text/plain": [
       "(Index(['ID_mosta', 'Trieda_PK', 'Číslo_PK', 'Názov_mosta', 'správcovské_číslo',\n",
       "        'Stavebno-technický stav', 'n_2024', 'Zemepisná_šírka',\n",
       "        'Zemepisná_dĺžka', 'Výška', 'Druh_konštrukcie', 'Material',\n",
       "        'Normálna_zaťažiteľnosť', 'Výhradná_zaťažiteľnosť_t',\n",
       "        'Výnimočná_zaťažiteľnosť_t', 'Spôsob_stanovenia', 'Predmet_premostenia',\n",
       "        'Rok_postavenia', 'Zaťažovacia_trieda_STN', 'Počet_otvorov',\n",
       "        'Dĺžka_premostenia', 'Dĺžka_nosnej_konštrukcie_m', 'Volná_šírka_mosta',\n",
       "        'Šírka_medzi_obrubami_m', 'Plocha_mosnej_konštrukcie_m2',\n",
       "        'Plocha_mosta_m2', 'Vlastník mostu', 'Správca mostu', 'Okres',\n",
       "        'Počiatočný_uzol', 'Koncový_uzol', 'úsek_ID', 'Vlastník_úseku',\n",
       "        'Správca_úseku'],\n",
       "       dtype='object'),\n",
       " (98, 34))"
      ]
     },
     "execution_count": 64,
     "metadata": {},
     "output_type": "execute_result"
    }
   ],
   "source": [
    "df_new.columns, df_new.shape"
   ]
  },
  {
   "cell_type": "code",
   "execution_count": 65,
   "metadata": {},
   "outputs": [],
   "source": [
    "\n",
    "# Step 1: Filter df_new to only include columns that exist in df_core\n",
    "common_columns = df_core.columns.intersection(df_new.columns)\n",
    "df_new_filtered = df_new[common_columns]\n",
    "\n",
    "# Step 2: Concatenate the DataFrames\n",
    "# Concatenate df_core and the filtered df_new, ignoring index to avoid duplicating index values\n",
    "df_combined = pd.concat([df_core, df_new_filtered], ignore_index=True)"
   ]
  },
  {
   "cell_type": "code",
   "execution_count": 66,
   "metadata": {},
   "outputs": [
    {
     "data": {
      "text/plain": [
       "(Index(['ID_mosta', 'Trieda_PK', 'Číslo_PK', 'Názov_mosta', 'správcovské_číslo',\n",
       "        'Zemepisná_šírka', 'Zemepisná_dĺžka', 'Výška', 'Druh_konštrukcie',\n",
       "        'Material', 'Normálna_zaťažiteľnosť', 'Výhradná_zaťažiteľnosť_t',\n",
       "        'Výnimočná_zaťažiteľnosť_t', 'Spôsob_stanovenia', 'Predmet_premostenia',\n",
       "        'Rok_postavenia', 'Zaťažovacia_trieda_STN', 'Počet_otvorov',\n",
       "        'Dĺžka_premostenia', 'Dĺžka_nosnej_konštrukcie_m', 'Volná_šírka_mosta',\n",
       "        'Šírka_medzi_obrubami_m', 'Plocha_mosnej_konštrukcie_m2',\n",
       "        'Plocha_mosta_m2', 'Vlastník_úseku', 'Správca_úseku', 'Okres',\n",
       "        'Počiatočný_uzol', 'Koncový_uzol', 'úsek_ID', 'Kraj', 'n_2012',\n",
       "        'n_2013', 'n_2014', 'n_2015', 'n_2016', 'n_2017', 'n_2018', 'n_2019',\n",
       "        'n_2020', 'n_2021', 'n_2022', 'n_2023', 'n_2024'],\n",
       "       dtype='object'),\n",
       " (8223, 44))"
      ]
     },
     "execution_count": 66,
     "metadata": {},
     "output_type": "execute_result"
    }
   ],
   "source": [
    "df_combined.columns, df_combined.shape"
   ]
  },
  {
   "cell_type": "code",
   "execution_count": 67,
   "metadata": {},
   "outputs": [],
   "source": [
    "# List of columns to fill NaNs and convert to integer\n",
    "columns_to_fill = ['n_2012', 'n_2013', 'n_2014', 'n_2015', 'n_2016', 'n_2017',\n",
    "                   'n_2018', 'n_2019', 'n_2020', 'n_2021', 'n_2022', 'n_2023', 'n_2024']\n",
    "\n",
    "# Fill NaN values with zeroes\n",
    "df_combined[columns_to_fill] = df_combined[columns_to_fill].fillna(0)\n",
    "\n",
    "# Convert values to integer\n",
    "df_combined[columns_to_fill] = df_combined[columns_to_fill].astype(int)"
   ]
  },
  {
   "cell_type": "code",
   "execution_count": 68,
   "metadata": {},
   "outputs": [],
   "source": [
    "region_mapping = {\n",
    "    'Bratislava': ['Bratislava I', 'Bratislava II', 'Bratislava III', 'Bratislava IV', 'Bratislava V', 'Malacky', 'Pezinok', 'Senec'],\n",
    "    'Trnava': ['Dunajská Streda', 'Galanta', 'Hlohovec', 'Piešťany', 'Senica', 'Skalica', 'Trnava'],\n",
    "    'Trenčín': ['Bánovce nad Bebravou', 'Ilava', 'Myjava', 'Nové Mesto nad Váhom', 'Partizánske', 'Považská Bystrica', 'Prievidza', 'Púchov', 'Trenčín'],\n",
    "    'Nitra': ['Komárno', 'Levice', 'Nitra', 'Nové Zámky', 'Šaľa', 'Topoľčany', 'Zlaté Moravce'],\n",
    "    'Žilina': [\"Turčianske Teplice\", 'Bytča', 'Dolný Kubín', 'Kysucké Nové Mesto', 'Liptovský Mikuláš', 'Martin', 'Námestovo', 'Ružomberok', 'Tvrdošín', \"Čadca\", \"Žilina\"],\n",
    "    'Banská Bystrica': ['Banská Štiavnica', \"Rimavská Sobota\", \"Žiar nad Hronom\", \"Žarnovica\", 'Banská Bystrica', 'Brezno', 'Detva', 'Krupina', 'Lučenec', 'Poltár', 'Revúca', 'Veľký Krtíš', 'Zvolen'],\n",
    "    'Prešov': [\"Svidník\", \"Stará Ľubovňa\", 'Bardejov', 'Humenné', 'Kežmarok', 'Levoča', 'Medzilaborce', 'Poprad', 'Prešov', 'Sabinov', 'Snina', 'Spišská Nová Ves', 'Stropkov', 'Vranov nad Topľou'],\n",
    "    'Košice': ['Gelnica', 'Košice I', 'Košice II', 'Košice III', 'Košice IV', 'Košice - okolie', 'Michalovce', 'Rožňava', 'Sobrance', 'Trebišov']\n",
    "}\n",
    "\n",
    "# Iterate over each row\n",
    "for index, row in df_combined.iterrows():\n",
    "    # Check if the value in the \"Kraj\" column is NaN\n",
    "    if pd.isna(row['Kraj']):\n",
    "        # Iterate over the region mapping dictionary\n",
    "        for region, districts in region_mapping.items():\n",
    "            # Check if the value in the \"Okres\" column is in the list of districts for the current region\n",
    "            if row['Okres'] in districts:\n",
    "                # Assign the current region to the \"Kraj\" column\n",
    "                df_combined.at[index, 'Kraj'] = region\n",
    "                # Break out of the loop once the region is assigned\n",
    "                break"
   ]
  },
  {
   "cell_type": "code",
   "execution_count": 69,
   "metadata": {},
   "outputs": [],
   "source": [
    "# Define the file path for saving the CSV file\n",
    "output_csv_path = r\"C:\\Users\\relia\\Documents\\GitHub\\Bridges\\Data\\df_bridges_2024_all.csv\"\n",
    "\n",
    "# Save the DataFrame as a CSV file\n",
    "df_combined.to_csv(output_csv_path, index=False)"
   ]
  },
  {
   "cell_type": "code",
   "execution_count": 70,
   "metadata": {},
   "outputs": [
    {
     "data": {
      "text/plain": [
       "Kraj\n",
       "Prešov             1862\n",
       "Banská Bystrica    1645\n",
       "Žilina             1350\n",
       "Trenčín             974\n",
       "Košice              788\n",
       "Nitra               774\n",
       "Trnava              541\n",
       "Bratislava          289\n",
       "Name: count, dtype: int64"
      ]
     },
     "execution_count": 70,
     "metadata": {},
     "output_type": "execute_result"
    }
   ],
   "source": [
    "df_combined[\"Kraj\"].value_counts()"
   ]
  }
 ],
 "metadata": {
  "kernelspec": {
   "display_name": "Python 3",
   "language": "python",
   "name": "python3"
  },
  "language_info": {
   "codemirror_mode": {
    "name": "ipython",
    "version": 3
   },
   "file_extension": ".py",
   "mimetype": "text/x-python",
   "name": "python",
   "nbconvert_exporter": "python",
   "pygments_lexer": "ipython3",
   "version": "3.12.0"
  }
 },
 "nbformat": 4,
 "nbformat_minor": 2
}
