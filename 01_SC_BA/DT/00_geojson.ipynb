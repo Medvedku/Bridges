{
 "cells": [
  {
   "cell_type": "code",
   "execution_count": 5,
   "metadata": {},
   "outputs": [],
   "source": [
    "import geopandas as gpd\n",
    "# Replace the file path with your actual file path\n",
    "# region_path = r'C:\\Users\\Doktor\\Documents\\GitHub\\Bridges\\GeoJSONs\\regions_epsg_4326.geojson'  # doma\n",
    "region_path = r'C:\\Users\\relia\\Documents\\GitHub\\Bridges\\GeoJSONs\\regions_epsg_4326.geojson'  # robota\n",
    "\n",
    "# Load the GeoJSON file into a GeoDataFrame\n",
    "region_gdf = gpd.read_file(region_path)\n",
    "\n",
    "\n",
    "# districts_path = r'C:\\Users\\Doktor\\Documents\\GitHub\\Bridges\\GeoJSONs\\districts_epsg_4326.geojson'  # doma\n",
    "districts_path = r'C:\\Users\\relia\\Documents\\GitHub\\Bridges\\GeoJSONs\\districts_epsg_4326.geojson'  # robota\n",
    "\n",
    "# Load the GeoJSON file into a GeoDataFrame\n",
    "districts_gdf = gpd.read_file(districts_path)\n",
    "\n",
    "\n",
    "# Replace the file path with your actual file path\n",
    "# file_path = r'C:\\Users\\Doktor\\Documents\\GitHub\\Bridges\\GeoJSONs\\cities_regions_districts_epsg_4326.geojson'  # doma\n",
    "file_path = r'C:\\Users\\relia\\Documents\\GitHub\\Bridges\\GeoJSONs\\cities_regions_districts_epsg_4326.geojson'  # doma\n",
    "\n",
    "\n",
    "# Load the GeoJSON file into a GeoDataFrame\n",
    "settle_gdf = gpd.read_file(file_path)\n",
    "\n",
    "# Define the types to exclude\n",
    "types_to_exclude = ['country', 'airport', 'Psie skaly',\n",
    "                    'county', 'Drevenný kostol', 'Vodopád']\n",
    "\n",
    "# Create a boolean mask to select rows where the 'type' column is not in types_to_exclude\n",
    "# and the 'population' column is not null\n",
    "mask = (~settle_gdf['type'].isin(types_to_exclude)) & (\n",
    "    settle_gdf['population'] > 0)\n",
    "\n",
    "\n",
    "# Apply the mask to filter the GeoDataFrame in place\n",
    "settle_gdf = settle_gdf[mask]"
   ]
  },
  {
   "cell_type": "code",
   "execution_count": 3,
   "metadata": {},
   "outputs": [
    {
     "data": {
      "text/plain": [
       "osm_id                            15243569\n",
       "name                       Hronský Beňadik\n",
       "region                     Banskobystrický\n",
       "district                         Žarnovica\n",
       "type                               village\n",
       "population                            1233\n",
       "geometry      POINT (18.5600329 48.345849)\n",
       "Name: 4, dtype: object"
      ]
     },
     "execution_count": 3,
     "metadata": {},
     "output_type": "execute_result"
    }
   ],
   "source": [
    "settle_gdf.iloc[0]"
   ]
  },
  {
   "cell_type": "code",
   "execution_count": 16,
   "metadata": {},
   "outputs": [
    {
     "data": {
      "text/plain": [
       "IDN3                                                        101\n",
       "NM3                                                Bratislava I\n",
       "Shape_Leng                                         15747.413478\n",
       "Shape_Area                                         9515197.2012\n",
       "VYMERA_ha                                                   959\n",
       "geometry      POLYGON ((17.077442710614626 48.17199854368101...\n",
       "Name: 0, dtype: object"
      ]
     },
     "execution_count": 16,
     "metadata": {},
     "output_type": "execute_result"
    }
   ],
   "source": [
    "districts_gdf.iloc[0]"
   ]
  },
  {
   "cell_type": "code",
   "execution_count": 17,
   "metadata": {},
   "outputs": [
    {
     "name": "stdout",
     "output_type": "stream",
     "text": [
      "{'Bratislava I': 101, 'Bratislava II': 102, 'Bratislava III': 103, 'Bratislava IV': 104, 'Bratislava V': 105, 'Malacky': 106, 'Pezinok': 107, 'Senec': 108, 'Dunajská Streda': 201, 'Galanta': 202, 'Hlohovec': 203, 'Piešťany': 204, 'Senica': 205, 'Skalica': 206, 'Trnava': 207, 'Bánovce nad Bebravou': 301, 'Ilava': 302, 'Myjava': 303, 'Nové Mesto nad Váhom': 304, 'Partizánske': 305, 'Považská Bystrica': 306, 'Prievidza': 307, 'Púchov': 308, 'Trenčín': 309, 'Komárno': 401, 'Levice': 402, 'Nitra': 403, 'Nové Zámky': 404, 'Šaľa': 405, 'Topoľčany': 406, 'Zlaté Moravce': 407, 'Bytča': 501, 'Čadca': 502, 'Dolný Kubín': 503, 'Kysucké Nové Mesto': 504, 'Liptovský Mikuláš': 505, 'Martin': 506, 'Námestovo': 507, 'Ružomberok': 508, 'Turčianske Teplice': 509, 'Tvrdošín': 510, 'Žilina': 511, 'Banská Bystrica': 601, 'Banská Štiavnica': 602, 'Brezno': 603, 'Detva': 604, 'Krupina': 605, 'Lučenec': 606, 'Poltár': 607, 'Revúca': 608, 'Rimavská Sobota': 609, 'Veľký Krtíš': 610, 'Zvolen': 611, 'Žarnovica': 612, 'Žiar nad Hronom': 613, 'Bardejov': 701, 'Humenné': 702, 'Kežmarok': 703, 'Levoča': 704, 'Medzilaborce': 705, 'Poprad': 706, 'Prešov': 707, 'Sabinov': 708, 'Snina': 709, 'Stará Ľubovňa': 710, 'Stropkov': 711, 'Svidník': 712, 'Vranov nad Topľou': 713, 'Gelnica': 801, 'Košice I': 802, 'Košice II': 803, 'Košice III': 804, 'Košice IV': 805, 'Košice - okolie': 806, 'Michalovce': 807, 'Rožňava': 808, 'Sobrance': 809, 'Spišská Nová Ves': 810, 'Trebišov': 811}\n"
     ]
    }
   ],
   "source": [
    "# Create a dictionary where keys are districts_gdf[\"NM3\"] and values are districts_gdf[\"IDN3\"]\n",
    "district_dict = {row[\"NM3\"]: row[\"IDN3\"]\n",
    "                 for _, row in districts_gdf.iterrows()}\n",
    "\n",
    "# Display the created dictionary\n",
    "print(district_dict)"
   ]
  },
  {
   "cell_type": "code",
   "execution_count": null,
   "metadata": {},
   "outputs": [],
   "source": [
    "{'Bratislava I': 101, 'Bratislava II': 102, 'Bratislava III': 103, 'Bratislava IV': 104, 'Bratislava V': 105, 'Malacky': 106, 'Pezinok': 107, 'Senec': 108, 'Dunajská Streda': 201, 'Galanta': 202, 'Hlohovec': 203, 'Piešťany': 204, 'Senica': 205, 'Skalica': 206, 'Trnava': 207, 'Bánovce nad Bebravou': 301, 'Ilava': 302, 'Myjava': 303, 'Nové Mesto nad Váhom': 304, 'Partizánske': 305, 'Považská Bystrica': 306, 'Prievidza': 307, 'Púchov': 308, 'Trenčín': 309, 'Komárno': 401, 'Levice': 402, 'Nitra': 403, 'Nové Zámky': 404, 'Šaľa': 405, 'Topoľčany': 406, 'Zlaté Moravce': 407, 'Bytča': 501, 'Čadca': 502, 'Dolný Kubín': 503, 'Kysucké Nové Mesto': 504, 'Liptovský Mikuláš': 505, 'Martin': 506, 'Námestovo': 507, 'Ružomberok': 508,\n",
    "    'Turčianske Teplice': 509, 'Tvrdošín': 510, 'Žilina': 511, 'Banská Bystrica': 601, 'Banská Štiavnica': 602, 'Brezno': 603, 'Detva': 604, 'Krupina': 605, 'Lučenec': 606, 'Poltár': 607, 'Revúca': 608, 'Rimavská Sobota': 609, 'Veľký Krtíš': 610, 'Zvolen': 611, 'Žarnovica': 612, 'Žiar nad Hronom': 613, 'Bardejov': 701, 'Humenné': 702, 'Kežmarok': 703, 'Levoča': 704, 'Medzilaborce': 705, 'Poprad': 706, 'Prešov': 707, 'Sabinov': 708, 'Snina': 709, 'Stará Ľubovňa': 710, 'Stropkov': 711, 'Svidník': 712, 'Vranov nad Topľou': 713, 'Gelnica': 801, 'Košice I': 802, 'Košice II': 803, 'Košice III': 804, 'Košice IV': 805, 'Košice - okolie': 806, 'Michalovce': 807, 'Rožňava': 808, 'Sobrance': 809, 'Spišská Nová Ves': 810, 'Trebišov': 811}"
   ]
  }
 ],
 "metadata": {
  "kernelspec": {
   "display_name": "Python 3",
   "language": "python",
   "name": "python3"
  },
  "language_info": {
   "codemirror_mode": {
    "name": "ipython",
    "version": 3
   },
   "file_extension": ".py",
   "mimetype": "text/x-python",
   "name": "python",
   "nbconvert_exporter": "python",
   "pygments_lexer": "ipython3",
   "version": "3.12.0"
  }
 },
 "nbformat": 4,
 "nbformat_minor": 2
}
