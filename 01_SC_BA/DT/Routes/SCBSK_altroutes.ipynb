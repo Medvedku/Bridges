{
 "cells": [
  {
   "cell_type": "code",
   "execution_count": 96,
   "metadata": {},
   "outputs": [],
   "source": [
    "import pandas as pd\n",
    "import pandas as pd\n",
    "import plotly.graph_objects as go\n",
    "import plotly.io as pio\n",
    "\n",
    "bridges_path = r\"C:\\Users\\relia\\Documents\\GitHub\\Bridges\\Data\\df_bridges_2024_all.csv\"\n",
    "\n",
    "df_bridges_all = pd.read_csv(bridges_path, encoding='utf-8', delimiter=',')"
   ]
  },
  {
   "cell_type": "code",
   "execution_count": 97,
   "metadata": {},
   "outputs": [
    {
     "data": {
      "text/plain": [
       "Index(['ID_mosta', 'Trieda_PK', 'Číslo_PK', 'Názov_mosta', 'správcovské_číslo',\n",
       "       'Zemepisná_šírka', 'Zemepisná_dĺžka', 'Výška', 'Druh_konštrukcie',\n",
       "       'Material', 'Normálna_zaťažiteľnosť', 'Výhradná_zaťažiteľnosť_t',\n",
       "       'Výnimočná_zaťažiteľnosť_t', 'Spôsob_stanovenia', 'Predmet_premostenia',\n",
       "       'Rok_postavenia', 'Zaťažovacia_trieda_STN', 'Počet_otvorov',\n",
       "       'Dĺžka_premostenia', 'Dĺžka_nosnej_konštrukcie_m', 'Volná_šírka_mosta',\n",
       "       'Šírka_medzi_obrubami_m', 'Plocha_mosnej_konštrukcie_m2',\n",
       "       'Plocha_mosta_m2', 'Vlastník_úseku', 'Správca_úseku', 'Okres',\n",
       "       'Počiatočný_uzol', 'Koncový_uzol', 'úsek_ID', 'Kraj', 'n_2012',\n",
       "       'n_2013', 'n_2014', 'n_2015', 'n_2016', 'n_2017', 'n_2018', 'n_2019',\n",
       "       'n_2020', 'n_2021', 'n_2022', 'n_2023', 'n_2024'],\n",
       "      dtype='object')"
      ]
     },
     "execution_count": 97,
     "metadata": {},
     "output_type": "execute_result"
    }
   ],
   "source": [
    "# Assuming df_bridges_all is your DataFrame\n",
    "columns_to_convert = ['Zemepisná_dĺžka', 'Zemepisná_šírka', 'Výška', 'Normálna_zaťažiteľnosť',\n",
    "                      'Výhradná_zaťažiteľnosť_t', 'Výnimočná_zaťažiteľnosť_t', 'Počet_otvorov',\n",
    "                      'Dĺžka_nosnej_konštrukcie_m', 'Dĺžka_premostenia', 'Volná_šírka_mosta',\n",
    "                      'Šírka_medzi_obrubami_m', 'Plocha_mosnej_konštrukcie_m2', 'Plocha_mosta_m2']\n",
    "\n",
    "# Convert specified columns to float\n",
    "df_bridges_all[columns_to_convert] = df_bridges_all[columns_to_convert].apply(\n",
    "    pd.to_numeric, errors='coerce')\n",
    "\n",
    "# Convert Rok_postavenia to integer, assign NaN if not possible\n",
    "df_bridges_all['Rok_postavenia'] = pd.to_numeric(\n",
    "    df_bridges_all['Rok_postavenia'], errors='coerce')\n",
    "\n",
    "df_bridges_all = df_bridges_all[df_bridges_all[\"n_2024\"] != 0]\n",
    "\n",
    "df_bridges_all.columns"
   ]
  },
  {
   "cell_type": "code",
   "execution_count": 98,
   "metadata": {},
   "outputs": [
    {
     "data": {
      "text/plain": [
       "Material\n",
       "monolitický železobetón          3264\n",
       "prefabrikovaný železobetón       1917\n",
       "prefabrikovaný predpätý betón    1658\n",
       "monolitický predpätý betón        359\n",
       "oceľ -  plnostenná                268\n",
       "monolitický prostý betón          229\n",
       "kameň                             193\n",
       "Nezistený                         105\n",
       "spriahnutá betón-betón             77\n",
       "spriahnutá oceľ-betón              31\n",
       "oceľobetón                         27\n",
       "tehla                              26\n",
       "iný materiál                       22\n",
       "oceľ -  priehradová                18\n",
       "Name: count, dtype: int64"
      ]
     },
     "execution_count": 98,
     "metadata": {},
     "output_type": "execute_result"
    }
   ],
   "source": [
    "df_bridges_all[\"Material\"].value_counts()"
   ]
  },
  {
   "cell_type": "code",
   "execution_count": 99,
   "metadata": {},
   "outputs": [],
   "source": [
    "filtered_bridges = df_bridges_all[\n",
    "    (df_bridges_all['Správca_úseku'] == \"SC BSK\") &\n",
    "    (df_bridges_all[\"Material\"] == 'prefabrikovaný predpätý betón')\n",
    "]"
   ]
  },
  {
   "cell_type": "code",
   "execution_count": 100,
   "metadata": {},
   "outputs": [
    {
     "data": {
      "text/html": [
       "<div>\n",
       "<style scoped>\n",
       "    .dataframe tbody tr th:only-of-type {\n",
       "        vertical-align: middle;\n",
       "    }\n",
       "\n",
       "    .dataframe tbody tr th {\n",
       "        vertical-align: top;\n",
       "    }\n",
       "\n",
       "    .dataframe thead th {\n",
       "        text-align: right;\n",
       "    }\n",
       "</style>\n",
       "<table border=\"1\" class=\"dataframe\">\n",
       "  <thead>\n",
       "    <tr style=\"text-align: right;\">\n",
       "      <th></th>\n",
       "      <th>ID_mosta</th>\n",
       "      <th>n_2024</th>\n",
       "    </tr>\n",
       "  </thead>\n",
       "  <tbody>\n",
       "    <tr>\n",
       "      <th>1842</th>\n",
       "      <td>M2798</td>\n",
       "      <td>4</td>\n",
       "    </tr>\n",
       "    <tr>\n",
       "      <th>1844</th>\n",
       "      <td>M1734</td>\n",
       "      <td>4</td>\n",
       "    </tr>\n",
       "    <tr>\n",
       "      <th>1861</th>\n",
       "      <td>M221</td>\n",
       "      <td>5</td>\n",
       "    </tr>\n",
       "    <tr>\n",
       "      <th>1893</th>\n",
       "      <td>M2684</td>\n",
       "      <td>5</td>\n",
       "    </tr>\n",
       "    <tr>\n",
       "      <th>1894</th>\n",
       "      <td>M7488</td>\n",
       "      <td>4</td>\n",
       "    </tr>\n",
       "    <tr>\n",
       "      <th>1906</th>\n",
       "      <td>M5538</td>\n",
       "      <td>1</td>\n",
       "    </tr>\n",
       "    <tr>\n",
       "      <th>1908</th>\n",
       "      <td>M2907</td>\n",
       "      <td>3</td>\n",
       "    </tr>\n",
       "    <tr>\n",
       "      <th>1914</th>\n",
       "      <td>M2273</td>\n",
       "      <td>5</td>\n",
       "    </tr>\n",
       "    <tr>\n",
       "      <th>1918</th>\n",
       "      <td>M6631</td>\n",
       "      <td>6</td>\n",
       "    </tr>\n",
       "    <tr>\n",
       "      <th>3131</th>\n",
       "      <td>M1016</td>\n",
       "      <td>5</td>\n",
       "    </tr>\n",
       "    <tr>\n",
       "      <th>3132</th>\n",
       "      <td>M3641</td>\n",
       "      <td>6</td>\n",
       "    </tr>\n",
       "    <tr>\n",
       "      <th>3210</th>\n",
       "      <td>M3844</td>\n",
       "      <td>6</td>\n",
       "    </tr>\n",
       "    <tr>\n",
       "      <th>3215</th>\n",
       "      <td>M7647</td>\n",
       "      <td>4</td>\n",
       "    </tr>\n",
       "    <tr>\n",
       "      <th>3219</th>\n",
       "      <td>M6067</td>\n",
       "      <td>4</td>\n",
       "    </tr>\n",
       "    <tr>\n",
       "      <th>3221</th>\n",
       "      <td>M4572</td>\n",
       "      <td>5</td>\n",
       "    </tr>\n",
       "    <tr>\n",
       "      <th>3235</th>\n",
       "      <td>M2485</td>\n",
       "      <td>6</td>\n",
       "    </tr>\n",
       "    <tr>\n",
       "      <th>4315</th>\n",
       "      <td>M4874</td>\n",
       "      <td>4</td>\n",
       "    </tr>\n",
       "    <tr>\n",
       "      <th>4419</th>\n",
       "      <td>M4006</td>\n",
       "      <td>4</td>\n",
       "    </tr>\n",
       "    <tr>\n",
       "      <th>5164</th>\n",
       "      <td>M1108</td>\n",
       "      <td>4</td>\n",
       "    </tr>\n",
       "    <tr>\n",
       "      <th>5169</th>\n",
       "      <td>M1702</td>\n",
       "      <td>5</td>\n",
       "    </tr>\n",
       "    <tr>\n",
       "      <th>5180</th>\n",
       "      <td>M7109</td>\n",
       "      <td>6</td>\n",
       "    </tr>\n",
       "    <tr>\n",
       "      <th>5183</th>\n",
       "      <td>M4912</td>\n",
       "      <td>4</td>\n",
       "    </tr>\n",
       "  </tbody>\n",
       "</table>\n",
       "</div>"
      ],
      "text/plain": [
       "     ID_mosta  n_2024\n",
       "1842    M2798       4\n",
       "1844    M1734       4\n",
       "1861     M221       5\n",
       "1893    M2684       5\n",
       "1894    M7488       4\n",
       "1906    M5538       1\n",
       "1908    M2907       3\n",
       "1914    M2273       5\n",
       "1918    M6631       6\n",
       "3131    M1016       5\n",
       "3132    M3641       6\n",
       "3210    M3844       6\n",
       "3215    M7647       4\n",
       "3219    M6067       4\n",
       "3221    M4572       5\n",
       "3235    M2485       6\n",
       "4315    M4874       4\n",
       "4419    M4006       4\n",
       "5164    M1108       4\n",
       "5169    M1702       5\n",
       "5180    M7109       6\n",
       "5183    M4912       4"
      ]
     },
     "execution_count": 100,
     "metadata": {},
     "output_type": "execute_result"
    }
   ],
   "source": [
    "filtered_bridges[[\"ID_mosta\", \"n_2024\"]]"
   ]
  },
  {
   "cell_type": "markdown",
   "metadata": {},
   "source": [
    "2095    M2798\n",
    "3199    M1734\n",
    "17428     M221\n",
    "10883    M2684\n",
    "7592    M7488\n",
    "11201    M5538\n",
    "531     M5538_AB\n",
    "3100    M5538_AC\n",
    "1970    M5538_AD\n",
    "433     M5538_BA\n",
    "4040    M5538_CA\n",
    "2037    M5538_DA\n",
    "14997    M2907 -> rozdeliť\n",
    "9840    M2907_AB\n",
    "3236    M2907_AC\n",
    "NaN    M2273\n",
    "5407    M6631\n",
    "3415    M1016\n",
    "2601    M3641\n",
    "2579    M3844\n",
    "NaN    M7647\n",
    "2746    M6067\n",
    "1939    M4572\n",
    "NaN    M2485\n",
    "NaN    M4874\n",
    "3479    M4006\n",
    "5152    M1108\n",
    "2141    M1702\n",
    "4107    M7109\n",
    "NaN    M4912"
   ]
  },
  {
   "cell_type": "code",
   "execution_count": 101,
   "metadata": {},
   "outputs": [],
   "source": [
    "def calculate_relative_condition_counts(data, start_year=2012, end_year=2024):\n",
    "    relative_counts = pd.DataFrame()\n",
    "\n",
    "    for year in range(start_year, end_year + 1):\n",
    "        column_name = f\"n_{year}\"\n",
    "        year_data = data[data[column_name] > 0]  # Exclude bridges not assessed\n",
    "        counts = year_data[column_name].value_counts().rename_axis(\n",
    "            'Condition').reset_index(name=column_name)\n",
    "        total = counts[column_name].sum()\n",
    "        counts[column_name] = (counts[column_name] / total) * 100\n",
    "\n",
    "        if relative_counts.empty:\n",
    "            relative_counts = counts\n",
    "        else:\n",
    "            relative_counts = pd.merge(\n",
    "                relative_counts, counts, on='Condition', how='outer')\n",
    "\n",
    "    relative_counts.fillna(0, inplace=True)\n",
    "    relative_counts.sort_values('Condition', inplace=True)\n",
    "    return relative_counts\n",
    "\n",
    "\n",
    "def create_plot(relative_counts, title, filename):\n",
    "    color_palette = ['#46a7a2', '#e7a564', '#8bae7c',\n",
    "                     '#353a29', '#eae1a9', '#c25469', '#2d505d']\n",
    "    data_for_plotting = relative_counts.set_index('Condition').T.reset_index()\n",
    "    data_for_plotting.rename(columns={'index': 'Year'}, inplace=True)\n",
    "    years = ['{}'.format(year) for year in range(2012, 2025)]\n",
    "    data_for_plotting['Year'] = years\n",
    "\n",
    "    fig = go.Figure()\n",
    "\n",
    "    for i, condition in reversed(list(enumerate(relative_counts['Condition'].unique()))):\n",
    "        fig.add_trace(go.Scatter(\n",
    "            x=data_for_plotting['Year'],\n",
    "            y=data_for_plotting[condition],\n",
    "            mode='lines',\n",
    "            stackgroup='one',\n",
    "            name=str(condition),\n",
    "            line=dict(color=color_palette[i % len(color_palette)])\n",
    "        ))\n",
    "\n",
    "    fig.update_layout(\n",
    "        title=title,\n",
    "        yaxis_title='percentuálne zastúpenie',\n",
    "        yaxis=dict(ticksuffix=\"%\", range=[0, 100]),\n",
    "        font=dict(family=\"Calibri, sans-serif\", size=14),\n",
    "        legend=dict(\n",
    "            orientation=\"h\",\n",
    "            yanchor=\"top\",\n",
    "            y=1.080,\n",
    "            xanchor=\"right\",\n",
    "            x=1\n",
    "        ),\n",
    "        xaxis=dict(\n",
    "            tickvals=[str(year) for year in range(2012, 2025)],\n",
    "            ticktext=[\"'12\", \"'13\", \"'14\", \"'15\", \"'16\", \"'17\",\n",
    "                      \"'18\", \"'19\", \"'20\", \"'21\", \"'22\", \"'23\", \"'24\"]\n",
    "        ),\n",
    "        plot_bgcolor='#EEEEEE',\n",
    "        margin=dict(l=0, r=20, t=75, b=25),\n",
    "        width=750,\n",
    "        height=500\n",
    "    )\n",
    "\n",
    "    fig.show()"
   ]
  },
  {
   "cell_type": "code",
   "execution_count": 102,
   "metadata": {},
   "outputs": [],
   "source": [
    "# Calculate relative condition counts for each category\n",
    "relative_condition_counts = calculate_relative_condition_counts(\n",
    "    filtered_bridges)"
   ]
  },
  {
   "cell_type": "code",
   "execution_count": 103,
   "metadata": {},
   "outputs": [
    {
     "data": {
      "text/plain": [
       "Index(['ID_mosta', 'Trieda_PK', 'Číslo_PK', 'Názov_mosta', 'správcovské_číslo',\n",
       "       'Zemepisná_šírka', 'Zemepisná_dĺžka', 'Výška', 'Druh_konštrukcie',\n",
       "       'Material', 'Normálna_zaťažiteľnosť', 'Výhradná_zaťažiteľnosť_t',\n",
       "       'Výnimočná_zaťažiteľnosť_t', 'Spôsob_stanovenia', 'Predmet_premostenia',\n",
       "       'Rok_postavenia', 'Zaťažovacia_trieda_STN', 'Počet_otvorov',\n",
       "       'Dĺžka_premostenia', 'Dĺžka_nosnej_konštrukcie_m', 'Volná_šírka_mosta',\n",
       "       'Šírka_medzi_obrubami_m', 'Plocha_mosnej_konštrukcie_m2',\n",
       "       'Plocha_mosta_m2', 'Vlastník_úseku', 'Správca_úseku', 'Okres',\n",
       "       'Počiatočný_uzol', 'Koncový_uzol', 'úsek_ID', 'Kraj', 'n_2012',\n",
       "       'n_2013', 'n_2014', 'n_2015', 'n_2016', 'n_2017', 'n_2018', 'n_2019',\n",
       "       'n_2020', 'n_2021', 'n_2022', 'n_2023', 'n_2024'],\n",
       "      dtype='object')"
      ]
     },
     "execution_count": 103,
     "metadata": {},
     "output_type": "execute_result"
    }
   ],
   "source": [
    "filtered_bridges.columns"
   ]
  },
  {
   "cell_type": "code",
   "execution_count": 104,
   "metadata": {},
   "outputs": [
    {
     "data": {
      "text/html": [
       "<div>\n",
       "<style scoped>\n",
       "    .dataframe tbody tr th:only-of-type {\n",
       "        vertical-align: middle;\n",
       "    }\n",
       "\n",
       "    .dataframe tbody tr th {\n",
       "        vertical-align: top;\n",
       "    }\n",
       "\n",
       "    .dataframe thead th {\n",
       "        text-align: right;\n",
       "    }\n",
       "</style>\n",
       "<table border=\"1\" class=\"dataframe\">\n",
       "  <thead>\n",
       "    <tr style=\"text-align: right;\">\n",
       "      <th></th>\n",
       "      <th>Condition</th>\n",
       "      <th>n_2012</th>\n",
       "      <th>n_2013</th>\n",
       "      <th>n_2014</th>\n",
       "      <th>n_2015</th>\n",
       "      <th>n_2016</th>\n",
       "      <th>n_2017</th>\n",
       "      <th>n_2018</th>\n",
       "      <th>n_2019</th>\n",
       "      <th>n_2020</th>\n",
       "      <th>n_2021</th>\n",
       "      <th>n_2022</th>\n",
       "      <th>n_2023</th>\n",
       "      <th>n_2024</th>\n",
       "    </tr>\n",
       "  </thead>\n",
       "  <tbody>\n",
       "    <tr>\n",
       "      <th>0</th>\n",
       "      <td>1</td>\n",
       "      <td>4.545455</td>\n",
       "      <td>4.545455</td>\n",
       "      <td>4.545455</td>\n",
       "      <td>9.090909</td>\n",
       "      <td>9.090909</td>\n",
       "      <td>4.545455</td>\n",
       "      <td>4.545455</td>\n",
       "      <td>4.545455</td>\n",
       "      <td>4.545455</td>\n",
       "      <td>4.545455</td>\n",
       "      <td>4.545455</td>\n",
       "      <td>4.545455</td>\n",
       "      <td>4.545455</td>\n",
       "    </tr>\n",
       "    <tr>\n",
       "      <th>1</th>\n",
       "      <td>2</td>\n",
       "      <td>4.545455</td>\n",
       "      <td>4.545455</td>\n",
       "      <td>4.545455</td>\n",
       "      <td>9.090909</td>\n",
       "      <td>0.000000</td>\n",
       "      <td>0.000000</td>\n",
       "      <td>0.000000</td>\n",
       "      <td>0.000000</td>\n",
       "      <td>0.000000</td>\n",
       "      <td>0.000000</td>\n",
       "      <td>0.000000</td>\n",
       "      <td>0.000000</td>\n",
       "      <td>0.000000</td>\n",
       "    </tr>\n",
       "    <tr>\n",
       "      <th>2</th>\n",
       "      <td>3</td>\n",
       "      <td>36.363636</td>\n",
       "      <td>36.363636</td>\n",
       "      <td>36.363636</td>\n",
       "      <td>18.181818</td>\n",
       "      <td>13.636364</td>\n",
       "      <td>13.636364</td>\n",
       "      <td>13.636364</td>\n",
       "      <td>13.636364</td>\n",
       "      <td>9.090909</td>\n",
       "      <td>4.545455</td>\n",
       "      <td>4.545455</td>\n",
       "      <td>4.545455</td>\n",
       "      <td>4.545455</td>\n",
       "    </tr>\n",
       "    <tr>\n",
       "      <th>3</th>\n",
       "      <td>4</td>\n",
       "      <td>54.545455</td>\n",
       "      <td>50.000000</td>\n",
       "      <td>50.000000</td>\n",
       "      <td>50.000000</td>\n",
       "      <td>45.454545</td>\n",
       "      <td>45.454545</td>\n",
       "      <td>54.545455</td>\n",
       "      <td>54.545455</td>\n",
       "      <td>45.454545</td>\n",
       "      <td>40.909091</td>\n",
       "      <td>40.909091</td>\n",
       "      <td>40.909091</td>\n",
       "      <td>40.909091</td>\n",
       "    </tr>\n",
       "    <tr>\n",
       "      <th>4</th>\n",
       "      <td>5</td>\n",
       "      <td>0.000000</td>\n",
       "      <td>4.545455</td>\n",
       "      <td>4.545455</td>\n",
       "      <td>4.545455</td>\n",
       "      <td>18.181818</td>\n",
       "      <td>22.727273</td>\n",
       "      <td>18.181818</td>\n",
       "      <td>13.636364</td>\n",
       "      <td>18.181818</td>\n",
       "      <td>27.272727</td>\n",
       "      <td>27.272727</td>\n",
       "      <td>27.272727</td>\n",
       "      <td>27.272727</td>\n",
       "    </tr>\n",
       "    <tr>\n",
       "      <th>5</th>\n",
       "      <td>6</td>\n",
       "      <td>0.000000</td>\n",
       "      <td>0.000000</td>\n",
       "      <td>0.000000</td>\n",
       "      <td>9.090909</td>\n",
       "      <td>13.636364</td>\n",
       "      <td>13.636364</td>\n",
       "      <td>9.090909</td>\n",
       "      <td>13.636364</td>\n",
       "      <td>22.727273</td>\n",
       "      <td>22.727273</td>\n",
       "      <td>22.727273</td>\n",
       "      <td>22.727273</td>\n",
       "      <td>22.727273</td>\n",
       "    </tr>\n",
       "  </tbody>\n",
       "</table>\n",
       "</div>"
      ],
      "text/plain": [
       "   Condition     n_2012     n_2013     n_2014     n_2015     n_2016  \\\n",
       "0          1   4.545455   4.545455   4.545455   9.090909   9.090909   \n",
       "1          2   4.545455   4.545455   4.545455   9.090909   0.000000   \n",
       "2          3  36.363636  36.363636  36.363636  18.181818  13.636364   \n",
       "3          4  54.545455  50.000000  50.000000  50.000000  45.454545   \n",
       "4          5   0.000000   4.545455   4.545455   4.545455  18.181818   \n",
       "5          6   0.000000   0.000000   0.000000   9.090909  13.636364   \n",
       "\n",
       "      n_2017     n_2018     n_2019     n_2020     n_2021     n_2022  \\\n",
       "0   4.545455   4.545455   4.545455   4.545455   4.545455   4.545455   \n",
       "1   0.000000   0.000000   0.000000   0.000000   0.000000   0.000000   \n",
       "2  13.636364  13.636364  13.636364   9.090909   4.545455   4.545455   \n",
       "3  45.454545  54.545455  54.545455  45.454545  40.909091  40.909091   \n",
       "4  22.727273  18.181818  13.636364  18.181818  27.272727  27.272727   \n",
       "5  13.636364   9.090909  13.636364  22.727273  22.727273  22.727273   \n",
       "\n",
       "      n_2023     n_2024  \n",
       "0   4.545455   4.545455  \n",
       "1   0.000000   0.000000  \n",
       "2   4.545455   4.545455  \n",
       "3  40.909091  40.909091  \n",
       "4  27.272727  27.272727  \n",
       "5  22.727273  22.727273  "
      ]
     },
     "execution_count": 104,
     "metadata": {},
     "output_type": "execute_result"
    }
   ],
   "source": [
    "relative_condition_counts"
   ]
  },
  {
   "cell_type": "code",
   "execution_count": 105,
   "metadata": {},
   "outputs": [
    {
     "data": {
      "application/vnd.plotly.v1+json": {
       "config": {
        "plotlyServerURL": "https://plot.ly"
       },
       "data": [
        {
         "line": {
          "color": "#c25469"
         },
         "mode": "lines",
         "name": "6",
         "stackgroup": "one",
         "type": "scatter",
         "x": [
          "2012",
          "2013",
          "2014",
          "2015",
          "2016",
          "2017",
          "2018",
          "2019",
          "2020",
          "2021",
          "2022",
          "2023",
          "2024"
         ],
         "y": [
          0,
          0,
          0,
          9.090909090909092,
          13.636363636363635,
          13.636363636363635,
          9.090909090909092,
          13.636363636363635,
          22.727272727272727,
          22.727272727272727,
          22.727272727272727,
          22.727272727272727,
          22.727272727272727
         ]
        },
        {
         "line": {
          "color": "#eae1a9"
         },
         "mode": "lines",
         "name": "5",
         "stackgroup": "one",
         "type": "scatter",
         "x": [
          "2012",
          "2013",
          "2014",
          "2015",
          "2016",
          "2017",
          "2018",
          "2019",
          "2020",
          "2021",
          "2022",
          "2023",
          "2024"
         ],
         "y": [
          0,
          4.545454545454546,
          4.545454545454546,
          4.545454545454546,
          18.181818181818183,
          22.727272727272727,
          18.181818181818183,
          13.636363636363635,
          18.181818181818183,
          27.27272727272727,
          27.27272727272727,
          27.27272727272727,
          27.27272727272727
         ]
        },
        {
         "line": {
          "color": "#353a29"
         },
         "mode": "lines",
         "name": "4",
         "stackgroup": "one",
         "type": "scatter",
         "x": [
          "2012",
          "2013",
          "2014",
          "2015",
          "2016",
          "2017",
          "2018",
          "2019",
          "2020",
          "2021",
          "2022",
          "2023",
          "2024"
         ],
         "y": [
          54.54545454545454,
          50,
          50,
          50,
          45.45454545454545,
          45.45454545454545,
          54.54545454545454,
          54.54545454545454,
          45.45454545454545,
          40.909090909090914,
          40.909090909090914,
          40.909090909090914,
          40.909090909090914
         ]
        },
        {
         "line": {
          "color": "#8bae7c"
         },
         "mode": "lines",
         "name": "3",
         "stackgroup": "one",
         "type": "scatter",
         "x": [
          "2012",
          "2013",
          "2014",
          "2015",
          "2016",
          "2017",
          "2018",
          "2019",
          "2020",
          "2021",
          "2022",
          "2023",
          "2024"
         ],
         "y": [
          36.36363636363637,
          36.36363636363637,
          36.36363636363637,
          18.181818181818183,
          13.636363636363635,
          13.636363636363635,
          13.636363636363635,
          13.636363636363635,
          9.090909090909092,
          4.545454545454546,
          4.545454545454546,
          4.545454545454546,
          4.545454545454546
         ]
        },
        {
         "line": {
          "color": "#e7a564"
         },
         "mode": "lines",
         "name": "2",
         "stackgroup": "one",
         "type": "scatter",
         "x": [
          "2012",
          "2013",
          "2014",
          "2015",
          "2016",
          "2017",
          "2018",
          "2019",
          "2020",
          "2021",
          "2022",
          "2023",
          "2024"
         ],
         "y": [
          4.545454545454546,
          4.545454545454546,
          4.545454545454546,
          9.090909090909092,
          0,
          0,
          0,
          0,
          0,
          0,
          0,
          0,
          0
         ]
        },
        {
         "line": {
          "color": "#46a7a2"
         },
         "mode": "lines",
         "name": "1",
         "stackgroup": "one",
         "type": "scatter",
         "x": [
          "2012",
          "2013",
          "2014",
          "2015",
          "2016",
          "2017",
          "2018",
          "2019",
          "2020",
          "2021",
          "2022",
          "2023",
          "2024"
         ],
         "y": [
          4.545454545454546,
          4.545454545454546,
          4.545454545454546,
          9.090909090909092,
          9.090909090909092,
          4.545454545454546,
          4.545454545454546,
          4.545454545454546,
          4.545454545454546,
          4.545454545454546,
          4.545454545454546,
          4.545454545454546,
          4.545454545454546
         ]
        }
       ],
       "layout": {
        "font": {
         "family": "Calibri, sans-serif",
         "size": 14
        },
        "height": 500,
        "legend": {
         "orientation": "h",
         "x": 1,
         "xanchor": "right",
         "y": 1.08,
         "yanchor": "top"
        },
        "margin": {
         "b": 25,
         "l": 0,
         "r": 20,
         "t": 75
        },
        "plot_bgcolor": "#EEEEEE",
        "template": {
         "data": {
          "bar": [
           {
            "error_x": {
             "color": "#2a3f5f"
            },
            "error_y": {
             "color": "#2a3f5f"
            },
            "marker": {
             "line": {
              "color": "#E5ECF6",
              "width": 0.5
             },
             "pattern": {
              "fillmode": "overlay",
              "size": 10,
              "solidity": 0.2
             }
            },
            "type": "bar"
           }
          ],
          "barpolar": [
           {
            "marker": {
             "line": {
              "color": "#E5ECF6",
              "width": 0.5
             },
             "pattern": {
              "fillmode": "overlay",
              "size": 10,
              "solidity": 0.2
             }
            },
            "type": "barpolar"
           }
          ],
          "carpet": [
           {
            "aaxis": {
             "endlinecolor": "#2a3f5f",
             "gridcolor": "white",
             "linecolor": "white",
             "minorgridcolor": "white",
             "startlinecolor": "#2a3f5f"
            },
            "baxis": {
             "endlinecolor": "#2a3f5f",
             "gridcolor": "white",
             "linecolor": "white",
             "minorgridcolor": "white",
             "startlinecolor": "#2a3f5f"
            },
            "type": "carpet"
           }
          ],
          "choropleth": [
           {
            "colorbar": {
             "outlinewidth": 0,
             "ticks": ""
            },
            "type": "choropleth"
           }
          ],
          "contour": [
           {
            "colorbar": {
             "outlinewidth": 0,
             "ticks": ""
            },
            "colorscale": [
             [
              0,
              "#0d0887"
             ],
             [
              0.1111111111111111,
              "#46039f"
             ],
             [
              0.2222222222222222,
              "#7201a8"
             ],
             [
              0.3333333333333333,
              "#9c179e"
             ],
             [
              0.4444444444444444,
              "#bd3786"
             ],
             [
              0.5555555555555556,
              "#d8576b"
             ],
             [
              0.6666666666666666,
              "#ed7953"
             ],
             [
              0.7777777777777778,
              "#fb9f3a"
             ],
             [
              0.8888888888888888,
              "#fdca26"
             ],
             [
              1,
              "#f0f921"
             ]
            ],
            "type": "contour"
           }
          ],
          "contourcarpet": [
           {
            "colorbar": {
             "outlinewidth": 0,
             "ticks": ""
            },
            "type": "contourcarpet"
           }
          ],
          "heatmap": [
           {
            "colorbar": {
             "outlinewidth": 0,
             "ticks": ""
            },
            "colorscale": [
             [
              0,
              "#0d0887"
             ],
             [
              0.1111111111111111,
              "#46039f"
             ],
             [
              0.2222222222222222,
              "#7201a8"
             ],
             [
              0.3333333333333333,
              "#9c179e"
             ],
             [
              0.4444444444444444,
              "#bd3786"
             ],
             [
              0.5555555555555556,
              "#d8576b"
             ],
             [
              0.6666666666666666,
              "#ed7953"
             ],
             [
              0.7777777777777778,
              "#fb9f3a"
             ],
             [
              0.8888888888888888,
              "#fdca26"
             ],
             [
              1,
              "#f0f921"
             ]
            ],
            "type": "heatmap"
           }
          ],
          "heatmapgl": [
           {
            "colorbar": {
             "outlinewidth": 0,
             "ticks": ""
            },
            "colorscale": [
             [
              0,
              "#0d0887"
             ],
             [
              0.1111111111111111,
              "#46039f"
             ],
             [
              0.2222222222222222,
              "#7201a8"
             ],
             [
              0.3333333333333333,
              "#9c179e"
             ],
             [
              0.4444444444444444,
              "#bd3786"
             ],
             [
              0.5555555555555556,
              "#d8576b"
             ],
             [
              0.6666666666666666,
              "#ed7953"
             ],
             [
              0.7777777777777778,
              "#fb9f3a"
             ],
             [
              0.8888888888888888,
              "#fdca26"
             ],
             [
              1,
              "#f0f921"
             ]
            ],
            "type": "heatmapgl"
           }
          ],
          "histogram": [
           {
            "marker": {
             "pattern": {
              "fillmode": "overlay",
              "size": 10,
              "solidity": 0.2
             }
            },
            "type": "histogram"
           }
          ],
          "histogram2d": [
           {
            "colorbar": {
             "outlinewidth": 0,
             "ticks": ""
            },
            "colorscale": [
             [
              0,
              "#0d0887"
             ],
             [
              0.1111111111111111,
              "#46039f"
             ],
             [
              0.2222222222222222,
              "#7201a8"
             ],
             [
              0.3333333333333333,
              "#9c179e"
             ],
             [
              0.4444444444444444,
              "#bd3786"
             ],
             [
              0.5555555555555556,
              "#d8576b"
             ],
             [
              0.6666666666666666,
              "#ed7953"
             ],
             [
              0.7777777777777778,
              "#fb9f3a"
             ],
             [
              0.8888888888888888,
              "#fdca26"
             ],
             [
              1,
              "#f0f921"
             ]
            ],
            "type": "histogram2d"
           }
          ],
          "histogram2dcontour": [
           {
            "colorbar": {
             "outlinewidth": 0,
             "ticks": ""
            },
            "colorscale": [
             [
              0,
              "#0d0887"
             ],
             [
              0.1111111111111111,
              "#46039f"
             ],
             [
              0.2222222222222222,
              "#7201a8"
             ],
             [
              0.3333333333333333,
              "#9c179e"
             ],
             [
              0.4444444444444444,
              "#bd3786"
             ],
             [
              0.5555555555555556,
              "#d8576b"
             ],
             [
              0.6666666666666666,
              "#ed7953"
             ],
             [
              0.7777777777777778,
              "#fb9f3a"
             ],
             [
              0.8888888888888888,
              "#fdca26"
             ],
             [
              1,
              "#f0f921"
             ]
            ],
            "type": "histogram2dcontour"
           }
          ],
          "mesh3d": [
           {
            "colorbar": {
             "outlinewidth": 0,
             "ticks": ""
            },
            "type": "mesh3d"
           }
          ],
          "parcoords": [
           {
            "line": {
             "colorbar": {
              "outlinewidth": 0,
              "ticks": ""
             }
            },
            "type": "parcoords"
           }
          ],
          "pie": [
           {
            "automargin": true,
            "type": "pie"
           }
          ],
          "scatter": [
           {
            "fillpattern": {
             "fillmode": "overlay",
             "size": 10,
             "solidity": 0.2
            },
            "type": "scatter"
           }
          ],
          "scatter3d": [
           {
            "line": {
             "colorbar": {
              "outlinewidth": 0,
              "ticks": ""
             }
            },
            "marker": {
             "colorbar": {
              "outlinewidth": 0,
              "ticks": ""
             }
            },
            "type": "scatter3d"
           }
          ],
          "scattercarpet": [
           {
            "marker": {
             "colorbar": {
              "outlinewidth": 0,
              "ticks": ""
             }
            },
            "type": "scattercarpet"
           }
          ],
          "scattergeo": [
           {
            "marker": {
             "colorbar": {
              "outlinewidth": 0,
              "ticks": ""
             }
            },
            "type": "scattergeo"
           }
          ],
          "scattergl": [
           {
            "marker": {
             "colorbar": {
              "outlinewidth": 0,
              "ticks": ""
             }
            },
            "type": "scattergl"
           }
          ],
          "scattermapbox": [
           {
            "marker": {
             "colorbar": {
              "outlinewidth": 0,
              "ticks": ""
             }
            },
            "type": "scattermapbox"
           }
          ],
          "scatterpolar": [
           {
            "marker": {
             "colorbar": {
              "outlinewidth": 0,
              "ticks": ""
             }
            },
            "type": "scatterpolar"
           }
          ],
          "scatterpolargl": [
           {
            "marker": {
             "colorbar": {
              "outlinewidth": 0,
              "ticks": ""
             }
            },
            "type": "scatterpolargl"
           }
          ],
          "scatterternary": [
           {
            "marker": {
             "colorbar": {
              "outlinewidth": 0,
              "ticks": ""
             }
            },
            "type": "scatterternary"
           }
          ],
          "surface": [
           {
            "colorbar": {
             "outlinewidth": 0,
             "ticks": ""
            },
            "colorscale": [
             [
              0,
              "#0d0887"
             ],
             [
              0.1111111111111111,
              "#46039f"
             ],
             [
              0.2222222222222222,
              "#7201a8"
             ],
             [
              0.3333333333333333,
              "#9c179e"
             ],
             [
              0.4444444444444444,
              "#bd3786"
             ],
             [
              0.5555555555555556,
              "#d8576b"
             ],
             [
              0.6666666666666666,
              "#ed7953"
             ],
             [
              0.7777777777777778,
              "#fb9f3a"
             ],
             [
              0.8888888888888888,
              "#fdca26"
             ],
             [
              1,
              "#f0f921"
             ]
            ],
            "type": "surface"
           }
          ],
          "table": [
           {
            "cells": {
             "fill": {
              "color": "#EBF0F8"
             },
             "line": {
              "color": "white"
             }
            },
            "header": {
             "fill": {
              "color": "#C8D4E3"
             },
             "line": {
              "color": "white"
             }
            },
            "type": "table"
           }
          ]
         },
         "layout": {
          "annotationdefaults": {
           "arrowcolor": "#2a3f5f",
           "arrowhead": 0,
           "arrowwidth": 1
          },
          "autotypenumbers": "strict",
          "coloraxis": {
           "colorbar": {
            "outlinewidth": 0,
            "ticks": ""
           }
          },
          "colorscale": {
           "diverging": [
            [
             0,
             "#8e0152"
            ],
            [
             0.1,
             "#c51b7d"
            ],
            [
             0.2,
             "#de77ae"
            ],
            [
             0.3,
             "#f1b6da"
            ],
            [
             0.4,
             "#fde0ef"
            ],
            [
             0.5,
             "#f7f7f7"
            ],
            [
             0.6,
             "#e6f5d0"
            ],
            [
             0.7,
             "#b8e186"
            ],
            [
             0.8,
             "#7fbc41"
            ],
            [
             0.9,
             "#4d9221"
            ],
            [
             1,
             "#276419"
            ]
           ],
           "sequential": [
            [
             0,
             "#0d0887"
            ],
            [
             0.1111111111111111,
             "#46039f"
            ],
            [
             0.2222222222222222,
             "#7201a8"
            ],
            [
             0.3333333333333333,
             "#9c179e"
            ],
            [
             0.4444444444444444,
             "#bd3786"
            ],
            [
             0.5555555555555556,
             "#d8576b"
            ],
            [
             0.6666666666666666,
             "#ed7953"
            ],
            [
             0.7777777777777778,
             "#fb9f3a"
            ],
            [
             0.8888888888888888,
             "#fdca26"
            ],
            [
             1,
             "#f0f921"
            ]
           ],
           "sequentialminus": [
            [
             0,
             "#0d0887"
            ],
            [
             0.1111111111111111,
             "#46039f"
            ],
            [
             0.2222222222222222,
             "#7201a8"
            ],
            [
             0.3333333333333333,
             "#9c179e"
            ],
            [
             0.4444444444444444,
             "#bd3786"
            ],
            [
             0.5555555555555556,
             "#d8576b"
            ],
            [
             0.6666666666666666,
             "#ed7953"
            ],
            [
             0.7777777777777778,
             "#fb9f3a"
            ],
            [
             0.8888888888888888,
             "#fdca26"
            ],
            [
             1,
             "#f0f921"
            ]
           ]
          },
          "colorway": [
           "#636efa",
           "#EF553B",
           "#00cc96",
           "#ab63fa",
           "#FFA15A",
           "#19d3f3",
           "#FF6692",
           "#B6E880",
           "#FF97FF",
           "#FECB52"
          ],
          "font": {
           "color": "#2a3f5f"
          },
          "geo": {
           "bgcolor": "white",
           "lakecolor": "white",
           "landcolor": "#E5ECF6",
           "showlakes": true,
           "showland": true,
           "subunitcolor": "white"
          },
          "hoverlabel": {
           "align": "left"
          },
          "hovermode": "closest",
          "mapbox": {
           "style": "light"
          },
          "paper_bgcolor": "white",
          "plot_bgcolor": "#E5ECF6",
          "polar": {
           "angularaxis": {
            "gridcolor": "white",
            "linecolor": "white",
            "ticks": ""
           },
           "bgcolor": "#E5ECF6",
           "radialaxis": {
            "gridcolor": "white",
            "linecolor": "white",
            "ticks": ""
           }
          },
          "scene": {
           "xaxis": {
            "backgroundcolor": "#E5ECF6",
            "gridcolor": "white",
            "gridwidth": 2,
            "linecolor": "white",
            "showbackground": true,
            "ticks": "",
            "zerolinecolor": "white"
           },
           "yaxis": {
            "backgroundcolor": "#E5ECF6",
            "gridcolor": "white",
            "gridwidth": 2,
            "linecolor": "white",
            "showbackground": true,
            "ticks": "",
            "zerolinecolor": "white"
           },
           "zaxis": {
            "backgroundcolor": "#E5ECF6",
            "gridcolor": "white",
            "gridwidth": 2,
            "linecolor": "white",
            "showbackground": true,
            "ticks": "",
            "zerolinecolor": "white"
           }
          },
          "shapedefaults": {
           "line": {
            "color": "#2a3f5f"
           }
          },
          "ternary": {
           "aaxis": {
            "gridcolor": "white",
            "linecolor": "white",
            "ticks": ""
           },
           "baxis": {
            "gridcolor": "white",
            "linecolor": "white",
            "ticks": ""
           },
           "bgcolor": "#E5ECF6",
           "caxis": {
            "gridcolor": "white",
            "linecolor": "white",
            "ticks": ""
           }
          },
          "title": {
           "x": 0.05
          },
          "xaxis": {
           "automargin": true,
           "gridcolor": "white",
           "linecolor": "white",
           "ticks": "",
           "title": {
            "standoff": 15
           },
           "zerolinecolor": "white",
           "zerolinewidth": 2
          },
          "yaxis": {
           "automargin": true,
           "gridcolor": "white",
           "linecolor": "white",
           "ticks": "",
           "title": {
            "standoff": 15
           },
           "zerolinecolor": "white",
           "zerolinewidth": 2
          }
         }
        },
        "title": {
         "text": "Vývoj STS predpätých prefabrikovaných mostov v správe SC BSK"
        },
        "width": 750,
        "xaxis": {
         "ticktext": [
          "'12",
          "'13",
          "'14",
          "'15",
          "'16",
          "'17",
          "'18",
          "'19",
          "'20",
          "'21",
          "'22",
          "'23",
          "'24"
         ],
         "tickvals": [
          "2012",
          "2013",
          "2014",
          "2015",
          "2016",
          "2017",
          "2018",
          "2019",
          "2020",
          "2021",
          "2022",
          "2023",
          "2024"
         ]
        },
        "yaxis": {
         "range": [
          0,
          100
         ],
         "ticksuffix": "%",
         "title": {
          "text": "percentuálne zastúpenie"
         }
        }
       }
      }
     },
     "metadata": {},
     "output_type": "display_data"
    }
   ],
   "source": [
    "# Create and save plots for each category\n",
    "create_plot(relative_condition_counts,\n",
    "            'Vývoj STS predpätých prefabrikovaných mostov v správe SC BSK', 'Vyvoj_I')"
   ]
  },
  {
   "cell_type": "code",
   "execution_count": 106,
   "metadata": {},
   "outputs": [],
   "source": [
    "precast_postensioned = filtered_bridges[[\n",
    "    \"ID_mosta\", \"Názov_mosta\", 'Rok_postavenia', 'Dĺžka_premostenia', 'Zemepisná_šírka', 'Zemepisná_dĺžka', 'n_2012',\n",
    "    'n_2013', 'n_2014', 'n_2015', 'n_2016', 'n_2017', 'n_2018', 'n_2019',\n",
    "    'n_2020', 'n_2021', 'n_2022', 'n_2023', 'n_2024']].copy()\n",
    "precast_postensioned.reset_index(drop=True, inplace=True)"
   ]
  },
  {
   "cell_type": "code",
   "execution_count": 107,
   "metadata": {},
   "outputs": [],
   "source": [
    "import pandas as pd\n",
    "import numpy as np\n",
    "\n",
    "# Assuming precast_postensioned is your original DataFrame\n",
    "# Define the traffic intensities and bridge IDs\n",
    "traffic_data = {\n",
    "    'ID_mosta': [\n",
    "        'M2798', 'M1734', 'M221', 'M2684', 'M7488', 'M5538', 'M2907', 'M2273', 'M6631',\n",
    "        'M1016', 'M3641', 'M3844', 'M7647', 'M6067', 'M4572', 'M2485', 'M4874', 'M4006',\n",
    "        'M1108', 'M1702', 'M7109', 'M4912'\n",
    "    ],\n",
    "    'Traffic_Intensity': [\n",
    "        2095, 3199, 17428, 10883, 7592, 11201, 14997, np.nan, 5407, 3415, 2601,\n",
    "        2579, np.nan, 2746, 1939, np.nan, np.nan, 3479, 5152, 2141, 4107, np.nan\n",
    "    ]\n",
    "}\n",
    "\n",
    "# Create a DataFrame from the traffic data\n",
    "df_traffic = pd.DataFrame(traffic_data)\n",
    "\n",
    "# Merge the traffic data with precast_postensioned DataFrame on 'ID_mosta'\n",
    "precast_postensioned = precast_postensioned.merge(\n",
    "    df_traffic, on='ID_mosta', how='left')"
   ]
  },
  {
   "cell_type": "code",
   "execution_count": 108,
   "metadata": {},
   "outputs": [],
   "source": [
    "import folium\n",
    "\n",
    "\n",
    "def create_bridge_map(df, index):\n",
    "    # Get bridge data from the DataFrame based on the index\n",
    "    bridge_data = df.iloc[index]\n",
    "    latitude = bridge_data['Zemepisná_šírka']\n",
    "    longitude = bridge_data['Zemepisná_dĺžka']\n",
    "    bridge_name = bridge_data['Názov_mosta']\n",
    "    traffic_intensity = bridge_data['Traffic_Intensity']\n",
    "\n",
    "    # Create a folium map centered on the bridge location\n",
    "    bridge_map = folium.Map(location=[latitude, longitude], zoom_start=15)\n",
    "\n",
    "    # Add a marker for the bridge\n",
    "    folium.Marker(\n",
    "        location=[latitude, longitude],\n",
    "        popup=f\"<strong>{\n",
    "            bridge_name}</strong><br>Traffic Intensity: {traffic_intensity}\",\n",
    "        tooltip=\"Click for more info\"\n",
    "    ).add_to(bridge_map)\n",
    "\n",
    "    return bridge_map"
   ]
  },
  {
   "cell_type": "code",
   "execution_count": 110,
   "metadata": {},
   "outputs": [],
   "source": [
    "import os\n",
    "import xml.etree.ElementTree as ET\n",
    "import pandas as pd\n",
    "\n",
    "\n",
    "def add_route_time_distance_to_df(df, folder_path):\n",
    "    # Initialize columns only if they do not exist\n",
    "    if 'Clear_Time' not in df.columns:\n",
    "        df['Clear_Time'] = None\n",
    "    if 'Clear_Distance' not in df.columns:\n",
    "        df['Clear_Distance'] = None\n",
    "    if 'Alt_Time' not in df.columns:\n",
    "        df['Alt_Time'] = None\n",
    "    if 'Alt_Distance' not in df.columns:\n",
    "        df['Alt_Distance'] = None\n",
    "\n",
    "    # Define namespaces\n",
    "    namespaces = {\n",
    "        '': 'http://www.topografix.com/GPX/1/1',\n",
    "        'gh': 'https://graphhopper.com/public/schema/gpx/1.1'\n",
    "    }\n",
    "\n",
    "    # Loop through each bridge in the DataFrame\n",
    "    for index, row in df.iterrows():\n",
    "        bridge_id = row['ID_mosta']\n",
    "\n",
    "        # Find corresponding GPX files for this bridge\n",
    "        gpx_files = [f for f in os.listdir(folder_path) if f.startswith(\n",
    "            bridge_id) and f.endswith('.gpx')]\n",
    "\n",
    "        # Initialize variables for route details\n",
    "        clear_time, clear_distance = 0, 0\n",
    "        alt_time, alt_distance = 0, 0\n",
    "\n",
    "        # Process each GPX file\n",
    "        for gpx_file in gpx_files:\n",
    "            file_path = os.path.join(folder_path, gpx_file)\n",
    "            tree = ET.parse(file_path)\n",
    "            root = tree.getroot()\n",
    "\n",
    "            # Initialize total time and distance for this route\n",
    "            total_time = 0\n",
    "            total_distance = 0\n",
    "\n",
    "            # Sum up time and distance from each rtept element\n",
    "            for rtept in root.findall('.//rtept', namespaces):\n",
    "                extensions = rtept.find(\n",
    "                    '{http://www.topografix.com/GPX/1/1}extensions')\n",
    "                if extensions is not None:\n",
    "                    time_elem = extensions.find('gh:time', namespaces)\n",
    "                    distance_elem = extensions.find('gh:distance', namespaces)\n",
    "\n",
    "                    # Accumulate distance and time if they exist\n",
    "                    if time_elem is not None:\n",
    "                        total_time += float(time_elem.text)\n",
    "                    if distance_elem is not None:\n",
    "                        total_distance += float(distance_elem.text)\n",
    "\n",
    "            # Convert time from milliseconds to minutes\n",
    "            total_time_minutes = (total_time / 1000) / 60\n",
    "\n",
    "            # Assign route details based on file name\n",
    "            if '_clear' in gpx_file:\n",
    "                clear_time, clear_distance = total_time_minutes, total_distance\n",
    "            elif '_alt' in gpx_file:\n",
    "                alt_time, alt_distance = total_time_minutes, total_distance\n",
    "\n",
    "        # Update the DataFrame with the extracted values\n",
    "        df.at[index, 'Clear_Time'] = clear_time if clear_time != 0 else None\n",
    "        df.at[index, 'Clear_Distance'] = clear_distance if clear_distance != 0 else None\n",
    "        df.at[index, 'Alt_Time'] = alt_time if alt_time != 0 else None\n",
    "        df.at[index, 'Alt_Distance'] = alt_distance if alt_distance != 0 else None\n",
    "\n",
    "    return df"
   ]
  },
  {
   "cell_type": "code",
   "execution_count": 147,
   "metadata": {},
   "outputs": [
    {
     "data": {
      "text/plain": [
       "Index(['ID_mosta', 'Názov_mosta', 'Rok_postavenia', 'Dĺžka_premostenia',\n",
       "       'Zemepisná_šírka', 'Zemepisná_dĺžka', 'n_2012', 'n_2013', 'n_2014',\n",
       "       'n_2015', 'n_2016', 'n_2017', 'n_2018', 'n_2019', 'n_2020', 'n_2021',\n",
       "       'n_2022', 'n_2023', 'n_2024', 'Traffic_Intensity', 'Clear_Time',\n",
       "       'Clear_Distance', 'Alt_Time', 'Alt_Distance'],\n",
       "      dtype='object')"
      ]
     },
     "execution_count": 147,
     "metadata": {},
     "output_type": "execute_result"
    }
   ],
   "source": [
    "precast_postensioned.columns"
   ]
  },
  {
   "cell_type": "code",
   "execution_count": 148,
   "metadata": {},
   "outputs": [
    {
     "data": {
      "text/html": [
       "<div>\n",
       "<style scoped>\n",
       "    .dataframe tbody tr th:only-of-type {\n",
       "        vertical-align: middle;\n",
       "    }\n",
       "\n",
       "    .dataframe tbody tr th {\n",
       "        vertical-align: top;\n",
       "    }\n",
       "\n",
       "    .dataframe thead th {\n",
       "        text-align: right;\n",
       "    }\n",
       "</style>\n",
       "<table border=\"1\" class=\"dataframe\">\n",
       "  <thead>\n",
       "    <tr style=\"text-align: right;\">\n",
       "      <th></th>\n",
       "      <th>ID_mosta</th>\n",
       "      <th>Traffic_Intensity</th>\n",
       "      <th>Clear_Time</th>\n",
       "      <th>Clear_Distance</th>\n",
       "      <th>Alt_Time</th>\n",
       "      <th>Alt_Distance</th>\n",
       "    </tr>\n",
       "  </thead>\n",
       "  <tbody>\n",
       "    <tr>\n",
       "      <th>0</th>\n",
       "      <td>M2798</td>\n",
       "      <td>2095.0</td>\n",
       "      <td>10.401617</td>\n",
       "      <td>11164.469</td>\n",
       "      <td>22.999367</td>\n",
       "      <td>23621.52</td>\n",
       "    </tr>\n",
       "    <tr>\n",
       "      <th>1</th>\n",
       "      <td>M1734</td>\n",
       "      <td>3199.0</td>\n",
       "      <td>4.454417</td>\n",
       "      <td>4873.101</td>\n",
       "      <td>16.142367</td>\n",
       "      <td>5262.541</td>\n",
       "    </tr>\n",
       "    <tr>\n",
       "      <th>2</th>\n",
       "      <td>M221</td>\n",
       "      <td>17428.0</td>\n",
       "      <td>8.166983</td>\n",
       "      <td>7250.297</td>\n",
       "      <td>12.993033</td>\n",
       "      <td>12346.017</td>\n",
       "    </tr>\n",
       "    <tr>\n",
       "      <th>3</th>\n",
       "      <td>M2684</td>\n",
       "      <td>10883.0</td>\n",
       "      <td>5.248583</td>\n",
       "      <td>3480.775</td>\n",
       "      <td>15.43985</td>\n",
       "      <td>9560.415</td>\n",
       "    </tr>\n",
       "    <tr>\n",
       "      <th>4</th>\n",
       "      <td>M7488</td>\n",
       "      <td>7592.0</td>\n",
       "      <td>None</td>\n",
       "      <td>None</td>\n",
       "      <td>None</td>\n",
       "      <td>None</td>\n",
       "    </tr>\n",
       "    <tr>\n",
       "      <th>5</th>\n",
       "      <td>M5538</td>\n",
       "      <td>11201.0</td>\n",
       "      <td>None</td>\n",
       "      <td>None</td>\n",
       "      <td>None</td>\n",
       "      <td>None</td>\n",
       "    </tr>\n",
       "    <tr>\n",
       "      <th>6</th>\n",
       "      <td>M2907</td>\n",
       "      <td>14997.0</td>\n",
       "      <td>None</td>\n",
       "      <td>None</td>\n",
       "      <td>None</td>\n",
       "      <td>None</td>\n",
       "    </tr>\n",
       "    <tr>\n",
       "      <th>7</th>\n",
       "      <td>M2273</td>\n",
       "      <td>NaN</td>\n",
       "      <td>8.32075</td>\n",
       "      <td>8328.417</td>\n",
       "      <td>26.464967</td>\n",
       "      <td>23982.639</td>\n",
       "    </tr>\n",
       "    <tr>\n",
       "      <th>8</th>\n",
       "      <td>M6631</td>\n",
       "      <td>5407.0</td>\n",
       "      <td>0.8356</td>\n",
       "      <td>445.658</td>\n",
       "      <td>7.895967</td>\n",
       "      <td>4045.962</td>\n",
       "    </tr>\n",
       "    <tr>\n",
       "      <th>9</th>\n",
       "      <td>M1016</td>\n",
       "      <td>3415.0</td>\n",
       "      <td>16.04745</td>\n",
       "      <td>17016.009</td>\n",
       "      <td>21.4783</td>\n",
       "      <td>23701.825</td>\n",
       "    </tr>\n",
       "    <tr>\n",
       "      <th>10</th>\n",
       "      <td>M3641</td>\n",
       "      <td>2601.0</td>\n",
       "      <td>16.04745</td>\n",
       "      <td>17016.009</td>\n",
       "      <td>21.4783</td>\n",
       "      <td>23701.825</td>\n",
       "    </tr>\n",
       "    <tr>\n",
       "      <th>11</th>\n",
       "      <td>M3844</td>\n",
       "      <td>2579.0</td>\n",
       "      <td>6.797267</td>\n",
       "      <td>5764.122</td>\n",
       "      <td>9.230817</td>\n",
       "      <td>8644.649</td>\n",
       "    </tr>\n",
       "    <tr>\n",
       "      <th>12</th>\n",
       "      <td>M7647</td>\n",
       "      <td>NaN</td>\n",
       "      <td>9.02365</td>\n",
       "      <td>8076.907</td>\n",
       "      <td>16.219783</td>\n",
       "      <td>15224.453</td>\n",
       "    </tr>\n",
       "    <tr>\n",
       "      <th>13</th>\n",
       "      <td>M6067</td>\n",
       "      <td>2746.0</td>\n",
       "      <td>4.542317</td>\n",
       "      <td>5164.155</td>\n",
       "      <td>11.545167</td>\n",
       "      <td>11520.359</td>\n",
       "    </tr>\n",
       "    <tr>\n",
       "      <th>14</th>\n",
       "      <td>M4572</td>\n",
       "      <td>1939.0</td>\n",
       "      <td>5.885917</td>\n",
       "      <td>6073.151</td>\n",
       "      <td>8.863817</td>\n",
       "      <td>7652.473</td>\n",
       "    </tr>\n",
       "    <tr>\n",
       "      <th>15</th>\n",
       "      <td>M2485</td>\n",
       "      <td>NaN</td>\n",
       "      <td>None</td>\n",
       "      <td>None</td>\n",
       "      <td>None</td>\n",
       "      <td>None</td>\n",
       "    </tr>\n",
       "    <tr>\n",
       "      <th>16</th>\n",
       "      <td>M4874</td>\n",
       "      <td>NaN</td>\n",
       "      <td>3.975233</td>\n",
       "      <td>4502.403</td>\n",
       "      <td>8.5596</td>\n",
       "      <td>7308.619</td>\n",
       "    </tr>\n",
       "    <tr>\n",
       "      <th>17</th>\n",
       "      <td>M4006</td>\n",
       "      <td>3479.0</td>\n",
       "      <td>5.005733</td>\n",
       "      <td>2499.959</td>\n",
       "      <td>12.24435</td>\n",
       "      <td>8944.519</td>\n",
       "    </tr>\n",
       "    <tr>\n",
       "      <th>18</th>\n",
       "      <td>M1108</td>\n",
       "      <td>5152.0</td>\n",
       "      <td>5.794483</td>\n",
       "      <td>4955.282</td>\n",
       "      <td>14.259517</td>\n",
       "      <td>9714.754</td>\n",
       "    </tr>\n",
       "    <tr>\n",
       "      <th>19</th>\n",
       "      <td>M1702</td>\n",
       "      <td>2141.0</td>\n",
       "      <td>6.28035</td>\n",
       "      <td>3363.685</td>\n",
       "      <td>10.033033</td>\n",
       "      <td>7718.279</td>\n",
       "    </tr>\n",
       "    <tr>\n",
       "      <th>20</th>\n",
       "      <td>M7109</td>\n",
       "      <td>4107.0</td>\n",
       "      <td>11.9041</td>\n",
       "      <td>11428.377</td>\n",
       "      <td>21.29735</td>\n",
       "      <td>23251.158</td>\n",
       "    </tr>\n",
       "    <tr>\n",
       "      <th>21</th>\n",
       "      <td>M4912</td>\n",
       "      <td>NaN</td>\n",
       "      <td>None</td>\n",
       "      <td>None</td>\n",
       "      <td>None</td>\n",
       "      <td>None</td>\n",
       "    </tr>\n",
       "  </tbody>\n",
       "</table>\n",
       "</div>"
      ],
      "text/plain": [
       "   ID_mosta  Traffic_Intensity Clear_Time Clear_Distance   Alt_Time  \\\n",
       "0     M2798             2095.0  10.401617      11164.469  22.999367   \n",
       "1     M1734             3199.0   4.454417       4873.101  16.142367   \n",
       "2      M221            17428.0   8.166983       7250.297  12.993033   \n",
       "3     M2684            10883.0   5.248583       3480.775   15.43985   \n",
       "4     M7488             7592.0       None           None       None   \n",
       "5     M5538            11201.0       None           None       None   \n",
       "6     M2907            14997.0       None           None       None   \n",
       "7     M2273                NaN    8.32075       8328.417  26.464967   \n",
       "8     M6631             5407.0     0.8356        445.658   7.895967   \n",
       "9     M1016             3415.0   16.04745      17016.009    21.4783   \n",
       "10    M3641             2601.0   16.04745      17016.009    21.4783   \n",
       "11    M3844             2579.0   6.797267       5764.122   9.230817   \n",
       "12    M7647                NaN    9.02365       8076.907  16.219783   \n",
       "13    M6067             2746.0   4.542317       5164.155  11.545167   \n",
       "14    M4572             1939.0   5.885917       6073.151   8.863817   \n",
       "15    M2485                NaN       None           None       None   \n",
       "16    M4874                NaN   3.975233       4502.403     8.5596   \n",
       "17    M4006             3479.0   5.005733       2499.959   12.24435   \n",
       "18    M1108             5152.0   5.794483       4955.282  14.259517   \n",
       "19    M1702             2141.0    6.28035       3363.685  10.033033   \n",
       "20    M7109             4107.0    11.9041      11428.377   21.29735   \n",
       "21    M4912                NaN       None           None       None   \n",
       "\n",
       "   Alt_Distance  \n",
       "0      23621.52  \n",
       "1      5262.541  \n",
       "2     12346.017  \n",
       "3      9560.415  \n",
       "4          None  \n",
       "5          None  \n",
       "6          None  \n",
       "7     23982.639  \n",
       "8      4045.962  \n",
       "9     23701.825  \n",
       "10    23701.825  \n",
       "11     8644.649  \n",
       "12    15224.453  \n",
       "13    11520.359  \n",
       "14     7652.473  \n",
       "15         None  \n",
       "16     7308.619  \n",
       "17     8944.519  \n",
       "18     9714.754  \n",
       "19     7718.279  \n",
       "20    23251.158  \n",
       "21         None  "
      ]
     },
     "execution_count": 148,
     "metadata": {},
     "output_type": "execute_result"
    }
   ],
   "source": [
    "# Usage: Call the function with the DataFrame and the folder path containing GPX files\n",
    "precast_postensioned = add_route_time_distance_to_df(\n",
    "    precast_postensioned, \"C:/Users/relia/Documents/GitHub/Bridges/01_SC_BA/DT/Routes/New\")\n",
    "\n",
    "precast_postensioned[[\"ID_mosta\", 'Traffic_Intensity', 'Clear_Time',\n",
    "                      'Clear_Distance', 'Alt_Time', 'Alt_Distance']]"
   ]
  },
  {
   "cell_type": "code",
   "execution_count": 116,
   "metadata": {},
   "outputs": [],
   "source": [
    "import folium\n",
    "import xml.etree.ElementTree as ET\n",
    "\n",
    "\n",
    "def create_single_bridge_map(bridge_row, folder_path):\n",
    "    # Extract bridge information from the row\n",
    "    bridge_id = bridge_row['ID_mosta']\n",
    "    bridge_name = bridge_row['Názov_mosta']\n",
    "    latitude = bridge_row['Zemepisná_šírka']\n",
    "    longitude = bridge_row['Zemepisná_dĺžka']\n",
    "\n",
    "    # Retrieve precomputed route info from the DataFrame row\n",
    "    clear_time = bridge_row['Clear_Time']\n",
    "    clear_distance = bridge_row['Clear_Distance']\n",
    "    alt_time = bridge_row['Alt_Time']\n",
    "    alt_distance = bridge_row['Alt_Distance']\n",
    "\n",
    "    # Create a Folium map centered on the bridge location\n",
    "    bridge_map = folium.Map(location=[latitude, longitude], zoom_start=15)\n",
    "\n",
    "    # Define namespaces for GPX parsing\n",
    "    namespaces = {\n",
    "        '': 'http://www.topografix.com/GPX/1/1',\n",
    "        'gh': 'https://graphhopper.com/public/schema/gpx/1.1'\n",
    "    }\n",
    "\n",
    "    # Find corresponding GPX files for this bridge\n",
    "    gpx_files = [f for f in os.listdir(folder_path) if f.startswith(\n",
    "        bridge_id) and f.endswith('.gpx')]\n",
    "\n",
    "    # Process each GPX file to plot the route\n",
    "    for gpx_file in gpx_files:\n",
    "        file_path = os.path.join(folder_path, gpx_file)\n",
    "        tree = ET.parse(file_path)\n",
    "        root = tree.getroot()\n",
    "\n",
    "        # Collect route points for plotting\n",
    "        route_points = [(float(pt.attrib['lat']), float(pt.attrib['lon']))\n",
    "                        for pt in root.findall('.//trkpt', namespaces)]\n",
    "        if route_points:\n",
    "            route_color = 'blue' if '_clear' in gpx_file else 'red'\n",
    "            folium.PolyLine(\n",
    "                route_points,\n",
    "                color=route_color,\n",
    "                weight=4,\n",
    "                opacity=0.7,\n",
    "                popup=f\"{gpx_file} Route\"\n",
    "            ).add_to(bridge_map)\n",
    "\n",
    "    # Prepare popup message with precomputed values\n",
    "    popup_message = (\n",
    "        f\"<strong>{bridge_name} (ID: {bridge_id})</strong><br>\"\n",
    "        f\"<strong>Clear Route:</strong><br>\"\n",
    "        f\"Distance: {clear_distance:.2f} m, Time: {clear_time:.2f} min<br>\"\n",
    "        f\"<strong>Alt Route:</strong><br>\"\n",
    "        f\"Distance: {alt_distance:.2f} m, Time: {alt_time:.2f} min\"\n",
    "    )\n",
    "\n",
    "    # Add a marker for the bridge with hover (tooltip) and click (popup) info\n",
    "    folium.Marker(\n",
    "        location=[latitude, longitude],\n",
    "        tooltip=f\"Bridge ID: {bridge_id}\",\n",
    "        popup=popup_message\n",
    "    ).add_to(bridge_map)\n",
    "\n",
    "    return bridge_map"
   ]
  },
  {
   "cell_type": "code",
   "execution_count": 146,
   "metadata": {},
   "outputs": [
    {
     "data": {
      "text/html": [
       "<div style=\"width:100%;\"><div style=\"position:relative;width:100%;height:0;padding-bottom:60%;\"><span style=\"color:#565656\">Make this Notebook Trusted to load map: File -> Trust Notebook</span><iframe srcdoc=\"&lt;!DOCTYPE html&gt;\n",
       "&lt;html&gt;\n",
       "&lt;head&gt;\n",
       "    \n",
       "    &lt;meta http-equiv=&quot;content-type&quot; content=&quot;text/html; charset=UTF-8&quot; /&gt;\n",
       "    \n",
       "        &lt;script&gt;\n",
       "            L_NO_TOUCH = false;\n",
       "            L_DISABLE_3D = false;\n",
       "        &lt;/script&gt;\n",
       "    \n",
       "    &lt;style&gt;html, body {width: 100%;height: 100%;margin: 0;padding: 0;}&lt;/style&gt;\n",
       "    &lt;style&gt;#map {position:absolute;top:0;bottom:0;right:0;left:0;}&lt;/style&gt;\n",
       "    &lt;script src=&quot;https://cdn.jsdelivr.net/npm/leaflet@1.9.3/dist/leaflet.js&quot;&gt;&lt;/script&gt;\n",
       "    &lt;script src=&quot;https://code.jquery.com/jquery-3.7.1.min.js&quot;&gt;&lt;/script&gt;\n",
       "    &lt;script src=&quot;https://cdn.jsdelivr.net/npm/bootstrap@5.2.2/dist/js/bootstrap.bundle.min.js&quot;&gt;&lt;/script&gt;\n",
       "    &lt;script src=&quot;https://cdnjs.cloudflare.com/ajax/libs/Leaflet.awesome-markers/2.0.2/leaflet.awesome-markers.js&quot;&gt;&lt;/script&gt;\n",
       "    &lt;link rel=&quot;stylesheet&quot; href=&quot;https://cdn.jsdelivr.net/npm/leaflet@1.9.3/dist/leaflet.css&quot;/&gt;\n",
       "    &lt;link rel=&quot;stylesheet&quot; href=&quot;https://cdn.jsdelivr.net/npm/bootstrap@5.2.2/dist/css/bootstrap.min.css&quot;/&gt;\n",
       "    &lt;link rel=&quot;stylesheet&quot; href=&quot;https://netdna.bootstrapcdn.com/bootstrap/3.0.0/css/bootstrap-glyphicons.css&quot;/&gt;\n",
       "    &lt;link rel=&quot;stylesheet&quot; href=&quot;https://cdn.jsdelivr.net/npm/@fortawesome/fontawesome-free@6.2.0/css/all.min.css&quot;/&gt;\n",
       "    &lt;link rel=&quot;stylesheet&quot; href=&quot;https://cdnjs.cloudflare.com/ajax/libs/Leaflet.awesome-markers/2.0.2/leaflet.awesome-markers.css&quot;/&gt;\n",
       "    &lt;link rel=&quot;stylesheet&quot; href=&quot;https://cdn.jsdelivr.net/gh/python-visualization/folium/folium/templates/leaflet.awesome.rotate.min.css&quot;/&gt;\n",
       "    \n",
       "            &lt;meta name=&quot;viewport&quot; content=&quot;width=device-width,\n",
       "                initial-scale=1.0, maximum-scale=1.0, user-scalable=no&quot; /&gt;\n",
       "            &lt;style&gt;\n",
       "                #map_49e86a7cb332ba9e4ddde20cbf2d5d57 {\n",
       "                    position: relative;\n",
       "                    width: 100.0%;\n",
       "                    height: 100.0%;\n",
       "                    left: 0.0%;\n",
       "                    top: 0.0%;\n",
       "                }\n",
       "                .leaflet-container { font-size: 1rem; }\n",
       "            &lt;/style&gt;\n",
       "        \n",
       "&lt;/head&gt;\n",
       "&lt;body&gt;\n",
       "    \n",
       "    \n",
       "            &lt;div class=&quot;folium-map&quot; id=&quot;map_49e86a7cb332ba9e4ddde20cbf2d5d57&quot; &gt;&lt;/div&gt;\n",
       "        \n",
       "&lt;/body&gt;\n",
       "&lt;script&gt;\n",
       "    \n",
       "    \n",
       "            var map_49e86a7cb332ba9e4ddde20cbf2d5d57 = L.map(\n",
       "                &quot;map_49e86a7cb332ba9e4ddde20cbf2d5d57&quot;,\n",
       "                {\n",
       "                    center: [48.231532891, 17.261541436],\n",
       "                    crs: L.CRS.EPSG3857,\n",
       "                    zoom: 15,\n",
       "                    zoomControl: true,\n",
       "                    preferCanvas: false,\n",
       "                }\n",
       "            );\n",
       "\n",
       "            \n",
       "\n",
       "        \n",
       "    \n",
       "            var tile_layer_39a6064170c28ee8ba2e5b15aced25a7 = L.tileLayer(\n",
       "                &quot;https://tile.openstreetmap.org/{z}/{x}/{y}.png&quot;,\n",
       "                {&quot;attribution&quot;: &quot;\\u0026copy; \\u003ca href=\\&quot;https://www.openstreetmap.org/copyright\\&quot;\\u003eOpenStreetMap\\u003c/a\\u003e contributors&quot;, &quot;detectRetina&quot;: false, &quot;maxNativeZoom&quot;: 19, &quot;maxZoom&quot;: 19, &quot;minZoom&quot;: 0, &quot;noWrap&quot;: false, &quot;opacity&quot;: 1, &quot;subdomains&quot;: &quot;abc&quot;, &quot;tms&quot;: false}\n",
       "            );\n",
       "        \n",
       "    \n",
       "            tile_layer_39a6064170c28ee8ba2e5b15aced25a7.addTo(map_49e86a7cb332ba9e4ddde20cbf2d5d57);\n",
       "        \n",
       "    \n",
       "            var poly_line_e3fccfe70c2432729bc0e826a25c3b7c = L.polyline(\n",
       "                [[48.227674, 17.290206], [48.22783, 17.289212], [48.228082, 17.287752], [48.228191, 17.28706], [48.228238, 17.286681], [48.228353, 17.28547], [48.228396, 17.285321], [48.228432, 17.285265], [48.228488, 17.285222], [48.229124, 17.285375], [48.22953, 17.285419], [48.230007, 17.285449], [48.230989, 17.285612], [48.231547, 17.285685], [48.231792, 17.285673], [48.23322, 17.285402], [48.233683, 17.285296], [48.240515, 17.28393], [48.241355, 17.283745], [48.241743, 17.283678], [48.241805, 17.283672], [48.242132, 17.283679], [48.243554, 17.283822], [48.245096, 17.283947], [48.249475, 17.284368], [48.25021, 17.284429], [48.251506, 17.284547], [48.252353, 17.284655], [48.253062, 17.2847], [48.25323, 17.284681], [48.253339, 17.284632], [48.253443, 17.284569], [48.25396, 17.284204], [48.254134, 17.284038], [48.254207, 17.283951], [48.254312, 17.283788], [48.254472, 17.283458], [48.255212, 17.281798], [48.255679, 17.280707], [48.255774, 17.280369], [48.255962, 17.27948], [48.255994, 17.279313], [48.256021, 17.279023], [48.256032, 17.277624], [48.256062, 17.275269], [48.256076, 17.274533], [48.256123, 17.273276], [48.256112, 17.273044], [48.256066, 17.272613], [48.255971, 17.271909], [48.255937, 17.27173], [48.25582, 17.271293], [48.255268, 17.269379], [48.255117, 17.268731], [48.255054, 17.268393], [48.255039, 17.268281], [48.255028, 17.268022], [48.255033, 17.267643], [48.255051, 17.26742], [48.255109, 17.267108], [48.255151, 17.266947], [48.255212, 17.266758], [48.255306, 17.266506], [48.25542, 17.266277], [48.255531, 17.266089], [48.256023, 17.265418], [48.25607, 17.265312], [48.25612, 17.265152], [48.256271, 17.264495], [48.256395, 17.26405], [48.256508, 17.263728], [48.256613, 17.263475], [48.25546, 17.262406], [48.254096, 17.261153], [48.25394, 17.261025], [48.253832, 17.260959], [48.253778, 17.260939], [48.25372, 17.260927], [48.25364, 17.260934], [48.253481, 17.260974], [48.25272, 17.261351], [48.252566, 17.261417], [48.252144, 17.261551], [48.251985, 17.261619], [48.251857, 17.261704], [48.251474, 17.262084], [48.25133, 17.262209], [48.251264, 17.26225], [48.251089, 17.262295], [48.250861, 17.262286], [48.250595, 17.262237], [48.250397, 17.262177], [48.250131, 17.262047], [48.249865, 17.261897], [48.249773, 17.261862], [48.249612, 17.261825], [48.249225, 17.261776], [48.24904, 17.261736], [48.248923, 17.261695], [48.246444, 17.260479], [48.245719, 17.260151], [48.244406, 17.259505], [48.244201, 17.259394], [48.243854, 17.259164], [48.242689, 17.258315], [48.242377, 17.258087], [48.241993, 17.257781], [48.241817, 17.257628], [48.241729, 17.257549], [48.241607, 17.257427], [48.241499, 17.257291], [48.240936, 17.256459], [48.240365, 17.255645], [48.240147, 17.255354], [48.23996, 17.255124], [48.237778, 17.252708], [48.236672, 17.251509], [48.235061, 17.249648], [48.234684, 17.249192], [48.234649, 17.249126]],\n",
       "                {&quot;bubblingMouseEvents&quot;: true, &quot;color&quot;: &quot;red&quot;, &quot;dashArray&quot;: null, &quot;dashOffset&quot;: null, &quot;fill&quot;: false, &quot;fillColor&quot;: &quot;red&quot;, &quot;fillOpacity&quot;: 0.2, &quot;fillRule&quot;: &quot;evenodd&quot;, &quot;lineCap&quot;: &quot;round&quot;, &quot;lineJoin&quot;: &quot;round&quot;, &quot;noClip&quot;: false, &quot;opacity&quot;: 0.7, &quot;smoothFactor&quot;: 1.0, &quot;stroke&quot;: true, &quot;weight&quot;: 4}\n",
       "            ).addTo(map_49e86a7cb332ba9e4ddde20cbf2d5d57);\n",
       "        \n",
       "    \n",
       "        var popup_eee73a96749ce667689eef0fbba6cd7a = L.popup({&quot;maxWidth&quot;: &quot;100%&quot;});\n",
       "\n",
       "        \n",
       "            \n",
       "                var html_cb62e787f7969454191b5f4a7c0c6d39 = $(`&lt;div id=&quot;html_cb62e787f7969454191b5f4a7c0c6d39&quot; style=&quot;width: 100.0%; height: 100.0%;&quot;&gt;M1702_alt.gpx Route&lt;/div&gt;`)[0];\n",
       "                popup_eee73a96749ce667689eef0fbba6cd7a.setContent(html_cb62e787f7969454191b5f4a7c0c6d39);\n",
       "            \n",
       "        \n",
       "\n",
       "        poly_line_e3fccfe70c2432729bc0e826a25c3b7c.bindPopup(popup_eee73a96749ce667689eef0fbba6cd7a)\n",
       "        ;\n",
       "\n",
       "        \n",
       "    \n",
       "    \n",
       "            var poly_line_2ae31feeadd03c8a5fe2809e359515ba = L.polyline(\n",
       "                [[48.227674, 17.290206], [48.22771, 17.289987], [48.22783, 17.289212], [48.228082, 17.287752], [48.228191, 17.28706], [48.228238, 17.286681], [48.228353, 17.28547], [48.228278, 17.285109], [48.228215, 17.284995], [48.228185, 17.284897], [48.228134, 17.284625], [48.228107, 17.284278], [48.228106, 17.284009], [48.228112, 17.283757], [48.228254, 17.280699], [48.228267, 17.28013], [48.228269, 17.279597], [48.228264, 17.278813], [48.228323, 17.275457], [48.228333, 17.274235], [48.228326, 17.273713], [48.228343, 17.273444], [48.228373, 17.27331], [48.228423, 17.273185], [48.2285, 17.273051], [48.228539, 17.273002], [48.22861, 17.272948], [48.228741, 17.272883], [48.230636, 17.272289], [48.230819, 17.272194], [48.230865, 17.272156], [48.230938, 17.272069], [48.231008, 17.271974], [48.231085, 17.271826], [48.231125, 17.271729], [48.231168, 17.271576], [48.231204, 17.27137], [48.231217, 17.271189], [48.231262, 17.269921], [48.231317, 17.268325], [48.231319, 17.267957], [48.23139, 17.267473], [48.231433, 17.26745], [48.231468, 17.267406], [48.231492, 17.267348], [48.231501, 17.267281], [48.231495, 17.267213], [48.231475, 17.267152], [48.231441, 17.267105], [48.2314, 17.267077], [48.231369, 17.266625], [48.231394, 17.266101], [48.231412, 17.265463], [48.231404, 17.264325], [48.231397, 17.263033], [48.231416, 17.262526], [48.231468, 17.261822], [48.231498, 17.261571], [48.231565, 17.261109], [48.231655, 17.260634], [48.231797, 17.26001], [48.232491, 17.257417], [48.233297, 17.254363], [48.233663, 17.253052], [48.234423, 17.250204], [48.234684, 17.249192], [48.234649, 17.249126]],\n",
       "                {&quot;bubblingMouseEvents&quot;: true, &quot;color&quot;: &quot;blue&quot;, &quot;dashArray&quot;: null, &quot;dashOffset&quot;: null, &quot;fill&quot;: false, &quot;fillColor&quot;: &quot;blue&quot;, &quot;fillOpacity&quot;: 0.2, &quot;fillRule&quot;: &quot;evenodd&quot;, &quot;lineCap&quot;: &quot;round&quot;, &quot;lineJoin&quot;: &quot;round&quot;, &quot;noClip&quot;: false, &quot;opacity&quot;: 0.7, &quot;smoothFactor&quot;: 1.0, &quot;stroke&quot;: true, &quot;weight&quot;: 4}\n",
       "            ).addTo(map_49e86a7cb332ba9e4ddde20cbf2d5d57);\n",
       "        \n",
       "    \n",
       "        var popup_92e956ce9b752426cad05dce572fc54d = L.popup({&quot;maxWidth&quot;: &quot;100%&quot;});\n",
       "\n",
       "        \n",
       "            \n",
       "                var html_d2d4eb2f972bb89ef0d0ff87e7ea0531 = $(`&lt;div id=&quot;html_d2d4eb2f972bb89ef0d0ff87e7ea0531&quot; style=&quot;width: 100.0%; height: 100.0%;&quot;&gt;M1702_clear.gpx Route&lt;/div&gt;`)[0];\n",
       "                popup_92e956ce9b752426cad05dce572fc54d.setContent(html_d2d4eb2f972bb89ef0d0ff87e7ea0531);\n",
       "            \n",
       "        \n",
       "\n",
       "        poly_line_2ae31feeadd03c8a5fe2809e359515ba.bindPopup(popup_92e956ce9b752426cad05dce572fc54d)\n",
       "        ;\n",
       "\n",
       "        \n",
       "    \n",
       "    \n",
       "            var marker_76240025dfa222ffd5f332a9d0a4abb1 = L.marker(\n",
       "                [48.231532891, 17.261541436],\n",
       "                {}\n",
       "            ).addTo(map_49e86a7cb332ba9e4ddde20cbf2d5d57);\n",
       "        \n",
       "    \n",
       "        var popup_4824b092213c1ba9c75b69574e210740 = L.popup({&quot;maxWidth&quot;: &quot;100%&quot;});\n",
       "\n",
       "        \n",
       "            \n",
       "                var html_de28f390e46b0b8457cf926a643db8d1 = $(`&lt;div id=&quot;html_de28f390e46b0b8457cf926a643db8d1&quot; style=&quot;width: 100.0%; height: 100.0%;&quot;&gt;&lt;strong&gt;III_502012 - 001 Most cez Čiernu Vodu - na Chorvátsky Grob (ID: M1702)&lt;/strong&gt;&lt;br&gt;&lt;strong&gt;Clear Route:&lt;/strong&gt;&lt;br&gt;Distance: 3363.68 m, Time: 6.28 min&lt;br&gt;&lt;strong&gt;Alt Route:&lt;/strong&gt;&lt;br&gt;Distance: 7718.28 m, Time: 10.03 min&lt;/div&gt;`)[0];\n",
       "                popup_4824b092213c1ba9c75b69574e210740.setContent(html_de28f390e46b0b8457cf926a643db8d1);\n",
       "            \n",
       "        \n",
       "\n",
       "        marker_76240025dfa222ffd5f332a9d0a4abb1.bindPopup(popup_4824b092213c1ba9c75b69574e210740)\n",
       "        ;\n",
       "\n",
       "        \n",
       "    \n",
       "    \n",
       "            marker_76240025dfa222ffd5f332a9d0a4abb1.bindTooltip(\n",
       "                `&lt;div&gt;\n",
       "                     Bridge ID: M1702\n",
       "                 &lt;/div&gt;`,\n",
       "                {&quot;sticky&quot;: true}\n",
       "            );\n",
       "        \n",
       "&lt;/script&gt;\n",
       "&lt;/html&gt;\" style=\"position:absolute;width:100%;height:100%;left:0;top:0;border:none !important;\" allowfullscreen webkitallowfullscreen mozallowfullscreen></iframe></div></div>"
      ],
      "text/plain": [
       "<folium.folium.Map at 0x159283b4590>"
      ]
     },
     "execution_count": 146,
     "metadata": {},
     "output_type": "execute_result"
    }
   ],
   "source": [
    "# Usage: Call the function with a specific row and the folder path containing GPX files\n",
    "bridge_map = create_single_bridge_map(\n",
    "    precast_postensioned.iloc[-3], \"C:/Users/relia/Documents/GitHub/Bridges/01_SC_BA/DT/Routes/New\")\n",
    "\n",
    "# Display the map\n",
    "bridge_map"
   ]
  },
  {
   "cell_type": "code",
   "execution_count": 149,
   "metadata": {},
   "outputs": [
    {
     "data": {
      "text/html": [
       "<div>\n",
       "<style scoped>\n",
       "    .dataframe tbody tr th:only-of-type {\n",
       "        vertical-align: middle;\n",
       "    }\n",
       "\n",
       "    .dataframe tbody tr th {\n",
       "        vertical-align: top;\n",
       "    }\n",
       "\n",
       "    .dataframe thead th {\n",
       "        text-align: right;\n",
       "    }\n",
       "</style>\n",
       "<table border=\"1\" class=\"dataframe\">\n",
       "  <thead>\n",
       "    <tr style=\"text-align: right;\">\n",
       "      <th></th>\n",
       "      <th>ID_mosta</th>\n",
       "      <th>Clear_Fuel_Consumption</th>\n",
       "      <th>Alt_Fuel_Consumption</th>\n",
       "    </tr>\n",
       "  </thead>\n",
       "  <tbody>\n",
       "    <tr>\n",
       "      <th>0</th>\n",
       "      <td>M2798</td>\n",
       "      <td>0.63238</td>\n",
       "      <td>1.438329</td>\n",
       "    </tr>\n",
       "    <tr>\n",
       "      <th>1</th>\n",
       "      <td>M1734</td>\n",
       "      <td>0.286022</td>\n",
       "      <td>0.314664</td>\n",
       "    </tr>\n",
       "    <tr>\n",
       "      <th>2</th>\n",
       "      <td>M221</td>\n",
       "      <td>0.44111</td>\n",
       "      <td>0.747525</td>\n",
       "    </tr>\n",
       "    <tr>\n",
       "      <th>3</th>\n",
       "      <td>M2684</td>\n",
       "      <td>0.212844</td>\n",
       "      <td>0.579298</td>\n",
       "    </tr>\n",
       "    <tr>\n",
       "      <th>4</th>\n",
       "      <td>M7488</td>\n",
       "      <td>0.140316</td>\n",
       "      <td>0.262178</td>\n",
       "    </tr>\n",
       "    <tr>\n",
       "      <th>5</th>\n",
       "      <td>M5538</td>\n",
       "      <td>None</td>\n",
       "      <td>None</td>\n",
       "    </tr>\n",
       "    <tr>\n",
       "      <th>6</th>\n",
       "      <td>M2907</td>\n",
       "      <td>None</td>\n",
       "      <td>None</td>\n",
       "    </tr>\n",
       "    <tr>\n",
       "      <th>7</th>\n",
       "      <td>M2273</td>\n",
       "      <td>0.506376</td>\n",
       "      <td>1.452177</td>\n",
       "    </tr>\n",
       "    <tr>\n",
       "      <th>8</th>\n",
       "      <td>M6631</td>\n",
       "      <td>0.030322</td>\n",
       "      <td>1.099439</td>\n",
       "    </tr>\n",
       "    <tr>\n",
       "      <th>9</th>\n",
       "      <td>M1016</td>\n",
       "      <td>1.057591</td>\n",
       "      <td>1.457171</td>\n",
       "    </tr>\n",
       "    <tr>\n",
       "      <th>10</th>\n",
       "      <td>M3641</td>\n",
       "      <td>1.057591</td>\n",
       "      <td>1.457171</td>\n",
       "    </tr>\n",
       "    <tr>\n",
       "      <th>11</th>\n",
       "      <td>M3844</td>\n",
       "      <td>0.526028</td>\n",
       "      <td>0.351946</td>\n",
       "    </tr>\n",
       "    <tr>\n",
       "      <th>12</th>\n",
       "      <td>M7647</td>\n",
       "      <td>0.481376</td>\n",
       "      <td>0.913763</td>\n",
       "    </tr>\n",
       "    <tr>\n",
       "      <th>13</th>\n",
       "      <td>M6067</td>\n",
       "      <td>0.328907</td>\n",
       "      <td>0.711946</td>\n",
       "    </tr>\n",
       "    <tr>\n",
       "      <th>14</th>\n",
       "      <td>M4572</td>\n",
       "      <td>0.363843</td>\n",
       "      <td>0.459189</td>\n",
       "    </tr>\n",
       "    <tr>\n",
       "      <th>15</th>\n",
       "      <td>M2485</td>\n",
       "      <td>None</td>\n",
       "      <td>None</td>\n",
       "    </tr>\n",
       "    <tr>\n",
       "      <th>16</th>\n",
       "      <td>M4874</td>\n",
       "      <td>0.273222</td>\n",
       "      <td>0.441651</td>\n",
       "    </tr>\n",
       "    <tr>\n",
       "      <th>17</th>\n",
       "      <td>M4006</td>\n",
       "      <td>0.151317</td>\n",
       "      <td>0.542533</td>\n",
       "    </tr>\n",
       "    <tr>\n",
       "      <th>18</th>\n",
       "      <td>M1108</td>\n",
       "      <td>0.297155</td>\n",
       "      <td>0.586947</td>\n",
       "    </tr>\n",
       "    <tr>\n",
       "      <th>19</th>\n",
       "      <td>M1702</td>\n",
       "      <td>0.19854</td>\n",
       "      <td>0.460272</td>\n",
       "    </tr>\n",
       "    <tr>\n",
       "      <th>20</th>\n",
       "      <td>M7109</td>\n",
       "      <td>0.716099</td>\n",
       "      <td>1.42704</td>\n",
       "    </tr>\n",
       "    <tr>\n",
       "      <th>21</th>\n",
       "      <td>M4912</td>\n",
       "      <td>None</td>\n",
       "      <td>None</td>\n",
       "    </tr>\n",
       "  </tbody>\n",
       "</table>\n",
       "</div>"
      ],
      "text/plain": [
       "   ID_mosta Clear_Fuel_Consumption Alt_Fuel_Consumption\n",
       "0     M2798                0.63238             1.438329\n",
       "1     M1734               0.286022             0.314664\n",
       "2      M221                0.44111             0.747525\n",
       "3     M2684               0.212844             0.579298\n",
       "4     M7488               0.140316             0.262178\n",
       "5     M5538                   None                 None\n",
       "6     M2907                   None                 None\n",
       "7     M2273               0.506376             1.452177\n",
       "8     M6631               0.030322             1.099439\n",
       "9     M1016               1.057591             1.457171\n",
       "10    M3641               1.057591             1.457171\n",
       "11    M3844               0.526028             0.351946\n",
       "12    M7647               0.481376             0.913763\n",
       "13    M6067               0.328907             0.711946\n",
       "14    M4572               0.363843             0.459189\n",
       "15    M2485                   None                 None\n",
       "16    M4874               0.273222             0.441651\n",
       "17    M4006               0.151317             0.542533\n",
       "18    M1108               0.297155             0.586947\n",
       "19    M1702                0.19854             0.460272\n",
       "20    M7109               0.716099              1.42704\n",
       "21    M4912                   None                 None"
      ]
     },
     "execution_count": 149,
     "metadata": {},
     "output_type": "execute_result"
    }
   ],
   "source": [
    "import os\n",
    "import pandas as pd\n",
    "import gpxpy\n",
    "import numpy as np\n",
    "\n",
    "# Define the polynomial function for fuel consumption based on the slope\n",
    "\n",
    "\n",
    "def get_fuel_consumption(slope):\n",
    "    return 6 + 0.766 * slope + 0.0646 * slope**2\n",
    "\n",
    "# Extract route data from a GPX file\n",
    "\n",
    "\n",
    "def extract_route_data(gpx_file_path):\n",
    "    with open(gpx_file_path, 'r') as gpx_file:\n",
    "        gpx = gpxpy.parse(gpx_file)\n",
    "\n",
    "    latitudes = []\n",
    "    longitudes = []\n",
    "    elevations = []\n",
    "    distances = []\n",
    "    cumulative_distance = 0\n",
    "    previous_point = None\n",
    "\n",
    "    for track in gpx.tracks:\n",
    "        for segment in track.segments:\n",
    "            for point in segment.points:\n",
    "                latitudes.append(point.latitude)\n",
    "                longitudes.append(point.longitude)\n",
    "                elevations.append(point.elevation)\n",
    "                if previous_point is not None:\n",
    "                    distance = point.distance_2d(previous_point)\n",
    "                    cumulative_distance += distance\n",
    "                else:\n",
    "                    distance = 0\n",
    "                distances.append(cumulative_distance)\n",
    "                previous_point = point\n",
    "\n",
    "    return latitudes, longitudes, elevations, distances\n",
    "\n",
    "# Process the route to calculate segment details and fuel consumption\n",
    "\n",
    "\n",
    "def process_route(gpx_file_path):\n",
    "    # Extract route data\n",
    "    latitudes, longitudes, elevations, distances = extract_route_data(\n",
    "        gpx_file_path)\n",
    "\n",
    "    # Create a DataFrame for route data\n",
    "    data = {\n",
    "        'Latitude': latitudes,\n",
    "        'Longitude': longitudes,\n",
    "        'Distance (m)': distances,\n",
    "        'Elevation (m)': elevations\n",
    "    }\n",
    "\n",
    "    df_route = pd.DataFrame(data)\n",
    "\n",
    "    # Calculate segment length and slope for each segment\n",
    "    segment_lengths = [0]  # Initial segment length is 0 for the starting point\n",
    "    slopes = [0]           # Initial slope is 0 for the starting point\n",
    "\n",
    "    for i in range(1, len(df_route)):\n",
    "        segment_length = df_route['Distance (m)'].iloc[i] - \\\n",
    "            df_route['Distance (m)'].iloc[i - 1]\n",
    "        elevation_change = df_route['Elevation (m)'].iloc[i] - \\\n",
    "            df_route['Elevation (m)'].iloc[i - 1]\n",
    "        slope = np.degrees(np.arctan(elevation_change /\n",
    "                           segment_length)) if segment_length != 0 else 0\n",
    "\n",
    "        segment_lengths.append(segment_length)\n",
    "        slopes.append(slope)\n",
    "\n",
    "    df_route['Segment Length (m)'] = segment_lengths\n",
    "    df_route['Slope (Degrees)'] = slopes\n",
    "\n",
    "    # Calculate fuel consumption for each segment\n",
    "    df_route['Fuel Consumption (liters/100km)'] = df_route['Slope (Degrees)'].apply(\n",
    "        get_fuel_consumption)\n",
    "\n",
    "    # Calculate fuel consumption per segment in liters\n",
    "    df_route['Fuel Consumption per Segment (liters)'] = (\n",
    "        df_route['Fuel Consumption (liters/100km)'] * df_route['Segment Length (m)']) / 100000\n",
    "\n",
    "    # Calculate total fuel consumption\n",
    "    total_fuel_consumption = df_route['Fuel Consumption per Segment (liters)'].sum(\n",
    "    )\n",
    "\n",
    "    return total_fuel_consumption\n",
    "\n",
    "\n",
    "# Initialize columns in the DataFrame for fuel consumption\n",
    "precast_postensioned['Clear_Fuel_Consumption'] = None\n",
    "precast_postensioned['Alt_Fuel_Consumption'] = None\n",
    "\n",
    "# Define folder path for GPX files\n",
    "folder_path = \"C:/Users/relia/Documents/GitHub/Bridges/01_SC_BA/DT/Routes/\"\n",
    "\n",
    "# Loop through each bridge in the DataFrame and calculate fuel consumption for both routes\n",
    "for index, row in precast_postensioned.iterrows():\n",
    "    bridge_id = row['ID_mosta']\n",
    "    clear_file_path = os.path.join(folder_path, f\"{bridge_id}_clear.gpx\")\n",
    "    alt_file_path = os.path.join(folder_path, f\"{bridge_id}_alt.gpx\")\n",
    "\n",
    "    # Calculate fuel consumption for the clear route if the file exists\n",
    "    if os.path.exists(clear_file_path):\n",
    "        clear_fuel_consumption = process_route(clear_file_path)\n",
    "        precast_postensioned.at[index,\n",
    "                                'Clear_Fuel_Consumption'] = clear_fuel_consumption\n",
    "\n",
    "    # Calculate fuel consumption for the alt route if the file exists\n",
    "    if os.path.exists(alt_file_path):\n",
    "        alt_fuel_consumption = process_route(alt_file_path)\n",
    "        precast_postensioned.at[index,\n",
    "                                'Alt_Fuel_Consumption'] = alt_fuel_consumption\n",
    "\n",
    "# Display updated DataFrame\n",
    "precast_postensioned[['ID_mosta',\n",
    "                      'Clear_Fuel_Consumption', 'Alt_Fuel_Consumption']]"
   ]
  },
  {
   "cell_type": "code",
   "execution_count": 140,
   "metadata": {},
   "outputs": [
    {
     "data": {
      "text/plain": [
       "Index(['ID_mosta', 'Názov_mosta', 'Rok_postavenia', 'Dĺžka_premostenia',\n",
       "       'Zemepisná_šírka', 'Zemepisná_dĺžka', 'n_2012', 'n_2013', 'n_2014',\n",
       "       'n_2015', 'n_2016', 'n_2017', 'n_2018', 'n_2019', 'n_2020', 'n_2021',\n",
       "       'n_2022', 'n_2023', 'n_2024', 'Traffic_Intensity', 'Clear_Time',\n",
       "       'Clear_Distance', 'Alt_Time', 'Alt_Distance'],\n",
       "      dtype='object')"
      ]
     },
     "execution_count": 140,
     "metadata": {},
     "output_type": "execute_result"
    }
   ],
   "source": [
    "precast_postensioned.columns"
   ]
  },
  {
   "cell_type": "code",
   "execution_count": 153,
   "metadata": {},
   "outputs": [
    {
     "data": {
      "text/html": [
       "<div>\n",
       "<style scoped>\n",
       "    .dataframe tbody tr th:only-of-type {\n",
       "        vertical-align: middle;\n",
       "    }\n",
       "\n",
       "    .dataframe tbody tr th {\n",
       "        vertical-align: top;\n",
       "    }\n",
       "\n",
       "    .dataframe thead th {\n",
       "        text-align: right;\n",
       "    }\n",
       "</style>\n",
       "<table border=\"1\" class=\"dataframe\">\n",
       "  <thead>\n",
       "    <tr style=\"text-align: right;\">\n",
       "      <th></th>\n",
       "      <th>ID_mosta</th>\n",
       "      <th>Traffic_Intensity</th>\n",
       "      <th>Fuel_Consumption_Difference</th>\n",
       "      <th>Cost_Per_Vehicle</th>\n",
       "      <th>Total_Cost</th>\n",
       "    </tr>\n",
       "  </thead>\n",
       "  <tbody>\n",
       "    <tr>\n",
       "      <th>0</th>\n",
       "      <td>M2798</td>\n",
       "      <td>2095.0</td>\n",
       "      <td>0.805948</td>\n",
       "      <td>1.221818</td>\n",
       "      <td>2559.708372</td>\n",
       "    </tr>\n",
       "    <tr>\n",
       "      <th>1</th>\n",
       "      <td>M1734</td>\n",
       "      <td>3199.0</td>\n",
       "      <td>0.028642</td>\n",
       "      <td>0.043421</td>\n",
       "      <td>138.902929</td>\n",
       "    </tr>\n",
       "    <tr>\n",
       "      <th>2</th>\n",
       "      <td>M221</td>\n",
       "      <td>17428.0</td>\n",
       "      <td>0.306415</td>\n",
       "      <td>0.464525</td>\n",
       "      <td>8095.745807</td>\n",
       "    </tr>\n",
       "    <tr>\n",
       "      <th>3</th>\n",
       "      <td>M2684</td>\n",
       "      <td>10883.0</td>\n",
       "      <td>0.366454</td>\n",
       "      <td>0.555544</td>\n",
       "      <td>6045.989779</td>\n",
       "    </tr>\n",
       "    <tr>\n",
       "      <th>4</th>\n",
       "      <td>M7488</td>\n",
       "      <td>7592.0</td>\n",
       "      <td>0.121863</td>\n",
       "      <td>0.184744</td>\n",
       "      <td>1402.575942</td>\n",
       "    </tr>\n",
       "    <tr>\n",
       "      <th>5</th>\n",
       "      <td>M5538</td>\n",
       "      <td>11201.0</td>\n",
       "      <td>NaN</td>\n",
       "      <td>NaN</td>\n",
       "      <td>NaN</td>\n",
       "    </tr>\n",
       "    <tr>\n",
       "      <th>6</th>\n",
       "      <td>M2907</td>\n",
       "      <td>14997.0</td>\n",
       "      <td>NaN</td>\n",
       "      <td>NaN</td>\n",
       "      <td>NaN</td>\n",
       "    </tr>\n",
       "    <tr>\n",
       "      <th>7</th>\n",
       "      <td>M2273</td>\n",
       "      <td>NaN</td>\n",
       "      <td>0.945801</td>\n",
       "      <td>1.433834</td>\n",
       "      <td>NaN</td>\n",
       "    </tr>\n",
       "    <tr>\n",
       "      <th>8</th>\n",
       "      <td>M6631</td>\n",
       "      <td>5407.0</td>\n",
       "      <td>1.069117</td>\n",
       "      <td>1.620782</td>\n",
       "      <td>8763.567108</td>\n",
       "    </tr>\n",
       "    <tr>\n",
       "      <th>9</th>\n",
       "      <td>M1016</td>\n",
       "      <td>3415.0</td>\n",
       "      <td>0.39958</td>\n",
       "      <td>0.605764</td>\n",
       "      <td>2068.683428</td>\n",
       "    </tr>\n",
       "    <tr>\n",
       "      <th>10</th>\n",
       "      <td>M3641</td>\n",
       "      <td>2601.0</td>\n",
       "      <td>0.39958</td>\n",
       "      <td>0.605764</td>\n",
       "      <td>1575.591683</td>\n",
       "    </tr>\n",
       "    <tr>\n",
       "      <th>11</th>\n",
       "      <td>M3844</td>\n",
       "      <td>2579.0</td>\n",
       "      <td>-0.174082</td>\n",
       "      <td>-0.263909</td>\n",
       "      <td>-680.620143</td>\n",
       "    </tr>\n",
       "    <tr>\n",
       "      <th>12</th>\n",
       "      <td>M7647</td>\n",
       "      <td>NaN</td>\n",
       "      <td>0.432387</td>\n",
       "      <td>0.655498</td>\n",
       "      <td>NaN</td>\n",
       "    </tr>\n",
       "    <tr>\n",
       "      <th>13</th>\n",
       "      <td>M6067</td>\n",
       "      <td>2746.0</td>\n",
       "      <td>0.383039</td>\n",
       "      <td>0.580687</td>\n",
       "      <td>1594.565455</td>\n",
       "    </tr>\n",
       "    <tr>\n",
       "      <th>14</th>\n",
       "      <td>M4572</td>\n",
       "      <td>1939.0</td>\n",
       "      <td>0.095346</td>\n",
       "      <td>0.144545</td>\n",
       "      <td>280.272056</td>\n",
       "    </tr>\n",
       "    <tr>\n",
       "      <th>15</th>\n",
       "      <td>M2485</td>\n",
       "      <td>NaN</td>\n",
       "      <td>NaN</td>\n",
       "      <td>NaN</td>\n",
       "      <td>NaN</td>\n",
       "    </tr>\n",
       "    <tr>\n",
       "      <th>16</th>\n",
       "      <td>M4874</td>\n",
       "      <td>NaN</td>\n",
       "      <td>0.16843</td>\n",
       "      <td>0.25534</td>\n",
       "      <td>NaN</td>\n",
       "    </tr>\n",
       "    <tr>\n",
       "      <th>17</th>\n",
       "      <td>M4006</td>\n",
       "      <td>3479.0</td>\n",
       "      <td>0.391216</td>\n",
       "      <td>0.593084</td>\n",
       "      <td>2063.339296</td>\n",
       "    </tr>\n",
       "    <tr>\n",
       "      <th>18</th>\n",
       "      <td>M1108</td>\n",
       "      <td>5152.0</td>\n",
       "      <td>0.289791</td>\n",
       "      <td>0.439324</td>\n",
       "      <td>2263.395995</td>\n",
       "    </tr>\n",
       "    <tr>\n",
       "      <th>19</th>\n",
       "      <td>M1702</td>\n",
       "      <td>2141.0</td>\n",
       "      <td>0.261732</td>\n",
       "      <td>0.396786</td>\n",
       "      <td>849.518986</td>\n",
       "    </tr>\n",
       "    <tr>\n",
       "      <th>20</th>\n",
       "      <td>M7109</td>\n",
       "      <td>4107.0</td>\n",
       "      <td>0.710941</td>\n",
       "      <td>1.077787</td>\n",
       "      <td>4426.469854</td>\n",
       "    </tr>\n",
       "    <tr>\n",
       "      <th>21</th>\n",
       "      <td>M4912</td>\n",
       "      <td>NaN</td>\n",
       "      <td>NaN</td>\n",
       "      <td>NaN</td>\n",
       "      <td>NaN</td>\n",
       "    </tr>\n",
       "  </tbody>\n",
       "</table>\n",
       "</div>"
      ],
      "text/plain": [
       "   ID_mosta  Traffic_Intensity Fuel_Consumption_Difference Cost_Per_Vehicle  \\\n",
       "0     M2798             2095.0                    0.805948         1.221818   \n",
       "1     M1734             3199.0                    0.028642         0.043421   \n",
       "2      M221            17428.0                    0.306415         0.464525   \n",
       "3     M2684            10883.0                    0.366454         0.555544   \n",
       "4     M7488             7592.0                    0.121863         0.184744   \n",
       "5     M5538            11201.0                         NaN              NaN   \n",
       "6     M2907            14997.0                         NaN              NaN   \n",
       "7     M2273                NaN                    0.945801         1.433834   \n",
       "8     M6631             5407.0                    1.069117         1.620782   \n",
       "9     M1016             3415.0                     0.39958         0.605764   \n",
       "10    M3641             2601.0                     0.39958         0.605764   \n",
       "11    M3844             2579.0                   -0.174082        -0.263909   \n",
       "12    M7647                NaN                    0.432387         0.655498   \n",
       "13    M6067             2746.0                    0.383039         0.580687   \n",
       "14    M4572             1939.0                    0.095346         0.144545   \n",
       "15    M2485                NaN                         NaN              NaN   \n",
       "16    M4874                NaN                     0.16843          0.25534   \n",
       "17    M4006             3479.0                    0.391216         0.593084   \n",
       "18    M1108             5152.0                    0.289791         0.439324   \n",
       "19    M1702             2141.0                    0.261732         0.396786   \n",
       "20    M7109             4107.0                    0.710941         1.077787   \n",
       "21    M4912                NaN                         NaN              NaN   \n",
       "\n",
       "     Total_Cost  \n",
       "0   2559.708372  \n",
       "1    138.902929  \n",
       "2   8095.745807  \n",
       "3   6045.989779  \n",
       "4   1402.575942  \n",
       "5           NaN  \n",
       "6           NaN  \n",
       "7           NaN  \n",
       "8   8763.567108  \n",
       "9   2068.683428  \n",
       "10  1575.591683  \n",
       "11  -680.620143  \n",
       "12          NaN  \n",
       "13  1594.565455  \n",
       "14   280.272056  \n",
       "15          NaN  \n",
       "16          NaN  \n",
       "17  2063.339296  \n",
       "18  2263.395995  \n",
       "19   849.518986  \n",
       "20  4426.469854  \n",
       "21          NaN  "
      ]
     },
     "execution_count": 153,
     "metadata": {},
     "output_type": "execute_result"
    }
   ],
   "source": [
    "# Calculate the difference in fuel consumption between the clear and alt routes\n",
    "precast_postensioned['Fuel_Consumption_Difference'] = (\n",
    "    precast_postensioned['Alt_Fuel_Consumption'] -\n",
    "    precast_postensioned['Clear_Fuel_Consumption']\n",
    ")\n",
    "\n",
    "# Convert the fuel consumption difference to cost (euro) per vehicle\n",
    "fuel_price_per_liter = 1.516\n",
    "precast_postensioned['Cost_Per_Vehicle'] = (\n",
    "    precast_postensioned['Fuel_Consumption_Difference'] * fuel_price_per_liter\n",
    ")\n",
    "\n",
    "# Multiply by Traffic Intensity to get the total cost impact\n",
    "precast_postensioned['Total_Cost'] = (\n",
    "    precast_postensioned['Cost_Per_Vehicle'] *\n",
    "    precast_postensioned['Traffic_Intensity']\n",
    ")\n",
    "\n",
    "# Display the updated DataFrame with the new columns\n",
    "precast_postensioned[[\n",
    "    \"ID_mosta\", 'Traffic_Intensity', 'Fuel_Consumption_Difference',\n",
    "    'Cost_Per_Vehicle', 'Total_Cost'\n",
    "]]"
   ]
  },
  {
   "cell_type": "code",
   "execution_count": 163,
   "metadata": {},
   "outputs": [
    {
     "name": "stdout",
     "output_type": "stream",
     "text": [
      "   ID_mosta                                                   Názov_mosta\n",
      "0     M2798                          II_501 - 013A Most na ŽSR - Rohožník\n",
      "1     M1734                       II_501 - 015 Most nad ŽSR za Rohožníkom\n",
      "2      M221       II_502 - 006 Most nad polnou cestou a potokom - Sv. Jur\n",
      "3     M2684                    II_503 - 008 most nad traťou ŽSR - Pezinok\n",
      "4     M7488                          II_503 - 009 Most na peáži v Pezinku\n",
      "5     M5538                  II_503 - 022 Most cez potok Malina - Malacky\n",
      "6     M2907                 II_503 - 022B Most nad ŽSR - Estakáda Malacky\n",
      "7     M2273                          II_503 - 029 Most cez Zohorský kanál\n",
      "8     M6631                 II_504 - 004 Most cez potok Gidra - Budmerice\n",
      "9     M1016             II_590 - 003 Most nad diaľnicou D2 - za Malackami\n",
      "10    M3641          II_590 - 004 Most cez potok Rudava - pred Studienkou\n",
      "11    M3844         III_002032 - 002 Nadjazd nad D2 za obcou Veľké Leváre\n",
      "12    M7647  III_002034 - 002 Most cez rieku Rudava za obcou Veľké Leváre\n",
      "13    M6067          III_002039 - 002 Most nad diaľnicou D2 - za Stupavou\n",
      "14    M4572                      III_002039 - 006 Most cez Zohorský kanál\n",
      "15    M2485              III_002050 - 001 nad diaľnicou D2 - v obci Závod\n",
      "16    M4874                       III_061011 - 002A Most nad diaľnicou D1\n",
      "17    M4006           III_061066 - 002 Most cez Čiernu vodu v Bernolákove\n",
      "18    M1108             III_502005 - 001 Most nad ŽSR Šenkvice - Panholec\n",
      "19    M1702    III_502012 - 001 Most cez Čiernu Vodu - na Chorvátsky Grob\n",
      "20    M7109         III_503010 - 001 Most nad diaľnicou D2 - za Malackami\n",
      "21    M4912    III_503014 - 001 Most cez Záhorský kanál - za obcou Gajary\n"
     ]
    }
   ],
   "source": [
    "# Set Pandas display option to prevent truncation of long strings\n",
    "pd.set_option('display.max_colwidth', None)\n",
    "\n",
    "# Print the DataFrame with bridge IDs and full names\n",
    "print(precast_postensioned[[\"ID_mosta\", 'Názov_mosta']])\n",
    "\n",
    "# Reset display option to default if needed later\n",
    "# pd.reset_option('display.max_colwidth')"
   ]
  },
  {
   "cell_type": "code",
   "execution_count": 176,
   "metadata": {},
   "outputs": [
    {
     "data": {
      "text/html": [
       "<div style=\"width:100%;\"><div style=\"position:relative;width:100%;height:0;padding-bottom:60%;\"><span style=\"color:#565656\">Make this Notebook Trusted to load map: File -> Trust Notebook</span><iframe srcdoc=\"&lt;!DOCTYPE html&gt;\n",
       "&lt;html&gt;\n",
       "&lt;head&gt;\n",
       "    \n",
       "    &lt;meta http-equiv=&quot;content-type&quot; content=&quot;text/html; charset=UTF-8&quot; /&gt;\n",
       "    \n",
       "        &lt;script&gt;\n",
       "            L_NO_TOUCH = false;\n",
       "            L_DISABLE_3D = false;\n",
       "        &lt;/script&gt;\n",
       "    \n",
       "    &lt;style&gt;html, body {width: 100%;height: 100%;margin: 0;padding: 0;}&lt;/style&gt;\n",
       "    &lt;style&gt;#map {position:absolute;top:0;bottom:0;right:0;left:0;}&lt;/style&gt;\n",
       "    &lt;script src=&quot;https://cdn.jsdelivr.net/npm/leaflet@1.9.3/dist/leaflet.js&quot;&gt;&lt;/script&gt;\n",
       "    &lt;script src=&quot;https://code.jquery.com/jquery-3.7.1.min.js&quot;&gt;&lt;/script&gt;\n",
       "    &lt;script src=&quot;https://cdn.jsdelivr.net/npm/bootstrap@5.2.2/dist/js/bootstrap.bundle.min.js&quot;&gt;&lt;/script&gt;\n",
       "    &lt;script src=&quot;https://cdnjs.cloudflare.com/ajax/libs/Leaflet.awesome-markers/2.0.2/leaflet.awesome-markers.js&quot;&gt;&lt;/script&gt;\n",
       "    &lt;link rel=&quot;stylesheet&quot; href=&quot;https://cdn.jsdelivr.net/npm/leaflet@1.9.3/dist/leaflet.css&quot;/&gt;\n",
       "    &lt;link rel=&quot;stylesheet&quot; href=&quot;https://cdn.jsdelivr.net/npm/bootstrap@5.2.2/dist/css/bootstrap.min.css&quot;/&gt;\n",
       "    &lt;link rel=&quot;stylesheet&quot; href=&quot;https://netdna.bootstrapcdn.com/bootstrap/3.0.0/css/bootstrap-glyphicons.css&quot;/&gt;\n",
       "    &lt;link rel=&quot;stylesheet&quot; href=&quot;https://cdn.jsdelivr.net/npm/@fortawesome/fontawesome-free@6.2.0/css/all.min.css&quot;/&gt;\n",
       "    &lt;link rel=&quot;stylesheet&quot; href=&quot;https://cdnjs.cloudflare.com/ajax/libs/Leaflet.awesome-markers/2.0.2/leaflet.awesome-markers.css&quot;/&gt;\n",
       "    &lt;link rel=&quot;stylesheet&quot; href=&quot;https://cdn.jsdelivr.net/gh/python-visualization/folium/folium/templates/leaflet.awesome.rotate.min.css&quot;/&gt;\n",
       "    \n",
       "            &lt;meta name=&quot;viewport&quot; content=&quot;width=device-width,\n",
       "                initial-scale=1.0, maximum-scale=1.0, user-scalable=no&quot; /&gt;\n",
       "            &lt;style&gt;\n",
       "                #map_a73a98e756a946e4f9b1cc7ee2a7a339 {\n",
       "                    position: relative;\n",
       "                    width: 100.0%;\n",
       "                    height: 100.0%;\n",
       "                    left: 0.0%;\n",
       "                    top: 0.0%;\n",
       "                }\n",
       "                .leaflet-container { font-size: 1rem; }\n",
       "            &lt;/style&gt;\n",
       "        \n",
       "&lt;/head&gt;\n",
       "&lt;body&gt;\n",
       "    \n",
       "    \n",
       "            &lt;div class=&quot;folium-map&quot; id=&quot;map_a73a98e756a946e4f9b1cc7ee2a7a339&quot; &gt;&lt;/div&gt;\n",
       "        \n",
       "&lt;/body&gt;\n",
       "&lt;script&gt;\n",
       "    \n",
       "    \n",
       "            var map_a73a98e756a946e4f9b1cc7ee2a7a339 = L.map(\n",
       "                &quot;map_a73a98e756a946e4f9b1cc7ee2a7a339&quot;,\n",
       "                {\n",
       "                    center: [48.241012944, 17.203997081],\n",
       "                    crs: L.CRS.EPSG3857,\n",
       "                    zoom: 15,\n",
       "                    zoomControl: true,\n",
       "                    preferCanvas: false,\n",
       "                }\n",
       "            );\n",
       "\n",
       "            \n",
       "\n",
       "        \n",
       "    \n",
       "            var tile_layer_e3e6c7ed5e91173f758283595070d36e = L.tileLayer(\n",
       "                &quot;https://tile.openstreetmap.org/{z}/{x}/{y}.png&quot;,\n",
       "                {&quot;attribution&quot;: &quot;\\u0026copy; \\u003ca href=\\&quot;https://www.openstreetmap.org/copyright\\&quot;\\u003eOpenStreetMap\\u003c/a\\u003e contributors&quot;, &quot;detectRetina&quot;: false, &quot;maxNativeZoom&quot;: 19, &quot;maxZoom&quot;: 19, &quot;minZoom&quot;: 0, &quot;noWrap&quot;: false, &quot;opacity&quot;: 1, &quot;subdomains&quot;: &quot;abc&quot;, &quot;tms&quot;: false}\n",
       "            );\n",
       "        \n",
       "    \n",
       "            tile_layer_e3e6c7ed5e91173f758283595070d36e.addTo(map_a73a98e756a946e4f9b1cc7ee2a7a339);\n",
       "        \n",
       "    \n",
       "            var poly_line_4c1b420441649a6d338251f8ef2452d0 = L.polyline(\n",
       "                [[48.224257, 17.187224], [48.224832, 17.188561], [48.225058, 17.189063], [48.225419, 17.189519], [48.22568, 17.189896], [48.225979, 17.190224], [48.226302, 17.190522], [48.226477, 17.19065], [48.226626, 17.190744], [48.226953, 17.190919], [48.227677, 17.191156], [48.228353, 17.191454], [48.228462, 17.19152], [48.228526, 17.191572], [48.22865, 17.191707], [48.228761, 17.191881], [48.228807, 17.191979], [48.228846, 17.192098], [48.228897, 17.192345], [48.228914, 17.192588], [48.228909, 17.192713], [48.228885, 17.192867], [48.22881, 17.193154], [48.228517, 17.193828], [48.228023, 17.194905], [48.227243, 17.196525], [48.226678, 17.197641], [48.22611, 17.198656], [48.225253, 17.200073], [48.224342, 17.201467], [48.223173, 17.203125], [48.220397, 17.206861], [48.220022, 17.207383], [48.219553, 17.208061], [48.218974, 17.208938], [48.218529, 17.209679], [48.218311, 17.210051], [48.217895, 17.210766], [48.217421, 17.211671], [48.216988, 17.212548], [48.215507, 17.215835], [48.215312, 17.216251], [48.214941, 17.217022], [48.214632, 17.217632], [48.214392, 17.217926], [48.21423, 17.218085], [48.214063, 17.218197], [48.213864, 17.218288], [48.213664, 17.218328], [48.2134, 17.218316], [48.213065, 17.21826], [48.212719, 17.218178], [48.212439, 17.2181], [48.212418, 17.218009], [48.212381, 17.217931], [48.212331, 17.217872], [48.212262, 17.217835], [48.212189, 17.217834], [48.21212, 17.217868], [48.212063, 17.217935], [48.212023, 17.218027], [48.212005, 17.218133], [48.212012, 17.218242], [48.212042, 17.218342], [48.212093, 17.218421], [48.212158, 17.218471], [48.21223, 17.218486], [48.212258, 17.218856], [48.212324, 17.219116], [48.21239, 17.219334], [48.21248, 17.219551], [48.212609, 17.219791], [48.212776, 17.220071], [48.213155, 17.220692], [48.213303, 17.220929], [48.213264, 17.221242], [48.213223, 17.221364], [48.213099, 17.221553], [48.212753, 17.221633], [48.212535, 17.221697], [48.212324, 17.221815], [48.212025, 17.222045], [48.211812, 17.222228], [48.211725, 17.222328], [48.21165, 17.222459], [48.211606, 17.222593], [48.211583, 17.222771], [48.211595, 17.222936], [48.211632, 17.223074], [48.21168, 17.223181], [48.211792, 17.22333], [48.212288, 17.223794], [48.212591, 17.22408], [48.213847, 17.225287], [48.214142, 17.225632], [48.214382, 17.225981], [48.214602, 17.226269], [48.214731, 17.226407], [48.215081, 17.22671], [48.21683, 17.228124], [48.216876, 17.228161], [48.216984, 17.228247], [48.219503, 17.230283], [48.219969, 17.230639], [48.220639, 17.231187], [48.221506, 17.231919], [48.221636, 17.231997], [48.221734, 17.23203], [48.22187, 17.232039], [48.222014, 17.232025], [48.222376, 17.23193], [48.222976, 17.231813], [48.224112, 17.231521], [48.224218, 17.231504], [48.224327, 17.231513], [48.224421, 17.231576], [48.224543, 17.231766], [48.225124, 17.233139], [48.225984, 17.235077], [48.226845, 17.237033], [48.227039, 17.237437], [48.22804, 17.23932], [48.22953, 17.241417], [48.230574, 17.242825], [48.231069, 17.243422], [48.23232, 17.244896], [48.233327, 17.246106], [48.233397, 17.246212], [48.233463, 17.246332], [48.234592, 17.249015], [48.234684, 17.249192], [48.235061, 17.249648], [48.236672, 17.251509], [48.237778, 17.252708], [48.23996, 17.255124], [48.240147, 17.255354], [48.240365, 17.255645], [48.240936, 17.256459], [48.241499, 17.257291], [48.241607, 17.257427], [48.241729, 17.257549], [48.241817, 17.257628], [48.241993, 17.257781], [48.242377, 17.258087], [48.242689, 17.258315], [48.243854, 17.259164], [48.244201, 17.259394], [48.244406, 17.259505], [48.245389, 17.25999], [48.245719, 17.260151], [48.246444, 17.260479], [48.248923, 17.261695], [48.24904, 17.261736], [48.249225, 17.261776], [48.249612, 17.261825], [48.249773, 17.261862], [48.249865, 17.261897], [48.250131, 17.262047], [48.250397, 17.262177], [48.250595, 17.262237], [48.250861, 17.262286], [48.251089, 17.262295], [48.251264, 17.26225], [48.25133, 17.262209], [48.251474, 17.262084], [48.251857, 17.261704], [48.251985, 17.261619], [48.252144, 17.261551], [48.252566, 17.261417], [48.25272, 17.261351], [48.253481, 17.260974], [48.25364, 17.260934], [48.25372, 17.260927], [48.253778, 17.260939], [48.253832, 17.260959], [48.25394, 17.261025], [48.254096, 17.261153], [48.25546, 17.262406], [48.256613, 17.263475], [48.256919, 17.262656], [48.257088, 17.262147], [48.257409, 17.261264], [48.257584, 17.260844], [48.257753, 17.260479], [48.257854, 17.260282], [48.257935, 17.260127], [48.258313, 17.259508], [48.258522, 17.259215], [48.258734, 17.25894], [48.259824, 17.257717], [48.260264, 17.257207], [48.260857, 17.256552], [48.261077, 17.256331], [48.261719, 17.25576], [48.2623, 17.255217], [48.262842, 17.254663], [48.262981, 17.254507], [48.263106, 17.254341], [48.263341, 17.253957], [48.263722, 17.253308], [48.266428, 17.248494], [48.266653, 17.248111], [48.266938, 17.247659], [48.267108, 17.247417], [48.267242, 17.247265], [48.267411, 17.247099], [48.267729, 17.246839], [48.268225, 17.246513], [48.268304, 17.246461], [48.268676, 17.246228], [48.268973, 17.246015], [48.269122, 17.246384], [48.269228, 17.246588], [48.269697, 17.247344], [48.270134, 17.247987], [48.270528, 17.248494]],\n",
       "                {&quot;bubblingMouseEvents&quot;: true, &quot;color&quot;: &quot;red&quot;, &quot;dashArray&quot;: null, &quot;dashOffset&quot;: null, &quot;fill&quot;: false, &quot;fillColor&quot;: &quot;red&quot;, &quot;fillOpacity&quot;: 0.2, &quot;fillRule&quot;: &quot;evenodd&quot;, &quot;lineCap&quot;: &quot;round&quot;, &quot;lineJoin&quot;: &quot;round&quot;, &quot;noClip&quot;: false, &quot;opacity&quot;: 0.7, &quot;smoothFactor&quot;: 1.0, &quot;stroke&quot;: true, &quot;weight&quot;: 4}\n",
       "            ).addTo(map_a73a98e756a946e4f9b1cc7ee2a7a339);\n",
       "        \n",
       "    \n",
       "        var popup_92720c67538eda9966a5efa99483913c = L.popup({&quot;maxWidth&quot;: &quot;100%&quot;});\n",
       "\n",
       "        \n",
       "            \n",
       "                var html_8bb888eaccfc369e6a018e4203c87bc8 = $(`&lt;div id=&quot;html_8bb888eaccfc369e6a018e4203c87bc8&quot; style=&quot;width: 100.0%; height: 100.0%;&quot;&gt;M221_alt.gpx Route&lt;/div&gt;`)[0];\n",
       "                popup_92720c67538eda9966a5efa99483913c.setContent(html_8bb888eaccfc369e6a018e4203c87bc8);\n",
       "            \n",
       "        \n",
       "\n",
       "        poly_line_4c1b420441649a6d338251f8ef2452d0.bindPopup(popup_92720c67538eda9966a5efa99483913c)\n",
       "        ;\n",
       "\n",
       "        \n",
       "    \n",
       "    \n",
       "            var poly_line_48282f40ca8d7e1bb8bdcbc9b6423c49 = L.polyline(\n",
       "                [[48.224257, 17.187224], [48.224832, 17.188561], [48.225058, 17.189063], [48.225312, 17.189646], [48.225525, 17.190094], [48.225735, 17.190503], [48.225961, 17.190892], [48.226315, 17.191449], [48.226696, 17.191973], [48.227321, 17.192798], [48.228651, 17.194512], [48.229486, 17.195608], [48.231269, 17.197866], [48.23179, 17.198502], [48.233332, 17.200282], [48.233907, 17.200969], [48.234558, 17.201786], [48.23493, 17.202207], [48.235215, 17.20249], [48.235506, 17.202741], [48.235777, 17.202936], [48.236123, 17.203152], [48.236648, 17.203403], [48.236948, 17.203505], [48.237237, 17.203583], [48.237616, 17.203644], [48.237958, 17.203665], [48.23854, 17.203653], [48.239075, 17.203626], [48.239487, 17.203623], [48.239889, 17.203643], [48.240162, 17.203688], [48.240431, 17.20375], [48.240693, 17.203841], [48.240945, 17.203947], [48.241385, 17.2042], [48.241591, 17.204342], [48.241753, 17.204467], [48.241907, 17.204612], [48.242249, 17.20499], [48.242771, 17.2056], [48.243165, 17.206074], [48.244166, 17.207328], [48.244297, 17.207499], [48.244438, 17.207654], [48.245203, 17.20845], [48.245585, 17.208869], [48.246223, 17.209546], [48.246861, 17.210203], [48.247784, 17.211102], [48.248055, 17.211366], [48.248419, 17.211753], [48.248773, 17.212207], [48.24955, 17.21316], [48.251008, 17.214503], [48.251383, 17.214898], [48.251563, 17.215121], [48.252031, 17.21574], [48.25227, 17.216084], [48.253093, 17.217372], [48.253349, 17.2178], [48.25361, 17.218266], [48.2539, 17.218839], [48.254237, 17.219596], [48.25437, 17.219936], [48.254614, 17.220629], [48.254776, 17.221181], [48.255273, 17.223081], [48.256493, 17.22771], [48.256772, 17.228735], [48.256956, 17.229316], [48.25706, 17.229605], [48.257307, 17.230236], [48.257456, 17.230578], [48.257681, 17.23105], [48.257921, 17.231504], [48.258108, 17.231826], [48.258509, 17.232437], [48.258704, 17.232706], [48.258961, 17.233032], [48.259214, 17.233324], [48.259757, 17.233884], [48.260108, 17.234186], [48.260473, 17.234453], [48.261105, 17.23485], [48.2615, 17.23506], [48.261767, 17.235171], [48.262194, 17.235321], [48.262504, 17.235414], [48.262754, 17.235476], [48.264264, 17.235708], [48.26448, 17.23576], [48.264893, 17.235893], [48.265189, 17.236029], [48.2654, 17.236149], [48.265633, 17.236299], [48.265842, 17.236456], [48.266033, 17.236616], [48.266237, 17.236809], [48.266603, 17.237223], [48.266776, 17.237451], [48.267024, 17.237817], [48.267141, 17.238012], [48.267397, 17.23851], [48.267518, 17.238777], [48.26765, 17.239116], [48.267832, 17.239684], [48.267951, 17.240107], [48.268049, 17.240536], [48.268259, 17.241595], [48.268458, 17.242663], [48.268548, 17.243235], [48.268629, 17.24402], [48.268679, 17.244344], [48.268724, 17.244779], [48.268738, 17.244912], [48.26882, 17.245466], [48.268869, 17.245661], [48.268973, 17.246015], [48.269122, 17.246384], [48.269228, 17.246588], [48.269697, 17.247344], [48.270134, 17.247987], [48.270528, 17.248494]],\n",
       "                {&quot;bubblingMouseEvents&quot;: true, &quot;color&quot;: &quot;blue&quot;, &quot;dashArray&quot;: null, &quot;dashOffset&quot;: null, &quot;fill&quot;: false, &quot;fillColor&quot;: &quot;blue&quot;, &quot;fillOpacity&quot;: 0.2, &quot;fillRule&quot;: &quot;evenodd&quot;, &quot;lineCap&quot;: &quot;round&quot;, &quot;lineJoin&quot;: &quot;round&quot;, &quot;noClip&quot;: false, &quot;opacity&quot;: 0.7, &quot;smoothFactor&quot;: 1.0, &quot;stroke&quot;: true, &quot;weight&quot;: 4}\n",
       "            ).addTo(map_a73a98e756a946e4f9b1cc7ee2a7a339);\n",
       "        \n",
       "    \n",
       "        var popup_fcb274a70bd70263f9d8a677059bacfa = L.popup({&quot;maxWidth&quot;: &quot;100%&quot;});\n",
       "\n",
       "        \n",
       "            \n",
       "                var html_85c62263d6b7a5c04a8cac341ecd7f44 = $(`&lt;div id=&quot;html_85c62263d6b7a5c04a8cac341ecd7f44&quot; style=&quot;width: 100.0%; height: 100.0%;&quot;&gt;M221_clear.gpx Route&lt;/div&gt;`)[0];\n",
       "                popup_fcb274a70bd70263f9d8a677059bacfa.setContent(html_85c62263d6b7a5c04a8cac341ecd7f44);\n",
       "            \n",
       "        \n",
       "\n",
       "        poly_line_48282f40ca8d7e1bb8bdcbc9b6423c49.bindPopup(popup_fcb274a70bd70263f9d8a677059bacfa)\n",
       "        ;\n",
       "\n",
       "        \n",
       "    \n",
       "    \n",
       "            var marker_73a83b9fd613fd1b0a900510782bb0e5 = L.marker(\n",
       "                [48.241012944, 17.203997081],\n",
       "                {}\n",
       "            ).addTo(map_a73a98e756a946e4f9b1cc7ee2a7a339);\n",
       "        \n",
       "    \n",
       "        var popup_9c5596413c760115a612d2c082aa38c0 = L.popup({&quot;maxWidth&quot;: &quot;100%&quot;});\n",
       "\n",
       "        \n",
       "            \n",
       "                var html_3b65cc5c25d863303c244214eb898f38 = $(`&lt;div id=&quot;html_3b65cc5c25d863303c244214eb898f38&quot; style=&quot;width: 100.0%; height: 100.0%;&quot;&gt;&lt;strong&gt;II_502 - 006 Most nad polnou cestou a potokom - Sv. Jur (ID: M221)&lt;/strong&gt;&lt;br&gt;&lt;strong&gt;Clear Route:&lt;/strong&gt;&lt;br&gt;Distance: 7250.30 m, Time: 8.17 min&lt;br&gt;&lt;strong&gt;Alt Route:&lt;/strong&gt;&lt;br&gt;Distance: 12346.02 m, Time: 12.99 min&lt;/div&gt;`)[0];\n",
       "                popup_9c5596413c760115a612d2c082aa38c0.setContent(html_3b65cc5c25d863303c244214eb898f38);\n",
       "            \n",
       "        \n",
       "\n",
       "        marker_73a83b9fd613fd1b0a900510782bb0e5.bindPopup(popup_9c5596413c760115a612d2c082aa38c0)\n",
       "        ;\n",
       "\n",
       "        \n",
       "    \n",
       "    \n",
       "            marker_73a83b9fd613fd1b0a900510782bb0e5.bindTooltip(\n",
       "                `&lt;div&gt;\n",
       "                     Bridge ID: M221\n",
       "                 &lt;/div&gt;`,\n",
       "                {&quot;sticky&quot;: true}\n",
       "            );\n",
       "        \n",
       "&lt;/script&gt;\n",
       "&lt;/html&gt;\" style=\"position:absolute;width:100%;height:100%;left:0;top:0;border:none !important;\" allowfullscreen webkitallowfullscreen mozallowfullscreen></iframe></div></div>"
      ],
      "text/plain": [
       "<folium.folium.Map at 0x15928e82510>"
      ]
     },
     "execution_count": 176,
     "metadata": {},
     "output_type": "execute_result"
    }
   ],
   "source": [
    "# Usage: Call the function with a specific row and the folder path containing GPX files\n",
    "bridge_map = create_single_bridge_map(\n",
    "    precast_postensioned.iloc[2], \"C:/Users/relia/Documents/GitHub/Bridges/01_SC_BA/DT/Routes/New\")\n",
    "\n",
    "# Display the map\n",
    "bridge_map"
   ]
  },
  {
   "cell_type": "code",
   "execution_count": 175,
   "metadata": {},
   "outputs": [
    {
     "data": {
      "text/plain": [
       "ID_mosta                                                                          M221\n",
       "Názov_mosta                    II_502 - 006 Most nad polnou cestou a potokom - Sv. Jur\n",
       "Rok_postavenia                                                                    1983\n",
       "Dĺžka_premostenia                                                                 11.0\n",
       "Zemepisná_šírka                                                              48.241013\n",
       "Zemepisná_dĺžka                                                              17.203997\n",
       "n_2012                                                                               4\n",
       "n_2013                                                                               4\n",
       "n_2014                                                                               4\n",
       "n_2015                                                                               4\n",
       "n_2016                                                                               5\n",
       "n_2017                                                                               5\n",
       "n_2018                                                                               5\n",
       "n_2019                                                                               5\n",
       "n_2020                                                                               5\n",
       "n_2021                                                                               5\n",
       "n_2022                                                                               5\n",
       "n_2023                                                                               5\n",
       "n_2024                                                                               5\n",
       "Traffic_Intensity                                                              17428.0\n",
       "Clear_Time                                                                    8.166983\n",
       "Clear_Distance                                                                7250.297\n",
       "Alt_Time                                                                     12.993033\n",
       "Alt_Distance                                                                 12346.017\n",
       "Clear_Fuel_Consumption                                                         0.44111\n",
       "Alt_Fuel_Consumption                                                          0.747525\n",
       "Fuel_Consumption_Difference                                                   0.306415\n",
       "Cost_Per_Vehicle                                                              0.464525\n",
       "Total_Cost                                                                 8095.745807\n",
       "Diff_time                                                                      4.82605\n",
       "Diff_dist                                                                      5.09572\n",
       "Name: 2, dtype: object"
      ]
     },
     "execution_count": 175,
     "metadata": {},
     "output_type": "execute_result"
    }
   ],
   "source": [
    "precast_postensioned.iloc[2]"
   ]
  },
  {
   "cell_type": "code",
   "execution_count": 177,
   "metadata": {},
   "outputs": [
    {
     "data": {
      "text/plain": [
       "np.float64(2763.180436460018)"
      ]
     },
     "execution_count": 177,
     "metadata": {},
     "output_type": "execute_result"
    }
   ],
   "source": [
    "precast_postensioned[\"Total_Cost\"].mean()"
   ]
  },
  {
   "cell_type": "code",
   "execution_count": 171,
   "metadata": {},
   "outputs": [],
   "source": [
    "precast_postensioned[\"Diff_time\"] = (precast_postensioned[\"Alt_Time\"] \n",
    "                                     - precast_postensioned[\"Clear_Time\"])\n",
    "\n",
    "precast_postensioned[\"Diff_dist\"] = (precast_postensioned[\"Alt_Distance\"]\n",
    "                                     - precast_postensioned[\"Clear_Distance\"]) / 1000"
   ]
  },
  {
   "cell_type": "code",
   "execution_count": 164,
   "metadata": {},
   "outputs": [
    {
     "name": "stdout",
     "output_type": "stream",
     "text": [
      "DataFrame exported successfully to C:/Users/relia/Documents/Precast_Postensioned_Bridges.xlsx\n"
     ]
    }
   ],
   "source": [
    "# Define the path and filename for the Excel file\n",
    "output_path = \"C:/Users/relia/Documents/Precast_Postensioned_Bridges.xlsx\"\n",
    "\n",
    "# Export the DataFrame to an Excel file\n",
    "precast_postensioned.to_excel(output_path, index=False)\n",
    "\n",
    "print(f\"DataFrame exported successfully to {output_path}\")"
   ]
  }
 ],
 "metadata": {
  "kernelspec": {
   "display_name": "Bridges_VENV",
   "language": "python",
   "name": "python3"
  },
  "language_info": {
   "codemirror_mode": {
    "name": "ipython",
    "version": 3
   },
   "file_extension": ".py",
   "mimetype": "text/x-python",
   "name": "python",
   "nbconvert_exporter": "python",
   "pygments_lexer": "ipython3",
   "version": "3.12.4"
  }
 },
 "nbformat": 4,
 "nbformat_minor": 2
}
