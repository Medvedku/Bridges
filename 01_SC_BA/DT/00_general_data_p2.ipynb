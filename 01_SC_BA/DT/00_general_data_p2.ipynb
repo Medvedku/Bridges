{
 "cells": [
  {
   "cell_type": "code",
   "execution_count": 17,
   "metadata": {},
   "outputs": [],
   "source": [
    "import pandas as pd\n",
    "\n",
    "# Load the Excel file into a DataFrame\n",
    "df_bridges_all = pd.read_excel(\"bridges_data.xlsx\")\n"
   ]
  },
  {
   "cell_type": "code",
   "execution_count": 18,
   "metadata": {},
   "outputs": [],
   "source": [
    "# Remove the column \"Most_DC\" from the DataFrame\n",
    "df_bridges_all.drop(columns=[\"Most_DC\"], inplace=True)\n",
    "\n",
    "# Remove the \"ID_DC\" column from the DataFrame\n",
    "df_bridges_all.drop(columns=[\"ID_DC\"], inplace=True)"
   ]
  },
  {
   "cell_type": "code",
   "execution_count": 19,
   "metadata": {},
   "outputs": [],
   "source": [
    "# Define the mapping dictionary\n",
    "trieda_pk_mapping = {\n",
    "    'cesta III. triedy': 4,\n",
    "    'cesta I. triedy': 2,\n",
    "    'cesta II. triedy': 3,\n",
    "    'diaľnica': 1,\n",
    "    'miestna neurčená': 5,\n",
    "    'účelová cesta (UC)': 6\n",
    "}\n",
    "\n",
    "# Map the values and create the new column \"Trieda_PK_n\"\n",
    "df_bridges_all['Trieda_PK_n'] = df_bridges_all['Trieda_PK'].map(\n",
    "    trieda_pk_mapping)"
   ]
  },
  {
   "cell_type": "code",
   "execution_count": 45,
   "metadata": {},
   "outputs": [],
   "source": [
    "# Mapping dictionary for Okres\n",
    "okres_mapping = {'Bratislava I': 101, 'Bratislava II': 102, 'Bratislava III': 103, 'Bratislava IV': 104, 'Bratislava V': 105, 'Malacky': 106, 'Pezinok': 107, 'Senec': 108, 'Dunajská Streda': 201, 'Galanta': 202, 'Hlohovec': 203, 'Piešťany': 204, 'Senica': 205, 'Skalica': 206, 'Trnava': 207, 'Bánovce nad Bebravou': 301, 'Ilava': 302, 'Myjava': 303, 'Nové Mesto nad Váhom': 304, 'Partizánske': 305, 'Považská Bystrica': 306, 'Prievidza': 307, 'Púchov': 308, 'Trenčín': 309, 'Komárno': 401, 'Levice': 402, 'Nitra': 403, 'Nové Zámky': 404, 'Šaľa': 405, 'Topoľčany': 406, 'Zlaté Moravce': 407, 'Bytča': 501, 'Čadca': 502, 'Dolný Kubín': 503, 'Kysucké Nové Mesto': 504, 'Liptovský Mikuláš': 505, 'Martin': 506, 'Námestovo': 507, 'Ružomberok': 508,\n",
    "                 'Turčianske Teplice': 509, 'Tvrdošín': 510, 'Žilina': 511, 'Banská Bystrica': 601, 'Banská Štiavnica': 602, 'Brezno': 603, 'Detva': 604, 'Krupina': 605, 'Lučenec': 606, 'Poltár': 607, 'Revúca': 608, 'Rimavská Sobota': 609, 'Veľký Krtíš': 610, 'Zvolen': 611, 'Žarnovica': 612, 'Žiar nad Hronom': 613, 'Bardejov': 701, 'Humenné': 702, 'Kežmarok': 703, 'Levoča': 704, 'Medzilaborce': 705, 'Poprad': 706, 'Prešov': 707, 'Sabinov': 708, 'Snina': 709, 'Stará Ľubovňa': 710, 'Stropkov': 711, 'Svidník': 712, 'Vranov nad Topľou': 713, 'Gelnica': 801, 'Košice I': 802, 'Košice II': 803, 'Košice III': 804, 'Košice IV': 805, 'Košice - okolie': 806, 'Michalovce': 807, 'Rožňava': 808, 'Sobrance': 809, 'Spišská Nová Ves': 810, 'Trebišov': 811}\n",
    "\n",
    "# Map the values and create the new column \"Okres_n\"\n",
    "df_bridges_all['Okres_n'] = df_bridges_all['Okres'].map(okres_mapping)"
   ]
  },
  {
   "cell_type": "code",
   "execution_count": 47,
   "metadata": {},
   "outputs": [],
   "source": [
    "# Save the DataFrame as an Excel file\n",
    "df_bridges_all.to_excel(\"bridges_data_p2.xlsx\", index=False)"
   ]
  },
  {
   "cell_type": "code",
   "execution_count": 22,
   "metadata": {},
   "outputs": [
    {
     "data": {
      "text/plain": [
       "(Index(['ID_mosta', 'Trieda_PK', 'Číslo_PK', 'Názov_mosta', 'správcovské_číslo',\n",
       "        'Zemepisná_dĺžka', 'Zemepisná_šírka', 'Výška', 'Druh_konštrukcie',\n",
       "        'Material', 'Normálna_zaťažiteľnosť', 'Výhradná_zaťažiteľnosť_t',\n",
       "        'Výnimočná_zaťažiteľnosť_t', 'Spôsob_stanovenia', 'Predmet_premostenia',\n",
       "        'Rok_postavenia', 'Zaťažovacia_trieda_STN', 'Počet_otvorov',\n",
       "        'Dĺžka_premostenia', 'Dĺžka_nosnej_konštrukcie_m', 'Volná_šírka_mosta',\n",
       "        'Šírka_medzi_obrubami_m', 'Plocha_mosnej_konštrukcie_m2',\n",
       "        'Plocha_mosta_m2', 'Vlastník_úseku', 'Správca_úseku', 'Okres',\n",
       "        'Smer_úseku', 'Typ_úseku', 'Počiatočný_uzol', 'Koncový_uzol', 'úsek_ID',\n",
       "        'úsekové_staničenie_začiatku_DC_m',\n",
       "        'Kilometrovníkové_staničenie_začiatku_DC_km',\n",
       "        'Kumulatívne_staničenie_začiatku_DC_km', 'Poradie', 'Kraj', 'n_2012',\n",
       "        'n_2013', 'n_2014', 'n_2015', 'n_2016', 'n_2017', 'n_2018', 'n_2019',\n",
       "        'n_2020', 'n_2021', 'n_2022', 'n_2023', 'Trieda_PK_n'],\n",
       "       dtype='object'),\n",
       " (8125, 50))"
      ]
     },
     "execution_count": 22,
     "metadata": {},
     "output_type": "execute_result"
    }
   ],
   "source": [
    "df_bridges_all.columns, df_bridges_all.shape"
   ]
  }
 ],
 "metadata": {
  "kernelspec": {
   "display_name": "Python 3",
   "language": "python",
   "name": "python3"
  },
  "language_info": {
   "codemirror_mode": {
    "name": "ipython",
    "version": 3
   },
   "file_extension": ".py",
   "mimetype": "text/x-python",
   "name": "python",
   "nbconvert_exporter": "python",
   "pygments_lexer": "ipython3",
   "version": "3.12.0"
  }
 },
 "nbformat": 4,
 "nbformat_minor": 2
}
