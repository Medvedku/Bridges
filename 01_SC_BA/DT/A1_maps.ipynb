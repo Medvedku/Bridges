{
 "cells": [
  {
   "cell_type": "code",
   "execution_count": 26,
   "metadata": {},
   "outputs": [],
   "source": [
    "import geopandas as gpd\n",
    "# Replace the file path with your actual file path\n",
    "file_path = r'C:\\Users\\Doktor\\Documents\\GitHub\\Bridges\\GeoJSONs\\cities_regions_districts_epsg_4326.geojson'  # doma\n",
    "\n",
    "\n",
    "# Load the GeoJSON file into a GeoDataFrame\n",
    "cities_gdf = gpd.read_file(file_path)\n",
    "# Display the first few rows of the GeoDataFrame\n",
    "\n",
    "\n",
    "# Define the types to exclude\n",
    "types_to_exclude = ['country', 'airport', 'Psie skaly',\n",
    "                    'county', 'Drevenný kostol', 'Vodopád']\n",
    "\n",
    "# Create a boolean mask to select rows where the 'type' column is not in types_to_exclude\n",
    "mask = ~cities_gdf['type'].isin(types_to_exclude)\n",
    "\n",
    "# Apply the mask to filter the GeoDataFrame in place\n",
    "cities_gdf = cities_gdf[mask]"
   ]
  },
  {
   "cell_type": "code",
   "execution_count": 27,
   "metadata": {},
   "outputs": [
    {
     "data": {
      "text/plain": [
       "type\n",
       "village     2439\n",
       "hamlet       545\n",
       "town         112\n",
       "suburb        73\n",
       "locality      40\n",
       "city           8\n",
       "Name: count, dtype: int64"
      ]
     },
     "execution_count": 27,
     "metadata": {},
     "output_type": "execute_result"
    }
   ],
   "source": [
    "cities_gdf[\"type\"].value_counts()"
   ]
  },
  {
   "cell_type": "code",
   "execution_count": null,
   "metadata": {},
   "outputs": [],
   "source": []
  }
 ],
 "metadata": {
  "kernelspec": {
   "display_name": "Python 3",
   "language": "python",
   "name": "python3"
  },
  "language_info": {
   "codemirror_mode": {
    "name": "ipython",
    "version": 3
   },
   "file_extension": ".py",
   "mimetype": "text/x-python",
   "name": "python",
   "nbconvert_exporter": "python",
   "pygments_lexer": "ipython3",
   "version": "3.11.4"
  }
 },
 "nbformat": 4,
 "nbformat_minor": 2
}
