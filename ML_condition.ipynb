{
 "cells": [
  {
   "cell_type": "code",
   "execution_count": 3,
   "metadata": {},
   "outputs": [
    {
     "name": "stdout",
     "output_type": "stream",
     "text": [
      "Number of bridges in dataframe: 8502\n",
      "Reduction of unkown reduction location, number of bridges: 8308\n"
     ]
    }
   ],
   "source": [
    "import pandas as pd\n",
    "\n",
    "# Read the CSV file into a DataFrame\n",
    "df = pd.read_csv('data_full.csv')\n",
    "print(f\"Number of bridges in dataframe: {df.shape[0]}\")\n",
    "\n",
    "df = df.drop(df[(df['Latitude'] == \"Nezistený\") & (df['Longitude'] == \"Nezistený\")].index)\n",
    "print(f\"Reduction of unkown reduction location, number of bridges: {df.shape[0]}\")\n",
    "\n",
    "\n",
    "# columns_to_check = ['n_2012', 'n_2013', 'n_2014', 'n_2015', 'n_2016', 'n_2017', 'n_2018', 'n_2019', 'n_2020', 'n_2021', 'n_2022', 'n_2023']\n",
    "# count_zeros = lambda row: sum(1 for value in row if value == 0)\n",
    "# df = df[df.apply(count_zeros, axis=1) <= 1]\n",
    "\n",
    "# print(f\"Reduction of bridges with three or more uknown condition, number of bridges: {df.shape[0]}\")\n"
   ]
  },
  {
   "cell_type": "code",
   "execution_count": null,
   "metadata": {},
   "outputs": [],
   "source": [
    "df.to_csv('condition_learning.csv', index=False)"
   ]
  }
 ],
 "metadata": {
  "kernelspec": {
   "display_name": "Bridges_VENV",
   "language": "python",
   "name": "python3"
  },
  "language_info": {
   "codemirror_mode": {
    "name": "ipython",
    "version": 3
   },
   "file_extension": ".py",
   "mimetype": "text/x-python",
   "name": "python",
   "nbconvert_exporter": "python",
   "pygments_lexer": "ipython3",
   "version": "3.11.4"
  },
  "orig_nbformat": 4
 },
 "nbformat": 4,
 "nbformat_minor": 2
}
