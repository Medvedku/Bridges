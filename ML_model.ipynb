{
 "cells": [
  {
   "cell_type": "code",
   "execution_count": 7,
   "metadata": {},
   "outputs": [
    {
     "data": {
      "text/plain": [
       "Index(['ID mosta', '2012', '2013', '2014', '2015', '2016', '2017', '2018',\n",
       "       '2019', '2020', '2021', '2022', '2023', 'Okres', 'Longitude',\n",
       "       'Latitude', 'Material', 'Názov mosta', 'Dĺžka premostenia',\n",
       "       'Rok postavenia', 'Volná šírka mosta', 'Normána zaťažiteľnost', 'Kraj',\n",
       "       'n_2012', 'n_2013', 'n_2014', 'n_2015', 'n_2016', 'n_2017', 'n_2018',\n",
       "       'n_2019', 'n_2020', 'n_2021', 'n_2022', 'n_2023'],\n",
       "      dtype='object')"
      ]
     },
     "execution_count": 7,
     "metadata": {},
     "output_type": "execute_result"
    }
   ],
   "source": [
    "import pandas as pd\n",
    "\n",
    "# Read the CSV file into a DataFrame\n",
    "df = pd.read_csv('data_full.csv')\n",
    "\n",
    "df.columns"
   ]
  }
 ],
 "metadata": {
  "kernelspec": {
   "display_name": "Bridges_VENV",
   "language": "python",
   "name": "python3"
  },
  "language_info": {
   "codemirror_mode": {
    "name": "ipython",
    "version": 3
   },
   "file_extension": ".py",
   "mimetype": "text/x-python",
   "name": "python",
   "nbconvert_exporter": "python",
   "pygments_lexer": "ipython3",
   "version": "3.11.4"
  },
  "orig_nbformat": 4
 },
 "nbformat": 4,
 "nbformat_minor": 2
}
