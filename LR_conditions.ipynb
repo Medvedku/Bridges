{
 "cells": [
  {
   "cell_type": "code",
   "execution_count": 42,
   "metadata": {},
   "outputs": [],
   "source": [
    "import numpy as np\n",
    "import pandas as pd\n",
    "import math\n",
    "from sklearn import preprocessing, model_selection, svm\n",
    "from sklearn.linear_model import LinearRegression"
   ]
  },
  {
   "cell_type": "code",
   "execution_count": 43,
   "metadata": {},
   "outputs": [],
   "source": [
    "# Read the CSV file into a DataFrame\n",
    "df = pd.read_csv('condition_filled.csv')"
   ]
  },
  {
   "cell_type": "code",
   "execution_count": 105,
   "metadata": {},
   "outputs": [],
   "source": [
    "data = df[[\"ID mosta\", 'n_2012', 'n_2013', 'n_2014',\n",
    "       'n_2015', 'n_2016', 'n_2017', 'n_2018', 'n_2019', 'n_2020', 'n_2021',\n",
    "       'n_2022', 'n_2023', 'n_length', 'n_width', 'n_region', 'n_class',\n",
    "       'n_years', 'n_material', 'n_type', 'b_change' ]]\n",
    "\n",
    "# data = df[[\"ID mosta\", 'n_2012', 'n_2013', 'n_2014',\n",
    "#        'n_2015', 'n_2016', 'n_2017', 'n_2018', 'n_2019', 'n_2020', 'n_2021',\n",
    "#        'n_2022', 'n_2023', 'b_change' ]]\n",
    "\n",
    "data_lt = data[data[\"b_change\"] == -1]\n",
    "data_eq = data[data[\"b_change\"] == 0]\n",
    "data_gt = data[data[\"b_change\"] == 1]\n",
    "\n",
    "new_df = pd.concat([data_eq, data_gt], ignore_index=True)\n",
    "\n",
    "predict = \"n_2023\"\n",
    "droplist = [\"ID mosta\", 'b_change', predict]\n",
    "\n",
    "X = new_df.drop(droplist, axis=1)\n",
    "y = new_df[predict]\n",
    "\n",
    "X = preprocessing.scale(X)\n",
    "\n",
    "# Split the data into training and testing sets\n",
    "X_train, X_test, y_train, y_test = model_selection.train_test_split(X, y, test_size=0.2)"
   ]
  },
  {
   "cell_type": "code",
   "execution_count": 106,
   "metadata": {},
   "outputs": [
    {
     "data": {
      "text/plain": [
       "0.8006566032359983"
      ]
     },
     "execution_count": 106,
     "metadata": {},
     "output_type": "execute_result"
    }
   ],
   "source": [
    "clf = LinearRegression()\n",
    "clf.fit(X_train, y_train)\n",
    "accuaracy = clf.score(X_test, y_test)\n",
    "accuaracy"
   ]
  },
  {
   "cell_type": "code",
   "execution_count": 107,
   "metadata": {},
   "outputs": [
    {
     "data": {
      "text/plain": [
       "0.7890712978335552"
      ]
     },
     "execution_count": 107,
     "metadata": {},
     "output_type": "execute_result"
    }
   ],
   "source": [
    "clf = svm.SVR(kernel=\"rbf\")\n",
    "clf.fit(X_train, y_train)\n",
    "accuaracy = clf.score(X_test, y_test)\n",
    "accuaracy"
   ]
  }
 ],
 "metadata": {
  "kernelspec": {
   "display_name": "Bridges_VENV",
   "language": "python",
   "name": "python3"
  },
  "language_info": {
   "codemirror_mode": {
    "name": "ipython",
    "version": 3
   },
   "file_extension": ".py",
   "mimetype": "text/x-python",
   "name": "python",
   "nbconvert_exporter": "python",
   "pygments_lexer": "ipython3",
   "version": "3.11.4"
  },
  "orig_nbformat": 4
 },
 "nbformat": 4,
 "nbformat_minor": 2
}
