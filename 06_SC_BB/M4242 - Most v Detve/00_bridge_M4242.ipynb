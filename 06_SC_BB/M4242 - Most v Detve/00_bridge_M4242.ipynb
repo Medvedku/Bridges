{
 "cells": [
  {
   "cell_type": "code",
   "execution_count": 1,
   "metadata": {},
   "outputs": [
    {
     "name": "stderr",
     "output_type": "stream",
     "text": [
      "C:\\Users\\relia\\AppData\\Local\\Temp\\ipykernel_9580\\4245361851.py:16: DtypeWarning: Columns (5,16) have mixed types. Specify dtype option on import or set low_memory=False.\n",
      "  df_nodes = pd.read_csv(nodes_path, encoding='utf-8', delimiter=',')\n",
      "C:\\Users\\relia\\AppData\\Local\\Temp\\ipykernel_9580\\4245361851.py:17: DtypeWarning: Columns (10,11,12,25,26,27) have mixed types. Specify dtype option on import or set low_memory=False.\n",
      "  df_roads = pd.read_csv(roads_path, encoding='utf-8', delimiter=',')\n"
     ]
    }
   ],
   "source": [
    "import pandas as pd\n",
    "\n",
    "# # DOMA\n",
    "# nodes_path = r\"C:\\Users\\Doktor\\Documents\\GitHub\\Bridges\\Data\\Nodes_processed.csv\"\n",
    "# roads_path = r\"C:\\Users\\Doktor\\Documents\\GitHub\\Bridges\\Data\\Roads_processed.csv\"\n",
    "# bridges_path = r\"C:\\Users\\Doktor\\Documents\\GitHub\\Bridges\\Data\\df_bridges_data.csv\"\n",
    "# survey_path = r\"C:\\Users\\Doktor\\Documents\\GitHub\\Bridges\\Data\\surveys\\Survey.csv\"\n",
    "\n",
    "# ROBOTA\n",
    "nodes_path = r\"C:\\Users\\relia\\Documents\\GitHub\\Bridges\\Data\\Nodes_processed.csv\"\n",
    "roads_path = r\"C:\\Users\\relia\\Documents\\GitHub\\Bridges\\Data\\Roads_processed.csv\"\n",
    "bridges_path = r\"C:\\Users\\relia\\Documents\\GitHub\\Bridges\\Data\\df_bridges_data.csv\"\n",
    "survey_path = r\"C:\\Users\\relia\\Documents\\GitHub\\Bridges\\Data\\surveys\\Survey.csv\"\n",
    "\n",
    "# Load the CSV data into a DataFrame\n",
    "df_nodes = pd.read_csv(nodes_path, encoding='utf-8', delimiter=',')\n",
    "df_roads = pd.read_csv(roads_path, encoding='utf-8', delimiter=',')\n",
    "df_bridges_all = pd.read_csv(bridges_path, encoding='utf-8', delimiter=',')\n",
    "df_survey = pd.read_csv(survey_path, encoding='utf-8', delimiter=',')"
   ]
  },
  {
   "cell_type": "code",
   "execution_count": 2,
   "metadata": {},
   "outputs": [],
   "source": [
    "import pandas as pd\n",
    "\n",
    "# Define the columns that should be converted to numeric data types\n",
    "numeric_columns = ['Normálna_zaťažiteľnosť', 'Výhradná_zaťažiteľnosť_t', 'Výnimočná_zaťažiteľnosť_t',\n",
    "                   'Počet_otvorov', 'Dĺžka_premostenia', 'Dĺžka_nosnej_konštrukcie_m',\n",
    "                   'Volná_šírka_mosta', 'Šírka_medzi_obrubami_m', 'Plocha_mosnej_konštrukcie_m2',\n",
    "                   'Plocha_mosta_m2', 'n_2012', 'n_2013', 'n_2014', 'n_2015', 'n_2016',\n",
    "                   'n_2017', 'n_2018', 'n_2019', 'n_2020', 'n_2021', 'n_2022', 'n_2023']\n",
    "\n",
    "# Convert the selected columns to numeric data types (integers or floats)\n",
    "for col in numeric_columns:\n",
    "    df_bridges_all[col] = pd.to_numeric(df_bridges_all[col], errors='coerce')"
   ]
  },
  {
   "cell_type": "code",
   "execution_count": 4,
   "metadata": {},
   "outputs": [
    {
     "name": "stdout",
     "output_type": "stream",
     "text": [
      "ID mosta:\t\tM4242\n",
      "Správcovské Číslo:\t2\n",
      "Názov mosta:\t\t2694-2 Most cez  rieku Slatina pri železničnej stanici Detva (050098-002)\n",
      "Okres:\t\t\tDetva\n",
      "Kraj:\t\t\tBanská Bystrica\n",
      "Rok postavenia:\t\t1964\n",
      "Typ konštrukcie:\ttrámová\n",
      "Materiál:\t\tprefabrikovaný predpätý betón\n",
      "Voľná šírka:\t\t8.66 m\n",
      "Dĺžka premostenia:\t17.88 m\n",
      "Trieda PK:\t\tcesta III. triedy\n",
      "GPS súradnice:\t(48.53518, 19.40646)\n",
      "Google Maps Link:\n",
      "https://www.google.com/maps?q=48.53518,19.40646\n",
      "Vývoj STS:\t\t[3, 3, 3, 3, 3, 3, 3, 3, 3, 5, 5, 6]\n"
     ]
    }
   ],
   "source": [
    "# Define the bridge name to find\n",
    "bridge_to_find = \"M4242\"\n",
    "\n",
    "# Find the bridge in the DataFrame\n",
    "bridge_info = df_bridges_all[df_bridges_all['ID_mosta'] == bridge_to_find]\n",
    "\n",
    "# Check if the bridge was found\n",
    "if not bridge_info.empty:\n",
    "    # Print the requested information\n",
    "    print(f\"ID mosta:\\t\\t{bridge_info['ID_mosta'].values[0]}\")\n",
    "    print(f\"Správcovské Číslo:\\t{bridge_info['správcovské_číslo'].values[0]}\")\n",
    "    print(f\"Názov mosta:\\t\\t{bridge_info['Názov_mosta'].values[0]}\")\n",
    "    print(f\"Okres:\\t\\t\\t{bridge_info['Okres'].values[0]}\")\n",
    "    print(f\"Kraj:\\t\\t\\t{bridge_info['Kraj'].values[0]}\")\n",
    "    print(f\"Rok postavenia:\\t\\t{bridge_info['Rok_postavenia'].values[0]}\")\n",
    "    print(f\"Typ konštrukcie:\\t{bridge_info['Druh_konštrukcie'].values[0]}\")\n",
    "    print(f\"Materiál:\\t\\t{bridge_info['Material'].values[0]}\")\n",
    "    print(f\"Voľná šírka:\\t\\t{bridge_info['Volná_šírka_mosta'].values[0]} m\")\n",
    "    print(f\"Dĺžka premostenia:\\t{\n",
    "          bridge_info['Dĺžka_premostenia'].values[0]} m\")\n",
    "    print(f\"Trieda PK:\\t\\t{bridge_info['Trieda_PK'].values[0]}\")\n",
    "\n",
    "    # Add GPS coordinates (latitude and longitude) rounded to 4 decimal places\n",
    "    lat = round(bridge_info['Zemepisná_šírka'].values[0], 5)\n",
    "    lon = round(bridge_info['Zemepisná_dĺžka'].values[0], 5)\n",
    "    print(f\"GPS súradnice:\\t({lat}, {lon})\")\n",
    "\n",
    "    # Generate and print the Google Maps link\n",
    "    google_maps_link = f\"https://www.google.com/maps?q={lat},{lon}\"\n",
    "    print(f\"Google Maps Link:\\n{google_maps_link}\")\n",
    "\n",
    "    # Add condition values from n_2012 up to n_2023\n",
    "    conditions = [bridge_info[f'n_{year}'].values[0]\n",
    "                  for year in range(2012, 2024)]\n",
    "    print(f\"Vývoj STS:\\t\\t{conditions}\")\n",
    "else:\n",
    "    print(f\"Bridge with ID '{bridge_to_find}' not found in the DataFrame.\")"
   ]
  },
  {
   "cell_type": "code",
   "execution_count": 5,
   "metadata": {},
   "outputs": [
    {
     "name": "stdout",
     "output_type": "stream",
     "text": [
      "ID mosta:\t\tM220\n",
      "Správcovské Číslo:\t4\n",
      "Názov mosta:\t\t2452-4 Most nad  traťou ŽSR Zvolen-Margecany (066022-004)\n",
      "Okres:\t\t\tZvolen\n",
      "Kraj:\t\t\tBanská Bystrica\n",
      "Rok postavenia:\t\t1970\n",
      "Typ konštrukcie:\ttrámová\n",
      "Materiál:\t\tprefabrikovaný predpätý betón\n",
      "Voľná šírka:\t\t14.663 m\n",
      "Dĺžka premostenia:\t336.38 m\n",
      "Trieda PK:\t\tcesta III. triedy\n",
      "GPS súradnice:\t(48.57483, 19.13166)\n",
      "Google Maps Link:\n",
      "https://www.google.com/maps?q=48.57483,19.13166\n",
      "Vývoj STS:\t\t[6, 6, 6, 6, 6, 6, 6, 6, 6, 6, 6, 6]\n"
     ]
    }
   ],
   "source": [
    "# Define the bridge name to find\n",
    "bridge_to_find = \"M220\"\n",
    "\n",
    "# Find the bridge in the DataFrame\n",
    "bridge_info = df_bridges_all[df_bridges_all['ID_mosta'] == bridge_to_find]\n",
    "\n",
    "# Check if the bridge was found\n",
    "if not bridge_info.empty:\n",
    "    # Print the requested information\n",
    "    print(f\"ID mosta:\\t\\t{bridge_info['ID_mosta'].values[0]}\")\n",
    "    print(f\"Správcovské Číslo:\\t{bridge_info['správcovské_číslo'].values[0]}\")\n",
    "    print(f\"Názov mosta:\\t\\t{bridge_info['Názov_mosta'].values[0]}\")\n",
    "    print(f\"Okres:\\t\\t\\t{bridge_info['Okres'].values[0]}\")\n",
    "    print(f\"Kraj:\\t\\t\\t{bridge_info['Kraj'].values[0]}\")\n",
    "    print(f\"Rok postavenia:\\t\\t{bridge_info['Rok_postavenia'].values[0]}\")\n",
    "    print(f\"Typ konštrukcie:\\t{bridge_info['Druh_konštrukcie'].values[0]}\")\n",
    "    print(f\"Materiál:\\t\\t{bridge_info['Material'].values[0]}\")\n",
    "    print(f\"Voľná šírka:\\t\\t{bridge_info['Volná_šírka_mosta'].values[0]} m\")\n",
    "    print(f\"Dĺžka premostenia:\\t{\n",
    "          bridge_info['Dĺžka_premostenia'].values[0]} m\")\n",
    "    print(f\"Trieda PK:\\t\\t{bridge_info['Trieda_PK'].values[0]}\")\n",
    "\n",
    "    # Add GPS coordinates (latitude and longitude) rounded to 4 decimal places\n",
    "    lat = round(bridge_info['Zemepisná_šírka'].values[0], 5)\n",
    "    lon = round(bridge_info['Zemepisná_dĺžka'].values[0], 5)\n",
    "    print(f\"GPS súradnice:\\t({lat}, {lon})\")\n",
    "\n",
    "    # Generate and print the Google Maps link\n",
    "    google_maps_link = f\"https://www.google.com/maps?q={lat},{lon}\"\n",
    "    print(f\"Google Maps Link:\\n{google_maps_link}\")\n",
    "\n",
    "    # Add condition values from n_2012 up to n_2023\n",
    "    conditions = [bridge_info[f'n_{year}'].values[0]\n",
    "                  for year in range(2012, 2024)]\n",
    "    print(f\"Vývoj STS:\\t\\t{conditions}\")\n",
    "else:\n",
    "    print(f\"Bridge with ID '{bridge_to_find}' not found in the DataFrame.\")"
   ]
  }
 ],
 "metadata": {
  "kernelspec": {
   "display_name": "Python 3",
   "language": "python",
   "name": "python3"
  },
  "language_info": {
   "codemirror_mode": {
    "name": "ipython",
    "version": 3
   },
   "file_extension": ".py",
   "mimetype": "text/x-python",
   "name": "python",
   "nbconvert_exporter": "python",
   "pygments_lexer": "ipython3",
   "version": "3.12.0"
  }
 },
 "nbformat": 4,
 "nbformat_minor": 2
}
