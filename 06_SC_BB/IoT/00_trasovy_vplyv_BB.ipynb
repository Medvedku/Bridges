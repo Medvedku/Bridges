{
 "cells": [
  {
   "cell_type": "code",
   "execution_count": 69,
   "metadata": {},
   "outputs": [],
   "source": [
    "import pandas as pd\n",
    "\n",
    "# Práca\n",
    "bridges_path = r\"C:\\Users\\relia\\Documents\\GitHub\\Bridges\\Data\\df_bridges_2024_all.csv\"\n",
    "\n",
    "# Load the CSV data into a DataFrame\n",
    "df_bridges_all = pd.read_csv(bridges_path, encoding='utf-8', delimiter=',')"
   ]
  },
  {
   "cell_type": "code",
   "execution_count": 70,
   "metadata": {},
   "outputs": [],
   "source": [
    "# batch = filtered_bridges[filtered_bridges[\"Číslo_PK\"] == \"2753\"]\n",
    "# for _, item in batch.iterrows():\n",
    "#     print(f'{item[\"ID_mosta\"]};{item[\"Zemepisná_šírka\"]}, {\n",
    "#           item[\"Zemepisná_dĺžka\"]}; {item[\"Dĺžka_premostenia\"]}')"
   ]
  },
  {
   "cell_type": "code",
   "execution_count": 71,
   "metadata": {},
   "outputs": [],
   "source": [
    "# Assuming df_bridges_all is your DataFrame\n",
    "columns_to_convert = ['Zemepisná_dĺžka', 'Zemepisná_šírka', 'Výška', 'Normálna_zaťažiteľnosť',\n",
    "                      'Výhradná_zaťažiteľnosť_t', 'Výnimočná_zaťažiteľnosť_t', 'Počet_otvorov',\n",
    "                      'Dĺžka_nosnej_konštrukcie_m', 'Dĺžka_premostenia', 'Volná_šírka_mosta',\n",
    "                      'Šírka_medzi_obrubami_m', 'Plocha_mosnej_konštrukcie_m2', 'Plocha_mosta_m2']\n",
    "\n",
    "# Convert specified columns to float\n",
    "df_bridges_all[columns_to_convert] = df_bridges_all[columns_to_convert].apply(\n",
    "    pd.to_numeric, errors='coerce')\n",
    "\n",
    "# Convert Rok_postavenia to integer, assign NaN if not possible\n",
    "df_bridges_all['Rok_postavenia'] = pd.to_numeric(\n",
    "    df_bridges_all['Rok_postavenia'], errors='coerce')"
   ]
  },
  {
   "cell_type": "code",
   "execution_count": 72,
   "metadata": {},
   "outputs": [
    {
     "data": {
      "text/plain": [
       "(111, 44)"
      ]
     },
     "execution_count": 72,
     "metadata": {},
     "output_type": "execute_result"
    }
   ],
   "source": [
    "# Filter bridges in the Nitra region with Trieda_PK as \"cesta I. triedy\" or \"cesta II. triedy\"\n",
    "filtered_bridges = df_bridges_all[\n",
    "\n",
    "    (df_bridges_all[\"Správca_úseku\"] == 'BBRSC-STRED') |\n",
    "    (df_bridges_all[\"Správca_úseku\"] == 'BBRSC-SEVER') |\n",
    "    (df_bridges_all[\"Správca_úseku\"] == 'BBRSC-JUH')\n",
    "]\n",
    "\n",
    "# Reindex the DataFrame\n",
    "filtered_bridges.reset_index(drop=True, inplace=True)\n",
    "\n",
    "filtered_bridges = filtered_bridges[filtered_bridges[\"n_2023\"] != 0]\n",
    "\n",
    "filtered_bridges = filtered_bridges[filtered_bridges[\"Material\"]\n",
    "                                    == \"prefabrikovaný predpätý betón\"]\n",
    "\n",
    "filtered_bridges = filtered_bridges[\n",
    "    (filtered_bridges[\"n_2024\"] == 4) |\n",
    "    (filtered_bridges[\"n_2024\"] == 5)\n",
    "]\n",
    "\n",
    "# Replace double space with single space in each item of the \"Predmet_premostenia\" column\n",
    "filtered_bridges[\"Predmet_premostenia\"] = filtered_bridges[\"Predmet_premostenia\"].str.replace(\n",
    "    \"  \", \" \")\n",
    "\n",
    "\n",
    "# Display the filtered DataFrame\n",
    "filtered_bridges.shape"
   ]
  },
  {
   "cell_type": "code",
   "execution_count": 73,
   "metadata": {},
   "outputs": [
    {
     "name": "stdout",
     "output_type": "stream",
     "text": [
      "  ID_mosta                 GPS  Dlzka  Intenzita   PK\n",
      "0    M4403  48.07523, 19.17479  14.60       1472  527\n",
      "1    M2559  48.07037, 19.25055  12.00       1383  527\n",
      "2     M403  48.07406, 19.26022  15.30       1383  527\n",
      "3    M6025  48.16523, 19.35814  17.00       3860  527\n",
      "4     M381   48.1684, 19.36058  15.78       3860  527\n"
     ]
    }
   ],
   "source": [
    "import pandas as pd\n",
    "\n",
    "path = r\"C:\\Users\\relia\\Documents\\GitHub\\Bridges\\06_SC_BB\\IoT\\Mosty.xlsx\"\n",
    "\n",
    "# Load the Excel file into a DataFrame\n",
    "df = pd.read_excel(path)\n",
    "\n",
    "# Display the first few rows to ensure it loaded correctly\n",
    "print(df.head())"
   ]
  },
  {
   "cell_type": "code",
   "execution_count": 74,
   "metadata": {},
   "outputs": [
    {
     "data": {
      "text/plain": [
       "Index(['ID_mosta', 'GPS', 'Dlzka', 'Intenzita', 'PK'], dtype='object')"
      ]
     },
     "execution_count": 74,
     "metadata": {},
     "output_type": "execute_result"
    }
   ],
   "source": [
    "df.columns"
   ]
  },
  {
   "cell_type": "code",
   "execution_count": 77,
   "metadata": {},
   "outputs": [
    {
     "name": "stdout",
     "output_type": "stream",
     "text": [
      "Total Distance: 13.87 kilometers\n",
      "Total Time: 14.53 minutes\n"
     ]
    }
   ],
   "source": [
    "# Path to the GPX file\n",
    "gpx_file = r\"C:\\Users\\relia\\Documents\\GitHub\\Bridges\\06_SC_BB\\IoT\\Routes\\M7230_alt.gpx\"\n",
    "\n",
    "# Read the GPX file as text\n",
    "with open(gpx_file, \"r\", encoding=\"utf-8\") as file:\n",
    "    gpx_content = file.read()\n",
    "\n",
    "# Extract <rtept> sections\n",
    "# Split by <rtept> and ignore the first part (metadata)\n",
    "rtept_sections = gpx_content.split(\"<rtept\")[1:]\n",
    "\n",
    "# Initialize totals\n",
    "total_distance = 0.0\n",
    "total_time = 0.0\n",
    "\n",
    "# Process each <rtept>\n",
    "for rtept in rtept_sections:\n",
    "    # Extract <gh:distance> value\n",
    "    if \"<gh:distance>\" in rtept:\n",
    "        start_distance = rtept.find(\"<gh:distance>\") + len(\"<gh:distance>\")\n",
    "        end_distance = rtept.find(\"</gh:distance>\")\n",
    "        distance = float(rtept[start_distance:end_distance])\n",
    "        total_distance += distance\n",
    "\n",
    "    # Extract <gh:time> value\n",
    "    if \"<gh:time>\" in rtept:\n",
    "        start_time = rtept.find(\"<gh:time>\") + len(\"<gh:time>\")\n",
    "        end_time = rtept.find(\"</gh:time>\")\n",
    "        time = float(rtept[start_time:end_time])\n",
    "        total_time += time\n",
    "\n",
    "# Convert totals to kilometers and minutes\n",
    "total_distance_km = total_distance / 1000  # Convert meters to kilometers\n",
    "# Convert milliseconds to minutes\n",
    "total_time_minutes = total_time / (1000 * 60)\n",
    "\n",
    "\n",
    "# Print results\n",
    "print(f\"Total Distance: {total_distance_km:.2f} kilometers\")\n",
    "print(f\"Total Time: {total_time_minutes:.2f} minutes\")"
   ]
  },
  {
   "cell_type": "code",
   "execution_count": 78,
   "metadata": {},
   "outputs": [],
   "source": [
    "import os\n",
    "\n",
    "# Path to the folder with GPX files\n",
    "folder_path = r\"C:\\Users\\relia\\Documents\\GitHub\\Bridges\\06_SC_BB\\IoT\\Routes\"\n",
    "\n",
    "# Function to extract distance and time from a GPX file\n",
    "\n",
    "\n",
    "def extract_distance_time(gpx_file):\n",
    "    with open(gpx_file, \"r\", encoding=\"utf-8\") as file:\n",
    "        gpx_content = file.read()\n",
    "\n",
    "    # Initialize totals\n",
    "    total_distance = 0.0\n",
    "    total_time = 0.0\n",
    "\n",
    "    # Extract <rtept> sections\n",
    "    rtept_sections = gpx_content.split(\"<rtept\")[1:]  # Split by <rtept>\n",
    "\n",
    "    # Process each <rtept>\n",
    "    for rtept in rtept_sections:\n",
    "        if \"<gh:distance>\" in rtept:\n",
    "            start_distance = rtept.find(\"<gh:distance>\") + len(\"<gh:distance>\")\n",
    "            end_distance = rtept.find(\"</gh:distance>\")\n",
    "            distance = float(rtept[start_distance:end_distance])\n",
    "            total_distance += distance\n",
    "        if \"<gh:time>\" in rtept:\n",
    "            start_time = rtept.find(\"<gh:time>\") + len(\"<gh:time>\")\n",
    "            end_time = rtept.find(\"</gh:time>\")\n",
    "            time = float(rtept[start_time:end_time])\n",
    "            total_time += time\n",
    "\n",
    "    # Convert to kilometers and minutes\n",
    "    total_distance_km = total_distance / 1000  # meters to kilometers\n",
    "    total_time_minutes = total_time / (1000 * 60)  # milliseconds to minutes\n",
    "    return total_distance_km, total_time_minutes\n",
    "\n",
    "\n",
    "# Iterate over each row in the DataFrame\n",
    "clear_distances = []\n",
    "clear_times = []\n",
    "alt_distances = []\n",
    "alt_times = []\n",
    "\n",
    "for _, row in df.iterrows():\n",
    "    bridge_id = row[\"ID_mosta\"]\n",
    "    clear_file = os.path.join(folder_path, f\"{bridge_id}_clear.gpx\")\n",
    "    alt_file = os.path.join(folder_path, f\"{bridge_id}_alt.gpx\")\n",
    "\n",
    "    # Check if files exist\n",
    "    if os.path.exists(clear_file):\n",
    "        clear_distance, clear_time = extract_distance_time(clear_file)\n",
    "    else:\n",
    "        clear_distance, clear_time = None, None\n",
    "\n",
    "    if os.path.exists(alt_file):\n",
    "        alt_distance, alt_time = extract_distance_time(alt_file)\n",
    "    else:\n",
    "        alt_distance, alt_time = None, None\n",
    "\n",
    "    # Append results\n",
    "    clear_distances.append(clear_distance)\n",
    "    clear_times.append(clear_time)\n",
    "    alt_distances.append(alt_distance)\n",
    "    alt_times.append(alt_time)\n",
    "\n",
    "# Add new columns to the DataFrame\n",
    "df[\"Clear_Distance\"] = clear_distances\n",
    "df[\"Clear_Time\"] = clear_times\n",
    "df[\"Alt_Distance\"] = alt_distances\n",
    "df[\"Alt_Time\"] = alt_times"
   ]
  },
  {
   "cell_type": "code",
   "execution_count": 82,
   "metadata": {},
   "outputs": [],
   "source": [
    "df[\"Diff_Time\"] = df[\"Intenzita\"] * (df[\"Alt_Time\"] - df[\"Clear_Time\"])\n",
    "df[\"Diff_Dist\"] = df[\"Intenzita\"] * (df[\"Alt_Distance\"] - df[\"Clear_Distance\"])\n",
    "df[\"Price\"] = (df[\"Diff_Dist\"] / 100) * 6 * 1.516"
   ]
  },
  {
   "cell_type": "code",
   "execution_count": 85,
   "metadata": {},
   "outputs": [
    {
     "data": {
      "text/plain": [
       "count      55.000000\n",
       "mean     1160.902612\n",
       "std      1286.486635\n",
       "min         3.838255\n",
       "25%       141.400360\n",
       "50%       901.444377\n",
       "75%      1818.799462\n",
       "max      6819.611726\n",
       "Name: Price, dtype: float64"
      ]
     },
     "execution_count": 85,
     "metadata": {},
     "output_type": "execute_result"
    }
   ],
   "source": [
    "df[\"Price\"].describe()"
   ]
  },
  {
   "cell_type": "code",
   "execution_count": 1,
   "metadata": {},
   "outputs": [
    {
     "ename": "NameError",
     "evalue": "name 'df' is not defined",
     "output_type": "error",
     "traceback": [
      "\u001b[1;31m---------------------------------------------------------------------------\u001b[0m",
      "\u001b[1;31mNameError\u001b[0m                                 Traceback (most recent call last)",
      "Cell \u001b[1;32mIn[1], line 6\u001b[0m\n\u001b[0;32m      1\u001b[0m \u001b[38;5;66;03m# # Sort the DataFrame by the \"Price\" column in descending order\u001b[39;00m\n\u001b[0;32m      2\u001b[0m \u001b[38;5;66;03m# df_sorted = df.sort_values(by=\"Price\", ascending=False)\u001b[39;00m\n\u001b[0;32m      3\u001b[0m \n\u001b[0;32m      4\u001b[0m \u001b[38;5;66;03m# df_sorted\u001b[39;00m\n\u001b[1;32m----> 6\u001b[0m \u001b[43mdf\u001b[49m\n",
      "\u001b[1;31mNameError\u001b[0m: name 'df' is not defined"
     ]
    }
   ],
   "source": [
    "# # Sort the DataFrame by the \"Price\" column in descending order\n",
    "# df_sorted = df.sort_values(by=\"Price\", ascending=False)\n",
    "\n",
    "# df_sorted\n",
    "\n",
    "df"
   ]
  },
  {
   "cell_type": "code",
   "execution_count": null,
   "metadata": {},
   "outputs": [],
   "source": []
  },
  {
   "cell_type": "code",
   "execution_count": null,
   "metadata": {},
   "outputs": [
    {
     "data": {
      "text/plain": [
       "ID_mosta                                                           M4403\n",
       "Číslo_PK                                                             527\n",
       "správcovské_číslo                                                      7\n",
       "Názov_mosta            000527-007 Most cez Veľký potok v obci Kosihy ...\n",
       "Rok_postavenia                                                      1963\n",
       "Predmet_premostenia                                            Vodný tok\n",
       "Dĺžka_premostenia                                                   14.6\n",
       "Okres                                                        Veľký Krtíš\n",
       "n_2024                                                                 5\n",
       "Name: 74, dtype: object"
      ]
     },
     "execution_count": 104,
     "metadata": {},
     "output_type": "execute_result"
    }
   ],
   "source": [
    "import matplotlib.pyplot as plt\n",
    "\n",
    "# Define the bridge ID to find\n",
    "bridge_to_find = \"M4403\"\n",
    "\n",
    "# Locate the bridge in the DataFrame\n",
    "bridge_row = filtered_bridges[filtered_bridges[\"ID_mosta\"] == bridge_to_find]\n",
    "\n",
    "bridge_row.iloc[0][[\"ID_mosta\", \"Číslo_PK\", \"správcovské_číslo\", \"Názov_mosta\",\n",
    "                    \"Rok_postavenia\", \"Predmet_premostenia\", \"Dĺžka_premostenia\", \"Okres\", \"n_2024\"]]"
   ]
  },
  {
   "cell_type": "code",
   "execution_count": 112,
   "metadata": {},
   "outputs": [
    {
     "data": {
      "text/plain": [
       "'000527-007 Most cez Veľký potok v obci Kosihy nad Ipľom'"
      ]
     },
     "execution_count": 112,
     "metadata": {},
     "output_type": "execute_result"
    }
   ],
   "source": [
    "bridge_row.iloc[0][\"Názov_mosta\"]"
   ]
  },
  {
   "cell_type": "code",
   "execution_count": 111,
   "metadata": {},
   "outputs": [
    {
     "name": "stdout",
     "output_type": "stream",
     "text": [
      "Clear route for M4403: C:\\Users\\relia\\Documents\\GitHub\\Bridges\\06_SC_BB\\IoT\\Routes\\M4403_clear.gpx\n",
      "Alternative route for M4403: C:\\Users\\relia\\Documents\\GitHub\\Bridges\\06_SC_BB\\IoT\\Routes\\M4403_alt.gpx\n"
     ]
    }
   ],
   "source": [
    "import xml.etree.ElementTree as ET\n",
    "import folium\n",
    "\n",
    "import os\n",
    "\n",
    "folder_path = r\"C:\\Users\\relia\\Documents\\GitHub\\Bridges\\06_SC_BB\\IoT\\Routes\"\n",
    "\n",
    "# List all files in the folder\n",
    "files = os.listdir(folder_path)\n",
    "\n",
    "# Define the bridge ID\n",
    "bridge_id = bridge_to_find\n",
    "\n",
    "# Filter the files for the specific bridge\n",
    "clear_route = None\n",
    "alternative_route = None\n",
    "\n",
    "for file in files:\n",
    "    if file.startswith(bridge_id):\n",
    "        if \"_clear\" in file:\n",
    "            clear_route = os.path.join(folder_path, file)\n",
    "        elif \"_alt\" in file:\n",
    "            alternative_route = os.path.join(folder_path, file)\n",
    "\n",
    "# Assign variables for clear and alternative routes\n",
    "print(f\"Clear route for {bridge_id}: {clear_route}\")\n",
    "print(f\"Alternative route for {bridge_id}: {alternative_route}\")\n",
    "\n",
    "\n",
    "def extract_coordinates(gpx_file):\n",
    "    tree = ET.parse(gpx_file)\n",
    "    root = tree.getroot()\n",
    "    namespace = {\"default\": \"http://www.topografix.com/GPX/1/1\"}\n",
    "    coordinates = []\n",
    "    for trkpt in root.findall(\".//default:trkpt\", namespace):\n",
    "        lat = float(trkpt.attrib['lat'])\n",
    "        lon = float(trkpt.attrib['lon'])\n",
    "        coordinates.append((lat, lon))\n",
    "    return coordinates\n",
    "\n",
    "\n",
    "# Get bridge latitude and longitude\n",
    "bridge_lat = bridge_row.iloc[0][\"Zemepisná_šírka\"]\n",
    "bridge_lon = bridge_row.iloc[0][\"Zemepisná_dĺžka\"]\n",
    "bridge_name = bridge_row.iloc[0][\"Názov_mosta\"]\n",
    "\n",
    "# Extract coordinates for clear and alternative routes\n",
    "clear_coordinates = extract_coordinates(clear_route)\n",
    "alt_coordinates = extract_coordinates(alternative_route)\n",
    "\n",
    "# Create a Folium map centered on the first point of the clear route\n",
    "route_map = folium.Map(location=clear_coordinates[0], zoom_start=14)\n",
    "\n",
    "# Add a marker for the bridge\n",
    "folium.Marker(\n",
    "    location=[bridge_lat, bridge_lon],\n",
    "    tooltip=\"Bridge Location\",\n",
    "    icon=folium.Icon(color=\"blue\", icon=\"info-sign\")\n",
    ").add_to(route_map)\n",
    "\n",
    "# Add the clear route to the map\n",
    "folium.PolyLine(clear_coordinates, color=\"green\", weight=5,\n",
    "                opacity=0.8, tooltip=\"Clear Route\").add_to(route_map)\n",
    "\n",
    "# Add the alternative route to the map\n",
    "folium.PolyLine(alt_coordinates, color=\"red\", weight=5,\n",
    "                opacity=0.8, tooltip=\"Alternative Route\").add_to(route_map)\n",
    "\n",
    "route_map.save(f\"most.html\")"
   ]
  }
 ],
 "metadata": {
  "kernelspec": {
   "display_name": "Bridges_VENV",
   "language": "python",
   "name": "python3"
  },
  "language_info": {
   "codemirror_mode": {
    "name": "ipython",
    "version": 3
   },
   "file_extension": ".py",
   "mimetype": "text/x-python",
   "name": "python",
   "nbconvert_exporter": "python",
   "pygments_lexer": "ipython3",
   "version": "3.12.4"
  }
 },
 "nbformat": 4,
 "nbformat_minor": 2
}
