{
 "cells": [
  {
   "cell_type": "code",
   "execution_count": 2,
   "metadata": {},
   "outputs": [],
   "source": [
    "import pandas as pd\n",
    "\n",
    "# ROBOTA\n",
    "\n",
    "bridges_path = r\"C:\\Users\\relia\\Documents\\GitHub\\Bridges\\Data\\df_bridges_2024_all.csv\"\n",
    "survey_path = r\"C:\\Users\\relia\\Documents\\GitHub\\Bridges\\Data\\surveys\\Survey.csv\"\n",
    "rizikovost_path = r\"C:\\Users\\relia\\Documents\\GitHub\\Bridges\\06_SC_BB\\Rizikovost\\Rizikovosť.csv\"\n",
    "\n",
    "\n",
    "# Load the CSV data into a DataFrame\n",
    "df_rizikovost = pd.read_csv(rizikovost_path, encoding='utf-8', delimiter=',')\n",
    "df_bridges_all = pd.read_csv(bridges_path, encoding='utf-8', delimiter=',')\n",
    "df_survey = pd.read_csv(survey_path, encoding='utf-8', delimiter=',')"
   ]
  },
  {
   "cell_type": "code",
   "execution_count": 3,
   "metadata": {},
   "outputs": [],
   "source": [
    "# Define the columns that should be converted to numeric data types\n",
    "numeric_columns = ['Normálna_zaťažiteľnosť', 'Výhradná_zaťažiteľnosť_t', 'Výnimočná_zaťažiteľnosť_t',\n",
    "                   'Počet_otvorov', 'Dĺžka_premostenia', 'Dĺžka_nosnej_konštrukcie_m',\n",
    "                   'Volná_šírka_mosta', 'Šírka_medzi_obrubami_m', 'Plocha_mosnej_konštrukcie_m2',\n",
    "                   'Plocha_mosta_m2', 'n_2012', 'n_2013', 'n_2014', 'n_2015', 'n_2016',\n",
    "                   'n_2017', 'n_2018', 'n_2019', 'n_2020', 'n_2021', 'n_2022', 'n_2023']\n",
    "\n",
    "# Convert the selected columns to numeric data types (integers or floats)\n",
    "for col in numeric_columns:\n",
    "    df_bridges_all[col] = pd.to_numeric(df_bridges_all[col], errors='coerce')"
   ]
  },
  {
   "cell_type": "code",
   "execution_count": 4,
   "metadata": {},
   "outputs": [
    {
     "data": {
      "text/plain": [
       "Index(['ID_mosta', 'Trieda_PK', 'Číslo_PK', 'Názov_mosta', 'správcovské_číslo',\n",
       "       'Zemepisná_šírka', 'Zemepisná_dĺžka', 'Výška', 'Druh_konštrukcie',\n",
       "       'Material', 'Normálna_zaťažiteľnosť', 'Výhradná_zaťažiteľnosť_t',\n",
       "       'Výnimočná_zaťažiteľnosť_t', 'Spôsob_stanovenia', 'Predmet_premostenia',\n",
       "       'Rok_postavenia', 'Zaťažovacia_trieda_STN', 'Počet_otvorov',\n",
       "       'Dĺžka_premostenia', 'Dĺžka_nosnej_konštrukcie_m', 'Volná_šírka_mosta',\n",
       "       'Šírka_medzi_obrubami_m', 'Plocha_mosnej_konštrukcie_m2',\n",
       "       'Plocha_mosta_m2', 'Vlastník_úseku', 'Správca_úseku', 'Okres',\n",
       "       'Počiatočný_uzol', 'Koncový_uzol', 'úsek_ID', 'Kraj', 'n_2012',\n",
       "       'n_2013', 'n_2014', 'n_2015', 'n_2016', 'n_2017', 'n_2018', 'n_2019',\n",
       "       'n_2020', 'n_2021', 'n_2022', 'n_2023', 'n_2024'],\n",
       "      dtype='object')"
      ]
     },
     "execution_count": 4,
     "metadata": {},
     "output_type": "execute_result"
    }
   ],
   "source": [
    "df_bridges_all.columns"
   ]
  },
  {
   "cell_type": "code",
   "execution_count": 5,
   "metadata": {},
   "outputs": [
    {
     "data": {
      "text/plain": [
       "Index(['Rizikovost', 'ID_mosta'], dtype='object')"
      ]
     },
     "execution_count": 5,
     "metadata": {},
     "output_type": "execute_result"
    }
   ],
   "source": [
    "df_rizikovost.columns"
   ]
  },
  {
   "cell_type": "code",
   "execution_count": 6,
   "metadata": {},
   "outputs": [],
   "source": [
    "# Create a copy of df_bridges_all\n",
    "df_filtered_bridges = df_bridges_all.copy()\n",
    "\n",
    "# Filter df_filtered_bridges based on the ID_mosta values in df_rizikovost\n",
    "df_filtered_bridges = df_filtered_bridges[df_filtered_bridges['ID_mosta'].isin(\n",
    "    df_rizikovost['ID_mosta'])]"
   ]
  },
  {
   "cell_type": "code",
   "execution_count": 7,
   "metadata": {},
   "outputs": [],
   "source": [
    "# Assuming df_bridges_all and df_rizikovost are already defined DataFrames\n",
    "# Create a set of ID_mosta from df_filtered_bridges\n",
    "filtered_bridges_ids = set(df_filtered_bridges['ID_mosta'])\n",
    "\n",
    "# Create a set of ID_mosta from df_rizikovost\n",
    "rizikovost_ids = set(df_rizikovost['ID_mosta'])\n",
    "\n",
    "# Find the IDs that are in df_rizikovost but not in df_filtered_bridges\n",
    "missing_ids = rizikovost_ids - filtered_bridges_ids\n",
    "\n",
    "# Create a DataFrame with the missing IDs\n",
    "df_missing_bridges = df_rizikovost[df_rizikovost['ID_mosta'].isin(missing_ids)]"
   ]
  },
  {
   "cell_type": "code",
   "execution_count": 8,
   "metadata": {},
   "outputs": [
    {
     "data": {
      "text/plain": [
       "(3, 2)"
      ]
     },
     "execution_count": 8,
     "metadata": {},
     "output_type": "execute_result"
    }
   ],
   "source": [
    "df_missing_bridges.shape"
   ]
  },
  {
   "cell_type": "code",
   "execution_count": 9,
   "metadata": {},
   "outputs": [
    {
     "data": {
      "text/html": [
       "<div>\n",
       "<style scoped>\n",
       "    .dataframe tbody tr th:only-of-type {\n",
       "        vertical-align: middle;\n",
       "    }\n",
       "\n",
       "    .dataframe tbody tr th {\n",
       "        vertical-align: top;\n",
       "    }\n",
       "\n",
       "    .dataframe thead th {\n",
       "        text-align: right;\n",
       "    }\n",
       "</style>\n",
       "<table border=\"1\" class=\"dataframe\">\n",
       "  <thead>\n",
       "    <tr style=\"text-align: right;\">\n",
       "      <th></th>\n",
       "      <th>Rizikovost</th>\n",
       "      <th>ID_mosta</th>\n",
       "    </tr>\n",
       "  </thead>\n",
       "  <tbody>\n",
       "    <tr>\n",
       "      <th>95</th>\n",
       "      <td>26</td>\n",
       "      <td>M2582</td>\n",
       "    </tr>\n",
       "    <tr>\n",
       "      <th>136</th>\n",
       "      <td>25</td>\n",
       "      <td>M401</td>\n",
       "    </tr>\n",
       "    <tr>\n",
       "      <th>166</th>\n",
       "      <td>25</td>\n",
       "      <td>M3680</td>\n",
       "    </tr>\n",
       "  </tbody>\n",
       "</table>\n",
       "</div>"
      ],
      "text/plain": [
       "     Rizikovost ID_mosta\n",
       "95           26    M2582\n",
       "136          25     M401\n",
       "166          25    M3680"
      ]
     },
     "execution_count": 9,
     "metadata": {},
     "output_type": "execute_result"
    }
   ],
   "source": [
    "df_missing_bridges"
   ]
  }
 ],
 "metadata": {
  "kernelspec": {
   "display_name": "Bridges_VENV",
   "language": "python",
   "name": "python3"
  },
  "language_info": {
   "codemirror_mode": {
    "name": "ipython",
    "version": 3
   },
   "file_extension": ".py",
   "mimetype": "text/x-python",
   "name": "python",
   "nbconvert_exporter": "python",
   "pygments_lexer": "ipython3",
   "version": "3.12.4"
  }
 },
 "nbformat": 4,
 "nbformat_minor": 2
}
