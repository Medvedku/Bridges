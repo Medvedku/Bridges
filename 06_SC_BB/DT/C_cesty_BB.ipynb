{
 "cells": [
  {
   "cell_type": "code",
   "execution_count": 1,
   "metadata": {},
   "outputs": [
    {
     "name": "stderr",
     "output_type": "stream",
     "text": [
      "C:\\Users\\Doktor\\AppData\\Local\\Temp\\ipykernel_7196\\2806121245.py:17: DtypeWarning: Columns (5,16) have mixed types. Specify dtype option on import or set low_memory=False.\n",
      "  df_nodes = pd.read_csv(nodes_path, encoding='utf-8', delimiter=',')\n",
      "C:\\Users\\Doktor\\AppData\\Local\\Temp\\ipykernel_7196\\2806121245.py:18: DtypeWarning: Columns (10,11,12,25,26,27) have mixed types. Specify dtype option on import or set low_memory=False.\n",
      "  df_roads = pd.read_csv(roads_path, encoding='utf-8', delimiter=',')\n"
     ]
    }
   ],
   "source": [
    "import pandas as pd\n",
    "import numpy as np\n",
    "\n",
    "# DOMA\n",
    "nodes_path = r\"C:\\Users\\Doktor\\Documents\\GitHub\\Bridges\\Data\\Nodes_processed.csv\"\n",
    "roads_path = r\"C:\\Users\\Doktor\\Documents\\GitHub\\Bridges\\Data\\Roads_processed.csv\"\n",
    "bridges_path = r\"C:\\Users\\Doktor\\Documents\\GitHub\\Bridges\\Data\\df_bridges_data.csv\"\n",
    "survey_path = r\"C:\\Users\\Doktor\\Documents\\GitHub\\Bridges\\Data\\surveys\\Survey.csv\"\n",
    "\n",
    "# # ROBOTA\n",
    "# nodes_path = r\"C:\\Users\\relia\\Documents\\GitHub\\Bridges\\Data\\Nodes_processed.csv\"\n",
    "# roads_path = r\"C:\\Users\\relia\\Documents\\GitHub\\Bridges\\Data\\Roads_processed.csv\"\n",
    "# bridges_path = r\"C:\\Users\\relia\\Documents\\GitHub\\Bridges\\Data\\df_bridges_data.csv\"\n",
    "# survey_path = r\"C:\\Users\\relia\\Documents\\GitHub\\Bridges\\Data\\surveys\\Survey.csv\"\n",
    "\n",
    "# Load the CSV data into a DataFrame\n",
    "df_nodes = pd.read_csv(nodes_path, encoding='utf-8', delimiter=',')\n",
    "df_roads = pd.read_csv(roads_path, encoding='utf-8', delimiter=',')\n",
    "df_bridges_all = pd.read_csv(bridges_path, encoding='utf-8', delimiter=',')\n",
    "df_survey = pd.read_csv(survey_path, encoding='utf-8', delimiter=',')"
   ]
  },
  {
   "cell_type": "code",
   "execution_count": 2,
   "metadata": {},
   "outputs": [
    {
     "data": {
      "text/plain": [
       "Index(['Trieda_PK', 'Číslo_PK', 'Úsek_ID', 'Počiatočný_uzol', 'Koncový_uzol',\n",
       "       'Typ_úseku', 'Smer_úseku', 'Evidenčná_dĺžka_m', 'Evidenčná_dĺžka_km',\n",
       "       'Poradie', 'Stanič_začiatku_km', 'Stanič_začiatku_kumulatívne',\n",
       "       'Stanič_konca_kumulatívne', 'Dopravný_smer', 'Legislativny_stav',\n",
       "       'Kraj', 'Okres', 'Ulica', 'Funkčná_klasifikácia', 'Stavebná_kategoria',\n",
       "       'Rozhodnutie', 'Typ_správcu_skratka', 'Správca_skratka',\n",
       "       'Vlastnik_skratka', 'Prejazdová_dĺžka', 'Ťah_E', 'Ťah_TEM', 'Ťah_TEN-T',\n",
       "       'Popis_zač_uza_podrobný', 'Popis_konc_uza_podrobný'],\n",
       "      dtype='object')"
      ]
     },
     "execution_count": 2,
     "metadata": {},
     "output_type": "execute_result"
    }
   ],
   "source": [
    "df_roads.columns"
   ]
  },
  {
   "cell_type": "code",
   "execution_count": 7,
   "metadata": {},
   "outputs": [
    {
     "data": {
      "text/plain": [
       "(5267, 30)"
      ]
     },
     "execution_count": 7,
     "metadata": {},
     "output_type": "execute_result"
    }
   ],
   "source": [
    "# Filter bridges in the Nitra region with Trieda_PK as \"cesta I. triedy\" or \"cesta II. triedy\"\n",
    "filtered_roads = df_roads[\n",
    "\n",
    "    (df_roads[\"Správca_skratka\"] == 'BBRSC-STRED') |\n",
    "    (df_roads[\"Správca_skratka\"] == 'BBRSC-SEVER') |\n",
    "    (df_roads[\"Správca_skratka\"] == 'BBRSC-JUH')\n",
    "]\n",
    "\n",
    "# Reindex the DataFrame\n",
    "filtered_roads.reset_index(drop=True, inplace=True)\n",
    "\n",
    "\n",
    "# Display the filtered DataFrame\n",
    "filtered_roads.shape"
   ]
  },
  {
   "cell_type": "code",
   "execution_count": 8,
   "metadata": {},
   "outputs": [
    {
     "data": {
      "text/plain": [
       "Správca_skratka\n",
       "BBRSC-JUH      2034\n",
       "BBRSC-SEVER    1662\n",
       "BBRSC-STRED    1571\n",
       "Name: count, dtype: int64"
      ]
     },
     "execution_count": 8,
     "metadata": {},
     "output_type": "execute_result"
    }
   ],
   "source": [
    "filtered_roads['Správca_skratka'].value_counts()"
   ]
  },
  {
   "cell_type": "code",
   "execution_count": 11,
   "metadata": {},
   "outputs": [
    {
     "data": {
      "text/plain": [
       "Trieda_PK                                                       cesta II. triedy\n",
       "Číslo_PK                                                                     428\n",
       "Úsek_ID                                                                     6796\n",
       "Počiatočný_uzol                                                      3633A00203'\n",
       "Koncový_uzol                                                         3633A25000'\n",
       "Typ_úseku                                                      medzikrižovatkový\n",
       "Smer_úseku                                                    oba smery trasy CK\n",
       "Evidenčná_dĺžka_m                                                            163\n",
       "Evidenčná_dĺžka_km                                                           163\n",
       "Poradie                                                                      1.0\n",
       "Stanič_začiatku_km                                                         59546\n",
       "Stanič_začiatku_kumulatívne                                                    0\n",
       "Stanič_konca_kumulatívne                                                     163\n",
       "Dopravný_smer                                    oba dopravné smery (obojsmerka)\n",
       "Legislativny_stav                                                      neuvedený\n",
       "Kraj                                                        Banskobystrický kraj\n",
       "Okres                                                                  Žarnovica\n",
       "Ulica                                                                        NaN\n",
       "Funkčná_klasifikácia                                                  regionálny\n",
       "Stavebná_kategoria                                               Krajinská cesta\n",
       "Rozhodnutie                                                                  NaN\n",
       "Typ_správcu_skratka                                                       BB RSC\n",
       "Správca_skratka                                                      BBRSC-SEVER\n",
       "Vlastnik_skratka                                                           BB SK\n",
       "Prejazdová_dĺžka                                                             163\n",
       "Ťah_E                                                                        Nie\n",
       "Ťah_TEM                                                                      Nie\n",
       "Ťah_TEN-T                                                                    Nie\n",
       "Popis_zač_uza_podrobný         zač. cesty II/428, križ. II/428 x R1, okr. Žar...\n",
       "Popis_konc_uza_podrobný        zač. cesty II/428, križ. II/428 x R1, okr. Žar...\n",
       "Name: 0, dtype: object"
      ]
     },
     "execution_count": 11,
     "metadata": {},
     "output_type": "execute_result"
    }
   ],
   "source": [
    "filtered_roads.iloc[0]"
   ]
  },
  {
   "cell_type": "code",
   "execution_count": 12,
   "metadata": {},
   "outputs": [
    {
     "data": {
      "text/html": [
       "<div>\n",
       "<style scoped>\n",
       "    .dataframe tbody tr th:only-of-type {\n",
       "        vertical-align: middle;\n",
       "    }\n",
       "\n",
       "    .dataframe tbody tr th {\n",
       "        vertical-align: top;\n",
       "    }\n",
       "\n",
       "    .dataframe thead th {\n",
       "        text-align: right;\n",
       "    }\n",
       "</style>\n",
       "<table border=\"1\" class=\"dataframe\">\n",
       "  <thead>\n",
       "    <tr style=\"text-align: right;\">\n",
       "      <th></th>\n",
       "      <th>Úsek_ID</th>\n",
       "      <th>Správca_skratka</th>\n",
       "      <th>Evidenčná_dĺžka_m</th>\n",
       "    </tr>\n",
       "  </thead>\n",
       "  <tbody>\n",
       "    <tr>\n",
       "      <th>0</th>\n",
       "      <td>6796</td>\n",
       "      <td>BBRSC-SEVER</td>\n",
       "      <td>163</td>\n",
       "    </tr>\n",
       "    <tr>\n",
       "      <th>1</th>\n",
       "      <td>423490</td>\n",
       "      <td>BBRSC-SEVER</td>\n",
       "      <td>213</td>\n",
       "    </tr>\n",
       "    <tr>\n",
       "      <th>2</th>\n",
       "      <td>423491</td>\n",
       "      <td>BBRSC-SEVER</td>\n",
       "      <td>169</td>\n",
       "    </tr>\n",
       "    <tr>\n",
       "      <th>3</th>\n",
       "      <td>428264</td>\n",
       "      <td>BBRSC-SEVER</td>\n",
       "      <td>42</td>\n",
       "    </tr>\n",
       "    <tr>\n",
       "      <th>4</th>\n",
       "      <td>6797</td>\n",
       "      <td>BBRSC-SEVER</td>\n",
       "      <td>22</td>\n",
       "    </tr>\n",
       "    <tr>\n",
       "      <th>...</th>\n",
       "      <td>...</td>\n",
       "      <td>...</td>\n",
       "      <td>...</td>\n",
       "    </tr>\n",
       "    <tr>\n",
       "      <th>5262</th>\n",
       "      <td>1024188</td>\n",
       "      <td>BBRSC-STRED</td>\n",
       "      <td>436</td>\n",
       "    </tr>\n",
       "    <tr>\n",
       "      <th>5263</th>\n",
       "      <td>1024189</td>\n",
       "      <td>BBRSC-STRED</td>\n",
       "      <td>184</td>\n",
       "    </tr>\n",
       "    <tr>\n",
       "      <th>5264</th>\n",
       "      <td>1024190</td>\n",
       "      <td>BBRSC-STRED</td>\n",
       "      <td>79</td>\n",
       "    </tr>\n",
       "    <tr>\n",
       "      <th>5265</th>\n",
       "      <td>1024191</td>\n",
       "      <td>BBRSC-STRED</td>\n",
       "      <td>230</td>\n",
       "    </tr>\n",
       "    <tr>\n",
       "      <th>5266</th>\n",
       "      <td>1024192</td>\n",
       "      <td>BBRSC-STRED</td>\n",
       "      <td>32</td>\n",
       "    </tr>\n",
       "  </tbody>\n",
       "</table>\n",
       "<p>5267 rows × 3 columns</p>\n",
       "</div>"
      ],
      "text/plain": [
       "      Úsek_ID Správca_skratka  Evidenčná_dĺžka_m\n",
       "0        6796     BBRSC-SEVER                163\n",
       "1      423490     BBRSC-SEVER                213\n",
       "2      423491     BBRSC-SEVER                169\n",
       "3      428264     BBRSC-SEVER                 42\n",
       "4        6797     BBRSC-SEVER                 22\n",
       "...       ...             ...                ...\n",
       "5262  1024188     BBRSC-STRED                436\n",
       "5263  1024189     BBRSC-STRED                184\n",
       "5264  1024190     BBRSC-STRED                 79\n",
       "5265  1024191     BBRSC-STRED                230\n",
       "5266  1024192     BBRSC-STRED                 32\n",
       "\n",
       "[5267 rows x 3 columns]"
      ]
     },
     "execution_count": 12,
     "metadata": {},
     "output_type": "execute_result"
    }
   ],
   "source": [
    "filtered_roads[['Úsek_ID', 'Správca_skratka', \"Evidenčná_dĺžka_m\"]]"
   ]
  },
  {
   "cell_type": "code",
   "execution_count": 17,
   "metadata": {},
   "outputs": [
    {
     "data": {
      "text/plain": [
       "Správca_skratka\n",
       "BBRSC-JUH      2034\n",
       "BBRSC-SEVER    1662\n",
       "BBRSC-STRED    1571\n",
       "Name: count, dtype: int64"
      ]
     },
     "execution_count": 17,
     "metadata": {},
     "output_type": "execute_result"
    }
   ],
   "source": [
    "filtered_roads[\"Správca_skratka\"].value_counts()"
   ]
  },
  {
   "cell_type": "code",
   "execution_count": 16,
   "metadata": {},
   "outputs": [
    {
     "data": {
      "text/plain": [
       "2456846"
      ]
     },
     "execution_count": 16,
     "metadata": {},
     "output_type": "execute_result"
    }
   ],
   "source": [
    "filtered_roads[\"Evidenčná_dĺžka_m\"].sum()"
   ]
  },
  {
   "cell_type": "code",
   "execution_count": 19,
   "metadata": {},
   "outputs": [
    {
     "data": {
      "text/plain": [
       "Správca_skratka\n",
       "BBRSC-JUH      1044281\n",
       "BBRSC-SEVER     639974\n",
       "BBRSC-STRED     772591\n",
       "Name: Evidenčná_dĺžka_m, dtype: int64"
      ]
     },
     "execution_count": 19,
     "metadata": {},
     "output_type": "execute_result"
    }
   ],
   "source": [
    "# Compute the sum of \"Evidenčná_dĺžka_m\" for each unique value in \"Správca_skratka\"\n",
    "sum_by_spravca = filtered_roads.groupby(\"Správca_skratka\")[\n",
    "    \"Evidenčná_dĺžka_m\"].sum()\n",
    "sum_by_spravca"
   ]
  },
  {
   "cell_type": "code",
   "execution_count": 21,
   "metadata": {},
   "outputs": [
    {
     "data": {
      "text/plain": [
       "1031"
      ]
     },
     "execution_count": 21,
     "metadata": {},
     "output_type": "execute_result"
    }
   ],
   "source": [
    "395+325+311"
   ]
  }
 ],
 "metadata": {
  "kernelspec": {
   "display_name": "Bridges_VENV",
   "language": "python",
   "name": "python3"
  },
  "language_info": {
   "codemirror_mode": {
    "name": "ipython",
    "version": 3
   },
   "file_extension": ".py",
   "mimetype": "text/x-python",
   "name": "python",
   "nbconvert_exporter": "python",
   "pygments_lexer": "ipython3",
   "version": "3.11.4"
  }
 },
 "nbformat": 4,
 "nbformat_minor": 2
}
