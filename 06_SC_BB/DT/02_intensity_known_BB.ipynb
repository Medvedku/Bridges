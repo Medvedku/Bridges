{
 "cells": [
  {
   "cell_type": "code",
   "execution_count": 7,
   "metadata": {},
   "outputs": [
    {
     "name": "stderr",
     "output_type": "stream",
     "text": [
      "C:\\Users\\Doktor\\AppData\\Local\\Temp\\ipykernel_11780\\2806121245.py:17: DtypeWarning: Columns (5,16) have mixed types. Specify dtype option on import or set low_memory=False.\n",
      "  df_nodes = pd.read_csv(nodes_path, encoding='utf-8', delimiter=',')\n",
      "C:\\Users\\Doktor\\AppData\\Local\\Temp\\ipykernel_11780\\2806121245.py:18: DtypeWarning: Columns (10,11,12,25,26,27) have mixed types. Specify dtype option on import or set low_memory=False.\n",
      "  df_roads = pd.read_csv(roads_path, encoding='utf-8', delimiter=',')\n"
     ]
    }
   ],
   "source": [
    "import pandas as pd\n",
    "import numpy as np\n",
    "\n",
    "# DOMA\n",
    "nodes_path = r\"C:\\Users\\Doktor\\Documents\\GitHub\\Bridges\\Data\\Nodes_processed.csv\"\n",
    "roads_path = r\"C:\\Users\\Doktor\\Documents\\GitHub\\Bridges\\Data\\Roads_processed.csv\"\n",
    "bridges_path = r\"C:\\Users\\Doktor\\Documents\\GitHub\\Bridges\\Data\\df_bridges_data.csv\"\n",
    "survey_path = r\"C:\\Users\\Doktor\\Documents\\GitHub\\Bridges\\Data\\surveys\\Survey.csv\"\n",
    "\n",
    "# # ROBOTA\n",
    "# nodes_path = r\"C:\\Users\\relia\\Documents\\GitHub\\Bridges\\Data\\Nodes_processed.csv\"\n",
    "# roads_path = r\"C:\\Users\\relia\\Documents\\GitHub\\Bridges\\Data\\Roads_processed.csv\"\n",
    "# bridges_path = r\"C:\\Users\\relia\\Documents\\GitHub\\Bridges\\Data\\df_bridges_data.csv\"\n",
    "# survey_path = r\"C:\\Users\\relia\\Documents\\GitHub\\Bridges\\Data\\surveys\\Survey.csv\"\n",
    "\n",
    "# Load the CSV data into a DataFrame\n",
    "df_nodes = pd.read_csv(nodes_path, encoding='utf-8', delimiter=',')\n",
    "df_roads = pd.read_csv(roads_path, encoding='utf-8', delimiter=',')\n",
    "df_bridges_all = pd.read_csv(bridges_path, encoding='utf-8', delimiter=',')\n",
    "df_survey = pd.read_csv(survey_path, encoding='utf-8', delimiter=',')"
   ]
  },
  {
   "cell_type": "code",
   "execution_count": 8,
   "metadata": {},
   "outputs": [
    {
     "data": {
      "text/plain": [
       "Index(['ID_mosta', 'Trieda_PK', 'Číslo_PK', 'Most_DC', 'Názov_mosta', 'ID_DC',\n",
       "       'správcovské_číslo', 'Zemepisná_dĺžka', 'Zemepisná_šírka', 'Výška',\n",
       "       'Druh_konštrukcie', 'Material', 'Normálna_zaťažiteľnosť',\n",
       "       'Výhradná_zaťažiteľnosť_t', 'Výnimočná_zaťažiteľnosť_t',\n",
       "       'Spôsob_stanovenia', 'Predmet_premostenia', 'Rok_postavenia',\n",
       "       'Zaťažovacia_trieda_STN', 'Počet_otvorov', 'Dĺžka_premostenia',\n",
       "       'Dĺžka_nosnej_konštrukcie_m', 'Volná_šírka_mosta',\n",
       "       'Šírka_medzi_obrubami_m', 'Plocha_mosnej_konštrukcie_m2',\n",
       "       'Plocha_mosta_m2', 'Vlastník_úseku', 'Správca_úseku', 'Okres',\n",
       "       'Smer_úseku', 'Typ_úseku', 'Počiatočný_uzol', 'Koncový_uzol', 'úsek_ID',\n",
       "       'úsekové_staničenie_začiatku_DC_m',\n",
       "       'Kilometrovníkové_staničenie_začiatku_DC_km',\n",
       "       'Kumulatívne_staničenie_začiatku_DC_km', 'Poradie', 'Kraj', 'n_2012',\n",
       "       'n_2013', 'n_2014', 'n_2015', 'n_2016', 'n_2017', 'n_2018', 'n_2019',\n",
       "       'n_2020', 'n_2021', 'n_2022', 'n_2023'],\n",
       "      dtype='object')"
      ]
     },
     "execution_count": 8,
     "metadata": {},
     "output_type": "execute_result"
    }
   ],
   "source": [
    "# Assuming df_bridges_all is your DataFrame\n",
    "columns_to_convert = ['Zemepisná_dĺžka', 'Zemepisná_šírka', 'Výška', 'Normálna_zaťažiteľnosť',\n",
    "                      'Výhradná_zaťažiteľnosť_t', 'Výnimočná_zaťažiteľnosť_t', 'Počet_otvorov',\n",
    "                      'Dĺžka_nosnej_konštrukcie_m', 'Dĺžka_premostenia', 'Volná_šírka_mosta',\n",
    "                      'Šírka_medzi_obrubami_m', 'Plocha_mosnej_konštrukcie_m2', 'Plocha_mosta_m2']\n",
    "\n",
    "# Convert specified columns to float\n",
    "df_bridges_all[columns_to_convert] = df_bridges_all[columns_to_convert].apply(\n",
    "    pd.to_numeric, errors='coerce')\n",
    "\n",
    "# Convert Rok_postavenia to integer, assign NaN if not possible\n",
    "df_bridges_all['Rok_postavenia'] = pd.to_numeric(\n",
    "    df_bridges_all['Rok_postavenia'], errors='coerce')\n",
    "\n",
    "\n",
    "df_bridges_all.columns"
   ]
  },
  {
   "cell_type": "code",
   "execution_count": 9,
   "metadata": {},
   "outputs": [],
   "source": [
    "# DOMA\n",
    "SC_BB = r\"C:\\Users\\Doktor\\Documents\\GitHub\\Bridges\\06_SC_BB\\DT\\filtered_bridges_BB_pathes.xlsx\"\n",
    "\n",
    "# # ROBOTA\n",
    "# SC_BB = r\"C:\\Users\\relia\\Documents\\GitHub\\Bridges\\06_SC_BB\\DT\\filtered_bridges_BB_pathes.xlsx\"\n",
    "\n",
    "df_SC_BB = pd.read_excel(SC_BB)"
   ]
  },
  {
   "cell_type": "code",
   "execution_count": 16,
   "metadata": {},
   "outputs": [],
   "source": [
    "def to_string_list(s):\n",
    "    # Check if s is NaN (missing value)\n",
    "    if pd.isna(s):\n",
    "        return []\n",
    "    # If s is a float or integer, convert it directly to a list with a single element as a string\n",
    "    elif isinstance(s, (float, int)):\n",
    "        # Convert to integer first to remove any decimals\n",
    "        return [str(int(s))]\n",
    "    # If s is a string, attempt to split it into a list of strings\n",
    "    elif isinstance(s, str) and s != '':\n",
    "        # Assume it's a comma-separated list and split accordingly\n",
    "        return s.split(', ')\n",
    "    # Return an empty list for any other cases (e.g., empty strings)\n",
    "    else:\n",
    "        return []\n",
    "\n",
    "\n",
    "def get_intenzita(cislo_scitacieho_useku):\n",
    "    if not cislo_scitacieho_useku:  # Check if the list is empty\n",
    "        return 0  # Return zero if the list is empty\n",
    "    else:\n",
    "        # Find matching 'S' values and return them as a list\n",
    "        intenzita_list = df_survey[df_survey['ÚSEK'].isin(\n",
    "            cislo_scitacieho_useku)]['S'].tolist()\n",
    "        if not intenzita_list:  # If no matches found, return zero\n",
    "            return 0\n",
    "    return intenzita_list\n",
    "\n",
    "\n",
    "def calculate_mean_intenzita(intenzita):\n",
    "    # Check if intenzita is a list and not empty\n",
    "    if isinstance(intenzita, list) and intenzita:\n",
    "        # Calculate mean if there are elements in the list\n",
    "        return np.mean(intenzita)\n",
    "    # Return NaN for empty lists or if intenzita is 0\n",
    "    return np.nan"
   ]
  },
  {
   "cell_type": "code",
   "execution_count": 11,
   "metadata": {},
   "outputs": [
    {
     "data": {
      "text/plain": [
       "Index(['Názov_mosta', 'ID_mosta', 'Číslo_sčítacieho_úseku', 'Zemepisná_šírka',\n",
       "       'Zemepisná_dĺžka'],\n",
       "      dtype='object')"
      ]
     },
     "execution_count": 11,
     "metadata": {},
     "output_type": "execute_result"
    }
   ],
   "source": [
    "df_SC_BB.columns"
   ]
  },
  {
   "cell_type": "code",
   "execution_count": 12,
   "metadata": {},
   "outputs": [],
   "source": [
    "df_SC_BB['Číslo_sčítacieho_úseku'] = df_SC_BB['Číslo_sčítacieho_úseku'].apply(\n",
    "    to_string_list)"
   ]
  },
  {
   "cell_type": "code",
   "execution_count": 18,
   "metadata": {},
   "outputs": [],
   "source": [
    "df_SC_BB['intenzita'] = df_SC_BB['Číslo_sčítacieho_úseku'].apply(\n",
    "    get_intenzita)"
   ]
  },
  {
   "cell_type": "code",
   "execution_count": 19,
   "metadata": {},
   "outputs": [],
   "source": [
    "df_SC_BB['intenzita'] = df_SC_BB['intenzita'].apply(calculate_mean_intenzita)"
   ]
  },
  {
   "cell_type": "code",
   "execution_count": 34,
   "metadata": {},
   "outputs": [
    {
     "data": {
      "text/plain": [
       "(     ID_mosta                                        Názov_mosta  intenzita\n",
       " 816     M9471  565008_001 Most cez Glabušovský potok pri obci...      151.0\n",
       " 817     M9470               565008-002_Katalin, Peťov - Szécsény      151.0\n",
       " 759     M3006  508025-003 Most cez potok Stracinský medzi obc...      169.0\n",
       " 758     M7463  508025-001 Most cez Malostracinský potok v obc...      169.0\n",
       " 527     M8522                        Madách, Rároš - Rárospuszta      207.0\n",
       " ...       ...                                                ...        ...\n",
       " 1025    M2024  2519-001 Nadjazd na ceste III/065016 nad cesto...        NaN\n",
       " 1026    M2593  2538-002 Most cez jarok v km 14,961 Jalná (525...        NaN\n",
       " 1027    M2362  2538-003 Most cez potok v km 15,111 Jalná (525...        NaN\n",
       " 1028    M4533  2538-004 Most cez jarok nad obcou Jalná (52500...        NaN\n",
       " 1029    M7169  2538-005 Most cez rieku Hron v km 16,651 Jalná...        NaN\n",
       " \n",
       " [1031 rows x 3 columns],\n",
       " '565008-002_Katalin, Peťov - Szécsény')"
      ]
     },
     "execution_count": 34,
     "metadata": {},
     "output_type": "execute_result"
    }
   ],
   "source": [
    "# Sort the DataFrame by the 'intenzita' column in ascending order, treating NaNs as the lowest values\n",
    "df_SC_BB_sorted = df_SC_BB.sort_values(\n",
    "    by='intenzita', ascending=True, na_position='last')\n",
    "\n",
    "df_SC_BB_sorted[[\"ID_mosta\", \"Názov_mosta\", \"intenzita\"]\n",
    "                ], df_SC_BB_sorted.iloc[1][\"Názov_mosta\"]"
   ]
  },
  {
   "cell_type": "code",
   "execution_count": 28,
   "metadata": {},
   "outputs": [
    {
     "name": "stdout",
     "output_type": "stream",
     "text": [
      "Number of non-null rows in 'intenzita' column: 555\n"
     ]
    }
   ],
   "source": [
    "not_null_count = df_SC_BB['intenzita'].count()\n",
    "print(\"Number of non-null rows in 'intenzita' column:\", not_null_count)"
   ]
  },
  {
   "cell_type": "code",
   "execution_count": 29,
   "metadata": {},
   "outputs": [
    {
     "data": {
      "text/plain": [
       "(1031,)"
      ]
     },
     "execution_count": 29,
     "metadata": {},
     "output_type": "execute_result"
    }
   ],
   "source": [
    "df_SC_BB['intenzita'].shape"
   ]
  },
  {
   "cell_type": "code",
   "execution_count": 27,
   "metadata": {},
   "outputs": [
    {
     "data": {
      "text/plain": [
       "count      555.000000\n",
       "mean      2330.714414\n",
       "std       2913.124641\n",
       "min        151.000000\n",
       "25%        901.000000\n",
       "50%       1425.000000\n",
       "75%       2315.000000\n",
       "max      21421.000000\n",
       "Name: intenzita, dtype: float64"
      ]
     },
     "execution_count": 27,
     "metadata": {},
     "output_type": "execute_result"
    }
   ],
   "source": [
    "df_SC_BB['intenzita'].describe()"
   ]
  }
 ],
 "metadata": {
  "kernelspec": {
   "display_name": "Bridges_VENV",
   "language": "python",
   "name": "python3"
  },
  "language_info": {
   "codemirror_mode": {
    "name": "ipython",
    "version": 3
   },
   "file_extension": ".py",
   "mimetype": "text/x-python",
   "name": "python",
   "nbconvert_exporter": "python",
   "pygments_lexer": "ipython3",
   "version": "3.11.4"
  }
 },
 "nbformat": 4,
 "nbformat_minor": 2
}
