{
 "cells": [
  {
   "cell_type": "code",
   "execution_count": 10,
   "metadata": {},
   "outputs": [
    {
     "name": "stderr",
     "output_type": "stream",
     "text": [
      "C:\\Users\\Doktor\\AppData\\Local\\Temp\\ipykernel_14560\\1213450377.py:21: DtypeWarning: Columns (5,16) have mixed types. Specify dtype option on import or set low_memory=False.\n",
      "  df_nodes = pd.read_csv(nodes_path, encoding='utf-8', delimiter=',')\n",
      "C:\\Users\\Doktor\\AppData\\Local\\Temp\\ipykernel_14560\\1213450377.py:22: DtypeWarning: Columns (10,11,12,25,26,27) have mixed types. Specify dtype option on import or set low_memory=False.\n",
      "  df_roads = pd.read_csv(roads_path, encoding='utf-8', delimiter=',')\n"
     ]
    }
   ],
   "source": [
    "import pandas as pd\n",
    "\n",
    "## DOMA\n",
    "# Define the file path\n",
    "nodes_path = r\"C:\\Users\\Doktor\\Documents\\GitHub\\Bridges\\Data\\Nodes_processed.csv\"\n",
    "roads_path = r\"C:\\Users\\Doktor\\Documents\\GitHub\\Bridges\\Data\\Roads_processed.csv\"\n",
    "bridges_path = r\"C:\\Users\\Doktor\\Documents\\GitHub\\Bridges\\Data\\Bridges_processed.csv\"\n",
    "bridges_selected_path = r\"C:\\Users\\Doktor\\Documents\\GitHub\\Bridges\\Data\\Bridges_selected.csv\"\n",
    "survey_path = r\"C:\\Users\\Doktor\\Documents\\GitHub\\Bridges\\Data\\surveys\\Survey.csv\"\n",
    "\n",
    "\n",
    "# # Práca\n",
    "# # Define the file path\n",
    "# nodes_path = r\"C:\\Users\\relia\\Documents\\GitHub\\Bridges\\Data\\Nodes_processed.csv\"\n",
    "# roads_path = r\"C:\\Users\\relia\\Documents\\GitHub\\Bridges\\Data\\Roads_processed.csv\"\n",
    "# bridges_path = r\"C:\\Users\\relia\\Documents\\GitHub\\Bridges\\Data\\Bridges_processed.csv\"\n",
    "# bridges_selected_path = r\"C:\\Users\\relia\\Documents\\GitHub\\Bridges\\Data\\Bridges_selected.csv\"\n",
    "# survey_path = r\"C:\\Users\\relia\\Documents\\GitHub\\Bridges\\Data\\surveys\\Survey.csv\"\n",
    "\n",
    "# Load the CSV data into a DataFrame\n",
    "df_nodes = pd.read_csv(nodes_path, encoding='utf-8', delimiter=',')\n",
    "df_roads = pd.read_csv(roads_path, encoding='utf-8', delimiter=',')\n",
    "df_bridges_all = pd.read_csv(bridges_path, encoding='utf-8', delimiter=',')\n",
    "df_bridges_sel = pd.read_csv(\n",
    "    bridges_selected_path, encoding='utf-8', delimiter=',')\n",
    "df_survey = pd.read_csv(survey_path, encoding='utf-8', delimiter=',')"
   ]
  },
  {
   "cell_type": "code",
   "execution_count": 11,
   "metadata": {},
   "outputs": [],
   "source": [
    "df_bridges_all['Dĺžka_premostenia'] = pd.to_numeric(\n",
    "    df_bridges_all['Dĺžka_premostenia'], errors='coerce')"
   ]
  },
  {
   "cell_type": "code",
   "execution_count": 12,
   "metadata": {},
   "outputs": [
    {
     "data": {
      "text/plain": [
       "Index(['ID_mosta', 'Trieda_PK', 'Číslo_PK', 'Most_DC', 'Názov_mosta', 'ID_DC',\n",
       "       'správcovské_číslo', 'Zemepisná_dĺžka', 'Zemepisná_šírka', 'Výška',\n",
       "       'Druh_konštrukcie', 'Material', 'Normálna_zaťažiteľnosť',\n",
       "       'Výhradná_zaťažiteľnosť_t', 'Výnimočná_zaťažiteľnosť_t',\n",
       "       'Spôsob_stanovenia', 'Predmet_premostenia', 'Rok_postavenia',\n",
       "       'Zaťažovacia_trieda_STN', 'Počet_otvorov', 'Dĺžka_premostenia',\n",
       "       'Dĺžka_nosnej_konštrukcie_m', 'Volná_šírka_mosta',\n",
       "       'Šírka_medzi_obrubami_m', 'Plocha_mosnej_konštrukcie_m2',\n",
       "       'Plocha_mosta_m2', 'Vlastník_úseku', 'Správca_úseku', 'Okres',\n",
       "       'Smer_úseku', 'Typ_úseku', 'Počiatočný_uzol', 'Koncový_uzol', 'úsek_ID',\n",
       "       'úsekové_staničenie_začiatku_DC_m',\n",
       "       'Kilometrovníkové_staničenie_začiatku_DC_km',\n",
       "       'Kumulatívne_staničenie_začiatku_DC_km', 'Poradie', 'Kraj', 'n_2012',\n",
       "       'n_2013', 'n_2014', 'n_2015', 'n_2016', 'n_2017', 'n_2018', 'n_2019',\n",
       "       'n_2020', 'n_2021', 'n_2022', 'n_2023'],\n",
       "      dtype='object')"
      ]
     },
     "execution_count": 12,
     "metadata": {},
     "output_type": "execute_result"
    }
   ],
   "source": [
    "df_bridges_all.columns"
   ]
  },
  {
   "cell_type": "code",
   "execution_count": 13,
   "metadata": {},
   "outputs": [
    {
     "data": {
      "text/plain": [
       "Kraj\n",
       "Prešov             1851\n",
       "Banská Bystrica    1633\n",
       "Žilina             1376\n",
       "Trenčín             967\n",
       "Košice              801\n",
       "Nitra               765\n",
       "Trnava              534\n",
       "Bratislava          382\n",
       "Nezistený           193\n",
       "Name: count, dtype: int64"
      ]
     },
     "execution_count": 13,
     "metadata": {},
     "output_type": "execute_result"
    }
   ],
   "source": [
    "df_bridges_all[\"Kraj\"].value_counts()"
   ]
  },
  {
   "cell_type": "code",
   "execution_count": 14,
   "metadata": {},
   "outputs": [
    {
     "data": {
      "text/plain": [
       "(49, 51)"
      ]
     },
     "execution_count": 14,
     "metadata": {},
     "output_type": "execute_result"
    }
   ],
   "source": [
    "# Filter bridges in the Nitra region with Trieda_PK as \"cesta I. triedy\" or \"cesta II. triedy\"\n",
    "filtered_bridges = df_bridges_all[\n",
    "    (df_bridges_all['Kraj'] == \"Banská Bystrica\") &\n",
    "    (df_bridges_all['n_2023'] > 4) &\n",
    "    ((df_bridges_all['Trieda_PK'] == \"cesta II. triedy\") |\n",
    "    (df_bridges_all['Trieda_PK'] == \"cesta III. triedy\")) &\n",
    "    (df_bridges_all['Dĺžka_premostenia'] >= 10)\n",
    "]\n",
    "\n",
    "# Display the filtered DataFrame\n",
    "filtered_bridges.shape"
   ]
  },
  {
   "cell_type": "code",
   "execution_count": 15,
   "metadata": {},
   "outputs": [],
   "source": [
    "import geopandas as gpd\n",
    "# Replace the file path with your actual file path\n",
    "file_path = r'C:\\Users\\relia\\Documents\\GitHub\\Bridges\\GeoJSONs\\regions_epsg_4326.geojson'\n",
    "file_path = r'C:\\Users\\Doktor\\Documents\\GitHub\\Bridges\\GeoJSONs\\regions_epsg_4326.geojson'\n",
    "\n",
    "# Load the GeoJSON file into a GeoDataFrame\n",
    "gdf = gpd.read_file(file_path)\n",
    "# Display the first few rows of the GeoDataFrame\n",
    "# gdf"
   ]
  },
  {
   "cell_type": "code",
   "execution_count": 16,
   "metadata": {},
   "outputs": [
    {
     "ename": "SyntaxError",
     "evalue": "unterminated string literal (detected at line 29) (3337898729.py, line 29)",
     "output_type": "error",
     "traceback": [
      "\u001b[1;36m  Cell \u001b[1;32mIn[16], line 29\u001b[1;36m\u001b[0m\n\u001b[1;33m    popup_html += f\"<tr><th style='text-align:left;'>Názov mosta:</th><td>{\u001b[0m\n\u001b[1;37m                  ^\u001b[0m\n\u001b[1;31mSyntaxError\u001b[0m\u001b[1;31m:\u001b[0m unterminated string literal (detected at line 29)\n"
     ]
    }
   ],
   "source": [
    "import folium\n",
    "\n",
    "\n",
    "def plot_filtered_bridges(df, gdf, regions):\n",
    "    # Find the average coordinates for the initial map center\n",
    "    avg_lat = df['Zemepisná_šírka'].mean()\n",
    "    avg_long = df['Zemepisná_dĺžka'].mean()\n",
    "\n",
    "    # Create the map with custom tileset\n",
    "    m = folium.Map(location=[avg_lat, avg_long],\n",
    "                   zoom_start=9, tiles=\"Cartodb positron\")\n",
    "\n",
    "    # Colors for the markers\n",
    "    colors = [\"#ff6600\", \"#0066FF\"]\n",
    "\n",
    "    # Bridge icon\n",
    "    bridge_icon_url = \"https://raw.githubusercontent.com/Medvedku/Assets/main/markers/bridge_marker_Cartodb_orng_blue.svg\"\n",
    "\n",
    "    # Add a marker for each bridge\n",
    "    for index, row in df.iterrows():\n",
    "        ic_size = 50\n",
    "        bridge_icon = folium.CustomIcon(\n",
    "            icon_image=bridge_icon_url,\n",
    "            icon_size=(ic_size, ic_size),\n",
    "            icon_anchor=(ic_size/2, ic_size)\n",
    "        )\n",
    "\n",
    "        popup_html = f\"<table style='width:400px;'>\"\n",
    "        popup_html += f\"<tr><th style='text-align:left;'>Názov mosta:</th><td>{\n",
    "            row['Názov_mosta']}</td></tr>\"\n",
    "        popup_html += f\"<tr><th style='text-align:left;'>Trieda PK:</th><td>{\n",
    "            row['Trieda_PK']}</td></tr>\"\n",
    "        \n",
    "        popup_html += \"<tr><th style='text-align:left;'>Dĺžka premostenia:</th><td>\"\n",
    "        if pd.notna(row['Dĺžka_premostenia']):\n",
    "            popup_html += f\"{float(row['Dĺžka_premostenia'])} m\"\n",
    "        else:\n",
    "            popup_html += \"Unknown\"\n",
    "        popup_html += \"</td></tr>\"\n",
    "\n",
    "        popup_html += f\"<tr><th style='text-align:left;'>Druh konštrukcie:</th><td>{\n",
    "            row['Druh_konštrukcie']}</td></tr>\"\n",
    "        popup_html += f\"<tr><th style='text-align:left;'>Materiál:</th><td>{\n",
    "            row['Material']}</td></tr>\"\n",
    "        popup_html += f\"<tr><th style='text-align:left;'>Rok postavenia:</th><td>{\n",
    "            row['Rok_postavenia']}</td></tr>\"\n",
    "        popup_html += f\"<tr><th style='text-align:left;'>GPS Coordinates:</th><td>({\n",
    "            row['Zemepisná_šírka']:.4f}, {row['Zemepisná_dĺžka']:.4f})</td></tr>\"\n",
    "        popup_html += f\"</table>\"\n",
    "\n",
    "        popup = folium.Popup(popup_html, parse_html=False)\n",
    "\n",
    "        tooltip_html = f\"<table style='width:50px;'>\"\n",
    "        tooltip_html += f\"<tr><th colspan='2' style='text-align:left;'>Most {\n",
    "            row['ID_mosta']}</th></tr>\"\n",
    "        tooltip_html += f\"<tr><td style='text-align:left;'>STS:</td><td>{\n",
    "            row['n_2023']}</td></tr>\"\n",
    "        tooltip_html += f\"</table>\"\n",
    "\n",
    "        # Add the marker with the custom icon and popup\n",
    "        folium.Marker(\n",
    "            [row['Zemepisná_šírka'], row['Zemepisná_dĺžka']],\n",
    "            icon=bridge_icon,\n",
    "            popup=popup,\n",
    "            tooltip=tooltip_html\n",
    "        ).add_to(m)\n",
    "\n",
    "    # Filter the GeoDataFrame to include only the specified regions\n",
    "    region_gdf = gdf[gdf['NM4'].isin(regions)]\n",
    "\n",
    "    # Define custom style for the regions' polygons\n",
    "    def style_function(x): return {\n",
    "        'fillColor': '#98d5f0', 'color': '#98d5f0', 'weight': 2}\n",
    "\n",
    "    # Add the boundaries of the specified regions to the map with the custom style\n",
    "    folium.GeoJson(region_gdf, name='Regions Boundaries',\n",
    "                   style_function=style_function).add_to(m)\n",
    "\n",
    "    return m\n",
    "\n",
    "\n",
    "# Usage example (replace 'filtered_bridges' with your filtered DataFrame and adjust regions as needed)\n",
    "regions_to_plot = ['Banskobystrický']\n",
    "map = plot_filtered_bridges(filtered_bridges, gdf, regions_to_plot)\n",
    "map.save('filtered_bridges.html')\n",
    "map"
   ]
  },
  {
   "cell_type": "code",
   "execution_count": null,
   "metadata": {},
   "outputs": [
    {
     "data": {
      "text/plain": [
       "n_2023\n",
       "5    26\n",
       "6    21\n",
       "7     2\n",
       "Name: count, dtype: int64"
      ]
     },
     "execution_count": 8,
     "metadata": {},
     "output_type": "execute_result"
    }
   ],
   "source": [
    "filtered_bridges[\"n_2023\"].value_counts()"
   ]
  },
  {
   "cell_type": "code",
   "execution_count": null,
   "metadata": {},
   "outputs": [
    {
     "data": {
      "text/plain": [
       "(854, 51)"
      ]
     },
     "execution_count": 10,
     "metadata": {},
     "output_type": "execute_result"
    }
   ],
   "source": [
    "# Filter bridges in the Nitra region with Trieda_PK as \"cesta I. triedy\" or \"cesta II. triedy\"\n",
    "filtered_bridges = df_bridges_all[\n",
    "   \n",
    "    (df_bridges_all['n_2023'] > 5) \n",
    "\n",
    "]\n",
    "\n",
    "# Display the filtered DataFrame\n",
    "filtered_bridges.shape"
   ]
  },
  {
   "cell_type": "code",
   "execution_count": null,
   "metadata": {},
   "outputs": [
    {
     "ename": "NameError",
     "evalue": "name 'df_bridges_all' is not defined",
     "output_type": "error",
     "traceback": [
      "\u001b[1;31m---------------------------------------------------------------------------\u001b[0m",
      "\u001b[1;31mNameError\u001b[0m                                 Traceback (most recent call last)",
      "Cell \u001b[1;32mIn[2], line 5\u001b[0m\n\u001b[0;32m      2\u001b[0m bridge_to_find \u001b[38;5;241m=\u001b[39m \u001b[38;5;124m\"\u001b[39m\u001b[38;5;124mM1892\u001b[39m\u001b[38;5;124m\"\u001b[39m\n\u001b[0;32m      4\u001b[0m \u001b[38;5;66;03m# Find the bridge in the DataFrame\u001b[39;00m\n\u001b[1;32m----> 5\u001b[0m bridge_info \u001b[38;5;241m=\u001b[39m \u001b[43mdf_bridges_all\u001b[49m[df_bridges_all[\u001b[38;5;124m'\u001b[39m\u001b[38;5;124mID_mosta\u001b[39m\u001b[38;5;124m'\u001b[39m] \u001b[38;5;241m==\u001b[39m bridge_to_find]\n\u001b[0;32m      7\u001b[0m \u001b[38;5;66;03m# Check if the bridge was found\u001b[39;00m\n\u001b[0;32m      8\u001b[0m \u001b[38;5;28;01mif\u001b[39;00m \u001b[38;5;129;01mnot\u001b[39;00m bridge_info\u001b[38;5;241m.\u001b[39mempty:\n\u001b[0;32m      9\u001b[0m     \u001b[38;5;66;03m# Print the requested information\u001b[39;00m\n",
      "\u001b[1;31mNameError\u001b[0m: name 'df_bridges_all' is not defined"
     ]
    }
   ],
   "source": [
    "# Define the bridge name to find\n",
    "bridge_to_find = \"M1892\"\n",
    "\n",
    "# Find the bridge in the DataFrame\n",
    "bridge_info = df_bridges_all[df_bridges_all['ID_mosta'] == bridge_to_find]\n",
    "\n",
    "# Check if the bridge was found\n",
    "if not bridge_info.empty:\n",
    "    # Print the requested information\n",
    "    print(f\"Správcovské Číslo:\\t{bridge_info['správcovské_číslo'].values[0]}\")\n",
    "    print(f\"Názov mosta:\\t\\t{bridge_info['Názov_mosta'].values[0]}\")\n",
    "    print(f\"Okres:\\t\\t\\t{bridge_info['Okres'].values[0]}\")\n",
    "    print(f\"Kraj:\\t\\t\\t{bridge_info['Kraj'].values[0]}\")\n",
    "    print(f\"Rok postavenia:\\t\\t{bridge_info['Rok_postavenia'].values[0]}\")\n",
    "    print(f\"Typ konštrukcie:\\t{bridge_info['Druh_konštrukcie'].values[0]}\")\n",
    "    print(f\"Materiál:\\t\\t{bridge_info['Material'].values[0]}\")\n",
    "    print(f\"Voľná šírka:\\t\\t{bridge_info['Volná_šírka_mosta'].values[0]}m\")\n",
    "    print(f\"Dĺžka premostenia:\\t{bridge_info['Dĺžka_premostenia'].values[0]}m\")\n",
    "    print(f\"Trieda PK:\\t\\t{bridge_info['Trieda_PK'].values[0]}\")\n",
    "    print(f\"Správca úseku:\\t\\t{bridge_info['Správca_úseku'].values[0]}\")\n",
    "    print(f\"Číslo PK:\\t\\t{bridge_info['Číslo_PK'].values[0]}\")\n",
    "\n",
    "    # Add GPS coordinates (latitude and longitude) rounded to 4 decimal places\n",
    "    lat = round(bridge_info['Zemepisná_šírka'].values[0], 5)\n",
    "    lon = round(bridge_info['Zemepisná_dĺžka'].values[0], 5)\n",
    "    print(f\"GPS Coordinates:\\t({lat}, {lon})\")\n",
    "\n",
    "    # Generate and print the Google Maps link\n",
    "    google_maps_link = f\"https://www.google.com/maps?q={lat},{lon}\"\n",
    "    print(f\"Google Maps Link:\\n{google_maps_link}\")\n",
    "\n",
    "    # Add condition values from n_2012 up to n_2023\n",
    "    conditions = [bridge_info[f'n_{year}'].values[0]\n",
    "                  for year in range(2012, 2024)]\n",
    "    print(f\"Conditions:\\t\\t{conditions}\")\n",
    "else:\n",
    "    print(f\"Bridge with ID '{bridge_to_find}' not found in the DataFrame.\")"
   ]
  },
  {
   "cell_type": "code",
   "execution_count": null,
   "metadata": {},
   "outputs": [
    {
     "data": {
      "text/plain": [
       "'2668-3_Most cez Ipeľ v obci Nitra nad Ipľom (571002-003)'"
      ]
     },
     "execution_count": 20,
     "metadata": {},
     "output_type": "execute_result"
    }
   ],
   "source": [
    "bridge_info.iloc[0][\"Názov_mosta\"]"
   ]
  },
  {
   "cell_type": "code",
   "execution_count": null,
   "metadata": {},
   "outputs": [
    {
     "data": {
      "text/plain": [
       "ID_mosta                                                                                  M4291\n",
       "Trieda_PK                                                                     cesta III. triedy\n",
       "Číslo_PK                                                                                   2668\n",
       "Most_DC                                                                         Dilatačný celok\n",
       "Názov_mosta                                   2668-3_Most cez Ipeľ v obci Nitra nad Ipľom (5...\n",
       "ID_DC                                                                                  M4291.01\n",
       "správcovské_číslo                                                                             3\n",
       "Zemepisná_dĺžka                                                                        19.77301\n",
       "Zemepisná_šírka                                                                        48.31872\n",
       "Výška                                                                                    182.31\n",
       "Druh_konštrukcie                                                                        trámová\n",
       "Material                                                          prefabrikovaný predpätý betón\n",
       "Normálna_zaťažiteľnosť                                                                      9.0\n",
       "Výhradná_zaťažiteľnosť_t                                                                   24.0\n",
       "Výnimočná_zaťažiteľnosť_t                                                                 105.0\n",
       "Spôsob_stanovenia                                                              statický výpočet\n",
       "Predmet_premostenia                                                                   Vodný tok\n",
       "Rok_postavenia                                                                             1956\n",
       "Zaťažovacia_trieda_STN                                                                        A\n",
       "Počet_otvorov                                                                               2.0\n",
       "Dĺžka_premostenia                                                                         33.32\n",
       "Dĺžka_nosnej_konštrukcie_m                                                                34.88\n",
       "Volná_šírka_mosta                                                                           7.5\n",
       "Šírka_medzi_obrubami_m                                                                      5.6\n",
       "Plocha_mosnej_konštrukcie_m2                                                             279.04\n",
       "Plocha_mosta_m2                                                                          266.56\n",
       "Vlastník_úseku                                                                            BB SK\n",
       "Správca_úseku                                                                         BBRSC-JUH\n",
       "Okres                                                                                   Lučenec\n",
       "Smer_úseku                                                                   oba smery trasy CK\n",
       "Typ_úseku                                                                     medzikrižovatkový\n",
       "Počiatočný_uzol                                                                      4622A18100\n",
       "Koncový_uzol                                                                         4622A03800\n",
       "úsek_ID                                                                                  281219\n",
       "úsekové_staničenie_začiatku_DC_m                                                           81.0\n",
       "Kilometrovníkové_staničenie_začiatku_DC_km                                            Nezistený\n",
       "Kumulatívne_staničenie_začiatku_DC_km                                                     4.274\n",
       "Poradie                                                                                     7.0\n",
       "Kraj                                                                            Banská Bystrica\n",
       "n_2012                                                                                        4\n",
       "n_2013                                                                                        4\n",
       "n_2014                                                                                        4\n",
       "n_2015                                                                                        4\n",
       "n_2016                                                                                        4\n",
       "n_2017                                                                                        4\n",
       "n_2018                                                                                        4\n",
       "n_2019                                                                                        4\n",
       "n_2020                                                                                        4\n",
       "n_2021                                                                                        4\n",
       "n_2022                                                                                        6\n",
       "n_2023                                                                                        7\n",
       "Name: 7111, dtype: object"
      ]
     },
     "execution_count": 19,
     "metadata": {},
     "output_type": "execute_result"
    }
   ],
   "source": [
    "bridge_info.iloc[0]"
   ]
  }
 ],
 "metadata": {
  "kernelspec": {
   "display_name": "Python 3",
   "language": "python",
   "name": "python3"
  },
  "language_info": {
   "codemirror_mode": {
    "name": "ipython",
    "version": 3
   },
   "file_extension": ".py",
   "mimetype": "text/x-python",
   "name": "python",
   "nbconvert_exporter": "python",
   "pygments_lexer": "ipython3",
   "version": "3.11.4"
  }
 },
 "nbformat": 4,
 "nbformat_minor": 2
}
