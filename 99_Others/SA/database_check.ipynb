{
 "cells": [
  {
   "cell_type": "code",
   "execution_count": null,
   "id": "f08f4757",
   "metadata": {},
   "outputs": [],
   "source": [
    "import pymongo\n",
    "import pandas as pd\n",
    "import plotly.express as px\n",
    "import plotly.graph_objs as go\n",
    "import numpy as np\n",
    "from bson import ObjectId"
   ]
  },
  {
   "cell_type": "code",
   "execution_count": null,
   "id": "95de92c9",
   "metadata": {},
   "outputs": [],
   "source": [
    "client = pymongo.MongoClient(\"mongodb://localhost:27017/\")\n",
    "\n",
    "db = client[\"SA\"]\n",
    "collection = db[\"PRJ-16\"]"
   ]
  },
  {
   "cell_type": "code",
   "execution_count": null,
   "id": "9fe3848f",
   "metadata": {},
   "outputs": [],
   "source": [
    "sensor_fields = [\"S7\", \"S8\", \"S9\", \"S10\", \"S11\", \"S12\", \"S13\", \"S14\",\n",
    "                 \"S15\", \"S16\", \"S17\", \"S18\", \"S19\", \"S20\",\n",
    "                 \"S21\", \"S22\", \"S23\", \"S24\", \"S25\", \"S26\", \"S27\", \"S28\", \"S29\"\n",
    "                 \"T1\", \"T2\", \"T3\", \"T4\", \"T5\", \"T6\"]\n",
    "\n",
    "# sensor_fields = [\"T5\", \"T6\"]\n",
    "\n",
    "pipeline = [\n",
    "    {\n",
    "        \"$project\": {\n",
    "            **{s: {\"$cond\": [{\"$gt\": [f\"${s}\", None]}, 1, 0]} for s in sensor_fields}\n",
    "        }\n",
    "    },\n",
    "    {\n",
    "        \"$group\": {\n",
    "            \"_id\": None,\n",
    "            **{f\"{s}_count\": {\"$sum\": f\"${s}\"} for s in sensor_fields}\n",
    "        }\n",
    "    }\n",
    "]\n",
    "\n",
    "result = list(collection.aggregate(pipeline))[0]"
   ]
  },
  {
   "cell_type": "code",
   "execution_count": null,
   "id": "dbfcd7eb",
   "metadata": {},
   "outputs": [],
   "source": [
    "result"
   ]
  },
  {
   "cell_type": "code",
   "execution_count": null,
   "id": "9aae600a",
   "metadata": {},
   "outputs": [],
   "source": [
    "from bson import ObjectId\n",
    "import pandas as pd\n",
    "import matplotlib.pyplot as plt\n",
    "\n",
    "sensor = \"S29\"\n",
    "value_field = \"s\"\n",
    "\n",
    "pipeline = [\n",
    "    {\n",
    "        \"$match\": {\n",
    "            f\"{sensor}.{value_field}\": {\"$exists\": True}\n",
    "        }\n",
    "    },\n",
    "    {\n",
    "        \"$project\": {\n",
    "            \"_id\": 0,\n",
    "            \"time\": {\"$toDate\": \"$_id\"},\n",
    "            \"value\": f\"${sensor}.{value_field}\"\n",
    "        }\n",
    "    },\n",
    "    {\n",
    "        \"$sort\": {\"time\": 1}\n",
    "    }\n",
    "]\n",
    "\n",
    "data = list(collection.aggregate(pipeline))\n",
    "df_s29 = pd.DataFrame(data)"
   ]
  },
  {
   "cell_type": "code",
   "execution_count": null,
   "id": "93386285",
   "metadata": {},
   "outputs": [],
   "source": [
    "import matplotlib.pyplot as plt\n",
    "import pandas as pd\n",
    "\n",
    "# Ensure datetime format\n",
    "df_s29[\"time\"] = pd.to_datetime(df_s29[\"time\"])\n",
    "\n",
    "# Extract year-month as string for grouping\n",
    "df_s29[\"year_month\"] = df_s29[\"time\"].dt.to_period(\"M\").astype(str)\n",
    "\n",
    "# Loop over each month\n",
    "for month, df_month in df_s29.groupby(\"year_month\"):\n",
    "    plt.figure(figsize=(12, 4))\n",
    "    plt.scatter(df_month[\"time\"], df_month[\"value\"],\n",
    "                s=8, color=\"#e65d19\", alpha=0.7)\n",
    "\n",
    "    plt.title(f\"S29 – Tribúna horná – {month}\")\n",
    "    plt.xlabel(\"Čas (UTC)\")\n",
    "    plt.ylabel(\"Surová hodnota [μstrain]\")\n",
    "    plt.grid(True, linestyle=\"--\", alpha=0.3)\n",
    "    plt.tight_layout()\n",
    "    plt.show()"
   ]
  },
  {
   "cell_type": "code",
   "execution_count": null,
   "id": "a37caacd",
   "metadata": {},
   "outputs": [],
   "source": [
    "sensor_colors = {\n",
    "    \"S7\": \"#1f77b4\",   \"S8\": \"#ff7f0e\",   \"S9\": \"#2ca02c\",   \"S10\": \"#d62728\",\n",
    "    \"S11\": \"#9467bd\",  \"S12\": \"#8c564b\",  \"S13\": \"#e377c2\",  \"S14\": \"#7f7f7f\",\n",
    "    \"S15\": \"#bcbd22\",  \"S16\": \"#17becf\",  \"S17\": \"#aec7e8\",  \"S18\": \"#ffbb78\",\n",
    "    \"S19\": \"#98df8a\",  \"S20\": \"#ff9896\",  \"S21\": \"#c5b0d5\",  \"S22\": \"#c49c94\",\n",
    "    \"S23\": \"#f7b6d2\",  \"S24\": \"#c7c7c7\",  \"S25\": \"#dbdb8d\",  \"S26\": \"#9edae5\",\n",
    "    \"S27\": \"#393b79\",  \"S28\": \"#637939\",  \"S29\": \"#e65d19\"\n",
    "}"
   ]
  },
  {
   "cell_type": "code",
   "execution_count": null,
   "id": "4614dc1e",
   "metadata": {},
   "outputs": [],
   "source": [
    "from bson import ObjectId\n",
    "import pandas as pd\n",
    "import matplotlib.pyplot as plt\n",
    "\n",
    "\n",
    "def plot_monthly_sensor_data(collection, sensor_id, color):\n",
    "    value_field = \"s\"\n",
    "\n",
    "    pipeline = [\n",
    "        {\n",
    "            \"$match\": {\n",
    "                f\"{sensor_id}.{value_field}\": {\"$exists\": True}\n",
    "            }\n",
    "        },\n",
    "        {\n",
    "            \"$project\": {\n",
    "                \"_id\": 0,\n",
    "                \"time\": {\"$toDate\": \"$_id\"},\n",
    "                \"value\": f\"${sensor_id}.{value_field}\"\n",
    "            }\n",
    "        },\n",
    "        {\n",
    "            \"$sort\": {\"time\": 1}\n",
    "        }\n",
    "    ]\n",
    "\n",
    "    data = list(collection.aggregate(pipeline))\n",
    "    if not data:\n",
    "        print(f\"No data for {sensor_id}\")\n",
    "        return\n",
    "\n",
    "    df = pd.DataFrame(data)\n",
    "    df[\"time\"] = pd.to_datetime(df[\"time\"])\n",
    "    df[\"year_month\"] = df[\"time\"].dt.to_period(\"M\").astype(str)\n",
    "\n",
    "    for month, df_month in df.groupby(\"year_month\"):\n",
    "        plt.figure(figsize=(12, 4))\n",
    "        plt.scatter(df_month[\"time\"], df_month[\"value\"],\n",
    "                    s=8, color=color, alpha=0.7)\n",
    "\n",
    "        plt.title(f\"{sensor_id} – {month}\")\n",
    "        plt.xlabel(\"Čas (UTC)\")\n",
    "        plt.ylabel(\"Surová hodnota [μstrain]\")\n",
    "        plt.grid(True, linestyle=\"--\", alpha=0.3)\n",
    "        plt.tight_layout()\n",
    "        plt.show()"
   ]
  },
  {
   "cell_type": "code",
   "execution_count": null,
   "id": "c6790f9c",
   "metadata": {},
   "outputs": [],
   "source": [
    "for sensor, color in sensor_colors.items():\n",
    "    plot_monthly_sensor_data(collection, sensor, color)"
   ]
  }
 ],
 "metadata": {
  "kernelspec": {
   "display_name": "Bridges_VENV",
   "language": "python",
   "name": "python3"
  },
  "language_info": {
   "codemirror_mode": {
    "name": "ipython",
    "version": 3
   },
   "file_extension": ".py",
   "mimetype": "text/x-python",
   "name": "python",
   "nbconvert_exporter": "python",
   "pygments_lexer": "ipython3",
   "version": "3.12.4"
  }
 },
 "nbformat": 4,
 "nbformat_minor": 5
}
