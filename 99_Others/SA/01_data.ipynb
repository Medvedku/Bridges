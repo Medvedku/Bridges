{
 "cells": [
  {
   "cell_type": "code",
   "execution_count": 1,
   "metadata": {},
   "outputs": [],
   "source": [
    "import pymongo\n",
    "\n",
    "client = pymongo.MongoClient(\"mongodb://localhost:27017/\")\n",
    "\n",
    "db = client[\"SteelArena\"]\n",
    "collection = db[\"Init\"]"
   ]
  },
  {
   "cell_type": "code",
   "execution_count": 2,
   "metadata": {},
   "outputs": [
    {
     "data": {
      "text/plain": [
       "2110844"
      ]
     },
     "execution_count": 2,
     "metadata": {},
     "output_type": "execute_result"
    }
   ],
   "source": [
    "# Count the total number of documents\n",
    "total_documents = collection.count_documents({})\n",
    "total_documents"
   ]
  },
  {
   "cell_type": "code",
   "execution_count": 3,
   "metadata": {},
   "outputs": [],
   "source": [
    "# Get a random document using aggregation with $sample\n",
    "random_document = collection.aggregate([{\"$sample\": {\"size\": 1}}]).next()\n",
    "# random_document"
   ]
  },
  {
   "cell_type": "code",
   "execution_count": 4,
   "metadata": {},
   "outputs": [
    {
     "name": "stdout",
     "output_type": "stream",
     "text": [
      "Number of documents: 65480\n"
     ]
    }
   ],
   "source": [
    "# Count the number of documents that match the criteria\n",
    "count = collection.count_documents({\"A31.fft\": {\"$exists\": True}})\n",
    "\n",
    "print(f\"Number of documents: {count}\")"
   ]
  },
  {
   "cell_type": "code",
   "execution_count": 14,
   "metadata": {},
   "outputs": [],
   "source": [
    "pipeline = [\n",
    "    {\"$sort\": {\"_id\": -1}},\n",
    "    {\"$match\": {\"A31.fft\": {\"$exists\": True}}},\n",
    "    {\"$skip\": 0},\n",
    "    {\"$limit\": 720}\n",
    "]\n",
    "\n",
    "results = list(collection.aggregate(pipeline))"
   ]
  },
  {
   "cell_type": "code",
   "execution_count": 15,
   "metadata": {},
   "outputs": [
    {
     "data": {
      "text/plain": [
       "{'datetime': '2024-08-16T10:31:01'}"
      ]
     },
     "execution_count": 15,
     "metadata": {},
     "output_type": "execute_result"
    }
   ],
   "source": [
    "results[0][\"time\"]"
   ]
  },
  {
   "cell_type": "code",
   "execution_count": 38,
   "metadata": {},
   "outputs": [],
   "source": [
    "import plotly.graph_objects as go\n",
    "from datetime import datetime\n",
    "\n",
    "\n",
    "def create_spectrum_plot(results, save_name=\"\"):\n",
    "    \"\"\"\n",
    "    Creates a spectrum plot from the given results and optionally saves it as a PNG file.\n",
    "    \n",
    "    Parameters:\n",
    "    - results: List of documents containing the spectrum data.\n",
    "    - save_name: String representing the filename to save the plot as a PNG. \n",
    "                 If empty, the plot will not be saved.\n",
    "    \"\"\"\n",
    "    # Initialize lists to store aggregated frequencies and amplitudes\n",
    "    all_frequencies = []\n",
    "    all_amplitudes = []\n",
    "\n",
    "    # Extract date from the first document's 'datetime' field and reformat it\n",
    "    date_str = results[0][\"time\"]['datetime'].split(\n",
    "        'T')[0]  # Extract the date portion\n",
    "    # Convert to datetime object\n",
    "    date_obj = datetime.strptime(date_str, '%Y-%m-%d')\n",
    "    # Format the date as DD.MMM.YYYY\n",
    "    formatted_date = date_obj.strftime('%d. %b. %Y')\n",
    "\n",
    "    # Loop through all documents in the results list\n",
    "    for document in results:\n",
    "        spectrum_data = document[\"A31\"][\"fft\"][\"spectrum\"]\n",
    "        frequencies = [entry['f'] for entry in spectrum_data]\n",
    "        amplitudes = [entry['a'] for entry in spectrum_data]\n",
    "\n",
    "        # Append data to the aggregated lists\n",
    "        all_frequencies.extend(frequencies)\n",
    "        all_amplitudes.extend(amplitudes)\n",
    "\n",
    "    # Create a scatter plot using Plotly\n",
    "    fig = go.Figure(data=[go.Scatter(\n",
    "        x=all_frequencies,\n",
    "        y=all_amplitudes,\n",
    "        mode='markers',\n",
    "        marker=dict(\n",
    "            size=10,\n",
    "            color='rgba(255,255,255,0)',  # Transparent inner circle\n",
    "            # Outer circle color and width\n",
    "            line=dict(color='#19C3E6', width=2),\n",
    "            opacity=0.7  # Transparency of the outer circle\n",
    "        )\n",
    "    )])\n",
    "\n",
    "\n",
    "\n",
    "    w_ = 1920\n",
    "    h_ = w_ * 9 / 16\n",
    "\n",
    "    # Update the layout for better readability, set the size, and change Y-axis to log scale\n",
    "    fig.update_layout(\n",
    "        title={\n",
    "            'text': 'Spektrum odozvy - Vrchol oblúka',\n",
    "            'font': {'size': 52}  # Set the title font size\n",
    "        },\n",
    "        xaxis_title={\n",
    "            'text': 'Frekvencia [Hz]',\n",
    "            'font': {'size': 48}  # Set the x-axis title font size\n",
    "        },\n",
    "        yaxis_title={\n",
    "            'text': 'Amplitúda',\n",
    "            'font': {'size': 48}  # Set the y-axis title font size\n",
    "        },\n",
    "        width=w_,  # Set the width of the plot\n",
    "        height=h_,  # Set the height of the plot\n",
    "        yaxis_type=\"log\",  # Set Y-axis to log scale\n",
    "        # Logarithmic scale from 1e-5 (10^-5) to 1 (10^0)\n",
    "        yaxis=dict(\n",
    "            range=[-1.3979, 0],\n",
    "            dtick=1,\n",
    "            tickfont={'size': 32}  # Set the y-ticks font size\n",
    "        ),\n",
    "        xaxis=dict(\n",
    "            range=[0, 100],  # Hardcoded X-axis limits from 0 to 100\n",
    "            tickfont={'size': 32}  # Set the x-ticks font size\n",
    "        ),\n",
    "        template='plotly',  # Use the default light theme\n",
    "\n",
    "        # Background colors\n",
    "        # Set the figure background color (around the plot)\n",
    "        paper_bgcolor='#FFFFFF',\n",
    "        # Set the plot area background color (where data is plotted)\n",
    "        plot_bgcolor='#EEEEEE',\n",
    "\n",
    "\n",
    "        annotations=[\n",
    "            go.layout.Annotation(\n",
    "                text=formatted_date,  # Display the formatted date\n",
    "                xref=\"paper\", yref=\"paper\",\n",
    "                x=1, y=0,  # Position it at the bottom right corner\n",
    "                showarrow=False,\n",
    "                font=dict(size=34, color=\"black\")  # Set the annotation font size\n",
    "            )\n",
    "        ]\n",
    "    )\n",
    "\n",
    "\n",
    "    # Show the plot\n",
    "    # fig.show()\n",
    "\n",
    "    # Save the figure as a PNG file if save_name is not empty\n",
    "    if save_name:\n",
    "        fig.write_image(f\"{save_name}.png\")\n",
    "\n",
    "# Example usage:\n",
    "create_spectrum_plot(results, save_name=\"kokso\")  # This will save the plot as \"combined_spectrum_plot.png\"\n",
    "# create_spectrum_plot(results)  # This will not save the plot"
   ]
  },
  {
   "cell_type": "code",
   "execution_count": 8,
   "metadata": {},
   "outputs": [
    {
     "name": "stdout",
     "output_type": "stream",
     "text": [
      "Number of unique days: 24\n"
     ]
    }
   ],
   "source": [
    "pipeline = [\n",
    "    {\"$match\": {\"A31.fft\": {\"$exists\": True}}},\n",
    "    {\"$project\": {\"date\": {\"$dateToString\": {\"format\": \"%Y-%m-%d\",\n",
    "                                             \"date\": {\"$dateFromString\": {\"dateString\": \"$time.datetime\"}}}}}},\n",
    "    {\"$group\": {\"_id\": \"$date\"}},\n",
    "    {\"$count\": \"unique_days\"}\n",
    "]\n",
    "\n",
    "result = list(collection.aggregate(pipeline))\n",
    "\n",
    "# Extract the count of unique days\n",
    "unique_days_count = result[0]['unique_days'] if result else 0\n",
    "\n",
    "print(f\"Number of unique days: {unique_days_count}\")"
   ]
  },
  {
   "cell_type": "code",
   "execution_count": 39,
   "metadata": {},
   "outputs": [
    {
     "ename": "TypeError",
     "evalue": "'NoneType' object is not subscriptable",
     "output_type": "error",
     "traceback": [
      "\u001b[1;31m---------------------------------------------------------------------------\u001b[0m",
      "\u001b[1;31mTypeError\u001b[0m                                 Traceback (most recent call last)",
      "Cell \u001b[1;32mIn[39], line 11\u001b[0m\n\u001b[0;32m      2\u001b[0m pipeline \u001b[38;5;241m=\u001b[39m [\n\u001b[0;32m      3\u001b[0m     {\u001b[38;5;124m\"\u001b[39m\u001b[38;5;124m$sort\u001b[39m\u001b[38;5;124m\"\u001b[39m: {\u001b[38;5;124m\"\u001b[39m\u001b[38;5;124m_id\u001b[39m\u001b[38;5;124m\"\u001b[39m: \u001b[38;5;241m-\u001b[39m\u001b[38;5;241m1\u001b[39m}},\n\u001b[0;32m      4\u001b[0m     {\u001b[38;5;124m\"\u001b[39m\u001b[38;5;124m$match\u001b[39m\u001b[38;5;124m\"\u001b[39m: {\u001b[38;5;124m\"\u001b[39m\u001b[38;5;124mA31.fft\u001b[39m\u001b[38;5;124m\"\u001b[39m: {\u001b[38;5;124m\"\u001b[39m\u001b[38;5;124m$exists\u001b[39m\u001b[38;5;124m\"\u001b[39m: \u001b[38;5;28;01mTrue\u001b[39;00m}}},\n\u001b[0;32m      5\u001b[0m     {\u001b[38;5;124m\"\u001b[39m\u001b[38;5;124m$skip\u001b[39m\u001b[38;5;124m\"\u001b[39m: i\u001b[38;5;241m*\u001b[39m\u001b[38;5;241m120\u001b[39m},\n\u001b[0;32m      6\u001b[0m     {\u001b[38;5;124m\"\u001b[39m\u001b[38;5;124m$limit\u001b[39m\u001b[38;5;124m\"\u001b[39m: \u001b[38;5;241m720\u001b[39m}\n\u001b[0;32m      7\u001b[0m ]\n\u001b[0;32m      9\u001b[0m results \u001b[38;5;241m=\u001b[39m \u001b[38;5;28mlist\u001b[39m(collection\u001b[38;5;241m.\u001b[39maggregate(pipeline))\n\u001b[1;32m---> 11\u001b[0m \u001b[43mcreate_spectrum_plot\u001b[49m\u001b[43m(\u001b[49m\u001b[43mresults\u001b[49m\u001b[43m,\u001b[49m\u001b[43m \u001b[49m\u001b[43msave_name\u001b[49m\u001b[38;5;241;43m=\u001b[39;49m\u001b[38;5;28;43mstr\u001b[39;49m\u001b[43m(\u001b[49m\u001b[43mi\u001b[49m\u001b[43m)\u001b[49m\u001b[43m)\u001b[49m\n",
      "Cell \u001b[1;32mIn[38], line 28\u001b[0m, in \u001b[0;36mcreate_spectrum_plot\u001b[1;34m(results, save_name)\u001b[0m\n\u001b[0;32m     26\u001b[0m \u001b[38;5;66;03m# Loop through all documents in the results list\u001b[39;00m\n\u001b[0;32m     27\u001b[0m \u001b[38;5;28;01mfor\u001b[39;00m document \u001b[38;5;129;01min\u001b[39;00m results:\n\u001b[1;32m---> 28\u001b[0m     spectrum_data \u001b[38;5;241m=\u001b[39m \u001b[43mdocument\u001b[49m\u001b[43m[\u001b[49m\u001b[38;5;124;43m\"\u001b[39;49m\u001b[38;5;124;43mA31\u001b[39;49m\u001b[38;5;124;43m\"\u001b[39;49m\u001b[43m]\u001b[49m\u001b[43m[\u001b[49m\u001b[38;5;124;43m\"\u001b[39;49m\u001b[38;5;124;43mfft\u001b[39;49m\u001b[38;5;124;43m\"\u001b[39;49m\u001b[43m]\u001b[49m\u001b[43m[\u001b[49m\u001b[38;5;124;43m\"\u001b[39;49m\u001b[38;5;124;43mspectrum\u001b[39;49m\u001b[38;5;124;43m\"\u001b[39;49m\u001b[43m]\u001b[49m\n\u001b[0;32m     29\u001b[0m     frequencies \u001b[38;5;241m=\u001b[39m [entry[\u001b[38;5;124m'\u001b[39m\u001b[38;5;124mf\u001b[39m\u001b[38;5;124m'\u001b[39m] \u001b[38;5;28;01mfor\u001b[39;00m entry \u001b[38;5;129;01min\u001b[39;00m spectrum_data]\n\u001b[0;32m     30\u001b[0m     amplitudes \u001b[38;5;241m=\u001b[39m [entry[\u001b[38;5;124m'\u001b[39m\u001b[38;5;124ma\u001b[39m\u001b[38;5;124m'\u001b[39m] \u001b[38;5;28;01mfor\u001b[39;00m entry \u001b[38;5;129;01min\u001b[39;00m spectrum_data]\n",
      "\u001b[1;31mTypeError\u001b[0m: 'NoneType' object is not subscriptable"
     ]
    }
   ],
   "source": [
    "for i in range(96*6):\n",
    "    pipeline = [\n",
    "        {\"$sort\": {\"_id\": -1}},\n",
    "        {\"$match\": {\"A31.fft\": {\"$exists\": True}}},\n",
    "        {\"$skip\": i*120},\n",
    "        {\"$limit\": 720}\n",
    "    ]\n",
    "\n",
    "    results = list(collection.aggregate(pipeline))\n",
    "\n",
    "    create_spectrum_plot(results, save_name=str(i))"
   ]
  }
 ],
 "metadata": {
  "kernelspec": {
   "display_name": "Bridges_VENV",
   "language": "python",
   "name": "python3"
  },
  "language_info": {
   "codemirror_mode": {
    "name": "ipython",
    "version": 3
   },
   "file_extension": ".py",
   "mimetype": "text/x-python",
   "name": "python",
   "nbconvert_exporter": "python",
   "pygments_lexer": "ipython3",
   "version": "3.12.4"
  }
 },
 "nbformat": 4,
 "nbformat_minor": 2
}
