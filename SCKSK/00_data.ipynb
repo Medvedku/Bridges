{
 "cells": [
  {
   "cell_type": "code",
   "execution_count": 2,
   "metadata": {},
   "outputs": [
    {
     "name": "stderr",
     "output_type": "stream",
     "text": [
      "C:\\Users\\Doktor\\AppData\\Local\\Temp\\ipykernel_18136\\232746929.py:12: DtypeWarning: Columns (5,16) have mixed types. Specify dtype option on import or set low_memory=False.\n",
      "  df_nodes = pd.read_csv(nodes_path, encoding='utf-8', delimiter=',')\n",
      "C:\\Users\\Doktor\\AppData\\Local\\Temp\\ipykernel_18136\\232746929.py:13: DtypeWarning: Columns (10,11,12,25,26,27) have mixed types. Specify dtype option on import or set low_memory=False.\n",
      "  df_roads = pd.read_csv(roads_path, encoding='utf-8', delimiter=',')\n"
     ]
    }
   ],
   "source": [
    "import pandas as pd\n",
    "\n",
    "# Define the file path\n",
    "nodes_path = r\"C:\\Users\\Doktor\\Documents\\GitHub\\Bridges\\Data\\Nodes_processed.csv\"\n",
    "roads_path = r\"C:\\Users\\Doktor\\Documents\\GitHub\\Bridges\\Data\\Roads_processed.csv\"\n",
    "bridges_path = r\"C:\\Users\\Doktor\\Documents\\GitHub\\Bridges\\Data\\Bridges_processed.csv\"\n",
    "bridges_selected_path = r\"C:\\Users\\Doktor\\Documents\\GitHub\\Bridges\\Data\\Bridges_selected.csv\"\n",
    "survey_path = r\"C:\\Users\\Doktor\\Documents\\GitHub\\Bridges\\Data\\surveys\\Survey.csv\"\n",
    "\n",
    "\n",
    "# Load the CSV data into a DataFrame\n",
    "df_nodes = pd.read_csv(nodes_path, encoding='utf-8', delimiter=',')\n",
    "df_roads = pd.read_csv(roads_path, encoding='utf-8', delimiter=',')\n",
    "df_bridges_all = pd.read_csv(bridges_path, encoding='utf-8', delimiter=',')\n",
    "df_bridges_sel = pd.read_csv(\n",
    "    bridges_selected_path, encoding='utf-8', delimiter=',')\n",
    "df_survey = pd.read_csv(survey_path, encoding='utf-8', delimiter=',')"
   ]
  },
  {
   "cell_type": "code",
   "execution_count": 4,
   "metadata": {},
   "outputs": [
    {
     "name": "stdout",
     "output_type": "stream",
     "text": [
      "Správcovské Číslo:\t32\n",
      "Názov mosta:\t\tMost cez inundačný kanál pred obcou Vojany\n",
      "Okres:\t\t\tMichalovce\n",
      "Kraj:\t\t\tKošice\n",
      "Rok postavenia:\t\t1963\n",
      "Typ konštrukcie:\ttrámová\n",
      "Materiál:\t\tprefabrikovaný predpätý betón\n",
      "Voľná šírka:\t\t10.5m\n",
      "Dĺžka premostenia:\t57.0m\n",
      "Trieda PK:\t\tcesta II. triedy\n",
      "GPS Coordinates:\t(48.57008, 21.97382)\n",
      "Google Maps Link:\n",
      "https://www.google.com/maps?q=48.57008,21.97382\n",
      "Conditions:\t\t[5, 5, 5, 5, 5, 6, 6, 6, 6, 6, 6, 6]\n"
     ]
    }
   ],
   "source": [
    "# Define the bridge name to find\n",
    "bridge_to_find = \"M1683\"\n",
    "\n",
    "# Find the bridge in the DataFrame\n",
    "bridge_info = df_bridges_all[df_bridges_all['ID_mosta'] == bridge_to_find]\n",
    "\n",
    "# Check if the bridge was found\n",
    "if not bridge_info.empty:\n",
    "    # Print the requested information\n",
    "    print(f\"Správcovské Číslo:\\t{bridge_info['správcovské_číslo'].values[0]}\")\n",
    "    print(f\"Názov mosta:\\t\\t{bridge_info['Názov_mosta'].values[0]}\")\n",
    "    print(f\"Okres:\\t\\t\\t{bridge_info['Okres'].values[0]}\")\n",
    "    print(f\"Kraj:\\t\\t\\t{bridge_info['Kraj'].values[0]}\")\n",
    "    print(f\"Rok postavenia:\\t\\t{bridge_info['Rok_postavenia'].values[0]}\")\n",
    "    print(f\"Typ konštrukcie:\\t{bridge_info['Druh_konštrukcie'].values[0]}\")\n",
    "    print(f\"Materiál:\\t\\t{bridge_info['Material'].values[0]}\")\n",
    "    print(f\"Voľná šírka:\\t\\t{bridge_info['Volná_šírka_mosta'].values[0]}m\")\n",
    "    print(f\"Dĺžka premostenia:\\t{bridge_info['Dĺžka_premostenia'].values[0]}m\")\n",
    "    print(f\"Trieda PK:\\t\\t{bridge_info['Trieda_PK'].values[0]}\")\n",
    "\n",
    "    # Add GPS coordinates (latitude and longitude) rounded to 4 decimal places\n",
    "    lat = round(bridge_info['Zemepisná_šírka'].values[0], 5)\n",
    "    lon = round(bridge_info['Zemepisná_dĺžka'].values[0], 5)\n",
    "    print(f\"GPS Coordinates:\\t({lat}, {lon})\")\n",
    "\n",
    "    # Generate and print the Google Maps link\n",
    "    google_maps_link = f\"https://www.google.com/maps?q={lat},{lon}\"\n",
    "    print(f\"Google Maps Link:\\n{google_maps_link}\")\n",
    "\n",
    "    # Add condition values from n_2012 up to n_2023\n",
    "    conditions = [bridge_info[f'n_{year}'].values[0]\n",
    "                  for year in range(2012, 2024)]\n",
    "    print(f\"Conditions:\\t\\t{conditions}\")\n",
    "else:\n",
    "    print(f\"Bridge with ID '{bridge_to_find}' not found in the DataFrame.\")"
   ]
  }
 ],
 "metadata": {
  "kernelspec": {
   "display_name": "Python 3",
   "language": "python",
   "name": "python3"
  },
  "language_info": {
   "codemirror_mode": {
    "name": "ipython",
    "version": 3
   },
   "file_extension": ".py",
   "mimetype": "text/x-python",
   "name": "python",
   "nbconvert_exporter": "python",
   "pygments_lexer": "ipython3",
   "version": "3.11.4"
  }
 },
 "nbformat": 4,
 "nbformat_minor": 2
}
