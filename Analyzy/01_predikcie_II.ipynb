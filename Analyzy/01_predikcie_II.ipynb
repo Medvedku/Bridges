{
 "cells": [
  {
   "cell_type": "code",
   "execution_count": 1,
   "metadata": {},
   "outputs": [
    {
     "name": "stderr",
     "output_type": "stream",
     "text": [
      "C:\\Users\\relia\\AppData\\Local\\Temp\\ipykernel_16200\\584243297.py:13: DtypeWarning: Columns (5,16) have mixed types. Specify dtype option on import or set low_memory=False.\n",
      "  df_nodes = pd.read_csv(nodes_path, encoding='utf-8', delimiter=',')\n",
      "C:\\Users\\relia\\AppData\\Local\\Temp\\ipykernel_16200\\584243297.py:14: DtypeWarning: Columns (10,11,12,25,26,27) have mixed types. Specify dtype option on import or set low_memory=False.\n",
      "  df_roads = pd.read_csv(roads_path, encoding='utf-8', delimiter=',')\n"
     ]
    }
   ],
   "source": [
    "import pandas as pd\n",
    "import pandas as pd\n",
    "import plotly.graph_objects as go\n",
    "import plotly.io as pio\n",
    "\n",
    "# ROBOTA\n",
    "nodes_path = r\"C:\\Users\\relia\\Documents\\GitHub\\Bridges\\Data\\Nodes_processed.csv\"\n",
    "roads_path = r\"C:\\Users\\relia\\Documents\\GitHub\\Bridges\\Data\\Roads_processed.csv\"\n",
    "bridges_path = r\"C:\\Users\\relia\\Documents\\GitHub\\Bridges\\Data\\df_bridges_2024_all.csv\"\n",
    "survey_path = r\"C:\\Users\\relia\\Documents\\GitHub\\Bridges\\Data\\surveys\\Survey.csv\"\n",
    "\n",
    "# Load the CSV data into a DataFrame\n",
    "df_nodes = pd.read_csv(nodes_path, encoding='utf-8', delimiter=',')\n",
    "df_roads = pd.read_csv(roads_path, encoding='utf-8', delimiter=',')\n",
    "df_bridges_all = pd.read_csv(bridges_path, encoding='utf-8', delimiter=',')\n",
    "df_survey = pd.read_csv(survey_path, encoding='utf-8', delimiter=',')"
   ]
  },
  {
   "cell_type": "code",
   "execution_count": 2,
   "metadata": {},
   "outputs": [
    {
     "data": {
      "text/plain": [
       "Index(['ID_mosta', 'Trieda_PK', 'Číslo_PK', 'Názov_mosta', 'správcovské_číslo',\n",
       "       'Zemepisná_šírka', 'Zemepisná_dĺžka', 'Výška', 'Druh_konštrukcie',\n",
       "       'Material', 'Normálna_zaťažiteľnosť', 'Výhradná_zaťažiteľnosť_t',\n",
       "       'Výnimočná_zaťažiteľnosť_t', 'Spôsob_stanovenia', 'Predmet_premostenia',\n",
       "       'Rok_postavenia', 'Zaťažovacia_trieda_STN', 'Počet_otvorov',\n",
       "       'Dĺžka_premostenia', 'Dĺžka_nosnej_konštrukcie_m', 'Volná_šírka_mosta',\n",
       "       'Šírka_medzi_obrubami_m', 'Plocha_mosnej_konštrukcie_m2',\n",
       "       'Plocha_mosta_m2', 'Vlastník_úseku', 'Správca_úseku', 'Okres',\n",
       "       'Počiatočný_uzol', 'Koncový_uzol', 'úsek_ID', 'Kraj', 'n_2012',\n",
       "       'n_2013', 'n_2014', 'n_2015', 'n_2016', 'n_2017', 'n_2018', 'n_2019',\n",
       "       'n_2020', 'n_2021', 'n_2022', 'n_2023', 'n_2024'],\n",
       "      dtype='object')"
      ]
     },
     "execution_count": 2,
     "metadata": {},
     "output_type": "execute_result"
    }
   ],
   "source": [
    "# Assuming df_bridges_all is your DataFrame\n",
    "columns_to_convert = ['Zemepisná_dĺžka', 'Zemepisná_šírka', 'Výška', 'Normálna_zaťažiteľnosť',\n",
    "                      'Výhradná_zaťažiteľnosť_t', 'Výnimočná_zaťažiteľnosť_t', 'Počet_otvorov',\n",
    "                      'Dĺžka_nosnej_konštrukcie_m', 'Dĺžka_premostenia', 'Volná_šírka_mosta',\n",
    "                      'Šírka_medzi_obrubami_m', 'Plocha_mosnej_konštrukcie_m2', 'Plocha_mosta_m2']\n",
    "\n",
    "# Convert specified columns to float\n",
    "df_bridges_all[columns_to_convert] = df_bridges_all[columns_to_convert].apply(\n",
    "    pd.to_numeric, errors='coerce')\n",
    "\n",
    "# Convert Rok_postavenia to integer, assign NaN if not possible\n",
    "df_bridges_all['Rok_postavenia'] = pd.to_numeric(\n",
    "    df_bridges_all['Rok_postavenia'], errors='coerce')\n",
    "\n",
    "df_bridges_all = df_bridges_all[df_bridges_all[\"n_2024\"] != 0]\n",
    "\n",
    "df_bridges_all.columns"
   ]
  },
  {
   "cell_type": "code",
   "execution_count": 3,
   "metadata": {},
   "outputs": [
    {
     "data": {
      "text/plain": [
       "Trieda_PK\n",
       "cesta III. triedy                      3967\n",
       "cesta I. triedy                        1913\n",
       "cesta II. triedy                       1472\n",
       "diaľnica                                771\n",
       "miestna neurčená                         56\n",
       "účelová cesta (UC)                       13\n",
       "II. trieda - miestna zberná (MZ)          2\n",
       "III. trieda - miestna obslužná (MO)       1\n",
       "Name: count, dtype: int64"
      ]
     },
     "execution_count": 3,
     "metadata": {},
     "output_type": "execute_result"
    }
   ],
   "source": [
    "df_bridges_all[\"Trieda_PK\"].value_counts()"
   ]
  },
  {
   "cell_type": "code",
   "execution_count": 4,
   "metadata": {},
   "outputs": [
    {
     "data": {
      "text/plain": [
       "((1913, 44), (1472, 44), (3967, 44))"
      ]
     },
     "execution_count": 4,
     "metadata": {},
     "output_type": "execute_result"
    }
   ],
   "source": [
    "filtered_bridges_I = df_bridges_all[\n",
    "    (df_bridges_all[\"Trieda_PK\"] == 'cesta I. triedy')\n",
    "]\n",
    "\n",
    "filtered_bridges_II = df_bridges_all[\n",
    "    (df_bridges_all[\"Trieda_PK\"] == 'cesta II. triedy')\n",
    "]\n",
    "\n",
    "filtered_bridges_III = df_bridges_all[\n",
    "    (df_bridges_all[\"Trieda_PK\"] == 'cesta III. triedy')\n",
    "]\n",
    "\n",
    "filtered_bridges_I = filtered_bridges_I[filtered_bridges_I[\"n_2024\"] != 0]\n",
    "filtered_bridges_II = filtered_bridges_II[filtered_bridges_II[\"n_2024\"] != 0]\n",
    "filtered_bridges_III = filtered_bridges_III[filtered_bridges_III[\"n_2024\"] != 0]\n",
    "\n",
    "filtered_bridges_I.shape, filtered_bridges_II.shape, filtered_bridges_III.shape"
   ]
  },
  {
   "cell_type": "code",
   "execution_count": 5,
   "metadata": {},
   "outputs": [],
   "source": [
    "import plotly.graph_objs as go\n",
    "def calculate_relative_condition_counts(data, start_year=2012, end_year=2024):\n",
    "    relative_counts = pd.DataFrame()\n",
    "\n",
    "    for year in range(start_year, end_year + 1):\n",
    "        column_name = f\"n_{year}\"\n",
    "        year_data = data[data[column_name] > 0]  # Exclude bridges not assessed\n",
    "        counts = year_data[column_name].value_counts().rename_axis(\n",
    "            'Condition').reset_index(name=column_name)\n",
    "        total = counts[column_name].sum()\n",
    "        counts[column_name] = (counts[column_name] / total) * 100\n",
    "\n",
    "        if relative_counts.empty:\n",
    "            relative_counts = counts\n",
    "        else:\n",
    "            relative_counts = pd.merge(\n",
    "                relative_counts, counts, on='Condition', how='outer')\n",
    "\n",
    "    relative_counts.fillna(0, inplace=True)\n",
    "    relative_counts.sort_values('Condition', inplace=True)\n",
    "    return relative_counts\n",
    "\n",
    "\n",
    "def calculate_absolute_condition_counts(data, start_year=2012, end_year=2024):\n",
    "    absolute_counts = pd.DataFrame()\n",
    "\n",
    "    for year in range(start_year, end_year + 1):\n",
    "        column_name = f\"n_{year}\"\n",
    "        year_data = data[data[column_name] > 0]  # Exclude bridges not assessed\n",
    "        counts = year_data[column_name].value_counts().rename_axis(\n",
    "            'Condition').reset_index(name=column_name)\n",
    "\n",
    "        if absolute_counts.empty:\n",
    "            absolute_counts = counts\n",
    "        else:\n",
    "            absolute_counts = pd.merge(\n",
    "                absolute_counts, counts, on='Condition', how='outer')\n",
    "\n",
    "    absolute_counts.fillna(0, inplace=True)\n",
    "    absolute_counts.sort_values('Condition', inplace=True)\n",
    "    return absolute_counts\n",
    "\n",
    "\n",
    "def create_plot(relative_counts, title, filename, start_year=2012, end_year=2024, b=500, h=500):\n",
    "    color_palette = ['#46a7a2', '#e7a564', '#8bae7c',\n",
    "                     '#353a29', '#eae1a9', '#c25469', '#2d505d']\n",
    "\n",
    "    # Set up the years range based on start and end year\n",
    "    years = [f\"n_{year}\" for year in range(start_year, end_year + 1)]\n",
    "    display_years = [str(year) for year in range(start_year, end_year + 1)]\n",
    "\n",
    "    # Adjust data for plotting\n",
    "    data_for_plotting = relative_counts.set_index(\n",
    "        'Condition')[years].T.reset_index()\n",
    "    data_for_plotting.rename(columns={'index': 'Year'}, inplace=True)\n",
    "    data_for_plotting['Year'] = display_years\n",
    "\n",
    "    fig = go.Figure()\n",
    "\n",
    "    for i, condition in reversed(list(enumerate(relative_counts['Condition'].unique()))):\n",
    "        fig.add_trace(go.Scatter(\n",
    "            x=data_for_plotting['Year'],\n",
    "            y=data_for_plotting[condition],\n",
    "            mode='lines',\n",
    "            stackgroup='one',\n",
    "            name=str(condition),\n",
    "            line=dict(color=color_palette[i % len(color_palette)])\n",
    "        ))\n",
    "\n",
    "    fig.update_layout(\n",
    "        title=title,\n",
    "        yaxis_title='percentuálne zastúpenie',\n",
    "        yaxis=dict(ticksuffix=\"%\", range=[0, 100]),\n",
    "        font=dict(family=\"Calibri, sans-serif\", size=14),\n",
    "        legend=dict(\n",
    "            orientation=\"h\",\n",
    "            yanchor=\"top\",\n",
    "            y=1.080,\n",
    "            xanchor=\"right\",\n",
    "            x=1\n",
    "        ),\n",
    "        xaxis=dict(\n",
    "            tickvals=[str(year) for year in range(start_year, end_year + 1)],\n",
    "            ticktext=[\n",
    "                f\"'{str(year)[-2:]}\" for year in range(start_year, end_year + 1)]\n",
    "        ),\n",
    "        plot_bgcolor='#EEEEEE',\n",
    "        margin=dict(l=0, r=20, t=75, b=25),\n",
    "        width=b,\n",
    "        height=h\n",
    "    )\n",
    "\n",
    "    fig.show()"
   ]
  },
  {
   "cell_type": "code",
   "execution_count": 6,
   "metadata": {},
   "outputs": [],
   "source": [
    "relative_condition_counts_II = calculate_relative_condition_counts(\n",
    "    filtered_bridges_II)"
   ]
  },
  {
   "cell_type": "markdown",
   "metadata": {},
   "source": [
    "## Relatívne"
   ]
  },
  {
   "cell_type": "code",
   "execution_count": 7,
   "metadata": {},
   "outputs": [
    {
     "name": "stdout",
     "output_type": "stream",
     "text": [
      "   Condition  Predicted_2024  Actual_2024\n",
      "0          1        2.223245     3.192935\n",
      "1          2        4.378631     3.328804\n",
      "2          3       11.194765    16.372283\n",
      "3          4       41.819102    40.013587\n",
      "4          5       25.734843    25.067935\n",
      "5          6       13.485909    11.141304\n",
      "6          7        1.157138     0.883152\n"
     ]
    }
   ],
   "source": [
    "import pandas as pd\n",
    "from sklearn.linear_model import LinearRegression\n",
    "from sklearn.preprocessing import PolynomialFeatures\n",
    "import numpy as np\n",
    "\n",
    "# Adjust years to match the column names in the format 'n_2012', 'n_2013', etc.\n",
    "years = [f\"n_{year}\" for year in range(2012, 2024)]\n",
    "# Years as integers for model input\n",
    "X_train = np.array(range(2012, 2024)).reshape(-1, 1)\n",
    "\n",
    "predictions = {}\n",
    "\n",
    "# Use PolynomialFeatures to generate polynomial terms\n",
    "degree = 3  # You can adjust this to 3 or higher if needed\n",
    "poly = PolynomialFeatures(degree=degree)\n",
    "\n",
    "# Transform X_train to include polynomial terms\n",
    "X_train_poly = poly.fit_transform(X_train)\n",
    "\n",
    "for condition in relative_condition_counts_II['Condition'].unique():\n",
    "    # Select condition data from 2012 to 2023 for the current condition\n",
    "    y_train = relative_condition_counts_II.loc[\n",
    "        relative_condition_counts_II['Condition'] == condition, years\n",
    "    ].values.flatten()\n",
    "\n",
    "    # Train a Linear Regression model with polynomial features\n",
    "    model = LinearRegression()\n",
    "    model.fit(X_train_poly, y_train)\n",
    "\n",
    "    # Predict for 2024 with polynomial features\n",
    "    X_test_poly = poly.transform(np.array([[2024]]))\n",
    "    prediction_2024 = model.predict(X_test_poly)\n",
    "    predictions[condition] = prediction_2024[0]\n",
    "\n",
    "# Combine predictions with actual values for comparison\n",
    "actual_2024 = relative_condition_counts_II.set_index('Condition')['n_2024']\n",
    "predictions_df = pd.DataFrame({\n",
    "    'Condition': predictions.keys(),\n",
    "    'Predicted_2024': predictions.values(),\n",
    "    'Actual_2024': actual_2024\n",
    "}).reset_index(drop=True)\n",
    "\n",
    "print(predictions_df)"
   ]
  },
  {
   "cell_type": "code",
   "execution_count": 11,
   "metadata": {},
   "outputs": [
    {
     "data": {
      "text/html": [
       "<div>\n",
       "<style scoped>\n",
       "    .dataframe tbody tr th:only-of-type {\n",
       "        vertical-align: middle;\n",
       "    }\n",
       "\n",
       "    .dataframe tbody tr th {\n",
       "        vertical-align: top;\n",
       "    }\n",
       "\n",
       "    .dataframe thead th {\n",
       "        text-align: right;\n",
       "    }\n",
       "</style>\n",
       "<table border=\"1\" class=\"dataframe\">\n",
       "  <thead>\n",
       "    <tr style=\"text-align: right;\">\n",
       "      <th></th>\n",
       "      <th>Condition</th>\n",
       "      <th>n_2012</th>\n",
       "      <th>n_2013</th>\n",
       "      <th>n_2014</th>\n",
       "      <th>n_2015</th>\n",
       "      <th>n_2016</th>\n",
       "      <th>n_2017</th>\n",
       "      <th>n_2018</th>\n",
       "      <th>n_2019</th>\n",
       "      <th>n_2020</th>\n",
       "      <th>n_2021</th>\n",
       "      <th>n_2022</th>\n",
       "      <th>n_2023</th>\n",
       "      <th>n_2024</th>\n",
       "      <th>n_2025</th>\n",
       "      <th>n_2026</th>\n",
       "    </tr>\n",
       "  </thead>\n",
       "  <tbody>\n",
       "    <tr>\n",
       "      <th>0</th>\n",
       "      <td>1</td>\n",
       "      <td>5.605536</td>\n",
       "      <td>5.605536</td>\n",
       "      <td>5.190311</td>\n",
       "      <td>5.106970</td>\n",
       "      <td>5.175983</td>\n",
       "      <td>4.419890</td>\n",
       "      <td>4.416839</td>\n",
       "      <td>4.315068</td>\n",
       "      <td>3.274216</td>\n",
       "      <td>2.385821</td>\n",
       "      <td>2.453988</td>\n",
       "      <td>2.653061</td>\n",
       "      <td>3.192935</td>\n",
       "      <td>3.411515</td>\n",
       "      <td>4.207007</td>\n",
       "    </tr>\n",
       "    <tr>\n",
       "      <th>1</th>\n",
       "      <td>2</td>\n",
       "      <td>9.688581</td>\n",
       "      <td>9.757785</td>\n",
       "      <td>8.996540</td>\n",
       "      <td>8.419600</td>\n",
       "      <td>6.763285</td>\n",
       "      <td>6.146409</td>\n",
       "      <td>5.590062</td>\n",
       "      <td>5.958904</td>\n",
       "      <td>4.229195</td>\n",
       "      <td>5.044308</td>\n",
       "      <td>4.567144</td>\n",
       "      <td>3.877551</td>\n",
       "      <td>3.328804</td>\n",
       "      <td>3.452665</td>\n",
       "      <td>3.367253</td>\n",
       "    </tr>\n",
       "    <tr>\n",
       "      <th>2</th>\n",
       "      <td>3</td>\n",
       "      <td>47.474048</td>\n",
       "      <td>47.128028</td>\n",
       "      <td>46.435986</td>\n",
       "      <td>44.858523</td>\n",
       "      <td>42.305038</td>\n",
       "      <td>40.193370</td>\n",
       "      <td>37.681159</td>\n",
       "      <td>35.205479</td>\n",
       "      <td>27.899045</td>\n",
       "      <td>22.835719</td>\n",
       "      <td>19.086571</td>\n",
       "      <td>16.666667</td>\n",
       "      <td>16.372283</td>\n",
       "      <td>13.472029</td>\n",
       "      <td>13.123351</td>\n",
       "    </tr>\n",
       "    <tr>\n",
       "      <th>3</th>\n",
       "      <td>4</td>\n",
       "      <td>29.134948</td>\n",
       "      <td>29.134948</td>\n",
       "      <td>30.449827</td>\n",
       "      <td>31.815045</td>\n",
       "      <td>34.851622</td>\n",
       "      <td>37.085635</td>\n",
       "      <td>37.819186</td>\n",
       "      <td>38.287671</td>\n",
       "      <td>42.974079</td>\n",
       "      <td>44.512611</td>\n",
       "      <td>44.239945</td>\n",
       "      <td>42.789116</td>\n",
       "      <td>40.013587</td>\n",
       "      <td>36.749189</td>\n",
       "      <td>31.236781</td>\n",
       "    </tr>\n",
       "    <tr>\n",
       "      <th>4</th>\n",
       "      <td>5</td>\n",
       "      <td>6.159170</td>\n",
       "      <td>6.435986</td>\n",
       "      <td>6.505190</td>\n",
       "      <td>7.246377</td>\n",
       "      <td>8.419600</td>\n",
       "      <td>8.632597</td>\n",
       "      <td>10.559006</td>\n",
       "      <td>11.438356</td>\n",
       "      <td>15.347885</td>\n",
       "      <td>17.518746</td>\n",
       "      <td>19.768234</td>\n",
       "      <td>22.244898</td>\n",
       "      <td>25.067935</td>\n",
       "      <td>28.307797</td>\n",
       "      <td>31.485755</td>\n",
       "    </tr>\n",
       "    <tr>\n",
       "      <th>5</th>\n",
       "      <td>6</td>\n",
       "      <td>1.799308</td>\n",
       "      <td>1.799308</td>\n",
       "      <td>2.352941</td>\n",
       "      <td>2.484472</td>\n",
       "      <td>2.415459</td>\n",
       "      <td>3.383978</td>\n",
       "      <td>3.864734</td>\n",
       "      <td>4.726027</td>\n",
       "      <td>6.207367</td>\n",
       "      <td>7.634628</td>\n",
       "      <td>9.338787</td>\n",
       "      <td>11.020408</td>\n",
       "      <td>11.141304</td>\n",
       "      <td>13.254310</td>\n",
       "      <td>14.732566</td>\n",
       "    </tr>\n",
       "    <tr>\n",
       "      <th>6</th>\n",
       "      <td>7</td>\n",
       "      <td>0.138408</td>\n",
       "      <td>0.138408</td>\n",
       "      <td>0.069204</td>\n",
       "      <td>0.069013</td>\n",
       "      <td>0.069013</td>\n",
       "      <td>0.138122</td>\n",
       "      <td>0.069013</td>\n",
       "      <td>0.068493</td>\n",
       "      <td>0.068213</td>\n",
       "      <td>0.068166</td>\n",
       "      <td>0.545331</td>\n",
       "      <td>0.748299</td>\n",
       "      <td>0.883152</td>\n",
       "      <td>1.356861</td>\n",
       "      <td>1.852280</td>\n",
       "    </tr>\n",
       "  </tbody>\n",
       "</table>\n",
       "</div>"
      ],
      "text/plain": [
       "   Condition     n_2012     n_2013     n_2014     n_2015     n_2016  \\\n",
       "0          1   5.605536   5.605536   5.190311   5.106970   5.175983   \n",
       "1          2   9.688581   9.757785   8.996540   8.419600   6.763285   \n",
       "2          3  47.474048  47.128028  46.435986  44.858523  42.305038   \n",
       "3          4  29.134948  29.134948  30.449827  31.815045  34.851622   \n",
       "4          5   6.159170   6.435986   6.505190   7.246377   8.419600   \n",
       "5          6   1.799308   1.799308   2.352941   2.484472   2.415459   \n",
       "6          7   0.138408   0.138408   0.069204   0.069013   0.069013   \n",
       "\n",
       "      n_2017     n_2018     n_2019     n_2020     n_2021     n_2022  \\\n",
       "0   4.419890   4.416839   4.315068   3.274216   2.385821   2.453988   \n",
       "1   6.146409   5.590062   5.958904   4.229195   5.044308   4.567144   \n",
       "2  40.193370  37.681159  35.205479  27.899045  22.835719  19.086571   \n",
       "3  37.085635  37.819186  38.287671  42.974079  44.512611  44.239945   \n",
       "4   8.632597  10.559006  11.438356  15.347885  17.518746  19.768234   \n",
       "5   3.383978   3.864734   4.726027   6.207367   7.634628   9.338787   \n",
       "6   0.138122   0.069013   0.068493   0.068213   0.068166   0.545331   \n",
       "\n",
       "      n_2023     n_2024     n_2025     n_2026  \n",
       "0   2.653061   3.192935   3.411515   4.207007  \n",
       "1   3.877551   3.328804   3.452665   3.367253  \n",
       "2  16.666667  16.372283  13.472029  13.123351  \n",
       "3  42.789116  40.013587  36.749189  31.236781  \n",
       "4  22.244898  25.067935  28.307797  31.485755  \n",
       "5  11.020408  11.141304  13.254310  14.732566  \n",
       "6   0.748299   0.883152   1.356861   1.852280  "
      ]
     },
     "execution_count": 11,
     "metadata": {},
     "output_type": "execute_result"
    }
   ],
   "source": [
    "import pandas as pd\n",
    "from sklearn.linear_model import LinearRegression\n",
    "from sklearn.preprocessing import PolynomialFeatures\n",
    "import numpy as np\n",
    "\n",
    "# Create a copy of the original DataFrame to avoid modifying it\n",
    "df_predictions = relative_condition_counts_II.copy()\n",
    "\n",
    "# Extend years to 2035 in the format 'n_2012', 'n_2013', ..., 'n_2035'\n",
    "years = [f\"n_{year}\" for year in range(2012, 2027)]\n",
    "# Prepare X values for model training and predictions (from 2012 to 2035)\n",
    "X = np.array(range(2012, 2027 + 1)).reshape(-1, 1)\n",
    "\n",
    "# Initialize PolynomialFeatures with desired degree (adjust as necessary)\n",
    "degree = 3\n",
    "poly = PolynomialFeatures(degree=degree)\n",
    "X_poly = poly.fit_transform(X)\n",
    "\n",
    "# Initialize dictionary to store predictions for each condition\n",
    "future_predictions = {f\"n_{year}\": [] for year in range(2025, 2027)}\n",
    "\n",
    "for condition in df_predictions['Condition'].unique():\n",
    "    # Train model on the entire data from 2012 to 2024 for the current condition\n",
    "    y = df_predictions.loc[\n",
    "        df_predictions['Condition'] == condition,\n",
    "        [f\"n_{year}\" for year in range(2012, 2025)]\n",
    "    ].values.flatten()\n",
    "\n",
    "    # Train a Linear Regression model with polynomial features\n",
    "    model = LinearRegression()\n",
    "    model.fit(X_poly[:len(y)], y)\n",
    "\n",
    "    # Predict values from 2025 to 2035\n",
    "    for year in range(2025, 2027):\n",
    "        X_test_poly = poly.transform(np.array([[year]]))\n",
    "        future_predictions[f\"n_{year}\"].append(model.predict(X_test_poly)[0])\n",
    "\n",
    "# Append predictions to the DataFrame\n",
    "for year in range(2025, 2027):\n",
    "    df_predictions[f\"n_{year}\"] = future_predictions[f\"n_{year}\"]\n",
    "\n",
    "# Display the updated DataFrame with predictions for 2025-2035\n",
    "df_predictions"
   ]
  },
  {
   "cell_type": "code",
   "execution_count": 12,
   "metadata": {},
   "outputs": [],
   "source": [
    "# Calculate the total sum of the values\n",
    "total_sum = df_predictions[\"n_2025\"].sum()\n",
    "\n",
    "# Normalize the values to make the sum 100\n",
    "df_predictions[\"n_2025\"] = (\n",
    "    df_predictions[\"n_2025\"] / total_sum) * 100\n",
    "\n",
    "# Calculate the total sum of the values\n",
    "total_sum = df_predictions[\"n_2026\"].sum()\n",
    "\n",
    "# Normalize the values to make the sum 100\n",
    "df_predictions[\"n_2026\"] = (\n",
    "    df_predictions[\"n_2026\"] / total_sum) * 100"
   ]
  },
  {
   "cell_type": "code",
   "execution_count": 13,
   "metadata": {},
   "outputs": [
    {
     "data": {
      "application/vnd.plotly.v1+json": {
       "config": {
        "plotlyServerURL": "https://plot.ly"
       },
       "data": [
        {
         "line": {
          "color": "#2d505d"
         },
         "mode": "lines",
         "name": "7",
         "stackgroup": "one",
         "type": "scatter",
         "x": [
          "2012",
          "2013",
          "2014",
          "2015",
          "2016",
          "2017",
          "2018",
          "2019",
          "2020",
          "2021",
          "2022",
          "2023",
          "2024"
         ],
         "y": [
          0.13840830449826988,
          0.13840830449826988,
          0.06920415224913494,
          0.06901311249137336,
          0.06901311249137336,
          0.13812154696132595,
          0.06901311249137336,
          0.0684931506849315,
          0.06821282401091405,
          0.0681663258350375,
          0.5453306066803,
          0.7482993197278911,
          0.8831521739130435
         ]
        },
        {
         "line": {
          "color": "#c25469"
         },
         "mode": "lines",
         "name": "6",
         "stackgroup": "one",
         "type": "scatter",
         "x": [
          "2012",
          "2013",
          "2014",
          "2015",
          "2016",
          "2017",
          "2018",
          "2019",
          "2020",
          "2021",
          "2022",
          "2023",
          "2024"
         ],
         "y": [
          1.799307958477509,
          1.799307958477509,
          2.3529411764705883,
          2.484472049689441,
          2.4154589371980677,
          3.3839779005524857,
          3.864734299516908,
          4.726027397260274,
          6.207366984993179,
          7.6346284935241995,
          9.338786639400135,
          11.020408163265307,
          11.141304347826086
         ]
        },
        {
         "line": {
          "color": "#eae1a9"
         },
         "mode": "lines",
         "name": "5",
         "stackgroup": "one",
         "type": "scatter",
         "x": [
          "2012",
          "2013",
          "2014",
          "2015",
          "2016",
          "2017",
          "2018",
          "2019",
          "2020",
          "2021",
          "2022",
          "2023",
          "2024"
         ],
         "y": [
          6.159169550173011,
          6.43598615916955,
          6.505190311418685,
          7.246376811594203,
          8.41959972394755,
          8.632596685082873,
          10.559006211180124,
          11.438356164383562,
          15.34788540245566,
          17.518745739604636,
          19.76823449216087,
          22.244897959183675,
          25.0679347826087
         ]
        },
        {
         "line": {
          "color": "#353a29"
         },
         "mode": "lines",
         "name": "4",
         "stackgroup": "one",
         "type": "scatter",
         "x": [
          "2012",
          "2013",
          "2014",
          "2015",
          "2016",
          "2017",
          "2018",
          "2019",
          "2020",
          "2021",
          "2022",
          "2023",
          "2024"
         ],
         "y": [
          29.134948096885815,
          29.134948096885815,
          30.44982698961938,
          31.815044858523116,
          34.85162180814355,
          37.08563535911602,
          37.819185645272604,
          38.28767123287671,
          42.97407912687585,
          44.51261077027948,
          44.23994546693933,
          42.7891156462585,
          40.01358695652174
         ]
        },
        {
         "line": {
          "color": "#8bae7c"
         },
         "mode": "lines",
         "name": "3",
         "stackgroup": "one",
         "type": "scatter",
         "x": [
          "2012",
          "2013",
          "2014",
          "2015",
          "2016",
          "2017",
          "2018",
          "2019",
          "2020",
          "2021",
          "2022",
          "2023",
          "2024"
         ],
         "y": [
          47.47404844290657,
          47.1280276816609,
          46.43598615916955,
          44.858523119392686,
          42.30503795721187,
          40.193370165745854,
          37.68115942028986,
          35.205479452054796,
          27.89904502046385,
          22.83571915473756,
          19.0865712338105,
          16.666666666666664,
          16.372282608695652
         ]
        },
        {
         "line": {
          "color": "#e7a564"
         },
         "mode": "lines",
         "name": "2",
         "stackgroup": "one",
         "type": "scatter",
         "x": [
          "2012",
          "2013",
          "2014",
          "2015",
          "2016",
          "2017",
          "2018",
          "2019",
          "2020",
          "2021",
          "2022",
          "2023",
          "2024"
         ],
         "y": [
          9.688581314878892,
          9.757785467128027,
          8.996539792387544,
          8.41959972394755,
          6.763285024154589,
          6.1464088397790055,
          5.590062111801243,
          5.9589041095890405,
          4.229195088676671,
          5.044308111792774,
          4.567143830947512,
          3.877551020408163,
          3.3288043478260874
         ]
        },
        {
         "line": {
          "color": "#46a7a2"
         },
         "mode": "lines",
         "name": "1",
         "stackgroup": "one",
         "type": "scatter",
         "x": [
          "2012",
          "2013",
          "2014",
          "2015",
          "2016",
          "2017",
          "2018",
          "2019",
          "2020",
          "2021",
          "2022",
          "2023",
          "2024"
         ],
         "y": [
          5.6055363321799305,
          5.6055363321799305,
          5.190311418685121,
          5.106970324361629,
          5.175983436853002,
          4.41988950276243,
          4.416839199447895,
          4.315068493150685,
          3.2742155525238745,
          2.3858214042263124,
          2.4539877300613497,
          2.6530612244897958,
          3.192934782608696
         ]
        }
       ],
       "layout": {
        "font": {
         "family": "Calibri, sans-serif",
         "size": 14
        },
        "height": 500,
        "legend": {
         "orientation": "h",
         "x": 1,
         "xanchor": "right",
         "y": 1.08,
         "yanchor": "top"
        },
        "margin": {
         "b": 25,
         "l": 0,
         "r": 20,
         "t": 75
        },
        "plot_bgcolor": "#EEEEEE",
        "template": {
         "data": {
          "bar": [
           {
            "error_x": {
             "color": "#2a3f5f"
            },
            "error_y": {
             "color": "#2a3f5f"
            },
            "marker": {
             "line": {
              "color": "#E5ECF6",
              "width": 0.5
             },
             "pattern": {
              "fillmode": "overlay",
              "size": 10,
              "solidity": 0.2
             }
            },
            "type": "bar"
           }
          ],
          "barpolar": [
           {
            "marker": {
             "line": {
              "color": "#E5ECF6",
              "width": 0.5
             },
             "pattern": {
              "fillmode": "overlay",
              "size": 10,
              "solidity": 0.2
             }
            },
            "type": "barpolar"
           }
          ],
          "carpet": [
           {
            "aaxis": {
             "endlinecolor": "#2a3f5f",
             "gridcolor": "white",
             "linecolor": "white",
             "minorgridcolor": "white",
             "startlinecolor": "#2a3f5f"
            },
            "baxis": {
             "endlinecolor": "#2a3f5f",
             "gridcolor": "white",
             "linecolor": "white",
             "minorgridcolor": "white",
             "startlinecolor": "#2a3f5f"
            },
            "type": "carpet"
           }
          ],
          "choropleth": [
           {
            "colorbar": {
             "outlinewidth": 0,
             "ticks": ""
            },
            "type": "choropleth"
           }
          ],
          "contour": [
           {
            "colorbar": {
             "outlinewidth": 0,
             "ticks": ""
            },
            "colorscale": [
             [
              0,
              "#0d0887"
             ],
             [
              0.1111111111111111,
              "#46039f"
             ],
             [
              0.2222222222222222,
              "#7201a8"
             ],
             [
              0.3333333333333333,
              "#9c179e"
             ],
             [
              0.4444444444444444,
              "#bd3786"
             ],
             [
              0.5555555555555556,
              "#d8576b"
             ],
             [
              0.6666666666666666,
              "#ed7953"
             ],
             [
              0.7777777777777778,
              "#fb9f3a"
             ],
             [
              0.8888888888888888,
              "#fdca26"
             ],
             [
              1,
              "#f0f921"
             ]
            ],
            "type": "contour"
           }
          ],
          "contourcarpet": [
           {
            "colorbar": {
             "outlinewidth": 0,
             "ticks": ""
            },
            "type": "contourcarpet"
           }
          ],
          "heatmap": [
           {
            "colorbar": {
             "outlinewidth": 0,
             "ticks": ""
            },
            "colorscale": [
             [
              0,
              "#0d0887"
             ],
             [
              0.1111111111111111,
              "#46039f"
             ],
             [
              0.2222222222222222,
              "#7201a8"
             ],
             [
              0.3333333333333333,
              "#9c179e"
             ],
             [
              0.4444444444444444,
              "#bd3786"
             ],
             [
              0.5555555555555556,
              "#d8576b"
             ],
             [
              0.6666666666666666,
              "#ed7953"
             ],
             [
              0.7777777777777778,
              "#fb9f3a"
             ],
             [
              0.8888888888888888,
              "#fdca26"
             ],
             [
              1,
              "#f0f921"
             ]
            ],
            "type": "heatmap"
           }
          ],
          "heatmapgl": [
           {
            "colorbar": {
             "outlinewidth": 0,
             "ticks": ""
            },
            "colorscale": [
             [
              0,
              "#0d0887"
             ],
             [
              0.1111111111111111,
              "#46039f"
             ],
             [
              0.2222222222222222,
              "#7201a8"
             ],
             [
              0.3333333333333333,
              "#9c179e"
             ],
             [
              0.4444444444444444,
              "#bd3786"
             ],
             [
              0.5555555555555556,
              "#d8576b"
             ],
             [
              0.6666666666666666,
              "#ed7953"
             ],
             [
              0.7777777777777778,
              "#fb9f3a"
             ],
             [
              0.8888888888888888,
              "#fdca26"
             ],
             [
              1,
              "#f0f921"
             ]
            ],
            "type": "heatmapgl"
           }
          ],
          "histogram": [
           {
            "marker": {
             "pattern": {
              "fillmode": "overlay",
              "size": 10,
              "solidity": 0.2
             }
            },
            "type": "histogram"
           }
          ],
          "histogram2d": [
           {
            "colorbar": {
             "outlinewidth": 0,
             "ticks": ""
            },
            "colorscale": [
             [
              0,
              "#0d0887"
             ],
             [
              0.1111111111111111,
              "#46039f"
             ],
             [
              0.2222222222222222,
              "#7201a8"
             ],
             [
              0.3333333333333333,
              "#9c179e"
             ],
             [
              0.4444444444444444,
              "#bd3786"
             ],
             [
              0.5555555555555556,
              "#d8576b"
             ],
             [
              0.6666666666666666,
              "#ed7953"
             ],
             [
              0.7777777777777778,
              "#fb9f3a"
             ],
             [
              0.8888888888888888,
              "#fdca26"
             ],
             [
              1,
              "#f0f921"
             ]
            ],
            "type": "histogram2d"
           }
          ],
          "histogram2dcontour": [
           {
            "colorbar": {
             "outlinewidth": 0,
             "ticks": ""
            },
            "colorscale": [
             [
              0,
              "#0d0887"
             ],
             [
              0.1111111111111111,
              "#46039f"
             ],
             [
              0.2222222222222222,
              "#7201a8"
             ],
             [
              0.3333333333333333,
              "#9c179e"
             ],
             [
              0.4444444444444444,
              "#bd3786"
             ],
             [
              0.5555555555555556,
              "#d8576b"
             ],
             [
              0.6666666666666666,
              "#ed7953"
             ],
             [
              0.7777777777777778,
              "#fb9f3a"
             ],
             [
              0.8888888888888888,
              "#fdca26"
             ],
             [
              1,
              "#f0f921"
             ]
            ],
            "type": "histogram2dcontour"
           }
          ],
          "mesh3d": [
           {
            "colorbar": {
             "outlinewidth": 0,
             "ticks": ""
            },
            "type": "mesh3d"
           }
          ],
          "parcoords": [
           {
            "line": {
             "colorbar": {
              "outlinewidth": 0,
              "ticks": ""
             }
            },
            "type": "parcoords"
           }
          ],
          "pie": [
           {
            "automargin": true,
            "type": "pie"
           }
          ],
          "scatter": [
           {
            "fillpattern": {
             "fillmode": "overlay",
             "size": 10,
             "solidity": 0.2
            },
            "type": "scatter"
           }
          ],
          "scatter3d": [
           {
            "line": {
             "colorbar": {
              "outlinewidth": 0,
              "ticks": ""
             }
            },
            "marker": {
             "colorbar": {
              "outlinewidth": 0,
              "ticks": ""
             }
            },
            "type": "scatter3d"
           }
          ],
          "scattercarpet": [
           {
            "marker": {
             "colorbar": {
              "outlinewidth": 0,
              "ticks": ""
             }
            },
            "type": "scattercarpet"
           }
          ],
          "scattergeo": [
           {
            "marker": {
             "colorbar": {
              "outlinewidth": 0,
              "ticks": ""
             }
            },
            "type": "scattergeo"
           }
          ],
          "scattergl": [
           {
            "marker": {
             "colorbar": {
              "outlinewidth": 0,
              "ticks": ""
             }
            },
            "type": "scattergl"
           }
          ],
          "scattermapbox": [
           {
            "marker": {
             "colorbar": {
              "outlinewidth": 0,
              "ticks": ""
             }
            },
            "type": "scattermapbox"
           }
          ],
          "scatterpolar": [
           {
            "marker": {
             "colorbar": {
              "outlinewidth": 0,
              "ticks": ""
             }
            },
            "type": "scatterpolar"
           }
          ],
          "scatterpolargl": [
           {
            "marker": {
             "colorbar": {
              "outlinewidth": 0,
              "ticks": ""
             }
            },
            "type": "scatterpolargl"
           }
          ],
          "scatterternary": [
           {
            "marker": {
             "colorbar": {
              "outlinewidth": 0,
              "ticks": ""
             }
            },
            "type": "scatterternary"
           }
          ],
          "surface": [
           {
            "colorbar": {
             "outlinewidth": 0,
             "ticks": ""
            },
            "colorscale": [
             [
              0,
              "#0d0887"
             ],
             [
              0.1111111111111111,
              "#46039f"
             ],
             [
              0.2222222222222222,
              "#7201a8"
             ],
             [
              0.3333333333333333,
              "#9c179e"
             ],
             [
              0.4444444444444444,
              "#bd3786"
             ],
             [
              0.5555555555555556,
              "#d8576b"
             ],
             [
              0.6666666666666666,
              "#ed7953"
             ],
             [
              0.7777777777777778,
              "#fb9f3a"
             ],
             [
              0.8888888888888888,
              "#fdca26"
             ],
             [
              1,
              "#f0f921"
             ]
            ],
            "type": "surface"
           }
          ],
          "table": [
           {
            "cells": {
             "fill": {
              "color": "#EBF0F8"
             },
             "line": {
              "color": "white"
             }
            },
            "header": {
             "fill": {
              "color": "#C8D4E3"
             },
             "line": {
              "color": "white"
             }
            },
            "type": "table"
           }
          ]
         },
         "layout": {
          "annotationdefaults": {
           "arrowcolor": "#2a3f5f",
           "arrowhead": 0,
           "arrowwidth": 1
          },
          "autotypenumbers": "strict",
          "coloraxis": {
           "colorbar": {
            "outlinewidth": 0,
            "ticks": ""
           }
          },
          "colorscale": {
           "diverging": [
            [
             0,
             "#8e0152"
            ],
            [
             0.1,
             "#c51b7d"
            ],
            [
             0.2,
             "#de77ae"
            ],
            [
             0.3,
             "#f1b6da"
            ],
            [
             0.4,
             "#fde0ef"
            ],
            [
             0.5,
             "#f7f7f7"
            ],
            [
             0.6,
             "#e6f5d0"
            ],
            [
             0.7,
             "#b8e186"
            ],
            [
             0.8,
             "#7fbc41"
            ],
            [
             0.9,
             "#4d9221"
            ],
            [
             1,
             "#276419"
            ]
           ],
           "sequential": [
            [
             0,
             "#0d0887"
            ],
            [
             0.1111111111111111,
             "#46039f"
            ],
            [
             0.2222222222222222,
             "#7201a8"
            ],
            [
             0.3333333333333333,
             "#9c179e"
            ],
            [
             0.4444444444444444,
             "#bd3786"
            ],
            [
             0.5555555555555556,
             "#d8576b"
            ],
            [
             0.6666666666666666,
             "#ed7953"
            ],
            [
             0.7777777777777778,
             "#fb9f3a"
            ],
            [
             0.8888888888888888,
             "#fdca26"
            ],
            [
             1,
             "#f0f921"
            ]
           ],
           "sequentialminus": [
            [
             0,
             "#0d0887"
            ],
            [
             0.1111111111111111,
             "#46039f"
            ],
            [
             0.2222222222222222,
             "#7201a8"
            ],
            [
             0.3333333333333333,
             "#9c179e"
            ],
            [
             0.4444444444444444,
             "#bd3786"
            ],
            [
             0.5555555555555556,
             "#d8576b"
            ],
            [
             0.6666666666666666,
             "#ed7953"
            ],
            [
             0.7777777777777778,
             "#fb9f3a"
            ],
            [
             0.8888888888888888,
             "#fdca26"
            ],
            [
             1,
             "#f0f921"
            ]
           ]
          },
          "colorway": [
           "#636efa",
           "#EF553B",
           "#00cc96",
           "#ab63fa",
           "#FFA15A",
           "#19d3f3",
           "#FF6692",
           "#B6E880",
           "#FF97FF",
           "#FECB52"
          ],
          "font": {
           "color": "#2a3f5f"
          },
          "geo": {
           "bgcolor": "white",
           "lakecolor": "white",
           "landcolor": "#E5ECF6",
           "showlakes": true,
           "showland": true,
           "subunitcolor": "white"
          },
          "hoverlabel": {
           "align": "left"
          },
          "hovermode": "closest",
          "mapbox": {
           "style": "light"
          },
          "paper_bgcolor": "white",
          "plot_bgcolor": "#E5ECF6",
          "polar": {
           "angularaxis": {
            "gridcolor": "white",
            "linecolor": "white",
            "ticks": ""
           },
           "bgcolor": "#E5ECF6",
           "radialaxis": {
            "gridcolor": "white",
            "linecolor": "white",
            "ticks": ""
           }
          },
          "scene": {
           "xaxis": {
            "backgroundcolor": "#E5ECF6",
            "gridcolor": "white",
            "gridwidth": 2,
            "linecolor": "white",
            "showbackground": true,
            "ticks": "",
            "zerolinecolor": "white"
           },
           "yaxis": {
            "backgroundcolor": "#E5ECF6",
            "gridcolor": "white",
            "gridwidth": 2,
            "linecolor": "white",
            "showbackground": true,
            "ticks": "",
            "zerolinecolor": "white"
           },
           "zaxis": {
            "backgroundcolor": "#E5ECF6",
            "gridcolor": "white",
            "gridwidth": 2,
            "linecolor": "white",
            "showbackground": true,
            "ticks": "",
            "zerolinecolor": "white"
           }
          },
          "shapedefaults": {
           "line": {
            "color": "#2a3f5f"
           }
          },
          "ternary": {
           "aaxis": {
            "gridcolor": "white",
            "linecolor": "white",
            "ticks": ""
           },
           "baxis": {
            "gridcolor": "white",
            "linecolor": "white",
            "ticks": ""
           },
           "bgcolor": "#E5ECF6",
           "caxis": {
            "gridcolor": "white",
            "linecolor": "white",
            "ticks": ""
           }
          },
          "title": {
           "x": 0.05
          },
          "xaxis": {
           "automargin": true,
           "gridcolor": "white",
           "linecolor": "white",
           "ticks": "",
           "title": {
            "standoff": 15
           },
           "zerolinecolor": "white",
           "zerolinewidth": 2
          },
          "yaxis": {
           "automargin": true,
           "gridcolor": "white",
           "linecolor": "white",
           "ticks": "",
           "title": {
            "standoff": 15
           },
           "zerolinecolor": "white",
           "zerolinewidth": 2
          }
         }
        },
        "title": {
         "text": "Vývoj STS mostov na cestách II. triedy"
        },
        "width": 500,
        "xaxis": {
         "ticktext": [
          "'12",
          "'13",
          "'14",
          "'15",
          "'16",
          "'17",
          "'18",
          "'19",
          "'20",
          "'21",
          "'22",
          "'23",
          "'24"
         ],
         "tickvals": [
          "2012",
          "2013",
          "2014",
          "2015",
          "2016",
          "2017",
          "2018",
          "2019",
          "2020",
          "2021",
          "2022",
          "2023",
          "2024"
         ]
        },
        "yaxis": {
         "range": [
          0,
          100
         ],
         "ticksuffix": "%",
         "title": {
          "text": "percentuálne zastúpenie"
         }
        }
       }
      }
     },
     "metadata": {},
     "output_type": "display_data"
    },
    {
     "data": {
      "application/vnd.plotly.v1+json": {
       "config": {
        "plotlyServerURL": "https://plot.ly"
       },
       "data": [
        {
         "line": {
          "color": "#2d505d"
         },
         "mode": "lines",
         "name": "7",
         "stackgroup": "one",
         "type": "scatter",
         "x": [
          "2012",
          "2013",
          "2014",
          "2015",
          "2016",
          "2017",
          "2018",
          "2019",
          "2020",
          "2021",
          "2022",
          "2023",
          "2024",
          "2025",
          "2026"
         ],
         "y": [
          0.13840830449826988,
          0.13840830449826988,
          0.06920415224913494,
          0.06901311249137336,
          0.06901311249137336,
          0.13812154696132595,
          0.06901311249137336,
          0.0684931506849315,
          0.06821282401091405,
          0.0681663258350375,
          0.5453306066803,
          0.7482993197278911,
          0.8831521739130435,
          1.3568020043542188,
          1.8521874540513799
         ]
        },
        {
         "line": {
          "color": "#c25469"
         },
         "mode": "lines",
         "name": "6",
         "stackgroup": "one",
         "type": "scatter",
         "x": [
          "2012",
          "2013",
          "2014",
          "2015",
          "2016",
          "2017",
          "2018",
          "2019",
          "2020",
          "2021",
          "2022",
          "2023",
          "2024",
          "2025",
          "2026"
         ],
         "y": [
          1.799307958477509,
          1.799307958477509,
          2.3529411764705883,
          2.484472049689441,
          2.4154589371980677,
          3.3839779005524857,
          3.864734299516908,
          4.726027397260274,
          6.207366984993179,
          7.6346284935241995,
          9.338786639400135,
          11.020408163265307,
          11.141304347826086,
          13.25373152726708,
          14.731829970691216
         ]
        },
        {
         "line": {
          "color": "#eae1a9"
         },
         "mode": "lines",
         "name": "5",
         "stackgroup": "one",
         "type": "scatter",
         "x": [
          "2012",
          "2013",
          "2014",
          "2015",
          "2016",
          "2017",
          "2018",
          "2019",
          "2020",
          "2021",
          "2022",
          "2023",
          "2024",
          "2025",
          "2026"
         ],
         "y": [
          6.159169550173011,
          6.43598615916955,
          6.505190311418685,
          7.246376811594203,
          8.41959972394755,
          8.632596685082873,
          10.559006211180124,
          11.438356164383562,
          15.34788540245566,
          17.518745739604636,
          19.76823449216087,
          22.244897959183675,
          25.0679347826087,
          28.306560981934314,
          31.484183137480393
         ]
        },
        {
         "line": {
          "color": "#353a29"
         },
         "mode": "lines",
         "name": "4",
         "stackgroup": "one",
         "type": "scatter",
         "x": [
          "2012",
          "2013",
          "2014",
          "2015",
          "2016",
          "2017",
          "2018",
          "2019",
          "2020",
          "2021",
          "2022",
          "2023",
          "2024",
          "2025",
          "2026"
         ],
         "y": [
          29.134948096885815,
          29.134948096885815,
          30.44982698961938,
          31.815044858523116,
          34.85162180814355,
          37.08563535911602,
          37.819185645272604,
          38.28767123287671,
          42.97407912687585,
          44.51261077027948,
          44.23994546693933,
          42.7891156462585,
          40.01358695652174,
          36.74758433030226,
          31.235221342397917
         ]
        },
        {
         "line": {
          "color": "#8bae7c"
         },
         "mode": "lines",
         "name": "3",
         "stackgroup": "one",
         "type": "scatter",
         "x": [
          "2012",
          "2013",
          "2014",
          "2015",
          "2016",
          "2017",
          "2018",
          "2019",
          "2020",
          "2021",
          "2022",
          "2023",
          "2024",
          "2025",
          "2026"
         ],
         "y": [
          47.47404844290657,
          47.1280276816609,
          46.43598615916955,
          44.858523119392686,
          42.30503795721187,
          40.193370165745854,
          37.68115942028986,
          35.205479452054796,
          27.89904502046385,
          22.83571915473756,
          19.0865712338105,
          16.666666666666664,
          16.372282608695652,
          13.471440447225696,
          13.122695964777781
         ]
        },
        {
         "line": {
          "color": "#e7a564"
         },
         "mode": "lines",
         "name": "2",
         "stackgroup": "one",
         "type": "scatter",
         "x": [
          "2012",
          "2013",
          "2014",
          "2015",
          "2016",
          "2017",
          "2018",
          "2019",
          "2020",
          "2021",
          "2022",
          "2023",
          "2024",
          "2025",
          "2026"
         ],
         "y": [
          9.688581314878892,
          9.757785467128027,
          8.996539792387544,
          8.41959972394755,
          6.763285024154589,
          6.1464088397790055,
          5.590062111801243,
          5.9589041095890405,
          4.229195088676671,
          5.044308111792774,
          4.567143830947512,
          3.877551020408163,
          3.3288043478260874,
          3.452514697272866,
          3.367085323041753
         ]
        },
        {
         "line": {
          "color": "#46a7a2"
         },
         "mode": "lines",
         "name": "1",
         "stackgroup": "one",
         "type": "scatter",
         "x": [
          "2012",
          "2013",
          "2014",
          "2015",
          "2016",
          "2017",
          "2018",
          "2019",
          "2020",
          "2021",
          "2022",
          "2023",
          "2024",
          "2025",
          "2026"
         ],
         "y": [
          5.6055363321799305,
          5.6055363321799305,
          5.190311418685121,
          5.106970324361629,
          5.175983436853002,
          4.41988950276243,
          4.416839199447895,
          4.315068493150685,
          3.2742155525238745,
          2.3858214042263124,
          2.4539877300613497,
          2.6530612244897958,
          3.192934782608696,
          3.4113660116435707,
          4.2067968075595665
         ]
        }
       ],
       "layout": {
        "font": {
         "family": "Calibri, sans-serif",
         "size": 14
        },
        "height": 500,
        "legend": {
         "orientation": "h",
         "x": 1,
         "xanchor": "right",
         "y": 1.08,
         "yanchor": "top"
        },
        "margin": {
         "b": 25,
         "l": 0,
         "r": 20,
         "t": 75
        },
        "plot_bgcolor": "#EEEEEE",
        "template": {
         "data": {
          "bar": [
           {
            "error_x": {
             "color": "#2a3f5f"
            },
            "error_y": {
             "color": "#2a3f5f"
            },
            "marker": {
             "line": {
              "color": "#E5ECF6",
              "width": 0.5
             },
             "pattern": {
              "fillmode": "overlay",
              "size": 10,
              "solidity": 0.2
             }
            },
            "type": "bar"
           }
          ],
          "barpolar": [
           {
            "marker": {
             "line": {
              "color": "#E5ECF6",
              "width": 0.5
             },
             "pattern": {
              "fillmode": "overlay",
              "size": 10,
              "solidity": 0.2
             }
            },
            "type": "barpolar"
           }
          ],
          "carpet": [
           {
            "aaxis": {
             "endlinecolor": "#2a3f5f",
             "gridcolor": "white",
             "linecolor": "white",
             "minorgridcolor": "white",
             "startlinecolor": "#2a3f5f"
            },
            "baxis": {
             "endlinecolor": "#2a3f5f",
             "gridcolor": "white",
             "linecolor": "white",
             "minorgridcolor": "white",
             "startlinecolor": "#2a3f5f"
            },
            "type": "carpet"
           }
          ],
          "choropleth": [
           {
            "colorbar": {
             "outlinewidth": 0,
             "ticks": ""
            },
            "type": "choropleth"
           }
          ],
          "contour": [
           {
            "colorbar": {
             "outlinewidth": 0,
             "ticks": ""
            },
            "colorscale": [
             [
              0,
              "#0d0887"
             ],
             [
              0.1111111111111111,
              "#46039f"
             ],
             [
              0.2222222222222222,
              "#7201a8"
             ],
             [
              0.3333333333333333,
              "#9c179e"
             ],
             [
              0.4444444444444444,
              "#bd3786"
             ],
             [
              0.5555555555555556,
              "#d8576b"
             ],
             [
              0.6666666666666666,
              "#ed7953"
             ],
             [
              0.7777777777777778,
              "#fb9f3a"
             ],
             [
              0.8888888888888888,
              "#fdca26"
             ],
             [
              1,
              "#f0f921"
             ]
            ],
            "type": "contour"
           }
          ],
          "contourcarpet": [
           {
            "colorbar": {
             "outlinewidth": 0,
             "ticks": ""
            },
            "type": "contourcarpet"
           }
          ],
          "heatmap": [
           {
            "colorbar": {
             "outlinewidth": 0,
             "ticks": ""
            },
            "colorscale": [
             [
              0,
              "#0d0887"
             ],
             [
              0.1111111111111111,
              "#46039f"
             ],
             [
              0.2222222222222222,
              "#7201a8"
             ],
             [
              0.3333333333333333,
              "#9c179e"
             ],
             [
              0.4444444444444444,
              "#bd3786"
             ],
             [
              0.5555555555555556,
              "#d8576b"
             ],
             [
              0.6666666666666666,
              "#ed7953"
             ],
             [
              0.7777777777777778,
              "#fb9f3a"
             ],
             [
              0.8888888888888888,
              "#fdca26"
             ],
             [
              1,
              "#f0f921"
             ]
            ],
            "type": "heatmap"
           }
          ],
          "heatmapgl": [
           {
            "colorbar": {
             "outlinewidth": 0,
             "ticks": ""
            },
            "colorscale": [
             [
              0,
              "#0d0887"
             ],
             [
              0.1111111111111111,
              "#46039f"
             ],
             [
              0.2222222222222222,
              "#7201a8"
             ],
             [
              0.3333333333333333,
              "#9c179e"
             ],
             [
              0.4444444444444444,
              "#bd3786"
             ],
             [
              0.5555555555555556,
              "#d8576b"
             ],
             [
              0.6666666666666666,
              "#ed7953"
             ],
             [
              0.7777777777777778,
              "#fb9f3a"
             ],
             [
              0.8888888888888888,
              "#fdca26"
             ],
             [
              1,
              "#f0f921"
             ]
            ],
            "type": "heatmapgl"
           }
          ],
          "histogram": [
           {
            "marker": {
             "pattern": {
              "fillmode": "overlay",
              "size": 10,
              "solidity": 0.2
             }
            },
            "type": "histogram"
           }
          ],
          "histogram2d": [
           {
            "colorbar": {
             "outlinewidth": 0,
             "ticks": ""
            },
            "colorscale": [
             [
              0,
              "#0d0887"
             ],
             [
              0.1111111111111111,
              "#46039f"
             ],
             [
              0.2222222222222222,
              "#7201a8"
             ],
             [
              0.3333333333333333,
              "#9c179e"
             ],
             [
              0.4444444444444444,
              "#bd3786"
             ],
             [
              0.5555555555555556,
              "#d8576b"
             ],
             [
              0.6666666666666666,
              "#ed7953"
             ],
             [
              0.7777777777777778,
              "#fb9f3a"
             ],
             [
              0.8888888888888888,
              "#fdca26"
             ],
             [
              1,
              "#f0f921"
             ]
            ],
            "type": "histogram2d"
           }
          ],
          "histogram2dcontour": [
           {
            "colorbar": {
             "outlinewidth": 0,
             "ticks": ""
            },
            "colorscale": [
             [
              0,
              "#0d0887"
             ],
             [
              0.1111111111111111,
              "#46039f"
             ],
             [
              0.2222222222222222,
              "#7201a8"
             ],
             [
              0.3333333333333333,
              "#9c179e"
             ],
             [
              0.4444444444444444,
              "#bd3786"
             ],
             [
              0.5555555555555556,
              "#d8576b"
             ],
             [
              0.6666666666666666,
              "#ed7953"
             ],
             [
              0.7777777777777778,
              "#fb9f3a"
             ],
             [
              0.8888888888888888,
              "#fdca26"
             ],
             [
              1,
              "#f0f921"
             ]
            ],
            "type": "histogram2dcontour"
           }
          ],
          "mesh3d": [
           {
            "colorbar": {
             "outlinewidth": 0,
             "ticks": ""
            },
            "type": "mesh3d"
           }
          ],
          "parcoords": [
           {
            "line": {
             "colorbar": {
              "outlinewidth": 0,
              "ticks": ""
             }
            },
            "type": "parcoords"
           }
          ],
          "pie": [
           {
            "automargin": true,
            "type": "pie"
           }
          ],
          "scatter": [
           {
            "fillpattern": {
             "fillmode": "overlay",
             "size": 10,
             "solidity": 0.2
            },
            "type": "scatter"
           }
          ],
          "scatter3d": [
           {
            "line": {
             "colorbar": {
              "outlinewidth": 0,
              "ticks": ""
             }
            },
            "marker": {
             "colorbar": {
              "outlinewidth": 0,
              "ticks": ""
             }
            },
            "type": "scatter3d"
           }
          ],
          "scattercarpet": [
           {
            "marker": {
             "colorbar": {
              "outlinewidth": 0,
              "ticks": ""
             }
            },
            "type": "scattercarpet"
           }
          ],
          "scattergeo": [
           {
            "marker": {
             "colorbar": {
              "outlinewidth": 0,
              "ticks": ""
             }
            },
            "type": "scattergeo"
           }
          ],
          "scattergl": [
           {
            "marker": {
             "colorbar": {
              "outlinewidth": 0,
              "ticks": ""
             }
            },
            "type": "scattergl"
           }
          ],
          "scattermapbox": [
           {
            "marker": {
             "colorbar": {
              "outlinewidth": 0,
              "ticks": ""
             }
            },
            "type": "scattermapbox"
           }
          ],
          "scatterpolar": [
           {
            "marker": {
             "colorbar": {
              "outlinewidth": 0,
              "ticks": ""
             }
            },
            "type": "scatterpolar"
           }
          ],
          "scatterpolargl": [
           {
            "marker": {
             "colorbar": {
              "outlinewidth": 0,
              "ticks": ""
             }
            },
            "type": "scatterpolargl"
           }
          ],
          "scatterternary": [
           {
            "marker": {
             "colorbar": {
              "outlinewidth": 0,
              "ticks": ""
             }
            },
            "type": "scatterternary"
           }
          ],
          "surface": [
           {
            "colorbar": {
             "outlinewidth": 0,
             "ticks": ""
            },
            "colorscale": [
             [
              0,
              "#0d0887"
             ],
             [
              0.1111111111111111,
              "#46039f"
             ],
             [
              0.2222222222222222,
              "#7201a8"
             ],
             [
              0.3333333333333333,
              "#9c179e"
             ],
             [
              0.4444444444444444,
              "#bd3786"
             ],
             [
              0.5555555555555556,
              "#d8576b"
             ],
             [
              0.6666666666666666,
              "#ed7953"
             ],
             [
              0.7777777777777778,
              "#fb9f3a"
             ],
             [
              0.8888888888888888,
              "#fdca26"
             ],
             [
              1,
              "#f0f921"
             ]
            ],
            "type": "surface"
           }
          ],
          "table": [
           {
            "cells": {
             "fill": {
              "color": "#EBF0F8"
             },
             "line": {
              "color": "white"
             }
            },
            "header": {
             "fill": {
              "color": "#C8D4E3"
             },
             "line": {
              "color": "white"
             }
            },
            "type": "table"
           }
          ]
         },
         "layout": {
          "annotationdefaults": {
           "arrowcolor": "#2a3f5f",
           "arrowhead": 0,
           "arrowwidth": 1
          },
          "autotypenumbers": "strict",
          "coloraxis": {
           "colorbar": {
            "outlinewidth": 0,
            "ticks": ""
           }
          },
          "colorscale": {
           "diverging": [
            [
             0,
             "#8e0152"
            ],
            [
             0.1,
             "#c51b7d"
            ],
            [
             0.2,
             "#de77ae"
            ],
            [
             0.3,
             "#f1b6da"
            ],
            [
             0.4,
             "#fde0ef"
            ],
            [
             0.5,
             "#f7f7f7"
            ],
            [
             0.6,
             "#e6f5d0"
            ],
            [
             0.7,
             "#b8e186"
            ],
            [
             0.8,
             "#7fbc41"
            ],
            [
             0.9,
             "#4d9221"
            ],
            [
             1,
             "#276419"
            ]
           ],
           "sequential": [
            [
             0,
             "#0d0887"
            ],
            [
             0.1111111111111111,
             "#46039f"
            ],
            [
             0.2222222222222222,
             "#7201a8"
            ],
            [
             0.3333333333333333,
             "#9c179e"
            ],
            [
             0.4444444444444444,
             "#bd3786"
            ],
            [
             0.5555555555555556,
             "#d8576b"
            ],
            [
             0.6666666666666666,
             "#ed7953"
            ],
            [
             0.7777777777777778,
             "#fb9f3a"
            ],
            [
             0.8888888888888888,
             "#fdca26"
            ],
            [
             1,
             "#f0f921"
            ]
           ],
           "sequentialminus": [
            [
             0,
             "#0d0887"
            ],
            [
             0.1111111111111111,
             "#46039f"
            ],
            [
             0.2222222222222222,
             "#7201a8"
            ],
            [
             0.3333333333333333,
             "#9c179e"
            ],
            [
             0.4444444444444444,
             "#bd3786"
            ],
            [
             0.5555555555555556,
             "#d8576b"
            ],
            [
             0.6666666666666666,
             "#ed7953"
            ],
            [
             0.7777777777777778,
             "#fb9f3a"
            ],
            [
             0.8888888888888888,
             "#fdca26"
            ],
            [
             1,
             "#f0f921"
            ]
           ]
          },
          "colorway": [
           "#636efa",
           "#EF553B",
           "#00cc96",
           "#ab63fa",
           "#FFA15A",
           "#19d3f3",
           "#FF6692",
           "#B6E880",
           "#FF97FF",
           "#FECB52"
          ],
          "font": {
           "color": "#2a3f5f"
          },
          "geo": {
           "bgcolor": "white",
           "lakecolor": "white",
           "landcolor": "#E5ECF6",
           "showlakes": true,
           "showland": true,
           "subunitcolor": "white"
          },
          "hoverlabel": {
           "align": "left"
          },
          "hovermode": "closest",
          "mapbox": {
           "style": "light"
          },
          "paper_bgcolor": "white",
          "plot_bgcolor": "#E5ECF6",
          "polar": {
           "angularaxis": {
            "gridcolor": "white",
            "linecolor": "white",
            "ticks": ""
           },
           "bgcolor": "#E5ECF6",
           "radialaxis": {
            "gridcolor": "white",
            "linecolor": "white",
            "ticks": ""
           }
          },
          "scene": {
           "xaxis": {
            "backgroundcolor": "#E5ECF6",
            "gridcolor": "white",
            "gridwidth": 2,
            "linecolor": "white",
            "showbackground": true,
            "ticks": "",
            "zerolinecolor": "white"
           },
           "yaxis": {
            "backgroundcolor": "#E5ECF6",
            "gridcolor": "white",
            "gridwidth": 2,
            "linecolor": "white",
            "showbackground": true,
            "ticks": "",
            "zerolinecolor": "white"
           },
           "zaxis": {
            "backgroundcolor": "#E5ECF6",
            "gridcolor": "white",
            "gridwidth": 2,
            "linecolor": "white",
            "showbackground": true,
            "ticks": "",
            "zerolinecolor": "white"
           }
          },
          "shapedefaults": {
           "line": {
            "color": "#2a3f5f"
           }
          },
          "ternary": {
           "aaxis": {
            "gridcolor": "white",
            "linecolor": "white",
            "ticks": ""
           },
           "baxis": {
            "gridcolor": "white",
            "linecolor": "white",
            "ticks": ""
           },
           "bgcolor": "#E5ECF6",
           "caxis": {
            "gridcolor": "white",
            "linecolor": "white",
            "ticks": ""
           }
          },
          "title": {
           "x": 0.05
          },
          "xaxis": {
           "automargin": true,
           "gridcolor": "white",
           "linecolor": "white",
           "ticks": "",
           "title": {
            "standoff": 15
           },
           "zerolinecolor": "white",
           "zerolinewidth": 2
          },
          "yaxis": {
           "automargin": true,
           "gridcolor": "white",
           "linecolor": "white",
           "ticks": "",
           "title": {
            "standoff": 15
           },
           "zerolinecolor": "white",
           "zerolinewidth": 2
          }
         }
        },
        "title": {
         "text": "Vývoj STS mostov na cestách II. triedy"
        },
        "width": 575,
        "xaxis": {
         "ticktext": [
          "'12",
          "'13",
          "'14",
          "'15",
          "'16",
          "'17",
          "'18",
          "'19",
          "'20",
          "'21",
          "'22",
          "'23",
          "'24",
          "'25",
          "'26"
         ],
         "tickvals": [
          "2012",
          "2013",
          "2014",
          "2015",
          "2016",
          "2017",
          "2018",
          "2019",
          "2020",
          "2021",
          "2022",
          "2023",
          "2024",
          "2025",
          "2026"
         ]
        },
        "yaxis": {
         "range": [
          0,
          100
         ],
         "ticksuffix": "%",
         "title": {
          "text": "percentuálne zastúpenie"
         }
        }
       }
      }
     },
     "metadata": {},
     "output_type": "display_data"
    }
   ],
   "source": [
    "create_plot(df_predictions, title='Vývoj STS mostov na cestách II. triedy',\n",
    "            filename='Vyvoj_I', start_year=2012, end_year=2024, b=500, h=500)\n",
    "create_plot(df_predictions, title='Vývoj STS mostov na cestách II. triedy',\n",
    "            filename='Vyvoj_I', start_year=2012, end_year=2026, b=575, h=500)"
   ]
  }
 ],
 "metadata": {
  "kernelspec": {
   "display_name": "Bridges_VENV",
   "language": "python",
   "name": "python3"
  },
  "language_info": {
   "codemirror_mode": {
    "name": "ipython",
    "version": 3
   },
   "file_extension": ".py",
   "mimetype": "text/x-python",
   "name": "python",
   "nbconvert_exporter": "python",
   "pygments_lexer": "ipython3",
   "version": "3.12.4"
  }
 },
 "nbformat": 4,
 "nbformat_minor": 2
}
