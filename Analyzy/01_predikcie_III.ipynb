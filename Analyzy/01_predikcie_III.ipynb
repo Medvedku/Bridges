{
 "cells": [
  {
   "cell_type": "code",
   "execution_count": 2,
   "metadata": {},
   "outputs": [
    {
     "name": "stderr",
     "output_type": "stream",
     "text": [
      "C:\\Users\\relia\\AppData\\Local\\Temp\\ipykernel_11580\\584243297.py:13: DtypeWarning: Columns (5,16) have mixed types. Specify dtype option on import or set low_memory=False.\n",
      "  df_nodes = pd.read_csv(nodes_path, encoding='utf-8', delimiter=',')\n",
      "C:\\Users\\relia\\AppData\\Local\\Temp\\ipykernel_11580\\584243297.py:14: DtypeWarning: Columns (10,11,12,25,26,27) have mixed types. Specify dtype option on import or set low_memory=False.\n",
      "  df_roads = pd.read_csv(roads_path, encoding='utf-8', delimiter=',')\n"
     ]
    }
   ],
   "source": [
    "import pandas as pd\n",
    "import pandas as pd\n",
    "import plotly.graph_objects as go\n",
    "import plotly.io as pio\n",
    "\n",
    "# ROBOTA\n",
    "nodes_path = r\"C:\\Users\\relia\\Documents\\GitHub\\Bridges\\Data\\Nodes_processed.csv\"\n",
    "roads_path = r\"C:\\Users\\relia\\Documents\\GitHub\\Bridges\\Data\\Roads_processed.csv\"\n",
    "bridges_path = r\"C:\\Users\\relia\\Documents\\GitHub\\Bridges\\Data\\df_bridges_2024_all.csv\"\n",
    "survey_path = r\"C:\\Users\\relia\\Documents\\GitHub\\Bridges\\Data\\surveys\\Survey.csv\"\n",
    "\n",
    "# Load the CSV data into a DataFrame\n",
    "df_nodes = pd.read_csv(nodes_path, encoding='utf-8', delimiter=',')\n",
    "df_roads = pd.read_csv(roads_path, encoding='utf-8', delimiter=',')\n",
    "df_bridges_all = pd.read_csv(bridges_path, encoding='utf-8', delimiter=',')\n",
    "df_survey = pd.read_csv(survey_path, encoding='utf-8', delimiter=',')"
   ]
  },
  {
   "cell_type": "code",
   "execution_count": 3,
   "metadata": {},
   "outputs": [
    {
     "data": {
      "text/plain": [
       "Index(['ID_mosta', 'Trieda_PK', 'Číslo_PK', 'Názov_mosta', 'správcovské_číslo',\n",
       "       'Zemepisná_šírka', 'Zemepisná_dĺžka', 'Výška', 'Druh_konštrukcie',\n",
       "       'Material', 'Normálna_zaťažiteľnosť', 'Výhradná_zaťažiteľnosť_t',\n",
       "       'Výnimočná_zaťažiteľnosť_t', 'Spôsob_stanovenia', 'Predmet_premostenia',\n",
       "       'Rok_postavenia', 'Zaťažovacia_trieda_STN', 'Počet_otvorov',\n",
       "       'Dĺžka_premostenia', 'Dĺžka_nosnej_konštrukcie_m', 'Volná_šírka_mosta',\n",
       "       'Šírka_medzi_obrubami_m', 'Plocha_mosnej_konštrukcie_m2',\n",
       "       'Plocha_mosta_m2', 'Vlastník_úseku', 'Správca_úseku', 'Okres',\n",
       "       'Počiatočný_uzol', 'Koncový_uzol', 'úsek_ID', 'Kraj', 'n_2012',\n",
       "       'n_2013', 'n_2014', 'n_2015', 'n_2016', 'n_2017', 'n_2018', 'n_2019',\n",
       "       'n_2020', 'n_2021', 'n_2022', 'n_2023', 'n_2024'],\n",
       "      dtype='object')"
      ]
     },
     "execution_count": 3,
     "metadata": {},
     "output_type": "execute_result"
    }
   ],
   "source": [
    "# Assuming df_bridges_all is your DataFrame\n",
    "columns_to_convert = ['Zemepisná_dĺžka', 'Zemepisná_šírka', 'Výška', 'Normálna_zaťažiteľnosť',\n",
    "                      'Výhradná_zaťažiteľnosť_t', 'Výnimočná_zaťažiteľnosť_t', 'Počet_otvorov',\n",
    "                      'Dĺžka_nosnej_konštrukcie_m', 'Dĺžka_premostenia', 'Volná_šírka_mosta',\n",
    "                      'Šírka_medzi_obrubami_m', 'Plocha_mosnej_konštrukcie_m2', 'Plocha_mosta_m2']\n",
    "\n",
    "# Convert specified columns to float\n",
    "df_bridges_all[columns_to_convert] = df_bridges_all[columns_to_convert].apply(\n",
    "    pd.to_numeric, errors='coerce')\n",
    "\n",
    "# Convert Rok_postavenia to integer, assign NaN if not possible\n",
    "df_bridges_all['Rok_postavenia'] = pd.to_numeric(\n",
    "    df_bridges_all['Rok_postavenia'], errors='coerce')\n",
    "\n",
    "df_bridges_all = df_bridges_all[df_bridges_all[\"n_2024\"] != 0]\n",
    "\n",
    "df_bridges_all.columns"
   ]
  },
  {
   "cell_type": "code",
   "execution_count": 4,
   "metadata": {},
   "outputs": [
    {
     "data": {
      "text/plain": [
       "Trieda_PK\n",
       "cesta III. triedy                      3967\n",
       "cesta I. triedy                        1913\n",
       "cesta II. triedy                       1472\n",
       "diaľnica                                771\n",
       "miestna neurčená                         56\n",
       "účelová cesta (UC)                       13\n",
       "II. trieda - miestna zberná (MZ)          2\n",
       "III. trieda - miestna obslužná (MO)       1\n",
       "Name: count, dtype: int64"
      ]
     },
     "execution_count": 4,
     "metadata": {},
     "output_type": "execute_result"
    }
   ],
   "source": [
    "df_bridges_all[\"Trieda_PK\"].value_counts()"
   ]
  },
  {
   "cell_type": "code",
   "execution_count": 5,
   "metadata": {},
   "outputs": [
    {
     "data": {
      "text/plain": [
       "((1913, 44), (1472, 44), (3967, 44))"
      ]
     },
     "execution_count": 5,
     "metadata": {},
     "output_type": "execute_result"
    }
   ],
   "source": [
    "filtered_bridges_I = df_bridges_all[\n",
    "    (df_bridges_all[\"Trieda_PK\"] == 'cesta I. triedy')\n",
    "]\n",
    "\n",
    "filtered_bridges_II = df_bridges_all[\n",
    "    (df_bridges_all[\"Trieda_PK\"] == 'cesta II. triedy')\n",
    "]\n",
    "\n",
    "filtered_bridges_III = df_bridges_all[\n",
    "    (df_bridges_all[\"Trieda_PK\"] == 'cesta III. triedy')\n",
    "]\n",
    "\n",
    "filtered_bridges_I = filtered_bridges_I[filtered_bridges_I[\"n_2024\"] != 0]\n",
    "filtered_bridges_II = filtered_bridges_II[filtered_bridges_II[\"n_2024\"] != 0]\n",
    "filtered_bridges_III = filtered_bridges_III[filtered_bridges_III[\"n_2024\"] != 0]\n",
    "\n",
    "filtered_bridges_I.shape, filtered_bridges_II.shape, filtered_bridges_III.shape"
   ]
  },
  {
   "cell_type": "code",
   "execution_count": 6,
   "metadata": {},
   "outputs": [
    {
     "data": {
      "application/vnd.plotly.v1+json": {
       "config": {
        "plotlyServerURL": "https://plot.ly"
       },
       "data": [
        {
         "line": {
          "shape": "spline"
         },
         "mode": "lines+markers",
         "name": "Mean Values",
         "type": "scatter",
         "x": [
          "n_2012",
          "n_2013",
          "n_2014",
          "n_2015",
          "n_2016",
          "n_2017",
          "n_2018",
          "n_2019",
          "n_2020",
          "n_2021",
          "n_2022",
          "n_2023",
          "n_2024"
         ],
         "y": [
          3.251323418200151,
          3.252835896143181,
          3.275523065288631,
          3.3085455003781195,
          3.3871943534156794,
          3.430552054449206,
          3.4565162591378877,
          3.511217544744139,
          3.669271489790774,
          3.7912780438618605,
          4.015376859087471,
          4.155281068817747,
          4.213007310310058
         ]
        }
       ],
       "layout": {
        "font": {
         "family": "Calibri, sans-serif",
         "size": 14
        },
        "plot_bgcolor": "#EEEEEE",
        "template": {
         "data": {
          "bar": [
           {
            "error_x": {
             "color": "#2a3f5f"
            },
            "error_y": {
             "color": "#2a3f5f"
            },
            "marker": {
             "line": {
              "color": "#E5ECF6",
              "width": 0.5
             },
             "pattern": {
              "fillmode": "overlay",
              "size": 10,
              "solidity": 0.2
             }
            },
            "type": "bar"
           }
          ],
          "barpolar": [
           {
            "marker": {
             "line": {
              "color": "#E5ECF6",
              "width": 0.5
             },
             "pattern": {
              "fillmode": "overlay",
              "size": 10,
              "solidity": 0.2
             }
            },
            "type": "barpolar"
           }
          ],
          "carpet": [
           {
            "aaxis": {
             "endlinecolor": "#2a3f5f",
             "gridcolor": "white",
             "linecolor": "white",
             "minorgridcolor": "white",
             "startlinecolor": "#2a3f5f"
            },
            "baxis": {
             "endlinecolor": "#2a3f5f",
             "gridcolor": "white",
             "linecolor": "white",
             "minorgridcolor": "white",
             "startlinecolor": "#2a3f5f"
            },
            "type": "carpet"
           }
          ],
          "choropleth": [
           {
            "colorbar": {
             "outlinewidth": 0,
             "ticks": ""
            },
            "type": "choropleth"
           }
          ],
          "contour": [
           {
            "colorbar": {
             "outlinewidth": 0,
             "ticks": ""
            },
            "colorscale": [
             [
              0,
              "#0d0887"
             ],
             [
              0.1111111111111111,
              "#46039f"
             ],
             [
              0.2222222222222222,
              "#7201a8"
             ],
             [
              0.3333333333333333,
              "#9c179e"
             ],
             [
              0.4444444444444444,
              "#bd3786"
             ],
             [
              0.5555555555555556,
              "#d8576b"
             ],
             [
              0.6666666666666666,
              "#ed7953"
             ],
             [
              0.7777777777777778,
              "#fb9f3a"
             ],
             [
              0.8888888888888888,
              "#fdca26"
             ],
             [
              1,
              "#f0f921"
             ]
            ],
            "type": "contour"
           }
          ],
          "contourcarpet": [
           {
            "colorbar": {
             "outlinewidth": 0,
             "ticks": ""
            },
            "type": "contourcarpet"
           }
          ],
          "heatmap": [
           {
            "colorbar": {
             "outlinewidth": 0,
             "ticks": ""
            },
            "colorscale": [
             [
              0,
              "#0d0887"
             ],
             [
              0.1111111111111111,
              "#46039f"
             ],
             [
              0.2222222222222222,
              "#7201a8"
             ],
             [
              0.3333333333333333,
              "#9c179e"
             ],
             [
              0.4444444444444444,
              "#bd3786"
             ],
             [
              0.5555555555555556,
              "#d8576b"
             ],
             [
              0.6666666666666666,
              "#ed7953"
             ],
             [
              0.7777777777777778,
              "#fb9f3a"
             ],
             [
              0.8888888888888888,
              "#fdca26"
             ],
             [
              1,
              "#f0f921"
             ]
            ],
            "type": "heatmap"
           }
          ],
          "heatmapgl": [
           {
            "colorbar": {
             "outlinewidth": 0,
             "ticks": ""
            },
            "colorscale": [
             [
              0,
              "#0d0887"
             ],
             [
              0.1111111111111111,
              "#46039f"
             ],
             [
              0.2222222222222222,
              "#7201a8"
             ],
             [
              0.3333333333333333,
              "#9c179e"
             ],
             [
              0.4444444444444444,
              "#bd3786"
             ],
             [
              0.5555555555555556,
              "#d8576b"
             ],
             [
              0.6666666666666666,
              "#ed7953"
             ],
             [
              0.7777777777777778,
              "#fb9f3a"
             ],
             [
              0.8888888888888888,
              "#fdca26"
             ],
             [
              1,
              "#f0f921"
             ]
            ],
            "type": "heatmapgl"
           }
          ],
          "histogram": [
           {
            "marker": {
             "pattern": {
              "fillmode": "overlay",
              "size": 10,
              "solidity": 0.2
             }
            },
            "type": "histogram"
           }
          ],
          "histogram2d": [
           {
            "colorbar": {
             "outlinewidth": 0,
             "ticks": ""
            },
            "colorscale": [
             [
              0,
              "#0d0887"
             ],
             [
              0.1111111111111111,
              "#46039f"
             ],
             [
              0.2222222222222222,
              "#7201a8"
             ],
             [
              0.3333333333333333,
              "#9c179e"
             ],
             [
              0.4444444444444444,
              "#bd3786"
             ],
             [
              0.5555555555555556,
              "#d8576b"
             ],
             [
              0.6666666666666666,
              "#ed7953"
             ],
             [
              0.7777777777777778,
              "#fb9f3a"
             ],
             [
              0.8888888888888888,
              "#fdca26"
             ],
             [
              1,
              "#f0f921"
             ]
            ],
            "type": "histogram2d"
           }
          ],
          "histogram2dcontour": [
           {
            "colorbar": {
             "outlinewidth": 0,
             "ticks": ""
            },
            "colorscale": [
             [
              0,
              "#0d0887"
             ],
             [
              0.1111111111111111,
              "#46039f"
             ],
             [
              0.2222222222222222,
              "#7201a8"
             ],
             [
              0.3333333333333333,
              "#9c179e"
             ],
             [
              0.4444444444444444,
              "#bd3786"
             ],
             [
              0.5555555555555556,
              "#d8576b"
             ],
             [
              0.6666666666666666,
              "#ed7953"
             ],
             [
              0.7777777777777778,
              "#fb9f3a"
             ],
             [
              0.8888888888888888,
              "#fdca26"
             ],
             [
              1,
              "#f0f921"
             ]
            ],
            "type": "histogram2dcontour"
           }
          ],
          "mesh3d": [
           {
            "colorbar": {
             "outlinewidth": 0,
             "ticks": ""
            },
            "type": "mesh3d"
           }
          ],
          "parcoords": [
           {
            "line": {
             "colorbar": {
              "outlinewidth": 0,
              "ticks": ""
             }
            },
            "type": "parcoords"
           }
          ],
          "pie": [
           {
            "automargin": true,
            "type": "pie"
           }
          ],
          "scatter": [
           {
            "marker": {
             "colorbar": {
              "outlinewidth": 0,
              "ticks": ""
             }
            },
            "type": "scatter"
           }
          ],
          "scatter3d": [
           {
            "line": {
             "colorbar": {
              "outlinewidth": 0,
              "ticks": ""
             }
            },
            "marker": {
             "colorbar": {
              "outlinewidth": 0,
              "ticks": ""
             }
            },
            "type": "scatter3d"
           }
          ],
          "scattercarpet": [
           {
            "marker": {
             "colorbar": {
              "outlinewidth": 0,
              "ticks": ""
             }
            },
            "type": "scattercarpet"
           }
          ],
          "scattergeo": [
           {
            "marker": {
             "colorbar": {
              "outlinewidth": 0,
              "ticks": ""
             }
            },
            "type": "scattergeo"
           }
          ],
          "scattergl": [
           {
            "marker": {
             "colorbar": {
              "outlinewidth": 0,
              "ticks": ""
             }
            },
            "type": "scattergl"
           }
          ],
          "scattermapbox": [
           {
            "marker": {
             "colorbar": {
              "outlinewidth": 0,
              "ticks": ""
             }
            },
            "type": "scattermapbox"
           }
          ],
          "scatterpolar": [
           {
            "marker": {
             "colorbar": {
              "outlinewidth": 0,
              "ticks": ""
             }
            },
            "type": "scatterpolar"
           }
          ],
          "scatterpolargl": [
           {
            "marker": {
             "colorbar": {
              "outlinewidth": 0,
              "ticks": ""
             }
            },
            "type": "scatterpolargl"
           }
          ],
          "scatterternary": [
           {
            "marker": {
             "colorbar": {
              "outlinewidth": 0,
              "ticks": ""
             }
            },
            "type": "scatterternary"
           }
          ],
          "surface": [
           {
            "colorbar": {
             "outlinewidth": 0,
             "ticks": ""
            },
            "colorscale": [
             [
              0,
              "#0d0887"
             ],
             [
              0.1111111111111111,
              "#46039f"
             ],
             [
              0.2222222222222222,
              "#7201a8"
             ],
             [
              0.3333333333333333,
              "#9c179e"
             ],
             [
              0.4444444444444444,
              "#bd3786"
             ],
             [
              0.5555555555555556,
              "#d8576b"
             ],
             [
              0.6666666666666666,
              "#ed7953"
             ],
             [
              0.7777777777777778,
              "#fb9f3a"
             ],
             [
              0.8888888888888888,
              "#fdca26"
             ],
             [
              1,
              "#f0f921"
             ]
            ],
            "type": "surface"
           }
          ],
          "table": [
           {
            "cells": {
             "fill": {
              "color": "#EBF0F8"
             },
             "line": {
              "color": "white"
             }
            },
            "header": {
             "fill": {
              "color": "#C8D4E3"
             },
             "line": {
              "color": "white"
             }
            },
            "type": "table"
           }
          ]
         },
         "layout": {
          "annotationdefaults": {
           "arrowcolor": "#2a3f5f",
           "arrowhead": 0,
           "arrowwidth": 1
          },
          "autotypenumbers": "strict",
          "coloraxis": {
           "colorbar": {
            "outlinewidth": 0,
            "ticks": ""
           }
          },
          "colorscale": {
           "diverging": [
            [
             0,
             "#8e0152"
            ],
            [
             0.1,
             "#c51b7d"
            ],
            [
             0.2,
             "#de77ae"
            ],
            [
             0.3,
             "#f1b6da"
            ],
            [
             0.4,
             "#fde0ef"
            ],
            [
             0.5,
             "#f7f7f7"
            ],
            [
             0.6,
             "#e6f5d0"
            ],
            [
             0.7,
             "#b8e186"
            ],
            [
             0.8,
             "#7fbc41"
            ],
            [
             0.9,
             "#4d9221"
            ],
            [
             1,
             "#276419"
            ]
           ],
           "sequential": [
            [
             0,
             "#0d0887"
            ],
            [
             0.1111111111111111,
             "#46039f"
            ],
            [
             0.2222222222222222,
             "#7201a8"
            ],
            [
             0.3333333333333333,
             "#9c179e"
            ],
            [
             0.4444444444444444,
             "#bd3786"
            ],
            [
             0.5555555555555556,
             "#d8576b"
            ],
            [
             0.6666666666666666,
             "#ed7953"
            ],
            [
             0.7777777777777778,
             "#fb9f3a"
            ],
            [
             0.8888888888888888,
             "#fdca26"
            ],
            [
             1,
             "#f0f921"
            ]
           ],
           "sequentialminus": [
            [
             0,
             "#0d0887"
            ],
            [
             0.1111111111111111,
             "#46039f"
            ],
            [
             0.2222222222222222,
             "#7201a8"
            ],
            [
             0.3333333333333333,
             "#9c179e"
            ],
            [
             0.4444444444444444,
             "#bd3786"
            ],
            [
             0.5555555555555556,
             "#d8576b"
            ],
            [
             0.6666666666666666,
             "#ed7953"
            ],
            [
             0.7777777777777778,
             "#fb9f3a"
            ],
            [
             0.8888888888888888,
             "#fdca26"
            ],
            [
             1,
             "#f0f921"
            ]
           ]
          },
          "colorway": [
           "#636efa",
           "#EF553B",
           "#00cc96",
           "#ab63fa",
           "#FFA15A",
           "#19d3f3",
           "#FF6692",
           "#B6E880",
           "#FF97FF",
           "#FECB52"
          ],
          "font": {
           "color": "#2a3f5f"
          },
          "geo": {
           "bgcolor": "white",
           "lakecolor": "white",
           "landcolor": "#E5ECF6",
           "showlakes": true,
           "showland": true,
           "subunitcolor": "white"
          },
          "hoverlabel": {
           "align": "left"
          },
          "hovermode": "closest",
          "mapbox": {
           "style": "light"
          },
          "paper_bgcolor": "white",
          "plot_bgcolor": "#E5ECF6",
          "polar": {
           "angularaxis": {
            "gridcolor": "white",
            "linecolor": "white",
            "ticks": ""
           },
           "bgcolor": "#E5ECF6",
           "radialaxis": {
            "gridcolor": "white",
            "linecolor": "white",
            "ticks": ""
           }
          },
          "scene": {
           "xaxis": {
            "backgroundcolor": "#E5ECF6",
            "gridcolor": "white",
            "gridwidth": 2,
            "linecolor": "white",
            "showbackground": true,
            "ticks": "",
            "zerolinecolor": "white"
           },
           "yaxis": {
            "backgroundcolor": "#E5ECF6",
            "gridcolor": "white",
            "gridwidth": 2,
            "linecolor": "white",
            "showbackground": true,
            "ticks": "",
            "zerolinecolor": "white"
           },
           "zaxis": {
            "backgroundcolor": "#E5ECF6",
            "gridcolor": "white",
            "gridwidth": 2,
            "linecolor": "white",
            "showbackground": true,
            "ticks": "",
            "zerolinecolor": "white"
           }
          },
          "shapedefaults": {
           "line": {
            "color": "#2a3f5f"
           }
          },
          "ternary": {
           "aaxis": {
            "gridcolor": "white",
            "linecolor": "white",
            "ticks": ""
           },
           "baxis": {
            "gridcolor": "white",
            "linecolor": "white",
            "ticks": ""
           },
           "bgcolor": "#E5ECF6",
           "caxis": {
            "gridcolor": "white",
            "linecolor": "white",
            "ticks": ""
           }
          },
          "title": {
           "x": 0.05
          },
          "xaxis": {
           "automargin": true,
           "gridcolor": "white",
           "linecolor": "white",
           "ticks": "",
           "title": {
            "standoff": 15
           },
           "zerolinecolor": "white",
           "zerolinewidth": 2
          },
          "yaxis": {
           "automargin": true,
           "gridcolor": "white",
           "linecolor": "white",
           "ticks": "",
           "title": {
            "standoff": 15
           },
           "zerolinecolor": "white",
           "zerolinewidth": 2
          }
         }
        },
        "title": {
         "text": "Mean Condition Values per Year (2012-2024)"
        },
        "xaxis": {
         "ticktext": [
          "2012",
          "2013",
          "2014",
          "2015",
          "2016",
          "2017",
          "2018",
          "2019",
          "2020",
          "2021",
          "2022",
          "2023",
          "2024"
         ],
         "tickvals": [
          "n_2012",
          "n_2013",
          "n_2014",
          "n_2015",
          "n_2016",
          "n_2017",
          "n_2018",
          "n_2019",
          "n_2020",
          "n_2021",
          "n_2022",
          "n_2023",
          "n_2024"
         ],
         "title": {
          "text": "Year"
         }
        },
        "yaxis": {
         "title": {
          "text": "Mean Condition Value"
         }
        }
       }
      }
     },
     "metadata": {},
     "output_type": "display_data"
    }
   ],
   "source": [
    "import plotly.graph_objs as go\n",
    "\n",
    "# Calculate the mean values for each year\n",
    "mean_values = filtered_bridges_III[['n_2012', 'n_2013', 'n_2014', 'n_2015', 'n_2016',\n",
    "                                   'n_2017', 'n_2018', 'n_2019', 'n_2020', 'n_2021',\n",
    "                                   'n_2022', 'n_2023', 'n_2024']].mean()\n",
    "\n",
    "# Convert the index (years) to a list for the x-axis\n",
    "years = mean_values.index\n",
    "\n",
    "# Create the plot\n",
    "fig = go.Figure()\n",
    "\n",
    "# Add a line trace for mean values\n",
    "fig.add_trace(go.Scatter(\n",
    "    x=years,\n",
    "    y=mean_values.values,\n",
    "    mode='lines+markers',\n",
    "    name='Mean Values',\n",
    "    line=dict(shape='spline')\n",
    "))\n",
    "\n",
    "# Update layout for better readability\n",
    "fig.update_layout(\n",
    "    title=\"Mean Condition Values per Year (2012-2024)\",\n",
    "    xaxis_title=\"Year\",\n",
    "    yaxis_title=\"Mean Condition Value\",\n",
    "    xaxis=dict(\n",
    "        tickvals=years,\n",
    "        # Display as '12, '13, etc.\n",
    "        ticktext=[year.split('_')[1] for year in years]\n",
    "    ),\n",
    "    font=dict(family=\"Calibri, sans-serif\", size=14),\n",
    "    plot_bgcolor='#EEEEEE'\n",
    ")\n",
    "\n",
    "fig.show()"
   ]
  },
  {
   "cell_type": "code",
   "execution_count": 8,
   "metadata": {},
   "outputs": [
    {
     "data": {
      "text/html": [
       "<div>\n",
       "<style scoped>\n",
       "    .dataframe tbody tr th:only-of-type {\n",
       "        vertical-align: middle;\n",
       "    }\n",
       "\n",
       "    .dataframe tbody tr th {\n",
       "        vertical-align: top;\n",
       "    }\n",
       "\n",
       "    .dataframe thead th {\n",
       "        text-align: right;\n",
       "    }\n",
       "</style>\n",
       "<table border=\"1\" class=\"dataframe\">\n",
       "  <thead>\n",
       "    <tr style=\"text-align: right;\">\n",
       "      <th></th>\n",
       "      <th>Year</th>\n",
       "      <th>Worsened</th>\n",
       "      <th>Improved</th>\n",
       "    </tr>\n",
       "  </thead>\n",
       "  <tbody>\n",
       "    <tr>\n",
       "      <th>0</th>\n",
       "      <td>2012</td>\n",
       "      <td>12</td>\n",
       "      <td>2</td>\n",
       "    </tr>\n",
       "    <tr>\n",
       "      <th>1</th>\n",
       "      <td>2013</td>\n",
       "      <td>113</td>\n",
       "      <td>15</td>\n",
       "    </tr>\n",
       "    <tr>\n",
       "      <th>2</th>\n",
       "      <td>2014</td>\n",
       "      <td>119</td>\n",
       "      <td>13</td>\n",
       "    </tr>\n",
       "    <tr>\n",
       "      <th>3</th>\n",
       "      <td>2015</td>\n",
       "      <td>286</td>\n",
       "      <td>42</td>\n",
       "    </tr>\n",
       "    <tr>\n",
       "      <th>4</th>\n",
       "      <td>2016</td>\n",
       "      <td>157</td>\n",
       "      <td>16</td>\n",
       "    </tr>\n",
       "    <tr>\n",
       "      <th>5</th>\n",
       "      <td>2017</td>\n",
       "      <td>107</td>\n",
       "      <td>16</td>\n",
       "    </tr>\n",
       "    <tr>\n",
       "      <th>6</th>\n",
       "      <td>2018</td>\n",
       "      <td>186</td>\n",
       "      <td>22</td>\n",
       "    </tr>\n",
       "    <tr>\n",
       "      <th>7</th>\n",
       "      <td>2019</td>\n",
       "      <td>478</td>\n",
       "      <td>24</td>\n",
       "    </tr>\n",
       "    <tr>\n",
       "      <th>8</th>\n",
       "      <td>2020</td>\n",
       "      <td>437</td>\n",
       "      <td>54</td>\n",
       "    </tr>\n",
       "    <tr>\n",
       "      <th>9</th>\n",
       "      <td>2021</td>\n",
       "      <td>677</td>\n",
       "      <td>75</td>\n",
       "    </tr>\n",
       "    <tr>\n",
       "      <th>10</th>\n",
       "      <td>2022</td>\n",
       "      <td>460</td>\n",
       "      <td>46</td>\n",
       "    </tr>\n",
       "    <tr>\n",
       "      <th>11</th>\n",
       "      <td>2023</td>\n",
       "      <td>282</td>\n",
       "      <td>73</td>\n",
       "    </tr>\n",
       "  </tbody>\n",
       "</table>\n",
       "</div>"
      ],
      "text/plain": [
       "    Year  Worsened  Improved\n",
       "0   2012        12         2\n",
       "1   2013       113        15\n",
       "2   2014       119        13\n",
       "3   2015       286        42\n",
       "4   2016       157        16\n",
       "5   2017       107        16\n",
       "6   2018       186        22\n",
       "7   2019       478        24\n",
       "8   2020       437        54\n",
       "9   2021       677        75\n",
       "10  2022       460        46\n",
       "11  2023       282        73"
      ]
     },
     "execution_count": 8,
     "metadata": {},
     "output_type": "execute_result"
    }
   ],
   "source": [
    "# Initialize dictionaries to store counts of worsening and improving conditions\n",
    "worsened_counts = {}\n",
    "improved_counts = {}\n",
    "\n",
    "# Loop over each year to compare conditions with the next year\n",
    "for year in range(2012, 2024):\n",
    "    # Columns for current year and next year\n",
    "    current_year_col = f\"n_{year}\"\n",
    "    next_year_col = f\"n_{year + 1}\"\n",
    "\n",
    "    # Filter out rows where either current or next year condition is zero\n",
    "    valid_data = filtered_bridges_III[(filtered_bridges_III[current_year_col] != 0) &\n",
    "                                      (filtered_bridges_III[next_year_col] != 0)]\n",
    "\n",
    "    # Count bridges with worsened conditions (next year condition is higher)\n",
    "    worsened_counts[year] = (valid_data[next_year_col]\n",
    "                             > valid_data[current_year_col]).sum()\n",
    "\n",
    "    # Count bridges with improved conditions (next year condition is lower)\n",
    "    improved_counts[year] = (valid_data[next_year_col]\n",
    "                             < valid_data[current_year_col]).sum()\n",
    "\n",
    "# Convert results to DataFrames for better readability\n",
    "worsened_df = pd.DataFrame(\n",
    "    list(worsened_counts.items()), columns=[\"Year\", \"Worsened\"])\n",
    "improved_df = pd.DataFrame(\n",
    "    list(improved_counts.items()), columns=[\"Year\", \"Improved\"])\n",
    "\n",
    "# Merge DataFrames to display the results side by side\n",
    "change_summary_df = pd.merge(worsened_df, improved_df, on=\"Year\")\n",
    "\n",
    "# Display the summary\n",
    "change_summary_df"
   ]
  },
  {
   "cell_type": "code",
   "execution_count": 15,
   "metadata": {},
   "outputs": [
    {
     "name": "stdout",
     "output_type": "stream",
     "text": [
      "R^2 for Worsened Conditions Trendline: 0.5615\n",
      "R^2 for Improved Conditions Trendline: 0.6728\n"
     ]
    },
    {
     "data": {
      "application/vnd.plotly.v1+json": {
       "config": {
        "plotlyServerURL": "https://plot.ly"
       },
       "data": [
        {
         "line": {
          "color": "#FF6600",
          "shape": "spline"
         },
         "marker": {
          "color": "#FF6600"
         },
         "mode": "lines+markers",
         "name": "Zhoršenie",
         "type": "scatter",
         "x": [
          2012,
          2013,
          2014,
          2015,
          2016,
          2017,
          2018,
          2019,
          2020,
          2021,
          2022,
          2023
         ],
         "y": [
          12,
          113,
          119,
          286,
          157,
          107,
          186,
          478,
          437,
          677,
          460,
          282
         ]
        },
        {
         "line": {
          "color": "#0066FF",
          "shape": "spline"
         },
         "marker": {
          "color": "#0066FF"
         },
         "mode": "lines+markers",
         "name": "Zlepšenie",
         "type": "scatter",
         "x": [
          2012,
          2013,
          2014,
          2015,
          2016,
          2017,
          2018,
          2019,
          2020,
          2021,
          2022,
          2023
         ],
         "y": [
          2,
          15,
          13,
          42,
          16,
          16,
          22,
          24,
          54,
          75,
          46,
          73
         ]
        },
        {
         "line": {
          "color": "#cc6a33",
          "dash": "dash"
         },
         "mode": "lines",
         "name": "Zhoršenie (trend)",
         "type": "scatter",
         "x": [
          2012,
          2013,
          2014,
          2015,
          2016,
          2017,
          2018,
          2019,
          2020,
          2021,
          2022,
          2023,
          2024,
          2025,
          2026
         ],
         "y": [
          49.32051282051543,
          90.56526806527108,
          131.81002331002674,
          173.0547785547824,
          214.29953379953804,
          255.5442890442937,
          296.78904428904934,
          338.033799533805,
          379.27855477856065,
          420.5233100233163,
          461.76806526807195,
          503.0128205128276,
          544.2575757575833,
          585.5023310023389,
          626.7470862470946
         ]
        },
        {
         "line": {
          "color": "#336fcc",
          "dash": "dash"
         },
         "mode": "lines",
         "name": "Zlepšenie (trend)",
         "type": "scatter",
         "x": [
          2012,
          2013,
          2014,
          2015,
          2016,
          2017,
          2018,
          2019,
          2020,
          2021,
          2022,
          2023,
          2024,
          2025,
          2026
         ],
         "y": [
          2.705128205127039,
          8.243589743588018,
          13.782051282050816,
          19.320512820511794,
          24.858974358972773,
          30.397435897433752,
          35.93589743589655,
          41.47435897435753,
          47.01282051281851,
          52.551282051281305,
          58.089743589742284,
          63.62820512820326,
          69.16666666666606,
          74.70512820512704,
          80.24358974358802
         ]
        }
       ],
       "layout": {
        "font": {
         "family": "Montserrat, sans-serif",
         "size": 14
        },
        "legend": {
         "orientation": "h",
         "x": 0.5,
         "xanchor": "center",
         "y": 1.02,
         "yanchor": "bottom"
        },
        "plot_bgcolor": "#EEEEEE",
        "template": {
         "data": {
          "bar": [
           {
            "error_x": {
             "color": "#2a3f5f"
            },
            "error_y": {
             "color": "#2a3f5f"
            },
            "marker": {
             "line": {
              "color": "#E5ECF6",
              "width": 0.5
             },
             "pattern": {
              "fillmode": "overlay",
              "size": 10,
              "solidity": 0.2
             }
            },
            "type": "bar"
           }
          ],
          "barpolar": [
           {
            "marker": {
             "line": {
              "color": "#E5ECF6",
              "width": 0.5
             },
             "pattern": {
              "fillmode": "overlay",
              "size": 10,
              "solidity": 0.2
             }
            },
            "type": "barpolar"
           }
          ],
          "carpet": [
           {
            "aaxis": {
             "endlinecolor": "#2a3f5f",
             "gridcolor": "white",
             "linecolor": "white",
             "minorgridcolor": "white",
             "startlinecolor": "#2a3f5f"
            },
            "baxis": {
             "endlinecolor": "#2a3f5f",
             "gridcolor": "white",
             "linecolor": "white",
             "minorgridcolor": "white",
             "startlinecolor": "#2a3f5f"
            },
            "type": "carpet"
           }
          ],
          "choropleth": [
           {
            "colorbar": {
             "outlinewidth": 0,
             "ticks": ""
            },
            "type": "choropleth"
           }
          ],
          "contour": [
           {
            "colorbar": {
             "outlinewidth": 0,
             "ticks": ""
            },
            "colorscale": [
             [
              0,
              "#0d0887"
             ],
             [
              0.1111111111111111,
              "#46039f"
             ],
             [
              0.2222222222222222,
              "#7201a8"
             ],
             [
              0.3333333333333333,
              "#9c179e"
             ],
             [
              0.4444444444444444,
              "#bd3786"
             ],
             [
              0.5555555555555556,
              "#d8576b"
             ],
             [
              0.6666666666666666,
              "#ed7953"
             ],
             [
              0.7777777777777778,
              "#fb9f3a"
             ],
             [
              0.8888888888888888,
              "#fdca26"
             ],
             [
              1,
              "#f0f921"
             ]
            ],
            "type": "contour"
           }
          ],
          "contourcarpet": [
           {
            "colorbar": {
             "outlinewidth": 0,
             "ticks": ""
            },
            "type": "contourcarpet"
           }
          ],
          "heatmap": [
           {
            "colorbar": {
             "outlinewidth": 0,
             "ticks": ""
            },
            "colorscale": [
             [
              0,
              "#0d0887"
             ],
             [
              0.1111111111111111,
              "#46039f"
             ],
             [
              0.2222222222222222,
              "#7201a8"
             ],
             [
              0.3333333333333333,
              "#9c179e"
             ],
             [
              0.4444444444444444,
              "#bd3786"
             ],
             [
              0.5555555555555556,
              "#d8576b"
             ],
             [
              0.6666666666666666,
              "#ed7953"
             ],
             [
              0.7777777777777778,
              "#fb9f3a"
             ],
             [
              0.8888888888888888,
              "#fdca26"
             ],
             [
              1,
              "#f0f921"
             ]
            ],
            "type": "heatmap"
           }
          ],
          "heatmapgl": [
           {
            "colorbar": {
             "outlinewidth": 0,
             "ticks": ""
            },
            "colorscale": [
             [
              0,
              "#0d0887"
             ],
             [
              0.1111111111111111,
              "#46039f"
             ],
             [
              0.2222222222222222,
              "#7201a8"
             ],
             [
              0.3333333333333333,
              "#9c179e"
             ],
             [
              0.4444444444444444,
              "#bd3786"
             ],
             [
              0.5555555555555556,
              "#d8576b"
             ],
             [
              0.6666666666666666,
              "#ed7953"
             ],
             [
              0.7777777777777778,
              "#fb9f3a"
             ],
             [
              0.8888888888888888,
              "#fdca26"
             ],
             [
              1,
              "#f0f921"
             ]
            ],
            "type": "heatmapgl"
           }
          ],
          "histogram": [
           {
            "marker": {
             "pattern": {
              "fillmode": "overlay",
              "size": 10,
              "solidity": 0.2
             }
            },
            "type": "histogram"
           }
          ],
          "histogram2d": [
           {
            "colorbar": {
             "outlinewidth": 0,
             "ticks": ""
            },
            "colorscale": [
             [
              0,
              "#0d0887"
             ],
             [
              0.1111111111111111,
              "#46039f"
             ],
             [
              0.2222222222222222,
              "#7201a8"
             ],
             [
              0.3333333333333333,
              "#9c179e"
             ],
             [
              0.4444444444444444,
              "#bd3786"
             ],
             [
              0.5555555555555556,
              "#d8576b"
             ],
             [
              0.6666666666666666,
              "#ed7953"
             ],
             [
              0.7777777777777778,
              "#fb9f3a"
             ],
             [
              0.8888888888888888,
              "#fdca26"
             ],
             [
              1,
              "#f0f921"
             ]
            ],
            "type": "histogram2d"
           }
          ],
          "histogram2dcontour": [
           {
            "colorbar": {
             "outlinewidth": 0,
             "ticks": ""
            },
            "colorscale": [
             [
              0,
              "#0d0887"
             ],
             [
              0.1111111111111111,
              "#46039f"
             ],
             [
              0.2222222222222222,
              "#7201a8"
             ],
             [
              0.3333333333333333,
              "#9c179e"
             ],
             [
              0.4444444444444444,
              "#bd3786"
             ],
             [
              0.5555555555555556,
              "#d8576b"
             ],
             [
              0.6666666666666666,
              "#ed7953"
             ],
             [
              0.7777777777777778,
              "#fb9f3a"
             ],
             [
              0.8888888888888888,
              "#fdca26"
             ],
             [
              1,
              "#f0f921"
             ]
            ],
            "type": "histogram2dcontour"
           }
          ],
          "mesh3d": [
           {
            "colorbar": {
             "outlinewidth": 0,
             "ticks": ""
            },
            "type": "mesh3d"
           }
          ],
          "parcoords": [
           {
            "line": {
             "colorbar": {
              "outlinewidth": 0,
              "ticks": ""
             }
            },
            "type": "parcoords"
           }
          ],
          "pie": [
           {
            "automargin": true,
            "type": "pie"
           }
          ],
          "scatter": [
           {
            "marker": {
             "colorbar": {
              "outlinewidth": 0,
              "ticks": ""
             }
            },
            "type": "scatter"
           }
          ],
          "scatter3d": [
           {
            "line": {
             "colorbar": {
              "outlinewidth": 0,
              "ticks": ""
             }
            },
            "marker": {
             "colorbar": {
              "outlinewidth": 0,
              "ticks": ""
             }
            },
            "type": "scatter3d"
           }
          ],
          "scattercarpet": [
           {
            "marker": {
             "colorbar": {
              "outlinewidth": 0,
              "ticks": ""
             }
            },
            "type": "scattercarpet"
           }
          ],
          "scattergeo": [
           {
            "marker": {
             "colorbar": {
              "outlinewidth": 0,
              "ticks": ""
             }
            },
            "type": "scattergeo"
           }
          ],
          "scattergl": [
           {
            "marker": {
             "colorbar": {
              "outlinewidth": 0,
              "ticks": ""
             }
            },
            "type": "scattergl"
           }
          ],
          "scattermapbox": [
           {
            "marker": {
             "colorbar": {
              "outlinewidth": 0,
              "ticks": ""
             }
            },
            "type": "scattermapbox"
           }
          ],
          "scatterpolar": [
           {
            "marker": {
             "colorbar": {
              "outlinewidth": 0,
              "ticks": ""
             }
            },
            "type": "scatterpolar"
           }
          ],
          "scatterpolargl": [
           {
            "marker": {
             "colorbar": {
              "outlinewidth": 0,
              "ticks": ""
             }
            },
            "type": "scatterpolargl"
           }
          ],
          "scatterternary": [
           {
            "marker": {
             "colorbar": {
              "outlinewidth": 0,
              "ticks": ""
             }
            },
            "type": "scatterternary"
           }
          ],
          "surface": [
           {
            "colorbar": {
             "outlinewidth": 0,
             "ticks": ""
            },
            "colorscale": [
             [
              0,
              "#0d0887"
             ],
             [
              0.1111111111111111,
              "#46039f"
             ],
             [
              0.2222222222222222,
              "#7201a8"
             ],
             [
              0.3333333333333333,
              "#9c179e"
             ],
             [
              0.4444444444444444,
              "#bd3786"
             ],
             [
              0.5555555555555556,
              "#d8576b"
             ],
             [
              0.6666666666666666,
              "#ed7953"
             ],
             [
              0.7777777777777778,
              "#fb9f3a"
             ],
             [
              0.8888888888888888,
              "#fdca26"
             ],
             [
              1,
              "#f0f921"
             ]
            ],
            "type": "surface"
           }
          ],
          "table": [
           {
            "cells": {
             "fill": {
              "color": "#EBF0F8"
             },
             "line": {
              "color": "white"
             }
            },
            "header": {
             "fill": {
              "color": "#C8D4E3"
             },
             "line": {
              "color": "white"
             }
            },
            "type": "table"
           }
          ]
         },
         "layout": {
          "annotationdefaults": {
           "arrowcolor": "#2a3f5f",
           "arrowhead": 0,
           "arrowwidth": 1
          },
          "autotypenumbers": "strict",
          "coloraxis": {
           "colorbar": {
            "outlinewidth": 0,
            "ticks": ""
           }
          },
          "colorscale": {
           "diverging": [
            [
             0,
             "#8e0152"
            ],
            [
             0.1,
             "#c51b7d"
            ],
            [
             0.2,
             "#de77ae"
            ],
            [
             0.3,
             "#f1b6da"
            ],
            [
             0.4,
             "#fde0ef"
            ],
            [
             0.5,
             "#f7f7f7"
            ],
            [
             0.6,
             "#e6f5d0"
            ],
            [
             0.7,
             "#b8e186"
            ],
            [
             0.8,
             "#7fbc41"
            ],
            [
             0.9,
             "#4d9221"
            ],
            [
             1,
             "#276419"
            ]
           ],
           "sequential": [
            [
             0,
             "#0d0887"
            ],
            [
             0.1111111111111111,
             "#46039f"
            ],
            [
             0.2222222222222222,
             "#7201a8"
            ],
            [
             0.3333333333333333,
             "#9c179e"
            ],
            [
             0.4444444444444444,
             "#bd3786"
            ],
            [
             0.5555555555555556,
             "#d8576b"
            ],
            [
             0.6666666666666666,
             "#ed7953"
            ],
            [
             0.7777777777777778,
             "#fb9f3a"
            ],
            [
             0.8888888888888888,
             "#fdca26"
            ],
            [
             1,
             "#f0f921"
            ]
           ],
           "sequentialminus": [
            [
             0,
             "#0d0887"
            ],
            [
             0.1111111111111111,
             "#46039f"
            ],
            [
             0.2222222222222222,
             "#7201a8"
            ],
            [
             0.3333333333333333,
             "#9c179e"
            ],
            [
             0.4444444444444444,
             "#bd3786"
            ],
            [
             0.5555555555555556,
             "#d8576b"
            ],
            [
             0.6666666666666666,
             "#ed7953"
            ],
            [
             0.7777777777777778,
             "#fb9f3a"
            ],
            [
             0.8888888888888888,
             "#fdca26"
            ],
            [
             1,
             "#f0f921"
            ]
           ]
          },
          "colorway": [
           "#636efa",
           "#EF553B",
           "#00cc96",
           "#ab63fa",
           "#FFA15A",
           "#19d3f3",
           "#FF6692",
           "#B6E880",
           "#FF97FF",
           "#FECB52"
          ],
          "font": {
           "color": "#2a3f5f"
          },
          "geo": {
           "bgcolor": "white",
           "lakecolor": "white",
           "landcolor": "#E5ECF6",
           "showlakes": true,
           "showland": true,
           "subunitcolor": "white"
          },
          "hoverlabel": {
           "align": "left"
          },
          "hovermode": "closest",
          "mapbox": {
           "style": "light"
          },
          "paper_bgcolor": "white",
          "plot_bgcolor": "#E5ECF6",
          "polar": {
           "angularaxis": {
            "gridcolor": "white",
            "linecolor": "white",
            "ticks": ""
           },
           "bgcolor": "#E5ECF6",
           "radialaxis": {
            "gridcolor": "white",
            "linecolor": "white",
            "ticks": ""
           }
          },
          "scene": {
           "xaxis": {
            "backgroundcolor": "#E5ECF6",
            "gridcolor": "white",
            "gridwidth": 2,
            "linecolor": "white",
            "showbackground": true,
            "ticks": "",
            "zerolinecolor": "white"
           },
           "yaxis": {
            "backgroundcolor": "#E5ECF6",
            "gridcolor": "white",
            "gridwidth": 2,
            "linecolor": "white",
            "showbackground": true,
            "ticks": "",
            "zerolinecolor": "white"
           },
           "zaxis": {
            "backgroundcolor": "#E5ECF6",
            "gridcolor": "white",
            "gridwidth": 2,
            "linecolor": "white",
            "showbackground": true,
            "ticks": "",
            "zerolinecolor": "white"
           }
          },
          "shapedefaults": {
           "line": {
            "color": "#2a3f5f"
           }
          },
          "ternary": {
           "aaxis": {
            "gridcolor": "white",
            "linecolor": "white",
            "ticks": ""
           },
           "baxis": {
            "gridcolor": "white",
            "linecolor": "white",
            "ticks": ""
           },
           "bgcolor": "#E5ECF6",
           "caxis": {
            "gridcolor": "white",
            "linecolor": "white",
            "ticks": ""
           }
          },
          "title": {
           "x": 0.05
          },
          "xaxis": {
           "automargin": true,
           "gridcolor": "white",
           "linecolor": "white",
           "ticks": "",
           "title": {
            "standoff": 15
           },
           "zerolinecolor": "white",
           "zerolinewidth": 2
          },
          "yaxis": {
           "automargin": true,
           "gridcolor": "white",
           "linecolor": "white",
           "ticks": "",
           "title": {
            "standoff": 15
           },
           "zerolinecolor": "white",
           "zerolinewidth": 2
          }
         }
        },
        "title": {
         "text": "Ročná zmena stavebno-technického stavu mostov na cestách III. triedy"
        },
        "xaxis": {
         "tickvals": [
          2012,
          2014,
          2016,
          2018,
          2020,
          2022,
          2024,
          2026,
          2028,
          2030,
          2032,
          2034
         ],
         "title": {
          "text": "Rok"
         }
        },
        "yaxis": {
         "title": {
          "text": "Počet mostov"
         }
        }
       }
      }
     },
     "metadata": {},
     "output_type": "display_data"
    }
   ],
   "source": [
    "import numpy as np\n",
    "from sklearn.linear_model import LinearRegression\n",
    "from sklearn.preprocessing import PolynomialFeatures\n",
    "from sklearn.metrics import r2_score\n",
    "import plotly.graph_objs as go\n",
    "\n",
    "# Prepare data for trendlines\n",
    "years = change_summary_df[\"Year\"].values.reshape(-1, 1)\n",
    "\n",
    "# Polynomial degree for trendlines (adjust as needed)\n",
    "degree = 1\n",
    "poly = PolynomialFeatures(degree=degree)\n",
    "\n",
    "# Fit trendline for worsened conditions\n",
    "X_poly_worsened = poly.fit_transform(years)\n",
    "model_worsened = LinearRegression().fit(\n",
    "    X_poly_worsened, change_summary_df[\"Worsened\"])\n",
    "trend_worsened = model_worsened.predict(X_poly_worsened)\n",
    "\n",
    "# Calculate R^2 for worsened conditions\n",
    "r2_worsened = r2_score(change_summary_df[\"Worsened\"], trend_worsened)\n",
    "\n",
    "# Fit trendline for improved conditions\n",
    "X_poly_improved = poly.fit_transform(years)\n",
    "model_improved = LinearRegression().fit(\n",
    "    X_poly_improved, change_summary_df[\"Improved\"])\n",
    "trend_improved = model_improved.predict(X_poly_improved)\n",
    "\n",
    "# Calculate R^2 for improved conditions\n",
    "r2_improved = r2_score(change_summary_df[\"Improved\"], trend_improved)\n",
    "\n",
    "# Print R^2 values\n",
    "print(f\"R^2 for Worsened Conditions Trendline: {r2_worsened:.4f}\")\n",
    "print(f\"R^2 for Improved Conditions Trendline: {r2_improved:.4f}\")\n",
    "\n",
    "# Extend the years for plotting the trendlines up to 2035\n",
    "extended_years = np.arange(2012, 2027).reshape(-1, 1)\n",
    "X_poly_extended = poly.transform(extended_years)\n",
    "\n",
    "# Predict trend values over the extended range\n",
    "extended_trend_worsened = model_worsened.predict(X_poly_extended)\n",
    "extended_trend_improved = model_improved.predict(X_poly_extended)\n",
    "\n",
    "# Create the plot\n",
    "fig = go.Figure()\n",
    "\n",
    "# Plot the original data for worsened and improved conditions with custom colors\n",
    "fig.add_trace(go.Scatter(\n",
    "    x=change_summary_df[\"Year\"],\n",
    "    y=change_summary_df[\"Worsened\"],\n",
    "    mode='lines+markers',\n",
    "    name='Zhoršenie',\n",
    "    line=dict(shape='spline', color='#FF6600'),  # Tomato color\n",
    "    marker=dict(color='#FF6600')\n",
    "))\n",
    "\n",
    "fig.add_trace(go.Scatter(\n",
    "    x=change_summary_df[\"Year\"],\n",
    "    y=change_summary_df[\"Improved\"],\n",
    "    mode='lines+markers',\n",
    "    name='Zlepšenie',\n",
    "    line=dict(shape='spline', color='#0066FF'),  # Steel blue color\n",
    "    marker=dict(color='#0066FF')\n",
    "))\n",
    "\n",
    "# Plot the extended trendlines with custom colors\n",
    "fig.add_trace(go.Scatter(\n",
    "    x=extended_years.flatten(),\n",
    "    y=extended_trend_worsened,\n",
    "    mode='lines',\n",
    "    name='Zhoršenie (trend)',\n",
    "    line=dict(dash='dash', color='#cc6a33')  # OrangeRed color\n",
    "))\n",
    "\n",
    "fig.add_trace(go.Scatter(\n",
    "    x=extended_years.flatten(),\n",
    "    y=extended_trend_improved,\n",
    "    mode='lines',\n",
    "    name='Zlepšenie (trend)',\n",
    "    line=dict(dash='dash', color='#336fcc')  # DodgerBlue color\n",
    "))\n",
    "\n",
    "# Update layout for readability and move legend to the top\n",
    "fig.update_layout(\n",
    "    title=\"Ročná zmena stavebno-technického stavu mostov na cestách III. triedy\",\n",
    "    xaxis_title=\"Rok\",\n",
    "    yaxis_title=\"Počet mostov\",\n",
    "    # Adjust ticks for readability\n",
    "    xaxis=dict(tickvals=list(range(2012, 2036, 2))),\n",
    "    font=dict(family=\"Montserrat, sans-serif\", size=14),\n",
    "    plot_bgcolor='#EEEEEE',\n",
    "    legend=dict(\n",
    "        orientation=\"h\",\n",
    "        yanchor=\"bottom\",\n",
    "        y=1.02,\n",
    "        xanchor=\"center\",\n",
    "        x=0.5\n",
    "    )\n",
    ")\n",
    "\n",
    "fig.show()"
   ]
  },
  {
   "cell_type": "code",
   "execution_count": 14,
   "metadata": {},
   "outputs": [],
   "source": [
    "import plotly.graph_objs as go\n",
    "def calculate_relative_condition_counts(data, start_year=2012, end_year=2024):\n",
    "    relative_counts = pd.DataFrame()\n",
    "\n",
    "    for year in range(start_year, end_year + 1):\n",
    "        column_name = f\"n_{year}\"\n",
    "        year_data = data[data[column_name] > 0]  # Exclude bridges not assessed\n",
    "        counts = year_data[column_name].value_counts().rename_axis(\n",
    "            'Condition').reset_index(name=column_name)\n",
    "        total = counts[column_name].sum()\n",
    "        counts[column_name] = (counts[column_name] / total) * 100\n",
    "\n",
    "        if relative_counts.empty:\n",
    "            relative_counts = counts\n",
    "        else:\n",
    "            relative_counts = pd.merge(\n",
    "                relative_counts, counts, on='Condition', how='outer')\n",
    "\n",
    "    relative_counts.fillna(0, inplace=True)\n",
    "    relative_counts.sort_values('Condition', inplace=True)\n",
    "    return relative_counts\n",
    "\n",
    "\n",
    "def calculate_absolute_condition_counts(data, start_year=2012, end_year=2024):\n",
    "    absolute_counts = pd.DataFrame()\n",
    "\n",
    "    for year in range(start_year, end_year + 1):\n",
    "        column_name = f\"n_{year}\"\n",
    "        year_data = data[data[column_name] > 0]  # Exclude bridges not assessed\n",
    "        counts = year_data[column_name].value_counts().rename_axis(\n",
    "            'Condition').reset_index(name=column_name)\n",
    "\n",
    "        if absolute_counts.empty:\n",
    "            absolute_counts = counts\n",
    "        else:\n",
    "            absolute_counts = pd.merge(\n",
    "                absolute_counts, counts, on='Condition', how='outer')\n",
    "\n",
    "    absolute_counts.fillna(0, inplace=True)\n",
    "    absolute_counts.sort_values('Condition', inplace=True)\n",
    "    return absolute_counts\n",
    "\n",
    "\n",
    "def create_plot(relative_counts, title, filename, start_year=2012, end_year=2024, b=500, h=500):\n",
    "    color_palette = ['#46a7a2', '#e7a564', '#8bae7c',\n",
    "                     '#353a29', '#eae1a9', '#c25469', '#2d505d']\n",
    "\n",
    "    # Set up the years range based on start and end year\n",
    "    years = [f\"n_{year}\" for year in range(start_year, end_year + 1)]\n",
    "    display_years = [str(year) for year in range(start_year, end_year + 1)]\n",
    "\n",
    "    # Adjust data for plotting\n",
    "    data_for_plotting = relative_counts.set_index(\n",
    "        'Condition')[years].T.reset_index()\n",
    "    data_for_plotting.rename(columns={'index': 'Year'}, inplace=True)\n",
    "    data_for_plotting['Year'] = display_years\n",
    "\n",
    "    fig = go.Figure()\n",
    "\n",
    "    for i, condition in reversed(list(enumerate(relative_counts['Condition'].unique()))):\n",
    "        fig.add_trace(go.Scatter(\n",
    "            x=data_for_plotting['Year'],\n",
    "            y=data_for_plotting[condition],\n",
    "            mode='lines',\n",
    "            stackgroup='one',\n",
    "            name=str(condition),\n",
    "            line=dict(color=color_palette[i % len(color_palette)])\n",
    "        ))\n",
    "\n",
    "    fig.update_layout(\n",
    "        title=title,\n",
    "        yaxis_title='percentuálne zastúpenie',\n",
    "        yaxis=dict(ticksuffix=\"%\", range=[0, 100]),\n",
    "        font=dict(family=\"Calibri, sans-serif\", size=14),\n",
    "        legend=dict(\n",
    "            orientation=\"h\",\n",
    "            yanchor=\"top\",\n",
    "            y=1.080,\n",
    "            xanchor=\"right\",\n",
    "            x=1\n",
    "        ),\n",
    "        xaxis=dict(\n",
    "            tickvals=[str(year) for year in range(start_year, end_year + 1)],\n",
    "            ticktext=[\n",
    "                f\"'{str(year)[-2:]}\" for year in range(start_year, end_year + 1)]\n",
    "        ),\n",
    "        plot_bgcolor='#EEEEEE',\n",
    "        margin=dict(l=0, r=20, t=75, b=25),\n",
    "        width=b,\n",
    "        height=h\n",
    "    )\n",
    "\n",
    "    fig.show()"
   ]
  },
  {
   "cell_type": "code",
   "execution_count": 15,
   "metadata": {},
   "outputs": [],
   "source": [
    "relative_condition_counts_III = calculate_relative_condition_counts(\n",
    "    filtered_bridges_III)"
   ]
  },
  {
   "cell_type": "markdown",
   "metadata": {},
   "source": [
    "## Relatívne"
   ]
  },
  {
   "cell_type": "code",
   "execution_count": 16,
   "metadata": {},
   "outputs": [
    {
     "name": "stdout",
     "output_type": "stream",
     "text": [
      "   Condition  Predicted_2024  Actual_2024\n",
      "0          1        1.149810     2.117469\n",
      "1          2        1.601031     2.344341\n",
      "2          3        6.674512    14.847492\n",
      "3          4       45.706814    44.517267\n",
      "4          5       32.011866    25.560877\n",
      "5          6       12.287614    10.209226\n",
      "6          7        0.570957     0.403327\n"
     ]
    }
   ],
   "source": [
    "import pandas as pd\n",
    "from sklearn.linear_model import LinearRegression\n",
    "from sklearn.preprocessing import PolynomialFeatures\n",
    "import numpy as np\n",
    "\n",
    "# Adjust years to match the column names in the format 'n_2012', 'n_2013', etc.\n",
    "years = [f\"n_{year}\" for year in range(2012, 2024)]\n",
    "# Years as integers for model input\n",
    "X_train = np.array(range(2012, 2024)).reshape(-1, 1)\n",
    "\n",
    "predictions = {}\n",
    "\n",
    "# Use PolynomialFeatures to generate polynomial terms\n",
    "degree = 3  # You can adjust this to 3 or higher if needed\n",
    "poly = PolynomialFeatures(degree=degree)\n",
    "\n",
    "# Transform X_train to include polynomial terms\n",
    "X_train_poly = poly.fit_transform(X_train)\n",
    "\n",
    "for condition in relative_condition_counts_III['Condition'].unique():\n",
    "    # Select condition data from 2012 to 2023 for the current condition\n",
    "    y_train = relative_condition_counts_III.loc[\n",
    "        relative_condition_counts_III['Condition'] == condition, years\n",
    "    ].values.flatten()\n",
    "\n",
    "    # Train a Linear Regression model with polynomial features\n",
    "    model = LinearRegression()\n",
    "    model.fit(X_train_poly, y_train)\n",
    "\n",
    "    # Predict for 2024 with polynomial features\n",
    "    X_test_poly = poly.transform(np.array([[2024]]))\n",
    "    prediction_2024 = model.predict(X_test_poly)\n",
    "    predictions[condition] = prediction_2024[0]\n",
    "\n",
    "# Combine predictions with actual values for comparison\n",
    "actual_2024 = relative_condition_counts_III.set_index('Condition')['n_2024']\n",
    "predictions_df = pd.DataFrame({\n",
    "    'Condition': predictions.keys(),\n",
    "    'Predicted_2024': predictions.values(),\n",
    "    'Actual_2024': actual_2024\n",
    "}).reset_index(drop=True)\n",
    "\n",
    "print(predictions_df)"
   ]
  },
  {
   "cell_type": "code",
   "execution_count": 17,
   "metadata": {},
   "outputs": [
    {
     "data": {
      "text/html": [
       "<div>\n",
       "<style scoped>\n",
       "    .dataframe tbody tr th:only-of-type {\n",
       "        vertical-align: middle;\n",
       "    }\n",
       "\n",
       "    .dataframe tbody tr th {\n",
       "        vertical-align: top;\n",
       "    }\n",
       "\n",
       "    .dataframe thead th {\n",
       "        text-align: right;\n",
       "    }\n",
       "</style>\n",
       "<table border=\"1\" class=\"dataframe\">\n",
       "  <thead>\n",
       "    <tr style=\"text-align: right;\">\n",
       "      <th></th>\n",
       "      <th>Condition</th>\n",
       "      <th>n_2012</th>\n",
       "      <th>n_2013</th>\n",
       "      <th>n_2014</th>\n",
       "      <th>n_2015</th>\n",
       "      <th>n_2016</th>\n",
       "      <th>n_2017</th>\n",
       "      <th>n_2018</th>\n",
       "      <th>n_2019</th>\n",
       "      <th>n_2020</th>\n",
       "      <th>...</th>\n",
       "      <th>n_2026</th>\n",
       "      <th>n_2027</th>\n",
       "      <th>n_2028</th>\n",
       "      <th>n_2029</th>\n",
       "      <th>n_2030</th>\n",
       "      <th>n_2031</th>\n",
       "      <th>n_2032</th>\n",
       "      <th>n_2033</th>\n",
       "      <th>n_2034</th>\n",
       "      <th>n_2035</th>\n",
       "    </tr>\n",
       "  </thead>\n",
       "  <tbody>\n",
       "    <tr>\n",
       "      <th>0</th>\n",
       "      <td>1</td>\n",
       "      <td>3.249097</td>\n",
       "      <td>3.274884</td>\n",
       "      <td>3.251613</td>\n",
       "      <td>3.399433</td>\n",
       "      <td>3.460651</td>\n",
       "      <td>3.380282</td>\n",
       "      <td>3.427110</td>\n",
       "      <td>3.243105</td>\n",
       "      <td>2.395515</td>\n",
       "      <td>...</td>\n",
       "      <td>2.043520</td>\n",
       "      <td>2.359618</td>\n",
       "      <td>2.855518</td>\n",
       "      <td>3.555269</td>\n",
       "      <td>4.482921</td>\n",
       "      <td>5.662521</td>\n",
       "      <td>7.118118</td>\n",
       "      <td>8.873761</td>\n",
       "      <td>10.953499</td>\n",
       "      <td>13.381381</td>\n",
       "    </tr>\n",
       "    <tr>\n",
       "      <th>1</th>\n",
       "      <td>2</td>\n",
       "      <td>9.979371</td>\n",
       "      <td>9.876225</td>\n",
       "      <td>9.470968</td>\n",
       "      <td>9.296935</td>\n",
       "      <td>8.126122</td>\n",
       "      <td>6.862996</td>\n",
       "      <td>6.624041</td>\n",
       "      <td>6.460674</td>\n",
       "      <td>5.020387</td>\n",
       "      <td>...</td>\n",
       "      <td>1.595663</td>\n",
       "      <td>1.650524</td>\n",
       "      <td>1.968045</td>\n",
       "      <td>2.581057</td>\n",
       "      <td>3.522389</td>\n",
       "      <td>4.824871</td>\n",
       "      <td>6.521330</td>\n",
       "      <td>8.644598</td>\n",
       "      <td>11.227504</td>\n",
       "      <td>14.302876</td>\n",
       "    </tr>\n",
       "    <tr>\n",
       "      <th>2</th>\n",
       "      <td>3</td>\n",
       "      <td>48.504384</td>\n",
       "      <td>48.452811</td>\n",
       "      <td>47.380645</td>\n",
       "      <td>45.377286</td>\n",
       "      <td>41.912330</td>\n",
       "      <td>40.588988</td>\n",
       "      <td>39.820972</td>\n",
       "      <td>37.512768</td>\n",
       "      <td>32.823649</td>\n",
       "      <td>...</td>\n",
       "      <td>1.028004</td>\n",
       "      <td>-5.240359</td>\n",
       "      <td>-11.798452</td>\n",
       "      <td>-18.628457</td>\n",
       "      <td>-25.712553</td>\n",
       "      <td>-33.032921</td>\n",
       "      <td>-40.571743</td>\n",
       "      <td>-48.311199</td>\n",
       "      <td>-56.233470</td>\n",
       "      <td>-64.320737</td>\n",
       "    </tr>\n",
       "    <tr>\n",
       "      <th>3</th>\n",
       "      <td>4</td>\n",
       "      <td>29.989685</td>\n",
       "      <td>30.092831</td>\n",
       "      <td>31.200000</td>\n",
       "      <td>32.758177</td>\n",
       "      <td>36.657267</td>\n",
       "      <td>39.257362</td>\n",
       "      <td>39.590793</td>\n",
       "      <td>40.653728</td>\n",
       "      <td>43.781855</td>\n",
       "      <td>...</td>\n",
       "      <td>38.505598</td>\n",
       "      <td>33.067510</td>\n",
       "      <td>25.879708</td>\n",
       "      <td>16.765630</td>\n",
       "      <td>5.548711</td>\n",
       "      <td>-7.947610</td>\n",
       "      <td>-23.899898</td>\n",
       "      <td>-42.484716</td>\n",
       "      <td>-63.878626</td>\n",
       "      <td>-88.258192</td>\n",
       "    </tr>\n",
       "    <tr>\n",
       "      <th>4</th>\n",
       "      <td>5</td>\n",
       "      <td>5.956679</td>\n",
       "      <td>6.008252</td>\n",
       "      <td>6.167742</td>\n",
       "      <td>6.386814</td>\n",
       "      <td>6.870033</td>\n",
       "      <td>6.991037</td>\n",
       "      <td>7.212276</td>\n",
       "      <td>8.478039</td>\n",
       "      <td>11.085627</td>\n",
       "      <td>...</td>\n",
       "      <td>40.236363</td>\n",
       "      <td>48.215641</td>\n",
       "      <td>57.297441</td>\n",
       "      <td>67.549467</td>\n",
       "      <td>79.039419</td>\n",
       "      <td>91.834999</td>\n",
       "      <td>106.003909</td>\n",
       "      <td>121.613851</td>\n",
       "      <td>138.732526</td>\n",
       "      <td>157.427635</td>\n",
       "    </tr>\n",
       "    <tr>\n",
       "      <th>5</th>\n",
       "      <td>6</td>\n",
       "      <td>2.114492</td>\n",
       "      <td>2.114492</td>\n",
       "      <td>2.348387</td>\n",
       "      <td>2.549575</td>\n",
       "      <td>2.794155</td>\n",
       "      <td>2.791293</td>\n",
       "      <td>3.145780</td>\n",
       "      <td>3.575077</td>\n",
       "      <td>4.765545</td>\n",
       "      <td>...</td>\n",
       "      <td>15.741448</td>\n",
       "      <td>18.818028</td>\n",
       "      <td>22.328335</td>\n",
       "      <td>26.300960</td>\n",
       "      <td>30.764496</td>\n",
       "      <td>35.747536</td>\n",
       "      <td>41.278673</td>\n",
       "      <td>47.386500</td>\n",
       "      <td>54.099608</td>\n",
       "      <td>61.446592</td>\n",
       "    </tr>\n",
       "    <tr>\n",
       "      <th>6</th>\n",
       "      <td>7</td>\n",
       "      <td>0.206292</td>\n",
       "      <td>0.180505</td>\n",
       "      <td>0.180645</td>\n",
       "      <td>0.231780</td>\n",
       "      <td>0.179441</td>\n",
       "      <td>0.128041</td>\n",
       "      <td>0.179028</td>\n",
       "      <td>0.076609</td>\n",
       "      <td>0.127421</td>\n",
       "      <td>...</td>\n",
       "      <td>0.847977</td>\n",
       "      <td>1.127432</td>\n",
       "      <td>1.467619</td>\n",
       "      <td>1.874108</td>\n",
       "      <td>2.352471</td>\n",
       "      <td>2.908280</td>\n",
       "      <td>3.547105</td>\n",
       "      <td>4.274519</td>\n",
       "      <td>5.096092</td>\n",
       "      <td>6.017397</td>\n",
       "    </tr>\n",
       "  </tbody>\n",
       "</table>\n",
       "<p>7 rows × 25 columns</p>\n",
       "</div>"
      ],
      "text/plain": [
       "   Condition     n_2012     n_2013     n_2014     n_2015     n_2016  \\\n",
       "0          1   3.249097   3.274884   3.251613   3.399433   3.460651   \n",
       "1          2   9.979371   9.876225   9.470968   9.296935   8.126122   \n",
       "2          3  48.504384  48.452811  47.380645  45.377286  41.912330   \n",
       "3          4  29.989685  30.092831  31.200000  32.758177  36.657267   \n",
       "4          5   5.956679   6.008252   6.167742   6.386814   6.870033   \n",
       "5          6   2.114492   2.114492   2.348387   2.549575   2.794155   \n",
       "6          7   0.206292   0.180505   0.180645   0.231780   0.179441   \n",
       "\n",
       "      n_2017     n_2018     n_2019     n_2020  ...     n_2026     n_2027  \\\n",
       "0   3.380282   3.427110   3.243105   2.395515  ...   2.043520   2.359618   \n",
       "1   6.862996   6.624041   6.460674   5.020387  ...   1.595663   1.650524   \n",
       "2  40.588988  39.820972  37.512768  32.823649  ...   1.028004  -5.240359   \n",
       "3  39.257362  39.590793  40.653728  43.781855  ...  38.505598  33.067510   \n",
       "4   6.991037   7.212276   8.478039  11.085627  ...  40.236363  48.215641   \n",
       "5   2.791293   3.145780   3.575077   4.765545  ...  15.741448  18.818028   \n",
       "6   0.128041   0.179028   0.076609   0.127421  ...   0.847977   1.127432   \n",
       "\n",
       "      n_2028     n_2029     n_2030     n_2031      n_2032      n_2033  \\\n",
       "0   2.855518   3.555269   4.482921   5.662521    7.118118    8.873761   \n",
       "1   1.968045   2.581057   3.522389   4.824871    6.521330    8.644598   \n",
       "2 -11.798452 -18.628457 -25.712553 -33.032921  -40.571743  -48.311199   \n",
       "3  25.879708  16.765630   5.548711  -7.947610  -23.899898  -42.484716   \n",
       "4  57.297441  67.549467  79.039419  91.834999  106.003909  121.613851   \n",
       "5  22.328335  26.300960  30.764496  35.747536   41.278673   47.386500   \n",
       "6   1.467619   1.874108   2.352471   2.908280    3.547105    4.274519   \n",
       "\n",
       "       n_2034      n_2035  \n",
       "0   10.953499   13.381381  \n",
       "1   11.227504   14.302876  \n",
       "2  -56.233470  -64.320737  \n",
       "3  -63.878626  -88.258192  \n",
       "4  138.732526  157.427635  \n",
       "5   54.099608   61.446592  \n",
       "6    5.096092    6.017397  \n",
       "\n",
       "[7 rows x 25 columns]"
      ]
     },
     "execution_count": 17,
     "metadata": {},
     "output_type": "execute_result"
    }
   ],
   "source": [
    "import pandas as pd\n",
    "from sklearn.linear_model import LinearRegression\n",
    "from sklearn.preprocessing import PolynomialFeatures\n",
    "import numpy as np\n",
    "\n",
    "# Create a copy of the original DataFrame to avoid modifying it\n",
    "df_predictions = relative_condition_counts_III.copy()\n",
    "\n",
    "# Extend years to 2035 in the format 'n_2012', 'n_2013', ..., 'n_2035'\n",
    "years = [f\"n_{year}\" for year in range(2012, 2036)]\n",
    "# Prepare X values for model training and predictions (from 2012 to 2035)\n",
    "X = np.array(range(2012, 2035 + 1)).reshape(-1, 1)\n",
    "\n",
    "# Initialize PolynomialFeatures with desired degree (adjust as necessary)\n",
    "degree = 3\n",
    "poly = PolynomialFeatures(degree=degree)\n",
    "X_poly = poly.fit_transform(X)\n",
    "\n",
    "# Initialize dictionary to store predictions for each condition\n",
    "future_predictions = {f\"n_{year}\": [] for year in range(2025, 2036)}\n",
    "\n",
    "for condition in df_predictions['Condition'].unique():\n",
    "    # Train model on the entire data from 2012 to 2024 for the current condition\n",
    "    y = df_predictions.loc[\n",
    "        df_predictions['Condition'] == condition,\n",
    "        [f\"n_{year}\" for year in range(2012, 2025)]\n",
    "    ].values.flatten()\n",
    "\n",
    "    # Train a Linear Regression model with polynomial features\n",
    "    model = LinearRegression()\n",
    "    model.fit(X_poly[:len(y)], y)\n",
    "\n",
    "    # Predict values from 2025 to 2035\n",
    "    for year in range(2025, 2036):\n",
    "        X_test_poly = poly.transform(np.array([[year]]))\n",
    "        future_predictions[f\"n_{year}\"].append(model.predict(X_test_poly)[0])\n",
    "\n",
    "# Append predictions to the DataFrame\n",
    "for year in range(2025, 2036):\n",
    "    df_predictions[f\"n_{year}\"] = future_predictions[f\"n_{year}\"]\n",
    "\n",
    "# Display the updated DataFrame with predictions for 2025-2035\n",
    "df_predictions"
   ]
  },
  {
   "cell_type": "code",
   "execution_count": 18,
   "metadata": {},
   "outputs": [],
   "source": [
    "# Calculate the total sum of the values\n",
    "total_sum = df_predictions[\"n_2025\"].sum()\n",
    "\n",
    "# Normalize the values to make the sum 100\n",
    "df_predictions[\"n_2025\"] = (\n",
    "    df_predictions[\"n_2025\"] / total_sum) * 100\n",
    "\n",
    "# Calculate the total sum of the values\n",
    "total_sum = df_predictions[\"n_2026\"].sum()\n",
    "\n",
    "# Normalize the values to make the sum 100\n",
    "df_predictions[\"n_2026\"] = (\n",
    "    df_predictions[\"n_2026\"] / total_sum) * 100"
   ]
  },
  {
   "cell_type": "code",
   "execution_count": 19,
   "metadata": {},
   "outputs": [
    {
     "data": {
      "application/vnd.plotly.v1+json": {
       "config": {
        "plotlyServerURL": "https://plot.ly"
       },
       "data": [
        {
         "line": {
          "color": "#2d505d"
         },
         "mode": "lines",
         "name": "7",
         "stackgroup": "one",
         "type": "scatter",
         "x": [
          "2012",
          "2013",
          "2014",
          "2015",
          "2016",
          "2017",
          "2018",
          "2019",
          "2020",
          "2021",
          "2022",
          "2023",
          "2024"
         ],
         "y": [
          0.2062919030428056,
          0.18050541516245489,
          0.18064516129032257,
          0.23177955189286636,
          0.17944116893104334,
          0.12804097311139565,
          0.17902813299232737,
          0.07660878447395301,
          0.127420998980632,
          0.10170353419781336,
          0.2792586951002793,
          0.380517503805175,
          0.40332745147466603
         ]
        },
        {
         "line": {
          "color": "#c25469"
         },
         "mode": "lines",
         "name": "6",
         "stackgroup": "one",
         "type": "scatter",
         "x": [
          "2012",
          "2013",
          "2014",
          "2015",
          "2016",
          "2017",
          "2018",
          "2019",
          "2020",
          "2021",
          "2022",
          "2023",
          "2024"
         ],
         "y": [
          2.1144920061887573,
          2.1144920061887573,
          2.3483870967741938,
          2.5495750708215295,
          2.794155344783389,
          2.791293213828425,
          3.1457800511508953,
          3.575076608784474,
          4.765545361875637,
          5.415713196033562,
          7.819243462807819,
          9.462201927955352,
          10.209226115452482
         ]
        },
        {
         "line": {
          "color": "#eae1a9"
         },
         "mode": "lines",
         "name": "5",
         "stackgroup": "one",
         "type": "scatter",
         "x": [
          "2012",
          "2013",
          "2014",
          "2015",
          "2016",
          "2017",
          "2018",
          "2019",
          "2020",
          "2021",
          "2022",
          "2023",
          "2024"
         ],
         "y": [
          5.956678700361011,
          6.008251676121712,
          6.167741935483871,
          6.38681431882565,
          6.8700333247885155,
          6.991037131882202,
          7.21227621483376,
          8.478038815117467,
          11.085626911314984,
          13.882532418001524,
          19.75120588981975,
          24.124809741248097,
          25.56087723720696
         ]
        },
        {
         "line": {
          "color": "#353a29"
         },
         "mode": "lines",
         "name": "4",
         "stackgroup": "one",
         "type": "scatter",
         "x": [
          "2012",
          "2013",
          "2014",
          "2015",
          "2016",
          "2017",
          "2018",
          "2019",
          "2020",
          "2021",
          "2022",
          "2023",
          "2024"
         ],
         "y": [
          29.98968540484786,
          30.092831356369267,
          31.2,
          32.758176667525106,
          36.6572673673417,
          39.25736235595391,
          39.59079283887468,
          40.65372829417773,
          43.78185524974516,
          46.42766336130181,
          47.194719471947195,
          45.96651445966514,
          44.51726745651626
         ]
        },
        {
         "line": {
          "color": "#8bae7c"
         },
         "mode": "lines",
         "name": "3",
         "stackgroup": "one",
         "type": "scatter",
         "x": [
          "2012",
          "2013",
          "2014",
          "2015",
          "2016",
          "2017",
          "2018",
          "2019",
          "2020",
          "2021",
          "2022",
          "2023",
          "2024"
         ],
         "y": [
          48.504383702939656,
          48.45281072717896,
          47.380645161290325,
          45.377285603914494,
          41.91233017175083,
          40.58898847631242,
          39.82097186700767,
          37.51276813074566,
          32.82364933741081,
          27.866768370200862,
          19.97969027671998,
          15.854895991882293,
          14.847491807411142
         ]
        },
        {
         "line": {
          "color": "#e7a564"
         },
         "mode": "lines",
         "name": "2",
         "stackgroup": "one",
         "type": "scatter",
         "x": [
          "2012",
          "2013",
          "2014",
          "2015",
          "2016",
          "2017",
          "2018",
          "2019",
          "2020",
          "2021",
          "2022",
          "2023",
          "2024"
         ],
         "y": [
          9.97937080969572,
          9.876224858174316,
          9.470967741935484,
          9.296935359258306,
          8.12612150730582,
          6.862996158770807,
          6.624040920716112,
          6.460674157303371,
          5.020387359836901,
          4.1698449021103485,
          3.071845646103072,
          2.4606798579401317,
          2.344340811696496
         ]
        },
        {
         "line": {
          "color": "#46a7a2"
         },
         "mode": "lines",
         "name": "1",
         "stackgroup": "one",
         "type": "scatter",
         "x": [
          "2012",
          "2013",
          "2014",
          "2015",
          "2016",
          "2017",
          "2018",
          "2019",
          "2020",
          "2021",
          "2022",
          "2023",
          "2024"
         ],
         "y": [
          3.2490974729241873,
          3.2748839608045386,
          3.2516129032258063,
          3.39943342776204,
          3.4606511150986923,
          3.3802816901408446,
          3.4271099744245523,
          3.2431052093973443,
          2.3955147808358817,
          2.135774218154081,
          1.904036557501904,
          1.750380517503805,
          2.1174691202419966
         ]
        }
       ],
       "layout": {
        "font": {
         "family": "Calibri, sans-serif",
         "size": 14
        },
        "height": 500,
        "legend": {
         "orientation": "h",
         "x": 1,
         "xanchor": "right",
         "y": 1.08,
         "yanchor": "top"
        },
        "margin": {
         "b": 25,
         "l": 0,
         "r": 20,
         "t": 75
        },
        "plot_bgcolor": "#EEEEEE",
        "template": {
         "data": {
          "bar": [
           {
            "error_x": {
             "color": "#2a3f5f"
            },
            "error_y": {
             "color": "#2a3f5f"
            },
            "marker": {
             "line": {
              "color": "#E5ECF6",
              "width": 0.5
             },
             "pattern": {
              "fillmode": "overlay",
              "size": 10,
              "solidity": 0.2
             }
            },
            "type": "bar"
           }
          ],
          "barpolar": [
           {
            "marker": {
             "line": {
              "color": "#E5ECF6",
              "width": 0.5
             },
             "pattern": {
              "fillmode": "overlay",
              "size": 10,
              "solidity": 0.2
             }
            },
            "type": "barpolar"
           }
          ],
          "carpet": [
           {
            "aaxis": {
             "endlinecolor": "#2a3f5f",
             "gridcolor": "white",
             "linecolor": "white",
             "minorgridcolor": "white",
             "startlinecolor": "#2a3f5f"
            },
            "baxis": {
             "endlinecolor": "#2a3f5f",
             "gridcolor": "white",
             "linecolor": "white",
             "minorgridcolor": "white",
             "startlinecolor": "#2a3f5f"
            },
            "type": "carpet"
           }
          ],
          "choropleth": [
           {
            "colorbar": {
             "outlinewidth": 0,
             "ticks": ""
            },
            "type": "choropleth"
           }
          ],
          "contour": [
           {
            "colorbar": {
             "outlinewidth": 0,
             "ticks": ""
            },
            "colorscale": [
             [
              0,
              "#0d0887"
             ],
             [
              0.1111111111111111,
              "#46039f"
             ],
             [
              0.2222222222222222,
              "#7201a8"
             ],
             [
              0.3333333333333333,
              "#9c179e"
             ],
             [
              0.4444444444444444,
              "#bd3786"
             ],
             [
              0.5555555555555556,
              "#d8576b"
             ],
             [
              0.6666666666666666,
              "#ed7953"
             ],
             [
              0.7777777777777778,
              "#fb9f3a"
             ],
             [
              0.8888888888888888,
              "#fdca26"
             ],
             [
              1,
              "#f0f921"
             ]
            ],
            "type": "contour"
           }
          ],
          "contourcarpet": [
           {
            "colorbar": {
             "outlinewidth": 0,
             "ticks": ""
            },
            "type": "contourcarpet"
           }
          ],
          "heatmap": [
           {
            "colorbar": {
             "outlinewidth": 0,
             "ticks": ""
            },
            "colorscale": [
             [
              0,
              "#0d0887"
             ],
             [
              0.1111111111111111,
              "#46039f"
             ],
             [
              0.2222222222222222,
              "#7201a8"
             ],
             [
              0.3333333333333333,
              "#9c179e"
             ],
             [
              0.4444444444444444,
              "#bd3786"
             ],
             [
              0.5555555555555556,
              "#d8576b"
             ],
             [
              0.6666666666666666,
              "#ed7953"
             ],
             [
              0.7777777777777778,
              "#fb9f3a"
             ],
             [
              0.8888888888888888,
              "#fdca26"
             ],
             [
              1,
              "#f0f921"
             ]
            ],
            "type": "heatmap"
           }
          ],
          "heatmapgl": [
           {
            "colorbar": {
             "outlinewidth": 0,
             "ticks": ""
            },
            "colorscale": [
             [
              0,
              "#0d0887"
             ],
             [
              0.1111111111111111,
              "#46039f"
             ],
             [
              0.2222222222222222,
              "#7201a8"
             ],
             [
              0.3333333333333333,
              "#9c179e"
             ],
             [
              0.4444444444444444,
              "#bd3786"
             ],
             [
              0.5555555555555556,
              "#d8576b"
             ],
             [
              0.6666666666666666,
              "#ed7953"
             ],
             [
              0.7777777777777778,
              "#fb9f3a"
             ],
             [
              0.8888888888888888,
              "#fdca26"
             ],
             [
              1,
              "#f0f921"
             ]
            ],
            "type": "heatmapgl"
           }
          ],
          "histogram": [
           {
            "marker": {
             "pattern": {
              "fillmode": "overlay",
              "size": 10,
              "solidity": 0.2
             }
            },
            "type": "histogram"
           }
          ],
          "histogram2d": [
           {
            "colorbar": {
             "outlinewidth": 0,
             "ticks": ""
            },
            "colorscale": [
             [
              0,
              "#0d0887"
             ],
             [
              0.1111111111111111,
              "#46039f"
             ],
             [
              0.2222222222222222,
              "#7201a8"
             ],
             [
              0.3333333333333333,
              "#9c179e"
             ],
             [
              0.4444444444444444,
              "#bd3786"
             ],
             [
              0.5555555555555556,
              "#d8576b"
             ],
             [
              0.6666666666666666,
              "#ed7953"
             ],
             [
              0.7777777777777778,
              "#fb9f3a"
             ],
             [
              0.8888888888888888,
              "#fdca26"
             ],
             [
              1,
              "#f0f921"
             ]
            ],
            "type": "histogram2d"
           }
          ],
          "histogram2dcontour": [
           {
            "colorbar": {
             "outlinewidth": 0,
             "ticks": ""
            },
            "colorscale": [
             [
              0,
              "#0d0887"
             ],
             [
              0.1111111111111111,
              "#46039f"
             ],
             [
              0.2222222222222222,
              "#7201a8"
             ],
             [
              0.3333333333333333,
              "#9c179e"
             ],
             [
              0.4444444444444444,
              "#bd3786"
             ],
             [
              0.5555555555555556,
              "#d8576b"
             ],
             [
              0.6666666666666666,
              "#ed7953"
             ],
             [
              0.7777777777777778,
              "#fb9f3a"
             ],
             [
              0.8888888888888888,
              "#fdca26"
             ],
             [
              1,
              "#f0f921"
             ]
            ],
            "type": "histogram2dcontour"
           }
          ],
          "mesh3d": [
           {
            "colorbar": {
             "outlinewidth": 0,
             "ticks": ""
            },
            "type": "mesh3d"
           }
          ],
          "parcoords": [
           {
            "line": {
             "colorbar": {
              "outlinewidth": 0,
              "ticks": ""
             }
            },
            "type": "parcoords"
           }
          ],
          "pie": [
           {
            "automargin": true,
            "type": "pie"
           }
          ],
          "scatter": [
           {
            "fillpattern": {
             "fillmode": "overlay",
             "size": 10,
             "solidity": 0.2
            },
            "type": "scatter"
           }
          ],
          "scatter3d": [
           {
            "line": {
             "colorbar": {
              "outlinewidth": 0,
              "ticks": ""
             }
            },
            "marker": {
             "colorbar": {
              "outlinewidth": 0,
              "ticks": ""
             }
            },
            "type": "scatter3d"
           }
          ],
          "scattercarpet": [
           {
            "marker": {
             "colorbar": {
              "outlinewidth": 0,
              "ticks": ""
             }
            },
            "type": "scattercarpet"
           }
          ],
          "scattergeo": [
           {
            "marker": {
             "colorbar": {
              "outlinewidth": 0,
              "ticks": ""
             }
            },
            "type": "scattergeo"
           }
          ],
          "scattergl": [
           {
            "marker": {
             "colorbar": {
              "outlinewidth": 0,
              "ticks": ""
             }
            },
            "type": "scattergl"
           }
          ],
          "scattermapbox": [
           {
            "marker": {
             "colorbar": {
              "outlinewidth": 0,
              "ticks": ""
             }
            },
            "type": "scattermapbox"
           }
          ],
          "scatterpolar": [
           {
            "marker": {
             "colorbar": {
              "outlinewidth": 0,
              "ticks": ""
             }
            },
            "type": "scatterpolar"
           }
          ],
          "scatterpolargl": [
           {
            "marker": {
             "colorbar": {
              "outlinewidth": 0,
              "ticks": ""
             }
            },
            "type": "scatterpolargl"
           }
          ],
          "scatterternary": [
           {
            "marker": {
             "colorbar": {
              "outlinewidth": 0,
              "ticks": ""
             }
            },
            "type": "scatterternary"
           }
          ],
          "surface": [
           {
            "colorbar": {
             "outlinewidth": 0,
             "ticks": ""
            },
            "colorscale": [
             [
              0,
              "#0d0887"
             ],
             [
              0.1111111111111111,
              "#46039f"
             ],
             [
              0.2222222222222222,
              "#7201a8"
             ],
             [
              0.3333333333333333,
              "#9c179e"
             ],
             [
              0.4444444444444444,
              "#bd3786"
             ],
             [
              0.5555555555555556,
              "#d8576b"
             ],
             [
              0.6666666666666666,
              "#ed7953"
             ],
             [
              0.7777777777777778,
              "#fb9f3a"
             ],
             [
              0.8888888888888888,
              "#fdca26"
             ],
             [
              1,
              "#f0f921"
             ]
            ],
            "type": "surface"
           }
          ],
          "table": [
           {
            "cells": {
             "fill": {
              "color": "#EBF0F8"
             },
             "line": {
              "color": "white"
             }
            },
            "header": {
             "fill": {
              "color": "#C8D4E3"
             },
             "line": {
              "color": "white"
             }
            },
            "type": "table"
           }
          ]
         },
         "layout": {
          "annotationdefaults": {
           "arrowcolor": "#2a3f5f",
           "arrowhead": 0,
           "arrowwidth": 1
          },
          "autotypenumbers": "strict",
          "coloraxis": {
           "colorbar": {
            "outlinewidth": 0,
            "ticks": ""
           }
          },
          "colorscale": {
           "diverging": [
            [
             0,
             "#8e0152"
            ],
            [
             0.1,
             "#c51b7d"
            ],
            [
             0.2,
             "#de77ae"
            ],
            [
             0.3,
             "#f1b6da"
            ],
            [
             0.4,
             "#fde0ef"
            ],
            [
             0.5,
             "#f7f7f7"
            ],
            [
             0.6,
             "#e6f5d0"
            ],
            [
             0.7,
             "#b8e186"
            ],
            [
             0.8,
             "#7fbc41"
            ],
            [
             0.9,
             "#4d9221"
            ],
            [
             1,
             "#276419"
            ]
           ],
           "sequential": [
            [
             0,
             "#0d0887"
            ],
            [
             0.1111111111111111,
             "#46039f"
            ],
            [
             0.2222222222222222,
             "#7201a8"
            ],
            [
             0.3333333333333333,
             "#9c179e"
            ],
            [
             0.4444444444444444,
             "#bd3786"
            ],
            [
             0.5555555555555556,
             "#d8576b"
            ],
            [
             0.6666666666666666,
             "#ed7953"
            ],
            [
             0.7777777777777778,
             "#fb9f3a"
            ],
            [
             0.8888888888888888,
             "#fdca26"
            ],
            [
             1,
             "#f0f921"
            ]
           ],
           "sequentialminus": [
            [
             0,
             "#0d0887"
            ],
            [
             0.1111111111111111,
             "#46039f"
            ],
            [
             0.2222222222222222,
             "#7201a8"
            ],
            [
             0.3333333333333333,
             "#9c179e"
            ],
            [
             0.4444444444444444,
             "#bd3786"
            ],
            [
             0.5555555555555556,
             "#d8576b"
            ],
            [
             0.6666666666666666,
             "#ed7953"
            ],
            [
             0.7777777777777778,
             "#fb9f3a"
            ],
            [
             0.8888888888888888,
             "#fdca26"
            ],
            [
             1,
             "#f0f921"
            ]
           ]
          },
          "colorway": [
           "#636efa",
           "#EF553B",
           "#00cc96",
           "#ab63fa",
           "#FFA15A",
           "#19d3f3",
           "#FF6692",
           "#B6E880",
           "#FF97FF",
           "#FECB52"
          ],
          "font": {
           "color": "#2a3f5f"
          },
          "geo": {
           "bgcolor": "white",
           "lakecolor": "white",
           "landcolor": "#E5ECF6",
           "showlakes": true,
           "showland": true,
           "subunitcolor": "white"
          },
          "hoverlabel": {
           "align": "left"
          },
          "hovermode": "closest",
          "mapbox": {
           "style": "light"
          },
          "paper_bgcolor": "white",
          "plot_bgcolor": "#E5ECF6",
          "polar": {
           "angularaxis": {
            "gridcolor": "white",
            "linecolor": "white",
            "ticks": ""
           },
           "bgcolor": "#E5ECF6",
           "radialaxis": {
            "gridcolor": "white",
            "linecolor": "white",
            "ticks": ""
           }
          },
          "scene": {
           "xaxis": {
            "backgroundcolor": "#E5ECF6",
            "gridcolor": "white",
            "gridwidth": 2,
            "linecolor": "white",
            "showbackground": true,
            "ticks": "",
            "zerolinecolor": "white"
           },
           "yaxis": {
            "backgroundcolor": "#E5ECF6",
            "gridcolor": "white",
            "gridwidth": 2,
            "linecolor": "white",
            "showbackground": true,
            "ticks": "",
            "zerolinecolor": "white"
           },
           "zaxis": {
            "backgroundcolor": "#E5ECF6",
            "gridcolor": "white",
            "gridwidth": 2,
            "linecolor": "white",
            "showbackground": true,
            "ticks": "",
            "zerolinecolor": "white"
           }
          },
          "shapedefaults": {
           "line": {
            "color": "#2a3f5f"
           }
          },
          "ternary": {
           "aaxis": {
            "gridcolor": "white",
            "linecolor": "white",
            "ticks": ""
           },
           "baxis": {
            "gridcolor": "white",
            "linecolor": "white",
            "ticks": ""
           },
           "bgcolor": "#E5ECF6",
           "caxis": {
            "gridcolor": "white",
            "linecolor": "white",
            "ticks": ""
           }
          },
          "title": {
           "x": 0.05
          },
          "xaxis": {
           "automargin": true,
           "gridcolor": "white",
           "linecolor": "white",
           "ticks": "",
           "title": {
            "standoff": 15
           },
           "zerolinecolor": "white",
           "zerolinewidth": 2
          },
          "yaxis": {
           "automargin": true,
           "gridcolor": "white",
           "linecolor": "white",
           "ticks": "",
           "title": {
            "standoff": 15
           },
           "zerolinecolor": "white",
           "zerolinewidth": 2
          }
         }
        },
        "title": {
         "text": "Vývoj STS mostov na cestách III. triedy"
        },
        "width": 500,
        "xaxis": {
         "ticktext": [
          "'12",
          "'13",
          "'14",
          "'15",
          "'16",
          "'17",
          "'18",
          "'19",
          "'20",
          "'21",
          "'22",
          "'23",
          "'24"
         ],
         "tickvals": [
          "2012",
          "2013",
          "2014",
          "2015",
          "2016",
          "2017",
          "2018",
          "2019",
          "2020",
          "2021",
          "2022",
          "2023",
          "2024"
         ]
        },
        "yaxis": {
         "range": [
          0,
          100
         ],
         "ticksuffix": "%",
         "title": {
          "text": "percentuálne zastúpenie"
         }
        }
       }
      }
     },
     "metadata": {},
     "output_type": "display_data"
    },
    {
     "data": {
      "application/vnd.plotly.v1+json": {
       "config": {
        "plotlyServerURL": "https://plot.ly"
       },
       "data": [
        {
         "line": {
          "color": "#2d505d"
         },
         "mode": "lines",
         "name": "7",
         "stackgroup": "one",
         "type": "scatter",
         "x": [
          "2012",
          "2013",
          "2014",
          "2015",
          "2016",
          "2017",
          "2018",
          "2019",
          "2020",
          "2021",
          "2022",
          "2023",
          "2024",
          "2025",
          "2026"
         ],
         "y": [
          0.2062919030428056,
          0.18050541516245489,
          0.18064516129032257,
          0.23177955189286636,
          0.17944116893104334,
          0.12804097311139565,
          0.17902813299232737,
          0.07660878447395301,
          0.127420998980632,
          0.10170353419781336,
          0.2792586951002793,
          0.380517503805175,
          0.40332745147466603,
          0.6236891064231183,
          0.8479891400844243
         ]
        },
        {
         "line": {
          "color": "#c25469"
         },
         "mode": "lines",
         "name": "6",
         "stackgroup": "one",
         "type": "scatter",
         "x": [
          "2012",
          "2013",
          "2014",
          "2015",
          "2016",
          "2017",
          "2018",
          "2019",
          "2020",
          "2021",
          "2022",
          "2023",
          "2024",
          "2025",
          "2026"
         ],
         "y": [
          2.1144920061887573,
          2.1144920061887573,
          2.3483870967741938,
          2.5495750708215295,
          2.794155344783389,
          2.791293213828425,
          3.1457800511508953,
          3.575076608784474,
          4.765545361875637,
          5.415713196033562,
          7.819243462807819,
          9.462201927955352,
          10.209226115452482,
          13.070163737731965,
          15.741672549755425
         ]
        },
        {
         "line": {
          "color": "#eae1a9"
         },
         "mode": "lines",
         "name": "5",
         "stackgroup": "one",
         "type": "scatter",
         "x": [
          "2012",
          "2013",
          "2014",
          "2015",
          "2016",
          "2017",
          "2018",
          "2019",
          "2020",
          "2021",
          "2022",
          "2023",
          "2024",
          "2025",
          "2026"
         ],
         "y": [
          5.956678700361011,
          6.008251676121712,
          6.167741935483871,
          6.38681431882565,
          6.8700333247885155,
          6.991037131882202,
          7.21227621483376,
          8.478038815117467,
          11.085626911314984,
          13.882532418001524,
          19.75120588981975,
          24.124809741248097,
          25.56087723720696,
          33.29232179121037,
          40.236936917101836
         ]
        },
        {
         "line": {
          "color": "#353a29"
         },
         "mode": "lines",
         "name": "4",
         "stackgroup": "one",
         "type": "scatter",
         "x": [
          "2012",
          "2013",
          "2014",
          "2015",
          "2016",
          "2017",
          "2018",
          "2019",
          "2020",
          "2021",
          "2022",
          "2023",
          "2024",
          "2025",
          "2026"
         ],
         "y": [
          29.98968540484786,
          30.092831356369267,
          31.2,
          32.758176667525106,
          36.6572673673417,
          39.25736235595391,
          39.59079283887468,
          40.65372829417773,
          43.78185524974516,
          46.42766336130181,
          47.194719471947195,
          45.96651445966514,
          44.51726745651626,
          42.37106475720624,
          38.50614771644996
         ]
        },
        {
         "line": {
          "color": "#8bae7c"
         },
         "mode": "lines",
         "name": "3",
         "stackgroup": "one",
         "type": "scatter",
         "x": [
          "2012",
          "2013",
          "2014",
          "2015",
          "2016",
          "2017",
          "2018",
          "2019",
          "2020",
          "2021",
          "2022",
          "2023",
          "2024",
          "2025",
          "2026"
         ],
         "y": [
          48.504383702939656,
          48.45281072717896,
          47.380645161290325,
          45.377285603914494,
          41.91233017175083,
          40.58898847631242,
          39.82097186700767,
          37.51276813074566,
          32.82364933741081,
          27.866768370200862,
          19.97969027671998,
          15.854895991882293,
          14.847491807411142,
          6.988905330318357,
          1.0280190816271155
         ]
        },
        {
         "line": {
          "color": "#e7a564"
         },
         "mode": "lines",
         "name": "2",
         "stackgroup": "one",
         "type": "scatter",
         "x": [
          "2012",
          "2013",
          "2014",
          "2015",
          "2016",
          "2017",
          "2018",
          "2019",
          "2020",
          "2021",
          "2022",
          "2023",
          "2024",
          "2025",
          "2026"
         ],
         "y": [
          9.97937080969572,
          9.876224858174316,
          9.470967741935484,
          9.296935359258306,
          8.12612150730582,
          6.862996158770807,
          6.624040920716112,
          6.460674157303371,
          5.020387359836901,
          4.1698449021103485,
          3.071845646103072,
          2.4606798579401317,
          2.344340811696496,
          1.7706559515935534,
          1.5956856717081094
         ]
        },
        {
         "line": {
          "color": "#46a7a2"
         },
         "mode": "lines",
         "name": "1",
         "stackgroup": "one",
         "type": "scatter",
         "x": [
          "2012",
          "2013",
          "2014",
          "2015",
          "2016",
          "2017",
          "2018",
          "2019",
          "2020",
          "2021",
          "2022",
          "2023",
          "2024",
          "2025",
          "2026"
         ],
         "y": [
          3.2490974729241873,
          3.2748839608045386,
          3.2516129032258063,
          3.39943342776204,
          3.4606511150986923,
          3.3802816901408446,
          3.4271099744245523,
          3.2431052093973443,
          2.3955147808358817,
          2.135774218154081,
          1.904036557501904,
          1.750380517503805,
          2.1174691202419966,
          1.8831993255163924,
          2.0435489232731388
         ]
        }
       ],
       "layout": {
        "font": {
         "family": "Calibri, sans-serif",
         "size": 14
        },
        "height": 500,
        "legend": {
         "orientation": "h",
         "x": 1,
         "xanchor": "right",
         "y": 1.08,
         "yanchor": "top"
        },
        "margin": {
         "b": 25,
         "l": 0,
         "r": 20,
         "t": 75
        },
        "plot_bgcolor": "#EEEEEE",
        "template": {
         "data": {
          "bar": [
           {
            "error_x": {
             "color": "#2a3f5f"
            },
            "error_y": {
             "color": "#2a3f5f"
            },
            "marker": {
             "line": {
              "color": "#E5ECF6",
              "width": 0.5
             },
             "pattern": {
              "fillmode": "overlay",
              "size": 10,
              "solidity": 0.2
             }
            },
            "type": "bar"
           }
          ],
          "barpolar": [
           {
            "marker": {
             "line": {
              "color": "#E5ECF6",
              "width": 0.5
             },
             "pattern": {
              "fillmode": "overlay",
              "size": 10,
              "solidity": 0.2
             }
            },
            "type": "barpolar"
           }
          ],
          "carpet": [
           {
            "aaxis": {
             "endlinecolor": "#2a3f5f",
             "gridcolor": "white",
             "linecolor": "white",
             "minorgridcolor": "white",
             "startlinecolor": "#2a3f5f"
            },
            "baxis": {
             "endlinecolor": "#2a3f5f",
             "gridcolor": "white",
             "linecolor": "white",
             "minorgridcolor": "white",
             "startlinecolor": "#2a3f5f"
            },
            "type": "carpet"
           }
          ],
          "choropleth": [
           {
            "colorbar": {
             "outlinewidth": 0,
             "ticks": ""
            },
            "type": "choropleth"
           }
          ],
          "contour": [
           {
            "colorbar": {
             "outlinewidth": 0,
             "ticks": ""
            },
            "colorscale": [
             [
              0,
              "#0d0887"
             ],
             [
              0.1111111111111111,
              "#46039f"
             ],
             [
              0.2222222222222222,
              "#7201a8"
             ],
             [
              0.3333333333333333,
              "#9c179e"
             ],
             [
              0.4444444444444444,
              "#bd3786"
             ],
             [
              0.5555555555555556,
              "#d8576b"
             ],
             [
              0.6666666666666666,
              "#ed7953"
             ],
             [
              0.7777777777777778,
              "#fb9f3a"
             ],
             [
              0.8888888888888888,
              "#fdca26"
             ],
             [
              1,
              "#f0f921"
             ]
            ],
            "type": "contour"
           }
          ],
          "contourcarpet": [
           {
            "colorbar": {
             "outlinewidth": 0,
             "ticks": ""
            },
            "type": "contourcarpet"
           }
          ],
          "heatmap": [
           {
            "colorbar": {
             "outlinewidth": 0,
             "ticks": ""
            },
            "colorscale": [
             [
              0,
              "#0d0887"
             ],
             [
              0.1111111111111111,
              "#46039f"
             ],
             [
              0.2222222222222222,
              "#7201a8"
             ],
             [
              0.3333333333333333,
              "#9c179e"
             ],
             [
              0.4444444444444444,
              "#bd3786"
             ],
             [
              0.5555555555555556,
              "#d8576b"
             ],
             [
              0.6666666666666666,
              "#ed7953"
             ],
             [
              0.7777777777777778,
              "#fb9f3a"
             ],
             [
              0.8888888888888888,
              "#fdca26"
             ],
             [
              1,
              "#f0f921"
             ]
            ],
            "type": "heatmap"
           }
          ],
          "heatmapgl": [
           {
            "colorbar": {
             "outlinewidth": 0,
             "ticks": ""
            },
            "colorscale": [
             [
              0,
              "#0d0887"
             ],
             [
              0.1111111111111111,
              "#46039f"
             ],
             [
              0.2222222222222222,
              "#7201a8"
             ],
             [
              0.3333333333333333,
              "#9c179e"
             ],
             [
              0.4444444444444444,
              "#bd3786"
             ],
             [
              0.5555555555555556,
              "#d8576b"
             ],
             [
              0.6666666666666666,
              "#ed7953"
             ],
             [
              0.7777777777777778,
              "#fb9f3a"
             ],
             [
              0.8888888888888888,
              "#fdca26"
             ],
             [
              1,
              "#f0f921"
             ]
            ],
            "type": "heatmapgl"
           }
          ],
          "histogram": [
           {
            "marker": {
             "pattern": {
              "fillmode": "overlay",
              "size": 10,
              "solidity": 0.2
             }
            },
            "type": "histogram"
           }
          ],
          "histogram2d": [
           {
            "colorbar": {
             "outlinewidth": 0,
             "ticks": ""
            },
            "colorscale": [
             [
              0,
              "#0d0887"
             ],
             [
              0.1111111111111111,
              "#46039f"
             ],
             [
              0.2222222222222222,
              "#7201a8"
             ],
             [
              0.3333333333333333,
              "#9c179e"
             ],
             [
              0.4444444444444444,
              "#bd3786"
             ],
             [
              0.5555555555555556,
              "#d8576b"
             ],
             [
              0.6666666666666666,
              "#ed7953"
             ],
             [
              0.7777777777777778,
              "#fb9f3a"
             ],
             [
              0.8888888888888888,
              "#fdca26"
             ],
             [
              1,
              "#f0f921"
             ]
            ],
            "type": "histogram2d"
           }
          ],
          "histogram2dcontour": [
           {
            "colorbar": {
             "outlinewidth": 0,
             "ticks": ""
            },
            "colorscale": [
             [
              0,
              "#0d0887"
             ],
             [
              0.1111111111111111,
              "#46039f"
             ],
             [
              0.2222222222222222,
              "#7201a8"
             ],
             [
              0.3333333333333333,
              "#9c179e"
             ],
             [
              0.4444444444444444,
              "#bd3786"
             ],
             [
              0.5555555555555556,
              "#d8576b"
             ],
             [
              0.6666666666666666,
              "#ed7953"
             ],
             [
              0.7777777777777778,
              "#fb9f3a"
             ],
             [
              0.8888888888888888,
              "#fdca26"
             ],
             [
              1,
              "#f0f921"
             ]
            ],
            "type": "histogram2dcontour"
           }
          ],
          "mesh3d": [
           {
            "colorbar": {
             "outlinewidth": 0,
             "ticks": ""
            },
            "type": "mesh3d"
           }
          ],
          "parcoords": [
           {
            "line": {
             "colorbar": {
              "outlinewidth": 0,
              "ticks": ""
             }
            },
            "type": "parcoords"
           }
          ],
          "pie": [
           {
            "automargin": true,
            "type": "pie"
           }
          ],
          "scatter": [
           {
            "fillpattern": {
             "fillmode": "overlay",
             "size": 10,
             "solidity": 0.2
            },
            "type": "scatter"
           }
          ],
          "scatter3d": [
           {
            "line": {
             "colorbar": {
              "outlinewidth": 0,
              "ticks": ""
             }
            },
            "marker": {
             "colorbar": {
              "outlinewidth": 0,
              "ticks": ""
             }
            },
            "type": "scatter3d"
           }
          ],
          "scattercarpet": [
           {
            "marker": {
             "colorbar": {
              "outlinewidth": 0,
              "ticks": ""
             }
            },
            "type": "scattercarpet"
           }
          ],
          "scattergeo": [
           {
            "marker": {
             "colorbar": {
              "outlinewidth": 0,
              "ticks": ""
             }
            },
            "type": "scattergeo"
           }
          ],
          "scattergl": [
           {
            "marker": {
             "colorbar": {
              "outlinewidth": 0,
              "ticks": ""
             }
            },
            "type": "scattergl"
           }
          ],
          "scattermapbox": [
           {
            "marker": {
             "colorbar": {
              "outlinewidth": 0,
              "ticks": ""
             }
            },
            "type": "scattermapbox"
           }
          ],
          "scatterpolar": [
           {
            "marker": {
             "colorbar": {
              "outlinewidth": 0,
              "ticks": ""
             }
            },
            "type": "scatterpolar"
           }
          ],
          "scatterpolargl": [
           {
            "marker": {
             "colorbar": {
              "outlinewidth": 0,
              "ticks": ""
             }
            },
            "type": "scatterpolargl"
           }
          ],
          "scatterternary": [
           {
            "marker": {
             "colorbar": {
              "outlinewidth": 0,
              "ticks": ""
             }
            },
            "type": "scatterternary"
           }
          ],
          "surface": [
           {
            "colorbar": {
             "outlinewidth": 0,
             "ticks": ""
            },
            "colorscale": [
             [
              0,
              "#0d0887"
             ],
             [
              0.1111111111111111,
              "#46039f"
             ],
             [
              0.2222222222222222,
              "#7201a8"
             ],
             [
              0.3333333333333333,
              "#9c179e"
             ],
             [
              0.4444444444444444,
              "#bd3786"
             ],
             [
              0.5555555555555556,
              "#d8576b"
             ],
             [
              0.6666666666666666,
              "#ed7953"
             ],
             [
              0.7777777777777778,
              "#fb9f3a"
             ],
             [
              0.8888888888888888,
              "#fdca26"
             ],
             [
              1,
              "#f0f921"
             ]
            ],
            "type": "surface"
           }
          ],
          "table": [
           {
            "cells": {
             "fill": {
              "color": "#EBF0F8"
             },
             "line": {
              "color": "white"
             }
            },
            "header": {
             "fill": {
              "color": "#C8D4E3"
             },
             "line": {
              "color": "white"
             }
            },
            "type": "table"
           }
          ]
         },
         "layout": {
          "annotationdefaults": {
           "arrowcolor": "#2a3f5f",
           "arrowhead": 0,
           "arrowwidth": 1
          },
          "autotypenumbers": "strict",
          "coloraxis": {
           "colorbar": {
            "outlinewidth": 0,
            "ticks": ""
           }
          },
          "colorscale": {
           "diverging": [
            [
             0,
             "#8e0152"
            ],
            [
             0.1,
             "#c51b7d"
            ],
            [
             0.2,
             "#de77ae"
            ],
            [
             0.3,
             "#f1b6da"
            ],
            [
             0.4,
             "#fde0ef"
            ],
            [
             0.5,
             "#f7f7f7"
            ],
            [
             0.6,
             "#e6f5d0"
            ],
            [
             0.7,
             "#b8e186"
            ],
            [
             0.8,
             "#7fbc41"
            ],
            [
             0.9,
             "#4d9221"
            ],
            [
             1,
             "#276419"
            ]
           ],
           "sequential": [
            [
             0,
             "#0d0887"
            ],
            [
             0.1111111111111111,
             "#46039f"
            ],
            [
             0.2222222222222222,
             "#7201a8"
            ],
            [
             0.3333333333333333,
             "#9c179e"
            ],
            [
             0.4444444444444444,
             "#bd3786"
            ],
            [
             0.5555555555555556,
             "#d8576b"
            ],
            [
             0.6666666666666666,
             "#ed7953"
            ],
            [
             0.7777777777777778,
             "#fb9f3a"
            ],
            [
             0.8888888888888888,
             "#fdca26"
            ],
            [
             1,
             "#f0f921"
            ]
           ],
           "sequentialminus": [
            [
             0,
             "#0d0887"
            ],
            [
             0.1111111111111111,
             "#46039f"
            ],
            [
             0.2222222222222222,
             "#7201a8"
            ],
            [
             0.3333333333333333,
             "#9c179e"
            ],
            [
             0.4444444444444444,
             "#bd3786"
            ],
            [
             0.5555555555555556,
             "#d8576b"
            ],
            [
             0.6666666666666666,
             "#ed7953"
            ],
            [
             0.7777777777777778,
             "#fb9f3a"
            ],
            [
             0.8888888888888888,
             "#fdca26"
            ],
            [
             1,
             "#f0f921"
            ]
           ]
          },
          "colorway": [
           "#636efa",
           "#EF553B",
           "#00cc96",
           "#ab63fa",
           "#FFA15A",
           "#19d3f3",
           "#FF6692",
           "#B6E880",
           "#FF97FF",
           "#FECB52"
          ],
          "font": {
           "color": "#2a3f5f"
          },
          "geo": {
           "bgcolor": "white",
           "lakecolor": "white",
           "landcolor": "#E5ECF6",
           "showlakes": true,
           "showland": true,
           "subunitcolor": "white"
          },
          "hoverlabel": {
           "align": "left"
          },
          "hovermode": "closest",
          "mapbox": {
           "style": "light"
          },
          "paper_bgcolor": "white",
          "plot_bgcolor": "#E5ECF6",
          "polar": {
           "angularaxis": {
            "gridcolor": "white",
            "linecolor": "white",
            "ticks": ""
           },
           "bgcolor": "#E5ECF6",
           "radialaxis": {
            "gridcolor": "white",
            "linecolor": "white",
            "ticks": ""
           }
          },
          "scene": {
           "xaxis": {
            "backgroundcolor": "#E5ECF6",
            "gridcolor": "white",
            "gridwidth": 2,
            "linecolor": "white",
            "showbackground": true,
            "ticks": "",
            "zerolinecolor": "white"
           },
           "yaxis": {
            "backgroundcolor": "#E5ECF6",
            "gridcolor": "white",
            "gridwidth": 2,
            "linecolor": "white",
            "showbackground": true,
            "ticks": "",
            "zerolinecolor": "white"
           },
           "zaxis": {
            "backgroundcolor": "#E5ECF6",
            "gridcolor": "white",
            "gridwidth": 2,
            "linecolor": "white",
            "showbackground": true,
            "ticks": "",
            "zerolinecolor": "white"
           }
          },
          "shapedefaults": {
           "line": {
            "color": "#2a3f5f"
           }
          },
          "ternary": {
           "aaxis": {
            "gridcolor": "white",
            "linecolor": "white",
            "ticks": ""
           },
           "baxis": {
            "gridcolor": "white",
            "linecolor": "white",
            "ticks": ""
           },
           "bgcolor": "#E5ECF6",
           "caxis": {
            "gridcolor": "white",
            "linecolor": "white",
            "ticks": ""
           }
          },
          "title": {
           "x": 0.05
          },
          "xaxis": {
           "automargin": true,
           "gridcolor": "white",
           "linecolor": "white",
           "ticks": "",
           "title": {
            "standoff": 15
           },
           "zerolinecolor": "white",
           "zerolinewidth": 2
          },
          "yaxis": {
           "automargin": true,
           "gridcolor": "white",
           "linecolor": "white",
           "ticks": "",
           "title": {
            "standoff": 15
           },
           "zerolinecolor": "white",
           "zerolinewidth": 2
          }
         }
        },
        "title": {
         "text": "Vývoj STS mostov na cestách III. triedy"
        },
        "width": 575,
        "xaxis": {
         "ticktext": [
          "'12",
          "'13",
          "'14",
          "'15",
          "'16",
          "'17",
          "'18",
          "'19",
          "'20",
          "'21",
          "'22",
          "'23",
          "'24",
          "'25",
          "'26"
         ],
         "tickvals": [
          "2012",
          "2013",
          "2014",
          "2015",
          "2016",
          "2017",
          "2018",
          "2019",
          "2020",
          "2021",
          "2022",
          "2023",
          "2024",
          "2025",
          "2026"
         ]
        },
        "yaxis": {
         "range": [
          0,
          100
         ],
         "ticksuffix": "%",
         "title": {
          "text": "percentuálne zastúpenie"
         }
        }
       }
      }
     },
     "metadata": {},
     "output_type": "display_data"
    }
   ],
   "source": [
    "create_plot(df_predictions, title='Vývoj STS mostov na cestách III. triedy',\n",
    "            filename='Vyvoj_I', start_year=2012, end_year=2024, b=500, h=500)\n",
    "create_plot(df_predictions, title='Vývoj STS mostov na cestách III. triedy',\n",
    "            filename='Vyvoj_I', start_year=2012, end_year=2026, b=575, h=500)"
   ]
  }
 ],
 "metadata": {
  "kernelspec": {
   "display_name": "Bridges_VENV",
   "language": "python",
   "name": "python3"
  },
  "language_info": {
   "codemirror_mode": {
    "name": "ipython",
    "version": 3
   },
   "file_extension": ".py",
   "mimetype": "text/x-python",
   "name": "python",
   "nbconvert_exporter": "python",
   "pygments_lexer": "ipython3",
   "version": "3.12.6"
  }
 },
 "nbformat": 4,
 "nbformat_minor": 2
}
