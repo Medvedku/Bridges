{
 "cells": [
  {
   "cell_type": "code",
   "execution_count": 1,
   "metadata": {},
   "outputs": [
    {
     "name": "stderr",
     "output_type": "stream",
     "text": [
      "C:\\Users\\relia\\AppData\\Local\\Temp\\ipykernel_2120\\584243297.py:13: DtypeWarning: Columns (5,16) have mixed types. Specify dtype option on import or set low_memory=False.\n",
      "  df_nodes = pd.read_csv(nodes_path, encoding='utf-8', delimiter=',')\n",
      "C:\\Users\\relia\\AppData\\Local\\Temp\\ipykernel_2120\\584243297.py:14: DtypeWarning: Columns (10,11,12,25,26,27) have mixed types. Specify dtype option on import or set low_memory=False.\n",
      "  df_roads = pd.read_csv(roads_path, encoding='utf-8', delimiter=',')\n"
     ]
    }
   ],
   "source": [
    "import pandas as pd\n",
    "import pandas as pd\n",
    "import plotly.graph_objects as go\n",
    "import plotly.io as pio\n",
    "\n",
    "# ROBOTA\n",
    "nodes_path = r\"C:\\Users\\relia\\Documents\\GitHub\\Bridges\\Data\\Nodes_processed.csv\"\n",
    "roads_path = r\"C:\\Users\\relia\\Documents\\GitHub\\Bridges\\Data\\Roads_processed.csv\"\n",
    "bridges_path = r\"C:\\Users\\relia\\Documents\\GitHub\\Bridges\\Data\\df_bridges_2024_all.csv\"\n",
    "survey_path = r\"C:\\Users\\relia\\Documents\\GitHub\\Bridges\\Data\\surveys\\Survey.csv\"\n",
    "\n",
    "# Load the CSV data into a DataFrame\n",
    "df_nodes = pd.read_csv(nodes_path, encoding='utf-8', delimiter=',')\n",
    "df_roads = pd.read_csv(roads_path, encoding='utf-8', delimiter=',')\n",
    "df_bridges_all = pd.read_csv(bridges_path, encoding='utf-8', delimiter=',')\n",
    "df_survey = pd.read_csv(survey_path, encoding='utf-8', delimiter=',')"
   ]
  },
  {
   "cell_type": "code",
   "execution_count": 2,
   "metadata": {},
   "outputs": [
    {
     "data": {
      "text/plain": [
       "Index(['ID_mosta', 'Trieda_PK', 'Číslo_PK', 'Názov_mosta', 'správcovské_číslo',\n",
       "       'Zemepisná_šírka', 'Zemepisná_dĺžka', 'Výška', 'Druh_konštrukcie',\n",
       "       'Material', 'Normálna_zaťažiteľnosť', 'Výhradná_zaťažiteľnosť_t',\n",
       "       'Výnimočná_zaťažiteľnosť_t', 'Spôsob_stanovenia', 'Predmet_premostenia',\n",
       "       'Rok_postavenia', 'Zaťažovacia_trieda_STN', 'Počet_otvorov',\n",
       "       'Dĺžka_premostenia', 'Dĺžka_nosnej_konštrukcie_m', 'Volná_šírka_mosta',\n",
       "       'Šírka_medzi_obrubami_m', 'Plocha_mosnej_konštrukcie_m2',\n",
       "       'Plocha_mosta_m2', 'Vlastník_úseku', 'Správca_úseku', 'Okres',\n",
       "       'Počiatočný_uzol', 'Koncový_uzol', 'úsek_ID', 'Kraj', 'n_2012',\n",
       "       'n_2013', 'n_2014', 'n_2015', 'n_2016', 'n_2017', 'n_2018', 'n_2019',\n",
       "       'n_2020', 'n_2021', 'n_2022', 'n_2023', 'n_2024'],\n",
       "      dtype='object')"
      ]
     },
     "execution_count": 2,
     "metadata": {},
     "output_type": "execute_result"
    }
   ],
   "source": [
    "# Assuming df_bridges_all is your DataFrame\n",
    "columns_to_convert = ['Zemepisná_dĺžka', 'Zemepisná_šírka', 'Výška', 'Normálna_zaťažiteľnosť',\n",
    "                      'Výhradná_zaťažiteľnosť_t', 'Výnimočná_zaťažiteľnosť_t', 'Počet_otvorov',\n",
    "                      'Dĺžka_nosnej_konštrukcie_m', 'Dĺžka_premostenia', 'Volná_šírka_mosta',\n",
    "                      'Šírka_medzi_obrubami_m', 'Plocha_mosnej_konštrukcie_m2', 'Plocha_mosta_m2']\n",
    "\n",
    "# Convert specified columns to float\n",
    "df_bridges_all[columns_to_convert] = df_bridges_all[columns_to_convert].apply(\n",
    "    pd.to_numeric, errors='coerce')\n",
    "\n",
    "# Convert Rok_postavenia to integer, assign NaN if not possible\n",
    "df_bridges_all['Rok_postavenia'] = pd.to_numeric(\n",
    "    df_bridges_all['Rok_postavenia'], errors='coerce')\n",
    "\n",
    "df_bridges_all = df_bridges_all[df_bridges_all[\"n_2024\"] != 0]\n",
    "\n",
    "df_bridges_all.columns"
   ]
  },
  {
   "cell_type": "code",
   "execution_count": 3,
   "metadata": {},
   "outputs": [
    {
     "data": {
      "text/plain": [
       "Trieda_PK\n",
       "cesta III. triedy                      3967\n",
       "cesta I. triedy                        1913\n",
       "cesta II. triedy                       1472\n",
       "diaľnica                                771\n",
       "miestna neurčená                         56\n",
       "účelová cesta (UC)                       13\n",
       "II. trieda - miestna zberná (MZ)          2\n",
       "III. trieda - miestna obslužná (MO)       1\n",
       "Name: count, dtype: int64"
      ]
     },
     "execution_count": 3,
     "metadata": {},
     "output_type": "execute_result"
    }
   ],
   "source": [
    "df_bridges_all[\"Trieda_PK\"].value_counts()"
   ]
  },
  {
   "cell_type": "code",
   "execution_count": 4,
   "metadata": {},
   "outputs": [
    {
     "data": {
      "text/plain": [
       "((1913, 44), (1472, 44), (3967, 44))"
      ]
     },
     "execution_count": 4,
     "metadata": {},
     "output_type": "execute_result"
    }
   ],
   "source": [
    "filtered_bridges_I = df_bridges_all[\n",
    "    (df_bridges_all[\"Trieda_PK\"] == 'cesta I. triedy')\n",
    "]\n",
    "\n",
    "filtered_bridges_II = df_bridges_all[\n",
    "    (df_bridges_all[\"Trieda_PK\"] == 'cesta II. triedy')\n",
    "]\n",
    "\n",
    "filtered_bridges_III = df_bridges_all[\n",
    "    (df_bridges_all[\"Trieda_PK\"] == 'cesta III. triedy')\n",
    "]\n",
    "\n",
    "filtered_bridges_I = filtered_bridges_I[filtered_bridges_I[\"n_2024\"] != 0]\n",
    "filtered_bridges_II = filtered_bridges_II[filtered_bridges_II[\"n_2024\"] != 0]\n",
    "filtered_bridges_III = filtered_bridges_III[filtered_bridges_III[\"n_2024\"] != 0]\n",
    "\n",
    "filtered_bridges_I.shape, filtered_bridges_II.shape, filtered_bridges_III.shape"
   ]
  },
  {
   "cell_type": "code",
   "execution_count": 45,
   "metadata": {},
   "outputs": [],
   "source": [
    "import plotly.graph_objs as go\n",
    "def calculate_relative_condition_counts(data, start_year=2012, end_year=2024):\n",
    "    relative_counts = pd.DataFrame()\n",
    "\n",
    "    for year in range(start_year, end_year + 1):\n",
    "        column_name = f\"n_{year}\"\n",
    "        year_data = data[data[column_name] > 0]  # Exclude bridges not assessed\n",
    "        counts = year_data[column_name].value_counts().rename_axis(\n",
    "            'Condition').reset_index(name=column_name)\n",
    "        total = counts[column_name].sum()\n",
    "        counts[column_name] = (counts[column_name] / total) * 100\n",
    "\n",
    "        if relative_counts.empty:\n",
    "            relative_counts = counts\n",
    "        else:\n",
    "            relative_counts = pd.merge(\n",
    "                relative_counts, counts, on='Condition', how='outer')\n",
    "\n",
    "    relative_counts.fillna(0, inplace=True)\n",
    "    relative_counts.sort_values('Condition', inplace=True)\n",
    "    return relative_counts\n",
    "\n",
    "\n",
    "def calculate_absolute_condition_counts(data, start_year=2012, end_year=2024):\n",
    "    absolute_counts = pd.DataFrame()\n",
    "\n",
    "    for year in range(start_year, end_year + 1):\n",
    "        column_name = f\"n_{year}\"\n",
    "        year_data = data[data[column_name] > 0]  # Exclude bridges not assessed\n",
    "        counts = year_data[column_name].value_counts().rename_axis(\n",
    "            'Condition').reset_index(name=column_name)\n",
    "\n",
    "        if absolute_counts.empty:\n",
    "            absolute_counts = counts\n",
    "        else:\n",
    "            absolute_counts = pd.merge(\n",
    "                absolute_counts, counts, on='Condition', how='outer')\n",
    "\n",
    "    absolute_counts.fillna(0, inplace=True)\n",
    "    absolute_counts.sort_values('Condition', inplace=True)\n",
    "    return absolute_counts\n",
    "\n",
    "\n",
    "def create_plot(relative_counts, title, filename, start_year=2012, end_year=2024, b=500, h=500):\n",
    "    color_palette = ['#46a7a2', '#e7a564', '#8bae7c',\n",
    "                     '#353a29', '#eae1a9', '#c25469', '#2d505d']\n",
    "\n",
    "    # Set up the years range based on start and end year\n",
    "    years = [f\"n_{year}\" for year in range(start_year, end_year + 1)]\n",
    "    display_years = [str(year) for year in range(start_year, end_year + 1)]\n",
    "\n",
    "    # Adjust data for plotting\n",
    "    data_for_plotting = relative_counts.set_index(\n",
    "        'Condition')[years].T.reset_index()\n",
    "    data_for_plotting.rename(columns={'index': 'Year'}, inplace=True)\n",
    "    data_for_plotting['Year'] = display_years\n",
    "\n",
    "    fig = go.Figure()\n",
    "\n",
    "    for i, condition in reversed(list(enumerate(relative_counts['Condition'].unique()))):\n",
    "        fig.add_trace(go.Scatter(\n",
    "            x=data_for_plotting['Year'],\n",
    "            y=data_for_plotting[condition],\n",
    "            mode='lines',\n",
    "            stackgroup='one',\n",
    "            name=str(condition),\n",
    "            line=dict(color=color_palette[i % len(color_palette)])\n",
    "        ))\n",
    "\n",
    "    fig.update_layout(\n",
    "        title=title,\n",
    "        yaxis_title='percentuálne zastúpenie',\n",
    "        yaxis=dict(ticksuffix=\"%\", range=[0, 100]),\n",
    "        font=dict(family=\"Calibri, sans-serif\", size=14),\n",
    "        legend=dict(\n",
    "            orientation=\"h\",\n",
    "            yanchor=\"top\",\n",
    "            y=1.080,\n",
    "            xanchor=\"right\",\n",
    "            x=1\n",
    "        ),\n",
    "        xaxis=dict(\n",
    "            tickvals=[str(year) for year in range(start_year, end_year + 1)],\n",
    "            ticktext=[\n",
    "                f\"'{str(year)[-2:]}\" for year in range(start_year, end_year + 1)]\n",
    "        ),\n",
    "        plot_bgcolor='#EEEEEE',\n",
    "        margin=dict(l=0, r=20, t=75, b=25),\n",
    "        width=b,\n",
    "        height=h\n",
    "    )\n",
    "\n",
    "    fig.show()"
   ]
  },
  {
   "cell_type": "code",
   "execution_count": 14,
   "metadata": {},
   "outputs": [],
   "source": [
    "# Calculate relative condition counts for each category\n",
    "relative_condition_counts_I = calculate_relative_condition_counts(\n",
    "    filtered_bridges_I)\n",
    "relative_condition_counts_II = calculate_relative_condition_counts(\n",
    "    filtered_bridges_II)\n",
    "relative_condition_counts_III = calculate_relative_condition_counts(\n",
    "    filtered_bridges_III)\n",
    "\n",
    "absolute_condition_counts_I = calculate_absolute_condition_counts(\n",
    "    filtered_bridges_I)"
   ]
  },
  {
   "cell_type": "code",
   "execution_count": 15,
   "metadata": {},
   "outputs": [
    {
     "name": "stdout",
     "output_type": "stream",
     "text": [
      "   Condition  n_2012  n_2013  n_2014  n_2015  n_2016  n_2017  n_2018  n_2019  \\\n",
      "0          1     119     122     134     128     142     144     145     137   \n",
      "1          2     235     238     232     239     233     250     246     244   \n",
      "2          3     739     725     700     694     645     577     544     491   \n",
      "3          4     488     485     503     509     547     552     579     594   \n",
      "4          5     137     136     146     147     162     195     214     258   \n",
      "5          6      40      51      54      54      66      87      99     116   \n",
      "6          7       2       3       3       8      14      16       7       8   \n",
      "\n",
      "   n_2020  n_2021  n_2022  n_2023  n_2024  \n",
      "0     144     139     131     109      89  \n",
      "1     248     232     234     179     157  \n",
      "2     428     386     353     301     289  \n",
      "3     582     567     573     566     507  \n",
      "4     304     360     386     464     525  \n",
      "5     152     187     197     254     316  \n",
      "6      11      12      15      24      30  \n"
     ]
    }
   ],
   "source": [
    "print(absolute_condition_counts_I)"
   ]
  },
  {
   "cell_type": "markdown",
   "metadata": {},
   "source": [
    "## Absolútne"
   ]
  },
  {
   "cell_type": "code",
   "execution_count": 16,
   "metadata": {},
   "outputs": [
    {
     "name": "stdout",
     "output_type": "stream",
     "text": [
      "   Condition  Predicted_2024  Actual_2024\n",
      "0          1       92.814937           89\n",
      "1          2      147.745463          157\n",
      "2          3      280.110709          289\n",
      "3          4      527.468216          507\n",
      "4          5      522.557239          525\n",
      "5          6      294.016717          316\n",
      "6          7       31.006374           30\n"
     ]
    }
   ],
   "source": [
    "import pandas as pd\n",
    "from sklearn.linear_model import LinearRegression\n",
    "from sklearn.preprocessing import PolynomialFeatures\n",
    "import numpy as np\n",
    "\n",
    "# Adjust years to match the column names in the format 'n_2012', 'n_2013', etc.\n",
    "years = [f\"n_{year}\" for year in range(2012, 2024)]\n",
    "# Years as integers for model input\n",
    "X_train = np.array(range(2012, 2024)).reshape(-1, 1)\n",
    "\n",
    "predictions = {}\n",
    "\n",
    "# Use PolynomialFeatures to generate polynomial terms\n",
    "degree = 3  # You can adjust this as needed\n",
    "poly = PolynomialFeatures(degree=degree)\n",
    "\n",
    "# Transform X_train to include polynomial terms\n",
    "X_train_poly = poly.fit_transform(X_train)\n",
    "\n",
    "for condition in absolute_condition_counts_I['Condition'].unique():\n",
    "    # Select condition data from 2012 to 2023 for the current condition\n",
    "    y_train = absolute_condition_counts_I.loc[\n",
    "        absolute_condition_counts_I['Condition'] == condition, years\n",
    "    ].values.flatten()\n",
    "\n",
    "    # Train a Linear Regression model with polynomial features\n",
    "    model = LinearRegression()\n",
    "    model.fit(X_train_poly, y_train)\n",
    "\n",
    "    # Predict for 2024 with polynomial features\n",
    "    X_test_poly = poly.transform(np.array([[2024]]))\n",
    "    prediction_2024 = model.predict(X_test_poly)\n",
    "    predictions[condition] = prediction_2024[0]\n",
    "\n",
    "# Combine predictions with actual values for comparison\n",
    "actual_2024 = absolute_condition_counts_I.set_index('Condition')['n_2024']\n",
    "predictions_df = pd.DataFrame({\n",
    "    'Condition': predictions.keys(),\n",
    "    'Predicted_2024': predictions.values(),\n",
    "    'Actual_2024': actual_2024\n",
    "}).reset_index(drop=True)\n",
    "\n",
    "print(predictions_df)"
   ]
  },
  {
   "cell_type": "code",
   "execution_count": 19,
   "metadata": {},
   "outputs": [
    {
     "name": "stdout",
     "output_type": "stream",
     "text": [
      "   Condition  Predicted_2024  Actual_2024\n",
      "0          1       92.814937           89\n",
      "1          2      147.745463          157\n",
      "2          3      280.110709          289\n",
      "3          4      527.468216          507\n",
      "4          5      522.557239          525\n",
      "5          6      294.016717          316\n",
      "6          7       31.006374           30\n"
     ]
    }
   ],
   "source": [
    "import pandas as pd\n",
    "from sklearn.linear_model import LinearRegression\n",
    "from sklearn.preprocessing import PolynomialFeatures\n",
    "import numpy as np\n",
    "\n",
    "# Define years for columns and training range\n",
    "years = [f\"n_{year}\" for year in range(2012, 2024)]\n",
    "X_train = np.array(range(2012, 2024)).reshape(-1, 1)\n",
    "\n",
    "# Prepare a dictionary to store predictions for each condition\n",
    "predictions = {}\n",
    "\n",
    "# Polynomial degree setting (adjustable as needed)\n",
    "degree = 3\n",
    "poly = PolynomialFeatures(degree=degree)\n",
    "\n",
    "# Transform X_train to include polynomial terms\n",
    "X_train_poly = poly.fit_transform(X_train)\n",
    "\n",
    "# Loop through each condition and perform polynomial regression\n",
    "for condition in absolute_condition_counts_I['Condition'].unique():\n",
    "    # Get absolute counts for each condition from 2012 to 2023\n",
    "    y_train = absolute_condition_counts_I.loc[\n",
    "        absolute_condition_counts_I['Condition'] == condition, years\n",
    "    ].values.flatten()\n",
    "\n",
    "    # Train the Linear Regression model with polynomial features\n",
    "    model = LinearRegression()\n",
    "    model.fit(X_train_poly, y_train)\n",
    "\n",
    "    # Predict for 2024 using the model\n",
    "    X_test_poly = poly.transform(np.array([[2024]]))\n",
    "    prediction_2024 = model.predict(X_test_poly)\n",
    "    predictions[condition] = prediction_2024[0]\n",
    "\n",
    "# Combine predictions with actual absolute values for 2024\n",
    "actual_2024 = absolute_condition_counts_I.set_index('Condition')['n_2024']\n",
    "predictions_df = pd.DataFrame({\n",
    "    'Condition': predictions.keys(),\n",
    "    'Predicted_2024': predictions.values(),\n",
    "    'Actual_2024': actual_2024\n",
    "}).reset_index(drop=True)\n",
    "\n",
    "print(predictions_df)"
   ]
  },
  {
   "cell_type": "code",
   "execution_count": 20,
   "metadata": {},
   "outputs": [
    {
     "data": {
      "text/html": [
       "<div>\n",
       "<style scoped>\n",
       "    .dataframe tbody tr th:only-of-type {\n",
       "        vertical-align: middle;\n",
       "    }\n",
       "\n",
       "    .dataframe tbody tr th {\n",
       "        vertical-align: top;\n",
       "    }\n",
       "\n",
       "    .dataframe thead th {\n",
       "        text-align: right;\n",
       "    }\n",
       "</style>\n",
       "<table border=\"1\" class=\"dataframe\">\n",
       "  <thead>\n",
       "    <tr style=\"text-align: right;\">\n",
       "      <th></th>\n",
       "      <th>Condition</th>\n",
       "      <th>n_2012</th>\n",
       "      <th>n_2013</th>\n",
       "      <th>n_2014</th>\n",
       "      <th>n_2015</th>\n",
       "      <th>n_2016</th>\n",
       "      <th>n_2017</th>\n",
       "      <th>n_2018</th>\n",
       "      <th>n_2019</th>\n",
       "      <th>n_2020</th>\n",
       "      <th>...</th>\n",
       "      <th>n_2026</th>\n",
       "      <th>n_2027</th>\n",
       "      <th>n_2028</th>\n",
       "      <th>n_2029</th>\n",
       "      <th>n_2030</th>\n",
       "      <th>n_2031</th>\n",
       "      <th>n_2032</th>\n",
       "      <th>n_2033</th>\n",
       "      <th>n_2034</th>\n",
       "      <th>n_2035</th>\n",
       "    </tr>\n",
       "  </thead>\n",
       "  <tbody>\n",
       "    <tr>\n",
       "      <th>0</th>\n",
       "      <td>1</td>\n",
       "      <td>119</td>\n",
       "      <td>122</td>\n",
       "      <td>134</td>\n",
       "      <td>128</td>\n",
       "      <td>142</td>\n",
       "      <td>144</td>\n",
       "      <td>145</td>\n",
       "      <td>137</td>\n",
       "      <td>144</td>\n",
       "      <td>...</td>\n",
       "      <td>28.670967</td>\n",
       "      <td>-13.118146</td>\n",
       "      <td>-63.210495</td>\n",
       "      <td>-122.281037</td>\n",
       "      <td>-191.004729</td>\n",
       "      <td>-270.056524</td>\n",
       "      <td>-360.111381</td>\n",
       "      <td>-461.844252</td>\n",
       "      <td>-575.930096</td>\n",
       "      <td>-703.043867</td>\n",
       "    </tr>\n",
       "    <tr>\n",
       "      <th>1</th>\n",
       "      <td>2</td>\n",
       "      <td>235</td>\n",
       "      <td>238</td>\n",
       "      <td>232</td>\n",
       "      <td>239</td>\n",
       "      <td>233</td>\n",
       "      <td>250</td>\n",
       "      <td>246</td>\n",
       "      <td>244</td>\n",
       "      <td>248</td>\n",
       "      <td>...</td>\n",
       "      <td>41.684212</td>\n",
       "      <td>-37.047729</td>\n",
       "      <td>-132.749582</td>\n",
       "      <td>-246.986360</td>\n",
       "      <td>-381.323077</td>\n",
       "      <td>-537.324741</td>\n",
       "      <td>-716.556368</td>\n",
       "      <td>-920.582969</td>\n",
       "      <td>-1150.969558</td>\n",
       "      <td>-1409.281146</td>\n",
       "    </tr>\n",
       "    <tr>\n",
       "      <th>2</th>\n",
       "      <td>3</td>\n",
       "      <td>739</td>\n",
       "      <td>725</td>\n",
       "      <td>700</td>\n",
       "      <td>694</td>\n",
       "      <td>645</td>\n",
       "      <td>577</td>\n",
       "      <td>544</td>\n",
       "      <td>491</td>\n",
       "      <td>428</td>\n",
       "      <td>...</td>\n",
       "      <td>284.518682</td>\n",
       "      <td>310.350153</td>\n",
       "      <td>357.521607</td>\n",
       "      <td>428.584254</td>\n",
       "      <td>526.089297</td>\n",
       "      <td>652.587943</td>\n",
       "      <td>810.631401</td>\n",
       "      <td>1002.770876</td>\n",
       "      <td>1231.557574</td>\n",
       "      <td>1499.542702</td>\n",
       "    </tr>\n",
       "    <tr>\n",
       "      <th>3</th>\n",
       "      <td>4</td>\n",
       "      <td>488</td>\n",
       "      <td>485</td>\n",
       "      <td>503</td>\n",
       "      <td>509</td>\n",
       "      <td>547</td>\n",
       "      <td>552</td>\n",
       "      <td>579</td>\n",
       "      <td>594</td>\n",
       "      <td>582</td>\n",
       "      <td>...</td>\n",
       "      <td>389.510718</td>\n",
       "      <td>300.024253</td>\n",
       "      <td>189.350105</td>\n",
       "      <td>55.585923</td>\n",
       "      <td>-103.170636</td>\n",
       "      <td>-288.821920</td>\n",
       "      <td>-503.270277</td>\n",
       "      <td>-748.418053</td>\n",
       "      <td>-1026.167597</td>\n",
       "      <td>-1338.421255</td>\n",
       "    </tr>\n",
       "    <tr>\n",
       "      <th>4</th>\n",
       "      <td>5</td>\n",
       "      <td>137</td>\n",
       "      <td>136</td>\n",
       "      <td>146</td>\n",
       "      <td>147</td>\n",
       "      <td>162</td>\n",
       "      <td>195</td>\n",
       "      <td>214</td>\n",
       "      <td>258</td>\n",
       "      <td>304</td>\n",
       "      <td>...</td>\n",
       "      <td>666.566212</td>\n",
       "      <td>744.439855</td>\n",
       "      <td>826.535178</td>\n",
       "      <td>912.638824</td>\n",
       "      <td>1002.537434</td>\n",
       "      <td>1096.017651</td>\n",
       "      <td>1192.866116</td>\n",
       "      <td>1292.869472</td>\n",
       "      <td>1395.814360</td>\n",
       "      <td>1501.487423</td>\n",
       "    </tr>\n",
       "    <tr>\n",
       "      <th>5</th>\n",
       "      <td>6</td>\n",
       "      <td>40</td>\n",
       "      <td>51</td>\n",
       "      <td>54</td>\n",
       "      <td>54</td>\n",
       "      <td>66</td>\n",
       "      <td>87</td>\n",
       "      <td>99</td>\n",
       "      <td>116</td>\n",
       "      <td>152</td>\n",
       "      <td>...</td>\n",
       "      <td>440.500070</td>\n",
       "      <td>520.108290</td>\n",
       "      <td>610.222745</td>\n",
       "      <td>711.535841</td>\n",
       "      <td>824.739984</td>\n",
       "      <td>950.527577</td>\n",
       "      <td>1089.591027</td>\n",
       "      <td>1242.622738</td>\n",
       "      <td>1410.315116</td>\n",
       "      <td>1593.360566</td>\n",
       "    </tr>\n",
       "    <tr>\n",
       "      <th>6</th>\n",
       "      <td>7</td>\n",
       "      <td>2</td>\n",
       "      <td>3</td>\n",
       "      <td>3</td>\n",
       "      <td>8</td>\n",
       "      <td>14</td>\n",
       "      <td>16</td>\n",
       "      <td>7</td>\n",
       "      <td>8</td>\n",
       "      <td>11</td>\n",
       "      <td>...</td>\n",
       "      <td>56.072982</td>\n",
       "      <td>74.558079</td>\n",
       "      <td>97.364597</td>\n",
       "      <td>124.941953</td>\n",
       "      <td>157.739570</td>\n",
       "      <td>196.206868</td>\n",
       "      <td>240.793268</td>\n",
       "      <td>291.948190</td>\n",
       "      <td>350.121055</td>\n",
       "      <td>415.761284</td>\n",
       "    </tr>\n",
       "  </tbody>\n",
       "</table>\n",
       "<p>7 rows × 25 columns</p>\n",
       "</div>"
      ],
      "text/plain": [
       "   Condition  n_2012  n_2013  n_2014  n_2015  n_2016  n_2017  n_2018  n_2019  \\\n",
       "0          1     119     122     134     128     142     144     145     137   \n",
       "1          2     235     238     232     239     233     250     246     244   \n",
       "2          3     739     725     700     694     645     577     544     491   \n",
       "3          4     488     485     503     509     547     552     579     594   \n",
       "4          5     137     136     146     147     162     195     214     258   \n",
       "5          6      40      51      54      54      66      87      99     116   \n",
       "6          7       2       3       3       8      14      16       7       8   \n",
       "\n",
       "   n_2020  ...      n_2026      n_2027      n_2028      n_2029       n_2030  \\\n",
       "0     144  ...   28.670967  -13.118146  -63.210495 -122.281037  -191.004729   \n",
       "1     248  ...   41.684212  -37.047729 -132.749582 -246.986360  -381.323077   \n",
       "2     428  ...  284.518682  310.350153  357.521607  428.584254   526.089297   \n",
       "3     582  ...  389.510718  300.024253  189.350105   55.585923  -103.170636   \n",
       "4     304  ...  666.566212  744.439855  826.535178  912.638824  1002.537434   \n",
       "5     152  ...  440.500070  520.108290  610.222745  711.535841   824.739984   \n",
       "6      11  ...   56.072982   74.558079   97.364597  124.941953   157.739570   \n",
       "\n",
       "        n_2031       n_2032       n_2033       n_2034       n_2035  \n",
       "0  -270.056524  -360.111381  -461.844252  -575.930096  -703.043867  \n",
       "1  -537.324741  -716.556368  -920.582969 -1150.969558 -1409.281146  \n",
       "2   652.587943   810.631401  1002.770876  1231.557574  1499.542702  \n",
       "3  -288.821920  -503.270277  -748.418053 -1026.167597 -1338.421255  \n",
       "4  1096.017651  1192.866116  1292.869472  1395.814360  1501.487423  \n",
       "5   950.527577  1089.591027  1242.622738  1410.315116  1593.360566  \n",
       "6   196.206868   240.793268   291.948190   350.121055   415.761284  \n",
       "\n",
       "[7 rows x 25 columns]"
      ]
     },
     "execution_count": 20,
     "metadata": {},
     "output_type": "execute_result"
    }
   ],
   "source": [
    "import pandas as pd\n",
    "from sklearn.linear_model import LinearRegression\n",
    "from sklearn.preprocessing import PolynomialFeatures\n",
    "import numpy as np\n",
    "\n",
    "# Create a copy of the absolute counts DataFrame to avoid modifying it\n",
    "df_absolute_predictions = absolute_condition_counts_I.copy()\n",
    "\n",
    "# Extend years to 2035 in the format 'n_2012', 'n_2013', ..., 'n_2035'\n",
    "years = [f\"n_{year}\" for year in range(2012, 2036)]\n",
    "# Prepare X values for model training and predictions (from 2012 to 2035)\n",
    "X = np.array(range(2012, 2035 + 1)).reshape(-1, 1)\n",
    "\n",
    "# Initialize PolynomialFeatures with desired degree (adjust as necessary)\n",
    "degree = 3\n",
    "poly = PolynomialFeatures(degree=degree)\n",
    "X_poly = poly.fit_transform(X)\n",
    "\n",
    "# Initialize dictionary to store predictions for each condition\n",
    "future_predictions = {f\"n_{year}\": [] for year in range(2025, 2036)}\n",
    "\n",
    "for condition in df_absolute_predictions['Condition'].unique():\n",
    "    # Train model on the entire data from 2012 to 2024 for the current condition\n",
    "    y = df_absolute_predictions.loc[\n",
    "        df_absolute_predictions['Condition'] == condition,\n",
    "        [f\"n_{year}\" for year in range(2012, 2025)]\n",
    "    ].values.flatten()\n",
    "\n",
    "    # Train a Linear Regression model with polynomial features\n",
    "    model = LinearRegression()\n",
    "    model.fit(X_poly[:len(y)], y)\n",
    "\n",
    "    # Predict values from 2025 to 2035\n",
    "    for year in range(2025, 2036):\n",
    "        X_test_poly = poly.transform(np.array([[year]]))\n",
    "        future_predictions[f\"n_{year}\"].append(model.predict(X_test_poly)[0])\n",
    "\n",
    "# Append predictions to the DataFrame\n",
    "for year in range(2025, 2036):\n",
    "    df_absolute_predictions[f\"n_{year}\"] = future_predictions[f\"n_{year}\"]\n",
    "\n",
    "# Display the updated DataFrame with predictions for 2025-2035\n",
    "df_absolute_predictions"
   ]
  },
  {
   "cell_type": "code",
   "execution_count": 21,
   "metadata": {},
   "outputs": [
    {
     "data": {
      "application/vnd.plotly.v1+json": {
       "config": {
        "plotlyServerURL": "https://plot.ly"
       },
       "data": [
        {
         "line": {
          "shape": "spline"
         },
         "mode": "lines+markers",
         "name": "Condition 1",
         "type": "scatter",
         "x": [
          2012,
          2013,
          2014,
          2015,
          2016,
          2017,
          2018,
          2019,
          2020,
          2021,
          2022,
          2023,
          2024,
          2025,
          2026,
          2027,
          2028,
          2029,
          2030,
          2031,
          2032,
          2033,
          2034,
          2035
         ],
         "y": [
          119,
          122,
          134,
          128,
          142,
          144,
          145,
          137,
          144,
          139,
          131,
          109,
          89,
          62.831796646118164,
          28.670966863632202,
          -13.11814558506012,
          -63.21049475669861,
          -122.28103685379028,
          -191.0047289133072,
          -270.0565242767334,
          -360.11138105392456,
          -461.84425246715546,
          -575.9300961494446,
          -703.0438672304153
         ]
        },
        {
         "line": {
          "shape": "spline"
         },
         "mode": "lines+markers",
         "name": "Condition 2",
         "type": "scatter",
         "x": [
          2012,
          2013,
          2014,
          2015,
          2016,
          2017,
          2018,
          2019,
          2020,
          2021,
          2022,
          2023,
          2024,
          2025,
          2026,
          2027,
          2028,
          2029,
          2030,
          2031,
          2032,
          2033,
          2034,
          2035
         ],
         "y": [
          235,
          238,
          232,
          239,
          233,
          250,
          246,
          244,
          248,
          232,
          234,
          179,
          157,
          105.01125383377075,
          41.68421173095703,
          -37.047728538513184,
          -132.7495822906494,
          -246.9863600730896,
          -381.3230767250061,
          -537.3247408866882,
          -716.5563683509827,
          -920.5829691886902,
          -1150.9695582389832,
          -1409.2811455726624
         ]
        },
        {
         "line": {
          "shape": "spline"
         },
         "mode": "lines+markers",
         "name": "Condition 3",
         "type": "scatter",
         "x": [
          2012,
          2013,
          2014,
          2015,
          2016,
          2017,
          2018,
          2019,
          2020,
          2021,
          2022,
          2023,
          2024,
          2025,
          2026,
          2027,
          2028,
          2029,
          2030,
          2031,
          2032,
          2033,
          2034,
          2035
         ],
         "y": [
          739,
          725,
          700,
          694,
          645,
          577,
          544,
          491,
          428,
          386,
          353,
          301,
          289,
          277.47598791122437,
          284.5186824798584,
          310.3501534461975,
          357.5216073989868,
          428.58425426483154,
          526.0892972946167,
          652.5879430770874,
          810.6314005851746,
          1002.7708759307861,
          1231.5575742721558,
          1499.5427021980286
         ]
        },
        {
         "line": {
          "shape": "spline"
         },
         "mode": "lines+markers",
         "name": "Condition 4",
         "type": "scatter",
         "x": [
          2012,
          2013,
          2014,
          2015,
          2016,
          2017,
          2018,
          2019,
          2020,
          2021,
          2022,
          2023,
          2024,
          2025,
          2026,
          2027,
          2028,
          2029,
          2030,
          2031,
          2032,
          2033,
          2034,
          2035
         ],
         "y": [
          488,
          485,
          503,
          509,
          547,
          552,
          579,
          594,
          582,
          567,
          573,
          566,
          507,
          459.7118468284607,
          389.5107183456421,
          300.0242533683777,
          189.35010480880737,
          55.585923194885254,
          -103.17063570022583,
          -288.82192039489746,
          -503.27027702331543,
          -748.418053150177,
          -1026.1675972938538,
          -1338.4212546348572
         ]
        },
        {
         "line": {
          "shape": "spline"
         },
         "mode": "lines+markers",
         "name": "Condition 5",
         "type": "scatter",
         "x": [
          2012,
          2013,
          2014,
          2015,
          2016,
          2017,
          2018,
          2019,
          2020,
          2021,
          2022,
          2023,
          2024,
          2025,
          2026,
          2027,
          2028,
          2029,
          2030,
          2031,
          2032,
          2033,
          2034,
          2035
         ],
         "y": [
          137,
          136,
          146,
          147,
          162,
          195,
          214,
          258,
          304,
          360,
          386,
          464,
          525,
          593.1276081204414,
          666.5662124752998,
          744.4398550391197,
          826.5351783037186,
          912.6388240456581,
          1002.537434220314,
          1096.0176510214806,
          1192.8661161065102,
          1292.869471669197,
          1395.814359843731,
          1501.4874225258827
         ]
        },
        {
         "line": {
          "shape": "spline"
         },
         "mode": "lines+markers",
         "name": "Condition 6",
         "type": "scatter",
         "x": [
          2012,
          2013,
          2014,
          2015,
          2016,
          2017,
          2018,
          2019,
          2020,
          2021,
          2022,
          2023,
          2024,
          2025,
          2026,
          2027,
          2028,
          2029,
          2030,
          2031,
          2032,
          2033,
          2034,
          2035
         ],
         "y": [
          40,
          51,
          54,
          54,
          66,
          87,
          99,
          116,
          152,
          187,
          197,
          254,
          316,
          370.70568120479584,
          440.5000698566437,
          520.1082897186279,
          610.2227448225021,
          711.5358412265778,
          824.7399837970734,
          950.5275770425797,
          1089.5910266637802,
          1242.6227382421494,
          1410.3151160478592,
          1593.3605655431747
         ]
        },
        {
         "line": {
          "shape": "spline"
         },
         "mode": "lines+markers",
         "name": "Condition 7",
         "type": "scatter",
         "x": [
          2012,
          2013,
          2014,
          2015,
          2016,
          2017,
          2018,
          2019,
          2020,
          2021,
          2022,
          2023,
          2024,
          2025,
          2026,
          2027,
          2028,
          2029,
          2030,
          2031,
          2032,
          2033,
          2034,
          2035
         ],
         "y": [
          2,
          3,
          3,
          8,
          14,
          16,
          7,
          8,
          11,
          12,
          15,
          24,
          30,
          41.45988214015961,
          56.07298183441162,
          74.55807948112488,
          97.3645966053009,
          124.94195306301117,
          157.73957002162933,
          196.20686793327332,
          240.7932677268982,
          291.9481898546219,
          350.1210550069809,
          415.7612842321396
         ]
        }
       ],
       "layout": {
        "legend": {
         "title": {
          "text": "Condition"
         }
        },
        "template": {
         "data": {
          "bar": [
           {
            "error_x": {
             "color": "#2a3f5f"
            },
            "error_y": {
             "color": "#2a3f5f"
            },
            "marker": {
             "line": {
              "color": "#E5ECF6",
              "width": 0.5
             },
             "pattern": {
              "fillmode": "overlay",
              "size": 10,
              "solidity": 0.2
             }
            },
            "type": "bar"
           }
          ],
          "barpolar": [
           {
            "marker": {
             "line": {
              "color": "#E5ECF6",
              "width": 0.5
             },
             "pattern": {
              "fillmode": "overlay",
              "size": 10,
              "solidity": 0.2
             }
            },
            "type": "barpolar"
           }
          ],
          "carpet": [
           {
            "aaxis": {
             "endlinecolor": "#2a3f5f",
             "gridcolor": "white",
             "linecolor": "white",
             "minorgridcolor": "white",
             "startlinecolor": "#2a3f5f"
            },
            "baxis": {
             "endlinecolor": "#2a3f5f",
             "gridcolor": "white",
             "linecolor": "white",
             "minorgridcolor": "white",
             "startlinecolor": "#2a3f5f"
            },
            "type": "carpet"
           }
          ],
          "choropleth": [
           {
            "colorbar": {
             "outlinewidth": 0,
             "ticks": ""
            },
            "type": "choropleth"
           }
          ],
          "contour": [
           {
            "colorbar": {
             "outlinewidth": 0,
             "ticks": ""
            },
            "colorscale": [
             [
              0,
              "#0d0887"
             ],
             [
              0.1111111111111111,
              "#46039f"
             ],
             [
              0.2222222222222222,
              "#7201a8"
             ],
             [
              0.3333333333333333,
              "#9c179e"
             ],
             [
              0.4444444444444444,
              "#bd3786"
             ],
             [
              0.5555555555555556,
              "#d8576b"
             ],
             [
              0.6666666666666666,
              "#ed7953"
             ],
             [
              0.7777777777777778,
              "#fb9f3a"
             ],
             [
              0.8888888888888888,
              "#fdca26"
             ],
             [
              1,
              "#f0f921"
             ]
            ],
            "type": "contour"
           }
          ],
          "contourcarpet": [
           {
            "colorbar": {
             "outlinewidth": 0,
             "ticks": ""
            },
            "type": "contourcarpet"
           }
          ],
          "heatmap": [
           {
            "colorbar": {
             "outlinewidth": 0,
             "ticks": ""
            },
            "colorscale": [
             [
              0,
              "#0d0887"
             ],
             [
              0.1111111111111111,
              "#46039f"
             ],
             [
              0.2222222222222222,
              "#7201a8"
             ],
             [
              0.3333333333333333,
              "#9c179e"
             ],
             [
              0.4444444444444444,
              "#bd3786"
             ],
             [
              0.5555555555555556,
              "#d8576b"
             ],
             [
              0.6666666666666666,
              "#ed7953"
             ],
             [
              0.7777777777777778,
              "#fb9f3a"
             ],
             [
              0.8888888888888888,
              "#fdca26"
             ],
             [
              1,
              "#f0f921"
             ]
            ],
            "type": "heatmap"
           }
          ],
          "heatmapgl": [
           {
            "colorbar": {
             "outlinewidth": 0,
             "ticks": ""
            },
            "colorscale": [
             [
              0,
              "#0d0887"
             ],
             [
              0.1111111111111111,
              "#46039f"
             ],
             [
              0.2222222222222222,
              "#7201a8"
             ],
             [
              0.3333333333333333,
              "#9c179e"
             ],
             [
              0.4444444444444444,
              "#bd3786"
             ],
             [
              0.5555555555555556,
              "#d8576b"
             ],
             [
              0.6666666666666666,
              "#ed7953"
             ],
             [
              0.7777777777777778,
              "#fb9f3a"
             ],
             [
              0.8888888888888888,
              "#fdca26"
             ],
             [
              1,
              "#f0f921"
             ]
            ],
            "type": "heatmapgl"
           }
          ],
          "histogram": [
           {
            "marker": {
             "pattern": {
              "fillmode": "overlay",
              "size": 10,
              "solidity": 0.2
             }
            },
            "type": "histogram"
           }
          ],
          "histogram2d": [
           {
            "colorbar": {
             "outlinewidth": 0,
             "ticks": ""
            },
            "colorscale": [
             [
              0,
              "#0d0887"
             ],
             [
              0.1111111111111111,
              "#46039f"
             ],
             [
              0.2222222222222222,
              "#7201a8"
             ],
             [
              0.3333333333333333,
              "#9c179e"
             ],
             [
              0.4444444444444444,
              "#bd3786"
             ],
             [
              0.5555555555555556,
              "#d8576b"
             ],
             [
              0.6666666666666666,
              "#ed7953"
             ],
             [
              0.7777777777777778,
              "#fb9f3a"
             ],
             [
              0.8888888888888888,
              "#fdca26"
             ],
             [
              1,
              "#f0f921"
             ]
            ],
            "type": "histogram2d"
           }
          ],
          "histogram2dcontour": [
           {
            "colorbar": {
             "outlinewidth": 0,
             "ticks": ""
            },
            "colorscale": [
             [
              0,
              "#0d0887"
             ],
             [
              0.1111111111111111,
              "#46039f"
             ],
             [
              0.2222222222222222,
              "#7201a8"
             ],
             [
              0.3333333333333333,
              "#9c179e"
             ],
             [
              0.4444444444444444,
              "#bd3786"
             ],
             [
              0.5555555555555556,
              "#d8576b"
             ],
             [
              0.6666666666666666,
              "#ed7953"
             ],
             [
              0.7777777777777778,
              "#fb9f3a"
             ],
             [
              0.8888888888888888,
              "#fdca26"
             ],
             [
              1,
              "#f0f921"
             ]
            ],
            "type": "histogram2dcontour"
           }
          ],
          "mesh3d": [
           {
            "colorbar": {
             "outlinewidth": 0,
             "ticks": ""
            },
            "type": "mesh3d"
           }
          ],
          "parcoords": [
           {
            "line": {
             "colorbar": {
              "outlinewidth": 0,
              "ticks": ""
             }
            },
            "type": "parcoords"
           }
          ],
          "pie": [
           {
            "automargin": true,
            "type": "pie"
           }
          ],
          "scatter": [
           {
            "fillpattern": {
             "fillmode": "overlay",
             "size": 10,
             "solidity": 0.2
            },
            "type": "scatter"
           }
          ],
          "scatter3d": [
           {
            "line": {
             "colorbar": {
              "outlinewidth": 0,
              "ticks": ""
             }
            },
            "marker": {
             "colorbar": {
              "outlinewidth": 0,
              "ticks": ""
             }
            },
            "type": "scatter3d"
           }
          ],
          "scattercarpet": [
           {
            "marker": {
             "colorbar": {
              "outlinewidth": 0,
              "ticks": ""
             }
            },
            "type": "scattercarpet"
           }
          ],
          "scattergeo": [
           {
            "marker": {
             "colorbar": {
              "outlinewidth": 0,
              "ticks": ""
             }
            },
            "type": "scattergeo"
           }
          ],
          "scattergl": [
           {
            "marker": {
             "colorbar": {
              "outlinewidth": 0,
              "ticks": ""
             }
            },
            "type": "scattergl"
           }
          ],
          "scattermapbox": [
           {
            "marker": {
             "colorbar": {
              "outlinewidth": 0,
              "ticks": ""
             }
            },
            "type": "scattermapbox"
           }
          ],
          "scatterpolar": [
           {
            "marker": {
             "colorbar": {
              "outlinewidth": 0,
              "ticks": ""
             }
            },
            "type": "scatterpolar"
           }
          ],
          "scatterpolargl": [
           {
            "marker": {
             "colorbar": {
              "outlinewidth": 0,
              "ticks": ""
             }
            },
            "type": "scatterpolargl"
           }
          ],
          "scatterternary": [
           {
            "marker": {
             "colorbar": {
              "outlinewidth": 0,
              "ticks": ""
             }
            },
            "type": "scatterternary"
           }
          ],
          "surface": [
           {
            "colorbar": {
             "outlinewidth": 0,
             "ticks": ""
            },
            "colorscale": [
             [
              0,
              "#0d0887"
             ],
             [
              0.1111111111111111,
              "#46039f"
             ],
             [
              0.2222222222222222,
              "#7201a8"
             ],
             [
              0.3333333333333333,
              "#9c179e"
             ],
             [
              0.4444444444444444,
              "#bd3786"
             ],
             [
              0.5555555555555556,
              "#d8576b"
             ],
             [
              0.6666666666666666,
              "#ed7953"
             ],
             [
              0.7777777777777778,
              "#fb9f3a"
             ],
             [
              0.8888888888888888,
              "#fdca26"
             ],
             [
              1,
              "#f0f921"
             ]
            ],
            "type": "surface"
           }
          ],
          "table": [
           {
            "cells": {
             "fill": {
              "color": "#EBF0F8"
             },
             "line": {
              "color": "white"
             }
            },
            "header": {
             "fill": {
              "color": "#C8D4E3"
             },
             "line": {
              "color": "white"
             }
            },
            "type": "table"
           }
          ]
         },
         "layout": {
          "annotationdefaults": {
           "arrowcolor": "#2a3f5f",
           "arrowhead": 0,
           "arrowwidth": 1
          },
          "autotypenumbers": "strict",
          "coloraxis": {
           "colorbar": {
            "outlinewidth": 0,
            "ticks": ""
           }
          },
          "colorscale": {
           "diverging": [
            [
             0,
             "#8e0152"
            ],
            [
             0.1,
             "#c51b7d"
            ],
            [
             0.2,
             "#de77ae"
            ],
            [
             0.3,
             "#f1b6da"
            ],
            [
             0.4,
             "#fde0ef"
            ],
            [
             0.5,
             "#f7f7f7"
            ],
            [
             0.6,
             "#e6f5d0"
            ],
            [
             0.7,
             "#b8e186"
            ],
            [
             0.8,
             "#7fbc41"
            ],
            [
             0.9,
             "#4d9221"
            ],
            [
             1,
             "#276419"
            ]
           ],
           "sequential": [
            [
             0,
             "#0d0887"
            ],
            [
             0.1111111111111111,
             "#46039f"
            ],
            [
             0.2222222222222222,
             "#7201a8"
            ],
            [
             0.3333333333333333,
             "#9c179e"
            ],
            [
             0.4444444444444444,
             "#bd3786"
            ],
            [
             0.5555555555555556,
             "#d8576b"
            ],
            [
             0.6666666666666666,
             "#ed7953"
            ],
            [
             0.7777777777777778,
             "#fb9f3a"
            ],
            [
             0.8888888888888888,
             "#fdca26"
            ],
            [
             1,
             "#f0f921"
            ]
           ],
           "sequentialminus": [
            [
             0,
             "#0d0887"
            ],
            [
             0.1111111111111111,
             "#46039f"
            ],
            [
             0.2222222222222222,
             "#7201a8"
            ],
            [
             0.3333333333333333,
             "#9c179e"
            ],
            [
             0.4444444444444444,
             "#bd3786"
            ],
            [
             0.5555555555555556,
             "#d8576b"
            ],
            [
             0.6666666666666666,
             "#ed7953"
            ],
            [
             0.7777777777777778,
             "#fb9f3a"
            ],
            [
             0.8888888888888888,
             "#fdca26"
            ],
            [
             1,
             "#f0f921"
            ]
           ]
          },
          "colorway": [
           "#636efa",
           "#EF553B",
           "#00cc96",
           "#ab63fa",
           "#FFA15A",
           "#19d3f3",
           "#FF6692",
           "#B6E880",
           "#FF97FF",
           "#FECB52"
          ],
          "font": {
           "color": "#2a3f5f"
          },
          "geo": {
           "bgcolor": "white",
           "lakecolor": "white",
           "landcolor": "#E5ECF6",
           "showlakes": true,
           "showland": true,
           "subunitcolor": "white"
          },
          "hoverlabel": {
           "align": "left"
          },
          "hovermode": "closest",
          "mapbox": {
           "style": "light"
          },
          "paper_bgcolor": "white",
          "plot_bgcolor": "#E5ECF6",
          "polar": {
           "angularaxis": {
            "gridcolor": "white",
            "linecolor": "white",
            "ticks": ""
           },
           "bgcolor": "#E5ECF6",
           "radialaxis": {
            "gridcolor": "white",
            "linecolor": "white",
            "ticks": ""
           }
          },
          "scene": {
           "xaxis": {
            "backgroundcolor": "#E5ECF6",
            "gridcolor": "white",
            "gridwidth": 2,
            "linecolor": "white",
            "showbackground": true,
            "ticks": "",
            "zerolinecolor": "white"
           },
           "yaxis": {
            "backgroundcolor": "#E5ECF6",
            "gridcolor": "white",
            "gridwidth": 2,
            "linecolor": "white",
            "showbackground": true,
            "ticks": "",
            "zerolinecolor": "white"
           },
           "zaxis": {
            "backgroundcolor": "#E5ECF6",
            "gridcolor": "white",
            "gridwidth": 2,
            "linecolor": "white",
            "showbackground": true,
            "ticks": "",
            "zerolinecolor": "white"
           }
          },
          "shapedefaults": {
           "line": {
            "color": "#2a3f5f"
           }
          },
          "ternary": {
           "aaxis": {
            "gridcolor": "white",
            "linecolor": "white",
            "ticks": ""
           },
           "baxis": {
            "gridcolor": "white",
            "linecolor": "white",
            "ticks": ""
           },
           "bgcolor": "#E5ECF6",
           "caxis": {
            "gridcolor": "white",
            "linecolor": "white",
            "ticks": ""
           }
          },
          "title": {
           "x": 0.05
          },
          "xaxis": {
           "automargin": true,
           "gridcolor": "white",
           "linecolor": "white",
           "ticks": "",
           "title": {
            "standoff": 15
           },
           "zerolinecolor": "white",
           "zerolinewidth": 2
          },
          "yaxis": {
           "automargin": true,
           "gridcolor": "white",
           "linecolor": "white",
           "ticks": "",
           "title": {
            "standoff": 15
           },
           "zerolinecolor": "white",
           "zerolinewidth": 2
          }
         }
        },
        "title": {
         "text": "Actual and Predicted Absolute Condition Counts (2012-2035)"
        },
        "xaxis": {
         "title": {
          "text": "Year"
         }
        },
        "yaxis": {
         "title": {
          "text": "Absolute Count"
         }
        }
       }
      }
     },
     "metadata": {},
     "output_type": "display_data"
    }
   ],
   "source": [
    "import plotly.graph_objs as go\n",
    "\n",
    "# Years for the x-axis: combine actual years (2012-2024) and predicted years (2025-2035)\n",
    "years = list(range(2012, 2036))\n",
    "\n",
    "# Initialize an empty figure\n",
    "fig = go.Figure()\n",
    "\n",
    "for condition in df_absolute_predictions['Condition'].unique():\n",
    "    # Extract actual data from 2012 to 2024\n",
    "    actual_data = df_absolute_predictions.loc[\n",
    "        df_absolute_predictions['Condition'] == condition,\n",
    "        [f\"n_{year}\" for year in range(2012, 2025)]\n",
    "    ].values.flatten()\n",
    "\n",
    "    # Extract predicted data from 2025 to 2035\n",
    "    predicted_data = df_absolute_predictions.loc[\n",
    "        df_absolute_predictions['Condition'] == condition,\n",
    "        [f\"n_{year}\" for year in range(2025, 2036)]\n",
    "    ].values.flatten()\n",
    "\n",
    "    # Combine actual and predicted data for full y-values\n",
    "    y_values = np.concatenate((actual_data, predicted_data))\n",
    "\n",
    "    # Create a trace for each condition\n",
    "    fig.add_trace(go.Scatter(\n",
    "        x=years, y=y_values,\n",
    "        mode='lines+markers',\n",
    "        name=f'Condition {condition}',\n",
    "        line=dict(shape='spline')\n",
    "    ))\n",
    "\n",
    "# Update layout for better readability\n",
    "fig.update_layout(\n",
    "    title=\"Actual and Predicted Absolute Condition Counts (2012-2035)\",\n",
    "    xaxis_title=\"Year\",\n",
    "    yaxis_title=\"Absolute Count\",\n",
    "    legend_title=\"Condition\",\n",
    ")\n",
    "\n",
    "fig.show()"
   ]
  },
  {
   "cell_type": "markdown",
   "metadata": {},
   "source": [
    "## Relatívne"
   ]
  },
  {
   "cell_type": "code",
   "execution_count": 10,
   "metadata": {},
   "outputs": [
    {
     "name": "stdout",
     "output_type": "stream",
     "text": [
      "   Condition  Predicted_2024  Actual_2024\n",
      "0          1        4.902629     4.652378\n",
      "1          2        7.792268     8.207005\n",
      "2          3       15.040182    15.107162\n",
      "3          4       27.757840    26.502875\n",
      "4          5       27.430831    27.443806\n",
      "5          6       15.439813    16.518557\n",
      "6          7        1.635859     1.568217\n"
     ]
    }
   ],
   "source": [
    "import pandas as pd\n",
    "from sklearn.linear_model import LinearRegression\n",
    "from sklearn.preprocessing import PolynomialFeatures\n",
    "import numpy as np\n",
    "\n",
    "# Adjust years to match the column names in the format 'n_2012', 'n_2013', etc.\n",
    "years = [f\"n_{year}\" for year in range(2012, 2024)]\n",
    "# Years as integers for model input\n",
    "X_train = np.array(range(2012, 2024)).reshape(-1, 1)\n",
    "\n",
    "predictions = {}\n",
    "\n",
    "# Use PolynomialFeatures to generate polynomial terms\n",
    "degree = 3  # You can adjust this to 3 or higher if needed\n",
    "poly = PolynomialFeatures(degree=degree)\n",
    "\n",
    "# Transform X_train to include polynomial terms\n",
    "X_train_poly = poly.fit_transform(X_train)\n",
    "\n",
    "for condition in relative_condition_counts_I['Condition'].unique():\n",
    "    # Select condition data from 2012 to 2023 for the current condition\n",
    "    y_train = relative_condition_counts_I.loc[\n",
    "        relative_condition_counts_I['Condition'] == condition, years\n",
    "    ].values.flatten()\n",
    "\n",
    "    # Train a Linear Regression model with polynomial features\n",
    "    model = LinearRegression()\n",
    "    model.fit(X_train_poly, y_train)\n",
    "\n",
    "    # Predict for 2024 with polynomial features\n",
    "    X_test_poly = poly.transform(np.array([[2024]]))\n",
    "    prediction_2024 = model.predict(X_test_poly)\n",
    "    predictions[condition] = prediction_2024[0]\n",
    "\n",
    "# Combine predictions with actual values for comparison\n",
    "actual_2024 = relative_condition_counts_I.set_index('Condition')['n_2024']\n",
    "predictions_df = pd.DataFrame({\n",
    "    'Condition': predictions.keys(),\n",
    "    'Predicted_2024': predictions.values(),\n",
    "    'Actual_2024': actual_2024\n",
    "}).reset_index(drop=True)\n",
    "\n",
    "print(predictions_df)"
   ]
  },
  {
   "cell_type": "code",
   "execution_count": 11,
   "metadata": {},
   "outputs": [
    {
     "data": {
      "text/html": [
       "<div>\n",
       "<style scoped>\n",
       "    .dataframe tbody tr th:only-of-type {\n",
       "        vertical-align: middle;\n",
       "    }\n",
       "\n",
       "    .dataframe tbody tr th {\n",
       "        vertical-align: top;\n",
       "    }\n",
       "\n",
       "    .dataframe thead th {\n",
       "        text-align: right;\n",
       "    }\n",
       "</style>\n",
       "<table border=\"1\" class=\"dataframe\">\n",
       "  <thead>\n",
       "    <tr style=\"text-align: right;\">\n",
       "      <th></th>\n",
       "      <th>Condition</th>\n",
       "      <th>n_2012</th>\n",
       "      <th>n_2013</th>\n",
       "      <th>n_2014</th>\n",
       "      <th>n_2015</th>\n",
       "      <th>n_2016</th>\n",
       "      <th>n_2017</th>\n",
       "      <th>n_2018</th>\n",
       "      <th>n_2019</th>\n",
       "      <th>n_2020</th>\n",
       "      <th>...</th>\n",
       "      <th>n_2026</th>\n",
       "      <th>n_2027</th>\n",
       "      <th>n_2028</th>\n",
       "      <th>n_2029</th>\n",
       "      <th>n_2030</th>\n",
       "      <th>n_2031</th>\n",
       "      <th>n_2032</th>\n",
       "      <th>n_2033</th>\n",
       "      <th>n_2034</th>\n",
       "      <th>n_2035</th>\n",
       "    </tr>\n",
       "  </thead>\n",
       "  <tbody>\n",
       "    <tr>\n",
       "      <th>0</th>\n",
       "      <td>1</td>\n",
       "      <td>6.761364</td>\n",
       "      <td>6.931818</td>\n",
       "      <td>7.562077</td>\n",
       "      <td>7.195053</td>\n",
       "      <td>7.849641</td>\n",
       "      <td>7.907743</td>\n",
       "      <td>7.906216</td>\n",
       "      <td>7.413420</td>\n",
       "      <td>7.704655</td>\n",
       "      <td>...</td>\n",
       "      <td>1.538860</td>\n",
       "      <td>-0.590269</td>\n",
       "      <td>-3.120306</td>\n",
       "      <td>-6.082617</td>\n",
       "      <td>-9.508568</td>\n",
       "      <td>-13.429525</td>\n",
       "      <td>-17.876854</td>\n",
       "      <td>-22.881921</td>\n",
       "      <td>-28.476092</td>\n",
       "      <td>-34.690733</td>\n",
       "    </tr>\n",
       "    <tr>\n",
       "      <th>1</th>\n",
       "      <td>2</td>\n",
       "      <td>13.352273</td>\n",
       "      <td>13.522727</td>\n",
       "      <td>13.092551</td>\n",
       "      <td>13.434514</td>\n",
       "      <td>12.880044</td>\n",
       "      <td>13.728720</td>\n",
       "      <td>13.413304</td>\n",
       "      <td>13.203463</td>\n",
       "      <td>13.269128</td>\n",
       "      <td>...</td>\n",
       "      <td>2.202978</td>\n",
       "      <td>-1.854579</td>\n",
       "      <td>-6.756054</td>\n",
       "      <td>-12.578527</td>\n",
       "      <td>-19.399079</td>\n",
       "      <td>-27.294788</td>\n",
       "      <td>-36.342737</td>\n",
       "      <td>-46.620003</td>\n",
       "      <td>-58.203668</td>\n",
       "      <td>-71.170812</td>\n",
       "    </tr>\n",
       "    <tr>\n",
       "      <th>2</th>\n",
       "      <td>3</td>\n",
       "      <td>41.988636</td>\n",
       "      <td>41.193182</td>\n",
       "      <td>39.503386</td>\n",
       "      <td>39.010680</td>\n",
       "      <td>35.655058</td>\n",
       "      <td>31.685887</td>\n",
       "      <td>29.661941</td>\n",
       "      <td>26.569264</td>\n",
       "      <td>22.899946</td>\n",
       "      <td>...</td>\n",
       "      <td>15.526283</td>\n",
       "      <td>17.412178</td>\n",
       "      <td>20.612414</td>\n",
       "      <td>25.279196</td>\n",
       "      <td>31.564728</td>\n",
       "      <td>39.621216</td>\n",
       "      <td>49.600864</td>\n",
       "      <td>61.655879</td>\n",
       "      <td>75.938466</td>\n",
       "      <td>92.600828</td>\n",
       "    </tr>\n",
       "    <tr>\n",
       "      <th>3</th>\n",
       "      <td>4</td>\n",
       "      <td>27.727273</td>\n",
       "      <td>27.556818</td>\n",
       "      <td>28.386005</td>\n",
       "      <td>28.611580</td>\n",
       "      <td>30.237700</td>\n",
       "      <td>30.313015</td>\n",
       "      <td>31.570338</td>\n",
       "      <td>32.142857</td>\n",
       "      <td>31.139647</td>\n",
       "      <td>...</td>\n",
       "      <td>20.354516</td>\n",
       "      <td>15.759274</td>\n",
       "      <td>10.145616</td>\n",
       "      <td>3.424742</td>\n",
       "      <td>-4.492144</td>\n",
       "      <td>-13.693842</td>\n",
       "      <td>-24.269149</td>\n",
       "      <td>-36.306863</td>\n",
       "      <td>-49.895783</td>\n",
       "      <td>-65.124707</td>\n",
       "    </tr>\n",
       "    <tr>\n",
       "      <th>4</th>\n",
       "      <td>5</td>\n",
       "      <td>7.784091</td>\n",
       "      <td>7.727273</td>\n",
       "      <td>8.239278</td>\n",
       "      <td>8.263069</td>\n",
       "      <td>8.955224</td>\n",
       "      <td>10.708402</td>\n",
       "      <td>11.668484</td>\n",
       "      <td>13.961039</td>\n",
       "      <td>16.265383</td>\n",
       "      <td>...</td>\n",
       "      <td>34.558201</td>\n",
       "      <td>38.426937</td>\n",
       "      <td>42.483690</td>\n",
       "      <td>46.714578</td>\n",
       "      <td>51.105723</td>\n",
       "      <td>55.643245</td>\n",
       "      <td>60.313265</td>\n",
       "      <td>65.101902</td>\n",
       "      <td>69.995278</td>\n",
       "      <td>74.979513</td>\n",
       "    </tr>\n",
       "    <tr>\n",
       "      <th>5</th>\n",
       "      <td>6</td>\n",
       "      <td>2.272727</td>\n",
       "      <td>2.897727</td>\n",
       "      <td>3.047404</td>\n",
       "      <td>3.035413</td>\n",
       "      <td>3.648425</td>\n",
       "      <td>4.777595</td>\n",
       "      <td>5.398037</td>\n",
       "      <td>6.277056</td>\n",
       "      <td>8.132691</td>\n",
       "      <td>...</td>\n",
       "      <td>22.875831</td>\n",
       "      <td>26.926295</td>\n",
       "      <td>31.506711</td>\n",
       "      <td>36.651809</td>\n",
       "      <td>42.396322</td>\n",
       "      <td>48.774980</td>\n",
       "      <td>55.822515</td>\n",
       "      <td>63.573657</td>\n",
       "      <td>72.063139</td>\n",
       "      <td>81.325691</td>\n",
       "    </tr>\n",
       "    <tr>\n",
       "      <th>6</th>\n",
       "      <td>7</td>\n",
       "      <td>0.113636</td>\n",
       "      <td>0.170455</td>\n",
       "      <td>0.169300</td>\n",
       "      <td>0.449691</td>\n",
       "      <td>0.773908</td>\n",
       "      <td>0.878638</td>\n",
       "      <td>0.381679</td>\n",
       "      <td>0.432900</td>\n",
       "      <td>0.588550</td>\n",
       "      <td>...</td>\n",
       "      <td>2.944757</td>\n",
       "      <td>3.921769</td>\n",
       "      <td>5.129715</td>\n",
       "      <td>6.592784</td>\n",
       "      <td>8.335163</td>\n",
       "      <td>10.381039</td>\n",
       "      <td>12.754600</td>\n",
       "      <td>15.480034</td>\n",
       "      <td>18.581527</td>\n",
       "      <td>22.083267</td>\n",
       "    </tr>\n",
       "  </tbody>\n",
       "</table>\n",
       "<p>7 rows × 25 columns</p>\n",
       "</div>"
      ],
      "text/plain": [
       "   Condition     n_2012     n_2013     n_2014     n_2015     n_2016  \\\n",
       "0          1   6.761364   6.931818   7.562077   7.195053   7.849641   \n",
       "1          2  13.352273  13.522727  13.092551  13.434514  12.880044   \n",
       "2          3  41.988636  41.193182  39.503386  39.010680  35.655058   \n",
       "3          4  27.727273  27.556818  28.386005  28.611580  30.237700   \n",
       "4          5   7.784091   7.727273   8.239278   8.263069   8.955224   \n",
       "5          6   2.272727   2.897727   3.047404   3.035413   3.648425   \n",
       "6          7   0.113636   0.170455   0.169300   0.449691   0.773908   \n",
       "\n",
       "      n_2017     n_2018     n_2019     n_2020  ...     n_2026     n_2027  \\\n",
       "0   7.907743   7.906216   7.413420   7.704655  ...   1.538860  -0.590269   \n",
       "1  13.728720  13.413304  13.203463  13.269128  ...   2.202978  -1.854579   \n",
       "2  31.685887  29.661941  26.569264  22.899946  ...  15.526283  17.412178   \n",
       "3  30.313015  31.570338  32.142857  31.139647  ...  20.354516  15.759274   \n",
       "4  10.708402  11.668484  13.961039  16.265383  ...  34.558201  38.426937   \n",
       "5   4.777595   5.398037   6.277056   8.132691  ...  22.875831  26.926295   \n",
       "6   0.878638   0.381679   0.432900   0.588550  ...   2.944757   3.921769   \n",
       "\n",
       "      n_2028     n_2029     n_2030     n_2031     n_2032     n_2033  \\\n",
       "0  -3.120306  -6.082617  -9.508568 -13.429525 -17.876854 -22.881921   \n",
       "1  -6.756054 -12.578527 -19.399079 -27.294788 -36.342737 -46.620003   \n",
       "2  20.612414  25.279196  31.564728  39.621216  49.600864  61.655879   \n",
       "3  10.145616   3.424742  -4.492144 -13.693842 -24.269149 -36.306863   \n",
       "4  42.483690  46.714578  51.105723  55.643245  60.313265  65.101902   \n",
       "5  31.506711  36.651809  42.396322  48.774980  55.822515  63.573657   \n",
       "6   5.129715   6.592784   8.335163  10.381039  12.754600  15.480034   \n",
       "\n",
       "      n_2034     n_2035  \n",
       "0 -28.476092 -34.690733  \n",
       "1 -58.203668 -71.170812  \n",
       "2  75.938466  92.600828  \n",
       "3 -49.895783 -65.124707  \n",
       "4  69.995278  74.979513  \n",
       "5  72.063139  81.325691  \n",
       "6  18.581527  22.083267  \n",
       "\n",
       "[7 rows x 25 columns]"
      ]
     },
     "execution_count": 11,
     "metadata": {},
     "output_type": "execute_result"
    }
   ],
   "source": [
    "import pandas as pd\n",
    "from sklearn.linear_model import LinearRegression\n",
    "from sklearn.preprocessing import PolynomialFeatures\n",
    "import numpy as np\n",
    "\n",
    "# Create a copy of the original DataFrame to avoid modifying it\n",
    "df_predictions = relative_condition_counts_I.copy()\n",
    "\n",
    "# Extend years to 2035 in the format 'n_2012', 'n_2013', ..., 'n_2035'\n",
    "years = [f\"n_{year}\" for year in range(2012, 2036)]\n",
    "# Prepare X values for model training and predictions (from 2012 to 2035)\n",
    "X = np.array(range(2012, 2035 + 1)).reshape(-1, 1)\n",
    "\n",
    "# Initialize PolynomialFeatures with desired degree (adjust as necessary)\n",
    "degree = 3\n",
    "poly = PolynomialFeatures(degree=degree)\n",
    "X_poly = poly.fit_transform(X)\n",
    "\n",
    "# Initialize dictionary to store predictions for each condition\n",
    "future_predictions = {f\"n_{year}\": [] for year in range(2025, 2036)}\n",
    "\n",
    "for condition in df_predictions['Condition'].unique():\n",
    "    # Train model on the entire data from 2012 to 2024 for the current condition\n",
    "    y = df_predictions.loc[\n",
    "        df_predictions['Condition'] == condition,\n",
    "        [f\"n_{year}\" for year in range(2012, 2025)]\n",
    "    ].values.flatten()\n",
    "\n",
    "    # Train a Linear Regression model with polynomial features\n",
    "    model = LinearRegression()\n",
    "    model.fit(X_poly[:len(y)], y)\n",
    "\n",
    "    # Predict values from 2025 to 2035\n",
    "    for year in range(2025, 2036):\n",
    "        X_test_poly = poly.transform(np.array([[year]]))\n",
    "        future_predictions[f\"n_{year}\"].append(model.predict(X_test_poly)[0])\n",
    "\n",
    "# Append predictions to the DataFrame\n",
    "for year in range(2025, 2036):\n",
    "    df_predictions[f\"n_{year}\"] = future_predictions[f\"n_{year}\"]\n",
    "\n",
    "# Display the updated DataFrame with predictions for 2025-2035\n",
    "df_predictions"
   ]
  },
  {
   "cell_type": "code",
   "execution_count": 12,
   "metadata": {},
   "outputs": [
    {
     "data": {
      "application/vnd.plotly.v1+json": {
       "config": {
        "plotlyServerURL": "https://plot.ly"
       },
       "data": [
        {
         "line": {
          "shape": "spline"
         },
         "mode": "lines+markers",
         "name": "Condition 1",
         "type": "scatter",
         "x": [
          2012,
          2013,
          2014,
          2015,
          2016,
          2017,
          2018,
          2019,
          2020,
          2021,
          2022,
          2023,
          2024,
          2025,
          2026,
          2027,
          2028,
          2029,
          2030,
          2031,
          2032,
          2033,
          2034,
          2035
         ],
         "y": [
          6.761363636363636,
          6.931818181818182,
          7.562076749435666,
          7.195053400786959,
          7.849640685461582,
          7.907742998352553,
          7.9062159214830965,
          7.413419913419913,
          7.704654895666131,
          7.381837493361656,
          6.9348861831656965,
          5.745914602003163,
          4.652378463146889,
          3.2984482124447823,
          1.5388604700565338,
          -0.590269036591053,
          -3.120306335389614,
          -6.082617476582527,
          -9.508568480610847,
          -13.429525397717953,
          -17.876854300498962,
          -22.88192117214203,
          -28.47609207034111,
          -34.690733037889004
         ]
        },
        {
         "line": {
          "shape": "spline"
         },
         "mode": "lines+markers",
         "name": "Condition 2",
         "type": "scatter",
         "x": [
          2012,
          2013,
          2014,
          2015,
          2016,
          2017,
          2018,
          2019,
          2020,
          2021,
          2022,
          2023,
          2024,
          2025,
          2026,
          2027,
          2028,
          2029,
          2030,
          2031,
          2032,
          2033,
          2034,
          2035
         ],
         "y": [
          13.352272727272727,
          13.522727272727272,
          13.092550790067719,
          13.4345137717819,
          12.880044223327806,
          13.728720483250962,
          13.413304252998909,
          13.203463203463203,
          13.269127875869449,
          12.320764737121614,
          12.387506617257808,
          9.435951502372166,
          8.207004704652379,
          5.4936975836753845,
          2.202978491783142,
          -1.8545786440372467,
          -6.756053790450096,
          -12.578527137637138,
          -19.399078622460365,
          -27.294788494706154,
          -36.34273661673069,
          -46.62000320851803,
          -58.203668251633644,
          -71.17081190645695
         ]
        },
        {
         "line": {
          "shape": "spline"
         },
         "mode": "lines+markers",
         "name": "Condition 3",
         "type": "scatter",
         "x": [
          2012,
          2013,
          2014,
          2015,
          2016,
          2017,
          2018,
          2019,
          2020,
          2021,
          2022,
          2023,
          2024,
          2025,
          2026,
          2027,
          2028,
          2029,
          2030,
          2031,
          2032,
          2033,
          2034,
          2035
         ],
         "y": [
          41.98863636363636,
          41.19318181818182,
          39.503386004514674,
          39.01068015739179,
          35.65505804311774,
          31.685886875343215,
          29.661941112322793,
          26.56926406926407,
          22.899946495452113,
          20.499203398831654,
          18.68713605082054,
          15.867158671586715,
          15.107161526398327,
          14.802521884441376,
          15.526282608509064,
          17.412178218364716,
          20.61241427063942,
          25.27919563651085,
          31.564727783203125,
          39.621215641498566,
          49.60086444020271,
          61.65587928891182,
          75.93846565485,
          92.60082828998566
         ]
        },
        {
         "line": {
          "shape": "spline"
         },
         "mode": "lines+markers",
         "name": "Condition 4",
         "type": "scatter",
         "x": [
          2012,
          2013,
          2014,
          2015,
          2016,
          2017,
          2018,
          2019,
          2020,
          2021,
          2022,
          2023,
          2024,
          2025,
          2026,
          2027,
          2028,
          2029,
          2030,
          2031,
          2032,
          2033,
          2034,
          2035
         ],
         "y": [
          27.727272727272727,
          27.556818181818183,
          28.386004514672685,
          28.611579539066888,
          30.23770038695412,
          30.31301482701812,
          31.570338058887675,
          32.142857142857146,
          31.13964686998395,
          30.111524163568777,
          30.33350979354156,
          29.836584080126517,
          26.502875065342398,
          24.020139455795288,
          20.354516118764877,
          15.75927421450615,
          10.145615607500076,
          3.424742251634598,
          -4.4921442568302155,
          -13.693841874599457,
          -24.2691487967968,
          -36.30686318874359,
          -49.89578315615654,
          -65.12470695376396
         ]
        },
        {
         "line": {
          "shape": "spline"
         },
         "mode": "lines+markers",
         "name": "Condition 5",
         "type": "scatter",
         "x": [
          2012,
          2013,
          2014,
          2015,
          2016,
          2017,
          2018,
          2019,
          2020,
          2021,
          2022,
          2023,
          2024,
          2025,
          2026,
          2027,
          2028,
          2029,
          2030,
          2031,
          2032,
          2033,
          2034,
          2035
         ],
         "y": [
          7.784090909090908,
          7.727272727272727,
          8.239277652370202,
          8.263069139966273,
          8.955223880597014,
          10.70840197693575,
          11.668484187568156,
          13.96103896103896,
          16.265382557517388,
          19.118428040361128,
          20.43409211222869,
          24.459673168160254,
          27.443805541035022,
          30.89135928452015,
          34.55820068717003,
          38.426937345415354,
          42.483689714223146,
          46.714578218758106,
          51.105723302811384,
          55.64324542507529,
          60.31326501071453,
          65.10190249979496,
          69.9952783472836,
          74.97951298952103
         ]
        },
        {
         "line": {
          "shape": "spline"
         },
         "mode": "lines+markers",
         "name": "Condition 6",
         "type": "scatter",
         "x": [
          2012,
          2013,
          2014,
          2015,
          2016,
          2017,
          2018,
          2019,
          2020,
          2021,
          2022,
          2023,
          2024,
          2025,
          2026,
          2027,
          2028,
          2029,
          2030,
          2031,
          2032,
          2033,
          2034,
          2035
         ],
         "y": [
          2.272727272727273,
          2.8977272727272725,
          3.0474040632054176,
          3.0354131534569984,
          3.6484245439469323,
          4.7775947281713345,
          5.39803707742639,
          6.277056277056277,
          8.132691278758694,
          9.930961232076474,
          10.428798305982001,
          13.389562467053242,
          16.51855723993727,
          19.320587247610092,
          22.875830836594105,
          26.926294840872288,
          31.506710574030876,
          36.65180920064449,
          42.39632197469473,
          48.77498009055853,
          55.8225147947669,
          63.573657281696796,
          72.06313881278038,
          81.32569060474634
         ]
        },
        {
         "line": {
          "shape": "spline"
         },
         "mode": "lines+markers",
         "name": "Condition 7",
         "type": "scatter",
         "x": [
          2012,
          2013,
          2014,
          2015,
          2016,
          2017,
          2018,
          2019,
          2020,
          2021,
          2022,
          2023,
          2024,
          2025,
          2026,
          2027,
          2028,
          2029,
          2030,
          2031,
          2032,
          2033,
          2034,
          2035
         ],
         "y": [
          0.11363636363636363,
          0.17045454545454544,
          0.16930022573363432,
          0.44969083754918493,
          0.7739082365948038,
          0.8786381109280615,
          0.38167938931297707,
          0.4329004329004329,
          0.588550026752274,
          0.6372809346787042,
          0.7940709370037057,
          1.265155508697944,
          1.5682174594877154,
          2.174493744969368,
          2.9447574466466904,
          3.9217688217759132,
          5.129715263843536,
          6.592784211039543,
          8.335163116455078,
          10.381039343774319,
          12.754600390791893,
          15.480033628642559,
          18.581526555120945,
          22.083266504108906
         ]
        }
       ],
       "layout": {
        "legend": {
         "title": {
          "text": "Condition"
         }
        },
        "template": {
         "data": {
          "bar": [
           {
            "error_x": {
             "color": "#2a3f5f"
            },
            "error_y": {
             "color": "#2a3f5f"
            },
            "marker": {
             "line": {
              "color": "#E5ECF6",
              "width": 0.5
             },
             "pattern": {
              "fillmode": "overlay",
              "size": 10,
              "solidity": 0.2
             }
            },
            "type": "bar"
           }
          ],
          "barpolar": [
           {
            "marker": {
             "line": {
              "color": "#E5ECF6",
              "width": 0.5
             },
             "pattern": {
              "fillmode": "overlay",
              "size": 10,
              "solidity": 0.2
             }
            },
            "type": "barpolar"
           }
          ],
          "carpet": [
           {
            "aaxis": {
             "endlinecolor": "#2a3f5f",
             "gridcolor": "white",
             "linecolor": "white",
             "minorgridcolor": "white",
             "startlinecolor": "#2a3f5f"
            },
            "baxis": {
             "endlinecolor": "#2a3f5f",
             "gridcolor": "white",
             "linecolor": "white",
             "minorgridcolor": "white",
             "startlinecolor": "#2a3f5f"
            },
            "type": "carpet"
           }
          ],
          "choropleth": [
           {
            "colorbar": {
             "outlinewidth": 0,
             "ticks": ""
            },
            "type": "choropleth"
           }
          ],
          "contour": [
           {
            "colorbar": {
             "outlinewidth": 0,
             "ticks": ""
            },
            "colorscale": [
             [
              0,
              "#0d0887"
             ],
             [
              0.1111111111111111,
              "#46039f"
             ],
             [
              0.2222222222222222,
              "#7201a8"
             ],
             [
              0.3333333333333333,
              "#9c179e"
             ],
             [
              0.4444444444444444,
              "#bd3786"
             ],
             [
              0.5555555555555556,
              "#d8576b"
             ],
             [
              0.6666666666666666,
              "#ed7953"
             ],
             [
              0.7777777777777778,
              "#fb9f3a"
             ],
             [
              0.8888888888888888,
              "#fdca26"
             ],
             [
              1,
              "#f0f921"
             ]
            ],
            "type": "contour"
           }
          ],
          "contourcarpet": [
           {
            "colorbar": {
             "outlinewidth": 0,
             "ticks": ""
            },
            "type": "contourcarpet"
           }
          ],
          "heatmap": [
           {
            "colorbar": {
             "outlinewidth": 0,
             "ticks": ""
            },
            "colorscale": [
             [
              0,
              "#0d0887"
             ],
             [
              0.1111111111111111,
              "#46039f"
             ],
             [
              0.2222222222222222,
              "#7201a8"
             ],
             [
              0.3333333333333333,
              "#9c179e"
             ],
             [
              0.4444444444444444,
              "#bd3786"
             ],
             [
              0.5555555555555556,
              "#d8576b"
             ],
             [
              0.6666666666666666,
              "#ed7953"
             ],
             [
              0.7777777777777778,
              "#fb9f3a"
             ],
             [
              0.8888888888888888,
              "#fdca26"
             ],
             [
              1,
              "#f0f921"
             ]
            ],
            "type": "heatmap"
           }
          ],
          "heatmapgl": [
           {
            "colorbar": {
             "outlinewidth": 0,
             "ticks": ""
            },
            "colorscale": [
             [
              0,
              "#0d0887"
             ],
             [
              0.1111111111111111,
              "#46039f"
             ],
             [
              0.2222222222222222,
              "#7201a8"
             ],
             [
              0.3333333333333333,
              "#9c179e"
             ],
             [
              0.4444444444444444,
              "#bd3786"
             ],
             [
              0.5555555555555556,
              "#d8576b"
             ],
             [
              0.6666666666666666,
              "#ed7953"
             ],
             [
              0.7777777777777778,
              "#fb9f3a"
             ],
             [
              0.8888888888888888,
              "#fdca26"
             ],
             [
              1,
              "#f0f921"
             ]
            ],
            "type": "heatmapgl"
           }
          ],
          "histogram": [
           {
            "marker": {
             "pattern": {
              "fillmode": "overlay",
              "size": 10,
              "solidity": 0.2
             }
            },
            "type": "histogram"
           }
          ],
          "histogram2d": [
           {
            "colorbar": {
             "outlinewidth": 0,
             "ticks": ""
            },
            "colorscale": [
             [
              0,
              "#0d0887"
             ],
             [
              0.1111111111111111,
              "#46039f"
             ],
             [
              0.2222222222222222,
              "#7201a8"
             ],
             [
              0.3333333333333333,
              "#9c179e"
             ],
             [
              0.4444444444444444,
              "#bd3786"
             ],
             [
              0.5555555555555556,
              "#d8576b"
             ],
             [
              0.6666666666666666,
              "#ed7953"
             ],
             [
              0.7777777777777778,
              "#fb9f3a"
             ],
             [
              0.8888888888888888,
              "#fdca26"
             ],
             [
              1,
              "#f0f921"
             ]
            ],
            "type": "histogram2d"
           }
          ],
          "histogram2dcontour": [
           {
            "colorbar": {
             "outlinewidth": 0,
             "ticks": ""
            },
            "colorscale": [
             [
              0,
              "#0d0887"
             ],
             [
              0.1111111111111111,
              "#46039f"
             ],
             [
              0.2222222222222222,
              "#7201a8"
             ],
             [
              0.3333333333333333,
              "#9c179e"
             ],
             [
              0.4444444444444444,
              "#bd3786"
             ],
             [
              0.5555555555555556,
              "#d8576b"
             ],
             [
              0.6666666666666666,
              "#ed7953"
             ],
             [
              0.7777777777777778,
              "#fb9f3a"
             ],
             [
              0.8888888888888888,
              "#fdca26"
             ],
             [
              1,
              "#f0f921"
             ]
            ],
            "type": "histogram2dcontour"
           }
          ],
          "mesh3d": [
           {
            "colorbar": {
             "outlinewidth": 0,
             "ticks": ""
            },
            "type": "mesh3d"
           }
          ],
          "parcoords": [
           {
            "line": {
             "colorbar": {
              "outlinewidth": 0,
              "ticks": ""
             }
            },
            "type": "parcoords"
           }
          ],
          "pie": [
           {
            "automargin": true,
            "type": "pie"
           }
          ],
          "scatter": [
           {
            "fillpattern": {
             "fillmode": "overlay",
             "size": 10,
             "solidity": 0.2
            },
            "type": "scatter"
           }
          ],
          "scatter3d": [
           {
            "line": {
             "colorbar": {
              "outlinewidth": 0,
              "ticks": ""
             }
            },
            "marker": {
             "colorbar": {
              "outlinewidth": 0,
              "ticks": ""
             }
            },
            "type": "scatter3d"
           }
          ],
          "scattercarpet": [
           {
            "marker": {
             "colorbar": {
              "outlinewidth": 0,
              "ticks": ""
             }
            },
            "type": "scattercarpet"
           }
          ],
          "scattergeo": [
           {
            "marker": {
             "colorbar": {
              "outlinewidth": 0,
              "ticks": ""
             }
            },
            "type": "scattergeo"
           }
          ],
          "scattergl": [
           {
            "marker": {
             "colorbar": {
              "outlinewidth": 0,
              "ticks": ""
             }
            },
            "type": "scattergl"
           }
          ],
          "scattermapbox": [
           {
            "marker": {
             "colorbar": {
              "outlinewidth": 0,
              "ticks": ""
             }
            },
            "type": "scattermapbox"
           }
          ],
          "scatterpolar": [
           {
            "marker": {
             "colorbar": {
              "outlinewidth": 0,
              "ticks": ""
             }
            },
            "type": "scatterpolar"
           }
          ],
          "scatterpolargl": [
           {
            "marker": {
             "colorbar": {
              "outlinewidth": 0,
              "ticks": ""
             }
            },
            "type": "scatterpolargl"
           }
          ],
          "scatterternary": [
           {
            "marker": {
             "colorbar": {
              "outlinewidth": 0,
              "ticks": ""
             }
            },
            "type": "scatterternary"
           }
          ],
          "surface": [
           {
            "colorbar": {
             "outlinewidth": 0,
             "ticks": ""
            },
            "colorscale": [
             [
              0,
              "#0d0887"
             ],
             [
              0.1111111111111111,
              "#46039f"
             ],
             [
              0.2222222222222222,
              "#7201a8"
             ],
             [
              0.3333333333333333,
              "#9c179e"
             ],
             [
              0.4444444444444444,
              "#bd3786"
             ],
             [
              0.5555555555555556,
              "#d8576b"
             ],
             [
              0.6666666666666666,
              "#ed7953"
             ],
             [
              0.7777777777777778,
              "#fb9f3a"
             ],
             [
              0.8888888888888888,
              "#fdca26"
             ],
             [
              1,
              "#f0f921"
             ]
            ],
            "type": "surface"
           }
          ],
          "table": [
           {
            "cells": {
             "fill": {
              "color": "#EBF0F8"
             },
             "line": {
              "color": "white"
             }
            },
            "header": {
             "fill": {
              "color": "#C8D4E3"
             },
             "line": {
              "color": "white"
             }
            },
            "type": "table"
           }
          ]
         },
         "layout": {
          "annotationdefaults": {
           "arrowcolor": "#2a3f5f",
           "arrowhead": 0,
           "arrowwidth": 1
          },
          "autotypenumbers": "strict",
          "coloraxis": {
           "colorbar": {
            "outlinewidth": 0,
            "ticks": ""
           }
          },
          "colorscale": {
           "diverging": [
            [
             0,
             "#8e0152"
            ],
            [
             0.1,
             "#c51b7d"
            ],
            [
             0.2,
             "#de77ae"
            ],
            [
             0.3,
             "#f1b6da"
            ],
            [
             0.4,
             "#fde0ef"
            ],
            [
             0.5,
             "#f7f7f7"
            ],
            [
             0.6,
             "#e6f5d0"
            ],
            [
             0.7,
             "#b8e186"
            ],
            [
             0.8,
             "#7fbc41"
            ],
            [
             0.9,
             "#4d9221"
            ],
            [
             1,
             "#276419"
            ]
           ],
           "sequential": [
            [
             0,
             "#0d0887"
            ],
            [
             0.1111111111111111,
             "#46039f"
            ],
            [
             0.2222222222222222,
             "#7201a8"
            ],
            [
             0.3333333333333333,
             "#9c179e"
            ],
            [
             0.4444444444444444,
             "#bd3786"
            ],
            [
             0.5555555555555556,
             "#d8576b"
            ],
            [
             0.6666666666666666,
             "#ed7953"
            ],
            [
             0.7777777777777778,
             "#fb9f3a"
            ],
            [
             0.8888888888888888,
             "#fdca26"
            ],
            [
             1,
             "#f0f921"
            ]
           ],
           "sequentialminus": [
            [
             0,
             "#0d0887"
            ],
            [
             0.1111111111111111,
             "#46039f"
            ],
            [
             0.2222222222222222,
             "#7201a8"
            ],
            [
             0.3333333333333333,
             "#9c179e"
            ],
            [
             0.4444444444444444,
             "#bd3786"
            ],
            [
             0.5555555555555556,
             "#d8576b"
            ],
            [
             0.6666666666666666,
             "#ed7953"
            ],
            [
             0.7777777777777778,
             "#fb9f3a"
            ],
            [
             0.8888888888888888,
             "#fdca26"
            ],
            [
             1,
             "#f0f921"
            ]
           ]
          },
          "colorway": [
           "#636efa",
           "#EF553B",
           "#00cc96",
           "#ab63fa",
           "#FFA15A",
           "#19d3f3",
           "#FF6692",
           "#B6E880",
           "#FF97FF",
           "#FECB52"
          ],
          "font": {
           "color": "#2a3f5f"
          },
          "geo": {
           "bgcolor": "white",
           "lakecolor": "white",
           "landcolor": "#E5ECF6",
           "showlakes": true,
           "showland": true,
           "subunitcolor": "white"
          },
          "hoverlabel": {
           "align": "left"
          },
          "hovermode": "closest",
          "mapbox": {
           "style": "light"
          },
          "paper_bgcolor": "white",
          "plot_bgcolor": "#E5ECF6",
          "polar": {
           "angularaxis": {
            "gridcolor": "white",
            "linecolor": "white",
            "ticks": ""
           },
           "bgcolor": "#E5ECF6",
           "radialaxis": {
            "gridcolor": "white",
            "linecolor": "white",
            "ticks": ""
           }
          },
          "scene": {
           "xaxis": {
            "backgroundcolor": "#E5ECF6",
            "gridcolor": "white",
            "gridwidth": 2,
            "linecolor": "white",
            "showbackground": true,
            "ticks": "",
            "zerolinecolor": "white"
           },
           "yaxis": {
            "backgroundcolor": "#E5ECF6",
            "gridcolor": "white",
            "gridwidth": 2,
            "linecolor": "white",
            "showbackground": true,
            "ticks": "",
            "zerolinecolor": "white"
           },
           "zaxis": {
            "backgroundcolor": "#E5ECF6",
            "gridcolor": "white",
            "gridwidth": 2,
            "linecolor": "white",
            "showbackground": true,
            "ticks": "",
            "zerolinecolor": "white"
           }
          },
          "shapedefaults": {
           "line": {
            "color": "#2a3f5f"
           }
          },
          "ternary": {
           "aaxis": {
            "gridcolor": "white",
            "linecolor": "white",
            "ticks": ""
           },
           "baxis": {
            "gridcolor": "white",
            "linecolor": "white",
            "ticks": ""
           },
           "bgcolor": "#E5ECF6",
           "caxis": {
            "gridcolor": "white",
            "linecolor": "white",
            "ticks": ""
           }
          },
          "title": {
           "x": 0.05
          },
          "xaxis": {
           "automargin": true,
           "gridcolor": "white",
           "linecolor": "white",
           "ticks": "",
           "title": {
            "standoff": 15
           },
           "zerolinecolor": "white",
           "zerolinewidth": 2
          },
          "yaxis": {
           "automargin": true,
           "gridcolor": "white",
           "linecolor": "white",
           "ticks": "",
           "title": {
            "standoff": 15
           },
           "zerolinecolor": "white",
           "zerolinewidth": 2
          }
         }
        },
        "title": {
         "text": "Actual and Predicted Condition Counts (2012-2035)"
        },
        "xaxis": {
         "title": {
          "text": "Year"
         }
        },
        "yaxis": {
         "title": {
          "text": "Count"
         }
        }
       }
      }
     },
     "metadata": {},
     "output_type": "display_data"
    }
   ],
   "source": [
    "import plotly.graph_objs as go\n",
    "\n",
    "# Years for the x-axis: combine actual years (2012-2024) and predicted years (2025-2035)\n",
    "years = list(range(2012, 2036))\n",
    "\n",
    "# Initialize an empty list to hold traces for each condition\n",
    "fig = go.Figure()\n",
    "\n",
    "for condition in df_predictions['Condition'].unique():\n",
    "    # Extract actual data from 2012 to 2024\n",
    "    actual_data = df_predictions.loc[\n",
    "        df_predictions['Condition'] == condition,\n",
    "        [f\"n_{year}\" for year in range(2012, 2025)]\n",
    "    ].values.flatten()\n",
    "\n",
    "    # Extract predicted data from 2025 to 2035\n",
    "    predicted_data = df_predictions.loc[\n",
    "        df_predictions['Condition'] == condition,\n",
    "        [f\"n_{year}\" for year in range(2025, 2036)]\n",
    "    ].values.flatten()\n",
    "\n",
    "    # Combine actual and predicted data for full y-values\n",
    "    y_values = np.concatenate((actual_data, predicted_data))\n",
    "\n",
    "    # Create a trace for each condition\n",
    "    fig.add_trace(go.Scatter(\n",
    "        x=years, y=y_values,\n",
    "        mode='lines+markers',\n",
    "        name=f'Condition {condition}',\n",
    "        line=dict(shape='spline')\n",
    "    ))\n",
    "\n",
    "# Update layout for readability\n",
    "fig.update_layout(\n",
    "    title=\"Actual and Predicted Condition Counts (2012-2035)\",\n",
    "    xaxis_title=\"Year\",\n",
    "    yaxis_title=\"Count\",\n",
    "    legend_title=\"Condition\",\n",
    ")\n",
    "\n",
    "fig.show()"
   ]
  },
  {
   "cell_type": "code",
   "execution_count": 48,
   "metadata": {},
   "outputs": [
    {
     "data": {
      "application/vnd.plotly.v1+json": {
       "config": {
        "plotlyServerURL": "https://plot.ly"
       },
       "data": [
        {
         "line": {
          "color": "#2d505d"
         },
         "mode": "lines",
         "name": "7",
         "stackgroup": "one",
         "type": "scatter",
         "x": [
          "2012",
          "2013",
          "2014",
          "2015",
          "2016",
          "2017",
          "2018",
          "2019",
          "2020",
          "2021",
          "2022",
          "2023",
          "2024"
         ],
         "y": [
          0.11363636363636363,
          0.17045454545454544,
          0.16930022573363432,
          0.44969083754918493,
          0.7739082365948038,
          0.8786381109280615,
          0.38167938931297707,
          0.4329004329004329,
          0.588550026752274,
          0.6372809346787042,
          0.7940709370037057,
          1.265155508697944,
          1.5682174594877154
         ]
        },
        {
         "line": {
          "color": "#c25469"
         },
         "mode": "lines",
         "name": "6",
         "stackgroup": "one",
         "type": "scatter",
         "x": [
          "2012",
          "2013",
          "2014",
          "2015",
          "2016",
          "2017",
          "2018",
          "2019",
          "2020",
          "2021",
          "2022",
          "2023",
          "2024"
         ],
         "y": [
          2.272727272727273,
          2.8977272727272725,
          3.0474040632054176,
          3.0354131534569984,
          3.6484245439469323,
          4.7775947281713345,
          5.39803707742639,
          6.277056277056277,
          8.132691278758694,
          9.930961232076474,
          10.428798305982001,
          13.389562467053242,
          16.51855723993727
         ]
        },
        {
         "line": {
          "color": "#eae1a9"
         },
         "mode": "lines",
         "name": "5",
         "stackgroup": "one",
         "type": "scatter",
         "x": [
          "2012",
          "2013",
          "2014",
          "2015",
          "2016",
          "2017",
          "2018",
          "2019",
          "2020",
          "2021",
          "2022",
          "2023",
          "2024"
         ],
         "y": [
          7.784090909090908,
          7.727272727272727,
          8.239277652370202,
          8.263069139966273,
          8.955223880597014,
          10.70840197693575,
          11.668484187568156,
          13.96103896103896,
          16.265382557517388,
          19.118428040361128,
          20.43409211222869,
          24.459673168160254,
          27.443805541035022
         ]
        },
        {
         "line": {
          "color": "#353a29"
         },
         "mode": "lines",
         "name": "4",
         "stackgroup": "one",
         "type": "scatter",
         "x": [
          "2012",
          "2013",
          "2014",
          "2015",
          "2016",
          "2017",
          "2018",
          "2019",
          "2020",
          "2021",
          "2022",
          "2023",
          "2024"
         ],
         "y": [
          27.727272727272727,
          27.556818181818183,
          28.386004514672685,
          28.611579539066888,
          30.23770038695412,
          30.31301482701812,
          31.570338058887675,
          32.142857142857146,
          31.13964686998395,
          30.111524163568777,
          30.33350979354156,
          29.836584080126517,
          26.502875065342398
         ]
        },
        {
         "line": {
          "color": "#8bae7c"
         },
         "mode": "lines",
         "name": "3",
         "stackgroup": "one",
         "type": "scatter",
         "x": [
          "2012",
          "2013",
          "2014",
          "2015",
          "2016",
          "2017",
          "2018",
          "2019",
          "2020",
          "2021",
          "2022",
          "2023",
          "2024"
         ],
         "y": [
          41.98863636363636,
          41.19318181818182,
          39.503386004514674,
          39.01068015739179,
          35.65505804311774,
          31.685886875343215,
          29.661941112322793,
          26.56926406926407,
          22.899946495452113,
          20.499203398831654,
          18.68713605082054,
          15.867158671586715,
          15.107161526398327
         ]
        },
        {
         "line": {
          "color": "#e7a564"
         },
         "mode": "lines",
         "name": "2",
         "stackgroup": "one",
         "type": "scatter",
         "x": [
          "2012",
          "2013",
          "2014",
          "2015",
          "2016",
          "2017",
          "2018",
          "2019",
          "2020",
          "2021",
          "2022",
          "2023",
          "2024"
         ],
         "y": [
          13.352272727272727,
          13.522727272727272,
          13.092550790067719,
          13.4345137717819,
          12.880044223327806,
          13.728720483250962,
          13.413304252998909,
          13.203463203463203,
          13.269127875869449,
          12.320764737121614,
          12.387506617257808,
          9.435951502372166,
          8.207004704652379
         ]
        },
        {
         "line": {
          "color": "#46a7a2"
         },
         "mode": "lines",
         "name": "1",
         "stackgroup": "one",
         "type": "scatter",
         "x": [
          "2012",
          "2013",
          "2014",
          "2015",
          "2016",
          "2017",
          "2018",
          "2019",
          "2020",
          "2021",
          "2022",
          "2023",
          "2024"
         ],
         "y": [
          6.761363636363636,
          6.931818181818182,
          7.562076749435666,
          7.195053400786959,
          7.849640685461582,
          7.907742998352553,
          7.9062159214830965,
          7.413419913419913,
          7.704654895666131,
          7.381837493361656,
          6.9348861831656965,
          5.745914602003163,
          4.652378463146889
         ]
        }
       ],
       "layout": {
        "font": {
         "family": "Calibri, sans-serif",
         "size": 14
        },
        "height": 500,
        "legend": {
         "orientation": "h",
         "x": 1,
         "xanchor": "right",
         "y": 1.08,
         "yanchor": "top"
        },
        "margin": {
         "b": 25,
         "l": 0,
         "r": 20,
         "t": 75
        },
        "plot_bgcolor": "#EEEEEE",
        "template": {
         "data": {
          "bar": [
           {
            "error_x": {
             "color": "#2a3f5f"
            },
            "error_y": {
             "color": "#2a3f5f"
            },
            "marker": {
             "line": {
              "color": "#E5ECF6",
              "width": 0.5
             },
             "pattern": {
              "fillmode": "overlay",
              "size": 10,
              "solidity": 0.2
             }
            },
            "type": "bar"
           }
          ],
          "barpolar": [
           {
            "marker": {
             "line": {
              "color": "#E5ECF6",
              "width": 0.5
             },
             "pattern": {
              "fillmode": "overlay",
              "size": 10,
              "solidity": 0.2
             }
            },
            "type": "barpolar"
           }
          ],
          "carpet": [
           {
            "aaxis": {
             "endlinecolor": "#2a3f5f",
             "gridcolor": "white",
             "linecolor": "white",
             "minorgridcolor": "white",
             "startlinecolor": "#2a3f5f"
            },
            "baxis": {
             "endlinecolor": "#2a3f5f",
             "gridcolor": "white",
             "linecolor": "white",
             "minorgridcolor": "white",
             "startlinecolor": "#2a3f5f"
            },
            "type": "carpet"
           }
          ],
          "choropleth": [
           {
            "colorbar": {
             "outlinewidth": 0,
             "ticks": ""
            },
            "type": "choropleth"
           }
          ],
          "contour": [
           {
            "colorbar": {
             "outlinewidth": 0,
             "ticks": ""
            },
            "colorscale": [
             [
              0,
              "#0d0887"
             ],
             [
              0.1111111111111111,
              "#46039f"
             ],
             [
              0.2222222222222222,
              "#7201a8"
             ],
             [
              0.3333333333333333,
              "#9c179e"
             ],
             [
              0.4444444444444444,
              "#bd3786"
             ],
             [
              0.5555555555555556,
              "#d8576b"
             ],
             [
              0.6666666666666666,
              "#ed7953"
             ],
             [
              0.7777777777777778,
              "#fb9f3a"
             ],
             [
              0.8888888888888888,
              "#fdca26"
             ],
             [
              1,
              "#f0f921"
             ]
            ],
            "type": "contour"
           }
          ],
          "contourcarpet": [
           {
            "colorbar": {
             "outlinewidth": 0,
             "ticks": ""
            },
            "type": "contourcarpet"
           }
          ],
          "heatmap": [
           {
            "colorbar": {
             "outlinewidth": 0,
             "ticks": ""
            },
            "colorscale": [
             [
              0,
              "#0d0887"
             ],
             [
              0.1111111111111111,
              "#46039f"
             ],
             [
              0.2222222222222222,
              "#7201a8"
             ],
             [
              0.3333333333333333,
              "#9c179e"
             ],
             [
              0.4444444444444444,
              "#bd3786"
             ],
             [
              0.5555555555555556,
              "#d8576b"
             ],
             [
              0.6666666666666666,
              "#ed7953"
             ],
             [
              0.7777777777777778,
              "#fb9f3a"
             ],
             [
              0.8888888888888888,
              "#fdca26"
             ],
             [
              1,
              "#f0f921"
             ]
            ],
            "type": "heatmap"
           }
          ],
          "heatmapgl": [
           {
            "colorbar": {
             "outlinewidth": 0,
             "ticks": ""
            },
            "colorscale": [
             [
              0,
              "#0d0887"
             ],
             [
              0.1111111111111111,
              "#46039f"
             ],
             [
              0.2222222222222222,
              "#7201a8"
             ],
             [
              0.3333333333333333,
              "#9c179e"
             ],
             [
              0.4444444444444444,
              "#bd3786"
             ],
             [
              0.5555555555555556,
              "#d8576b"
             ],
             [
              0.6666666666666666,
              "#ed7953"
             ],
             [
              0.7777777777777778,
              "#fb9f3a"
             ],
             [
              0.8888888888888888,
              "#fdca26"
             ],
             [
              1,
              "#f0f921"
             ]
            ],
            "type": "heatmapgl"
           }
          ],
          "histogram": [
           {
            "marker": {
             "pattern": {
              "fillmode": "overlay",
              "size": 10,
              "solidity": 0.2
             }
            },
            "type": "histogram"
           }
          ],
          "histogram2d": [
           {
            "colorbar": {
             "outlinewidth": 0,
             "ticks": ""
            },
            "colorscale": [
             [
              0,
              "#0d0887"
             ],
             [
              0.1111111111111111,
              "#46039f"
             ],
             [
              0.2222222222222222,
              "#7201a8"
             ],
             [
              0.3333333333333333,
              "#9c179e"
             ],
             [
              0.4444444444444444,
              "#bd3786"
             ],
             [
              0.5555555555555556,
              "#d8576b"
             ],
             [
              0.6666666666666666,
              "#ed7953"
             ],
             [
              0.7777777777777778,
              "#fb9f3a"
             ],
             [
              0.8888888888888888,
              "#fdca26"
             ],
             [
              1,
              "#f0f921"
             ]
            ],
            "type": "histogram2d"
           }
          ],
          "histogram2dcontour": [
           {
            "colorbar": {
             "outlinewidth": 0,
             "ticks": ""
            },
            "colorscale": [
             [
              0,
              "#0d0887"
             ],
             [
              0.1111111111111111,
              "#46039f"
             ],
             [
              0.2222222222222222,
              "#7201a8"
             ],
             [
              0.3333333333333333,
              "#9c179e"
             ],
             [
              0.4444444444444444,
              "#bd3786"
             ],
             [
              0.5555555555555556,
              "#d8576b"
             ],
             [
              0.6666666666666666,
              "#ed7953"
             ],
             [
              0.7777777777777778,
              "#fb9f3a"
             ],
             [
              0.8888888888888888,
              "#fdca26"
             ],
             [
              1,
              "#f0f921"
             ]
            ],
            "type": "histogram2dcontour"
           }
          ],
          "mesh3d": [
           {
            "colorbar": {
             "outlinewidth": 0,
             "ticks": ""
            },
            "type": "mesh3d"
           }
          ],
          "parcoords": [
           {
            "line": {
             "colorbar": {
              "outlinewidth": 0,
              "ticks": ""
             }
            },
            "type": "parcoords"
           }
          ],
          "pie": [
           {
            "automargin": true,
            "type": "pie"
           }
          ],
          "scatter": [
           {
            "fillpattern": {
             "fillmode": "overlay",
             "size": 10,
             "solidity": 0.2
            },
            "type": "scatter"
           }
          ],
          "scatter3d": [
           {
            "line": {
             "colorbar": {
              "outlinewidth": 0,
              "ticks": ""
             }
            },
            "marker": {
             "colorbar": {
              "outlinewidth": 0,
              "ticks": ""
             }
            },
            "type": "scatter3d"
           }
          ],
          "scattercarpet": [
           {
            "marker": {
             "colorbar": {
              "outlinewidth": 0,
              "ticks": ""
             }
            },
            "type": "scattercarpet"
           }
          ],
          "scattergeo": [
           {
            "marker": {
             "colorbar": {
              "outlinewidth": 0,
              "ticks": ""
             }
            },
            "type": "scattergeo"
           }
          ],
          "scattergl": [
           {
            "marker": {
             "colorbar": {
              "outlinewidth": 0,
              "ticks": ""
             }
            },
            "type": "scattergl"
           }
          ],
          "scattermapbox": [
           {
            "marker": {
             "colorbar": {
              "outlinewidth": 0,
              "ticks": ""
             }
            },
            "type": "scattermapbox"
           }
          ],
          "scatterpolar": [
           {
            "marker": {
             "colorbar": {
              "outlinewidth": 0,
              "ticks": ""
             }
            },
            "type": "scatterpolar"
           }
          ],
          "scatterpolargl": [
           {
            "marker": {
             "colorbar": {
              "outlinewidth": 0,
              "ticks": ""
             }
            },
            "type": "scatterpolargl"
           }
          ],
          "scatterternary": [
           {
            "marker": {
             "colorbar": {
              "outlinewidth": 0,
              "ticks": ""
             }
            },
            "type": "scatterternary"
           }
          ],
          "surface": [
           {
            "colorbar": {
             "outlinewidth": 0,
             "ticks": ""
            },
            "colorscale": [
             [
              0,
              "#0d0887"
             ],
             [
              0.1111111111111111,
              "#46039f"
             ],
             [
              0.2222222222222222,
              "#7201a8"
             ],
             [
              0.3333333333333333,
              "#9c179e"
             ],
             [
              0.4444444444444444,
              "#bd3786"
             ],
             [
              0.5555555555555556,
              "#d8576b"
             ],
             [
              0.6666666666666666,
              "#ed7953"
             ],
             [
              0.7777777777777778,
              "#fb9f3a"
             ],
             [
              0.8888888888888888,
              "#fdca26"
             ],
             [
              1,
              "#f0f921"
             ]
            ],
            "type": "surface"
           }
          ],
          "table": [
           {
            "cells": {
             "fill": {
              "color": "#EBF0F8"
             },
             "line": {
              "color": "white"
             }
            },
            "header": {
             "fill": {
              "color": "#C8D4E3"
             },
             "line": {
              "color": "white"
             }
            },
            "type": "table"
           }
          ]
         },
         "layout": {
          "annotationdefaults": {
           "arrowcolor": "#2a3f5f",
           "arrowhead": 0,
           "arrowwidth": 1
          },
          "autotypenumbers": "strict",
          "coloraxis": {
           "colorbar": {
            "outlinewidth": 0,
            "ticks": ""
           }
          },
          "colorscale": {
           "diverging": [
            [
             0,
             "#8e0152"
            ],
            [
             0.1,
             "#c51b7d"
            ],
            [
             0.2,
             "#de77ae"
            ],
            [
             0.3,
             "#f1b6da"
            ],
            [
             0.4,
             "#fde0ef"
            ],
            [
             0.5,
             "#f7f7f7"
            ],
            [
             0.6,
             "#e6f5d0"
            ],
            [
             0.7,
             "#b8e186"
            ],
            [
             0.8,
             "#7fbc41"
            ],
            [
             0.9,
             "#4d9221"
            ],
            [
             1,
             "#276419"
            ]
           ],
           "sequential": [
            [
             0,
             "#0d0887"
            ],
            [
             0.1111111111111111,
             "#46039f"
            ],
            [
             0.2222222222222222,
             "#7201a8"
            ],
            [
             0.3333333333333333,
             "#9c179e"
            ],
            [
             0.4444444444444444,
             "#bd3786"
            ],
            [
             0.5555555555555556,
             "#d8576b"
            ],
            [
             0.6666666666666666,
             "#ed7953"
            ],
            [
             0.7777777777777778,
             "#fb9f3a"
            ],
            [
             0.8888888888888888,
             "#fdca26"
            ],
            [
             1,
             "#f0f921"
            ]
           ],
           "sequentialminus": [
            [
             0,
             "#0d0887"
            ],
            [
             0.1111111111111111,
             "#46039f"
            ],
            [
             0.2222222222222222,
             "#7201a8"
            ],
            [
             0.3333333333333333,
             "#9c179e"
            ],
            [
             0.4444444444444444,
             "#bd3786"
            ],
            [
             0.5555555555555556,
             "#d8576b"
            ],
            [
             0.6666666666666666,
             "#ed7953"
            ],
            [
             0.7777777777777778,
             "#fb9f3a"
            ],
            [
             0.8888888888888888,
             "#fdca26"
            ],
            [
             1,
             "#f0f921"
            ]
           ]
          },
          "colorway": [
           "#636efa",
           "#EF553B",
           "#00cc96",
           "#ab63fa",
           "#FFA15A",
           "#19d3f3",
           "#FF6692",
           "#B6E880",
           "#FF97FF",
           "#FECB52"
          ],
          "font": {
           "color": "#2a3f5f"
          },
          "geo": {
           "bgcolor": "white",
           "lakecolor": "white",
           "landcolor": "#E5ECF6",
           "showlakes": true,
           "showland": true,
           "subunitcolor": "white"
          },
          "hoverlabel": {
           "align": "left"
          },
          "hovermode": "closest",
          "mapbox": {
           "style": "light"
          },
          "paper_bgcolor": "white",
          "plot_bgcolor": "#E5ECF6",
          "polar": {
           "angularaxis": {
            "gridcolor": "white",
            "linecolor": "white",
            "ticks": ""
           },
           "bgcolor": "#E5ECF6",
           "radialaxis": {
            "gridcolor": "white",
            "linecolor": "white",
            "ticks": ""
           }
          },
          "scene": {
           "xaxis": {
            "backgroundcolor": "#E5ECF6",
            "gridcolor": "white",
            "gridwidth": 2,
            "linecolor": "white",
            "showbackground": true,
            "ticks": "",
            "zerolinecolor": "white"
           },
           "yaxis": {
            "backgroundcolor": "#E5ECF6",
            "gridcolor": "white",
            "gridwidth": 2,
            "linecolor": "white",
            "showbackground": true,
            "ticks": "",
            "zerolinecolor": "white"
           },
           "zaxis": {
            "backgroundcolor": "#E5ECF6",
            "gridcolor": "white",
            "gridwidth": 2,
            "linecolor": "white",
            "showbackground": true,
            "ticks": "",
            "zerolinecolor": "white"
           }
          },
          "shapedefaults": {
           "line": {
            "color": "#2a3f5f"
           }
          },
          "ternary": {
           "aaxis": {
            "gridcolor": "white",
            "linecolor": "white",
            "ticks": ""
           },
           "baxis": {
            "gridcolor": "white",
            "linecolor": "white",
            "ticks": ""
           },
           "bgcolor": "#E5ECF6",
           "caxis": {
            "gridcolor": "white",
            "linecolor": "white",
            "ticks": ""
           }
          },
          "title": {
           "x": 0.05
          },
          "xaxis": {
           "automargin": true,
           "gridcolor": "white",
           "linecolor": "white",
           "ticks": "",
           "title": {
            "standoff": 15
           },
           "zerolinecolor": "white",
           "zerolinewidth": 2
          },
          "yaxis": {
           "automargin": true,
           "gridcolor": "white",
           "linecolor": "white",
           "ticks": "",
           "title": {
            "standoff": 15
           },
           "zerolinecolor": "white",
           "zerolinewidth": 2
          }
         }
        },
        "title": {
         "text": "Vývoj STS mostov na cestách I. triedy"
        },
        "width": 500,
        "xaxis": {
         "ticktext": [
          "'12",
          "'13",
          "'14",
          "'15",
          "'16",
          "'17",
          "'18",
          "'19",
          "'20",
          "'21",
          "'22",
          "'23",
          "'24"
         ],
         "tickvals": [
          "2012",
          "2013",
          "2014",
          "2015",
          "2016",
          "2017",
          "2018",
          "2019",
          "2020",
          "2021",
          "2022",
          "2023",
          "2024"
         ]
        },
        "yaxis": {
         "range": [
          0,
          100
         ],
         "ticksuffix": "%",
         "title": {
          "text": "percentuálne zastúpenie"
         }
        }
       }
      }
     },
     "metadata": {},
     "output_type": "display_data"
    },
    {
     "data": {
      "application/vnd.plotly.v1+json": {
       "config": {
        "plotlyServerURL": "https://plot.ly"
       },
       "data": [
        {
         "line": {
          "color": "#2d505d"
         },
         "mode": "lines",
         "name": "7",
         "stackgroup": "one",
         "type": "scatter",
         "x": [
          "2012",
          "2013",
          "2014",
          "2015",
          "2016",
          "2017",
          "2018",
          "2019",
          "2020",
          "2021",
          "2022",
          "2023",
          "2024",
          "2025",
          "2026"
         ],
         "y": [
          0.11363636363636363,
          0.17045454545454544,
          0.16930022573363432,
          0.44969083754918493,
          0.7739082365948038,
          0.8786381109280615,
          0.38167938931297707,
          0.4329004329004329,
          0.588550026752274,
          0.6372809346787042,
          0.7940709370037057,
          1.265155508697944,
          1.5682174594877154,
          2.1744666203801395,
          2.944715435583461
         ]
        },
        {
         "line": {
          "color": "#c25469"
         },
         "mode": "lines",
         "name": "6",
         "stackgroup": "one",
         "type": "scatter",
         "x": [
          "2012",
          "2013",
          "2014",
          "2015",
          "2016",
          "2017",
          "2018",
          "2019",
          "2020",
          "2021",
          "2022",
          "2023",
          "2024",
          "2025",
          "2026"
         ],
         "y": [
          2.272727272727273,
          2.8977272727272725,
          3.0474040632054176,
          3.0354131534569984,
          3.6484245439469323,
          4.7775947281713345,
          5.39803707742639,
          6.277056277056277,
          8.132691278758694,
          9.930961232076474,
          10.428798305982001,
          13.389562467053242,
          16.51855723993727,
          19.320346243011226,
          22.87550448103066
         ]
        },
        {
         "line": {
          "color": "#eae1a9"
         },
         "mode": "lines",
         "name": "5",
         "stackgroup": "one",
         "type": "scatter",
         "x": [
          "2012",
          "2013",
          "2014",
          "2015",
          "2016",
          "2017",
          "2018",
          "2019",
          "2020",
          "2021",
          "2022",
          "2023",
          "2024",
          "2025",
          "2026"
         ],
         "y": [
          7.784090909090908,
          7.727272727272727,
          8.239277652370202,
          8.263069139966273,
          8.955223880597014,
          10.70840197693575,
          11.668484187568156,
          13.96103896103896,
          16.265382557517388,
          19.118428040361128,
          20.43409211222869,
          24.459673168160254,
          27.443805541035022,
          30.890973946354315,
          34.55770766634218
         ]
        },
        {
         "line": {
          "color": "#353a29"
         },
         "mode": "lines",
         "name": "4",
         "stackgroup": "one",
         "type": "scatter",
         "x": [
          "2012",
          "2013",
          "2014",
          "2015",
          "2016",
          "2017",
          "2018",
          "2019",
          "2020",
          "2021",
          "2022",
          "2023",
          "2024",
          "2025",
          "2026"
         ],
         "y": [
          27.727272727272727,
          27.556818181818183,
          28.386004514672685,
          28.611579539066888,
          30.23770038695412,
          30.31301482701812,
          31.570338058887675,
          32.142857142857146,
          31.13964686998395,
          30.111524163568777,
          30.33350979354156,
          29.836584080126517,
          26.502875065342398,
          24.019839829081043,
          20.354225733264826
         ]
        },
        {
         "line": {
          "color": "#8bae7c"
         },
         "mode": "lines",
         "name": "3",
         "stackgroup": "one",
         "type": "scatter",
         "x": [
          "2012",
          "2013",
          "2014",
          "2015",
          "2016",
          "2017",
          "2018",
          "2019",
          "2020",
          "2021",
          "2022",
          "2023",
          "2024",
          "2025",
          "2026"
         ],
         "y": [
          41.98863636363636,
          41.19318181818182,
          39.503386004514674,
          39.01068015739179,
          35.65505804311774,
          31.685886875343215,
          29.661941112322793,
          26.56926406926407,
          22.899946495452113,
          20.499203398831654,
          18.68713605082054,
          15.867158671586715,
          15.107161526398327,
          14.8023372380948,
          15.526061104479547
         ]
        },
        {
         "line": {
          "color": "#e7a564"
         },
         "mode": "lines",
         "name": "2",
         "stackgroup": "one",
         "type": "scatter",
         "x": [
          "2012",
          "2013",
          "2014",
          "2015",
          "2016",
          "2017",
          "2018",
          "2019",
          "2020",
          "2021",
          "2022",
          "2023",
          "2024",
          "2025",
          "2026"
         ],
         "y": [
          13.352272727272727,
          13.522727272727272,
          13.092550790067719,
          13.4345137717819,
          12.880044223327806,
          13.728720483250962,
          13.413304252998909,
          13.203463203463203,
          13.269127875869449,
          12.320764737121614,
          12.387506617257808,
          9.435951502372166,
          8.207004704652379,
          5.4936290554073,
          2.202947063229046
         ]
        },
        {
         "line": {
          "color": "#46a7a2"
         },
         "mode": "lines",
         "name": "1",
         "stackgroup": "one",
         "type": "scatter",
         "x": [
          "2012",
          "2013",
          "2014",
          "2015",
          "2016",
          "2017",
          "2018",
          "2019",
          "2020",
          "2021",
          "2022",
          "2023",
          "2024",
          "2025",
          "2026"
         ],
         "y": [
          6.761363636363636,
          6.931818181818182,
          7.562076749435666,
          7.195053400786959,
          7.849640685461582,
          7.907742998352553,
          7.9062159214830965,
          7.413419913419913,
          7.704654895666131,
          7.381837493361656,
          6.9348861831656965,
          5.745914602003163,
          4.652378463146889,
          3.298407067671172,
          1.5388385160702784
         ]
        }
       ],
       "layout": {
        "font": {
         "family": "Calibri, sans-serif",
         "size": 14
        },
        "height": 500,
        "legend": {
         "orientation": "h",
         "x": 1,
         "xanchor": "right",
         "y": 1.08,
         "yanchor": "top"
        },
        "margin": {
         "b": 25,
         "l": 0,
         "r": 20,
         "t": 75
        },
        "plot_bgcolor": "#EEEEEE",
        "template": {
         "data": {
          "bar": [
           {
            "error_x": {
             "color": "#2a3f5f"
            },
            "error_y": {
             "color": "#2a3f5f"
            },
            "marker": {
             "line": {
              "color": "#E5ECF6",
              "width": 0.5
             },
             "pattern": {
              "fillmode": "overlay",
              "size": 10,
              "solidity": 0.2
             }
            },
            "type": "bar"
           }
          ],
          "barpolar": [
           {
            "marker": {
             "line": {
              "color": "#E5ECF6",
              "width": 0.5
             },
             "pattern": {
              "fillmode": "overlay",
              "size": 10,
              "solidity": 0.2
             }
            },
            "type": "barpolar"
           }
          ],
          "carpet": [
           {
            "aaxis": {
             "endlinecolor": "#2a3f5f",
             "gridcolor": "white",
             "linecolor": "white",
             "minorgridcolor": "white",
             "startlinecolor": "#2a3f5f"
            },
            "baxis": {
             "endlinecolor": "#2a3f5f",
             "gridcolor": "white",
             "linecolor": "white",
             "minorgridcolor": "white",
             "startlinecolor": "#2a3f5f"
            },
            "type": "carpet"
           }
          ],
          "choropleth": [
           {
            "colorbar": {
             "outlinewidth": 0,
             "ticks": ""
            },
            "type": "choropleth"
           }
          ],
          "contour": [
           {
            "colorbar": {
             "outlinewidth": 0,
             "ticks": ""
            },
            "colorscale": [
             [
              0,
              "#0d0887"
             ],
             [
              0.1111111111111111,
              "#46039f"
             ],
             [
              0.2222222222222222,
              "#7201a8"
             ],
             [
              0.3333333333333333,
              "#9c179e"
             ],
             [
              0.4444444444444444,
              "#bd3786"
             ],
             [
              0.5555555555555556,
              "#d8576b"
             ],
             [
              0.6666666666666666,
              "#ed7953"
             ],
             [
              0.7777777777777778,
              "#fb9f3a"
             ],
             [
              0.8888888888888888,
              "#fdca26"
             ],
             [
              1,
              "#f0f921"
             ]
            ],
            "type": "contour"
           }
          ],
          "contourcarpet": [
           {
            "colorbar": {
             "outlinewidth": 0,
             "ticks": ""
            },
            "type": "contourcarpet"
           }
          ],
          "heatmap": [
           {
            "colorbar": {
             "outlinewidth": 0,
             "ticks": ""
            },
            "colorscale": [
             [
              0,
              "#0d0887"
             ],
             [
              0.1111111111111111,
              "#46039f"
             ],
             [
              0.2222222222222222,
              "#7201a8"
             ],
             [
              0.3333333333333333,
              "#9c179e"
             ],
             [
              0.4444444444444444,
              "#bd3786"
             ],
             [
              0.5555555555555556,
              "#d8576b"
             ],
             [
              0.6666666666666666,
              "#ed7953"
             ],
             [
              0.7777777777777778,
              "#fb9f3a"
             ],
             [
              0.8888888888888888,
              "#fdca26"
             ],
             [
              1,
              "#f0f921"
             ]
            ],
            "type": "heatmap"
           }
          ],
          "heatmapgl": [
           {
            "colorbar": {
             "outlinewidth": 0,
             "ticks": ""
            },
            "colorscale": [
             [
              0,
              "#0d0887"
             ],
             [
              0.1111111111111111,
              "#46039f"
             ],
             [
              0.2222222222222222,
              "#7201a8"
             ],
             [
              0.3333333333333333,
              "#9c179e"
             ],
             [
              0.4444444444444444,
              "#bd3786"
             ],
             [
              0.5555555555555556,
              "#d8576b"
             ],
             [
              0.6666666666666666,
              "#ed7953"
             ],
             [
              0.7777777777777778,
              "#fb9f3a"
             ],
             [
              0.8888888888888888,
              "#fdca26"
             ],
             [
              1,
              "#f0f921"
             ]
            ],
            "type": "heatmapgl"
           }
          ],
          "histogram": [
           {
            "marker": {
             "pattern": {
              "fillmode": "overlay",
              "size": 10,
              "solidity": 0.2
             }
            },
            "type": "histogram"
           }
          ],
          "histogram2d": [
           {
            "colorbar": {
             "outlinewidth": 0,
             "ticks": ""
            },
            "colorscale": [
             [
              0,
              "#0d0887"
             ],
             [
              0.1111111111111111,
              "#46039f"
             ],
             [
              0.2222222222222222,
              "#7201a8"
             ],
             [
              0.3333333333333333,
              "#9c179e"
             ],
             [
              0.4444444444444444,
              "#bd3786"
             ],
             [
              0.5555555555555556,
              "#d8576b"
             ],
             [
              0.6666666666666666,
              "#ed7953"
             ],
             [
              0.7777777777777778,
              "#fb9f3a"
             ],
             [
              0.8888888888888888,
              "#fdca26"
             ],
             [
              1,
              "#f0f921"
             ]
            ],
            "type": "histogram2d"
           }
          ],
          "histogram2dcontour": [
           {
            "colorbar": {
             "outlinewidth": 0,
             "ticks": ""
            },
            "colorscale": [
             [
              0,
              "#0d0887"
             ],
             [
              0.1111111111111111,
              "#46039f"
             ],
             [
              0.2222222222222222,
              "#7201a8"
             ],
             [
              0.3333333333333333,
              "#9c179e"
             ],
             [
              0.4444444444444444,
              "#bd3786"
             ],
             [
              0.5555555555555556,
              "#d8576b"
             ],
             [
              0.6666666666666666,
              "#ed7953"
             ],
             [
              0.7777777777777778,
              "#fb9f3a"
             ],
             [
              0.8888888888888888,
              "#fdca26"
             ],
             [
              1,
              "#f0f921"
             ]
            ],
            "type": "histogram2dcontour"
           }
          ],
          "mesh3d": [
           {
            "colorbar": {
             "outlinewidth": 0,
             "ticks": ""
            },
            "type": "mesh3d"
           }
          ],
          "parcoords": [
           {
            "line": {
             "colorbar": {
              "outlinewidth": 0,
              "ticks": ""
             }
            },
            "type": "parcoords"
           }
          ],
          "pie": [
           {
            "automargin": true,
            "type": "pie"
           }
          ],
          "scatter": [
           {
            "fillpattern": {
             "fillmode": "overlay",
             "size": 10,
             "solidity": 0.2
            },
            "type": "scatter"
           }
          ],
          "scatter3d": [
           {
            "line": {
             "colorbar": {
              "outlinewidth": 0,
              "ticks": ""
             }
            },
            "marker": {
             "colorbar": {
              "outlinewidth": 0,
              "ticks": ""
             }
            },
            "type": "scatter3d"
           }
          ],
          "scattercarpet": [
           {
            "marker": {
             "colorbar": {
              "outlinewidth": 0,
              "ticks": ""
             }
            },
            "type": "scattercarpet"
           }
          ],
          "scattergeo": [
           {
            "marker": {
             "colorbar": {
              "outlinewidth": 0,
              "ticks": ""
             }
            },
            "type": "scattergeo"
           }
          ],
          "scattergl": [
           {
            "marker": {
             "colorbar": {
              "outlinewidth": 0,
              "ticks": ""
             }
            },
            "type": "scattergl"
           }
          ],
          "scattermapbox": [
           {
            "marker": {
             "colorbar": {
              "outlinewidth": 0,
              "ticks": ""
             }
            },
            "type": "scattermapbox"
           }
          ],
          "scatterpolar": [
           {
            "marker": {
             "colorbar": {
              "outlinewidth": 0,
              "ticks": ""
             }
            },
            "type": "scatterpolar"
           }
          ],
          "scatterpolargl": [
           {
            "marker": {
             "colorbar": {
              "outlinewidth": 0,
              "ticks": ""
             }
            },
            "type": "scatterpolargl"
           }
          ],
          "scatterternary": [
           {
            "marker": {
             "colorbar": {
              "outlinewidth": 0,
              "ticks": ""
             }
            },
            "type": "scatterternary"
           }
          ],
          "surface": [
           {
            "colorbar": {
             "outlinewidth": 0,
             "ticks": ""
            },
            "colorscale": [
             [
              0,
              "#0d0887"
             ],
             [
              0.1111111111111111,
              "#46039f"
             ],
             [
              0.2222222222222222,
              "#7201a8"
             ],
             [
              0.3333333333333333,
              "#9c179e"
             ],
             [
              0.4444444444444444,
              "#bd3786"
             ],
             [
              0.5555555555555556,
              "#d8576b"
             ],
             [
              0.6666666666666666,
              "#ed7953"
             ],
             [
              0.7777777777777778,
              "#fb9f3a"
             ],
             [
              0.8888888888888888,
              "#fdca26"
             ],
             [
              1,
              "#f0f921"
             ]
            ],
            "type": "surface"
           }
          ],
          "table": [
           {
            "cells": {
             "fill": {
              "color": "#EBF0F8"
             },
             "line": {
              "color": "white"
             }
            },
            "header": {
             "fill": {
              "color": "#C8D4E3"
             },
             "line": {
              "color": "white"
             }
            },
            "type": "table"
           }
          ]
         },
         "layout": {
          "annotationdefaults": {
           "arrowcolor": "#2a3f5f",
           "arrowhead": 0,
           "arrowwidth": 1
          },
          "autotypenumbers": "strict",
          "coloraxis": {
           "colorbar": {
            "outlinewidth": 0,
            "ticks": ""
           }
          },
          "colorscale": {
           "diverging": [
            [
             0,
             "#8e0152"
            ],
            [
             0.1,
             "#c51b7d"
            ],
            [
             0.2,
             "#de77ae"
            ],
            [
             0.3,
             "#f1b6da"
            ],
            [
             0.4,
             "#fde0ef"
            ],
            [
             0.5,
             "#f7f7f7"
            ],
            [
             0.6,
             "#e6f5d0"
            ],
            [
             0.7,
             "#b8e186"
            ],
            [
             0.8,
             "#7fbc41"
            ],
            [
             0.9,
             "#4d9221"
            ],
            [
             1,
             "#276419"
            ]
           ],
           "sequential": [
            [
             0,
             "#0d0887"
            ],
            [
             0.1111111111111111,
             "#46039f"
            ],
            [
             0.2222222222222222,
             "#7201a8"
            ],
            [
             0.3333333333333333,
             "#9c179e"
            ],
            [
             0.4444444444444444,
             "#bd3786"
            ],
            [
             0.5555555555555556,
             "#d8576b"
            ],
            [
             0.6666666666666666,
             "#ed7953"
            ],
            [
             0.7777777777777778,
             "#fb9f3a"
            ],
            [
             0.8888888888888888,
             "#fdca26"
            ],
            [
             1,
             "#f0f921"
            ]
           ],
           "sequentialminus": [
            [
             0,
             "#0d0887"
            ],
            [
             0.1111111111111111,
             "#46039f"
            ],
            [
             0.2222222222222222,
             "#7201a8"
            ],
            [
             0.3333333333333333,
             "#9c179e"
            ],
            [
             0.4444444444444444,
             "#bd3786"
            ],
            [
             0.5555555555555556,
             "#d8576b"
            ],
            [
             0.6666666666666666,
             "#ed7953"
            ],
            [
             0.7777777777777778,
             "#fb9f3a"
            ],
            [
             0.8888888888888888,
             "#fdca26"
            ],
            [
             1,
             "#f0f921"
            ]
           ]
          },
          "colorway": [
           "#636efa",
           "#EF553B",
           "#00cc96",
           "#ab63fa",
           "#FFA15A",
           "#19d3f3",
           "#FF6692",
           "#B6E880",
           "#FF97FF",
           "#FECB52"
          ],
          "font": {
           "color": "#2a3f5f"
          },
          "geo": {
           "bgcolor": "white",
           "lakecolor": "white",
           "landcolor": "#E5ECF6",
           "showlakes": true,
           "showland": true,
           "subunitcolor": "white"
          },
          "hoverlabel": {
           "align": "left"
          },
          "hovermode": "closest",
          "mapbox": {
           "style": "light"
          },
          "paper_bgcolor": "white",
          "plot_bgcolor": "#E5ECF6",
          "polar": {
           "angularaxis": {
            "gridcolor": "white",
            "linecolor": "white",
            "ticks": ""
           },
           "bgcolor": "#E5ECF6",
           "radialaxis": {
            "gridcolor": "white",
            "linecolor": "white",
            "ticks": ""
           }
          },
          "scene": {
           "xaxis": {
            "backgroundcolor": "#E5ECF6",
            "gridcolor": "white",
            "gridwidth": 2,
            "linecolor": "white",
            "showbackground": true,
            "ticks": "",
            "zerolinecolor": "white"
           },
           "yaxis": {
            "backgroundcolor": "#E5ECF6",
            "gridcolor": "white",
            "gridwidth": 2,
            "linecolor": "white",
            "showbackground": true,
            "ticks": "",
            "zerolinecolor": "white"
           },
           "zaxis": {
            "backgroundcolor": "#E5ECF6",
            "gridcolor": "white",
            "gridwidth": 2,
            "linecolor": "white",
            "showbackground": true,
            "ticks": "",
            "zerolinecolor": "white"
           }
          },
          "shapedefaults": {
           "line": {
            "color": "#2a3f5f"
           }
          },
          "ternary": {
           "aaxis": {
            "gridcolor": "white",
            "linecolor": "white",
            "ticks": ""
           },
           "baxis": {
            "gridcolor": "white",
            "linecolor": "white",
            "ticks": ""
           },
           "bgcolor": "#E5ECF6",
           "caxis": {
            "gridcolor": "white",
            "linecolor": "white",
            "ticks": ""
           }
          },
          "title": {
           "x": 0.05
          },
          "xaxis": {
           "automargin": true,
           "gridcolor": "white",
           "linecolor": "white",
           "ticks": "",
           "title": {
            "standoff": 15
           },
           "zerolinecolor": "white",
           "zerolinewidth": 2
          },
          "yaxis": {
           "automargin": true,
           "gridcolor": "white",
           "linecolor": "white",
           "ticks": "",
           "title": {
            "standoff": 15
           },
           "zerolinecolor": "white",
           "zerolinewidth": 2
          }
         }
        },
        "title": {
         "text": "Vývoj STS mostov na cestách I. triedy"
        },
        "width": 575,
        "xaxis": {
         "ticktext": [
          "'12",
          "'13",
          "'14",
          "'15",
          "'16",
          "'17",
          "'18",
          "'19",
          "'20",
          "'21",
          "'22",
          "'23",
          "'24",
          "'25",
          "'26"
         ],
         "tickvals": [
          "2012",
          "2013",
          "2014",
          "2015",
          "2016",
          "2017",
          "2018",
          "2019",
          "2020",
          "2021",
          "2022",
          "2023",
          "2024",
          "2025",
          "2026"
         ]
        },
        "yaxis": {
         "range": [
          0,
          100
         ],
         "ticksuffix": "%",
         "title": {
          "text": "percentuálne zastúpenie"
         }
        }
       }
      }
     },
     "metadata": {},
     "output_type": "display_data"
    }
   ],
   "source": [
    "create_plot(df_predictions, title='Vývoj STS mostov na cestách I. triedy',\n",
    "            filename='Vyvoj_I', start_year=2012, end_year=2024, b=500, h=500)\n",
    "create_plot(df_predictions, title='Vývoj STS mostov na cestách I. triedy',\n",
    "            filename='Vyvoj_I', start_year=2012, end_year=2026, b=575, h=500)"
   ]
  },
  {
   "cell_type": "code",
   "execution_count": 39,
   "metadata": {},
   "outputs": [],
   "source": [
    "# Calculate the total sum of the values\n",
    "total_sum = df_predictions[\"n_2026\"].sum()\n",
    "\n",
    "# Normalize the values to make the sum 100\n",
    "df_predictions[\"n_2026\"] = (\n",
    "    df_predictions[\"n_2026\"] / total_sum) * 100"
   ]
  },
  {
   "cell_type": "code",
   "execution_count": 41,
   "metadata": {},
   "outputs": [
    {
     "data": {
      "text/plain": [
       "0     1.538839\n",
       "1     2.202947\n",
       "2    15.526061\n",
       "3    20.354226\n",
       "4    34.557708\n",
       "5    22.875504\n",
       "6     2.944715\n",
       "Name: n_2026, dtype: float64"
      ]
     },
     "execution_count": 41,
     "metadata": {},
     "output_type": "execute_result"
    }
   ],
   "source": [
    "df_predictions[\"n_2026\"]"
   ]
  }
 ],
 "metadata": {
  "kernelspec": {
   "display_name": "Bridges_VENV",
   "language": "python",
   "name": "python3"
  },
  "language_info": {
   "codemirror_mode": {
    "name": "ipython",
    "version": 3
   },
   "file_extension": ".py",
   "mimetype": "text/x-python",
   "name": "python",
   "nbconvert_exporter": "python",
   "pygments_lexer": "ipython3",
   "version": "3.12.4"
  }
 },
 "nbformat": 4,
 "nbformat_minor": 2
}
